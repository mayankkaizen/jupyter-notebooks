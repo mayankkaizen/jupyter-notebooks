{
 "cells": [
  {
   "cell_type": "markdown",
   "metadata": {},
   "source": [
    "<img src=\"images/cflow.png\" width=\"300\" height=\"500\"/>"
   ]
  },
  {
   "cell_type": "markdown",
   "metadata": {},
   "source": [
    "***\n",
    "\n",
    "The `-c` flag tells gcc to compile the program and generate machine code, but not to link it or generate an executable:\n",
    "\n",
    "```\n",
    "$ gcc hello.c -c\n",
    "```\n",
    "The result is a file named `hello.o`, where the `o` stands for “object code”, which is the compiled program. Object code is not executable, but it can be linked into an executable.\n",
    "\n",
    "Also note below - \n",
    "\n",
    "```\n",
    "c:\\C>nm hello.o\n",
    "00000000 b .bss\n",
    "00000000 d .data\n",
    "00000000 r .eh_frame\n",
    "00000000 r .rdata\n",
    "00000000 r .rdata$zzz\n",
    "00000000 t .text\n",
    "         U ___main\n",
    "00000000 T _main\n",
    "         U _printf\n",
    "         U _scanf\n",
    "```\n",
    "\n",
    "The UNIX command `nm` reads an object file and generates information about the names it defines and uses. (This command works on Windows as well through cygwin)\n",
    "\n",
    "You can control how much optimization gcc does with the `-O` flag. By default, it does very little optimization, which can make debugging easier.\n",
    "\n",
    "The option `-O1` turns on the most common and safe optimizations. Higher numbers turn on additional optimizations that require longer compilation time.\n",
    "\n",
    "Similar to the `-c` flag, the `-S` flag tells gcc to compile the program and generate assembly code.\n",
    "\n",
    "Taking another step backward through the compilation process, you can use the `-E` flag to run the preprocessor only:\n",
    "\n",
    "    $ gcc hello.c -E\n",
    "\n",
    "The result is the output from the preprocessor. In this example, it contains the included code from `stdio.h`, and all the files included from stdio.h, and all the files included from those files, and so on. On my machine, the total is more than 800 lines of code."
   ]
  },
  {
   "cell_type": "markdown",
   "metadata": {},
   "source": [
    "#### C – data types:\n",
    "\n",
    "There are four data types in C language. They are,\n",
    "\n",
    "Types|\tData Types\n",
    "-----|-----------|\n",
    "Basic data types|\tint, char, float, double\n",
    "Enumeration data type|\tEnum\n",
    "Derived data type|\tpointer, array, structure, union\n",
    "Void data type|\tVoid\n",
    "\n",
    "\n",
    "#### Integer data types\n",
    "\n",
    "Name|Typical Size|Signed by default?|\n",
    "---|------------|-------------------|\n",
    "char|1 byte| compiler dependent, usually signed|\n",
    "short|2 bytes| signed|\n",
    "int|4 bytes|signed|\n",
    "long|4 bytes|singed|\n",
    "long long| 8 bytes|signed|\n",
    "\n",
    "Note – If we use `int` data type to store decimal values, decimal values will be truncated and we will get only whole number. \n"
   ]
  },
  {
   "cell_type": "markdown",
   "metadata": {},
   "source": [
    "### Integer Overflow\n",
    "\n",
    "The behaviour when integer overflow occurs depends on whether the operands were signed or unsigned. When overflow occurs during an operation on *signed* integers, the program's behabiour is undefined. \n",
    "\n",
    "When overflow occurs an operaion on unsigned integers, the result *is* defined: we get the correct answer modulo $2^n$, where $n$ is the number of bits used to store the result. For example, if we add 1 to the unsigned 16-bit number 65,535, the result is guaranteed to be 1. "
   ]
  },
  {
   "cell_type": "markdown",
   "metadata": {},
   "source": [
    "#### Modifiers in C language:\n",
    " \n",
    " - The amount of memory space to be allocated for a variable is derived by modifiers.\n",
    " - Modifiers are prefixed with basic data types to modify (either increase or decrease) the amount of storage space allocated to a variable.\n",
    " - For example, storage space for int data type is 4 byte for 32/64 bit processor. We can increase the range by using long int which is 8 byte. We can decrease the range by using short int which is 2 byte.\n",
    " - There are 5 modifiers available in C language. They are, \n",
    "1.\tshort\n",
    "2.\tlong\n",
    "3.\tsigned\n",
    "4.\tunsigned\n",
    "5.\tlong long\n",
    "\n"
   ]
  },
  {
   "cell_type": "markdown",
   "metadata": {},
   "source": [
    "### Storage Classes\n",
    "\n",
    "Every variable in C programming has two properties: type and storage class. Type refers to the data type of a variable. And, storage class determines the scope and lifetime of a variable. There are 4 types of storage class:\n",
    "\n",
    "1.\tautomatic (local)\n",
    "2.\texternal (global)\n",
    "3.\tstatic\n",
    "4.\tregister (outdated)\n",
    "\n",
    "Local variables are defined inside the functions and can’t be accessed from outside. Global variables are defined outside of functions and can be accessed by any function.\n",
    "\n",
    "Another illustration of local variables\n",
    "\n",
    "```c\n",
    "int frotz(int a)\n",
    "{\n",
    "int b;\n",
    "b = 10; /* in scope (from the local definition) */\n",
    "a = 20; /* in scope (from the parameter list) */\n",
    "c = 30; /* ERROR, out of scope (declared in another block, in main()) */\n",
    "}\n",
    "int main(void)\n",
    "{\n",
    "int c;\n",
    "c = 20; /* in scope */\n",
    "b = 30; /* ERROR, out of scope (declared above in frotz()) */\n",
    "return 0;\n",
    "}\n",
    "```\n",
    "\n",
    "Thre are a few variable declaration keywords commonly used in C that do not specify variable types, but a related concept called *storage classes*. Two common examples of storage class specifiers are `extern` and `static`.\n",
    "\n",
    "#### External variable\n",
    "\n",
    "Sometimes a C program consists of multiple source files. In such cases, there may be scenarios in which we may need to use the variable in defined in other files. We can use the global variables in files other than the file in which they were created by redeclaring it, prefixed by the specifier `extern`, in the other files. \n",
    "\n",
    "```c\n",
    "//file main.c\n",
    "\n",
    "int main()\n",
    "{\n",
    "extern int my_var;\n",
    "print_value();      //will print 11\n",
    "return 0;\n",
    "}\n",
    "\n",
    "//file secondary.c\n",
    "\n",
    "#include <stdio.h>\n",
    "\n",
    "int my_var = 11;\n",
    "\n",
    "void print_value()\n",
    "{\n",
    "printf(\"my variable is %d\\n\", my_var);    \n",
    "}\n",
    "\n",
    "```\n",
    "\n",
    "\n"
   ]
  },
  {
   "cell_type": "markdown",
   "metadata": {},
   "source": [
    "In above example, the variable `my_var` is defined in `secondary.c` and assigned a value in `main.c`. The value of\n",
    "`my_var` is printed out by calling function `print_value` in `main.c` which was defined in `secondary.c`.\n",
    "\n",
    "The above progam is split in 2 source files which can be compiled to produce one executables by issuing following command `gcc -o testprogram main.c secondary.c`.\n",
    "\n",
    "\n",
    "\n",
    "\n",
    "\n"
   ]
  },
  {
   "cell_type": "markdown",
   "metadata": {},
   "source": [
    "#### Static Variables\n",
    "\n",
    "A second important storage class classifier is `static`. Normally, when we call a function, all its local variables are reinitialized each time the function is called. This means that their values change between function calls. Static variables, however, maintain their values between function calls. "
   ]
  },
  {
   "cell_type": "code",
   "execution_count": 43,
   "metadata": {},
   "outputs": [
    {
     "name": "stdout",
     "output_type": "stream",
     "text": [
      "0  5  10  15  "
     ]
    }
   ],
   "source": [
    "#include <stdio.h>\n",
    "void display()\n",
    "{\n",
    "    static int c = 0;\n",
    "    printf(\"%d  \",c);\n",
    "    c += 5;\n",
    "};\n",
    "\n",
    "int main()\n",
    "{\n",
    "for (int i=0; i<4; i++)    \n",
    "    {display();}\n",
    "};"
   ]
  },
  {
   "cell_type": "markdown",
   "metadata": {},
   "source": [
    "Every global variable is defined as `static` automatically, that is, its value persists during the life of a program. \n",
    "\n",
    "\n",
    "At the global scope, `static` means that the variable or function declared `static` is *only visible in this particular source file*, and cannot be referenced from other source files. Again, this definition of `static` only pertains to the global scope. `static` still means the same old thing in the local scope of the function.\n",
    "\n",
    "See following example - \n",
    "\n",
    "```c\n",
    "//foo.c\n",
    "\n",
    "int foo=11;\n",
    "static void *pointer_array[10]; /* array of pointers to now no one can see it except this file! */\n",
    "static int index=0; /* same for this one! */\n",
    "/* but these functions are NOT static, */\n",
    "/* so they can be used from other files: */\n",
    "void append_pointer(void *p)\n",
    "{\n",
    "    pointer_array[index++] = p;\n",
    "}\n",
    "void *get_pointer(int i)\n",
    "{\n",
    "    return pointer_array[i];\n",
    "}\n",
    "\n",
    "//bar.h\n",
    "\n",
    "//put function prototypes here\n",
    "void append_pointer(void *p);\n",
    "void *get_pointer(int i);\n",
    "\n",
    "//baz.c\n",
    "\n",
    "# include <stdio.h>\n",
    "#include \"bar.h\"\n",
    "\n",
    "extern int foo;\n",
    "int main(void)\n",
    "{\n",
    "char *s = \"some data!\";  /* s points to a constant string (char*) */\n",
    "int a = 10;\n",
    "int *b;\n",
    "    \n",
    "char *s2;  /* when we call get_pointer(), we'll store them back here */\n",
    "int *b2;\n",
    "\n",
    "b = &a; /* b is a pointer to a */\n",
    "    \n",
    "/* now let's store them both, even though they're different types */\n",
    "\n",
    "append_pointer(s);\n",
    "append_pointer(b);\n",
    "\n",
    "/* they're stored!  let's get them back! */\n",
    "    \n",
    "s2 = get_pointer(0); /* this was at index 0 */\n",
    "b2 = get_pointer(1); /* this was at index 1 */\n",
    "\n",
    "printf(\"s2  = %p\\nb2 =%p\\n\", s2, b2);\n",
    "printf(\"value of foo is %d\\n\", foo);\n",
    "return 0; \n",
    "}\n",
    "```"
   ]
  },
  {
   "cell_type": "markdown",
   "metadata": {},
   "source": [
    "We created a file `foo.c`. In this file, we declared a normal `int` variable, 2 `static` variables and also defined 2 functions. Then we created a `bar.h` header file which has function prototypes of the functions we defined in `foo.c`. Finally, we created `baz.c` in which we call the functions defined in `foo.c` and also access the variable defined in `foo.c`.\n",
    "\n",
    "We compile these files by issuing command `gcc -o testprogram foo.c baz.c`. When `testprogram` was run, it produced the following outputs -\n",
    "```\n",
    "s2  = 0x102846f86\n",
    "b2 =0x7ffeed3b9a7c\n",
    "value of foo is 11\n",
    "```\n",
    "\n",
    "This example teaches us 4 things -\n",
    "\n",
    " - 1 Use of `static` global variables\n",
    " - 2 Use of `extern` variable\n",
    " - 3 Use of custom header file\n",
    " - 4 How to compile a program consisting of multiple source files."
   ]
  },
  {
   "cell_type": "code",
   "execution_count": 1,
   "metadata": {},
   "outputs": [
    {
     "name": "stdout",
     "output_type": "stream",
     "text": [
      "Character is A \n",
      "String is mayank gupta \n",
      "Float value is 10.234000 \n",
      "Integer value is 150 \n",
      "Double value is 20.123456 \n",
      "Octal value is 226 \n",
      "Hex value is 96 \n"
     ]
    }
   ],
   "source": [
    "#include<stdio.h>\n",
    "int main(void)\n",
    "{\n",
    "    char ch = 'A';\n",
    "    char str[20] = \"mayank gupta\";\n",
    "    float flt =  10.234;\n",
    "    int no =  150;\n",
    "    double dbl = 20.123456;\n",
    "    printf(\"Character is %c \\n\", ch);\n",
    "    printf(\"String is %s \\n\", str);\n",
    "    printf(\"Float value is %f \\n\", flt);\n",
    "    printf(\"Integer value is %d \\n\", no);\n",
    "    printf(\"Double value is %lf \\n\", dbl);\n",
    "    printf(\"Octal value is %o \\n\", no);\n",
    "    printf(\"Hex value is %x \\n\", no);\n",
    "}"
   ]
  },
  {
   "cell_type": "code",
   "execution_count": 44,
   "metadata": {},
   "outputs": [
    {
     "name": "stderr",
     "output_type": "stream",
     "text": [
      "/var/folders/d4/z0x5s3410lj8px16wr2m5y200000gp/T/tmpk0c0vskg.c:6:8: warning: format string is not a string literal (potentially insecure) [-Wformat-security]\n",
      "printf(s);\n",
      "       ^\n",
      "/var/folders/d4/z0x5s3410lj8px16wr2m5y200000gp/T/tmpk0c0vskg.c:6:8: note: treat the string as an argument to avoid this\n",
      "printf(s);\n",
      "       ^\n",
      "       \"%s\", \n",
      "1 warning generated.\n"
     ]
    },
    {
     "name": "stdout",
     "output_type": "stream",
     "text": [
      "mayank g"
     ]
    }
   ],
   "source": [
    "#include <stdio.h>\n",
    "\n",
    "int main(void)\n",
    "{\n",
    "char s[10] = \"mayank g\";\n",
    "printf(s);\n",
    "}"
   ]
  },
  {
   "cell_type": "markdown",
   "metadata": {},
   "source": [
    "**Note -** `printf` function returns the count of character printed. See next example."
   ]
  },
  {
   "cell_type": "code",
   "execution_count": 10,
   "metadata": {},
   "outputs": [
    {
     "name": "stdout",
     "output_type": "stream",
     "text": [
      "Hello World!\n",
      "13\n"
     ]
    }
   ],
   "source": [
    "#include <stdio.h>\n",
    "\n",
    "int i =  1;\n",
    "int main(void)\n",
    "{\n",
    "\tint i = printf(\"Hello World!\\n\");\n",
    "    printf(\"%d\\n\", i);\n",
    "\treturn 0;\t\n",
    "}"
   ]
  },
  {
   "cell_type": "markdown",
   "metadata": {},
   "source": [
    "### `scanf`"
   ]
  },
  {
   "cell_type": "code",
   "execution_count": 16,
   "metadata": {},
   "outputs": [
    {
     "name": "stderr",
     "output_type": "stream",
     "text": [
      "/var/folders/d4/z0x5s3410lj8px16wr2m5y200000gp/T/tmp3yqq574p.c:12:14: warning: format specifies type 'char *' but the argument has type 'char (*)[100]' [-Wformat]\n",
      "        scanf(\"%s\", &str);\n",
      "               ~~   ^~~~\n",
      "1 warning generated.\n"
     ]
    },
    {
     "name": "stdout",
     "output_type": "stream",
     "text": [
      "Enter any character \n",
      "Entered character is \u0000 \n",
      "Enter any string (upto 100 ch)\n",
      "Entered string is  \n"
     ]
    }
   ],
   "source": [
    "// run this on command prompt. The C kernel in notebook is not capable of taking inputs.\n",
    "# include <stdio.h>\n",
    "\n",
    "int main(void)\n",
    "{\n",
    "\tchar ch;\n",
    "\tchar str[100];\n",
    "\tprintf(\"Enter any character \\n\");\n",
    "\tscanf(\"%c\", &ch);\n",
    "\tprintf(\"Entered character is %c \\n\", ch);\n",
    "\tprintf(\"Enter any string (upto 100 ch)\\n\");\n",
    "\tscanf(\"%s\", &str);\n",
    "\tprintf(\"Entered string is %s \\n\", str);\n",
    "    return 0;\n",
    "}\n"
   ]
  },
  {
   "cell_type": "code",
   "execution_count": null,
   "metadata": {
    "collapsed": true
   },
   "outputs": [],
   "source": [
    "#include <stdio.h>\n",
    "\n",
    "main() /*rudimentary calculator from KR page 158*/\n",
    "{\n",
    "\tdouble sum, v;\n",
    "\tsum  = 0;\n",
    "\twhile (scanf(\"%lf\", &v) == 1)\n",
    "\t\tprintf(\"\\t%.2f\\n\", sum += v);\n",
    "\treturn 0;\n",
    "}\n",
    "\n",
    "/* o/p\n",
    "11\n",
    "\t11.00\n",
    "13\n",
    "\t24.00\n",
    "*/    "
   ]
  },
  {
   "cell_type": "markdown",
   "metadata": {},
   "source": [
    "Note in above program how `scanf` has been compared to 1. Basically `scanf` function returns integer value corresponding to characters successfully scanned. \n"
   ]
  },
  {
   "cell_type": "markdown",
   "metadata": {},
   "source": [
    "### `getchar()`\n",
    "\n",
    "```C\n",
    "main()\n",
    "{\n",
    "\tlong nc;\n",
    "\tnc = 0;\n",
    "\twhile(getchar() != EOF)\n",
    "\t\tnc=nc+1;\n",
    "\tprintf(\"%ld\\n\",nc);\t\t\t\n",
    "}                            //keystroke for EOF is CTRL+Z\n",
    "```\n",
    "\n",
    "Alternate way\n",
    "\n",
    "```C\n",
    "#include <stdio.h>\n",
    "main()\n",
    "{\n",
    "\tdouble nc;\n",
    "\tfor (nc =0; getchar() != EOF; ++nc)\n",
    "\t\t;                             // notice that we used ; without any statement. \n",
    "\tprintf(\"%.1f\\n\", nc); \n",
    " }\n",
    "                      \n",
    "// .1f means 1 digit after decimal point. To suppress decimal point, use .0f\n",
    "```"
   ]
  },
  {
   "cell_type": "markdown",
   "metadata": {},
   "source": [
    "### `putchar()`\n",
    "\n",
    "Notes from K&R –\n",
    "\n",
    ">A character written between single quotes represents an integer value equal to the numerical value of the character in the machine's character set. This is called a character constant, although it is just another way to write a small integer. So, for example, 'A' is a character constant; in the ASCII character set its value is 65, the internal representation of the character A. Of course, 'A' is to be preferred over 65: its meaning is obvious, and it is independent of a particular character set. \n",
    "\n",
    ">The escape sequences used in string constants are also legal in character constants, so '\\n' stands for the value of the newline character, which is 10 in ASCII. You should note carefully that '\\n' is a single character, and in expressions is just an integer; on the other hand, “\\n” is a string constant that happens to contain only one character. "
   ]
  },
  {
   "cell_type": "code",
   "execution_count": 1,
   "metadata": {},
   "outputs": [
    {
     "name": "stdout",
     "output_type": "stream",
     "text": [
      "20 - \u0014\n",
      "21 - \u0015\n",
      "22 - \u0016\n",
      "23 - \u0017\n",
      "24 - \u0018\n",
      "25 - \u0019\n",
      "26 - \u001a\n",
      "27 - \u001b\n",
      "28 - \u001c",
      "\n",
      "29 - \u001d",
      "\n",
      "30 - \u001e",
      "\n",
      "31 - \u001f\n",
      "32 -  \n",
      "33 - !\n",
      "34 - \"\n",
      "for loop ends here\n",
      "K\n",
      "r\n",
      "K"
     ]
    }
   ],
   "source": [
    "#include <stdio.h>\n",
    "\n",
    "int main(){\n",
    "char i;\n",
    "for (i= 20; i <35; ++i){\n",
    "    printf(\"%d - %c\\n\",i,i); \n",
    "\n",
    "//putchar(i) followed by putchar('\\n') can be used above\n",
    "\n",
    "};\n",
    "\n",
    "printf(\"for loop ends here\\n\");\n",
    "\n",
    "putchar('A'+10);     //o/p is K as ‘A’ has ascii value of 65 and 65+10=75 which is ascii value of ‘K’\n",
    "putchar('\\n');    \n",
    "putchar('A'+'1');    // o/p=’r’ as ‘A’ has ascii value of 65. 65+49=114 which is ascii value of ‘r’\n",
    "putchar('\\n');\n",
    "putchar('A'+'\\n');   // o=K as ‘A’ has asci value of 65 and 65+10(‘\\n’)=75 which is ascii value of K\n",
    "\n",
    "return 0;\n",
    "}\n",
    "\n",
    " //\"\" can't be used in putchar('\\n')."
   ]
  },
  {
   "cell_type": "code",
   "execution_count": null,
   "metadata": {},
   "outputs": [
    {
     "name": "stderr",
     "output_type": "stream",
     "text": [
      "/var/folders/d4/z0x5s3410lj8px16wr2m5y200000gp/T/tmpizjsfutt.c:5:16: warning: result of comparison of constant 128 with expression of type 'char' is always true [-Wtautological-constant-out-of-range-compare]\n",
      "for (i= 125; i <128; ++i){\n",
      "             ~ ^~~~\n",
      "1 warning generated.\n"
     ]
    }
   ],
   "source": [
    "#include <stdio.h>\n",
    "\n",
    "int main(){\n",
    "char i;\n",
    "for (i= 125; i <128; ++i){\n",
    "    printf(\"%d - %c\\n\",i,i); \n",
    "};\n",
    "return 0;\n",
    "}"
   ]
  },
  {
   "cell_type": "markdown",
   "metadata": {},
   "source": [
    "Notice the warning message produced by compiler. Also read following sections."
   ]
  },
  {
   "cell_type": "code",
   "execution_count": 8,
   "metadata": {},
   "outputs": [
    {
     "name": "stdout",
     "output_type": "stream",
     "text": [
      "for i=0, c is \u0000\n",
      "for i=1, c is \u0001\n",
      "for i=2, c is \u0002\n",
      "for i=3, c is \u0003\n",
      "for i=4, c is \u0004\n",
      "for i=5, c is \u0005\n",
      "for i=6, c is \u0006\n",
      "for i=7, c is \u0007\n",
      "for i=8, c is \b\n",
      "for i=9, c is \t\n",
      "for i=10, c is \n",
      "\n",
      "for i=11, c is \u000b",
      "\n",
      "for i=12, c is \f",
      "\n",
      "for i=13, c is \r\n",
      "for i=14, c is \u000e\n",
      "for i=15, c is \u000f\n",
      "for i=16, c is \u0010\n",
      "for i=17, c is \u0011\n",
      "for i=18, c is \u0012\n",
      "for i=19, c is \u0013\n",
      "for i=20, c is \u0014\n",
      "for i=21, c is \u0015\n",
      "for i=22, c is \u0016\n",
      "for i=23, c is \u0017\n",
      "for i=24, c is \u0018\n",
      "for i=25, c is \u0019\n",
      "for i=26, c is \u001a\n",
      "for i=27, c is \u001b\n",
      "for i=28, c is \u001c",
      "\n",
      "for i=29, c is \u001d",
      "\n",
      "for i=30, c is \u001e",
      "\n",
      "for i=31, c is \u001f\n",
      "for i=32, c is  \n",
      "for i=33, c is !\n",
      "for i=34, c is \"\n",
      "for i=35, c is #\n",
      "for i=36, c is $\n",
      "for i=37, c is %\n",
      "for i=38, c is &\n",
      "for i=39, c is '\n",
      "for i=40, c is (\n",
      "for i=41, c is )\n",
      "for i=42, c is *\n",
      "for i=43, c is +\n",
      "for i=44, c is ,\n",
      "for i=45, c is -\n",
      "for i=46, c is .\n",
      "for i=47, c is /\n",
      "for i=48, c is 0\n",
      "for i=49, c is 1\n",
      "for i=50, c is 2\n",
      "for i=51, c is 3\n",
      "for i=52, c is 4\n",
      "for i=53, c is 5\n",
      "for i=54, c is 6\n",
      "for i=55, c is 7\n",
      "for i=56, c is 8\n",
      "for i=57, c is 9\n",
      "for i=58, c is :\n",
      "for i=59, c is ;\n",
      "for i=60, c is <\n",
      "for i=61, c is =\n",
      "for i=62, c is >\n",
      "for i=63, c is ?\n",
      "for i=64, c is @\n",
      "for i=65, c is A\n",
      "for i=66, c is B\n",
      "for i=67, c is C\n",
      "for i=68, c is D\n",
      "for i=69, c is E\n",
      "for i=70, c is F\n",
      "for i=71, c is G\n",
      "for i=72, c is H\n",
      "for i=73, c is I\n",
      "for i=74, c is J\n",
      "for i=75, c is K\n",
      "for i=76, c is L\n",
      "for i=77, c is M\n",
      "for i=78, c is N\n",
      "for i=79, c is O\n",
      "for i=80, c is P\n",
      "for i=81, c is Q\n",
      "for i=82, c is R\n",
      "for i=83, c is S\n",
      "for i=84, c is T\n",
      "for i=85, c is U\n",
      "for i=86, c is V\n",
      "for i=87, c is W\n",
      "for i=88, c is X\n",
      "for i=89, c is Y\n",
      "for i=90, c is Z\n",
      "for i=91, c is [\n",
      "for i=92, c is \\\n",
      "for i=93, c is ]\n",
      "for i=94, c is ^\n",
      "for i=95, c is _\n",
      "for i=96, c is `\n",
      "for i=97, c is a\n",
      "for i=98, c is b\n",
      "for i=99, c is c\n",
      "for i=100, c is d\n",
      "for i=101, c is e\n",
      "for i=102, c is f\n",
      "for i=103, c is g\n",
      "for i=104, c is h\n",
      "for i=105, c is i\n",
      "for i=106, c is j\n",
      "for i=107, c is k\n",
      "for i=108, c is l\n",
      "for i=109, c is m\n",
      "for i=110, c is n\n",
      "for i=111, c is o\n",
      "for i=112, c is p\n",
      "for i=113, c is q\n",
      "for i=114, c is r\n",
      "for i=115, c is s\n",
      "for i=116, c is t\n",
      "for i=117, c is u\n",
      "for i=118, c is v\n",
      "for i=119, c is w\n",
      "for i=120, c is x\n",
      "for i=121, c is y\n",
      "for i=122, c is z\n",
      "for i=123, c is {\n",
      "for i=124, c is |\n",
      "for i=125, c is }\n",
      "for i=126, c is ~\n",
      "for i=127, c is \n"
     ]
    }
   ],
   "source": [
    "#include <stdio.h>\n",
    "\n",
    "int main(){\n",
    "\tint i;\n",
    "\tfor(i=0; i <128; ++i){\n",
    "\tprintf(\"for i=%d, c is %c\\n\", i,i);\n",
    "\t}\n",
    "}\n",
    "/*\n",
    "Output will be different on Windows machine for some initial characters.\n",
    "*/"
   ]
  },
  {
   "cell_type": "code",
   "execution_count": 23,
   "metadata": {},
   "outputs": [
    {
     "name": "stdout",
     "output_type": "stream",
     "text": [
      "-128, 127"
     ]
    }
   ],
   "source": [
    "#include <stdio.h>\n",
    "#include <limits.h>\n",
    "\n",
    "int main(){\n",
    "printf(\"%d, %d\", CHAR_MIN, CHAR_MAX);\n",
    "}"
   ]
  },
  {
   "cell_type": "code",
   "execution_count": 25,
   "metadata": {},
   "outputs": [
    {
     "name": "stdout",
     "output_type": "stream",
     "text": [
      "-2147483648, 2147483647"
     ]
    }
   ],
   "source": [
    "#include <stdio.h>\n",
    "#include <limits.h>\n",
    "\n",
    "int main(){\n",
    "printf(\"%d, %d\", INT_MIN, INT_MAX);\n",
    "}"
   ]
  },
  {
   "cell_type": "markdown",
   "metadata": {},
   "source": [
    "'The C standard does not specify if plain `char` is signed or unsigned. \n",
    "\n",
    "In fact, the standard defines three distinct types: `char`, `signed char`, and `unsigned char`. If you `#include <limits.h>` and then look at `CHAR_MIN` (see above program), you can find out if plain `char` is `signed` or `unsigned`, but even then, the three types are distinct as far as the standard is concerned. See [this SO](..) for more details. "
   ]
  },
  {
   "cell_type": "code",
   "execution_count": 5,
   "metadata": {},
   "outputs": [
    {
     "name": "stdout",
     "output_type": "stream",
     "text": [
      "73\n",
      "65"
     ]
    }
   ],
   "source": [
    "#include <stdio.h>\n",
    "\n",
    "int main(){\n",
    "    int d;\n",
    "    d = 'A' + 8; //65+8,because 65 is ASCII value for 'A'\n",
    "    printf(\"%d\\n\",d);  \n",
    "    printf(\"%d\",'A'); // ascii value for 'A'\n",
    "\n",
    "}"
   ]
  },
  {
   "cell_type": "code",
   "execution_count": 9,
   "metadata": {},
   "outputs": [
    {
     "name": "stdout",
     "output_type": "stream",
     "text": [
      "B\n"
     ]
    }
   ],
   "source": [
    "#include <stdio.h>\n",
    "\n",
    "int main(){\n",
    "    if('A'> 'r' || 'A' > 70) // See how ‘OR’ has been implemented here.\n",
    "        printf(\"A\\n\");\n",
    "else\n",
    "    printf(\"B\\n\");    \n",
    "}\n"
   ]
  },
  {
   "cell_type": "markdown",
   "metadata": {},
   "source": [
    "Another example above.\n",
    "\n",
    "\n",
    "Notice how characters have been compared. ‘A’ is smaller than ‘r’ because asci value of ‘A’ is 65 which is smaller than the ascii value of ‘r’. Also 65 is less than 70 so both conditions fail and output is ‘B’. \n",
    "\n",
    "\n",
    "Note - the compiler \"promotes\" the smaller type (`char`) to be the same size as the larger type (`int`) before combining the values. Promotions are determined at compile time based purely on the types of the values in the expressions. Promotions do not lose information -- they always convert from a type to compatible, larger type to avoid losing information. For example, division such as 3.0/2. Here 2 will be promoted to float. \n",
    "\n",
    "The opposite of promotion, truncation moves a value from a type to a smaller type. In that case, the compiler just drops the extra bits. \n",
    "Assigning from an integer to a smaller integer (e.g.. `long` to `int`, or `int` to `char`) drops the most significant bits. Assigning from a floating point type to an integer drops the fractional part of the number.\n",
    "\n",
    "\n"
   ]
  },
  {
   "cell_type": "code",
   "execution_count": 10,
   "metadata": {
    "scrolled": true
   },
   "outputs": [
    {
     "name": "stdout",
     "output_type": "stream",
     "text": [
      "65"
     ]
    }
   ],
   "source": [
    "#include <stdio.h>\n",
    "\n",
    "int main(){\n",
    "\tchar ch;\n",
    "\tint i;\n",
    "\ti = 321;\n",
    "\tch = i;\n",
    "\tprintf(\"%d\", ch);\n",
    "\t}\n"
   ]
  },
  {
   "cell_type": "markdown",
   "metadata": {},
   "source": [
    "\n",
    "The assignment will drop the upper bits of the `int` 321. The lower 8 bits of the number 321 represents the number 65 (321 - 256). So the value of `ch` will be (`char`)65 which happens to be 'A'. The assignment of a floating point type to an integer type will drop the fractional part of the number. The following code will set `i` to the value 3. This happens when assigning a floating point number to an integer or passing a floating point number to a function which takes an integer.\n",
    "```\n",
    "double pi;\n",
    "int i;\n",
    "pi = 3.14159;\n",
    "i = pi; // truncation of a double to fit in an int\n",
    "// i is now 3\n",
    "```\n"
   ]
  },
  {
   "cell_type": "code",
   "execution_count": 1,
   "metadata": {},
   "outputs": [
    {
     "name": "stderr",
     "output_type": "stream",
     "text": [
      "/var/folders/d4/z0x5s3410lj8px16wr2m5y200000gp/T/tmpirqrpvkw.c:4:1: warning: implicitly declaring library function 'printf' with type 'int (const char *, ...)' [-Wimplicit-function-declaration]\n",
      "printf(\"%d - %c\",i, i);\n",
      "^\n",
      "/var/folders/d4/z0x5s3410lj8px16wr2m5y200000gp/T/tmpirqrpvkw.c:4:1: note: include the header <stdio.h> or explicitly provide a declaration for 'printf'\n",
      "1 warning generated.\n"
     ]
    },
    {
     "name": "stdout",
     "output_type": "stream",
     "text": [
      "127 - "
     ]
    }
   ],
   "source": [
    "int main(void)\n",
    "{\n",
    "char i = 127;\n",
    "printf(\"%d - %c\",i, i);\n",
    "}"
   ]
  },
  {
   "cell_type": "markdown",
   "metadata": {},
   "source": [
    "See above program carefully because something interesting happened here. \n",
    "\n",
    "First thing to keep in mind is that `printf` function is not the part of standard C language. To use it, we include the header `stdio.h`. I forgot to include the header `stdio.h` which is needed to use the `printf` function but compiler still went ahead to compile the program, although it did warn us about the mistake."
   ]
  },
  {
   "cell_type": "markdown",
   "metadata": {},
   "source": [
    "### `gets() and puts()`\n",
    "```C\n",
    "#include <stdio.h>\n",
    "\n",
    "main()\n",
    "{\n",
    "\tchar name[50];\n",
    "\tprintf(\"Enter your name\\n\");\n",
    "\tgets(name);\n",
    "\tprintf(\"Your name is:\");\n",
    "\tputs(name);\n",
    "}\n",
    "```"
   ]
  },
  {
   "cell_type": "markdown",
   "metadata": {},
   "source": [
    "#### `sizeof()` operator in C language:\n",
    "\n",
    "```C\n",
    "#include <stdio.h>\n",
    "#include <limits.h>\n",
    "\n",
    "void main()\n",
    "{\n",
    "\tint a; char b; float c; double d;\n",
    "\tprintf(\"Storage size for int data type: %d\\n\", sizeof(a));\n",
    "\tprintf(\"Storage size for char data type: %d\\n\", sizeof(b));\n",
    "\tprintf(\"Storage size for float data type: %d\\n\", sizeof(c));\n",
    "\tprintf(\"Storage size for double data type: %d\\n\", sizeof(d));\n",
    "}\n",
    "Storage size for int data type: 4\n",
    "Storage size for char data type: 1\n",
    "Storage size for float data type: 4\n",
    "Storage size for double data type: 8\n",
    "//above program was run on 32 bit Windows machine. \n",
    "```\n"
   ]
  },
  {
   "cell_type": "code",
   "execution_count": 27,
   "metadata": {},
   "outputs": [
    {
     "name": "stdout",
     "output_type": "stream",
     "text": [
      "Storage size for int data type: 4\n",
      "Storage size for char data type: 1\n",
      "Storage size for float data type: 4\n",
      "Storage size for double data type: 8\n",
      "Storage size for long int data type: 8\n"
     ]
    }
   ],
   "source": [
    "#include <stdio.h>\n",
    "#include <limits.h>\n",
    "\n",
    "int main()\n",
    "{\n",
    "    int a; char b; float c; double d; long int e;\n",
    "    printf(\"Storage size for int data type: %lu\\n\", sizeof(a));\n",
    "    printf(\"Storage size for char data type: %lu\\n\", sizeof(b));\n",
    "    printf(\"Storage size for float data type: %lu\\n\", sizeof(c));\n",
    "    printf(\"Storage size for double data type: %lu\\n\", sizeof(d));\n",
    "    printf(\"Storage size for long int data type: %lu\\n\", sizeof(e));\n",
    "}\n",
    "\n",
    "//above program was run on 64 bit Mac machine. "
   ]
  },
  {
   "cell_type": "markdown",
   "metadata": {},
   "source": [
    "### `if` clause\n",
    "\n",
    "```c\n",
    "#include <stdio.h>\n",
    "\n",
    "main()\n",
    "\n",
    "{\n",
    "\tint i = 10;\n",
    "\tif(1)\n",
    "\t\tprintf(\"Hi there\\n\");\n",
    "\tprintf(\"True hence %d\\n\", i == 10);\n",
    "\tprintf(\"False hence %d\\n\", i > 20);\n",
    "}\n",
    "```\n",
    "Notice how `if(1)` evaluates to `true`, also notice that first `printf` prints `1` while second print `0`.\n"
   ]
  },
  {
   "cell_type": "markdown",
   "metadata": {},
   "source": [
    "### `for` loop (infinite loop with ‘`break`’)\n",
    "```c\n",
    "#include <stdio.h>\n",
    "\n",
    "main()\n",
    "{\n",
    "\tint i;\n",
    "\t\n",
    "\tfor(;;){\n",
    "\t\tprintf(\"enter some number\\n\");\n",
    "\t    scanf(\"%d\", &i);\n",
    "\t\tif(i == 3)\t\n",
    "\t\t\tbreak;\n",
    "\t}\n",
    "\t\tprintf(\"program terminated\");\t\t\n",
    "}\n",
    "```\n",
    "Notice that all three components of `for` loop has been omitted, thereby making this ‘infinite loop’,presumably to be broken by other means, such as `break` or `return`.\n",
    "Note – while writing this program, I forgot to include ‘{}’ in for loop, due to this program didn’t compile. If there is single expression, this can be omitted. Otherwise, it must be included. \n"
   ]
  },
  {
   "cell_type": "markdown",
   "metadata": {},
   "source": [
    "### `while` loop"
   ]
  },
  {
   "cell_type": "code",
   "execution_count": 5,
   "metadata": {},
   "outputs": [
    {
     "name": "stdout",
     "output_type": "stream",
     "text": [
      "01234567"
     ]
    }
   ],
   "source": [
    "#include <stdio.h>\n",
    "int main(void){\n",
    "    int i; \n",
    "    i = 0;\n",
    "    while(i-10){\n",
    "        printf(\"%d\", i);\n",
    "        i++;\n",
    "        if (i == 8) \n",
    "            break;\n",
    "    }} // o/p -> 1234567"
   ]
  },
  {
   "cell_type": "markdown",
   "metadata": {},
   "source": [
    "\n",
    "\n",
    "If `i` was tested for equality with 12, instead of 8, we would have got 123456789 as output. Notice, how `break` works here.\n",
    "\n",
    "```c\n",
    "#include <stdio.h>\n",
    "//continue use\n",
    "void main(){\n",
    "\tint i; \n",
    "\ti = - 1;\n",
    "\twhile(i-10){\n",
    "\t\ti++;\n",
    "\t\tif (i == 7)\n",
    "\t\t\tcontinue;\n",
    "\t\tprintf(\"%d\\n\", i);\t\t\t\t\n",
    "\t}}\n",
    " o/p – 01234568910 //each digit in new line. Notice 7 isn’t printed.\n",
    "```"
   ]
  },
  {
   "cell_type": "markdown",
   "metadata": {},
   "source": [
    "C does not have a distinct boolean type-- `int` is used instead. The language treats integer 0 as `false` and all non-zero values as `true`. So the statement...\n",
    "```\n",
    "i = 0;\n",
    "while (i - 10) {\n",
    "...\n",
    "```\n",
    "will execute until the variable `i` takes on the value 10 at which time the expression `(i -10)` will become false (i.e. 0) in above example.\n"
   ]
  },
  {
   "cell_type": "markdown",
   "metadata": {
    "collapsed": true
   },
   "source": [
    "#### `do -  while` loop\n",
    "\n",
    "```C\n",
    "#include <stdio.h>\n",
    "\n",
    "int main()\n",
    "{\n",
    "  int x = 1;\n",
    "  do {\n",
    "    /* \"Hello, world!\" is printed at least once even though the condition is false */\n",
    "      printf( \"Hello, world!\\n\" );\n",
    "\t  x++;\n",
    "\t  printf(\"%d\\n\", x);\n",
    "  } while ( x <0 );\n",
    "}\n",
    "```\n",
    "```\n",
    "o/p- \n",
    "Hello World!\n",
    "2 // ‘do-while’executes statements at least once.\n",
    "```"
   ]
  },
  {
   "cell_type": "markdown",
   "metadata": {},
   "source": [
    "\n",
    "Another example from **KR** -\n",
    "\n",
    "```c\n",
    "#include <stdio.h>\n",
    "\n",
    "int strlen(char *s)\n",
    "{\n",
    "\tint n;\n",
    "\t\n",
    "\tfor (n = 0; *s != '\\0'; s++)\n",
    "{\n",
    "\t\tn++;\n",
    "\t\tprintf(\"%d\\n\",s); /*this is not needed. Just to see what gets printed for s*/\n",
    "\t}\n",
    "\treturn n;\n",
    "}\n",
    "main()\n",
    "{\n",
    "\tchar str[26];\n",
    "\tprintf(\"Enter some string\\n\");\n",
    "\tscanf(\"%s\", &str);\n",
    "\tprintf(\"length of string is %d\", strlen(str));\n",
    "}\t\n",
    "\n",
    "\n",
    "/*above program doesn't work for something like \"maya g\" (inverted comma not part of string) because 'for' loop conditon fails when it encounter space. \n",
    "/*From KR - as formal parameters in a function definition,\n",
    "char s[];\n",
    "and\n",
    "char *s;\n",
    "\n",
    "are equivalent.*/\n",
    "```\n",
    "\n",
    "\t\n",
    "\n",
    "In for loop above, we used the condition  `*`s != ‘\\0’. In reference to this, a note from KR (page 38) – \n",
    "\n",
    "The character constant ‘\\0’ represents the character with zero value, the null character.’\\0’ is often written instead of 0 to emphasize the character nature of some expression, but the numeric value is just 0.\n",
    "\n",
    "Also,from page 39 – \n",
    "\n",
    ">Be careful to distinguish between a character constant and a string that contains a single character: `‘x’` is not the same as `“x”`. The former is an integer, used to produce the numeric the value of the letter x in the machine’s character set. The latter is an array of characters that contains one character (the letter x) and a `\\0`."
   ]
  },
  {
   "cell_type": "code",
   "execution_count": 41,
   "metadata": {},
   "outputs": [
    {
     "name": "stdout",
     "output_type": "stream",
     "text": [
      "&G  = 0x10c531028\n",
      "&s  = 0x10c53102c\n",
      "&a  = 0x7ffee36e388c\n",
      "&p  = 0x7ffee36e3880\n",
      "p   = 0x7f921fc02c80\n",
      "main  = 0x10c530e60\n"
     ]
    }
   ],
   "source": [
    "#include <stdio.h>\n",
    "#include <stdlib.h>\n",
    "\n",
    "int G = 0; /*global var*/\n",
    "\n",
    "int main(int argc, char **argv)\n",
    "{\n",
    "    static int s;  \n",
    "    int a;\n",
    "    int *p;\n",
    "\n",
    "    p = malloc(sizeof(int));\n",
    "\n",
    "    printf(\"&G  = %p\\n\", (void *) &G);\n",
    "    printf(\"&s  = %p\\n\", (void *) &s);\n",
    "    printf(\"&a  = %p\\n\", (void *) &a);\n",
    "    printf(\"&p  = %p\\n\", (void *) &p);\n",
    "    printf(\"p   = %p\\n\", (void *) p);            /*notice ‘p’ format specifier*/\n",
    "    //printf(\"p  = %d\\n\", (void *) p);          /*notice ‘d’format specifier*/\n",
    "    printf(\"main  = %p\\n\", (void *) main); \n",
    "\n",
    "    free(p);\n",
    "\n",
    "}"
   ]
  },
  {
   "cell_type": "markdown",
   "metadata": {},
   "source": [
    "Note that in some cases, we might see -ve decimal values for addresses. Addresses aren't always positive - on x86_64, pointers are sign-extended and the address space is clustered symmetrically around 0. [SO Post](https://stackoverflow.com/questions/3304795/can-a-pointer-address-ever-be-negative)\n",
    "\n",
    "The sign of the number depends on the highest bit set (assuming two's complement representation, which is used by the vast majority of systems currently in use), so a memory address above `0x80000000` on a 32-bit system will be negative, and a memory address below `0x80000000` will be positive. There's no real significance to that.\n",
    "\n",
    "You should be printing memory addresses using the `%p` modifier; alternatively, some people use `%08x` for printing memory addresses (or `%016llx` on 64-bit systems). This will always print out as an unsigned integer in hexadecimal, which is far more useful than a signed decimal integer. [SO Post](https://stackoverflow.com/questions/1689423/memory-address-positive-or-negative-value-in-c)"
   ]
  },
  {
   "cell_type": "markdown",
   "metadata": {},
   "source": [
    "***\n",
    "\n",
    "##### Memory segment \n",
    "\n",
    "This part is from Think OS book.\n",
    "\n",
    "The data of a running process is organized into 5 segments:\n",
    "\n",
    "• The code segment contains the program text; that is, the machine language instructions that make up the program.\n",
    "\n",
    "• The static segment contains immutable values, like string literals. For example, if your program contains the string \"Hello, World\", those character will be stored in the static segment.\n",
    "\n",
    "• The globals segment contains global variables and local variables that are declared static.\n",
    "\n",
    "• The heap segment contains chunks of memory allocated at run time, usually by calling the C library function malloc.\n",
    "\n",
    "• The stack segment contains the run-time stack, which is made up of stack frames. Each time a function is called, a stack frame is allocated to contain the parameters and local variables of the function.\n",
    "The arrangement of these segments is determined partly by the compiler and partly by the operating system. The details vary from one system to another, but in the most common arrangement:\n",
    "\n",
    "• The text segment is near the “bottom” of memory, that is, at addresses near 0.\n",
    "\n",
    "• The static segment is often just above the text segment, that is, at higher addresses.\n",
    "\n",
    "• The global segment is often just above the static segment.\n",
    "\n",
    "• The heap is often above the static segment. As it expands, it grows up toward larger addresses.\n",
    "\n",
    "• The stack is near the top of memory; that is, near the highest addresses in the virtual address space. As the stack expands, it grows down toward smaller addresses. \n",
    "\n",
    "To determine the layout of these segments on your system, try running this program -\n",
    "\n",
    "`main` is the name of a function; when it is used as a variable, it refers to the address of the first machine language instruction in `main`, which we expect to be in the text segment. `global` is a global variable, so we expect it to be in the global segment. `local` is a local variable, so we expect it to be on the stacks refers to a “string literal\", which is a string that appears as part of the program (as opposed to a string that is read from a file, input by a user, etc.). We expect the location of the string to be in the static segment (as opposed to the pointer, `s`, which is a local variable). `p` contains an address returned by `malloc`, which allocates space in the heap. `malloc` stands for “memory allocate.” The format sequence `%p` tells printf to format each address as a “pointer”, so it displays the results in hexadecimal. When I run this program, the output looks like this (I added spaces to make it easier to read):\n",
    "\n",
    "As expected, the address of main is the lowest, followed by the location of the string literal. The location of global is next, then the address p points to. The address of local is much bigger. The largest address has 12 hexadecimal digits. Each hex digit corresponds to 4 bits, so it is a 48-bit address. That suggests that the usable part of the virtual address space is 248 bytes.\n"
   ]
  },
  {
   "cell_type": "markdown",
   "metadata": {},
   "source": [
    "#### Unary Increment Operators: ++ --\n",
    "\n",
    "The unary ++ and -- operators increment or decrement the value in a variable. There are \"pre\" and \"post\" variants for both operators which do slightly different things (explained below)\n",
    "\n",
    "var++ increment \"post\" variant\n",
    "++var increment \"pre\" variant\n",
    "var-- decrement \"post\" variant\n",
    "--var decrement \"pre\" variant\n",
    "```c\n",
    "int i = 42;\n",
    "i++; // increment on i\n",
    "// i is now 43\n",
    "i--; // decrement on i\n",
    "// i is now 42\n",
    "```\n",
    "#### Pre and Post Variations\n",
    "\n",
    "The Pre/Post variation has to do with nesting a variable with the increment or decrement operator inside an expression -- should the entire expression represent the value of the variable before or after the change? I never use the operators in this way (see below), but an example looks like...\n",
    "```c\n",
    "int i = 42;\n",
    "int j;\n",
    "j = (i++ + 10);\n",
    "// i is now 43\n",
    "// j is now 52 (NOT 53)\n",
    "j = (++i + 10)\n",
    "// i is now 44\n",
    "// j is now 54\n",
    "```"
   ]
  },
  {
   "cell_type": "markdown",
   "metadata": {},
   "source": [
    "***\n",
    "\n",
    "#### Conditional Expression -or- The Ternary Operator\n",
    "\n",
    "The conditional expression can be used as a shorthand for some if-else statements. The general syntax of the conditional operator is:\n",
    "\n",
    "`<expression1> ? <expression2> : <expression3>` This is an expression, not a statement, so it represents a value. The operator works by evaluating `expression1`. If it is true (non-zero), it evaluates and returns `expression2`. Otherwise, it evaluates and returns expression3.\n",
    "The classic example of the ternary operator is to return the smaller of two variables. Every once in a while, the following form is just what you needed. Instead of...\n",
    "```\n",
    "if (x < y) {\n",
    "min = x;\n",
    "}\n",
    "else {\n",
    "min = y;\n",
    "}\n",
    "12\n",
    "```\n",
    "You just say - `min = (x < y) ? x : y;`\n"
   ]
  },
  {
   "cell_type": "markdown",
   "metadata": {},
   "source": [
    "***\n",
    "\n",
    "#### Parameters to `main` function\n",
    "\n",
    "```C\n",
    "#include <stdio.h>\n",
    "#include <stdlib.h>\n",
    "\n",
    "int SumRange(int start, int end)\n",
    "{\n",
    "\tint i;\n",
    "\tint sum;\n",
    "\tsum = 0;\n",
    "\tfor(i = start; i <end; i++){\n",
    "\t\tsum += i;\n",
    "\t}\n",
    "\treturn sum;\n",
    "\t\n",
    "}\n",
    "\n",
    "int main(int argc, char **argv)\n",
    "{\n",
    "\tint start;\n",
    "\tint end;\n",
    "\tif(argc !=3){\n",
    "\t\tfprintf(stderr, \"Usage: %s\\n start end\", argv[0]);\n",
    "\t\treturn 1;\n",
    "\t}\n",
    "\t\n",
    "start = atoi(argv[1]);\n",
    "end = atoi(argv[2]);\n",
    "\n",
    "printf(\"SumRange(%d, %d) = %d\\n\", start, end, SumRange(start,end));\n",
    "return 0;\n",
    "}\n",
    "```\n",
    "\n",
    "---\n",
    "In above program notice that how `main` function got 2 parameters, namely, `argc` animad `argv`. Also notice the use of function `atoi` from `stdlib` library. \n",
    "\n",
    "Suppose there is a program ‘echo’ which echoes its commandline arguments on a single line, separated by blanks. That is the command\n",
    "\n",
    "    echo hello, world\n",
    "\n",
    "prints the output   \n",
    "\n",
    "    hello, world\n",
    "\n",
    "For this, we pass two parameters to ‘main’ function, namely `argc` and `*argv[]`. Per standard, `argv[argc]` has to be a null pointer. See illustration below.\n",
    "\n",
    "\n",
    "![](Images/argv.png)\n",
    "\n",
    "\n",
    "`argv` is a pointer to an array of character strings that contain the arguments. An example from KR –\n"
   ]
  },
  {
   "cell_type": "markdown",
   "metadata": {},
   "source": [
    "```C\n",
    "clarg.c \n",
    "#include <stdio.h>\n",
    "\n",
    "main (int argc, char *argv[])\n",
    "{\n",
    "\tint i;\n",
    "\tfor (i =1; i < argc; i++)\n",
    "\t\tprintf(\"%s%s\", argv[i], (i < argc-1) ? \" \" : \"\"); /*see this carefully*/\n",
    "\tprintf(\"\\n\");\n",
    "\treturn 0;\n",
    "}\n",
    "```\n",
    "```\n",
    "c:\\C\\KR>clarg 1 2\n",
    "1 2\n",
    "```\n",
    "\n",
    "Since `argv` is a pointer to an array of pointers, we can manipulate the pointer rather than index the array. See the another version of above program – (Read page 114-115 from KR to better understand above and below example)\n",
    "\n",
    "```C\n",
    "#include <stdio.h>\n",
    "\n",
    "main (int argc, char *argv[])\n",
    "{\n",
    "\twhile(--argc > 0)\n",
    "\t\tprintf(\"%s%s\", *++argv, (argc > 1) ? \" \" : \"\");\n",
    "\tprintf(\"\\n\");\n",
    "\treturn 0;\n",
    "}\n",
    "```\n"
   ]
  },
  {
   "cell_type": "code",
   "execution_count": 3,
   "metadata": {},
   "outputs": [
    {
     "name": "stderr",
     "output_type": "stream",
     "text": [
      "/var/folders/d4/z0x5s3410lj8px16wr2m5y200000gp/T/tmp6bkeq2_m.c:2:1: warning: type specifier missing, defaults to 'int' [-Wimplicit-int]\n",
      "main()\n",
      "^\n",
      "/var/folders/d4/z0x5s3410lj8px16wr2m5y200000gp/T/tmp6bkeq2_m.c:6:13: warning: format specifies type 'char *' but the argument has type 'char (*)[4]' [-Wformat]\n",
      "scanf(\"%s\", &s);\n",
      "       ~~   ^~\n",
      "2 warnings generated.\n"
     ]
    }
   ],
   "source": [
    "#include <stdio.h>\n",
    "main()\n",
    "{\n",
    "char s[4];\n",
    "scanf(\"%s\", &s);\n",
    "printf(\"%s \\n\", s);\n",
    "}\n"
   ]
  },
  {
   "cell_type": "markdown",
   "metadata": {},
   "source": [
    "I am providing following random inputs for above program-\n",
    "\n",
    "\n",
    "#1st input\n",
    "\n",
    "`abcdeffdfsd`\n",
    "\n",
    "#o/p->    \n",
    "\n",
    "`abcdeffdfsd`\n",
    "\n",
    "#2nd input\n",
    "\n",
    "`afsdfsfsfasfasffasfasfsfafafsdfsadfasfsadfsdfasfasffsdfasfasfsfasdfasfafasf`\n",
    "#o/p->\n",
    "\n",
    "`afsdfsfsfasfasffasfasfsfafafsdfsadfasfsadfsdfasfasffsdfasfasfsfasdfasfafasf \n",
    "Segmentation fault: 11\n",
    "`\n",
    "\n",
    "Although I declared array `s` of length 4, it nevertheless was able to print string of length exceeding 4 in first case and it produces segment fault in second case. \n",
    "\n",
    "`scanf()` doesn't do any bounds checking. It will happily fill an array past its bounds clobbering whatever was in memory after the array. In first example nothing appears to break but we've definitely written into memory we weren't supposed to. In second example we've written into memory pass the array and when we tried to read it it just so happened to trigger the OS to be like, \"No, you can't do that. Next time behave yourself.\" What we witnessed is an example of C's undefined behaviour. See [this](https://www.reddit.com/r/learnprogramming/comments/g6lu0n/beginners_confusion_about_array_in_c/) and [this](https://stackoverflow.com/questions/10051782/array-overflow-why-does-this-work).\n",
    "\n"
   ]
  },
  {
   "cell_type": "markdown",
   "metadata": {},
   "source": [
    "See another related example below -"
   ]
  },
  {
   "cell_type": "code",
   "execution_count": null,
   "metadata": {},
   "outputs": [],
   "source": [
    "#include <stdio.h>\n",
    "\n",
    "int main(void)\n",
    "{\n",
    "  char str[5] = \"hello\";\n",
    "  puts(str);\n",
    "}"
   ]
  },
  {
   "cell_type": "markdown",
   "metadata": {},
   "source": [
    "Although this compiles without any warning but it is an incorrect program. The reason is that, in C, every string is null terminated. The null terminator is the symbol value 0 (zero). It is used to mark the end of a string. This is necessary since the size of the string isn't stored anywhere.\n",
    "\n",
    "Therefore, every time you allocate room for a string, you must include sufficient space for the null terminator character. Your example does not do this, it only allocates room for the 5 characters of \"hello\". Correct code should be:\n",
    "```c\n",
    "char str[6] = \"hello\";\n",
    "```\n",
    "You can also omit the array size altogether. That is, we can also write - \n",
    "\n",
    "```c\n",
    "char str[] = \"hello\";\n",
    "```\n",
    "\n",
    "In the last case the size of the character array is determined from the number of initializers of the string literal that is equal to 6."
   ]
  },
  {
   "cell_type": "markdown",
   "metadata": {},
   "source": [
    "#### Points to Remember\n",
    "\n",
    "The unary operators `*` and `&` bind more tightly than arithmetic operators, so the assignment\n",
    "\n",
    "`y = *ip + 1`\n",
    "\n",
    "takes whatever `ip` points at, adds 1, and assigns the result to `y`, while\n",
    "\n",
    "`*ip += 1`\n",
    "\n",
    "increments what `ip` points to, as do\n",
    "\n",
    "`++*ip`\n",
    "\n",
    "and\n",
    "\n",
    "`(*ip)++`\n",
    "\n",
    "The parentheses are necessary in this last example; without them, the expression would increment `ip` instead of what it points to, **because unary operators like `*` and `++` associate right to left.**\n"
   ]
  },
  {
   "cell_type": "markdown",
   "metadata": {},
   "source": [
    "\n",
    "#### `#include`\n",
    "\n",
    "The \"#include\" directive brings in text from different files during compilation. #include is a very unintelligent and unstructured -- it just pastes in the text from the given file and continues compiling. The #include directive is used in the .h/.c file convention below which is used to satisfy the various constraints necessary to get prototypes correct.\n",
    "\n",
    "```c\n",
    "#include \"foo.h\"       // refers to a \"user\" foo.h file --\n",
    "                       // in the originating directory for the compile\n",
    "#include <foo.h>       // refers to a \"system\" foo.h file --\n",
    "                       // in the compiler's directory somewhere\n",
    "```\n",
    "\n",
    "#### `#define`\n",
    "\n",
    "\n",
    "```c\n",
    "#include <stdio.h>\n",
    "#define PI 3.1415\n",
    "#define circleArea(r) (PI*r*r)\n",
    "\n",
    "int main()\n",
    "{\n",
    "    int radius;\n",
    "    float area;\n",
    "\n",
    "    printf(\"Enter the radius: \");\n",
    "    scanf(\"%d\", &radius);\n",
    "    area = circleArea(radius);\n",
    "    printf(\"Area = %.2f\", area);\n",
    "\n",
    "    return 0;\n",
    "}\n",
    "```"
   ]
  },
  {
   "cell_type": "markdown",
   "metadata": {},
   "source": [
    "\n",
    "#### `#include`\n",
    "\n",
    "The \"#include\" directive brings in text from different files during compilation. #include is a very unintelligent and unstructured -- it just pastes in the text from the given file and continues compiling. The #include directive is used in the .h/.c file convention below which is used to satisfy the various constraints necessary to get prototypes correct.\n",
    "\n",
    "```c\n",
    "#include \"foo.h\"       // refers to a \"user\" foo.h file --\n",
    "                       // in the originating directory for the compile\n",
    "#include <foo.h>       // refers to a \"system\" foo.h file --\n",
    "                       // in the compiler's directory somewhere\n",
    "```\n",
    "\n",
    "#### `#define`\n",
    "\n",
    "\n",
    "```c\n",
    "#include <stdio.h>\n",
    "#define PI 3.1415\n",
    "#define circleArea(r) (PI*r*r)\n",
    "\n",
    "int main()\n",
    "{\n",
    "    int radius;\n",
    "    float area;\n",
    "\n",
    "    printf(\"Enter the radius: \");\n",
    "    scanf(\"%d\", &radius);\n",
    "    area = circleArea(radius);\n",
    "    printf(\"Area = %.2f\", area);\n",
    "\n",
    "    return 0;\n",
    "}\n",
    "```"
   ]
  },
  {
   "cell_type": "markdown",
   "metadata": {},
   "source": [
    "***\n",
    "#### FILE I/0\n",
    "\n",
    "Declare a pointer of type file -      \n",
    "\n",
    "    FILE *fptr;\n",
    "\n",
    "Connecting to file – \n",
    "\n",
    "    ptr = fopen(\"fileopen\",\"mode\")\n",
    "\n",
    "For Example: - \n",
    "\n",
    "```\n",
    "fopen(\"E:\\\\cprogram\\\\newprogram.txt\",\"w\");\n",
    "fopen(\"E:\\\\cprogram\\\\oldprogram.bin\",\"rb\");\n",
    "```\n",
    "\n",
    "Closing a file – \n",
    "\n",
    "    fclose(fptr); //fptr is the file pointer associated with file to be closed.\n"
   ]
  },
  {
   "cell_type": "markdown",
   "metadata": {},
   "source": [
    "***\n",
    "File Mode |\tMeaning of Mode\t| During Inexistence of file\n",
    "----------|-----------------|----------------------------\n",
    "R\t      |Open for reading.|\tIf the file does not exist, fopen() returns NULL.\n",
    "Rb\t      |Open for reading in binary mode.|\tIf the file does not exist, fopen() returns NULL.\n",
    "W\t      |Open for writing.|If the file exists, its contents are overwritten. If the file does not exist, it will be created.\n",
    "Wb\t|Open for writing in binary mode.\t|If the file exists, its contents are overwritten. If the file does not exist, it will be created.\n",
    "A\t|Open for append. i.e, Data is added to end of file.\t|If the file does not exists, it will be created.\n",
    "Ab\t|Open for append in binary mode. i.e, Data is added to end of file.|\tIf the file does not exists, it will be created.\n",
    "r+\t|Open for both reading and writing.\t|If the file does not exist, fopen() returns NULL.\n",
    "rb+\t|Open for both reading and writing in binary mode.\t|If the file does not exist, fopen() returns NULL.\n",
    "w+\t|Open for both reading and writing.\t|If the file exists, its contents are overwritten. If the file does not exist, it will be created.\n",
    "wb+\t|Open for both reading and writing in binary mode.\t|If the file exists, its contents are overwritten. If the file does not exist, it will be created.\n",
    "a+\t|Open for both reading and appending.\t|If the file does not exists, it will be created.\n",
    "ab+\t|Open for both reading and appending in binary mode.\t|If the file does not exists, it will be created.\n",
    "\n",
    "\n"
   ]
  },
  {
   "cell_type": "markdown",
   "metadata": {},
   "source": [
    "***\n",
    "#### Example – writing to and reading from text file using `fprintf` and `fscanf`\n",
    "\n",
    "```c\n",
    "#include <stdio.h>\n",
    "int main()\n",
    "{\n",
    "   int num;\n",
    "   FILE *fptr;\n",
    "   fptr = fopen(\"C:\\\\c\\\\program.txt\",\"w\");\n",
    "\n",
    "   if(fptr == NULL)\n",
    "   {\n",
    "      printf(\"Error!\");   \n",
    "      exit(1);             \n",
    "   }\n",
    "\n",
    "   printf(\"Enter num: \");\n",
    "   scanf(\"%d\",&num);\n",
    "   fprintf(fptr,\"%d\",num);\n",
    "   \n",
    "   fscanf(fptr,\"%d\", &num);\n",
    "   printf(\"Value of n=%d\", num);\n",
    "   fclose(fptr);\n",
    "\n",
    "   return 0;\n",
    "}\n",
    "```"
   ]
  },
  {
   "cell_type": "markdown",
   "metadata": {},
   "source": [
    "#### Reading and writing to a binary file (using `fread()` and `fwrite()`)\n",
    "\n",
    "Use – \n",
    "\n",
    "    fwrite(address_data,size_data,numbers_data,pointer_to_file);\n",
    "    fread(address_data,size_data,numbers_data,pointer_to_file);\n",
    "\n",
    "```c\n",
    "#include <stdio.h>\n",
    "\n",
    "struct threeNum\n",
    "{\n",
    "   int n1, n2, n3;\n",
    "};\n",
    "\n",
    "int main()\n",
    "{\n",
    "   int n;\n",
    "   struct threeNum num;\n",
    "   FILE *fptr;\n",
    "\n",
    "   if ((fptr = fopen(\"C:\\\\C\\\\program.bin\",\"wb\")) == NULL){\n",
    "       printf(\"Error! opening file\");\n",
    "\n",
    "       // Program exits if the file pointer returns NULL.\n",
    "       exit(1);\n",
    "   }\n",
    "\n",
    "   for(n = 1; n < 5; ++n)\n",
    "   {\n",
    "      num.n1 = n;\n",
    "      num.n2 = 5*n;\n",
    "      num.n3 = 5*n + 1;\n",
    "      fwrite(&num, sizeof(struct threeNum), 1, fptr); \n",
    "   }\n",
    "   fclose(fptr); \n",
    "  \n",
    "   return 0;\n",
    "}\n",
    "```\n",
    "\n",
    "##### Program for reading from binary file – \n",
    "\n",
    "```c\n",
    "#include <stdio.h>\n",
    "\n",
    "struct threeNum\n",
    "{\n",
    "   int n1, n2, n3;\n",
    "};\n",
    "\n",
    "int main()\n",
    "{\n",
    "   int n;\n",
    "   struct threeNum num;\n",
    "   FILE *fptr;\n",
    "\n",
    "   if ((fptr = fopen(\"C:\\\\C\\\\program.bin\",\"rb\")) == NULL){\n",
    "       printf(\"Error! opening file\");\n",
    "\n",
    "       // Program exits if the file pointer returns NULL.\n",
    "       exit(1);\n",
    "   }\n",
    "\n",
    "   for(n = 1; n < 5; ++n)\n",
    "   {\n",
    "      fread(&num, sizeof(struct threeNum), 1, fptr); \n",
    "      printf(\"n1: %d\\tn2: %d\\tn3: %d\\t\", num.n1, num.n2, num.n3);\n",
    "   }\n",
    "   fclose(fptr); \n",
    "  \n",
    "   return 0;\n",
    "}\n",
    "```"
   ]
  },
  {
   "cell_type": "markdown",
   "metadata": {},
   "source": [
    "***\n",
    "##### Getting data using `fseek()` –\n",
    "\n",
    "    fseek(FILE * stream, long int offset, int whence)\n",
    "\n",
    "**Note -**  didn’t understand the output of following program.\n",
    "\n",
    "```c\n",
    "#include <stdio.h>\n",
    "\n",
    "struct threeNum\n",
    "{\n",
    "   int n1, n2, n3;\n",
    "};\n",
    "\n",
    "int main()\n",
    "{\n",
    "   int n;\n",
    "   struct threeNum num;\n",
    "   FILE *fptr;\n",
    "\n",
    "   if ((fptr = fopen(\"C:\\\\c\\\\program.bin\",\"rb\")) == NULL){\n",
    "       printf(\"Error! opening file\");\n",
    "       // Program exits if the file pointer returns NULL.\n",
    "       exit(1);\n",
    "   }\n",
    "   \n",
    "   // Moves the cursor to the end of the file\n",
    "   fseek(fptr, sizeof(struct threeNum), SEEK_END);\n",
    "\n",
    "   for(n = 1; n < 5; ++n)\n",
    "   {\n",
    "      fread(&num, sizeof(struct threeNum), 1, fptr); \n",
    "      printf(\"n1: %d\\tn2: %d\\tn3: %d\\t\", num.n1, num.n2, num.n3);\n",
    "   }\n",
    "   fclose(fptr); \n",
    "  \n",
    "   return 0;\n",
    "\n",
    "}\n",
    "```"
   ]
  },
  {
   "cell_type": "markdown",
   "metadata": {},
   "source": [
    "### `system` function"
   ]
  },
  {
   "cell_type": "code",
   "execution_count": 14,
   "metadata": {},
   "outputs": [
    {
     "name": "stderr",
     "output_type": "stream",
     "text": [
      "/var/folders/d4/z0x5s3410lj8px16wr2m5y200000gp/T/tmpmo_jgag5.c:4:5: warning: implicit declaration of function 'system' is invalid in C99 [-Wimplicit-function-declaration]\n",
      "    system(\"calc\");\n",
      "    ^\n",
      "1 warning generated.\n",
      "sh: calc: command not found\n"
     ]
    },
    {
     "name": "stdout",
     "output_type": "stream",
     "text": [
      "Tue Apr 28 20:13:39 IST 2020\n"
     ]
    }
   ],
   "source": [
    "#include <stdio.h>\n",
    "int main()\n",
    "{\n",
    "    system(\"calc\"); //windows specific`\n",
    "    system(\"date\"); /*displays result only when CTRL+C pressed*/\n",
    "}"
   ]
  },
  {
   "cell_type": "markdown",
   "metadata": {},
   "source": []
  },
  {
   "cell_type": "markdown",
   "metadata": {},
   "source": [
    "***\n",
    "\n",
    "#### C program to display its own source code using `__FILE__`\n",
    "\n",
    "```c\n",
    "#include <stdio.h>\n",
    "int main() {\n",
    "    FILE *fp;\n",
    "    char c;\n",
    "    fp = fopen(__FILE__,\"r\");\n",
    "    do {\n",
    "         c = getc(fp);\n",
    "         putchar(c);\n",
    "    }\n",
    "    while(c != EOF);\n",
    "    fclose(fp);\n",
    "    return 0;\n",
    "}\n",
    "```"
   ]
  },
  {
   "cell_type": "code",
   "execution_count": 22,
   "metadata": {},
   "outputs": [
    {
     "name": "stderr",
     "output_type": "stream",
     "text": [
      "/var/folders/d4/z0x5s3410lj8px16wr2m5y200000gp/T/tmp9bckg4u7.c:7:32: warning: format specifies type 'char *' but the argument has type 'int' [-Wformat]\n",
      "   printf(\"Current time: %s\\n\",__LINE__);   \n",
      "                         ~~    ^~~~~~~~\n",
      "                         %d\n",
      "<scratch space>:489:1: note: expanded from here\n",
      "7\n",
      "^\n",
      "1 warning generated.\n"
     ]
    },
    {
     "name": "stdout",
     "output_type": "stream",
     "text": [
      "Current time: 20:18:39\n",
      "Current date: Apr 28 2020\n",
      "Current file: /var/folders/d4/z0x5s3410lj8px16wr2m5y200000gp/T/tmp9bckg4u7.c\n"
     ]
    },
    {
     "name": "stderr",
     "output_type": "stream",
     "text": [
      "[C kernel] Executable exited with code -11"
     ]
    }
   ],
   "source": [
    "#include <stdio.h>\n",
    "int main()\n",
    "{\n",
    "   printf(\"Current time: %s\\n\",__TIME__);   //calculate the current time\n",
    "   printf(\"Current date: %s\\n\",__DATE__);\n",
    "   printf(\"Current file: %s\\n\",__FILE__);\n",
    "   //printf(\"Current time: %s\\n\",__LINE__);   not working\n",
    "\n",
    "}"
   ]
  }
 ],
 "metadata": {
  "kernelspec": {
   "display_name": "C",
   "language": "c",
   "name": "c"
  },
  "language_info": {
   "file_extension": ".c",
   "mimetype": "text/plain",
   "name": "c"
  }
 },
 "nbformat": 4,
 "nbformat_minor": 2
}
