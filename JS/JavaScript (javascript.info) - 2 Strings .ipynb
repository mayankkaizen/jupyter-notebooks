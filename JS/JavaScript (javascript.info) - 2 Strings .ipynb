{
 "cells": [
  {
   "cell_type": "markdown",
   "metadata": {},
   "source": [
    "### Strings\n",
    "\n",
    "In JavaScript, the textual data is stored as strings. There is no separate type for a single character. The internal format for strings is always UTF-16, it is not tied to the page encoding."
   ]
  },
  {
   "cell_type": "markdown",
   "metadata": {},
   "source": [
    "uotes\n",
    "\n",
    "Let’s recall the kinds of quotes. Strings can be enclosed within either single quotes, double quotes or backticks:\n",
    "```js\n",
    "let single = 'single-quoted';\n",
    "let double = \"double-quoted\";\n",
    "\n",
    "let backticks = `backticks`;\n",
    "```\n",
    "\n",
    "Single and double quotes are essentially the same. Backticks, however, allow us to embed any expression into the string, including function calls:"
   ]
  },
  {
   "cell_type": "code",
   "execution_count": 1,
   "metadata": {},
   "outputs": [
    {
     "name": "stdout",
     "output_type": "stream",
     "text": [
      "1 + 2 = 3.\n"
     ]
    }
   ],
   "source": [
    "function sum(a, b) {\n",
    "  return a + b;\n",
    "}\n",
    "\n",
    "console.log(`1 + 2 = ${sum(1, 2)}.`); // 1 + 2 = 3."
   ]
  },
  {
   "cell_type": "markdown",
   "metadata": {},
   "source": [
    "Another advantage of using backticks is that they allow a string to span multiple lines:"
   ]
  },
  {
   "cell_type": "code",
   "execution_count": 2,
   "metadata": {},
   "outputs": [
    {
     "name": "stdout",
     "output_type": "stream",
     "text": [
      "Guests:\n",
      " * John\n",
      " * Pete\n",
      " * Mary\n",
      "\n"
     ]
    }
   ],
   "source": [
    "let guestList = `Guests:\n",
    " * John\n",
    " * Pete\n",
    " * Mary\n",
    "`;\n",
    "\n",
    "console.log(guestList); // a list of guests, multiple lines"
   ]
  },
  {
   "cell_type": "markdown",
   "metadata": {},
   "source": [
    "If we try to use single or double quotes in the same way, there will be an error:"
   ]
  },
  {
   "cell_type": "code",
   "execution_count": 3,
   "metadata": {},
   "outputs": [
    {
     "ename": "SyntaxError",
     "evalue": "Invalid or unexpected token",
     "output_type": "error",
     "traceback": [
      "evalmachine.<anonymous>:1",
      "let list = \"Guests:",
      "           ^^^^^^^^",
      "",
      "SyntaxError: Invalid or unexpected token",
      "    at createScript (vm.js:80:10)",
      "    at Object.runInThisContext (vm.js:139:10)",
      "    at run ([eval]:1002:15)",
      "    at onRunRequest ([eval]:829:18)",
      "    at onMessage ([eval]:789:13)",
      "    at emitTwo (events.js:126:13)",
      "    at process.emit (events.js:214:7)",
      "    at emit (internal/child_process.js:772:12)",
      "    at _combinedTickCallback (internal/process/next_tick.js:141:11)",
      "    at process._tickCallback (internal/process/next_tick.js:180:9)"
     ]
    }
   ],
   "source": [
    "let list = \"Guests:\n",
    "* John\""
   ]
  },
  {
   "cell_type": "markdown",
   "metadata": {},
   "source": [
    "Backticks also allow us to specify a “template function” before the first backtick. The syntax is: \n",
    "\n",
    "```js\n",
    "func`string`\n",
    "```\n",
    "\n",
    "The function `func` is called automatically, receives the string and embedded expressions and can process them. You can read more about it in the [docs](https://developer.mozilla.org/en-US/docs/Web/JavaScript/Reference/Template_literals#Tagged_template_literals). This is called “tagged templates”. This feature makes it easier to wrap strings into custom templating or other functionality, but it is rarely used."
   ]
  },
  {
   "cell_type": "markdown",
   "metadata": {},
   "source": [
    "#### Special characters\n",
    "\n",
    "It is still possible to create multiline strings with single quotes by using a so-called “newline character”, written as `\\n`, which denotes a line break:"
   ]
  },
  {
   "cell_type": "code",
   "execution_count": 5,
   "metadata": {},
   "outputs": [
    {
     "data": {
      "text/plain": [
       "'Guests:\\n * John\\n * Pete\\n * Mary'"
      ]
     },
     "execution_count": 5,
     "metadata": {},
     "output_type": "execute_result"
    }
   ],
   "source": [
    "let guest = \"Guests:\\n * John\\n * Pete\\n * Mary\";\n",
    "\n",
    "guest; // a multiline list of guests"
   ]
  },
  {
   "cell_type": "code",
   "execution_count": 6,
   "metadata": {},
   "outputs": [
    {
     "name": "stdout",
     "output_type": "stream",
     "text": [
      "Guests:\n",
      " * John\n",
      " * Pete\n",
      " * Mary\n"
     ]
    }
   ],
   "source": [
    "console.log(guest)"
   ]
  },
  {
   "cell_type": "markdown",
   "metadata": {},
   "source": [
    "There are other, less common “special” characters as well. Here’s the list:\n",
    "\n",
    "\n",
    "|Character| Description|\n",
    "|---------|------------|\n",
    "|\\b| \tBackspace\n",
    "|\\f |\tForm feed\n",
    "|\\n| \tNew line\n",
    "|\\r \t|Carriage return\n",
    "|\\t| \tTab\n",
    "|\\uNNNN \t|A unicode symbol with the hex code NNNN, for instance \\u00A9 – is a unicode for the copyright symbol ©. It must be exactly 4 hex digits.\n",
    "|\\u{NNNNNNNN}| \tSome rare characters are encoded with two unicode symbols, taking up to 4 bytes. This long unicode requires braces around it."
   ]
  },
  {
   "cell_type": "markdown",
   "metadata": {},
   "source": [
    "Examples with unicode:"
   ]
  },
  {
   "cell_type": "code",
   "execution_count": 7,
   "metadata": {},
   "outputs": [
    {
     "name": "stdout",
     "output_type": "stream",
     "text": [
      "©\n",
      "𠌱\n",
      "😍\n"
     ]
    }
   ],
   "source": [
    "console.log(\"\\u00A9\"); // ©\n",
    "console.log(\"\\u{20331}\"); // 佫, a rare chinese hieroglyph (long unicode)\n",
    "console.log(\"\\u{1F60D}\");"
   ]
  },
  {
   "cell_type": "markdown",
   "metadata": {
    "collapsed": true
   },
   "source": [
    "We use `\\` (also known as escape character) if we want to insert a quote into the string - "
   ]
  },
  {
   "cell_type": "code",
   "execution_count": 1,
   "metadata": {},
   "outputs": [
    {
     "name": "stdout",
     "output_type": "stream",
     "text": [
      "I'm the Walrus\n"
     ]
    }
   ],
   "source": [
    "console.log('I\\'m the Walrus')"
   ]
  },
  {
   "cell_type": "markdown",
   "metadata": {},
   "source": [
    "We can use `\\` to escape itself -"
   ]
  },
  {
   "cell_type": "code",
   "execution_count": 2,
   "metadata": {},
   "outputs": [
    {
     "ename": "SyntaxError",
     "evalue": "Invalid or unexpected token",
     "output_type": "error",
     "traceback": [
      "evalmachine.<anonymous>:1",
      "console.log('\\')",
      "            ^^^^",
      "",
      "SyntaxError: Invalid or unexpected token",
      "    at createScript (vm.js:80:10)",
      "    at Object.runInThisContext (vm.js:139:10)",
      "    at run ([eval]:1002:15)",
      "    at onRunRequest ([eval]:829:18)",
      "    at onMessage ([eval]:789:13)",
      "    at emitTwo (events.js:126:13)",
      "    at process.emit (events.js:214:7)",
      "    at emit (internal/child_process.js:772:12)",
      "    at _combinedTickCallback (internal/process/next_tick.js:141:11)",
      "    at process._tickCallback (internal/process/next_tick.js:180:9)"
     ]
    }
   ],
   "source": [
    "console.log('\\')"
   ]
  },
  {
   "cell_type": "code",
   "execution_count": 3,
   "metadata": {},
   "outputs": [
    {
     "name": "stdout",
     "output_type": "stream",
     "text": [
      "\\\n"
     ]
    }
   ],
   "source": [
    "console.log('\\\\')"
   ]
  },
  {
   "cell_type": "markdown",
   "metadata": {},
   "source": [
    "#### String length\n",
    "\n",
    "The `length` property has the string length -"
   ]
  },
  {
   "cell_type": "code",
   "execution_count": 5,
   "metadata": {},
   "outputs": [
    {
     "name": "stdout",
     "output_type": "stream",
     "text": [
      "6\n",
      "12\n",
      "3\n"
     ]
    }
   ],
   "source": [
    "console.log('mayank'.length);\n",
    "console.log('mayank gupta'.length);\n",
    "console.log('My\\n'.length);   // `\\n` is a single character\n",
    "\n",
    "//note that length is a property, not a function"
   ]
  },
  {
   "cell_type": "markdown",
   "metadata": {},
   "source": [
    "#### Accessing characters - \n",
    "\n",
    "To get a character at position `pos`, use square brackets `[pos]` or call the methods `str.charAt(pos)`. Both follows zero based indexing -"
   ]
  },
  {
   "cell_type": "code",
   "execution_count": 6,
   "metadata": {},
   "outputs": [
    {
     "name": "stdout",
     "output_type": "stream",
     "text": [
      "H\n",
      "e\n"
     ]
    }
   ],
   "source": [
    "let str = 'Hello';\n",
    "console.log(str[0]);\n",
    "console.log(str.charAt(1));"
   ]
  },
  {
   "cell_type": "markdown",
   "metadata": {},
   "source": [
    "The only difference between using `[]` and `atChar` is that if no character is found at given position, `[]` returns `undefined` while later returns an empty string -"
   ]
  },
  {
   "cell_type": "code",
   "execution_count": 7,
   "metadata": {},
   "outputs": [
    {
     "name": "stdout",
     "output_type": "stream",
     "text": [
      "undefined\n",
      "\n"
     ]
    }
   ],
   "source": [
    "console.log(str[6]);\n",
    "console.log(str.charAt(6));"
   ]
  },
  {
   "cell_type": "markdown",
   "metadata": {},
   "source": [
    "We can also iterate over characters using `for....of` - "
   ]
  },
  {
   "cell_type": "code",
   "execution_count": 8,
   "metadata": {},
   "outputs": [
    {
     "name": "stdout",
     "output_type": "stream",
     "text": [
      "H\n",
      "e\n",
      "l\n",
      "l\n",
      "o\n"
     ]
    }
   ],
   "source": [
    "for (let char of 'Hello'){\n",
    "    console.log(char)\n",
    "}"
   ]
  },
  {
   "cell_type": "markdown",
   "metadata": {},
   "source": [
    "#### Strings are immutable"
   ]
  },
  {
   "cell_type": "code",
   "execution_count": 9,
   "metadata": {},
   "outputs": [
    {
     "data": {
      "text/plain": [
       "'h'"
      ]
     },
     "execution_count": 9,
     "metadata": {},
     "output_type": "execute_result"
    }
   ],
   "source": [
    "str[0] = 'h';"
   ]
  },
  {
   "cell_type": "code",
   "execution_count": 10,
   "metadata": {},
   "outputs": [
    {
     "data": {
      "text/plain": [
       "'Hello'"
      ]
     },
     "execution_count": 10,
     "metadata": {},
     "output_type": "execute_result"
    }
   ],
   "source": [
    "str"
   ]
  },
  {
   "cell_type": "code",
   "execution_count": 11,
   "metadata": {},
   "outputs": [
    {
     "data": {
      "text/plain": [
       "'H'"
      ]
     },
     "execution_count": 11,
     "metadata": {},
     "output_type": "execute_result"
    }
   ],
   "source": [
    "str[0]"
   ]
  },
  {
   "cell_type": "markdown",
   "metadata": {},
   "source": [
    "####  Changing the case -"
   ]
  },
  {
   "cell_type": "code",
   "execution_count": 12,
   "metadata": {},
   "outputs": [
    {
     "name": "stdout",
     "output_type": "stream",
     "text": [
      "interface\n",
      "INTERFACE\n",
      "i\n"
     ]
    }
   ],
   "source": [
    "console.log('Interface'.toLowerCase());\n",
    "console.log('Interface'.toUpperCase());\n",
    "console.log('Interface'[0].toLowerCase());"
   ]
  },
  {
   "cell_type": "markdown",
   "metadata": {},
   "source": [
    "#### Searching for a substring\n",
    "\n",
    "The first method is `str.indexOf(substr,pos)`. It looks for the `substr` in `str`, starting from the position `pos`, and returns the position where the match was found or `-1` if nothing is found. "
   ]
  },
  {
   "cell_type": "code",
   "execution_count": 14,
   "metadata": {},
   "outputs": [],
   "source": [
    "let string = `Widget with id`;"
   ]
  },
  {
   "cell_type": "code",
   "execution_count": 16,
   "metadata": {},
   "outputs": [
    {
     "name": "stdout",
     "output_type": "stream",
     "text": [
      "0\n",
      "-1\n",
      "1\n"
     ]
    }
   ],
   "source": [
    "console.log(string.indexOf('Widget'));\n",
    "console.log(string.indexOf('Widget',1));\n",
    "console.log(string.indexOf('id',1));     //id in widget, not the third word in string"
   ]
  },
  {
   "cell_type": "markdown",
   "metadata": {},
   "source": [
    "If we're interested in all occurrences, we can run `indexOf` in a loop -"
   ]
  },
  {
   "cell_type": "code",
   "execution_count": 1,
   "metadata": {},
   "outputs": [
    {
     "name": "stdout",
     "output_type": "stream",
     "text": [
      "Found at 0\n",
      "Found at 7\n",
      "Found at 17\n",
      "Found at 27\n"
     ]
    }
   ],
   "source": [
    "let line = 'as sly as a fox, as strong as an ox';\n",
    "let target = 'as';\n",
    "let pos = 0;\n",
    "\n",
    "while(true){\n",
    "    let foundPos = line.indexOf(target, pos);\n",
    "    if (foundPos ==  -1) break;\n",
    "    console.log(`Found at ${foundPos}`);\n",
    "    pos = foundPos +1;}\n"
   ]
  },
  {
   "cell_type": "markdown",
   "metadata": {},
   "source": [
    "Shorter version"
   ]
  },
  {
   "cell_type": "code",
   "execution_count": 3,
   "metadata": {},
   "outputs": [
    {
     "name": "stdout",
     "output_type": "stream",
     "text": [
      "0\n",
      "7\n",
      "17\n",
      "27\n"
     ]
    }
   ],
   "source": [
    "let po = -1;\n",
    "\n",
    "while((po = line.indexOf(target,po+1))!= -1){\n",
    "    console.log(po);\n",
    "}"
   ]
  },
  {
   "cell_type": "markdown",
   "metadata": {},
   "source": [
    "There is a slight incovenience with `indexOf` in the `if` test. We can't put it in the `if` like this -\n",
    "\n",
    "```js\n",
    "let str = 'Widget with id';\n",
    "\n",
    "if (str.indexOf('Widget')){\n",
    "alert(\"We found it\")};\n",
    "```\n",
    "\n",
    "The `alert` above doesn't show because `str,indexOf('Widget')` returns `0` and `if` evaluates it as `false`.  So we should actually check for `-1`, like this - \n",
    "\n",
    "```js\n",
    "let str = 'Widget with id';\n",
    "\n",
    "if (str.indexOf('Widget') != -1){\n",
    "alert(\"We found it\")};\n",
    "```\n"
   ]
  },
  {
   "cell_type": "markdown",
   "metadata": {},
   "source": [
    "#### `str.lastIndexOf(substr, position)`\n",
    "\n",
    "There is also a similar method `str.lastIndexOf(substr, position)` that searches from the end of a string to its beginning. It would list the occurences in the reverse order."
   ]
  },
  {
   "cell_type": "markdown",
   "metadata": {},
   "source": [
    "#### The bitwise `NOT` trick\n",
    "\n",
    "An old trick used is bitwise NOT `~` operator. It converts the number to a 32 bit integer (removes the decimal part if exists) and then reverses all bits in its binary representation.\n",
    "\n",
    "For 32-bit integers the call `~n` means exactly the same as `-(n+1)`. For instance -"
   ]
  },
  {
   "cell_type": "code",
   "execution_count": 4,
   "metadata": {},
   "outputs": [
    {
     "name": "stdout",
     "output_type": "stream",
     "text": [
      "-3\n",
      "-2\n",
      "-1\n",
      "0\n"
     ]
    }
   ],
   "source": [
    "console.log(~2);    //-3, same as -(2+1)\n",
    "console.log(~1);\n",
    "console.log(~0);\n",
    "console.log(~-1);"
   ]
  },
  {
   "cell_type": "markdown",
   "metadata": {},
   "source": [
    "As we can see, `~n` is zero only if `n== -1`. So, the test `if (-str.indexOf(\"...\"))` is truthy that the result of `indexOf` is not -1. In other words, when there is a match. \n",
    "\n",
    "Just remember: `if (~str.indexOf('...'))` reads as 'if found'.\n",
    "\n",
    "#### `includes, startsWith, endsWith`\n",
    "\n",
    "The more modern method `str.includes(substr, pos)` returns boolean depending on whether `str` contain `substr` within. It's the right choice if we need to test for the match, but don't need its position -"
   ]
  },
  {
   "cell_type": "code",
   "execution_count": 5,
   "metadata": {},
   "outputs": [
    {
     "data": {
      "text/plain": [
       "'as sly as a fox, as strong as an ox'"
      ]
     },
     "execution_count": 5,
     "metadata": {},
     "output_type": "execute_result"
    }
   ],
   "source": [
    "line"
   ]
  },
  {
   "cell_type": "code",
   "execution_count": 6,
   "metadata": {},
   "outputs": [
    {
     "data": {
      "text/plain": [
       "true"
      ]
     },
     "execution_count": 6,
     "metadata": {},
     "output_type": "execute_result"
    }
   ],
   "source": [
    "line.includes('as')"
   ]
  },
  {
   "cell_type": "markdown",
   "metadata": {},
   "source": [
    "The optional second argument is the position to start searching from -"
   ]
  },
  {
   "cell_type": "code",
   "execution_count": 7,
   "metadata": {},
   "outputs": [
    {
     "data": {
      "text/plain": [
       "false"
      ]
     },
     "execution_count": 7,
     "metadata": {},
     "output_type": "execute_result"
    }
   ],
   "source": [
    "line.includes('sly',6)"
   ]
  },
  {
   "cell_type": "code",
   "execution_count": 8,
   "metadata": {},
   "outputs": [
    {
     "data": {
      "text/plain": [
       "true"
      ]
     },
     "execution_count": 8,
     "metadata": {},
     "output_type": "execute_result"
    }
   ],
   "source": [
    "line.includes('sly', 3)"
   ]
  },
  {
   "cell_type": "markdown",
   "metadata": {},
   "source": [
    "`startsWith` and `endsWith` methods are intuitive -"
   ]
  },
  {
   "cell_type": "code",
   "execution_count": 9,
   "metadata": {},
   "outputs": [
    {
     "name": "stdout",
     "output_type": "stream",
     "text": [
      "true\n",
      "false\n",
      "true\n"
     ]
    }
   ],
   "source": [
    "console.log('mayank'.startsWith('m'));\n",
    "console.log('mayank'.startsWith('M'));\n",
    "console.log('mayank'.endsWith('k'));\n"
   ]
  },
  {
   "cell_type": "markdown",
   "metadata": {},
   "source": [
    "#### Getting a substring\n",
    "\n",
    "There are 3 methods in JS to get a substring: `substring`, `substr`, `slice`.\n",
    "\n",
    "#### `str.slice(start,[, end])`\n",
    "\n",
    "Returns the part of the string from `start` to (but not including) `end`:"
   ]
  },
  {
   "cell_type": "code",
   "execution_count": 10,
   "metadata": {},
   "outputs": [
    {
     "data": {
      "text/plain": [
       "'stri'"
      ]
     },
     "execution_count": 10,
     "metadata": {},
     "output_type": "execute_result"
    }
   ],
   "source": [
    "let data = 'stringify';\n",
    "data.slice(0,4);"
   ]
  },
  {
   "cell_type": "code",
   "execution_count": 11,
   "metadata": {},
   "outputs": [
    {
     "data": {
      "text/plain": [
       "'stringify'"
      ]
     },
     "execution_count": 11,
     "metadata": {},
     "output_type": "execute_result"
    }
   ],
   "source": [
    "data.slice(0,12); // string lenght is only 9"
   ]
  },
  {
   "cell_type": "code",
   "execution_count": 12,
   "metadata": {},
   "outputs": [
    {
     "data": {
      "text/plain": [
       "''"
      ]
     },
     "execution_count": 12,
     "metadata": {},
     "output_type": "execute_result"
    }
   ],
   "source": [
    "data.slice(11,12) //both start and end are out of range"
   ]
  },
  {
   "cell_type": "code",
   "execution_count": 13,
   "metadata": {},
   "outputs": [
    {
     "data": {
      "text/plain": [
       "'stringify'"
      ]
     },
     "execution_count": 13,
     "metadata": {},
     "output_type": "execute_result"
    }
   ],
   "source": [
    "data.slice(0) //no second argument so intire string from stat is ruterned"
   ]
  },
  {
   "cell_type": "markdown",
   "metadata": {},
   "source": [
    "Negative values of `start/end` are allowed. They mean the position is counted from the end. In this case, -1 is the last position and -2 is the second last position."
   ]
  },
  {
   "cell_type": "code",
   "execution_count": 14,
   "metadata": {},
   "outputs": [
    {
     "data": {
      "text/plain": [
       "'gif'"
      ]
     },
     "execution_count": 14,
     "metadata": {},
     "output_type": "execute_result"
    }
   ],
   "source": [
    "data.slice(-4,-1)"
   ]
  },
  {
   "cell_type": "markdown",
   "metadata": {},
   "source": [
    "#### `str.substring(start, [, end])`\n",
    "\n",
    "Almost same as slice, but it allows `start` to be greater than `end` -"
   ]
  },
  {
   "cell_type": "code",
   "execution_count": 19,
   "metadata": {},
   "outputs": [
    {
     "data": {
      "text/plain": [
       "'stringify'"
      ]
     },
     "execution_count": 19,
     "metadata": {},
     "output_type": "execute_result"
    }
   ],
   "source": [
    "data"
   ]
  },
  {
   "cell_type": "code",
   "execution_count": 20,
   "metadata": {},
   "outputs": [
    {
     "data": {
      "text/plain": [
       "'r'"
      ]
     },
     "execution_count": 20,
     "metadata": {},
     "output_type": "execute_result"
    }
   ],
   "source": [
    "data.substring(3,2)"
   ]
  },
  {
   "cell_type": "code",
   "execution_count": 21,
   "metadata": {},
   "outputs": [
    {
     "data": {
      "text/plain": [
       "'rin'"
      ]
     },
     "execution_count": 21,
     "metadata": {},
     "output_type": "execute_result"
    }
   ],
   "source": [
    "data.substring(5,2) //same as data.substring(2,5)"
   ]
  },
  {
   "cell_type": "code",
   "execution_count": 22,
   "metadata": {},
   "outputs": [
    {
     "data": {
      "text/plain": [
       "''"
      ]
     },
     "execution_count": 22,
     "metadata": {},
     "output_type": "execute_result"
    }
   ],
   "source": [
    "data.slice(5,2) //empty string"
   ]
  },
  {
   "cell_type": "code",
   "execution_count": 23,
   "metadata": {},
   "outputs": [
    {
     "data": {
      "text/plain": [
       "''"
      ]
     },
     "execution_count": 23,
     "metadata": {},
     "output_type": "execute_result"
    }
   ],
   "source": [
    "data.substring(-2,-1) // -ve value means 0"
   ]
  },
  {
   "cell_type": "code",
   "execution_count": 24,
   "metadata": {},
   "outputs": [
    {
     "data": {
      "text/plain": [
       "'f'"
      ]
     },
     "execution_count": 24,
     "metadata": {},
     "output_type": "execute_result"
    }
   ],
   "source": [
    "data.slice(-2,-1)"
   ]
  },
  {
   "cell_type": "markdown",
   "metadata": {},
   "source": [
    "#### `str.substr(start [, length])`\n",
    "\n",
    "Note - This has a minor drawback. This is described in core JS specs but in Appendix. Non browser environments may fail to support it."
   ]
  },
  {
   "cell_type": "code",
   "execution_count": 15,
   "metadata": {},
   "outputs": [
    {
     "data": {
      "text/plain": [
       "'stringify'"
      ]
     },
     "execution_count": 15,
     "metadata": {},
     "output_type": "execute_result"
    }
   ],
   "source": [
    "data"
   ]
  },
  {
   "cell_type": "code",
   "execution_count": 16,
   "metadata": {},
   "outputs": [
    {
     "data": {
      "text/plain": [
       "'st'"
      ]
     },
     "execution_count": 16,
     "metadata": {},
     "output_type": "execute_result"
    }
   ],
   "source": [
    "data.substr(0, 2)"
   ]
  },
  {
   "cell_type": "code",
   "execution_count": 17,
   "metadata": {},
   "outputs": [
    {
     "data": {
      "text/plain": [
       "'stringify'"
      ]
     },
     "execution_count": 17,
     "metadata": {},
     "output_type": "execute_result"
    }
   ],
   "source": [
    "data.substr(0)"
   ]
  },
  {
   "cell_type": "code",
   "execution_count": 18,
   "metadata": {},
   "outputs": [
    {
     "data": {
      "text/plain": [
       "'fy'"
      ]
     },
     "execution_count": 18,
     "metadata": {},
     "output_type": "execute_result"
    }
   ],
   "source": [
    "data.substr(-2) //no length given, so entire string from start returned"
   ]
  },
  {
   "cell_type": "markdown",
   "metadata": {},
   "source": [
    "#### Comparing Strings\n",
    "\n",
    "We know that strings are compared character by character in alphabetical order (Unicode order to be presice). "
   ]
  },
  {
   "cell_type": "code",
   "execution_count": 25,
   "metadata": {},
   "outputs": [
    {
     "data": {
      "text/plain": [
       "true"
      ]
     },
     "execution_count": 25,
     "metadata": {},
     "output_type": "execute_result"
    }
   ],
   "source": [
    "'a' > 'A'"
   ]
  },
  {
   "cell_type": "code",
   "execution_count": 26,
   "metadata": {},
   "outputs": [
    {
     "data": {
      "text/plain": [
       "true"
      ]
     },
     "execution_count": 26,
     "metadata": {},
     "output_type": "execute_result"
    }
   ],
   "source": [
    "'a' > 'Z'"
   ]
  },
  {
   "cell_type": "markdown",
   "metadata": {},
   "source": [
    "This means if we compare accented letters with ASCII letters, ASCII letters will have lower order because ASCII letters have lower Unicode value. \n",
    "\n",
    "#### `str.codePointAt(pos)` -\n",
    "\n",
    "Returns the code for the character at position `pos` -"
   ]
  },
  {
   "cell_type": "code",
   "execution_count": 27,
   "metadata": {},
   "outputs": [
    {
     "name": "stdout",
     "output_type": "stream",
     "text": [
      "90\n",
      "122\n"
     ]
    }
   ],
   "source": [
    "console.log('Z'.codePointAt(0));\n",
    "console.log('z'.codePointAt(0));"
   ]
  },
  {
   "cell_type": "markdown",
   "metadata": {},
   "source": [
    "#### `String.fromCodePoint(code)` \n",
    "\n",
    "Creates a character by its numeric `code` - "
   ]
  },
  {
   "cell_type": "code",
   "execution_count": 28,
   "metadata": {},
   "outputs": [
    {
     "name": "stdout",
     "output_type": "stream",
     "text": [
      "Z\n",
      "z\n",
      "Ü\n",
      "Ĭ\n"
     ]
    }
   ],
   "source": [
    "console.log(String.fromCodePoint(90));\n",
    "console.log(String.fromCodePoint(122));\n",
    "console.log(String.fromCodePoint(220));\n",
    "console.log(String.fromCodePoint(300));"
   ]
  },
  {
   "cell_type": "markdown",
   "metadata": {},
   "source": [
    "We can also add unicode characters by their codes using `\\u` followed by hex code - \n"
   ]
  },
  {
   "cell_type": "code",
   "execution_count": 29,
   "metadata": {},
   "outputs": [
    {
     "data": {
      "text/plain": [
       "'Z'"
      ]
     },
     "execution_count": 29,
     "metadata": {},
     "output_type": "execute_result"
    }
   ],
   "source": [
    "('\\u005a') // 005a in hex is 90 in decimal"
   ]
  },
  {
   "cell_type": "code",
   "execution_count": 31,
   "metadata": {},
   "outputs": [
    {
     "data": {
      "text/plain": [
       "'ABCDEFGHIJKLMNOPQRSTUVWXYZ[\\\\]^_`abcdefghijklmnopqrstuvwxyz{|}~",
       " ¡¢£¤¥¦§¨©ª«¬­®¯°±²³´µ¶·¸¹º»¼½¾¿ÀÁÂÃÄÅÆÇÈÉÊËÌÍÎÏÐÑÒÓÔÕÖ×ØÙÚÛÜ'"
      ]
     },
     "execution_count": 31,
     "metadata": {},
     "output_type": "execute_result"
    }
   ],
   "source": [
    "let aa = '';\n",
    "\n",
    "for (let i = 65; i <= 220; i++){\n",
    "    aa += String.fromCodePoint(i);\n",
    "}\n",
    "aa"
   ]
  },
  {
   "cell_type": "markdown",
   "metadata": {},
   "source": [
    "We can see capital characters go first, then a few special ones, then lowercase characters. This explains why `'a' > 'A'`"
   ]
  },
  {
   "cell_type": "markdown",
   "metadata": {},
   "source": [
    "#### Correct comparisons\n",
    "\n",
    "to be done>"
   ]
  },
  {
   "cell_type": "code",
   "execution_count": null,
   "metadata": {
    "collapsed": true
   },
   "outputs": [],
   "source": []
  }
 ],
 "metadata": {
  "kernelspec": {
   "display_name": "Javascript (Node.js)",
   "language": "javascript",
   "name": "javascript"
  },
  "language_info": {
   "file_extension": ".js",
   "mimetype": "application/javascript",
   "name": "javascript",
   "version": "8.11.2"
  }
 },
 "nbformat": 4,
 "nbformat_minor": 2
}
