{
 "cells": [
  {
   "cell_type": "markdown",
   "metadata": {},
   "source": [
    "#### Object.keys, values, entries\n",
    "\n",
    "In the previous chapter we saw methods `map.keys()`, `map.values()`, and `map.entries()`. These methods are generic, there is a common agreement to use them for data structures. If we ever create a data structure of our own, we should implement them too.\n",
    "\n",
    "They are supported for:\n",
    " - `Map`\n",
    " - `Set`\n",
    " - `Array` (except `arr.values()`)\n",
    " \n",
    "Plain objects also support similar methods, but the syntax is a bit different. For plain objects, following methods are available -\n",
    "\n",
    " - `Object.keys(obj)` - return an array of keys\n",
    " - `Object.values(obj)` - returns an array of values\n",
    " - `Object.entries(obj)` - returns an array of `[key, value]` pairs.\n",
    " \n",
    "Please note the distinctions (compared to map for example):\n",
    "\n",
    "||Map|Object|\n",
    "|--|----|-----|\n",
    "|Call|`map.keys()`|`Object.keys(obj)`, but not `obj.keys()`|\n",
    "|Returns|iterable|'real' array|"
   ]
  },
  {
   "cell_type": "markdown",
   "metadata": {},
   "source": [
    "The first difference is that we have to call `Object.keys(obj)` and not `obj.keys()`. The main reason is flexibility. Remember, objects are a base of all complex structures in JS. So we may have an object of our own like `order` that implements its own `order.values()` method. And we can still call `Object.values(order)` on it. "
   ]
  },
  {
   "cell_type": "code",
   "execution_count": 2,
   "metadata": {},
   "outputs": [
    {
     "name": "stdout",
     "output_type": "stream",
     "text": [
      "name\n",
      "age\n"
     ]
    }
   ],
   "source": [
    "let member = {name: 'John', age: 30};\n",
    "for (let a of Object.keys(member)){\n",
    "     console.log(a)\n",
    "     }"
   ]
  },
  {
   "cell_type": "markdown",
   "metadata": {},
   "source": [
    "#### `Object.keys/values/entries` ignore symbolic properties\n",
    "\n",
    "Just like a `for ... in` loop, these methods ignore properties that use `Symbol(...)` as keys. Usually that is convenient but if we really want them too, we can use a separate method `Object.getOwnPropetySymbols` that retuns an array of only symbolic keys. Also the method `Reflect.ownKeys(obj)` retuns *all* keys."
   ]
  },
  {
   "cell_type": "markdown",
   "metadata": {},
   "source": [
    "### Destructuring assignment\n",
    "\n",
    "*Destructuring assignment* is a special syntax that allows us to 'unpack' arrays or objects into a bunch of variables, as sometimes they are more convenient.\n",
    "\n",
    "#### Array destructuring"
   ]
  },
  {
   "cell_type": "code",
   "execution_count": 3,
   "metadata": {},
   "outputs": [
    {
     "name": "stdout",
     "output_type": "stream",
     "text": [
      "Mayank\n",
      "Sammer\n"
     ]
    }
   ],
   "source": [
    "let arr = ['Mayank', 'Sammer'];\n",
    "let [user1, user2] = arr;\n",
    "console.log(user1);\n",
    "console.log(user2);"
   ]
  },
  {
   "cell_type": "markdown",
   "metadata": {},
   "source": [
    "Now we can work with variables instead of array members. It looks great when combined with `split` or other array-returning methods - "
   ]
  },
  {
   "cell_type": "code",
   "execution_count": 4,
   "metadata": {},
   "outputs": [
    {
     "name": "stdout",
     "output_type": "stream",
     "text": [
      "Sam\n",
      "Mac\n"
     ]
    }
   ],
   "source": [
    "let [a1, a2] = \"Sam Mac\".split(' ');\n",
    "console.log(a1);\n",
    "console.log(a2);"
   ]
  },
  {
   "cell_type": "markdown",
   "metadata": {},
   "source": [
    "What we descibed is just a shorter way to write - \n",
    "\n",
    "```js\n",
    "let a1 = arr[0];\n",
    "let a2 = arr[1];\n",
    "```"
   ]
  },
  {
   "cell_type": "markdown",
   "metadata": {},
   "source": [
    "#### Ignore first elements\n",
    "\n"
   ]
  },
  {
   "cell_type": "code",
   "execution_count": 5,
   "metadata": {},
   "outputs": [
    {
     "name": "stdout",
     "output_type": "stream",
     "text": [
      "Pete\n"
     ]
    }
   ],
   "source": [
    "let [, , name] = ['Sam', 'Mac', 'Pete', 'John'];\n",
    "console.log(name)"
   ]
  },
  {
   "cell_type": "code",
   "execution_count": 9,
   "metadata": {},
   "outputs": [
    {
     "name": "stdout",
     "output_type": "stream",
     "text": [
      "John\n"
     ]
    }
   ],
   "source": [
    "let [, , ,admin] = ['Sam', 'Mac', 'Pete', 'John'];\n",
    "console.log(admin)"
   ]
  },
  {
   "cell_type": "markdown",
   "metadata": {},
   "source": [
    "Actually we can use it with any iterable, not only arrays - "
   ]
  },
  {
   "cell_type": "code",
   "execution_count": 10,
   "metadata": {},
   "outputs": [
    {
     "name": "stdout",
     "output_type": "stream",
     "text": [
      "b\n"
     ]
    }
   ],
   "source": [
    "let [a, b, c] = 'abc';\n",
    "console.log(b)"
   ]
  },
  {
   "cell_type": "markdown",
   "metadata": {},
   "source": [
    "We can use any 'assignables' at the left side"
   ]
  },
  {
   "cell_type": "code",
   "execution_count": 12,
   "metadata": {},
   "outputs": [
    {
     "data": {
      "text/plain": [
       "'John'"
      ]
     },
     "execution_count": 12,
     "metadata": {},
     "output_type": "execute_result"
    }
   ],
   "source": [
    "let user = {};\n",
    "[user.name, user.surname] = 'John Nash'.split(' ');\n",
    "user.name\n"
   ]
  },
  {
   "cell_type": "markdown",
   "metadata": {},
   "source": [
    "We can use it with destructuring to loop over keys-and-values of an object:\n"
   ]
  },
  {
   "cell_type": "code",
   "execution_count": 13,
   "metadata": {},
   "outputs": [
    {
     "data": {
      "text/plain": [
       "{ name: 'John', surname: 'Nash' }"
      ]
     },
     "execution_count": 13,
     "metadata": {},
     "output_type": "execute_result"
    }
   ],
   "source": [
    "user"
   ]
  },
  {
   "cell_type": "code",
   "execution_count": 14,
   "metadata": {},
   "outputs": [
    {
     "name": "stdout",
     "output_type": "stream",
     "text": [
      "name:John\n",
      "surname:Nash\n"
     ]
    }
   ],
   "source": [
    "for (let [key, value] of Object.entries(user)){\n",
    "    console.log(`${key}:${value}`)\n",
    "}"
   ]
  },
  {
   "cell_type": "markdown",
   "metadata": {},
   "source": [
    "Also for map"
   ]
  },
  {
   "cell_type": "code",
   "execution_count": 17,
   "metadata": {},
   "outputs": [
    {
     "name": "stdout",
     "output_type": "stream",
     "text": [
      "name:John\n",
      "age:30\n"
     ]
    }
   ],
   "source": [
    "let map = new Map();\n",
    "map.set(\"name\", \"John\");\n",
    "map.set('age', 30);\n",
    "\n",
    "for (let [key, value] of map.entries()){\n",
    "    console.log(`${key}:${value}`)\n",
    "}"
   ]
  },
  {
   "cell_type": "markdown",
   "metadata": {},
   "source": [
    "#### The rest '...'\n",
    "\n",
    "If we want not just to get first values, but also to gather all that follows - we can add one more parameter that gets 'the rest' using three dots like this -"
   ]
  },
  {
   "cell_type": "code",
   "execution_count": 1,
   "metadata": {},
   "outputs": [
    {
     "name": "stdout",
     "output_type": "stream",
     "text": [
      "beta\n",
      "gamma\n",
      "2\n"
     ]
    }
   ],
   "source": [
    "let [user_1, user_2, ...rest] = ['alpha','beta', 'gamma', 'lambda'];\n",
    "console.log(user_2);\n",
    "console.log(rest[0]);   //we can use any other name instead of rest. three dots preceeding it are important\n",
    "console.log(rest.length);  //rest is an array"
   ]
  },
  {
   "cell_type": "markdown",
   "metadata": {},
   "source": [
    "#### Default Values\n",
    "\n",
    "If there are fewer values in the array than variables in the assignment, there will be no error. Absent values ae considered undefined."
   ]
  },
  {
   "cell_type": "code",
   "execution_count": 3,
   "metadata": {},
   "outputs": [
    {
     "name": "stdout",
     "output_type": "stream",
     "text": [
      "undefined\n"
     ]
    }
   ],
   "source": [
    "let [mem1, mem2] = [];\n",
    "console.log(mem1)"
   ]
  },
  {
   "cell_type": "markdown",
   "metadata": {},
   "source": [
    "But we can provide default values -"
   ]
  },
  {
   "cell_type": "code",
   "execution_count": 4,
   "metadata": {},
   "outputs": [
    {
     "name": "stdout",
     "output_type": "stream",
     "text": [
      "Mac\n",
      "Anonymous\n"
     ]
    }
   ],
   "source": [
    "let [mem_1 = 'Guest', mem_2 = 'Anonymous'] = ['Mac'];\n",
    "console.log(mem_1);\n",
    "console.log(mem_2);"
   ]
  },
  {
   "cell_type": "markdown",
   "metadata": {},
   "source": [
    "Default values can be more complex expressions or even function calls. They are evaluated only if the value is not provided. \n",
    "\n",
    "Run this in browser - \n",
    "\n",
    "```js\n",
    "[name = prompt('name?'), surname = prompt('surname?')] = ['mayank'];\n",
    "alert(name); //mayank\n",
    "alert(surname); //whatever prompt gets\n",
    "```"
   ]
  },
  {
   "cell_type": "markdown",
   "metadata": {},
   "source": [
    "#### Object destructuring\n",
    "\n",
    "```js\n",
    "let {var1, var2} = {var1:..., var2:...}\n",
    "```"
   ]
  },
  {
   "cell_type": "code",
   "execution_count": 1,
   "metadata": {},
   "outputs": [
    {
     "name": "stdout",
     "output_type": "stream",
     "text": [
      "100\n",
      "Menu\n",
      "150\n"
     ]
    }
   ],
   "source": [
    "let option = {title: 'Menu', width : 100, height : 150};\n",
    "let {width, title, height} = option;\n",
    "\n",
    "console.log(width);\n",
    "console.log(title);\n",
    "console.log(height);\n"
   ]
  },
  {
   "cell_type": "markdown",
   "metadata": {},
   "source": [
    "Note the order above. Order doesn't matter. Properties `option.width`, `option.height` and `option.title` are assigned to corresponding variables."
   ]
  },
  {
   "cell_type": "code",
   "execution_count": 2,
   "metadata": {},
   "outputs": [
    {
     "name": "stdout",
     "output_type": "stream",
     "text": [
      "undefined\n"
     ]
    }
   ],
   "source": [
    "let {foo, bar, baz} = option;\n",
    "console.log(foo);"
   ]
  },
  {
   "cell_type": "markdown",
   "metadata": {},
   "source": [
    "There is no such property as `option.foo` so variable foo is assigned with `undefined`\n",
    "\n",
    "We can provide shorthand to variable in left hand side like this -"
   ]
  },
  {
   "cell_type": "code",
   "execution_count": 5,
   "metadata": {},
   "outputs": [
    {
     "name": "stdout",
     "output_type": "stream",
     "text": [
      "30\n"
     ]
    }
   ],
   "source": [
    "let details = {name: 'John', age: 30};\n",
    "let {name: n, age: a} = details;\n",
    "console.log(a)"
   ]
  },
  {
   "cell_type": "markdown",
   "metadata": {},
   "source": [
    "Default can also be provided for potentially missing properties - "
   ]
  },
  {
   "cell_type": "code",
   "execution_count": 7,
   "metadata": {},
   "outputs": [
    {
     "name": "stdout",
     "output_type": "stream",
     "text": [
      "2\n",
      "2\n"
     ]
    }
   ],
   "source": [
    "let order = {pizza: 2};\n",
    "let {burger =2, pizza} = order;\n",
    "console.log(pizza);\n",
    "console.log(burger);"
   ]
  },
  {
   "cell_type": "markdown",
   "metadata": {},
   "source": [
    "Just like with arrays or function parameters, default values can be any expressions or even function calls. They will be evaluated if the value is not provided.\n",
    "\n",
    "```js\n",
    "//run this in browser\n",
    "let options = {title: 'Menu'};\n",
    "let {width = prompt('width?'), title = prompt('title?')} = options;\n",
    "\n",
    "alert(title); //Menu\n",
    "alert(width); //value provided at prompt\n",
    "```"
   ]
  },
  {
   "cell_type": "markdown",
   "metadata": {},
   "source": [
    "#### The rest operator\n",
    "\n",
    "Note - Browser support is sketchy."
   ]
  },
  {
   "cell_type": "code",
   "execution_count": 10,
   "metadata": {},
   "outputs": [
    {
     "name": "stdout",
     "output_type": "stream",
     "text": [
      "100\n"
     ]
    }
   ],
   "source": [
    "let options = {color: 'Blue', size: 100, qty: 150};\n",
    "\n",
    "let {color, ...rest} = options;\n",
    "\n",
    "console.log(rest.size);\n"
   ]
  },
  {
   "cell_type": "markdown",
   "metadata": {},
   "source": [
    "#### Gotcha without `let` (this section is a bit unclear)\n",
    "\n",
    "Following will not work."
   ]
  },
  {
   "cell_type": "code",
   "execution_count": 1,
   "metadata": {},
   "outputs": [
    {
     "ename": "SyntaxError",
     "evalue": "Unexpected token =",
     "output_type": "error",
     "traceback": [
      "evalmachine.<anonymous>:3",
      "{foo} = bar;",
      "      ^",
      "",
      "SyntaxError: Unexpected token =",
      "    at createScript (vm.js:80:10)",
      "    at Object.runInThisContext (vm.js:139:10)",
      "    at run ([eval]:1002:15)",
      "    at onRunRequest ([eval]:829:18)",
      "    at onMessage ([eval]:789:13)",
      "    at emitTwo (events.js:126:13)",
      "    at process.emit (events.js:214:7)",
      "    at emit (internal/child_process.js:772:12)",
      "    at _combinedTickCallback (internal/process/next_tick.js:141:11)",
      "    at process._tickCallback (internal/process/next_tick.js:180:9)"
     ]
    }
   ],
   "source": [
    "let foo;\n",
    "let bar = {age: 30};\n",
    "{foo} = bar;"
   ]
  },
  {
   "cell_type": "markdown",
   "metadata": {},
   "source": [
    "This will work -"
   ]
  },
  {
   "cell_type": "code",
   "execution_count": 15,
   "metadata": {},
   "outputs": [
    {
     "name": "stdout",
     "output_type": "stream",
     "text": [
      "menu\n"
     ]
    }
   ],
   "source": [
    "let title, width, height;\n",
    "\n",
    "({title, width, height}={title:'menu', width:12, height:13});\n",
    "console.log(title);\n",
    "    "
   ]
  },
  {
   "cell_type": "markdown",
   "metadata": {},
   "source": [
    "#### Nested destructuring\n",
    "\n",
    "If an object or an array contain other objects and arrays, we can use more complex left-side patterns to extract deeper portions -"
   ]
  },
  {
   "cell_type": "code",
   "execution_count": 1,
   "metadata": {},
   "outputs": [
    {
     "name": "stdout",
     "output_type": "stream",
     "text": [
      "menu\n",
      "11\n",
      "cake\n"
     ]
    },
    {
     "ename": "ReferenceError",
     "evalue": "extra is not defined",
     "output_type": "error",
     "traceback": [
      "evalmachine.<anonymous>:15",
      "console.log(extra);",
      "            ^",
      "",
      "ReferenceError: extra is not defined",
      "    at evalmachine.<anonymous>:15:13",
      "    at ContextifyScript.Script.runInThisContext (vm.js:50:33)",
      "    at Object.runInThisContext (vm.js:139:38)",
      "    at run ([eval]:1002:15)",
      "    at onRunRequest ([eval]:829:18)",
      "    at onMessage ([eval]:789:13)",
      "    at emitTwo (events.js:126:13)",
      "    at process.emit (events.js:214:7)",
      "    at emit (internal/child_process.js:772:12)",
      "    at _combinedTickCallback (internal/process/next_tick.js:141:11)"
     ]
    }
   ],
   "source": [
    "let options ={\n",
    "    size: {\n",
    "        width:11, height:12},\n",
    "    items: ['cake', 'Donut'],\n",
    "    extra: true\n",
    "};\n",
    "\n",
    "let{size:{width, height},\n",
    "   items:[item1, item2],\n",
    "   title = 'menu'} = options;\n",
    "\n",
    "console.log(title);\n",
    "console.log(width);\n",
    "console.log(item1);\n",
    "console.log(extra);"
   ]
  },
  {
   "cell_type": "markdown",
   "metadata": {},
   "source": [
    "#### Smart function parameters\n",
    "\n",
    "There are times when a function may have many parameters, most of which are optional. Here's a bad way to write such function - \n",
    "\n",
    "```js\n",
    "function showMenu(title='untitled', width =20, height=15, items=[]){\n",
    "//..\n",
    "}\n",
    "```\n",
    "In real life, we'd have hard time remembering the order of parameters. Also, is difficult to call such functions - \n",
    "```js\n",
    "showMenu('My Menu', undefined, undefined, ['item1', 'item2']);\n",
    "```\n",
    "\n",
    "We can use destructing to ease up things -"
   ]
  },
  {
   "cell_type": "code",
   "execution_count": 4,
   "metadata": {},
   "outputs": [
    {
     "name": "stdout",
     "output_type": "stream",
     "text": [
      "Menu 200 100\n",
      "Burger,Donut\n"
     ]
    }
   ],
   "source": [
    "//we pass object to function\n",
    "let choices = {title: 'Menu', items: ['Burger', 'Donut']};\n",
    "\n",
    "//..and it immediately expands it\n",
    "\n",
    "function showMenu({title = 'Untitled', width=200, height=100, items = ['item1', 'items2']}){\n",
    "    //title, items ->taken from option\n",
    "    //width, height -> taken from default values\n",
    "    console.log(`${title} ${width} ${height}`);\n",
    "    console.log(`${items}`)\n",
    "}\n",
    "\n",
    "showMenu(choices);"
   ]
  },
  {
   "cell_type": "markdown",
   "metadata": {},
   "source": [
    "Note that sometimes we want to use all the default values, in that case we can't do this -"
   ]
  },
  {
   "cell_type": "code",
   "execution_count": 7,
   "metadata": {},
   "outputs": [
    {
     "ename": "TypeError",
     "evalue": "Cannot destructure property `title` of 'undefined' or 'null'.",
     "output_type": "error",
     "traceback": [
      "evalmachine.<anonymous>:6",
      "function showMenu({title = 'Untitled', width=200, height=100, items = ['item1', 'items2']}){",
      "                   ^",
      "",
      "TypeError: Cannot destructure property `title` of 'undefined' or 'null'.",
      "    at showMenu (evalmachine.<anonymous>:6:18)",
      "    at evalmachine.<anonymous>:1:1",
      "    at ContextifyScript.Script.runInThisContext (vm.js:50:33)",
      "    at Object.runInThisContext (vm.js:139:38)",
      "    at run ([eval]:1002:15)",
      "    at onRunRequest ([eval]:829:18)",
      "    at onMessage ([eval]:789:13)",
      "    at emitTwo (events.js:126:13)",
      "    at process.emit (events.js:214:7)",
      "    at emit (internal/child_process.js:772:12)"
     ]
    }
   ],
   "source": [
    "showMenu();"
   ]
  },
  {
   "cell_type": "markdown",
   "metadata": {},
   "source": [
    "Instead we should call `showMenu()` with `{}` as an argument -"
   ]
  },
  {
   "cell_type": "code",
   "execution_count": 8,
   "metadata": {
    "scrolled": true
   },
   "outputs": [
    {
     "name": "stdout",
     "output_type": "stream",
     "text": [
      "Untitled 200 100\n",
      "item1,items2\n"
     ]
    }
   ],
   "source": [
    "showMenu({});"
   ]
  },
  {
   "cell_type": "markdown",
   "metadata": {},
   "source": [
    "Or we can re-write function like this - "
   ]
  },
  {
   "cell_type": "code",
   "execution_count": 9,
   "metadata": {},
   "outputs": [
    {
     "name": "stdout",
     "output_type": "stream",
     "text": [
      "Untitled 200 100\n",
      "item1,items2\n"
     ]
    }
   ],
   "source": [
    "function showMenu({title = 'Untitled', width=200, height=100, items = ['item1', 'items2']}= {}){   //note `={}` part\n",
    "    //title, items ->taken from option\n",
    "    //width, height -> taken from default values\n",
    "    console.log(`${title} ${width} ${height}`);\n",
    "    console.log(`${items}`)\n",
    "}\n",
    "\n",
    "showMenu();"
   ]
  },
  {
   "cell_type": "code",
   "execution_count": null,
   "metadata": {
    "collapsed": true
   },
   "outputs": [],
   "source": []
  }
 ],
 "metadata": {
  "kernelspec": {
   "display_name": "Javascript (Node.js)",
   "language": "javascript",
   "name": "javascript"
  },
  "language_info": {
   "file_extension": ".js",
   "mimetype": "application/javascript",
   "name": "javascript",
   "version": "8.11.2"
  }
 },
 "nbformat": 4,
 "nbformat_minor": 2
}
