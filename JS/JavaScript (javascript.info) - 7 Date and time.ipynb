{
 "cells": [
  {
   "cell_type": "markdown",
   "metadata": {},
   "source": [
    "### Date and Time\n",
    "\n",
    "A new built-in object: `Date`. It stores the date, time and provides methods for date/time management. \n",
    "\n",
    "#### Creation\n",
    "\n",
    "To create a new `Date` object call `new Date()` with one of the following arguments - \n",
    "\n",
    " - `new Date()` -No arguments. Create a `Date` object for the current date and time. "
   ]
  },
  {
   "cell_type": "code",
   "execution_count": 1,
   "metadata": {},
   "outputs": [
    {
     "data": {
      "text/plain": [
       "2019-03-06T11:15:51.582Z"
      ]
     },
     "execution_count": 1,
     "metadata": {},
     "output_type": "execute_result"
    }
   ],
   "source": [
    "let now = new Date()\n",
    "now"
   ]
  },
  {
   "cell_type": "markdown",
   "metadata": {},
   "source": [
    " - `new Date(milliseconds)` - creates a object with the time equal to number of milliseconds passed after the Jan 1st 1970 UTC+0"
   ]
  },
  {
   "cell_type": "code",
   "execution_count": 2,
   "metadata": {},
   "outputs": [
    {
     "name": "stdout",
     "output_type": "stream",
     "text": [
      "1970-01-01T00:00:00.000Z\n",
      "1970-01-02T00:00:00.000Z\n"
     ]
    }
   ],
   "source": [
    "let jan01_1970 = new Date(0);\n",
    "let jan02_1970 = new Date(24*3600*1000);\n",
    "console.log(jan01_1970);\n",
    "console.log(jan02_1970);"
   ]
  },
  {
   "cell_type": "markdown",
   "metadata": {},
   "source": [
    "The number of milliseconds that had passed since the beginning of 1970 is called a *timestamp*.\n",
    "\n",
    "We can always create a date from a timestamp using `new Date(timestamp)` and convert the existing `Date` object to timestamp using the `date.getTime()` method."
   ]
  },
  {
   "cell_type": "markdown",
   "metadata": {},
   "source": [
    " - `new Date(datestring)` - If there is a single argument, and it's a string, then it is parsed with the `Date.parse` algorithm."
   ]
  },
  {
   "cell_type": "code",
   "execution_count": 5,
   "metadata": {},
   "outputs": [
    {
     "data": {
      "text/plain": [
       "2017-01-26T00:00:00.000Z"
      ]
     },
     "execution_count": 5,
     "metadata": {},
     "output_type": "execute_result"
    }
   ],
   "source": [
    "let some_date= new Date('2017-01-26');\n",
    "some_date\n",
    "//the time portion of date is assumed to be midnight GMT and is adjusted according to the timezone the code is run in\n",
    "//so the result could be Thu Jan 26 2017 11:00:00 GMT+1100 or something like that"
   ]
  },
  {
   "cell_type": "markdown",
   "metadata": {},
   "source": [
    " - `new Date(year, month, date, hours, minutes, seconds, ms)`\n",
    " \n",
    "Create the date with given components in the local timezone. Only two first arguments ae obligatory. \n",
    "\n",
    "Note - \n",
    "\n",
    " - The `year` must have 4 digits: 2013 is ok, 98 is not.\n",
    " - The `month` count starts with 0 (Jan) up to 11(Dec). \n",
    " - The `date` parameter is actually the day of month, if absent then `1` is assumed. \n",
    " - If `hours/minutes/seconds/ms` is absent, they are assumed to be equal to `0`.\n",
    " \n"
   ]
  },
  {
   "cell_type": "code",
   "execution_count": 1,
   "metadata": {},
   "outputs": [
    {
     "data": {
      "text/plain": [
       "2010-12-31T18:30:00.000Z"
      ]
     },
     "execution_count": 1,
     "metadata": {},
     "output_type": "execute_result"
    }
   ],
   "source": [
    "new Date(2011,0,1,0,0,0,0);"
   ]
  },
  {
   "cell_type": "code",
   "execution_count": 2,
   "metadata": {},
   "outputs": [
    {
     "data": {
      "text/plain": [
       "2010-12-31T18:30:00.000Z"
      ]
     },
     "execution_count": 2,
     "metadata": {},
     "output_type": "execute_result"
    }
   ],
   "source": [
    "new Date(2011,0,1) //same as above"
   ]
  },
  {
   "cell_type": "markdown",
   "metadata": {},
   "source": [
    "The minimal precision is 1 ms."
   ]
  },
  {
   "cell_type": "code",
   "execution_count": 3,
   "metadata": {},
   "outputs": [
    {
     "data": {
      "text/plain": [
       "2010-12-31T20:33:04.567Z"
      ]
     },
     "execution_count": 3,
     "metadata": {},
     "output_type": "execute_result"
    }
   ],
   "source": [
    "let date = new Date(2011,0,1,2,3,4,567)\n",
    "date"
   ]
  },
  {
   "cell_type": "markdown",
   "metadata": {},
   "source": [
    "#### Access date components\n",
    "\n",
    "There are many methods to access the year, month and so on from the `Date` object. But they can be easily remembered when categorized. \n",
    "\n",
    " - `getFullYear()` - get the year (4 digits). In old codes, you may find `getYear()` which may returns 2 digits year. \n",
    " - `getMonth()` - Get the month, from 0 to 11\n",
    " - `getDate()` - Get the day of month, from 1 to 31.\n",
    " - `getHours()`, `getMinutes()`, `getSeconds()`, `getMilliseconds()` \n",
    " - `getDay()` - get the day of week, from 0 (Sunday) to 6 (Saturday)\n",
    " \n",
    "All the above methods return the components relative to local time zone. \n",
    "\n",
    "There are also their UTC-counterparts, that return components for the time zone UTC+0: \n",
    "\n",
    "`getUTCFullYear()`, `getUTCMonth()`, `getUTCDay()` etc."
   ]
  },
  {
   "cell_type": "code",
   "execution_count": 4,
   "metadata": {},
   "outputs": [
    {
     "data": {
      "text/plain": [
       "2010-12-31T20:33:04.567Z"
      ]
     },
     "execution_count": 4,
     "metadata": {},
     "output_type": "execute_result"
    }
   ],
   "source": [
    "date"
   ]
  },
  {
   "cell_type": "code",
   "execution_count": 5,
   "metadata": {},
   "outputs": [
    {
     "data": {
      "text/plain": [
       "2"
      ]
     },
     "execution_count": 5,
     "metadata": {},
     "output_type": "execute_result"
    }
   ],
   "source": [
    "date.getHours()"
   ]
  },
  {
   "cell_type": "code",
   "execution_count": 7,
   "metadata": {},
   "outputs": [
    {
     "data": {
      "text/plain": [
       "2011"
      ]
     },
     "execution_count": 7,
     "metadata": {},
     "output_type": "execute_result"
    }
   ],
   "source": [
    "date.getFullYear()"
   ]
  },
  {
   "cell_type": "markdown",
   "metadata": {},
   "source": [
    "Besides the given methods, there are two special ones that do not have a UTC-variant - \n",
    "\n",
    " - `getTime()` - returns the timestamp for the date - a number of milliseconds passed from the Jan 1, 1970 UTC+0\n",
    " - `getTimezoneOffset()` - returns the differences between local t.z. and UTC, in minutes."
   ]
  },
  {
   "cell_type": "code",
   "execution_count": 8,
   "metadata": {},
   "outputs": [
    {
     "data": {
      "text/plain": [
       "-330"
      ]
     },
     "execution_count": 8,
     "metadata": {},
     "output_type": "execute_result"
    }
   ],
   "source": [
    "new Date().getTimezoneOffset();"
   ]
  },
  {
   "cell_type": "markdown",
   "metadata": {},
   "source": [
    "#### Setting date components\n",
    "\n",
    "The following methods allow to set date/time components:\n",
    "\n",
    " - `setFullYear(year, [, month, date])`\n",
    " - `setMonth(month, [, date])`\n",
    " - `setDate(date)`\n",
    " - `setHours(hour [, min, sec, ms])`\n",
    " - `setMinutes(min [, sec, ms])`\n",
    " - `setSeconds(sec, [, ms])`\n",
    " - `setMilliseconds(ms)`\n",
    " - `setTime(milliseconds)`\n",
    " \n",
    "Everyone of them, except `setTime()`, has a UTC-variant. For instance: `setUTCHourse()`. "
   ]
  },
  {
   "cell_type": "code",
   "execution_count": 9,
   "metadata": {},
   "outputs": [
    {
     "name": "stdout",
     "output_type": "stream",
     "text": [
      "2019-03-06T19:26:36.552Z\n"
     ]
    }
   ],
   "source": [
    "let today = new Date();\n",
    "today.setHours(0);\n",
    "console.log(today) //stil today, but hour set to 0\n"
   ]
  },
  {
   "cell_type": "markdown",
   "metadata": {},
   "source": [
    "#### Autocorrection\n",
    "\n",
    "A handy feature of `Date` objects. We can set out-of-range values, and it will auto-adjust itself."
   ]
  },
  {
   "cell_type": "code",
   "execution_count": 10,
   "metadata": {},
   "outputs": [
    {
     "data": {
      "text/plain": [
       "2013-01-31T18:30:00.000Z"
      ]
     },
     "execution_count": 10,
     "metadata": {},
     "output_type": "execute_result"
    }
   ],
   "source": [
    "let some_date = new Date(2013, 0, 32);\n",
    "some_date"
   ]
  },
  {
   "cell_type": "markdown",
   "metadata": {},
   "source": [
    "Out-of-range date components are distributed automatically. \n",
    "\n",
    "Let's say we need to increase the date '28 Feb 2016' by 2 days. We don't need to worry about leap year. Just add 2 days and everything else will be taken care of. "
   ]
  },
  {
   "cell_type": "code",
   "execution_count": 11,
   "metadata": {},
   "outputs": [
    {
     "data": {
      "text/plain": [
       "2016-02-29T18:30:00.000Z"
      ]
     },
     "execution_count": 11,
     "metadata": {},
     "output_type": "execute_result"
    }
   ],
   "source": [
    "let dt = new Date(2016, 1, 28);\n",
    "dt.setDate(dt.getDate()+2);\n",
    "dt"
   ]
  },
  {
   "cell_type": "markdown",
   "metadata": {},
   "source": [
    "That feature is often used to get the date after the given period of time. \n",
    "\n",
    "We can also set zero or even negative values. For example: \n"
   ]
  },
  {
   "cell_type": "code",
   "execution_count": 12,
   "metadata": {},
   "outputs": [
    {
     "data": {
      "text/plain": [
       "2015-12-31T18:30:00.000Z"
      ]
     },
     "execution_count": 12,
     "metadata": {},
     "output_type": "execute_result"
    }
   ],
   "source": [
    "let old_date = new Date(2016,0,2);\n",
    "old_date.setDate(1);\n",
    "old_date"
   ]
  },
  {
   "cell_type": "code",
   "execution_count": 13,
   "metadata": {},
   "outputs": [
    {
     "data": {
      "text/plain": [
       "2015-12-30T18:30:00.000Z"
      ]
     },
     "execution_count": 13,
     "metadata": {},
     "output_type": "execute_result"
    }
   ],
   "source": [
    "old_date.setDate(0);\n",
    "old_date"
   ]
  },
  {
   "cell_type": "markdown",
   "metadata": {},
   "source": [
    "#### Date to number, date diff\n",
    "\n",
    "When a `Date` object is converted to number, it becomes the timestamp same as `date.getTime()`."
   ]
  },
  {
   "cell_type": "code",
   "execution_count": 14,
   "metadata": {},
   "outputs": [
    {
     "name": "stdout",
     "output_type": "stream",
     "text": [
      "1551961078847\n"
     ]
    }
   ],
   "source": [
    "let a_date = new Date();\n",
    "console.log(+a_date);"
   ]
  },
  {
   "cell_type": "markdown",
   "metadata": {},
   "source": [
    "The important side effect: dates can be subtracted, the result is their difference in ms. That can be used for time measurements:"
   ]
  },
  {
   "cell_type": "code",
   "execution_count": 15,
   "metadata": {},
   "outputs": [
    {
     "name": "stdout",
     "output_type": "stream",
     "text": [
      "The loop toop 62 ms\n"
     ]
    }
   ],
   "source": [
    "let start = new Date();\n",
    "\n",
    "for (let i = 0; i < 100000; i++){\n",
    "    let doSomething = i*i;\n",
    "}\n",
    "\n",
    "let end = new Date();\n",
    "\n",
    "console.log(`The loop toop ${end-start} ms`);"
   ]
  },
  {
   "cell_type": "markdown",
   "metadata": {},
   "source": [
    "#### `Date.now()`\n",
    "\n",
    "If we only want to measure the difference, we don't need the `Date` object. There's a special method `Date.now()` that returns the current timestamp."
   ]
  },
  {
   "cell_type": "code",
   "execution_count": 1,
   "metadata": {},
   "outputs": [
    {
     "name": "stdout",
     "output_type": "stream",
     "text": [
      "The loop took 16 ms\n"
     ]
    }
   ],
   "source": [
    "let begin = Date.now();\n",
    "\n",
    "for (let j = 0; j < 100000; j++){\n",
    "    let doSomething = j*j*j;\n",
    "}\n",
    "\n",
    "let finish = Date.now();\n",
    "\n",
    "console.log(`The loop took ${finish-begin} ms`); //each run is retu"
   ]
  },
  {
   "cell_type": "markdown",
   "metadata": {},
   "source": [
    "#### Benchmarking\n",
    "\n",
    "In below example, we are measuring the diff between 2 dates using 2 different methods. In first, we directly subtracting 2 dates while in second methods, we are using `date.getTime()` method for conversion in milliseconds before subtracting."
   ]
  },
  {
   "cell_type": "code",
   "execution_count": 2,
   "metadata": {},
   "outputs": [
    {
     "name": "stdout",
     "output_type": "stream",
     "text": [
      "Time of diff1: 78ms\n",
      "Time of diff2: 16ms\n"
     ]
    }
   ],
   "source": [
    " function diff1(date1, date2){\n",
    "     return date2-date1;\n",
    " }\n",
    "\n",
    " function diff2(date1, date2){\n",
    "     return date2.getTime()-date1.getTime();\n",
    " }\n",
    "\n",
    "function bench(f){\n",
    "    let date1 = new Date(0);\n",
    "    let date2 = new Date();\n",
    "    \n",
    "    let start = Date.now();\n",
    "    for (let i=0; i <100000;i++) f(date1, date2);\n",
    "    return Date.now()-start;\n",
    "}\n",
    "\n",
    "console.log('Time of diff1: '+bench(diff1)+ 'ms');\n",
    "console.log('Time of diff2: '+bench(diff2)+ 'ms');"
   ]
  },
  {
   "cell_type": "markdown",
   "metadata": {},
   "source": [
    "We can see the function `diff2()` which uses `date.getTime()` method is faster. And this is actually the expected result because JS engine does some optimizations in case of `date.getTime()`.\n",
    "\n",
    "However, this isn't a reliable benchmarking because, may be, CPU was busy with some other tasks in parallel while executing the first functions. To get the better result, we should run the benchmarking test multiple times."
   ]
  },
  {
   "cell_type": "code",
   "execution_count": 4,
   "metadata": {},
   "outputs": [
    {
     "name": "stdout",
     "output_type": "stream",
     "text": [
      "Time of diff1: 499\n",
      "Time of diff2: 47\n"
     ]
    }
   ],
   "source": [
    "let time_1 = 0;\n",
    "let time_2 = 0;\n",
    "\n",
    "for (let i =0; i<10;i++){\n",
    "    time_1+= bench(diff1);\n",
    "    time_2+= bench(diff2);\n",
    "}\n",
    "\n",
    "console.log('Time of diff1: '+time_1);\n",
    "console.log('Time of diff2: '+time_2);\n"
   ]
  },
  {
   "cell_type": "markdown",
   "metadata": {},
   "source": [
    "#### `Date.parse` from a string\n",
    "\n",
    "The method `Date.parse(str)` can read a date from a string. The string format should be `YYYY-MM-DDTHH:mm:ss.sssZ` where:\n",
    "\n",
    " - `YYYY-MM-DD` is the date.\n",
    " - `\"T\"` is used as the delimiter.\n",
    " - `HH:mm.ss.sss` is the time: hours, minutes, seconds, milliseconds.\n",
    " - The optional `'Z'` part denotes the time zone in the format `+-hh:mm`. A single letter `Z` that would mean UTC+0.\n",
    " \n",
    "Shorter variants are also possible, like `YYYY-MM-DD` or `YYYY-MM` or even `YYYY`.\n",
    "\n",
    "The call to `Date.parse(str)` parses the string in the given format and returns the timestamp. If the format is invalid, returns `NaN`."
   ]
  },
  {
   "cell_type": "code",
   "execution_count": 5,
   "metadata": {},
   "outputs": [
    {
     "data": {
      "text/plain": [
       "1327611110417"
      ]
     },
     "execution_count": 5,
     "metadata": {},
     "output_type": "execute_result"
    }
   ],
   "source": [
    "let ms = Date.parse('2012-01-26T13:51:50.417-07:00');\n",
    "ms"
   ]
  },
  {
   "cell_type": "markdown",
   "metadata": {},
   "source": [
    "We can instantly create a `new Date` object from the timestamp - "
   ]
  },
  {
   "cell_type": "code",
   "execution_count": 6,
   "metadata": {},
   "outputs": [
    {
     "data": {
      "text/plain": [
       "2012-01-26T20:51:50.417Z"
      ]
     },
     "execution_count": 6,
     "metadata": {},
     "output_type": "execute_result"
    }
   ],
   "source": [
    "let aaa = new Date(ms);\n",
    "aaa"
   ]
  },
  {
   "cell_type": "code",
   "execution_count": null,
   "metadata": {
    "collapsed": true
   },
   "outputs": [],
   "source": []
  }
 ],
 "metadata": {
  "kernelspec": {
   "display_name": "Javascript (Node.js)",
   "language": "javascript",
   "name": "javascript"
  },
  "language_info": {
   "file_extension": ".js",
   "mimetype": "application/javascript",
   "name": "javascript",
   "version": "8.11.2"
  }
 },
 "nbformat": 4,
 "nbformat_minor": 2
}
