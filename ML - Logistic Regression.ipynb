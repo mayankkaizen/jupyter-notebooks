{
 "cells": [
  {
   "cell_type": "markdown",
   "metadata": {},
   "source": [
    "### Logistic Regression\n",
    "\n",
    "Note that, in spite of its name, logistic regression is a model for classification, not regression."
   ]
  },
  {
   "cell_type": "markdown",
   "metadata": {},
   "source": [
    "We defined that \n",
    "\n",
    "$$z = w_0x_0+w_1x_1+w_2x_2+....+w_mx_m = \\sum_{j=0}^m x_jw_j = w^Tx$$ and \n",
    "\n",
    "$$ \\phi(z) = \n",
    "\\begin{pmatrix}\n",
    "1 & if z \\geq 0 \\\\\n",
    "-1 & otherwise\n",
    "\\end{pmatrix}\n",
    "\\quad$$\n",
    "\n",
    "However, this activation is used here only for illustration purposes. In reality, we actually use sigmoid function (described below) as activation function.\n",
    "\n",
    "For this $z$, we write logistic function as follows - \n",
    "\n",
    "$$\\phi(z) = \\frac{1}{1+e^{-z}}$$\n",
    "\n",
    "Note that $\\phi(z)$ is the probability of 'success' event. Let us denote it as $p$. So, in case of logistic regression, let us say that the probability of 'positive event' is $p$. We can now define the **odds ratio** $\\frac{p}{1-p}$. \n",
    "\n",
    "Also, we define a **logit function** -\n",
    "\n",
    "$$ logit(p) = log\\frac{p}{1-p}$$\n",
    "\n",
    "If we  substitute $\\phi(z)$ for $p$ in above equation and solve it, we get -\n",
    "\n",
    "$$log\\frac{p}{1-p} = w_0x_0+w_1x_1+w_2x_2+....+w_mx_m = \\sum_{j=0}^m x_jw_j$$\n",
    "\n",
    "\n",
    "\n",
    "Now what we are actually interested in is predicting the probability that a certain sample belongs to a particular class, which is the inverse form of the logit function. It is also called the logistic function, sometimes simply abbreviated as sigmoid function due to its characteristic S-shape. Also, we'll take this logistic function as our activation function $\\phi(z)$.\n",
    "\n",
    "\n",
    "\n",
    "Note that, in some literature, $\\phi(z)$ is also written as $h_\\theta(x)$ and is called **hypothesis function**.\n",
    "\n",
    "Plot for this sigmoid function will look like below: -\n",
    "\n",
    "![](images/sigmoid.png)\n",
    "\n",
    "This sigmoid function (hypothesis function) represents at the same time the estimated probability that y = 1 on input x parameterized by w:\n",
    "\n",
    "$$\\phi(z) = P( y =1| x;w) = 1 - P( y =0| x;w)$$\n",
    "\n",
    "The output of the sigmoid function is then interpreted as the probability of particular sample belonging to class 1, $\\phi(z) = P( y =1| x;w)$ , given its features x parameterized by the weights w. For example, if we compute $\\phi(z)$ = 0.8 for a particular flower sample, it means that the chance that this sample is an Iris-Versicolor flower is 80 percent.\n",
    "\n",
    "The predicted probability can then simply be converted into a binary outcome via a quantizer (unit step function):\n",
    "\n",
    "\n",
    "$$ \\hat{y} = \n",
    "\\begin{pmatrix}\n",
    "1 & if \\phi(z) \\geq .5 \\\\\n",
    "0 & otherwise\n",
    "\\end{pmatrix}\n",
    "\\quad\n",
    "$$\n",
    "\n",
    "### Cost function for Logistic Regression\n",
    "\n",
    "Although a possible definition of the cost function could be the mean of the Euclidean distance between the activation function $\\phi(z)$ and the actual value y among all the *m* samples in the training set, as long as the activation function is formed with the sigmoid function, this definition **would result in a non-convex cost function**, which means that a local minimum could be easily found before global minimum. In order to ensure the cost function is convex (and therefore ensure convergence to the global minimum), **the cost function is transformed using the logarithm of the sigmoid function**.\n",
    "\n",
    "For logistic regression, the Cost function is defined as - \n",
    "\n",
    "$$ Cost(\\phi(z),y) = \n",
    "\\begin{pmatrix}\n",
    "-log(\\phi(z)) & if y = 1 \\\\\n",
    "-log(1-(\\phi(z))) & if y =  0\n",
    "\\end{pmatrix}\n",
    "\\quad\n",
    "$$\n",
    "\n",
    "which can be written as - \n",
    "\n",
    "$$J  = Cost(\\phi(z),y) = (y-1)log(1-\\phi(z))-ylog\\phi(z)$$\n",
    "\n",
    "The derivative of cost function wrt `w` (weight) is given below - \n",
    "\n",
    "$ \\frac{\\partial J}{\\partial w_j} = \\frac{1}{m}\\sum_{i=1}^m\\left[\\hat{y}^{(i)}-y^{(i)}\\right]\\,x_j^{(i)}$\n",
    "\n",
    "For the bias, the inputs $x_j^{(i)}$ will be given 1. Here $\\hat y = \\phi(z)$\n",
    "\n",
    "Also, an intuition about how logistic regression works can be get by looking at following illustration - \n",
    "\n",
    "![](images/logistic.png)\n",
    "\n",
    "Compare this illustration of logistic regression to that of perceptron (shown below) where $\\phi(z) = z$. \n",
    "\n",
    "![](images/perceptron.png)\n"
   ]
  },
  {
   "cell_type": "code",
   "execution_count": 16,
   "metadata": {},
   "outputs": [
    {
     "data": {
      "text/plain": [
       "<matplotlib.collections.LineCollection at 0xa4e2170>"
      ]
     },
     "execution_count": 16,
     "metadata": {},
     "output_type": "execute_result"
    },
    {
     "data": {
      "image/png": "[encoded data removed]",
      "text/plain": [
       "<matplotlib.figure.Figure at 0xa3b35b0>"
      ]
     },
     "metadata": {},
     "output_type": "display_data"
    }
   ],
   "source": [
    "%matplotlib inline\n",
    "import matplotlib.pyplot as plt\n",
    "import numpy as np\n",
    "\n",
    "x = np.arange(.1,5,.1)\n",
    "\n",
    "plt.plot(x, -np.log(x))\n",
    "plt.vlines(1,-2.5,1)\n",
    "plt.hlines(0,0,3)"
   ]
  },
  {
   "cell_type": "markdown",
   "metadata": {},
   "source": [
    "#### Implementation of Logistic Regresssion in Python from Scratch \n",
    "\n",
    "In logistic regression, we are trying to model the outcome of a **binary variable** given a **linear combination of input features**. For example, we could try to predict the outcome of an election (win/lose) using information about how much money a candidate spent campaigning, how much time she/he spent campaigning, etc.\n",
    "Logistic regression works as follows.\n",
    "\n",
    "**Given:** \n",
    "- dataset $\\{(\\boldsymbol{x}^{(1)}, y^{(1)}), ..., (\\boldsymbol{x}^{(m)}, y^{(m)})\\}$\n",
    "- with $\\boldsymbol{x}^{(i)}$ being a $d-$dimensional vector $\\boldsymbol{x}^{(i)} = (x^{(i)}_1, ..., x^{(i)}_d)$\n",
    "- $y^{(i)}$ being a binary target variable, $y^{(i)} \\in \\{0,1\\}$\n",
    "\n",
    "The logistic regression model can be interpreted as a very **simple neural network:**\n",
    "- it has a real-valued weight vector $\\boldsymbol{w}= (w^{(1)}, ..., w^{(d)})$\n",
    "- it has a real-valued bias $b$\n",
    "- it uses a sigmoid function as its activation function\n",
    "\n",
    "Different to linear regression, logistic regression has no closed form solution. But the cost function is convex, so we can train the model using gradient descent. In fact, **gradient descent** (or any other optimization algorithm) is guaranteed to find the global minimum (if the learning rate is small enough and enough training iterations are used).  \n",
    "\n",
    "Training a logistic regression model has different steps. In the beginning (step 0) the parameters are initialized. The other steps are repeated for a specified number of training iterations or until convergence of the parameters.\n",
    "\n",
    "* * * \n",
    "**Step 0: ** Initialize the weight vector and bias with zeros (or small random values).\n",
    "* * *\n",
    "\n",
    "**Step 1: ** Compute a linear combination of the input features and weights. This can be done in one step for all training examples, using vectorization and broadcasting:\n",
    "$\\boldsymbol{a} = \\boldsymbol{X} \\cdot \\boldsymbol{w} + b $\n",
    "\n",
    "where $\\boldsymbol{X}$ is a matrix of shape $(n_{samples}, n_{features})$ that holds all training examples, and $\\cdot$ denotes the dot product.\n",
    "* * *\n",
    "\n",
    "**Step 2: ** Apply the sigmoid activation function, which returns values between 0 and 1:\n",
    "\n",
    "$\\boldsymbol{\\hat{y}} = \\sigma(\\boldsymbol{a}) = \\frac{1}{1 + \\exp(-\\boldsymbol{a})}$\n",
    "* * *\n",
    "\n",
    "** Step 3: ** Compute the cost over the whole training set. We want to model the probability of the target values being 0 or 1. So during training we want to adapt our parameters such that our model outputs high values for examples with a positive label (true label being 1) and small values for examples with a negative label (true label being 0). This is reflected in the cost function:\n",
    "\n",
    "$J(\\boldsymbol{w},b) = - \\frac{1}{m} \\sum_{i=1}^m \\Big[ y^{(i)} \\log(\\hat{y}^{(i)}) + (1 - y^{(i)}) \\log(1 - \\hat{y}^{(i)}) \\Big]$\n",
    "\n"
   ]
  },
  {
   "cell_type": "markdown",
   "metadata": {},
   "source": [
    "* * *\n",
    "\n",
    "** Step 4: ** Compute the gradient of the cost function with respect to the weight vector and bias. A detailed explanation of this derivation can be found [here](https://stats.stackexchange.com/questions/278771/how-is-the-cost-function-from-logistic-regression-derivated).\n",
    "\n",
    "The general formula is given by:\n",
    "\n",
    "$ \\frac{\\partial J}{\\partial w_j} = \\frac{1}{m}\\sum_{i=1}^m\\left[\\hat{y}^{(i)}-y^{(i)}\\right]\\,x_j^{(i)}$\n",
    "\n",
    "For the bias, the inputs $x_j^{(i)}$ will be given 1.\n",
    "\n",
    "Above four steps can be written in Numpy as follows: -\n",
    "\n",
    "```python\n",
    "y_predict = self.sigmoid(np.dot(X, self.weights) + self.bias)\n",
    "#both y_true and y_predict are 2-D array of shape (n_samples,1)\n",
    "cost = (- 1 / n_samples) * np.sum(y_true * np.log(y_predict) + (1 - y_true) * (np.log(1 - y_predict)))            \n",
    "dw = (1 / n_samples) * np.dot(X.T, (y_predict - y_true))\n",
    "db = (1 / n_samples) * np.sum(y_predict - y_true)\n",
    "```\n",
    "* * *\n",
    "\n",
    "** Step 5: ** Update the weights and bias\n",
    "\n",
    "$\\boldsymbol{w} = \\boldsymbol{w} - \\eta \\, \\nabla_w J$  \n",
    "\n",
    "$b = b - \\eta \\, \\nabla_b J$\n",
    "\n",
    "where $\\eta$ is the learning rate."
   ]
  },
  {
   "cell_type": "code",
   "execution_count": 1,
   "metadata": {},
   "outputs": [
    {
     "data": {
      "text/plain": [
       "0.6931471805599453"
      ]
     },
     "execution_count": 1,
     "metadata": {},
     "output_type": "execute_result"
    }
   ],
   "source": [
    "# a toy example explaining above steps\n",
    "\n",
    "import numpy as np\n",
    "b = 0\n",
    "w = np.zeros((3,1))\n",
    "x = np.array([[1,2,3],[2,3,4]])\n",
    "y = np.array([1,2])\n",
    "y = y[:, np.newaxis]\n",
    "def sigmoid(a):\n",
    "    return 1 / (1 + np.exp(-a))\n",
    "a = np.dot(x, w) +b\n",
    "ypred = sigmoid(a)\n",
    "cost = (- 1 / 2) * np.sum(y* np.log(ypred) + (1 - y) * (np.log(1 - ypred)))\n",
    "cost"
   ]
  },
  {
   "cell_type": "code",
   "execution_count": 3,
   "metadata": {},
   "outputs": [
    {
     "data": {
      "text/plain": [
       "(array([[0.],\n",
       "        [0.]]), array([[0.5],\n",
       "        [0.5]]))"
      ]
     },
     "execution_count": 3,
     "metadata": {},
     "output_type": "execute_result"
    }
   ],
   "source": [
    "a, ypred\n"
   ]
  },
  {
   "cell_type": "code",
   "execution_count": 7,
   "metadata": {},
   "outputs": [
    {
     "name": "stdout",
     "output_type": "stream",
     "text": [
      "[[1 2]\n",
      " [2 3]\n",
      " [3 4]]\n",
      "[[-0.5]\n",
      " [-1.5]]\n",
      "[[-3.5]\n",
      " [-5.5]\n",
      " [-7.5]]\n"
     ]
    }
   ],
   "source": [
    "print(x.T)\n",
    "print(ypred - y)\n",
    "print(np.dot(x.T, (ypred - y)))"
   ]
  },
  {
   "cell_type": "code",
   "execution_count": 18,
   "metadata": {},
   "outputs": [
    {
     "data": {
      "text/plain": [
       "(array([[-1.75],\n",
       "        [-2.75],\n",
       "        [-3.75]]), -1.0)"
      ]
     },
     "execution_count": 18,
     "metadata": {},
     "output_type": "execute_result"
    }
   ],
   "source": [
    "dw = (1 / 2) * np.dot(x.T, (ypred - y))  \n",
    "db = (1 / 2) * np.sum(ypred - y)\n",
    "dw, db"
   ]
  },
  {
   "cell_type": "code",
   "execution_count": 1,
   "metadata": {
    "collapsed": true
   },
   "outputs": [],
   "source": [
    "import numpy as np\n",
    "from sklearn.model_selection import train_test_split\n",
    "from sklearn.datasets import make_blobs\n",
    "import matplotlib.pyplot as plt\n",
    "np.random.seed(123)\n",
    "\n",
    "% matplotlib inline"
   ]
  },
  {
   "cell_type": "code",
   "execution_count": 2,
   "metadata": {},
   "outputs": [
    {
     "data": {
      "image/png": "[encoded data removed]",
      "text/plain": [
       "<matplotlib.figure.Figure at 0x33e66d0>"
      ]
     },
     "metadata": {},
     "output_type": "display_data"
    }
   ],
   "source": [
    "# We will perform logistic regression using a simple toy dataset of two classes\n",
    "X, y_true = make_blobs(n_samples= 1000, centers=2)\n",
    "\n",
    "fig = plt.figure(figsize=(8,6))\n",
    "plt.scatter(X[:,0], X[:,1], c=y_true)\n",
    "plt.title(\"Dataset\")\n",
    "plt.xlabel(\"First feature\")\n",
    "plt.ylabel(\"Second feature\")\n",
    "plt.show()"
   ]
  },
  {
   "cell_type": "code",
   "execution_count": 7,
   "metadata": {},
   "outputs": [
    {
     "name": "stdout",
     "output_type": "stream",
     "text": [
      "Shape X_train: (750, 2)\n",
      "Shape y_train: (750, 1)\n",
      "Shape X_test: (250, 2)\n",
      "Shape y_test: (250, 1)\n"
     ]
    }
   ],
   "source": [
    "# Reshape targets to get column vector with shape (n_samples, 1)\n",
    "y_true = y_true[:, np.newaxis]\n",
    "#reshaping y_true has dramatic effect on values of cost function and speed.\n",
    "#Also, reshaping y_true affects the `predict` class method. \n",
    "  \n",
    "# Split the data into a training and test set\n",
    "X_train, X_test, y_train, y_test = train_test_split(X, y_true)\n",
    "\n",
    "print(f'Shape X_train: {X_train.shape}')\n",
    "print(f'Shape y_train: {y_train.shape}')\n",
    "print(f'Shape X_test: {X_test.shape}')\n",
    "print(f'Shape y_test: {y_test.shape}')"
   ]
  },
  {
   "cell_type": "code",
   "execution_count": 8,
   "metadata": {
    "collapsed": true
   },
   "outputs": [],
   "source": [
    "class LogisticRegression:\n",
    "    \n",
    "    def __init__(self):\n",
    "        pass\n",
    "\n",
    "    def sigmoid(self, a):\n",
    "        return 1 / (1 + np.exp(-a))\n",
    "\n",
    "    def train(self, X, y_true, n_iters, learning_rate):\n",
    "        \"\"\"\n",
    "        Trains the logistic regression model on given data X and targets y\n",
    "        \"\"\"\n",
    "        # Step 0: Initialize the parameters\n",
    "        n_samples, n_features = X.shape\n",
    "        self.weights = np.zeros((n_features, 1))\n",
    "        self.bias = 0\n",
    "        costs = []\n",
    "        \n",
    "        for i in range(n_iters):\n",
    "            # Step 1 and 2: Compute a linear combination of the input features and weights, \n",
    "            # apply the sigmoid activation function\n",
    "            y_predict = self.sigmoid(np.dot(X, self.weights) + self.bias)\n",
    "            \n",
    "            # Step 3: Compute the cost over the whole training set.\n",
    "            cost = (- 1 / n_samples) * np.sum(y_true * np.log(y_predict) + (1 - y_true) * (np.log(1 - y_predict)))\n",
    "\n",
    "            # Step 4: Compute the gradients\n",
    "            dw = (1 / n_samples) * np.dot(X.T, (y_predict - y_true))\n",
    "            db = (1 / n_samples) * np.sum(y_predict - y_true)\n",
    "\n",
    "            # Step 5: Update the parameters\n",
    "            self.weights = self.weights - learning_rate * dw\n",
    "            self.bias = self.bias - learning_rate * db\n",
    "\n",
    "            costs.append(cost)\n",
    "            if i % 100 == 0:\n",
    "                print(f\"Cost after iteration {i}: {cost}\")\n",
    "\n",
    "        return self.weights, self.bias, costs\n",
    "\n",
    "    def predict(self, X):\n",
    "        \"\"\"\n",
    "        Predicts binary labels for a set of examples X.\n",
    "        \"\"\"\n",
    "        y_predict = self.sigmoid(np.dot(X, self.weights) + self.bias)\n",
    "        y_predict_labels = [1 if elem > 0.5 else 0 for elem in y_predict]\n",
    "\n",
    "        return np.array(y_predict_labels)[:, np.newaxis]"
   ]
  },
  {
   "cell_type": "code",
   "execution_count": 9,
   "metadata": {},
   "outputs": [
    {
     "name": "stdout",
     "output_type": "stream",
     "text": [
      "Cost after iteration 0: 0.6931471805599453\n",
      "Cost after iteration 100: 0.04704328461125383\n",
      "Cost after iteration 200: 0.02444483881585868\n",
      "Cost after iteration 300: 0.01667124284691716\n",
      "Cost after iteration 400: 0.012715625160492926\n",
      "Cost after iteration 500: 0.010311136977037736\n"
     ]
    },
    {
     "data": {
      "image/png": "[encoded data removed]",
      "text/plain": [
       "<matplotlib.figure.Figure at 0x328bbd0>"
      ]
     },
     "metadata": {},
     "output_type": "display_data"
    }
   ],
   "source": [
    "regressor = LogisticRegression()\n",
    "w_trained, b_trained, costs = regressor.train(X_train, y_train, n_iters=600, learning_rate=0.009)\n",
    "\n",
    "fig = plt.figure(figsize=(8,6))\n",
    "plt.plot(np.arange(600), costs)\n",
    "plt.title(\"Development of cost over training\")\n",
    "plt.xlabel(\"Number of iterations\")\n",
    "plt.ylabel(\"Cost\")\n",
    "plt.show()\n"
   ]
  },
  {
   "cell_type": "code",
   "execution_count": 10,
   "metadata": {},
   "outputs": [
    {
     "name": "stdout",
     "output_type": "stream",
     "text": [
      "train accuracy: 100.0%\n",
      "test accuracy: 100.0%\n"
     ]
    }
   ],
   "source": [
    "y_p_train = regressor.predict(X_train)\n",
    "y_p_test = regressor.predict(X_test)\n",
    "\n",
    "print(f\"train accuracy: {100 - np.mean(np.abs(y_p_train - y_train)) * 100}%\")\n",
    "print(f\"test accuracy: {100 - np.mean(np.abs(y_p_test - y_test))}%\")"
   ]
  },
  {
   "cell_type": "markdown",
   "metadata": {},
   "source": [
    "#### Example - Logistic Regression with `penalty` = `l1` and `C` = .1"
   ]
  },
  {
   "cell_type": "code",
   "execution_count": 11,
   "metadata": {},
   "outputs": [
    {
     "data": {
      "text/plain": [
       "0.92105263157894735"
      ]
     },
     "execution_count": 11,
     "metadata": {},
     "output_type": "execute_result"
    }
   ],
   "source": [
    "from sklearn import datasets\n",
    "iris = datasets.load_iris()\n",
    "\n",
    "from sklearn.model_selection import train_test_split\n",
    "from sklearn.linear_model import LogisticRegression\n",
    "from sklearn.metrics import accuracy_score\n",
    "\n",
    "Xtrain, Xtest, ytrain, ytest = train_test_split(iris.data, iris.target)\n",
    "lr1 = LogisticRegression(penalty = 'l1', C = .1)\n",
    "lr1.fit(Xtrain, ytrain)\n",
    "ypred = lr1.predict(Xtest)\n",
    "accuracy_score(ytest, ypred)"
   ]
  },
  {
   "cell_type": "code",
   "execution_count": 12,
   "metadata": {},
   "outputs": [
    {
     "data": {
      "text/plain": [
       "0.92105263157894735"
      ]
     },
     "execution_count": 12,
     "metadata": {},
     "output_type": "execute_result"
    }
   ],
   "source": [
    "lr1.score(Xtest, ytest)"
   ]
  },
  {
   "cell_type": "code",
   "execution_count": 2,
   "metadata": {},
   "outputs": [
    {
     "data": {
      "text/plain": [
       "array([ 0.,  0.,  0.])"
      ]
     },
     "execution_count": 2,
     "metadata": {},
     "output_type": "execute_result"
    }
   ],
   "source": [
    "lr1.intercept_"
   ]
  },
  {
   "cell_type": "code",
   "execution_count": 3,
   "metadata": {},
   "outputs": [
    {
     "data": {
      "text/plain": [
       "array([[ 0.        ,  0.93828542, -1.17085401,  0.        ],\n",
       "       [ 0.        , -0.31234161,  0.09268742,  0.        ],\n",
       "       [-0.74853367,  0.        ,  0.9493398 ,  0.        ]])"
      ]
     },
     "execution_count": 3,
     "metadata": {},
     "output_type": "execute_result"
    }
   ],
   "source": [
    "lr1.coef_"
   ]
  },
  {
   "cell_type": "markdown",
   "metadata": {},
   "source": [
    "#### Example - Logistic Regression with `penalty` = `l2` and `C` = .1\n",
    "\n"
   ]
  },
  {
   "cell_type": "code",
   "execution_count": 4,
   "metadata": {},
   "outputs": [
    {
     "data": {
      "text/plain": [
       "0.84210526315789469"
      ]
     },
     "execution_count": 4,
     "metadata": {},
     "output_type": "execute_result"
    }
   ],
   "source": [
    "from sklearn import datasets\n",
    "iris = datasets.load_iris()\n",
    "\n",
    "from sklearn.model_selection import train_test_split\n",
    "from sklearn.linear_model import LogisticRegression\n",
    "from sklearn.metrics import accuracy_score\n",
    "\n",
    "Xtrain, Xtest, ytrain, ytest = train_test_split(iris.data, iris.target)\n",
    "lr2 = LogisticRegression(penalty = 'l2', C = .1)\n",
    "lr2.fit(Xtrain, ytrain)\n",
    "ypred = lr2.predict(Xtest)\n",
    "accuracy_score(ytest, ypred)"
   ]
  },
  {
   "cell_type": "code",
   "execution_count": 5,
   "metadata": {},
   "outputs": [
    {
     "data": {
      "text/plain": [
       "array([ 0.13062566,  0.06769358, -0.27300159])"
      ]
     },
     "execution_count": 5,
     "metadata": {},
     "output_type": "execute_result"
    }
   ],
   "source": [
    "lr2.intercept_"
   ]
  },
  {
   "cell_type": "code",
   "execution_count": 6,
   "metadata": {},
   "outputs": [
    {
     "data": {
      "text/plain": [
       "array([[ 0.1952657 ,  0.66523963, -1.12052191, -0.50421597],\n",
       "       [-0.04227413, -0.44130401,  0.25612114, -0.14430885],\n",
       "       [-0.51132025, -0.56195856,  0.83954009,  0.63925853]])"
      ]
     },
     "execution_count": 6,
     "metadata": {},
     "output_type": "execute_result"
    }
   ],
   "source": [
    "lr2.coef_"
   ]
  },
  {
   "cell_type": "markdown",
   "metadata": {},
   "source": [
    "Since we fit the `Logistic Regression` object on a multiclass dataset, it uses the **One-vs-Rest (OvR)** approach by default where the first intercept belongs to the model that fits class 1 vs class 2 and 3; the second value is the intercept of the model that fits class 2 vs class 1 and 3 and so on.\n",
    "\n",
    "The weight array that we accessed via the `lr.coef_` attribute contains three rows of weight coefficients, one weight vector for each class. Each row consists of 4 weights where each weight is multiplied by the respective feature in the 4 dimensional Iris dataset to calculate the net input:\n",
    "\n",
    "z = $w_1x_1+w_2x_2+....+w_mx_m = \\sum_{j=0}^m x_jw_j = w^Tx$\n",
    "\n",
    "We also notice that for `l1`, the weight vectors are sparse, which means that they only have a few non-zero entries. As a result of L1 regularization, which serves as a method for feature selection, \n",
    "we can train a model that is robust to the potentially irrelvant features in this dataset.\n",
    "\n",
    "**As we can see, all features weights will be zero if we penalize the model with a strong regularization parameter (`C` < .1); `C` is the inverse of the regularization parameter $\\lambda$.**\n",
    "\n",
    "**One vs All (OvR): -**\n",
    "\n",
    "This is a technique used to extend a binary classifier to multi-class problems. Using OvA, we can train one classifier per class, where the particular class is treated as the positive class and the smaples from all other classes are considered as the negative class. If we were to classify a new data sample, we would use our n classifiers, where n is the number of class labels, and assign the class label with the highest confidence to the particular sample. In the case of the perceptron, we would use OvA to choose the class label that is associated with the largest absolute net input value. "
   ]
  },
  {
   "cell_type": "code",
   "execution_count": 7,
   "metadata": {},
   "outputs": [
    {
     "data": {
      "image/png": "[encoded data removed]",
      "text/plain": [
       "<matplotlib.figure.Figure at 0x664cb50>"
      ]
     },
     "metadata": {},
     "output_type": "display_data"
    }
   ],
   "source": [
    "%matplotlib inline\n",
    "import numpy as np\n",
    "import matplotlib.pyplot as plt\n",
    "fig = plt.figure()\n",
    "ax = plt.axes()\n",
    "colors = ['red','blue','green','yellow']\n",
    "weights, params = [],[]\n",
    "for c in [.00001,.0001,.001,.01,.1,1,10,100]:\n",
    "    lr = LogisticRegression(penalty = 'l1', C = c)\n",
    "    lr.fit(Xtrain, ytrain)\n",
    "    weights.append(lr.coef_[1])\n",
    "    params.append(c)\n",
    "weights = np.array(weights)    \n",
    "for column, color in zip(range(weights.shape[1]), colors):\n",
    "    ax.plot(params, weights[:,column], label = iris.target, color = color)\n",
    "\n",
    "ax.set_ylabel('weight coefficeint')\n",
    "ax.set_xlabel('C')\n",
    "ax.axhline(0, color = 'black', linestyle = '--')    \n",
    "ax.set_xscale('log') "
   ]
  },
  {
   "cell_type": "code",
   "execution_count": null,
   "metadata": {
    "collapsed": true
   },
   "outputs": [],
   "source": []
  }
 ],
 "metadata": {
  "kernelspec": {
   "display_name": "Python 3",
   "language": "python",
   "name": "python3"
  },
  "language_info": {
   "codemirror_mode": {
    "name": "ipython",
    "version": 3
   },
   "file_extension": ".py",
   "mimetype": "text/x-python",
   "name": "python",
   "nbconvert_exporter": "python",
   "pygments_lexer": "ipython3",
   "version": "3.6.3"
  }
 },
 "nbformat": 4,
 "nbformat_minor": 2
}
