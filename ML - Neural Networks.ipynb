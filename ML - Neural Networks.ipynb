{
 "cells": [
  {
   "cell_type": "markdown",
   "metadata": {},
   "source": [
    "Some Resources I have actully found useful - \n",
    "\n",
    " - [A Step-by-Step Backpropagation Example - Matt Mazur](https://mattmazur.com/2015/03/17/a-step-by-step-backpropagation-example/)\n",
    " - [A Gentle Introduction to Neural Networks for Machine Learning](https://www.codementor.io/james_aka_yale/a-gentle-introduction-to-neural-networks-for-machine-learning-hkijvz7lp) - This link provides brief overview of various types of NN such as CNN, RNN and GAN."
   ]
  },
  {
   "cell_type": "markdown",
   "metadata": {},
   "source": [
    "---\n",
    "\n",
    "We have that - \n",
    "\n",
    "z = $w_1x_1+w_2x_2+....+w_mx_m = \\sum_{j=0}^m x_jw_j = w^Tx$\n",
    "\n",
    "Where z is calculated for a given sample. \n",
    "\n",
    "Now let us define a activation function such that -  \n",
    "\n",
    "$$ \\phi(z) = \n",
    "\\begin{pmatrix}\n",
    "1 & if z \\geq \\theta \\\\\n",
    "-1 & otherwise\n",
    "\\end{pmatrix}\n",
    "\\quad\n",
    "$$\n",
    "\n",
    "For simplicity, we can rewrite above equation by bring $\\theta$ to left hand side and define a weight-zero as -$\\theta$ and $x_0$ as 1. We get - \n",
    "\n",
    "$$z = w_0x_0+w_1x_1+w_2x_2+....+w_mx_m = \\sum_{j=0}^m x_jw_j = w^Tx$$ \n",
    "\n",
    "and \n",
    "\n",
    "$$ \\phi(z) = \n",
    "\\begin{pmatrix}\n",
    "1 & if z \\geq 0 \\\\\n",
    "-1 & otherwise\n",
    "\\end{pmatrix}\n",
    "\\quad\n",
    "$$\n",
    "\n",
    "Here, **$\\phi(z)$** is our activation function. \n",
    "\n",
    "The whole idea behind the MCP neuron and Rosenblatt's thresholded perceptron model is to use a reductionist approach to mimic how a single neuron in the brain works: it either fires or it doesn't. Thus, Rosenblatt's initial perceptron rule is fairly\n",
    "simple and can be summarized by the following steps:\n",
    "1. Initialize the weights to 0 or small random numbers.\n",
    "2. For each training sample $x(i)$ perform the following steps:\n",
    "  1. Compute the output value $y^ˆ$ .\n",
    "  2. Update the weights.\n",
    "Here, the output value is the class label.\n",
    "\n",
    "See this illustration of perceptron (shown below) where $\\phi(z) = z$. \n",
    "\n",
    "![](images/perceptron.png)\n",
    "\n",
    "It is important to note that the convergence of the perceptron is only guaranteed if the two classes are linearly separable and the learning rate is sufficiently small. If the two classes can't be separated by a linear decision boundary, we can set a maximum number of passes over the training dataset (epochs) and/or a threshold for the number of tolerated misclassifications—the perceptron would never stop updating the weights otherwise."
   ]
  },
  {
   "cell_type": "markdown",
   "metadata": {},
   "source": [
    "#### Online and Error Driven Algorithm\n",
    "\n",
    "First, it is online. This means that instead of considering the entire data set at the same time, it only ever looks at one example. It processes that example and then goes on to the next one. Second, it is error driven. This means that, so long as it is doing well, it doesn’t bother updating its parameters."
   ]
  },
  {
   "cell_type": "markdown",
   "metadata": {},
   "source": [
    "#### Perceptron vs Sigmoid Neuron\n",
    "\n",
    "In perceptron, output values can either be 0 or 1. However, in case of sigmoid neuron, input/output can take any value in the range [0,1]. \n",
    "\n",
    "Also, perceptron curve is essentially a step function. On the other hand, sigmoid function follows S-shaped function with some midway threshold value (usually .5). "
   ]
  },
  {
   "cell_type": "markdown",
   "metadata": {},
   "source": [
    "#### Simple NN and Backpropagation "
   ]
  },
  {
   "cell_type": "markdown",
   "metadata": {},
   "source": [
    "Let us consider a NN with 2 input neurons (i1 and i2), one hidden layer with 2 neurons (h1 and h2) and 2 output neurons (o1 and o2). \n",
    "\n",
    "Let input be `[.05, .10]` and desired2 output be `[.01, .99]`. Bias for hidden layer (b1) = `[.35]` and for output layer (b2) = `[.60]`\n",
    "\n",
    "Weights are as follows = \n",
    "```\n",
    "[w1, w2, w3, w4] = [.15, .20, .25, .30] #for first layer\n",
    "[w5, w6, w7, w8] = [.40, .45, .50, .55] #for second layer\n",
    "```\n",
    "\n",
    "For this NN, we'll use logistic function $f(x) = \\frac{1}{1 + exp(-x)}$ as our activation function.\n",
    "\n",
    "Scipy packages has a function for caclucating the value for logistic function - \n",
    "\n",
    "```\n",
    "from scipy.special import expit\n",
    "expit(.3924999999) # output - 0.59688437823570573\n",
    "```"
   ]
  },
  {
   "cell_type": "code",
   "execution_count": 82,
   "metadata": {},
   "outputs": [
    {
     "name": "stdout",
     "output_type": "stream",
     "text": [
      "0.751365069552 0.772928465321\n"
     ]
    }
   ],
   "source": [
    "import numpy as np\n",
    "from scipy.special import expit\n",
    "\n",
    "i1, i2 = [.05, .1]\n",
    "target1 = .01\n",
    "target2 = .99\n",
    "\n",
    "lr = .5\n",
    "\n",
    "w1,w2,w3,w4 = [.15, .20, .25, .30]\n",
    "w5, w6, w7, w8 = [.40, .45, .50, .55]\n",
    "\n",
    "b1 = .35\n",
    "b2 = .60\n",
    "\n",
    "def nn():\n",
    "\n",
    "ih1 = np.dot([i1,i2],[w1,w2])+ b1  #input for the first hidden layer neuron\n",
    "ih2 = np.dot([i1,i2],[w3,w4]) + b1  #input for the second hidden layer neuron\n",
    "\n",
    "oh1 = expit(ih1)     #applying activation function to get the o/p of firt hidden layer neuron\n",
    "oh2 = expit(ih2)     #applying activation function to get\n",
    "\n",
    "#oh1, oh2  these will be used as input for output neurons\n",
    "\n",
    "io1 = np.dot([oh1, oh2], [w5, w6]) + b2\n",
    "io2 = np.dot([oh1, oh2], [ w7, w8]) + b2 \n",
    "\n",
    "out1 = expit(io1)\n",
    "out2 = expit(io2)\n",
    "\n"
   ]
  },
  {
   "cell_type": "markdown",
   "metadata": {},
   "source": [
    "Now we caclucate the error using following formula - \n",
    "\n",
    "$E_{total} = E_1 + E_2 =  \\Sigma\\frac{1}{2}(Target - output)^2$"
   ]
  },
  {
   "cell_type": "code",
   "execution_count": 62,
   "metadata": {},
   "outputs": [
    {
     "data": {
      "text/plain": [
       "0.29837110876000272"
      ]
     },
     "execution_count": 62,
     "metadata": {},
     "output_type": "execute_result"
    }
   ],
   "source": [
    "error_total = .5 *( (target1 - out1)**2 + (target2 - out2)**2)\n",
    "error_total"
   ]
  },
  {
   "cell_type": "markdown",
   "metadata": {},
   "source": [
    "##### The Backwards Pass\n",
    "\n",
    "Our goal with backpropagation is to update each of the weights in the network so that they cause the actual output to be closer the target output, thereby minimizing the error for each output neuron and the network as a whole.\n",
    "\n",
    "The only values we can update in order to minimize the error are the weights and biases.\n",
    "\n",
    "For this we calculate $\\frac{\\partial E_{total}}{\\partial w}$ which tells us how much change in `w` affects $E_{total}$. We do this for each weight\n",
    "\n",
    "We have seen above that $E_{total}$ *directly* depends on `out1` and `out2` which in turn depend on `io1` and `i02` which in turn depend on weights `w5`,`w6`, `w7`, `w8`. This means we have to use chain rule like below - \n",
    "\n",
    "$\\frac{\\partial E_{total}}{\\partial {w_5}}$ = $\\frac{\\partial E_{total}}{\\partial out1}*\\frac{\\partial out1}{\\partial io1} * \\frac{\\partial io1}{\\partial {w_5}} $\n",
    "\n",
    "Now \n",
    "$$\\frac{\\partial E_{total}}{\\partial {out1}} = 2* \\frac{1}{2}(target1 - out1)^{2-1}*(-1) + 0 = out1 - target1$$\n",
    "\n",
    "Now we have to calculate $\\frac{\\partial out1}{\\partial io1}$. Here `out1` was actually a logistic function (our activation function) $f(x) = \\frac{1}{1 + exp(-x)}$ . The derivative of logistic function is - \n",
    "\n",
    "If \n",
    "\n",
    "$y = \\frac{1}{1 + exp(-x)}$ \n",
    "\n",
    "then \n",
    "\n",
    "$\\frac{\\partial y}{\\partial x} = y(1 - y)$\n",
    "\n",
    "This gives\n",
    "\n",
    "$$\\frac{\\partial out1}{\\partial {io1}} = out1(1 - out1)$$\n",
    "\n",
    "Finally, we calculate $\\frac{\\partial io1}{\\partial w5}$. We know that - $io1 = w5*oh1 +w6*oh2 + b2$\n",
    "\n",
    "Using above, we get - \n",
    "\n",
    "$$\\frac{\\partial io1}{\\partial w5} = oh1 $$\n",
    "\n",
    "Following the same method implemented above, we can calcule the gradient wrt w6, w7 and w8. \n",
    "\n",
    "---\n",
    "Now, we also calculate the gradient wrt w1, w2,w3 and w4\n",
    "\n",
    "$\\frac{\\partial E_{total}}{\\partial {w_1}}$ = $\\frac{\\partial E_{total}}{\\partial oh_1}*\\frac{\\partial oh_1}{\\partial ih_1} * \\frac{\\partial ih_1}{\\partial {w_1}}$\n",
    "\n",
    "Note that unlike earlier, the first derivative on LHS is wrt `oh1` rather than `out1`. Here, both `out1` and `out2` *depend* on `w1` (via `oh1`). So basically $E_{total}$ depends on `oh1` and `oh1` in turn depends on `w1`. This explains the difference between calculations of $\\frac{\\partial E_{total}}{\\partial w_7}$ and $\\frac{\\partial E_{total}}{\\partial w_1}$  \n",
    "\n",
    "$\\frac{\\partial E_{total}}{\\partial oh_1} = \\frac{\\partial E1}{\\partial oh_1} +\\frac{\\partial E2}{\\partial oh_1} $\n",
    "\n",
    "$\\frac{\\partial E1}{\\partial oh_1} = .5*2*(target1-out1)*(-1)*\\frac{\\partial out1}{\\partial oh_1}$\n",
    "\n",
    "$= (-1)*(target1-out1)*\\frac{\\partial out1}{\\partial io_1}*\\frac{\\partial io_1}{\\partial oh_1}$\n",
    "\n",
    "$= (-1)*(target1-out1)*out1*(1-out1)*\\frac{\\partial io_1}{\\partial oh_1}$\n",
    "\n",
    "$ = (-1)*(target1-out1)*out1*(1-out1)*w_5$\n",
    "\n",
    "Now, to calculate $\\frac{\\partial E2}{\\partial oh_1}$\n",
    "\n",
    "$\\frac{\\partial E2}{\\partial oh_1} = .5*2*(target2-out2)*(-1)*\\frac{\\partial out2}{\\partial oh_1}$\n",
    "\n",
    "$= (-1)*(target2-out2)*\\frac{\\partial out2}{\\partial io_2}*\\frac{\\partial io_2}{\\partial oh_1}$\n",
    "\n",
    "$= (-1)*(target2-out2)*out2(1-out2)*\\frac{\\partial io_2}{\\partial oh_1}$\n",
    "\n",
    "$= (-1)*(target2-out2)*out2(1-out2)*w_7$"
   ]
  },
  {
   "cell_type": "code",
   "execution_count": 63,
   "metadata": {},
   "outputs": [],
   "source": [
    "dw5 = (out1 - target1)*(out1*(1-out1))* oh1 #gradient wrt 5"
   ]
  },
  {
   "cell_type": "code",
   "execution_count": 64,
   "metadata": {},
   "outputs": [
    {
     "data": {
      "text/plain": [
       "0.35891647971788465"
      ]
     },
     "execution_count": 64,
     "metadata": {},
     "output_type": "execute_result"
    }
   ],
   "source": [
    "#using learning rate = .5, w5 is updated as below\n",
    "w5_new = w5 - (lr*dw5)\n",
    "w5_new"
   ]
  },
  {
   "cell_type": "code",
   "execution_count": 66,
   "metadata": {
    "scrolled": true
   },
   "outputs": [],
   "source": [
    "dw6 = (out1 - target1)*(out1*(1-out1))* oh2 #derivative of error wrt w6"
   ]
  },
  {
   "cell_type": "code",
   "execution_count": 67,
   "metadata": {},
   "outputs": [
    {
     "data": {
      "text/plain": [
       "0.4086661860762334"
      ]
     },
     "execution_count": 67,
     "metadata": {},
     "output_type": "execute_result"
    }
   ],
   "source": [
    "w6_new = w6 - (lr*dw6)\n",
    "w6_new"
   ]
  },
  {
   "cell_type": "code",
   "execution_count": 68,
   "metadata": {},
   "outputs": [
    {
     "data": {
      "text/plain": [
       "0.5113012702387375"
      ]
     },
     "execution_count": 68,
     "metadata": {},
     "output_type": "execute_result"
    }
   ],
   "source": [
    "dw7 = (out2-target2)*(out2*(1-out2))*oh1 #derivative of error wrt w7\n",
    "w7_new = w7 - (lr*dw7)\n",
    "w7_new"
   ]
  },
  {
   "cell_type": "code",
   "execution_count": 69,
   "metadata": {},
   "outputs": [
    {
     "data": {
      "text/plain": [
       "0.56137012110798912"
      ]
     },
     "execution_count": 69,
     "metadata": {},
     "output_type": "execute_result"
    }
   ],
   "source": [
    "dw8 = (out2-target2)*(out2*(1-out2))*oh2 #derivative of error wrt w8\n",
    "w8_new = w8 - (lr*dw8)\n",
    "w8_new"
   ]
  },
  {
   "cell_type": "code",
   "execution_count": 41,
   "metadata": {},
   "outputs": [],
   "source": [
    "e1 =(-1)*(target1 - out1)*(out1*(1-out1))*.4 # de1/doh1"
   ]
  },
  {
   "cell_type": "code",
   "execution_count": 42,
   "metadata": {},
   "outputs": [],
   "source": [
    "e2= (-1)*(target2-out2)*(out2*(1-out2))*.5  #de2/doh1"
   ]
  },
  {
   "cell_type": "code",
   "execution_count": 50,
   "metadata": {},
   "outputs": [
    {
     "data": {
      "text/plain": [
       "0.0004385677344743468"
      ]
     },
     "execution_count": 50,
     "metadata": {},
     "output_type": "execute_result"
    }
   ],
   "source": [
    "dw1 = (e1+e2)*(oh1*(1-oh1)*.05) #derivative of error wrt w1\n",
    "dw1"
   ]
  },
  {
   "cell_type": "code",
   "execution_count": 70,
   "metadata": {
    "scrolled": true
   },
   "outputs": [
    {
     "data": {
      "text/plain": [
       "0.14978071613276281"
      ]
     },
     "execution_count": 70,
     "metadata": {},
     "output_type": "execute_result"
    }
   ],
   "source": [
    "w1_new = w1 -(lr*dw1)\n",
    "w1_new"
   ]
  },
  {
   "cell_type": "code",
   "execution_count": 72,
   "metadata": {},
   "outputs": [
    {
     "data": {
      "text/plain": [
       "0.19956143226552567"
      ]
     },
     "execution_count": 72,
     "metadata": {},
     "output_type": "execute_result"
    }
   ],
   "source": [
    "dw2 = (e1+e2)*(oh1*(1-oh1)*.1) #derivative of error wrt w1\n",
    "w2_new = w2 - (lr*dw2)\n",
    "w2_new"
   ]
  },
  {
   "cell_type": "code",
   "execution_count": 75,
   "metadata": {},
   "outputs": [
    {
     "data": {
      "text/plain": [
       "0.00049771273526085988"
      ]
     },
     "execution_count": 75,
     "metadata": {},
     "output_type": "execute_result"
    }
   ],
   "source": [
    "x1 = .5*2*(-1)*(target1-out1)*out1*(1-out1)*w6\n",
    "\n",
    "x2 = .5*2*(-1)*(target2-out2)*out2*(1-out2)*w8\n",
    "dw3 = (x1+x2)*(oh2*(1-oh2))*i1\n",
    "dw3"
   ]
  },
  {
   "cell_type": "code",
   "execution_count": 76,
   "metadata": {},
   "outputs": [
    {
     "data": {
      "text/plain": [
       "0.24975114363236958"
      ]
     },
     "execution_count": 76,
     "metadata": {},
     "output_type": "execute_result"
    }
   ],
   "source": [
    "w3_neww = w3 - (lr*dw3)\n",
    "w3_neww"
   ]
  },
  {
   "cell_type": "code",
   "execution_count": 79,
   "metadata": {},
   "outputs": [
    {
     "data": {
      "text/plain": [
       "0.00099542547052171976"
      ]
     },
     "execution_count": 79,
     "metadata": {},
     "output_type": "execute_result"
    }
   ],
   "source": [
    "x1 = .5*2*(-1)*(target1-out1)*out1*(1-out1)*w6\n",
    "x2 = .5*2*(-1)*(target2-out2)*out2*(1-out2)*w8\n",
    "dw4 = (x1+x2)*(oh2*(1-oh2))*i2\n",
    "dw4"
   ]
  },
  {
   "cell_type": "code",
   "execution_count": 80,
   "metadata": {},
   "outputs": [
    {
     "data": {
      "text/plain": [
       "0.29950228726473915"
      ]
     },
     "execution_count": 80,
     "metadata": {},
     "output_type": "execute_result"
    }
   ],
   "source": [
    "w4 - (lr*dw4)"
   ]
  },
  {
   "cell_type": "markdown",
   "metadata": {},
   "source": [
    "Let us put it all together. "
   ]
  },
  {
   "cell_type": "code",
   "execution_count": 109,
   "metadata": {},
   "outputs": [],
   "source": [
    "import numpy as np\n",
    "from scipy.special import expit\n",
    "\n",
    "\n",
    "def nn(niter):\n",
    "    i1, i2 = [.05, .1]\n",
    "    target1, target2 = [.01, .99]\n",
    "    lr = .5\n",
    "    b1, b2 = [.35, .60]\n",
    "    w1,w2,w3,w4 = [.15, .20, .25, .30]\n",
    "    w5, w6, w7, w8 = [.40, .45, .50, .55]\n",
    "    \n",
    "    n = 0\n",
    "    while n <= niter:\n",
    "        ih1 = np.dot([i1,i2],[w1,w2])+ b1  #input for the first hidden layer neuron\n",
    "        ih2 = np.dot([i1,i2],[w3,w4]) + b1  #input for the second hidden layer neuron\n",
    "\n",
    "        oh1 = expit(ih1)     #applying activation function to get the o/p of firt hidden layer neuron\n",
    "        oh2 = expit(ih2)     #applying activation function to get\n",
    "\n",
    "#oh1, oh2 will be used as input for output neurons\n",
    "\n",
    "        io1 = np.dot([oh1, oh2], [w5, w6]) + b2\n",
    "        io2 = np.dot([oh1, oh2], [ w7, w8]) + b2 \n",
    "\n",
    "        out1 = expit(io1)\n",
    "        out2 = expit(io2)\n",
    "\n",
    "        dw5 = (out1 - target1)*(out1*(1-out1))* oh1\n",
    "        dw6 = (out1 - target1)*(out1*(1-out1))* oh2\n",
    "        dw7 = (out2-target2)*(out2*(1-out2))*oh1\n",
    "        dw8 = (out2-target2)*(out2*(1-out2))*oh2\n",
    "\n",
    "        e1 =(-1)*(target1 - out1)*(out1*(1-out1))*w5\n",
    "        e2= (-1)*(target2-out2)*(out2*(1-out2))*w7\n",
    "        dw1 = (e1+e2)*(oh1*(1-oh1)*i1)\n",
    "        dw2 = (e1+e2)*(oh1*(1-oh1)*i2)\n",
    "        x1 = .5*2*(-1)*(target1-out1)*out1*(1-out1)*w6\n",
    "        x2 = .5*2*(-1)*(target2-out2)*out2*(1-out2)*w8\n",
    "        dw3 = (x1+x2)*(oh2*(1-oh2))*i1\n",
    "        dw4 = (x1+x2)*(oh2*(1-oh2))*i2\n",
    "\n",
    "        w1 = w1 - (lr*dw1)\n",
    "        w2 = w2 - (lr*dw2)\n",
    "        w3 = w3 - (lr*dw3)\n",
    "        w4 = w4 - (lr*dw4)\n",
    "        w5 = w5 - (lr*dw5)\n",
    "        w6 = w6 - (lr*dw6)\n",
    "        w7 = w7 - (lr*dw7)\n",
    "        w8 = w8 - (lr*dw8)\n",
    "        n=n+1\n",
    "\n",
    "    print(out1, out2)"
   ]
  },
  {
   "cell_type": "code",
   "execution_count": 122,
   "metadata": {},
   "outputs": [
    {
     "name": "stdout",
     "output_type": "stream",
     "text": [
      "0.0104039415528 0.989583606458\n"
     ]
    }
   ],
   "source": [
    "nn(60000)"
   ]
  },
  {
   "cell_type": "markdown",
   "metadata": {},
   "source": [
    "#### Scikit-Learn MLP Classifier"
   ]
  },
  {
   "cell_type": "code",
   "execution_count": 1,
   "metadata": {},
   "outputs": [
    {
     "data": {
      "text/plain": [
       "0.88"
      ]
     },
     "execution_count": 1,
     "metadata": {},
     "output_type": "execute_result"
    }
   ],
   "source": [
    "%matplotlib inline\n",
    "\n",
    "import matplotlib.pyplot as plt\n",
    "from sklearn.neural_network import MLPClassifier\n",
    "from sklearn.datasets import make_moons\n",
    "from sklearn.model_selection import train_test_split\n",
    "from sklearn.metrics import accuracy_score\n",
    "\n",
    "X, y = make_moons(n_samples=100, noise=0.25, random_state=3)\n",
    "X_train, X_test, y_train, y_test = train_test_split(X, y, stratify=y, random_state=42)\n",
    "\n",
    "nn = MLPClassifier(solver='lbfgs')\n",
    "nn.fit(X_train, y_train)\n",
    "y_pred = nn.predict(X_test)\n",
    "accuracy_score(y_test, y_pred)"
   ]
  },
  {
   "cell_type": "markdown",
   "metadata": {},
   "source": [
    "Note that `activation` keyword can take one of following values - (relu, tanh, identity, logistic). This is the activation function for hidden layers. \n",
    "\n",
    "  - `identity`, no-op activation, useful to implement linear bottleneck, returns $f(x) = x$\n",
    "  - `logistic`, the logistic sigmoid function, returns $f(x) = \\frac{1}{1 + exp(-x)}$.\n",
    "  - `tanh`, the hyperbolic tan function, returns $f(x) = tanh(x)$.\n",
    "  - `relu`, the rectified linear unit function, returns $f(x) = max(0, x)$\n",
    "\n",
    "Also, `solver` keyword can take one of these values - (`lbfgs`, `sgd`, `adam`). Default is `adam`"
   ]
  },
  {
   "cell_type": "code",
   "execution_count": 1,
   "metadata": {
    "collapsed": true
   },
   "outputs": [],
   "source": [
    ">>> from sklearn.datasets import fetch_mldata\n",
    ">>> mnist = fetch_mldata('MNIST original')\n",
    "\n",
    "#second command raised OSError few times. It was because internet speed was erratic and downloaded data got corrupted."
   ]
  },
  {
   "cell_type": "code",
   "execution_count": 2,
   "metadata": {
    "scrolled": true
   },
   "outputs": [
    {
     "data": {
      "text/plain": [
       "((70000, 784),\n",
       " dict_keys(['DESCR', 'COL_NAMES', 'target', 'data']),\n",
       " ['label', 'data'])"
      ]
     },
     "execution_count": 2,
     "metadata": {},
     "output_type": "execute_result"
    }
   ],
   "source": [
    "mnist.data.shape, mnist.keys(), mnist.COL_NAMES"
   ]
  },
  {
   "cell_type": "code",
   "execution_count": 2,
   "metadata": {
    "collapsed": true
   },
   "outputs": [],
   "source": [
    "from sklearn.model_selection import train_test_split\n",
    "xtrain, xtest, ytrain, ytest = train_test_split(mnist.data, mnist.target)"
   ]
  },
  {
   "cell_type": "code",
   "execution_count": 39,
   "metadata": {
    "collapsed": true
   },
   "outputs": [],
   "source": [
    "%matplotlib inline\n",
    "\n",
    "import matplotlib.pyplot as plt\n",
    "from sklearn.neural_network import MLPClassifier\n",
    "from sklearn.metrics import accuracy_score, classification_report, confusion_matrix\n",
    "\n",
    "model = MLPClassifier(hidden_layer_sizes=(150,))\n",
    "model.fit(xtrain, ytrain)\n",
    "ypredict = model.predict(xtest)"
   ]
  },
  {
   "cell_type": "markdown",
   "metadata": {},
   "source": [
    "Above we set the value of `hidden_layer_sizes` to (150,). The default value is (100,). Increasing this value has improved the results by about 2% (from .945 to .965).  "
   ]
  },
  {
   "cell_type": "code",
   "execution_count": 40,
   "metadata": {},
   "outputs": [
    {
     "data": {
      "text/plain": [
       "0.96502857142857146"
      ]
     },
     "execution_count": 40,
     "metadata": {},
     "output_type": "execute_result"
    }
   ],
   "source": [
    "accuracy_score(ytest, ypredict)"
   ]
  },
  {
   "cell_type": "code",
   "execution_count": 41,
   "metadata": {},
   "outputs": [
    {
     "data": {
      "text/plain": [
       "0.96502857142857146"
      ]
     },
     "execution_count": 41,
     "metadata": {},
     "output_type": "execute_result"
    }
   ],
   "source": [
    "model.score(xtest, ytest)\n"
   ]
  },
  {
   "cell_type": "code",
   "execution_count": 42,
   "metadata": {
    "collapsed": true
   },
   "outputs": [],
   "source": [
    "mat = confusion_matrix(ytest,ypredict)"
   ]
  },
  {
   "cell_type": "code",
   "execution_count": 43,
   "metadata": {},
   "outputs": [
    {
     "data": {
      "text/plain": [
       "<matplotlib.axes._subplots.AxesSubplot at 0xe337e70>"
      ]
     },
     "execution_count": 43,
     "metadata": {},
     "output_type": "execute_result"
    },
    {
     "data": {
      "image/png": "[encoded data removed]",
      "text/plain": [
       "<matplotlib.figure.Figure at 0x10a4a530>"
      ]
     },
     "metadata": {},
     "output_type": "display_data"
    }
   ],
   "source": [
    "import seaborn as sns\n",
    "sns.heatmap(mat, annot = True, fmt='d', cbar = True, cmap = 'YlGnBu')"
   ]
  },
  {
   "cell_type": "code",
   "execution_count": 44,
   "metadata": {},
   "outputs": [
    {
     "data": {
      "text/plain": [
       "MLPClassifier(activation='relu', alpha=0.0001, batch_size='auto', beta_1=0.9,\n",
       "       beta_2=0.999, early_stopping=False, epsilon=1e-08,\n",
       "       hidden_layer_sizes=(150,), learning_rate='constant',\n",
       "       learning_rate_init=0.001, max_iter=200, momentum=0.9,\n",
       "       nesterovs_momentum=True, power_t=0.5, random_state=None,\n",
       "       shuffle=True, solver='adam', tol=0.0001, validation_fraction=0.1,\n",
       "       verbose=False, warm_start=False)"
      ]
     },
     "execution_count": 44,
     "metadata": {},
     "output_type": "execute_result"
    }
   ],
   "source": [
    "model"
   ]
  },
  {
   "cell_type": "code",
   "execution_count": 45,
   "metadata": {},
   "outputs": [
    {
     "name": "stdout",
     "output_type": "stream",
     "text": [
      "             precision    recall  f1-score   support\n",
      "\n",
      "        0.0       0.99      0.97      0.98      1711\n",
      "        1.0       0.98      0.99      0.98      1950\n",
      "        2.0       0.95      0.97      0.96      1767\n",
      "        3.0       0.96      0.95      0.95      1829\n",
      "        4.0       0.96      0.98      0.97      1689\n",
      "        5.0       0.95      0.97      0.96      1586\n",
      "        6.0       0.97      0.98      0.98      1671\n",
      "        7.0       0.97      0.97      0.97      1830\n",
      "        8.0       0.97      0.94      0.95      1707\n",
      "        9.0       0.96      0.94      0.95      1760\n",
      "\n",
      "avg / total       0.97      0.97      0.96     17500\n",
      "\n"
     ]
    }
   ],
   "source": [
    "print(classification_report(ytest,ypredict))"
   ]
  },
  {
   "cell_type": "markdown",
   "metadata": {},
   "source": [
    "In above report, sample column shows the number of respective labels in ytest. This means, `ytest` has 1711 samples for class '0' and 1950 samples for class '1'.\n"
   ]
  },
  {
   "cell_type": "markdown",
   "metadata": {},
   "source": [
    "Let us test the GaussianNB classifier for the same data -"
   ]
  },
  {
   "cell_type": "code",
   "execution_count": 46,
   "metadata": {
    "collapsed": true
   },
   "outputs": [],
   "source": [
    "from sklearn.naive_bayes import GaussianNB\n",
    "\n",
    "gnb = GaussianNB()\n",
    "gnb.fit(xtrain, ytrain)\n",
    "ypred = gnb.predict(xtest)"
   ]
  },
  {
   "cell_type": "code",
   "execution_count": 47,
   "metadata": {},
   "outputs": [
    {
     "data": {
      "text/plain": [
       "0.56662857142857148"
      ]
     },
     "execution_count": 47,
     "metadata": {},
     "output_type": "execute_result"
    }
   ],
   "source": [
    "gnb.score(xtest, ytest)"
   ]
  },
  {
   "cell_type": "code",
   "execution_count": 48,
   "metadata": {},
   "outputs": [
    {
     "data": {
      "text/plain": [
       "0.56662857142857148"
      ]
     },
     "execution_count": 48,
     "metadata": {},
     "output_type": "execute_result"
    }
   ],
   "source": [
    "accuracy_score(ytest, ypred)"
   ]
  },
  {
   "cell_type": "code",
   "execution_count": 49,
   "metadata": {},
   "outputs": [
    {
     "data": {
      "text/plain": [
       "<matplotlib.axes._subplots.AxesSubplot at 0x10bf9c90>"
      ]
     },
     "execution_count": 49,
     "metadata": {},
     "output_type": "execute_result"
    },
    {
     "data": {
      "image/png": "[encoded data removed]",
      "text/plain": [
       "<matplotlib.figure.Figure at 0x10bf9090>"
      ]
     },
     "metadata": {},
     "output_type": "display_data"
    }
   ],
   "source": [
    "mat = confusion_matrix(ytest,ypred)\n",
    "sns.heatmap(mat, annot = True, fmt='d', cbar = True, cmap = 'YlGnBu')"
   ]
  },
  {
   "cell_type": "markdown",
   "metadata": {},
   "source": [
    "We see that the performance of GaussianNB is far more worse. In fact, our MLPClassifier actually performed very well even with the default hyperparameters values and we were able to improve the result by increasing the number of neurons in hidden layers. "
   ]
  },
  {
   "cell_type": "markdown",
   "metadata": {},
   "source": [
    "#### Using `cross_val_score` on training data"
   ]
  },
  {
   "cell_type": "code",
   "execution_count": 51,
   "metadata": {},
   "outputs": [
    {
     "data": {
      "text/plain": [
       "array([ 0.96277609,  0.94916222,  0.95495238,  0.95922256,  0.95636433])"
      ]
     },
     "execution_count": 51,
     "metadata": {},
     "output_type": "execute_result"
    }
   ],
   "source": [
    "\n",
    "from sklearn.model_selection import cross_val_score\n",
    "model = MLPClassifier(hidden_layer_sizes=(150,))\n",
    "cross_val_score(model, xtrain, ytrain, cv = 5)"
   ]
  },
  {
   "cell_type": "code",
   "execution_count": 53,
   "metadata": {},
   "outputs": [
    {
     "data": {
      "text/plain": [
       "array([ 0.96277609,  0.94916222,  0.95495238,  0.95922256,  0.95636433])"
      ]
     },
     "execution_count": 53,
     "metadata": {},
     "output_type": "execute_result"
    }
   ],
   "source": [
    "import numpy as np\n",
    "a = np.array([0.96277609,  0.94916222,  0.95495238,  0.95922256,  0.95636433])\n",
    "a"
   ]
  },
  {
   "cell_type": "code",
   "execution_count": 54,
   "metadata": {},
   "outputs": [
    {
     "data": {
      "text/plain": [
       "0.95649551600000005"
      ]
     },
     "execution_count": 54,
     "metadata": {},
     "output_type": "execute_result"
    }
   ],
   "source": [
    "a.mean()"
   ]
  },
  {
   "cell_type": "code",
   "execution_count": 55,
   "metadata": {},
   "outputs": [
    {
     "data": {
      "text/plain": [
       "(150,)"
      ]
     },
     "execution_count": 55,
     "metadata": {},
     "output_type": "execute_result"
    }
   ],
   "source": [
    "model.hidden_layer_sizes\n"
   ]
  },
  {
   "cell_type": "code",
   "execution_count": 141,
   "metadata": {},
   "outputs": [],
   "source": [
    "from sklearn.datasets import make_blobs\n",
    "X,y = make_blobs(100, centers = 2, cluster_std = .5)"
   ]
  },
  {
   "cell_type": "code",
   "execution_count": 142,
   "metadata": {
    "scrolled": false
   },
   "outputs": [
    {
     "data": {
      "text/plain": [
       "<matplotlib.collections.PathCollection at 0x8067550>"
      ]
     },
     "execution_count": 142,
     "metadata": {},
     "output_type": "execute_result"
    },
    {
     "data": {
      "image/png": "[encoded data removed]",
      "text/plain": [
       "<matplotlib.figure.Figure at 0x8000ef0>"
      ]
     },
     "metadata": {},
     "output_type": "display_data"
    }
   ],
   "source": [
    "%matplotlib inline\n",
    "import matplotlib.pyplot as plt\n",
    "plt.scatter(X[:,0], X[:,1], c = y)"
   ]
  },
  {
   "cell_type": "code",
   "execution_count": 151,
   "metadata": {},
   "outputs": [
    {
     "data": {
      "text/plain": [
       "1"
      ]
     },
     "execution_count": 151,
     "metadata": {},
     "output_type": "execute_result"
    }
   ],
   "source": [
    "i1, i2 =X[99]\n",
    "y[99]"
   ]
  },
  {
   "cell_type": "code",
   "execution_count": null,
   "metadata": {
    "collapsed": true
   },
   "outputs": [],
   "source": [
    "import numpy as np\n",
    "from scipy.special import expit\n",
    "\n",
    "iter = 10000\n",
    "for i in range(100):\n",
    "    i1, i2 = X[i]\n",
    "    target = y[i]\n",
    "    lr = .5\n",
    "    b1, b2 = [.35, .60]\n",
    "    w1,w2,w3,w4 = [.15, .20, .25, .30]\n",
    "    w5, w6 = [.40, .45]\n",
    "    \n",
    "    while n <= iter:\n",
    "    ih1 = np.dot([i1,i2],[w1,w2])+ b1  #input for the first hidden layer neuron\n",
    "    ih2 = np.dot([i1,i2],[w3,w4]) + b1  #input for the second hidden layer neuron\n",
    "\n",
    "    oh1 = expit(ih1)     #applying activation function to get the o/p of firt hidden layer neuron\n",
    "    oh2 = expit(ih2)     #applying activation function to get\n",
    "\n",
    "#oh1, oh2 will be used as input for output neurons\n",
    "\n",
    "    io = np.dot([oh1, oh2], [w5, w6]) + b2 \n",
    "\n",
    "    out = expit(io)\n",
    "    error = .5*(target - output)**2\n",
    "\n",
    "        dw5 = (out - target)*(out*(1-out))* oh1\n",
    "        dw6 = (out - target)*(out*(1-out))* oh2\n",
    "\n",
    "        e =(-1)*(target - out)*(out*(1-out))*w5\n",
    "        dw1 = (e)*(oh1*(1-oh1)*i1)\n",
    "        dw2 = (e)*(oh1*(1-oh1)*i2)\n",
    "        x1 = .5*2*(-1)*(target-out)*out*(1-out)*w6\n",
    "        dw3 = (x)*(oh2*(1-oh2))*i1\n",
    "        dw4 = (x)*(oh2*(1-oh2))*i2\n",
    "\n",
    "        w1 = w1 - (lr*dw1)\n",
    "        w2 = w2 - (lr*dw2)\n",
    "        w3 = w3 - (lr*dw3)\n",
    "        w4 = w4 - (lr*dw4)\n",
    "        w5 = w5 - (lr*dw5)\n",
    "        w6 = w6 - (lr*dw6)\n",
    "        \n",
    "        n=n+1\n",
    "\n",
    "    print(out1, out2)"
   ]
  }
 ],
 "metadata": {
  "kernelspec": {
   "display_name": "Python 3",
   "language": "python",
   "name": "python3"
  },
  "language_info": {
   "codemirror_mode": {
    "name": "ipython",
    "version": 3
   },
   "file_extension": ".py",
   "mimetype": "text/x-python",
   "name": "python",
   "nbconvert_exporter": "python",
   "pygments_lexer": "ipython3",
   "version": "3.6.3"
  }
 },
 "nbformat": 4,
 "nbformat_minor": 2
}
