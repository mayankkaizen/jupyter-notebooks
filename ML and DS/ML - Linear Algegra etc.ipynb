{
 "cells": [
  {
   "cell_type": "code",
   "execution_count": 1,
   "metadata": {},
   "outputs": [],
   "source": [
    "#some generic imports\n",
    "\n",
    "%matplotlib inline \n",
    "import matplotlib.pyplot as plt\n",
    "import seaborn as sns\n",
    "sns.set()\n",
    "import numpy as np\n",
    "import pandas as pd\n",
    "from scipy import stats\n",
    "from scipy import special\n"
   ]
  },
  {
   "cell_type": "markdown",
   "metadata": {},
   "source": [
    "### Calculas\n",
    "\n",
    "##### Slope\n",
    "\n",
    "For a differentiable function $f(x)$, slope at a point $a$ is given by $f'(a)$. The slope is zero at extrema (minima or maxima, global or local).\n",
    "\n",
    "For example, consider a function $f(x) = x^2$. The derivative of this function ($f'(x)$) is given by $2x$. We can see that the derivative is zero at $x = 0$, which means function $f(x)$ has its extrema at $x = 0$"
   ]
  },
  {
   "cell_type": "code",
   "execution_count": 2,
   "metadata": {},
   "outputs": [
    {
     "data": {
      "text/plain": [
       "<matplotlib.legend.Legend at 0x785cb70>"
      ]
     },
     "execution_count": 2,
     "metadata": {},
     "output_type": "execute_result"
    },
    {
     "data": {
      "image/png": "[encoded data removed]",
      "text/plain": [
       "<Figure size 432x288 with 2 Axes>"
      ]
     },
     "metadata": {
      "needs_background": "light"
     },
     "output_type": "display_data"
    }
   ],
   "source": [
    "x = np.arange(-100,100)\n",
    " \n",
    "fig, ax = plt.subplots(2, sharex = True)\n",
    "ax[0].plot(x, (x**2), label = '$x^2$')\n",
    "ax[0].plot([0,50,100],[-2500,2500,8500], label = 'tangent line')\n",
    "ax[0].scatter(50, 2500)\n",
    "ax[1].plot(x, (2*x), label = '$2x$')\n",
    "ax[0].legend()\n",
    "ax[1].legend()"
   ]
  },
  {
   "cell_type": "markdown",
   "metadata": {},
   "source": [
    "### Vector\n",
    "\n",
    "Vectors are 1-dimensional arrays of numbers or terms. In geometry, vectors store the magnitude and direction of a potential change to a point. A vector with more than one dimension is called a matrix.\n",
    "\n",
    "##### Vector Scalar Operations"
   ]
  },
  {
   "cell_type": "code",
   "execution_count": 3,
   "metadata": {},
   "outputs": [
    {
     "data": {
      "text/plain": [
       "(array([3, 4, 6]),\n",
       " array([1, 2, 4]),\n",
       " array([ 4,  6, 10]),\n",
       " array([1. , 1.5, 2.5]))"
      ]
     },
     "execution_count": 3,
     "metadata": {},
     "output_type": "execute_result"
    }
   ],
   "source": [
    "# a 3-d vector \n",
    "vec = np.array([2,3,5])\n",
    "b = vec + 1\n",
    "c = vec - 1\n",
    "d = vec*2\n",
    "e = vec/2\n",
    "b,c,d,e"
   ]
  },
  {
   "cell_type": "markdown",
   "metadata": {},
   "source": [
    "##### Elementwise Operations"
   ]
  },
  {
   "cell_type": "code",
   "execution_count": 4,
   "metadata": {},
   "outputs": [
    {
     "data": {
      "text/plain": [
       "(array([4, 5, 8]),\n",
       " array([0, 1, 2]),\n",
       " array([1.        , 1.5       , 1.66666667]))"
      ]
     },
     "execution_count": 4,
     "metadata": {},
     "output_type": "execute_result"
    }
   ],
   "source": [
    "vec1 = np.array([2,2,3])\n",
    "\n",
    "vec + vec1, vec - vec1, vec/vec1"
   ]
  },
  {
   "cell_type": "markdown",
   "metadata": {},
   "source": [
    "##### Vector Dot Product and Hadamard Product\n",
    "\n",
    " - Vector Dot Product returns a scalar\n",
    " - Vector Hadamard Product returns another vector"
   ]
  },
  {
   "cell_type": "code",
   "execution_count": 5,
   "metadata": {},
   "outputs": [
    {
     "data": {
      "text/plain": [
       "(25, array([ 4,  6, 15]), 25, 25)"
      ]
     },
     "execution_count": 5,
     "metadata": {},
     "output_type": "execute_result"
    }
   ],
   "source": [
    "#Dot Product\n",
    "a = np.dot(vec, vec1)\n",
    "c = vec@vec1\n",
    "d = np.matmul(vec,vec1)\n",
    "\n",
    "#Hadamard Product\n",
    "b = np.multiply(vec, vec1)\n",
    "\n",
    "a,b,c,d"
   ]
  },
  {
   "cell_type": "markdown",
   "metadata": {},
   "source": [
    "### Matrices\n",
    "\n",
    " - A rectangular grid of numbers\n",
    " - The dimension of matrix is decribed as rows x columns.\n",
    "##### Matrix Multiplication or Dot Product\n",
    "\n",
    "Inner dimension of both metrices should be same. That is, we can multiply two metrices of $A_{(l,m)}$ and $B_{(m,n)}$ . This will result into another matrix of the shape $(l,n)$\n",
    "\n",
    "Matrix multiplication relies on dot product to multiply various combinations of rows and columns. In the image below, taken from Khan Academy’s excellent linear algebra course, each entry in Matrix C is the dot product of a row in matrix A and a column in matrix B.\n",
    "\n",
    "![](images/dotprod.png)"
   ]
  },
  {
   "cell_type": "code",
   "execution_count": 6,
   "metadata": {},
   "outputs": [
    {
     "data": {
      "text/plain": [
       "(array([19, 27]), 14)"
      ]
     },
     "execution_count": 6,
     "metadata": {},
     "output_type": "execute_result"
    }
   ],
   "source": [
    "import numpy as np\n",
    "a = np.array([[1,2,3],[2,3,4]]) #2x3 matrix\n",
    "b = np.array([1,3,4])     # can be broadcast to 3x1\n",
    "c = np.array([4,2,1])\n",
    "d = b[:,np.newaxis]\n",
    "np.dot(a,b), np.dot(b,c)"
   ]
  },
  {
   "cell_type": "code",
   "execution_count": 7,
   "metadata": {},
   "outputs": [
    {
     "data": {
      "text/plain": [
       "array([[19],\n",
       "       [27]])"
      ]
     },
     "execution_count": 7,
     "metadata": {},
     "output_type": "execute_result"
    }
   ],
   "source": [
    "np.dot(a,d)"
   ]
  },
  {
   "cell_type": "code",
   "execution_count": 8,
   "metadata": {},
   "outputs": [
    {
     "data": {
      "text/plain": [
       "(array([19, 27]), 14, array([[19],\n",
       "        [27]]))"
      ]
     },
     "execution_count": 8,
     "metadata": {},
     "output_type": "execute_result"
    }
   ],
   "source": [
    "np.matmul(a,b), np.matmul(b,c), np.matmul(a,d)"
   ]
  },
  {
   "cell_type": "code",
   "execution_count": 9,
   "metadata": {},
   "outputs": [
    {
     "data": {
      "text/plain": [
       "array([19, 27])"
      ]
     },
     "execution_count": 9,
     "metadata": {},
     "output_type": "execute_result"
    }
   ],
   "source": [
    "a@b #Python3.5+"
   ]
  },
  {
   "cell_type": "markdown",
   "metadata": {},
   "source": [
    "Multiplication by a scalar is not allowed, use ``*`` instead. Note that multiplying a stack of matrices with a vector will result in a stack of vectors, but matmul will not recognize it as such.\n",
    "\n",
    "``matmul`` differs from ``dot`` in two important ways.\n",
    "\n",
    "- Multiplication by scalars is not allowed.\n",
    "- Stacks of matrices are broadcast together as if the matrices\n",
    "  were elements.\n",
    "  \n",
    "#### Hadamard Product or Element-wise Product  "
   ]
  },
  {
   "cell_type": "code",
   "execution_count": 10,
   "metadata": {},
   "outputs": [
    {
     "data": {
      "text/plain": [
       "array([[ 5, 12],\n",
       "       [21, 32]])"
      ]
     },
     "execution_count": 10,
     "metadata": {},
     "output_type": "execute_result"
    }
   ],
   "source": [
    "a = np.array([[1,2],[3,4]])\n",
    "b = np.array([[5,6],[7,8]])\n",
    "np.multiply(a,b)"
   ]
  },
  {
   "cell_type": "code",
   "execution_count": 11,
   "metadata": {},
   "outputs": [
    {
     "data": {
      "text/plain": [
       "array([[ 5, 12],\n",
       "       [21, 32]])"
      ]
     },
     "execution_count": 11,
     "metadata": {},
     "output_type": "execute_result"
    }
   ],
   "source": [
    "a*b"
   ]
  },
  {
   "cell_type": "markdown",
   "metadata": {},
   "source": [
    "##### Matrix Transpose\n",
    "\n",
    "Rows are converted columns."
   ]
  },
  {
   "cell_type": "code",
   "execution_count": 12,
   "metadata": {},
   "outputs": [
    {
     "data": {
      "text/plain": [
       "(array([[1, 2],\n",
       "        [3, 4]]), array([[1, 3],\n",
       "        [2, 4]]))"
      ]
     },
     "execution_count": 12,
     "metadata": {},
     "output_type": "execute_result"
    }
   ],
   "source": [
    "a = np.array([[1,2],[3,4]])\n",
    "a, a.T"
   ]
  },
  {
   "cell_type": "markdown",
   "metadata": {},
   "source": [
    "##### Eigenvector and Eigenvalue\n",
    "\n",
    "Let us assume that we have a matrix **A** and a vector *\n",
    "v*.\n",
    "We can get a vector *w* by taking their dot product - \n",
    "\n",
    "**A**.***v*** = ***w***\n",
    "\n",
    "If it occurs that v and w are scalar multiples, that is if  -\n",
    "\n",
    "**A**.***v*** = ***w*** = $\\lambda$***v***\n",
    "\n",
    "Then ***v*** is eigenvector of transformation **A** and $\\lambda$ is eigenvalue corresponding to that eigenvector.\n",
    "\n",
    "For example, let \n",
    "\n",
    "$A = \\begin{bmatrix}\n",
    "2 & 1 \\\\ 1 & 2\n",
    "\\end{bmatrix}\n",
    "$\n",
    "\n",
    "$v = \\begin{bmatrix}1\\\\-1 \\end{bmatrix}$\n",
    "\n",
    "then their dot product (***w***) would be \n",
    "\n",
    "$w = \\begin{bmatrix}1\\\\-1 \\end{bmatrix}$\n",
    "\n",
    "But it is immediately obvious that ***w*** is same as ***v***. Or put another way, ***w*** is scalar multiple of ***v*** as ***w*** = 1****v***. It follows that vector ***v*** is eigenvector and 1 is the eigenvalue for this vector. \n",
    "\n",
    "But this is not the only eigenvector/eigenvalue for this transformation. It is to be noted that the size of A determines the number of eighenvalues. For n x n matrix, the number of eigenvalues would be n.\n",
    "\n",
    "From an stats.stackexchange post - \n",
    "\n",
    "*An n x n matrix which is diagonalizable must have a set of n linearly independent eigenvectors - the columns of the diagonalizing matrix are such a set. In general, if an n x n matrix has k distinct eigenvalues, then there may in general be anywhere between k and n linearly independent eigenvectors. For any of this, it doesn't matter whether or not the eighenvalues are non-zero.*\n",
    "\n",
    "Another eigenvector (with eigenvalue = 3) would be -\n",
    "\n",
    "$ v_{\\lambda = 3}\\begin{bmatrix}1\\\\1 \\end{bmatrix}$\n",
    "\n",
    "To calculate all possible values of $\\lambda$, we calculate the determinant - \n",
    " \n",
    "$\\begin{vmatrix}A-\\lambda I \\end{vmatrix}$\n",
    "\n",
    "where $I$ is the identity matrix. \n",
    "\n",
    "For our example, we would have a determinant like this -\n",
    "\n",
    "$\\begin{vmatrix}\n",
    "2-\\lambda&1 \\\\\n",
    "1& 2-\\lambda\n",
    "\\end{vmatrix} = 3-4\\lambda+\\lambda^2$\n",
    "\n",
    "the roots for quadratic equation on LHS are $\\lambda$ = 1 and  $\\lambda$ = 3. These two values would be our eigenvalues.\n",
    "\\\n"
   ]
  },
  {
   "cell_type": "code",
   "execution_count": 13,
   "metadata": {},
   "outputs": [
    {
     "data": {
      "text/plain": [
       "array([ 1, -1])"
      ]
     },
     "execution_count": 13,
     "metadata": {},
     "output_type": "execute_result"
    }
   ],
   "source": [
    "a = np.array([[2,1],[1,2]])\n",
    "b = np.array([1,-1])\n",
    "c = np.dot(a,b)\n",
    "c"
   ]
  },
  {
   "cell_type": "code",
   "execution_count": 14,
   "metadata": {},
   "outputs": [
    {
     "data": {
      "text/plain": [
       "array([[2, 1],\n",
       "       [1, 2]])"
      ]
     },
     "execution_count": 14,
     "metadata": {},
     "output_type": "execute_result"
    }
   ],
   "source": [
    "a"
   ]
  },
  {
   "cell_type": "code",
   "execution_count": 15,
   "metadata": {},
   "outputs": [
    {
     "data": {
      "text/plain": [
       "array([ 1, -1])"
      ]
     },
     "execution_count": 15,
     "metadata": {},
     "output_type": "execute_result"
    }
   ],
   "source": [
    "b*1 #is equal to c\n"
   ]
  },
  {
   "cell_type": "code",
   "execution_count": 16,
   "metadata": {},
   "outputs": [
    {
     "data": {
      "text/plain": [
       "array([3, 3])"
      ]
     },
     "execution_count": 16,
     "metadata": {},
     "output_type": "execute_result"
    }
   ],
   "source": [
    "b = np.array([1,1])\n",
    "c = np.dot(a,b)\n",
    "c"
   ]
  },
  {
   "cell_type": "code",
   "execution_count": 17,
   "metadata": {},
   "outputs": [
    {
     "data": {
      "text/plain": [
       "array([3, 3])"
      ]
     },
     "execution_count": 17,
     "metadata": {},
     "output_type": "execute_result"
    }
   ],
   "source": [
    "b*3 #b is another eigen vector and 3 eigen value. Same as c above\n"
   ]
  },
  {
   "cell_type": "code",
   "execution_count": 18,
   "metadata": {},
   "outputs": [
    {
     "data": {
      "text/plain": [
       "(array([3.+0.j, 1.+0.j]), array([[ 0.70710678, -0.70710678],\n",
       "        [ 0.70710678,  0.70710678]]))"
      ]
     },
     "execution_count": 18,
     "metadata": {},
     "output_type": "execute_result"
    }
   ],
   "source": [
    "# scipy function to calculate eigenvectors and eigen values,\n",
    "\n",
    "from scipy import linalg\n",
    "\n",
    "linalg.eig(a)"
   ]
  },
  {
   "cell_type": "markdown",
   "metadata": {},
   "source": [
    "Why isn't this function producing the eigenvector shown in the description?\n",
    "\n",
    "Edit: Because `linalg.eig` produces normalized eigenvectors which in above case are `1/sqrt(2)` times the eigenvectors originally mentioned earlier. See below how normalization is done. \n"
   ]
  },
  {
   "cell_type": "code",
   "execution_count": 19,
   "metadata": {},
   "outputs": [
    {
     "data": {
      "text/plain": [
       "array([[ 0.70710678, -0.70710678]])"
      ]
     },
     "execution_count": 19,
     "metadata": {},
     "output_type": "execute_result"
    }
   ],
   "source": [
    "from sklearn.preprocessing import Normalizer\n",
    "norm = Normalizer()\n",
    "norm.fit_transform(np.array([[1,-1]]))"
   ]
  },
  {
   "cell_type": "markdown",
   "metadata": {},
   "source": [
    "---\n",
    "### Neural Network\n",
    "\n",
    "##### Activation Functions\n",
    "\n",
    " - ELU\n",
    " - ReLU\n",
    " - Sigmoid\n",
    " - tanh\n",
    " - Softmax\n",
    " \n",
    "##### Chain Rule for Derivatives\n",
    "\n",
    "Suppose we have a function like -\n",
    "\n",
    "𝑓(𝑥) = 𝐴(𝐵(𝐶(𝑥))\n",
    "\n",
    "then, per chain rule, the derivative of 𝑓 wrt 𝑥 will be - \n",
    "\n",
    "\n",
    "𝑓′(𝑥) = 𝑓′(𝐴)·𝐴′(𝐵)·𝐵′(𝐶)·𝐶′(𝑥)\n",
    "\n",
    "##### Architectures\n",
    "\n",
    " - Autoencoder\n",
    " - CNN\n",
    " - RNN\n",
    " - GNN\n",
    " - MLP\n",
    " - VAE"
   ]
  },
  {
   "cell_type": "markdown",
   "metadata": {},
   "source": [
    "---\n",
    "### Loss Function\n",
    "\n",
    " - Cross Entropy\n",
    " - Hinge Huber\n",
    " - Kullback-Leiber\n",
    " - MAE (L1)\n",
    " - MSE (L2)\n",
    " \n",
    "### Optimzers\n",
    "\n",
    " - Adadelta\n",
    " - Adagrad\n",
    " - Adam\n",
    " - BFGS\n",
    " - SGD\n",
    " - Momentum\n",
    " - Newton's Method\n",
    " - RMSProp\n",
    " "
   ]
  },
  {
   "cell_type": "markdown",
   "metadata": {},
   "source": [
    "##### Logistic or Sigmoid Function\n",
    "\n",
    "If $y = \\frac{1}{1 + exp(-x)}$ \n",
    "\n",
    "then $\\frac{\\partial y}{\\partial x} = y(1 - y)$\n",
    "\n",
    "Also this logistic function is the inverse of logit function $f(x) = log\\frac{x}{1-x}$\n",
    "\n",
    "Scipy package has a function for caclucating the value for logistic function - \n",
    "\n",
    "```\n",
    "from scipy.special import expit\n",
    "expit(.3924999999) # output - 0.59688437823570573\n",
    "```"
   ]
  },
  {
   "cell_type": "code",
   "execution_count": 20,
   "metadata": {},
   "outputs": [
    {
     "data": {
      "text/plain": [
       "(-6, 6)"
      ]
     },
     "execution_count": 20,
     "metadata": {},
     "output_type": "execute_result"
    },
    {
     "data": {
      "image/png": "[encoded data removed]",
      "text/plain": [
       "<Figure size 432x288 with 1 Axes>"
      ]
     },
     "metadata": {},
     "output_type": "display_data"
    }
   ],
   "source": [
    "#plot for sigmoid function\n",
    "%matplotlib inline\n",
    "import matplotlib.pyplot as plt\n",
    "sns.set()\n",
    "from scipy.special import expit\n",
    "a = np.linspace(-5,5,100)\n",
    "plt.plot(a,expit(a))\n",
    "plt.hlines(.5,-6,6, color = 'orange')\n",
    "plt.hlines(1,-6,6, color = 'orange')\n",
    "plt.hlines(0,-6,6, color = 'orange')\n",
    "plt.xlim(-6,6)"
   ]
  },
  {
   "cell_type": "code",
   "execution_count": 21,
   "metadata": {},
   "outputs": [
    {
     "data": {
      "text/plain": [
       "[<matplotlib.lines.Line2D at 0x7b893f0>]"
      ]
     },
     "execution_count": 21,
     "metadata": {},
     "output_type": "execute_result"
    },
    {
     "data": {
      "image/png": "[encoded data removed]",
      "text/plain": [
       "<Figure size 432x288 with 1 Axes>"
      ]
     },
     "metadata": {},
     "output_type": "display_data"
    }
   ],
   "source": [
    "#plot for the derivative of sigmoid function\n",
    "b = expit(a)\n",
    "plt.plot(a,b*(1-b))"
   ]
  },
  {
   "cell_type": "code",
   "execution_count": 22,
   "metadata": {},
   "outputs": [
    {
     "data": {
      "text/plain": [
       "(-20, 20)"
      ]
     },
     "execution_count": 22,
     "metadata": {},
     "output_type": "execute_result"
    },
    {
     "data": {
      "image/png": "[encoded data removed]",
      "text/plain": [
       "<Figure size 432x288 with 1 Axes>"
      ]
     },
     "metadata": {},
     "output_type": "display_data"
    }
   ],
   "source": [
    "%matplotlib inline\n",
    "import numpy as np\n",
    "import matplotlib.pyplot as plt\n",
    "import seaborn as sns\n",
    "sns.set()\n",
    "\n",
    "a = np.linspace(0.00000001,.99999999,100)\n",
    "plt.plot(a, np.log(a/(1-a)))\n",
    "plt.ylim(-20,20)"
   ]
  },
  {
   "cell_type": "markdown",
   "metadata": {},
   "source": [
    "#### tanh Curve"
   ]
  },
  {
   "cell_type": "code",
   "execution_count": 23,
   "metadata": {
    "scrolled": true
   },
   "outputs": [
    {
     "data": {
      "text/plain": [
       "<matplotlib.collections.LineCollection at 0x7bfa090>"
      ]
     },
     "execution_count": 23,
     "metadata": {},
     "output_type": "execute_result"
    },
    {
     "data": {
      "image/png": "[encoded data removed]",
      "text/plain": [
       "<Figure size 432x288 with 1 Axes>"
      ]
     },
     "metadata": {},
     "output_type": "display_data"
    }
   ],
   "source": [
    "a = np.linspace(-6,6,50)\n",
    "plt.plot(a, np.tanh(a))\n",
    "plt.hlines(0,-6,6)"
   ]
  },
  {
   "cell_type": "markdown",
   "metadata": {},
   "source": [
    "#### RELU Curve"
   ]
  },
  {
   "cell_type": "code",
   "execution_count": 24,
   "metadata": {},
   "outputs": [],
   "source": [
    "def relu(a):\n",
    "    if a >= 0:\n",
    "        return a\n",
    "    else:\n",
    "        return 0\n",
    "    \n",
    "np_relu = np.vectorize(relu, otypes = [float] )\n",
    "\n",
    "# Note that np.vectorize determines the type of output based on the first output value. To avoid this, set \n",
    "#the parameter 'otypes' as shown above "
   ]
  },
  {
   "cell_type": "code",
   "execution_count": 25,
   "metadata": {},
   "outputs": [
    {
     "data": {
      "text/plain": [
       "[<matplotlib.lines.Line2D at 0x7c364f0>]"
      ]
     },
     "execution_count": 25,
     "metadata": {},
     "output_type": "execute_result"
    },
    {
     "data": {
      "image/png": "[encoded data removed]",
      "text/plain": [
       "<Figure size 432x288 with 1 Axes>"
      ]
     },
     "metadata": {},
     "output_type": "display_data"
    }
   ],
   "source": [
    "plt.plot(a, np_relu(a))"
   ]
  },
  {
   "cell_type": "markdown",
   "metadata": {},
   "source": [
    "### Softmax"
   ]
  },
  {
   "cell_type": "code",
   "execution_count": 26,
   "metadata": {},
   "outputs": [
    {
     "data": {
      "text/plain": [
       "(array([0.02364054, 0.06426166, 0.1746813 , 0.474833  , 0.02364054,\n",
       "        0.06426166, 0.1746813 ]), 0.9999999999999999)"
      ]
     },
     "execution_count": 26,
     "metadata": {},
     "output_type": "execute_result"
    }
   ],
   "source": [
    "z = [1,2,3,4,1,2,3]\n",
    "arr = np.array(z, dtype = float)\n",
    "softmax = np.exp(arr)/np.sum(np.exp(arr))\n",
    "softmax, np.sum(softmax)"
   ]
  },
  {
   "cell_type": "markdown",
   "metadata": {},
   "source": [
    "#### Important Scipy Functions\n",
    "```\n",
    "scipy.special.expit\n",
    "scipy.linalg.eig\n",
    "scipy.special.factorial\n",
    "scipy.stats.binom.stats\n",
    "scipy.stats.binom.pmf\n",
    "scipy.stats.shapiro\n",
    "scipy.stats.norm.pdf\n",
    "scipy.stats.t.sf\n",
    "scipy.stats.poisson\n",
    "```"
   ]
  },
  {
   "cell_type": "markdown",
   "metadata": {},
   "source": [
    "#### Markov Process"
   ]
  },
  {
   "cell_type": "code",
   "execution_count": 27,
   "metadata": {},
   "outputs": [
    {
     "name": "stdout",
     "output_type": "stream",
     "text": [
      "[0.14174652 0.13991101 0.13621209 0.12999256 0.12142531 0.3307125 ]\n"
     ]
    }
   ],
   "source": [
    "import numpy as np\n",
    "\n",
    "def markov(p,s,steps):\n",
    "    for i in range(steps):\n",
    "        s = np.dot(s,p)\n",
    "    return s\n",
    "\n",
    "p = np.array([[.5,.5,0,0,0,0],\n",
    "              [.4,.1,.5,0,0,0],\n",
    "              [0,.3,.2,.5,0,0],\n",
    "              [0,0,0.2,0.3,0.5,0],\n",
    "              [0,0,0,.1,0.4,0.5],\n",
    "              [0,0,0,0,0,1]])\n",
    "\n",
    "s = np.array([1,0,0,0,0,0])\n",
    "steps = 10\n",
    "\n",
    "print(markov(p,s,steps))"
   ]
  },
  {
   "cell_type": "markdown",
   "metadata": {},
   "source": [
    "#### `scipy.optimize.basinhopping` - For Minimum value of Functions"
   ]
  },
  {
   "cell_type": "code",
   "execution_count": 28,
   "metadata": {},
   "outputs": [
    {
     "data": {
      "text/plain": [
       "                        fun: 2.0\n",
       " lowest_optimization_result:       fun: 2.0\n",
       " hess_inv: array([[1]])\n",
       "      jac: array([2.98023224e-08])\n",
       "  message: 'Optimization terminated successfully.'\n",
       "     nfev: 9\n",
       "      nit: 1\n",
       "     njev: 3\n",
       "   status: 0\n",
       "  success: True\n",
       "        x: array([-1.])\n",
       "                    message: ['requested number of basinhopping iterations completed successfully']\n",
       "      minimization_failures: 0\n",
       "                       nfev: 909\n",
       "                        nit: 100\n",
       "                       njev: 303\n",
       "                          x: array([-1.])"
      ]
     },
     "execution_count": 28,
     "metadata": {},
     "output_type": "execute_result"
    }
   ],
   "source": [
    "from scipy.optimize import basinhopping\n",
    "\n",
    "def f(x):\n",
    "    return (2*(x+1)**2+2)\n",
    "\n",
    "def f1(x):\n",
    "    return 2*np.sin(x[0])**2 + 3*np.cos(x[1])**3\n",
    "\n",
    "xo = [1] #initial guess for f(x)\n",
    "x1 = [1,2] #initial guess for f1(x)\n",
    "\n",
    "\n",
    "basinhopping(f, xo)"
   ]
  },
  {
   "cell_type": "code",
   "execution_count": 29,
   "metadata": {},
   "outputs": [
    {
     "data": {
      "text/plain": [
       "                        fun: -3.0\n",
       " lowest_optimization_result:       fun: -3.0\n",
       " hess_inv: array([[ 2.51330708e-01, -1.61382518e-05],\n",
       "       [-1.61382518e-05,  1.11115576e-01]])\n",
       "      jac: array([2.98023224e-08, 0.00000000e+00])\n",
       "  message: 'Optimization terminated successfully.'\n",
       "     nfev: 32\n",
       "      nit: 5\n",
       "     njev: 8\n",
       "   status: 0\n",
       "  success: True\n",
       "        x: array([-3.14159266,  3.14159265])\n",
       "                    message: ['requested number of basinhopping iterations completed successfully']\n",
       "      minimization_failures: 0\n",
       "                       nfev: 3264\n",
       "                        nit: 100\n",
       "                       njev: 816\n",
       "                          x: array([-3.14159266,  3.14159265])"
      ]
     },
     "execution_count": 29,
     "metadata": {},
     "output_type": "execute_result"
    }
   ],
   "source": [
    "basinhopping(f1, x1)"
   ]
  },
  {
   "cell_type": "code",
   "execution_count": null,
   "metadata": {},
   "outputs": [],
   "source": []
  }
 ],
 "metadata": {
  "kernelspec": {
   "display_name": "Python 3",
   "language": "python",
   "name": "python3"
  },
  "language_info": {
   "codemirror_mode": {
    "name": "ipython",
    "version": 3
   },
   "file_extension": ".py",
   "mimetype": "text/x-python",
   "name": "python",
   "nbconvert_exporter": "python",
   "pygments_lexer": "ipython3",
   "version": "3.7.0"
  }
 },
 "nbformat": 4,
 "nbformat_minor": 2
}
