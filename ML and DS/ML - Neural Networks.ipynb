{
 "cells": [
  {
   "cell_type": "markdown",
   "metadata": {},
   "source": [
    "Some Resources I have actully found useful - \n",
    "\n",
    " - [A Step-by-Step Backpropagation Example - Matt Mazur](https://mattmazur.com/2015/03/17/a-step-by-step-backpropagation-example/)\n",
    " - [A Gentle Introduction to Neural Networks for Machine Learning](https://www.codementor.io/james_aka_yale/a-gentle-introduction-to-neural-networks-for-machine-learning-hkijvz7lp) - This link provides brief overview of various types of NN such as CNN, RNN and GAN."
   ]
  },
  {
   "cell_type": "markdown",
   "metadata": {},
   "source": [
    "---\n",
    "\n",
    "We have that - \n",
    "\n",
    "z = $w_1x_1+w_2x_2+....+w_mx_m = \\sum_{j=0}^m x_jw_j = w^Tx$\n",
    "\n",
    "Where z is calculated for a given sample. \n",
    "\n",
    "Now let us define a activation function such that -  \n",
    "\n",
    "$$ \\phi(z) = \n",
    "\\begin{pmatrix}\n",
    "1 & if z \\geq \\theta \\\\\n",
    "-1 & otherwise\n",
    "\\end{pmatrix}\n",
    "\\quad\n",
    "$$\n",
    "\n",
    "For simplicity, we can rewrite above equation by bring $\\theta$ to left hand side and define a weight-zero as -$\\theta$ and $x_0$ as 1. We get - \n",
    "\n",
    "$$z = w_0x_0+w_1x_1+w_2x_2+....+w_mx_m = \\sum_{j=0}^m x_jw_j = w^Tx$$ \n",
    "\n",
    "and \n",
    "\n",
    "$$ \\phi(z) = \n",
    "\\begin{pmatrix}\n",
    "1 & if z \\geq 0 \\\\\n",
    "-1 & otherwise\n",
    "\\end{pmatrix}\n",
    "\\quad\n",
    "$$\n",
    "\n",
    "Here, **$\\phi(z)$** is our activation function. \n",
    "\n",
    "The whole idea behind the MCP neuron and Rosenblatt's thresholded perceptron model is to use a reductionist approach to mimic how a single neuron in the brain works: it either fires or it doesn't. Thus, Rosenblatt's initial perceptron rule is fairly\n",
    "simple and can be summarized by the following steps:\n",
    "1. Initialize the weights to 0 or small random numbers.\n",
    "2. For each training sample $x(i)$ perform the following steps:\n",
    "  1. Compute the output value $y^ˆ$ .\n",
    "  2. Update the weights.\n",
    "Here, the output value is the class label.\n",
    "\n",
    "See this illustration of perceptron (shown below) where $\\phi(z) = z$. \n",
    "\n",
    "![](images/perceptron.png)\n",
    "\n",
    "It is important to note that the convergence of the perceptron is only guaranteed if the two classes are linearly separable and the learning rate is sufficiently small. If the two classes can't be separated by a linear decision boundary, we can set a maximum number of passes over the training dataset (epochs) and/or a threshold for the number of tolerated misclassifications—the perceptron would never stop updating the weights otherwise."
   ]
  },
  {
   "cell_type": "markdown",
   "metadata": {},
   "source": [
    "#### Online and Error Driven Algorithm\n",
    "\n",
    "First, it is online. This means that instead of considering the entire data set at the same time, it only ever looks at one example. It processes that example and then goes on to the next one. Second, it is error driven. This means that, so long as it is doing well, it doesn’t bother updating its parameters."
   ]
  },
  {
   "cell_type": "markdown",
   "metadata": {},
   "source": [
    "#### Perceptron vs Sigmoid Neuron\n",
    "\n",
    "In perceptron, output values can either be 0 or 1. However, in case of sigmoid neuron, input/output can take any value in the range [0,1]. \n",
    "\n",
    "Also, perceptron curve is essentially a step function. On the other hand, sigmoid function follows S-shaped function with some midway threshold value (usually .5). "
   ]
  },
  {
   "cell_type": "markdown",
   "metadata": {},
   "source": [
    "#### Simple NN and Backpropagation "
   ]
  },
  {
   "cell_type": "markdown",
   "metadata": {},
   "source": [
    "Let us consider a NN with 2 input neurons (i1 and i2), one hidden layer with 2 neurons (h1 and h2) and 2 output neurons (o1 and o2). \n",
    "\n",
    "Let input be `[.05, .10]` and desired output be `[.01, .99]`. Bias for hidden layer (b1) = `[.35]` and for output layer (b2) = `[.60]`\n",
    "\n",
    "Weights are as follows = \n",
    "```\n",
    "[w1, w2, w3, w4] = [.15, .20, .25, .30] #for first layer\n",
    "[w5, w6, w7, w8] = [.40, .45, .50, .55] #for second layer\n",
    "```\n",
    "\n",
    "For this NN, we'll use logistic function $f(x) = \\frac{1}{1 + exp(-x)}$ as our activation function.\n",
    "\n",
    "Scipy packages has a function for caclucating the value for logistic function - \n",
    "\n",
    "```\n",
    "from scipy.special import expit\n",
    "expit(.3924999999) # output - 0.59688437823570573\n",
    "```"
   ]
  },
  {
   "cell_type": "markdown",
   "metadata": {},
   "source": [
    "![](images\\nn.png)"
   ]
  },
  {
   "cell_type": "code",
   "execution_count": 6,
   "metadata": {},
   "outputs": [
    {
     "data": {
      "text/plain": [
       "(0.7513650695523157, 0.7729284653214625)"
      ]
     },
     "execution_count": 6,
     "metadata": {},
     "output_type": "execute_result"
    }
   ],
   "source": [
    "import numpy as np\n",
    "from scipy.special import expit\n",
    "\n",
    "i1, i2 = [.05, .1]\n",
    "target1 = .01\n",
    "target2 = .99\n",
    "\n",
    "lr = .5\n",
    "\n",
    "w1,w2,w3,w4 = [.15, .20, .25, .30]\n",
    "w5, w6, w7, w8 = [.40, .45, .50, .55]\n",
    "\n",
    "b1 = .35\n",
    "b2 = .60\n",
    "\n",
    "\n",
    "ih1 = np.dot([i1,i2],[w1,w2])+ b1  #input for the first hidden layer neuron\n",
    "ih2 = np.dot([i1,i2],[w3,w4]) + b1  #input for the second hidden layer neuron\n",
    "\n",
    "oh1 = expit(ih1)     #applying activation function to get the o/p of firt hidden layer neuron\n",
    "oh2 = expit(ih2)     #applying activation function to get\n",
    "\n",
    "#oh1, oh2  these will be used as input for output neurons\n",
    "\n",
    "io1 = np.dot([oh1, oh2], [w5, w6]) + b2\n",
    "io2 = np.dot([oh1, oh2], [ w7, w8]) + b2 \n",
    "\n",
    "out1 = expit(io1)\n",
    "out2 = expit(io2)\n",
    "\n",
    "out1, out2"
   ]
  },
  {
   "cell_type": "markdown",
   "metadata": {},
   "source": [
    "Now we caclucate the error using following formula - \n",
    "\n",
    "$E_{total} = E_1 + E_2 =  \\Sigma\\frac{1}{2}(Target - output)^2$"
   ]
  },
  {
   "cell_type": "code",
   "execution_count": 7,
   "metadata": {},
   "outputs": [
    {
     "data": {
      "text/plain": [
       "0.2983711087600027"
      ]
     },
     "execution_count": 7,
     "metadata": {},
     "output_type": "execute_result"
    }
   ],
   "source": [
    "error_total = .5 *( (target1 - out1)**2 + (target2 - out2)**2)\n",
    "error_total"
   ]
  },
  {
   "cell_type": "markdown",
   "metadata": {},
   "source": [
    "##### The Backwards Pass\n",
    "\n",
    "Our goal with backpropagation is to update each of the weights in the network so that they cause the actual output to be closer the target output, thereby minimizing the error for each output neuron and the network as a whole.\n",
    "\n",
    "The only values we can update in order to minimize the error are the weights and biases.\n",
    "\n",
    "For this we calculate $\\frac{\\partial E_{total}}{\\partial w}$ which tells us how much change in `w` affects $E_{total}$. We do this for each weight\n",
    "\n",
    "We have seen above that $E_{total}$ *directly* depends on `out1` and `out2` which in turn depend on `io1` and `i02` which in turn depend on weights `w5`,`w6`, `w7`, `w8`. This means we have to use chain rule like below - \n",
    "\n",
    "$\\frac{\\partial E_{total}}{\\partial {w_5}}$ = $\\frac{\\partial E_{total}}{\\partial out1}*\\frac{\\partial out1}{\\partial io1} * \\frac{\\partial io1}{\\partial {w_5}} $\n",
    "\n",
    "Now \n",
    "$$\\frac{\\partial E_{total}}{\\partial {out1}} = 2* \\frac{1}{2}(target1 - out1)^{2-1}*(-1) + 0 = out1 - target1$$\n",
    "\n",
    "Now we have to calculate $\\frac{\\partial out1}{\\partial io1}$. Here `out1` was actually a logistic function (our activation function) $f(x) = \\frac{1}{1 + exp(-x)}$ . The derivative of logistic function is - \n",
    "\n",
    "If \n",
    "\n",
    "$y = \\frac{1}{1 + exp(-x)}$ \n",
    "\n",
    "then \n",
    "\n",
    "$\\frac{\\partial y}{\\partial x} = y(1 - y)$\n",
    "\n",
    "This gives\n",
    "\n",
    "$$\\frac{\\partial out1}{\\partial {io1}} = out1(1 - out1)$$\n",
    "\n",
    "Finally, we calculate $\\frac{\\partial io1}{\\partial w5}$. We know that - $io1 = w5*oh1 +w6*oh2 + b2$\n",
    "\n",
    "Using above, we get - \n",
    "\n",
    "$$\\frac{\\partial io1}{\\partial w5} = oh1 $$\n",
    "\n",
    "Following the same method implemented above, we can calcule the gradient wrt w6, w7 and w8. \n",
    "\n",
    "---\n",
    "Now, we also calculate the gradient wrt w1, w2,w3 and w4\n",
    "\n",
    "$\\frac{\\partial E_{total}}{\\partial {w_1}}$ = $\\frac{\\partial E_{total}}{\\partial oh_1}*\\frac{\\partial oh_1}{\\partial ih_1} * \\frac{\\partial ih_1}{\\partial {w_1}}$\n",
    "\n",
    "Note that unlike earlier, the first derivative on LHS is wrt `oh1` rather than `out1`. Here, both `out1` and `out2` *depend* on `w1` (via `oh1`). So basically $E_{total}$ depends on `oh1` and `oh1` in turn depends on `w1`. This explains the difference between calculations of $\\frac{\\partial E_{total}}{\\partial w_7}$ and $\\frac{\\partial E_{total}}{\\partial w_1}$  \n",
    "\n",
    "$\\frac{\\partial E_{total}}{\\partial oh_1} = \\frac{\\partial E1}{\\partial oh_1} +\\frac{\\partial E2}{\\partial oh_1} $\n",
    "\n",
    "$\\frac{\\partial E1}{\\partial oh_1} = .5*2*(target1-out1)*(-1)*\\frac{\\partial out1}{\\partial oh_1}$\n",
    "\n",
    "$= (-1)*(target1-out1)*\\frac{\\partial out1}{\\partial io_1}*\\frac{\\partial io_1}{\\partial oh_1}$\n",
    "\n",
    "$= (-1)*(target1-out1)*out1*(1-out1)*\\frac{\\partial io_1}{\\partial oh_1}$\n",
    "\n",
    "$ = (-1)*(target1-out1)*out1*(1-out1)*w_5$\n",
    "\n",
    "Now, to calculate $\\frac{\\partial E2}{\\partial oh_1}$\n",
    "\n",
    "$\\frac{\\partial E2}{\\partial oh_1} = .5*2*(target2-out2)*(-1)*\\frac{\\partial out2}{\\partial oh_1}$\n",
    "\n",
    "$= (-1)*(target2-out2)*\\frac{\\partial out2}{\\partial io_2}*\\frac{\\partial io_2}{\\partial oh_1}$\n",
    "\n",
    "$= (-1)*(target2-out2)*out2(1-out2)*\\frac{\\partial io_2}{\\partial oh_1}$\n",
    "\n",
    "$= (-1)*(target2-out2)*out2(1-out2)*w_7$"
   ]
  },
  {
   "cell_type": "code",
   "execution_count": 63,
   "metadata": {
    "collapsed": true
   },
   "outputs": [],
   "source": [
    "dw5 = (out1 - target1)*(out1*(1-out1))* oh1 #gradient wrt 5"
   ]
  },
  {
   "cell_type": "code",
   "execution_count": 64,
   "metadata": {},
   "outputs": [
    {
     "data": {
      "text/plain": [
       "0.35891647971788465"
      ]
     },
     "execution_count": 64,
     "metadata": {},
     "output_type": "execute_result"
    }
   ],
   "source": [
    "#using learning rate = .5, w5 is updated as below\n",
    "w5_new = w5 - (lr*dw5)\n",
    "w5_new"
   ]
  },
  {
   "cell_type": "code",
   "execution_count": 66,
   "metadata": {
    "collapsed": true,
    "scrolled": true
   },
   "outputs": [],
   "source": [
    "dw6 = (out1 - target1)*(out1*(1-out1))* oh2 #derivative of error wrt w6"
   ]
  },
  {
   "cell_type": "code",
   "execution_count": 67,
   "metadata": {},
   "outputs": [
    {
     "data": {
      "text/plain": [
       "0.4086661860762334"
      ]
     },
     "execution_count": 67,
     "metadata": {},
     "output_type": "execute_result"
    }
   ],
   "source": [
    "w6_new = w6 - (lr*dw6)\n",
    "w6_new"
   ]
  },
  {
   "cell_type": "code",
   "execution_count": 68,
   "metadata": {},
   "outputs": [
    {
     "data": {
      "text/plain": [
       "0.5113012702387375"
      ]
     },
     "execution_count": 68,
     "metadata": {},
     "output_type": "execute_result"
    }
   ],
   "source": [
    "dw7 = (out2-target2)*(out2*(1-out2))*oh1 #derivative of error wrt w7\n",
    "w7_new = w7 - (lr*dw7)\n",
    "w7_new"
   ]
  },
  {
   "cell_type": "code",
   "execution_count": 69,
   "metadata": {},
   "outputs": [
    {
     "data": {
      "text/plain": [
       "0.56137012110798912"
      ]
     },
     "execution_count": 69,
     "metadata": {},
     "output_type": "execute_result"
    }
   ],
   "source": [
    "dw8 = (out2-target2)*(out2*(1-out2))*oh2 #derivative of error wrt w8\n",
    "w8_new = w8 - (lr*dw8)\n",
    "w8_new"
   ]
  },
  {
   "cell_type": "code",
   "execution_count": 41,
   "metadata": {
    "collapsed": true
   },
   "outputs": [],
   "source": [
    "e1 =(-1)*(target1 - out1)*(out1*(1-out1))*.4 # de1/doh1"
   ]
  },
  {
   "cell_type": "code",
   "execution_count": 42,
   "metadata": {
    "collapsed": true
   },
   "outputs": [],
   "source": [
    "e2= (-1)*(target2-out2)*(out2*(1-out2))*.5  #de2/doh1"
   ]
  },
  {
   "cell_type": "code",
   "execution_count": 50,
   "metadata": {},
   "outputs": [
    {
     "data": {
      "text/plain": [
       "0.0004385677344743468"
      ]
     },
     "execution_count": 50,
     "metadata": {},
     "output_type": "execute_result"
    }
   ],
   "source": [
    "dw1 = (e1+e2)*(oh1*(1-oh1)*.05) #derivative of error wrt w1\n",
    "dw1"
   ]
  },
  {
   "cell_type": "code",
   "execution_count": 70,
   "metadata": {
    "scrolled": true
   },
   "outputs": [
    {
     "data": {
      "text/plain": [
       "0.14978071613276281"
      ]
     },
     "execution_count": 70,
     "metadata": {},
     "output_type": "execute_result"
    }
   ],
   "source": [
    "w1_new = w1 -(lr*dw1)\n",
    "w1_new"
   ]
  },
  {
   "cell_type": "code",
   "execution_count": 72,
   "metadata": {},
   "outputs": [
    {
     "data": {
      "text/plain": [
       "0.19956143226552567"
      ]
     },
     "execution_count": 72,
     "metadata": {},
     "output_type": "execute_result"
    }
   ],
   "source": [
    "dw2 = (e1+e2)*(oh1*(1-oh1)*.1) #derivative of error wrt w1\n",
    "w2_new = w2 - (lr*dw2)\n",
    "w2_new"
   ]
  },
  {
   "cell_type": "code",
   "execution_count": 75,
   "metadata": {},
   "outputs": [
    {
     "data": {
      "text/plain": [
       "0.00049771273526085988"
      ]
     },
     "execution_count": 75,
     "metadata": {},
     "output_type": "execute_result"
    }
   ],
   "source": [
    "x1 = .5*2*(-1)*(target1-out1)*out1*(1-out1)*w6\n",
    "\n",
    "x2 = .5*2*(-1)*(target2-out2)*out2*(1-out2)*w8\n",
    "dw3 = (x1+x2)*(oh2*(1-oh2))*i1\n",
    "dw3"
   ]
  },
  {
   "cell_type": "code",
   "execution_count": 76,
   "metadata": {},
   "outputs": [
    {
     "data": {
      "text/plain": [
       "0.24975114363236958"
      ]
     },
     "execution_count": 76,
     "metadata": {},
     "output_type": "execute_result"
    }
   ],
   "source": [
    "w3_neww = w3 - (lr*dw3)\n",
    "w3_neww"
   ]
  },
  {
   "cell_type": "code",
   "execution_count": 79,
   "metadata": {},
   "outputs": [
    {
     "data": {
      "text/plain": [
       "0.00099542547052171976"
      ]
     },
     "execution_count": 79,
     "metadata": {},
     "output_type": "execute_result"
    }
   ],
   "source": [
    "x1 = .5*2*(-1)*(target1-out1)*out1*(1-out1)*w6\n",
    "x2 = .5*2*(-1)*(target2-out2)*out2*(1-out2)*w8\n",
    "dw4 = (x1+x2)*(oh2*(1-oh2))*i2\n",
    "dw4"
   ]
  },
  {
   "cell_type": "code",
   "execution_count": 80,
   "metadata": {},
   "outputs": [
    {
     "data": {
      "text/plain": [
       "0.29950228726473915"
      ]
     },
     "execution_count": 80,
     "metadata": {},
     "output_type": "execute_result"
    }
   ],
   "source": [
    "w4 - (lr*dw4)"
   ]
  },
  {
   "cell_type": "markdown",
   "metadata": {},
   "source": [
    "Let us put it all together. "
   ]
  },
  {
   "cell_type": "code",
   "execution_count": 109,
   "metadata": {
    "collapsed": true
   },
   "outputs": [],
   "source": [
    "import numpy as np\n",
    "from scipy.special import expit\n",
    "\n",
    "\n",
    "def nn(niter):\n",
    "    i1, i2 = [.05, .1]\n",
    "    target1, target2 = [.01, .99]\n",
    "    lr = .5\n",
    "    b1, b2 = [.35, .60]\n",
    "    w1,w2,w3,w4 = [.15, .20, .25, .30]\n",
    "    w5, w6, w7, w8 = [.40, .45, .50, .55]\n",
    "    \n",
    "    n = 0\n",
    "    while n <= niter:\n",
    "        ih1 = np.dot([i1,i2],[w1,w2])+ b1  #input for the first hidden layer neuron\n",
    "        ih2 = np.dot([i1,i2],[w3,w4]) + b1  #input for the second hidden layer neuron\n",
    "\n",
    "        oh1 = expit(ih1)     #applying activation function to get the o/p of firt hidden layer neuron\n",
    "        oh2 = expit(ih2)     #applying activation function to get\n",
    "\n",
    "#oh1, oh2 will be used as input for output neurons\n",
    "\n",
    "        io1 = np.dot([oh1, oh2], [w5, w6]) + b2\n",
    "        io2 = np.dot([oh1, oh2], [ w7, w8]) + b2 \n",
    "\n",
    "        out1 = expit(io1)\n",
    "        out2 = expit(io2)\n",
    "\n",
    "        dw5 = (out1 - target1)*(out1*(1-out1))* oh1\n",
    "        dw6 = (out1 - target1)*(out1*(1-out1))* oh2\n",
    "        dw7 = (out2-target2)*(out2*(1-out2))*oh1\n",
    "        dw8 = (out2-target2)*(out2*(1-out2))*oh2\n",
    "\n",
    "        e1 =(-1)*(target1 - out1)*(out1*(1-out1))*w5\n",
    "        e2= (-1)*(target2-out2)*(out2*(1-out2))*w7\n",
    "        dw1 = (e1+e2)*(oh1*(1-oh1)*i1)\n",
    "        dw2 = (e1+e2)*(oh1*(1-oh1)*i2)\n",
    "        x1 = .5*2*(-1)*(target1-out1)*out1*(1-out1)*w6\n",
    "        x2 = .5*2*(-1)*(target2-out2)*out2*(1-out2)*w8\n",
    "        dw3 = (x1+x2)*(oh2*(1-oh2))*i1\n",
    "        dw4 = (x1+x2)*(oh2*(1-oh2))*i2\n",
    "\n",
    "        w1 = w1 - (lr*dw1)\n",
    "        w2 = w2 - (lr*dw2)\n",
    "        w3 = w3 - (lr*dw3)\n",
    "        w4 = w4 - (lr*dw4)\n",
    "        w5 = w5 - (lr*dw5)\n",
    "        w6 = w6 - (lr*dw6)\n",
    "        w7 = w7 - (lr*dw7)\n",
    "        w8 = w8 - (lr*dw8)\n",
    "        n=n+1\n",
    "\n",
    "    print(out1, out2)"
   ]
  },
  {
   "cell_type": "code",
   "execution_count": 122,
   "metadata": {},
   "outputs": [
    {
     "name": "stdout",
     "output_type": "stream",
     "text": [
      "0.0104039415528 0.989583606458\n"
     ]
    }
   ],
   "source": [
    "nn(60000)"
   ]
  },
  {
   "cell_type": "markdown",
   "metadata": {},
   "source": [
    "#### Scikit-Learn MLP Classifier"
   ]
  },
  {
   "cell_type": "code",
   "execution_count": 1,
   "metadata": {},
   "outputs": [
    {
     "data": {
      "text/plain": [
       "0.88"
      ]
     },
     "execution_count": 1,
     "metadata": {},
     "output_type": "execute_result"
    }
   ],
   "source": [
    "%matplotlib inline\n",
    "\n",
    "import matplotlib.pyplot as plt\n",
    "from sklearn.neural_network import MLPClassifier\n",
    "from sklearn.datasets import make_moons\n",
    "from sklearn.model_selection import train_test_split\n",
    "from sklearn.metrics import accuracy_score\n",
    "\n",
    "X, y = make_moons(n_samples=100, noise=0.25, random_state=3)\n",
    "X_train, X_test, y_train, y_test = train_test_split(X, y, stratify=y, random_state=42)\n",
    "\n",
    "nn = MLPClassifier(solver='lbfgs')\n",
    "nn.fit(X_train, y_train)\n",
    "y_pred = nn.predict(X_test)\n",
    "accuracy_score(y_test, y_pred)"
   ]
  },
  {
   "cell_type": "markdown",
   "metadata": {},
   "source": [
    "Note that `activation` keyword can take one of following values - (relu, tanh, identity, logistic). This is the activation function for hidden layers. \n",
    "\n",
    "  - `identity`, no-op activation, useful to implement linear bottleneck, returns $f(x) = x$\n",
    "  - `logistic`, the logistic sigmoid function, returns $f(x) = \\frac{1}{1 + exp(-x)}$.\n",
    "  - `tanh`, the hyperbolic tan function, returns $f(x) = tanh(x)$.\n",
    "  - `relu`, the rectified linear unit function, returns $f(x) = max(0, x)$\n",
    "\n",
    "Also, `solver` keyword can take one of these values - (`lbfgs`, `sgd`, `adam`). Default is `adam`"
   ]
  },
  {
   "cell_type": "code",
   "execution_count": 1,
   "metadata": {
    "collapsed": true
   },
   "outputs": [],
   "source": [
    ">>> from sklearn.datasets import fetch_mldata\n",
    ">>> mnist = fetch_mldata('MNIST original')\n",
    "\n",
    "#second command raised OSError few times. It was because internet speed was erratic and downloaded data got corrupted."
   ]
  },
  {
   "cell_type": "code",
   "execution_count": 2,
   "metadata": {
    "scrolled": true
   },
   "outputs": [
    {
     "data": {
      "text/plain": [
       "((70000, 784),\n",
       " dict_keys(['DESCR', 'COL_NAMES', 'target', 'data']),\n",
       " ['label', 'data'])"
      ]
     },
     "execution_count": 2,
     "metadata": {},
     "output_type": "execute_result"
    }
   ],
   "source": [
    "mnist.data.shape, mnist.keys(), mnist.COL_NAMES"
   ]
  },
  {
   "cell_type": "code",
   "execution_count": 2,
   "metadata": {
    "collapsed": true
   },
   "outputs": [],
   "source": [
    "from sklearn.model_selection import train_test_split\n",
    "xtrain, xtest, ytrain, ytest = train_test_split(mnist.data, mnist.target)"
   ]
  },
  {
   "cell_type": "code",
   "execution_count": 39,
   "metadata": {
    "collapsed": true
   },
   "outputs": [],
   "source": [
    "%matplotlib inline\n",
    "\n",
    "import matplotlib.pyplot as plt\n",
    "from sklearn.neural_network import MLPClassifier\n",
    "from sklearn.metrics import accuracy_score, classification_report, confusion_matrix\n",
    "\n",
    "model = MLPClassifier(hidden_layer_sizes=(150,))\n",
    "model.fit(xtrain, ytrain)\n",
    "ypredict = model.predict(xtest)"
   ]
  },
  {
   "cell_type": "markdown",
   "metadata": {},
   "source": [
    "Above we set the value of `hidden_layer_sizes` to (150,). The default value is (100,). Increasing this value has improved the results by about 2% (from .945 to .965).  "
   ]
  },
  {
   "cell_type": "code",
   "execution_count": 40,
   "metadata": {},
   "outputs": [
    {
     "data": {
      "text/plain": [
       "0.96502857142857146"
      ]
     },
     "execution_count": 40,
     "metadata": {},
     "output_type": "execute_result"
    }
   ],
   "source": [
    "accuracy_score(ytest, ypredict)"
   ]
  },
  {
   "cell_type": "code",
   "execution_count": 41,
   "metadata": {},
   "outputs": [
    {
     "data": {
      "text/plain": [
       "0.96502857142857146"
      ]
     },
     "execution_count": 41,
     "metadata": {},
     "output_type": "execute_result"
    }
   ],
   "source": [
    "model.score(xtest, ytest)\n"
   ]
  },
  {
   "cell_type": "code",
   "execution_count": 42,
   "metadata": {
    "collapsed": true
   },
   "outputs": [],
   "source": [
    "mat = confusion_matrix(ytest,ypredict)"
   ]
  },
  {
   "cell_type": "code",
   "execution_count": 43,
   "metadata": {},
   "outputs": [
    {
     "data": {
      "text/plain": [
       "<matplotlib.axes._subplots.AxesSubplot at 0xe337e70>"
      ]
     },
     "execution_count": 43,
     "metadata": {},
     "output_type": "execute_result"
    },
    {
     "data": {
      "image/png": "[encoded data removed]",
      "text/plain": [
       "<matplotlib.figure.Figure at 0x10a4a530>"
      ]
     },
     "metadata": {},
     "output_type": "display_data"
    }
   ],
   "source": [
    "import seaborn as sns\n",
    "sns.heatmap(mat, annot = True, fmt='d', cbar = True, cmap = 'YlGnBu')"
   ]
  },
  {
   "cell_type": "code",
   "execution_count": 44,
   "metadata": {},
   "outputs": [
    {
     "data": {
      "text/plain": [
       "MLPClassifier(activation='relu', alpha=0.0001, batch_size='auto', beta_1=0.9,\n",
       "       beta_2=0.999, early_stopping=False, epsilon=1e-08,\n",
       "       hidden_layer_sizes=(150,), learning_rate='constant',\n",
       "       learning_rate_init=0.001, max_iter=200, momentum=0.9,\n",
       "       nesterovs_momentum=True, power_t=0.5, random_state=None,\n",
       "       shuffle=True, solver='adam', tol=0.0001, validation_fraction=0.1,\n",
       "       verbose=False, warm_start=False)"
      ]
     },
     "execution_count": 44,
     "metadata": {},
     "output_type": "execute_result"
    }
   ],
   "source": [
    "model"
   ]
  },
  {
   "cell_type": "code",
   "execution_count": 45,
   "metadata": {},
   "outputs": [
    {
     "name": "stdout",
     "output_type": "stream",
     "text": [
      "             precision    recall  f1-score   support\n",
      "\n",
      "        0.0       0.99      0.97      0.98      1711\n",
      "        1.0       0.98      0.99      0.98      1950\n",
      "        2.0       0.95      0.97      0.96      1767\n",
      "        3.0       0.96      0.95      0.95      1829\n",
      "        4.0       0.96      0.98      0.97      1689\n",
      "        5.0       0.95      0.97      0.96      1586\n",
      "        6.0       0.97      0.98      0.98      1671\n",
      "        7.0       0.97      0.97      0.97      1830\n",
      "        8.0       0.97      0.94      0.95      1707\n",
      "        9.0       0.96      0.94      0.95      1760\n",
      "\n",
      "avg / total       0.97      0.97      0.96     17500\n",
      "\n"
     ]
    }
   ],
   "source": [
    "print(classification_report(ytest,ypredict))"
   ]
  },
  {
   "cell_type": "markdown",
   "metadata": {},
   "source": [
    "In above report, sample column shows the number of respective labels in ytest. This means, `ytest` has 1711 samples for class '0' and 1950 samples for class '1'.\n"
   ]
  },
  {
   "cell_type": "markdown",
   "metadata": {},
   "source": [
    "Let us test the GaussianNB classifier for the same data -"
   ]
  },
  {
   "cell_type": "code",
   "execution_count": 46,
   "metadata": {
    "collapsed": true
   },
   "outputs": [],
   "source": [
    "from sklearn.naive_bayes import GaussianNB\n",
    "\n",
    "gnb = GaussianNB()\n",
    "gnb.fit(xtrain, ytrain)\n",
    "ypred = gnb.predict(xtest)"
   ]
  },
  {
   "cell_type": "code",
   "execution_count": 47,
   "metadata": {},
   "outputs": [
    {
     "data": {
      "text/plain": [
       "0.56662857142857148"
      ]
     },
     "execution_count": 47,
     "metadata": {},
     "output_type": "execute_result"
    }
   ],
   "source": [
    "gnb.score(xtest, ytest)"
   ]
  },
  {
   "cell_type": "code",
   "execution_count": 48,
   "metadata": {},
   "outputs": [
    {
     "data": {
      "text/plain": [
       "0.56662857142857148"
      ]
     },
     "execution_count": 48,
     "metadata": {},
     "output_type": "execute_result"
    }
   ],
   "source": [
    "accuracy_score(ytest, ypred)"
   ]
  },
  {
   "cell_type": "code",
   "execution_count": 49,
   "metadata": {},
   "outputs": [
    {
     "data": {
      "text/plain": [
       "<matplotlib.axes._subplots.AxesSubplot at 0x10bf9c90>"
      ]
     },
     "execution_count": 49,
     "metadata": {},
     "output_type": "execute_result"
    },
    {
     "data": {
      "image/png": "[encoded data removed]",
      "text/plain": [
       "<matplotlib.figure.Figure at 0x10bf9090>"
      ]
     },
     "metadata": {},
     "output_type": "display_data"
    }
   ],
   "source": [
    "mat = confusion_matrix(ytest,ypred)\n",
    "sns.heatmap(mat, annot = True, fmt='d', cbar = True, cmap = 'YlGnBu')"
   ]
  },
  {
   "cell_type": "markdown",
   "metadata": {},
   "source": [
    "We see that the performance of GaussianNB is far more worse. In fact, our MLPClassifier actually performed very well even with the default hyperparameters values and we were able to improve the result by increasing the number of neurons in hidden layers. "
   ]
  },
  {
   "cell_type": "markdown",
   "metadata": {},
   "source": [
    "#### Using `cross_val_score` on training data"
   ]
  },
  {
   "cell_type": "code",
   "execution_count": 51,
   "metadata": {},
   "outputs": [
    {
     "data": {
      "text/plain": [
       "array([ 0.96277609,  0.94916222,  0.95495238,  0.95922256,  0.95636433])"
      ]
     },
     "execution_count": 51,
     "metadata": {},
     "output_type": "execute_result"
    }
   ],
   "source": [
    "\n",
    "from sklearn.model_selection import cross_val_score\n",
    "model = MLPClassifier(hidden_layer_sizes=(150,))\n",
    "cross_val_score(model, xtrain, ytrain, cv = 5)"
   ]
  },
  {
   "cell_type": "code",
   "execution_count": 53,
   "metadata": {},
   "outputs": [
    {
     "data": {
      "text/plain": [
       "array([ 0.96277609,  0.94916222,  0.95495238,  0.95922256,  0.95636433])"
      ]
     },
     "execution_count": 53,
     "metadata": {},
     "output_type": "execute_result"
    }
   ],
   "source": [
    "import numpy as np\n",
    "a = np.array([0.96277609,  0.94916222,  0.95495238,  0.95922256,  0.95636433])\n",
    "a"
   ]
  },
  {
   "cell_type": "code",
   "execution_count": 54,
   "metadata": {},
   "outputs": [
    {
     "data": {
      "text/plain": [
       "0.95649551600000005"
      ]
     },
     "execution_count": 54,
     "metadata": {},
     "output_type": "execute_result"
    }
   ],
   "source": [
    "a.mean()"
   ]
  },
  {
   "cell_type": "code",
   "execution_count": 55,
   "metadata": {},
   "outputs": [
    {
     "data": {
      "text/plain": [
       "(150,)"
      ]
     },
     "execution_count": 55,
     "metadata": {},
     "output_type": "execute_result"
    }
   ],
   "source": [
    "model.hidden_layer_sizes\n"
   ]
  },
  {
   "cell_type": "markdown",
   "metadata": {},
   "source": [
    "Following is the implementation of NN from scratch. Taken from Sebastian book. "
   ]
  },
  {
   "cell_type": "code",
   "execution_count": 8,
   "metadata": {
    "collapsed": true
   },
   "outputs": [],
   "source": [
    "###### from Sebastian Rascheka book\n",
    "\n",
    "import numpy as np\n",
    "from scipy.special import expit\n",
    "import sys\n",
    "\n",
    "class NeuralNetMLP(object):\n",
    "\n",
    "    def __init__(self, n_output, n_features, n_hidden=30, l1=0.0, l2=0.0, epochs=500, eta=0.001,alpha=0.0, decrease_const=0.0, shuffle=True,\n",
    "                 minibatches=1, random_state=None):\n",
    "        np.random.seed(random_state)\n",
    "        self.n_output = n_output\n",
    "        self.n_features = n_features\n",
    "        self.n_hidden = n_hidden\n",
    "        self.w1, self.w2 = self._initialize_weights()\n",
    "        self.l1 = l1\n",
    "        self.l2 = l2\n",
    "        self.epochs = epochs\n",
    "        self.eta = eta\n",
    "        self.alpha = alpha\n",
    "        self.decrease_const = decrease_const\n",
    "        self.shuffle = shuffle\n",
    "        self.minibatches = minibatches\n",
    "    \n",
    "    def _encode_labels(self, y, k):\n",
    "        onehot = np.zeros((k, y.shape[0]))\n",
    "        for idx, val in enumerate(y):\n",
    "            onehot[val, idx] = 1.0\n",
    "        return onehot\n",
    "    \n",
    "    def _initialize_weights(self):\n",
    "        w1 = np.random.uniform(-1.0, 1.0, size=self.n_hidden*(self.n_features + 1))\n",
    "        w1 = w1.reshape(self.n_hidden, self.n_features + 1)\n",
    "        w2 = np.random.uniform(-1.0, 1.0, size=self.n_output*(self.n_hidden + 1))\n",
    "        w2 = w2.reshape(self.n_output, self.n_hidden + 1)\n",
    "        return w1, w2\n",
    "\n",
    "    def _sigmoid(self, z):\n",
    "    # expit is equivalent to 1.0/(1.0 + np.exp(-z))\n",
    "        return expit(z)\n",
    "    \n",
    "    def _sigmoid_gradient(self, z):\n",
    "        sg = self._sigmoid(z)\n",
    "        return sg * (1 - sg)\n",
    "\n",
    "    def _add_bias_unit(self, X, how='column'):\n",
    "        if how == 'column':\n",
    "            X_new = np.ones((X.shape[0], X.shape[1]+1))\n",
    "            X_new[:, 1:] = X\n",
    "        elif how == 'row':\n",
    "            X_new = np.ones((X.shape[0]+1, X.shape[1]))\n",
    "            X_new[1:, :] = X\n",
    "        else:\n",
    "            raise AttributeError('`how` must be `column` or `row`')\n",
    "        return X_new\n",
    "\n",
    "    def _feedforward(self, X, w1, w2):\n",
    "        a1 = self._add_bias_unit(X, how='column')\n",
    "        z2 = w1.dot(a1.T)\n",
    "        a2 = self._sigmoid(z2)\n",
    "        a2 = self._add_bias_unit(a2, how='row')\n",
    "        z3 = w2.dot(a2)\n",
    "        a3 = self._sigmoid(z3)\n",
    "        return a1, z2, a2, z3, a3\n",
    "\n",
    "    def _L2_reg(self, lambda_, w1, w2):\n",
    "        return (lambda_/2.0) * (np.sum(w1[:, 1:] ** 2)+ np.sum(w2[:, 1:] ** 2))\n",
    "\n",
    "    def _L1_reg(self, lambda_, w1, w2):\n",
    "        return (lambda_/2.0) * (np.abs(w1[:, 1:]).sum()+ np.abs(w2[:, 1:]).sum())\n",
    "\n",
    "    def _get_cost(self, y_enc, output, w1, w2):\n",
    "        term1 = -y_enc * (np.log(output))\n",
    "        term2 = (1 - y_enc) * np.log(1 - output)\n",
    "        cost = np.sum(term1 - term2)\n",
    "        L1_term = self._L1_reg(self.l1, w1, w2)\n",
    "        L2_term = self._L2_reg(self.l2, w1, w2)\n",
    "        cost = cost + L1_term + L2_term\n",
    "        return cost\n",
    "\n",
    "    def _get_gradient(self, a1, a2, a3, z2, y_enc, w1, w2):\n",
    "# backpropagation\n",
    "        sigma3 = a3 - y_enc\n",
    "        z2 = self._add_bias_unit(z2, how='row')\n",
    "        sigma2 = w2.T.dot(sigma3) * self._sigmoid_gradient(z2)\n",
    "        sigma2 = sigma2[1:, :]\n",
    "        grad1 = sigma2.dot(a1)\n",
    "        grad2 = sigma3.dot(a2.T)\n",
    "\n",
    "# regularize\n",
    "        grad1[:, 1:] += (w1[:, 1:] * (self.l1 + self.l2))\n",
    "        grad2[:, 1:] += (w2[:, 1:] * (self.l1 + self.l2))\n",
    "        return grad1, grad2\n",
    "\n",
    "    def predict(self, X):\n",
    "        a1, z2, a2, z3, a3 = self._feedforward(X, self.w1, self.w2)\n",
    "        y_pred = np.argmax(z3, axis=0)\n",
    "        return y_pred\n",
    "\n",
    "    def fit(self, X, y, print_progress=False):\n",
    "        self.cost_ = []\n",
    "        X_data, y_data = X.copy(), y.copy()\n",
    "        y_enc = self._encode_labels(y, self.n_output)\n",
    "\n",
    "        delta_w1_prev = np.zeros(self.w1.shape)\n",
    "        delta_w2_prev = np.zeros(self.w2.shape)\n",
    "\n",
    "        for i in range(self.epochs):\n",
    "        # adaptive learning rate\n",
    "            self.eta /= (1 + self.decrease_const*i)\n",
    "            if print_progress:\n",
    "                 sys.stderr.write('\\rEpoch: %d/%d' % (i+1, self.epochs))\n",
    "                 sys.stderr.flush()\n",
    "\n",
    "            if self.shuffle: #index shuffling\n",
    "                idx = np.random.permutation(y_data.shape[0])\n",
    "                X_data, y_enc = X_data[idx], y_enc[:,idx]\n",
    "            \n",
    "            mini = np.array_split(range(y_data.shape[0]), self.minibatches) #partitions of index\n",
    "\n",
    "            for idx in mini:\n",
    "# feedforward\n",
    "                a1, z2, a2, z3, a3 = self._feedforward(X_data[idx], self.w1, self.w2)\n",
    "                cost = self._get_cost(y_enc=y_enc[:, idx], output=a3, w1=self.w1, w2=self.w2)\n",
    "                self.cost_.append(cost)\n",
    "\n",
    "# compute gradient via backpropagation\n",
    "                grad1, grad2 = self._get_gradient(a1=a1, a2=a2,\n",
    "                                                  a3=a3, z2=z2, y_enc=y_enc[:, idx], w1=self.w1, w2=self.w2)\n",
    "# update weights\n",
    "                delta_w1, delta_w2 = self.eta * grad1, self.eta * grad2\n",
    "                self.w1 -= (delta_w1 + (self.alpha * delta_w1_prev))\n",
    "                self.w2 -= (delta_w2 + (self.alpha * delta_w2_prev))\n",
    "                delta_w1_prev, delta_w2_prev = delta_w1, delta_w2\n",
    "        return self\n"
   ]
  },
  {
   "cell_type": "code",
   "execution_count": 9,
   "metadata": {
    "collapsed": true
   },
   "outputs": [],
   "source": [
    "%matplotlib inline\n",
    "\n",
    "import matplotlib.pyplot as plt\n",
    "from sklearn.datasets import load_iris\n",
    "from sklearn.model_selection import train_test_split\n",
    "from sklearn.metrics import accuracy_score\n",
    "\n",
    "data = load_iris()\n",
    "X, y = data.data, data.target\n",
    "X_train, X_test, y_train, y_test = train_test_split(X, y, stratify=y, random_state=42)\n",
    "\n",
    "nn = NeuralNetMLP(n_output=3, n_features=X_train.shape[1], n_hidden=13,\n",
    "                  l2=0.0,l1=0.0,epochs=1000, eta=0.001, alpha=0.001,                         \n",
    "                  decrease_const=0.00001, shuffle=True, minibatches=1, random_state=1)\n"
   ]
  },
  {
   "cell_type": "code",
   "execution_count": 10,
   "metadata": {
    "scrolled": false
   },
   "outputs": [
    {
     "name": "stderr",
     "output_type": "stream",
     "text": [
      "Epoch: 1000/1000"
     ]
    },
    {
     "data": {
      "text/plain": [
       "<__main__.NeuralNetMLP at 0x62c7410>"
      ]
     },
     "execution_count": 10,
     "metadata": {},
     "output_type": "execute_result"
    }
   ],
   "source": [
    "nn.fit(X_train, y_train, print_progress=True)\n"
   ]
  },
  {
   "cell_type": "code",
   "execution_count": 11,
   "metadata": {},
   "outputs": [
    {
     "data": {
      "text/plain": [
       "0.9732142857142857"
      ]
     },
     "execution_count": 11,
     "metadata": {},
     "output_type": "execute_result"
    }
   ],
   "source": [
    "y_t_pred = nn.predict(X_train)\n",
    "acc = np.sum(y_train == y_t_pred, axis=0) / X_train.shape[0]\n",
    "acc"
   ]
  },
  {
   "cell_type": "code",
   "execution_count": 12,
   "metadata": {
    "collapsed": true
   },
   "outputs": [],
   "source": [
    "y_pred = nn.predict(X_test)"
   ]
  },
  {
   "cell_type": "code",
   "execution_count": 11,
   "metadata": {},
   "outputs": [
    {
     "data": {
      "text/plain": [
       "0.9736842105263158"
      ]
     },
     "execution_count": 11,
     "metadata": {},
     "output_type": "execute_result"
    }
   ],
   "source": [
    "acc = np.sum(y_test == y_pred, axis=0) / X_test.shape[0]\n",
    "acc"
   ]
  },
  {
   "cell_type": "markdown",
   "metadata": {},
   "source": [
    "##### Stripped Down Non OOP Version"
   ]
  },
  {
   "cell_type": "code",
   "execution_count": 13,
   "metadata": {
    "collapsed": true
   },
   "outputs": [],
   "source": [
    "# from Sebastian Rascheka book\n",
    "\n",
    "import numpy as np\n",
    "from scipy.special import expit\n",
    "import sys\n",
    "\n",
    "np.random.seed(1)\n",
    "    \n",
    "def _encode_labels(y, k):\n",
    "    onehot = np.zeros((k, y.shape[0]))\n",
    "    for idx, val in enumerate(y):\n",
    "        onehot[val, idx] = 1.0\n",
    "    return onehot\n",
    "    \n",
    "\n",
    "def _sigmoid(z):\n",
    "    # expit is equivalent to 1.0/(1.0 + np.exp(-z))\n",
    "    return expit(z)\n",
    "    \n",
    "def _sigmoid_gradient(z):\n",
    "        sg = _sigmoid(z)\n",
    "        return sg * (1 - sg)\n",
    "\n",
    "def _add_bias_unit(X, how='column'):\n",
    "    if how == 'column':\n",
    "        X_new = np.ones((X.shape[0], X.shape[1]+1))\n",
    "        X_new[:, 1:] = X\n",
    "    elif how == 'row':\n",
    "        X_new = np.ones((X.shape[0]+1, X.shape[1]))\n",
    "        X_new[1:, :] = X\n",
    "    else:\n",
    "        raise AttributeError('`how` must be `column` or `row`')\n",
    "    return X_new\n",
    "\n",
    "def _feedforward(X, w1, w2):\n",
    "    a1 = _add_bias_unit(X, how='column')\n",
    "    z2 = w1.dot(a1.T)\n",
    "    a2 = _sigmoid(z2)\n",
    "    a2 = _add_bias_unit(a2, how='row')\n",
    "    z3 = w2.dot(a2)\n",
    "    a3 = _sigmoid(z3)\n",
    "    return a1, z2, a2, z3, a3\n",
    "\n",
    "def _get_cost(y_enc, output, w1, w2):\n",
    "    term1 = -y_enc * (np.log(output))\n",
    "    term2 = (1 - y_enc) * np.log(1 - output)\n",
    "    cost = np.sum(term1 - term2)\n",
    "    return cost\n",
    "\n",
    "def _get_gradient(a1, a2, a3, z2, y_enc, w1, w2):\n",
    "# backpropagation\n",
    "    sigma3 = a3 - y_enc\n",
    "    z2 = _add_bias_unit(z2, how='row')\n",
    "    sigma2 = w2.T.dot(sigma3) * _sigmoid_gradient(z2)\n",
    "    sigma2 = sigma2[1:, :]\n",
    "    grad1 = sigma2.dot(a1)\n",
    "    grad2 = sigma3.dot(a2.T)\n",
    "\n",
    "    return grad1, grad2\n",
    "\n",
    "def predict(X):\n",
    "    a1, z2, a2, z3, a3 = _feedforward(X, w1, w2)\n",
    "    y_pred = np.argmax(z3, axis=0)\n",
    "    return y_pred\n",
    "\n",
    "def fit(X, y, n_output=3, n_features=4, n_hidden=15, epochs=1000, eta=0.001, alpha=0.001,                         \n",
    "                  decrease_const=0.00001, shuffle=True, minibatches=3, random_state=1, print_progress = True):\n",
    "    cost_ = []\n",
    "    X_data, y_data = X.copy(), y.copy()\n",
    "    y_enc = _encode_labels(y, n_output)\n",
    "    \n",
    "    w1 = np.random.uniform(-1.0, 1.0, size=n_hidden*(n_features + 1))\n",
    "    w1 = w1.reshape(n_hidden, n_features + 1)\n",
    "    w2 = np.random.uniform(-1.0, 1.0, size=n_output*(n_hidden + 1))\n",
    "    w2 = w2.reshape(n_output, n_hidden + 1)\n",
    "\n",
    "    delta_w1_prev = np.zeros(w1.shape)\n",
    "    delta_w2_prev = np.zeros(w2.shape)\n",
    "\n",
    "    for i in range(epochs):\n",
    "        # adaptive learning rate\n",
    "        eta /= (1 + decrease_const*i)\n",
    "        if print_progress:\n",
    "            sys.stderr.write('\\rEpoch: %d/%d' % (i+1, epochs))\n",
    "            sys.stderr.flush()\n",
    "\n",
    "        if shuffle: #index shuffling\n",
    "            idx = np.random.permutation(y_data.shape[0])\n",
    "            X_data, y_enc = X_data[idx], y_enc[:,idx]\n",
    "            \n",
    "        mini = np.array_split(range(y_data.shape[0]), minibatches) #partitions of index\n",
    "\n",
    "        for idx in mini:\n",
    "# feedforward\n",
    "            a1, z2, a2, z3, a3 = _feedforward(X_data[idx], w1, w2)\n",
    "            cost = _get_cost(y_enc=y_enc[:, idx], output=a3, w1=w1, w2=w2)\n",
    "            cost_.append(cost)\n",
    "\n",
    "# compute gradient via backpropagation\n",
    "            grad1, grad2 = _get_gradient(a1=a1, a2=a2,a3=a3, z2=z2, y_enc=y_enc[:, idx], w1=w1, w2=w2)\n",
    "# update weights\n",
    "            delta_w1, delta_w2 = eta * grad1, eta * grad2\n",
    "            w1 -= (delta_w1 + (alpha * delta_w1_prev))\n",
    "            w2 -= (delta_w2 + (alpha * delta_w2_prev))\n",
    "            delta_w1_prev, delta_w2_prev = delta_w1, delta_w2\n",
    "    \n",
    "    return w1, w2\n"
   ]
  },
  {
   "cell_type": "code",
   "execution_count": 14,
   "metadata": {},
   "outputs": [
    {
     "name": "stderr",
     "output_type": "stream",
     "text": [
      "Epoch: 1000/1000"
     ]
    },
    {
     "data": {
      "text/plain": [
       "0.9736842105263158"
      ]
     },
     "execution_count": 14,
     "metadata": {},
     "output_type": "execute_result"
    }
   ],
   "source": [
    "w1, w2 = fit(X_train, y_train, print_progress = True)\n",
    "y_pred = predict(X_test)\n",
    "\n",
    "acc = np.sum(y_test == y_pred, axis=0) / X_test.shape[0]\n",
    "acc\n"
   ]
  },
  {
   "cell_type": "code",
   "execution_count": 14,
   "metadata": {},
   "outputs": [
    {
     "data": {
      "text/plain": [
       "0.9642857142857143"
      ]
     },
     "execution_count": 14,
     "metadata": {},
     "output_type": "execute_result"
    }
   ],
   "source": [
    "yy = predict(X_train)\n",
    "acc = np.sum(y_train == yy, axis=0) / X_train.shape[0]\n",
    "acc"
   ]
  },
  {
   "cell_type": "code",
   "execution_count": 15,
   "metadata": {},
   "outputs": [
    {
     "name": "stderr",
     "output_type": "stream",
     "text": [
      "Epoch: 1/1000C:\\miniconda3\\envs\\data\\lib\\site-packages\\ipykernel_launcher.py:46: RuntimeWarning: divide by zero encountered in log\n",
      "C:\\miniconda3\\envs\\data\\lib\\site-packages\\ipykernel_launcher.py:46: RuntimeWarning: invalid value encountered in multiply\n",
      "Epoch: 2/1000"
     ]
    },
    {
     "ename": "KeyboardInterrupt",
     "evalue": "",
     "output_type": "error",
     "traceback": [
      "\u001b[1;31m---------------------------------------------------------------------------\u001b[0m",
      "\u001b[1;31mKeyboardInterrupt\u001b[0m                         Traceback (most recent call last)",
      "\u001b[1;32m<ipython-input-15-fe27baa1fbbd>\u001b[0m in \u001b[0;36m<module>\u001b[1;34m()\u001b[0m\n\u001b[0;32m      5\u001b[0m \u001b[0mxtrain\u001b[0m\u001b[1;33m,\u001b[0m \u001b[0mxtest\u001b[0m\u001b[1;33m,\u001b[0m \u001b[0mytrain\u001b[0m\u001b[1;33m,\u001b[0m \u001b[0mytest\u001b[0m \u001b[1;33m=\u001b[0m \u001b[0mtrain_test_split\u001b[0m\u001b[1;33m(\u001b[0m\u001b[0mmnist\u001b[0m\u001b[1;33m.\u001b[0m\u001b[0mdata\u001b[0m\u001b[1;33m,\u001b[0m \u001b[0mmnist\u001b[0m\u001b[1;33m.\u001b[0m\u001b[0mtarget\u001b[0m\u001b[1;33m,\u001b[0m \u001b[0mstratify\u001b[0m \u001b[1;33m=\u001b[0m \u001b[0mmnist\u001b[0m\u001b[1;33m.\u001b[0m\u001b[0mtarget\u001b[0m\u001b[1;33m)\u001b[0m\u001b[1;33m\u001b[0m\u001b[0m\n\u001b[0;32m      6\u001b[0m \u001b[1;33m\u001b[0m\u001b[0m\n\u001b[1;32m----> 7\u001b[1;33m \u001b[0mw1\u001b[0m\u001b[1;33m,\u001b[0m \u001b[0mw2\u001b[0m \u001b[1;33m=\u001b[0m \u001b[0mfit\u001b[0m\u001b[1;33m(\u001b[0m\u001b[0mxtrain\u001b[0m\u001b[1;33m,\u001b[0m \u001b[0mytrain\u001b[0m\u001b[1;33m,\u001b[0m \u001b[0mn_output\u001b[0m\u001b[1;33m=\u001b[0m\u001b[1;36m10\u001b[0m\u001b[1;33m,\u001b[0m \u001b[0mn_features\u001b[0m\u001b[1;33m=\u001b[0m\u001b[1;36m784\u001b[0m\u001b[1;33m,\u001b[0m \u001b[0mn_hidden\u001b[0m\u001b[1;33m=\u001b[0m\u001b[1;36m100\u001b[0m\u001b[1;33m,\u001b[0m \u001b[0mprint_progress\u001b[0m \u001b[1;33m=\u001b[0m \u001b[1;32mTrue\u001b[0m\u001b[1;33m)\u001b[0m\u001b[1;33m\u001b[0m\u001b[0m\n\u001b[0m\u001b[0;32m      8\u001b[0m \u001b[0my_pred\u001b[0m \u001b[1;33m=\u001b[0m \u001b[0mpredict\u001b[0m\u001b[1;33m(\u001b[0m\u001b[0mxtest\u001b[0m\u001b[1;33m)\u001b[0m\u001b[1;33m\u001b[0m\u001b[0m\n\u001b[0;32m      9\u001b[0m \u001b[1;33m\u001b[0m\u001b[0m\n",
      "\u001b[1;32m<ipython-input-13-8c3626dba2e1>\u001b[0m in \u001b[0;36mfit\u001b[1;34m(X, y, n_output, n_features, n_hidden, epochs, eta, alpha, decrease_const, shuffle, minibatches, random_state, print_progress)\u001b[0m\n\u001b[0;32m     93\u001b[0m         \u001b[1;32mfor\u001b[0m \u001b[0midx\u001b[0m \u001b[1;32min\u001b[0m \u001b[0mmini\u001b[0m\u001b[1;33m:\u001b[0m\u001b[1;33m\u001b[0m\u001b[0m\n\u001b[0;32m     94\u001b[0m \u001b[1;31m# feedforward\u001b[0m\u001b[1;33m\u001b[0m\u001b[1;33m\u001b[0m\u001b[0m\n\u001b[1;32m---> 95\u001b[1;33m             \u001b[0ma1\u001b[0m\u001b[1;33m,\u001b[0m \u001b[0mz2\u001b[0m\u001b[1;33m,\u001b[0m \u001b[0ma2\u001b[0m\u001b[1;33m,\u001b[0m \u001b[0mz3\u001b[0m\u001b[1;33m,\u001b[0m \u001b[0ma3\u001b[0m \u001b[1;33m=\u001b[0m \u001b[0m_feedforward\u001b[0m\u001b[1;33m(\u001b[0m\u001b[0mX_data\u001b[0m\u001b[1;33m[\u001b[0m\u001b[0midx\u001b[0m\u001b[1;33m]\u001b[0m\u001b[1;33m,\u001b[0m \u001b[0mw1\u001b[0m\u001b[1;33m,\u001b[0m \u001b[0mw2\u001b[0m\u001b[1;33m)\u001b[0m\u001b[1;33m\u001b[0m\u001b[0m\n\u001b[0m\u001b[0;32m     96\u001b[0m             \u001b[0mcost\u001b[0m \u001b[1;33m=\u001b[0m \u001b[0m_get_cost\u001b[0m\u001b[1;33m(\u001b[0m\u001b[0my_enc\u001b[0m\u001b[1;33m=\u001b[0m\u001b[0my_enc\u001b[0m\u001b[1;33m[\u001b[0m\u001b[1;33m:\u001b[0m\u001b[1;33m,\u001b[0m \u001b[0midx\u001b[0m\u001b[1;33m]\u001b[0m\u001b[1;33m,\u001b[0m \u001b[0moutput\u001b[0m\u001b[1;33m=\u001b[0m\u001b[0ma3\u001b[0m\u001b[1;33m,\u001b[0m \u001b[0mw1\u001b[0m\u001b[1;33m=\u001b[0m\u001b[0mw1\u001b[0m\u001b[1;33m,\u001b[0m \u001b[0mw2\u001b[0m\u001b[1;33m=\u001b[0m\u001b[0mw2\u001b[0m\u001b[1;33m)\u001b[0m\u001b[1;33m\u001b[0m\u001b[0m\n\u001b[0;32m     97\u001b[0m             \u001b[0mcost_\u001b[0m\u001b[1;33m.\u001b[0m\u001b[0mappend\u001b[0m\u001b[1;33m(\u001b[0m\u001b[0mcost\u001b[0m\u001b[1;33m)\u001b[0m\u001b[1;33m\u001b[0m\u001b[0m\n",
      "\u001b[1;32m<ipython-input-13-8c3626dba2e1>\u001b[0m in \u001b[0;36m_feedforward\u001b[1;34m(X, w1, w2)\u001b[0m\n\u001b[0;32m     35\u001b[0m \u001b[1;32mdef\u001b[0m \u001b[0m_feedforward\u001b[0m\u001b[1;33m(\u001b[0m\u001b[0mX\u001b[0m\u001b[1;33m,\u001b[0m \u001b[0mw1\u001b[0m\u001b[1;33m,\u001b[0m \u001b[0mw2\u001b[0m\u001b[1;33m)\u001b[0m\u001b[1;33m:\u001b[0m\u001b[1;33m\u001b[0m\u001b[0m\n\u001b[0;32m     36\u001b[0m     \u001b[0ma1\u001b[0m \u001b[1;33m=\u001b[0m \u001b[0m_add_bias_unit\u001b[0m\u001b[1;33m(\u001b[0m\u001b[0mX\u001b[0m\u001b[1;33m,\u001b[0m \u001b[0mhow\u001b[0m\u001b[1;33m=\u001b[0m\u001b[1;34m'column'\u001b[0m\u001b[1;33m)\u001b[0m\u001b[1;33m\u001b[0m\u001b[0m\n\u001b[1;32m---> 37\u001b[1;33m     \u001b[0mz2\u001b[0m \u001b[1;33m=\u001b[0m \u001b[0mw1\u001b[0m\u001b[1;33m.\u001b[0m\u001b[0mdot\u001b[0m\u001b[1;33m(\u001b[0m\u001b[0ma1\u001b[0m\u001b[1;33m.\u001b[0m\u001b[0mT\u001b[0m\u001b[1;33m)\u001b[0m\u001b[1;33m\u001b[0m\u001b[0m\n\u001b[0m\u001b[0;32m     38\u001b[0m     \u001b[0ma2\u001b[0m \u001b[1;33m=\u001b[0m \u001b[0m_sigmoid\u001b[0m\u001b[1;33m(\u001b[0m\u001b[0mz2\u001b[0m\u001b[1;33m)\u001b[0m\u001b[1;33m\u001b[0m\u001b[0m\n\u001b[0;32m     39\u001b[0m     \u001b[0ma2\u001b[0m \u001b[1;33m=\u001b[0m \u001b[0m_add_bias_unit\u001b[0m\u001b[1;33m(\u001b[0m\u001b[0ma2\u001b[0m\u001b[1;33m,\u001b[0m \u001b[0mhow\u001b[0m\u001b[1;33m=\u001b[0m\u001b[1;34m'row'\u001b[0m\u001b[1;33m)\u001b[0m\u001b[1;33m\u001b[0m\u001b[0m\n",
      "\u001b[1;31mKeyboardInterrupt\u001b[0m: "
     ]
    }
   ],
   "source": [
    "from sklearn.datasets import fetch_mldata\n",
    "mnist = fetch_mldata('MNIST original')\n",
    "from sklearn.model_selection import train_test_split\n",
    "mnist.target = mnist.target.astype(int)\n",
    "xtrain, xtest, ytrain, ytest = train_test_split(mnist.data, mnist.target, stratify = mnist.target)\n",
    "\n",
    "w1, w2 = fit(xtrain, ytrain, n_output=10, n_features=784, n_hidden=100, print_progress = True)\n",
    "y_pred = predict(xtest)\n",
    "\n",
    "acc = np.sum(ytest == y_pred, axis=0) / xtest.shape[0]\n",
    "acc"
   ]
  },
  {
   "cell_type": "code",
   "execution_count": 16,
   "metadata": {},
   "outputs": [
    {
     "name": "stderr",
     "output_type": "stream",
     "text": [
      "Epoch: 2/1000"
     ]
    },
    {
     "ename": "MemoryError",
     "evalue": "",
     "output_type": "error",
     "traceback": [
      "\u001b[1;31m---------------------------------------------------------------------------\u001b[0m",
      "\u001b[1;31mMemoryError\u001b[0m                               Traceback (most recent call last)",
      "\u001b[1;32m<ipython-input-16-acbae6cdbcab>\u001b[0m in \u001b[0;36m<module>\u001b[1;34m()\u001b[0m\n\u001b[0;32m      3\u001b[0m                   decrease_const=0.00001, shuffle=True, minibatches=1, random_state=1)\n\u001b[0;32m      4\u001b[0m \u001b[1;33m\u001b[0m\u001b[0m\n\u001b[1;32m----> 5\u001b[1;33m \u001b[0mnn\u001b[0m\u001b[1;33m.\u001b[0m\u001b[0mfit\u001b[0m\u001b[1;33m(\u001b[0m\u001b[0mxtrain\u001b[0m\u001b[1;33m,\u001b[0m \u001b[0mytrain\u001b[0m\u001b[1;33m,\u001b[0m \u001b[0mprint_progress\u001b[0m\u001b[1;33m=\u001b[0m\u001b[1;32mTrue\u001b[0m\u001b[1;33m)\u001b[0m\u001b[1;33m\u001b[0m\u001b[0m\n\u001b[0m",
      "\u001b[1;32m<ipython-input-8-850e14742614>\u001b[0m in \u001b[0;36mfit\u001b[1;34m(self, X, y, print_progress)\u001b[0m\n\u001b[0;32m    121\u001b[0m             \u001b[1;32mfor\u001b[0m \u001b[0midx\u001b[0m \u001b[1;32min\u001b[0m \u001b[0mmini\u001b[0m\u001b[1;33m:\u001b[0m\u001b[1;33m\u001b[0m\u001b[0m\n\u001b[0;32m    122\u001b[0m \u001b[1;31m# feedforward\u001b[0m\u001b[1;33m\u001b[0m\u001b[1;33m\u001b[0m\u001b[0m\n\u001b[1;32m--> 123\u001b[1;33m                 \u001b[0ma1\u001b[0m\u001b[1;33m,\u001b[0m \u001b[0mz2\u001b[0m\u001b[1;33m,\u001b[0m \u001b[0ma2\u001b[0m\u001b[1;33m,\u001b[0m \u001b[0mz3\u001b[0m\u001b[1;33m,\u001b[0m \u001b[0ma3\u001b[0m \u001b[1;33m=\u001b[0m \u001b[0mself\u001b[0m\u001b[1;33m.\u001b[0m\u001b[0m_feedforward\u001b[0m\u001b[1;33m(\u001b[0m\u001b[0mX_data\u001b[0m\u001b[1;33m[\u001b[0m\u001b[0midx\u001b[0m\u001b[1;33m]\u001b[0m\u001b[1;33m,\u001b[0m \u001b[0mself\u001b[0m\u001b[1;33m.\u001b[0m\u001b[0mw1\u001b[0m\u001b[1;33m,\u001b[0m \u001b[0mself\u001b[0m\u001b[1;33m.\u001b[0m\u001b[0mw2\u001b[0m\u001b[1;33m)\u001b[0m\u001b[1;33m\u001b[0m\u001b[0m\n\u001b[0m\u001b[0;32m    124\u001b[0m                 \u001b[0mcost\u001b[0m \u001b[1;33m=\u001b[0m \u001b[0mself\u001b[0m\u001b[1;33m.\u001b[0m\u001b[0m_get_cost\u001b[0m\u001b[1;33m(\u001b[0m\u001b[0my_enc\u001b[0m\u001b[1;33m=\u001b[0m\u001b[0my_enc\u001b[0m\u001b[1;33m[\u001b[0m\u001b[1;33m:\u001b[0m\u001b[1;33m,\u001b[0m \u001b[0midx\u001b[0m\u001b[1;33m]\u001b[0m\u001b[1;33m,\u001b[0m \u001b[0moutput\u001b[0m\u001b[1;33m=\u001b[0m\u001b[0ma3\u001b[0m\u001b[1;33m,\u001b[0m \u001b[0mw1\u001b[0m\u001b[1;33m=\u001b[0m\u001b[0mself\u001b[0m\u001b[1;33m.\u001b[0m\u001b[0mw1\u001b[0m\u001b[1;33m,\u001b[0m \u001b[0mw2\u001b[0m\u001b[1;33m=\u001b[0m\u001b[0mself\u001b[0m\u001b[1;33m.\u001b[0m\u001b[0mw2\u001b[0m\u001b[1;33m)\u001b[0m\u001b[1;33m\u001b[0m\u001b[0m\n\u001b[0;32m    125\u001b[0m                 \u001b[0mself\u001b[0m\u001b[1;33m.\u001b[0m\u001b[0mcost_\u001b[0m\u001b[1;33m.\u001b[0m\u001b[0mappend\u001b[0m\u001b[1;33m(\u001b[0m\u001b[0mcost\u001b[0m\u001b[1;33m)\u001b[0m\u001b[1;33m\u001b[0m\u001b[0m\n",
      "\u001b[1;32m<ipython-input-8-850e14742614>\u001b[0m in \u001b[0;36m_feedforward\u001b[1;34m(self, X, w1, w2)\u001b[0m\n\u001b[0;32m     56\u001b[0m \u001b[1;33m\u001b[0m\u001b[0m\n\u001b[0;32m     57\u001b[0m     \u001b[1;32mdef\u001b[0m \u001b[0m_feedforward\u001b[0m\u001b[1;33m(\u001b[0m\u001b[0mself\u001b[0m\u001b[1;33m,\u001b[0m \u001b[0mX\u001b[0m\u001b[1;33m,\u001b[0m \u001b[0mw1\u001b[0m\u001b[1;33m,\u001b[0m \u001b[0mw2\u001b[0m\u001b[1;33m)\u001b[0m\u001b[1;33m:\u001b[0m\u001b[1;33m\u001b[0m\u001b[0m\n\u001b[1;32m---> 58\u001b[1;33m         \u001b[0ma1\u001b[0m \u001b[1;33m=\u001b[0m \u001b[0mself\u001b[0m\u001b[1;33m.\u001b[0m\u001b[0m_add_bias_unit\u001b[0m\u001b[1;33m(\u001b[0m\u001b[0mX\u001b[0m\u001b[1;33m,\u001b[0m \u001b[0mhow\u001b[0m\u001b[1;33m=\u001b[0m\u001b[1;34m'column'\u001b[0m\u001b[1;33m)\u001b[0m\u001b[1;33m\u001b[0m\u001b[0m\n\u001b[0m\u001b[0;32m     59\u001b[0m         \u001b[0mz2\u001b[0m \u001b[1;33m=\u001b[0m \u001b[0mw1\u001b[0m\u001b[1;33m.\u001b[0m\u001b[0mdot\u001b[0m\u001b[1;33m(\u001b[0m\u001b[0ma1\u001b[0m\u001b[1;33m.\u001b[0m\u001b[0mT\u001b[0m\u001b[1;33m)\u001b[0m\u001b[1;33m\u001b[0m\u001b[0m\n\u001b[0;32m     60\u001b[0m         \u001b[0ma2\u001b[0m \u001b[1;33m=\u001b[0m \u001b[0mself\u001b[0m\u001b[1;33m.\u001b[0m\u001b[0m_sigmoid\u001b[0m\u001b[1;33m(\u001b[0m\u001b[0mz2\u001b[0m\u001b[1;33m)\u001b[0m\u001b[1;33m\u001b[0m\u001b[0m\n",
      "\u001b[1;32m<ipython-input-8-850e14742614>\u001b[0m in \u001b[0;36m_add_bias_unit\u001b[1;34m(self, X, how)\u001b[0m\n\u001b[0;32m     46\u001b[0m     \u001b[1;32mdef\u001b[0m \u001b[0m_add_bias_unit\u001b[0m\u001b[1;33m(\u001b[0m\u001b[0mself\u001b[0m\u001b[1;33m,\u001b[0m \u001b[0mX\u001b[0m\u001b[1;33m,\u001b[0m \u001b[0mhow\u001b[0m\u001b[1;33m=\u001b[0m\u001b[1;34m'column'\u001b[0m\u001b[1;33m)\u001b[0m\u001b[1;33m:\u001b[0m\u001b[1;33m\u001b[0m\u001b[0m\n\u001b[0;32m     47\u001b[0m         \u001b[1;32mif\u001b[0m \u001b[0mhow\u001b[0m \u001b[1;33m==\u001b[0m \u001b[1;34m'column'\u001b[0m\u001b[1;33m:\u001b[0m\u001b[1;33m\u001b[0m\u001b[0m\n\u001b[1;32m---> 48\u001b[1;33m             \u001b[0mX_new\u001b[0m \u001b[1;33m=\u001b[0m \u001b[0mnp\u001b[0m\u001b[1;33m.\u001b[0m\u001b[0mones\u001b[0m\u001b[1;33m(\u001b[0m\u001b[1;33m(\u001b[0m\u001b[0mX\u001b[0m\u001b[1;33m.\u001b[0m\u001b[0mshape\u001b[0m\u001b[1;33m[\u001b[0m\u001b[1;36m0\u001b[0m\u001b[1;33m]\u001b[0m\u001b[1;33m,\u001b[0m \u001b[0mX\u001b[0m\u001b[1;33m.\u001b[0m\u001b[0mshape\u001b[0m\u001b[1;33m[\u001b[0m\u001b[1;36m1\u001b[0m\u001b[1;33m]\u001b[0m\u001b[1;33m+\u001b[0m\u001b[1;36m1\u001b[0m\u001b[1;33m)\u001b[0m\u001b[1;33m)\u001b[0m\u001b[1;33m\u001b[0m\u001b[0m\n\u001b[0m\u001b[0;32m     49\u001b[0m             \u001b[0mX_new\u001b[0m\u001b[1;33m[\u001b[0m\u001b[1;33m:\u001b[0m\u001b[1;33m,\u001b[0m \u001b[1;36m1\u001b[0m\u001b[1;33m:\u001b[0m\u001b[1;33m]\u001b[0m \u001b[1;33m=\u001b[0m \u001b[0mX\u001b[0m\u001b[1;33m\u001b[0m\u001b[0m\n\u001b[0;32m     50\u001b[0m         \u001b[1;32melif\u001b[0m \u001b[0mhow\u001b[0m \u001b[1;33m==\u001b[0m \u001b[1;34m'row'\u001b[0m\u001b[1;33m:\u001b[0m\u001b[1;33m\u001b[0m\u001b[0m\n",
      "\u001b[1;32mC:\\miniconda3\\envs\\data\\lib\\site-packages\\numpy\\core\\numeric.py\u001b[0m in \u001b[0;36mones\u001b[1;34m(shape, dtype, order)\u001b[0m\n\u001b[0;32m    201\u001b[0m \u001b[1;33m\u001b[0m\u001b[0m\n\u001b[0;32m    202\u001b[0m     \"\"\"\n\u001b[1;32m--> 203\u001b[1;33m     \u001b[0ma\u001b[0m \u001b[1;33m=\u001b[0m \u001b[0mempty\u001b[0m\u001b[1;33m(\u001b[0m\u001b[0mshape\u001b[0m\u001b[1;33m,\u001b[0m \u001b[0mdtype\u001b[0m\u001b[1;33m,\u001b[0m \u001b[0morder\u001b[0m\u001b[1;33m)\u001b[0m\u001b[1;33m\u001b[0m\u001b[0m\n\u001b[0m\u001b[0;32m    204\u001b[0m     \u001b[0mmultiarray\u001b[0m\u001b[1;33m.\u001b[0m\u001b[0mcopyto\u001b[0m\u001b[1;33m(\u001b[0m\u001b[0ma\u001b[0m\u001b[1;33m,\u001b[0m \u001b[1;36m1\u001b[0m\u001b[1;33m,\u001b[0m \u001b[0mcasting\u001b[0m\u001b[1;33m=\u001b[0m\u001b[1;34m'unsafe'\u001b[0m\u001b[1;33m)\u001b[0m\u001b[1;33m\u001b[0m\u001b[0m\n\u001b[0;32m    205\u001b[0m     \u001b[1;32mreturn\u001b[0m \u001b[0ma\u001b[0m\u001b[1;33m\u001b[0m\u001b[0m\n",
      "\u001b[1;31mMemoryError\u001b[0m: "
     ]
    }
   ],
   "source": [
    "nn = NeuralNetMLP(n_output=10, n_features=xtrain.shape[1], n_hidden=100,\n",
    "                  l2=0.0,l1=0.0,epochs=1000, eta=0.001, alpha=0.001,                         \n",
    "                  decrease_const=0.00001, shuffle=True, minibatches=1, random_state=1)\n",
    "\n",
    "nn.fit(xtrain, ytrain, print_progress=True)"
   ]
  },
  {
   "cell_type": "code",
   "execution_count": 4,
   "metadata": {},
   "outputs": [
    {
     "data": {
      "text/plain": [
       "0.11413333333333334"
      ]
     },
     "execution_count": 4,
     "metadata": {},
     "output_type": "execute_result"
    }
   ],
   "source": [
    "yy = predict(xtrain)\n",
    "acc = np.sum(ytrain == yy, axis=0) / xtrain.shape[0]\n",
    "acc"
   ]
  },
  {
   "cell_type": "code",
   "execution_count": 18,
   "metadata": {
    "collapsed": true
   },
   "outputs": [],
   "source": [
    "nn = NeuralNetMLP(n_output=10, n_features=784, n_hidden=100,\n",
    "                  l2=0.0,l1=0.0,epochs=1000, eta=0.001, alpha=0.001,                         \n",
    "                  decrease_const=0.00001, shuffle=True, minibatches=2, random_state=1)"
   ]
  },
  {
   "cell_type": "code",
   "execution_count": 19,
   "metadata": {},
   "outputs": [
    {
     "name": "stderr",
     "output_type": "stream",
     "text": [
      "Epoch: 1/1000C:\\miniconda3\\envs\\data\\lib\\site-packages\\ipykernel_launcher.py:74: RuntimeWarning: divide by zero encountered in log\n",
      "C:\\miniconda3\\envs\\data\\lib\\site-packages\\ipykernel_launcher.py:74: RuntimeWarning: invalid value encountered in multiply\n",
      "Epoch: 1000/1000"
     ]
    },
    {
     "data": {
      "text/plain": [
       "<__main__.NeuralNetMLP at 0xa8967b0>"
      ]
     },
     "execution_count": 19,
     "metadata": {},
     "output_type": "execute_result"
    }
   ],
   "source": [
    "nn.fit(xtrain, ytrain, print_progress = True)"
   ]
  },
  {
   "cell_type": "code",
   "execution_count": 20,
   "metadata": {
    "collapsed": true
   },
   "outputs": [],
   "source": [
    "y_pred = nn.predict(xtest)"
   ]
  },
  {
   "cell_type": "code",
   "execution_count": 21,
   "metadata": {},
   "outputs": [
    {
     "data": {
      "text/plain": [
       "0.11262857142857143"
      ]
     },
     "execution_count": 21,
     "metadata": {},
     "output_type": "execute_result"
    }
   ],
   "source": [
    "acc = np.sum(ytest == y_pred, axis=0) / xtest.shape[0]\n",
    "acc"
   ]
  },
  {
   "cell_type": "code",
   "execution_count": null,
   "metadata": {
    "collapsed": true
   },
   "outputs": [],
   "source": []
  }
 ],
 "metadata": {
  "kernelspec": {
   "display_name": "Python 3",
   "language": "python",
   "name": "python3"
  },
  "language_info": {
   "codemirror_mode": {
    "name": "ipython",
    "version": 3
   },
   "file_extension": ".py",
   "mimetype": "text/x-python",
   "name": "python",
   "nbconvert_exporter": "python",
   "pygments_lexer": "ipython3",
   "version": "3.6.3"
  }
 },
 "nbformat": 4,
 "nbformat_minor": 2
}
