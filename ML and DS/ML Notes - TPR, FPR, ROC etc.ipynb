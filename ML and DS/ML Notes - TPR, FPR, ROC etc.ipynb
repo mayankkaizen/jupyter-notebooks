{
 "cells": [
  {
   "cell_type": "code",
   "execution_count": null,
   "metadata": {},
   "outputs": [],
   "source": []
  },
  {
   "cell_type": "markdown",
   "metadata": {},
   "source": [
    "### Precision and Recall\n",
    "$$\n",
    "Precision = \\frac{TP}{(TP+FP)}\n",
    "$$\n",
    "$$\n",
    "Recall = \\frac{TP}{(TP+FN)}\n",
    "$$\n",
    "\n",
    "TP is the number of true positives, and FP is the number of false positives. A trivial way to have perfect precision is to make one single positive prediction and ensure it is correct (precision = 1/1 = 100%). This would not be very useful since the classifier would ignore all but one\n",
    "positive instance. So precision is typically used along with another metric named recall, also called sensitivity or true positive rate (TPR): this is the ratio of positive instances that are correctly detected by the classifier. FN is of course the number of false negatives.\n",
    "\n",
    "Suppose a picture has 12 dogs and 4 cats in it. A program identifies 8 dogs in it but in reality, there are only 5 dogs in those identified 8 dogs. \n",
    "\n",
    "This means that **Precision Score** will be 5/8. Precision implies how correct/useful our program is. \n",
    "\n",
    "Similarily **Recall Score** would be 5/12. Recall implies how complete our program is. "
   ]
  },
  {
   "cell_type": "markdown",
   "metadata": {},
   "source": [
    "### Type I and Type II Errors\n",
    "In statistical hypothesis testing, a type I error is the rejection of a true null hypothesis (also known as a \"false positive\" finding), while a type II error is failing to reject a false null hypothesis (also known as a \"false negative\" finding). More simply stated, a type I error is to falsely infer the existence of something that is not there, while a type II error is to falsely infer the absence of something that is.  \n",
    "\n",
    "\n",
    "**Type I Error** is the number of false positives which in above case is (8-5) = 3 as program wrongly identified 3 cats as dogs.\n",
    "\n",
    "**Type II Error** is the number of false negatives which in above case is (12-5) =  7 as program rejected 7 dogs because it thought they weren't dog but they actually were.  \n",
    "\n",
    "### Sensitivity and Specificity\n",
    "\n",
    "**Sensitivity** (also called TPR or Recall) measures the proportion of actual positives that are correctly identified as such. \n",
    "\n",
    "**Specificity** (also called True Negative Rate) measures the proportion of actual negatives that are correctly identified as such.\n",
    "$$\n",
    "Sensitivity = \\frac{TP}{TP+FN}\n",
    "$$\n",
    "\n",
    "$$\n",
    "Specificity = \\frac{TN}{TN+FP}\n",
    "$$\n",
    "\n",
    "Note that **Sensitivity equals to Recall.** \n",
    "<img src=\"images/sensitivity.png\" width=\"300\" height=\"500\"/>\n",
    "\n",
    "**Sensitivity** will be 5/12 as it equals to **Recall**\n",
    "\n",
    "**Specificity** will be 1/(1+3) = 1/4"
   ]
  },
  {
   "cell_type": "markdown",
   "metadata": {},
   "source": [
    "![](images/precision.png)\n",
    "\n",
    "The above image is an illustration of the case where our estimator tries to identify digit  '5' among hand written digits smaples. "
   ]
  },
  {
   "cell_type": "markdown",
   "metadata": {},
   "source": [
    "### F-1 Score\n",
    "\n",
    "$$F1 = \\frac{2}{\\frac{1}{Precision}+\\frac{1}{Recall}}$$\n",
    "\n",
    "To compute the F1 score, simply call the f1_score() function:\n",
    "```python\n",
    ">>> from sklearn.metrics import f1_score\n",
    ">>> f1_score(y_train_5, y_pred)\n",
    "0.78468208092485547\n",
    "```"
   ]
  },
  {
   "cell_type": "markdown",
   "metadata": {},
   "source": [
    "### ROC Curve\n",
    "\n",
    "The receiver operating characteristic (ROC) curve is another common tool used with binary classifiers. It is very similar to the precision/recall curve, but instead of plotting precision versus recall, the ROC curve plots the true positive rate (another name for recall) against the false positive rate. The FPR is the ratio of negative instances that are incorrectly classified as positive. It is equal to one minus the true negative rate, which is the ratio of negative instances that are correctly classified as negative. The TNR is also called specificity. **Hence the ROC curve plots sensitivity (recall) versus 1 – specificity.**\n",
    "\n",
    "To plot the ROC curve, you first need to compute the TPR and FPR for various threshold values, using the `roc_curve()` function:\n",
    "\n",
    "```python\n",
    ">>>from sklearn.metrics import roc_curve\n",
    ">>>fpr, tpr, thresholds = roc_curve(y_train_5, y_scores)\n",
    "```"
   ]
  },
  {
   "cell_type": "markdown",
   "metadata": {},
   "source": [
    "![](images/roc.png)\n",
    "\n",
    "See [SVM - ROC Example](ML - Support Vector Machines.ipynb#ROC-Example) for a concrete example of ROC curve"
   ]
  },
  {
   "cell_type": "markdown",
   "metadata": {},
   "source": [
    "#### ROC - A Basic Example"
   ]
  },
  {
   "cell_type": "code",
   "execution_count": 3,
   "metadata": {},
   "outputs": [],
   "source": [
    "from sklearn.metrics import roc_curve, auc\n",
    "\n",
    "ytrue = [1,1,1,1,0,1,0,0]\n",
    "ypred = [.9,.8,.9,.4,.2,.9,.3,.8]\n",
    "\n",
    "fpr,tpr, thres = roc_curve(ytrue, ypred, drop_intermediate = False)"
   ]
  },
  {
   "cell_type": "code",
   "execution_count": 4,
   "metadata": {},
   "outputs": [
    {
     "data": {
      "text/plain": [
       "array([1.9, 0.9, 0.8, 0.4, 0.3, 0.2])"
      ]
     },
     "execution_count": 4,
     "metadata": {},
     "output_type": "execute_result"
    }
   ],
   "source": [
    "thres"
   ]
  },
  {
   "cell_type": "markdown",
   "metadata": {},
   "source": [
    "Confusion -  where did 1.9 come from in `thres`?\n",
    "\n",
    "Though the length of `ytrue` is 8, the length of `fpr` and `tpr` is 5. This is because the values in `thres` array are the unique values found in `ypred` (that is 5). Try chaging the values in `ypred` and see what happens.\n",
    "\n",
    "Also, in `roc_curve` function, the default value of `drop_intermediate` is set to `True`. This makes some suboptimal values of `thres` to be ignored. \n",
    "\n",
    "`ypred` is the output of decision function (either `decision_function` or `predict_proba`, depending on the classifier)\n"
   ]
  },
  {
   "cell_type": "code",
   "execution_count": 2,
   "metadata": {},
   "outputs": [
    {
     "data": {
      "text/plain": [
       "array([0.        , 0.        , 0.33333333, 0.33333333, 0.66666667,\n",
       "       1.        ])"
      ]
     },
     "execution_count": 2,
     "metadata": {},
     "output_type": "execute_result"
    }
   ],
   "source": [
    "fpr"
   ]
  },
  {
   "cell_type": "code",
   "execution_count": 3,
   "metadata": {},
   "outputs": [
    {
     "data": {
      "text/plain": [
       "array([0. , 0.6, 0.8, 1. , 1. , 1. ])"
      ]
     },
     "execution_count": 3,
     "metadata": {},
     "output_type": "execute_result"
    }
   ],
   "source": [
    "tpr"
   ]
  },
  {
   "cell_type": "markdown",
   "metadata": {},
   "source": [
    "For each threshold value, we compare each value in `ypred` with threshold value, if it is >= threshold value, we replace it with 1, otherwise it is replaced with 0. Then we calculate `fp`, `tp`, `fpr`, `tpr` by comparing new `ypred` to `ytrue`. \n",
    "\n",
    "$tpr = \\frac{TP}{(TP+FN)} = Recall = Sensitivity$\n",
    "\n",
    "$fpr = \\frac{FP}{(FP+TN)} = 1 - \\frac{TN}{FP+TN} = 1 - Specificity$\n",
    "\n",
    "See below for illustration- "
   ]
  },
  {
   "cell_type": "code",
   "execution_count": 5,
   "metadata": {},
   "outputs": [
    {
     "data": {
      "text/plain": [
       "(0.6, 0.0)"
      ]
     },
     "execution_count": 5,
     "metadata": {},
     "output_type": "execute_result"
    }
   ],
   "source": [
    "# thres = .9\n",
    "ytrue = [1,1,1,1,0,1,0,0]\n",
    "ypred = [1,0,1,0,0,1,0,0]\n",
    "true_positive = 3\n",
    "false_positive = 0\n",
    "tpr_9 = 3/5  # 5 is the number of positive instances in ytrue\n",
    "fpr_9 = 0/3  # 3 is the number of negative instances in ytrue\n",
    "tpr_9, fpr_9"
   ]
  },
  {
   "cell_type": "code",
   "execution_count": 6,
   "metadata": {},
   "outputs": [
    {
     "data": {
      "text/plain": [
       "(0.8, 0.3333333333333333)"
      ]
     },
     "execution_count": 6,
     "metadata": {},
     "output_type": "execute_result"
    }
   ],
   "source": [
    "# thres = .8\n",
    "ypred = [1,1,1,0,0,1,0,1]\n",
    "true_positive = 4\n",
    "false_positive = 1\n",
    "tpr_8 = 4/5  # 5 is the number of positive instances in ytrue\n",
    "fpr_8 = 1/3  # 3 is the number of negative instances in ytrue\n",
    "tpr_8, fpr_8"
   ]
  },
  {
   "cell_type": "markdown",
   "metadata": {},
   "source": [
    "Similarily we can go on for other threshold values. For above two cases of threshold, our results are matching with the values calculated by `roc_curve` function.\n",
    "\n",
    "Let us generate `ypred` lists based on each value of thres. "
   ]
  },
  {
   "cell_type": "code",
   "execution_count": 7,
   "metadata": {},
   "outputs": [
    {
     "name": "stdout",
     "output_type": "stream",
     "text": [
      "for thres value 1.9 ypred is [0, 0, 0, 0, 0, 0, 0, 0]\n",
      "for thres value 0.9 ypred is [1, 0, 1, 0, 0, 1, 0, 0]\n",
      "for thres value 0.8 ypred is [1, 1, 1, 0, 0, 1, 0, 1]\n",
      "for thres value 0.4 ypred is [1, 1, 1, 1, 0, 1, 0, 1]\n",
      "for thres value 0.3 ypred is [1, 1, 1, 1, 0, 1, 1, 1]\n",
      "for thres value 0.2 ypred is [1, 1, 1, 1, 1, 1, 1, 1]\n"
     ]
    }
   ],
   "source": [
    "ypred = [.9,.8,.9,.4,.2,.9,.3,.8]\n",
    "\n",
    "\n",
    "for i in thres:\n",
    "    ypred_t = []\n",
    "    for j in ypred:\n",
    "        if j >= i:\n",
    "            ypred_t.append(1)\n",
    "        else:\n",
    "            ypred_t.append(0)\n",
    "    print(\"for thres value %.1f ypred is\" %i, ypred_t)  "
   ]
  },
  {
   "cell_type": "code",
   "execution_count": 8,
   "metadata": {},
   "outputs": [
    {
     "name": "stdout",
     "output_type": "stream",
     "text": [
      "for thres 1.9, fp is 0 and tp is 0\n",
      "for thres 0.9, fp is 0 and tp is 3\n",
      "for thres 0.8, fp is 1 and tp is 4\n",
      "for thres 0.4, fp is 1 and tp is 5\n",
      "for thres 0.3, fp is 2 and tp is 5\n",
      "for thres 0.2, fp is 3 and tp is 5\n"
     ]
    }
   ],
   "source": [
    "#calculate false positive and true positive for each threshold.\n",
    "#don't confuse false positive with fpr. Ditto for true positive\n",
    "#fpr = fp/total negative in ytrue =(1-specificity)  and tpr = tp/total positives in ytrue (sensitivity)\n",
    "\n",
    "ypred = [.9,.8,.9,.4,.2,.9,.3,.8]\n",
    "ytrue = [1,1,1,1,0,1,0,0]\n",
    "\n",
    "for i in thres:\n",
    "    ypred_t = []\n",
    "    fp, tp = (0,0)\n",
    "    for j in ypred:\n",
    "        if j >= i:\n",
    "            ypred_t.append(1)\n",
    "        else:\n",
    "            ypred_t.append(0)\n",
    "    #print(ypred_t)        \n",
    "    for k in range(len(ypred)):\n",
    "        if ytrue[k] - ypred_t[k] == -1:\n",
    "            fp+=1\n",
    "        elif ytrue[k] - ypred_t[k] == 0 and ytrue[k] ==1:\n",
    "            tp+=1\n",
    "    print(\"for thres %.1f, fp is %d and tp is %d\" %(i, fp, tp))    "
   ]
  },
  {
   "cell_type": "code",
   "execution_count": 9,
   "metadata": {},
   "outputs": [
    {
     "data": {
      "text/plain": [
       "<matplotlib.legend.Legend at 0x7006e50>"
      ]
     },
     "execution_count": 9,
     "metadata": {},
     "output_type": "execute_result"
    },
    {
     "data": {
      "image/png": "[encoded data removed]",
      "text/plain": [
       "<Figure size 432x288 with 1 Axes>"
      ]
     },
     "metadata": {
      "needs_background": "light"
     },
     "output_type": "display_data"
    }
   ],
   "source": [
    "%matplotlib inline\n",
    "import matplotlib.pyplot as plt\n",
    "\n",
    "plt.plot(fpr, tpr,label = 'ROC curve (area = %0.2f)' % auc(fpr, tpr))\n",
    "plt.plot([0,1],[0,1])\n",
    "plt.xlim([0.0, 1.0])\n",
    "plt.ylim([0.0, 1.05])\n",
    "plt.xlabel('False Positive Rate')\n",
    "plt.ylabel('True Positive Rate')\n",
    "plt.title('ROC Toy Example')\n",
    "plt.legend(loc=\"lower right\")"
   ]
  },
  {
   "cell_type": "code",
   "execution_count": 10,
   "metadata": {},
   "outputs": [
    {
     "data": {
      "text/plain": [
       "0.9"
      ]
     },
     "execution_count": 10,
     "metadata": {},
     "output_type": "execute_result"
    }
   ],
   "source": [
    "auc(fpr, tpr)"
   ]
  },
  {
   "cell_type": "markdown",
   "metadata": {},
   "source": [
    "### ROC Example\n",
    "\n",
    "See Section 4.18.11 of docs(.19.1)"
   ]
  },
  {
   "cell_type": "code",
   "execution_count": 11,
   "metadata": {},
   "outputs": [
    {
     "data": {
      "image/png": "[encoded data removed]",
      "text/plain": [
       "<Figure size 432x288 with 1 Axes>"
      ]
     },
     "metadata": {
      "needs_background": "light"
     },
     "output_type": "display_data"
    }
   ],
   "source": [
    "import numpy as np\n",
    "import matplotlib.pyplot as plt\n",
    "from itertools import cycle         \n",
    "from sklearn import svm, datasets\n",
    "from sklearn.metrics import roc_curve, auc\n",
    "from sklearn.model_selection import train_test_split\n",
    "from sklearn.preprocessing import label_binarize\n",
    "from sklearn.multiclass import OneVsRestClassifier\n",
    "from scipy import interp             \n",
    "\n",
    "iris = datasets.load_iris()\n",
    "X = iris.data\n",
    "y = iris.target\n",
    "#y = array([0, 0, 0,  2, 2])      \n",
    "\n",
    "#binarize the output\n",
    "y = label_binarize(y, classes = [0, 1, 2])\n",
    "#y = array([[1, 0, 0],[1, 0, 0],[1, 0, 0],[1, 0, 0],..... [0, 0, 1],[0, 0, 1],[0, 0, 1],[0, 0, 1]], dtype=int32)\n",
    "n_classes = y.shape[1]\n",
    "random_state = np.random.RandomState(0)\n",
    "n_samples, n_features = X.shape\n",
    "X = np.c_[X, random_state.randn(n_samples, 200*n_features)]\n",
    "\n",
    "X_train, X_test, y_train, y_test = train_test_split(X,y, test_size = .5, random_state = 0)\n",
    "\n",
    "classifier = OneVsRestClassifier(svm.SVC(kernel = 'linear', probability = True, random_state = random_state))\n",
    "y_score = classifier.fit(X_train, y_train).decision_function(X_test)\n",
    "\n",
    "fpr = dict()\n",
    "tpr = dict()\n",
    "roc_auc = dict()\n",
    "for i in range(n_classes):\n",
    "    fpr[i], tpr[i], _ = roc_curve(y_test[:,i], y_score[:, i])\n",
    "    roc_auc[i] = auc(fpr[i], tpr[i])\n",
    "    \n",
    "fpr['micro'], tpr['micro'], _ = roc_curve(y_test.ravel(), y_score.ravel())\n",
    "roc_auc['micro'] = auc(fpr['micro'], tpr['micro'])\n",
    "\n",
    "\n",
    "plt.figure()\n",
    "lw = 2\n",
    "plt.plot(fpr[2], tpr[2], color = 'darkorange', lw = lw, label = 'ROC curve (area = %0.2f)' % roc_auc[2])\n",
    "plt.plot([0,1],[0,1], color = 'navy', lw = lw, linestyle = '--')\n",
    "plt.xlim(0.0, 1.0)\n",
    "plt.ylim(0.0,1.05)\n",
    "plt.xlabel('FPR')\n",
    "plt.ylabel('TPR')\n",
    "plt.title('ROC example')\n",
    "plt.legend(loc = 'lower right')\n",
    "plt.show()\n"
   ]
  },
  {
   "cell_type": "code",
   "execution_count": 13,
   "metadata": {},
   "outputs": [
    {
     "data": {
      "image/png": "[encoded data removed]",
      "text/plain": [
       "<Figure size 720x432 with 1 Axes>"
      ]
     },
     "metadata": {
      "needs_background": "light"
     },
     "output_type": "display_data"
    }
   ],
   "source": [
    "#Compute macro-average ROC curve and ROC area\n",
    "\n",
    "# First aggregate all false positive rates\n",
    "all_fpr = np.unique(np.concatenate([fpr[i] for i in range(n_classes)]))\n",
    "# Then interpolate all ROC curves at this points\n",
    "\n",
    "mean_tpr = np.zeros_like(all_fpr)\n",
    "for i in range(n_classes):\n",
    "    mean_tpr += interp(all_fpr, fpr[i], tpr[i])\n",
    "# Finally average it and compute AUC\n",
    "mean_tpr /= n_classes\n",
    "fpr[\"macro\"] = all_fpr\n",
    "tpr[\"macro\"] = mean_tpr\n",
    "roc_auc[\"macro\"] = auc(fpr[\"macro\"], tpr[\"macro\"])\n",
    "# Plot all ROC curves\n",
    "plt.figure(figsize =(10,6))\n",
    "plt.plot(fpr[\"micro\"], tpr[\"micro\"],label='micro-average ROC curve (area = {0:0.2f})'''.format(roc_auc[\"micro\"]),\n",
    "         color='deeppink', linestyle=':', linewidth=4)\n",
    "plt.plot(fpr[\"macro\"], tpr[\"macro\"],label='macro-average ROC curve (area = {0:0.2f})'''.format(roc_auc[\"macro\"]),color='navy', linestyle=':', linewidth=4)\n",
    "colors = cycle(['aqua', 'darkorange', 'cornflowerblue'])\n",
    "for i, color in zip(range(n_classes), colors):\n",
    "    plt.plot(fpr[i], tpr[i], color=color, lw=lw, label='ROC curve of class {0} (area = {1:0.2f})'''.format(i, roc_auc[i]))\n",
    "\n",
    "    plt.plot([0, 1], [0, 1], 'k--', lw=lw)\n",
    "plt.xlim([0.0, 1.0])\n",
    "plt.ylim([0.0, 1.05])\n",
    "plt.xlabel('False Positive Rate')\n",
    "plt.ylabel('True Positive Rate')\n",
    "plt.title('Some extension of Receiver operating characteristic to multi-class')\n",
    "plt.legend(loc=\"lower right\")\n",
    "plt.show()"
   ]
  },
  {
   "cell_type": "code",
   "execution_count": 14,
   "metadata": {},
   "outputs": [
    {
     "data": {
      "text/plain": [
       "{0: array([0.        , 0.        , 0.        , 0.01851852, 0.01851852,\n",
       "        0.03703704, 0.03703704, 0.05555556, 0.05555556, 0.07407407,\n",
       "        0.07407407, 0.09259259, 0.09259259, 0.12962963, 0.12962963,\n",
       "        0.14814815, 0.14814815, 0.2037037 , 0.2037037 , 0.27777778,\n",
       "        0.27777778, 1.        ]),\n",
       " 1: array([0.        , 0.        , 0.        , 0.02222222, 0.02222222,\n",
       "        0.11111111, 0.11111111, 0.17777778, 0.17777778, 0.2       ,\n",
       "        0.2       , 0.24444444, 0.24444444, 0.26666667, 0.26666667,\n",
       "        0.37777778, 0.37777778, 0.42222222, 0.42222222, 0.48888889,\n",
       "        0.48888889, 0.55555556, 0.55555556, 0.62222222, 0.62222222,\n",
       "        0.64444444, 0.64444444, 0.66666667, 0.66666667, 0.73333333,\n",
       "        0.73333333, 0.75555556, 0.75555556, 0.88888889, 0.88888889,\n",
       "        1.        ]),\n",
       " 2: array([0.        , 0.        , 0.        , 0.01960784, 0.01960784,\n",
       "        0.07843137, 0.07843137, 0.09803922, 0.09803922, 0.11764706,\n",
       "        0.11764706, 0.1372549 , 0.1372549 , 0.15686275, 0.15686275,\n",
       "        0.17647059, 0.17647059, 0.31372549, 0.31372549, 0.33333333,\n",
       "        0.33333333, 0.35294118, 0.35294118, 0.41176471, 0.41176471,\n",
       "        0.45098039, 0.45098039, 0.47058824, 0.47058824, 0.50980392,\n",
       "        0.50980392, 0.56862745, 0.56862745, 1.        ]),\n",
       " 'micro': array([0.        , 0.        , 0.        , 0.00666667, 0.00666667,\n",
       "        0.01333333, 0.01333333, 0.02      , 0.02      , 0.02666667,\n",
       "        0.02666667, 0.03333333, 0.03333333, 0.05333333, 0.05333333,\n",
       "        0.06      , 0.06      , 0.06666667, 0.06666667, 0.07333333,\n",
       "        0.07333333, 0.08666667, 0.08666667, 0.09333333, 0.09333333,\n",
       "        0.1       , 0.1       , 0.10666667, 0.10666667, 0.11333333,\n",
       "        0.11333333, 0.12      , 0.12      , 0.14      , 0.14      ,\n",
       "        0.17333333, 0.17333333, 0.20666667, 0.20666667, 0.23333333,\n",
       "        0.23333333, 0.25333333, 0.25333333, 0.27333333, 0.27333333,\n",
       "        0.28666667, 0.28666667, 0.30666667, 0.30666667, 0.32      ,\n",
       "        0.32      , 0.32666667, 0.32666667, 0.34666667, 0.34666667,\n",
       "        0.35333333, 0.35333333, 0.37333333, 0.37333333, 0.46      ,\n",
       "        0.46      , 0.46666667, 0.46666667, 0.48666667, 0.48666667,\n",
       "        0.58666667, 0.58666667, 0.59333333, 0.59333333, 0.63333333,\n",
       "        0.63333333, 0.72      , 0.72      , 0.76      , 0.76      ,\n",
       "        0.78666667, 0.78666667, 0.79333333, 0.79333333, 0.8       ,\n",
       "        0.8       , 0.80666667, 0.80666667, 0.82      , 0.82      ,\n",
       "        0.83333333, 0.83333333, 0.86666667, 0.86666667, 0.88666667,\n",
       "        0.88666667, 0.93333333, 0.93333333, 1.        ]),\n",
       " 'macro': array([0.        , 0.01851852, 0.01960784, 0.02222222, 0.03703704,\n",
       "        0.05555556, 0.07407407, 0.07843137, 0.09259259, 0.09803922,\n",
       "        0.11111111, 0.11764706, 0.12962963, 0.1372549 , 0.14814815,\n",
       "        0.15686275, 0.17647059, 0.17777778, 0.2       , 0.2037037 ,\n",
       "        0.24444444, 0.26666667, 0.27777778, 0.31372549, 0.33333333,\n",
       "        0.35294118, 0.37777778, 0.41176471, 0.42222222, 0.45098039,\n",
       "        0.47058824, 0.48888889, 0.50980392, 0.55555556, 0.56862745,\n",
       "        0.62222222, 0.64444444, 0.66666667, 0.73333333, 0.75555556,\n",
       "        0.88888889, 1.        ])}"
      ]
     },
     "execution_count": 14,
     "metadata": {},
     "output_type": "execute_result"
    }
   ],
   "source": [
    "fpr"
   ]
  },
  {
   "cell_type": "code",
   "execution_count": null,
   "metadata": {
    "collapsed": true
   },
   "outputs": [],
   "source": []
  }
 ],
 "metadata": {
  "kernelspec": {
   "display_name": "Python 3",
   "language": "python",
   "name": "python3"
  },
  "language_info": {
   "codemirror_mode": {
    "name": "ipython",
    "version": 3
   },
   "file_extension": ".py",
   "mimetype": "text/x-python",
   "name": "python",
   "nbconvert_exporter": "python",
   "pygments_lexer": "ipython3",
   "version": "3.7.6"
  }
 },
 "nbformat": 4,
 "nbformat_minor": 2
}
