{
 "cells": [
  {
   "cell_type": "code",
   "execution_count": 1,
   "metadata": {
    "collapsed": true
   },
   "outputs": [],
   "source": [
    "#some generic imports\n",
    "\n",
    "%matplotlib inline \n",
    "import matplotlib.pyplot as plt\n",
    "import seaborn as sns\n",
    "sns.set()\n",
    "import numpy as np\n",
    "import pandas as pd\n",
    "from scipy import stats\n",
    "from scipy import special\n"
   ]
  },
  {
   "cell_type": "markdown",
   "metadata": {},
   "source": [
    "---\n",
    "### Counting\n",
    "\n",
    " - Permutation - Order matters so (1,0) and (0,1) means different things.\n",
    " \n",
    " $ p^n_k = \\frac{n!}{(n-k)!} $  -  *without replacement*\n",
    " \n",
    " \n",
    " - Combination - Order doesn't matter so (1,0) and (0,1) means same thing.\n",
    " \n",
    " $ c^n_k = \\frac{n!}{k!(n-k)!} $ - *without replacement*\n",
    " \n",
    " ---"
   ]
  },
  {
   "cell_type": "markdown",
   "metadata": {},
   "source": [
    "---\n",
    "### Probability\n",
    "$\\overline{P(A ∩ B) + P(A ∩ B') = P(A)}$ \n",
    "\n",
    "$P(A ∩ B) + P(A' ∩ B) = P(B)$\n",
    "\n",
    "$P(A ∪ B) + P(A ∩ B) = P(A) + P(B)$\n",
    "\n",
    "$P(A ∪ B) = P(A ∩ B) + P(A ∩ B) + P(A ∩ B)$\n",
    "\n",
    "$(A ∪ B)' = A' ∩ B'$\n",
    "\n",
    "$\\underline{(A ∩ B)' = A' ∪ B'}$\n",
    "\n",
    "**Conditional Probability** - It measures the probability that event A occurs when it is known that\n",
    "event B occurs.\n",
    "\n",
    "Its interpretation is that if the outcome occurring is known to be contained within the event B, then this conditional probability measures the probability that the outcome is also contained within the event A. Conditional probabilities can easily be obtained using the following formula:\n",
    "\n",
    "$P(A|B) = \\frac{P(A ∩ B)}{P(B)}$ for $P(B) > 0$. \n",
    "\n",
    "When $B \\subset A$, this implies that $A \\cap B$ equals to $B$. This means whenever $B$ happens, $A$ also happens. Hence, probability of $A$ conditional on event $B$ is 1. This is also apparent when we put $P(B)$ in place of $A \\cap B$ -\n",
    "\n",
    "$P(A|B) = \\frac{P(A ∩ B)}{P(B)} = \\frac{P(B)}{P(B)} = 1$ "
   ]
  },
  {
   "cell_type": "markdown",
   "metadata": {},
   "source": [
    "---\n",
    "##### Posterior Probabilities\n",
    "\n",
    "Let A1, . . . , An be a partition of a sample space S so that the events Ai are mutually exclusive with\n",
    "$S = A_1 ∪ ··· ∪ A_n$\n",
    "\n",
    "Suppose that the probabilities of these n events, $P(A1)$, . . . , $P(An)$, are known. In addition, consider an event B as shown in figure shown below, and suppose that the conditional probabilities\n",
    "$P(B|A1)$, . . . , $P(B|An)$ are also known.\n",
    "\n",
    "![](images/prob.png)\n",
    "\n",
    "We have that - \n",
    "\n",
    "$B = (A_1 ∩ B) ∪ · · · ∪ (A_n ∩ B)$\n",
    "\n",
    "where the events $A_i ∩ B$ are mutually exclusive, so that\n",
    "\n",
    "$$\\color{blue}{\\overline{\\underline{P(B) = P(A_1 ∩ B) + ··· + P(A_n ∩ B) = P(A_1) P(B|A_1) + ··· + P(A_n) P(B|A_n)}} \\\\ Law\\; of\\; Total\\; Probability}$$\n",
    "\n",
    "\n",
    "This result, known as the **law of total probability**, has the interpretation that if it is known that\n",
    "one and only one of a series of events $A_i$ can occur, then the probability of another event B can\n",
    "be obtained as the weighted average of the conditional probabilities $P(B|A_i )$, with weights\n",
    "equal to the probabilities $P(A_i)$.\n",
    "\n",
    "An additional question of interest is how to use the probabilities $P(A_i)$ and $P(B|A_i)$ to\n",
    "calculate the probabilities $P(A_i|B)$, the revised probabilities of the events $A_i$ conditional on\n",
    "the event $B$. The probabilities\n",
    "\n",
    "$P(A_1), . . . , P(A_n)$\n",
    "\n",
    "can be thought of as being the prior probabilities of the events A1, . . . , An. However, the observation of the event B provides some additional information that allows the revision of these prior probabilities into a set of posterior probabilities\n",
    "\n",
    "$P(A_1|B), . . . , P(A_n|B)$\n",
    "\n",
    "which are the probabilities of the events $A_1, . . . , A_n$ conditional on the event $B$. From the law of total probability, these posterior probabilities are calculated to be\n",
    "\n",
    "$$\\color{blue}{\\underline{\\overline{P(A_i|B) = \\frac{P(A_i ∩B)}{P(B)} = \\frac{P(A_i)P(B|A_i)}{P(B)} = \\frac{P(A_i)P(B|A_i)}{\\sum_{j =1}^n{P(A_j)P(B|A_j)}}}}\\;\\; - \\; Bayes'\\;Theorem}$$\n",
    "\n",
    "which is known as **Bayes’ theorem**.\n"
   ]
  },
  {
   "cell_type": "markdown",
   "metadata": {},
   "source": [
    "#### Illustration of Bayes' Theorem with an Example \n",
    "\n",
    "Suppose there are two bowls of cookies. Bowl 1 contains 30 vanilla cookies and 10 chocolate cookies. Bowl 2 contains 20 of each. Now suppose you choose one of the bowls at random and, without looking, select a cookie at random. The cookie is vanilla. What is the probability that it came from Bowl 1?\n",
    "\n",
    "This is a conditional probability; we want $p(Bowl \\;1\\;|\\;vanilla)$, but it is not obvious how to compute it. If I asked a different question—the probability of a vanilla cookie given Bowl 1—it would be easy:\n",
    "$p(vanilla\\;|\\;Bowl\\;1)$ = 3/4.\n",
    "Sadly, $p(A|B)$ is not the same as $p(B|A)$, but there is a way to get from one\n",
    "to the other: Bayes’s theorem.\n",
    "\n",
    "We know that conjunction is commutative; that is\n",
    "$$p(A\\;and\\;B) = p(B\\;and\\;A)$$\n",
    "\n",
    "for any events A and B.\n",
    "Next, we write the probability of a conjunction:\n",
    "\n",
    "$$p(A\\;and\\;B) = p(A) p(B|A)$$\n",
    "\n",
    "Since we have not said anything about what A and B mean, they are interchangeable.\n",
    "Interchanging them yields\n",
    "\n",
    "$$p(B\\;and\\;A) = p(B) p(A|B)$$\n",
    "\n",
    "Pulling those pieces together, we get\n",
    "\n",
    "$$p(B) p(A|B) = p(A) p(B|A)$$\n",
    "\n",
    "or\n",
    "\n",
    "$$\\color{blue}{\\overline{\\underline{p(A|B) =p(A) \\frac{p(B|A)}{p(B)}}}\\ \\ \\ \\ \\ \\  - Bayes'\\  Theorem}$$\n",
    "\n",
    "Above, $p(A/B)$ is called the **posterior probability**, $p(A)$ **prior probability**, $p(B|A)$ likelyhood and $p(B)$ is called **normalizing constant**.\n",
    "\n",
    "For our example, I’ll write B1 for the hypothesis that the cookie came from Bowl 1 and V for the vanilla cookie.\n",
    "Plugging in Bayes’s theorem we get\n",
    "\n",
    "$$p(B1|V) =p(B1)\\frac{p(V|B1)}{p(V)}$$\n",
    "\n",
    "The term on the left is what we want: the probability of Bowl 1, given that\n",
    "we chose a vanilla cookie. The terms on the right are:\n",
    "\n",
    " - $p(B1)$: This is the probability that we chose Bowl 1, unconditioned by what kind of cookie we got. Since the problem says we chose a bowl at random, we can assume $p(B1)$ = 1/2.\n",
    " \n",
    " - $p(V|B1)$: This is the probability of getting a vanilla cookie from Bowl 1, which is 3/4.\n",
    " \n",
    " - $p(V)$: This is the probability of drawing a vanilla cookie from either bowl. Since we had an equal chance of choosing either bowl and the bowls contain the same number of cookies, we had the same chance of choosing any cookie. Between the two bowls there are 50 vanilla and 30 chocolate cookies, so $p(V)$ = 5/8. \n",
    " \n",
    "Putting it together, we have - \n",
    "\n",
    "$p(B1|V) =\\frac{(1/2)*(3/4)}{5/8}\\; =\\; 3/5$"
   ]
  },
  {
   "cell_type": "markdown",
   "metadata": {},
   "source": [
    "Also, from **law of total probability** we have - \n",
    "\n",
    "$$P(B) = P(A_1 ∩ B) + ··· + P(A_n ∩ B) = P(A_1) P(B|A_1) + ··· + P(A_n) P(B|A_n)$$\n",
    "\n",
    "For our cookies example, we can write - \n",
    "\n",
    "$$p(V) = p(B1)p(V|B1) + p(B2)p(V|B2) = (1/2)(3/4) + (1/2)(1/2) = 5/8$$"
   ]
  },
  {
   "cell_type": "markdown",
   "metadata": {},
   "source": [
    "##### Monty Hall Problem\n",
    "\n",
    "There are three rooms A, B and C. There is a car in one room and in each of remaining rooms, there is a goat. You are asked to guess a room with a car (say room A). After you choose such a room, host opens one of remaining 2 rooms having a goat (say B). After this, host asks you if you would like to switch from A to C. What would you do? Would you stick to original choice A or would you switch to C?  "
   ]
  },
  {
   "cell_type": "markdown",
   "metadata": {},
   "source": [
    "##### Solution\n",
    "\n",
    "We'll use **Bayes' Rule** and **Law of Total Probability**, i.e. -\n",
    "\n",
    "$$\\color{blue}{\\underline{\\overline{P(H_i|D) = \\frac{P(H_i ∩D)}{P(D)} = \\frac{P(H_i)P(D|H_i)}{P(D)} = \\frac{P(H_i)P(D|H_i)}{\\sum_{j =1}^n{P(H_j)P(D|H_j)}}}}}$$\n",
    "\n",
    "Here, $H_i$ represents various hypothesis and **D** will be data.\n",
    "\n",
    "In this case D consists of two parts: Monty chooses Door B *and* there is no car there. Next we define three hypotheses: A, B, and C represent the hypothesis that the car is behind Door A, Door B, or Door C. Now, let’s apply the table method:\n",
    "\n",
    "Hypothesis|prior p(H)|Likelihood p(D/H)|p(H)p(D/H)|posterior p(H/D)\n",
    "----------|----------|-----------------|----------|----------------\n",
    "A         |1/3       |  1/2            |1/6       |1/3\n",
    "B         |1/3       | 0               |0         |0\n",
    "C         |1/3       | 1               |1/3       |2/3"
   ]
  },
  {
   "cell_type": "markdown",
   "metadata": {},
   "source": [
    "Calculating prior $p(H)$ is straightforward.\n",
    "\n",
    "For hypothesis A, that is Car is actually behind A, Likelihood $p(D|H)$ wil be 1/2 because car can either be in room B or C. That means data statement 'D' has the probability of 1/2 to be true. Also, if Hypothesis B is true, then car is certainly behind B and for this reason $p(D|H)$ will be zero. In case of Hypothesis C, the car is behind C and Monty will definitely open B (because he can't choose A either as it has been chosen by guest.) so $p(D|H)$ will be 1.\n",
    "\n",
    "To apply **Bayes' Rule**, that is, $\\;p(H|D) = \\frac{p(H)p(D|H)}{p(D)}\\;$, we also need to calculate $p(D)$. To calculate this, we make use of Law of Total Probability. In this case -\n",
    "\n",
    "$p(D) = \\sum_{j =1}^n{p(H_j)p(D|H_j)}$\n",
    "\n",
    "We have already calculated all the values for $p(H_j)$ and $p(D|H_j)$ in above table (4th column). So $p(D) = 1/6 + 0+1/3 = 1/2$\n",
    "\n",
    "So after applying Bayes' rule, we see that revised probability for hypothesis A is still 1/3 but the same for Hypothesis C (room C) has been revised to 2/3. That means our strategy should be to switch to Room C"
   ]
  },
  {
   "cell_type": "markdown",
   "metadata": {},
   "source": [
    "---\n",
    "**Sample Space** -  Collection of all possible outcomes of a random experiment. For a coin flipping experiment, sample space would be \n",
    "\n",
    "$S = {H, T}$\n",
    "**Random Variable** - A function defined on a sample space. Denoted as $X$. If we assign a number 0 to H and 1 to T then X = {0,1}\n",
    "\n",
    "A random variable is defined as a function that maps the outcomes of unpredictable processes to numerical quantities (labels), typically real numbers. In this sense, it is a procedure for assigning a numerical quantity to each physical outcome.\n",
    "\n",
    "**Probability Mass Function (PMF)** - The probability mass function (p.m.f.) of a random variable X is a set of probability values $p_i$ assigned to each of the values $x_i$ taken by the discrete random variable.\n",
    "These probability values must satisfy $0 ≤ p_i ≤ 1$ and $\\sum_i p_i = 1$. The probability that\n",
    "the random variable takes the value $x_i$ is said to be $p_i$ , and this is written\n",
    "$P(X = x_i ) = p_i$.\n",
    "\n",
    "**Probability Density Function (PDF)** - The probability that the random variable lies between two values a and b is obtained by\n",
    "integrating the probability density function between these two values, so that\n",
    "\n",
    "$P(a ≤ X ≤ b) = \\int_a^b f(x)dx$\n",
    "\n",
    "---"
   ]
  },
  {
   "cell_type": "markdown",
   "metadata": {},
   "source": [
    "**Probability Distributions**\n",
    "\n",
    "\n",
    "To start this conversation, let's consider a classic example: the three wheel slot machine that costs $0.20 to play:\n",
    "\n",
    "* A = Apple\n",
    "* O = Orange\n",
    "* Q = Quarter\n",
    "\n",
    "|Combination|Payout|Gain/Loss|\n",
    "|:---|:---||\n",
    "|A . A . A|\\$4|\\$3.80|\n",
    "|(in any order) > A . A . O|\\$3|\\$2.80|\n",
    "|O . O . O|\\$2|\\$1.80|\n",
    "|Q . Q . Q|\\$1|\\$0.80|\n",
    "|All other combinations|\\$0|-\\$0.20|\n",
    "\n",
    "The probability to get any single symbol is as follows:\n",
    "\n",
    "* A = 0.1\n",
    "* O = 0.2\n",
    "* Q = 0.2\n",
    "* all other symbols = 0.5\n",
    "\n",
    "|Combination|Payout|Gain/Loss|Probability|\n",
    "|:---|:---|:---||\n",
    "|A . A . A|\\$4|\\$3.80|$0.1 \\times 0.1 \\times 0.1 = $|0.001|\n",
    "|A . A . O|\\$3|\\$2.80|$(0.1 \\times 0.1 \\times 0.2) + (0.1 \\times 0.2 \\times 0.1) + (0.2 \\times 0.1 \\times 0.1) = $|0.006|\n",
    "|O . O . O|\\$2|\\$1.80|$0.2 \\times 0.2 \\times 0.2 =$| 0.008|\n",
    "|Q . Q . Q|\\$1|\\$0.80|$0.2 \\times 0.2 \\times 0.2 =$| 0.008|\n",
    "|All other combinations|\\$0|-\\$0.20|$1 - 0.001 - 0.006 - 0.008 - 0.008 =$| 0.977|\n",
    "\n",
    "If we translate the gain/loss, to a result (labeled x), we can assign the probability of getting any specific result.\n",
    "\n",
    "|Combination|P(X = x)|x|\n",
    "|:---|:---|:---||\n",
    "|A . A . A|0.001|\\$3.80|\n",
    "|A . A . O|0.006|\\$2.80|\n",
    "|O . O . O|0.008|\\$1.80|\n",
    "|Q . Q . Q|0.008|\\$0.80|\n",
    "|All other combinations|0.977|-\\$0.20|\n",
    "\n",
    "As we mentioned... What this means is that the probability of earning \\$3.80 is one in a thousand.\n",
    "The probability of losing \\$0.20 is 977 in a thousand.\n",
    "\n",
    "#### Expectation:\n",
    "\n",
    "The question that often comes to mind is... sure, I get that on any given trial, I might lose, I might win, but is there a way to average out my wins/losses? Well, yes, there is a way to calculate your expected wins and losses over time OR a large number of trials.\n",
    "\n",
    "This is called **Expectation**. Expectation of a random variable **X** is much like the mean we explored earlier AND you use a similar process to calculate it:\n",
    "\n",
    "Multiply the value **x** by the **probability of x** and sum the results:\n",
    "\n",
    "$E(X) = \\sum \\ x \\ P(X = x)$\n",
    "\n",
    "**Note**: random variables (this collection of values), such as **X** are often identified with capital letters. Generally the individual values that the variable can take are denoted with a lower case **x**\n",
    "\n",
    "**Note**: in later cells, we will refer to $E(X)$ as $\\mu$\n",
    "\n",
    "|Combination|P(X = x)|x|Result|\n",
    "|:---|:---|:---|||\n",
    "|A . A . A|0.001|\\$3.80|0.0038|\n",
    "|A . A . O|0.006|\\$2.80|0.0168|\n",
    "|O . O . O|0.008|\\$1.80|0.0144|\n",
    "|Q . Q . Q|0.008|\\$0.80|0.0064|\n",
    "|All other combinations|0.977|-\\$0.20|-0.1954|\n",
    "|||**$\\mu$**|**-0.1604**|\n",
    "\n",
    "Which means that overall, everytime you play, you can expect to **lose an average of $0.16** for every game you play."
   ]
  },
  {
   "cell_type": "markdown",
   "metadata": {},
   "source": [
    "When we discussed means, earlier, we also noted that often it is useful to understand how widely the results might deviate from the expected values. Two measures that we looked at for typical dataset were the variance and the standard deviation.\n",
    "\n",
    "#### Variance\n",
    "\n",
    "The variance of a probability distribution (X) is the expectation of $(X - \\mu)^2$\n",
    "\n",
    "$Var(X) = E(X - \\mu)^2 = \\sum (x - \\mu)^2 P(X \\ = \\ x)$\n",
    "\n",
    "|Combination|P(X = x)|x|Result|x - $\\mu$|\n",
    "|:---|:---|:---||||\n",
    "|A . A . A|0.001|\\$3.80|0.0038|3.8 - (-0.1604) = 3.9604|\n",
    "|A . A . O|0.006|\\$2.80|0.0168|2.8 - (-0.1604) = 2.9604|\n",
    "|O . O . O|0.008|\\$1.80|0.0144|1.8 - (-0.1604) = 1.9604|\n",
    "|Q . Q . Q|0.008|\\$0.80|0.0064|0.8 - (-0.1604) = 0.9604|\n",
    "|All other combinations|0.977|-\\$0.20|-0.1954|-0.2 - (-0.1604) = -0.0396|\n",
    "|||**$\\mu$**|**-0.1604**||\n",
    "\n",
    "Taking the results of $ x - \\mu$ and squaring them... yada\n",
    "\n",
    "|Combination|P(X = x)|x - $\\mu$|(x - $\\mu$)$^2$|Result|\n",
    "|:---|:---|:---||||\n",
    "|A . A . A|0.001|3.9604|15.6848|0.001 * 15.6848 = 0.0157|\n",
    "|A . A . O|0.006|2.9604|8.7640|0.006 * 8.7640 = 0.0526|\n",
    "|O . O . O|0.008|1.9604|3.8432|0.008 * 3.8432 = 0.0307|\n",
    "|Q . Q . Q|0.008|0.9604|0.9224|0.008 * 0.9224 = 0.0074|\n",
    "|All other combinations|0.977|-0.0396|0.00157|0.977 * 0.00157 = 0.0015|\n",
    "||||**Variance:**|0.1079|\n",
    "\n",
    "#### Standard Deviation\n",
    "\n",
    "The standard deviation is simply the square root of the variance:\n",
    "    \n",
    "$\\sigma = \\sqrt {Var(X)}$   \n",
    "\n",
    "The standard deviation is: 0.328"
   ]
  },
  {
   "cell_type": "markdown",
   "metadata": {},
   "source": [
    "#### Histogram and KDE"
   ]
  },
  {
   "cell_type": "code",
   "execution_count": 23,
   "metadata": {},
   "outputs": [
    {
     "data": {
      "text/plain": [
       "[<matplotlib.lines.Line2D at 0x8273fd0>]"
      ]
     },
     "execution_count": 23,
     "metadata": {},
     "output_type": "execute_result"
    },
    {
     "data": {
      "image/png": "[encoded data removed]",
      "text/plain": [
       "<matplotlib.figure.Figure at 0x7b843f0>"
      ]
     },
     "metadata": {},
     "output_type": "display_data"
    }
   ],
   "source": [
    "x = np.random.randn(500)\n",
    "plt.plot(x,'.')"
   ]
  },
  {
   "cell_type": "code",
   "execution_count": 25,
   "metadata": {},
   "outputs": [
    {
     "data": {
      "image/png": "[encoded data removed]",
      "text/plain": [
       "<matplotlib.figure.Figure at 0x8286650>"
      ]
     },
     "metadata": {},
     "output_type": "display_data"
    }
   ],
   "source": [
    "plt.hist(x, bins = 25);"
   ]
  },
  {
   "cell_type": "code",
   "execution_count": 30,
   "metadata": {
    "scrolled": true
   },
   "outputs": [
    {
     "data": {
      "image/png": "[encoded data removed]",
      "text/plain": [
       "<matplotlib.figure.Figure at 0x8571450>"
      ]
     },
     "metadata": {},
     "output_type": "display_data"
    }
   ],
   "source": [
    "sns.kdeplot(x, shade = True);"
   ]
  },
  {
   "cell_type": "code",
   "execution_count": 28,
   "metadata": {
    "scrolled": true
   },
   "outputs": [
    {
     "data": {
      "text/plain": [
       "<matplotlib.axes._subplots.AxesSubplot at 0x856c310>"
      ]
     },
     "execution_count": 28,
     "metadata": {},
     "output_type": "execute_result"
    },
    {
     "data": {
      "image/png": "[encoded data removed]",
      "text/plain": [
       "<matplotlib.figure.Figure at 0x85672d0>"
      ]
     },
     "metadata": {},
     "output_type": "display_data"
    }
   ],
   "source": [
    "sns.rugplot(x)"
   ]
  },
  {
   "cell_type": "code",
   "execution_count": 29,
   "metadata": {
    "scrolled": true
   },
   "outputs": [
    {
     "data": {
      "text/plain": [
       "<matplotlib.axes._subplots.AxesSubplot at 0x8526b30>"
      ]
     },
     "execution_count": 29,
     "metadata": {},
     "output_type": "execute_result"
    },
    {
     "data": {
      "image/png": "[encoded data removed]",
      "text/plain": [
       "<matplotlib.figure.Figure at 0x8560f70>"
      ]
     },
     "metadata": {},
     "output_type": "display_data"
    }
   ],
   "source": [
    "sns.distplot(x, kde = True, rug = True)"
   ]
  },
  {
   "cell_type": "markdown",
   "metadata": {},
   "source": [
    "#### Box Plot"
   ]
  },
  {
   "cell_type": "code",
   "execution_count": 540,
   "metadata": {},
   "outputs": [
    {
     "data": {
      "text/plain": [
       "array([-2.1, -1.3, -0.4,  1.9,  5.1,  6.2])"
      ]
     },
     "execution_count": 540,
     "metadata": {},
     "output_type": "execute_result"
    }
   ],
   "source": [
    "x = np.array([-2.1, -1.3, -0.4,  1.9,  5.1,  6.2])\n",
    "x"
   ]
  },
  {
   "cell_type": "code",
   "execution_count": 542,
   "metadata": {
    "scrolled": true
   },
   "outputs": [
    {
     "data": {
      "text/plain": [
       "<matplotlib.legend.Legend object at 0x0D3A9270>"
      ]
     },
     "execution_count": 542,
     "metadata": {},
     "output_type": "execute_result"
    },
    {
     "data": {
      "image/png": "[encoded data removed]",
      "text/plain": [
       "<matplotlib.figure.Figure object at 0x0D3A9510>"
      ]
     },
     "metadata": {},
     "output_type": "display_data"
    }
   ],
   "source": [
    "plt.boxplot(x);\n",
    "a = np.min(x)\n",
    "b = np.max(x)\n",
    "c = np.median(x)\n",
    "e = np.percentile(x, 75)\n",
    "f = np.percentile(x, 25)\n",
    "\n",
    "plt.hlines(a, 0,.9, colors = 'r', linestyles = '--', label = 'min value')\n",
    "plt.hlines(b, 0,.9, colors = 'yellow', linestyles = '--', label = 'max value')\n",
    "plt.hlines(c, 0,.9, colors = 'green', linestyles = '--', label = 'median value')\n",
    "plt.hlines(e, 0,.9, colors = 'cyan', linestyles = '--', label = '75 quartile')\n",
    "plt.hlines(f, 0,.9, colors = 'blue', linestyles = '--', label = '25 quartile')\n",
    "plt.legend()"
   ]
  },
  {
   "cell_type": "markdown",
   "metadata": {},
   "source": [
    "Earlier x was `array([-2.1, -1.3, -0.4,  1.9,  5.1,  6.2])`. When we plotted box plot for this, we didn't see any representation for outliers in data as there was no outlier in our data. \n",
    "\n",
    "Let us change our data a bit - "
   ]
  },
  {
   "cell_type": "code",
   "execution_count": 52,
   "metadata": {
    "scrolled": true
   },
   "outputs": [
    {
     "data": {
      "text/plain": [
       "<matplotlib.legend.Legend at 0xab651b0>"
      ]
     },
     "execution_count": 52,
     "metadata": {},
     "output_type": "execute_result"
    },
    {
     "data": {
      "image/png": "[encoded data removed]",
      "text/plain": [
       "<matplotlib.figure.Figure at 0x9b5c4f0>"
      ]
     },
     "metadata": {},
     "output_type": "display_data"
    }
   ],
   "source": [
    "x = np.array([-2.1, -1.3, -0.4,  1.9,  5.1,  16.2])   #16.2 is outlier here.\n",
    "\n",
    "plt.boxplot(x);\n",
    "a = np.min(x)\n",
    "b = np.max(x)\n",
    "c = np.median(x)\n",
    "e = np.percentile(x, 75)\n",
    "f = np.percentile(x, 25)\n",
    "\n",
    "plt.hlines(a, 0,.9, colors = 'r', linestyles = '--', label = 'min value')\n",
    "plt.hlines(b, 0,.9, colors = 'yellow', linestyles = '--', label = 'outlier')\n",
    "plt.hlines(c, 0,.9, colors = 'green', linestyles = '--', label = 'median value')\n",
    "plt.hlines(e, 0,.9, colors = 'cyan', linestyles = '--', label = '75 quartile')\n",
    "plt.hlines(f, 0,.9, colors = 'blue', linestyles = '--', label = '25 quartile')\n",
    "plt.hlines(f, 0,.9, colors = 'blue', linestyles = '--', label = '25 quartile')\n",
    "plt.hlines(5.1, 0,.9, colors = 'purple', linestyles = '--', label = 'max value (not outlier)') \n",
    "plt.legend()"
   ]
  },
  {
   "cell_type": "markdown",
   "metadata": {},
   "source": [
    "Now compare the above plot with the earlier one. The small circle at the top of plot represents the outlier in our data. To decide on outliers, we calculate Q3 (75 quartile) and Q1 (25 quartile). These values are represented by upper and lower sides of box in boxplot. \n",
    "\n",
    "Now $Q3 + 1.5*(Q3-Q1)$ will represent the *maximum value* and $Q1 - 1.5(Q3-Q1)$ the *minimum value* which will not be considered outliers. Any value beyond this will be considered outlier.  "
   ]
  },
  {
   "cell_type": "markdown",
   "metadata": {},
   "source": [
    " - **Mean** - Average value.\n",
    " \n",
    "$$\\color{blue}{Mean =  \\frac{\\Sigma^{n}(x)}{n}}$$\n",
    "\n",
    "\n",
    " - **Median** - Middle value\n",
    " \n",
    "If count is odd, the median is the value at (n+1)/2,\n",
    "else it is the average of n/2 and (n+1)/2\n",
    "\n",
    " - **Mode** - Most Frequent value \n",
    " \n",
    " \n",
    " - **Variance** - Mean of squared distance of sample to its mean\n",
    " \n",
    " $$\\color{blue}{variance = \\frac{\\Sigma({x - {x_m}})^2}{n-1}}$$\n",
    " \n",
    " \n",
    " - **Standard Deviation** - Square root of variance\n",
    "\n",
    "$$\\color{blue}{\\sigma = \\sqrt{variance}}$$\n",
    " \n",
    " - **Standard Error (of Mean)** - For sample standard deviation `s` and number of samples `n`, \n",
    " \n",
    " $$\\color{blue}{Standard\\;Error =  \\frac{s}{\\sqrt{n}}}$$\n",
    " \n",
    " - **Covariance**\n",
    " \n",
    " $$\\color{blue}{\\frac{\\sum_{i=1}^n(x_i-\\bar{x})(y_i-\\bar{y})}{n-1}}$$ \n",
    " \n",
    " - **Correlation**\n",
    "  \n",
    "  $$\\color{blue}{\\frac{1}{n-1}\\sum_{i=1}^n(\\frac{x_i-\\bar{x}}{s_x})( \\frac{y_i-\\bar{y}}{s_y})}$$"
   ]
  },
  {
   "cell_type": "markdown",
   "metadata": {},
   "source": [
    "#### Covariance"
   ]
  },
  {
   "cell_type": "markdown",
   "metadata": {},
   "source": [
    "\n",
    "Whereas variance\n",
    "measures how a single variable deviates from its mean, covariance measures how two\n",
    "variables vary in tandem from their means"
   ]
  },
  {
   "cell_type": "code",
   "execution_count": 70,
   "metadata": {},
   "outputs": [
    {
     "data": {
      "text/html": [
       "<div>\n",
       "<style scoped>\n",
       "    .dataframe tbody tr th:only-of-type {\n",
       "        vertical-align: middle;\n",
       "    }\n",
       "\n",
       "    .dataframe tbody tr th {\n",
       "        vertical-align: top;\n",
       "    }\n",
       "\n",
       "    .dataframe thead th {\n",
       "        text-align: right;\n",
       "    }\n",
       "</style>\n",
       "<table border=\"1\" class=\"dataframe\">\n",
       "  <thead>\n",
       "    <tr style=\"text-align: right;\">\n",
       "      <th></th>\n",
       "      <th>dogs</th>\n",
       "      <th>cats</th>\n",
       "    </tr>\n",
       "  </thead>\n",
       "  <tbody>\n",
       "    <tr>\n",
       "      <th>0</th>\n",
       "      <td>1</td>\n",
       "      <td>1</td>\n",
       "    </tr>\n",
       "    <tr>\n",
       "      <th>1</th>\n",
       "      <td>2</td>\n",
       "      <td>3</td>\n",
       "    </tr>\n",
       "    <tr>\n",
       "      <th>2</th>\n",
       "      <td>2</td>\n",
       "      <td>3</td>\n",
       "    </tr>\n",
       "    <tr>\n",
       "      <th>3</th>\n",
       "      <td>1</td>\n",
       "      <td>2</td>\n",
       "    </tr>\n",
       "  </tbody>\n",
       "</table>\n",
       "</div>"
      ],
      "text/plain": [
       "   dogs  cats\n",
       "0     1     1\n",
       "1     2     3\n",
       "2     2     3\n",
       "3     1     2"
      ]
     },
     "execution_count": 70,
     "metadata": {},
     "output_type": "execute_result"
    }
   ],
   "source": [
    "import pandas as pd\n",
    "df = pd.DataFrame([(1, 1), (2, 3), (2,3), (1, 2)], columns=['dogs', 'cats'])\n",
    "df"
   ]
  },
  {
   "cell_type": "code",
   "execution_count": 71,
   "metadata": {
    "scrolled": true
   },
   "outputs": [
    {
     "data": {
      "text/html": [
       "<div>\n",
       "<style scoped>\n",
       "    .dataframe tbody tr th:only-of-type {\n",
       "        vertical-align: middle;\n",
       "    }\n",
       "\n",
       "    .dataframe tbody tr th {\n",
       "        vertical-align: top;\n",
       "    }\n",
       "\n",
       "    .dataframe thead th {\n",
       "        text-align: right;\n",
       "    }\n",
       "</style>\n",
       "<table border=\"1\" class=\"dataframe\">\n",
       "  <thead>\n",
       "    <tr style=\"text-align: right;\">\n",
       "      <th></th>\n",
       "      <th>dogs</th>\n",
       "      <th>cats</th>\n",
       "    </tr>\n",
       "  </thead>\n",
       "  <tbody>\n",
       "    <tr>\n",
       "      <th>dogs</th>\n",
       "      <td>0.333333</td>\n",
       "      <td>0.500000</td>\n",
       "    </tr>\n",
       "    <tr>\n",
       "      <th>cats</th>\n",
       "      <td>0.500000</td>\n",
       "      <td>0.916667</td>\n",
       "    </tr>\n",
       "  </tbody>\n",
       "</table>\n",
       "</div>"
      ],
      "text/plain": [
       "          dogs      cats\n",
       "dogs  0.333333  0.500000\n",
       "cats  0.500000  0.916667"
      ]
     },
     "execution_count": 71,
     "metadata": {},
     "output_type": "execute_result"
    }
   ],
   "source": [
    "df.cov()"
   ]
  },
  {
   "cell_type": "markdown",
   "metadata": {},
   "source": [
    "The values in main diagonal line is variance for respective variable. That is the element (1,1) is variance for 'dog' variable. Similarily, element (2,2) is variance for 'cat'.\n",
    "\n",
    "The other elements, - (1,2) and (2,1) -  are covariance for variables 'dogs' and 'cats').\n",
    "\n",
    "\n"
   ]
  },
  {
   "cell_type": "code",
   "execution_count": 72,
   "metadata": {},
   "outputs": [
    {
     "data": {
      "text/plain": [
       "0.3333333333333333"
      ]
     },
     "execution_count": 72,
     "metadata": {},
     "output_type": "execute_result"
    }
   ],
   "source": [
    "(df['dogs']).var() #(1,1) element"
   ]
  },
  {
   "cell_type": "code",
   "execution_count": 73,
   "metadata": {},
   "outputs": [
    {
     "data": {
      "text/plain": [
       "0.9166666666666666"
      ]
     },
     "execution_count": 73,
     "metadata": {},
     "output_type": "execute_result"
    }
   ],
   "source": [
    "(df['cats']).var() # (2,2) element"
   ]
  },
  {
   "cell_type": "code",
   "execution_count": 74,
   "metadata": {},
   "outputs": [
    {
     "data": {
      "text/plain": [
       "0.5"
      ]
     },
     "execution_count": 74,
     "metadata": {},
     "output_type": "execute_result"
    }
   ],
   "source": [
    "a = (df['dogs'] - df['dogs'].mean())*(df['cats'] - df['cats'].mean())\n",
    "cov = sum(a)/3 #3 = 4 -1 = n -1\n",
    "cov   # (1,2) and (2,1) element"
   ]
  },
  {
   "cell_type": "markdown",
   "metadata": {},
   "source": [
    "##### Correlation"
   ]
  },
  {
   "cell_type": "code",
   "execution_count": 75,
   "metadata": {
    "scrolled": true
   },
   "outputs": [
    {
     "data": {
      "text/html": [
       "<div>\n",
       "<style scoped>\n",
       "    .dataframe tbody tr th:only-of-type {\n",
       "        vertical-align: middle;\n",
       "    }\n",
       "\n",
       "    .dataframe tbody tr th {\n",
       "        vertical-align: top;\n",
       "    }\n",
       "\n",
       "    .dataframe thead th {\n",
       "        text-align: right;\n",
       "    }\n",
       "</style>\n",
       "<table border=\"1\" class=\"dataframe\">\n",
       "  <thead>\n",
       "    <tr style=\"text-align: right;\">\n",
       "      <th></th>\n",
       "      <th>dogs</th>\n",
       "      <th>cats</th>\n",
       "    </tr>\n",
       "  </thead>\n",
       "  <tbody>\n",
       "    <tr>\n",
       "      <th>dogs</th>\n",
       "      <td>1.000000</td>\n",
       "      <td>0.904534</td>\n",
       "    </tr>\n",
       "    <tr>\n",
       "      <th>cats</th>\n",
       "      <td>0.904534</td>\n",
       "      <td>1.000000</td>\n",
       "    </tr>\n",
       "  </tbody>\n",
       "</table>\n",
       "</div>"
      ],
      "text/plain": [
       "          dogs      cats\n",
       "dogs  1.000000  0.904534\n",
       "cats  0.904534  1.000000"
      ]
     },
     "execution_count": 75,
     "metadata": {},
     "output_type": "execute_result"
    }
   ],
   "source": [
    "df.corr()"
   ]
  },
  {
   "cell_type": "code",
   "execution_count": 76,
   "metadata": {},
   "outputs": [
    {
     "data": {
      "text/plain": [
       "array([[1, 1],\n",
       "       [2, 3],\n",
       "       [2, 3],\n",
       "       [1, 2]], dtype=int64)"
      ]
     },
     "execution_count": 76,
     "metadata": {},
     "output_type": "execute_result"
    }
   ],
   "source": [
    "df.values"
   ]
  },
  {
   "cell_type": "markdown",
   "metadata": {},
   "source": [
    "##### Be cautious when Using `np.cov`\n",
    "\n",
    "In Pandas, variables are represented by columns while observations by rows. In Numpy, it is other way round (with parameter `rowvar` set to default `True`)."
   ]
  },
  {
   "cell_type": "code",
   "execution_count": 82,
   "metadata": {},
   "outputs": [
    {
     "data": {
      "text/plain": [
       "array([[0. , 0. , 0. , 0. ],\n",
       "       [0. , 0.5, 0.5, 0.5],\n",
       "       [0. , 0.5, 0.5, 0.5],\n",
       "       [0. , 0.5, 0.5, 0.5]])"
      ]
     },
     "execution_count": 82,
     "metadata": {},
     "output_type": "execute_result"
    }
   ],
   "source": [
    "np.cov(df) #different from what was calculated in Pandas"
   ]
  },
  {
   "cell_type": "code",
   "execution_count": 81,
   "metadata": {},
   "outputs": [
    {
     "data": {
      "text/plain": [
       "array([[0.33333333, 0.5       ],\n",
       "       [0.5       , 0.91666667]])"
      ]
     },
     "execution_count": 81,
     "metadata": {},
     "output_type": "execute_result"
    }
   ],
   "source": [
    "np.cov(df, rowvar = False) #same as Pandas"
   ]
  },
  {
   "cell_type": "code",
   "execution_count": 61,
   "metadata": {
    "scrolled": true
   },
   "outputs": [
    {
     "data": {
      "text/plain": [
       "array([[1, 2, 2, 1],\n",
       "       [1, 3, 3, 2]])"
      ]
     },
     "execution_count": 61,
     "metadata": {},
     "output_type": "execute_result"
    }
   ],
   "source": [
    "x = [1,2,2,1]\n",
    "y = [1,3,3,2]\n",
    "X = np.vstack((x,y))\n",
    "X"
   ]
  },
  {
   "cell_type": "code",
   "execution_count": 62,
   "metadata": {
    "collapsed": true
   },
   "outputs": [],
   "source": [
    "df1 = pd.DataFrame(X)"
   ]
  },
  {
   "cell_type": "code",
   "execution_count": 63,
   "metadata": {},
   "outputs": [
    {
     "data": {
      "text/html": [
       "<div>\n",
       "<style scoped>\n",
       "    .dataframe tbody tr th:only-of-type {\n",
       "        vertical-align: middle;\n",
       "    }\n",
       "\n",
       "    .dataframe tbody tr th {\n",
       "        vertical-align: top;\n",
       "    }\n",
       "\n",
       "    .dataframe thead th {\n",
       "        text-align: right;\n",
       "    }\n",
       "</style>\n",
       "<table border=\"1\" class=\"dataframe\">\n",
       "  <thead>\n",
       "    <tr style=\"text-align: right;\">\n",
       "      <th></th>\n",
       "      <th>0</th>\n",
       "      <th>1</th>\n",
       "      <th>2</th>\n",
       "      <th>3</th>\n",
       "    </tr>\n",
       "  </thead>\n",
       "  <tbody>\n",
       "    <tr>\n",
       "      <th>0</th>\n",
       "      <td>1</td>\n",
       "      <td>2</td>\n",
       "      <td>2</td>\n",
       "      <td>1</td>\n",
       "    </tr>\n",
       "    <tr>\n",
       "      <th>1</th>\n",
       "      <td>1</td>\n",
       "      <td>3</td>\n",
       "      <td>3</td>\n",
       "      <td>2</td>\n",
       "    </tr>\n",
       "  </tbody>\n",
       "</table>\n",
       "</div>"
      ],
      "text/plain": [
       "   0  1  2  3\n",
       "0  1  2  2  1\n",
       "1  1  3  3  2"
      ]
     },
     "execution_count": 63,
     "metadata": {},
     "output_type": "execute_result"
    }
   ],
   "source": [
    "df1"
   ]
  },
  {
   "cell_type": "code",
   "execution_count": 66,
   "metadata": {},
   "outputs": [
    {
     "data": {
      "text/html": [
       "<div>\n",
       "<style scoped>\n",
       "    .dataframe tbody tr th:only-of-type {\n",
       "        vertical-align: middle;\n",
       "    }\n",
       "\n",
       "    .dataframe tbody tr th {\n",
       "        vertical-align: top;\n",
       "    }\n",
       "\n",
       "    .dataframe thead th {\n",
       "        text-align: right;\n",
       "    }\n",
       "</style>\n",
       "<table border=\"1\" class=\"dataframe\">\n",
       "  <thead>\n",
       "    <tr style=\"text-align: right;\">\n",
       "      <th></th>\n",
       "      <th>0</th>\n",
       "      <th>1</th>\n",
       "    </tr>\n",
       "  </thead>\n",
       "  <tbody>\n",
       "    <tr>\n",
       "      <th>0</th>\n",
       "      <td>0.333333</td>\n",
       "      <td>0.500000</td>\n",
       "    </tr>\n",
       "    <tr>\n",
       "      <th>1</th>\n",
       "      <td>0.500000</td>\n",
       "      <td>0.916667</td>\n",
       "    </tr>\n",
       "  </tbody>\n",
       "</table>\n",
       "</div>"
      ],
      "text/plain": [
       "          0         1\n",
       "0  0.333333  0.500000\n",
       "1  0.500000  0.916667"
      ]
     },
     "execution_count": 66,
     "metadata": {},
     "output_type": "execute_result"
    }
   ],
   "source": [
    "df1.T.cov()"
   ]
  },
  {
   "cell_type": "code",
   "execution_count": 64,
   "metadata": {},
   "outputs": [
    {
     "data": {
      "text/plain": [
       "array([[0.33333333, 0.5       ],\n",
       "       [0.5       , 0.91666667]])"
      ]
     },
     "execution_count": 64,
     "metadata": {},
     "output_type": "execute_result"
    }
   ],
   "source": [
    "np.cov(X) #now this is same as was calculated in Pandas."
   ]
  },
  {
   "cell_type": "markdown",
   "metadata": {},
   "source": [
    "### Binomial Distribution"
   ]
  },
  {
   "cell_type": "markdown",
   "metadata": {},
   "source": [
    "Let there be an experiment with only two possible outcomes, say, a and b. Also p(a) = `p` and therefore p(b) = `1- p`. \n",
    "Let there be `n` trials of this experiment and we are interested in event `a` which has a probability of happening `p`. Also, we want to caculate the probability of getting `k` successes out of `n` trials (that is event `a` happens `k` times out of n trials). We can calculate the probability by using following formula - \n",
    "\n",
    "<div class=\"alert alert-block alert-warning\">\n",
    "$$prob(k,n,p) = \\begin{pmatrix}\n",
    "n\\\\\n",
    "k\n",
    "\\end{pmatrix}{p^k}{(1-p)^{n-k}}$$\n",
    "</div>\n",
    "where\n",
    "\n",
    "$$\\begin{pmatrix}\n",
    "n\\\\\n",
    "k\n",
    "\\end{pmatrix} = \\frac{n!}{k!(n-k)!}$$\n",
    "\n",
    "\n",
    "$Mean = np$\n",
    "\n",
    "$Variance = np(1-p)$\n",
    "\n",
    "##### Example \n",
    "\n",
    "Suppose we have a bias coin and for this coin, getting head has the probability of .3. Then the probability that we would get 2 heads in 6 trials is calculated as shown below.\n",
    "\n",
    "Here n = 6, k = 2 and p  = .3. By using above formula get the value of .3241. \n",
    "\n",
    "\n",
    "\n"
   ]
  },
  {
   "cell_type": "markdown",
   "metadata": {},
   "source": [
    "![](images\\bino.png)"
   ]
  },
  {
   "cell_type": "code",
   "execution_count": 69,
   "metadata": {},
   "outputs": [
    {
     "data": {
      "text/plain": [
       "0.17619705200195312"
      ]
     },
     "execution_count": 69,
     "metadata": {},
     "output_type": "execute_result"
    }
   ],
   "source": [
    "from scipy.special import factorial\n",
    "ff = factorial(20)/((factorial(10)**2))\n",
    "ff*((.5)**20) # for k = 20, p =.5 the value of pmf"
   ]
  },
  {
   "cell_type": "code",
   "execution_count": 3,
   "metadata": {},
   "outputs": [
    {
     "data": {
      "text/plain": [
       "(array(4.), array(2.4), array(0.12909944), array(-0.18333333))"
      ]
     },
     "execution_count": 3,
     "metadata": {},
     "output_type": "execute_result"
    }
   ],
   "source": [
    "from scipy.stats import binom\n",
    "n, p =  10, .4\n",
    "\n",
    "mean, var, skew, kurt = binom.stats(n, p, moments = 'mvsk')\n",
    "mean, var, skew, kurt"
   ]
  },
  {
   "cell_type": "code",
   "execution_count": 88,
   "metadata": {
    "scrolled": true
   },
   "outputs": [
    {
     "data": {
      "image/png": "[encoded data removed]",
      "text/plain": [
       "<matplotlib.figure.Figure at 0x9b27470>"
      ]
     },
     "metadata": {},
     "output_type": "display_data"
    }
   ],
   "source": [
    "x = list(range(10))\n",
    "\n",
    "plt.plot(x, binom.pmf(x,n,p))\n",
    "plt.scatter(mean, binom.pmf(mean,n,p), c = 'red',s = 100, label = 'pmf for mean')\n",
    "plt.legend();"
   ]
  },
  {
   "cell_type": "markdown",
   "metadata": {},
   "source": [
    "### Poisson Distribution\n",
    "\n",
    "This is a discrete probability distribution that expresses the probability of a given number of events occuring in a fixed interval of a time or space if these events occur with a known constant rate and independently of the time since the last event. Let $\\lambda$ be the average rate of event occuring, then for $k$ = 0,1,2.. -\n",
    "\n",
    "$$pmf = \\frac{\\lambda^k{e^{-\\lambda}}}{k!}$$\n",
    "\n",
    "and $$mean = variance  = \\lambda$$\n",
    "\n",
    "**Relation with Binomial Distribution**\n",
    "\n",
    "Poission distribution is just a special case of the binomial - where the number of trials is large and the probability of success in any given one is small.\n",
    "\n",
    "If we define a number \n",
    "\n",
    "$$\\lambda = np \\Rightarrow p = \\frac{\\lambda}{n}$$\n",
    "\n",
    "and let this be the rate of successes for a given duration. It is equal to $np$. That is the number of trials $n$-however many there are-times the chances of success $p$ for each of those trials. \n",
    "\n",
    "From binomial distribution, we have - \n",
    "\n",
    "$$prob(k,n,p) = \\begin{pmatrix}\n",
    "n\\\\\n",
    "k\n",
    "\\end{pmatrix}{p^k}{(1-p)^{n-k}}$$\n",
    "\n",
    "Putting $p = \\frac{\\lambda}{n}$ in above equation and taking the limit for $N \\rightarrow \\; \\infty$, we can get -\n",
    "\n",
    "$$pmf = \\frac{\\lambda^k{e^{-\\lambda}}}{k!}$$"
   ]
  },
  {
   "cell_type": "code",
   "execution_count": 59,
   "metadata": {},
   "outputs": [
    {
     "data": {
      "text/plain": [
       "2.894399999999999"
      ]
     },
     "execution_count": 59,
     "metadata": {},
     "output_type": "execute_result"
    }
   ],
   "source": [
    "x = np.random.poisson(3,100)\n",
    "np.var(x)"
   ]
  },
  {
   "cell_type": "code",
   "execution_count": 60,
   "metadata": {},
   "outputs": [
    {
     "name": "stderr",
     "output_type": "stream",
     "text": [
      "C:\\miniconda3\\envs\\data\\lib\\site-packages\\scipy\\stats\\stats.py:1633: FutureWarning: Using a non-tuple sequence for multidimensional indexing is deprecated; use `arr[tuple(seq)]` instead of `arr[seq]`. In the future this will be interpreted as an array index, `arr[np.array(seq)]`, which will result either in an error or a different result.\n",
      "  return np.add.reduce(sorted[indexer] * weights, axis=axis) / sumval\n"
     ]
    },
    {
     "data": {
      "text/plain": [
       "<matplotlib.axes._subplots.AxesSubplot at 0x99fe090>"
      ]
     },
     "execution_count": 60,
     "metadata": {},
     "output_type": "execute_result"
    },
    {
     "data": {
      "image/png": "[encoded data removed]",
      "text/plain": [
       "<matplotlib.figure.Figure at 0x9999730>"
      ]
     },
     "metadata": {},
     "output_type": "display_data"
    }
   ],
   "source": [
    "sns.distplot(x, rug = True)"
   ]
  },
  {
   "cell_type": "code",
   "execution_count": 44,
   "metadata": {},
   "outputs": [
    {
     "data": {
      "text/plain": [
       "[<matplotlib.lines.Line2D at 0x98da450>]"
      ]
     },
     "execution_count": 44,
     "metadata": {},
     "output_type": "execute_result"
    },
    {
     "data": {
      "image/png": "[encoded data removed]",
      "text/plain": [
       "<matplotlib.figure.Figure at 0x85020f0>"
      ]
     },
     "metadata": {},
     "output_type": "display_data"
    }
   ],
   "source": [
    "from scipy.stats import poisson\n",
    "x = np.arange(1,10)\n",
    "pmf = poisson.pmf(x,5)\n",
    "\n",
    "plt.plot(x, pmf)"
   ]
  },
  {
   "cell_type": "markdown",
   "metadata": {},
   "source": [
    "### Uniform Distribution"
   ]
  },
  {
   "cell_type": "code",
   "execution_count": 15,
   "metadata": {},
   "outputs": [
    {
     "data": {
      "image/png": "[encoded data removed]",
      "text/plain": [
       "<matplotlib.figure.Figure at 0x850c7f0>"
      ]
     },
     "metadata": {},
     "output_type": "display_data"
    }
   ],
   "source": [
    "x = np.random.rand(500)\n",
    "plt.plot(x,'.')\n",
    "plt.ylim(0,1.5);"
   ]
  },
  {
   "cell_type": "code",
   "execution_count": 14,
   "metadata": {},
   "outputs": [
    {
     "name": "stderr",
     "output_type": "stream",
     "text": [
      "C:\\miniconda3\\envs\\data\\lib\\site-packages\\scipy\\stats\\stats.py:1633: FutureWarning: Using a non-tuple sequence for multidimensional indexing is deprecated; use `arr[tuple(seq)]` instead of `arr[seq]`. In the future this will be interpreted as an array index, `arr[np.array(seq)]`, which will result either in an error or a different result.\n",
      "  return np.add.reduce(sorted[indexer] * weights, axis=axis) / sumval\n"
     ]
    },
    {
     "data": {
      "text/plain": [
       "<matplotlib.axes._subplots.AxesSubplot at 0x84c7bb0>"
      ]
     },
     "execution_count": 14,
     "metadata": {},
     "output_type": "execute_result"
    },
    {
     "data": {
      "image/png": "[encoded data removed]",
      "text/plain": [
       "<matplotlib.figure.Figure at 0x84fa0b0>"
      ]
     },
     "metadata": {},
     "output_type": "display_data"
    }
   ],
   "source": [
    "sns.distplot(x, rug = True)"
   ]
  },
  {
   "cell_type": "markdown",
   "metadata": {},
   "source": [
    "## Normal Distribution\n",
    "\n",
    "\n",
    "The probability density of normal distribution is - \n",
    "<div class=\"alert alert-block alert-warning\">\n",
    "$$p(x) = \\frac{1}{\\sigma\\sqrt{ 2 \\pi}}e^{-\\frac{1}{2} {(\\frac{x - \\mu }{\\sigma})}^2 }$$\n",
    "</div>"
   ]
  },
  {
   "cell_type": "markdown",
   "metadata": {},
   "source": [
    "#### The Z-Score\n",
    "\n",
    "The Z-score of an observation is the number of standard deviations it falls above or below the mean. We compute the Z-score for an observation $x$ that follows a\n",
    "distribution with mean $\\mu$ and standard deviation $\\sigma$ using\n",
    "$$z =  \\frac{x - \\mu}{\\sigma}$$\n"
   ]
  },
  {
   "cell_type": "markdown",
   "metadata": {},
   "source": [
    "#### Z-Score and Percentile for an Observation"
   ]
  },
  {
   "cell_type": "markdown",
   "metadata": {},
   "source": [
    "Given a standard normal distribution, what percentage of values of this distribution is below 1? In other words, calculate the percentile of 1."
   ]
  },
  {
   "cell_type": "code",
   "execution_count": 304,
   "metadata": {},
   "outputs": [
    {
     "data": {
      "text/plain": [
       "0.8413447460685429"
      ]
     },
     "execution_count": 304,
     "metadata": {},
     "output_type": "execute_result"
    }
   ],
   "source": [
    "norm.cdf(1, 0, 1)"
   ]
  },
  {
   "cell_type": "markdown",
   "metadata": {},
   "source": [
    "Though we can look up the percentile of `1` by calculating its `z-score` and then referring to normal probability table, the better way is to just calculate the `cdf` for sample `1`. This will directly give you the percentile without calculating `z-score` and referring to normal probability table."
   ]
  },
  {
   "cell_type": "code",
   "execution_count": 482,
   "metadata": {},
   "outputs": [
    {
     "data": {
      "text/plain": [
       "DescribeResult(nobs=25, minmax=(20.39405893460062, 63.32826928607992), mean=45.4148802439044, variance=90.99824686122413, skewness=-0.4806707845633121, kurtosis=0.37795403383354564)"
      ]
     },
     "execution_count": 482,
     "metadata": {},
     "output_type": "execute_result"
    }
   ],
   "source": [
    "s = np.random.normal(50,10,25)\n",
    "stats.describe(s)\n"
   ]
  },
  {
   "cell_type": "code",
   "execution_count": 579,
   "metadata": {},
   "outputs": [
    {
     "data": {
      "text/plain": [
       "(18, 66)"
      ]
     },
     "execution_count": 579,
     "metadata": {},
     "output_type": "execute_result"
    },
    {
     "data": {
      "image/png": "[encoded data removed]",
      "text/plain": [
       "<matplotlib.figure.Figure object at 0x127749D0>"
      ]
     },
     "metadata": {},
     "output_type": "display_data"
    }
   ],
   "source": [
    "plt.boxplot(s, vert = False, sym = '.r')\n",
    "plt.xlim(18,66)\n",
    "\n",
    "#Caution - When both seaborn and matplotlib are imported, boxplot using matplotlib doesn't show outliers. Either draw boxplot-\n",
    "# - using seaborn or use the method using 'sym' parameter as used here."
   ]
  },
  {
   "cell_type": "code",
   "execution_count": null,
   "metadata": {
    "collapsed": true
   },
   "outputs": [],
   "source": []
  },
  {
   "cell_type": "code",
   "execution_count": 560,
   "metadata": {},
   "outputs": [
    {
     "data": {
      "text/plain": [
       "[20.39405893460062, 30.849527175074368, 32.66827360296966, 37.949788089564834, 38.991649372386846, 39.582953019966844, 40.15465503191312, 40.33984132511047, 41.512292062519265, 41.718439313518665, 44.213320833629474, 45.41930160160838, 46.17299783962991, 46.36892701395627, 47.649176507424535, 47.810181677163676, 47.908437518261444, 51.4704543899232, 52.928717370434725, 53.532719579853186, 53.66109863329123, 55.258874368346184, 56.94980613238353, 58.53824541799967, 63.32826928607992]"
      ]
     },
     "execution_count": 560,
     "metadata": {},
     "output_type": "execute_result"
    }
   ],
   "source": [
    "sorted(s)"
   ]
  },
  {
   "cell_type": "markdown",
   "metadata": {},
   "source": [
    "Standard deviation for the data can be estimated by inter quantile range using following formula -\n",
    "\n",
    "$$Q_3-Q_1 = 1.34*\\sigma$$"
   ]
  },
  {
   "cell_type": "code",
   "execution_count": 555,
   "metadata": {},
   "outputs": [
    {
     "data": {
      "text/plain": [
       "12.782662000000002"
      ]
     },
     "execution_count": 555,
     "metadata": {},
     "output_type": "execute_result"
    }
   ],
   "source": [
    "1.34*(09.5393)"
   ]
  },
  {
   "cell_type": "code",
   "execution_count": 549,
   "metadata": {},
   "outputs": [
    {
     "name": "stderr",
     "output_type": "stream",
     "text": [
      "C:\\miniconda3\\envs\\data\\lib\\site-packages\\scipy\\stats\\stats.py:1633: FutureWarning: Using a non-tuple sequence for multidimensional indexing is deprecated; use `arr[tuple(seq)]` instead of `arr[seq]`. In the future this will be interpreted as an array index, `arr[np.array(seq)]`, which will result either in an error or a different result.\n",
      "  return np.add.reduce(sorted[indexer] * weights, axis=axis) / sumval\n"
     ]
    },
    {
     "data": {
      "image/png": "[encoded data removed]",
      "text/plain": [
       "<matplotlib.figure.Figure object at 0x1284E790>"
      ]
     },
     "metadata": {},
     "output_type": "display_data"
    }
   ],
   "source": [
    "sns.distplot(s, kde = True, rug = True, color = 'blue');"
   ]
  },
  {
   "cell_type": "markdown",
   "metadata": {},
   "source": [
    "#### Cumulative Distribution Function"
   ]
  },
  {
   "cell_type": "code",
   "execution_count": 494,
   "metadata": {},
   "outputs": [
    {
     "data": {
      "text/plain": [
       "<matplotlib.collections.PathCollection object at 0x0B891FB0>"
      ]
     },
     "execution_count": 494,
     "metadata": {},
     "output_type": "execute_result"
    },
    {
     "data": {
      "image/png": "[encoded data removed]",
      "text/plain": [
       "<matplotlib.figure.Figure object at 0x0BC5AB30>"
      ]
     },
     "metadata": {},
     "output_type": "display_data"
    }
   ],
   "source": [
    "plt.scatter(s, norm.cdf(s,50,10))    "
   ]
  },
  {
   "cell_type": "markdown",
   "metadata": {},
   "source": [
    "#### QQ Plot"
   ]
  },
  {
   "cell_type": "code",
   "execution_count": 496,
   "metadata": {},
   "outputs": [
    {
     "data": {
      "image/png": "[encoded data removed]",
      "text/plain": [
       "<matplotlib.figure.Figure object at 0x0B1D79B0>"
      ]
     },
     "metadata": {},
     "output_type": "display_data"
    }
   ],
   "source": [
    "from statsmodels.graphics.gofplots import qqplot\n",
    "qqplot(s, line = 's');"
   ]
  },
  {
   "cell_type": "code",
   "execution_count": 486,
   "metadata": {},
   "outputs": [
    {
     "data": {
      "text/plain": [
       "DescribeResult(nobs=25, minmax=(20.39405893460062, 63.32826928607992), mean=45.4148802439044, variance=90.99824686122413, skewness=-0.4806707845633121, kurtosis=0.37795403383354564)"
      ]
     },
     "execution_count": 486,
     "metadata": {},
     "output_type": "execute_result"
    }
   ],
   "source": [
    "stats.describe(s)"
   ]
  },
  {
   "cell_type": "markdown",
   "metadata": {},
   "source": [
    "Below is an attempt to plot QQ plot. Still don't fully understand it.?????"
   ]
  },
  {
   "cell_type": "code",
   "execution_count": 532,
   "metadata": {},
   "outputs": [
    {
     "data": {
      "text/plain": [
       "(-2.5, 2.5)"
      ]
     },
     "execution_count": 532,
     "metadata": {},
     "output_type": "execute_result"
    },
    {
     "data": {
      "image/png": "[encoded data removed]",
      "text/plain": [
       "<matplotlib.figure.Figure object at 0x0BE50730>"
      ]
     },
     "metadata": {},
     "output_type": "display_data"
    }
   ],
   "source": [
    "inv = []\n",
    "for i in range(1,26):\n",
    "    x = norm.ppf((i-.5)/25)\n",
    "    inv.append(x)\n",
    "\n",
    "plt.plot(inv, sorted(s),'r.')\n",
    "plt.xlim(-2.5,2.5)"
   ]
  },
  {
   "cell_type": "code",
   "execution_count": 523,
   "metadata": {},
   "outputs": [
    {
     "data": {
      "text/plain": [
       "[0.02, 0.06, 0.1, 0.14, 0.18, 0.22, 0.26, 0.3, 0.34, 0.38, 0.42, 0.46, 0.5, 0.54, 0.58, 0.62, 0.66, 0.7, 0.74, 0.78, 0.82, 0.86, 0.9, 0.94, 0.98]"
      ]
     },
     "execution_count": 523,
     "metadata": {},
     "output_type": "execute_result"
    }
   ],
   "source": [
    "mmm= [(i-.5)/25 for i in range(1,26)]\n",
    "mmm"
   ]
  },
  {
   "cell_type": "code",
   "execution_count": 527,
   "metadata": {},
   "outputs": [
    {
     "data": {
      "text/plain": [
       "[-2.053748910631823, -1.5547735945968535, -1.2815515655446004, -1.0803193408149558, -0.915365087842814, -0.7721932141886848, -0.643345405392917, -0.5244005127080409, -0.41246312944140473, -0.3054807880993974, -0.20189347914185088, -0.10043372051146975, 0.0, 0.10043372051146988, 0.20189347914185074, 0.3054807880993974, 0.41246312944140495, 0.5244005127080407, 0.643345405392917, 0.7721932141886848, 0.9153650878428138, 1.0803193408149558, 1.2815515655446004, 1.5547735945968535, 2.0537489106318225]"
      ]
     },
     "execution_count": 527,
     "metadata": {},
     "output_type": "execute_result"
    }
   ],
   "source": [
    "[norm.ppf(j) for j in mmm]"
   ]
  },
  {
   "cell_type": "code",
   "execution_count": 534,
   "metadata": {},
   "outputs": [
    {
     "data": {
      "text/plain": [
       "(0, 0.04, 0.08)"
      ]
     },
     "execution_count": 534,
     "metadata": {},
     "output_type": "execute_result"
    }
   ],
   "source": [
    "0,1/25,2/25"
   ]
  },
  {
   "cell_type": "markdown",
   "metadata": {},
   "source": [
    "##### Shapiro-Wilk test"
   ]
  },
  {
   "cell_type": "markdown",
   "metadata": {},
   "source": [
    "There's a [Shapiro-Wilk test](https://en.wikipedia.org/wiki/Shapiro-Wilk) to test for normality. If p-value is less than 0.05, then there's a low chance that the distribution is normal.\n",
    "\n",
    "We can use `shapiro` function from `scipy.stats` to test normality of data. This function returns -\n",
    "```\n",
    "W : float\n",
    "    The test statistic.\n",
    "p-value : float\n",
    "    The p-value for the hypothesis test.\n",
    "```"
   ]
  },
  {
   "cell_type": "code",
   "execution_count": 332,
   "metadata": {},
   "outputs": [
    {
     "data": {
      "text/plain": [
       "(0.992963433265686, 0.8858413696289062)"
      ]
     },
     "execution_count": 332,
     "metadata": {},
     "output_type": "execute_result"
    }
   ],
   "source": [
    "from scipy import stats\n",
    "stats.shapiro(s)"
   ]
  },
  {
   "cell_type": "markdown",
   "metadata": {},
   "source": [
    "Here `p-value` is 0.8858 which means that our our sample has passed the normality test."
   ]
  },
  {
   "cell_type": "code",
   "execution_count": 96,
   "metadata": {
    "collapsed": true
   },
   "outputs": [],
   "source": [
    "# calculate the height of bell curve at any given point x using p(x) as defined above\n",
    "def bell_height(x, mean, std):\n",
    "    z = (x-mean)/std\n",
    "    height_at_x = (1/(std*np.sqrt(2*np.pi)))* ((np.e)** ((-0.5)*(z**2)))\n",
    "    return height_at_x"
   ]
  },
  {
   "cell_type": "code",
   "execution_count": 97,
   "metadata": {},
   "outputs": [
    {
     "data": {
      "text/plain": [
       "0.034994936877318666"
      ]
     },
     "execution_count": 97,
     "metadata": {},
     "output_type": "execute_result"
    }
   ],
   "source": [
    "#max height occurs at mean\n",
    "a = bell_height(mean, mean, std)\n",
    "a "
   ]
  },
  {
   "cell_type": "markdown",
   "metadata": {},
   "source": [
    "Though scipy package has a function to calculate the pdf of a normal distribution sample"
   ]
  },
  {
   "cell_type": "code",
   "execution_count": 98,
   "metadata": {},
   "outputs": [
    {
     "data": {
      "text/plain": [
       "0.3989422804014327"
      ]
     },
     "execution_count": 98,
     "metadata": {},
     "output_type": "execute_result"
    }
   ],
   "source": [
    "from scipy.stats import norm\n",
    "norm.pdf(0,0,1)\n"
   ]
  },
  {
   "cell_type": "code",
   "execution_count": 99,
   "metadata": {},
   "outputs": [
    {
     "data": {
      "text/plain": [
       "<matplotlib.collections.LineCollection at 0x8462d70>"
      ]
     },
     "execution_count": 99,
     "metadata": {},
     "output_type": "execute_result"
    },
    {
     "data": {
      "image/png": "[encoded data removed]",
      "text/plain": [
       "<matplotlib.figure.Figure at 0x8422530>"
      ]
     },
     "metadata": {},
     "output_type": "display_data"
    }
   ],
   "source": [
    "import matplotlib.pyplot as plt\n",
    "import numpy as np\n",
    "import matplotlib.mlab as mlab\n",
    "\n",
    "mu = mean\n",
    "sigma = std\n",
    "x = np.linspace(mu - 3*sigma, mu + 3*sigma, 100)\n",
    "plt.plot(x,norm.pdf(x, mu, sigma))\n",
    "plt.vlines(mu, 0, a)\n",
    "plt.vlines(mu+sigma, 0, bell_height(mu+sigma, mu, sigma), colors = 'red')\n",
    "plt.vlines(mu-sigma, 0, bell_height(mu-sigma, mu, sigma), colors = 'red')\n",
    "plt.vlines(mu+2*sigma, 0, bell_height(mu+2*sigma, mu, sigma), colors = 'green')\n",
    "plt.vlines(mu-2*sigma, 0, bell_height(mu-2*sigma, mu, sigma), colors = 'green')\n",
    "plt.vlines(mu+3*sigma, 0, bell_height(mu+3*sigma, mu, sigma), colors = 'blue')\n",
    "plt.vlines(mu-3*sigma, 0, bell_height(mu-3*sigma, mu, sigma), colors = 'blue')"
   ]
  },
  {
   "cell_type": "markdown",
   "metadata": {},
   "source": [
    "##### The 68-95-99.7% Rule\n",
    "\n",
    "  All normal density curves satisfy the following property which is often referred to as the Empirical Rule.\n",
    "\n",
    "- 68% of the observations fall within 1 standard deviation of the mean, that is, between and $\\mu-\\sigma$ and $\\mu+\\sigma$ . \n",
    "- 95% of the observations fall within 2 standard deviations of the mean, that is, between and $\\mu-2\\sigma$ and $\\mu+2\\sigma$ . \n",
    "- 99.7% of the observations fall within 3 standard deviations of the mean, that is, between and $\\mu-3\\sigma$ and $\\mu+3\\sigma$. \n",
    "\n",
    "To be precise, this rule would be '68.2-95.4-99.7' Rule"
   ]
  },
  {
   "cell_type": "markdown",
   "metadata": {},
   "source": [
    "#### Normal Distribution with Mean = 0 and STD = 1\n"
   ]
  },
  {
   "cell_type": "code",
   "execution_count": 116,
   "metadata": {
    "collapsed": true
   },
   "outputs": [],
   "source": [
    "norm = np.random.normal(0, 1, 20)"
   ]
  },
  {
   "cell_type": "code",
   "execution_count": 118,
   "metadata": {},
   "outputs": [
    {
     "data": {
      "image/png": "[encoded data removed]",
      "text/plain": [
       "<matplotlib.figure.Figure at 0xa011c10>"
      ]
     },
     "metadata": {},
     "output_type": "display_data"
    }
   ],
   "source": [
    "plt.hist(norm);"
   ]
  },
  {
   "cell_type": "markdown",
   "metadata": {},
   "source": [
    "##### Drawing Normal Distribution"
   ]
  },
  {
   "cell_type": "code",
   "execution_count": 123,
   "metadata": {
    "scrolled": true
   },
   "outputs": [
    {
     "data": {
      "text/plain": [
       "<matplotlib.legend.Legend at 0xb19dbd0>"
      ]
     },
     "execution_count": 123,
     "metadata": {},
     "output_type": "execute_result"
    },
    {
     "data": {
      "image/png": "[encoded data removed]",
      "text/plain": [
       "<matplotlib.figure.Figure at 0xb0cc810>"
      ]
     },
     "metadata": {},
     "output_type": "display_data"
    }
   ],
   "source": [
    "%matplotlib inline\n",
    "import matplotlib.pyplot as plt\n",
    "import numpy as np\n",
    "import seaborn as sns\n",
    "from scipy.stats import norm\n",
    "sns.set()\n",
    "\n",
    "x = np.linspace(-5,5,100)\n",
    "plt.plot(x, norm.pdf(x, loc = 0, scale = 1), '-',color = 'red', label = 'mean 0 var 1')\n",
    "plt.legend()\n"
   ]
  },
  {
   "cell_type": "markdown",
   "metadata": {},
   "source": [
    "#### Area under Curve for Normal Distribution\n",
    "\n",
    "The total area under curve is always equal to 1. In case of standard normal distribution, let us say we want to find out the probability that a random observation will fall between, say, -2 and 2. For this, we need to calculate the area under curve from x = -$\\infty$ to 2 and -2 and compute the difference between those two values. "
   ]
  },
  {
   "cell_type": "code",
   "execution_count": 260,
   "metadata": {},
   "outputs": [
    {
     "data": {
      "text/plain": [
       "<matplotlib.legend.Legend object at 0x0C9514B0>"
      ]
     },
     "execution_count": 260,
     "metadata": {},
     "output_type": "execute_result"
    },
    {
     "data": {
      "image/png": "[encoded data removed]",
      "text/plain": [
       "<matplotlib.figure.Figure object at 0x0F432A10>"
      ]
     },
     "metadata": {},
     "output_type": "display_data"
    }
   ],
   "source": [
    "%matplotlib inline\n",
    "import matplotlib.pyplot as plt\n",
    "import numpy as np\n",
    "import seaborn as sns\n",
    "from scipy.stats import norm\n",
    "sns.set()\n",
    "\n",
    "x = np.linspace(-5,5,100)\n",
    "x1 = np.linspace(-5,2,100)\n",
    "x2 = np.linspace(-5,-2,10)\n",
    "plt.plot(x, norm.pdf(x, loc = 0, scale = 1), '-',color = 'red', label = 'mean 0 var 1')\n",
    "plt.vlines(2,0,norm.pdf(2,0,1))\n",
    "plt.fill_between(x1, norm.pdf(x1, 0,1), 0)\n",
    "plt.fill_between(x2, norm.pdf(x2, 0,1), 0, color = 'pink')\n",
    "plt.legend()\n"
   ]
  },
  {
   "cell_type": "markdown",
   "metadata": {},
   "source": [
    "We are interested in finding area of blue colored region. For this, we first caculate the area of pink region (probability for a sample lying between - $\\infty$ to -2). Then we calculate the area of both pink shaded region AND blue shaded region (probability for a sample lying between -$\\infty$ to 2. Finally we subtract the former from the later to get the area.\n",
    "\n",
    "We use scipy's `stats.norm.cdf` function to calculate the area."
   ]
  },
  {
   "cell_type": "code",
   "execution_count": 261,
   "metadata": {},
   "outputs": [
    {
     "data": {
      "text/plain": [
       "0.9544997361036416"
      ]
     },
     "execution_count": 261,
     "metadata": {},
     "output_type": "execute_result"
    }
   ],
   "source": [
    "norm.cdf(2, loc = 0, scale = 1) - norm.cdf(-2, loc = 0, scale = 1)"
   ]
  },
  {
   "cell_type": "markdown",
   "metadata": {},
   "source": [
    "This means the probability that a random value would lie between -2 and 2 in a normally distributed distribution population is .9544"
   ]
  },
  {
   "cell_type": "code",
   "execution_count": 262,
   "metadata": {},
   "outputs": [
    {
     "data": {
      "text/plain": [
       "0.6826894921370859"
      ]
     },
     "execution_count": 262,
     "metadata": {},
     "output_type": "execute_result"
    }
   ],
   "source": [
    "norm.cdf(1, loc = 0, scale = 1) - norm.cdf(-1, loc = 0, scale = 1) #prob tht sample is within 1 std from mean. "
   ]
  },
  {
   "cell_type": "markdown",
   "metadata": {},
   "source": [
    "### `t` - distribution\n",
    "\n",
    "Suppose we take $n$ samples from a normal distribution with mean $\\mu$ and standard deviation $\\sigma$. Let $\\bar{x}$ and $s$ be the mean and standard deviation of these $n$ samples.  Then the random variable \n",
    "\n",
    "<div class=\"alert alert-block alert-warning\">\n",
    "$$\\frac{\\sqrt{n}(\\bar{x}-\\mu)}{s}$$\n",
    "</div>\n",
    "\n",
    "has a **Student's t-distribution** (or simply t-distribution) with n-1 degrees of freedom.\n",
    "\n",
    "See below for t-distribution plots for degree of freedom = [1,5,8]. Normal distribution with mean = 0 and var = 1 has also been shown. It can be seen that with increasing value of dof, the plot resembles more and more to normal distribution plot.  "
   ]
  },
  {
   "cell_type": "code",
   "execution_count": 104,
   "metadata": {},
   "outputs": [
    {
     "data": {
      "text/plain": [
       "<matplotlib.legend.Legend at 0xc1df030>"
      ]
     },
     "execution_count": 104,
     "metadata": {},
     "output_type": "execute_result"
    },
    {
     "data": {
      "image/png": "[encoded data removed]",
      "text/plain": [
       "<matplotlib.figure.Figure at 0xb116f10>"
      ]
     },
     "metadata": {},
     "output_type": "display_data"
    }
   ],
   "source": [
    "x = np.linspace(-5,5,100)\n",
    "plt.plot(x, norm.pdf(x, loc = 0, scale = 1), '-',color = 'purple', label = 'mean 0 var 1')\n",
    "plt.plot(x, t.pdf(x,1), color = 'blue', label = 'df = 1')\n",
    "plt.plot(x, t.pdf(x,5), color = 'green', label = 'df = 5')\n",
    "plt.plot(x, t.pdf(x,8), color = 'orange', label = 'df = 8')\n",
    "plt.legend()\n",
    "\n"
   ]
  },
  {
   "cell_type": "markdown",
   "metadata": {},
   "source": [
    "Below, 2000 points are randomly selected from a standard normal distribution. From this selected group, 2 samples are repeatedly selected in random manner and we calculate $rv = \\frac{\\sqrt{n}(\\bar{x}- \\mu)}{s}$ for each sample group.\n",
    "\n",
    "Now we have 200 rv points for sample size 2. For this group, we plot its normal pdf values. Does this plot (and the group) represent a t-distribution with dof = 1?\n",
    "\n"
   ]
  },
  {
   "cell_type": "code",
   "execution_count": 122,
   "metadata": {},
   "outputs": [
    {
     "data": {
      "text/plain": [
       "(-5, 5)"
      ]
     },
     "execution_count": 122,
     "metadata": {},
     "output_type": "execute_result"
    },
    {
     "data": {
      "image/png": "[encoded data removed]",
      "text/plain": [
       "<matplotlib.figure.Figure at 0x86b0470>"
      ]
     },
     "metadata": {},
     "output_type": "display_data"
    }
   ],
   "source": [
    "x = np.random.randn(2000)\n",
    "l = []\n",
    "def tt(sample):\n",
    "    a = np.random.choice(x, sample)\n",
    "    b =np.mean(a) - np.mean(x)                     \n",
    "    c =((np.sqrt(sample))*b)/np.std(a)\n",
    "    l.append(c)\n",
    "\n",
    "for i in range(400):\n",
    "    tt(2)\n",
    "\n",
    "\n",
    "plt.plot(np.sort(x), stats.norm.pdf(np.sort(x), loc = 0, scale =1), color = 'red', label = 'Normal')\n",
    "plt.plot(np.sort(x), stats.t.pdf(np.sort(x),1), color = 'blue', label = 'df = 1')\n",
    "plt.plot(sorted(l), stats.t.pdf(sorted(l), 1),'g+') \n",
    "plt.xlim(-5,5)"
   ]
  },
  {
   "cell_type": "markdown",
   "metadata": {},
   "source": [
    "### Null Hypothesis\n",
    "\n",
    "A null hypothesis $H_0$ for a population mean $μ$ is a statement that designates possible\n",
    "values for the population mean. It is associated with an alternative hypothesis $H_A$,\n",
    "which is the “opposite” of the null hypothesis. A two-sided set of hypotheses is\n",
    "\n",
    "$H_0 : μ = μ_0$ versus $H_A : μ \\neq μ_0$\n",
    "\n",
    "for a specified value of $μ_0$, and a one-sided set of hypotheses is either\n",
    "\n",
    "$H_0 : μ ≤ μ_0$ versus $H_A : μ > μ_0$\n",
    "\n",
    "or\n",
    "\n",
    "$H_0 : μ ≥ μ_0$ versus $H_A : μ < μ_0$"
   ]
  },
  {
   "cell_type": "code",
   "execution_count": null,
   "metadata": {
    "collapsed": true
   },
   "outputs": [],
   "source": []
  },
  {
   "cell_type": "markdown",
   "metadata": {},
   "source": [
    "#### Interpretation of p-value\n",
    "\n",
    "The plausibility of a null hypothesis is measured with a **p-value**, which is a probability that takes a value between 0 and 1. The p-value is sometimes referred to as the observed level of significance. A useful way of interpreting a p-value is to consider it as the plausibility or credibility of the null hypothesis.\n",
    "\n",
    "The p-value is directly proportional to the plausibility of the null hypothesis, so that\n",
    "\n",
    "*The smaller the p-value, the less plausible is the null hypothesis*\n",
    "\n",
    "A **p-value** for a particular null hypothesis $H_0$ based on an observed data set is defined\n",
    "to be “the probability of obtaining the data set or worse when the null hypothesis is\n",
    "true.” A “worse” data set is one that has less affinity with the null hypothesis."
   ]
  },
  {
   "cell_type": "markdown",
   "metadata": {},
   "source": [
    "#### 2 Sided t-Test\n",
    "<div class=\"alert alert-block alert-warning\">\n",
    "The $p-value$ for the two-sided hypothesis testing problem\n",
    "\n",
    "$H_0 : μ = μ_0$ versus $H_A : μ \\neq μ_0$\n",
    "$$$$\n",
    "based on a data set of n observations with a sample mean $\\overline{x}$ and a sample standard deviation $s$, is\n",
    "$$$$\n",
    "$$p-value = 2 × P(X ≥ |t|)$$\n",
    "$$$$\n",
    "where the random variable $X$ has a $t-distribution$ with $n − 1$ degrees of freedom, and\n",
    "$$$$\n",
    "$$t = \\frac{\\sqrt{n}{(\\overline{x}-\\mu_0)}}{s}$$\n",
    "$$$$\n",
    "which is known as the $t-statistic$. This testing procedure is called a **two-sided t-test**.\n",
    "</div>"
   ]
  },
  {
   "cell_type": "markdown",
   "metadata": {},
   "source": [
    "As an illustration of the calculation of a $p-value$ for a two-sided hypothesis testing problem, consider the hypotheses\n",
    "\n",
    "$H_0 : μ = 10.0$ versus $H_A : μ \\neq 10.0$\n",
    "\n",
    "\n",
    "Suppose that a data set is obtained with $n$ = 15, $\\overline{x}$ = 10.6, and $s$ = 1.61. The $t-statistic$ is\n",
    "\n",
    "$t = \\frac{\\sqrt{n}{(\\overline{x}-\\mu_0)}}{s}$\n",
    "\n",
    "=\n",
    "$t = \\frac{\\sqrt{15}(10.6-10)}{1.61}$ = 1.44\n",
    "\n",
    "Therefore any data set with a $t-statistic$ larger than 1.44 or smaller than −1.44 is “worse” than\n",
    "the observed data set. \n",
    "\n",
    "The $p-value$ is\n",
    "\n",
    "$p-value = 2 × P(X ≥ 1.44)$\n",
    "\n",
    "where the random variable $X$ has a $t-distribution$ with $n − 1$ = 14 degrees of freedom. `scipy.stats.t` module can be used to show that this value is\n",
    "\n",
    "p-value = 2 × 0.086 = 0.172\n",
    "\n",
    "![](images\\pvalue.png)"
   ]
  },
  {
   "cell_type": "code",
   "execution_count": 53,
   "metadata": {},
   "outputs": [
    {
     "data": {
      "text/plain": [
       "0.17092448998084908"
      ]
     },
     "execution_count": 53,
     "metadata": {},
     "output_type": "execute_result"
    }
   ],
   "source": [
    "from scipy.stats import t\n",
    "tt = (10.6-10)/np.sqrt((1.61**2)/float(15)) # tt (t-statistic)= 1.4433\n",
    "pval = t.sf(np.abs(tt), 14)*2  #t.sf is survival function (1-'cdf') at x of given RV. \n",
    "pval #same as calculated above "
   ]
  },
  {
   "cell_type": "markdown",
   "metadata": {},
   "source": [
    "If you know the shaded area in the plot shown above, you can calculate corresponding `t` by using inverse survival function of t-distribution -"
   ]
  },
  {
   "cell_type": "code",
   "execution_count": 409,
   "metadata": {},
   "outputs": [
    {
     "data": {
      "text/plain": [
       "1.4394740509241577"
      ]
     },
     "execution_count": 409,
     "metadata": {},
     "output_type": "execute_result"
    }
   ],
   "source": [
    "t.isf(.086, 14)"
   ]
  },
  {
   "cell_type": "markdown",
   "metadata": {},
   "source": [
    "Another example from Scipy docs given below. \n",
    "\n",
    "Note - I am slightly confused. What is the meaning of degree of freedom = 10 in below example? How is degree of freedom 14 (15-1) in above example ?"
   ]
  },
  {
   "cell_type": "code",
   "execution_count": 119,
   "metadata": {},
   "outputs": [
    {
     "data": {
      "text/plain": [
       "(-0.04813218002818482, 1.1518319041316933, 1.3267167353756422)"
      ]
     },
     "execution_count": 119,
     "metadata": {},
     "output_type": "execute_result"
    }
   ],
   "source": [
    "np.random.seed(22629734)\n",
    "from scipy.stats import t\n",
    "x = t.rvs(10, size = 1000) #random variables, degree of freedom 10, size 1000, loc and scale are 0 and 1 respectively\n",
    "\n",
    "m, v, s, k = t.stats(10, moments = 'mvsk') #theoretical values, mean, variance, skew, kurtosis\n",
    "n, (minmax), sm, sv, skew, skurt =  stats.describe(x)\n",
    "np.mean(x), np.std(x), np.var(x)"
   ]
  },
  {
   "cell_type": "code",
   "execution_count": 120,
   "metadata": {},
   "outputs": [
    {
     "data": {
      "text/plain": [
       "(array(0.), array(1.25), array(0.), array(1.))"
      ]
     },
     "execution_count": 120,
     "metadata": {},
     "output_type": "execute_result"
    }
   ],
   "source": [
    "m,v,s,k"
   ]
  },
  {
   "cell_type": "code",
   "execution_count": 121,
   "metadata": {},
   "outputs": [
    {
     "data": {
      "text/plain": [
       "(1000,\n",
       " (-4.81247516246362, 7.0059600611489135),\n",
       " -0.04813218002818482,\n",
       " 1.328044780155798,\n",
       " 0.06661313913231239,\n",
       " 1.991537350719934)"
      ]
     },
     "execution_count": 121,
     "metadata": {},
     "output_type": "execute_result"
    }
   ],
   "source": [
    "n, (minmax), sm, sv, skew, skurt"
   ]
  },
  {
   "cell_type": "code",
   "execution_count": 103,
   "metadata": {},
   "outputs": [
    {
     "data": {
      "text/plain": [
       "[<matplotlib.lines.Line2D at 0xb106c70>]"
      ]
     },
     "execution_count": 103,
     "metadata": {},
     "output_type": "execute_result"
    },
    {
     "data": {
      "image/png": "[encoded data removed]",
      "text/plain": [
       "<matplotlib.figure.Figure at 0xacabf10>"
      ]
     },
     "metadata": {},
     "output_type": "display_data"
    }
   ],
   "source": [
    "plt.plot(np.sort(x), t.pdf(np.sort(x), 10))"
   ]
  },
  {
   "cell_type": "markdown",
   "metadata": {},
   "source": [
    "**Note:** - `stats.describe` uses the unbiased estimator for the variance, while `np.var` is the biased estimator."
   ]
  },
  {
   "cell_type": "code",
   "execution_count": 67,
   "metadata": {},
   "outputs": [
    {
     "data": {
      "text/plain": [
       "0.39144935201466907"
      ]
     },
     "execution_count": 67,
     "metadata": {},
     "output_type": "execute_result"
    }
   ],
   "source": [
    "tstats = (sm-m)/np.sqrt(sv/float(1000))\n",
    "tstats"
   ]
  },
  {
   "cell_type": "code",
   "execution_count": 77,
   "metadata": {},
   "outputs": [
    {
     "data": {
      "text/plain": [
       "0.6955485968932746"
      ]
     },
     "execution_count": 77,
     "metadata": {},
     "output_type": "execute_result"
    }
   ],
   "source": [
    "p_val = t.sf(tstats, 999)*2\n",
    "p_val"
   ]
  },
  {
   "cell_type": "markdown",
   "metadata": {},
   "source": [
    "Or we can directly calculate the `t-statistic` and `p value` as shown below -"
   ]
  },
  {
   "cell_type": "code",
   "execution_count": 76,
   "metadata": {},
   "outputs": [
    {
     "data": {
      "text/plain": [
       "Ttest_1sampResult(statistic=0.39144935201466907, pvalue=0.6955485968932746)"
      ]
     },
     "execution_count": 76,
     "metadata": {},
     "output_type": "execute_result"
    }
   ],
   "source": [
    "stats.ttest_1samp(x, m)\n",
    "\n",
    "#Calculates the T-test for the mean of ONE group of scores.\n",
    "#This is a two-sided test for the null hypothesis that the expected value (mean) of a sample of independent \n",
    "#observations `a` is equal to the given population mean, `popmean`."
   ]
  },
  {
   "cell_type": "markdown",
   "metadata": {},
   "source": [
    "The pvalue is 0.7, this means that with an alpha error of, for example, 10%, we cannot reject the hypothesis that the\n",
    "sample mean is equal to zero, the expectation of the standard t-distribution."
   ]
  },
  {
   "cell_type": "markdown",
   "metadata": {},
   "source": [
    "#### One Sided t-Test\n",
    "<div class=\"alert alert-block alert-warning\">\n",
    "The $p-value$ for the two-sided hypothesis testing problem\n",
    "\n",
    "$H_0 : μ \\leq μ_0$ versus $H_A : μ \\geq μ_0$\n",
    "\n",
    "based on a data set of n observations with a sample mean $\\overline{x}$ and a sample standard deviation $s$, is\n",
    "$$$$\n",
    "$$p-value = P(X ≥ t)$$\n",
    "$$$$\n",
    "and the p-value for the one-sided hypothesis testing problem\n",
    "\n",
    "\n",
    "$H_0 : μ \\geq μ_0$ versus $H_A : μ \\leq μ_0$ is\n",
    "$$$$\n",
    "$$p-value = P(X ≤ t)$$\n",
    "$$$$\n",
    "where the random variable $X$ has a $t-distribution$ with $n − 1$ degrees of freedom, and\n",
    "$$$$\n",
    "$$t = \\frac{\\sqrt{n}{(\\overline{x}-\\mu_0)}}{s}$$\n",
    "$$$$\n",
    "which is known as the $t-statistic$. \n",
    "\n",
    "This testing procedure is called a **one-sided t-test**.\n",
    "</div>"
   ]
  },
  {
   "cell_type": "markdown",
   "metadata": {},
   "source": [
    "####  $z$-Test\n",
    "\n",
    "Testing procedures similar to the $t-tests$ can be employed when an experimenter wishes to\n",
    "use an assumed “known” value of the population standard deviation $σ$ rather than the sample\n",
    "standard deviation $s$. These “variance known” tests are called $z-tests$ and are based upon the -statistic\n",
    "\n",
    "<div class=\"alert alert-block alert-warning\">\n",
    "$$z\\;= \\frac{\\sqrt{n}(\\bar{x}-\\mu_0)}{\\sigma}$$\n",
    "</div>\n",
    "which has a standard normal distribution when $μ = μ_0$."
   ]
  },
  {
   "cell_type": "markdown",
   "metadata": {
    "collapsed": true
   },
   "source": [
    "#### Confidence Interval \n",
    "\n",
    "This is a range of values we are fairly sure our true value lies in. \n",
    "\n",
    "<div class=\"alert alert-block alert-warning\">\n",
    "$$Confidence\\;Interval =  \\bar{x}\\pm z\\frac{s}{\\sqrt{n}}$$\n",
    "</div>\n",
    "\n",
    "The value of $z$ for different confidence interval (usually 95% or 99%) is looked up from following table - \n",
    "\n",
    "|Confidence Interval|Z |\n",
    "|-------------------|--|\n",
    "|80%  |1.282|\n",
    "|85%  |1.440|\n",
    "|90%  |1.645|\n",
    "|95%  |1.960|\n",
    "|99%  |2.576|\n",
    "|99.5%|2.807|\n",
    "|99.99%|3.291|\n"
   ]
  },
  {
   "cell_type": "markdown",
   "metadata": {},
   "source": [
    "**Example** -  We measure the heights of 40 randomly chosen men, and a mean height of 175 cm. We also know the standard deviation of men's heights is 20 cm (sample std. dev.).\n",
    "\n",
    "The 95% **Confidence Interval** is calculted as follows -\n",
    "\n",
    "From above table, we find that $z\\;value$ for 95% C.I. is 1.960.\n",
    "\n",
    "Putting values in the formula for CI, we get - \n",
    "\n",
    "$$ 175 \\pm 1.960 * \\frac{20}{\\sqrt40} =  175 \\pm 6.20\\;cm$$\n",
    "\n",
    "In other words: from 168.8 cm to 181.2 cm.\n",
    "\n",
    "This says that **true mean** of ALL men is likely to be between 168.8 cm and 181.2 cm. \n",
    "\n",
    "The important point about CI is that CI of 95% tells that 95% of experiments like we just did will include the true mean, but 5% won't.\n",
    "\n",
    "**??** - Below, CI has been calculated using `scipy.norm.interval` function. I don't understand why `scale` is set equal to `20/np.sqrt(40)` rather than only 20. \n",
    "\n",
    "**Edit** The reason why `scale` is set equal to `20/np.sqrt(40)` rather than only 20 is that there are actually 2 random variables here - the height of a man, and the *mean of the heights of N men.* Above we have the mean (175 cm) and std dev (20 cm) of distribution of the height of a man. \n",
    "\n",
    "But the distribution of the *mean of the heights of N men* is different from the distribution of the height of a man. Naturally, in order to get a confidence interval for the mean of the heights of N men, we should find the confidence interval from the distribution of the mean of the heights of N men. \n",
    "\n",
    "Loosly speaking, we know from the **Central Limit Theorem** that the mean of a sample with size N is approximately normally distributed with population mean (175 cm) and variance $\\frac{\\sigma^2}{N}$. This means that std dev of the *mean of the heights of N men* is not 20 cm but `20/np.sqrt(40)` and this is the std dev which is originally referred to. "
   ]
  },
  {
   "cell_type": "code",
   "execution_count": 2,
   "metadata": {},
   "outputs": [
    {
     "data": {
      "text/plain": [
       "(168.8020496769544, 181.1979503230456)"
      ]
     },
     "execution_count": 2,
     "metadata": {},
     "output_type": "execute_result"
    }
   ],
   "source": [
    "from scipy.stats import norm\n",
    "import numpy as np\n",
    "norm.interval(.95, loc = 175, scale = 20/np.sqrt(40))"
   ]
  },
  {
   "cell_type": "markdown",
   "metadata": {},
   "source": [
    "#### Significance Level\n",
    "\n",
    "![](images/significance.png)\n",
    "\n",
    "Hypothesis tests may be defined formally in terms of a significance level or size $α$. As\n",
    "Figure 8.28 shows, a hypothesis test at size $α$ rejects the null hypothesis $H_0$ if a $p-value$ smaller\n",
    "than $α$ is obtained and accepts the null hypothesis $H_0$ if a $p-value$ larger than $α$ is obtained.\n",
    "The significance level $α$ is also referred to as the probability of a **Type I error**. As\n",
    "Figure 8.29 shows, a **Type I error** occurs when the null hypothesis is rejected when it is really\n",
    "true. **A Type II error** occurs when the null hypothesis is accepted when it is really false. Having\n",
    "a small probability of a **Type I error**, that is, having a small significance level $α$, is consistent\n",
    "with the “protection” of the null hypothesis. This means that the null hypothesis is rejected only when there is sufficient evidence that it is false.\n"
   ]
  },
  {
   "cell_type": "markdown",
   "metadata": {},
   "source": [
    "#### Chi-Square Test for Goodness Fit"
   ]
  },
  {
   "cell_type": "markdown",
   "metadata": {},
   "source": [
    "The chi-squared test for goodness of fit determines how well categorical variables fit some distribution. We assume that the categories are mutually exclusive, and completely cover the sample space. That means that the everything we can think of fits into exactly one category, with no exceptions. For example, suppose we flip a coin to determine if it is fair. The outcomes of this experiment fit into exactly two categories, head and tails. The same goes for rolling a die to determine its fairness; rolls of the die will result in (exactly) one of (exactly) six outcomes or categories. This test is only meaningful with mutually exclusive categories.\n",
    "\n",
    "The Chi-Squared test is a statistical hypothesis test that assumes (the null hypothesis) that the observed frequencies for a categorical variable match the expected frequencies for the categorical variable. In other words,  a chi-squared test can be used to attempt rejection of the null hypothesis that the data are independent.  The test calculates a statistic that has a chi-squared distribution, named for the Greek capital letter Chi (X) pronounced “ki” as in kite.\n",
    "\n",
    "$$ \\chi^2 = \\sum (O - E)^2/E $$\n",
    "\n",
    "* O is observed frequency\n",
    "* E is expected frequency\n",
    "* $ \\chi $ is the chi-square statistic\n",
    "\n",
    "Suppose we have two dice, a black die and a red die, and we’d like to determine if one or both are unfair. We roll each die sixty times and count how many times each comes up on each face. For this, we generated the following data- "
   ]
  },
  {
   "cell_type": "code",
   "execution_count": 59,
   "metadata": {
    "scrolled": true
   },
   "outputs": [
    {
     "data": {
      "text/html": [
       "<div>\n",
       "<style scoped>\n",
       "    .dataframe tbody tr th:only-of-type {\n",
       "        vertical-align: middle;\n",
       "    }\n",
       "\n",
       "    .dataframe tbody tr th {\n",
       "        vertical-align: top;\n",
       "    }\n",
       "\n",
       "    .dataframe thead th {\n",
       "        text-align: right;\n",
       "    }\n",
       "</style>\n",
       "<table border=\"1\" class=\"dataframe\">\n",
       "  <thead>\n",
       "    <tr style=\"text-align: right;\">\n",
       "      <th></th>\n",
       "      <th>Face</th>\n",
       "      <th>Red</th>\n",
       "      <th>Black</th>\n",
       "      <th>Expected</th>\n",
       "    </tr>\n",
       "  </thead>\n",
       "  <tbody>\n",
       "    <tr>\n",
       "      <th>0</th>\n",
       "      <td>1</td>\n",
       "      <td>6</td>\n",
       "      <td>9</td>\n",
       "      <td>10</td>\n",
       "    </tr>\n",
       "    <tr>\n",
       "      <th>1</th>\n",
       "      <td>2</td>\n",
       "      <td>5</td>\n",
       "      <td>10</td>\n",
       "      <td>10</td>\n",
       "    </tr>\n",
       "    <tr>\n",
       "      <th>2</th>\n",
       "      <td>3</td>\n",
       "      <td>14</td>\n",
       "      <td>12</td>\n",
       "      <td>10</td>\n",
       "    </tr>\n",
       "    <tr>\n",
       "      <th>3</th>\n",
       "      <td>4</td>\n",
       "      <td>15</td>\n",
       "      <td>11</td>\n",
       "      <td>10</td>\n",
       "    </tr>\n",
       "    <tr>\n",
       "      <th>4</th>\n",
       "      <td>5</td>\n",
       "      <td>11</td>\n",
       "      <td>8</td>\n",
       "      <td>10</td>\n",
       "    </tr>\n",
       "    <tr>\n",
       "      <th>5</th>\n",
       "      <td>6</td>\n",
       "      <td>9</td>\n",
       "      <td>10</td>\n",
       "      <td>10</td>\n",
       "    </tr>\n",
       "  </tbody>\n",
       "</table>\n",
       "</div>"
      ],
      "text/plain": [
       "   Face  Red  Black  Expected\n",
       "0     1    6      9        10\n",
       "1     2    5     10        10\n",
       "2     3   14     12        10\n",
       "3     4   15     11        10\n",
       "4     5   11      8        10\n",
       "5     6    9     10        10"
      ]
     },
     "execution_count": 59,
     "metadata": {},
     "output_type": "execute_result"
    }
   ],
   "source": [
    "import pandas as pd\n",
    "data = pd.DataFrame({'Red':[6,5,14,15,11,9],'Black':[9,10,12,11,8,10], 'Face':[1,2,3,4,5,6]}, columns = ['Face', 'Red', 'Black'])\n",
    "data['Expected'] = pd.Series(np.ones(10)*10, dtype = np.int)\n",
    "data"
   ]
  },
  {
   "cell_type": "code",
   "execution_count": 60,
   "metadata": {},
   "outputs": [
    {
     "data": {
      "text/plain": [
       "Power_divergenceResult(statistic=8.3999999999999986, pvalue=0.13552522337752962)"
      ]
     },
     "execution_count": 60,
     "metadata": {},
     "output_type": "execute_result"
    }
   ],
   "source": [
    "stats.chisquare(data['Red'])"
   ]
  },
  {
   "cell_type": "code",
   "execution_count": 61,
   "metadata": {},
   "outputs": [
    {
     "data": {
      "text/plain": [
       "Power_divergenceResult(statistic=8.3999999999999986, pvalue=0.13552522337752962)"
      ]
     },
     "execution_count": 61,
     "metadata": {},
     "output_type": "execute_result"
    }
   ],
   "source": [
    "stats.chisquare(data['Red'], data['Expected'])"
   ]
  },
  {
   "cell_type": "code",
   "execution_count": 62,
   "metadata": {},
   "outputs": [
    {
     "data": {
      "text/plain": [
       "Power_divergenceResult(statistic=1.0, pvalue=0.96256577324729642)"
      ]
     },
     "execution_count": 62,
     "metadata": {},
     "output_type": "execute_result"
    }
   ],
   "source": [
    "stats.chisquare(data['Black'])"
   ]
  },
  {
   "cell_type": "code",
   "execution_count": 64,
   "metadata": {},
   "outputs": [
    {
     "data": {
      "text/plain": [
       "Power_divergenceResult(statistic=1.0, pvalue=0.96256577324729642)"
      ]
     },
     "execution_count": 64,
     "metadata": {},
     "output_type": "execute_result"
    }
   ],
   "source": [
    "stats.chisquare(data['Black'], data['Expected'])"
   ]
  },
  {
   "cell_type": "markdown",
   "metadata": {},
   "source": [
    "In case of red facing die, the p-value is .1355, which means there is 13.55% chance that the same frequency will be repeated in future. On the other hand, in case of black facing die, there are 96.25% chances that the same frequency will be repeated in future. "
   ]
  },
  {
   "cell_type": "code",
   "execution_count": 65,
   "metadata": {},
   "outputs": [
    {
     "data": {
      "text/plain": [
       "Power_divergenceResult(statistic=6.5128787878787877, pvalue=0.25945989628646277)"
      ]
     },
     "execution_count": 65,
     "metadata": {},
     "output_type": "execute_result"
    }
   ],
   "source": [
    "stats.chisquare(data['Red'], data['Black'])"
   ]
  },
  {
   "cell_type": "markdown",
   "metadata": {},
   "source": [
    "The first value in the returned tuple is the χ2 value itself, while the second value is the p-value computed using ν=k−1 where k is the number of values in each array. Here is v is degree of freedom.\n",
    "\n",
    "\n",
    " - If `statistic` >= Critical Value: significant result, reject null hypothesis (H0), dependent.\n",
    " - If `statistic` < Critical Value: not significant result, fail to reject null hypothesis (H0), independent.\n",
    "\n",
    "\n",
    "In terms of a p-value and a chosen significance level (alpha), the test can be interpreted as follows:\n",
    "\n",
    " - If `pvalue` <= alpha: significant result, reject null hypothesis (H0), dependent.\n",
    " - If `pvalue` > alpha: not significant result, fail to reject null hypothesis (H0), independent.\n",
    "\n",
    "For 'Red' the `statistic` is 8.399. Since degree of freedom (dof) is 5, and for this dof and p =  .05, the chi square value is 11.070 which is greater than 8.399. This means this data doesn't reject the null hypothesis. \n",
    "\n",
    "Alternatively, for 8.399, the corresponding p value for dof = 5 is greater than .05. This also implies that data doesn't reject the null hypothesis.\n",
    "\n",
    "The value of alpha is usually .05. The critical value is referenced from chi square distribution table(shown below)."
   ]
  },
  {
   "cell_type": "code",
   "execution_count": 66,
   "metadata": {},
   "outputs": [
    {
     "data": {
      "text/plain": [
       "Power_divergenceResult(statistic=0.0, pvalue=1.0)"
      ]
     },
     "execution_count": 66,
     "metadata": {},
     "output_type": "execute_result"
    }
   ],
   "source": [
    "stats.chisquare(data['Red'], data['Red'])"
   ]
  },
  {
   "cell_type": "code",
   "execution_count": 69,
   "metadata": {},
   "outputs": [
    {
     "data": {
      "text/plain": [
       "8.3999999999999986"
      ]
     },
     "execution_count": 69,
     "metadata": {},
     "output_type": "execute_result"
    }
   ],
   "source": [
    "#manually calculating chi square value\n",
    "data['RE'] = ((data['Red']-data['Expected'])**2)/data['Expected']\n",
    "data['RE'].sum()"
   ]
  },
  {
   "cell_type": "markdown",
   "metadata": {},
   "source": [
    "A low value for chi-square (above `statistic`) means there is a high correlation between your two sets of data. In theory, if your observed and expected values were equal (“no difference”) then chi-square would be zero — an event that is unlikely to happen in real life. Deciding whether a chi-square test statistic is large enough to indicate a statistically significant difference isn’t as easy it seems. It would be nice if we could say a chi-square test statistic >10 means a difference, but unfortunately that isn’t the case. \n",
    "\n",
    "So basically, low `statistic` means independence and low statistical significance and hence failiure to reject the null hypothesis.\n",
    "\n",
    "A point from sklearn docs - \n",
    "\n",
    "\n",
    "*Recall that the chi-square test measures dependence between stochastic variables, so using this function “weeds\n",
    "out” the features that are the most likely to be independent of class and therefore irrelevant for classification.*"
   ]
  },
  {
   "cell_type": "markdown",
   "metadata": {},
   "source": [
    "#### Another Example"
   ]
  },
  {
   "cell_type": "code",
   "execution_count": 36,
   "metadata": {
    "collapsed": true
   },
   "outputs": [],
   "source": [
    "import numpy as np\n",
    "import pandas as pd\n",
    "\n",
    "a = np.array([[90,60,104,95],[30,50,51,20],[30,40,45,35]])\n",
    "data = pd.DataFrame(a, columns = list('ABCD'))\n",
    "data['Total'] = data.sum(axis = 1)\n",
    "data.loc[3] = data.sum(axis = 0)\n",
    "data.index = pd.Index(['White Collar','Blue Collar', 'No Collar', 'Total'])"
   ]
  },
  {
   "cell_type": "markdown",
   "metadata": {},
   "source": [
    "Assume that a city has a population of 1 million people. We randomly select 650 people and we seggregate the data based on his job type (white collar etc) and the neighborhood they live in (A, B etc).\n",
    "\n",
    "The null hypothesis is that each person's neighborhood of residence is independent of the person's occupational classification. The data are tabulated as: "
   ]
  },
  {
   "cell_type": "code",
   "execution_count": 37,
   "metadata": {},
   "outputs": [
    {
     "data": {
      "text/html": [
       "<div>\n",
       "<style scoped>\n",
       "    .dataframe tbody tr th:only-of-type {\n",
       "        vertical-align: middle;\n",
       "    }\n",
       "\n",
       "    .dataframe tbody tr th {\n",
       "        vertical-align: top;\n",
       "    }\n",
       "\n",
       "    .dataframe thead th {\n",
       "        text-align: right;\n",
       "    }\n",
       "</style>\n",
       "<table border=\"1\" class=\"dataframe\">\n",
       "  <thead>\n",
       "    <tr style=\"text-align: right;\">\n",
       "      <th></th>\n",
       "      <th>A</th>\n",
       "      <th>B</th>\n",
       "      <th>C</th>\n",
       "      <th>D</th>\n",
       "      <th>Total</th>\n",
       "    </tr>\n",
       "  </thead>\n",
       "  <tbody>\n",
       "    <tr>\n",
       "      <th>White Collar</th>\n",
       "      <td>90</td>\n",
       "      <td>60</td>\n",
       "      <td>104</td>\n",
       "      <td>95</td>\n",
       "      <td>349</td>\n",
       "    </tr>\n",
       "    <tr>\n",
       "      <th>Blue Collar</th>\n",
       "      <td>30</td>\n",
       "      <td>50</td>\n",
       "      <td>51</td>\n",
       "      <td>20</td>\n",
       "      <td>151</td>\n",
       "    </tr>\n",
       "    <tr>\n",
       "      <th>No Collar</th>\n",
       "      <td>30</td>\n",
       "      <td>40</td>\n",
       "      <td>45</td>\n",
       "      <td>35</td>\n",
       "      <td>150</td>\n",
       "    </tr>\n",
       "    <tr>\n",
       "      <th>Total</th>\n",
       "      <td>150</td>\n",
       "      <td>150</td>\n",
       "      <td>200</td>\n",
       "      <td>150</td>\n",
       "      <td>650</td>\n",
       "    </tr>\n",
       "  </tbody>\n",
       "</table>\n",
       "</div>"
      ],
      "text/plain": [
       "                A    B    C    D  Total\n",
       "White Collar   90   60  104   95    349\n",
       "Blue Collar    30   50   51   20    151\n",
       "No Collar      30   40   45   35    150\n",
       "Total         150  150  200  150    650"
      ]
     },
     "execution_count": 37,
     "metadata": {},
     "output_type": "execute_result"
    }
   ],
   "source": [
    "data"
   ]
  },
  {
   "cell_type": "markdown",
   "metadata": {},
   "source": [
    "Since out of 650 people, 349 are White Collar people, so we would expect that the population of neighborhood A would also have the same ration of White Collar people. That is the expected value of White Collar people in neighborhood A is - \n",
    "\n",
    "150(349/650) = 80.54 This way, we can populate another table of expected values. Let us prepare that table - \n"
   ]
  },
  {
   "cell_type": "code",
   "execution_count": 42,
   "metadata": {
    "scrolled": true
   },
   "outputs": [
    {
     "data": {
      "text/html": [
       "<div>\n",
       "<style scoped>\n",
       "    .dataframe tbody tr th:only-of-type {\n",
       "        vertical-align: middle;\n",
       "    }\n",
       "\n",
       "    .dataframe tbody tr th {\n",
       "        vertical-align: top;\n",
       "    }\n",
       "\n",
       "    .dataframe thead th {\n",
       "        text-align: right;\n",
       "    }\n",
       "</style>\n",
       "<table border=\"1\" class=\"dataframe\">\n",
       "  <thead>\n",
       "    <tr style=\"text-align: right;\">\n",
       "      <th></th>\n",
       "      <th>A</th>\n",
       "      <th>B</th>\n",
       "      <th>C</th>\n",
       "      <th>D</th>\n",
       "    </tr>\n",
       "  </thead>\n",
       "  <tbody>\n",
       "    <tr>\n",
       "      <th>White Collar</th>\n",
       "      <td>80.54</td>\n",
       "      <td>80.54</td>\n",
       "      <td>107.38</td>\n",
       "      <td>80.54</td>\n",
       "    </tr>\n",
       "    <tr>\n",
       "      <th>Blue Collar</th>\n",
       "      <td>34.84</td>\n",
       "      <td>34.84</td>\n",
       "      <td>46.46</td>\n",
       "      <td>34.84</td>\n",
       "    </tr>\n",
       "    <tr>\n",
       "      <th>No Collar</th>\n",
       "      <td>34.61</td>\n",
       "      <td>34.61</td>\n",
       "      <td>46.15</td>\n",
       "      <td>34.61</td>\n",
       "    </tr>\n",
       "  </tbody>\n",
       "</table>\n",
       "</div>"
      ],
      "text/plain": [
       "                  A      B       C      D\n",
       "White Collar  80.54  80.54  107.38  80.54\n",
       "Blue Collar   34.84  34.84   46.46  34.84\n",
       "No Collar     34.61  34.61   46.15  34.61"
      ]
     },
     "execution_count": 42,
     "metadata": {},
     "output_type": "execute_result"
    }
   ],
   "source": [
    "expected = pd.DataFrame([[80.54, 80.54,107.38,80.54],[34.84,34.84,46.46,34.84],[34.61,34.61,46.15,34.61]])\n",
    "expected.columns = data.columns[:4]\n",
    "expected.index = data.index[:3]\n",
    "expected"
   ]
  },
  {
   "cell_type": "markdown",
   "metadata": {},
   "source": [
    "Now let us calculate the chi square - "
   ]
  },
  {
   "cell_type": "code",
   "execution_count": 55,
   "metadata": {},
   "outputs": [
    {
     "data": {
      "text/plain": [
       "24.572130834241726"
      ]
     },
     "execution_count": 55,
     "metadata": {},
     "output_type": "execute_result"
    }
   ],
   "source": [
    "df =(((a - expected)**2)/expected)\n",
    "np.sum(df.values) #chi square value"
   ]
  },
  {
   "cell_type": "markdown",
   "metadata": {},
   "source": [
    "We finally calculated the value of chi square. We also see that degree of freedom  = (no of columns -1)(no of rows -1) = (3)(2) = 6. Now we locate the value of p for degree of freedom (dof )of 6 and given chi square value from following table - \n",
    "\n",
    "<img src=\"images/chitable.jpg\" width=\"400\" height=\"500\"/>\n",
    "\n",
    "We find that for dof 6 and p = .001 the value is 22.457 and our chi square is even bigger than that. That means the p value is even less than .001 which basically rejects the null hypothesis (with p = .05 as reference). \n",
    "\n",
    "This means that the given distribution is not representative of expected distribution (not very well correlated and hence independent)."
   ]
  },
  {
   "cell_type": "markdown",
   "metadata": {},
   "source": [
    "# Foundations for Inference \n",
    "\n",
    "\n",
    "Notes from Chapter 4 : Foundations for Inference of OpenIntro Statistics (3rd edition). After wading through lots of resources, finally came across this chapter which made a lot of statistical concepts clear to me.  "
   ]
  },
  {
   "cell_type": "markdown",
   "metadata": {},
   "source": [
    "Let us generate a 'population' of some measurement having 10000 observations. "
   ]
  },
  {
   "cell_type": "code",
   "execution_count": 272,
   "metadata": {},
   "outputs": [
    {
     "data": {
      "text/plain": [
       "(array([ 191., 1113., 1235., 1303., 1262., 1309., 1271., 1234.,  957.,\n",
       "        125.]), array([-13.89393064,  -0.98746027,  11.91901011,  24.82548048,\n",
       "        37.73195086,  50.63842123,  63.54489161,  76.45136198,\n",
       "        89.35783236, 102.26430273, 115.17077311]), <a list of 10 Patch objects>)"
      ]
     },
     "execution_count": 272,
     "metadata": {},
     "output_type": "execute_result"
    },
    {
     "data": {
      "image/png": "[encoded data removed]",
      "text/plain": [
       "<matplotlib.figure.Figure object at 0x0F3AF470>"
      ]
     },
     "metadata": {},
     "output_type": "display_data"
    }
   ],
   "source": [
    "x = np.random.randint(0,101, 10000) - (5*np.random.randn(10000))\n",
    "\n",
    "plt.hist(x)"
   ]
  },
  {
   "cell_type": "markdown",
   "metadata": {},
   "source": [
    "Histogram for our data is shown above. It is definitely not normally distributed. We calculate the population mean and standard deviation so that we can compare them with our estimates."
   ]
  },
  {
   "cell_type": "code",
   "execution_count": 273,
   "metadata": {},
   "outputs": [
    {
     "data": {
      "text/plain": [
       "(49.482426987963976, 29.586421117337864)"
      ]
     },
     "execution_count": 273,
     "metadata": {},
     "output_type": "execute_result"
    }
   ],
   "source": [
    "pop_mean = np.mean(x)\n",
    "pop_std = np.std(x)\n",
    "\n",
    "\n",
    "pop_mean, pop_std"
   ]
  },
  {
   "cell_type": "markdown",
   "metadata": {},
   "source": [
    "Let us take 200 samples with each sample having 200 random observations. We prepare a list of mean for each sample. "
   ]
  },
  {
   "cell_type": "code",
   "execution_count": 274,
   "metadata": {},
   "outputs": [
    {
     "data": {
      "text/plain": [
       "200"
      ]
     },
     "execution_count": 274,
     "metadata": {},
     "output_type": "execute_result"
    }
   ],
   "source": [
    "l = []\n",
    "for i in range(200):\n",
    "    a = np.mean(np.random.choice(x, 100))\n",
    "    l.append(a)\n",
    "    \n",
    "len(l)    "
   ]
  },
  {
   "cell_type": "markdown",
   "metadata": {},
   "source": [
    "Below is the histogram for **sampling distribution of mean**. Note that this histogram is centered exactly around the population mean. Also note that, these sample means are approximately normally distributed. \n",
    "\n",
    "<div class=\"alert alert-block alert-warning\">\n",
    "\n",
    "**Sampling distribution**\n",
    "\n",
    "The sampling distribution represents the distribution of the point estimates based on samples of a fixed size from a certain population. It is useful to think of a particular point estimate as being drawn from such a distribution. Understanding the\n",
    "concept of a sampling distribution is central to understanding statistical inference.</div>\n"
   ]
  },
  {
   "cell_type": "code",
   "execution_count": 275,
   "metadata": {},
   "outputs": [
    {
     "data": {
      "image/png": "[encoded data removed]",
      "text/plain": [
       "<matplotlib.figure.Figure object at 0x0F4E5AB0>"
      ]
     },
     "metadata": {},
     "output_type": "display_data"
    }
   ],
   "source": [
    "plt.hist(l);"
   ]
  },
  {
   "cell_type": "markdown",
   "metadata": {},
   "source": [
    "Calculating the standard distribution for this distribution of means - "
   ]
  },
  {
   "cell_type": "code",
   "execution_count": 276,
   "metadata": {},
   "outputs": [
    {
     "data": {
      "text/plain": [
       "3.0041073612852935"
      ]
     },
     "execution_count": 276,
     "metadata": {},
     "output_type": "execute_result"
    }
   ],
   "source": [
    "np.std(l)"
   ]
  },
  {
   "cell_type": "markdown",
   "metadata": {},
   "source": [
    "What we just calculated is called **Standard Error of Mean**. This value indicates the 'spread' of sampling means around true population means. \n",
    "\n",
    "But imagine we have only one sample (of 100 observations). Obviously, we can't calculate SE of mean from one sample alone. Earlier, we were able to calculate this because we have multiple samples (200). \n",
    "\n",
    "Suppose we know the population standard deviation. We have already calculated this above. Then we can calculated SE as shown below -   \n",
    "\n",
    "<div class=\"alert alert-block alert-warning\">\n",
    "\n",
    "**Standard error of an estimate**\n",
    "\n",
    "The standard deviation associated with an estimate is called the standard error.\n",
    "It describes the typical error or uncertainty associated with the estimate.</div>"
   ]
  },
  {
   "cell_type": "code",
   "execution_count": 277,
   "metadata": {},
   "outputs": [
    {
     "data": {
      "text/plain": [
       "2.9586421117337864"
      ]
     },
     "execution_count": 277,
     "metadata": {},
     "output_type": "execute_result"
    }
   ],
   "source": [
    "pop_std/np.sqrt(100) #Standard error when Population Std dev is known. 100 is the sample size"
   ]
  },
  {
   "cell_type": "markdown",
   "metadata": {},
   "source": [
    "Notice that this value is very close close to the SE of mean which we calculated on the basis of smapling distribution mean. \n",
    "\n",
    "Usually we don't know the standard deviation for entire population so we use the sample standard deviation provided sample size is more than 30 and population distribution is not strongly skewed. "
   ]
  },
  {
   "cell_type": "code",
   "execution_count": 278,
   "metadata": {},
   "outputs": [
    {
     "data": {
      "text/plain": [
       "2.968338679359859"
      ]
     },
     "execution_count": 278,
     "metadata": {},
     "output_type": "execute_result"
    }
   ],
   "source": [
    "b = np.random.choice(x,100)\n",
    "sample_std = np.std(b)\n",
    "se_2 = sample_std/10\n",
    "se_2                  #Standard error when Population std dev not known so we use the sample std dev\n",
    "\n",
    "#Using sample std dev is viable if sample size is more than 30 and population distribution is not strongly skewed. "
   ]
  },
  {
   "cell_type": "markdown",
   "metadata": {},
   "source": [
    "Again, SE of mean calculated here is very close the SE of mean which we caculated in the begining."
   ]
  },
  {
   "cell_type": "markdown",
   "metadata": {},
   "source": [
    "## Basic Properties of Point Estimates\n",
    "\n",
    "So far,we achieved three goals in this section. First, we determined that point estimates from a sample may be used to estimate population parameters. We also determined that these point estimates are not exact: they vary from one sample to another. Lastly, we quantified the uncertainty of the sample mean using what we call the standard error, mathematically\n",
    "represented in equation $SE\\;=\\;\\frac{\\sigma}{\\sqrt{n}}$\n",
    "\n",
    "### Confidence Interval\n",
    "\n",
    "A point estimate provides a single plausible value for a parameter. However, a point estimate is rarely perfect; usually there is some error in the estimate. Instead of supplying just a point estimate of a parameter, a next logical step would be to provide a plausible *range of values* for the parameter.\n",
    "\n",
    "A plausible range of values for the population parameter is called a **confidence interval**.\n",
    "\n",
    "Our point estimate is the most plausible value of the parameter, so it makes sense to build the confidence interval around the point estimate. The standard error, which is a measure of the uncertainty associated with the point estimate, provides a guide for how large we should make the confidence interval.\n",
    "\n",
    "The standard error represents the standard deviation associated with the estimate, and roughly 95% of the time the estimate will be within 2 standard errors of the parameter. If the interval spreads out 2 standard errors from the point estimate, we can be roughly **95% confident** that we have captured the true parameter:\n",
    "\n",
    "$$point\\;estimate\\;\\pm\\;2\\;*\\;SE\\ \\ \\ \\ \\ \\ \\ \\ \\ \\ \\  -\\;(eq2)$$\n",
    "\n",
    "But what does “95% confident” mean? Suppose we took many samples and built a confidence\n",
    "interval from each sample using Equation (2). Then about 95% of those intervals\n",
    "would contain the actual mean, $\\mu$."
   ]
  },
  {
   "cell_type": "markdown",
   "metadata": {},
   "source": [
    "Earlier we calculted SE through various methods and it came out to be approximately 2.95. We also caculated sample means for 200 samples. Let us just pick means of 25 such samples.   "
   ]
  },
  {
   "cell_type": "code",
   "execution_count": 279,
   "metadata": {},
   "outputs": [
    {
     "name": "stdout",
     "output_type": "stream",
     "text": [
      "Pretty printing has been turned ON\n"
     ]
    },
    {
     "data": {
      "text/plain": [
       "[52.655523044708055,\n",
       " 46.08010476089333,\n",
       " 45.02022483399247,\n",
       " 52.25786042446355,\n",
       " 45.95430741094242,\n",
       " 46.73996196253834,\n",
       " 52.64047871222266,\n",
       " 42.773277409527665,\n",
       " 50.08083548693608,\n",
       " 47.11855184847618,\n",
       " 48.599746159960624,\n",
       " 48.1126597898997,\n",
       " 47.520219175449846,\n",
       " 46.96516238344427,\n",
       " 48.95438257262342,\n",
       " 50.71077644206889,\n",
       " 50.29063614616068,\n",
       " 48.40034014736447,\n",
       " 51.23355967319763,\n",
       " 48.56790924838391,\n",
       " 50.292315150022816,\n",
       " 47.87926343234306,\n",
       " 52.62013323057018,\n",
       " 56.66073754917011,\n",
       " 53.323181696721]"
      ]
     },
     "execution_count": 279,
     "metadata": {},
     "output_type": "execute_result"
    }
   ],
   "source": [
    "%pprint\n",
    "l[:25]"
   ]
  },
  {
   "cell_type": "markdown",
   "metadata": {},
   "source": [
    "Now, let us try to visualize confidence interval of 95% for given data. We have 25 points from sampling distribution of means (that is means of 25 samples). For each sample  mean, we caculated the range for 95% confidence interval using equation (2).\n",
    "\n",
    "Since we have 25 ranges for 95% confidence intervals, this means approximately 24 ( ~ 25 x .95) of these ranges will have true population mean in them. \n",
    "\n",
    "The following plot confirms this. Confidence interval corresponding to thick blue line doesn't contain true population mean. All other 24 intervals have population means in them. "
   ]
  },
  {
   "cell_type": "code",
   "execution_count": 282,
   "metadata": {},
   "outputs": [
    {
     "data": {
      "text/plain": [
       "<matplotlib.legend.Legend at 0xfa51a70>"
      ]
     },
     "execution_count": 282,
     "metadata": {},
     "output_type": "execute_result"
    },
    {
     "data": {
      "image/png": "[encoded data removed]",
      "text/plain": [
       "<matplotlib.figure.Figure at 0xf936530>"
      ]
     },
     "metadata": {},
     "output_type": "display_data"
    }
   ],
   "source": [
    "se = 2.95\n",
    "plt.style.use('seaborn')\n",
    "plt.figure(figsize = (8,6))\n",
    "plt.vlines(pop_mean,0,26, linestyles = '--', color = 'gray', lw = 1.5, label = 'population mean')\n",
    "for i, j in enumerate(l[:25],1):\n",
    "    a = j-(2*se)\n",
    "    b = j+(2*se)\n",
    "    if b >= pop_mean:\n",
    "        plt.hlines(i,a,b, lw =1)\n",
    "        plt.scatter(j,i, c = 'red', s = 15)\n",
    "    else:\n",
    "        plt.hlines(i,a,b, lw =2, color = 'blue')\n",
    "        plt.scatter(j,i, c = 'red', s = 18)\n",
    "\n",
    "plt.scatter([],[], c = 'red', s = 15, label = 'Sample mean')    \n",
    "plt.xlabel('mean')\n",
    "plt.ylabel('sample')\n",
    "plt.text(60,-2,'$\\mu = %.2f$' %pop_mean)\n",
    "plt.legend(scatterpoints = 1,frameon = False)    "
   ]
  },
  {
   "cell_type": "markdown",
   "metadata": {},
   "source": [
    "Earlier we plotted histogram for 200 samples taken from sampling distribution of means. It was evident that histogram approximately mimicked the normal distribution. \n",
    "\n",
    "Now, we'll repeat the process but this time with 100,000 samples."
   ]
  },
  {
   "cell_type": "code",
   "execution_count": 283,
   "metadata": {},
   "outputs": [],
   "source": [
    "l1 = []\n",
    "for i in range(100000):\n",
    "    a = np.mean(np.random.choice(x, 100))\n",
    "    l1.append(a)\n",
    "    "
   ]
  },
  {
   "cell_type": "code",
   "execution_count": 284,
   "metadata": {},
   "outputs": [
    {
     "data": {
      "image/png": "[encoded data removed]",
      "text/plain": [
       "<matplotlib.figure.Figure at 0xf93ff30>"
      ]
     },
     "metadata": {},
     "output_type": "display_data"
    }
   ],
   "source": [
    "plt.hist(l1, bins = 50);"
   ]
  },
  {
   "cell_type": "markdown",
   "metadata": {},
   "source": [
    "Earlier we plotted histogram for 200 samples. Here we have plotted histogram for 100,000 samples. It can be seen that in present case, histogram is resembling normal distribution far more accurately."
   ]
  },
  {
   "cell_type": "code",
   "execution_count": 285,
   "metadata": {},
   "outputs": [
    {
     "name": "stderr",
     "output_type": "stream",
     "text": [
      "C:\\miniconda3\\envs\\data\\lib\\site-packages\\scipy\\stats\\stats.py:1633: FutureWarning: Using a non-tuple sequence for multidimensional indexing is deprecated; use `arr[tuple(seq)]` instead of `arr[seq]`. In the future this will be interpreted as an array index, `arr[np.array(seq)]`, which will result either in an error or a different result.\n",
      "  return np.add.reduce(sorted[indexer] * weights, axis=axis) / sumval\n"
     ]
    },
    {
     "data": {
      "image/png": "[encoded data removed]",
      "text/plain": [
       "<matplotlib.figure.Figure at 0xc5598b0>"
      ]
     },
     "metadata": {},
     "output_type": "display_data"
    }
   ],
   "source": [
    "sns.distplot(l1, kde = True, rug = True, color = 'red');"
   ]
  },
  {
   "cell_type": "markdown",
   "metadata": {},
   "source": [
    "The preceeding discussions give us opportunity to introduce one more concept, known as **Central Limit Theorem.**\n",
    "\n",
    "<div class=\"alert alert-block alert-warning\">\n",
    "\n",
    "**Central Limit Theorem, informal description -**\n",
    "\n",
    "If a sample consists of at least 30 independent observations and the data are not strongly skewed, then the distribution of the sample mean is well approximated by a normal model.</div>\n",
    "\n",
    "\n",
    "The choice of using 2 standard errors in Equation (2) was based on our general guideline that roughly 95% of the time, observations are within two standard deviations of the mean. Under the normal model, we can make this more accurate by using 1.96 in place of 2.\n",
    "\n",
    "$$point\\;estimate\\;\\pm\\;1.96\\;*\\;SE\\ \\ \\ \\ \\ \\ \\ \\ \\ \\ \\  -\\;(eq3)$$"
   ]
  },
  {
   "cell_type": "code",
   "execution_count": 286,
   "metadata": {},
   "outputs": [
    {
     "data": {
      "text/plain": [
       "0.950004209703559"
      ]
     },
     "execution_count": 286,
     "metadata": {},
     "output_type": "execute_result"
    }
   ],
   "source": [
    "norm.cdf(1.96,0,1) - norm.cdf(-1.96,0,1) # 95% values will fall within 1.96 std from mean\n",
    "\n",
    "#This gives the intuition behind using 1.96 for 95% confidence interval"
   ]
  },
  {
   "cell_type": "code",
   "execution_count": 287,
   "metadata": {},
   "outputs": [
    {
     "data": {
      "text/plain": [
       "0.9901199684844586"
      ]
     },
     "execution_count": 287,
     "metadata": {},
     "output_type": "execute_result"
    }
   ],
   "source": [
    "norm.cdf(2.58,0,1) - norm.cdf(-2.58,0,1) # 2.58 for 99% confidence interval"
   ]
  },
  {
   "cell_type": "markdown",
   "metadata": {},
   "source": [
    "### Hypothesis Testing\n",
    "\n",
    "We have earlier generated a contrived example of population $x$. Let us assume this this data belong to year 2018. Let us generate a sample with 100 observation - "
   ]
  },
  {
   "cell_type": "code",
   "execution_count": 289,
   "metadata": {},
   "outputs": [
    {
     "data": {
      "text/plain": [
       "(49.67399729577116, 30.845287803026352, 3.084528780302635)"
      ]
     },
     "execution_count": 289,
     "metadata": {},
     "output_type": "execute_result"
    }
   ],
   "source": [
    "sam_18 = np.random.choice(x,100)\n",
    "sample_std = np.std(sam_18)\n",
    "sample_mean = np.mean(sam_18)\n",
    "s_e = sample_std/10\n",
    "sample_mean, sample_std, s_e            #Standard error when Population std dev not known so we use the sample std dev\n",
    "\n",
    "#Using sample std dev is viable if sample size is more than 30 and population distribution is not strongly skewed. "
   ]
  },
  {
   "cell_type": "markdown",
   "metadata": {},
   "source": [
    "Suppose we are told that data for year 2017 has the population mean of, say, 52. Now our claim is that there is no difference between 2017 population mean and 2018 population mean. How would you test this hypothesis? Assume that we only have access to 2018 sample data.   "
   ]
  },
  {
   "cell_type": "markdown",
   "metadata": {},
   "source": [
    " 95% Confidence interval for 2018 year sample -"
   ]
  },
  {
   "cell_type": "code",
   "execution_count": 290,
   "metadata": {},
   "outputs": [
    {
     "data": {
      "text/plain": [
       "(43.62832088637799, 55.719673705164325)"
      ]
     },
     "execution_count": 290,
     "metadata": {},
     "output_type": "execute_result"
    }
   ],
   "source": [
    "aa = sample_mean - (1.96*s_e)\n",
    "bb = sample_mean + (1.96*s_e)\n",
    "\n",
    "aa, bb"
   ]
  },
  {
   "cell_type": "markdown",
   "metadata": {},
   "source": [
    "Based on the question we are asked, we can develop two hypothesis -\n",
    "\n",
    " - $H_0$ : There is no difference between 2017 population mean and 2018 population mean.\n",
    " - $H_A$ : There is significant difference between 2017 population mean and 2018 population mean.\n",
    "\n",
    "We can also write these hypotheses in following ways - \n",
    "\n",
    " - $H_0$ : $\\mu_{18}$ = 52.\n",
    " - $H_A$ : $\\mu_{18}$ $\\neq$ 52\n",
    " \n",
    "$H_0$ is Null Hypothesis and $H_A$ is alternate hypothesis. \n",
    "\n",
    "For year 2018, we calculated 95% CI as (43.63, 55.71). Also, we have no access to 2018 population mean. We note that 2017 population mean (52) falls in above confidence interval. This means we can not *reject* our null hypothesis. (Failure to reject the null hypothesis doesn't mean null hypothesis is true).\n",
    "\n",
    "Note that this is **2-sided Hypothesis Testing**"
   ]
  },
  {
   "cell_type": "markdown",
   "metadata": {},
   "source": [
    "#### Decision Errors\n",
    "\n",
    "![](images/hypo.png)\n",
    "\n",
    "A **Type 1 Error** is rejecting the null hypothesis when $H_0$ is actually true. A **Type 2 Error** is failing to reject the null hypothesis when the alternative is actually true.\n",
    "\n",
    "Hypothesis testing is built around rejecting or failing to reject the null hypothesis. That is, we do not reject $H_0$ unless we have strong evidence. But what precisely does strong evidence mean? As a general rule of thumb, for those cases where the null hypothesis is actually true, we do not want to incorrectly reject $H_0$ more than 5% of the time. This\n",
    "corresponds to a **significance level** of 0.05. We often write the significance level using\n",
    "$\\alpha$ (the Greek letter alpha): $\\alpha$ = 0.05.\n",
    "\n",
    "If we use a 95% confidence interval to evaluate a hypothesis test where the null hypothesis is true, we will make an error whenever the point estimate is at least 1.96 standard errors away from the population parameter. This happens about 5% of the time (2.5% in each tail). Similarly, using a 99% confidence interval to evaluate a hypothesis is equivalent to a significance level of $\\alpha$ = 0.01.\n",
    "\n",
    "A confidence interval is, in one sense, simplistic in the world of hypothesis tests.\n",
    "Consider the following two scenarios:\n",
    "\n",
    " - The null value (the parameter value under the null hypothesis) is in the 95% confidence interval but just barely, so we would not reject H0. However, we might like to somehow say, quantitatively, that it was a close decision.\n",
    " - The null value is very far outside of the interval, so we reject $H_0$. However, we want to communicate that, not only did we reject the null hypothesis, but it wasn’t even close. such a case is shown below\n",
    " \n",
    " ![](images/hypo1.png)\n",
    " \n",
    " It would be helpful to quantify the strength of the evidence against the null hypothesis. In this case, the evidence is extremely strong."
   ]
  },
  {
   "cell_type": "markdown",
   "metadata": {},
   "source": [
    "#### Formal Testing Using `p-values`\n",
    "\n",
    "The `p-value` is a way of quantifying the strength of the evidence against the null hypothesis and in favor of the alternative. Formally the `p-value` is a conditional probability.\n",
    "\n",
    "<div class=\"alert alert-block alert-warning\">\n",
    "**p-value** - The `p-value` is the probability of observing data at least as favorable to the alternative\n",
    "hypothesis as our current data set, if the null hypothesis is true. We typically use a summary statistic of the data, in this chapter the sample mean, to help compute the `p-value` and evaluate the hypotheses.</div>\n",
    "\n",
    "***Example*** -  A pole found that college students average about 7 hours sleep per night. Researchers at a rural school are in interested in showing that students at their school sleep longer than 7 hours on average and they wish to demonstrate that using a sample of students from their school. \n",
    "\n",
    "We can set up the null hypothesis for this test as a skeptical perspective: the students at this school average 7 hours of sleep per night. The alternative hypothesis takes a new form reflecting the interests of the research: the students average more than 7 hours of sleep. We can write these hypotheses as - \n",
    "\n",
    " - $H_0 : \\mu\\;=$ 7\n",
    " - $H_A : \\mu\\;\\gt\\;$7\n",
    "\n",
    "<div class=\"alert alert-block alert-warning\">\n",
    "We will find it most useful if we always list the null hypothesis as an equality (e.g.\n",
    "μ = 7) while the alternative always uses an inequality (e.g. μ 6= 7, μ > 7, or μ < 7).</div>\n",
    "\n",
    "Using $\\mu$ > 7 as the alternative is an example of a one-sided hypothesis test. In this investigation, there is no apparent interest in learning whether the mean is less than 7 hours. Earlier we encountered a two-sided hypothesis where we looked for any clear difference, greater than or less than the null value. \n",
    "\n",
    "Back to our example. Researchers conducted a survey on random 110 students and found out their average sleep time was 7.42 hours with standard deviation 1.75 hours. \n",
    "\n",
    "The hypothesis test for the sleep study will be evaluated using a $significance\\;level$ of $\\alpha$ = 0.05. We want to consider the data under the scenario that the null hypothesis is true. In this case, the sample mean is from a distribution that is nearly normal and has mean 7 and standard deviation of about ${SE}_x$ = 0.17. (Recall that SE of mean is the standard deviation of sampling distribution of mean.)\n",
    "\n",
    "For $\\sigma_{sample}$ = 7.42, we calculate the $z\\;score$ - "
   ]
  },
  {
   "cell_type": "code",
   "execution_count": 342,
   "metadata": {},
   "outputs": [
    {
     "data": {
      "text/plain": [
       "2.470588235294117"
      ]
     },
     "execution_count": 342,
     "metadata": {},
     "output_type": "execute_result"
    }
   ],
   "source": [
    "z = (7.42-7)/.17\n",
    "z"
   ]
  },
  {
   "cell_type": "markdown",
   "metadata": {},
   "source": [
    "For given distribution, our sample mean is 2.47 standard deviations away from distribution mean (very far, actually). \n",
    "\n",
    "Now we wish to find the area of the region which lie between $x$ and $\\infty$ See below plot for clarity - "
   ]
  },
  {
   "cell_type": "code",
   "execution_count": 357,
   "metadata": {},
   "outputs": [
    {
     "data": {
      "text/plain": [
       "<matplotlib.collections.PolyCollection at 0xf6ec390>"
      ]
     },
     "execution_count": 357,
     "metadata": {},
     "output_type": "execute_result"
    },
    {
     "data": {
      "image/png": "[encoded data removed]",
      "text/plain": [
       "<matplotlib.figure.Figure at 0x109e49d0>"
      ]
     },
     "metadata": {},
     "output_type": "display_data"
    }
   ],
   "source": [
    "samp = np.random.normal(7,.17,500)\n",
    "plt.plot(np.sort(samp), norm.pdf(np.sort(samp), 7, .17))\n",
    "xx = np.linspace(7.42,8,50)\n",
    "plt.fill_between(xx, norm.pdf(xx,7,.17), 0)"
   ]
  },
  {
   "cell_type": "code",
   "execution_count": 359,
   "metadata": {},
   "outputs": [
    {
     "data": {
      "text/plain": [
       "0.007"
      ]
     },
     "execution_count": 359,
     "metadata": {},
     "output_type": "execute_result"
    }
   ],
   "source": [
    "area = 1 - norm.cdf(7.42,7,.17)\n",
    "round(area,3)"
   ]
  },
  {
   "cell_type": "markdown",
   "metadata": {},
   "source": [
    "The shaded area equals to .007. *If the null hypothesis is true, the probability of observing\n",
    "a sample mean at least as large as 7.42 hours for a sample of 110 students is only 0.007.* That is, if the null hypothesis is true, we would not often see such a large mean.\n",
    "\n",
    "The value we calculated as .007 is `p-value`. Because `p-value` (= .007) is less than significance level (= .05), we reject the null hypothesis. \n",
    "\n",
    "What we observed is so unusual with respect to the null hypothesis that it casts serious doubt on $H_0$ and provides strong evidence favoring $H_A$."
   ]
  },
  {
   "cell_type": "code",
   "execution_count": 376,
   "metadata": {},
   "outputs": [
    {
     "data": {
      "text/plain": [
       "(7.0868, 7.7532)"
      ]
     },
     "execution_count": 376,
     "metadata": {},
     "output_type": "execute_result"
    }
   ],
   "source": [
    "7.42-(1.96*.17),7.42+(1.96*.17) #95% confidence interval"
   ]
  },
  {
   "cell_type": "markdown",
   "metadata": {},
   "source": [
    "Again, population mean (= 7) barely touch the range of confidence interval. \n",
    "\n",
    "<div class=\"alert alert-block alert-warning\">\n",
    "`p-value` as a tool in hypothesis testing\n",
    "The smaller the `p-value`, the stronger the data favor $H_A$ over $H_0$. A small `p-value`\n",
    "(usually less than 0.05) corresponds to sufficient evidence to reject H0 in favor of HA. </div>\n",
    "\n",
    "Also -\n",
    "<div class=\"alert alert-block alert-warning\">\n",
    "It is useful to draw a picture of the distribution of $\\bar{x}$ as though $H_0$ was true\n",
    "(i.e. $\\mu$ equals the null value), and shade the region (or regions) of sample means\n",
    "that are at least as favorable to the alternative hypothesis. These shaded regions\n",
    "represent the `p-value`.</div>\n",
    "\n",
    "The ideas below review the process of evaluating hypothesis tests with `p-values`:\n",
    "\n",
    "  - The null hypothesis represents a skeptic’s position or a position of no di↵erence. We reject this position only if the evidence strongly favors $H_A$.\n",
    "  - A small p-value means that if the null hypothesis is true, there is a low probability of seeing a point estimate at least as extreme as the one we saw. We interpret this as strong evidence in favor of the alternative.\n",
    "  - We reject the null hypothesis if the `p-value` is smaller than the significance level,$\\alpha$, which is usually 0.05. Otherwise, we fail to reject $H_0$.\n",
    "  - We should always state the conclusion of the hypothesis test in plain language so non-statisticians can also understand the results."
   ]
  },
  {
   "cell_type": "markdown",
   "metadata": {},
   "source": [
    "#### 2-sided Hypothesis Testing with `p-value`s\n",
    "\n",
    "In preceeding example, we conducted 1-sided hypothesis testing. Now consider following example.\n",
    "\n",
    "***Example*** -  Earlier we were interested in the case of average sleep time being more than 7 hours. Now another group of researchers from a different college is interested in finding out if students from their college have average sleep time *different* from 7 hours. \n",
    "\n",
    "They also conducted a survey with a sample of 122 students and found the mean to be 6.83 hours with standard deviation of 1.8 hours. \n",
    "\n",
    "We can write following hypotheses for above problem - \n",
    "\n",
    " - $H_0 : \\mu\\;=$ 7\n",
    " - $H_A : \\mu\\;\\neq\\;$7"
   ]
  },
  {
   "cell_type": "code",
   "execution_count": 368,
   "metadata": {},
   "outputs": [
    {
     "data": {
      "text/plain": [
       "0.16296434287653336"
      ]
     },
     "execution_count": 368,
     "metadata": {},
     "output_type": "execute_result"
    }
   ],
   "source": [
    "se_2 = 1.8/np.sqrt(122)\n",
    "se_2 #standard error of mean"
   ]
  },
  {
   "cell_type": "code",
   "execution_count": 372,
   "metadata": {},
   "outputs": [
    {
     "data": {
      "text/plain": [
       "0.144004379001971"
      ]
     },
     "execution_count": 372,
     "metadata": {},
     "output_type": "execute_result"
    }
   ],
   "source": [
    "pv_1 = norm.cdf(6.83, 7, .16) #sampling distribution\n",
    "pv_1"
   ]
  },
  {
   "cell_type": "code",
   "execution_count": 373,
   "metadata": {},
   "outputs": [
    {
     "data": {
      "text/plain": [
       "0.288008758003942"
      ]
     },
     "execution_count": 373,
     "metadata": {},
     "output_type": "execute_result"
    }
   ],
   "source": [
    "pvalue = 2*pv_1\n",
    "pvalue"
   ]
  },
  {
   "cell_type": "markdown",
   "metadata": {},
   "source": [
    "This `p-value` (= .288) is relatively larger than significance level (= .05) so we shouldn't reject $H_0$. That is, if $H_0$ is true, it would not be very unusual to see a sample mean this far from 7 hours simply due to sampling variation. Thus, we do not have sufficient evidence to conclude that the mean is different than 7 hours. \n",
    "\n",
    "We can also see that the population mean (= 7 hrs) falls comfortably within the range of 95% confidence interval. "
   ]
  },
  {
   "cell_type": "code",
   "execution_count": 375,
   "metadata": {},
   "outputs": [
    {
     "data": {
      "text/plain": [
       "(6.5164, 7.1436)"
      ]
     },
     "execution_count": 375,
     "metadata": {},
     "output_type": "execute_result"
    }
   ],
   "source": [
    "6.83-(1.96*.16),6.83+(1.96*.16)"
   ]
  },
  {
   "cell_type": "markdown",
   "metadata": {},
   "source": [
    "#### Choosing a Significance Level\n",
    "\n",
    "Choosing a significance level for a test is important in many contexts, and the traditional level is 0.05. However, it is often helpful to adjust the significance level based on the application. \n",
    "\n",
    "If making a Type 1 Error is dangerous or especially costly, we should choose a small significance level (e.g. 0.01). Under this scenario we want to be very cautious about rejecting the null hypothesis, so we demand very strong evidence favoring \n",
    "$H_A$ before we would reject $H_0$.\n",
    "\n",
    "If a Type 2 Error is relatively more dangerous or much more costly than a Type 1 Error, then we should choose a higher significance level (e.g. 0.10). Here we want to be cautious about failing to reject $H_0$ when the null is actually false.\n",
    "\n",
    ">The significance level selected for a test should reflect the consequences associated with Type 1 and Type 2 Errors.\n"
   ]
  },
  {
   "cell_type": "markdown",
   "metadata": {},
   "source": [
    "# Inference for Numerical Data\n",
    "\n",
    "Based on chapter 5 of OpenIntro Statistics book"
   ]
  },
  {
   "cell_type": "markdown",
   "metadata": {},
   "source": [
    "We required a large sample in Chapter 4 for two reasons:\n",
    "\n",
    " -  The sampling distribution of $\\bar{x}$ tends to be more normal when the sample is large.\n",
    " -  The calculated standard error is typically very accurate when using a large sample.\n",
    " \n",
    "But it is not always the case when we have sample size big enough.\n",
    "\n",
    "If the population data are nearly normal, then $\\bar{x}$ will also follow a normal distribution, which\n",
    "addresses the first problem. The accuracy of the standard error is trickier for small sample size, and for this\n",
    "challenge we’ll introduce a new distribution called the **t-distribution**.\n",
    "\n",
    "Earlier, for normal model, we used the following formula to calculate the 95% confidence interval -\n",
    "\n",
    "$$point\\;estimate\\;\\pm\\;z_{95}*SE$$\n",
    "\n",
    "We revise the above formula with slight modification -\n",
    "\n",
    "$$point\\;estimate\\;\\pm\\;t_{df,95}*SE$$\n",
    "\n",
    "In a sense, both formulae are exactly the same except for one difference: in former case, the distribution was normal while in later case, the distribution is t-distribution. \n",
    "\n",
    "Consider following data -\n",
    "\n",
    "|n|$\\bar{x}$|std|min|max|\n",
    "|---|----|---|----|----|\n",
    "|19|4.4|2.3|1.7|9.2|\n",
    "\n"
   ]
  },
  {
   "cell_type": "code",
   "execution_count": 412,
   "metadata": {},
   "outputs": [
    {
     "data": {
      "text/plain": [
       "0.527656187902292"
      ]
     },
     "execution_count": 412,
     "metadata": {},
     "output_type": "execute_result"
    }
   ],
   "source": [
    "se_t = 2.3/np.sqrt(19)\n",
    "se_t"
   ]
  },
  {
   "cell_type": "markdown",
   "metadata": {},
   "source": [
    "Now we find the value of $t_{df,95}$ - "
   ]
  },
  {
   "cell_type": "code",
   "execution_count": 414,
   "metadata": {},
   "outputs": [
    {
     "data": {
      "text/plain": [
       "2.10092204024096"
      ]
     },
     "execution_count": 414,
     "metadata": {},
     "output_type": "execute_result"
    }
   ],
   "source": [
    "from scipy.stats import t\n",
    "t.isf(.025,18) #.025 for each tail -> .05 for both tails. 18= dof"
   ]
  },
  {
   "cell_type": "markdown",
   "metadata": {},
   "source": [
    "Our 95% confidence interval would be - "
   ]
  },
  {
   "cell_type": "code",
   "execution_count": 418,
   "metadata": {},
   "outputs": [
    {
     "data": {
      "text/plain": [
       "(3.291922005405187, 5.508077994594814)"
      ]
     },
     "execution_count": 418,
     "metadata": {},
     "output_type": "execute_result"
    }
   ],
   "source": [
    "4.4-(2.1*se_t),4.4+(2.1*se_t)"
   ]
  },
  {
   "cell_type": "markdown",
   "metadata": {},
   "source": [
    "#### One Sample t-test\n",
    "\n",
    "`t-test` is very similar to the hpyothesis test we saw earlier. In both test, we calculate the `p-value` and compare it with significance level. But there is one point to be noted. Unlike normal distribution, which can have any mean and std, t- distribution always have 0 mean and $\\frac{df}{df-2}$ (for $df$ >2). So, in normal distribution, we could calculate the `z-score` and use it to find relevant from normal probability table. Or one can directly `norm.cdf` function to calculate `p-value`\n",
    "\n",
    "But `t-distribution` is always centered around mean = 0, so we first need to calculate the `t-score` and then use it to calculate `p-value` by using `t.cdf` or `t.sf`\n",
    "\n",
    "**Example**\n",
    "The average time for all runners who finished the Cherry Blossom Race in 2006 was 93.29 minutes. The sample mean and sample standard deviation of the sample of 100 runners from the 2012 Cherry Blossom Race are 95.61 and 15.78 minutes,\n",
    "respectively. Recall that the sample size is 100. We're interested in difference between means of both years. What is the `p-value` for the test, and what is your conclusion?\n",
    "\n",
    "**Discussion** We can write hypotheses as follows - \n",
    "\n",
    "$H_0$: The average 10 mile run time was the same for 2006 and 2012. $\\mu$ = 93.29 minutes.\n",
    "\n",
    "$H_A$: The average 10 mile run time for 2012 was di↵erent than that of 2006. $\\mu\\;\\neq$ 93.29 minutes."
   ]
  },
  {
   "cell_type": "code",
   "execution_count": 424,
   "metadata": {},
   "outputs": [
    {
     "data": {
      "text/plain": [
       "0.14467449109616456"
      ]
     },
     "execution_count": 424,
     "metadata": {},
     "output_type": "execute_result"
    }
   ],
   "source": [
    "se_run = 15.78/10\n",
    "t_score = (95.61-93.29)/se_run\n",
    "\n",
    "pv = t.sf(t_score,99)\n",
    "pv*2"
   ]
  },
  {
   "cell_type": "markdown",
   "metadata": {},
   "source": [
    "The `p-value` is 0.1447. Because the `p-value` is greater than 0.05, we do not reject the null hypothesis. That is, the data do not provide strong evidence that the average run time for the Cherry Blossom Run in 2012 is any di↵erent than the 2006 average."
   ]
  },
  {
   "cell_type": "markdown",
   "metadata": {},
   "source": [
    "#### Inference for Paired data\n",
    "\n",
    "Suppose we have a list of books and we want to compare their prices from Amazon and a local bookstore. We can prepare the following table - \n",
    "\n",
    "|Book|Bookstore price|Amazon Price|Bookstore-Amazon diff|\n",
    "|----|---------------|------------|---------------------|\n",
    "|Book1|27.67|27.95|-0.28|\n",
    "|Book2|40.59|31.64|9.45|\n",
    "|..|..|..|..|\n",
    "\n",
    "From this data, we can prepare following data - \n",
    "\n",
    "|$n_{diff}$|$\\bar{x}_{diff}$|$s_{diff}$|\n",
    "|-------|-------|----------|\n",
    "|73|12.76|14.26|\n",
    "\n",
    "Now we want to determine whether, on average, there is a di↵erence between Amazon’s price for a book and the bookstore’s price. We write following hypotheses -\n",
    "\n",
    "$H_0$: $\\mu_{diff}\\;=0$ . There is no di↵erence in the average textbook price.\n",
    "\n",
    "$H_A$: $\\mu_{diff}\\;\\neq0$ . There is a di↵erence in average prices."
   ]
  },
  {
   "cell_type": "code",
   "execution_count": 425,
   "metadata": {},
   "outputs": [
    {
     "data": {
      "text/plain": [
       "7.645265623439809"
      ]
     },
     "execution_count": 425,
     "metadata": {},
     "output_type": "execute_result"
    }
   ],
   "source": [
    "ste = 14.26/np.sqrt(73)        #standard error\n",
    "tsc = (12.76-0)/ste            #notice mean diff for null hypothesis is 0\n",
    "tsc"
   ]
  },
  {
   "cell_type": "code",
   "execution_count": 428,
   "metadata": {},
   "outputs": [
    {
     "data": {
      "text/plain": [
       "7.032497838235506e-11"
      ]
     },
     "execution_count": 428,
     "metadata": {},
     "output_type": "execute_result"
    }
   ],
   "source": [
    "pval = t.sf(tsc, 72)\n",
    "pval*2"
   ]
  },
  {
   "cell_type": "markdown",
   "metadata": {},
   "source": [
    "The `p-value` we calculated above is very very small. Since it is less than .05, we reject the null hypothesis. \n",
    "\n",
    "The 95% confidence interval will be as follows - \n",
    "\n"
   ]
  },
  {
   "cell_type": "code",
   "execution_count": 430,
   "metadata": {},
   "outputs": [
    {
     "data": {
      "text/plain": [
       "1.9934635662785831"
      ]
     },
     "execution_count": 430,
     "metadata": {},
     "output_type": "execute_result"
    }
   ],
   "source": [
    "t.isf(.025,72) #t_{df,95}"
   ]
  },
  {
   "cell_type": "code",
   "execution_count": 431,
   "metadata": {},
   "outputs": [
    {
     "data": {
      "text/plain": [
       "(9.438676549556524, 16.081323450443477)"
      ]
     },
     "execution_count": 431,
     "metadata": {},
     "output_type": "execute_result"
    }
   ],
   "source": [
    "12.76-(1.99*ste),12.76+(1.99*ste)"
   ]
  },
  {
   "cell_type": "markdown",
   "metadata": {},
   "source": [
    "We are 95% confident that Amazon is, on average, between USD 9.44 and USD 16.08 cheaper than the bookstore."
   ]
  },
  {
   "cell_type": "markdown",
   "metadata": {},
   "source": [
    "#### Difference of Two Means\n",
    "\n",
    "Here we consider the difference in two population means, $\\mu_1-\\mu_2$, under the condition that data is not paired. We'll use t-distribution with a point estimate of the difference $\\bar{x}_1-\\bar{x}_2$.\n",
    "\n",
    "This section is motivated by questions like “Is there convincing evidence that newborns from mothers who smoke have a different average birth weight than newborns from mothers who don’t smoke?”\n",
    "\n",
    " - **Confidence Interval for a difference of 2 means**\n",
    "\n",
    "We want to study the efficacy of of a treatment known as **ESC** vis a vis traditiona treatment for heart related issues. For this we measure heart's pumping capacity before and after the treatment. Positive value means increased capacity which is taken as a sign of improved condition. Now we came up with following stats - \n",
    "\n",
    "|Group|$n$|$\\bar{x}$|$s$|\n",
    "|-----|---|---------|---|\n",
    "|ESCs|9|3.50|5.17|\n",
    "|Control|9|-4.33|2.76|\n",
    "\n",
    "Note that control group is usually the group against which we wish to compare something 'interesting'.\n",
    "\n",
    "The sample di↵erence of two means, $\\bar{x}_1-\\bar{x}_2$, can be modeled using the tdistribution\n",
    "and the standard error - \n",
    "\n",
    "$$\\color{blue}{SE_{\\bar{x}_1-\\bar{x}_2} = \\sqrt{\\frac{s_1^2}{n_1}+\\frac{s_2^2}{n_2}}}$$\n",
    "\n",
    "when each sample mean can itself be modeled using a t-distribution and the samples are independent. To calculate the degrees of freedom, use statistical software or the smaller of ${n_1}-1$ and ${n_2}-1$ ."
   ]
  },
  {
   "cell_type": "code",
   "execution_count": 443,
   "metadata": {},
   "outputs": [
    {
     "data": {
      "text/plain": [
       "1.953529569209992"
      ]
     },
     "execution_count": 443,
     "metadata": {},
     "output_type": "execute_result"
    }
   ],
   "source": [
    "s_e = np.sqrt(((5.17)**2)/9+((2.76)**2)/9)\n",
    "s_e"
   ]
  },
  {
   "cell_type": "code",
   "execution_count": 444,
   "metadata": {},
   "outputs": [
    {
     "data": {
      "text/plain": [
       "2.306004135033371"
      ]
     },
     "execution_count": 444,
     "metadata": {},
     "output_type": "execute_result"
    }
   ],
   "source": [
    "t.isf(.025,8) #t_{df,8}"
   ]
  },
  {
   "cell_type": "markdown",
   "metadata": {},
   "source": [
    "95% Confidence interval -"
   ]
  },
  {
   "cell_type": "code",
   "execution_count": 446,
   "metadata": {},
   "outputs": [
    {
     "data": {
      "text/plain": [
       "(3.3368819908170186, 12.32311800918298)"
      ]
     },
     "execution_count": 446,
     "metadata": {},
     "output_type": "execute_result"
    }
   ],
   "source": [
    "x1x2 = 3.50-(-4.33)\n",
    "\n",
    "x1x2 - 2.3*(s_e),x1x2 + 2.3*(s_e)"
   ]
  },
  {
   "cell_type": "markdown",
   "metadata": {},
   "source": [
    "We are 95% confident that embryonic stem cells (ESCs) improve the heart’s pumping function\n",
    "in sheep that have su↵ered a heart attack by 3.32% to 12.34%.\n",
    "\n",
    "???How do I find exact value of dof for above case???"
   ]
  },
  {
   "cell_type": "markdown",
   "metadata": {},
   "source": [
    " - **Hypothesis Tests based on a difference of in Means**"
   ]
  },
  {
   "cell_type": "markdown",
   "metadata": {},
   "source": [
    "**Note**\n",
    "\n",
    "Rest of the chapter has been skipped"
   ]
  },
  {
   "cell_type": "markdown",
   "metadata": {},
   "source": [
    "# Inference for Categorical Data\n",
    "\n",
    "Based on Chapter 6 of OpenIntro Statistics"
   ]
  },
  {
   "cell_type": "markdown",
   "metadata": {},
   "source": [
    "A sample proportion can be described as a sample mean. If we represent each “success” as a `1` and each “failure” as a `0`, then the sample proportion is the mean of these numerical outcomes:\n",
    "\n",
    "$$\\color{blue}{\\hat{p} =\\frac{0+1+1+0+1+0+---+1}{n}}$$\n",
    "\n",
    "The distribution of $\\hat{p}$ is nearly normal when the distribution of `0`’s and `1`’s is not too strongly skewed for the sample size. The most common guideline for sample size and skew when working with proportions is to ensure that we expect to observe a minimum number of successes (`1`’s) and failures (`0`’s), typically at least 10 of each. \n",
    "\n",
    "If\n",
    "\n",
    " - sample observations are independent, and\n",
    " - we see at least 10 cases of both `1`s and `0`s in our sample\n",
    " \n",
    "then sampling distribution of $\\hat{p}$ is nearly normal with the mean $p$ and and standard error\n",
    "\n",
    "$$\\color{blue}{SE_p = \\sqrt{\\frac{p(1-p)}{n}}}$$\n",
    "\n",
    "\n",
    "Typically we don’t know the true proportion, $p$, so we substitute some value to check\n",
    "conditions and to estimate the standard error. For confidence intervals, usually the sample\n",
    "proportion $\\hat{p}$ is used to check the success-failure condition and compute the standard error.\n",
    "For hypothesis tests, typically the null value – that is, the proportion claimed in the null\n",
    "hypothesis – is used in place of $p$."
   ]
  },
  {
   "cell_type": "markdown",
   "metadata": {},
   "source": [
    "#### Confidence Interval for a Proportion\n",
    "\n",
    "During Ebola virus outbreak, a doctor in New York city who had been treating Ebola patients was subsequently diagnosed with Ebola. Soon thereafter, a survey found that 82% respondents (out of 1042 participants) favored the 21-day mandatory  quarantine for any one who has come into contact with a Ebola patient.\n",
    "\n",
    "In this case, our point estimate is sampling proportion, $\\hat{p}$, with value of .82 for sample size of 1042.\n",
    "\n",
    "Let us caculate the standard error of proportion - \n"
   ]
  },
  {
   "cell_type": "code",
   "execution_count": 441,
   "metadata": {},
   "outputs": [
    {
     "data": {
      "text/plain": [
       "0.011901708775845125"
      ]
     },
     "execution_count": 441,
     "metadata": {},
     "output_type": "execute_result"
    }
   ],
   "source": [
    "sep = np.sqrt((.82*(1-.82))/1042)\n",
    "sep"
   ]
  },
  {
   "cell_type": "markdown",
   "metadata": {},
   "source": [
    "Now we can calculate the 95% confidence interval using the formula from chapter 4 - "
   ]
  },
  {
   "cell_type": "code",
   "execution_count": 442,
   "metadata": {},
   "outputs": [
    {
     "data": {
      "text/plain": [
       "(0.7966726507993435, 0.8433273492006564)"
      ]
     },
     "execution_count": 442,
     "metadata": {},
     "output_type": "execute_result"
    }
   ],
   "source": [
    ".82- (1.96*sep),.82+(1.96*sep)"
   ]
  },
  {
   "cell_type": "markdown",
   "metadata": {},
   "source": [
    "So we are 95% sure that the true proportion of New York adults who favored mandatory quarantine was between 79.67% to 84.33%."
   ]
  },
  {
   "cell_type": "markdown",
   "metadata": {},
   "source": [
    "#### Hypothesis Testing for a proportion\n"
   ]
  },
  {
   "cell_type": "code",
   "execution_count": null,
   "metadata": {
    "collapsed": true
   },
   "outputs": [],
   "source": []
  },
  {
   "cell_type": "code",
   "execution_count": null,
   "metadata": {
    "collapsed": true
   },
   "outputs": [],
   "source": []
  }
 ],
 "metadata": {
  "kernelspec": {
   "display_name": "Python 3",
   "language": "python",
   "name": "python3"
  },
  "language_info": {
   "codemirror_mode": {
    "name": "ipython",
    "version": 3
   },
   "file_extension": ".py",
   "mimetype": "text/x-python",
   "name": "python",
   "nbconvert_exporter": "python",
   "pygments_lexer": "ipython3",
   "version": "3.6.3"
  }
 },
 "nbformat": 4,
 "nbformat_minor": 2
}
