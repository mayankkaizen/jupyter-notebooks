{
 "cells": [
  {
   "cell_type": "code",
   "execution_count": 3,
   "id": "f0137d08",
   "metadata": {},
   "outputs": [],
   "source": [
    "#generic imports\n",
    "%matplotlib inline\n",
    "import numpy as np\n",
    "import pandas as pd\n",
    "import matplotlib.pyplot as plt\n",
    "import seaborn as sns\n",
    "sns.set()"
   ]
  },
  {
   "cell_type": "markdown",
   "id": "bb175ed2",
   "metadata": {},
   "source": [
    "### Getting Help: \n",
    "\n",
    "`numpy.lookfor(what, module=None, import_modules=True, regenerate=False, output=None)`\n",
    "\n",
    "`numpy.info(object=None, maxwidth=76, output=<_io.TextIOWrapper name='<stdout>' mode='w' encoding='utf-8'>, toplevel='numpy')`\n",
    "\n",
    "When used interactively with an object, `np.info(obj)` is equivalent to `help(obj)` on the Python prompt or `obj?` on the IPython prompt.\n",
    "\n",
    "`numpy.source(object, output=<_io.TextIOWrapper name='<stdout>' mode='w' encoding='utf-8'>)`\n",
    "\n",
    "This works only when source is Python code. "
   ]
  },
  {
   "cell_type": "code",
   "execution_count": null,
   "id": "a5852464",
   "metadata": {},
   "outputs": [],
   "source": [
    "np.lookfor('dot')"
   ]
  },
  {
   "cell_type": "code",
   "execution_count": null,
   "id": "0189004d",
   "metadata": {},
   "outputs": [],
   "source": [
    "np.info(np.dot)"
   ]
  },
  {
   "cell_type": "code",
   "execution_count": null,
   "id": "1958d2ee",
   "metadata": {},
   "outputs": [],
   "source": [
    "np.source(np.interp)"
   ]
  },
  {
   "cell_type": "markdown",
   "id": "3d195125",
   "metadata": {},
   "source": [
    " - [About Numpy Arrays](http://localhost:8888/notebooks/My%20notebooks/Python/Python%20Basics/Python%20Numpy%20.ipynb#About-Numpy-Arrays)\n",
    " \n",
    " - Array Creations\n",
    " \n",
    " - Indexing, Slicing and Iteration\n",
    " \n",
    " - Array Stacking and Splitting\n",
    " \n",
    " - Broadcasting\n",
    " \n",
    " - Some Useful Tricks\n",
    " \n",
    " - Universal Functions\n",
    " \n",
    " - Aggregation and Statistical functions\n",
    " \n",
    " - Sorting and Searching\n",
    " \n",
    " - Miscellaneous Functions"
   ]
  },
  {
   "cell_type": "markdown",
   "id": "b7f1a33e",
   "metadata": {},
   "source": [
    "### About Numpy Arrays\n",
    "\n",
    "In Python, you have `list` type. In NumPy, you have `ndarray` type. However, unlike Python lists, `ndarray` are vastly fast, versatile and efficient.  \n",
    "\n",
    "NumPy’s main object (`ndarray`) is the homogeneous multidimensional array. It is a table of elements (usually numbers), all of the same type, indexed by a tuple of non-negative integers. In NumPy dimensions are called axes. The `ndarray` is also known by its alias `array`.\n",
    "\n",
    "Examples of NumPy arrays - "
   ]
  },
  {
   "cell_type": "code",
   "execution_count": 7,
   "id": "497ed6fc",
   "metadata": {},
   "outputs": [
    {
     "data": {
      "text/plain": [
       "array([1, 2, 3])"
      ]
     },
     "execution_count": 7,
     "metadata": {},
     "output_type": "execute_result"
    }
   ],
   "source": [
    "foo = np.array([1,2,3])  # 1-dimensional array\n",
    "foo"
   ]
  },
  {
   "cell_type": "code",
   "execution_count": 9,
   "id": "14ecf2c7",
   "metadata": {},
   "outputs": [
    {
     "data": {
      "text/plain": [
       "array([[1, 2, 3],\n",
       "       [4, 5, 6]])"
      ]
     },
     "execution_count": 9,
     "metadata": {},
     "output_type": "execute_result"
    }
   ],
   "source": [
    "bar = np.array([[1,2,3],[4,5,6]])   #2-dimensional array\n",
    "bar"
   ]
  },
  {
   "cell_type": "code",
   "execution_count": 13,
   "id": "85649804",
   "metadata": {},
   "outputs": [
    {
     "data": {
      "text/plain": [
       "array([[[1, 2, 3],\n",
       "        [4, 5, 6],\n",
       "        [7, 8, 9]],\n",
       "\n",
       "       [[1, 3, 5],\n",
       "        [2, 4, 6],\n",
       "        [7, 8, 9]],\n",
       "\n",
       "       [[9, 8, 7],\n",
       "        [6, 5, 4],\n",
       "        [3, 2, 1]]])"
      ]
     },
     "execution_count": 13,
     "metadata": {},
     "output_type": "execute_result"
    }
   ],
   "source": [
    "baz = np.array([[[1,2,3],[4,5,6],[7,8,9]],[[1,3,5],[2,4,6],[7,8,9]],[[9,8,7],[6,5,4],[3,2,1]]])  #3-dimensional array\n",
    "baz"
   ]
  },
  {
   "cell_type": "markdown",
   "id": "d9eab2d8",
   "metadata": {},
   "source": [
    "#### Attributes of NumPy arrays\n",
    "\n",
    "#### `ndarray.ndim`\n",
    "\n",
    "Number of dimensions (axes). Notice the count of opening square brackets in printed arrays.\n"
   ]
  },
  {
   "cell_type": "code",
   "execution_count": 15,
   "id": "b1aa1d95",
   "metadata": {},
   "outputs": [
    {
     "name": "stdout",
     "output_type": "stream",
     "text": [
      "1\n",
      "2\n",
      "3\n"
     ]
    }
   ],
   "source": [
    "print(foo.ndim), print(bar.ndim), print(baz.ndim);"
   ]
  },
  {
   "cell_type": "markdown",
   "id": "47a931ef",
   "metadata": {},
   "source": [
    "#### `ndarray.shape`\n",
    "\n",
    "the dimensions of the array. This is a tuple of integers indicating the size of the array in each dimension. For a matrix with *n* rows and *m* columns, `shape` will be `(n,m)`. The length of the `shape` tuple is therefore the number of axes, `ndim`."
   ]
  },
  {
   "cell_type": "code",
   "execution_count": 17,
   "id": "f214bbeb",
   "metadata": {},
   "outputs": [
    {
     "name": "stdout",
     "output_type": "stream",
     "text": [
      "(3,)\n",
      "(2, 3)\n",
      "(3, 3, 3)\n"
     ]
    }
   ],
   "source": [
    "print(foo.shape), print(bar.shape), print(baz.shape);"
   ]
  },
  {
   "cell_type": "markdown",
   "id": "f2bb8285",
   "metadata": {},
   "source": [
    "#### `ndarray.size`\n",
    "\n",
    "The total number of elements of the array. This is equal to the product of the elements of `shape`.\n"
   ]
  },
  {
   "cell_type": "code",
   "execution_count": 22,
   "id": "812fc45c",
   "metadata": {},
   "outputs": [
    {
     "name": "stdout",
     "output_type": "stream",
     "text": [
      "3\n",
      "6\n",
      "27\n"
     ]
    }
   ],
   "source": [
    "print(foo.size), print(bar.size), print(baz.size);"
   ]
  },
  {
   "cell_type": "markdown",
   "id": "ba607703",
   "metadata": {},
   "source": [
    "#### `ndarray.dtype`\n",
    "\n",
    "An object describing the type of the elements in the array. One can create or specify dtype’s using standard Python types. Additionally NumPy provides types of its own. `numpy.int32`, `numpy.int16`, and `numpy.float64` are some examples.\n"
   ]
  },
  {
   "cell_type": "code",
   "execution_count": 19,
   "id": "38e11703",
   "metadata": {},
   "outputs": [
    {
     "name": "stdout",
     "output_type": "stream",
     "text": [
      "int32\n",
      "int32\n",
      "int32\n"
     ]
    }
   ],
   "source": [
    "print(foo.dtype), print(bar.dtype), print(baz.dtype);"
   ]
  },
  {
   "cell_type": "markdown",
   "id": "87cb40b4",
   "metadata": {},
   "source": [
    "#### `ndarray.itemsize`\n",
    "\n",
    "The size in bytes of each element of the array. For example, an array of elements of type `float64` has itemsize 8 (=64/8), while one of type `complex32` has itemsize 4 (=32/8). It is equivalent to `ndarray.dtype.itemsize`.\n"
   ]
  },
  {
   "cell_type": "code",
   "execution_count": 20,
   "id": "fdc2fe10",
   "metadata": {},
   "outputs": [
    {
     "name": "stdout",
     "output_type": "stream",
     "text": [
      "4\n",
      "4\n",
      "4\n"
     ]
    }
   ],
   "source": [
    "print(foo.itemsize), print(bar.itemsize), print(baz.itemsize);"
   ]
  },
  {
   "cell_type": "markdown",
   "id": "1cd1db5b",
   "metadata": {},
   "source": [
    "#### `ndarray.data`\n",
    "\n",
    "the buffer containing the actual elements of the array. Normally, we won’t need to use this attribute because we will access the elements in an array using indexing facilities."
   ]
  },
  {
   "cell_type": "code",
   "execution_count": 21,
   "id": "bb2a0bd4",
   "metadata": {},
   "outputs": [
    {
     "name": "stdout",
     "output_type": "stream",
     "text": [
      "<memory at 0x0000008879240400>\n",
      "<memory at 0x000000887922BE10>\n",
      "<memory at 0x0000008879257220>\n"
     ]
    }
   ],
   "source": [
    "print(foo.data), print(bar.data), print(baz.data);"
   ]
  },
  {
   "cell_type": "markdown",
   "id": "77d2a43e",
   "metadata": {},
   "source": [
    "#### Axes or Dimensions\n",
    "\n",
    "In numPy, axis ordering follows `zyx` convention. Visually, it means that for a 2D array where the horizontal axis is `x` and the vertical axis is `y`:\n",
    "\n",
    "```\n",
    "    x -->\n",
    "y      0   1   2\n",
    "|  0 [[1., 0., 0.],\n",
    "V  1  [0., 1., 2.]]\n",
    "```\n",
    "\n",
    "The shape of this array is `(2, 3)` because it is ordered `(y, x)`, with the first axis `y` of length `2`.\n",
    "\n",
    "Another example of 3-D array - "
   ]
  },
  {
   "cell_type": "code",
   "execution_count": 158,
   "id": "3b15496a",
   "metadata": {},
   "outputs": [
    {
     "data": {
      "text/plain": [
       "array([[[ 0,  1,  2,  3],\n",
       "        [ 4,  5,  6,  7],\n",
       "        [ 8,  9, 10, 11]],\n",
       "\n",
       "       [[12, 13, 14, 15],\n",
       "        [16, 17, 18, 19],\n",
       "        [20, 21, 22, 23]]])"
      ]
     },
     "execution_count": 158,
     "metadata": {},
     "output_type": "execute_result"
    }
   ],
   "source": [
    "X3 = np.arange(24).reshape(2,3,4)\n",
    "X3"
   ]
  },
  {
   "cell_type": "code",
   "execution_count": 159,
   "id": "0c7e245b",
   "metadata": {},
   "outputs": [
    {
     "data": {
      "text/plain": [
       "(2, 3, 4)"
      ]
     },
     "execution_count": 159,
     "metadata": {},
     "output_type": "execute_result"
    }
   ],
   "source": [
    "X3.shape"
   ]
  },
  {
   "cell_type": "markdown",
   "id": "01be2dae",
   "metadata": {},
   "source": [
    "Since this is 3-dimensional array, it has 3 axes or dimensions. The first axis has length 2 which means it has 2 elements. If you notice the `X3` array, you'll see two 3\\*3 matrices stacked up and separated by a blank line. These 2 sub-arrays are the elements along first axis. The second dimension has length 3. This length represents the 3 rows in each elements of first dimension. Similarily, the last dimension has length 4 which represents columns. \n",
    "\n",
    "In many situations, we usually want to do computation along a given axis. For example -  "
   ]
  },
  {
   "cell_type": "code",
   "execution_count": 161,
   "id": "71cc1b09",
   "metadata": {},
   "outputs": [
    {
     "data": {
      "text/plain": [
       "array([[0, 1, 2],\n",
       "       [3, 4, 5],\n",
       "       [6, 7, 8]])"
      ]
     },
     "execution_count": 161,
     "metadata": {},
     "output_type": "execute_result"
    }
   ],
   "source": [
    "a = np.arange(9).reshape(3,3)\n",
    "a"
   ]
  },
  {
   "cell_type": "code",
   "execution_count": 162,
   "id": "8048cbd6",
   "metadata": {},
   "outputs": [
    {
     "data": {
      "text/plain": [
       "array([0, 1, 2])"
      ]
     },
     "execution_count": 162,
     "metadata": {},
     "output_type": "execute_result"
    }
   ],
   "source": [
    "np.min(a, axis = 0)"
   ]
  },
  {
   "cell_type": "markdown",
   "id": "28e2acf5",
   "metadata": {},
   "source": [
    "Here `axis = 0` refers to first dimension (rows for our example). This means move along `x` axis and find the minimum value in each column. "
   ]
  },
  {
   "cell_type": "code",
   "execution_count": 163,
   "id": "c33a6041",
   "metadata": {},
   "outputs": [
    {
     "data": {
      "text/plain": [
       "array([ 3, 12, 21])"
      ]
     },
     "execution_count": 163,
     "metadata": {},
     "output_type": "execute_result"
    }
   ],
   "source": [
    "np.sum(a, axis = 1)"
   ]
  },
  {
   "cell_type": "markdown",
   "id": "d2cc77f4",
   "metadata": {},
   "source": [
    "In above case, `axis = 1` means move along `y` axis and calculate the sum for each row you encounter. "
   ]
  },
  {
   "cell_type": "code",
   "execution_count": 173,
   "id": "a18dda3e",
   "metadata": {},
   "outputs": [
    {
     "data": {
      "text/plain": [
       "array([[0, 5, 3],\n",
       "       [5, 9, 6],\n",
       "       [4, 9, 8]])"
      ]
     },
     "execution_count": 173,
     "metadata": {},
     "output_type": "execute_result"
    }
   ],
   "source": [
    "a  = np.random.randint(10,size=(3,3))"
   ]
  },
  {
   "cell_type": "code",
   "execution_count": 182,
   "id": "ad8329b8",
   "metadata": {},
   "outputs": [
    {
     "data": {
      "text/plain": [
       "(array([[0, 5, 3],\n",
       "        [4, 9, 6],\n",
       "        [5, 9, 8]]),\n",
       " array([[0, 3, 5],\n",
       "        [5, 6, 9],\n",
       "        [4, 8, 9]]))"
      ]
     },
     "execution_count": 182,
     "metadata": {},
     "output_type": "execute_result"
    }
   ],
   "source": [
    "np.sort(a, axis = 0) ,np.sort(a, axis = 1)"
   ]
  },
  {
   "cell_type": "markdown",
   "id": "3a07679b",
   "metadata": {},
   "source": [
    "See above example. When `axis` was set to `0`, we move along first axis (x-axis) and sort each column we encounter. Similarily in case of `axis = 1`, we move along 2 axis (y axis) and sort each row we encounter.   "
   ]
  },
  {
   "cell_type": "markdown",
   "id": "addcdd5a",
   "metadata": {},
   "source": [
    "#### Printing arrays\n",
    "\n",
    "When you print an array, NumPy displays it in a similar way to nested lists, but with the following layout:\n",
    "\n",
    " - the last axis is printed from left to right,\n",
    "\n",
    " - the second-to-last is printed from top to bottom,\n",
    "\n",
    " - the rest are also printed from top to bottom, with each slice separated from the next by an empty line.\n",
    "\n",
    "One-dimensional arrays are then printed as rows, bidimensionals as matrices and tridimensionals as lists of matrices."
   ]
  },
  {
   "cell_type": "code",
   "execution_count": 23,
   "id": "17b7c0c5",
   "metadata": {},
   "outputs": [
    {
     "data": {
      "text/plain": [
       "array([1, 2, 3])"
      ]
     },
     "execution_count": 23,
     "metadata": {},
     "output_type": "execute_result"
    }
   ],
   "source": [
    "foo # 1-dim array"
   ]
  },
  {
   "cell_type": "code",
   "execution_count": 24,
   "id": "e50d65a6",
   "metadata": {},
   "outputs": [
    {
     "data": {
      "text/plain": [
       "array([[1, 2, 3],\n",
       "       [4, 5, 6]])"
      ]
     },
     "execution_count": 24,
     "metadata": {},
     "output_type": "execute_result"
    }
   ],
   "source": [
    "bar #2-d"
   ]
  },
  {
   "cell_type": "code",
   "execution_count": 25,
   "id": "a30baef0",
   "metadata": {},
   "outputs": [
    {
     "data": {
      "text/plain": [
       "array([[[1, 2, 3],\n",
       "        [4, 5, 6],\n",
       "        [7, 8, 9]],\n",
       "\n",
       "       [[1, 3, 5],\n",
       "        [2, 4, 6],\n",
       "        [7, 8, 9]],\n",
       "\n",
       "       [[9, 8, 7],\n",
       "        [6, 5, 4],\n",
       "        [3, 2, 1]]])"
      ]
     },
     "execution_count": 25,
     "metadata": {},
     "output_type": "execute_result"
    }
   ],
   "source": [
    "baz #3-d"
   ]
  },
  {
   "cell_type": "markdown",
   "id": "5688a2e8",
   "metadata": {},
   "source": [
    "### Array creations\n",
    "\n",
    "There are multiple ways to create a NumPy array. Most common ones are described below. See [this doc page](https://numpy.org/doc/stable/reference/routines.array-creation.html) for complete reference. \n",
    "\n",
    "#### `np.array(object, dtype=None, *, copy=True, order='K', subok=False, ndmin=0, like=None)`\n",
    "\n",
    "Although this function can take many parameters, we'll be concerned with `object`, `dtype` and `ndim`."
   ]
  },
  {
   "cell_type": "code",
   "execution_count": 26,
   "id": "4ee90ff9",
   "metadata": {},
   "outputs": [
    {
     "data": {
      "text/plain": [
       "array([1, 2, 3])"
      ]
     },
     "execution_count": 26,
     "metadata": {},
     "output_type": "execute_result"
    }
   ],
   "source": [
    "np.array([1,2,3])"
   ]
  },
  {
   "cell_type": "code",
   "execution_count": 28,
   "id": "e54432ae",
   "metadata": {},
   "outputs": [
    {
     "data": {
      "text/plain": [
       "array([1., 2., 3.])"
      ]
     },
     "execution_count": 28,
     "metadata": {},
     "output_type": "execute_result"
    }
   ],
   "source": [
    "np.array([1,2,3], float)"
   ]
  },
  {
   "cell_type": "code",
   "execution_count": 33,
   "id": "bdb3ee8b",
   "metadata": {},
   "outputs": [
    {
     "data": {
      "text/plain": [
       "array([[1, 2, 3]])"
      ]
     },
     "execution_count": 33,
     "metadata": {},
     "output_type": "execute_result"
    }
   ],
   "source": [
    "np.array([1,2,3], ndmin=2)"
   ]
  },
  {
   "cell_type": "code",
   "execution_count": 34,
   "id": "aaeef5e7",
   "metadata": {},
   "outputs": [
    {
     "data": {
      "text/plain": [
       "array([0, 1, 2, 3])"
      ]
     },
     "execution_count": 34,
     "metadata": {},
     "output_type": "execute_result"
    }
   ],
   "source": [
    "np.array(range(4))"
   ]
  },
  {
   "cell_type": "code",
   "execution_count": 35,
   "id": "f788e038",
   "metadata": {},
   "outputs": [
    {
     "data": {
      "text/plain": [
       "array(1)"
      ]
     },
     "execution_count": 35,
     "metadata": {},
     "output_type": "execute_result"
    }
   ],
   "source": [
    "np.array(1) #0-dimeansional array"
   ]
  },
  {
   "cell_type": "markdown",
   "id": "4569e808",
   "metadata": {},
   "source": [
    "#### Note\n",
    "\n",
    "Lists passed to Numpy should have same number of elements. Otherwise you'll get 1-D array with `object` dtype:"
   ]
  },
  {
   "cell_type": "code",
   "execution_count": 510,
   "id": "166beedd",
   "metadata": {},
   "outputs": [
    {
     "name": "stderr",
     "output_type": "stream",
     "text": [
      "C:\\Users\\pcxyz\\AppData\\Local\\Temp/ipykernel_1632/2903244545.py:3: VisibleDeprecationWarning: Creating an ndarray from ragged nested sequences (which is a list-or-tuple of lists-or-tuples-or ndarrays with different lengths or shapes) is deprecated. If you meant to do this, you must specify 'dtype=object' when creating the ndarray.\n",
      "  a = np.array([[1,2,3],[4,5]])\n"
     ]
    },
    {
     "data": {
      "text/plain": [
       "(array([list([1, 2, 3]), list([4, 5])], dtype=object), (2,))"
      ]
     },
     "execution_count": 510,
     "metadata": {},
     "output_type": "execute_result"
    }
   ],
   "source": [
    "import numpy as np\n",
    "\n",
    "a = np.array([[1,2,3],[4,5]])\n",
    "a, a.shape"
   ]
  },
  {
   "cell_type": "markdown",
   "id": "7ba6c139",
   "metadata": {},
   "source": [
    "Following are the ways when you don't have data but know the dimensions or value to be filled.\n",
    "\n",
    "`numpy.empty(shape, dtype=float, order='C', *, like=None)` - Return a new array of given shape and type, without initializing entries."
   ]
  },
  {
   "cell_type": "code",
   "execution_count": 39,
   "id": "7fedad95",
   "metadata": {},
   "outputs": [
    {
     "data": {
      "text/plain": [
       "array([[0., 0., 0.],\n",
       "       [0., 0., 0.]])"
      ]
     },
     "execution_count": 39,
     "metadata": {},
     "output_type": "execute_result"
    }
   ],
   "source": [
    "np.empty((2,3))"
   ]
  },
  {
   "cell_type": "markdown",
   "id": "fe0da039",
   "metadata": {},
   "source": [
    "`numpy.eye(N, M=None, k=0, dtype=<class 'float'>, order='C', *, like=None)` - Return a 2-D array with ones on the diagonal and zeros elsewhere. `N` for rows in output. `M` for columns in output, defaults to `N`. `K` for Index of the diagonal: 0 (the default) refers to the main diagonal, a positive value refers to an upper diagonal, and a negative value to a lower diagonal."
   ]
  },
  {
   "cell_type": "code",
   "execution_count": 40,
   "id": "ed9c3539",
   "metadata": {},
   "outputs": [
    {
     "data": {
      "text/plain": [
       "array([[0., 1., 0., 0.],\n",
       "       [0., 0., 1., 0.],\n",
       "       [0., 0., 0., 1.]])"
      ]
     },
     "execution_count": 40,
     "metadata": {},
     "output_type": "execute_result"
    }
   ],
   "source": [
    "np.eye(3,4,1)"
   ]
  },
  {
   "cell_type": "code",
   "execution_count": 41,
   "id": "af2cf4bf",
   "metadata": {},
   "outputs": [
    {
     "data": {
      "text/plain": [
       "array([[0., 1., 0., 0.],\n",
       "       [0., 0., 1., 0.],\n",
       "       [0., 0., 0., 1.],\n",
       "       [0., 0., 0., 0.]])"
      ]
     },
     "execution_count": 41,
     "metadata": {},
     "output_type": "execute_result"
    }
   ],
   "source": [
    "np.eye(4,4,1)"
   ]
  },
  {
   "cell_type": "code",
   "execution_count": 42,
   "id": "8d4a57da",
   "metadata": {},
   "outputs": [
    {
     "data": {
      "text/plain": [
       "array([[0., 0., 0., 0.],\n",
       "       [1., 0., 0., 0.],\n",
       "       [0., 1., 0., 0.]])"
      ]
     },
     "execution_count": 42,
     "metadata": {},
     "output_type": "execute_result"
    }
   ],
   "source": [
    "np.eye(3,4,-1)"
   ]
  },
  {
   "cell_type": "markdown",
   "id": "2b49229a",
   "metadata": {},
   "source": [
    "`numpy.identity(n, dtype=None, *, like=None)` - Return the identity array. The identity array is a square array with ones on the main diagonal."
   ]
  },
  {
   "cell_type": "code",
   "execution_count": 43,
   "id": "63a444e8",
   "metadata": {},
   "outputs": [
    {
     "data": {
      "text/plain": [
       "array([[1., 0., 0.],\n",
       "       [0., 1., 0.],\n",
       "       [0., 0., 1.]])"
      ]
     },
     "execution_count": 43,
     "metadata": {},
     "output_type": "execute_result"
    }
   ],
   "source": [
    "np.identity(3)"
   ]
  },
  {
   "cell_type": "markdown",
   "id": "e359ca4e",
   "metadata": {},
   "source": [
    "` numpy.ones(shape, dtype=None, order='C', *, like=None)` - Return a new array of given shape and type, filled with ones."
   ]
  },
  {
   "cell_type": "code",
   "execution_count": 44,
   "id": "cc7d18e1",
   "metadata": {},
   "outputs": [
    {
     "data": {
      "text/plain": [
       "array([[1., 1., 1.],\n",
       "       [1., 1., 1.]])"
      ]
     },
     "execution_count": 44,
     "metadata": {},
     "output_type": "execute_result"
    }
   ],
   "source": [
    "np.ones((2,3))"
   ]
  },
  {
   "cell_type": "markdown",
   "id": "87725e85",
   "metadata": {},
   "source": [
    "` numpy.zeros(shape, dtype=None, order='C', *, like=None)` - Return a new array of given shape and type, filled with zeros."
   ]
  },
  {
   "cell_type": "code",
   "execution_count": 45,
   "id": "28614cf8",
   "metadata": {},
   "outputs": [
    {
     "data": {
      "text/plain": [
       "array([0., 0.])"
      ]
     },
     "execution_count": 45,
     "metadata": {},
     "output_type": "execute_result"
    }
   ],
   "source": [
    "np.zeros(2)"
   ]
  },
  {
   "cell_type": "markdown",
   "id": "a983e36c",
   "metadata": {},
   "source": [
    "`numpy.full(shape, fill_value, dtype=None, order='C', *, like=None)`"
   ]
  },
  {
   "cell_type": "code",
   "execution_count": 46,
   "id": "f7ef69e5",
   "metadata": {},
   "outputs": [
    {
     "data": {
      "text/plain": [
       "array([[4, 4, 4],\n",
       "       [4, 4, 4]])"
      ]
     },
     "execution_count": 46,
     "metadata": {},
     "output_type": "execute_result"
    }
   ],
   "source": [
    "np.full((2,3),4)"
   ]
  },
  {
   "cell_type": "markdown",
   "id": "9a24e339",
   "metadata": {},
   "source": [
    "`numpy.fromiter(iter, dtype, count=- 1, *, like=None)`"
   ]
  },
  {
   "cell_type": "code",
   "execution_count": 47,
   "id": "188aeac8",
   "metadata": {},
   "outputs": [
    {
     "data": {
      "text/plain": [
       "array([ 0.,  1.,  4.,  9., 16.])"
      ]
     },
     "execution_count": 47,
     "metadata": {},
     "output_type": "execute_result"
    }
   ],
   "source": [
    "iterable = (x*x for x in range(5))\n",
    "np.fromiter(iterable, float)"
   ]
  },
  {
   "cell_type": "markdown",
   "id": "d9e7a4ee",
   "metadata": {},
   "source": [
    "`np.fromfunction(function, shape, *, dtype=<class 'float'>, like=None, **kwargs)`\n",
    "\n",
    "This one is a bit tricky. `shape` would be an usual tuple describing the shape of output. Note that rank of shape (length of shape tuple) decides the number of argument `function` will take. For example, `shape`= (2,2) means function will take 2 arguments. Similarily `shape` = (2,2,3) means function will take 3 arguments. Secondly, input will take following form - \n",
    "\n",
    "`shape` =  (2,2)\n",
    "\n",
    "```\n",
    "   j=0|j=1\n",
    "---------\n",
    "i=0|00|01\n",
    "---------\n",
    "i=1|10|11\n",
    "```\n",
    "\n",
    "So basically `function` will take 2 arguments and it will calculate 4 different value based on the arguments `[0,0]`,`[0,1]`,`[1,0]` and `[1,1]`.\n",
    "\n",
    "All the `**kwargs` will be passed to `function`.\n",
    "  "
   ]
  },
  {
   "cell_type": "code",
   "execution_count": 4,
   "id": "83a21d57",
   "metadata": {},
   "outputs": [],
   "source": [
    "def f(*args):\n",
    "    return sum(args) "
   ]
  },
  {
   "cell_type": "code",
   "execution_count": 5,
   "id": "5a792864",
   "metadata": {},
   "outputs": [
    {
     "data": {
      "text/plain": [
       "array([[0., 1., 2.],\n",
       "       [1., 2., 3.]])"
      ]
     },
     "execution_count": 5,
     "metadata": {},
     "output_type": "execute_result"
    }
   ],
   "source": [
    "np.fromfunction(f, (2,3))\n",
    "\n",
    "#(0,0) (0,1) (0,2) \n",
    "#(1,0) (1,1) (1,2)"
   ]
  },
  {
   "cell_type": "code",
   "execution_count": 56,
   "id": "1278eb04",
   "metadata": {},
   "outputs": [
    {
     "data": {
      "text/plain": [
       "array([[0., 1.],\n",
       "       [1., 2.]])"
      ]
     },
     "execution_count": 56,
     "metadata": {},
     "output_type": "execute_result"
    }
   ],
   "source": [
    "np.fromfunction(lambda i, j: i+ j, (2, 2))"
   ]
  },
  {
   "cell_type": "code",
   "execution_count": 60,
   "id": "fb34d289",
   "metadata": {},
   "outputs": [
    {
     "data": {
      "text/plain": [
       "array([[ True, False],\n",
       "       [False,  True]])"
      ]
     },
     "execution_count": 60,
     "metadata": {},
     "output_type": "execute_result"
    }
   ],
   "source": [
    "np.fromfunction(lambda i, j: i==j, (2, 2))"
   ]
  },
  {
   "cell_type": "markdown",
   "id": "529359b4",
   "metadata": {},
   "source": [
    "#### Numerical ranges\n",
    "\n",
    "`numpy.arange([start, ]stop, [step, ]dtype=None, *, like=None)`\n",
    "\n"
   ]
  },
  {
   "cell_type": "code",
   "execution_count": 61,
   "id": "7b74066a",
   "metadata": {},
   "outputs": [
    {
     "data": {
      "text/plain": [
       "array([0, 1, 2, 3, 4, 5, 6, 7, 8, 9])"
      ]
     },
     "execution_count": 61,
     "metadata": {},
     "output_type": "execute_result"
    }
   ],
   "source": [
    "np.arange(10)"
   ]
  },
  {
   "cell_type": "code",
   "execution_count": 62,
   "id": "f3871540",
   "metadata": {},
   "outputs": [
    {
     "data": {
      "text/plain": [
       "array([1, 2, 3, 4, 5, 6, 7, 8, 9])"
      ]
     },
     "execution_count": 62,
     "metadata": {},
     "output_type": "execute_result"
    }
   ],
   "source": [
    "np.arange(1,10)"
   ]
  },
  {
   "cell_type": "code",
   "execution_count": 64,
   "id": "7ec6943d",
   "metadata": {},
   "outputs": [
    {
     "data": {
      "text/plain": [
       "array([10,  9,  8,  7,  6,  5,  4,  3,  2])"
      ]
     },
     "execution_count": 64,
     "metadata": {},
     "output_type": "execute_result"
    }
   ],
   "source": [
    "np.arange(10,1,-1) #step is negative "
   ]
  },
  {
   "cell_type": "markdown",
   "id": "034c0970",
   "metadata": {},
   "source": [
    "While using `arange` Be careful when floats are involved. For floating point arguments, the length of the result is `ceil((stop - start)/step)`. Because of floating point overflow, this rule may result in the last element of output being greater than `stop`.\n",
    "\n",
    "The actual step value used to populate the array is `dtype(start + step) - dtype(start)` and not `step`. Precision loss can occur here, due to casting or due to using floating points when `start` is much larger than `step`. This can lead to unexpected behaviour. For example:"
   ]
  },
  {
   "cell_type": "code",
   "execution_count": 65,
   "id": "da9b1aba",
   "metadata": {},
   "outputs": [
    {
     "data": {
      "text/plain": [
       "array([0, 0, 0, 0, 0, 0, 0, 0, 0, 0])"
      ]
     },
     "execution_count": 65,
     "metadata": {},
     "output_type": "execute_result"
    }
   ],
   "source": [
    "np.arange(0, 5, 0.5, dtype=int   #careful!!!"
   ]
  },
  {
   "cell_type": "code",
   "execution_count": 66,
   "id": "9da89dd9",
   "metadata": {},
   "outputs": [
    {
     "data": {
      "text/plain": [
       "array([-3, -2, -1,  0,  1,  2,  3,  4,  5,  6,  7,  8])"
      ]
     },
     "execution_count": 66,
     "metadata": {},
     "output_type": "execute_result"
    }
   ],
   "source": [
    "np.arange(-3, 3, 0.5, dtype=int)  #caruful!!!"
   ]
  },
  {
   "cell_type": "code",
   "execution_count": 69,
   "id": "e5619c92",
   "metadata": {},
   "outputs": [
    {
     "data": {
      "text/plain": [
       "array([[10,  9,  8],\n",
       "       [ 7,  6,  5],\n",
       "       [ 4,  3,  2]])"
      ]
     },
     "execution_count": 69,
     "metadata": {},
     "output_type": "execute_result"
    }
   ],
   "source": [
    "np.arange(10,1,-1).reshape(3,3)  #note the use of reshape method"
   ]
  },
  {
   "cell_type": "markdown",
   "id": "0047a365",
   "metadata": {},
   "source": [
    "`numpy.linspace(start, stop, num=50, endpoint=True, retstep=False, dtype=None, axis=0)`"
   ]
  },
  {
   "cell_type": "code",
   "execution_count": 70,
   "id": "e1b7f5cb",
   "metadata": {},
   "outputs": [
    {
     "data": {
      "text/plain": [
       "array([ 1.        ,  1.18367347,  1.36734694,  1.55102041,  1.73469388,\n",
       "        1.91836735,  2.10204082,  2.28571429,  2.46938776,  2.65306122,\n",
       "        2.83673469,  3.02040816,  3.20408163,  3.3877551 ,  3.57142857,\n",
       "        3.75510204,  3.93877551,  4.12244898,  4.30612245,  4.48979592,\n",
       "        4.67346939,  4.85714286,  5.04081633,  5.2244898 ,  5.40816327,\n",
       "        5.59183673,  5.7755102 ,  5.95918367,  6.14285714,  6.32653061,\n",
       "        6.51020408,  6.69387755,  6.87755102,  7.06122449,  7.24489796,\n",
       "        7.42857143,  7.6122449 ,  7.79591837,  7.97959184,  8.16326531,\n",
       "        8.34693878,  8.53061224,  8.71428571,  8.89795918,  9.08163265,\n",
       "        9.26530612,  9.44897959,  9.63265306,  9.81632653, 10.        ])"
      ]
     },
     "execution_count": 70,
     "metadata": {},
     "output_type": "execute_result"
    }
   ],
   "source": [
    "np.linspace(1,10) #by default 50 values between 1 and 10"
   ]
  },
  {
   "cell_type": "code",
   "execution_count": 71,
   "id": "68e809ff",
   "metadata": {},
   "outputs": [
    {
     "data": {
      "text/plain": [
       "array([1.  , 1.45, 1.9 , 2.35, 2.8 , 3.25, 3.7 , 4.15, 4.6 , 5.05, 5.5 ,\n",
       "       5.95, 6.4 , 6.85, 7.3 , 7.75, 8.2 , 8.65, 9.1 , 9.55])"
      ]
     },
     "execution_count": 71,
     "metadata": {},
     "output_type": "execute_result"
    }
   ],
   "source": [
    "np.linspace(1,10,20, endpoint = False) #endpoint 20 won't be included"
   ]
  },
  {
   "cell_type": "markdown",
   "id": "213df6a2",
   "metadata": {},
   "source": [
    "Although `dtype` is inferred from `start` and `stop` value, it is never set to `int` even though `start` and`stop` are integers. In this case, `dtype` will be `float`."
   ]
  },
  {
   "cell_type": "code",
   "execution_count": 72,
   "id": "51c8481f",
   "metadata": {},
   "outputs": [
    {
     "data": {
      "text/plain": [
       "array([ 1,  1,  1,  2,  2,  3,  3,  4,  4,  5,  5,  6,  6,  7,  7,  8,  8,\n",
       "        9,  9, 10])"
      ]
     },
     "execution_count": 72,
     "metadata": {},
     "output_type": "execute_result"
    }
   ],
   "source": [
    "np.linspace(1,10,20).astype('int')"
   ]
  },
  {
   "cell_type": "code",
   "execution_count": 73,
   "id": "0ed58317",
   "metadata": {},
   "outputs": [
    {
     "data": {
      "text/plain": [
       "(array([1.        , 1.66666667, 2.33333333, 3.        , 3.66666667,\n",
       "        4.33333333, 5.        , 5.66666667, 6.33333333, 7.        ]),\n",
       " 0.6666666666666666)"
      ]
     },
     "execution_count": 73,
     "metadata": {},
     "output_type": "execute_result"
    }
   ],
   "source": [
    "np.linspace(1,7,10, retstep = True) #step value will also be provided if `retstep` is True"
   ]
  },
  {
   "cell_type": "markdown",
   "id": "71bc61b7",
   "metadata": {},
   "source": [
    "`numpy.logspace(start, stop, num=50, endpoint=True, base=10.0, dtype=None, axis=0)`\n",
    "\n",
    "Return numbers spaced evenly on a log scale.\n",
    "\n",
    "In linear space, the sequence starts at `base ** start` and ends with `base ** stop` (see endpoint below)."
   ]
  },
  {
   "cell_type": "code",
   "execution_count": 77,
   "id": "8def7675",
   "metadata": {},
   "outputs": [
    {
     "data": {
      "text/plain": [
       "array([  100.        ,   464.15888336,  2154.43469003, 10000.        ])"
      ]
     },
     "execution_count": 77,
     "metadata": {},
     "output_type": "execute_result"
    }
   ],
   "source": [
    "a = np.logspace(2,4,4)\n",
    "a"
   ]
  },
  {
   "cell_type": "markdown",
   "id": "beb1b7b0",
   "metadata": {},
   "source": [
    "The points in above array can be calculated by raising the power of 10 to the corresponding element in `np.linspace`."
   ]
  },
  {
   "cell_type": "code",
   "execution_count": 78,
   "id": "001a9ffb",
   "metadata": {},
   "outputs": [
    {
     "data": {
      "text/plain": [
       "array([2.        , 2.66666667, 3.33333333, 4.        ])"
      ]
     },
     "execution_count": 78,
     "metadata": {},
     "output_type": "execute_result"
    }
   ],
   "source": [
    "b = np.linspace(2,4,4)\n",
    "b"
   ]
  },
  {
   "cell_type": "code",
   "execution_count": 80,
   "id": "1f7546de",
   "metadata": {},
   "outputs": [
    {
     "data": {
      "text/plain": [
       "array([  100.        ,   464.15888336,  2154.43469003, 10000.        ])"
      ]
     },
     "execution_count": 80,
     "metadata": {},
     "output_type": "execute_result"
    }
   ],
   "source": [
    "10**b"
   ]
  },
  {
   "cell_type": "markdown",
   "id": "982b78f4",
   "metadata": {},
   "source": [
    "`numpy.meshgrid(*xi, copy=True, sparse=False, indexing='xy')`"
   ]
  },
  {
   "cell_type": "code",
   "execution_count": 101,
   "id": "9a4cc4d5",
   "metadata": {},
   "outputs": [],
   "source": [
    "nx, ny = (3,2)\n",
    "\n",
    "x = np.linspace(0, 1, nx)\n",
    "y = np.linspace(0, 1, ny)\n",
    "x1, y1 = np.meshgrid(x, y , indexing = 'ij')  #output of shape (nx, ny)"
   ]
  },
  {
   "cell_type": "code",
   "execution_count": 102,
   "id": "53f5f23f",
   "metadata": {},
   "outputs": [
    {
     "data": {
      "text/plain": [
       "(array([[0. , 0. ],\n",
       "        [0.5, 0.5],\n",
       "        [1. , 1. ]]),\n",
       " array([[0., 1.],\n",
       "        [0., 1.],\n",
       "        [0., 1.]]))"
      ]
     },
     "execution_count": 102,
     "metadata": {},
     "output_type": "execute_result"
    }
   ],
   "source": [
    "x1, y1"
   ]
  },
  {
   "cell_type": "code",
   "execution_count": 81,
   "id": "e5820fb3",
   "metadata": {},
   "outputs": [
    {
     "data": {
      "text/plain": [
       "(array([0. , 0.5, 1. ]), array([0., 1.]))"
      ]
     },
     "execution_count": 81,
     "metadata": {},
     "output_type": "execute_result"
    }
   ],
   "source": [
    "nx, ny = (3,2)\n",
    "\n",
    "x = np.linspace(0, 1, nx)\n",
    "y = np.linspace(0, 1, ny)\n",
    "x, y"
   ]
  },
  {
   "cell_type": "code",
   "execution_count": 82,
   "id": "fa32866d",
   "metadata": {},
   "outputs": [
    {
     "data": {
      "text/plain": [
       "array([[0. , 0.5, 1. ],\n",
       "       [0. , 0.5, 1. ]])"
      ]
     },
     "execution_count": 82,
     "metadata": {},
     "output_type": "execute_result"
    }
   ],
   "source": [
    "xv, yv = np.meshgrid(x, y)  #indexing is `xy` so output is of shape (ny, nx)\n",
    "xv"
   ]
  },
  {
   "cell_type": "code",
   "execution_count": 83,
   "id": "35bc1480",
   "metadata": {},
   "outputs": [
    {
     "data": {
      "text/plain": [
       "array([[0., 0., 0.],\n",
       "       [1., 1., 1.]])"
      ]
     },
     "execution_count": 83,
     "metadata": {},
     "output_type": "execute_result"
    }
   ],
   "source": [
    "yv"
   ]
  },
  {
   "cell_type": "code",
   "execution_count": 100,
   "id": "8674615a",
   "metadata": {},
   "outputs": [
    {
     "data": {
      "text/plain": [
       "((2, 3), (2, 3))"
      ]
     },
     "execution_count": 100,
     "metadata": {},
     "output_type": "execute_result"
    }
   ],
   "source": [
    "xv.shape, yv.shape"
   ]
  },
  {
   "cell_type": "code",
   "execution_count": 97,
   "id": "3aeb0a41",
   "metadata": {},
   "outputs": [
    {
     "data": {
      "text/plain": [
       "<matplotlib.colorbar.Colorbar at 0x887930a280>"
      ]
     },
     "execution_count": 97,
     "metadata": {},
     "output_type": "execute_result"
    },
    {
     "data": {
      "image/png": "[encoded data removed]",
      "text/plain": [
       "<Figure size 432x288 with 2 Axes>"
      ]
     },
     "metadata": {},
     "output_type": "display_data"
    }
   ],
   "source": [
    "zs = np.sqrt(xv**2 + yv**2)\n",
    "\n",
    "plt.contourf(x, y, zs)\n",
    "plt.axis('scaled')\n",
    "plt.colorbar()"
   ]
  },
  {
   "cell_type": "code",
   "execution_count": 98,
   "id": "cb011b2a",
   "metadata": {},
   "outputs": [
    {
     "data": {
      "text/plain": [
       "array([[0.        , 0.5       , 1.        ],\n",
       "       [1.        , 1.11803399, 1.41421356]])"
      ]
     },
     "execution_count": 98,
     "metadata": {},
     "output_type": "execute_result"
    }
   ],
   "source": [
    "zs"
   ]
  },
  {
   "cell_type": "markdown",
   "id": "b5679117",
   "metadata": {},
   "source": [
    "####  Reshaping through `reshape()` method\n",
    "\n",
    "Original array and reshaped array should have same `size` value."
   ]
  },
  {
   "cell_type": "code",
   "execution_count": 195,
   "id": "08214ad4",
   "metadata": {},
   "outputs": [
    {
     "data": {
      "text/plain": [
       "array([[ 1.        ,  1.64285714,  2.28571429,  2.92857143,  3.57142857],\n",
       "       [ 4.21428571,  4.85714286,  5.5       ,  6.14285714,  6.78571429],\n",
       "       [ 7.42857143,  8.07142857,  8.71428571,  9.35714286, 10.        ]])"
      ]
     },
     "execution_count": 195,
     "metadata": {},
     "output_type": "execute_result"
    }
   ],
   "source": [
    "ar = np.linspace(1,10,15) #1-d array with 15 elements\n",
    "ar.reshape(3,5) "
   ]
  },
  {
   "cell_type": "code",
   "execution_count": 197,
   "id": "b163c7e0",
   "metadata": {},
   "outputs": [
    {
     "data": {
      "text/plain": [
       "array([[ 1.        ,  1.64285714,  2.28571429,  2.92857143,  3.57142857],\n",
       "       [ 4.21428571,  4.85714286,  5.5       ,  6.14285714,  6.78571429],\n",
       "       [ 7.42857143,  8.07142857,  8.71428571,  9.35714286, 10.        ]])"
      ]
     },
     "execution_count": 197,
     "metadata": {},
     "output_type": "execute_result"
    }
   ],
   "source": [
    "ar.reshape(3,-1) # -1 means provide whatever is needed here"
   ]
  },
  {
   "cell_type": "code",
   "execution_count": 200,
   "id": "61c4a4b7",
   "metadata": {},
   "outputs": [
    {
     "data": {
      "text/plain": [
       "array([[ 1.        ,  1.64285714,  2.28571429],\n",
       "       [ 2.92857143,  3.57142857,  4.21428571],\n",
       "       [ 4.85714286,  5.5       ,  6.14285714],\n",
       "       [ 6.78571429,  7.42857143,  8.07142857],\n",
       "       [ 8.71428571,  9.35714286, 10.        ]])"
      ]
     },
     "execution_count": 200,
     "metadata": {},
     "output_type": "execute_result"
    }
   ],
   "source": [
    "ar.reshape(-1,3)"
   ]
  },
  {
   "cell_type": "markdown",
   "id": "71e2af69",
   "metadata": {},
   "source": [
    "#### Random Number Generation"
   ]
  },
  {
   "cell_type": "code",
   "execution_count": 322,
   "id": "37679ae2",
   "metadata": {},
   "outputs": [
    {
     "data": {
      "text/plain": [
       "array([[0.37486651, 0.23664702],\n",
       "       [0.77777862, 0.43476323],\n",
       "       [0.61693661, 0.84522501]])"
      ]
     },
     "execution_count": 322,
     "metadata": {},
     "output_type": "execute_result"
    }
   ],
   "source": [
    "np.random.rand(3,2) #random float values from uniform distribution range[0,1) in shape (3,2)"
   ]
  },
  {
   "cell_type": "code",
   "execution_count": 323,
   "id": "f1254edb",
   "metadata": {},
   "outputs": [
    {
     "data": {
      "text/plain": [
       "array([[0.39558836, 0.66491042],\n",
       "       [0.00164478, 0.64617287],\n",
       "       [0.13863016, 0.6927405 ]])"
      ]
     },
     "execution_count": 323,
     "metadata": {},
     "output_type": "execute_result"
    }
   ],
   "source": [
    "np.random.random((3,2)) #random values from uniform dist range[0,1) in shape (3,2). Notice that shape is passed as tuple.\n",
    "\n",
    "#np.random.random_sample is exactly the same as above"
   ]
  },
  {
   "cell_type": "code",
   "execution_count": 324,
   "id": "065adcf0",
   "metadata": {},
   "outputs": [
    {
     "data": {
      "text/plain": [
       "array([[4, 1, 1],\n",
       "       [4, 3, 3],\n",
       "       [1, 1, 3],\n",
       "       [4, 1, 4]])"
      ]
     },
     "execution_count": 324,
     "metadata": {},
     "output_type": "execute_result"
    }
   ],
   "source": [
    "np.random.randint(1,5,size=(4,3)) #random integer from range[1,5)"
   ]
  },
  {
   "cell_type": "code",
   "execution_count": 328,
   "id": "74a86c79",
   "metadata": {},
   "outputs": [
    {
     "data": {
      "text/plain": [
       "array([[-0.25513903, -0.60079918,  1.01587361],\n",
       "       [-0.75287114, -1.02752643,  0.718404  ]])"
      ]
     },
     "execution_count": 328,
     "metadata": {},
     "output_type": "execute_result"
    }
   ],
   "source": [
    "np.random.randn(2,3) #values from standard normal distribution with mean = 0 and varianvce  =  1"
   ]
  },
  {
   "cell_type": "code",
   "execution_count": 334,
   "id": "f344e9c7",
   "metadata": {},
   "outputs": [],
   "source": [
    "a = np.random.normal(10,2,100)"
   ]
  },
  {
   "cell_type": "code",
   "execution_count": 335,
   "id": "cdff58d9",
   "metadata": {},
   "outputs": [
    {
     "data": {
      "image/png": "[encoded data removed]",
      "text/plain": [
       "<Figure size 432x288 with 1 Axes>"
      ]
     },
     "metadata": {},
     "output_type": "display_data"
    }
   ],
   "source": [
    "plt.hist(a);"
   ]
  },
  {
   "cell_type": "code",
   "execution_count": 336,
   "id": "5cdd50b4",
   "metadata": {},
   "outputs": [
    {
     "name": "stdout",
     "output_type": "stream",
     "text": [
      "[4 3]\n",
      "[0 0]\n",
      "[2 3]\n",
      "[1 0]\n",
      "[2 2]\n",
      "[2 0]\n",
      "[0 0]\n",
      "[3 0]\n",
      "[0 4]\n",
      "[4 4]\n"
     ]
    }
   ],
   "source": [
    "for i in range(10):\n",
    "    print(np.random.choice(5,2)) \n",
    "\n",
    "#first argument for boundary value(exclusive), second argument for number of values to be drawn.\n",
    "#additional parameter p can also be included for probability distribution.\n",
    "#np.random.choice(a, size=None, replace = True, p = None)-a may be int or array-like, size may be int or tuple (for shape)"
   ]
  },
  {
   "cell_type": "code",
   "execution_count": 337,
   "id": "c06d4b9b",
   "metadata": {},
   "outputs": [
    {
     "name": "stdout",
     "output_type": "stream",
     "text": [
      "[[5 7 7]\n",
      " [3 1 3]]\n",
      "[[3 5 1]\n",
      " [1 1 3]]\n",
      "[[3 1 1]\n",
      " [7 5 3]]\n"
     ]
    }
   ],
   "source": [
    "for i in range(3):\n",
    "    print(np.random.choice([1,3,5,7], (2,3)))"
   ]
  },
  {
   "cell_type": "code",
   "execution_count": 338,
   "id": "31487dd2",
   "metadata": {},
   "outputs": [
    {
     "name": "stdout",
     "output_type": "stream",
     "text": [
      "[0 1 2 3 4 5 6 7 8 9]\n",
      "[2 6 0 3 5 1 7 8 9 4]\n"
     ]
    }
   ],
   "source": [
    "arr = np.arange(10)\n",
    "print(arr)\n",
    "np.random.shuffle(arr) #in place shuffling, shuffling only along the first axis\n",
    "print(arr)"
   ]
  },
  {
   "cell_type": "code",
   "execution_count": 339,
   "id": "9fd002f0",
   "metadata": {},
   "outputs": [
    {
     "name": "stdout",
     "output_type": "stream",
     "text": [
      "4\n",
      "[2 4 2 4 2 3 3 6 3 2]\n"
     ]
    }
   ],
   "source": [
    "a = np.random.binomial(10,.5)\n",
    "print(a)\n",
    "#10 trials, with probability of success of 0.5 of each trial, single test (omitted here). \n",
    "#O/p a is the number of successful instances.\n",
    "b = np.random.binomial(9,.4,10)\n",
    "#single test consists of 9 trials. 10 such tests are conducted. \n",
    "print(b)"
   ]
  },
  {
   "cell_type": "code",
   "execution_count": 340,
   "id": "38892a50",
   "metadata": {},
   "outputs": [
    {
     "name": "stdout",
     "output_type": "stream",
     "text": [
      "[  1.   0.   0.   1.   4.   1.   1.   3.   0.   7.  10.  15.  22.  18.\n",
      "  43.  46.  75. 100. 170. 247. 266. 383. 516. 685. 767. 834. 944. 954.\n",
      " 882. 752. 586. 459. 353. 241. 170. 152.  95.  68.  43.  24.  19.   9.\n",
      "   6.  11.   7.   2.   3.   3.   1.   1.]\n",
      "[ 0.03576457  0.40868084  0.78159712  1.15451339  1.52742967  1.90034595\n",
      "  2.27326222  2.6461785   3.01909477  3.39201105  3.76492732  4.1378436\n",
      "  4.51075988  4.88367615  5.25659243  5.6295087   6.00242498  6.37534125\n",
      "  6.74825753  7.12117381  7.49409008  7.86700636  8.23992263  8.61283891\n",
      "  8.98575518  9.35867146  9.73158774 10.10450401 10.47742029 10.85033656\n",
      " 11.22325284 11.59616911 11.96908539 12.34200167 12.71491794 13.08783422\n",
      " 13.46075049 13.83366677 14.20658304 14.57949932 14.9524156  15.32533187\n",
      " 15.69824815 16.07116442 16.4440807  16.81699698 17.18991325 17.56282953\n",
      " 17.9357458  18.30866208 18.68157835]\n",
      "<BarContainer object of 50 artists>\n"
     ]
    },
    {
     "data": {
      "image/png": "[encoded data removed]",
      "text/plain": [
       "<Figure size 432x288 with 1 Axes>"
      ]
     },
     "metadata": {},
     "output_type": "display_data"
    }
   ],
   "source": [
    "s = np.random.logistic(10,1,10000)\n",
    "plt.hist(s, bins = 50)\n",
    "count, bins, ignored = plt.hist(s, bins =50)\n",
    "print(count), print(bins), print(ignored);"
   ]
  },
  {
   "cell_type": "code",
   "execution_count": 341,
   "id": "b74138a9",
   "metadata": {},
   "outputs": [
    {
     "name": "stdout",
     "output_type": "stream",
     "text": [
      "[3 1 7 0 8 6 2 4 9 5]\n",
      "\n",
      "\n",
      "[8 3 4 7 1]\n",
      "\n",
      "\n",
      "[[0 1]\n",
      " [2 3]\n",
      " [4 5]\n",
      " [6 7]\n",
      " [8 9]]\n",
      "\n",
      "\n",
      "[[4 5]\n",
      " [8 9]\n",
      " [6 7]\n",
      " [0 1]\n",
      " [2 3]]\n"
     ]
    }
   ],
   "source": [
    "a = np.random.permutation(10)\n",
    "b = np.random.permutation([1,4,3,8,7])\n",
    "c = np.arange(10).reshape(5,2)\n",
    "d = np.random.permutation(c) #If `c` is a multi-dimensional array, it is only shuffled along its first index.\n",
    "print(a)\n",
    "print('\\n')\n",
    "print(b)\n",
    "print('\\n')\n",
    "print(c)\n",
    "print('\\n')\n",
    "print(d)"
   ]
  },
  {
   "cell_type": "code",
   "execution_count": 342,
   "id": "9ed27a32",
   "metadata": {},
   "outputs": [
    {
     "data": {
      "text/plain": [
       "array([3, 2, 3, 4, 2, 2, 3, 2, 5, 7, 1, 1, 5, 2, 1, 5, 3, 5, 2, 2, 2, 2,\n",
       "       3, 6, 1, 3, 1, 1, 2, 2, 2, 3, 3, 4, 6, 4, 1, 5, 5, 4])"
      ]
     },
     "execution_count": 342,
     "metadata": {},
     "output_type": "execute_result"
    }
   ],
   "source": [
    "x = np.random.poisson(3,40)\n",
    "x"
   ]
  },
  {
   "cell_type": "code",
   "execution_count": 343,
   "id": "1df8ebcf",
   "metadata": {},
   "outputs": [
    {
     "data": {
      "text/plain": [
       "(3.0, 2.55)"
      ]
     },
     "execution_count": 343,
     "metadata": {},
     "output_type": "execute_result"
    }
   ],
   "source": [
    "np.mean(x), np.var(x)"
   ]
  },
  {
   "cell_type": "markdown",
   "id": "e9dffc66",
   "metadata": {},
   "source": [
    "### Indexing, Slicing and Iteration\n",
    "\n",
    "There are two ways of indexing -  \n",
    "\n",
    " - Basic Indexing (always returns a 'view')\n",
    " - Fancy Indexing (always returns a 'copy')\n",
    " \n",
    " - Basic Indexing syntax - `x[exp_1,..]` where `exp_1` is either an integer or a slice\n",
    " - Fancy Indexing syntax - `x[exp_1]` where `exp_1` is an integer array or a boolean array\n",
    " \n",
    "#### Basic Indexing\n",
    "\n",
    "Given a N-dimensional array `x`, basic syntax for indexing is `x[exp_1,.., exp_k, ..,exp_N]` where `exp_k` etc is of the form `start:stop:step`and corresponds to `k`th dimension. `exp`s are matched positionally with dimensions. \n",
    "\n",
    "In `start:stop:step`, `start` defaults to zero, `stop` defaults to rank in that dimension, and `step` defaults to `1` unless specified otherwise. The default settings provide 'complete slice'. So `start:stop:step` means start taking elements from `start` (inclusive), go through in `step` and stop at `stop` (exclusive).  \n",
    "\n",
    "For example if an array has (2,3,4) shape, it can have maximum of 3 `exp`s because this  array is 3-dimensional. Also, this array has rank 2 in its first dimension, rank 3 in second dimension and rank 4 in last dimension. This provides `stop` value in respective dimension. \n",
    "\n",
    "You can provide fewer `exp`s. In that case, missing `exp`s take the form of `start:stop:step` with default values (and give complete slice in that dimension). Also these `exp`s will correspond to successive dimensions. If you don't want that, use `:` for that dimension. For example, suppose you have 3-d array `x` and you are providing only one `exp`, say, `1:2:1`. So if you write `x[1:2:1]`, this will mean that `1:2:1` will correspond to first dimension. If you want to use this slice for, say, second dimension, you would write `x[:, 1:2:1, :]`. In this way, you are making it clear that you are using `1:2:1` for second dimension only. A bare `:` means complete slice in that dimension. \n",
    "\n",
    "If `exp` (that is `start:stop:step`) only have one number `i`, it translates to `i:i+1:1` or simply `i:i+1`. This gives element at `i`th position. \n",
    "\n",
    "Go through the following examples carefully to better understand the rules - \n",
    "\n",
    "#### Note to self\n",
    "\n",
    "try to use the term selection tuple and show that `array[exp1, exp2]` is same as `array[(exp1, exp2)]`. \n"
   ]
  },
  {
   "cell_type": "markdown",
   "id": "7223f971",
   "metadata": {},
   "source": [
    "#### 1 - D array"
   ]
  },
  {
   "cell_type": "code",
   "execution_count": 135,
   "id": "edc02c89",
   "metadata": {},
   "outputs": [
    {
     "name": "stdout",
     "output_type": "stream",
     "text": [
      "(10,)\n",
      "[1.         1.44444444 1.88888889 2.33333333 2.77777778 3.22222222\n",
      " 3.66666667 4.11111111 4.55555556 5.        ]\n"
     ]
    }
   ],
   "source": [
    "a1 = np.linspace(1,5,10) # shape(10,) so it is 1-d array and rank of this dimension is 10\n",
    "\n",
    "print(a1.shape) \n",
    "print(a1)"
   ]
  },
  {
   "cell_type": "markdown",
   "id": "d6151af4",
   "metadata": {},
   "source": [
    "Since above array is 1-D, it will have only one `exp`"
   ]
  },
  {
   "cell_type": "code",
   "execution_count": 141,
   "id": "81e57cac",
   "metadata": {},
   "outputs": [
    {
     "data": {
      "text/plain": [
       "array([1.        , 1.44444444, 1.88888889, 2.33333333, 2.77777778,\n",
       "       3.22222222, 3.66666667, 4.11111111, 4.55555556, 5.        ])"
      ]
     },
     "execution_count": 141,
     "metadata": {},
     "output_type": "execute_result"
    }
   ],
   "source": [
    "a1[0:10:1] #since all values equal to defaults, it will complete slice. In this case, original array"
   ]
  },
  {
   "cell_type": "code",
   "execution_count": 136,
   "id": "c8659eee",
   "metadata": {},
   "outputs": [
    {
     "data": {
      "text/plain": [
       "array([1.44444444, 1.88888889, 2.33333333, 2.77777778, 3.22222222])"
      ]
     },
     "execution_count": 136,
     "metadata": {},
     "output_type": "execute_result"
    }
   ],
   "source": [
    "a1[1:6:1] #element at 6 will not be included. Equivalent to a1[1:6] since `step` defaults to 1 anyway"
   ]
  },
  {
   "cell_type": "code",
   "execution_count": 138,
   "id": "5bbc30c3",
   "metadata": {},
   "outputs": [
    {
     "data": {
      "text/plain": [
       "1.4444444444444444"
      ]
     },
     "execution_count": 138,
     "metadata": {},
     "output_type": "execute_result"
    }
   ],
   "source": [
    "a1[1] #Only a number given so equivalent to a1[1:2:1] or a1[1:2]. Not same as a1[1:]"
   ]
  },
  {
   "cell_type": "code",
   "execution_count": 139,
   "id": "0f82a282",
   "metadata": {},
   "outputs": [
    {
     "data": {
      "text/plain": [
       "array([1.44444444, 1.88888889, 2.33333333, 2.77777778, 3.22222222,\n",
       "       3.66666667, 4.11111111, 4.55555556, 5.        ])"
      ]
     },
     "execution_count": 139,
     "metadata": {},
     "output_type": "execute_result"
    }
   ],
   "source": [
    "a1[1::] # stop defaults to rank, that is, 10. step defaults to 1"
   ]
  },
  {
   "cell_type": "code",
   "execution_count": 140,
   "id": "00f99120",
   "metadata": {},
   "outputs": [
    {
     "data": {
      "text/plain": [
       "array([1.44444444, 1.88888889, 2.33333333, 2.77777778, 3.22222222,\n",
       "       3.66666667, 4.11111111, 4.55555556, 5.        ])"
      ]
     },
     "execution_count": 140,
     "metadata": {},
     "output_type": "execute_result"
    }
   ],
   "source": [
    "a1[1:] #same as a1[1::]"
   ]
  },
  {
   "cell_type": "code",
   "execution_count": 110,
   "id": "03c3a9ce",
   "metadata": {},
   "outputs": [
    {
     "data": {
      "text/plain": [
       "array([1.        , 1.88888889, 2.77777778])"
      ]
     },
     "execution_count": 110,
     "metadata": {},
     "output_type": "execute_result"
    }
   ],
   "source": [
    "a1[:6:2] #start defaults to 0, step is 2 here"
   ]
  },
  {
   "cell_type": "markdown",
   "id": "d6f8f71e",
   "metadata": {},
   "source": [
    "#### 2-Dimensional array indexing and slicing"
   ]
  },
  {
   "cell_type": "code",
   "execution_count": 114,
   "id": "6d05ae89",
   "metadata": {},
   "outputs": [
    {
     "data": {
      "text/plain": [
       "array([[1, 2, 3],\n",
       "       [4, 5, 6],\n",
       "       [7, 8, 9]])"
      ]
     },
     "execution_count": 114,
     "metadata": {},
     "output_type": "execute_result"
    }
   ],
   "source": [
    "a2 = np.arange(1,10).reshape(3,3)\n",
    "a2"
   ]
  },
  {
   "cell_type": "markdown",
   "id": "aef44227",
   "metadata": {},
   "source": [
    "Since `a2` is 2-D, it can have 2 `exp`, seperated by `,`. "
   ]
  },
  {
   "cell_type": "code",
   "execution_count": 145,
   "id": "4da22b5f",
   "metadata": {},
   "outputs": [
    {
     "data": {
      "text/plain": [
       "array([[1, 2, 3],\n",
       "       [4, 5, 6],\n",
       "       [7, 8, 9]])"
      ]
     },
     "execution_count": 145,
     "metadata": {},
     "output_type": "execute_result"
    }
   ],
   "source": [
    "a2[0:3:1, 0:3:1] #each 'exp' uses default values so original array is returned"
   ]
  },
  {
   "cell_type": "code",
   "execution_count": 143,
   "id": "512afd19",
   "metadata": {},
   "outputs": [
    {
     "data": {
      "text/plain": [
       "array([[1],\n",
       "       [4]])"
      ]
     },
     "execution_count": 143,
     "metadata": {},
     "output_type": "execute_result"
    }
   ],
   "source": [
    "a2[:2, :1] \n",
    "#in first dimension (or axis), take first two elements then in those two elements, take only first element \n",
    "# so :2 gives us first 2 rows, and :1 gives us values from first column from those 2 rows. "
   ]
  },
  {
   "cell_type": "code",
   "execution_count": 121,
   "id": "7460db51",
   "metadata": {},
   "outputs": [
    {
     "data": {
      "text/plain": [
       "6"
      ]
     },
     "execution_count": 121,
     "metadata": {},
     "output_type": "execute_result"
    }
   ],
   "source": [
    "a2[1,2] # equivalent to a2[1:2,2:3] so pick second row and then pick value from last column in that row "
   ]
  },
  {
   "cell_type": "markdown",
   "id": "623ee2d2",
   "metadata": {},
   "source": [
    "When fewer indices are provided than the number of axes, the missing indices are considered complete slices:"
   ]
  },
  {
   "cell_type": "code",
   "execution_count": 147,
   "id": "010b827e",
   "metadata": {},
   "outputs": [
    {
     "data": {
      "text/plain": [
       "array([[1, 2, 3],\n",
       "       [4, 5, 6]])"
      ]
     },
     "execution_count": 147,
     "metadata": {},
     "output_type": "execute_result"
    }
   ],
   "source": [
    "a2[:2] #fewer indices. The provided index refer to first dimension by default. "
   ]
  },
  {
   "cell_type": "code",
   "execution_count": 146,
   "id": "67a86148",
   "metadata": {},
   "outputs": [
    {
     "data": {
      "text/plain": [
       "array([[1, 2, 3],\n",
       "       [4, 5, 6]])"
      ]
     },
     "execution_count": 146,
     "metadata": {},
     "output_type": "execute_result"
    }
   ],
   "source": [
    "a2[:2,:] #same as above"
   ]
  },
  {
   "cell_type": "code",
   "execution_count": 148,
   "id": "1496a3ea",
   "metadata": {},
   "outputs": [
    {
     "data": {
      "text/plain": [
       "array([[1, 2],\n",
       "       [4, 5],\n",
       "       [7, 8]])"
      ]
     },
     "execution_count": 148,
     "metadata": {},
     "output_type": "execute_result"
    }
   ],
   "source": [
    "a2[:, :2] #now :2 refers to second dimension. First index gives all rows, second index gives first 2 columns"
   ]
  },
  {
   "cell_type": "code",
   "execution_count": 150,
   "id": "e94afc33",
   "metadata": {},
   "outputs": [
    {
     "data": {
      "text/plain": [
       "array([[1, 2, 3],\n",
       "       [4, 5, 6]])"
      ]
     },
     "execution_count": 150,
     "metadata": {},
     "output_type": "execute_result"
    }
   ],
   "source": [
    "a2[-3:-1]"
   ]
  },
  {
   "cell_type": "code",
   "execution_count": 133,
   "id": "a780a5d3",
   "metadata": {},
   "outputs": [
    {
     "data": {
      "text/plain": [
       "array([3, 6, 9])"
      ]
     },
     "execution_count": 133,
     "metadata": {},
     "output_type": "execute_result"
    }
   ],
   "source": [
    "a2[...,-1] #see below note"
   ]
  },
  {
   "cell_type": "markdown",
   "id": "39a2433c",
   "metadata": {},
   "source": [
    "The dots (`...`) represent as many colons as needed to produce a complete indexing tuple."
   ]
  },
  {
   "cell_type": "code",
   "execution_count": 115,
   "id": "e6e61be5",
   "metadata": {},
   "outputs": [
    {
     "data": {
      "text/plain": [
       "array([7, 8, 9])"
      ]
     },
     "execution_count": 115,
     "metadata": {},
     "output_type": "execute_result"
    }
   ],
   "source": [
    "a2[-1,...] "
   ]
  },
  {
   "cell_type": "code",
   "execution_count": 126,
   "id": "9efe845c",
   "metadata": {},
   "outputs": [
    {
     "data": {
      "text/plain": [
       "8"
      ]
     },
     "execution_count": 126,
     "metadata": {},
     "output_type": "execute_result"
    }
   ],
   "source": [
    "a2[2][1] #you can do this to access an element"
   ]
  },
  {
   "cell_type": "code",
   "execution_count": 128,
   "id": "cfbeab20",
   "metadata": {},
   "outputs": [
    {
     "data": {
      "text/plain": [
       "8"
      ]
     },
     "execution_count": 128,
     "metadata": {},
     "output_type": "execute_result"
    }
   ],
   "source": [
    "a2[2,1] #but this is more efficient because in earlier case, you are creating 2 views but here only 1 view"
   ]
  },
  {
   "cell_type": "code",
   "execution_count": 189,
   "id": "ab1d4359",
   "metadata": {},
   "outputs": [
    {
     "data": {
      "text/plain": [
       "array([[7, 8, 9],\n",
       "       [4, 5, 6],\n",
       "       [1, 2, 3]])"
      ]
     },
     "execution_count": 189,
     "metadata": {},
     "output_type": "execute_result"
    }
   ],
   "source": [
    "a2[::-1] #row reversal"
   ]
  },
  {
   "cell_type": "code",
   "execution_count": 190,
   "id": "78abc81f",
   "metadata": {},
   "outputs": [
    {
     "data": {
      "text/plain": [
       "array([[3, 2, 1],\n",
       "       [6, 5, 4],\n",
       "       [9, 8, 7]])"
      ]
     },
     "execution_count": 190,
     "metadata": {},
     "output_type": "execute_result"
    }
   ],
   "source": [
    "a2[:, ::-1] #column reversal"
   ]
  },
  {
   "cell_type": "code",
   "execution_count": 191,
   "id": "905dc4e9",
   "metadata": {},
   "outputs": [
    {
     "data": {
      "text/plain": [
       "array([[9, 8, 7],\n",
       "       [6, 5, 4],\n",
       "       [3, 2, 1]])"
      ]
     },
     "execution_count": 191,
     "metadata": {},
     "output_type": "execute_result"
    }
   ],
   "source": [
    "a2[::-1, ::-1] #both rows and columns are reversed"
   ]
  },
  {
   "cell_type": "markdown",
   "id": "43d74dfe",
   "metadata": {},
   "source": [
    "#### 3-D array"
   ]
  },
  {
   "cell_type": "code",
   "execution_count": 151,
   "id": "65c710e2",
   "metadata": {},
   "outputs": [
    {
     "data": {
      "text/plain": [
       "array([[[ 1,  2,  3],\n",
       "        [ 4,  5,  6],\n",
       "        [ 7,  8,  9]],\n",
       "\n",
       "       [[10, 11, 12],\n",
       "        [13, 14, 15],\n",
       "        [16, 17, 18]]])"
      ]
     },
     "execution_count": 151,
     "metadata": {},
     "output_type": "execute_result"
    }
   ],
   "source": [
    "a3 = np.arange(1,19).reshape(2,3,3)\n",
    "a3"
   ]
  },
  {
   "cell_type": "markdown",
   "id": "612a22e2",
   "metadata": {},
   "source": [
    "`a3` now has 3 dimensions. First dimension has rank 2, second 3 and last dimension has rank 3. First dimension consists of 2 2-D array. Since it is 3-D array, it can have maximum three `exp` or index (one index per dimension). \n"
   ]
  },
  {
   "cell_type": "code",
   "execution_count": 153,
   "id": "cbcc2f44",
   "metadata": {},
   "outputs": [
    {
     "data": {
      "text/plain": [
       "array([[[18]]])"
      ]
     },
     "execution_count": 153,
     "metadata": {},
     "output_type": "execute_result"
    }
   ],
   "source": [
    "a3[1:2, 2:3,2:3] #1st index -> 2nd 2-D matrix, 2nd index - second row of that matrix, 3rd index -> last column"
   ]
  },
  {
   "cell_type": "code",
   "execution_count": 154,
   "id": "cca06f0d",
   "metadata": {},
   "outputs": [
    {
     "data": {
      "text/plain": [
       "array([[10, 11, 12],\n",
       "       [13, 14, 15],\n",
       "       [16, 17, 18]])"
      ]
     },
     "execution_count": 154,
     "metadata": {},
     "output_type": "execute_result"
    }
   ],
   "source": [
    "a3[1] # equivlent to a3[1,:,:] -> a3[1:2,:,:]"
   ]
  },
  {
   "cell_type": "code",
   "execution_count": 157,
   "id": "7a9b85c8",
   "metadata": {},
   "outputs": [
    {
     "data": {
      "text/plain": [
       "array([13, 14, 15])"
      ]
     },
     "execution_count": 157,
     "metadata": {},
     "output_type": "execute_result"
    }
   ],
   "source": [
    "a3[1,1]"
   ]
  },
  {
   "cell_type": "markdown",
   "id": "7f31b0fe",
   "metadata": {},
   "source": [
    "**Note** that when fewer indices than dimensions are provided, the resultant array is subdimensional array. See above 2 examples."
   ]
  },
  {
   "cell_type": "markdown",
   "id": "fecdbeed",
   "metadata": {},
   "source": [
    "#### Slices are views\n",
    "\n",
    "This means any change made in a slice will reflect in original array. "
   ]
  },
  {
   "cell_type": "code",
   "execution_count": 177,
   "id": "2328a5d3",
   "metadata": {},
   "outputs": [
    {
     "data": {
      "text/plain": [
       "array([[1, 2, 3],\n",
       "       [4, 5, 6],\n",
       "       [7, 8, 9]])"
      ]
     },
     "execution_count": 177,
     "metadata": {},
     "output_type": "execute_result"
    }
   ],
   "source": [
    "array = np.arange(1,10).reshape(3,3)\n",
    "array"
   ]
  },
  {
   "cell_type": "code",
   "execution_count": 182,
   "id": "19bbbed7",
   "metadata": {},
   "outputs": [
    {
     "data": {
      "text/plain": [
       "array([[ 1, 22,  3],\n",
       "       [ 4,  5,  6],\n",
       "       [ 7,  8,  9]])"
      ]
     },
     "execution_count": 182,
     "metadata": {},
     "output_type": "execute_result"
    }
   ],
   "source": [
    "array[0,1] = 22\n",
    "array  #changed is reflected here"
   ]
  },
  {
   "cell_type": "markdown",
   "id": "9d9a8583",
   "metadata": {},
   "source": [
    "If you don't want this, use `copy()` method - "
   ]
  },
  {
   "cell_type": "code",
   "execution_count": 183,
   "id": "60ca512b",
   "metadata": {},
   "outputs": [
    {
     "data": {
      "text/plain": [
       "55"
      ]
     },
     "execution_count": 183,
     "metadata": {},
     "output_type": "execute_result"
    }
   ],
   "source": [
    "c = array[1,1].copy()\n",
    "c = 55\n",
    "c"
   ]
  },
  {
   "cell_type": "code",
   "execution_count": 184,
   "id": "a29089ff",
   "metadata": {},
   "outputs": [
    {
     "data": {
      "text/plain": [
       "array([[ 1, 22,  3],\n",
       "       [ 4,  5,  6],\n",
       "       [ 7,  8,  9]])"
      ]
     },
     "execution_count": 184,
     "metadata": {},
     "output_type": "execute_result"
    }
   ],
   "source": [
    "array #no change"
   ]
  },
  {
   "cell_type": "markdown",
   "id": "7a669dde",
   "metadata": {},
   "source": [
    "**Iteration is done wrt first axis.**"
   ]
  },
  {
   "cell_type": "code",
   "execution_count": 124,
   "id": "c885428f",
   "metadata": {},
   "outputs": [
    {
     "name": "stdout",
     "output_type": "stream",
     "text": [
      "[1 2 3]\n",
      "[4 5 6]\n",
      "[7 8 9]\n"
     ]
    }
   ],
   "source": [
    "for i in a2:\n",
    "    print(i)"
   ]
  },
  {
   "cell_type": "code",
   "execution_count": 156,
   "id": "c4a5a408",
   "metadata": {},
   "outputs": [
    {
     "name": "stdout",
     "output_type": "stream",
     "text": [
      "[[1 2 3]\n",
      " [4 5 6]\n",
      " [7 8 9]]\n",
      "[[10 11 12]\n",
      " [13 14 15]\n",
      " [16 17 18]]\n"
     ]
    }
   ],
   "source": [
    "for i in a3:\n",
    "    print(i),"
   ]
  },
  {
   "cell_type": "markdown",
   "id": "c251ad69",
   "metadata": {},
   "source": [
    "#### Using `np.newaxis` or `None` to expand the  dimensions\n",
    "\n",
    "Each `newaxis` object in the selection tuple serves to expand the dimensions of the resulting selection by one unit-length dimension. `None` is just an alias for `newaxis`"
   ]
  },
  {
   "cell_type": "code",
   "execution_count": 171,
   "id": "105f6d2f",
   "metadata": {},
   "outputs": [
    {
     "data": {
      "text/plain": [
       "((9,), array([1, 2, 3, 4, 5, 6, 7, 8, 9]))"
      ]
     },
     "execution_count": 171,
     "metadata": {},
     "output_type": "execute_result"
    }
   ],
   "source": [
    "a = np.arange(1,10)\n",
    "a.shape, a"
   ]
  },
  {
   "cell_type": "code",
   "execution_count": 166,
   "id": "68ae7be1",
   "metadata": {},
   "outputs": [
    {
     "data": {
      "text/plain": [
       "array([[1, 2, 3, 4, 5, 6, 7, 8, 9]])"
      ]
     },
     "execution_count": 166,
     "metadata": {},
     "output_type": "execute_result"
    }
   ],
   "source": [
    "a[np.newaxis,:] #(1,9) shape"
   ]
  },
  {
   "cell_type": "code",
   "execution_count": 172,
   "id": "ab420c9b",
   "metadata": {},
   "outputs": [
    {
     "data": {
      "text/plain": [
       "array([[1, 2, 3, 4, 5, 6, 7, 8, 9]])"
      ]
     },
     "execution_count": 172,
     "metadata": {},
     "output_type": "execute_result"
    }
   ],
   "source": [
    "a[None, :]"
   ]
  },
  {
   "cell_type": "code",
   "execution_count": 170,
   "id": "571abe0d",
   "metadata": {},
   "outputs": [
    {
     "data": {
      "text/plain": [
       "array([[1],\n",
       "       [2],\n",
       "       [3],\n",
       "       [4],\n",
       "       [5],\n",
       "       [6],\n",
       "       [7],\n",
       "       [8],\n",
       "       [9]])"
      ]
     },
     "execution_count": 170,
     "metadata": {},
     "output_type": "execute_result"
    }
   ],
   "source": [
    "a[:, np.newaxis]  #(9,1) shape"
   ]
  },
  {
   "cell_type": "code",
   "execution_count": 174,
   "id": "706ce0f5",
   "metadata": {},
   "outputs": [
    {
     "data": {
      "text/plain": [
       "array([[1],\n",
       "       [2],\n",
       "       [3],\n",
       "       [4],\n",
       "       [5],\n",
       "       [6],\n",
       "       [7],\n",
       "       [8],\n",
       "       [9]])"
      ]
     },
     "execution_count": 174,
     "metadata": {},
     "output_type": "execute_result"
    }
   ],
   "source": [
    "a[:, None]"
   ]
  },
  {
   "cell_type": "markdown",
   "id": "8a994355",
   "metadata": {},
   "source": [
    "#### Fancy (or Advance) Indexing\n",
    "\n",
    "Advanced indexing is triggered when the selection object, `exp`, is a non-tuple sequence object, an ndarray (of data type integer or bool), or a tuple with at least one sequence object or ndarray (of data type integer or bool). There are two types of advanced indexing: integer and Boolean.\n",
    "\n",
    "In basic indexing, we provided a selection tuple (`exp` in `x[exp]`) whose elements were of the form `start:stop:step`. In other words, we were essentially providing a continuous range for each dimension. \n",
    "\n",
    "#### Integer Indexing\n",
    "\n",
    "Integer array indexing allows selection of arbitrary items in the array based on their N-dimensional index. Each integer array represents a number of indices into that dimension.\n"
   ]
  },
  {
   "cell_type": "code",
   "execution_count": 210,
   "id": "a0a80ffc",
   "metadata": {},
   "outputs": [
    {
     "data": {
      "text/plain": [
       "array([ 1,  2,  3,  4,  5,  6,  7,  8,  9, 10, 11, 12, 13, 14, 15])"
      ]
     },
     "execution_count": 210,
     "metadata": {},
     "output_type": "execute_result"
    }
   ],
   "source": [
    "arr = np.arange(1,16)\n",
    "arr"
   ]
  },
  {
   "cell_type": "code",
   "execution_count": 211,
   "id": "7b69857a",
   "metadata": {},
   "outputs": [
    {
     "data": {
      "text/plain": [
       "array([1, 3, 5])"
      ]
     },
     "execution_count": 211,
     "metadata": {},
     "output_type": "execute_result"
    }
   ],
   "source": [
    "arr[[0,2,4]] #now selection object is another array "
   ]
  },
  {
   "cell_type": "markdown",
   "id": "d9804688",
   "metadata": {},
   "source": [
    "A integer `i` in the selection array must be such that `0 <= i < rank` (in that dimension). If `i` is negative, it should be in range `[-1, -rank]`. If this condition is not met, `IndexError` is raised."
   ]
  },
  {
   "cell_type": "code",
   "execution_count": 212,
   "id": "34b83344",
   "metadata": {},
   "outputs": [
    {
     "ename": "IndexError",
     "evalue": "index 16 is out of bounds for axis 0 with size 15",
     "output_type": "error",
     "traceback": [
      "\u001b[1;31m---------------------------------------------------------------------------\u001b[0m",
      "\u001b[1;31mIndexError\u001b[0m                                Traceback (most recent call last)",
      "\u001b[1;32m~\\AppData\\Local\\Temp/ipykernel_7688/1400427544.py\u001b[0m in \u001b[0;36m<module>\u001b[1;34m\u001b[0m\n\u001b[1;32m----> 1\u001b[1;33m \u001b[0marr\u001b[0m\u001b[1;33m[\u001b[0m\u001b[1;33m[\u001b[0m\u001b[1;36m1\u001b[0m\u001b[1;33m,\u001b[0m\u001b[1;36m16\u001b[0m\u001b[1;33m]\u001b[0m\u001b[1;33m]\u001b[0m\u001b[1;33m\u001b[0m\u001b[1;33m\u001b[0m\u001b[0m\n\u001b[0m",
      "\u001b[1;31mIndexError\u001b[0m: index 16 is out of bounds for axis 0 with size 15"
     ]
    }
   ],
   "source": [
    "arr[[1,16]]"
   ]
  },
  {
   "cell_type": "code",
   "execution_count": 213,
   "id": "ab878b8e",
   "metadata": {},
   "outputs": [
    {
     "data": {
      "text/plain": [
       "array([2, 3, 4, 5, 6])"
      ]
     },
     "execution_count": 213,
     "metadata": {},
     "output_type": "execute_result"
    }
   ],
   "source": [
    "mask = np.arange(1,6)\n",
    "arr[mask]"
   ]
  },
  {
   "cell_type": "code",
   "execution_count": 214,
   "id": "533855ad",
   "metadata": {},
   "outputs": [
    {
     "data": {
      "text/plain": [
       "array([15, 15])"
      ]
     },
     "execution_count": 214,
     "metadata": {},
     "output_type": "execute_result"
    }
   ],
   "source": [
    "arr[[-1, 14]]"
   ]
  },
  {
   "cell_type": "code",
   "execution_count": 217,
   "id": "d1e4e9f8",
   "metadata": {},
   "outputs": [
    {
     "data": {
      "text/plain": [
       "array([[2, 3],\n",
       "       [5, 6]])"
      ]
     },
     "execution_count": 217,
     "metadata": {},
     "output_type": "execute_result"
    }
   ],
   "source": [
    "mask2d = np.array([[1,2],[4,5]]) #list of lists won't work here\n",
    "\n",
    "arr[mask2d] #output shape will match with that of mask2d. "
   ]
  },
  {
   "cell_type": "markdown",
   "id": "fad7fbf5",
   "metadata": {},
   "source": [
    "#### Integer indexing in case of multi-dimensional array"
   ]
  },
  {
   "cell_type": "code",
   "execution_count": 218,
   "id": "06371bfd",
   "metadata": {},
   "outputs": [
    {
     "data": {
      "text/plain": [
       "array([[ 0,  1,  2,  3],\n",
       "       [ 4,  5,  6,  7],\n",
       "       [ 8,  9, 10, 11]])"
      ]
     },
     "execution_count": 218,
     "metadata": {},
     "output_type": "execute_result"
    }
   ],
   "source": [
    "X = np.arange(12).reshape((3, 4))\n",
    "X # (3,4) shape"
   ]
  },
  {
   "cell_type": "code",
   "execution_count": 219,
   "id": "f5acd448",
   "metadata": {},
   "outputs": [
    {
     "data": {
      "text/plain": [
       "array([ 2,  5, 11])"
      ]
     },
     "execution_count": 219,
     "metadata": {},
     "output_type": "execute_result"
    }
   ],
   "source": [
    "X[np.array([0,1,2]), np.array([2,1,3])] #2 array corresponding to dimensions of original array\n",
    "\n",
    "#first array for first dimension, second array for second dimension. "
   ]
  },
  {
   "cell_type": "markdown",
   "id": "95323a08",
   "metadata": {},
   "source": [
    "Fewer index arrays than dimension of original can be provided."
   ]
  },
  {
   "cell_type": "code",
   "execution_count": 221,
   "id": "c468b2ee",
   "metadata": {},
   "outputs": [
    {
     "data": {
      "text/plain": [
       "array([[ 4,  5,  6,  7],\n",
       "       [ 4,  5,  6,  7],\n",
       "       [ 8,  9, 10, 11]])"
      ]
     },
     "execution_count": 221,
     "metadata": {},
     "output_type": "execute_result"
    }
   ],
   "source": [
    "X[np.array([1,1,2])] #no second array means complete slice in second dimension"
   ]
  },
  {
   "cell_type": "markdown",
   "id": "6deff0c0",
   "metadata": {},
   "source": [
    "Notice that the first value in the result is ``X[0, 2]``, the second is ``X[1, 1]``, and the third is ``X[2, 3]``.\n",
    "The pairing of indices in fancy indexing follows all the broadcasting rules that were mentioned elsewhere.\n",
    "So, for example, if we combine a column vector and a row vector within the indices, we get a two-dimensional result."
   ]
  },
  {
   "cell_type": "markdown",
   "id": "7e54c87c",
   "metadata": {},
   "source": [
    "Indexing arrays should have matching shape. If shapes are not matched, there is an attempt to broadcast. If broadcast isn't successful, error is raised. "
   ]
  },
  {
   "cell_type": "code",
   "execution_count": 222,
   "id": "9e64de60",
   "metadata": {},
   "outputs": [
    {
     "ename": "IndexError",
     "evalue": "shape mismatch: indexing arrays could not be broadcast together with shapes (3,) (2,) ",
     "output_type": "error",
     "traceback": [
      "\u001b[1;31m---------------------------------------------------------------------------\u001b[0m",
      "\u001b[1;31mIndexError\u001b[0m                                Traceback (most recent call last)",
      "\u001b[1;32m~\\AppData\\Local\\Temp/ipykernel_7688/4006072680.py\u001b[0m in \u001b[0;36m<module>\u001b[1;34m\u001b[0m\n\u001b[1;32m----> 1\u001b[1;33m \u001b[0mX\u001b[0m\u001b[1;33m[\u001b[0m\u001b[0mnp\u001b[0m\u001b[1;33m.\u001b[0m\u001b[0marray\u001b[0m\u001b[1;33m(\u001b[0m\u001b[1;33m[\u001b[0m\u001b[1;36m0\u001b[0m\u001b[1;33m,\u001b[0m\u001b[1;36m1\u001b[0m\u001b[1;33m,\u001b[0m\u001b[1;36m2\u001b[0m\u001b[1;33m]\u001b[0m\u001b[1;33m)\u001b[0m\u001b[1;33m,\u001b[0m \u001b[0mnp\u001b[0m\u001b[1;33m.\u001b[0m\u001b[0marray\u001b[0m\u001b[1;33m(\u001b[0m\u001b[1;33m[\u001b[0m\u001b[1;36m2\u001b[0m\u001b[1;33m,\u001b[0m\u001b[1;36m1\u001b[0m\u001b[1;33m]\u001b[0m\u001b[1;33m)\u001b[0m\u001b[1;33m]\u001b[0m\u001b[1;33m\u001b[0m\u001b[1;33m\u001b[0m\u001b[0m\n\u001b[0m",
      "\u001b[1;31mIndexError\u001b[0m: shape mismatch: indexing arrays could not be broadcast together with shapes (3,) (2,) "
     ]
    }
   ],
   "source": [
    "X[np.array([0,1,2]), np.array([2,1])]"
   ]
  },
  {
   "cell_type": "code",
   "execution_count": 223,
   "id": "6576283f",
   "metadata": {},
   "outputs": [
    {
     "data": {
      "text/plain": [
       "array([1, 5, 9])"
      ]
     },
     "execution_count": 223,
     "metadata": {},
     "output_type": "execute_result"
    }
   ],
   "source": [
    "X[np.array([0,1,2]), 1] #due to broadcasting, second array is [1,1,1]"
   ]
  },
  {
   "cell_type": "code",
   "execution_count": 225,
   "id": "1aff426d",
   "metadata": {},
   "outputs": [
    {
     "data": {
      "text/plain": [
       "array([[ 0,  1,  2],\n",
       "       [ 3,  4,  5],\n",
       "       [ 6,  7,  8],\n",
       "       [ 9, 10, 11]])"
      ]
     },
     "execution_count": 225,
     "metadata": {},
     "output_type": "execute_result"
    }
   ],
   "source": [
    "Y = np.arange(12).reshape(4,3)\n",
    "Y"
   ]
  },
  {
   "cell_type": "markdown",
   "id": "e5b32807",
   "metadata": {},
   "source": [
    "Suppose we need to select corner elements. "
   ]
  },
  {
   "cell_type": "code",
   "execution_count": 226,
   "id": "071fb215",
   "metadata": {},
   "outputs": [
    {
     "data": {
      "text/plain": [
       "array([[ 0,  2],\n",
       "       [ 9, 11]])"
      ]
     },
     "execution_count": 226,
     "metadata": {},
     "output_type": "execute_result"
    }
   ],
   "source": [
    "rows = np.array([[0,0],[3,3]])\n",
    "columns = np.array([[0,2],[0,2]])\n",
    "\n",
    "Y[rows, columns]"
   ]
  },
  {
   "cell_type": "markdown",
   "id": "cdc38ccd",
   "metadata": {},
   "source": [
    "However, since the indexing arrays above just repeat themselves, broadcasting can be used (compare operations such as `rows[:, np.newaxis] + columns`) to simplify this:"
   ]
  },
  {
   "cell_type": "code",
   "execution_count": 228,
   "id": "00d820e9",
   "metadata": {},
   "outputs": [
    {
     "data": {
      "text/plain": [
       "array([[0],\n",
       "       [3]])"
      ]
     },
     "execution_count": 228,
     "metadata": {},
     "output_type": "execute_result"
    }
   ],
   "source": [
    "rows = np.array([0, 3])\n",
    "columns = np.array([0, 2])\n",
    "\n",
    "rows = rows[:, np.newaxis] #(2,1) shape\n",
    "rows"
   ]
  },
  {
   "cell_type": "code",
   "execution_count": 229,
   "id": "e5bfa3f1",
   "metadata": {},
   "outputs": [
    {
     "data": {
      "text/plain": [
       "array([[ 0,  2],\n",
       "       [ 9, 11]])"
      ]
     },
     "execution_count": 229,
     "metadata": {},
     "output_type": "execute_result"
    }
   ],
   "source": [
    "Y[rows, columns] #columns will be broadcast in accordance with the shape of rows (2,1)"
   ]
  },
  {
   "cell_type": "markdown",
   "id": "6e9e68f2",
   "metadata": {},
   "source": [
    "#### Boolean Indexing\n",
    "\n",
    "It is much like Integer indexing except arrays of boolean elements are provided in selection object `exp`.  "
   ]
  },
  {
   "cell_type": "code",
   "execution_count": 22,
   "id": "e3749619",
   "metadata": {},
   "outputs": [
    {
     "data": {
      "text/plain": [
       "array([1.        , 1.44444444, 1.88888889, 2.33333333, 2.77777778,\n",
       "       3.22222222, 3.66666667, 4.11111111, 4.55555556, 5.        ])"
      ]
     },
     "execution_count": 22,
     "metadata": {},
     "output_type": "execute_result"
    }
   ],
   "source": [
    "b1 = np.linspace(1,5,10)\n",
    "b1"
   ]
  },
  {
   "cell_type": "code",
   "execution_count": 23,
   "id": "284dca7c",
   "metadata": {},
   "outputs": [
    {
     "data": {
      "text/plain": [
       "array([ True, False,  True, False,  True, False,  True, False,  True,\n",
       "       False])"
      ]
     },
     "execution_count": 23,
     "metadata": {},
     "output_type": "execute_result"
    }
   ],
   "source": [
    "b_mask = np.array([True, False]*5)\n",
    "b_mask"
   ]
  },
  {
   "cell_type": "code",
   "execution_count": 24,
   "id": "a5345183",
   "metadata": {},
   "outputs": [
    {
     "data": {
      "text/plain": [
       "array([1.        , 1.88888889, 2.77777778, 3.66666667, 4.55555556])"
      ]
     },
     "execution_count": 24,
     "metadata": {},
     "output_type": "execute_result"
    }
   ],
   "source": [
    "b1[b_mask]"
   ]
  },
  {
   "cell_type": "markdown",
   "id": "53de6376",
   "metadata": {},
   "source": [
    "Boolean indexing `x[exp]` is practically identical to integer indexing `x[exp.nonzero()]`"
   ]
  },
  {
   "cell_type": "code",
   "execution_count": 29,
   "id": "d638aff3",
   "metadata": {},
   "outputs": [],
   "source": [
    "aa = b_mask.nonzero()"
   ]
  },
  {
   "cell_type": "code",
   "execution_count": 31,
   "id": "5586286a",
   "metadata": {},
   "outputs": [
    {
     "data": {
      "text/plain": [
       "array([1.        , 1.88888889, 2.77777778, 3.66666667, 4.55555556])"
      ]
     },
     "execution_count": 31,
     "metadata": {},
     "output_type": "execute_result"
    }
   ],
   "source": [
    "b1[aa] #integer indexing"
   ]
  },
  {
   "cell_type": "code",
   "execution_count": 32,
   "id": "6bbe1030",
   "metadata": {},
   "outputs": [
    {
     "data": {
      "text/plain": [
       "array([1.        , 1.44444444, 1.88888889, 2.33333333, 2.77777778,\n",
       "       3.22222222, 3.66666667, 4.11111111, 4.55555556, 5.        ])"
      ]
     },
     "execution_count": 32,
     "metadata": {},
     "output_type": "execute_result"
    }
   ],
   "source": [
    "b1"
   ]
  },
  {
   "cell_type": "markdown",
   "id": "a731d46c",
   "metadata": {},
   "source": [
    "**Note** - Following was supposed to work as per [doc](https://numpy.org/doc/stable/user/basics.indexing.html#boolean-array-indexing) but  it didn't. See my question on [StackOverflow](https://stackoverflow.com/questions/70738869/dont-understand-the-numpy-boolean-indexing-documentation)"
   ]
  },
  {
   "cell_type": "code",
   "execution_count": 40,
   "id": "fc550b9c",
   "metadata": {},
   "outputs": [
    {
     "ename": "IndexError",
     "evalue": "boolean index did not match indexed array along dimension 0; dimension is 5 but corresponding boolean dimension is 2",
     "output_type": "error",
     "traceback": [
      "\u001b[1;31m---------------------------------------------------------------------------\u001b[0m",
      "\u001b[1;31mIndexError\u001b[0m                                Traceback (most recent call last)",
      "\u001b[1;32m~\\AppData\\Local\\Temp/ipykernel_1632/726131051.py\u001b[0m in \u001b[0;36m<module>\u001b[1;34m\u001b[0m\n\u001b[0;32m      2\u001b[0m \u001b[0mmask\u001b[0m\u001b[1;33m=\u001b[0m \u001b[0mnp\u001b[0m\u001b[1;33m.\u001b[0m\u001b[0marray\u001b[0m\u001b[1;33m(\u001b[0m\u001b[1;33m[\u001b[0m\u001b[1;32mTrue\u001b[0m\u001b[1;33m,\u001b[0m \u001b[1;32mFalse\u001b[0m\u001b[1;33m]\u001b[0m\u001b[1;33m)\u001b[0m \u001b[1;31m##as per docs, remainining indices will be filled with False elements?????\u001b[0m\u001b[1;33m\u001b[0m\u001b[1;33m\u001b[0m\u001b[0m\n\u001b[0;32m      3\u001b[0m \u001b[1;33m\u001b[0m\u001b[0m\n\u001b[1;32m----> 4\u001b[1;33m \u001b[0ma\u001b[0m\u001b[1;33m[\u001b[0m\u001b[0mmask\u001b[0m\u001b[1;33m]\u001b[0m\u001b[1;33m\u001b[0m\u001b[1;33m\u001b[0m\u001b[0m\n\u001b[0m",
      "\u001b[1;31mIndexError\u001b[0m: boolean index did not match indexed array along dimension 0; dimension is 5 but corresponding boolean dimension is 2"
     ]
    }
   ],
   "source": [
    "a = np.array([1,2,3,4,5])\n",
    "mask= np.array([True, False]) ##as per docs, remainining indices will be filled with False elements?????\n",
    "\n",
    "a[mask]"
   ]
  },
  {
   "cell_type": "markdown",
   "id": "58791a86",
   "metadata": {},
   "source": [
    "In some cases, you may wish to find out non-`NaN`elements in an array-"
   ]
  },
  {
   "cell_type": "code",
   "execution_count": 37,
   "id": "15873fcc",
   "metadata": {},
   "outputs": [
    {
     "data": {
      "text/plain": [
       "array([[ True,  True],\n",
       "       [False,  True],\n",
       "       [False, False]])"
      ]
     },
     "execution_count": 37,
     "metadata": {},
     "output_type": "execute_result"
    }
   ],
   "source": [
    "x = np.array([[1., 2.], [np.nan, 3.], [np.nan, np.nan]])\n",
    "\n",
    "~np.isnan(x)  #note the use of `~` bit-flip operator"
   ]
  },
  {
   "cell_type": "code",
   "execution_count": 38,
   "id": "2c0ec488",
   "metadata": {},
   "outputs": [
    {
     "data": {
      "text/plain": [
       "array([1., 2., 3.])"
      ]
     },
     "execution_count": 38,
     "metadata": {},
     "output_type": "execute_result"
    }
   ],
   "source": [
    "x[~np.isnan(x)]"
   ]
  },
  {
   "cell_type": "markdown",
   "id": "0d007992",
   "metadata": {},
   "source": [
    "In general, when the boolean array has fewer dimensions than the array being indexed, this is equivalent to `x[b, ...]`, which means `x` is indexed by `b` followed by as many `:` as are needed to fill out the rank of `x`. Thus the shape of the result is one dimension containing the number of `True` elements of the boolean array, followed by the remaining dimensions of the array being indexed. A tip - Just notice the dimension which contains boolean elements. Selection will be done in that dimension. \n",
    "\n",
    "`x.shape = (a,b,c)`\n",
    "\n",
    "`b.shape = (a,b,c)`\n",
    "\n",
    "Above is straightforward case. This result in 1-D array. If `c` has `n` `True` elements, shape will be `(n,)`\n",
    "\n",
    "`x.shape = (a,b,c)`\n",
    "\n",
    "`b.shape = (a,b)`\n",
    "\n",
    "In this case, `x[b]` is equivalent to `x[b,:]`. This means no boolean indexing in last axis. So this will basically select elements in second dimension (axis). If `b` has `n` `True` elements, shape will be `(n, c)`.\n",
    "\n",
    "`x.shape = (a,b,c)`\n",
    "\n",
    "`b.shape = (a,)`\n",
    "\n",
    "Elements will be selected from firt dimension. If `a` has `n` `True` elements, shape will be `(n, b, c)`."
   ]
  },
  {
   "cell_type": "code",
   "execution_count": 65,
   "id": "a63caf8f",
   "metadata": {},
   "outputs": [
    {
     "data": {
      "text/plain": [
       "array([False, False, False,  True,  True])"
      ]
     },
     "execution_count": 65,
     "metadata": {},
     "output_type": "execute_result"
    }
   ],
   "source": [
    "x = np.arange(35).reshape(5, 7)\n",
    "b = x > 20\n",
    "b[:, 5]"
   ]
  },
  {
   "cell_type": "code",
   "execution_count": 66,
   "id": "b0db03c2",
   "metadata": {},
   "outputs": [
    {
     "data": {
      "text/plain": [
       "array([[ 0,  1,  2,  3,  4,  5,  6],\n",
       "       [ 7,  8,  9, 10, 11, 12, 13],\n",
       "       [14, 15, 16, 17, 18, 19, 20],\n",
       "       [21, 22, 23, 24, 25, 26, 27],\n",
       "       [28, 29, 30, 31, 32, 33, 34]])"
      ]
     },
     "execution_count": 66,
     "metadata": {},
     "output_type": "execute_result"
    }
   ],
   "source": [
    "x"
   ]
  },
  {
   "cell_type": "code",
   "execution_count": 67,
   "id": "b87e9c41",
   "metadata": {},
   "outputs": [
    {
     "data": {
      "text/plain": [
       "array([[21, 22, 23, 24, 25, 26, 27],\n",
       "       [28, 29, 30, 31, 32, 33, 34]])"
      ]
     },
     "execution_count": 67,
     "metadata": {},
     "output_type": "execute_result"
    }
   ],
   "source": [
    "x[b[:, 5]]"
   ]
  },
  {
   "cell_type": "code",
   "execution_count": 69,
   "id": "a7747c5f",
   "metadata": {},
   "outputs": [
    {
     "data": {
      "text/plain": [
       "array([[21, 22, 23, 24, 25, 26, 27],\n",
       "       [28, 29, 30, 31, 32, 33, 34]])"
      ]
     },
     "execution_count": 69,
     "metadata": {},
     "output_type": "execute_result"
    }
   ],
   "source": [
    "x[ b[:,5],:]"
   ]
  },
  {
   "cell_type": "markdown",
   "id": "02157060",
   "metadata": {},
   "source": [
    "See another example below -"
   ]
  },
  {
   "cell_type": "code",
   "execution_count": 92,
   "id": "55bd0177",
   "metadata": {},
   "outputs": [
    {
     "data": {
      "text/plain": [
       "array([[ 0,  1,  2,  3,  4],\n",
       "       [ 5,  6,  7,  8,  9],\n",
       "       [10, 11, 12, 13, 14],\n",
       "       [20, 21, 22, 23, 24],\n",
       "       [25, 26, 27, 28, 29]])"
      ]
     },
     "execution_count": 92,
     "metadata": {},
     "output_type": "execute_result"
    }
   ],
   "source": [
    "x = np.arange(30).reshape(2, 3, 5)\n",
    "b = np.array([[True, True, True], [False, True, True]])\n",
    "\n",
    "x[b]  #elements will be selected from second dimension\n"
   ]
  },
  {
   "cell_type": "code",
   "execution_count": 93,
   "id": "40a7e48f",
   "metadata": {},
   "outputs": [
    {
     "data": {
      "text/plain": [
       "array([[ True,  True,  True],\n",
       "       [False,  True,  True]])"
      ]
     },
     "execution_count": 93,
     "metadata": {},
     "output_type": "execute_result"
    }
   ],
   "source": [
    "b"
   ]
  },
  {
   "cell_type": "code",
   "execution_count": 94,
   "id": "f5e34133",
   "metadata": {},
   "outputs": [
    {
     "data": {
      "text/plain": [
       "array([[[ 0,  1,  2,  3,  4],\n",
       "        [ 5,  6,  7,  8,  9],\n",
       "        [10, 11, 12, 13, 14]],\n",
       "\n",
       "       [[15, 16, 17, 18, 19],\n",
       "        [20, 21, 22, 23, 24],\n",
       "        [25, 26, 27, 28, 29]]])"
      ]
     },
     "execution_count": 94,
     "metadata": {},
     "output_type": "execute_result"
    }
   ],
   "source": [
    "x"
   ]
  },
  {
   "cell_type": "code",
   "execution_count": 91,
   "id": "cc38ca4a",
   "metadata": {},
   "outputs": [
    {
     "data": {
      "text/plain": [
       "array([[ 0,  1,  2,  3,  4],\n",
       "       [ 5,  6,  7,  8,  9],\n",
       "       [10, 11, 12, 13, 14],\n",
       "       [20, 21, 22, 23, 24],\n",
       "       [25, 26, 27, 28, 29]])"
      ]
     },
     "execution_count": 91,
     "metadata": {},
     "output_type": "execute_result"
    }
   ],
   "source": [
    "x[b,:]"
   ]
  },
  {
   "cell_type": "code",
   "execution_count": 82,
   "id": "aaeef6e0",
   "metadata": {},
   "outputs": [
    {
     "data": {
      "text/plain": [
       "(2, 3, 5)"
      ]
     },
     "execution_count": 82,
     "metadata": {},
     "output_type": "execute_result"
    }
   ],
   "source": [
    "c = [[[True, False, True, False, False],[True, False, True, False, False],[True, False, True, False, False]],[[True, False, True, False, False],[True, False, True, False, False],[True, False, True, False, False]]]\n",
    "c1 = np.array(c)\n",
    "c1.shape"
   ]
  },
  {
   "cell_type": "code",
   "execution_count": 86,
   "id": "c9de2904",
   "metadata": {},
   "outputs": [
    {
     "data": {
      "text/plain": [
       "array([ 0,  2,  5,  7, 10, 12, 15, 17, 20, 22, 25, 27])"
      ]
     },
     "execution_count": 86,
     "metadata": {},
     "output_type": "execute_result"
    }
   ],
   "source": [
    "x[c1] #elements will be selected from last dimension"
   ]
  },
  {
   "cell_type": "code",
   "execution_count": 87,
   "id": "c62e9f28",
   "metadata": {},
   "outputs": [
    {
     "data": {
      "text/plain": [
       "array([[[ True, False,  True, False, False],\n",
       "        [ True, False,  True, False, False],\n",
       "        [ True, False,  True, False, False]],\n",
       "\n",
       "       [[ True, False,  True, False, False],\n",
       "        [ True, False,  True, False, False],\n",
       "        [ True, False,  True, False, False]]])"
      ]
     },
     "execution_count": 87,
     "metadata": {},
     "output_type": "execute_result"
    }
   ],
   "source": [
    "c1"
   ]
  },
  {
   "cell_type": "code",
   "execution_count": 97,
   "id": "17d120ff",
   "metadata": {},
   "outputs": [
    {
     "data": {
      "text/plain": [
       "array([[[ 0,  1,  2,  3,  4],\n",
       "        [ 5,  6,  7,  8,  9],\n",
       "        [10, 11, 12, 13, 14]]])"
      ]
     },
     "execution_count": 97,
     "metadata": {},
     "output_type": "execute_result"
    }
   ],
   "source": [
    "c2= np.array([True, False]) #elements will selected from first dimension\n",
    "\n",
    "x[c2]"
   ]
  },
  {
   "cell_type": "code",
   "execution_count": 98,
   "id": "d52d8491",
   "metadata": {},
   "outputs": [
    {
     "data": {
      "text/plain": [
       "(2,)"
      ]
     },
     "execution_count": 98,
     "metadata": {},
     "output_type": "execute_result"
    }
   ],
   "source": [
    "c2.shape"
   ]
  },
  {
   "cell_type": "markdown",
   "id": "a2f48d4b",
   "metadata": {},
   "source": [
    "Example - \n",
    "\n",
    "From an array, select all rows which sum up to less or equal two:"
   ]
  },
  {
   "cell_type": "code",
   "execution_count": 107,
   "id": "0f24b6cc",
   "metadata": {},
   "outputs": [
    {
     "data": {
      "text/plain": [
       "array([ True,  True, False])"
      ]
     },
     "execution_count": 107,
     "metadata": {},
     "output_type": "execute_result"
    }
   ],
   "source": [
    "x = np.array([[0, 1], [1, 1], [2, 2]])\n",
    "rowsum = x.sum(-1)\n",
    "\n",
    "rowsum <= 2"
   ]
  },
  {
   "cell_type": "code",
   "execution_count": 108,
   "id": "8bac0207",
   "metadata": {},
   "outputs": [
    {
     "data": {
      "text/plain": [
       "array([[0, 1],\n",
       "       [1, 1]])"
      ]
     },
     "execution_count": 108,
     "metadata": {},
     "output_type": "execute_result"
    }
   ],
   "source": [
    "x[rowsum <=2,:]"
   ]
  },
  {
   "cell_type": "markdown",
   "id": "fbb4fe98",
   "metadata": {},
   "source": [
    "Use boolean indexing to select all rows adding up to an even number. At the same time columns 0 and 2 should be selected with an advanced integer index."
   ]
  },
  {
   "cell_type": "code",
   "execution_count": 110,
   "id": "0753da67",
   "metadata": {},
   "outputs": [
    {
     "data": {
      "text/plain": [
       "array([False,  True, False,  True])"
      ]
     },
     "execution_count": 110,
     "metadata": {},
     "output_type": "execute_result"
    }
   ],
   "source": [
    "x = np.array([[ 0,  1,  2],\n",
    "              [ 3,  4,  5],\n",
    "              [ 6,  7,  8],\n",
    "              [ 9, 10, 11]])\n",
    "\n",
    "columns = [0, 2]\n",
    "rows = (x.sum(-1) % 2) == 0\n",
    "\n",
    "rows"
   ]
  },
  {
   "cell_type": "code",
   "execution_count": 111,
   "id": "8ba857ca",
   "metadata": {},
   "outputs": [
    {
     "data": {
      "text/plain": [
       "array([[ 3,  5],\n",
       "       [ 9, 11]])"
      ]
     },
     "execution_count": 111,
     "metadata": {},
     "output_type": "execute_result"
    }
   ],
   "source": [
    "rows = rows.nonzero()[0]\n",
    "x[rows[:, np.newaxis], columns]"
   ]
  },
  {
   "cell_type": "markdown",
   "id": "01f3cfe0",
   "metadata": {},
   "source": [
    "####  Use of `&` and `|` operators\n",
    "\n",
    "Before we proceed, let us understand the difference between `and` and `&`. They both are similar except `and` operates on objects but `&` operates on bits of objects."
   ]
  },
  {
   "cell_type": "code",
   "execution_count": 112,
   "id": "b55a65f0",
   "metadata": {},
   "outputs": [
    {
     "data": {
      "text/plain": [
       "(12, 0)"
      ]
     },
     "execution_count": 112,
     "metadata": {},
     "output_type": "execute_result"
    }
   ],
   "source": [
    "3 and 12, 3 & 12"
   ]
  },
  {
   "cell_type": "code",
   "execution_count": 113,
   "id": "e31878c0",
   "metadata": {},
   "outputs": [
    {
     "data": {
      "text/plain": [
       "(False, False)"
      ]
     },
     "execution_count": 113,
     "metadata": {},
     "output_type": "execute_result"
    }
   ],
   "source": [
    "True and False, True & False"
   ]
  },
  {
   "cell_type": "code",
   "execution_count": 120,
   "id": "4514ee4e",
   "metadata": {},
   "outputs": [
    {
     "data": {
      "text/plain": [
       "[2, 0, 4]"
      ]
     },
     "execution_count": 120,
     "metadata": {},
     "output_type": "execute_result"
    }
   ],
   "source": [
    "a = [1,2,3]\n",
    "b = [2,0,4]\n",
    "\n",
    "a and b"
   ]
  },
  {
   "cell_type": "code",
   "execution_count": 116,
   "id": "a47d56f3",
   "metadata": {},
   "outputs": [
    {
     "ename": "TypeError",
     "evalue": "unsupported operand type(s) for &: 'list' and 'list'",
     "output_type": "error",
     "traceback": [
      "\u001b[1;31m---------------------------------------------------------------------------\u001b[0m",
      "\u001b[1;31mTypeError\u001b[0m                                 Traceback (most recent call last)",
      "\u001b[1;32m~\\AppData\\Local\\Temp/ipykernel_1632/3682403309.py\u001b[0m in \u001b[0;36m<module>\u001b[1;34m\u001b[0m\n\u001b[1;32m----> 1\u001b[1;33m \u001b[0ma\u001b[0m \u001b[1;33m&\u001b[0m \u001b[0mb\u001b[0m\u001b[1;33m\u001b[0m\u001b[1;33m\u001b[0m\u001b[0m\n\u001b[0m",
      "\u001b[1;31mTypeError\u001b[0m: unsupported operand type(s) for &: 'list' and 'list'"
     ]
    }
   ],
   "source": [
    "a & b"
   ]
  },
  {
   "cell_type": "markdown",
   "id": "4b4e1536",
   "metadata": {},
   "source": [
    "When it comes to Numpy, things are a bit *opposite* - "
   ]
  },
  {
   "cell_type": "code",
   "execution_count": 118,
   "id": "05d4cdd8",
   "metadata": {},
   "outputs": [
    {
     "data": {
      "text/plain": [
       "array([0, 0, 0], dtype=int32)"
      ]
     },
     "execution_count": 118,
     "metadata": {},
     "output_type": "execute_result"
    }
   ],
   "source": [
    "a = np.array([1,2,3])\n",
    "b = np.array([2,0,4])\n",
    "\n",
    "a & b"
   ]
  },
  {
   "cell_type": "code",
   "execution_count": 119,
   "id": "07e2d5e2",
   "metadata": {},
   "outputs": [
    {
     "ename": "ValueError",
     "evalue": "The truth value of an array with more than one element is ambiguous. Use a.any() or a.all()",
     "output_type": "error",
     "traceback": [
      "\u001b[1;31m---------------------------------------------------------------------------\u001b[0m",
      "\u001b[1;31mValueError\u001b[0m                                Traceback (most recent call last)",
      "\u001b[1;32m~\\AppData\\Local\\Temp/ipykernel_1632/3074011133.py\u001b[0m in \u001b[0;36m<module>\u001b[1;34m\u001b[0m\n\u001b[1;32m----> 1\u001b[1;33m \u001b[0ma\u001b[0m \u001b[1;32mand\u001b[0m \u001b[0mb\u001b[0m\u001b[1;33m\u001b[0m\u001b[1;33m\u001b[0m\u001b[0m\n\u001b[0m",
      "\u001b[1;31mValueError\u001b[0m: The truth value of an array with more than one element is ambiguous. Use a.any() or a.all()"
     ]
    }
   ],
   "source": [
    "a and b"
   ]
  },
  {
   "cell_type": "markdown",
   "id": "657e1724",
   "metadata": {},
   "source": [
    "See [this SO Post](https://stackoverflow.com/questions/22646463/and-boolean-vs-bitwise-why-difference-in-behavior-with-lists-vs-nump)."
   ]
  },
  {
   "cell_type": "code",
   "execution_count": 123,
   "id": "5c8744c3",
   "metadata": {},
   "outputs": [
    {
     "data": {
      "text/plain": [
       "array([False, False,  True,  True,  True,  True,  True,  True,  True,\n",
       "        True,  True, False, False])"
      ]
     },
     "execution_count": 123,
     "metadata": {},
     "output_type": "execute_result"
    }
   ],
   "source": [
    "a = np.array([1,2,3,4,5,6,7,6,5,4,3,2,1])\n",
    "a >= 3 "
   ]
  },
  {
   "cell_type": "code",
   "execution_count": 124,
   "id": "22948c97",
   "metadata": {},
   "outputs": [
    {
     "data": {
      "text/plain": [
       "array([ True,  True,  True,  True,  True, False, False, False,  True,\n",
       "        True,  True,  True,  True])"
      ]
     },
     "execution_count": 124,
     "metadata": {},
     "output_type": "execute_result"
    }
   ],
   "source": [
    "a <=5"
   ]
  },
  {
   "cell_type": "code",
   "execution_count": 125,
   "id": "4bd9712f",
   "metadata": {},
   "outputs": [
    {
     "data": {
      "text/plain": [
       "array([3, 4, 5, 5, 4, 3])"
      ]
     },
     "execution_count": 125,
     "metadata": {},
     "output_type": "execute_result"
    }
   ],
   "source": [
    "a[(a >= 3) & (a <= 5)]"
   ]
  },
  {
   "cell_type": "markdown",
   "id": "76926d55",
   "metadata": {},
   "source": [
    "One can also modify the array through boolean indexing"
   ]
  },
  {
   "cell_type": "code",
   "execution_count": 126,
   "id": "c43727a1",
   "metadata": {},
   "outputs": [
    {
     "data": {
      "text/plain": [
       "array([ 1,  2, -1, -1, -1,  6,  7,  6, -1, -1, -1,  2,  1])"
      ]
     },
     "execution_count": 126,
     "metadata": {},
     "output_type": "execute_result"
    }
   ],
   "source": [
    "a[(a >= 3) & (a <= 5)] = -1\n",
    "a"
   ]
  },
  {
   "cell_type": "markdown",
   "id": "dc056f98",
   "metadata": {},
   "source": [
    "#### Combining advanced and basic indexing"
   ]
  },
  {
   "cell_type": "code",
   "execution_count": 129,
   "id": "fff983fc",
   "metadata": {},
   "outputs": [
    {
     "data": {
      "text/plain": [
       "array([[ 0,  1,  2,  3],\n",
       "       [ 4,  5,  6,  7],\n",
       "       [ 8,  9, 10, 11]])"
      ]
     },
     "execution_count": 129,
     "metadata": {},
     "output_type": "execute_result"
    }
   ],
   "source": [
    "X = np.arange(12).reshape(3,4)\n",
    "X"
   ]
  },
  {
   "cell_type": "code",
   "execution_count": 130,
   "id": "64c6039c",
   "metadata": {},
   "outputs": [
    {
     "data": {
      "text/plain": [
       "array([10,  8,  9])"
      ]
     },
     "execution_count": 130,
     "metadata": {},
     "output_type": "execute_result"
    }
   ],
   "source": [
    "X[2,[2,0,1]] #first part basic indexing, second part advance integer indexing"
   ]
  },
  {
   "cell_type": "code",
   "execution_count": 138,
   "id": "6e82c4f0",
   "metadata": {},
   "outputs": [
    {
     "data": {
      "text/plain": [
       "array([[10,  8,  9]])"
      ]
     },
     "execution_count": 138,
     "metadata": {},
     "output_type": "execute_result"
    }
   ],
   "source": [
    "X[2:3,[2,0,1]] "
   ]
  },
  {
   "cell_type": "code",
   "execution_count": 134,
   "id": "1647340a",
   "metadata": {},
   "outputs": [
    {
     "data": {
      "text/plain": [
       "array([[ 8,  9, 10, 11],\n",
       "       [ 0,  1,  2,  3],\n",
       "       [ 4,  5,  6,  7]])"
      ]
     },
     "execution_count": 134,
     "metadata": {},
     "output_type": "execute_result"
    }
   ],
   "source": [
    "X[[2,0,1]]"
   ]
  },
  {
   "cell_type": "code",
   "execution_count": 137,
   "id": "7624396f",
   "metadata": {},
   "outputs": [
    {
     "data": {
      "text/plain": [
       "array([10,  2,  6])"
      ]
     },
     "execution_count": 137,
     "metadata": {},
     "output_type": "execute_result"
    }
   ],
   "source": [
    "X[[2,0,1], 2]"
   ]
  },
  {
   "cell_type": "code",
   "execution_count": 139,
   "id": "1d871241",
   "metadata": {},
   "outputs": [
    {
     "data": {
      "text/plain": [
       "array([[False, False, False, False, False, False, False],\n",
       "       [False, False, False, False, False, False, False],\n",
       "       [False, False, False, False, False, False, False],\n",
       "       [ True,  True,  True,  True,  True,  True,  True],\n",
       "       [ True,  True,  True,  True,  True,  True,  True]])"
      ]
     },
     "execution_count": 139,
     "metadata": {},
     "output_type": "execute_result"
    }
   ],
   "source": [
    "x = np.arange(35).reshape(5, 7)\n",
    "b = x > 20\n",
    "b"
   ]
  },
  {
   "cell_type": "code",
   "execution_count": 140,
   "id": "27194293",
   "metadata": {},
   "outputs": [
    {
     "data": {
      "text/plain": [
       "array([[22, 23],\n",
       "       [29, 30]])"
      ]
     },
     "execution_count": 140,
     "metadata": {},
     "output_type": "execute_result"
    }
   ],
   "source": [
    "x[b[:, 5], 1:3]"
   ]
  },
  {
   "cell_type": "code",
   "execution_count": 141,
   "id": "0a2ae3c6",
   "metadata": {},
   "outputs": [
    {
     "data": {
      "text/plain": [
       "array([[21, 22, 23, 24, 25, 26, 27],\n",
       "       [28, 29, 30, 31, 32, 33, 34]])"
      ]
     },
     "execution_count": 141,
     "metadata": {},
     "output_type": "execute_result"
    }
   ],
   "source": [
    "x[b[:, 5]]"
   ]
  },
  {
   "cell_type": "code",
   "execution_count": 142,
   "id": "792fd34f",
   "metadata": {},
   "outputs": [
    {
     "data": {
      "text/plain": [
       "array([[4, 5]])"
      ]
     },
     "execution_count": 142,
     "metadata": {},
     "output_type": "execute_result"
    }
   ],
   "source": [
    "x = np.array([[ 0,  1,  2],\n",
    "              [ 3,  4,  5],\n",
    "              [ 6,  7,  8],\n",
    "              [ 9, 10, 11]])\n",
    "\n",
    "x[1:2, 1:3]"
   ]
  },
  {
   "cell_type": "code",
   "execution_count": 143,
   "id": "bfdbe199",
   "metadata": {},
   "outputs": [
    {
     "data": {
      "text/plain": [
       "array([[4, 5]])"
      ]
     },
     "execution_count": 143,
     "metadata": {},
     "output_type": "execute_result"
    }
   ],
   "source": [
    "x[1:2, [1, 2]]"
   ]
  },
  {
   "cell_type": "markdown",
   "id": "c35262bf",
   "metadata": {},
   "source": [
    "### Array Stacking and Splitting\n",
    "\n",
    "#### Horizontal Stacking  - `np.hstack(tuple)`\n",
    "\n",
    "This is equivalent to concatenation along the second axis, except for 1-D arrays where it concatenates along the first axis. Rebuilds arrays divided by `hsplit`. \n",
    "\n",
    "The arrays must have the same shape along all but the second axis, except 1-D arrays which can be any length."
   ]
  },
  {
   "cell_type": "code",
   "execution_count": 371,
   "id": "1a3ae90d",
   "metadata": {},
   "outputs": [
    {
     "data": {
      "text/plain": [
       "array([1, 2, 3, 4, 5, 6, 7])"
      ]
     },
     "execution_count": 371,
     "metadata": {},
     "output_type": "execute_result"
    }
   ],
   "source": [
    "#in case of 1-d, length can be different\n",
    "\n",
    "a = np.array([1,2,3])\n",
    "b = np.array([4,5,6,7])\n",
    "np.hstack((a,b))"
   ]
  },
  {
   "cell_type": "code",
   "execution_count": 374,
   "id": "b82d25ca",
   "metadata": {},
   "outputs": [
    {
     "data": {
      "text/plain": [
       "array([[ 0,  1,  2,  6,  7,  8],\n",
       "       [ 3,  4,  5,  9, 10, 11]])"
      ]
     },
     "execution_count": 374,
     "metadata": {},
     "output_type": "execute_result"
    }
   ],
   "source": [
    "a = np.arange(6).reshape(2,3)\n",
    "b = np.arange(6,12).reshape(2,3)\n",
    "np.hstack((a,b))                  #shape(2,6) second dimension length is affected"
   ]
  },
  {
   "cell_type": "code",
   "execution_count": 379,
   "id": "14f94f38",
   "metadata": {},
   "outputs": [
    {
     "data": {
      "text/plain": [
       "array([[ 0,  1,  2,  6,  7,  8,  9],\n",
       "       [ 3,  4,  5, 10, 11, 12, 13]])"
      ]
     },
     "execution_count": 379,
     "metadata": {},
     "output_type": "execute_result"
    }
   ],
   "source": [
    "a = np.arange(6).reshape(2,3)\n",
    "b = np.arange(6,14).reshape(2,4)  #here length of second axis different from a's second axis length\n",
    "np.hstack((a,b))                  #shape(2,7) second dimension length is affected"
   ]
  },
  {
   "cell_type": "code",
   "execution_count": 380,
   "id": "65978597",
   "metadata": {},
   "outputs": [
    {
     "name": "stdout",
     "output_type": "stream",
     "text": [
      "[[[ 0  1  2]\n",
      "  [ 3  4  5]]\n",
      "\n",
      " [[ 6  7  8]\n",
      "  [ 9 10 11]]]\n",
      "\n",
      "\n",
      "[[[12 13 14]\n",
      "  [15 16 17]\n",
      "  [18 19 20]]\n",
      "\n",
      " [[21 22 23]\n",
      "  [24 25 26]\n",
      "  [27 28 29]]]\n"
     ]
    },
    {
     "data": {
      "text/plain": [
       "array([[[ 0,  1,  2],\n",
       "        [ 3,  4,  5],\n",
       "        [12, 13, 14],\n",
       "        [15, 16, 17],\n",
       "        [18, 19, 20]],\n",
       "\n",
       "       [[ 6,  7,  8],\n",
       "        [ 9, 10, 11],\n",
       "        [21, 22, 23],\n",
       "        [24, 25, 26],\n",
       "        [27, 28, 29]]])"
      ]
     },
     "execution_count": 380,
     "metadata": {},
     "output_type": "execute_result"
    }
   ],
   "source": [
    "a = np.arange(12).reshape(2,2,3)\n",
    "b = np.arange(12,30).reshape(2,3,3) #again length of second dim in both a and b are different\n",
    "\n",
    "print(a)\n",
    "print('\\n')\n",
    "print(b)\n",
    "\n",
    "np.hstack((a,b))   #shape (2,4,3)  again, second dimension is length affected"
   ]
  },
  {
   "cell_type": "markdown",
   "id": "c4de7e5b",
   "metadata": {},
   "source": [
    "#### Vertical Stacking - `np.vstack(tuple)`\n",
    "\n",
    "Stack arrays in sequence vertically (row wise).\n",
    "\n",
    "This is equivalent to concatenation along the first axis after 1-D arrays of shape `(N,)` have been reshaped to `(1,N)`. Rebuilds arrays divided by `vsplit`.\n",
    "\n",
    "The arrays must have the same shape along all but the first axis. 1-D arrays must have the same length."
   ]
  },
  {
   "cell_type": "code",
   "execution_count": 381,
   "id": "480f7814",
   "metadata": {},
   "outputs": [
    {
     "data": {
      "text/plain": [
       "array([[1, 2, 3],\n",
       "       [4, 5, 6]])"
      ]
     },
     "execution_count": 381,
     "metadata": {},
     "output_type": "execute_result"
    }
   ],
   "source": [
    "a = np.array([1,2,3])     #converted to (1,3) shape\n",
    "b = np.array([4,5,6])     #converted to (1,3) shape\n",
    "c = np.array([7,8,9,10])  #converted to (1,4) shape, second dimension length different from that of a and b\n",
    "\n",
    "np.vstack((a,b))          # output is of (2,3) shape"
   ]
  },
  {
   "cell_type": "code",
   "execution_count": 382,
   "id": "a5657a98",
   "metadata": {
    "collapsed": true
   },
   "outputs": [
    {
     "ename": "ValueError",
     "evalue": "all the input array dimensions for the concatenation axis must match exactly, but along dimension 1, the array at index 0 has size 3 and the array at index 1 has size 4",
     "output_type": "error",
     "traceback": [
      "\u001b[1;31m---------------------------------------------------------------------------\u001b[0m",
      "\u001b[1;31mValueError\u001b[0m                                Traceback (most recent call last)",
      "\u001b[1;32m~\\AppData\\Local\\Temp/ipykernel_1632/3667487255.py\u001b[0m in \u001b[0;36m<module>\u001b[1;34m\u001b[0m\n\u001b[1;32m----> 1\u001b[1;33m \u001b[0mnp\u001b[0m\u001b[1;33m.\u001b[0m\u001b[0mvstack\u001b[0m\u001b[1;33m(\u001b[0m\u001b[1;33m(\u001b[0m\u001b[0ma\u001b[0m\u001b[1;33m,\u001b[0m\u001b[0mc\u001b[0m\u001b[1;33m)\u001b[0m\u001b[1;33m)\u001b[0m\u001b[1;33m\u001b[0m\u001b[1;33m\u001b[0m\u001b[0m\n\u001b[0m",
      "\u001b[1;32m<__array_function__ internals>\u001b[0m in \u001b[0;36mvstack\u001b[1;34m(*args, **kwargs)\u001b[0m\n",
      "\u001b[1;32m~\\miniconda3\\envs\\data\\lib\\site-packages\\numpy\\core\\shape_base.py\u001b[0m in \u001b[0;36mvstack\u001b[1;34m(tup)\u001b[0m\n\u001b[0;32m    281\u001b[0m     \u001b[1;32mif\u001b[0m \u001b[1;32mnot\u001b[0m \u001b[0misinstance\u001b[0m\u001b[1;33m(\u001b[0m\u001b[0marrs\u001b[0m\u001b[1;33m,\u001b[0m \u001b[0mlist\u001b[0m\u001b[1;33m)\u001b[0m\u001b[1;33m:\u001b[0m\u001b[1;33m\u001b[0m\u001b[1;33m\u001b[0m\u001b[0m\n\u001b[0;32m    282\u001b[0m         \u001b[0marrs\u001b[0m \u001b[1;33m=\u001b[0m \u001b[1;33m[\u001b[0m\u001b[0marrs\u001b[0m\u001b[1;33m]\u001b[0m\u001b[1;33m\u001b[0m\u001b[1;33m\u001b[0m\u001b[0m\n\u001b[1;32m--> 283\u001b[1;33m     \u001b[1;32mreturn\u001b[0m \u001b[0m_nx\u001b[0m\u001b[1;33m.\u001b[0m\u001b[0mconcatenate\u001b[0m\u001b[1;33m(\u001b[0m\u001b[0marrs\u001b[0m\u001b[1;33m,\u001b[0m \u001b[1;36m0\u001b[0m\u001b[1;33m)\u001b[0m\u001b[1;33m\u001b[0m\u001b[1;33m\u001b[0m\u001b[0m\n\u001b[0m\u001b[0;32m    284\u001b[0m \u001b[1;33m\u001b[0m\u001b[0m\n\u001b[0;32m    285\u001b[0m \u001b[1;33m\u001b[0m\u001b[0m\n",
      "\u001b[1;32m<__array_function__ internals>\u001b[0m in \u001b[0;36mconcatenate\u001b[1;34m(*args, **kwargs)\u001b[0m\n",
      "\u001b[1;31mValueError\u001b[0m: all the input array dimensions for the concatenation axis must match exactly, but along dimension 1, the array at index 0 has size 3 and the array at index 1 has size 4"
     ]
    }
   ],
   "source": [
    "np.vstack((a,c)) #error because 1-d arrays have different length so columns didn't match up"
   ]
  },
  {
   "cell_type": "code",
   "execution_count": 383,
   "id": "3026bc79",
   "metadata": {},
   "outputs": [],
   "source": [
    "a = np.arange(6).reshape(2,3)\n",
    "b = np.arange(6,15).reshape(3,3)\n",
    "c = np.arange(8).reshape(2,4)      #this can't v-stacked against a or b  "
   ]
  },
  {
   "cell_type": "code",
   "execution_count": 384,
   "id": "4d3e68af",
   "metadata": {},
   "outputs": [
    {
     "data": {
      "text/plain": [
       "array([[ 0,  1,  2],\n",
       "       [ 3,  4,  5],\n",
       "       [ 6,  7,  8],\n",
       "       [ 9, 10, 11],\n",
       "       [12, 13, 14]])"
      ]
     },
     "execution_count": 384,
     "metadata": {},
     "output_type": "execute_result"
    }
   ],
   "source": [
    "np.vstack((a,b))"
   ]
  },
  {
   "cell_type": "code",
   "execution_count": 387,
   "id": "f03542ec",
   "metadata": {},
   "outputs": [
    {
     "data": {
      "text/plain": [
       "array([[[ 0,  1,  2],\n",
       "        [ 3,  4,  5],\n",
       "        [ 6,  7,  8]],\n",
       "\n",
       "       [[ 9, 10, 11],\n",
       "        [12, 13, 14],\n",
       "        [15, 16, 17]],\n",
       "\n",
       "       [[18, 19, 20],\n",
       "        [21, 22, 23],\n",
       "        [24, 25, 26]],\n",
       "\n",
       "       [[27, 28, 29],\n",
       "        [30, 31, 32],\n",
       "        [33, 34, 35]],\n",
       "\n",
       "       [[36, 37, 38],\n",
       "        [39, 40, 41],\n",
       "        [42, 43, 44]]])"
      ]
     },
     "execution_count": 387,
     "metadata": {},
     "output_type": "execute_result"
    }
   ],
   "source": [
    "a = np.arange(18).reshape(2,3,3)\n",
    "b = np.arange(18,45).reshape(3,3,3)\n",
    "\n",
    "np.vstack((a,b)) #shape (5,3,3) #1st dim length can be different, rest dim should have same length"
   ]
  },
  {
   "cell_type": "markdown",
   "id": "5bf63553",
   "metadata": {},
   "source": [
    "#### Horizontal Splitting of array -  `np.hsplit(ary, indices_or_sections)`\n",
    "\n",
    "Split an array into multiple sub-arrays horizontally (column-wise).\n",
    "\n",
    "Please refer to the split documentation. hsplit is equivalent to `split` with `axis=1`, the array is always split along the second axis regardless of the array dimension.  "
   ]
  },
  {
   "cell_type": "code",
   "execution_count": 393,
   "id": "0ab93d5a",
   "metadata": {},
   "outputs": [
    {
     "data": {
      "text/plain": [
       "array([[ 0,  1,  2,  3,  4,  5,  6,  7],\n",
       "       [ 8,  9, 10, 11, 12, 13, 14, 15],\n",
       "       [16, 17, 18, 19, 20, 21, 22, 23],\n",
       "       [24, 25, 26, 27, 28, 29, 30, 31]])"
      ]
     },
     "execution_count": 393,
     "metadata": {},
     "output_type": "execute_result"
    }
   ],
   "source": [
    "x = np.arange(32).reshape(4, 8)\n",
    "x"
   ]
  },
  {
   "cell_type": "code",
   "execution_count": 394,
   "id": "e3acf5c0",
   "metadata": {},
   "outputs": [
    {
     "data": {
      "text/plain": [
       "[array([[ 0,  1,  2,  3],\n",
       "        [ 8,  9, 10, 11],\n",
       "        [16, 17, 18, 19],\n",
       "        [24, 25, 26, 27]]),\n",
       " array([[ 4,  5,  6,  7],\n",
       "        [12, 13, 14, 15],\n",
       "        [20, 21, 22, 23],\n",
       "        [28, 29, 30, 31]])]"
      ]
     },
     "execution_count": 394,
     "metadata": {},
     "output_type": "execute_result"
    }
   ],
   "source": [
    "np.hsplit(x, 2) #splitting along 2nd dim, that is columns will be splitted in 2-d array case"
   ]
  },
  {
   "cell_type": "code",
   "execution_count": 395,
   "id": "e807e2fe",
   "metadata": {},
   "outputs": [
    {
     "data": {
      "text/plain": [
       "[array([[ 0,  1,  2],\n",
       "        [ 8,  9, 10],\n",
       "        [16, 17, 18],\n",
       "        [24, 25, 26]]),\n",
       " array([[ 3,  4,  5],\n",
       "        [11, 12, 13],\n",
       "        [19, 20, 21],\n",
       "        [27, 28, 29]]),\n",
       " array([[ 6,  7],\n",
       "        [14, 15],\n",
       "        [22, 23],\n",
       "        [30, 31]])]"
      ]
     },
     "execution_count": 395,
     "metadata": {},
     "output_type": "execute_result"
    }
   ],
   "source": [
    "np.hsplit(x, np.array([3, 6])) #note the output, it has 3 arrays\n",
    "\n",
    "#np.array([3,6]) -> first array with col_index 0 to 2, 2nd with col_index 3 to 5, remaining in last array"
   ]
  },
  {
   "cell_type": "code",
   "execution_count": 397,
   "id": "79e85a4e",
   "metadata": {},
   "outputs": [
    {
     "data": {
      "text/plain": [
       "array([[[0., 1.],\n",
       "        [2., 3.]],\n",
       "\n",
       "       [[4., 5.],\n",
       "        [6., 7.]]])"
      ]
     },
     "execution_count": 397,
     "metadata": {},
     "output_type": "execute_result"
    }
   ],
   "source": [
    "x = np.arange(8.0).reshape(2, 2, 2)\n",
    "x"
   ]
  },
  {
   "cell_type": "code",
   "execution_count": 398,
   "id": "639acacc",
   "metadata": {},
   "outputs": [
    {
     "data": {
      "text/plain": [
       "[array([[[0., 1.]],\n",
       " \n",
       "        [[4., 5.]]]),\n",
       " array([[[2., 3.]],\n",
       " \n",
       "        [[6., 7.]]])]"
      ]
     },
     "execution_count": 398,
     "metadata": {},
     "output_type": "execute_result"
    }
   ],
   "source": [
    "np.hsplit(x, 2) #splitting done along 2nd dim i.e. along rows this time"
   ]
  },
  {
   "cell_type": "markdown",
   "id": "e476064d",
   "metadata": {},
   "source": [
    "#### Vertical Splitting of array -  `vsplit(ary, indices_or_sections)`\n",
    "\n",
    "Please refer to the split documentation. `vsplit` is equivalent to split with `axis=0` (default), the array is always split along the first axis regardless of the array dimension."
   ]
  },
  {
   "cell_type": "code",
   "execution_count": 460,
   "id": "281a300e",
   "metadata": {},
   "outputs": [
    {
     "data": {
      "text/plain": [
       "[array([[0., 1., 2., 3.],\n",
       "        [4., 5., 6., 7.]]),\n",
       " array([[ 8.,  9., 10., 11.],\n",
       "        [12., 13., 14., 15.]])]"
      ]
     },
     "execution_count": 460,
     "metadata": {},
     "output_type": "execute_result"
    }
   ],
   "source": [
    "x = np.arange(16.0).reshape(4, 4)\n",
    "np.vsplit(x, 2)"
   ]
  },
  {
   "cell_type": "code",
   "execution_count": 461,
   "id": "8ec3fe45",
   "metadata": {},
   "outputs": [
    {
     "data": {
      "text/plain": [
       "[array([[ 0.,  1.,  2.,  3.],\n",
       "        [ 4.,  5.,  6.,  7.],\n",
       "        [ 8.,  9., 10., 11.]]),\n",
       " array([[12., 13., 14., 15.]]),\n",
       " array([], shape=(0, 4), dtype=float64)]"
      ]
     },
     "execution_count": 461,
     "metadata": {},
     "output_type": "execute_result"
    }
   ],
   "source": [
    "np.vsplit(x, np.array([3, 6])) #output has 3 arrays, last one is empty array"
   ]
  },
  {
   "cell_type": "markdown",
   "id": "af269646",
   "metadata": {},
   "source": [
    "#### Generic splitting function `np.split(ary, indices_or_sections, axis=0)`\n",
    "\n",
    "Instead of using `vsplit` or `hsplit`, we can simply use the `split` function. `np.split(ary, indices_or_sections, axis=0)` is equivalent to `vsplit(ary, indices_or_sections)` and `np.split(ary, indices_or_sections, axis=1)` is equivalent to `hsplit(ary, indices_or_sections)`"
   ]
  },
  {
   "cell_type": "code",
   "execution_count": 462,
   "id": "e5485186",
   "metadata": {},
   "outputs": [
    {
     "data": {
      "text/plain": [
       "[array([[0., 1., 2., 3.],\n",
       "        [4., 5., 6., 7.]]),\n",
       " array([[ 8.,  9., 10., 11.],\n",
       "        [12., 13., 14., 15.]])]"
      ]
     },
     "execution_count": 462,
     "metadata": {},
     "output_type": "execute_result"
    }
   ],
   "source": [
    "np.split(x, 2)"
   ]
  },
  {
   "cell_type": "code",
   "execution_count": 463,
   "id": "638b1e42",
   "metadata": {},
   "outputs": [
    {
     "data": {
      "text/plain": [
       "[array([[ 0.,  1.,  2.,  3.],\n",
       "        [ 4.,  5.,  6.,  7.],\n",
       "        [ 8.,  9., 10., 11.]]),\n",
       " array([[12., 13., 14., 15.]]),\n",
       " array([], shape=(0, 4), dtype=float64)]"
      ]
     },
     "execution_count": 463,
     "metadata": {},
     "output_type": "execute_result"
    }
   ],
   "source": [
    "np.split(x, np.array([3,6]))"
   ]
  },
  {
   "cell_type": "markdown",
   "id": "2803b488",
   "metadata": {},
   "source": [
    "#### Concatenation of arrays - `numpy.concatenate((a1, a2, ...), axis=0, out=None, dtype=None, casting=\"same_kind\")`\n",
    "\n",
    "Join a sequence of arrays along an existing axis.\n",
    "\n",
    "The arrays must have the same shape, except in the dimension corresponding to axis (the first, by default). If axis is `None`, arrays are flattened. "
   ]
  },
  {
   "cell_type": "code",
   "execution_count": 409,
   "id": "f06a0684",
   "metadata": {},
   "outputs": [
    {
     "data": {
      "text/plain": [
       "array([[1, 2],\n",
       "       [3, 4],\n",
       "       [5, 6]])"
      ]
     },
     "execution_count": 409,
     "metadata": {},
     "output_type": "execute_result"
    }
   ],
   "source": [
    "a = np.array([[1, 2], [3, 4]])\n",
    "b = np.array([[5, 6]])\n",
    "\n",
    "np.concatenate((a,b))"
   ]
  },
  {
   "cell_type": "code",
   "execution_count": 410,
   "id": "a3fa9dac",
   "metadata": {},
   "outputs": [
    {
     "data": {
      "text/plain": [
       "array([[1, 2, 5],\n",
       "       [3, 4, 6]])"
      ]
     },
     "execution_count": 410,
     "metadata": {},
     "output_type": "execute_result"
    }
   ],
   "source": [
    "np.concatenate((a, b.T), axis=1)"
   ]
  },
  {
   "cell_type": "code",
   "execution_count": 411,
   "id": "65d9b9f3",
   "metadata": {},
   "outputs": [
    {
     "data": {
      "text/plain": [
       "array([1, 2, 3, 4, 5, 6])"
      ]
     },
     "execution_count": 411,
     "metadata": {},
     "output_type": "execute_result"
    }
   ],
   "source": [
    "np.concatenate((a, b), axis=None)"
   ]
  },
  {
   "cell_type": "markdown",
   "id": "3b93a317",
   "metadata": {},
   "source": [
    "### Broadcasting\n",
    "\n",
    "The term broadcasting describes how NumPy treats arrays with different shapes during arithmetic operations. Subject to certain constraints, the smaller array is “broadcast” across the larger array so that they have compatible shapes. \n",
    "\n",
    "When operating on two arrays, NumPy compares their shapes element-wise. It starts with the trailing (i.e. rightmost) dimensions and works its way left. Two dimensions are compatible when\n",
    "\n",
    " 1. they are equal, or\n",
    "\n",
    " 2. one of them is 1\n",
    "\n",
    "Arrays do not need to have the same number of dimensions.\n",
    "\n"
   ]
  },
  {
   "cell_type": "code",
   "execution_count": 147,
   "id": "f5cd809c",
   "metadata": {},
   "outputs": [
    {
     "data": {
      "text/plain": [
       "array([[ 0,  2,  4],\n",
       "       [ 6,  8, 10]])"
      ]
     },
     "execution_count": 147,
     "metadata": {},
     "output_type": "execute_result"
    }
   ],
   "source": [
    "a = np.arange(6).reshape(2,3) #shape is (2,3)\n",
    "b = np.array([2])             #shape is (1,)\n",
    "a*b"
   ]
  },
  {
   "cell_type": "markdown",
   "id": "e524cfea",
   "metadata": {},
   "source": [
    "In above example, we have 2 arrays of different dimensions. Starting from right, we see `3` is not equal to `1` but one of them is `1`. So second array is stretched to match the shape wrt to first array. \n",
    "\n",
    "The rules for broadcasting are as follows - \n",
    "\n",
    "- Rule 1: If the two arrays differ in their number of dimensions, the shape of the one with fewer dimensions is *padded* with ones on its leading (left) side.\n",
    "- Rule 2: If the shape of the two arrays does not match in any dimension, the array with shape equal to 1 in that dimension is stretched to match the other shape.\n",
    "- Rule 3: If in any dimension the sizes disagree and neither is equal to 1, an error is raised.\n",
    "\n",
    "Example 1 - "
   ]
  },
  {
   "cell_type": "code",
   "execution_count": 148,
   "id": "ed37ad06",
   "metadata": {},
   "outputs": [],
   "source": [
    "M = np.ones((2, 3))\n",
    "a = np.arange(3)"
   ]
  },
  {
   "cell_type": "markdown",
   "id": "70bcfda2",
   "metadata": {},
   "source": [
    "Let's consider an operation on these two arrays. The shape of the arrays are\n",
    "\n",
    "- ``M.shape = (2, 3)``\n",
    "- ``a.shape = (3,)``\n",
    "\n",
    "We see by rule 1 that the array ``a`` has fewer dimensions, so we pad it on the left with ones:\n",
    "\n",
    "- ``M.shape -> (2, 3)``\n",
    "- ``a.shape -> (1, 3)``\n",
    "\n",
    "By rule 2, we now see that the first dimension disagrees, so we stretch this dimension to match:\n",
    "\n",
    "- ``M.shape -> (2, 3)``\n",
    "- ``a.shape -> (2, 3)``\n",
    "\n",
    "The shapes match, and we see that the final shape will be ``(2, 3)``:"
   ]
  },
  {
   "cell_type": "code",
   "execution_count": 149,
   "id": "04233fa1",
   "metadata": {},
   "outputs": [
    {
     "data": {
      "text/plain": [
       "array([[1., 2., 3.],\n",
       "       [1., 2., 3.]])"
      ]
     },
     "execution_count": 149,
     "metadata": {},
     "output_type": "execute_result"
    }
   ],
   "source": [
    "M + a"
   ]
  },
  {
   "cell_type": "markdown",
   "id": "5247d581",
   "metadata": {},
   "source": [
    "Example 2 - "
   ]
  },
  {
   "cell_type": "code",
   "execution_count": 150,
   "id": "41094c7d",
   "metadata": {},
   "outputs": [],
   "source": [
    "a = np.arange(3).reshape((3, 1))\n",
    "b = np.arange(3)\n"
   ]
  },
  {
   "cell_type": "markdown",
   "id": "c3784d5e",
   "metadata": {},
   "source": [
    "Again, we'll start by writing out the shape of the arrays:\n",
    "\n",
    "- ``a.shape = (3, 1)``\n",
    "- ``b.shape = (3,)``\n",
    "\n",
    "Rule 1 says we must pad the shape of ``b`` with ones:\n",
    "\n",
    "- ``a.shape -> (3, 1)``\n",
    "- ``b.shape -> (1, 3)``\n",
    "\n",
    "And rule 2 tells us that we upgrade each of these ones to match the corresponding size of the other array:\n",
    "\n",
    "- ``a.shape -> (3, 3)``\n",
    "- ``b.shape -> (3, 3)``\n",
    "\n",
    "Because the result matches, these shapes are compatible. We can see this here:"
   ]
  },
  {
   "cell_type": "code",
   "execution_count": 151,
   "id": "d6af0270",
   "metadata": {},
   "outputs": [
    {
     "data": {
      "text/plain": [
       "array([[0, 1, 2],\n",
       "       [1, 2, 3],\n",
       "       [2, 3, 4]])"
      ]
     },
     "execution_count": 151,
     "metadata": {},
     "output_type": "execute_result"
    }
   ],
   "source": [
    "a + b"
   ]
  },
  {
   "cell_type": "markdown",
   "id": "564a0641",
   "metadata": {},
   "source": [
    "##### Example 3\n",
    "\n",
    "However in following case, even after applying both rules, the final shapes don't match up so addition of both arrays raises ValueError. "
   ]
  },
  {
   "cell_type": "code",
   "execution_count": 152,
   "id": "5f3c02b1",
   "metadata": {},
   "outputs": [
    {
     "ename": "ValueError",
     "evalue": "operands could not be broadcast together with shapes (4,) (2,) ",
     "output_type": "error",
     "traceback": [
      "\u001b[1;31m---------------------------------------------------------------------------\u001b[0m",
      "\u001b[1;31mValueError\u001b[0m                                Traceback (most recent call last)",
      "\u001b[1;32m~\\AppData\\Local\\Temp/ipykernel_1632/2871638152.py\u001b[0m in \u001b[0;36m<module>\u001b[1;34m\u001b[0m\n\u001b[0;32m      1\u001b[0m \u001b[1;31m#broadcasting? No chance.\u001b[0m\u001b[1;33m\u001b[0m\u001b[1;33m\u001b[0m\u001b[0m\n\u001b[0;32m      2\u001b[0m \u001b[0ma\u001b[0m \u001b[1;33m=\u001b[0m \u001b[0mnp\u001b[0m\u001b[1;33m.\u001b[0m\u001b[0marange\u001b[0m\u001b[1;33m(\u001b[0m\u001b[1;36m4\u001b[0m\u001b[1;33m)\u001b[0m\u001b[1;33m\u001b[0m\u001b[1;33m\u001b[0m\u001b[0m\n\u001b[1;32m----> 3\u001b[1;33m \u001b[0ma\u001b[0m \u001b[1;33m+\u001b[0m \u001b[0mnp\u001b[0m\u001b[1;33m.\u001b[0m\u001b[0marray\u001b[0m\u001b[1;33m(\u001b[0m\u001b[1;33m[\u001b[0m\u001b[1;36m1\u001b[0m\u001b[1;33m,\u001b[0m \u001b[1;36m2\u001b[0m\u001b[1;33m]\u001b[0m\u001b[1;33m)\u001b[0m\u001b[1;33m\u001b[0m\u001b[1;33m\u001b[0m\u001b[0m\n\u001b[0m",
      "\u001b[1;31mValueError\u001b[0m: operands could not be broadcast together with shapes (4,) (2,) "
     ]
    }
   ],
   "source": [
    "#broadcasting? No chance.\n",
    "a = np.arange(4)\n",
    "a + np.array([1, 2])\n"
   ]
  },
  {
   "cell_type": "markdown",
   "id": "56b6846b",
   "metadata": {},
   "source": [
    "### Some useful tricks"
   ]
  },
  {
   "cell_type": "markdown",
   "id": "e8e2d8f0",
   "metadata": {},
   "source": [
    "##### Flipping the array - `np.flip`"
   ]
  },
  {
   "cell_type": "code",
   "execution_count": 210,
   "id": "81364a39",
   "metadata": {},
   "outputs": [
    {
     "data": {
      "text/plain": [
       "array([[10,  0,  3],\n",
       "       [10,  2,  3],\n",
       "       [10, 11,  8]])"
      ]
     },
     "execution_count": 210,
     "metadata": {},
     "output_type": "execute_result"
    }
   ],
   "source": [
    "a = np.random.randint(12, size = (3,3))\n",
    "a"
   ]
  },
  {
   "cell_type": "code",
   "execution_count": 211,
   "id": "132062ae",
   "metadata": {},
   "outputs": [
    {
     "data": {
      "text/plain": [
       "array([[ 8, 11, 10],\n",
       "       [ 3,  2, 10],\n",
       "       [ 3,  0, 10]])"
      ]
     },
     "execution_count": 211,
     "metadata": {},
     "output_type": "execute_result"
    }
   ],
   "source": [
    "np.flip(a) #both rows and columns are reversed"
   ]
  },
  {
   "cell_type": "code",
   "execution_count": 212,
   "id": "0209a099",
   "metadata": {},
   "outputs": [
    {
     "data": {
      "text/plain": [
       "(array([[10, 11,  8],\n",
       "        [10,  2,  3],\n",
       "        [10,  0,  3]]),\n",
       " array([[ 3,  0, 10],\n",
       "        [ 3,  2, 10],\n",
       "        [ 8, 11, 10]]))"
      ]
     },
     "execution_count": 212,
     "metadata": {},
     "output_type": "execute_result"
    }
   ],
   "source": [
    "np.flip(a, axis = 0), np.flip(a, axis = 1)"
   ]
  },
  {
   "cell_type": "code",
   "execution_count": 213,
   "id": "6439e411",
   "metadata": {},
   "outputs": [
    {
     "data": {
      "text/plain": [
       "array([[ 8, 11, 10],\n",
       "       [ 3,  2, 10],\n",
       "       [ 3,  0, 10]])"
      ]
     },
     "execution_count": 213,
     "metadata": {},
     "output_type": "execute_result"
    }
   ],
   "source": [
    "np.flip(a, axis = (0,1))"
   ]
  },
  {
   "cell_type": "markdown",
   "id": "51bec00a",
   "metadata": {},
   "source": [
    "##### Flattening the arrays - `np.flatten` & `np.ravel`"
   ]
  },
  {
   "cell_type": "code",
   "execution_count": 214,
   "id": "657c48c1",
   "metadata": {},
   "outputs": [
    {
     "data": {
      "text/plain": [
       "array([[10,  0,  3],\n",
       "       [10,  2,  3],\n",
       "       [10, 11,  8]])"
      ]
     },
     "execution_count": 214,
     "metadata": {},
     "output_type": "execute_result"
    }
   ],
   "source": [
    "a"
   ]
  },
  {
   "cell_type": "code",
   "execution_count": 215,
   "id": "2181ba3a",
   "metadata": {},
   "outputs": [
    {
     "data": {
      "text/plain": [
       "array([10,  0,  3, 10,  2,  3, 10, 11,  8])"
      ]
     },
     "execution_count": 215,
     "metadata": {},
     "output_type": "execute_result"
    }
   ],
   "source": [
    "a.flatten()"
   ]
  },
  {
   "cell_type": "code",
   "execution_count": 216,
   "id": "a08d0330",
   "metadata": {},
   "outputs": [
    {
     "data": {
      "text/plain": [
       "array([10,  0,  3, 10,  2,  3, 10, 11,  8])"
      ]
     },
     "execution_count": 216,
     "metadata": {},
     "output_type": "execute_result"
    }
   ],
   "source": [
    "a.ravel()"
   ]
  },
  {
   "cell_type": "markdown",
   "id": "985768c4",
   "metadata": {},
   "source": [
    "**flatten vs ravel:** The difference between `ravel` and `flatten` is, the new array created using `ravel` is actually a reference to the parent array. So, any changes to the new array will affect the parent as well. But is memory efficient since it does not create a copy."
   ]
  },
  {
   "cell_type": "code",
   "execution_count": 217,
   "id": "4cfcaf21",
   "metadata": {},
   "outputs": [
    {
     "data": {
      "text/plain": [
       "array([[10,  0,  3],\n",
       "       [10,  2,  3],\n",
       "       [10, 11,  8]])"
      ]
     },
     "execution_count": 217,
     "metadata": {},
     "output_type": "execute_result"
    }
   ],
   "source": [
    "a.flatten()[1] = 55\n",
    "a"
   ]
  },
  {
   "cell_type": "code",
   "execution_count": 218,
   "id": "f2bcf98f",
   "metadata": {},
   "outputs": [
    {
     "data": {
      "text/plain": [
       "array([[10, 55,  3],\n",
       "       [10,  2,  3],\n",
       "       [10, 11,  8]])"
      ]
     },
     "execution_count": 218,
     "metadata": {},
     "output_type": "execute_result"
    }
   ],
   "source": [
    "a.ravel()[1] = 55\n",
    "a"
   ]
  },
  {
   "cell_type": "markdown",
   "id": "e2021697",
   "metadata": {},
   "source": [
    "##### Adding dimension - `np.expand_dims`\n",
    "\n",
    "Earlier we saw that `np.newaxis` or `None` can be used to add a new dimenion. We can also use `np.expand_dims` function. "
   ]
  },
  {
   "cell_type": "code",
   "execution_count": 219,
   "id": "9be05fa7",
   "metadata": {},
   "outputs": [
    {
     "data": {
      "text/plain": [
       "array([[10, 55,  3],\n",
       "       [10,  2,  3],\n",
       "       [10, 11,  8]])"
      ]
     },
     "execution_count": 219,
     "metadata": {},
     "output_type": "execute_result"
    }
   ],
   "source": [
    "a"
   ]
  },
  {
   "cell_type": "code",
   "execution_count": 220,
   "id": "76dd0da0",
   "metadata": {},
   "outputs": [
    {
     "data": {
      "text/plain": [
       "(3, 3)"
      ]
     },
     "execution_count": 220,
     "metadata": {},
     "output_type": "execute_result"
    }
   ],
   "source": [
    "a.shape"
   ]
  },
  {
   "cell_type": "code",
   "execution_count": 221,
   "id": "abf08388",
   "metadata": {},
   "outputs": [],
   "source": [
    "b = np.expand_dims(a, axis = 0)"
   ]
  },
  {
   "cell_type": "code",
   "execution_count": 222,
   "id": "6d7ed94d",
   "metadata": {},
   "outputs": [
    {
     "data": {
      "text/plain": [
       "((1, 3, 3),\n",
       " array([[[10, 55,  3],\n",
       "         [10,  2,  3],\n",
       "         [10, 11,  8]]]))"
      ]
     },
     "execution_count": 222,
     "metadata": {},
     "output_type": "execute_result"
    }
   ],
   "source": [
    "b.shape, b"
   ]
  },
  {
   "cell_type": "code",
   "execution_count": 223,
   "id": "4b448e0b",
   "metadata": {},
   "outputs": [
    {
     "data": {
      "text/plain": [
       "array([[[10, 55,  3]],\n",
       "\n",
       "       [[10,  2,  3]],\n",
       "\n",
       "       [[10, 11,  8]]])"
      ]
     },
     "execution_count": 223,
     "metadata": {},
     "output_type": "execute_result"
    }
   ],
   "source": [
    "np.expand_dims(a, axis = 1)"
   ]
  },
  {
   "cell_type": "markdown",
   "id": "1ab9e95d",
   "metadata": {},
   "source": [
    "##### Changing the `dtype` - `np.astype` "
   ]
  },
  {
   "cell_type": "code",
   "execution_count": 224,
   "id": "0b881fec",
   "metadata": {},
   "outputs": [
    {
     "data": {
      "text/plain": [
       "array([[10, 55,  3],\n",
       "       [10,  2,  3],\n",
       "       [10, 11,  8]])"
      ]
     },
     "execution_count": 224,
     "metadata": {},
     "output_type": "execute_result"
    }
   ],
   "source": [
    "a"
   ]
  },
  {
   "cell_type": "code",
   "execution_count": 225,
   "id": "21704e0f",
   "metadata": {},
   "outputs": [
    {
     "data": {
      "text/plain": [
       "array([[10., 55.,  3.],\n",
       "       [10.,  2.,  3.],\n",
       "       [10., 11.,  8.]])"
      ]
     },
     "execution_count": 225,
     "metadata": {},
     "output_type": "execute_result"
    }
   ],
   "source": [
    "a.astype('float')"
   ]
  },
  {
   "cell_type": "markdown",
   "id": "772a0671",
   "metadata": {},
   "source": [
    "##### array to Python list conversion - `array.tolist()`"
   ]
  },
  {
   "cell_type": "code",
   "execution_count": 226,
   "id": "d528824b",
   "metadata": {},
   "outputs": [
    {
     "data": {
      "text/plain": [
       "[[10, 55, 3], [10, 2, 3], [10, 11, 8]]"
      ]
     },
     "execution_count": 226,
     "metadata": {},
     "output_type": "execute_result"
    }
   ],
   "source": [
    "a.tolist()"
   ]
  },
  {
   "cell_type": "markdown",
   "id": "82684f6f",
   "metadata": {},
   "source": [
    "##### Finding unique Values in an array\n",
    "\n",
    "`np.unique(\n",
    "    ar,\n",
    "    return_index=False,\n",
    "    return_inverse=False,\n",
    "    return_counts=False,\n",
    "    axis=None,\n",
    ")`"
   ]
  },
  {
   "cell_type": "code",
   "execution_count": 230,
   "id": "2f9daf61",
   "metadata": {},
   "outputs": [
    {
     "data": {
      "text/plain": [
       "array([ 2,  3,  8, 10, 11, 55])"
      ]
     },
     "execution_count": 230,
     "metadata": {},
     "output_type": "execute_result"
    }
   ],
   "source": [
    "np.unique(a)"
   ]
  },
  {
   "cell_type": "code",
   "execution_count": 231,
   "id": "da2dd617",
   "metadata": {},
   "outputs": [
    {
     "data": {
      "text/plain": [
       "(array([ 2,  3,  8, 10, 11, 55]), array([1, 2, 1, 3, 1, 1], dtype=int64))"
      ]
     },
     "execution_count": 231,
     "metadata": {},
     "output_type": "execute_result"
    }
   ],
   "source": [
    "np.unique(a, return_counts = True) #one array for unique values, second array for counts"
   ]
  },
  {
   "cell_type": "code",
   "execution_count": 245,
   "id": "9ba88b26",
   "metadata": {},
   "outputs": [],
   "source": [
    "x,y = np.unique(a, return_inverse = True) #1st array (x) unique values, 2nd array (y) to generate flattened original array "
   ]
  },
  {
   "cell_type": "code",
   "execution_count": 248,
   "id": "feae5292",
   "metadata": {},
   "outputs": [
    {
     "data": {
      "text/plain": [
       "(array([ 2,  3,  8, 10, 11, 55]),\n",
       " array([3, 5, 1, 3, 0, 1, 3, 4, 2], dtype=int64))"
      ]
     },
     "execution_count": 248,
     "metadata": {},
     "output_type": "execute_result"
    }
   ],
   "source": [
    "x,y"
   ]
  },
  {
   "cell_type": "code",
   "execution_count": 247,
   "id": "7c637778",
   "metadata": {},
   "outputs": [
    {
     "data": {
      "text/plain": [
       "array([10, 55,  3, 10,  2,  3, 10, 11,  8])"
      ]
     },
     "execution_count": 247,
     "metadata": {},
     "output_type": "execute_result"
    }
   ],
   "source": [
    "x[y]"
   ]
  },
  {
   "cell_type": "code",
   "execution_count": 239,
   "id": "cb37673f",
   "metadata": {},
   "outputs": [
    {
     "data": {
      "text/plain": [
       "(array([ 2,  3,  8, 10, 11, 55]), array([4, 2, 8, 0, 7, 1], dtype=int64))"
      ]
     },
     "execution_count": 239,
     "metadata": {},
     "output_type": "execute_result"
    }
   ],
   "source": [
    "np.unique(a, return_index= True) #unique array and their index in flattened original array"
   ]
  },
  {
   "cell_type": "markdown",
   "id": "4a9b21f2",
   "metadata": {},
   "source": [
    "##### Creating a CSV File directly in Notebook and Generating Numpy Array from this File"
   ]
  },
  {
   "cell_type": "code",
   "execution_count": 358,
   "id": "5e9f7ffa",
   "metadata": {},
   "outputs": [
    {
     "name": "stdout",
     "output_type": "stream",
     "text": [
      "Writing example.csv\n"
     ]
    }
   ],
   "source": [
    "%%file example.csv\n",
    "1,2,3,4\n",
    "5,6,,8\n",
    "10,11,12,"
   ]
  },
  {
   "cell_type": "code",
   "execution_count": 359,
   "id": "9867dbbe",
   "metadata": {},
   "outputs": [
    {
     "data": {
      "text/plain": [
       "array([[ 1.,  2.,  3.,  4.],\n",
       "       [ 5.,  6., nan,  8.],\n",
       "       [10., 11., 12., nan]])"
      ]
     },
     "execution_count": 359,
     "metadata": {},
     "output_type": "execute_result"
    }
   ],
   "source": [
    "ary = np.genfromtxt('example.csv', delimiter=',')\n",
    "ary"
   ]
  },
  {
   "cell_type": "markdown",
   "id": "46c5c3ff",
   "metadata": {},
   "source": [
    "##### Counting Zero or Non-Zero Values - `np.count_nonzero`"
   ]
  },
  {
   "cell_type": "code",
   "execution_count": 361,
   "id": "144a1d57",
   "metadata": {},
   "outputs": [
    {
     "data": {
      "text/plain": [
       "array([[False, False, False, False],\n",
       "       [False, False,  True, False],\n",
       "       [False, False, False,  True]])"
      ]
     },
     "execution_count": 361,
     "metadata": {},
     "output_type": "execute_result"
    }
   ],
   "source": [
    "a = np.isnan(ary)\n",
    "a"
   ]
  },
  {
   "cell_type": "code",
   "execution_count": 362,
   "id": "02805a32",
   "metadata": {},
   "outputs": [
    {
     "data": {
      "text/plain": [
       "12"
      ]
     },
     "execution_count": 362,
     "metadata": {},
     "output_type": "execute_result"
    }
   ],
   "source": [
    "np.count_nonzero(ary) # Note that nan is nonzero value "
   ]
  },
  {
   "cell_type": "code",
   "execution_count": 363,
   "id": "0791956f",
   "metadata": {},
   "outputs": [
    {
     "data": {
      "text/plain": [
       "2"
      ]
     },
     "execution_count": 363,
     "metadata": {},
     "output_type": "execute_result"
    }
   ],
   "source": [
    "np.count_nonzero(a) #False is zero, True is 1"
   ]
  },
  {
   "cell_type": "code",
   "execution_count": 364,
   "id": "40c40a89",
   "metadata": {},
   "outputs": [
    {
     "data": {
      "text/plain": [
       "2"
      ]
     },
     "execution_count": 364,
     "metadata": {},
     "output_type": "execute_result"
    }
   ],
   "source": [
    "np.count_nonzero(ary < 3)  #how many values less than 3? Note how nan affected the result and raised a warning."
   ]
  },
  {
   "cell_type": "code",
   "execution_count": 365,
   "id": "15ad943e",
   "metadata": {},
   "outputs": [
    {
     "data": {
      "text/plain": [
       "array([[ True,  True, False, False],\n",
       "       [False, False, False, False],\n",
       "       [False, False, False, False]])"
      ]
     },
     "execution_count": 365,
     "metadata": {},
     "output_type": "execute_result"
    }
   ],
   "source": [
    "ary < 3"
   ]
  },
  {
   "cell_type": "markdown",
   "id": "471b9b0e",
   "metadata": {},
   "source": [
    "##### Converting nan to Zero - `np.nan_to_num`\n",
    "\n",
    "`np.nan_to_num(x, copy=True, nan=0.0, posinf=None, neginf=None)`"
   ]
  },
  {
   "cell_type": "code",
   "execution_count": 366,
   "id": "8ce4eff1",
   "metadata": {},
   "outputs": [
    {
     "data": {
      "text/plain": [
       "array([[ 1.,  2.,  3.,  4.],\n",
       "       [ 5.,  6.,  0.,  8.],\n",
       "       [10., 11., 12.,  0.]])"
      ]
     },
     "execution_count": 366,
     "metadata": {},
     "output_type": "execute_result"
    }
   ],
   "source": [
    "a = np.nan_to_num(ary)\n",
    "a"
   ]
  },
  {
   "cell_type": "markdown",
   "id": "03f3fed9",
   "metadata": {},
   "source": [
    "##### Transposition of array"
   ]
  },
  {
   "cell_type": "code",
   "execution_count": 445,
   "id": "1bd53dab",
   "metadata": {},
   "outputs": [
    {
     "data": {
      "text/plain": [
       "array([[0, 1, 2],\n",
       "       [3, 4, 5],\n",
       "       [6, 7, 8]])"
      ]
     },
     "execution_count": 445,
     "metadata": {},
     "output_type": "execute_result"
    }
   ],
   "source": [
    "a = np.arange(9).reshape(3,3)\n",
    "a"
   ]
  },
  {
   "cell_type": "code",
   "execution_count": 446,
   "id": "92065a00",
   "metadata": {},
   "outputs": [
    {
     "data": {
      "text/plain": [
       "array([[0, 3, 6],\n",
       "       [1, 4, 7],\n",
       "       [2, 5, 8]])"
      ]
     },
     "execution_count": 446,
     "metadata": {},
     "output_type": "execute_result"
    }
   ],
   "source": [
    "a.T"
   ]
  },
  {
   "cell_type": "markdown",
   "id": "fb849a87",
   "metadata": {},
   "source": [
    "**`a.T`** returns view rather than a copy so operation **`a+=a.T`** is not valid. It may work for small array (because of buffering) but will fail for larger arrays in unpredictable ways."
   ]
  },
  {
   "cell_type": "code",
   "execution_count": 447,
   "id": "b505d57d",
   "metadata": {},
   "outputs": [
    {
     "data": {
      "text/plain": [
       "array([[ 0,  4,  8],\n",
       "       [ 4,  8, 12],\n",
       "       [ 8, 12, 16]])"
      ]
     },
     "execution_count": 447,
     "metadata": {},
     "output_type": "execute_result"
    }
   ],
   "source": [
    "#This is accident, don't rely on this\n",
    "a+=a.T\n",
    "a"
   ]
  },
  {
   "cell_type": "markdown",
   "id": "a4e43c22",
   "metadata": {},
   "source": [
    "### Universal functions `ufunc`\n",
    "\n",
    "A universal function (or `ufunc` for short) is a function that operates on ndarrays in an element-by-element fashion, supporting array broadcasting, type casting, and several other standard features. That is, a `ufunc` is a “vectorized” wrapper for a function that takes a fixed number of specific inputs and produces a fixed number of specific outputs.\n",
    "\n",
    "Universal functions are usually grouped as follows (not an exhaustive list)- \n",
    "\n",
    "Math Ops|Trig funcs|Bit twiddling funcs|Comparison funcs|Floating funcs\n",
    "--------|----------|-------------------|----------------|--------------\n",
    "`add` etc|`sin` & other|`bitwise_and`|`greater`|`isfinite`\n",
    "`matmul`|`arcsin` & othr|`bitwise_or`|`greater_equal`|`isinf`\n",
    "`true_divide`|`hypot`|`bitwise_xor`|`less`|`isnan`\n",
    "`floor_divide`|`sinh` & other|`invert`|`less_equal`|`isnat`\n",
    "`negative`,`positive`|`arcsinh` & other|`left_shift`|`not_equal`|`fabs`\n",
    "`power`,`float_power`|`degrees`|`right-shift`|`equal`|`floor`\n",
    "`mod`|`radians`||`logical_and`|`ceil`\n",
    "`divmod`,`remainder`|`deg2rad`||`logical_or`|`trunc`\n",
    "`abs`|`rad2deg`||`maximum`|`fmod`\n",
    "`conjugate`|||`fmax`|`signbit`\n",
    "\n",
    "\n",
    "\n",
    "\n",
    "There are 90+ universal functions. See [Complete List of Universal Functions](https://numpy.org/doc/stable/reference/ufuncs.html#available-ufuncs)"
   ]
  },
  {
   "cell_type": "code",
   "execution_count": 253,
   "id": "0a31b010",
   "metadata": {},
   "outputs": [
    {
     "name": "stdout",
     "output_type": "stream",
     "text": [
      "x     = [0 1 2 3]\n",
      "x + 5 = [5 6 7 8]\n",
      "x - 5 = [-5 -4 -3 -2]\n",
      "x * 2 = [0 2 4 6]\n",
      "x / 2 = [0.  0.5 1.  1.5]\n",
      "x // 2 = [0 0 1 1]\n",
      "-x     =  [ 0 -1 -2 -3]\n",
      "x ** 2 =  [0 1 4 9]\n",
      "x % 2  =  [0 1 0 1]\n"
     ]
    }
   ],
   "source": [
    "x = np.arange(4)\n",
    "\n",
    "print(\"x     =\", x)\n",
    "print(\"x + 5 =\", x + 5)\n",
    "print(\"x - 5 =\", x - 5)\n",
    "print(\"x * 2 =\", x * 2)\n",
    "print(\"x / 2 =\", x / 2)\n",
    "print(\"x // 2 =\", x // 2)  # floor division\n",
    "print(\"-x     = \", -x)\n",
    "print(\"x ** 2 = \", x ** 2)\n",
    "print(\"x % 2  = \", x % 2)"
   ]
  },
  {
   "cell_type": "markdown",
   "id": "36de67cd",
   "metadata": {},
   "source": [
    "The operators in above examples are essentially convenient wrapper around corresponding `ufunc`s. For example, when we perform `+` operation, `np.add` is what is actually executed behind the curtains."
   ]
  },
  {
   "cell_type": "code",
   "execution_count": 254,
   "id": "fa7b7a90",
   "metadata": {},
   "outputs": [
    {
     "data": {
      "text/plain": [
       "array([2, 3, 4, 5])"
      ]
     },
     "execution_count": 254,
     "metadata": {},
     "output_type": "execute_result"
    }
   ],
   "source": [
    "np.add(x,2)"
   ]
  },
  {
   "cell_type": "markdown",
   "id": "304dc3e5",
   "metadata": {},
   "source": [
    "The following table lists the arithmetic operators implemented in NumPy:\n",
    "\n",
    "| Operator\t    | Equivalent ufunc    | Description                           |\n",
    "|---------------|---------------------|---------------------------------------|\n",
    "|``+``          |``np.add``           |Addition (e.g., ``1 + 1 = 2``)         |\n",
    "|``-``          |``np.subtract``      |Subtraction (e.g., ``3 - 2 = 1``)      |\n",
    "|``-``          |``np.negative``      |Unary negation (e.g., ``-2``)          |\n",
    "|``*``          |``np.multiply``      |Multiplication (e.g., ``2 * 3 = 6``)   |\n",
    "|``/``          |``np.divide``        |Division (e.g., ``3 / 2 = 1.5``)       |\n",
    "|``//``         |``np.floor_divide``  |Floor division (e.g., ``3 // 2 = 1``)  |\n",
    "|``**``         |``np.power``         |Exponentiation (e.g., ``2 ** 3 = 8``)  |\n",
    "|``%``          |``np.mod``           |Modulus/remainder (e.g., ``9 % 4 = 1``)|\n",
    "\n"
   ]
  },
  {
   "cell_type": "markdown",
   "id": "4664c262",
   "metadata": {},
   "source": [
    "#### Some examples"
   ]
  },
  {
   "cell_type": "code",
   "execution_count": 255,
   "id": "0756e455",
   "metadata": {},
   "outputs": [
    {
     "name": "stdout",
     "output_type": "stream",
     "text": [
      "[2 1 0 1 2]\n",
      "[2 1 0 1 2]\n"
     ]
    }
   ],
   "source": [
    "x = np.array([-2, -1, 0, 1, 2])\n",
    "\n",
    "print(np.absolute(x))\n",
    "print(np.abs(x))"
   ]
  },
  {
   "cell_type": "code",
   "execution_count": 256,
   "id": "ef7de43e",
   "metadata": {},
   "outputs": [
    {
     "name": "stdout",
     "output_type": "stream",
     "text": [
      "theta      =  [0.         1.57079633 3.14159265]\n",
      "sin(theta) =  [0.0000000e+00 1.0000000e+00 1.2246468e-16]\n",
      "cos(theta) =  [ 1.000000e+00  6.123234e-17 -1.000000e+00]\n",
      "tan(theta) =  [ 0.00000000e+00  1.63312394e+16 -1.22464680e-16]\n"
     ]
    }
   ],
   "source": [
    "theta = np.linspace(0, np.pi, 3)\n",
    "\n",
    "print(\"theta      = \", theta)\n",
    "print(\"sin(theta) = \", np.sin(theta))\n",
    "print(\"cos(theta) = \", np.cos(theta))\n",
    "print(\"tan(theta) = \", np.tan(theta))"
   ]
  },
  {
   "cell_type": "code",
   "execution_count": 257,
   "id": "631ca8a1",
   "metadata": {},
   "outputs": [
    {
     "name": "stdout",
     "output_type": "stream",
     "text": [
      "x         =  [-1, 0, 1]\n",
      "arcsin(x) =  [-1.57079633  0.          1.57079633]\n",
      "arccos(x) =  [3.14159265 1.57079633 0.        ]\n",
      "arctan(x) =  [-0.78539816  0.          0.78539816]\n"
     ]
    }
   ],
   "source": [
    "x = [-1, 0, 1]\n",
    "print(\"x         = \", x)\n",
    "print(\"arcsin(x) = \", np.arcsin(x))\n",
    "print(\"arccos(x) = \", np.arccos(x))\n",
    "print(\"arctan(x) = \", np.arctan(x))"
   ]
  },
  {
   "cell_type": "code",
   "execution_count": 258,
   "id": "caeccb70",
   "metadata": {},
   "outputs": [
    {
     "name": "stdout",
     "output_type": "stream",
     "text": [
      "x     = [1, 2, 3]\n",
      "e^x   = [ 2.71828183  7.3890561  20.08553692]\n",
      "2^x   = [2. 4. 8.]\n",
      "3^x   = [ 3  9 27]\n",
      "x        = [1, 2, 3]\n",
      "ln(x)    = [0.         0.69314718 1.09861229]\n",
      "log2(x)  = [0.        1.        1.5849625]\n",
      "log10(x) = [0.         0.30103    0.47712125]\n",
      "exp(y) - 1 = [0.         0.0010005  0.01005017 0.10517092]\n",
      "log(1 + y) = [0.         0.0009995  0.00995033 0.09531018]\n"
     ]
    }
   ],
   "source": [
    "x = [1, 2, 3]\n",
    "\n",
    "print(\"x     =\", x)\n",
    "print(\"e^x   =\", np.exp(x))\n",
    "print(\"2^x   =\", np.exp2(x))\n",
    "print(\"3^x   =\", np.power(3, x))\n",
    "\n",
    "print(\"x        =\", x)\n",
    "\n",
    "print(\"ln(x)    =\", np.log(x))\n",
    "print(\"log2(x)  =\", np.log2(x))\n",
    "print(\"log10(x) =\", np.log10(x))\n",
    "\n",
    "y = [0, 0.001, 0.01, 0.1]\n",
    "\n",
    "print(\"exp(y) - 1 =\", np.expm1(y))\n",
    "print(\"log(1 + y) =\", np.log1p(y))"
   ]
  },
  {
   "cell_type": "markdown",
   "id": "4d6d0d27",
   "metadata": {},
   "source": [
    "#### Comparison and Bitwise Boolean Operator\n",
    "\n",
    "As in the case of arithmetic operators, the comparison operators are implemented as ufuncs in NumPy; for example, when you write ``x < 3``, internally NumPy uses ``np.less(x, 3)``.\n",
    "    A summary of the comparison operators and their equivalent ufunc is shown here:\n",
    "\n",
    "| Operator\t    | Equivalent ufunc    | Operator\t   | Equivalent ufunc    |\n",
    "|---------------|---------------------|---------------|---------------------|\n",
    "|``==``         |``np.equal``         |``!=``         |``np.not_equal``     |\n",
    "|``<``          |``np.less``          |``<=``         |``np.less_equal``    |\n",
    "|``>``          |``np.greater``       |``>=``         |``np.greater_equal`` |\n",
    "\n",
    "\n",
    "The following table summarizes the bitwise boolean operator and thir corresponding ufuncs.\n",
    "\n",
    "| Operator\t    | Equivalent ufunc    | Operator\t    | Equivalent ufunc   |\n",
    "|---------------|---------------------|---------------|---------------------|\n",
    "|``&``          |``np.bitwise_and``   |&#124;         |``np.bitwise_or``    |\n",
    "|``^``          |``np.bitwise_xor``   |``~``          |``np.bitwise_not``   |\n"
   ]
  },
  {
   "cell_type": "code",
   "execution_count": 267,
   "id": "fbe0d494",
   "metadata": {},
   "outputs": [
    {
     "data": {
      "text/plain": [
       "(array([ True, False, False]), array([False,  True,  True]))"
      ]
     },
     "execution_count": 267,
     "metadata": {},
     "output_type": "execute_result"
    }
   ],
   "source": [
    "a = np.array([1,2,3])\n",
    "b = np.array([1,5,6])\n",
    "\n",
    "a == b, a < b"
   ]
  },
  {
   "cell_type": "code",
   "execution_count": 268,
   "id": "06e9877a",
   "metadata": {},
   "outputs": [
    {
     "data": {
      "text/plain": [
       "(False, array([False,  True,  True]))"
      ]
     },
     "execution_count": 268,
     "metadata": {},
     "output_type": "execute_result"
    }
   ],
   "source": [
    "np.array_equal(a,b), np.less(a,b)"
   ]
  },
  {
   "cell_type": "code",
   "execution_count": 270,
   "id": "efe9081b",
   "metadata": {},
   "outputs": [
    {
     "name": "stdout",
     "output_type": "stream",
     "text": [
      "[ True  True  True]\n",
      "[ True False False]\n"
     ]
    }
   ],
   "source": [
    "a = np.array([1,0,3])\n",
    "b = np.array([1,5,0])\n",
    "\n",
    "print(np.logical_or(a,b))\n",
    "print(np.logical_and(a,b))"
   ]
  },
  {
   "cell_type": "markdown",
   "id": "0f00eb81",
   "metadata": {},
   "source": [
    "#### Specialized ufuncs\n",
    "\n",
    "NumPy has many more ufuncs available, including hyperbolic trig functions, bitwise arithmetic, comparison operators, conversions from radians to degrees, rounding and remainders, and much more.\n",
    "A look through the NumPy documentation reveals a lot of interesting functionality.\n",
    "\n",
    "Another excellent source for more specialized and obscure ufuncs is the submodule ``scipy.special``.\n",
    "If you want to compute some obscure mathematical function on your data, chances are it is implemented in ``scipy.special``.\n",
    "There are far too many functions to list them all, but the following snippet shows a couple that might come up in a statistics context:"
   ]
  },
  {
   "cell_type": "code",
   "execution_count": 271,
   "id": "5d38c2ee",
   "metadata": {},
   "outputs": [
    {
     "name": "stdout",
     "output_type": "stream",
     "text": [
      "gamma(x)     = [1.0000e+00 2.4000e+01 3.6288e+05]\n",
      "ln|gamma(x)| = [ 0.          3.17805383 12.80182748]\n",
      "beta(x, 2)   = [0.5        0.03333333 0.00909091]\n",
      "erf(x)  = [0.         0.32862676 0.67780119 0.84270079]\n",
      "erfc(x) = [1.         0.67137324 0.32219881 0.15729921]\n",
      "erfinv(x) = [0.         0.27246271 0.73286908        inf]\n"
     ]
    }
   ],
   "source": [
    "from scipy import special\n",
    "\n",
    "# Gamma functions (generalized factorials) and related functions\n",
    "x = [1, 5, 10]\n",
    "print(\"gamma(x)     =\", special.gamma(x))\n",
    "print(\"ln|gamma(x)| =\", special.gammaln(x))\n",
    "print(\"beta(x, 2)   =\", special.beta(x, 2))\n",
    "\n",
    "# Error function (integral of Gaussian)\n",
    "# its complement, and its inverse\n",
    "x = np.array([0, 0.3, 0.7, 1.0])\n",
    "print(\"erf(x)  =\", special.erf(x))\n",
    "print(\"erfc(x) =\", special.erfc(x))\n",
    "print(\"erfinv(x) =\", special.erfinv(x))"
   ]
  },
  {
   "cell_type": "markdown",
   "id": "3e47485e",
   "metadata": {},
   "source": [
    "### `ufunc` attributes and methods\n",
    "\n",
    "In NumPy, universal functions are instances of the numpy.ufunc class. These instances have following attributes and methods - \n",
    "\n",
    "##### Attributes\n",
    "\n",
    "There are some informational attributes that universal functions possess. None of the attributes can be set.\n",
    "\n",
    "`__doc__` A docstring for each ufunc. The first part of the docstring is dynamically generated from the number of outputs, the name, and the number of inputs. The second part of the docstring is provided at creation time and stored with the ufunc.\n",
    "\n",
    "`__name__` The name of the ufunc.\n",
    "\n",
    "`ufunc.nin` The number of inputs.\n",
    "\n",
    "`ufunc.nout` The number of outputs.\n",
    "\n",
    "`ufunc.nargs` The number of arguments.\n",
    "\n",
    "`ufunc.ntypes` The number of types.\n",
    "\n",
    "`ufunc.types` Returns a list with types grouped input->output.\n",
    "\n",
    "`ufunc.identity` The identity value.\n",
    "\n"
   ]
  },
  {
   "cell_type": "code",
   "execution_count": 319,
   "id": "3cda857f",
   "metadata": {},
   "outputs": [
    {
     "name": "stdout",
     "output_type": "stream",
     "text": [
      "add(x1, x2, /, out=None, *, where=True, casting='same_kind', order='K', dtype=None, subok=True[, signature, extobj])\n",
      "\n",
      "Add arguments element-wise.\n",
      "\n",
      "Parameters\n",
      "----------\n",
      "x1, x2 : array_like\n",
      "    The arrays to be added.\n",
      "    If ``x1.shape != x2.shape``, they must be broadcastable to a common\n",
      "    shape (which becomes the shape of the output).\n",
      "out : ndarray, None, or tuple of ndarray and None, optional\n",
      "    A location into which the result is stored. If provided, it must have\n",
      "    a shape that the inputs broadcast to. If not provided or None,\n",
      "    a freshly-allocated array is returned. A tuple (possible only as a\n",
      "    keyword argument) must have length equal to the number of outputs.\n",
      "where : array_like, optional\n",
      "    This condition is broadcast over the input. At locations where the\n",
      "    condition is True, the `out` array will be set to the ufunc result.\n",
      "    Elsewhere, the `out` array will retain its original value.\n",
      "    Note that if an uninitialized `out` array is created via the default\n",
      "    ``out=None``, locations within it where the condition is False will\n",
      "    remain uninitialized.\n",
      "**kwargs\n",
      "    For other keyword-only arguments, see the\n",
      "    :ref:`ufunc docs <ufuncs.kwargs>`.\n",
      "\n",
      "Returns\n",
      "-------\n",
      "add : ndarray or scalar\n",
      "    The sum of `x1` and `x2`, element-wise.\n",
      "    This is a scalar if both `x1` and `x2` are scalars.\n",
      "\n",
      "Notes\n",
      "-----\n",
      "Equivalent to `x1` + `x2` in terms of array broadcasting.\n",
      "\n",
      "Examples\n",
      "--------\n",
      ">>> np.add(1.0, 4.0)\n",
      "5.0\n",
      ">>> x1 = np.arange(9.0).reshape((3, 3))\n",
      ">>> x2 = np.arange(3.0)\n",
      ">>> np.add(x1, x2)\n",
      "array([[  0.,   2.,   4.],\n",
      "       [  3.,   5.,   7.],\n",
      "       [  6.,   8.,  10.]])\n",
      "\n",
      "The ``+`` operator can be used as a shorthand for ``np.add`` on ndarrays.\n",
      "\n",
      ">>> x1 = np.arange(9.0).reshape((3, 3))\n",
      ">>> x2 = np.arange(3.0)\n",
      ">>> x1 + x2\n",
      "array([[ 0.,  2.,  4.],\n",
      "       [ 3.,  5.,  7.],\n",
      "       [ 6.,  8., 10.]])\n"
     ]
    }
   ],
   "source": [
    "print(np.add.__doc__)\n"
   ]
  },
  {
   "cell_type": "code",
   "execution_count": 274,
   "id": "fc889cb2",
   "metadata": {},
   "outputs": [
    {
     "data": {
      "text/plain": [
       "(2, 1)"
      ]
     },
     "execution_count": 274,
     "metadata": {},
     "output_type": "execute_result"
    }
   ],
   "source": [
    "np.add.nin, np.add.nout\n"
   ]
  },
  {
   "cell_type": "code",
   "execution_count": 276,
   "id": "b8877929",
   "metadata": {},
   "outputs": [
    {
     "data": {
      "text/plain": [
       "(3, 22)"
      ]
     },
     "execution_count": 276,
     "metadata": {},
     "output_type": "execute_result"
    }
   ],
   "source": [
    "np.add.nargs, np.add.ntypes"
   ]
  },
  {
   "cell_type": "code",
   "execution_count": 277,
   "id": "768459f6",
   "metadata": {},
   "outputs": [
    {
     "data": {
      "text/plain": [
       "['??->?',\n",
       " 'bb->b',\n",
       " 'BB->B',\n",
       " 'hh->h',\n",
       " 'HH->H',\n",
       " 'ii->i',\n",
       " 'II->I',\n",
       " 'll->l',\n",
       " 'LL->L',\n",
       " 'qq->q',\n",
       " 'QQ->Q',\n",
       " 'ee->e',\n",
       " 'ff->f',\n",
       " 'dd->d',\n",
       " 'gg->g',\n",
       " 'FF->F',\n",
       " 'DD->D',\n",
       " 'GG->G',\n",
       " 'Mm->M',\n",
       " 'mm->m',\n",
       " 'mM->M',\n",
       " 'OO->O']"
      ]
     },
     "execution_count": 277,
     "metadata": {},
     "output_type": "execute_result"
    }
   ],
   "source": [
    "np.add.types"
   ]
  },
  {
   "cell_type": "code",
   "execution_count": 278,
   "id": "07376c80",
   "metadata": {},
   "outputs": [
    {
     "data": {
      "text/plain": [
       "0"
      ]
     },
     "execution_count": 278,
     "metadata": {},
     "output_type": "execute_result"
    }
   ],
   "source": [
    "np.add.identity\n"
   ]
  },
  {
   "cell_type": "markdown",
   "id": "c82fe773",
   "metadata": {},
   "source": [
    "##### Methods"
   ]
  },
  {
   "cell_type": "markdown",
   "id": "4372238d",
   "metadata": {},
   "source": [
    "`ufunc.reduce(array, axis=0, dtype=None, out=None, keepdims=False, initial=<no value>, where=True)`  Reduces array's dimension by one, by applying ufunc along one axis.\n",
    "\n",
    "`ufunc.accumulate(array, axis=0, dtype=None, out=None)`  Accumulate the result of applying the operator to all elements.\n",
    "\n",
    "`ufunc.reduceat(array, indices, axis=0, dtype=None, out=None)`  Performs a (local) reduce with specified slices over a single axis.\n",
    "\n",
    "`ufunc.outer(A, B, /, **kwargs)`  Apply the ufunc op to all pairs (a, b) with a in A and b in B.\n",
    "\n",
    "`ufunc.at(a, indices[, b])`  Performs unbuffered in place operation on operand 'a' for elements specified by 'indices'."
   ]
  },
  {
   "cell_type": "markdown",
   "id": "2d4579df",
   "metadata": {},
   "source": [
    "For example, `add.reduce()` is equivalent to `np.sum()`."
   ]
  },
  {
   "cell_type": "code",
   "execution_count": 286,
   "id": "7cb72650",
   "metadata": {},
   "outputs": [
    {
     "data": {
      "text/plain": [
       "array([5, 7, 9])"
      ]
     },
     "execution_count": 286,
     "metadata": {},
     "output_type": "execute_result"
    }
   ],
   "source": [
    "arr = np.array([[1,2,3],[4,5,6]])\n",
    "\n",
    "np.add.reduce(arr)"
   ]
  },
  {
   "cell_type": "code",
   "execution_count": 285,
   "id": "2e827043",
   "metadata": {},
   "outputs": [
    {
     "data": {
      "text/plain": [
       "array([5, 7, 9])"
      ]
     },
     "execution_count": 285,
     "metadata": {},
     "output_type": "execute_result"
    }
   ],
   "source": [
    "np.sum(arr, axis = 0)"
   ]
  },
  {
   "cell_type": "markdown",
   "id": "1ec165e8",
   "metadata": {},
   "source": [
    "Add note about np.add and np.sum"
   ]
  },
  {
   "cell_type": "markdown",
   "id": "fe16bb94",
   "metadata": {},
   "source": [
    "For example, `add.accumulate()` is equivalent to `np.cumsum()`."
   ]
  },
  {
   "cell_type": "code",
   "execution_count": 284,
   "id": "1cfd13e2",
   "metadata": {},
   "outputs": [
    {
     "data": {
      "text/plain": [
       "array([[1, 2, 3],\n",
       "       [5, 7, 9]], dtype=int32)"
      ]
     },
     "execution_count": 284,
     "metadata": {},
     "output_type": "execute_result"
    }
   ],
   "source": [
    "np.add.accumulate(arr)"
   ]
  },
  {
   "cell_type": "code",
   "execution_count": 287,
   "id": "aa26dc0a",
   "metadata": {},
   "outputs": [
    {
     "data": {
      "text/plain": [
       "array([ 6,  4, 10,  5, 14,  6, 18,  7], dtype=int32)"
      ]
     },
     "execution_count": 287,
     "metadata": {},
     "output_type": "execute_result"
    }
   ],
   "source": [
    "np.add.reduceat(np.arange(8),[0,4, 1,5, 2,6, 3,7]) #see comment below"
   ]
  },
  {
   "cell_type": "markdown",
   "id": "2c83b4c8",
   "metadata": {},
   "source": [
    "Notice the output of `np.add.reduceat()`. The output contains sum of slice and stop-index (exclusive) in alternate fashion. So the actual output would be:"
   ]
  },
  {
   "cell_type": "code",
   "execution_count": 289,
   "id": "60567552",
   "metadata": {},
   "outputs": [
    {
     "data": {
      "text/plain": [
       "array([ 6, 10, 14, 18], dtype=int32)"
      ]
     },
     "execution_count": 289,
     "metadata": {},
     "output_type": "execute_result"
    }
   ],
   "source": [
    "np.add.reduceat(np.arange(8),[0,4, 1,5, 2,6, 3,7])[::2]"
   ]
  },
  {
   "cell_type": "code",
   "execution_count": 291,
   "id": "996ca5b3",
   "metadata": {},
   "outputs": [
    {
     "data": {
      "text/plain": [
       "array([4, 5, 6, 7], dtype=int32)"
      ]
     },
     "execution_count": 291,
     "metadata": {},
     "output_type": "execute_result"
    }
   ],
   "source": [
    "np.add.reduceat(np.arange(8),[0,4, 1,5, 2,6, 3,7])[1::2] #these are indices "
   ]
  },
  {
   "cell_type": "code",
   "execution_count": 295,
   "id": "aec7ee20",
   "metadata": {},
   "outputs": [
    {
     "data": {
      "text/plain": [
       "array([0, 1, 2, 3, 4, 5, 6, 7])"
      ]
     },
     "execution_count": 295,
     "metadata": {},
     "output_type": "execute_result"
    }
   ],
   "source": [
    "np.arange(8)"
   ]
  },
  {
   "cell_type": "code",
   "execution_count": 293,
   "id": "1a74288f",
   "metadata": {},
   "outputs": [
    {
     "data": {
      "text/plain": [
       "array([[ 0.,  1.,  2.,  3.],\n",
       "       [ 4.,  5.,  6.,  7.],\n",
       "       [ 8.,  9., 10., 11.],\n",
       "       [12., 13., 14., 15.]])"
      ]
     },
     "execution_count": 293,
     "metadata": {},
     "output_type": "execute_result"
    }
   ],
   "source": [
    "x = np.linspace(0, 15, 16).reshape(4,4)\n",
    "x"
   ]
  },
  {
   "cell_type": "code",
   "execution_count": 294,
   "id": "c334c510",
   "metadata": {},
   "outputs": [
    {
     "data": {
      "text/plain": [
       "array([[12., 15., 18., 21.],\n",
       "       [12., 13., 14., 15.],\n",
       "       [ 4.,  5.,  6.,  7.],\n",
       "       [ 8.,  9., 10., 11.],\n",
       "       [24., 28., 32., 36.]])"
      ]
     },
     "execution_count": 294,
     "metadata": {},
     "output_type": "execute_result"
    }
   ],
   "source": [
    "# reduce such that the result has the following five rows:\n",
    "# [row1 + row2 + row3]\n",
    "# [row4]\n",
    "# [row2]\n",
    "# [row3]\n",
    "# [row1 + row2 + row3 + row4]\n",
    "\n",
    "np.add.reduceat(x, [0, 3, 1, 2, 0])  #didn't get it????\n"
   ]
  },
  {
   "cell_type": "code",
   "execution_count": 296,
   "id": "80ee78ce",
   "metadata": {},
   "outputs": [
    {
     "data": {
      "text/plain": [
       "array([[ 4,  5,  6],\n",
       "       [ 8, 10, 12],\n",
       "       [12, 15, 18]])"
      ]
     },
     "execution_count": 296,
     "metadata": {},
     "output_type": "execute_result"
    }
   ],
   "source": [
    "np.multiply.outer([1, 2, 3], [4, 5, 6])"
   ]
  },
  {
   "cell_type": "code",
   "execution_count": 297,
   "id": "03634046",
   "metadata": {},
   "outputs": [
    {
     "data": {
      "text/plain": [
       "array([[ 4,  5,  6],\n",
       "       [ 8, 10, 12],\n",
       "       [12, 15, 18]])"
      ]
     },
     "execution_count": 297,
     "metadata": {},
     "output_type": "execute_result"
    }
   ],
   "source": [
    "np.outer([1, 2, 3], [4, 5, 6])"
   ]
  },
  {
   "cell_type": "code",
   "execution_count": 300,
   "id": "937a11b1",
   "metadata": {},
   "outputs": [
    {
     "data": {
      "text/plain": [
       "array([[[[ 1,  2,  3,  4]],\n",
       "\n",
       "        [[ 2,  4,  6,  8]],\n",
       "\n",
       "        [[ 3,  6,  9, 12]]],\n",
       "\n",
       "\n",
       "       [[[ 4,  8, 12, 16]],\n",
       "\n",
       "        [[ 5, 10, 15, 20]],\n",
       "\n",
       "        [[ 6, 12, 18, 24]]]])"
      ]
     },
     "execution_count": 300,
     "metadata": {},
     "output_type": "execute_result"
    }
   ],
   "source": [
    "A = np.array([[1, 2, 3], [4, 5, 6]])\n",
    "B = np.array([[1, 2, 3, 4]])\n",
    "C = np.multiply.outer(A, B)\n",
    "C\n"
   ]
  },
  {
   "cell_type": "code",
   "execution_count": 301,
   "id": "f0782aea",
   "metadata": {},
   "outputs": [
    {
     "data": {
      "text/plain": [
       "((2, 3), (1, 4), (2, 3, 1, 4))"
      ]
     },
     "execution_count": 301,
     "metadata": {},
     "output_type": "execute_result"
    }
   ],
   "source": [
    "A.shape, B.shape, C.shape"
   ]
  },
  {
   "cell_type": "code",
   "execution_count": 302,
   "id": "704c22f8",
   "metadata": {},
   "outputs": [
    {
     "data": {
      "text/plain": [
       "array([[ 1,  2,  3,  4],\n",
       "       [ 2,  4,  6,  8],\n",
       "       [ 3,  6,  9, 12],\n",
       "       [ 4,  8, 12, 16],\n",
       "       [ 5, 10, 15, 20],\n",
       "       [ 6, 12, 18, 24]])"
      ]
     },
     "execution_count": 302,
     "metadata": {},
     "output_type": "execute_result"
    }
   ],
   "source": [
    "np.outer(A,B)"
   ]
  },
  {
   "cell_type": "markdown",
   "id": "9b312539",
   "metadata": {},
   "source": []
  },
  {
   "cell_type": "markdown",
   "id": "f51a44a2",
   "metadata": {},
   "source": [
    "**Note** - `np.outer` is a less powerful version of `np.multiply.outer` that ravels all inputs to 1D. "
   ]
  },
  {
   "cell_type": "code",
   "execution_count": 314,
   "id": "dd37bda5",
   "metadata": {},
   "outputs": [
    {
     "data": {
      "text/plain": [
       "array([ -1,  -2, -23])"
      ]
     },
     "execution_count": 314,
     "metadata": {},
     "output_type": "execute_result"
    }
   ],
   "source": [
    "a = np.array([1,2,23])\n",
    "np.negative(a)"
   ]
  },
  {
   "cell_type": "code",
   "execution_count": 315,
   "id": "5a873d13",
   "metadata": {},
   "outputs": [
    {
     "data": {
      "text/plain": [
       "array([ 1,  2, 23])"
      ]
     },
     "execution_count": 315,
     "metadata": {},
     "output_type": "execute_result"
    }
   ],
   "source": [
    "a #original is still unchanged"
   ]
  },
  {
   "cell_type": "code",
   "execution_count": 316,
   "id": "a70228c2",
   "metadata": {},
   "outputs": [],
   "source": [
    "np.negative.at(a, [1]) #original is changed"
   ]
  },
  {
   "cell_type": "code",
   "execution_count": 317,
   "id": "a6182e1a",
   "metadata": {},
   "outputs": [
    {
     "data": {
      "text/plain": [
       "array([ 1, -2, 23])"
      ]
     },
     "execution_count": 317,
     "metadata": {},
     "output_type": "execute_result"
    }
   ],
   "source": [
    "a"
   ]
  },
  {
   "cell_type": "code",
   "execution_count": 318,
   "id": "a8a25b26",
   "metadata": {},
   "outputs": [
    {
     "data": {
      "text/plain": [
       "array([ 1, -2, 25])"
      ]
     },
     "execution_count": 318,
     "metadata": {},
     "output_type": "execute_result"
    }
   ],
   "source": [
    "np.add.at(a, [2,2], 1) #at index 2, 1 is added twice\n",
    "a"
   ]
  },
  {
   "cell_type": "markdown",
   "id": "ca2f0707",
   "metadata": {},
   "source": [
    "#### Specifying Outputs\n",
    "\n",
    "For large calculations, it is sometimes useful to be able to specify the array where the result of the calculation will be stored.\n",
    "Rather than creating a temporary array, this can be used to write computation results directly to the memory location where you'd like them to be.\n",
    "For all ufuncs, this can be done using the ``out`` argument of the function:"
   ]
  },
  {
   "cell_type": "code",
   "execution_count": 320,
   "id": "a2984572",
   "metadata": {},
   "outputs": [
    {
     "name": "stdout",
     "output_type": "stream",
     "text": [
      "[ 0. 10. 20. 30. 40.]\n"
     ]
    }
   ],
   "source": [
    "import numpy as np\n",
    "x = np.arange(5)\n",
    "y = np.empty(5)\n",
    "np.multiply(x, 10, out=y)\n",
    "print(y)"
   ]
  },
  {
   "cell_type": "code",
   "execution_count": 321,
   "id": "02b79dbc",
   "metadata": {},
   "outputs": [
    {
     "name": "stdout",
     "output_type": "stream",
     "text": [
      "[ 1.  0.  2.  0.  4.  0.  8.  0. 16.  0.]\n"
     ]
    }
   ],
   "source": [
    "y = np.zeros(10)\n",
    "np.power(2, x, out=y[::2])\n",
    "print(y)"
   ]
  },
  {
   "cell_type": "markdown",
   "id": "01dd32f0",
   "metadata": {},
   "source": [
    "### Aggregation and Statistics Functions"
   ]
  },
  {
   "cell_type": "code",
   "execution_count": 259,
   "id": "9d347d26",
   "metadata": {},
   "outputs": [
    {
     "name": "stdout",
     "output_type": "stream",
     "text": [
      "np.mean(l) =  2.5\n",
      "np.mean(l, axis = 0) =  [2. 3.]\n",
      "np.mean(l, axis = 1) =  [1.5 3.5]\n"
     ]
    }
   ],
   "source": [
    "l = np.array([[1,2],[3,4]])\n",
    "print(\"np.mean(l) = \", np.mean(l))  #array is flattened\n",
    "print(\"np.mean(l, axis = 0) = \", np.mean(l, axis = 0)) #for each column\n",
    "print(\"np.mean(l, axis = 1) = \", np.mean(l, axis = 1))  #for each row"
   ]
  },
  {
   "cell_type": "code",
   "execution_count": 260,
   "id": "4922ad49",
   "metadata": {},
   "outputs": [
    {
     "name": "stdout",
     "output_type": "stream",
     "text": [
      "np.std(l) =  1.118033988749895\n",
      "np.std(l, axis = 0) =  [1. 1.]\n",
      "np.std(l, axis = 1) =  [0.5 0.5]\n"
     ]
    }
   ],
   "source": [
    "l = np.array([[1,2],[3,4]])\n",
    "print(\"np.std(l) = \", np.std(l))  #array is flattened\n",
    "print(\"np.std(l, axis = 0) = \", np.std(l, axis = 0)) #for each column\n",
    "print(\"np.std(l, axis = 1) = \", np.std(l, axis = 1))  #for each row"
   ]
  },
  {
   "cell_type": "code",
   "execution_count": 261,
   "id": "41292178",
   "metadata": {},
   "outputs": [
    {
     "data": {
      "text/plain": [
       "(0.6666666666666666, 0.816496580927726, 1.0, 0.816496580927726)"
      ]
     },
     "execution_count": 261,
     "metadata": {},
     "output_type": "execute_result"
    }
   ],
   "source": [
    "np.var([1,2,3]),np.std([1,2,3]), np.std([1,2,3], ddof = 1), np.sqrt(2/3)"
   ]
  },
  {
   "cell_type": "markdown",
   "id": "e97c52c6",
   "metadata": {},
   "source": [
    "<div class=\"alert alert-block alert-warning\">\n",
    "**Important Point** - `np.var` is what is called a biased estimator. By default, the parameter `ddof` is set to 0, which means it uses the formula $\\frac{\\sum({x-\\bar{x}})^2}{n}$. For unbiased estimator, we set the `ddof` parameter to 1. In this case, the formula used is $\\frac{\\sum({x-\\bar{x}})^2}{n-1}$\n",
    "</div>"
   ]
  },
  {
   "cell_type": "markdown",
   "id": "0583fe3c",
   "metadata": {},
   "source": [
    "#### Other aggregation functions\n",
    "\n",
    "NumPy provides many other aggregation functions, many of them are listed below.\n",
    "Additionally, most aggregates have a ``NaN``-safe counterpart that computes the result while ignoring missing values, which are marked by the special IEEE floating-point ``NaN`` value.\n",
    "\n",
    "|Function Name      |   NaN-safe Version  | Description                                   |\n",
    "|-------------------|---------------------|-----------------------------------------------|\n",
    "| ``np.ptp``        | N/A                 | Range of values (max-min) along an axis.      |\n",
    "| ``np.average``    | N/A                 | Compute weighted average                      |\n",
    "| ``np.mean``       | ``np.nanmean``      | Compute mean of elements                      |\n",
    "| ``np.std``        | ``np.nanstd``       | Compute standard deviation                    |\n",
    "| ``np.var``        | ``np.nanvar``       | Compute variance                              |\n",
    "| ``np.min``        | ``np.nanmin``       | Find minimum value                            |\n",
    "| ``np.max``        | ``np.nanmax``       | Find maximum value                            |\n",
    "| ``np.argmin``     | ``np.nanargmin``    | Find index of minimum value                   |\n",
    "| ``np.argmax``     | ``np.nanargmax``    | Find index of maximum value                   |\n",
    "| ``np.median``     | ``np.nanmedian``    | Compute median of elements                    |\n",
    "| ``np.percentile`` | ``np.nanpercentile``| Compute rank-based statistics of elements     |\n",
    "| ``np.quantile``   | ``np.nanquantile``  | Compute q-th quantile of data along a an axis |\n",
    "| ``np.correlate``  | N/A                 | Cross-correlation of two 1-dim sequences.     |\n",
    "| ``np.cov``        | N/A                 | Estimate a covariance matrix, given data and weights.|\n",
    "| ``np.histogram``  | N/A                 | Compute the histogram of a dataset.            |\n",
    "|``np.bincount``    | N/A                 | Count number of occurrences of each value in array of non-negative ints|\n",
    "\n"
   ]
  },
  {
   "cell_type": "markdown",
   "id": "8842be55",
   "metadata": {},
   "source": [
    "### Sorting and Searching\n",
    "\n",
    "Non-exhaustive list of Sorting and Searching routines\n",
    "\n",
    "Sorting|Searching\n",
    "---------|-------\n",
    "`sort()`|`argmax()`\n",
    "`argsort()`|\n",
    "`lexsort()`|`nanargmax()`\n",
    "`ndarray.sort()`|`argwhere()`\n",
    "`partition()`|`nonzero()`\n",
    "`argpartition()`|`searchsorted()`\n",
    "`msort()`|`extract()`\n",
    "`sort_complex()`|`where()`"
   ]
  },
  {
   "cell_type": "code",
   "execution_count": 344,
   "id": "5fcdbab2",
   "metadata": {},
   "outputs": [
    {
     "name": "stdout",
     "output_type": "stream",
     "text": [
      "[1 2 3 4 5]\n",
      "[2 1 4 3 5]\n",
      "[1 2 3 4 5]\n"
     ]
    }
   ],
   "source": [
    "x = np.array([2, 1, 4, 3, 5])\n",
    "print(np.sort(x)) #x is not modified\n",
    "print(x)\n",
    "(x.sort()) #in-place sorting. x is modified\n",
    "print(x)"
   ]
  },
  {
   "cell_type": "code",
   "execution_count": 345,
   "id": "4962dd58",
   "metadata": {},
   "outputs": [
    {
     "name": "stdout",
     "output_type": "stream",
     "text": [
      "[[6 3 7 4 6 9]\n",
      " [2 6 7 4 3 7]\n",
      " [7 2 5 4 1 7]\n",
      " [5 1 4 0 9 5]]\n"
     ]
    },
    {
     "data": {
      "text/plain": [
       "array([[2, 1, 4, 0, 1, 5],\n",
       "       [5, 2, 5, 4, 3, 7],\n",
       "       [6, 3, 7, 4, 6, 7],\n",
       "       [7, 6, 7, 4, 9, 9]])"
      ]
     },
     "execution_count": 345,
     "metadata": {},
     "output_type": "execute_result"
    }
   ],
   "source": [
    "rand = np.random.RandomState(42)\n",
    "X = rand.randint(0, 10, (4, 6))\n",
    "print(X)\n",
    "# sort each column of X\n",
    "np.sort(X, axis=0)"
   ]
  },
  {
   "cell_type": "code",
   "execution_count": 346,
   "id": "28fa02aa",
   "metadata": {},
   "outputs": [
    {
     "data": {
      "text/plain": [
       "array([[3, 4, 6, 6, 7, 9],\n",
       "       [2, 3, 4, 6, 7, 7],\n",
       "       [1, 2, 4, 5, 7, 7],\n",
       "       [0, 1, 4, 5, 5, 9]])"
      ]
     },
     "execution_count": 346,
     "metadata": {},
     "output_type": "execute_result"
    }
   ],
   "source": [
    "# sort each row of X\n",
    "np.sort(X, axis=1)"
   ]
  },
  {
   "cell_type": "markdown",
   "id": "33d4f3b6",
   "metadata": {},
   "source": [
    "##### `argsort`"
   ]
  },
  {
   "cell_type": "code",
   "execution_count": 347,
   "id": "75115ee7",
   "metadata": {},
   "outputs": [
    {
     "name": "stdout",
     "output_type": "stream",
     "text": [
      "[1 0 3 2 4]\n"
     ]
    }
   ],
   "source": [
    "x = np.array([2, 1, 4, 3, 5])\n",
    "i = np.argsort(x)\n",
    "print(i)\n",
    "\n",
    "# array i will have position of numbers in original array rather than the numbers themselves."
   ]
  },
  {
   "cell_type": "markdown",
   "id": "7127f645",
   "metadata": {},
   "source": [
    "`np.partition(array, a)`\n",
    "\n",
    "This function will produce an array wherein smallest 'a' values will be in one group and other values in other group. Also, the positions of values in each group are arbitrary."
   ]
  },
  {
   "cell_type": "code",
   "execution_count": 348,
   "id": "6e77be96",
   "metadata": {},
   "outputs": [
    {
     "data": {
      "text/plain": [
       "array([2, 1, 3, 4, 6, 5, 7])"
      ]
     },
     "execution_count": 348,
     "metadata": {},
     "output_type": "execute_result"
    }
   ],
   "source": [
    "x = np.array([7, 2, 3, 1, 6, 5, 4])\n",
    "np.partition(x, 3)"
   ]
  },
  {
   "cell_type": "markdown",
   "id": "ff9acc8f",
   "metadata": {},
   "source": [
    "##### `np.where`\n",
    "\n",
    "The `numpy.where` function is a vectorized version of the ternary expression `x if condition else y`. Suppose we had a boolean array and two arrays of values:"
   ]
  },
  {
   "cell_type": "code",
   "execution_count": 352,
   "id": "b17688ac",
   "metadata": {},
   "outputs": [
    {
     "data": {
      "text/plain": [
       "array([1.1, 2.2, 1.3, 1.4, 2.5])"
      ]
     },
     "execution_count": 352,
     "metadata": {},
     "output_type": "execute_result"
    }
   ],
   "source": [
    "xarr = np.array([1.1, 1.2, 1.3, 1.4, 1.5])\n",
    "yarr = np.array([2.1, 2.2, 2.3, 2.4, 2.5])\n",
    "cond = np.array([True, False, True, True, False])\n",
    "\n",
    "np.where(cond, xarr, yarr)"
   ]
  },
  {
   "cell_type": "code",
   "execution_count": 353,
   "id": "84c3ccf2",
   "metadata": {},
   "outputs": [
    {
     "data": {
      "text/plain": [
       "(array([[ 0.06865121, -0.23403196, -0.55323078,  0.75659204],\n",
       "        [ 0.18283007,  0.86957081,  0.81665441,  0.41816574],\n",
       "        [-0.58029082,  1.27303044,  0.2119404 , -1.27640873],\n",
       "        [-0.24120457, -0.09339747, -1.38615318,  0.68414161]]),\n",
       " array([[ 1, -1, -1,  1],\n",
       "        [ 1,  1,  1,  1],\n",
       "        [-1,  1,  1, -1],\n",
       "        [-1, -1, -1,  1]]))"
      ]
     },
     "execution_count": 353,
     "metadata": {},
     "output_type": "execute_result"
    }
   ],
   "source": [
    "arr = np.random.randn(4, 4)\n",
    "arr, np.where(arr > 0, 1, -1)"
   ]
  },
  {
   "cell_type": "markdown",
   "id": "13aabe13",
   "metadata": {},
   "source": [
    "##### `np.argwhere`"
   ]
  },
  {
   "cell_type": "code",
   "execution_count": 354,
   "id": "8a512cde",
   "metadata": {},
   "outputs": [
    {
     "data": {
      "text/plain": [
       "array([[0, 0],\n",
       "       [0, 2],\n",
       "       [0, 3],\n",
       "       [0, 5],\n",
       "       [1, 0],\n",
       "       [1, 1],\n",
       "       [1, 2],\n",
       "       [1, 4],\n",
       "       [1, 5]], dtype=int64)"
      ]
     },
     "execution_count": 354,
     "metadata": {},
     "output_type": "execute_result"
    }
   ],
   "source": [
    "np.argwhere([[1,0,2,3,0,5],[3,4,5,0,6,7]]) #location of non-zero elements"
   ]
  },
  {
   "cell_type": "code",
   "execution_count": 355,
   "id": "c8183335",
   "metadata": {},
   "outputs": [
    {
     "data": {
      "text/plain": [
       "array([[0, 3],\n",
       "       [0, 5],\n",
       "       [1, 0],\n",
       "       [1, 1],\n",
       "       [1, 2],\n",
       "       [1, 4],\n",
       "       [1, 5]], dtype=int64)"
      ]
     },
     "execution_count": 355,
     "metadata": {},
     "output_type": "execute_result"
    }
   ],
   "source": [
    "a = np.array([[1,0,2,3,0,5],[3,4,5,0,6,7]])\n",
    "np.argwhere(a > 2)"
   ]
  },
  {
   "cell_type": "markdown",
   "id": "231e7aff",
   "metadata": {},
   "source": [
    "##### `np.searchsorted`\n",
    "\n",
    "Find the indices into a sorted array `a` such that, if the\n",
    "corresponding elements in `v` were inserted before the indices, the\n",
    "order of `a` would be preserved."
   ]
  },
  {
   "cell_type": "code",
   "execution_count": 356,
   "id": "5ea8f1ee",
   "metadata": {},
   "outputs": [
    {
     "data": {
      "text/plain": [
       "array([1, 1, 1, 3], dtype=int64)"
      ]
     },
     "execution_count": 356,
     "metadata": {},
     "output_type": "execute_result"
    }
   ],
   "source": [
    "x = [1,4,7]\n",
    "y = [3,2,4,8]\n",
    "np.searchsorted(x,y)"
   ]
  },
  {
   "cell_type": "code",
   "execution_count": 357,
   "id": "3d649a47",
   "metadata": {},
   "outputs": [
    {
     "data": {
      "text/plain": [
       "array([1, 1, 2, 3], dtype=int64)"
      ]
     },
     "execution_count": 357,
     "metadata": {},
     "output_type": "execute_result"
    }
   ],
   "source": [
    "x = [1,4,7]\n",
    "y = [3,2,4,8]\n",
    "np.searchsorted(x,y, side = 'right')"
   ]
  },
  {
   "cell_type": "markdown",
   "id": "46e5e87b",
   "metadata": {},
   "source": [
    "##### `np.argmax`"
   ]
  },
  {
   "cell_type": "code",
   "execution_count": 367,
   "id": "a536399d",
   "metadata": {},
   "outputs": [
    {
     "data": {
      "text/plain": [
       "array([[2, 4, 5, 8],\n",
       "       [8, 1, 7, 5],\n",
       "       [3, 2, 4, 7]])"
      ]
     },
     "execution_count": 367,
     "metadata": {},
     "output_type": "execute_result"
    }
   ],
   "source": [
    "a = np.random.randint(1,9,(3,4))\n",
    "a"
   ]
  },
  {
   "cell_type": "code",
   "execution_count": 368,
   "id": "91247be2",
   "metadata": {},
   "outputs": [
    {
     "data": {
      "text/plain": [
       "(3, array([1, 0, 1, 0], dtype=int64), array([3, 0, 3], dtype=int64))"
      ]
     },
     "execution_count": 368,
     "metadata": {},
     "output_type": "execute_result"
    }
   ],
   "source": [
    "np.argmax(a), np.argmax(a, 0), np.argmax(a,1)"
   ]
  },
  {
   "cell_type": "markdown",
   "id": "17cc5cc0",
   "metadata": {},
   "source": [
    "### Miscellaneous Functions\n",
    "\n",
    "Function|`NaN`safe |Description\n",
    "--------|----------|--------\n",
    "``np.sum``|``np.nansum``| Sum of array elements over a given axis.\n",
    "``np.prod``|``np.nanprod``| Return the product of array elements over a given axis.\n",
    "``np.cumsum``|``np.nancumsum``| Return the cumulative sum of the elements along a given axis.\n",
    "``np.cumprod``|``np.nancumprod``| Return the cumulative product of elements along a given axis.\n",
    "``np.around``|N/A| Evenly round to the given number of decimals. Also see `ndarray.round()` method\n",
    "``np.cross``|N/A| Return the cross product of two (arrays of) vectors.\n",
    "``np.dot``|N/A| Dot product of two arrays.\n",
    "``np.outer``|N/A| Outer product of two vectors\n",
    "``np.inner``|N/A| Inner product of two arrays\n",
    "``np.any``|N/A| Test whether any array element along a given axis evaluates to `True`.\n",
    "``np.all``|N/A| Test whether all array elements along a given axis evaluate to `True`.\n"
   ]
  },
  {
   "cell_type": "markdown",
   "id": "f3442253",
   "metadata": {},
   "source": [
    "#### `NaN`-safe functions"
   ]
  },
  {
   "cell_type": "code",
   "execution_count": 262,
   "id": "7823babd",
   "metadata": {},
   "outputs": [
    {
     "name": "stdout",
     "output_type": "stream",
     "text": [
      "6 nan 4.0\n"
     ]
    }
   ],
   "source": [
    "# difference between np.sum and np.nansum\n",
    "l1 = [1,2,3]\n",
    "l2 = [1, np.nan, 3]\n",
    "l3 = [1, None, 3]\n",
    "\n",
    "s1 = np.sum(l1) #No issue\n",
    "s2 = np.sum(l2) # Output will be nan, rather than 4.\n",
    "#s3 = np.sum(l3) #will throw error as None is not the same type of 1.\n",
    "s4 = np.nansum(l2) # nan will be ignored and other values will be added\n",
    "print(s1,s2,s4)"
   ]
  },
  {
   "cell_type": "markdown",
   "id": "8101a7cc",
   "metadata": {},
   "source": [
    "#### Cross product `numpy.cross(a, b, axisa=- 1, axisb=- 1, axisc=- 1, axis=None)`"
   ]
  },
  {
   "cell_type": "code",
   "execution_count": 466,
   "id": "d2b079c5",
   "metadata": {},
   "outputs": [
    {
     "data": {
      "text/plain": [
       "array([ 4, -2,  0])"
      ]
     },
     "execution_count": 466,
     "metadata": {},
     "output_type": "execute_result"
    }
   ],
   "source": [
    "a = np.array([1,2,1])\n",
    "b = np.array([1,2,3])\n",
    "\n",
    "np.cross(a,b)"
   ]
  },
  {
   "cell_type": "markdown",
   "id": "231ee004",
   "metadata": {},
   "source": [
    "You have to be familiar with vector mathematics. `i`, `j` and `k` are unit vectors along `x`, `y` and `z` axis. Also, it is defined that -\n",
    "\n",
    "`i x i = j x j = k x k = 0`\n",
    "\n",
    "`i x j = k,  j x k = i, k x i = j` and,\n",
    "\n",
    "`j x i = -k  k x j = -i, i x k = -j`\n",
    "\n",
    "\n",
    "Now -\n",
    "    \n",
    "    a = i.1 + j.2 + k.1\n",
    "    b = i.1 + j.2 + k.3\n",
    "\n",
    "    a x b =  (i*i)(1*1) + (i*j)(1*2) + (i*k)(1*3) +\n",
    "             (j*i)(2*1) + (j*j)(2*2) + (j*k)(2*3) +\n",
    "             (k*i)(1*1) + (k*j)(1*2) + (k*k)(1*3)\n",
    "         \n",
    "      =(0)(1*1) + (k)(1*2) + (-j)(1*3) +\n",
    "         (-k)(2*1) + (0)(2*2) + (i)(2*3) +\n",
    "         (j)(1*1) + (-i)(1*2) + (0)(1*3)  \n",
    "         \n",
    "      = 0 +2k -3j - 2k + 0 + 6i +j - 2i + 0\n",
    "      = 4i -2j + 0k\n",
    "      => [4,-2,0]"
   ]
  },
  {
   "cell_type": "markdown",
   "id": "72996762",
   "metadata": {},
   "source": [
    "#### Special attention to `numpy.dot(a, b, out=None)`\n",
    "\n",
    "Dot product of two arrays. Specifically,\n",
    "\n",
    " - If both `a` and `b` are 1-D arrays, it is inner product of vectors (without complex conjugation).\n",
    "\n",
    " - If both `a` and `b` are 2-D arrays, it is matrix multiplication, but using `matmul` or `a @ b` is preferred.\n",
    "\n",
    " - If either `a` or `b` is 0-D (scalar), it is equivalent to multiply and using `numpy.multiply(a, b)` or `a * b` is preferred.\n",
    "\n",
    " - If `a` is an N-D array and `b` is a 1-D array, it is a sum product over the last axis of `a` and `b`.\n",
    "\n",
    " - If `a` is an N-D array and `b` is an M-D array (where M>=2), it is a sum product over the last axis of `a` and the second-to-last axis of `b`:"
   ]
  },
  {
   "cell_type": "markdown",
   "id": "afb5baa3",
   "metadata": {},
   "source": [
    "The way I explain and remember all these rules for dim upto 2 (beyond that, things get complicated and rarely needed) - \n",
    "\n",
    "- If you want to calculate the dot product of 2 vectors `a` and `b`, just think of `a` and `b` as a row matrices of shape `(1,n)`. Then their dot product be `ab.T` as `a` has the  shape of `(1,n)` and `b.T` has the shape of `(n,1)`. This gives a scalar value.  \n",
    "\n",
    "\n",
    "- Remember, dot product of two matrices `a` (`shape = (m,n)`) and `b` (`shape= (n,p)`) is `ab` with shape = `(m,p)`. Following is the visualization of how dot product is calculated.\n",
    " \n",
    " ![](images/dotprod.png)\n",
    " \n",
    "- In cases when you need to compute dot product of a matrix with shape `(m,n)` and a vector with shape `(n,)`, pretend that vector is actually a matrix with size `(n,1)`. In this case, dot product `a.b` would be a vector of size `(m,)`"
   ]
  },
  {
   "cell_type": "code",
   "execution_count": 476,
   "id": "ecd8a552",
   "metadata": {},
   "outputs": [
    {
     "data": {
      "text/plain": [
       "20"
      ]
     },
     "execution_count": 476,
     "metadata": {},
     "output_type": "execute_result"
    }
   ],
   "source": [
    "a = np.array([1,2,3])             #1-d array\n",
    "b = np.array([2,3,4])             #1-d array\n",
    "c = np.array([[1,2,3],[2,3,4]])   #2x3 array\n",
    "c1 = np.array([[5,7,3],[2,3,4]])  #another 2x3 array \n",
    "d = np.array([[3,4],[2,3],[1,2]])   #3x2 array\n",
    "\n",
    "np.dot(a,b) #dot prod of 2 vector. Equivalent to a->(1x3) dot b.T->(3,1) matrix multiplication"
   ]
  },
  {
   "cell_type": "code",
   "execution_count": 488,
   "id": "553911c0",
   "metadata": {},
   "outputs": [
    {
     "data": {
      "text/plain": [
       "20"
      ]
     },
     "execution_count": 488,
     "metadata": {},
     "output_type": "execute_result"
    }
   ],
   "source": [
    "a@b"
   ]
  },
  {
   "cell_type": "code",
   "execution_count": 440,
   "id": "78717cbc",
   "metadata": {},
   "outputs": [
    {
     "data": {
      "text/plain": [
       "20"
      ]
     },
     "execution_count": 440,
     "metadata": {},
     "output_type": "execute_result"
    }
   ],
   "source": [
    "np.dot(b,a) #equivalent to matrix multiplication of b-> (1,3) and (a.T)->(3,1) matrices"
   ]
  },
  {
   "cell_type": "code",
   "execution_count": 489,
   "id": "419268d1",
   "metadata": {},
   "outputs": [
    {
     "data": {
      "text/plain": [
       "20"
      ]
     },
     "execution_count": 489,
     "metadata": {},
     "output_type": "execute_result"
    }
   ],
   "source": [
    "b@a"
   ]
  },
  {
   "cell_type": "code",
   "execution_count": 438,
   "id": "9211c3b5",
   "metadata": {},
   "outputs": [
    {
     "ename": "ValueError",
     "evalue": "shapes (3,) and (2,3) not aligned: 3 (dim 0) != 2 (dim 0)",
     "output_type": "error",
     "traceback": [
      "\u001b[1;31m---------------------------------------------------------------------------\u001b[0m",
      "\u001b[1;31mValueError\u001b[0m                                Traceback (most recent call last)",
      "\u001b[1;32m~\\AppData\\Local\\Temp/ipykernel_1632/1718564644.py\u001b[0m in \u001b[0;36m<module>\u001b[1;34m\u001b[0m\n\u001b[1;32m----> 1\u001b[1;33m \u001b[0mnp\u001b[0m\u001b[1;33m.\u001b[0m\u001b[0mdot\u001b[0m\u001b[1;33m(\u001b[0m\u001b[0ma\u001b[0m\u001b[1;33m,\u001b[0m\u001b[0mc\u001b[0m\u001b[1;33m)\u001b[0m \u001b[1;31m# a is like (1,3) matrix, c is (2*3) matrix. Dot product not possible\u001b[0m\u001b[1;33m\u001b[0m\u001b[1;33m\u001b[0m\u001b[0m\n\u001b[0m",
      "\u001b[1;32m<__array_function__ internals>\u001b[0m in \u001b[0;36mdot\u001b[1;34m(*args, **kwargs)\u001b[0m\n",
      "\u001b[1;31mValueError\u001b[0m: shapes (3,) and (2,3) not aligned: 3 (dim 0) != 2 (dim 0)"
     ]
    }
   ],
   "source": [
    "np.dot(a,c) # a is like (1,3) matrix, c is (2*3) matrix. Dot product not possible"
   ]
  },
  {
   "cell_type": "code",
   "execution_count": 497,
   "id": "1c96a49b",
   "metadata": {},
   "outputs": [
    {
     "data": {
      "text/plain": [
       "array([[1, 2, 3],\n",
       "       [2, 3, 4]])"
      ]
     },
     "execution_count": 497,
     "metadata": {},
     "output_type": "execute_result"
    }
   ],
   "source": [
    "c"
   ]
  },
  {
   "cell_type": "code",
   "execution_count": 427,
   "id": "ae97f3ce",
   "metadata": {},
   "outputs": [
    {
     "data": {
      "text/plain": [
       "array([14, 20])"
      ]
     },
     "execution_count": 427,
     "metadata": {},
     "output_type": "execute_result"
    }
   ],
   "source": [
    "np.dot(c,a) #c=>(2x3) matrix and a=>(3,) dot product possible"
   ]
  },
  {
   "cell_type": "code",
   "execution_count": 490,
   "id": "86503d92",
   "metadata": {},
   "outputs": [
    {
     "data": {
      "text/plain": [
       "array([14, 20])"
      ]
     },
     "execution_count": 490,
     "metadata": {},
     "output_type": "execute_result"
    }
   ],
   "source": [
    "c@a"
   ]
  },
  {
   "cell_type": "code",
   "execution_count": 428,
   "id": "eeeec423",
   "metadata": {},
   "outputs": [
    {
     "data": {
      "text/plain": [
       "array([[10, 16],\n",
       "       [16, 25]])"
      ]
     },
     "execution_count": 428,
     "metadata": {},
     "output_type": "execute_result"
    }
   ],
   "source": [
    "np.dot(c,d) #2x3 and 3x2 matrices, dot product possible"
   ]
  },
  {
   "cell_type": "code",
   "execution_count": 491,
   "id": "f9242d81",
   "metadata": {},
   "outputs": [
    {
     "data": {
      "text/plain": [
       "array([[10, 16],\n",
       "       [16, 25]])"
      ]
     },
     "execution_count": 491,
     "metadata": {},
     "output_type": "execute_result"
    }
   ],
   "source": [
    "c@d"
   ]
  },
  {
   "cell_type": "code",
   "execution_count": 494,
   "id": "83373f17",
   "metadata": {},
   "outputs": [
    {
     "data": {
      "text/plain": [
       "array([[10, 16],\n",
       "       [16, 25]])"
      ]
     },
     "execution_count": 494,
     "metadata": {},
     "output_type": "execute_result"
    }
   ],
   "source": [
    "np.matmul(c,d)"
   ]
  },
  {
   "cell_type": "code",
   "execution_count": 429,
   "id": "bfee5fe3",
   "metadata": {},
   "outputs": [
    {
     "data": {
      "text/plain": [
       "array([[11, 18, 25],\n",
       "       [ 8, 13, 18],\n",
       "       [ 5,  8, 11]])"
      ]
     },
     "execution_count": 429,
     "metadata": {},
     "output_type": "execute_result"
    }
   ],
   "source": [
    "np.dot(d,c ) #again possible"
   ]
  },
  {
   "cell_type": "code",
   "execution_count": 492,
   "id": "6adfe93a",
   "metadata": {},
   "outputs": [
    {
     "data": {
      "text/plain": [
       "array([[11, 18, 25],\n",
       "       [ 8, 13, 18],\n",
       "       [ 5,  8, 11]])"
      ]
     },
     "execution_count": 492,
     "metadata": {},
     "output_type": "execute_result"
    }
   ],
   "source": [
    "d@c"
   ]
  },
  {
   "cell_type": "code",
   "execution_count": 493,
   "id": "d15d9b78",
   "metadata": {},
   "outputs": [
    {
     "data": {
      "text/plain": [
       "array([[11, 18, 25],\n",
       "       [ 8, 13, 18],\n",
       "       [ 5,  8, 11]])"
      ]
     },
     "execution_count": 493,
     "metadata": {},
     "output_type": "execute_result"
    }
   ],
   "source": [
    "np.matmul(d,c )"
   ]
  },
  {
   "cell_type": "markdown",
   "id": "d4ebb690",
   "metadata": {},
   "source": [
    "Note that `c.d` is not the same as `d.c`. "
   ]
  },
  {
   "cell_type": "code",
   "execution_count": 442,
   "id": "ddb37b12",
   "metadata": {},
   "outputs": [
    {
     "ename": "ValueError",
     "evalue": "shapes (2,3) and (2,3) not aligned: 3 (dim 1) != 2 (dim 0)",
     "output_type": "error",
     "traceback": [
      "\u001b[1;31m---------------------------------------------------------------------------\u001b[0m",
      "\u001b[1;31mValueError\u001b[0m                                Traceback (most recent call last)",
      "\u001b[1;32m~\\AppData\\Local\\Temp/ipykernel_1632/2752697022.py\u001b[0m in \u001b[0;36m<module>\u001b[1;34m\u001b[0m\n\u001b[1;32m----> 1\u001b[1;33m \u001b[0mnp\u001b[0m\u001b[1;33m.\u001b[0m\u001b[0mdot\u001b[0m\u001b[1;33m(\u001b[0m\u001b[0mc1\u001b[0m\u001b[1;33m,\u001b[0m\u001b[0mc\u001b[0m\u001b[1;33m)\u001b[0m\u001b[1;33m\u001b[0m\u001b[1;33m\u001b[0m\u001b[0m\n\u001b[0m",
      "\u001b[1;32m<__array_function__ internals>\u001b[0m in \u001b[0;36mdot\u001b[1;34m(*args, **kwargs)\u001b[0m\n",
      "\u001b[1;31mValueError\u001b[0m: shapes (2,3) and (2,3) not aligned: 3 (dim 1) != 2 (dim 0)"
     ]
    }
   ],
   "source": [
    "np.dot(c1,c) #error"
   ]
  },
  {
   "cell_type": "markdown",
   "id": "bb82f995",
   "metadata": {},
   "source": [
    "#### Outer Product `np.outer(a, b, out=None)`\n",
    "\n",
    "Compute the outer product of two vector"
   ]
  },
  {
   "cell_type": "code",
   "execution_count": 468,
   "id": "80f86694",
   "metadata": {},
   "outputs": [
    {
     "data": {
      "text/plain": [
       "array([[ 2,  3,  4],\n",
       "       [ 4,  6,  8],\n",
       "       [ 6,  9, 12]])"
      ]
     },
     "execution_count": 468,
     "metadata": {},
     "output_type": "execute_result"
    }
   ],
   "source": [
    "a = np.array([1,2,3])\n",
    "b = np.array([2,3,4])\n",
    "np.outer(a,b)"
   ]
  },
  {
   "cell_type": "code",
   "execution_count": 469,
   "id": "07c83960",
   "metadata": {},
   "outputs": [
    {
     "data": {
      "text/plain": [
       "array([[0.1, 0.2]])"
      ]
     },
     "execution_count": 469,
     "metadata": {},
     "output_type": "execute_result"
    }
   ],
   "source": [
    "np.outer(1,[.1,.2])"
   ]
  },
  {
   "cell_type": "markdown",
   "id": "55ef237d",
   "metadata": {},
   "source": [
    "#### Inner Product `numpy.inner(a, b, /)`\n",
    "\n",
    "Inner product of two arrays. Ordinary inner product of vectors for 1-D arrays (without complex conjugation), in higher dimensions a sum product over the last axes.\n",
    "\n",
    "If a and b are both scalars or both 1-D arrays then a scalar is returned; otherwise an array is returned. `out.shape = (*a.shape[:-1], *b.shape[:-1])`"
   ]
  },
  {
   "cell_type": "code",
   "execution_count": 470,
   "id": "60677d1a",
   "metadata": {},
   "outputs": [
    {
     "data": {
      "text/plain": [
       "2"
      ]
     },
     "execution_count": 470,
     "metadata": {},
     "output_type": "execute_result"
    }
   ],
   "source": [
    "a = np.array([1,2,3])\n",
    "b = np.array([0,1,0])\n",
    "\n",
    "np.inner(a, b)"
   ]
  },
  {
   "cell_type": "code",
   "execution_count": 471,
   "id": "e19fd77a",
   "metadata": {},
   "outputs": [
    {
     "data": {
      "text/plain": [
       "(2, 3)"
      ]
     },
     "execution_count": 471,
     "metadata": {},
     "output_type": "execute_result"
    }
   ],
   "source": [
    "a = np.arange(24).reshape((2,3,4))\n",
    "b = np.arange(4)\n",
    "c = np.inner(a, b)\n",
    "\n",
    "c.shape"
   ]
  },
  {
   "cell_type": "code",
   "execution_count": 473,
   "id": "68eb6efe",
   "metadata": {},
   "outputs": [
    {
     "data": {
      "text/plain": [
       "array([[ 14,  38,  62],\n",
       "       [ 86, 110, 134]])"
      ]
     },
     "execution_count": 473,
     "metadata": {},
     "output_type": "execute_result"
    }
   ],
   "source": [
    "c"
   ]
  },
  {
   "cell_type": "code",
   "execution_count": 474,
   "id": "440fc088",
   "metadata": {},
   "outputs": [
    {
     "data": {
      "text/plain": [
       "(1, 1, 3)"
      ]
     },
     "execution_count": 474,
     "metadata": {},
     "output_type": "execute_result"
    }
   ],
   "source": [
    "a = np.arange(2).reshape((1,1,2))\n",
    "b = np.arange(6).reshape((3,2))\n",
    "c = np.inner(a, b)\n",
    "\n",
    "c.shape"
   ]
  },
  {
   "cell_type": "code",
   "execution_count": 475,
   "id": "c5ec8b74",
   "metadata": {},
   "outputs": [
    {
     "data": {
      "text/plain": [
       "array([[[1, 3, 5]]])"
      ]
     },
     "execution_count": 475,
     "metadata": {},
     "output_type": "execute_result"
    }
   ],
   "source": [
    "c"
   ]
  },
  {
   "cell_type": "markdown",
   "id": "e8aaf70b",
   "metadata": {},
   "source": [
    "### `class numpy.vectorize(pyfunc, otypes=None, doc=None, excluded=None, cache=False, signature=None)`\n",
    "\n",
    "The dtype is decided based on the value of first output. To force specific dtype, set `otypes` parameter in the function "
   ]
  },
  {
   "cell_type": "code",
   "execution_count": 498,
   "id": "006aa0d7",
   "metadata": {},
   "outputs": [
    {
     "data": {
      "text/plain": [
       "array([3, 4, 1, 2])"
      ]
     },
     "execution_count": 498,
     "metadata": {},
     "output_type": "execute_result"
    }
   ],
   "source": [
    "import numpy as np\n",
    "def myfunc(a,b):\n",
    "    if a > b:\n",
    "        return a -b\n",
    "    else:\n",
    "        return a+b\n",
    "    \n",
    "l = [1,2,3,4]\n",
    "vfunc = np.vectorize(myfunc)\n",
    "vfunc(l,2)"
   ]
  },
  {
   "cell_type": "markdown",
   "id": "8bc24da6",
   "metadata": {},
   "source": [
    "### `np.c_` and `np.r_`\n",
    "\n",
    "These can be used to add columns or rows. Note that these are not functions."
   ]
  },
  {
   "cell_type": "code",
   "execution_count": 499,
   "id": "e33c5a30",
   "metadata": {},
   "outputs": [
    {
     "data": {
      "text/plain": [
       "array([[ 0.1,  0.5],\n",
       "       [ 1.1,  2.3],\n",
       "       [-1.1, -2.3],\n",
       "       [-1.5, -2.5]])"
      ]
     },
     "execution_count": 499,
     "metadata": {},
     "output_type": "execute_result"
    }
   ],
   "source": [
    "x = np.array([[.1,.5],[1.1,2.3],[-1.1, -2.3],[-1.5, -2.5]])\n",
    "x"
   ]
  },
  {
   "cell_type": "code",
   "execution_count": 500,
   "id": "ffd0f52d",
   "metadata": {},
   "outputs": [
    {
     "data": {
      "text/plain": [
       "array([[ 9. ,  0.1,  0.5],\n",
       "       [ 9. ,  1.1,  2.3],\n",
       "       [ 9. , -1.1, -2.3],\n",
       "       [ 9. , -1.5, -2.5]])"
      ]
     },
     "execution_count": 500,
     "metadata": {},
     "output_type": "execute_result"
    }
   ],
   "source": [
    "np.c_[np.array([9,9,9,9]), x] #notice the use square bracket"
   ]
  },
  {
   "cell_type": "code",
   "execution_count": 501,
   "id": "132f0077",
   "metadata": {},
   "outputs": [
    {
     "data": {
      "text/plain": [
       "array([[ 5. ,  5. ],\n",
       "       [ 0.1,  0.5],\n",
       "       [ 1.1,  2.3],\n",
       "       [-1.1, -2.3],\n",
       "       [-1.5, -2.5]])"
      ]
     },
     "execution_count": 501,
     "metadata": {},
     "output_type": "execute_result"
    }
   ],
   "source": [
    "r = np.array([5,5])\n",
    "np.r_[r[np.newaxis,:], x] #both array must have same dimensions"
   ]
  },
  {
   "cell_type": "markdown",
   "id": "5f20cb43",
   "metadata": {},
   "source": [
    "### `np.interp`"
   ]
  },
  {
   "cell_type": "code",
   "execution_count": 502,
   "id": "a4e01281",
   "metadata": {},
   "outputs": [
    {
     "data": {
      "text/plain": [
       "1.0"
      ]
     },
     "execution_count": 502,
     "metadata": {},
     "output_type": "execute_result"
    }
   ],
   "source": [
    "x = [1,2,3]\n",
    "y = [3,2,0]\n",
    "np.interp(2.5, x,y) #interpolated y-value for x = 2.5"
   ]
  },
  {
   "cell_type": "markdown",
   "id": "6148e20c",
   "metadata": {},
   "source": [
    "#### Structured Data : Numpy's Structured Array\n",
    "\n",
    "While often our data can be well represented by a homogeneous array of values, sometimes this is not the case. This section demonstrates the use of NumPy's structured arrays and record arrays, which provide efficient storage for compound, heterogeneous data."
   ]
  },
  {
   "cell_type": "code",
   "execution_count": 503,
   "id": "500ac8f0",
   "metadata": {},
   "outputs": [
    {
     "data": {
      "text/plain": [
       "array([0, 0, 0, 0])"
      ]
     },
     "execution_count": 503,
     "metadata": {},
     "output_type": "execute_result"
    }
   ],
   "source": [
    "x = np.zeros(4, dtype = int)\n",
    "x"
   ]
  },
  {
   "cell_type": "code",
   "execution_count": 504,
   "id": "7482ce0b",
   "metadata": {},
   "outputs": [],
   "source": [
    "name = ['Alice', 'Bob', 'Cathy', 'Doug']\n",
    "age = [25, 45, 37, 19]\n",
    "weight = [55.0, 85.5, 68.0, 61.5]"
   ]
  },
  {
   "cell_type": "code",
   "execution_count": 505,
   "id": "35b2b647",
   "metadata": {},
   "outputs": [
    {
     "name": "stdout",
     "output_type": "stream",
     "text": [
      "[('name', '<U10'), ('age', '<i4'), ('weight', '<f8')]\n"
     ]
    }
   ],
   "source": [
    "# Use a compound data type for structured arrays\n",
    "data = np.zeros(4, dtype={'names':('name', 'age', 'weight'),\n",
    "                          'formats':('U10', 'i4', 'f8')})\n",
    "print(data.dtype)"
   ]
  },
  {
   "cell_type": "markdown",
   "id": "af3df882",
   "metadata": {},
   "source": [
    "Here ``'U10'`` translates to \"Unicode string of maximum length 10,\" ``'i4'`` translates to \"4-byte (i.e., 32 bit) integer,\" and ``'f8'`` translates to \"8-byte (i.e., 64 bit) float.\" We'll discuss other options for these type codes in the following section.\n",
    "\n",
    "Now that we've created an empty container array, we can fill the array with our lists of values:"
   ]
  },
  {
   "cell_type": "code",
   "execution_count": 506,
   "id": "ed5e1ece",
   "metadata": {},
   "outputs": [
    {
     "name": "stdout",
     "output_type": "stream",
     "text": [
      "[('Alice', 25, 55. ) ('Bob', 45, 85.5) ('Cathy', 37, 68. )\n",
      " ('Doug', 19, 61.5)]\n"
     ]
    }
   ],
   "source": [
    "data['name'] = name\n",
    "data['age'] = age\n",
    "data['weight'] = weight\n",
    "print(data)"
   ]
  },
  {
   "cell_type": "code",
   "execution_count": 507,
   "id": "0389a4e0",
   "metadata": {},
   "outputs": [
    {
     "data": {
      "text/plain": [
       "array([('Alice', 25, 55. ), ('Bob', 45, 85.5), ('Cathy', 37, 68. ),\n",
       "       ('Doug', 19, 61.5)],\n",
       "      dtype=[('name', '<U10'), ('age', '<i4'), ('weight', '<f8')])"
      ]
     },
     "execution_count": 507,
     "metadata": {},
     "output_type": "execute_result"
    }
   ],
   "source": [
    "data"
   ]
  },
  {
   "cell_type": "markdown",
   "id": "71e4be9f",
   "metadata": {},
   "source": [
    "Or we can combine `names` and `formats` in `dtype` as follows -"
   ]
  },
  {
   "cell_type": "code",
   "execution_count": 508,
   "id": "5f74cdef",
   "metadata": {},
   "outputs": [],
   "source": [
    "\n",
    "dtype = np.dtype([('name', 'S10'), ('age', 'i4'), ('weight', 'f8')])"
   ]
  },
  {
   "cell_type": "code",
   "execution_count": 509,
   "id": "2f61ba76",
   "metadata": {},
   "outputs": [
    {
     "name": "stdout",
     "output_type": "stream",
     "text": [
      "[(b'Alice', 25, 55. ) (b'Bob', 45, 85.5) (b'Cathy', 37, 68. )\n",
      " (b'Doug', 19, 61.5)]\n"
     ]
    }
   ],
   "source": [
    "data1 = np.zeros(4, dtype = dtype)\n",
    "data1['name'] = name\n",
    "data1['age'] = age\n",
    "data1['weight'] = weight\n",
    "print(data1)"
   ]
  },
  {
   "cell_type": "code",
   "execution_count": 515,
   "id": "44778e0b",
   "metadata": {},
   "outputs": [
    {
     "name": "stdout",
     "output_type": "stream",
     "text": [
      "[1 None 'a']\n",
      "[ 1. nan  2.]\n"
     ]
    }
   ],
   "source": [
    "import numpy as np\n",
    "l = [1, None, 'a']\n",
    "b = np.array(l)\n",
    "print(b)\n",
    "m = [1, np.nan, 2] #1 and 2 will be converted to float as Nan is a special float value\n",
    "c = np.array(m)\n",
    "print(c)"
   ]
  },
  {
   "cell_type": "code",
   "execution_count": null,
   "id": "e18063fc",
   "metadata": {},
   "outputs": [],
   "source": []
  }
 ],
 "metadata": {
  "kernelspec": {
   "display_name": "Python 3 (ipykernel)",
   "language": "python",
   "name": "python3"
  },
  "language_info": {
   "codemirror_mode": {
    "name": "ipython",
    "version": 3
   },
   "file_extension": ".py",
   "mimetype": "text/x-python",
   "name": "python",
   "nbconvert_exporter": "python",
   "pygments_lexer": "ipython3",
   "version": "3.9.7"
  }
 },
 "nbformat": 4,
 "nbformat_minor": 5
}
