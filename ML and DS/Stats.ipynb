{
 "cells": [
  {
   "cell_type": "markdown",
   "metadata": {},
   "source": [
    "This notebook contains notes taken from the book **Introduction to Statistics** (David M Lane). Execellent book if you've just begun learning statistics. "
   ]
  },
  {
   "cell_type": "markdown",
   "metadata": {},
   "source": [
    "## CHAPTER 1"
   ]
  },
  {
   "cell_type": "markdown",
   "metadata": {},
   "source": [
    "### Population and Samples\n",
    "\n",
    "Self evident. \n",
    "In statistics, we often rely on a sample --- that is, a small subset of a larger set of data --- to draw inferences about the larger set. The larger set is known as the population from which the sample is drawn."
   ]
  },
  {
   "cell_type": "markdown",
   "metadata": {},
   "source": [
    "### Percentiles\n",
    "\n",
    "There is no universally accepted definition of a percentile. Using the 65th percentile as an example, the 65th percentile can be defined as the lowest score that is greater than 65% of the scores. This is the way we defined it above and we will call this “Definition 1.” The 65th percentile can also be defined as the smallest score that is greater than or equal to 65% of the scores. This we will call “Definition 2.” Unfortunately, these two definitions can lead to dramatically different results, especially when there is relatively little data. Moreover, neither of these definitions is explicit about how to handle rounding. We'll stick to following method to compute the percentile. \n",
    "\n",
    "Let's consider the following example. Consider the 25th percentile for the 8 numbers in Table 1. Notice the numbers are given ranks ranging from 1 for the lowest number to 8 for the highest number.\n",
    "\n",
    "\n",
    "Number|Rank\n",
    "------|----\n",
    "3|1\n",
    "5|2\n",
    "7|3\n",
    "8|4\n",
    "9|5\n",
    "11|6\n",
    "13|7\n",
    "15|8\n",
    "\n",
    "The first step is to compute the rank (R) of the 25th percentile. This is done using the following formula:-\n",
    "\n",
    "$$R = P/100*(N+1)$$\n",
    "\n",
    "where **P** is the desired percentile (25 in this case) and **N** is the number of numbers (8 in this case). Therefore,\n",
    "\n",
    "$$R = 25/100*(9) = 2.25$$\n",
    "\n",
    "If R is an integer, the Pth percentile is be the number with rank R. When R is not an integer, we compute the Pth percentile by interpolation as follows:\n",
    "\n",
    "1. Define IR as the integer portion of R (the number to the left of the decimal point). For this example, IR = 2.\n",
    "2. Define FR as the fractional portion of R. For this example, FR = 0.25.\n",
    "3. Find the scores with Rank IR and with Rank IR + 1. For this example, this means the score with Rank 2 and the score with Rank 3. The scores are 5 and 7.\n",
    "4. Interpolate by multiplying the difference between the scores by FR and add the result to the lower score. For these data, this is (0.25)(7 - 5) + 5 = 5.5.\n",
    "\n",
    "Therefore, the 25th percentile is 5.5. If we had used the first definition (the smallest score greater than 25% of the scores), the 25th percentile would have been 7. If we had used the second definition (the smallest score greater than or equal to 25% of the scores), the 25th percentile would have been 5."
   ]
  },
  {
   "cell_type": "markdown",
   "metadata": {},
   "source": [
    "#### Variance Sum Law I\n",
    "\n",
    "there are many occasions in which it is important to know the variance of the sum of two variables. Consider the following situation: (a) you have two populations, (b) you sample one number from each population,\n",
    "and (c) you add the two numbers together. The question is, “What is the variance of this sum?” For example, suppose the two populations are the populations of 8- year old males and 8-year-old females in Houston, Texas, and that the variable of interest is memory span. You repeat the following steps thousands of times: (1)\n",
    "law I sample one male and one female, (2) measure the memory span of each, and (3) sum the two memory spans. After you have done this thousands of times, you compute the variance of the sum. It turns out that the variance of this sum can be computed according to the following formula:\n",
    "\n",
    "$${\\sigma}^2_{sum} ={\\sigma}^2_{M}+{\\sigma}^2_{F}  $$\n",
    "\n",
    "\n",
    "where the first term is the variance of the sum, the second term is the variance of the males and the third term is the variance of the females. \n",
    "\n",
    "The formula for the variance of the difference between the two variables (memory span in this example) is shown below. Notice that the expression for the difference is the same as the formula for the sum.\n",
    "\n",
    "$${\\sigma}^2_{difference} ={\\sigma}^2_{M}+{\\sigma}^2_{F}  $$\n",
    "\n",
    "More generally, the variance sum law can be written as follows:\n",
    "\n",
    "$${\\sigma}^2_{X\\pm{Y}} ={\\sigma}^2_{X}+{\\sigma}^2_{Y}  $$\n",
    "\n",
    "Important. These formulas for the sum and difference of variables given above only apply when the variables are independent. \n"
   ]
  },
  {
   "cell_type": "markdown",
   "metadata": {},
   "source": [
    "## Chapter 2\n",
    "\n",
    "Histogram, Box plots, Bar charts etc"
   ]
  },
  {
   "cell_type": "markdown",
   "metadata": {},
   "source": [
    "## Chpater 3\n"
   ]
  },
  {
   "cell_type": "markdown",
   "metadata": {},
   "source": [
    "\n",
    "#### Sampling Distribution of Mean\n",
    "\n",
    "\n",
    "\n",
    "#### Mean\n",
    "\n",
    "The mean of the sampling distribution of the mean is the mean of the population from which the scores were sampled. Therefore, if a population has a mean μ, then the mean of the sampling distribution of the mean is also μ. \n",
    "\n",
    "#### Variance\n",
    "The variance of the sampling distribution of the mean is ${\\sigma}^2/N$\n",
    "\n",
    "That is, the variance of the sampling distribution of the mean is the population\n",
    "variance ($\\sigma$) divided by N, the sample size (the number of scores used to compute a\n",
    " mean). Thus, the larger the sample size, the smaller the variance of the sampling distribution of the mean.\n",
    " \n",
    "This expression can be derived very easily from the variance sum law. Let's begin by computing the variance of the sampling distribution of the sum of three numbers sampled from a population with variance $σ^2$. The variance of\n",
    "the sum would be $σ^2 + σ^2 + σ^2$. For N numbers, the variance would be N$σ^2$. Since the mean is $1/N$ times the sum, the variance of the sampling distribution of the mean would be $1/N^2$ times the variance of the sum, which equals $σ^2/N$.\n",
    "The standard error of the mean is the standard deviation of the sampling distribution of the mean. It is therefore the square root of the variance of the sampling distribution of the mean and can be written as:\n",
    "\n",
    " \n",
    " $${Standard\\;Error\\;of\\;Mean =  \\frac{\\sigma}{\\sqrt{N}}}$$\n",
    " \n",
    " However, we rarely know the variance of population. To address this we use the variance of sample. In that case, the formula we use is - \n",
    " \n",
    " $$Standard\\;Error =  \\frac{s}{\\sqrt{N}}$$\n",
    " \n",
    "Where $s$ is the standard deviation of sample. \n",
    " \n"
   ]
  },
  {
   "cell_type": "markdown",
   "metadata": {},
   "source": []
  },
  {
   "cell_type": "markdown",
   "metadata": {},
   "source": [
    "#### Central Limit Theorem\n",
    "The central limit theorem states that:\n",
    ">Given a population with a finite mean μ and a finite non- zero variance $σ^2$, the sampling distribution of the mean\n",
    "approaches a normal distribution with a mean of μ and a variance of $σ^2/N$ as $N$, the sample size, increases.\n",
    "\n",
    "The expressions for the mean and variance of the sampling distribution of the mean are not new or remarkable. What is remarkable is that regardless of the shape of the parent population, the sampling distribution of the mean approaches a normal distribution as $N$ increases. "
   ]
  },
  {
   "cell_type": "markdown",
   "metadata": {},
   "source": [
    "#### Sampling Distribution of Difference between Means\n",
    "\n",
    "The sampling distribution of the difference between means can be thought of as the distribution that would result if we repeated the following three steps over and over again: (1) sample n1 scores from Population 1 and n2 scores fromf Population 2, (2) compute the means of the two samples($M_1$ and $M_2$), and (3) compute the difference between means, \n",
    "$M_1$ and $M_2$. The distribution of the differeces  between means is the sampling distribution of difference between means. \n",
    "\n",
    "As you might expect, the mean of the sampling distribution of difference between mean is:\n",
    "\n",
    "$$\\mu_{M_1-M_2}=\\mu_{1}-\\mu_{2}$$\n",
    "\n",
    "which says that the mean of the distribution of differences between sample means\n",
    "is equal to the difference between population means. For example, say that the\n",
    "mean test score of all 12-year-olds in a population is 34 and the mean of 10-year- olds is 25. If numerous samples were taken from each age group and the mean difference computed each time, the mean of these numerous differences between sample means would be $34 - 25 = 9$.\n",
    "\n",
    "From the variance sum law, we know that:\n",
    "\n",
    "$$\\sigma^2_{M_1-M_2}=\\sigma^2_{M_1}+\\sigma^2_{M_2}$$\n",
    "\n",
    "which says that the variance of the sampling distribution of the difference between means is equal to the variance of the sampling distribution of the mean for Population 1 plus the variance of the sampling distribution of the mean for Population 2. Recall the formula for the variance of the sampling distribution of the mean:\n",
    "\n",
    "$$variance\\;of\\;sampling\\;distribution\\;of\\;mean = \\frac{{\\sigma}^2}{N}$$\n",
    "\n",
    "Since we have two populations and two samples sizes, we need to distinguish between the two variances and sample sizes. We do this by using the subscripts 1 and 2. Using this convention, we can write the formula for the variance of the sampling distribution of the difference between means as:\n",
    "\n",
    "$$\\sigma^2_{M_1-M_2}=\\frac{\\sigma^2_{1}}{n_1}+\\frac{\\sigma^2_{2}}{n_2}$$\n",
    "\n",
    "Since the standard error of a sampling distribution is the standard deviation of the sampling distribution, the standard error of the difference between means is:\n",
    "\n",
    "$$\\sigma_{M_1-M_2}=\\sqrt{\\frac{\\sigma^2_{1}}{n_1}+\\frac{\\sigma^2_{2}}{n_2}}$$"
   ]
  },
  {
   "cell_type": "markdown",
   "metadata": {},
   "source": [
    "### Chapter 4"
   ]
  },
  {
   "cell_type": "markdown",
   "metadata": {},
   "source": [
    "### Bivariate data and Pearson Correlation"
   ]
  },
  {
   "cell_type": "markdown",
   "metadata": {},
   "source": [
    "The Pearson product-moment correlation coefficient is a measure of the strength of the linear relationship between two variables. It is referred to as Pearson's correlation or simply as the correlation coefficient.\n",
    "\n",
    "Pearson's $r$ can range from -1 to 1. An $r$ of -1 indicates a perfect negative linear relationship between variables, an $r$ of 0 indicates no linear relationship between variables, and an $r$ of 1 indicates a perfect positive linear relationship between variables. "
   ]
  },
  {
   "cell_type": "markdown",
   "metadata": {},
   "source": [
    "#### Calculating Pearson $r$\n",
    "\n",
    "Let's say we have following paired data - \n",
    "\n",
    "|X|Y|\n",
    "|--|---|\n",
    "|1|4|\n",
    "|3|6|\n",
    "|5|10|\n",
    "|5|12|\n",
    "|6|13|\n"
   ]
  },
  {
   "cell_type": "code",
   "execution_count": 2,
   "metadata": {},
   "outputs": [
    {
     "data": {
      "text/plain": [
       "<matplotlib.collections.PathCollection at 0x588c5944c0>"
      ]
     },
     "execution_count": 2,
     "metadata": {},
     "output_type": "execute_result"
    },
    {
     "data": {
      "image/png": "[encoded data removed]",
      "text/plain": [
       "<Figure size 432x288 with 1 Axes>"
      ]
     },
     "metadata": {
      "needs_background": "light"
     },
     "output_type": "display_data"
    }
   ],
   "source": [
    "import matplotlib.pyplot as plt\n",
    "X = [1,3,5,5,6]\n",
    "Y = [4,6,10,12,13]\n",
    "\n",
    "plt.scatter(Y,X)"
   ]
  },
  {
   "cell_type": "code",
   "execution_count": 4,
   "metadata": {},
   "outputs": [
    {
     "data": {
      "text/plain": [
       "(4.0, 9.0)"
      ]
     },
     "execution_count": 4,
     "metadata": {},
     "output_type": "execute_result"
    }
   ],
   "source": [
    "import numpy as np\n",
    "\n",
    "x_m = np.mean(X) \n",
    "y_m = np.mean(Y)\n",
    "x_m, y_m\n"
   ]
  },
  {
   "cell_type": "markdown",
   "metadata": {},
   "source": [
    "Based on above data we prepare following table - \n",
    "\n",
    "||$X$|$Y$|$x$|$y$|$xy$|$x^2$|$y^2$|\n",
    "|-|-|-|-|-|-|-|-|\n",
    "||1|4|-3|-5|15|9|25|\n",
    "||3|6|-1|-3|3|1|9|\n",
    "||5|10|1|1|1|1|1|\n",
    "||5|12|1|3|3|1|9|\n",
    "||6|13|2|4|8|4|16|\n",
    "|Total|20|45|0|0|30|16|60|\n",
    "|Mean|4|9|0|0|6|||\n",
    "\n",
    "Here values of $x$ are calculated by subtracting $X$ from mean. Ditto for $y$. Now we use the following formula - \n",
    "\n",
    "$$r =  \\frac{\\Sigma{xy}}{\\sqrt{\\Sigma{x^2}\\Sigma{y^2}}}$$\n",
    "\n"
   ]
  },
  {
   "cell_type": "code",
   "execution_count": 5,
   "metadata": {},
   "outputs": [
    {
     "data": {
      "text/plain": [
       "0.9682458365518541"
      ]
     },
     "execution_count": 5,
     "metadata": {},
     "output_type": "execute_result"
    }
   ],
   "source": [
    "r  = 30/np.sqrt(16*60)\n",
    "r"
   ]
  },
  {
   "cell_type": "markdown",
   "metadata": {},
   "source": [
    "### Variance Sum Law II\n",
    "\n",
    "Recall that when the variables X and Y are independent, the variance of the sum or\n",
    "difference between X and Y can be written as follows:\n",
    "\n",
    "$${\\sigma}^2_{X\\pm{Y}} ={\\sigma}^2_{X}+{\\sigma}^2_{Y}  $$\n",
    "\n",
    "When X and Y are correlated, following formula should be used -\n",
    "\n",
    "$${\\sigma}^2_{X\\pm{Y}} ={\\sigma}^2_{X}+{\\sigma}^2_{Y} \\pm2\\rho{\\sigma_X}{\\sigma_Y} $$\n",
    "\n",
    "Where $\\rho$ is correlation between X and Y in the population. \n",
    "\n",
    "For example, if the variance of the verbal SAT were 10,000, the variance of the quantitative SAT were 11,000 and the correlation between these two tests were 0.50 then the variance of total (verbal + quantitative) would be - "
   ]
  },
  {
   "cell_type": "code",
   "execution_count": 6,
   "metadata": {},
   "outputs": [
    {
     "data": {
      "text/plain": [
       "31488.088481701518"
      ]
     },
     "execution_count": 6,
     "metadata": {},
     "output_type": "execute_result"
    }
   ],
   "source": [
    "10000+11000+2*.5*np.sqrt(10000)*np.sqrt(11000)"
   ]
  },
  {
   "cell_type": "markdown",
   "metadata": {},
   "source": [
    "The variance of difference is -"
   ]
  },
  {
   "cell_type": "code",
   "execution_count": 7,
   "metadata": {},
   "outputs": [
    {
     "data": {
      "text/plain": [
       "10511.911518298484"
      ]
     },
     "execution_count": 7,
     "metadata": {},
     "output_type": "execute_result"
    }
   ],
   "source": [
    "10000+11000-2*.5*np.sqrt(10000)*np.sqrt(11000)"
   ]
  },
  {
   "cell_type": "markdown",
   "metadata": {},
   "source": [
    "In case we have variances and correlation for samples, we use sample variances and correlation."
   ]
  },
  {
   "cell_type": "markdown",
   "metadata": {},
   "source": [
    "### Chapter 5 Probability"
   ]
  },
  {
   "cell_type": "markdown",
   "metadata": {},
   "source": [
    "#### Probability of a Single Event \n",
    "\n",
    "Skipped\n",
    "\n",
    "#### Probability of Two (or more) Independent Events\n",
    "\n",
    "Events A and B are independent events if the probability of Event B occurring is the same whether or not Event A occurs. Let's take a simple example. A fair coin is tossed two times. The probability that a head comes up on the second toss is 1/2 regardless of whether or not a head came up on the first toss.\n",
    "\n",
    "#### Probability of A and B\n",
    "\n",
    "When two events are independent, the probability of both occurring is the product of the probabilities of the individual events. More formally, if events $A$ and $B$ are independent, then the probability of both $A$ and $B$ occurring is:\n",
    "\n",
    "            P(A and B) = P(A) * P(B)\n",
    "            \n",
    "#### Probability of A or B\n",
    "\n",
    "If Events $A$ and $B$ are independent, the probability that either Event $A$ or Event $B$ occurs is:\n",
    "      \n",
    "      P(A or B) = P(A) + P(B) - P(A and B)\n",
    "      \n",
    "If you flip a coin two times, what is the probability that you will get a head on the first flip or a head on the second flip (or both)? Letting Event A be a head on the first flip and Event B be a head on the second flip, then P(A) = 1/2, P(B) = 1/2, and P(A and B)=1/4. Therefore,\n",
    "\n",
    "    P(A or B) = 1/2 + 1/2 - 1/4 = 3/4\n",
    "    \n",
    "#### Conditional Probabilities\n",
    "\n",
    "The two events $A$ and $B$ are not independent when occurence of event $A$ affects the probability of $B$. In that case, \n",
    "\n",
    "    If Events A and B are not independent, then P(A and B) =  P(A) * P(B|A)\n",
    "    \n",
    "    "
   ]
  },
  {
   "cell_type": "markdown",
   "metadata": {},
   "source": [
    "### Permutations and Combinations\n",
    "\n",
    "#### Possible Orders \n",
    "\n",
    "Suppose we have n distinct items and we are asked to pick n items one by one. In how many ways can we do this?\n",
    "The answer is we can do this in $n!$ ways.\n",
    "\n",
    "- Permutation - Order matters so (1,0) and (0,1) means different things.\n",
    " \n",
    " $ p^n_k = \\frac{n!}{(n-k)!} $  -  *without replacement*\n",
    " \n",
    " \n",
    " - Combination - Order doesn't matter so (1,0) and (0,1) means same thing.\n",
    " \n",
    " $ c^n_k = \\frac{n!}{k!(n-k)!} $ - *without replacement*\n",
    " \n"
   ]
  },
  {
   "cell_type": "markdown",
   "metadata": {},
   "source": [
    "#### Binomial Distribution\n",
    "\n"
   ]
  },
  {
   "cell_type": "markdown",
   "metadata": {},
   "source": [
    "#### Q -Q Plot\n",
    "\n",
    "Let us assume we have a spinner which gives a random number between 0 and 1. We spin it 5 times and we get following following values -"
   ]
  },
  {
   "cell_type": "code",
   "execution_count": 8,
   "metadata": {},
   "outputs": [],
   "source": [
    "l = [.41, .24, .59, .03, .67]"
   ]
  },
  {
   "cell_type": "code",
   "execution_count": 9,
   "metadata": {},
   "outputs": [
    {
     "data": {
      "text/plain": [
       "[0.03, 0.24, 0.41, 0.59, 0.67]"
      ]
     },
     "execution_count": 9,
     "metadata": {},
     "output_type": "execute_result"
    }
   ],
   "source": [
    "sorted(l)"
   ]
  },
  {
   "cell_type": "markdown",
   "metadata": {},
   "source": [
    "We expect a uniform distribution to model these data. If the sample data were “perfect,” then on average there would be an observation in the middle of each of the 5 intervals: 0 to .2, .2 to .4, .4 to .6, and so on. Table below shows the 5 data points (sorted in ascending order) and the theoretically expected value of each based on the assumption that the distribution is uniform (the middle of the interval).\n",
    "\n",
    "|Sample value |Rank|Middle of the i-th interval|\n",
    "|-------------|----|---------------------------|\n",
    "|.03|1|.1|\n",
    "|.24|2|.3|\n",
    "|.41|3|.5|\n",
    "|.59|4|.7|\n",
    "|.67|5|.9|"
   ]
  },
  {
   "cell_type": "code",
   "execution_count": 10,
   "metadata": {},
   "outputs": [],
   "source": [
    "exp = [.1,.3,.5,.7,.9]"
   ]
  },
  {
   "cell_type": "code",
   "execution_count": 11,
   "metadata": {},
   "outputs": [
    {
     "data": {
      "image/png": "[encoded data removed]",
      "text/plain": [
       "<Figure size 432x288 with 1 Axes>"
      ]
     },
     "metadata": {
      "needs_background": "light"
     },
     "output_type": "display_data"
    }
   ],
   "source": [
    "%matplotlib inline\n",
    "import matplotlib.pyplot as plt\n",
    "\n",
    "plt.scatter(exp,sorted(l))\n",
    "plt.plot(exp, exp, color = 'red')\n",
    "plt.title(\"q-q plot\")\n",
    "plt.xlabel('theoretical quantile')\n",
    "plt.ylabel(\"sample quantile\");"
   ]
  },
  {
   "cell_type": "markdown",
   "metadata": {},
   "source": [
    "Above plot shows that our data roughly follows a straight line which indicates samples are from a uniform distribution.\n",
    "\n",
    "Q-Q plot definition can be extended to any continuous density. Above we used q-q plot in the context of uniform distribution but it can also be used to test whether our data has come from a standard normal distribution. \n",
    "\n",
    "Consider following data points - \n"
   ]
  },
  {
   "cell_type": "code",
   "execution_count": 12,
   "metadata": {},
   "outputs": [],
   "source": [
    "n = [-1.96, -.78, .31, 1.15, 1.31]"
   ]
  },
  {
   "cell_type": "markdown",
   "metadata": {},
   "source": [
    "\n",
    "Since the sample size is 5, we can think of dividing a standard normal distribution in 5 equal intervals: 0-20%, 20-40% and so on. As we did in the case of uniform distribution, we focus on middle of each interval (10%, 30%..). For each interval, we calculate the $z-value$ -"
   ]
  },
  {
   "cell_type": "code",
   "execution_count": 13,
   "metadata": {},
   "outputs": [],
   "source": [
    "import numpy as np\n",
    "from scipy.stats import norm\n",
    "inv =[.1,.3, .5, .7, .9]\n",
    "\n",
    "inv = np.round(norm.ppf(inv),2)"
   ]
  },
  {
   "cell_type": "code",
   "execution_count": 14,
   "metadata": {},
   "outputs": [
    {
     "data": {
      "text/plain": [
       "array([-1.28, -0.52,  0.  ,  0.52,  1.28])"
      ]
     },
     "execution_count": 14,
     "metadata": {},
     "output_type": "execute_result"
    }
   ],
   "source": [
    "inv"
   ]
  },
  {
   "cell_type": "markdown",
   "metadata": {},
   "source": [
    "The area between -$\\infty$ and -1.28 is .1. Similarily, the area between -$\\infty$ and -.52 is .3. "
   ]
  },
  {
   "cell_type": "code",
   "execution_count": 15,
   "metadata": {},
   "outputs": [
    {
     "data": {
      "text/plain": [
       "(-3.0, 3.0)"
      ]
     },
     "execution_count": 15,
     "metadata": {},
     "output_type": "execute_result"
    },
    {
     "data": {
      "image/png": "[encoded data removed]",
      "text/plain": [
       "<Figure size 432x288 with 1 Axes>"
      ]
     },
     "metadata": {
      "needs_background": "light"
     },
     "output_type": "display_data"
    }
   ],
   "source": [
    "plt.scatter(inv, n)\n",
    "plt.xlim(-3,3)"
   ]
  },
  {
   "cell_type": "markdown",
   "metadata": {},
   "source": [
    "Again, we can see that our plot roughly follows a straight line which means we can be fairly confident that our data came from a standard normal distribution. Note that, n = 5 is small sample size. The bigger the sample size, the closer will be our plot to a straight line. "
   ]
  },
  {
   "cell_type": "markdown",
   "metadata": {},
   "source": [
    "#### Degrees of Freedom\n",
    "\n",
    "Some estimates are based on more information than others. For example, an estimate of the variance based on a sample size of 100 is based on more information than an estimate of the variance based on a sample size of 5. The degrees of freedom (df) of an estimate is the number of independent pieces of information on which the estimate is based.\n",
    "As an example, let's say that we know that the mean height of Martians is 6 and wish to estimate the variance of their heights. We randomly sample one Martian and find that its height is 8. Recall that the variance is defined as the mean squared deviation of the values from their population mean. We can compute the squared deviation of our value of 8 from the population mean of 6 to find a single squared deviation from the mean. This single squared deviation from the mean $(8-6)^2 = 4$ is an estimate of the mean squared deviation for all Martians. Therefore, based on this sample of one, we would estimate that the population variance is 4. This estimate is based on a single piece of information and therefore has 1 df. If we sampled another Martian and obtained a height of 5, then we could compute a second estimate of the variance, $(5-6)^2 = 1$. We could then average our two estimates (4 and 1) to obtain an estimate of 2.5. Since this estimate is based on two independent pieces of information, it has two degrees of freedom. The two estimates are independent because they are based on two independently and randomly selected Martians. The estimates would not be independent if after sampling one Martian, we decided to choose its brother as our second Martian.\n",
    "\n",
    "As you are probably thinking, it is pretty rare that we know the population mean when we are estimating the variance. Instead, we have to first estimate the population mean (μ) with the sample mean (M). The process of estimating the mean affects our degrees of freedom as shown below.\n",
    "\n",
    "Returning to our problem of estimating the variance in Martian heights, let's assume we do not know the population mean and therefore we have to estimate it from the sample. We have sampled two Martians and found that their heights are 8 and 5. Therefore M, our estimate of the population mean, is M =  (8 + 5)/2 = 6.5\n",
    "\n",
    "We can now compute two estimates of variance:\n",
    "\n",
    "      Estimate 1 = (8-6.5)2 = 2.25\n",
    "      Estimate 2 = (5-6.5)2 = 2.25"
   ]
  },
  {
   "cell_type": "markdown",
   "metadata": {},
   "source": [
    "\n",
    "Now for the key question: Are these two estimates independent? The answer is no because each height contributed to the calculation of M. Since the first Martian's height of 8 influenced M, it also influenced Estimate 2. If the first height had been, for example, 10, then M would have been 7.5 and Estimate 2 would have been (5-7.5)2 = 6.25 instead of 2.25. The important point is that the two estimates are not independent and therefore we do not have two degrees of freedom. "
   ]
  },
  {
   "cell_type": "markdown",
   "metadata": {},
   "source": [
    "In general, the degrees of freedom for an estimate is equal to the number of values minus the number of parameters estimated en route to the estimate in question. In the Martians example, there are two values (8 and 5) and we had to estimate one parameter (μ) on the way to estimating the parameter of interest ($σ^2$). Therefore, the estimate of variance has 2 - 1 = 1 degree of freedom. If we had sampled 12 Martians, then our estimate of variance would have had 11 degrees of freedom. Therefore, the degrees of freedom of an estimate of variance is equal to N - 1 where N is the number of observations.\n",
    "\n",
    "Recall that the formula for estimating the variance in a sample is:\n",
    "\n",
    "$$s^2 = \\frac{\\Sigma(X-\\overline{x})^2}{n-1}$$\n",
    "\n",
    "The denominator of this formula is the degrees of freedom."
   ]
  },
  {
   "cell_type": "markdown",
   "metadata": {},
   "source": [
    "### Characteristics of Estimators\n",
    "\n",
    "Let's compare two weighing scales. Scale 1 is a very high-tech digital scale and gives essentially the same weight each time you weigh yourself; it varies by at most 0.02 pounds from weighing to weighing. Although this scale has the potential to be very accurate, it is calibrated incorrectly and, on average, overstates your weight by one pound. Scale 2 is a cheap scale and gives very different results from weighing to weighing. However, it is just as likely to underestimate as overestimate your weight. Sometimes it vastly overestimates it and sometimes it vastly underestimates it. However, the average of a large number of measurements would be your actual weight. Scale 1 is biased since, on average, its measurements are one pound higher than your actual weight. Scale 2, by contrast, gives unbiased estimates of your weight. However, Scale 2 is highly variable and its measurements are often very far from your true weight. Scale 1, in spite of being biased, is fairly accurate. Its measurements are never more than 1.02 pounds from your actual weight.\n",
    "\n",
    "#### Bias\n",
    "\n",
    "A statistic is biased if the long-term average value of the statistic is not the parameter it is estimating. More formally, a statistic is biased if the mean of the sampling distribution of the statistic is not equal to the parameter. The mean of the sampling distribution of a statistic is sometimes referred to as the expected value of\n",
    "the statistic.\n",
    "\n",
    "As we saw elsewhere that the sampling distribution of the mean, the mean of the sampling distribution of the (sample) mean is the population mean (μ). Therefore the sample mean is an unbiased estimate of μ. Any given sample mean may underestimate or overestimate μ, but there is no systematic tendency for sample means to either under or overestimate μ.\n",
    "\n",
    "We know that the formula for the variance in a population is - \n",
    "\n",
    "$$\\color{blue}{variance({\\sigma}^2)= \\frac{\\Sigma({x - \\mu})^2}{n}}$$\n",
    "\n",
    "whereas the formula to estimate the variance from a sample is\n",
    "\n",
    "$$\\color{blue}{variance({s}^2) = \\frac{\\Sigma({x - \\overline{x}})^2}{n-1}}$$\n",
    "\n",
    "Notice that the denominators of the formulas are different: $n$ for the population\n",
    "and $n-1$ for the sample. If $n$ is used in the formula for $s^2$, then the estimates tend to\n",
    "be too low and therefore biased. The formula with $n-1$ in the denominator gives an unbiased estimate of the population variance. Note that $n-1$ is the degrees of freedom."
   ]
  },
  {
   "cell_type": "markdown",
   "metadata": {},
   "source": [
    "#### Sampling Variability\n",
    "\n",
    "The sampling variability of a statistic refers to how much the statistic varies from sample to sample and is usually measured by its standard error; the smaller the standard error, the less the sampling variability. For example, the standard error of the mean is a measure of a sampling variability of the mean. Recall that the formula for the standard error of the mean is -  \n",
    " \n",
    " $$\\color{blue}{Standard\\;Error =  \\frac{s}{\\sqrt{n}}}$$\n",
    " \n",
    " for sample standard deviation `s` and number of samples `n`.\n",
    " \n",
    "The larger the sample size ($n$), the smaller the standard error of the mean and therefore the lower the sampling variability.\n",
    "\n",
    "Statistics differ in their sampling variability even with the same sample size. For example, for normal distributions, the standard error of the median is larger than the standard error of the mean. The smaller the standard error of a statistic, the more efficient the statistic. The relative efficiency of two statistics is typically defined as the ratio of their standard errors. However, it is sometimes defined as the ratio of their squared standard errors."
   ]
  },
  {
   "cell_type": "markdown",
   "metadata": {},
   "source": [
    "### t Distribution\n",
    "\n",
    "In normal distributions 95% of the area of a normal distribution is within 1.96 standard deviations of the mean. Therefore, if you randomly sampled a value from a normal distribution with a mean of 100, the probability it would be within 1.96σ of 100 is 0.95. Similarly, if you sample N values from the population, the probability that the sample mean (M) will be within 1.96 σM of 100 is 0.95.\n",
    "\n",
    "But what if we do not know the standard deviation? You sample N values and compute the sample mean (M) and estimate the standard error of the mean ($σ_M$) with $s_M$. What is the probability that M will be within 1.96 $s_M$ of the population mean (μ)? We can't be sure. \n",
    "\n",
    "t - distribution is used to solve this kind of problems. \n",
    "\n",
    "From Wikipedia - \n",
    "\n",
    "> t- distribution is any member of family of continuous probability distributions that arises when estimating the mean of a normally distributed population in situations where the **sample size is too small and the population standard deviation is unknown**.\n",
    "\n",
    "Note that the normal distribution has relatively more scores in the center of the distribution and the t distribution has relatively more in the tails. The t distribution is therefore leptokurtic. The t distribution approaches the normal distribution as the degrees of freedom increase.\n",
    "\n",
    "Since the t distribution is leptokurtic, the percentage of the distribution within 1.96 standard deviations of the mean is less than the 95% for the normal distribution. Table 1 shows the number of standard deviations from the mean required to contain 95% and 99% of the area of the t distribution for various degrees of freedom. These are the values of t that you use in a confidence interval. The corresponding values for the normal distribution are 1.96 and 2.58 respectively. Notice that with few degrees of freedom, the values of t are much higher than the corresponding values for a normal distribution and that the difference decreases as the degrees of freedom increase.\n",
    "\n",
    "<img src=\"images/t-table.png\" width=\"300\" height=\"400\"/>"
   ]
  },
  {
   "cell_type": "markdown",
   "metadata": {},
   "source": []
  },
  {
   "cell_type": "code",
   "execution_count": null,
   "metadata": {},
   "outputs": [],
   "source": []
  }
 ],
 "metadata": {
  "kernelspec": {
   "display_name": "Python 3",
   "language": "python",
   "name": "python3"
  },
  "language_info": {
   "codemirror_mode": {
    "name": "ipython",
    "version": 3
   },
   "file_extension": ".py",
   "mimetype": "text/x-python",
   "name": "python",
   "nbconvert_exporter": "python",
   "pygments_lexer": "ipython3",
   "version": "3.9.5"
  }
 },
 "nbformat": 4,
 "nbformat_minor": 4
}
