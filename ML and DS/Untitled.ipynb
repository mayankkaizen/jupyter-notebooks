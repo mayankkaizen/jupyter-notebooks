{
 "cells": [
  {
   "cell_type": "code",
   "execution_count": 16,
   "metadata": {},
   "outputs": [
    {
     "name": "stdout",
     "output_type": "stream",
     "text": [
      "Number0\r",
      "Number1\r",
      "Number2\r",
      "Number3\r",
      "Number4\r",
      "Number5\r",
      "Number6\r",
      "Number7\r",
      "Number8\r",
      "Number9\r",
      "Number10\r",
      "Number11\r",
      "Number12\r",
      "Number13\r",
      "Number14\r",
      "Number15\r",
      "Number16\r",
      "Number17\r",
      "Number18\r",
      "Number19\r"
     ]
    }
   ],
   "source": [
    "for i in range(20):\n",
    "    print(f'Number{i}', end='\\r')"
   ]
  },
  {
   "cell_type": "code",
   "execution_count": 18,
   "metadata": {},
   "outputs": [
    {
     "ename": "ZeroDivisionError",
     "evalue": "division by zero",
     "output_type": "error",
     "traceback": [
      "\u001b[1;31m---------------------------------------------------------------------------\u001b[0m",
      "\u001b[1;31mZeroDivisionError\u001b[0m                         Traceback (most recent call last)",
      "\u001b[1;32m<ipython-input-18-05c9758a9c21>\u001b[0m in \u001b[0;36m<module>\u001b[1;34m()\u001b[0m\n\u001b[1;32m----> 1\u001b[1;33m \u001b[1;36m1\u001b[0m\u001b[1;33m/\u001b[0m\u001b[1;36m0\u001b[0m\u001b[1;33m\u001b[0m\u001b[0m\n\u001b[0m",
      "\u001b[1;31mZeroDivisionError\u001b[0m: division by zero"
     ]
    }
   ],
   "source": [
    "1/0"
   ]
  },
  {
   "cell_type": "code",
   "execution_count": 19,
   "metadata": {},
   "outputs": [
    {
     "name": "stdout",
     "output_type": "stream",
     "text": [
      "> <ipython-input-18-05c9758a9c21>(1)<module>()\n",
      "-> 1/0\n",
      "(Pdb) kk\n",
      "*** NameError: name 'kk' is not defined\n",
      "(Pdb) bb\n",
      "*** NameError: name 'bb' is not defined\n",
      "(Pdb) q\n"
     ]
    }
   ],
   "source": [
    "import pdb\n",
    "pdb.pm()"
   ]
  },
  {
   "cell_type": "code",
   "execution_count": 20,
   "metadata": {},
   "outputs": [
    {
     "data": {
      "text/plain": [
       "'c:\\\\miniconda3\\\\notebooks\\\\My Notebooks\\\\ML and DS'"
      ]
     },
     "execution_count": 20,
     "metadata": {},
     "output_type": "execute_result"
    }
   ],
   "source": [
    "import os\n",
    "os.getcwd()    "
   ]
  },
  {
   "cell_type": "code",
   "execution_count": 21,
   "metadata": {
    "collapsed": true
   },
   "outputs": [],
   "source": [
    "import numpy as np"
   ]
  },
  {
   "cell_type": "code",
   "execution_count": 22,
   "metadata": {},
   "outputs": [
    {
     "data": {
      "text/plain": [
       "array([1, 2, 3, 2, 1], dtype=int32)"
      ]
     },
     "execution_count": 22,
     "metadata": {},
     "output_type": "execute_result"
    }
   ],
   "source": [
    "a = np.r_[1,2,3,2,1]\n",
    "a"
   ]
  },
  {
   "cell_type": "code",
   "execution_count": 25,
   "metadata": {},
   "outputs": [
    {
     "data": {
      "text/plain": [
       "array([1, 2, 3, 2, 1])"
      ]
     },
     "execution_count": 25,
     "metadata": {},
     "output_type": "execute_result"
    }
   ],
   "source": [
    "b = np.array([1,2,3,2,1])\n",
    "b"
   ]
  },
  {
   "cell_type": "code",
   "execution_count": 43,
   "metadata": {},
   "outputs": [
    {
     "data": {
      "text/plain": [
       "<matplotlib.collections.PathCollection at 0x597ba30>"
      ]
     },
     "execution_count": 43,
     "metadata": {},
     "output_type": "execute_result"
    },
    {
     "data": {
      "text/plain": [
       "<matplotlib.collections.PathCollection at 0x597bcf0>"
      ]
     },
     "execution_count": 43,
     "metadata": {},
     "output_type": "execute_result"
    },
    {
     "data": {
      "text/plain": [
       "<matplotlib.legend.Legend at 0x597bc50>"
      ]
     },
     "execution_count": 43,
     "metadata": {},
     "output_type": "execute_result"
    },
    {
     "data": {
      "image/png": "iVBORw0KGgoAAAANSUhEUgAAAW4AAAD8CAYAAABXe05zAAAABHNCSVQICAgIfAhkiAAAAAlwSFlz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\nMQQ3ACSG4AaAxBDcAJAYghsAEvP/QcfRCXasmeUAAAAASUVORK5CYII=\n",
      "text/plain": [
       "<matplotlib.figure.Figure at 0x574dbf0>"
      ]
     },
     "metadata": {},
     "output_type": "display_data"
    }
   ],
   "source": [
    "plt.scatter(group, b, label= 'b', c = 'green')\n",
    "plt.scatter(group, a, label = 'a', c = 'red')\n",
    "plt.legend()"
   ]
  },
  {
   "cell_type": "code",
   "execution_count": 1,
   "metadata": {},
   "outputs": [
    {
     "data": {
      "text/plain": [
       "['',\n",
       " 'C:\\\\miniconda3\\\\envs\\\\data\\\\python36.zip',\n",
       " 'C:\\\\miniconda3\\\\envs\\\\data\\\\DLLs',\n",
       " 'C:\\\\miniconda3\\\\envs\\\\data\\\\lib',\n",
       " 'C:\\\\miniconda3\\\\envs\\\\data',\n",
       " 'C:\\\\miniconda3\\\\envs\\\\data\\\\lib\\\\site-packages',\n",
       " 'C:\\\\miniconda3\\\\envs\\\\data\\\\lib\\\\site-packages\\\\Mako-1.0.7-py3.6.egg',\n",
       " 'C:\\\\miniconda3\\\\envs\\\\data\\\\lib\\\\site-packages\\\\IPython\\\\extensions',\n",
       " 'C:\\\\users\\\\mayank\\\\.ipython']"
      ]
     },
     "execution_count": 1,
     "metadata": {},
     "output_type": "execute_result"
    }
   ],
   "source": [
    "import sys\n",
    "sys.path"
<<<<<<< HEAD
=======
   ]
  },
  {
   "cell_type": "code",
   "execution_count": 1,
   "metadata": {},
   "outputs": [
    {
     "name": "stdout",
     "output_type": "stream",
     "text": [
      "Hi\n"
     ]
    }
   ],
   "source": [
    "print('Hi')"
>>>>>>> 8c48cfd72eb63bc22463047106dc3df765486817
   ]
  },
  {
   "cell_type": "code",
   "execution_count": null,
   "metadata": {},
   "outputs": [],
   "source": []
  }
 ],
 "metadata": {
  "kernelspec": {
   "display_name": "Python 3",
   "language": "python",
   "name": "python3"
  },
  "language_info": {
   "codemirror_mode": {
    "name": "ipython",
    "version": 3
   },
   "file_extension": ".py",
   "mimetype": "text/x-python",
   "name": "python",
   "nbconvert_exporter": "python",
   "pygments_lexer": "ipython3",
   "version": "3.7.0"
  }
 },
 "nbformat": 4,
 "nbformat_minor": 2
}
