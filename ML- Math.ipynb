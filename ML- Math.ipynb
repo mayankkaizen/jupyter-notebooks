{
 "cells": [
  {
   "cell_type": "code",
   "execution_count": 51,
   "metadata": {
    "collapsed": true
   },
   "outputs": [],
   "source": [
    "#some generic imports\n",
    "\n",
    "%matplotlib inline \n",
    "import matplotlib.pyplot as plt\n",
    "import seaborn as sns\n",
    "sns.set()\n",
    "import numpy as np\n",
    "import pandas as pd\n",
    "from scipy import stats\n",
    "from scipy import special\n"
   ]
  },
  {
   "cell_type": "markdown",
   "metadata": {},
   "source": [
    "### Calculas\n",
    "\n",
    "##### Slope\n",
    "\n",
    "For a differentiable function $f(x)$, slope at a point $a$ is given by $f'(a)$. The slope is zero at extrema (minima or maxima, global or local).\n",
    "\n",
    "For example, consider a function $f(x) = x^2$. The derivative of this function ($f'(x)$) is given by $2x$. We can see that the derivative is zero at $x = 0$, which means function $f(x)$ has its extrema at $x = 0$"
   ]
  },
  {
   "cell_type": "code",
   "execution_count": 3,
   "metadata": {},
   "outputs": [
    {
     "data": {
      "text/plain": [
       "<matplotlib.legend.Legend at 0x8811730>"
      ]
     },
     "execution_count": 3,
     "metadata": {},
     "output_type": "execute_result"
    },
    {
     "data": {
      "image/png": "[encoded data removed]",
      "text/plain": [
       "<matplotlib.figure.Figure at 0x84f7a30>"
      ]
     },
     "metadata": {},
     "output_type": "display_data"
    }
   ],
   "source": [
    "x = np.arange(-100,100)\n",
    " \n",
    "fig, ax = plt.subplots(2, sharex = True)\n",
    "ax[0].plot(x, (x**2), label = '$x^2$')\n",
    "ax[0].plot([0,50,100],[-2500,2500,8500], label = 'tangent line')\n",
    "ax[0].scatter(50, 2500)\n",
    "ax[1].plot(x, (2*x), label = '$2x$')\n",
    "ax[0].legend()\n",
    "ax[1].legend()"
   ]
  },
  {
   "cell_type": "markdown",
   "metadata": {},
   "source": [
    "---\n",
    "### Probability\n",
    "$\\overline{P(A ∩ B) + P(A ∩ B') = P(A)}$ \n",
    "\n",
    "$P(A ∩ B) + P(A' ∩ B) = P(B)$\n",
    "\n",
    "$P(A ∪ B) + P(A ∩ B) = P(A) + P(B)$\n",
    "\n",
    "$P(A ∪ B) = P(A ∩ B) + P(A ∩ B) + P(A ∩ B)$\n",
    "\n",
    "$(A ∪ B)' = A' ∩ B'$\n",
    "\n",
    "$\\underline{(A ∩ B)' = A' ∪ B'}$\n",
    "\n",
    "**Conditional Probability** - It measures the probability that event A occurs when it is known that\n",
    "event B occurs.\n",
    "\n",
    "Its interpretation is that if the outcome occurring is known to be contained within the event B, then this conditional probability measures the probability that the outcome is also contained within the event A. Conditional probabilities can easily be obtained using the following formula:\n",
    "\n",
    "$P(A|B) = \\frac{P(A ∩ B)}{P(B)}$ for $P(B) > 0$. \n",
    "\n",
    "When $B \\subset A$, this implies that $A \\cap B$ equals to $B$. This means whenever $B$ happens, $A$ also happens. Hence, probability of $A$ conditional on event $B$ is 1. This is also apparent when we put $P(B)$ in place of $A \\cap B$ -\n",
    "\n",
    "$P(A|B) = \\frac{P(A ∩ B)}{P(B)} = \\frac{P(B)}{P(B)} = 1$ "
   ]
  },
  {
   "cell_type": "markdown",
   "metadata": {},
   "source": [
    "---\n",
    "##### Posterior Probabilities\n",
    "\n",
    "Let A1, . . . , An be a partition of a sample space S so that the events Ai are mutually exclusive with\n",
    "$S = A_1 ∪ ··· ∪ A_n$\n",
    "\n",
    "Suppose that the probabilities of these n events, $P(A1)$, . . . , $P(An)$, are known. In addition, consider an event B as shown in figure shown below, and suppose that the conditional probabilities\n",
    "$P(B|A1)$, . . . , $P(B|An)$ are also known.\n",
    "\n",
    "![](images/prob.png)\n",
    "\n",
    "We have that - \n",
    "\n",
    "$B = (A_1 ∩ B) ∪ · · · ∪ (A_n ∩ B)$\n",
    "\n",
    "where the events $A_i ∩ B$ are mutually exclusive, so that\n",
    "\n",
    "$$\\color{blue}{\\overline{\\underline{P(B) = P(A_1 ∩ B) + ··· + P(A_n ∩ B) = P(A_1) P(B|A_1) + ··· + P(A_n) P(B|A_n)}} \\\\ Law\\; of\\; Total\\; Probability}$$\n",
    "\n",
    "\n",
    "This result, known as the **law of total probability**, has the interpretation that if it is known that\n",
    "one and only one of a series of events $A_i$ can occur, then the probability of another event B can\n",
    "be obtained as the weighted average of the conditional probabilities $P(B|A_i )$, with weights\n",
    "equal to the probabilities $P(A_i)$.\n",
    "\n",
    "An additional question of interest is how to use the probabilities $P(A_i)$ and $P(B|A_i)$ to\n",
    "calculate the probabilities $P(A_i|B)$, the revised probabilities of the events $A_i$ conditional on\n",
    "the event $B$. The probabilities\n",
    "\n",
    "$P(A_1), . . . , P(A_n)$\n",
    "\n",
    "can be thought of as being the prior probabilities of the events A1, . . . , An. However, the observation of the event B provides some additional information that allows the revision of these prior probabilities into a set of posterior probabilities\n",
    "\n",
    "$P(A_1|B), . . . , P(A_n|B)$\n",
    "\n",
    "which are the probabilities of the events $A_1, . . . , A_n$ conditional on the event $B$. From the law of total probability, these posterior probabilities are calculated to be\n",
    "\n",
    "$$\\color{blue}{\\underline{\\overline{P(A_i|B) = \\frac{P(A_i ∩B)}{P(B)} = \\frac{P(A_i)P(B|A_i)}{P(B)} = \\frac{P(A_i)P(B|A_i)}{\\sum_{j =1}^n{P(A_j)P(B|A_j)}}}}\\;\\; - \\; Bayes'\\;Theorem}$$\n",
    "\n",
    "which is known as **Bayes’ theorem**.\n"
   ]
  },
  {
   "cell_type": "markdown",
   "metadata": {},
   "source": [
    "#### Illustration of Bayes' Theorem with an Example \n",
    "\n",
    "Suppose there are two bowls of cookies. Bowl 1 contains 30 vanilla cookies and 10 chocolate cookies. Bowl 2 contains 20 of each. Now suppose you choose one of the bowls at random and, without looking, select a cookie at random. The cookie is vanilla. What is the probability that it came from Bowl 1?\n",
    "\n",
    "This is a conditional probability; we want $p(Bowl \\;1\\;|\\;vanilla)$, but it is not obvious how to compute it. If I asked a different question—the probability of a vanilla cookie given Bowl 1—it would be easy:\n",
    "$p(vanilla\\;|\\;Bowl\\;1)$ = 3/4.\n",
    "Sadly, $p(A|B)$ is not the same as $p(B|A)$, but there is a way to get from one\n",
    "to the other: Bayes’s theorem.\n",
    "\n",
    "We know that conjunction is commutative; that is\n",
    "$$p(A\\;and\\;B) = p(B\\;and\\;A)$$\n",
    "\n",
    "for any events A and B.\n",
    "Next, we write the probability of a conjunction:\n",
    "\n",
    "$$p(A\\;and\\;B) = p(A) p(B|A)$$\n",
    "\n",
    "Since we have not said anything about what A and B mean, they are interchangeable.\n",
    "Interchanging them yields\n",
    "\n",
    "$$p(B\\;and\\;A) = p(B) p(A|B)$$\n",
    "\n",
    "Pulling those pieces together, we get\n",
    "\n",
    "$$p(B) p(A|B) = p(A) p(B|A)$$\n",
    "\n",
    "or\n",
    "\n",
    "$$\\color{blue}{\\overline{\\underline{p(A|B) =p(A) \\frac{p(B|A)}{p(B)}}}\\ \\ \\ \\ \\ \\  - Bayes'\\  Theorem}$$\n",
    "\n",
    "Above, $p(A/B)$ is called the **posterior probability**, $p(A)$ **prior probability**, $p(B|A)$ likelyhood and $p(B)$ is called **normalizing constant**.\n",
    "\n",
    "For our example, I’ll write B1 for the hypothesis that the cookie came from Bowl 1 and V for the vanilla cookie.\n",
    "Plugging in Bayes’s theorem we get\n",
    "\n",
    "$$p(B1|V) =p(B1)\\frac{p(V|B1)}{p(V)}$$\n",
    "\n",
    "The term on the left is what we want: the probability of Bowl 1, given that\n",
    "we chose a vanilla cookie. The terms on the right are:\n",
    "\n",
    " - $p(B1)$: This is the probability that we chose Bowl 1, unconditioned by what kind of cookie we got. Since the problem says we chose a bowl at random, we can assume $p(B1)$ = 1/2.\n",
    " \n",
    " - $p(V|B1)$: This is the probability of getting a vanilla cookie from Bowl 1, which is 3/4.\n",
    " \n",
    " - $p(V)$: This is the probability of drawing a vanilla cookie from either bowl. Since we had an equal chance of choosing either bowl and the bowls contain the same number of cookies, we had the same chance of choosing any cookie. Between the two bowls there are 50 vanilla and 30 chocolate cookies, so $p(V)$ = 5/8. \n",
    " \n",
    "Putting it together, we have - \n",
    "\n",
    "$p(B1|V) =\\frac{(1/2)*(3/4)}{5/8}\\; =\\; 3/5$"
   ]
  },
  {
   "cell_type": "markdown",
   "metadata": {},
   "source": [
    "Also, from **law of total probability** we have - \n",
    "\n",
    "$$P(B) = P(A_1 ∩ B) + ··· + P(A_n ∩ B) = P(A_1) P(B|A_1) + ··· + P(A_n) P(B|A_n)$$\n",
    "\n",
    "For our cookies example, we can write - \n",
    "\n",
    "$$p(V) = p(B1)p(V|B1) + p(B2)p(V|B2) = (1/2)(3/4) + (1/2)(1/2) = 5/8$$"
   ]
  },
  {
   "cell_type": "markdown",
   "metadata": {},
   "source": [
    "##### Monty Hall Problem\n",
    "\n",
    "There are three rooms A, B and C. There is a car in one room and in each of remaining rooms, there is a goat. You are asked to guess a room with a car (say room A). After you choose such a room, host opens one of remaining 2 rooms having a goat (say B). After this, host asks you if you would like to switch from A to C. What would you do? Would you stick to original choice A or would you switch to C?  "
   ]
  },
  {
   "cell_type": "markdown",
   "metadata": {},
   "source": [
    "##### Solution\n",
    "\n",
    "We'll use **Bayes' Rule** and **Law of Total Probability**, i.e. -\n",
    "\n",
    "$$\\color{blue}{\\underline{\\overline{P(H_i|D) = \\frac{P(H_i ∩D)}{P(D)} = \\frac{P(H_i)P(D|H_i)}{P(D)} = \\frac{P(H_i)P(D|H_i)}{\\sum_{j =1}^n{P(H_j)P(D|H_j)}}}}}$$\n",
    "\n",
    "Here, $H_i$ represents various hypothesis and **D** will be data.\n",
    "\n",
    "In this case D consists of two parts: Monty chooses Door B *and* there is no car there. Next we define three hypotheses: A, B, and C represent the hypothesis that the car is behind Door A, Door B, or Door C. Now, let’s apply the table method:\n",
    "\n",
    "Hypothesis|prior p(H)|Likelihood p(D/H)|p(H)p(D/H)|posterior p(H/D)\n",
    "----------|----------|-----------------|----------|----------------\n",
    "A         |1/3       |  1/2            |1/6       |1/3\n",
    "B         |1/3       | 0               |0         |0\n",
    "C         |1/3       | 1               |1/3       |2/3"
   ]
  },
  {
   "cell_type": "markdown",
   "metadata": {},
   "source": [
    "Calculating prior $p(H)$ is straightforward.\n",
    "\n",
    "For hypothesis A, that is Car is actually behind A, Likelihood $p(D|H)$ wil be 1/2 because car can either be in room B or C. That means data statement 'D' has the probability of 1/2 to be true. Also, if Hypothesis B is true, then car is certainly behind B and for this reason $p(D|H)$ will be zero. In case of Hypothesis C, the car is behind C and Monty will definitely open B (because he can't choose A either as it has been chosen by guest.) so $p(D|H)$ will be 1.\n",
    "\n",
    "To apply **Bayes' Rule**, that is, $\\;p(H|D) = \\frac{p(H)p(D|H)}{p(D)}\\;$, we also need to calculate $p(D)$. To calculate this, we make use of Law of Total Probability. In this case -\n",
    "\n",
    "$p(D) = \\sum_{j =1}^n{p(H_j)p(D|H_j)}$\n",
    "\n",
    "We have already calculated all the values for $p(H_j)$ and $p(D|H_j)$ in above table (4th column). So $p(D) = 1/6 + 0+1/3 = 1/2$\n",
    "\n",
    "So after applying Bayes' rule, we see that revised probability for hypothesis A is still 1/3 but the same for Hypothesis C (room C) has been revised to 2/3. That means our strategy should be to switch to Room C"
   ]
  },
  {
   "cell_type": "markdown",
   "metadata": {},
   "source": [
    "---\n",
    "**Sample Space** -  Collection of all possible outcomes of a random experiment. For a coin flipping experiment, sample space would be \n",
    "\n",
    "$S = {H, T}$\n",
    "**Random Variable** - A function defined on a sample space. Denoted as $X$. If we assign a number 0 to H and 1 to T then X = {0,1}\n",
    "\n",
    "A random variable is defined as a function that maps the outcomes of unpredictable processes to numerical quantities (labels), typically real numbers. In this sense, it is a procedure for assigning a numerical quantity to each physical outcome.\n",
    "\n",
    "**Probability Mass Function (PMF)** - The probability mass function (p.m.f.) of a random variable X is a set of probability values $p_i$ assigned to each of the values $x_i$ taken by the discrete random variable.\n",
    "These probability values must satisfy $0 ≤ p_i ≤ 1$ and $\\sum_i p_i = 1$. The probability that\n",
    "the random variable takes the value $x_i$ is said to be $p_i$ , and this is written\n",
    "$P(X = x_i ) = p_i$.\n",
    "\n",
    "**Probability Density Function (PDF)** - The probability that the random variable lies between two values a and b is obtained by\n",
    "integrating the probability density function between these two values, so that\n",
    "\n",
    "$P(a ≤ X ≤ b) = \\int_a^b f(x)dx$\n",
    "\n",
    "---"
   ]
  },
  {
   "cell_type": "markdown",
   "metadata": {},
   "source": [
    "**Probability Distributions**\n",
    "\n",
    "\n",
    "To start this conversation, let's consider a classic example: the three wheel slot machine that costs $0.20 to play:\n",
    "\n",
    "* A = Apple\n",
    "* O = Orange\n",
    "* Q = Quarter\n",
    "\n",
    "|Combination|Payout|Gain/Loss|\n",
    "|:---|:---||\n",
    "|A . A . A|\\$4|\\$3.80|\n",
    "|(in any order) > A . A . O|\\$3|\\$2.80|\n",
    "|O . O . O|\\$2|\\$1.80|\n",
    "|Q . Q . Q|\\$1|\\$0.80|\n",
    "|All other combinations|\\$0|-\\$0.20|\n",
    "\n",
    "The probability to get any single symbol is as follows:\n",
    "\n",
    "* A = 0.1\n",
    "* O = 0.2\n",
    "* Q = 0.2\n",
    "* all other symbols = 0.5\n",
    "\n",
    "|Combination|Payout|Gain/Loss|Probability|\n",
    "|:---|:---|:---||\n",
    "|A . A . A|\\$4|\\$3.80|$0.1 \\times 0.1 \\times 0.1 = $|0.001|\n",
    "|A . A . O|\\$3|\\$2.80|$(0.1 \\times 0.1 \\times 0.2) + (0.1 \\times 0.2 \\times 0.1) + (0.2 \\times 0.1 \\times 0.1) = $|0.006|\n",
    "|O . O . O|\\$2|\\$1.80|$0.2 \\times 0.2 \\times 0.2 =$| 0.008|\n",
    "|Q . Q . Q|\\$1|\\$0.80|$0.2 \\times 0.2 \\times 0.2 =$| 0.008|\n",
    "|All other combinations|\\$0|-\\$0.20|$1 - 0.001 - 0.006 - 0.008 - 0.008 =$| 0.977|\n",
    "\n",
    "If we translate the gain/loss, to a result (labeled x), we can assign the probability of getting any specific result.\n",
    "\n",
    "|Combination|P(X = x)|x|\n",
    "|:---|:---|:---||\n",
    "|A . A . A|0.001|\\$3.80|\n",
    "|A . A . O|0.006|\\$2.80|\n",
    "|O . O . O|0.008|\\$1.80|\n",
    "|Q . Q . Q|0.008|\\$0.80|\n",
    "|All other combinations|0.977|-\\$0.20|\n",
    "\n",
    "As we mentioned... What this means is that the probability of earning \\$3.80 is one in a thousand.\n",
    "The probability of losing \\$0.20 is 977 in a thousand.\n",
    "\n",
    "#### Expectation:\n",
    "\n",
    "The question that often comes to mind is... sure, I get that on any given trial, I might lose, I might win, but is there a way to average out my wins/losses? Well, yes, there is a way to calculate your expected wins and losses over time OR a large number of trials.\n",
    "\n",
    "This is called **Expectation**. Expectation of a random variable **X** is much like the mean we explored earlier AND you use a similar process to calculate it:\n",
    "\n",
    "Multiply the value **x** by the **probability of x** and sum the results:\n",
    "\n",
    "$E(X) = \\sum \\ x \\ P(X = x)$\n",
    "\n",
    "**Note**: random variables (this collection of values), such as **X** are often identified with capital letters. Generally the individual values that the variable can take are denoted with a lower case **x**\n",
    "\n",
    "**Note**: in later cells, we will refer to $E(X)$ as $\\mu$\n",
    "\n",
    "|Combination|P(X = x)|x|Result|\n",
    "|:---|:---|:---|||\n",
    "|A . A . A|0.001|\\$3.80|0.0038|\n",
    "|A . A . O|0.006|\\$2.80|0.0168|\n",
    "|O . O . O|0.008|\\$1.80|0.0144|\n",
    "|Q . Q . Q|0.008|\\$0.80|0.0064|\n",
    "|All other combinations|0.977|-\\$0.20|-0.1954|\n",
    "|||**$\\mu$**|**-0.1604**|\n",
    "\n",
    "Which means that overall, everytime you play, you can expect to **lose an average of $0.16** for every game you play."
   ]
  },
  {
   "cell_type": "markdown",
   "metadata": {},
   "source": [
    "When we discussed means, earlier, we also noted that often it is useful to understand how widely the results might deviate from the expected values. Two measures that we looked at for typical dataset were the variance and the standard deviation.\n",
    "\n",
    "#### Variance\n",
    "\n",
    "The variance of a probability distribution (X) is the expectation of $(X - \\mu)^2$\n",
    "\n",
    "$Var(X) = E(X - \\mu)^2 = \\sum (x - \\mu)^2 P(X \\ = \\ x)$\n",
    "\n",
    "|Combination|P(X = x)|x|Result|x - $\\mu$|\n",
    "|:---|:---|:---||||\n",
    "|A . A . A|0.001|\\$3.80|0.0038|3.8 - (-0.1604) = 3.9604|\n",
    "|A . A . O|0.006|\\$2.80|0.0168|2.8 - (-0.1604) = 2.9604|\n",
    "|O . O . O|0.008|\\$1.80|0.0144|1.8 - (-0.1604) = 1.9604|\n",
    "|Q . Q . Q|0.008|\\$0.80|0.0064|0.8 - (-0.1604) = 0.9604|\n",
    "|All other combinations|0.977|-\\$0.20|-0.1954|-0.2 - (-0.1604) = -0.0396|\n",
    "|||**$\\mu$**|**-0.1604**||\n",
    "\n",
    "Taking the results of $ x - \\mu$ and squaring them... yada\n",
    "\n",
    "|Combination|P(X = x)|x - $\\mu$|(x - $\\mu$)$^2$|Result|\n",
    "|:---|:---|:---||||\n",
    "|A . A . A|0.001|3.9604|15.6848|0.001 * 15.6848 = 0.0157|\n",
    "|A . A . O|0.006|2.9604|8.7640|0.006 * 8.7640 = 0.0526|\n",
    "|O . O . O|0.008|1.9604|3.8432|0.008 * 3.8432 = 0.0307|\n",
    "|Q . Q . Q|0.008|0.9604|0.9224|0.008 * 0.9224 = 0.0074|\n",
    "|All other combinations|0.977|-0.0396|0.00157|0.977 * 0.00157 = 0.0015|\n",
    "||||**Variance:**|0.1079|\n",
    "\n",
    "#### Standard Deviation\n",
    "\n",
    "The standard deviation is simply the square root of the variance:\n",
    "    \n",
    "$\\sigma = \\sqrt {Var(X)}$   \n",
    "\n",
    "The standard deviation is: 0.328"
   ]
  },
  {
   "cell_type": "markdown",
   "metadata": {},
   "source": [
    "### Vector\n",
    "\n",
    "Vectors are 1-dimensional arrays of numbers or terms. In geometry, vectors store the magnitude and direction of a potential change to a point. A vector with more than one dimension is called a matrix."
   ]
  },
  {
   "cell_type": "markdown",
   "metadata": {},
   "source": [
    "##### Vector Scalar Operations"
   ]
  },
  {
   "cell_type": "code",
   "execution_count": 4,
   "metadata": {},
   "outputs": [
    {
     "data": {
      "text/plain": [
       "(array([3, 4, 6]),\n",
       " array([1, 2, 4]),\n",
       " array([ 4,  6, 10]),\n",
       " array([ 1. ,  1.5,  2.5]))"
      ]
     },
     "execution_count": 4,
     "metadata": {},
     "output_type": "execute_result"
    }
   ],
   "source": [
    "# a 3-d vector \n",
    "import numpy as np\n",
    "vec = np.array([2,3,5])\n",
    "b = vec + 1\n",
    "c = vec - 1\n",
    "d = vec*2\n",
    "e = vec/2\n",
    "b,c,d,e"
   ]
  },
  {
   "cell_type": "markdown",
   "metadata": {},
   "source": [
    "##### Elementwise Operations"
   ]
  },
  {
   "cell_type": "code",
   "execution_count": 12,
   "metadata": {},
   "outputs": [
    {
     "data": {
      "text/plain": [
       "(array([4, 5, 8]),\n",
       " array([0, 1, 2]),\n",
       " array([ 1.        ,  1.5       ,  1.66666667]))"
      ]
     },
     "execution_count": 12,
     "metadata": {},
     "output_type": "execute_result"
    }
   ],
   "source": [
    "vec1 = np.array([2,2,3])\n",
    "\n",
    "vec + vec1, vec - vec1, vec/vec1"
   ]
  },
  {
   "cell_type": "markdown",
   "metadata": {},
   "source": [
    "##### Vector Dot Product and Hadamard Product\n",
    "\n",
    " - Vector Dot Product returns a scalar\n",
    " - Vector Hadamard Product returns another vector"
   ]
  },
  {
   "cell_type": "code",
   "execution_count": 10,
   "metadata": {},
   "outputs": [
    {
     "data": {
      "text/plain": [
       "(25, array([ 4,  6, 15]), 25, 25)"
      ]
     },
     "execution_count": 10,
     "metadata": {},
     "output_type": "execute_result"
    }
   ],
   "source": [
    "#Dot Product\n",
    "a = np.dot(vec, vec1)\n",
    "c = vec@vec1\n",
    "d = np.matmul(vec,vec1)\n",
    "\n",
    "#Hadamard Product\n",
    "b = np.multiply(vec, vec1)\n",
    "\n",
    "a,b,c,d"
   ]
  },
  {
   "cell_type": "markdown",
   "metadata": {},
   "source": [
    "### Matrices\n",
    "\n",
    " - A rectangular grid of numbers\n",
    " - The dimension of matrix is decribed as rows x columns.\n"
   ]
  },
  {
   "cell_type": "markdown",
   "metadata": {},
   "source": [
    "##### Matrix Multiplication or Dot Product\n",
    "\n",
    "Inner dimension of both metrices should be same. That is, we can multiply two metrices of $A_{(l,m)}$ and $B_{(m,n)}$ . This will result into another matrix of the shape $(l,n)$\n",
    "\n",
    "Matrix multiplication relies on dot product to multiply various combinations of rows and columns. In the image below, taken from Khan Academy’s excellent linear algebra course, each entry in Matrix C is the dot product of a row in matrix A and a column in matrix B.\n",
    "\n",
    "![](images/dotprod.png)"
   ]
  },
  {
   "cell_type": "code",
   "execution_count": 14,
   "metadata": {},
   "outputs": [
    {
     "data": {
      "text/plain": [
       "(array([19, 27]), 14)"
      ]
     },
     "execution_count": 14,
     "metadata": {},
     "output_type": "execute_result"
    }
   ],
   "source": [
    "import numpy as np\n",
    "a = np.array([[1,2,3],[2,3,4]]) #2x3 matrix\n",
    "b = np.array([1,3,4])     # can be broadcast to 3x1\n",
    "c = np.array([4,2,1])\n",
    "d = b[:,np.newaxis]\n",
    "np.dot(a,b), np.dot(b,c)"
   ]
  },
  {
   "cell_type": "code",
   "execution_count": 11,
   "metadata": {},
   "outputs": [
    {
     "data": {
      "text/plain": [
       "array([[19],\n",
       "       [27]])"
      ]
     },
     "execution_count": 11,
     "metadata": {},
     "output_type": "execute_result"
    }
   ],
   "source": [
    "np.dot(a,d)"
   ]
  },
  {
   "cell_type": "code",
   "execution_count": 12,
   "metadata": {},
   "outputs": [
    {
     "data": {
      "text/plain": [
       "(array([19, 27]), 14, array([[19],\n",
       "        [27]]))"
      ]
     },
     "execution_count": 12,
     "metadata": {},
     "output_type": "execute_result"
    }
   ],
   "source": [
    "np.matmul(a,b), np.matmul(b,c), np.matmul(a,d)"
   ]
  },
  {
   "cell_type": "code",
   "execution_count": 15,
   "metadata": {},
   "outputs": [
    {
     "data": {
      "text/plain": [
       "array([19, 27])"
      ]
     },
     "execution_count": 15,
     "metadata": {},
     "output_type": "execute_result"
    }
   ],
   "source": [
    "a@b #Python3.5+"
   ]
  },
  {
   "cell_type": "markdown",
   "metadata": {},
   "source": [
    "Multiplication by a scalar is not allowed, use ``*`` instead. Note that multiplying a stack of matrices with a vector will result in a stack of vectors, but matmul will not recognize it as such.\n",
    "\n",
    "``matmul`` differs from ``dot`` in two important ways.\n",
    "\n",
    "- Multiplication by scalars is not allowed.\n",
    "- Stacks of matrices are broadcast together as if the matrices\n",
    "  were elements."
   ]
  },
  {
   "cell_type": "markdown",
   "metadata": {},
   "source": [
    "#### Hadamard Product or Element-wise Product"
   ]
  },
  {
   "cell_type": "code",
   "execution_count": 16,
   "metadata": {},
   "outputs": [
    {
     "data": {
      "text/plain": [
       "array([[ 5, 12],\n",
       "       [21, 32]])"
      ]
     },
     "execution_count": 16,
     "metadata": {},
     "output_type": "execute_result"
    }
   ],
   "source": [
    "a = np.array([[1,2],[3,4]])\n",
    "b = np.array([[5,6],[7,8]])\n",
    "np.multiply(a,b)"
   ]
  },
  {
   "cell_type": "markdown",
   "metadata": {},
   "source": [
    "##### Matrix Transpose\n",
    "\n",
    "Rows are converted columns."
   ]
  },
  {
   "cell_type": "code",
   "execution_count": 17,
   "metadata": {},
   "outputs": [
    {
     "data": {
      "text/plain": [
       "(array([[1, 2],\n",
       "        [3, 4]]), array([[1, 3],\n",
       "        [2, 4]]))"
      ]
     },
     "execution_count": 17,
     "metadata": {},
     "output_type": "execute_result"
    }
   ],
   "source": [
    "a = np.array([[1,2],[3,4]])\n",
    "a, a.T"
   ]
  },
  {
   "cell_type": "markdown",
   "metadata": {},
   "source": [
    "##### Eigenvector and Eigenvalue\n",
    "\n",
    "Let us assume that we have a matrix **A** and a vector ***v***.\n",
    "We can get a vector ***w*** by taking their dot product - \n",
    "\n",
    "**A**.***v*** = ***w***\n",
    "\n",
    "If it occurs that v and w are scalar multiples, that is if  -\n",
    "\n",
    "**A**.***v*** = ***w*** = $\\lambda$***v***\n",
    "\n",
    "Then ***v*** is eigenvector of transformation **A** and $\\lambda$ is eigenvalue corresponding to that eigenvector.\n",
    "\n",
    "For example, let \n",
    "\n",
    "$A = \\begin{bmatrix}\n",
    "2 & 1 \\\\ 1 & 2\n",
    "\\end{bmatrix}\n",
    "$\n",
    "\n",
    "$v = \\begin{bmatrix}1\\\\-1 \\end{bmatrix}$\n",
    "\n",
    "then their dot product (***w***) would be \n",
    "\n",
    "$w = \\begin{bmatrix}1\\\\-1 \\end{bmatrix}$\n",
    "\n",
    "But it is immediately obvious that ***w*** is same as ***v***. Or put another way, ***w*** is scalar multiple of ***v*** as ***w*** = 1****v***. It follows that vector ***v*** is eigenvector and 1 is the eigenvalue for this vector. \n",
    "\n",
    "But this is not the only eigenvector/eigenvalue for this transformation. It is to be noted that the size of A determines the number of eighenvalues. For n x n matrix, the number of eigenvalues would be n.\n",
    "\n",
    "From an stats.stackexchange post - \n",
    "\n",
    "*An n x n matrix which is diagonalizable must have a set of n linearly independent eigenvectors - the columns of the diagonalizing matrix are such a set. In general, if an n x n matrix has k distinct eigenvalues, then there may in general be anywhere between k and n linearly independent eigenvectors. For any of this, it doesn't matter whether or not the eighenvalues are non-zero.*\n",
    "\n",
    "Another eigenvector (with eigenvalue = 3) would be -\n",
    "\n",
    "$ v_{\\lambda = 3}\\begin{bmatrix}1\\\\1 \\end{bmatrix}$\n",
    "\n",
    "To calculate all possible values of $\\lambda$, we calculate the determinant - \n",
    " \n",
    "$\\begin{vmatrix}A-\\lambda I \\end{vmatrix}$\n",
    "\n",
    "where $I$ is the identity matrix. \n",
    "\n",
    "For our example, we would have a determinant like this -\n",
    "\n",
    "$\\begin{vmatrix}\n",
    "2-\\lambda&1 \\\\\n",
    "1& 2-\\lambda\n",
    "\\end{vmatrix} = 3-4\\lambda+\\lambda^2$\n",
    "\n",
    "the roots for quadratic equation on LHS are $\\lambda$ = 1 and  $\\lambda$ = 3. These two values would be our eigenvalues.\n",
    "\\\n"
   ]
  },
  {
   "cell_type": "code",
   "execution_count": 76,
   "metadata": {},
   "outputs": [
    {
     "data": {
      "text/plain": [
       "array([ 1, -1])"
      ]
     },
     "execution_count": 76,
     "metadata": {},
     "output_type": "execute_result"
    }
   ],
   "source": [
    "a = np.array([[2,1],[1,2]])\n",
    "b = np.array([1,-1])\n",
    "c = np.dot(a,b)\n",
    "c"
   ]
  },
  {
   "cell_type": "code",
   "execution_count": 85,
   "metadata": {},
   "outputs": [
    {
     "data": {
      "text/plain": [
       "array([[2, 1],\n",
       "       [1, 2]])"
      ]
     },
     "execution_count": 85,
     "metadata": {},
     "output_type": "execute_result"
    }
   ],
   "source": [
    "a"
   ]
  },
  {
   "cell_type": "code",
   "execution_count": 77,
   "metadata": {},
   "outputs": [
    {
     "data": {
      "text/plain": [
       "array([ 1, -1])"
      ]
     },
     "execution_count": 77,
     "metadata": {},
     "output_type": "execute_result"
    }
   ],
   "source": [
    "b*1 #is equal to c\n"
   ]
  },
  {
   "cell_type": "code",
   "execution_count": 78,
   "metadata": {},
   "outputs": [
    {
     "data": {
      "text/plain": [
       "array([3, 3])"
      ]
     },
     "execution_count": 78,
     "metadata": {},
     "output_type": "execute_result"
    }
   ],
   "source": [
    "b = np.array([1,1])\n",
    "c = np.dot(a,b)\n",
    "c"
   ]
  },
  {
   "cell_type": "code",
   "execution_count": 79,
   "metadata": {},
   "outputs": [
    {
     "data": {
      "text/plain": [
       "array([3, 3])"
      ]
     },
     "execution_count": 79,
     "metadata": {},
     "output_type": "execute_result"
    }
   ],
   "source": [
    "b*3 #b is another eigen vector and 3 eigen value. Same as c above\n"
   ]
  },
  {
   "cell_type": "code",
   "execution_count": 86,
   "metadata": {},
   "outputs": [
    {
     "data": {
      "text/plain": [
       "(array([3.+0.j, 1.+0.j]), array([[ 0.70710678, -0.70710678],\n",
       "        [ 0.70710678,  0.70710678]]))"
      ]
     },
     "execution_count": 86,
     "metadata": {},
     "output_type": "execute_result"
    }
   ],
   "source": [
    "# scipy function to calculate eigenvectors and eigen values,\n",
    "\n",
    "from scipy import linalg\n",
    "\n",
    "linalg.eig(a)"
   ]
  },
  {
   "cell_type": "markdown",
   "metadata": {},
   "source": [
    "Why isn't this function producing the eigenvector shown in the description?\n",
    "\n",
    "Edit: Because `linalg.eig` produces normalized eigenvectors which in above case are `1/sqrt(2)` times the eigenvectors originally mentioned earlier. See below how normalization is done. \n"
   ]
  },
  {
   "cell_type": "code",
   "execution_count": 88,
   "metadata": {},
   "outputs": [
    {
     "data": {
      "text/plain": [
       "array([[ 0.70710678, -0.70710678]])"
      ]
     },
     "execution_count": 88,
     "metadata": {},
     "output_type": "execute_result"
    }
   ],
   "source": [
    "from sklearn.preprocessing import Normalizer\n",
    "norm = Normalizer()\n",
    "norm.fit_transform(np.array([[1,-1]]))"
   ]
  },
  {
   "cell_type": "code",
   "execution_count": 19,
   "metadata": {
    "collapsed": true
   },
   "outputs": [],
   "source": [
    "% matplotlib inline\n",
    "import matplotlib.pyplot as plt\n",
    "import seaborn as sns\n",
    "sns.set()"
   ]
  },
  {
   "cell_type": "markdown",
   "metadata": {},
   "source": [
    "#### Histogram and KDE"
   ]
  },
  {
   "cell_type": "code",
   "execution_count": 23,
   "metadata": {},
   "outputs": [
    {
     "data": {
      "text/plain": [
       "[<matplotlib.lines.Line2D at 0x8273fd0>]"
      ]
     },
     "execution_count": 23,
     "metadata": {},
     "output_type": "execute_result"
    },
    {
     "data": {
      "image/png": "[encoded data removed]",
      "text/plain": [
       "<matplotlib.figure.Figure at 0x7b843f0>"
      ]
     },
     "metadata": {},
     "output_type": "display_data"
    }
   ],
   "source": [
    "x = np.random.randn(500)\n",
    "plt.plot(x,'.')"
   ]
  },
  {
   "cell_type": "code",
   "execution_count": 25,
   "metadata": {},
   "outputs": [
    {
     "data": {
      "image/png": "[encoded data removed]",
      "text/plain": [
       "<matplotlib.figure.Figure at 0x8286650>"
      ]
     },
     "metadata": {},
     "output_type": "display_data"
    }
   ],
   "source": [
    "plt.hist(x, bins = 25);"
   ]
  },
  {
   "cell_type": "code",
   "execution_count": 30,
   "metadata": {
    "scrolled": true
   },
   "outputs": [
    {
     "data": {
      "image/png": "[encoded data removed]",
      "text/plain": [
       "<matplotlib.figure.Figure at 0x8571450>"
      ]
     },
     "metadata": {},
     "output_type": "display_data"
    }
   ],
   "source": [
    "sns.kdeplot(x, shade = True);"
   ]
  },
  {
   "cell_type": "code",
   "execution_count": 28,
   "metadata": {
    "scrolled": true
   },
   "outputs": [
    {
     "data": {
      "text/plain": [
       "<matplotlib.axes._subplots.AxesSubplot at 0x856c310>"
      ]
     },
     "execution_count": 28,
     "metadata": {},
     "output_type": "execute_result"
    },
    {
     "data": {
      "image/png": "[encoded data removed]",
      "text/plain": [
       "<matplotlib.figure.Figure at 0x85672d0>"
      ]
     },
     "metadata": {},
     "output_type": "display_data"
    }
   ],
   "source": [
    "sns.rugplot(x)"
   ]
  },
  {
   "cell_type": "code",
   "execution_count": 29,
   "metadata": {
    "scrolled": true
   },
   "outputs": [
    {
     "data": {
      "text/plain": [
       "<matplotlib.axes._subplots.AxesSubplot at 0x8526b30>"
      ]
     },
     "execution_count": 29,
     "metadata": {},
     "output_type": "execute_result"
    },
    {
     "data": {
      "image/png": "[encoded data removed]",
      "text/plain": [
       "<matplotlib.figure.Figure at 0x8560f70>"
      ]
     },
     "metadata": {},
     "output_type": "display_data"
    }
   ],
   "source": [
    "sns.distplot(x, kde = True, rug = True)"
   ]
  },
  {
   "cell_type": "markdown",
   "metadata": {},
   "source": [
    "#### Box Plot"
   ]
  },
  {
   "cell_type": "code",
   "execution_count": 45,
   "metadata": {},
   "outputs": [
    {
     "data": {
      "text/plain": [
       "array([-2.1, -1.3, -0.4,  1.9,  5.1,  6.2])"
      ]
     },
     "execution_count": 45,
     "metadata": {},
     "output_type": "execute_result"
    }
   ],
   "source": [
    "x = np.array([-2.1, -1.3, -0.4,  1.9,  5.1,  6.2])\n",
    "x"
   ]
  },
  {
   "cell_type": "code",
   "execution_count": 47,
   "metadata": {
    "scrolled": true
   },
   "outputs": [
    {
     "data": {
      "text/plain": [
       "<matplotlib.legend.Legend at 0x9a43350>"
      ]
     },
     "execution_count": 47,
     "metadata": {},
     "output_type": "execute_result"
    },
    {
     "data": {
      "image/png": "[encoded data removed]",
      "text/plain": [
       "<matplotlib.figure.Figure at 0x9a43570>"
      ]
     },
     "metadata": {},
     "output_type": "display_data"
    }
   ],
   "source": [
    "plt.boxplot(x);\n",
    "a = np.min(x)\n",
    "b = np.max(x)\n",
    "c = np.median(x)\n",
    "e = np.percentile(x, 75)\n",
    "f = np.percentile(x, 25)\n",
    "\n",
    "plt.hlines(a, 0,.9, colors = 'r', linestyles = '--', label = 'min value')\n",
    "plt.hlines(b, 0,.9, colors = 'yellow', linestyles = '--', label = 'max value')\n",
    "plt.hlines(c, 0,.9, colors = 'green', linestyles = '--', label = 'median value')\n",
    "plt.hlines(e, 0,.9, colors = 'cyan', linestyles = '--', label = '75 quartile')\n",
    "plt.hlines(f, 0,.9, colors = 'blue', linestyles = '--', label = '25 quartile')\n",
    "plt.legend()"
   ]
  },
  {
   "cell_type": "markdown",
   "metadata": {},
   "source": [
    "Earlier x was `array([-2.1, -1.3, -0.4,  1.9,  5.1,  6.2])`. When we plotted box plot for this, we didn't see any representation for outliers in data as there was no outlier in our data. \n",
    "\n",
    "Let us change our data a bit - "
   ]
  },
  {
   "cell_type": "code",
   "execution_count": 52,
   "metadata": {
    "scrolled": true
   },
   "outputs": [
    {
     "data": {
      "text/plain": [
       "<matplotlib.legend.Legend at 0xab651b0>"
      ]
     },
     "execution_count": 52,
     "metadata": {},
     "output_type": "execute_result"
    },
    {
     "data": {
      "image/png": "[encoded data removed]",
      "text/plain": [
       "<matplotlib.figure.Figure at 0x9b5c4f0>"
      ]
     },
     "metadata": {},
     "output_type": "display_data"
    }
   ],
   "source": [
    "x = np.array([-2.1, -1.3, -0.4,  1.9,  5.1,  16.2])   #16.2 is outlier here.\n",
    "\n",
    "plt.boxplot(x);\n",
    "a = np.min(x)\n",
    "b = np.max(x)\n",
    "c = np.median(x)\n",
    "e = np.percentile(x, 75)\n",
    "f = np.percentile(x, 25)\n",
    "\n",
    "plt.hlines(a, 0,.9, colors = 'r', linestyles = '--', label = 'min value')\n",
    "plt.hlines(b, 0,.9, colors = 'yellow', linestyles = '--', label = 'outlier')\n",
    "plt.hlines(c, 0,.9, colors = 'green', linestyles = '--', label = 'median value')\n",
    "plt.hlines(e, 0,.9, colors = 'cyan', linestyles = '--', label = '75 quartile')\n",
    "plt.hlines(f, 0,.9, colors = 'blue', linestyles = '--', label = '25 quartile')\n",
    "plt.hlines(f, 0,.9, colors = 'blue', linestyles = '--', label = '25 quartile')\n",
    "plt.hlines(5.1, 0,.9, colors = 'purple', linestyles = '--', label = 'max value (not outlier)') \n",
    "plt.legend()"
   ]
  },
  {
   "cell_type": "markdown",
   "metadata": {},
   "source": [
    "Now compare the above plot with the earlier one. The small circle at the top of plot represents the outlier in our data. To decide on outliers, we calculate Q3 (75 quartile) and Q1 (25 quartile). These values are represented by upper and lower sides of box in boxplot. \n",
    "\n",
    "Now $Q3 + 1.5*(Q3-Q1)$ will represent the *maximum value* and $Q1 - 1.5(Q3-Q1)$ the *minimum value* which will not be considered outliers. Any value beyond this will be considered outlier.  "
   ]
  },
  {
   "cell_type": "markdown",
   "metadata": {},
   "source": [
    "---\n",
    "#### Counting\n",
    "\n",
    " - Permutation - Order matters so (1,0) and (0,1) means different things.\n",
    " \n",
    " $ p^n_k = \\frac{n!}{(n-k)!} $  -  *without replacement*\n",
    " \n",
    " \n",
    " - Combination - Order doesn't matter so (1,0) and (0,1) means same thing.\n",
    " \n",
    " $ c^n_k = \\frac{n!}{k!(n-k)!} $ - *without replacement*\n",
    " \n",
    " ---"
   ]
  },
  {
   "cell_type": "markdown",
   "metadata": {},
   "source": [
    " - **Mean** - Average value.\n",
    " \n",
    " $Mean =  \\frac{\\Sigma^{n}(x)}{n}$\n",
    "\n",
    "\n",
    " - **Median** - Middle value\n",
    " \n",
    "If count is odd, the median is the value at (n+1)/2,\n",
    "else it is the average of n/2 and (n+1)/2\n",
    "\n",
    " - **Mode** - Most Frequent value \n",
    " \n",
    " \n",
    " - **Variance** - Mean of squared distance of sample to its mean\n",
    " \n",
    " $variance = \\frac{\\Sigma({x - {x_m}})^2}{n-1}$\n",
    " \n",
    " \n",
    " - **Standard Deviation** - Square root of variance\n",
    " \n",
    " \n",
    " - **Standard Error (of Mean)** - For standard deviation `s` and number of samples `n`, \n",
    " \n",
    " $Standard Error =  \\frac{s}{\\sqrt{n}}$"
   ]
  },
  {
   "cell_type": "markdown",
   "metadata": {},
   "source": [
    "#### Covariance"
   ]
  },
  {
   "cell_type": "code",
   "execution_count": 4,
   "metadata": {},
   "outputs": [
    {
     "data": {
      "text/html": [
       "<div>\n",
       "<style scoped>\n",
       "    .dataframe tbody tr th:only-of-type {\n",
       "        vertical-align: middle;\n",
       "    }\n",
       "\n",
       "    .dataframe tbody tr th {\n",
       "        vertical-align: top;\n",
       "    }\n",
       "\n",
       "    .dataframe thead th {\n",
       "        text-align: right;\n",
       "    }\n",
       "</style>\n",
       "<table border=\"1\" class=\"dataframe\">\n",
       "  <thead>\n",
       "    <tr style=\"text-align: right;\">\n",
       "      <th></th>\n",
       "      <th>dogs</th>\n",
       "      <th>cats</th>\n",
       "    </tr>\n",
       "  </thead>\n",
       "  <tbody>\n",
       "    <tr>\n",
       "      <th>0</th>\n",
       "      <td>1</td>\n",
       "      <td>1</td>\n",
       "    </tr>\n",
       "    <tr>\n",
       "      <th>1</th>\n",
       "      <td>2</td>\n",
       "      <td>3</td>\n",
       "    </tr>\n",
       "    <tr>\n",
       "      <th>2</th>\n",
       "      <td>2</td>\n",
       "      <td>3</td>\n",
       "    </tr>\n",
       "    <tr>\n",
       "      <th>3</th>\n",
       "      <td>1</td>\n",
       "      <td>2</td>\n",
       "    </tr>\n",
       "  </tbody>\n",
       "</table>\n",
       "</div>"
      ],
      "text/plain": [
       "   dogs  cats\n",
       "0     1     1\n",
       "1     2     3\n",
       "2     2     3\n",
       "3     1     2"
      ]
     },
     "execution_count": 4,
     "metadata": {},
     "output_type": "execute_result"
    }
   ],
   "source": [
    "import pandas as pd\n",
    "df = pd.DataFrame([(1, 1), (2, 3), (2,3), (1, 2)], columns=['dogs', 'cats'])\n",
    "df"
   ]
  },
  {
   "cell_type": "code",
   "execution_count": 5,
   "metadata": {
    "scrolled": true
   },
   "outputs": [
    {
     "data": {
      "text/html": [
       "<div>\n",
       "<style scoped>\n",
       "    .dataframe tbody tr th:only-of-type {\n",
       "        vertical-align: middle;\n",
       "    }\n",
       "\n",
       "    .dataframe tbody tr th {\n",
       "        vertical-align: top;\n",
       "    }\n",
       "\n",
       "    .dataframe thead th {\n",
       "        text-align: right;\n",
       "    }\n",
       "</style>\n",
       "<table border=\"1\" class=\"dataframe\">\n",
       "  <thead>\n",
       "    <tr style=\"text-align: right;\">\n",
       "      <th></th>\n",
       "      <th>dogs</th>\n",
       "      <th>cats</th>\n",
       "    </tr>\n",
       "  </thead>\n",
       "  <tbody>\n",
       "    <tr>\n",
       "      <th>dogs</th>\n",
       "      <td>0.333333</td>\n",
       "      <td>0.500000</td>\n",
       "    </tr>\n",
       "    <tr>\n",
       "      <th>cats</th>\n",
       "      <td>0.500000</td>\n",
       "      <td>0.916667</td>\n",
       "    </tr>\n",
       "  </tbody>\n",
       "</table>\n",
       "</div>"
      ],
      "text/plain": [
       "          dogs      cats\n",
       "dogs  0.333333  0.500000\n",
       "cats  0.500000  0.916667"
      ]
     },
     "execution_count": 5,
     "metadata": {},
     "output_type": "execute_result"
    }
   ],
   "source": [
    "df.cov()"
   ]
  },
  {
   "cell_type": "markdown",
   "metadata": {},
   "source": [
    "The values in main diagonal line is variance for respective variable. That is the element (1,1) is variance for 'dog' variable. Similarily, element (2,2) is variance for 'cat'.\n",
    "\n",
    "The other elements, - (1,2) and (2,1) -  are covariance for variables 'dogs' and 'cats').\n",
    "\n",
    "\n"
   ]
  },
  {
   "cell_type": "code",
   "execution_count": 6,
   "metadata": {},
   "outputs": [
    {
     "data": {
      "text/plain": [
       "0.3333333333333333"
      ]
     },
     "execution_count": 6,
     "metadata": {},
     "output_type": "execute_result"
    }
   ],
   "source": [
    "(df['dogs']).var() #(1,1) element"
   ]
  },
  {
   "cell_type": "code",
   "execution_count": 7,
   "metadata": {},
   "outputs": [
    {
     "data": {
      "text/plain": [
       "0.9166666666666666"
      ]
     },
     "execution_count": 7,
     "metadata": {},
     "output_type": "execute_result"
    }
   ],
   "source": [
    "(df['cats']).var() # (2,2) element"
   ]
  },
  {
   "cell_type": "code",
   "execution_count": 9,
   "metadata": {},
   "outputs": [
    {
     "data": {
      "text/plain": [
       "0.5"
      ]
     },
     "execution_count": 9,
     "metadata": {},
     "output_type": "execute_result"
    }
   ],
   "source": [
    "a = (df['dogs'] - df['dogs'].mean())*(df['cats'] - df['cats'].mean())\n",
    "cov = sum(a)/3 #3 = 4 -1 = n -1\n",
    "cov   # (1,2) and (2,1) element"
   ]
  },
  {
   "cell_type": "markdown",
   "metadata": {},
   "source": [
    "##### Correlation"
   ]
  },
  {
   "cell_type": "code",
   "execution_count": 10,
   "metadata": {
    "scrolled": true
   },
   "outputs": [
    {
     "data": {
      "text/html": [
       "<div>\n",
       "<style scoped>\n",
       "    .dataframe tbody tr th:only-of-type {\n",
       "        vertical-align: middle;\n",
       "    }\n",
       "\n",
       "    .dataframe tbody tr th {\n",
       "        vertical-align: top;\n",
       "    }\n",
       "\n",
       "    .dataframe thead th {\n",
       "        text-align: right;\n",
       "    }\n",
       "</style>\n",
       "<table border=\"1\" class=\"dataframe\">\n",
       "  <thead>\n",
       "    <tr style=\"text-align: right;\">\n",
       "      <th></th>\n",
       "      <th>dogs</th>\n",
       "      <th>cats</th>\n",
       "    </tr>\n",
       "  </thead>\n",
       "  <tbody>\n",
       "    <tr>\n",
       "      <th>dogs</th>\n",
       "      <td>1.000000</td>\n",
       "      <td>0.904534</td>\n",
       "    </tr>\n",
       "    <tr>\n",
       "      <th>cats</th>\n",
       "      <td>0.904534</td>\n",
       "      <td>1.000000</td>\n",
       "    </tr>\n",
       "  </tbody>\n",
       "</table>\n",
       "</div>"
      ],
      "text/plain": [
       "          dogs      cats\n",
       "dogs  1.000000  0.904534\n",
       "cats  0.904534  1.000000"
      ]
     },
     "execution_count": 10,
     "metadata": {},
     "output_type": "execute_result"
    }
   ],
   "source": [
    "df.corr()"
   ]
  },
  {
   "cell_type": "markdown",
   "metadata": {},
   "source": [
    "##### Be cautious when Using `np.cov`\n",
    "\n",
    "In Pandas, variables are represented by columns while observations by rows. In Numpy, it is other way round."
   ]
  },
  {
   "cell_type": "code",
   "execution_count": 80,
   "metadata": {},
   "outputs": [
    {
     "data": {
      "text/plain": [
       "array([[ 0.5,  0.5,  0. ,  0. ],\n",
       "       [ 0.5,  0.5,  0. ,  0. ],\n",
       "       [ 0. ,  0. ,  0. ,  0. ],\n",
       "       [ 0. ,  0. ,  0. ,  0. ]])"
      ]
     },
     "execution_count": 80,
     "metadata": {},
     "output_type": "execute_result"
    }
   ],
   "source": [
    "np.cov(df) #different from what was calculated in Pandas"
   ]
  },
  {
   "cell_type": "code",
   "execution_count": 85,
   "metadata": {
    "scrolled": true
   },
   "outputs": [
    {
     "data": {
      "text/plain": [
       "array([[1, 2, 2, 1],\n",
       "       [2, 3, 2, 1]])"
      ]
     },
     "execution_count": 85,
     "metadata": {},
     "output_type": "execute_result"
    }
   ],
   "source": [
    "x = [1,2,2,1]\n",
    "y = [2,3,2,1]\n",
    "X = np.vstack((x,y))\n",
    "X"
   ]
  },
  {
   "cell_type": "code",
   "execution_count": 86,
   "metadata": {
    "collapsed": true
   },
   "outputs": [],
   "source": [
    "df1 = pd.DataFrame(X)"
   ]
  },
  {
   "cell_type": "code",
   "execution_count": 87,
   "metadata": {},
   "outputs": [
    {
     "data": {
      "text/html": [
       "<div>\n",
       "<style scoped>\n",
       "    .dataframe tbody tr th:only-of-type {\n",
       "        vertical-align: middle;\n",
       "    }\n",
       "\n",
       "    .dataframe tbody tr th {\n",
       "        vertical-align: top;\n",
       "    }\n",
       "\n",
       "    .dataframe thead th {\n",
       "        text-align: right;\n",
       "    }\n",
       "</style>\n",
       "<table border=\"1\" class=\"dataframe\">\n",
       "  <thead>\n",
       "    <tr style=\"text-align: right;\">\n",
       "      <th></th>\n",
       "      <th>0</th>\n",
       "      <th>1</th>\n",
       "      <th>2</th>\n",
       "      <th>3</th>\n",
       "    </tr>\n",
       "  </thead>\n",
       "  <tbody>\n",
       "    <tr>\n",
       "      <th>0</th>\n",
       "      <td>1</td>\n",
       "      <td>2</td>\n",
       "      <td>2</td>\n",
       "      <td>1</td>\n",
       "    </tr>\n",
       "    <tr>\n",
       "      <th>1</th>\n",
       "      <td>2</td>\n",
       "      <td>3</td>\n",
       "      <td>2</td>\n",
       "      <td>1</td>\n",
       "    </tr>\n",
       "  </tbody>\n",
       "</table>\n",
       "</div>"
      ],
      "text/plain": [
       "   0  1  2  3\n",
       "0  1  2  2  1\n",
       "1  2  3  2  1"
      ]
     },
     "execution_count": 87,
     "metadata": {},
     "output_type": "execute_result"
    }
   ],
   "source": [
    "df1"
   ]
  },
  {
   "cell_type": "code",
   "execution_count": 89,
   "metadata": {},
   "outputs": [
    {
     "data": {
      "text/plain": [
       "array([[ 0.33333333,  0.33333333],\n",
       "       [ 0.33333333,  0.66666667]])"
      ]
     },
     "execution_count": 89,
     "metadata": {},
     "output_type": "execute_result"
    }
   ],
   "source": [
    "np.cov(X) #now this is same as was calculated in Pandas."
   ]
  },
  {
   "cell_type": "markdown",
   "metadata": {},
   "source": [
    "#### Binomial Distribution"
   ]
  },
  {
   "cell_type": "markdown",
   "metadata": {},
   "source": [
    "Let there be an experiment with only two possible outcomes, say, a and b. Also p(a) = `p` and therefore p(b) = `1- p`. \n",
    "Let there be `n` trials of this experiment and we are interested in event `a` which has a probability of happening `p`. Also, we want to caculate the probability of getting `k` successes out of `n` trials (that is event `a` happens `k` times out of n trials). We can calculate the probability by using following formula - \n",
    "\n",
    "\n",
    "$$prob(k,n,p) = \\begin{pmatrix}\n",
    "n\\\\\n",
    "k\n",
    "\\end{pmatrix}{p^k}{(1-p)^{n-k}}$$\n",
    "\n",
    "where\n",
    "\n",
    "$$\\begin{pmatrix}\n",
    "n\\\\\n",
    "k\n",
    "\\end{pmatrix} = \\frac{n!}{k!(n-k)!}$$\n",
    "\n",
    "##### Example \n",
    "\n",
    "Suppose we have a bias coin and for this coin, getting head has the probability of .3. Then the probability that we would get 2 heads in 6 trials is calculated as shown below.\n",
    "\n",
    "Here n = 6, k = 2 and p  = .3. By using above formula get the value of .3241. \n",
    "\n",
    "\n",
    "Mean = np\n",
    "\n",
    "Variance = np(1-p)\n",
    "\n",
    "\n"
   ]
  },
  {
   "cell_type": "markdown",
   "metadata": {},
   "source": [
    "![](images\\bino.png)"
   ]
  },
  {
   "cell_type": "code",
   "execution_count": 69,
   "metadata": {},
   "outputs": [
    {
     "data": {
      "text/plain": [
       "0.17619705200195312"
      ]
     },
     "execution_count": 69,
     "metadata": {},
     "output_type": "execute_result"
    }
   ],
   "source": [
    "from scipy.special import factorial\n",
    "ff = factorial(20)/((factorial(10)**2))\n",
    "ff*((.5)**20) # for k = 20, p =.5 the value of pmf"
   ]
  },
  {
   "cell_type": "code",
   "execution_count": 78,
   "metadata": {},
   "outputs": [
    {
     "data": {
      "text/plain": [
       "(array(4.), array(2.4), array(0.12909944), array(-0.18333333))"
      ]
     },
     "execution_count": 78,
     "metadata": {},
     "output_type": "execute_result"
    }
   ],
   "source": [
    "from scipy.stats import binom\n",
    "n, p =  10, .4\n",
    "\n",
    "mean, var, skew, kurt = binom.stats(n, p, moments = 'mvsk')\n",
    "mean, var, skew, kurt"
   ]
  },
  {
   "cell_type": "code",
   "execution_count": 84,
   "metadata": {},
   "outputs": [
    {
     "data": {
      "image/png": "[encoded data removed]",
      "text/plain": [
       "<matplotlib.figure.Figure at 0xd94def0>"
      ]
     },
     "metadata": {},
     "output_type": "display_data"
    }
   ],
   "source": [
    "%matplotlib inline\n",
    "import matplotlib.pyplot as plt\n",
    "import seaborn as sns\n",
    "sns.set()\n",
    "x = list(range(10))\n",
    "\n",
    "plt.scatter(x, binom.pmf(x,n,p))\n",
    "plt.scatter(mean, binom.pmf(mean,n,p), c = 'red', label = 'pmf for mean')\n",
    "plt.legend();"
   ]
  },
  {
   "cell_type": "markdown",
   "metadata": {},
   "source": [
    "#### Normal Distribution"
   ]
  },
  {
   "cell_type": "code",
   "execution_count": 105,
   "metadata": {},
   "outputs": [
    {
     "data": {
      "text/plain": [
       "(38.799999999999997, 11.399999999999999)"
      ]
     },
     "execution_count": 105,
     "metadata": {},
     "output_type": "execute_result"
    }
   ],
   "source": [
    "l = [26, 33, 65, 28, 34, 55, 25, 44, 50, 36, 26, 37, 43, 62, 35, 38, 45, 32, 28, 34]\n",
    "mean = np.mean(l)\n",
    "std = np.std(l)\n",
    "mean, std"
   ]
  },
  {
   "cell_type": "markdown",
   "metadata": {},
   "source": [
    "##### Shapiro-Wilk test"
   ]
  },
  {
   "cell_type": "markdown",
   "metadata": {},
   "source": [
    "There's a [Shapiro-Wilk test](https://en.wikipedia.org/wiki/Shapiro-Wilk) to test for normality. If p-value is less than 0.05, then there's a low chance that the distribution is normal.\n",
    "\n",
    "We can use `shapiro` function from `scipy.stats` to test normality of data. This function returns -\n",
    "```\n",
    "W : float\n",
    "    The test statistic.\n",
    "p-value : float\n",
    "    The p-value for the hypothesis test.\n",
    "```"
   ]
  },
  {
   "cell_type": "code",
   "execution_count": 106,
   "metadata": {},
   "outputs": [
    {
     "data": {
      "text/plain": [
       "(0.902195394039154, 0.04534667357802391)"
      ]
     },
     "execution_count": 106,
     "metadata": {},
     "output_type": "execute_result"
    }
   ],
   "source": [
    "from scipy import stats\n",
    "stats.shapiro(l)"
   ]
  },
  {
   "cell_type": "markdown",
   "metadata": {},
   "source": [
    "Here p-value is 0.04534667357802391 which means that our our sample has failed the normality test."
   ]
  },
  {
   "cell_type": "code",
   "execution_count": 56,
   "metadata": {},
   "outputs": [
    {
     "data": {
      "text/plain": [
       "(0.9188281297683716, 0.49696096777915955)"
      ]
     },
     "execution_count": 56,
     "metadata": {},
     "output_type": "execute_result"
    }
   ],
   "source": [
    "from scipy.stats import shapiro\n",
    "\n",
    "xxx = [10,24,25,27,28,40]\n",
    "shapiro(xxx) #pvalue = .49 which is greater than .05, => passed the normality test"
   ]
  },
  {
   "cell_type": "code",
   "execution_count": 107,
   "metadata": {},
   "outputs": [
    {
     "data": {
      "text/plain": [
       "(array([ 6.,  7.,  3.,  2.,  2.]),\n",
       " array([ 25.,  33.,  41.,  49.,  57.,  65.]),\n",
       " <a list of 5 Patch objects>)"
      ]
     },
     "execution_count": 107,
     "metadata": {},
     "output_type": "execute_result"
    },
    {
     "data": {
      "image/png": "[encoded data removed]",
      "text/plain": [
       "<matplotlib.figure.Figure at 0x9943450>"
      ]
     },
     "metadata": {},
     "output_type": "display_data"
    }
   ],
   "source": [
    "% matplotlib inline\n",
    "import matplotlib.pyplot as plt\n",
    "plt.hist(l,5)"
   ]
  },
  {
   "cell_type": "markdown",
   "metadata": {},
   "source": [
    "$z =  \\frac{x - \\mu}{\\sigma}$\n",
    "\n",
    "For 26, let us compute the z score -"
   ]
  },
  {
   "cell_type": "code",
   "execution_count": 108,
   "metadata": {},
   "outputs": [
    {
     "data": {
      "text/plain": [
       "-1.1228070175438596"
      ]
     },
     "execution_count": 108,
     "metadata": {},
     "output_type": "execute_result"
    }
   ],
   "source": [
    "(26-mean)/std\n"
   ]
  },
  {
   "cell_type": "markdown",
   "metadata": {},
   "source": [
    "So 26 is -1.12 Standard Deviations from the Mean.\n",
    "\n",
    "The probability density of normal distribution is - \n",
    "\n",
    "$$p(x) = \\frac{1}{\\sigma\\sqrt{ 2 \\pi}}e^{-\\frac{1}{2} {(\\frac{x - \\mu }{\\sigma})}^2 }$$"
   ]
  },
  {
   "cell_type": "code",
   "execution_count": 126,
   "metadata": {
    "collapsed": true
   },
   "outputs": [],
   "source": [
    "# calculate the height of bell curve at any given point x using p(x) as defined above\n",
    "def bell_height(x, mean, std):\n",
    "    z = (x-mean)/std\n",
    "    height_at_x = (1/(std*np.sqrt(2*np.pi)))* ((np.e)** ((-0.5)*(z**2)))\n",
    "    return height_at_x"
   ]
  },
  {
   "cell_type": "code",
   "execution_count": 110,
   "metadata": {},
   "outputs": [
    {
     "data": {
      "text/plain": [
       "0.034994936877318666"
      ]
     },
     "execution_count": 110,
     "metadata": {},
     "output_type": "execute_result"
    }
   ],
   "source": [
    "#max height occurs at mean\n",
    "a = bell_height(mean, mean, std)\n",
    "a "
   ]
  },
  {
   "cell_type": "markdown",
   "metadata": {},
   "source": [
    "Though scipy package has a function to calculate the pdf of a normal distribution"
   ]
  },
  {
   "cell_type": "code",
   "execution_count": 125,
   "metadata": {},
   "outputs": [
    {
     "data": {
      "text/plain": [
       "0.3989422804014327"
      ]
     },
     "execution_count": 125,
     "metadata": {},
     "output_type": "execute_result"
    }
   ],
   "source": [
    "from scipy.stats import norm\n",
    "norm.pdf(0,0,1)\n"
   ]
  },
  {
   "cell_type": "code",
   "execution_count": 111,
   "metadata": {},
   "outputs": [
    {
     "data": {
      "text/plain": [
       "<matplotlib.collections.LineCollection at 0x9fbce70>"
      ]
     },
     "execution_count": 111,
     "metadata": {},
     "output_type": "execute_result"
    },
    {
     "data": {
      "image/png": "[encoded data removed]",
      "text/plain": [
       "<matplotlib.figure.Figure at 0x98dae50>"
      ]
     },
     "metadata": {},
     "output_type": "display_data"
    }
   ],
   "source": [
    "import matplotlib.pyplot as plt\n",
    "import numpy as np\n",
    "import matplotlib.mlab as mlab\n",
    "\n",
    "mu = mean\n",
    "sigma = std\n",
    "x = np.linspace(mu - 3*sigma, mu + 3*sigma, 100)\n",
    "plt.plot(x,mlab.normpdf(x, mu, sigma))\n",
    "plt.vlines(mu, 0, a)\n",
    "plt.vlines(mu+sigma, 0, bell_height(mu+sigma, mu, sigma), colors = 'red')\n",
    "plt.vlines(mu-sigma, 0, bell_height(mu-sigma, mu, sigma), colors = 'red')\n",
    "plt.vlines(mu+2*sigma, 0, bell_height(mu+2*sigma, mu, sigma), colors = 'green')\n",
    "plt.vlines(mu-2*sigma, 0, bell_height(mu-2*sigma, mu, sigma), colors = 'green')\n",
    "plt.vlines(mu+3*sigma, 0, bell_height(mu+3*sigma, mu, sigma), colors = 'blue')\n",
    "plt.vlines(mu-3*sigma, 0, bell_height(mu-3*sigma, mu, sigma), colors = 'blue')"
   ]
  },
  {
   "cell_type": "markdown",
   "metadata": {},
   "source": [
    "##### The 68-95-99.7% Rule\n",
    "\n",
    "  All normal density curves satisfy the following property which is often referred to as the Empirical Rule.\n",
    "\n",
    "- 68% of the observations fall within 1 standard deviation of the mean, that is, between and $\\mu-\\sigma$ and $\\mu+\\sigma$ . \n",
    "- 95% of the observations fall within 2 standard deviations of the mean, that is, between and $\\mu-2\\sigma$ and $\\mu+2\\sigma$ . \n",
    "- 99.7% of the observations fall within 3 standard deviations of the mean, that is, between and $\\mu-3\\sigma$ and $\\mu+3\\sigma$. "
   ]
  },
  {
   "cell_type": "code",
   "execution_count": 112,
   "metadata": {
    "collapsed": true
   },
   "outputs": [],
   "source": [
    "s = np.random.normal(mu, sigma, 20)"
   ]
  },
  {
   "cell_type": "code",
   "execution_count": 113,
   "metadata": {},
   "outputs": [
    {
     "data": {
      "text/plain": [
       "(0.940502941608429, 0.24508315324783325)"
      ]
     },
     "execution_count": 113,
     "metadata": {},
     "output_type": "execute_result"
    }
   ],
   "source": [
    "stats.shapiro(s)"
   ]
  },
  {
   "cell_type": "code",
   "execution_count": 114,
   "metadata": {},
   "outputs": [
    {
     "data": {
      "text/plain": [
       "array([ 35.,  33.,  29.,  37.,  45.,  50.,  28.,  22.,  49.,  24.,  53.,\n",
       "        29.,  44.,  46.,  46.,  32.,  26.,  40.,  48.,  33.])"
      ]
     },
     "execution_count": 114,
     "metadata": {},
     "output_type": "execute_result"
    }
   ],
   "source": [
    "np.round_(s,0)"
   ]
  },
  {
   "cell_type": "code",
   "execution_count": 115,
   "metadata": {},
   "outputs": [
    {
     "data": {
      "text/plain": [
       "(array([ 2.,  1.,  3.,  3.,  2.,  1.,  0.,  4.,  2.,  2.]),\n",
       " array([ 21.95497064,  25.02488268,  28.09479472,  31.16470676,\n",
       "         34.2346188 ,  37.30453085,  40.37444289,  43.44435493,\n",
       "         46.51426697,  49.58417901,  52.65409105]),\n",
       " <a list of 10 Patch objects>)"
      ]
     },
     "execution_count": 115,
     "metadata": {},
     "output_type": "execute_result"
    },
    {
     "data": {
      "image/png": "[encoded data removed]",
      "text/plain": [
       "<matplotlib.figure.Figure at 0x9f6bf90>"
      ]
     },
     "metadata": {},
     "output_type": "display_data"
    }
   ],
   "source": [
    "plt.hist(s,10)"
   ]
  },
  {
   "cell_type": "markdown",
   "metadata": {},
   "source": [
    "#### Normal Distribution with Mean = 0 and STD = 1\n"
   ]
  },
  {
   "cell_type": "code",
   "execution_count": 116,
   "metadata": {
    "collapsed": true
   },
   "outputs": [],
   "source": [
    "norm = np.random.normal(0, 1, 20)"
   ]
  },
  {
   "cell_type": "code",
   "execution_count": 118,
   "metadata": {},
   "outputs": [
    {
     "data": {
      "image/png": "[encoded data removed]",
      "text/plain": [
       "<matplotlib.figure.Figure at 0xa011c10>"
      ]
     },
     "metadata": {},
     "output_type": "display_data"
    }
   ],
   "source": [
    "plt.hist(norm);"
   ]
  },
  {
   "cell_type": "code",
   "execution_count": 119,
   "metadata": {
    "scrolled": true
   },
   "outputs": [
    {
     "data": {
      "text/plain": [
       "<matplotlib.collections.LineCollection at 0xb09b7f0>"
      ]
     },
     "execution_count": 119,
     "metadata": {},
     "output_type": "execute_result"
    },
    {
     "data": {
      "image/png": "[encoded data removed]",
      "text/plain": [
       "<matplotlib.figure.Figure at 0xb06a650>"
      ]
     },
     "metadata": {},
     "output_type": "display_data"
    }
   ],
   "source": [
    "import matplotlib.mlab as mlab\n",
    "mu = 0\n",
    "sigma = 1\n",
    "x = np.linspace(mu - 3*sigma, mu + 3*sigma, 100)\n",
    "plt.plot(x,mlab.normpdf(x, mu, sigma))\n",
    "ht = bell_height(0, 0, 1)\n",
    "\n",
    "plt.vlines(0,0,ht)"
   ]
  },
  {
   "cell_type": "markdown",
   "metadata": {},
   "source": [
    "##### alternative way to draw normal distribution (preferred way)"
   ]
  },
  {
   "cell_type": "code",
   "execution_count": 123,
   "metadata": {
    "scrolled": true
   },
   "outputs": [
    {
     "data": {
      "text/plain": [
       "<matplotlib.legend.Legend at 0xb19dbd0>"
      ]
     },
     "execution_count": 123,
     "metadata": {},
     "output_type": "execute_result"
    },
    {
     "data": {
      "image/png": "[encoded data removed]",
      "text/plain": [
       "<matplotlib.figure.Figure at 0xb0cc810>"
      ]
     },
     "metadata": {},
     "output_type": "display_data"
    }
   ],
   "source": [
    "%matplotlib inline\n",
    "import matplotlib.pyplot as plt\n",
    "import numpy as np\n",
    "import seaborn as sns\n",
    "from scipy.stats import norm\n",
    "sns.set()\n",
    "\n",
    "x = np.linspace(-5,5,100)\n",
    "plt.plot(x, norm.pdf(x, loc = 0, scale = 1), '-',color = 'red', label = 'mean 0 var 1')\n",
    "plt.legend()\n"
   ]
  },
  {
   "cell_type": "markdown",
   "metadata": {},
   "source": [
    "### `t` - distribution\n",
    "\n",
    "Suppose we take n samples from a normal distribution with mean $\\mu$ and standard deviation $\\sigma$. Let $\\bar{x}$ and $s$ be the mean and standard deviation of these n samples.  Then the random variable \n",
    "\n",
    "$$\\frac{\\sqrt{n}(\\bar{x}-\\mu)}{s}$$\n",
    "\n",
    "has a **Student's t-distribution** (or simply t-distribution) with n-1 degrees of freedom.\n",
    "\n",
    "See below for t-distribution plots for degree of freedom = [1,5,8]. Normal distribution with mean = 0 and var = 1 has also been shown. It can be seen that with increasing value of dof, the plot resembles more and more to normal distribution plot.  "
   ]
  },
  {
   "cell_type": "code",
   "execution_count": 104,
   "metadata": {},
   "outputs": [
    {
     "data": {
      "text/plain": [
       "<matplotlib.legend.Legend at 0xc1df030>"
      ]
     },
     "execution_count": 104,
     "metadata": {},
     "output_type": "execute_result"
    },
    {
     "data": {
      "image/png": "[encoded data removed]",
      "text/plain": [
       "<matplotlib.figure.Figure at 0xb116f10>"
      ]
     },
     "metadata": {},
     "output_type": "display_data"
    }
   ],
   "source": [
    "x = np.linspace(-5,5,100)\n",
    "plt.plot(x, norm.pdf(x, loc = 0, scale = 1), '-',color = 'purple', label = 'mean 0 var 1')\n",
    "plt.plot(x, t.pdf(x,1), color = 'blue', label = 'df = 1')\n",
    "plt.plot(x, t.pdf(x,5), color = 'green', label = 'df = 5')\n",
    "plt.plot(x, t.pdf(x,8), color = 'orange', label = 'df = 8')\n",
    "plt.legend()"
   ]
  },
  {
   "cell_type": "markdown",
   "metadata": {},
   "source": [
    "### Null Hypothesis\n",
    "\n",
    "A null hypothesis $H_0$ for a population mean $μ$ is a statement that designates possible\n",
    "values for the population mean. It is associated with an alternative hypothesis $H_A$,\n",
    "which is the “opposite” of the null hypothesis. A two-sided set of hypotheses is\n",
    "\n",
    "$H_0 : μ = μ_0$ versus $H_A : μ \\neq μ_0$\n",
    "\n",
    "for a specified value of $μ_0$, and a one-sided set of hypotheses is either\n",
    "\n",
    "$H_0 : μ ≤ μ_0$ versus $H_A : μ > μ_0$\n",
    "\n",
    "or\n",
    "\n",
    "$H_0 : μ ≥ μ_0$ versus $H_A : μ < μ_0$"
   ]
  },
  {
   "cell_type": "markdown",
   "metadata": {},
   "source": [
    "#### Interpretation of p-value\n",
    "\n",
    "The plausibility of a null hypothesis is measured with a **p-value**, which is a probability that takes a value between 0 and 1. The p-value is sometimes referred to as the observed level of significance. A useful way of interpreting a p-value is to consider it as the plausibility or credibility of the null hypothesis.\n",
    "\n",
    "The p-value is directly proportional to the plausibility of the null hypothesis, so that\n",
    "\n",
    "*The smaller the p-value, the less plausible is the null hypothesis*\n",
    "\n",
    "A **p-value** for a particular null hypothesis $H_0$ based on an observed data set is defined\n",
    "to be “the probability of obtaining the data set or worse when the null hypothesis is\n",
    "true.” A “worse” data set is one that has less affinity with the null hypothesis."
   ]
  },
  {
   "cell_type": "markdown",
   "metadata": {},
   "source": [
    "#### 2 Sided t-Test\n",
    "<div class=\"alert alert-block alert-warning\">\n",
    "The $p-value$ for the two-sided hypothesis testing problem\n",
    "\n",
    "$H_0 : μ = μ_0$ versus $H_A : μ \\neq μ_0$\n",
    "$$$$\n",
    "based on a data set of n observations with a sample mean $\\overline{x}$ and a sample standard deviation $s$, is\n",
    "$$$$\n",
    "$$p-value = 2 × P(X ≥ |t|)$$\n",
    "$$$$\n",
    "where the random variable $X$ has a $t-distribution$ with $n − 1$ degrees of freedom, and\n",
    "$$$$\n",
    "$$t = \\frac{\\sqrt{n}{(\\overline{x}-\\mu_0)}}{s}$$\n",
    "$$$$\n",
    "which is known as the $t-statistic$. This testing procedure is called a **two-sided t-test**.\n",
    "</div>"
   ]
  },
  {
   "cell_type": "markdown",
   "metadata": {},
   "source": [
    "As an illustration of the calculation of a $p-value$ for a two-sided hypothesis testing problem, consider the hypotheses\n",
    "\n",
    "$H_0 : μ = 10.0$ versus $H_A : μ \\neq 10.0$\n",
    "\n",
    "\n",
    "Suppose that a data set is obtained with $n$ = 15, $\\overline{x}$ = 10.6, and $s$ = 1.61. The $t-statistic$ is\n",
    "\n",
    "$t = \\frac{\\sqrt{n}{(\\overline{x}-\\mu_0)}}{s}$\n",
    "\n",
    "=\n",
    "$t = \\frac{\\sqrt{15}(10.6-10)}{1.61}$ = 1.44\n",
    "\n",
    "Therefore any data set with a $t-statistic$ larger than 1.44 or smaller than −1.44 is “worse” than\n",
    "the observed data set. \n",
    "\n",
    "The $p-value$ is\n",
    "\n",
    "$p-value = 2 × P(X ≥ 1.44)$\n",
    "\n",
    "where the random variable $X$ has a $t-distribution$ with $n − 1$ = 14 degrees of freedom. `scipy.stats.t` module can be used to show that this value is\n",
    "\n",
    "p-value = 2 × 0.086 = 0.172\n",
    "\n",
    "![](images\\pvalue.png)"
   ]
  },
  {
   "cell_type": "code",
   "execution_count": 53,
   "metadata": {},
   "outputs": [
    {
     "data": {
      "text/plain": [
       "0.17092448998084908"
      ]
     },
     "execution_count": 53,
     "metadata": {},
     "output_type": "execute_result"
    }
   ],
   "source": [
    "from scipy.stats import t\n",
    "tt = (10.6-10)/np.sqrt((1.61**2)/float(15)) # tt (t-statistic)= 1.4433\n",
    "pval = t.sf(np.abs(tt), 14)*2  #t.sf is survival function (1-'cdf') at x of given RV. \n",
    "pval #same as calculated above"
   ]
  },
  {
   "cell_type": "markdown",
   "metadata": {},
   "source": [
    "Another example from Scipy docs given below. \n",
    "\n",
    "Note - I am slightly confused. What is the meaning of degree of freedom = 10 in below example? How is degree of freedom 14 (15-1) in above example ?"
   ]
  },
  {
   "cell_type": "code",
   "execution_count": 97,
   "metadata": {},
   "outputs": [
    {
     "data": {
      "text/plain": [
       "(0.014061066398468422, 1.1353386552387288, 1.288993862079285)"
      ]
     },
     "execution_count": 97,
     "metadata": {},
     "output_type": "execute_result"
    }
   ],
   "source": [
    "np.random.seed(282629734)\n",
    "x = t.rvs(10, size = 1000) #random variables, degree of freedom 10, size 1000, loc and scale are 0 and 1 respectively\n",
    "\n",
    "m, v, s, k = t.stats(10, moments = 'mvsk') #theoretical values, mean, variance, skew, kurtosis\n",
    "n, (minmax), sm, sv, skew, skurt =  stats.describe(x)\n",
    "np.mean(x), np.std(x), np.var(x)"
   ]
  },
  {
   "cell_type": "code",
   "execution_count": 103,
   "metadata": {},
   "outputs": [
    {
     "data": {
      "text/plain": [
       "[<matplotlib.lines.Line2D at 0xb106c70>]"
      ]
     },
     "execution_count": 103,
     "metadata": {},
     "output_type": "execute_result"
    },
    {
     "data": {
      "image/png": "[encoded data removed]",
      "text/plain": [
       "<matplotlib.figure.Figure at 0xacabf10>"
      ]
     },
     "metadata": {},
     "output_type": "display_data"
    }
   ],
   "source": [
    "plt.plot(np.sort(x), t.pdf(np.sort(x), 10))"
   ]
  },
  {
   "cell_type": "code",
   "execution_count": 62,
   "metadata": {},
   "outputs": [
    {
     "data": {
      "text/plain": [
       "(array(0.), array(1.25), array(0.), array(1.))"
      ]
     },
     "execution_count": 62,
     "metadata": {},
     "output_type": "execute_result"
    }
   ],
   "source": [
    "m,v,s,k"
   ]
  },
  {
   "cell_type": "code",
   "execution_count": 63,
   "metadata": {},
   "outputs": [
    {
     "data": {
      "text/plain": [
       "(1000,\n",
       " (-3.7897557242248197, 5.263277329807165),\n",
       " 0.014061066398468422,\n",
       " 1.2902841462255106,\n",
       " 0.21652778283120955,\n",
       " 1.055594041706331)"
      ]
     },
     "execution_count": 63,
     "metadata": {},
     "output_type": "execute_result"
    }
   ],
   "source": [
    "n, (minmax), sm, sv, skew, skurt"
   ]
  },
  {
   "cell_type": "markdown",
   "metadata": {},
   "source": [
    "**Note:** - `stats.describe` uses the unbiased estimator for the variance, while `np.var` is the biased estimator."
   ]
  },
  {
   "cell_type": "code",
   "execution_count": 67,
   "metadata": {},
   "outputs": [
    {
     "data": {
      "text/plain": [
       "0.39144935201466907"
      ]
     },
     "execution_count": 67,
     "metadata": {},
     "output_type": "execute_result"
    }
   ],
   "source": [
    "tstats = (sm-m)/np.sqrt(sv/float(1000))\n",
    "tstats"
   ]
  },
  {
   "cell_type": "code",
   "execution_count": 77,
   "metadata": {},
   "outputs": [
    {
     "data": {
      "text/plain": [
       "0.6955485968932746"
      ]
     },
     "execution_count": 77,
     "metadata": {},
     "output_type": "execute_result"
    }
   ],
   "source": [
    "p_val = t.sf(tstats, 999)*2\n",
    "p_val"
   ]
  },
  {
   "cell_type": "markdown",
   "metadata": {},
   "source": [
    "Or we can directly calculate the `t-statistic` and `p value` as shown below -"
   ]
  },
  {
   "cell_type": "code",
   "execution_count": 76,
   "metadata": {},
   "outputs": [
    {
     "data": {
      "text/plain": [
       "Ttest_1sampResult(statistic=0.39144935201466907, pvalue=0.6955485968932746)"
      ]
     },
     "execution_count": 76,
     "metadata": {},
     "output_type": "execute_result"
    }
   ],
   "source": [
    "stats.ttest_1samp(x, m)\n",
    "\n",
    "#Calculates the T-test for the mean of ONE group of scores.\n",
    "#This is a two-sided test for the null hypothesis that the expected value (mean) of a sample of independent \n",
    "#observations `a` is equal to the given population mean, `popmean`."
   ]
  },
  {
   "cell_type": "markdown",
   "metadata": {},
   "source": [
    "The pvalue is 0.7, this means that with an alpha error of, for example, 10%, we cannot reject the hypothesis that the\n",
    "sample mean is equal to zero, the expectation of the standard t-distribution."
   ]
  },
  {
   "cell_type": "markdown",
   "metadata": {},
   "source": [
    "#### One Sided t-Test\n",
    "<div class=\"alert alert-block alert-warning\">\n",
    "The $p-value$ for the two-sided hypothesis testing problem\n",
    "\n",
    "$H_0 : μ \\leq μ_0$ versus $H_A : μ \\geq μ_0$\n",
    "\n",
    "based on a data set of n observations with a sample mean $\\overline{x}$ and a sample standard deviation $s$, is\n",
    "$$$$\n",
    "$$p-value = P(X ≥ t)$$\n",
    "$$$$\n",
    "and the p-value for the one-sided hypothesis testing problem\n",
    "\n",
    "\n",
    "$H_0 : μ \\geq μ_0$ versus $H_A : μ \\leq μ_0$ is\n",
    "$$$$\n",
    "$$p-value = P(X ≤ t)$$\n",
    "$$$$\n",
    "where the random variable $X$ has a $t-distribution$ with $n − 1$ degrees of freedom, and\n",
    "$$$$\n",
    "$$t = \\frac{\\sqrt{n}{(\\overline{x}-\\mu_0)}}{s}$$\n",
    "$$$$\n",
    "which is known as the $t-statistic$. \n",
    "\n",
    "This testing procedure is called a **one-sided t-test**.\n",
    "</div>"
   ]
  },
  {
   "cell_type": "markdown",
   "metadata": {},
   "source": [
    "####  $z$-Test\n",
    "\n",
    "Testing procedures similar to the $t-tests$ can be employed when an experimenter wishes to\n",
    "use an assumed “known” value of the population standard deviation $σ$ rather than the sample\n",
    "standard deviation $s$. These “variance known” tests are called $z-tests$ and are based upon the -statistic\n",
    "\n",
    "<div class=\"alert alert-block alert-warning\">\n",
    "$$z\\;= \\frac{\\sqrt{n}(\\bar{x}-\\mu_0)}{\\sigma}$$\n",
    "</div>\n",
    "which has a standard normal distribution when $μ = μ0$."
   ]
  },
  {
   "cell_type": "code",
   "execution_count": null,
   "metadata": {
    "collapsed": true
   },
   "outputs": [],
   "source": []
  },
  {
   "cell_type": "markdown",
   "metadata": {},
   "source": [
    "#### Significance Level\n",
    "\n",
    "![](images/significance.png)\n",
    "\n",
    "Hypothesis tests may be defined formally in terms of a significance level or size $α$. As\n",
    "Figure 8.28 shows, a hypothesis test at size α rejects the null hypothesis $H_0$ if a $p-value$ smaller\n",
    "than $α$ is obtained and accepts the null hypothesis $H_0$ if a $p-value$ larger than $α$ is obtained.\n",
    "The significance level $α$ is also referred to as the probability of a **Type I error**. As\n",
    "Figure 8.29 shows, a **Type I error** occurs when the null hypothesis is rejected when it is really\n",
    "true. **A Type II error** occurs when the null hypothesis is accepted when it is really false. Having\n",
    "a small probability of a **Type I error**, that is, having a small significance level $α$, is consistent\n",
    "with the “protection” of the null hypothesis. This means that the null hypothesis is rejected only when there is sufficient evidence that it is false.\n"
   ]
  },
  {
   "cell_type": "markdown",
   "metadata": {},
   "source": [
    "#### Chi-Square Test for Goodness Fit"
   ]
  },
  {
   "cell_type": "markdown",
   "metadata": {},
   "source": [
    "The chi-squared test for goodness of fit determines how well categorical variables fit some distribution. We assume that the categories are mutually exclusive, and completely cover the sample space. That means that the everything we can think of fits into exactly one category, with no exceptions. For example, suppose we flip a coin to determine if it is fair. The outcomes of this experiment fit into exactly two categories, head and tails. The same goes for rolling a die to determine its fairness; rolls of the die will result in (exactly) one of (exactly) six outcomes or categories. This test is only meaningful with mutually exclusive categories.\n",
    "\n",
    "The Chi-Squared test is a statistical hypothesis test that assumes (the null hypothesis) that the observed frequencies for a categorical variable match the expected frequencies for the categorical variable. In other words,  a chi-squared test can be used to attempt rejection of the null hypothesis that the data are independent.  The test calculates a statistic that has a chi-squared distribution, named for the Greek capital letter Chi (X) pronounced “ki” as in kite.\n",
    "\n",
    "$$ \\chi^2 = \\sum (O - E)^2/E $$\n",
    "\n",
    "* O is observed frequency\n",
    "* E is expected frequency\n",
    "* $ \\chi $ is the chi-square statistic\n",
    "\n",
    "Suppose we have two dice, a black die and a red die, and we’d like to determine if one or both are unfair. We roll each die sixty times and count how many times each comes up on each face. For this, we generated the following data- "
   ]
  },
  {
   "cell_type": "code",
   "execution_count": 59,
   "metadata": {
    "scrolled": true
   },
   "outputs": [
    {
     "data": {
      "text/html": [
       "<div>\n",
       "<style scoped>\n",
       "    .dataframe tbody tr th:only-of-type {\n",
       "        vertical-align: middle;\n",
       "    }\n",
       "\n",
       "    .dataframe tbody tr th {\n",
       "        vertical-align: top;\n",
       "    }\n",
       "\n",
       "    .dataframe thead th {\n",
       "        text-align: right;\n",
       "    }\n",
       "</style>\n",
       "<table border=\"1\" class=\"dataframe\">\n",
       "  <thead>\n",
       "    <tr style=\"text-align: right;\">\n",
       "      <th></th>\n",
       "      <th>Face</th>\n",
       "      <th>Red</th>\n",
       "      <th>Black</th>\n",
       "      <th>Expected</th>\n",
       "    </tr>\n",
       "  </thead>\n",
       "  <tbody>\n",
       "    <tr>\n",
       "      <th>0</th>\n",
       "      <td>1</td>\n",
       "      <td>6</td>\n",
       "      <td>9</td>\n",
       "      <td>10</td>\n",
       "    </tr>\n",
       "    <tr>\n",
       "      <th>1</th>\n",
       "      <td>2</td>\n",
       "      <td>5</td>\n",
       "      <td>10</td>\n",
       "      <td>10</td>\n",
       "    </tr>\n",
       "    <tr>\n",
       "      <th>2</th>\n",
       "      <td>3</td>\n",
       "      <td>14</td>\n",
       "      <td>12</td>\n",
       "      <td>10</td>\n",
       "    </tr>\n",
       "    <tr>\n",
       "      <th>3</th>\n",
       "      <td>4</td>\n",
       "      <td>15</td>\n",
       "      <td>11</td>\n",
       "      <td>10</td>\n",
       "    </tr>\n",
       "    <tr>\n",
       "      <th>4</th>\n",
       "      <td>5</td>\n",
       "      <td>11</td>\n",
       "      <td>8</td>\n",
       "      <td>10</td>\n",
       "    </tr>\n",
       "    <tr>\n",
       "      <th>5</th>\n",
       "      <td>6</td>\n",
       "      <td>9</td>\n",
       "      <td>10</td>\n",
       "      <td>10</td>\n",
       "    </tr>\n",
       "  </tbody>\n",
       "</table>\n",
       "</div>"
      ],
      "text/plain": [
       "   Face  Red  Black  Expected\n",
       "0     1    6      9        10\n",
       "1     2    5     10        10\n",
       "2     3   14     12        10\n",
       "3     4   15     11        10\n",
       "4     5   11      8        10\n",
       "5     6    9     10        10"
      ]
     },
     "execution_count": 59,
     "metadata": {},
     "output_type": "execute_result"
    }
   ],
   "source": [
    "import pandas as pd\n",
    "data = pd.DataFrame({'Red':[6,5,14,15,11,9],'Black':[9,10,12,11,8,10], 'Face':[1,2,3,4,5,6]}, columns = ['Face', 'Red', 'Black'])\n",
    "data['Expected'] = pd.Series(np.ones(10)*10, dtype = np.int)\n",
    "data"
   ]
  },
  {
   "cell_type": "code",
   "execution_count": 60,
   "metadata": {},
   "outputs": [
    {
     "data": {
      "text/plain": [
       "Power_divergenceResult(statistic=8.3999999999999986, pvalue=0.13552522337752962)"
      ]
     },
     "execution_count": 60,
     "metadata": {},
     "output_type": "execute_result"
    }
   ],
   "source": [
    "stats.chisquare(data['Red'])"
   ]
  },
  {
   "cell_type": "code",
   "execution_count": 61,
   "metadata": {},
   "outputs": [
    {
     "data": {
      "text/plain": [
       "Power_divergenceResult(statistic=8.3999999999999986, pvalue=0.13552522337752962)"
      ]
     },
     "execution_count": 61,
     "metadata": {},
     "output_type": "execute_result"
    }
   ],
   "source": [
    "stats.chisquare(data['Red'], data['Expected'])"
   ]
  },
  {
   "cell_type": "code",
   "execution_count": 62,
   "metadata": {},
   "outputs": [
    {
     "data": {
      "text/plain": [
       "Power_divergenceResult(statistic=1.0, pvalue=0.96256577324729642)"
      ]
     },
     "execution_count": 62,
     "metadata": {},
     "output_type": "execute_result"
    }
   ],
   "source": [
    "stats.chisquare(data['Black'])"
   ]
  },
  {
   "cell_type": "code",
   "execution_count": 64,
   "metadata": {},
   "outputs": [
    {
     "data": {
      "text/plain": [
       "Power_divergenceResult(statistic=1.0, pvalue=0.96256577324729642)"
      ]
     },
     "execution_count": 64,
     "metadata": {},
     "output_type": "execute_result"
    }
   ],
   "source": [
    "stats.chisquare(data['Black'], data['Expected'])"
   ]
  },
  {
   "cell_type": "markdown",
   "metadata": {},
   "source": [
    "In case of red facing die, the p-value is .1355, which means there is 13.55% chance that the same frequency will be repeated in future. On the other hand, in case of black facing die, there are 96.25% chances that the same frequency will be repeated in future. "
   ]
  },
  {
   "cell_type": "code",
   "execution_count": 65,
   "metadata": {},
   "outputs": [
    {
     "data": {
      "text/plain": [
       "Power_divergenceResult(statistic=6.5128787878787877, pvalue=0.25945989628646277)"
      ]
     },
     "execution_count": 65,
     "metadata": {},
     "output_type": "execute_result"
    }
   ],
   "source": [
    "stats.chisquare(data['Red'], data['Black'])"
   ]
  },
  {
   "cell_type": "markdown",
   "metadata": {},
   "source": [
    "The first value in the returned tuple is the χ2 value itself, while the second value is the p-value computed using ν=k−1 where k is the number of values in each array. Here is v is degree of freedom.\n",
    "\n",
    "\n",
    " - If `statistic` >= Critical Value: significant result, reject null hypothesis (H0), dependent.\n",
    " - If `statistic` < Critical Value: not significant result, fail to reject null hypothesis (H0), independent.\n",
    "\n",
    "\n",
    "In terms of a p-value and a chosen significance level (alpha), the test can be interpreted as follows:\n",
    "\n",
    " - If `pvalue` <= alpha: significant result, reject null hypothesis (H0), dependent.\n",
    " - If `pvalue` > alpha: not significant result, fail to reject null hypothesis (H0), independent.\n",
    "\n",
    "For 'Red' the `statistic` is 8.399. Since degree of freedom (dof) is 5, and for this dof and p =  .05, the chi square value is 11.070 which is greater than 8.399. This means this data doesn't reject the null hypothesis. \n",
    "\n",
    "Alternatively, for 8.399, the corresponding p value for dof = 5 is greater than .05. This also implies that data doesn't reject the null hypothesis.\n",
    "\n",
    "The value of alpha is usually .05. The critical value is referenced from chi square distribution table(shown below).\n",
    "Since"
   ]
  },
  {
   "cell_type": "code",
   "execution_count": 66,
   "metadata": {},
   "outputs": [
    {
     "data": {
      "text/plain": [
       "Power_divergenceResult(statistic=0.0, pvalue=1.0)"
      ]
     },
     "execution_count": 66,
     "metadata": {},
     "output_type": "execute_result"
    }
   ],
   "source": [
    "stats.chisquare(data['Red'], data['Red'])"
   ]
  },
  {
   "cell_type": "code",
   "execution_count": 69,
   "metadata": {},
   "outputs": [
    {
     "data": {
      "text/plain": [
       "8.3999999999999986"
      ]
     },
     "execution_count": 69,
     "metadata": {},
     "output_type": "execute_result"
    }
   ],
   "source": [
    "#manually calculating chi square value\n",
    "data['RE'] = ((data['Red']-data['Expected'])**2)/data['Expected']\n",
    "data['RE'].sum()"
   ]
  },
  {
   "cell_type": "markdown",
   "metadata": {},
   "source": [
    "A low value for chi-square (above `statistic`) means there is a high correlation between your two sets of data. In theory, if your observed and expected values were equal (“no difference”) then chi-square would be zero — an event that is unlikely to happen in real life. Deciding whether a chi-square test statistic is large enough to indicate a statistically significant difference isn’t as easy it seems. It would be nice if we could say a chi-square test statistic >10 means a difference, but unfortunately that isn’t the case. \n",
    "\n",
    "So basically, low `statistic` means independence and low statistical significance and hence failiure to reject the null hypothesis.\n",
    "\n",
    "A point from sklearn docs - \n",
    "\n",
    "\n",
    "*Recall that the chi-square test measures dependence between stochastic variables, so using this function “weeds\n",
    "out” the features that are the most likely to be independent of class and therefore irrelevant for classification.*"
   ]
  },
  {
   "cell_type": "markdown",
   "metadata": {},
   "source": [
    "#### Another Example"
   ]
  },
  {
   "cell_type": "code",
   "execution_count": 36,
   "metadata": {
    "collapsed": true
   },
   "outputs": [],
   "source": [
    "import numpy as np\n",
    "import pandas as pd\n",
    "\n",
    "a = np.array([[90,60,104,95],[30,50,51,20],[30,40,45,35]])\n",
    "data = pd.DataFrame(a, columns = list('ABCD'))\n",
    "data['Total'] = data.sum(axis = 1)\n",
    "data.loc[3] = data.sum(axis = 0)\n",
    "data.index = pd.Index(['White Collar','Blue Collar', 'No Collar', 'Total'])"
   ]
  },
  {
   "cell_type": "markdown",
   "metadata": {},
   "source": [
    "Assume that a city has a population of 1 million people. We randomly select 650 people and we seggregate the data based on his job type (white collar etc) and the neighborhood they live in (A, B etc).\n",
    "\n",
    "The null hypothesis is that each person's neighborhood of residence is independent of the person's occupational classification. The data are tabulated as: "
   ]
  },
  {
   "cell_type": "code",
   "execution_count": 37,
   "metadata": {},
   "outputs": [
    {
     "data": {
      "text/html": [
       "<div>\n",
       "<style scoped>\n",
       "    .dataframe tbody tr th:only-of-type {\n",
       "        vertical-align: middle;\n",
       "    }\n",
       "\n",
       "    .dataframe tbody tr th {\n",
       "        vertical-align: top;\n",
       "    }\n",
       "\n",
       "    .dataframe thead th {\n",
       "        text-align: right;\n",
       "    }\n",
       "</style>\n",
       "<table border=\"1\" class=\"dataframe\">\n",
       "  <thead>\n",
       "    <tr style=\"text-align: right;\">\n",
       "      <th></th>\n",
       "      <th>A</th>\n",
       "      <th>B</th>\n",
       "      <th>C</th>\n",
       "      <th>D</th>\n",
       "      <th>Total</th>\n",
       "    </tr>\n",
       "  </thead>\n",
       "  <tbody>\n",
       "    <tr>\n",
       "      <th>White Collar</th>\n",
       "      <td>90</td>\n",
       "      <td>60</td>\n",
       "      <td>104</td>\n",
       "      <td>95</td>\n",
       "      <td>349</td>\n",
       "    </tr>\n",
       "    <tr>\n",
       "      <th>Blue Collar</th>\n",
       "      <td>30</td>\n",
       "      <td>50</td>\n",
       "      <td>51</td>\n",
       "      <td>20</td>\n",
       "      <td>151</td>\n",
       "    </tr>\n",
       "    <tr>\n",
       "      <th>No Collar</th>\n",
       "      <td>30</td>\n",
       "      <td>40</td>\n",
       "      <td>45</td>\n",
       "      <td>35</td>\n",
       "      <td>150</td>\n",
       "    </tr>\n",
       "    <tr>\n",
       "      <th>Total</th>\n",
       "      <td>150</td>\n",
       "      <td>150</td>\n",
       "      <td>200</td>\n",
       "      <td>150</td>\n",
       "      <td>650</td>\n",
       "    </tr>\n",
       "  </tbody>\n",
       "</table>\n",
       "</div>"
      ],
      "text/plain": [
       "                A    B    C    D  Total\n",
       "White Collar   90   60  104   95    349\n",
       "Blue Collar    30   50   51   20    151\n",
       "No Collar      30   40   45   35    150\n",
       "Total         150  150  200  150    650"
      ]
     },
     "execution_count": 37,
     "metadata": {},
     "output_type": "execute_result"
    }
   ],
   "source": [
    "data"
   ]
  },
  {
   "cell_type": "markdown",
   "metadata": {},
   "source": [
    "Since out of 650 people, 349 are White Collar people, so we would expect that the population of neighborhood A would also have the same ration of White Collar people. That is the expected value of White Collar people in neighborhood A is - \n",
    "\n",
    "150(349/650) = 80.54 This way, we can populate another table of expected values. Let us prepare that table - \n"
   ]
  },
  {
   "cell_type": "code",
   "execution_count": 42,
   "metadata": {
    "scrolled": true
   },
   "outputs": [
    {
     "data": {
      "text/html": [
       "<div>\n",
       "<style scoped>\n",
       "    .dataframe tbody tr th:only-of-type {\n",
       "        vertical-align: middle;\n",
       "    }\n",
       "\n",
       "    .dataframe tbody tr th {\n",
       "        vertical-align: top;\n",
       "    }\n",
       "\n",
       "    .dataframe thead th {\n",
       "        text-align: right;\n",
       "    }\n",
       "</style>\n",
       "<table border=\"1\" class=\"dataframe\">\n",
       "  <thead>\n",
       "    <tr style=\"text-align: right;\">\n",
       "      <th></th>\n",
       "      <th>A</th>\n",
       "      <th>B</th>\n",
       "      <th>C</th>\n",
       "      <th>D</th>\n",
       "    </tr>\n",
       "  </thead>\n",
       "  <tbody>\n",
       "    <tr>\n",
       "      <th>White Collar</th>\n",
       "      <td>80.54</td>\n",
       "      <td>80.54</td>\n",
       "      <td>107.38</td>\n",
       "      <td>80.54</td>\n",
       "    </tr>\n",
       "    <tr>\n",
       "      <th>Blue Collar</th>\n",
       "      <td>34.84</td>\n",
       "      <td>34.84</td>\n",
       "      <td>46.46</td>\n",
       "      <td>34.84</td>\n",
       "    </tr>\n",
       "    <tr>\n",
       "      <th>No Collar</th>\n",
       "      <td>34.61</td>\n",
       "      <td>34.61</td>\n",
       "      <td>46.15</td>\n",
       "      <td>34.61</td>\n",
       "    </tr>\n",
       "  </tbody>\n",
       "</table>\n",
       "</div>"
      ],
      "text/plain": [
       "                  A      B       C      D\n",
       "White Collar  80.54  80.54  107.38  80.54\n",
       "Blue Collar   34.84  34.84   46.46  34.84\n",
       "No Collar     34.61  34.61   46.15  34.61"
      ]
     },
     "execution_count": 42,
     "metadata": {},
     "output_type": "execute_result"
    }
   ],
   "source": [
    "expected = pd.DataFrame([[80.54, 80.54,107.38,80.54],[34.84,34.84,46.46,34.84],[34.61,34.61,46.15,34.61]])\n",
    "expected.columns = data.columns[:4]\n",
    "expected.index = data.index[:3]\n",
    "expected"
   ]
  },
  {
   "cell_type": "markdown",
   "metadata": {},
   "source": [
    "Now let us calculate the chi square - "
   ]
  },
  {
   "cell_type": "code",
   "execution_count": 55,
   "metadata": {},
   "outputs": [
    {
     "data": {
      "text/plain": [
       "24.572130834241726"
      ]
     },
     "execution_count": 55,
     "metadata": {},
     "output_type": "execute_result"
    }
   ],
   "source": [
    "df =(((a - expected)**2)/expected)\n",
    "np.sum(df.values) #chi square value"
   ]
  },
  {
   "cell_type": "markdown",
   "metadata": {},
   "source": [
    "We finally calculated the value of chi square. We also see that degree of freedom  = (no of columns -1)(no of rows -1) = (3)(2) = 6. Now we locate the value of p for degree of freedom (dof )of 6 and given chi square value from following table - \n",
    "\n",
    "<img src=\"images/chitable.jpg\" width=\"400\" height=\"500\"/>\n",
    "\n",
    "We find that for dof 6 and p = .001 the value is 22.457 and our chi square is even bigger than that. That means the p value is even less than .001 which basically rejects the null hypothesis (with p = .05 as reference). \n",
    "\n",
    "This means that the given distribution is not representative of expected distribution (not very well correlated and hence independent)."
   ]
  },
  {
   "cell_type": "code",
   "execution_count": null,
   "metadata": {
    "collapsed": true
   },
   "outputs": [],
   "source": []
  },
  {
   "cell_type": "markdown",
   "metadata": {
    "collapsed": true
   },
   "source": [
    "---\n",
    "### Neural Network\n",
    "\n",
    "##### Activation Functions\n",
    "\n",
    " - ELU\n",
    " - ReLU\n",
    " - Sigmoid\n",
    " - tanh\n",
    " - Softmax\n",
    " \n",
    "##### Chain Rule for Derivatives\n",
    "\n",
    "Suppose we have a function like -\n",
    "\n",
    "𝑓(𝑥) = 𝐴(𝐵(𝐶(𝑥))\n",
    "\n",
    "then, per chain rule, the derivative of 𝑓 wrt 𝑥 will be - \n",
    "\n",
    "\n",
    "𝑓′(𝑥) = 𝑓′(𝐴)·𝐴′(𝐵)·𝐵′(𝐶)·𝐶′(𝑥)\n",
    "\n",
    "##### Architectures\n",
    "\n",
    " - Autoencoder\n",
    " - CNN\n",
    " - RNN\n",
    " - GNN\n",
    " - MLP\n",
    " - VAE"
   ]
  },
  {
   "cell_type": "markdown",
   "metadata": {},
   "source": [
    "---\n",
    "### Loss Function\n",
    "\n",
    " - Cross Entropy\n",
    " - Hinge Huber\n",
    " - Kullback-Leiber\n",
    " - MAE (L1)\n",
    " - MSE (L2)\n",
    " \n",
    "### Optimzers\n",
    "\n",
    " - Adadelta\n",
    " - Adagrad\n",
    " - Adam\n",
    " - BFGS\n",
    " - SGD\n",
    " - Momentum\n",
    " - Newton's Method\n",
    " - RMSProp\n",
    " "
   ]
  },
  {
   "cell_type": "markdown",
   "metadata": {},
   "source": [
    "##### Logistic or Sigmoid Function\n",
    "\n",
    "If $y = \\frac{1}{1 + exp(-x)}$ \n",
    "\n",
    "then $\\frac{\\partial y}{\\partial x} = y(1 - y)$\n",
    "\n",
    "Also this logistic function is the inverse of logit function $f(x) = log\\frac{x}{1-x}$\n",
    "\n",
    "Scipy package has a function for caclucating the value for logistic function - \n",
    "\n",
    "```\n",
    "from scipy.special import expit\n",
    "expit(.3924999999) # output - 0.59688437823570573\n",
    "```"
   ]
  },
  {
   "cell_type": "markdown",
   "metadata": {},
   "source": [
    "#### Sigmoid Function Curve"
   ]
  },
  {
   "cell_type": "code",
   "execution_count": 35,
   "metadata": {},
   "outputs": [
    {
     "data": {
      "text/plain": [
       "(-6, 6)"
      ]
     },
     "execution_count": 35,
     "metadata": {},
     "output_type": "execute_result"
    },
    {
     "data": {
      "image/png": "[encoded data removed]",
      "text/plain": [
       "<matplotlib.figure.Figure at 0x8afb330>"
      ]
     },
     "metadata": {},
     "output_type": "display_data"
    }
   ],
   "source": [
    "#plot for sigmoid function\n",
    "%matplotlib inline\n",
    "import matplotlib.pyplot as plt\n",
    "sns.set()\n",
    "from scipy.special import expit\n",
    "a = np.linspace(-5,5,100)\n",
    "plt.plot(a,expit(a))\n",
    "plt.hlines(.5,-6,6, color = 'orange')\n",
    "plt.hlines(1,-6,6, color = 'orange')\n",
    "plt.hlines(0,-6,6, color = 'orange')\n",
    "plt.xlim(-6,6)"
   ]
  },
  {
   "cell_type": "code",
   "execution_count": 137,
   "metadata": {},
   "outputs": [
    {
     "data": {
      "text/plain": [
       "[<matplotlib.lines.Line2D at 0xb0616d0>]"
      ]
     },
     "execution_count": 137,
     "metadata": {},
     "output_type": "execute_result"
    },
    {
     "data": {
      "image/png": "[encoded data removed]",
      "text/plain": [
       "<matplotlib.figure.Figure at 0xb252830>"
      ]
     },
     "metadata": {},
     "output_type": "display_data"
    }
   ],
   "source": [
    "#plot for the derivative of sigmoid function\n",
    "plt.plot(a,b*(1-b))"
   ]
  },
  {
   "cell_type": "code",
   "execution_count": 10,
   "metadata": {},
   "outputs": [
    {
     "data": {
      "text/plain": [
       "(-20, 20)"
      ]
     },
     "execution_count": 10,
     "metadata": {},
     "output_type": "execute_result"
    },
    {
     "data": {
      "image/png": "[encoded data removed]",
      "text/plain": [
       "<matplotlib.figure.Figure at 0xac0e7b0>"
      ]
     },
     "metadata": {},
     "output_type": "display_data"
    }
   ],
   "source": [
    "%matplotlib inline\n",
    "import numpy as np\n",
    "import matplotlib.pyplot as plt\n",
    "import seaborn as sns\n",
    "sns.set()\n",
    "\n",
    "a = np.linspace(0.0000000,.99999999,100)\n",
    "plt.plot(a, np.log(a/(1-a)))\n",
    "plt.ylim(-20,20)"
   ]
  },
  {
   "cell_type": "markdown",
   "metadata": {},
   "source": [
    "#### tanh Curve"
   ]
  },
  {
   "cell_type": "code",
   "execution_count": 38,
   "metadata": {
    "scrolled": true
   },
   "outputs": [
    {
     "data": {
      "text/plain": [
       "<matplotlib.collections.LineCollection at 0x8cbf190>"
      ]
     },
     "execution_count": 38,
     "metadata": {},
     "output_type": "execute_result"
    },
    {
     "data": {
      "image/png": "[encoded data removed]",
      "text/plain": [
       "<matplotlib.figure.Figure at 0x8c41f70>"
      ]
     },
     "metadata": {},
     "output_type": "display_data"
    }
   ],
   "source": [
    "plt.plot(a, np.tanh(a))\n",
    "plt.hlines(0,-6,6)"
   ]
  },
  {
   "cell_type": "markdown",
   "metadata": {},
   "source": [
    "#### RELU Curve"
   ]
  },
  {
   "cell_type": "code",
   "execution_count": 68,
   "metadata": {
    "collapsed": true
   },
   "outputs": [],
   "source": [
    "def relu(a):\n",
    "    if a >= 0:\n",
    "        return a\n",
    "    else:\n",
    "        return 0\n",
    "    \n",
    "np_relu = np.vectorize(relu, otypes = [float] )\n",
    "\n",
    "# Note that np.vectorize determines the type of output based on the first output value. To avoid this, set \n",
    "#the parameter 'otypes' as shown above "
   ]
  },
  {
   "cell_type": "code",
   "execution_count": 69,
   "metadata": {},
   "outputs": [
    {
     "data": {
      "text/plain": [
       "[<matplotlib.lines.Line2D at 0x8a5c710>]"
      ]
     },
     "execution_count": 69,
     "metadata": {},
     "output_type": "execute_result"
    },
    {
     "data": {
      "image/png": "[encoded data removed]",
      "text/plain": [
       "<matplotlib.figure.Figure at 0x8be0730>"
      ]
     },
     "metadata": {},
     "output_type": "display_data"
    }
   ],
   "source": [
    "plt.plot(a, np_relu(a))"
   ]
  },
  {
   "cell_type": "code",
   "execution_count": 44,
   "metadata": {},
   "outputs": [
    {
     "data": {
      "text/plain": [
       "array([[  9.46, -20.54,  -3.38,  14.46],\n",
       "       [ -4.84,  15.16,   4.54, -14.84],\n",
       "       [ -4.61,   5.39,  -1.15,   0.39]])"
      ]
     },
     "execution_count": 44,
     "metadata": {},
     "output_type": "execute_result"
    }
   ],
   "source": [
    "import numpy as np\n",
    "a = np.array([[90,60,104,95],[30,50,51,20],[30,40,45,35]])\n",
    "b = np.array([[80.54, 80.54,107.38,80.54],[34.84,34.84,46.46,34.84],[34.61,34.61,46.15,34.61]])\n",
    "\n",
    "a - b\n"
   ]
  },
  {
   "cell_type": "code",
   "execution_count": 45,
   "metadata": {},
   "outputs": [
    {
     "data": {
      "text/plain": [
       "array([[1.11112491e+00, 5.23826670e+00, 1.06351276e-01, 2.59610132e+00],\n",
       "       [6.72502870e-01, 6.59672790e+00, 4.43607404e-01, 6.32118255e+00],\n",
       "       [6.13984398e-01, 8.39352788e-01, 2.86023835e-02, 4.33400751e-03]])"
      ]
     },
     "execution_count": 45,
     "metadata": {},
     "output_type": "execute_result"
    }
   ],
   "source": [
    "c = np.round_(((a-b)**2), 2)\n",
    "c/b"
   ]
  },
  {
   "cell_type": "code",
   "execution_count": 46,
   "metadata": {},
   "outputs": [
    {
     "data": {
      "text/plain": [
       "24.572138497686733"
      ]
     },
     "execution_count": 46,
     "metadata": {},
     "output_type": "execute_result"
    }
   ],
   "source": [
    "np.sum(c/b)"
   ]
  },
  {
   "cell_type": "markdown",
   "metadata": {
    "collapsed": true
   },
   "source": [
    "#### Important Scipy Functions\n",
    "```\n",
    "scipy.special.expit\n",
    "scipy.linalg.eig\n",
    "scipy.special.factorial\n",
    "scipy.stats.binom.stats\n",
    "scipy.stats.binom.pmf\n",
    "scipy.stats.shapiro\n",
    "scipy.stats.norm.pdf\n",
    "scipy.stats.t.sf\n",
    "```"
   ]
  },
  {
   "cell_type": "code",
   "execution_count": null,
   "metadata": {
    "collapsed": true
   },
   "outputs": [],
   "source": []
  }
 ],
 "metadata": {
  "kernelspec": {
   "display_name": "Python 3",
   "language": "python",
   "name": "python3"
  },
  "language_info": {
   "codemirror_mode": {
    "name": "ipython",
    "version": 3
   },
   "file_extension": ".py",
   "mimetype": "text/x-python",
   "name": "python",
   "nbconvert_exporter": "python",
   "pygments_lexer": "ipython3",
   "version": "3.6.3"
  }
 },
 "nbformat": 4,
 "nbformat_minor": 2
}
