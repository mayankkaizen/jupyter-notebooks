{
 "cells": [
  {
   "cell_type": "markdown",
   "metadata": {},
   "source": [
    "### Boolean Algebra\n",
    "\n",
    "Boolean algebra deals with Boolean (also called binary) values that are typically labeled true/false, 1/0, yes/no, on/off, and so forth. We will use 1 and 0. A Boolean function is a function that operates on binary inputs and returns binary outputs.\n",
    "\n",
    "#### Truth Table Representation \n",
    "\n",
    "The simplest way to specify a Boolean function is to enumerate all the possible values of the function’s input variables, along with the function’s output for each set of inputs. This is called the truth table representation of the function, illustrated in table shown below. \n",
    "\n",
    "The first three columns enumerate all the possible binary values of the function’s variables. For each one of the $2^n$ possible tuples $v_1...v_n$ (here $n$=3), the last column gives the value of $f(v_1...v_n)$. Note that we don't yet know about the function. \n",
    "\n",
    "x|y|z|*f*(x,y,z)\n",
    "--|--|--|--\n",
    "0|0|0|0\n",
    "0|0|1|0\n",
    "0|1|0|1\n",
    "0|1|1|0\n",
    "1|0|0|1\n",
    "1|0|1|0\n",
    "1|1|0|1\n",
    "1|1|1|0\n",
    "\n",
    "|Table 1|\n",
    "|---|\n",
    "||"
   ]
  },
  {
   "cell_type": "markdown",
   "metadata": {},
   "source": [
    "#### Boolean Expressions \n",
    "\n",
    "In addition to the truth table specification, a Boolean function can also be specified using Boolean operations over its input variables. The basic Boolean operators that are typically used are **`And`**(`x` `And` `y` is `1` exactly when both `x` and `y` are `1`). **`Or`** (`x Or y` is `1` exactly when either `x` or `y` or both are `1`), and **`Not`** (`Not x` is `1` exactly when `x` is `0`). We will use a common arithmetic-like notation for these operations: `x.y` (or `xy`) means `x And y`, `x + y` means `x Or y`, and $\\bar{x}$ means `Not x`."
   ]
  },
  {
   "cell_type": "markdown",
   "metadata": {},
   "source": [
    "`x`|`y`| `x AND y`| `x OR y`| `NOT x`\n",
    "--|--|--|--|--\n",
    "0|0|0|0|1\n",
    "0|1|0|1|1\n",
    "1|0|0|1|0\n",
    "1|1|1|1|0"
   ]
  },
  {
   "cell_type": "markdown",
   "metadata": {},
   "source": [
    "To illustrate, the function defined in table 1 is equivalently given by the Boolean expression $f(x,y,z) = {(x+y).}\\bar{z}$. For example, let us evaluate this expression on the inputs $x = 0, y = 1, z = 0$ (third row in the table). Since $y$ is $1$, it follows that $x + y = 1$ and thus $1.\\bar0$ = $1.1$ = $1$. The complete verification of the equivalence between the expression and the truth table is achieved by evaluating the expression on each of the eight possible input combinations, verifying that it yields the same value listed in the table’s right column."
   ]
  },
  {
   "cell_type": "markdown",
   "metadata": {},
   "source": [
    "#### Canonical Representation \n",
    "\n",
    "As it turns out, every Boolean function can be expressed using at least one Boolean expression called the **canonical representation**. Starting with the function’s truth table, we focus on all the rows in which the function has value $1$. For each such row, we construct a term created by $And$-ing together literals (variables or their negations) that fix the values of all the row’s inputs. For example, let us focus on the third row in table 1, where the function’s value is 1. Since the variable values in this row are $x = 0$, $y = 1$, $z = 0$, we construct the term $\\bar{x}y\\bar{z}$. Following the same procedure, we construct the terms $x\\bar{y}\\bar{z}$ and $xy\\bar{z}$ for rows 5 and 7. Now, if we $Or$-together all these terms (for all the rows where the function has value 1), we get a Boolean expression that is equivalent to the given truth table. Thus the canonical representation of the Boolean function shown in table 1 is $f(x,y,z) =  \\bar{x}y\\bar{z} + x\\bar{y}\\bar{z} + xy\\bar{z}$. This construction leads to an important conclusion: Every Boolean function, no matter how complex, can be expressed using three Boolean operators only: **`And`**, **`Or`**, and **`Not`**."
   ]
  },
  {
   "cell_type": "markdown",
   "metadata": {},
   "source": [
    "#### Two-Input Boolean Functions \n",
    "\n",
    "An inspection of table 1 reveals that the number of Boolean functions that can be defined over $n$ binary variables is ${2^2}^n$. For example, the sixteen Boolean functions spanned by two variables are listed in figure 2. These functions were constructed systematically, by enumerating all the possible 4-wise combinations of binary values in the four right columns. Each function has a conventional name that seeks to describe its underlying operation. Here are some examples: The name of the `Nor` function is shorthand for `Not-Or`: Take the `Or` of $x$ and $y$, then negate the result. The `Xor` function—shorthand for `exclusive or`—returns 1 when its two variables have opposing truth-values and 0 otherwise. Conversely, the Equivalence function returns 1 when the two variables have identical truth-values. The `If-x-then-y` function (also known as $x \\rightarrow y$, or $x$ Implies $y$) returns 1 when $x$ is 0 or when both $x$ and $y$ are 1. The other functions are self-explanatory.\n",
    "\n",
    "The `Nand` function (as well as the `Nor` function) has an interesting theoretical property: Each one of the operations `And`, `Or`, and `Not` can be constructed from it, and it alone (e.g., $x$ `Or` $y$ =  ($x$ `Nand` $x$) `Nand` ($y$ `Nand` $y$). And since every Boolean function can be constructed from `And`, `Or`, and `Not` operations using the canonical representation method, it follows that every Boolean function can be constructed from `Nand` operations alone. This result has far-reaching practical implications.\n",
    "\n",
    "![](images/bool1.png)"
   ]
  },
  {
   "cell_type": "markdown",
   "metadata": {},
   "source": [
    "#### Gate Logic\n",
    "\n",
    "A gate is a physical device that implements a Boolean function. If a Boolean function $f$ operates on $n$ variables and returns $m$ binary results (in all our examples so far, $m$ was 1), the gate that implements $f$ will have $n$ input pins and $m$ output pins. When we put some values $v_1...v_n$ in the gate’s input pins, the gate’s ‘‘logic’’—its internal structure—should compute and output $f(v_1...v_n)$. And just like complex Boolean functions can be expressed in terms of simpler functions, complex gates are composed from more elementary gates. The simplest gates of all are made from tiny switching devices, called transistors, wired in a certain topology designed to effect the overall gate functionality."
   ]
  },
  {
   "cell_type": "markdown",
   "metadata": {},
   "source": [
    "<img src=\"images/logic-gates.png\" width=\"400\" height=\"300\"/>"
   ]
  },
  {
   "cell_type": "markdown",
   "metadata": {},
   "source": [
    "#### 2's Complement\n",
    "\n",
    "The two's complement of an N-bit number is defined as its complement with respect to $2^N$. For instance, for the three-bit number 010, the two's complement is 110, because 010 + 110 = 1000. The two's complement is calculated by inverting the digits and adding one. \n",
    "\n",
    "put another way, 010 is 2 in decimal system. Since we are talking about 3 bit numbers, we simply subtract 2 from $2^3 = 8$. So, 8 - 2 = 6 which is 110 in binary system.  \n",
    "\n",
    "Alternatively we first invert all the bits of a binary number (that is, take 1's compliment), then add 1 to resulting number. For example, to find 2's complement of 010 -\n",
    "\n",
    " - original number -  010  \n",
    "\n",
    " - inverted bits -    101\n",
    "\n",
    " - add 1 to above\n",
    "\n",
    " - resulting number - 110 (this is 2's complement of 010)\n",
    " \n",
    "Now if we add 010 to 110, we get 1000 which is 8 in decimal system. This shows that -\n",
    "\n",
    "<div class=\"alert alert-block alert-warning\">\n",
    "$$N + 2'scomplement\\; of\\; N =  2^N$$\n",
    "</div>\n"
   ]
  },
  {
   "cell_type": "markdown",
   "metadata": {},
   "source": [
    "In this scheme, if the binary number ${010}_2$ encodes the signed integer $2$ in decimal system, then binary number ${110}_2$ encodes the integer $-2$ in decimal system. "
   ]
  },
  {
   "cell_type": "markdown",
   "metadata": {},
   "source": [
    "For above example, we know that 010 is 2 in decimal system. We also know that 2's complement of 010 (that is, 110) is actually a negative number for a computer system. So how do we find the negative number represented by 110 in 2's compliment system? Use the following formula - \n",
    "\n",
    "For n bit binary number - \n",
    "<div class=\"alert alert-block alert-warning\">\n",
    "$$w = -a_{N-1}2^{N-1}+\\Sigma_{i=0}^{N-2}a_i2^i$$\n",
    "</div>\n",
    "So, for our example of 110, we get $-(2)^2+1*2^1+0*2^0 = -4 + 2 = -2$\n",
    "\n",
    "Hence, 110 represents -2 in 2's complement system. \n",
    "\n",
    "\n",
    "Alternatively, we can use the same process used in finding 2's complement. \n",
    "\n",
    " - Binary number is - 110\n",
    " - Flip the bits - 001\n",
    " - Add 1\n",
    " - Now we have - 010 which is 2 in decimal system. "
   ]
  },
  {
   "cell_type": "markdown",
   "metadata": {},
   "source": [
    "#### Range of numbers in 2's complement scheme.\n",
    "\n",
    "in N-bit system, we can encode $2^N$ numbers with range ( $0,2^N-1$ ). However, the range is affected by 2's complement scheme as negative numbers have also to be accomodated. This adjustment for negative integers means that range of positive integers will have to be shortened. \n",
    "\n",
    "Given a set of all possible N-bit values, we can assign the lower (by the binary value) half to be the integers from $0$ to $(2^{N − 1} − 1)$ inclusive and the upper half to be $−2^{N − 1}$ to $−1$ inclusive. The lower half represents positive numbers and upper half represents negative numbers. Also note that, following this convention, all positive binary numbers has $0$ as MSB while all negative numbers have $1$ as MSB. See following table for 3-bit system.\n",
    "\n",
    "|Decimal No|Binary no|2's complement|-ve no in 2's comp. scheme|\n",
    "|----------|---------|--------------|--------------------------|\n",
    "|0|000|000|0|\n",
    "|1|001|111|-1|\n",
    "|2|010|110|-2|\n",
    "|3|011|101|-3|\n",
    "|4|100|100|-4|\n",
    "|5|101|011|-5|\n",
    "|6|110|010|-6|\n",
    "|7|111|001|-7|\n",
    "\n",
    "The lower half (by the binary value) would be first 4 rows and upper half would be last 4 rows. As described earlier, the upper half represents negative integers. Following this, we can store 8 integers (-4 to 3, inclusive). \n",
    "\n",
    "|signed integer|bit value    |\n",
    "|--------------|-------------|\n",
    "|-4|100|\n",
    "|-3|101|\n",
    "|-2|110|\n",
    "|-1|111|\n",
    "|0|000|\n",
    "|1|001|\n",
    "|2|010|\n",
    "|3|011|\n",
    "\n",
    "We can see that a positive value $x$ is represented as the unsigned value $x$ while a negative value $−x$ is represented as the unsigned value $2^n − x$.\n",
    "\n",
    "The reason we get one extra negative value for an unsigned integer type is this allows us to interpret the first bit as the sign, which makes life a little easier for whoever is implementing our CPU. Two useful features of this representation are:\n",
    "\n",
    "1. We can convert freely between signed and unsigned values as long as we are in the common range of both, and\n",
    "\n",
    "2. Addition and subtraction work exactly the same we for both signed and unsigned values. For example, on our hypothetical 3-bit machine, $1 + 5$ represented as $001 + 101 = 110$ gives the same answer as $1 + (−3) = 001 + 101 = 110$. In the first case we interpret $110$ as $6$, while in the second we interpret it as $−2$, but both answers are right in their respective contexts.\n",
    "\n",
    "Note that in order to make this work, we can’t detect overflow: when the CPU adds two 3-bit integers, it doesn’t know if we are adding $7 + 6 = 111 + 110 = 1101=13$ or $(−1)+(−2)=111+110=101=(−3)$. In both cases the result is truncated to $101$, which gives the incorrect answer 5 when we are adding unsigned values.\n",
    "\n",
    "\n",
    "\n",
    "\n",
    "\n",
    "Shown below is the Python script to find 2's complement "
   ]
  },
  {
   "cell_type": "code",
   "execution_count": 1,
   "metadata": {},
   "outputs": [],
   "source": [
    "def twos_complement(input_value: int, num_bits: int) -> int:\n",
    "    \"\"\"Calculates a two's complement integer from the given input value's bits.\"\"\"\n",
    "    mask = 2 ** (num_bits - 1)\n",
    "    return -(input_value & mask) + (input_value & ~mask)"
   ]
  },
  {
   "cell_type": "code",
   "execution_count": 2,
   "metadata": {},
   "outputs": [
    {
     "data": {
      "text/plain": [
       "-128"
      ]
     },
     "execution_count": 2,
     "metadata": {},
     "output_type": "execute_result"
    }
   ],
   "source": [
    "twos_complement(128,8)"
   ]
  }
 ],
 "metadata": {
  "kernelspec": {
   "display_name": "Python 3",
   "language": "python",
   "name": "python3"
  },
  "language_info": {
   "codemirror_mode": {
    "name": "ipython",
    "version": 3
   },
   "file_extension": ".py",
   "mimetype": "text/x-python",
   "name": "python",
   "nbconvert_exporter": "python",
   "pygments_lexer": "ipython3",
   "version": "3.9.5"
  }
 },
 "nbformat": 4,
 "nbformat_minor": 4
}
