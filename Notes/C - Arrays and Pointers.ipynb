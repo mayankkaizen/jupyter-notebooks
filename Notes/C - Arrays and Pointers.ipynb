{
 "cells": [
  {
   "cell_type": "markdown",
   "metadata": {},
   "source": [
    "### Pointers\n",
    "\n",
    "A pointer variable holds the address of another variable it points to. We declare pointer variables like these -\n",
    "\n",
    "```c\n",
    "int *p;    //p points to an int variable i.e. it store the address of int variable\n",
    "char *c;   //c points to character string i.e. it holds the address of character string\n",
    "```\n",
    "\n",
    "Consider following\n",
    "\n",
    "```c\n",
    "int c;\n",
    "c = 5;\n",
    "int *p;  //pointer variable declaration. right now p doesn't point to anything\n",
    "p = &i   //now p points to i. \n",
    "```\n",
    "When we declare a variable like above, compiler allocates memory to hold the value `5`. The variable `c` actually represents a named region in memory which stores the value `5`. Consider following figure. This is simple illustration of what memory looks like. Numbers at top are the addressess.  \n",
    "\n",
    "``` \n",
    "  54   55   56   57   58   59   60   61   62   63   64   65   66   \n",
    "+----+----+----+----+----+----+----+----+----+----+----+----+----+\n",
    "|    |    |    |    | 63 |    |    |    |    | 5  |    |    |    |\n",
    "+----+----+----+----+----+----+----+----+----+----+----+----+----+\n",
    "```\n",
    "\n",
    "The operator `*` is known as dereferencing operator and it denotes the value of a variable it points to. The `&` operator denotes the address of variable. \n",
    "\n",
    "It is clear from above figure that the address of location where value `5` is stored is 63. We also declared a pointer variable `p` and made it point to `i`. This means the variable `p` now stores the address of variable `i`. If we print the value of `p`, the address of `i` will be printed. Be careful to note that pointer variable itself is stored somewhere else in memory (memory location 58 in above figure.) So\n",
    "\n",
    "```c\n",
    "p = &i // = 63\n",
    "*p     // = 5\n",
    "&p     // = 58\n",
    "```    "
   ]
  },
  {
   "cell_type": "code",
   "execution_count": 59,
   "metadata": {},
   "outputs": [
    {
     "name": "stdout",
     "output_type": "stream",
     "text": [
      "a is 50\n",
      "address of a is 0x7ffee7e3289c\n",
      "address of p is 0x7ffee7e32890\n",
      "a is now 40\n",
      "size of ptr is 8\n"
     ]
    }
   ],
   "source": [
    "#include <stdio.h>\n",
    "\n",
    "int main(void)\n",
    "{\n",
    "int a, *ptr;          //declaration for normal int variable and pointer variable\n",
    "a = 50;               //a is assigned value 50\n",
    "ptr = &a;             //ptr now points to a\n",
    "\n",
    "printf(\"a is %d\\n\", a);   \n",
    "printf(\"address of a is %p\\n\", ptr);        //ptr is the address of a. note the format qualifier\n",
    "printf(\"address of p is %p\\n\", &ptr);        //address of ptr itself\n",
    "\n",
    "*ptr =  40;                                  //a is now 40 because ptr points to a\n",
    "printf(\"a is now %d\\n\", a);\n",
    "printf(\"size of ptr is %lu\\n\", sizeof(ptr)); //size of address value is 8 byte.\n",
    "}"
   ]
  },
  {
   "cell_type": "markdown",
   "metadata": {},
   "source": [
    "**Note that** a pointer can point to all the data types such as `int`, `char`, `struct` or `array`. Pointer can point to another pointer or even a function. We will meet with all of them in due course. "
   ]
  },
  {
   "cell_type": "code",
   "execution_count": 20,
   "metadata": {},
   "outputs": [
    {
     "name": "stdout",
     "output_type": "stream",
     "text": [
      "p is uninitialized!\n"
     ]
    }
   ],
   "source": [
    "#include <stdio.h>\n",
    "int main(void)\n",
    "{\n",
    "int *p = NULL;\n",
    "    \n",
    "    if (p == NULL) \n",
    "    {printf(\"p is uninitialized!\\n\");} \n",
    "    else \n",
    "    {printf(\"p points to %d\\n\", *p);}\n",
    "\n",
    "return 0; \n",
    "}"
   ]
  },
  {
   "cell_type": "markdown",
   "metadata": {},
   "source": [
    "Note that pointers aren't preinitialized to `NULL` when you declare them—you have to explicitly do it. (No non-static local variables are preinitialized, pointers included.)"
   ]
  },
  {
   "cell_type": "code",
   "execution_count": 21,
   "metadata": {},
   "outputs": [
    {
     "name": "stderr",
     "output_type": "stream",
     "text": [
      "/var/folders/d4/z0x5s3410lj8px16wr2m5y200000gp/T/tmpf2yh2unj.c:11:50: warning: format specifies type 'int' but the argument has type 'char *' [-Wformat]\n",
      "    printf(\"address of p  and q are = %d, %d\\n\", p, q);\n",
      "                                      ~~         ^\n",
      "                                      %s\n",
      "/var/folders/d4/z0x5s3410lj8px16wr2m5y200000gp/T/tmpf2yh2unj.c:11:53: warning: format specifies type 'int' but the argument has type 'char *' [-Wformat]\n",
      "    printf(\"address of p  and q are = %d, %d\\n\", p, q);\n",
      "                                          ~~        ^\n",
      "                                          %s\n",
      "2 warnings generated.\n"
     ]
    },
    {
     "name": "stdout",
     "output_type": "stream",
     "text": [
      "address of p  and q are = 0, 0\n"
     ]
    },
    {
     "name": "stderr",
     "output_type": "stream",
     "text": [
      "[C kernel] Executable exited with code -11"
     ]
    }
   ],
   "source": [
    "//Pointer initialized with NULL\n",
    "\n",
    "#include <stdio.h>\n",
    "#include <string.h>\n",
    "\n",
    "int main()\n",
    "{\n",
    "    char *p;\n",
    "    char *q = NULL;\n",
    "\n",
    "    printf(\"address of p  and q are = %d, %d\\n\", p, q);\n",
    "    strcpy(p,\"hello\");\n",
    "    printf(\"%s\\n\",p);\n",
    "    printf(\"Copying \\\"Goodbye\\\" to q\\n\");\n",
    "    strcpy(q, \"Goodbye\");\n",
    "    printf(\"String Copied\\n\");\n",
    "    printf(\"%s\\n\",q);\n",
    "}"
   ]
  },
  {
   "cell_type": "markdown",
   "metadata": {},
   "source": [
    "Above program will compile silently but it is a buggy program. We have declared a pointer but it doesn't point to anything. There are three things which must be done for a pointer/pointee relationship to work...\n",
    "\n",
    " - (1) The pointer must be declared and allocated\n",
    " - (2) The pointee must be declared and allocated\n",
    " - (3) The pointer (1) must be initialized so that it points to the pointee (2)\n",
    "\n",
    "The most common pointer related error of all time is the following: Declare and allocate the pointer (step 1). Forget step 2 and/or 3. Start using the pointer as if it has been setup to point to something. Code with this error frequently compiles fine, but the runtime results are disastrous. Unfortunately the pointer does not point anywhere good unless (2) and (3) are done, so the run time dereference operations on the pointer with `*` will misuse and trample memory leading to a random crash at some point.\n"
   ]
  },
  {
   "cell_type": "markdown",
   "metadata": {},
   "source": [
    "### `void` pointers\n",
    "\n",
    "Example is from Beej Guide to C.\n",
    "\n",
    "A `void` pointer is a pointer to any type. It is automatically cast to whatever type you assign into it, or copy from it."
   ]
  },
  {
   "cell_type": "code",
   "execution_count": 13,
   "metadata": {},
   "outputs": [
    {
     "name": "stdout",
     "output_type": "stream",
     "text": [
      "s2  = 0x1054f5f9a\n",
      "b2 =0x7ffeea71e88c\n"
     ]
    }
   ],
   "source": [
    "#include <stdio.h>\n",
    "\n",
    "void *pointer_array[10]; /* we can hold up to 10 void-pointers */\n",
    "int index=0;\n",
    "\n",
    "void append_pointer(void *p)\n",
    "{\n",
    "    pointer_array[index++] = p;\n",
    "}\n",
    "\n",
    "void *get_pointer(int i)\n",
    "{\n",
    "    return pointer_array[i];\n",
    "}\n",
    "\n",
    "int main(void)\n",
    "{\n",
    "char *s = \"some data!\";  /* s points to a constant string (char*) */\n",
    "int a = 10;\n",
    "int *b;\n",
    "    \n",
    "char *s2;  /* when we call get_pointer(), we'll store them back here */\n",
    "int *b2;\n",
    "\n",
    "b = &a; /* b is a pointer to a */\n",
    "    \n",
    "/* now let's store them both, even though they're different types */\n",
    "\n",
    "append_pointer(s);\n",
    "append_pointer(b);\n",
    "\n",
    "/* they're stored!  let's get them back! */\n",
    "    \n",
    "s2 = get_pointer(0); /* this was at index 0 */\n",
    "b2 = get_pointer(1); /* this was at index 1 */\n",
    "\n",
    "printf(\"s2  = %p\\nb2 =%p\\n\", s2, b2);\n",
    "return 0; \n",
    "\n",
    "}"
   ]
  },
  {
   "cell_type": "markdown",
   "metadata": {},
   "source": [
    "### Array"
   ]
  },
  {
   "cell_type": "code",
   "execution_count": 23,
   "metadata": {},
   "outputs": [
    {
     "name": "stderr",
     "output_type": "stream",
     "text": [
      "/var/folders/d4/z0x5s3410lj8px16wr2m5y200000gp/T/tmp4tlh8tzj.c:9:5: warning: expression result unused [-Wunused-value]\n",
      "for(i; i<6; p++)\n",
      "    ^\n",
      "1 warning generated.\n"
     ]
    },
    {
     "name": "stdout",
     "output_type": "stream",
     "text": [
      "1 2 3 4 5 6 "
     ]
    }
   ],
   "source": [
    "#include <stdio.h>\n",
    "\n",
    "int main(void)\n",
    "{\n",
    "int a[2][3] = {{1,2,3},{4,5,6}};\n",
    "int *p;\n",
    "p = &a[0][0];\n",
    "int i = 0;\n",
    "for(i; i<6; p++)\n",
    "{\n",
    "i++;\n",
    "printf(\"%d \",*p);}\n",
    "}"
   ]
  },
  {
   "cell_type": "markdown",
   "metadata": {},
   "source": [
    "#### Array Initialization"
   ]
  },
  {
   "cell_type": "code",
   "execution_count": 59,
   "metadata": {},
   "outputs": [
    {
     "name": "stdout",
     "output_type": "stream",
     "text": [
      "a[1], b[1] and c[1] are 2,0,0.\n",
      "0,0\n"
     ]
    }
   ],
   "source": [
    "#include <stdio.h>\n",
    "\n",
    "int main()\n",
    "{\n",
    "int a[3] = {1,2,3};   //all elements initialized\n",
    "int b[3] = {1};       // first element initialized, rest are converted to zero automatically\n",
    "int c[3] = {0};       //all elements are zero\n",
    "int d[3];             //\n",
    "\n",
    "printf(\"a[1], b[1] and c[1] are %d,%d,%d.\\n\", a[1],b[1],c[1]);\n",
    "printf(\"%d,%d\\n\",d[1],d[2]);\n",
    "}"
   ]
  },
  {
   "cell_type": "markdown",
   "metadata": {},
   "source": [
    "### Arrays and Pointers\n",
    "\n"
   ]
  },
  {
   "cell_type": "code",
   "execution_count": 32,
   "metadata": {},
   "outputs": [
    {
     "name": "stdout",
     "output_type": "stream",
     "text": [
      "0x7ffeecd1d880\n",
      "0x7ffeecd1d884\n",
      "0x7ffeecd1d880\n",
      "20\n",
      "0x7ffeecd1d894\n"
     ]
    }
   ],
   "source": [
    "#include <stdio.h>\n",
    "int main() {\n",
    "  int x[5];\n",
    "  printf(\"%p\\n\", x);    //address of first element\n",
    "  printf(\"%p\\n\", x+1);  //address of second element\n",
    "  printf(\"%p\\n\", &x);   //address of entire array\n",
    "  printf(\"%lu\\n\", sizeof x);\n",
    "  printf(\"%p\\n\", &x+1); //add of memory location which comes just where array ends\n",
    "  \n",
    "  return 0;\n",
    "}"
   ]
  },
  {
   "cell_type": "markdown",
   "metadata": {},
   "source": [
    "[Source for above illustration](https://blogs.oracle.com/linux/the-ksplice-pointer-challenge-v2)\n",
    "\n",
    "One common misunderstanding about array is that array is basically a pointer. That is not true. This has been explained in later sections but for now rememeber that, for array `x[]`, `x` merely represents the address of base element and that is what is printed in first line in above example. For this reason `x+1` prints the address of second element. \n",
    "\n",
    "As for `&x`, we should carefully note that this is actually about pointer. Just like integer or char pointers, we can also declare pointers for arrays like this -\n",
    "\n",
    "```c\n",
    "int x[5];     //array declaration\n",
    "int (*y)[5];  //declaration of pointer to array of 5 integer element\n",
    "int *z;\n",
    "y = &x;\n",
    "z = &x;\n",
    "```\n",
    "\n",
    "Now `y` is the pointer to array while `z` is pointer to first element of that array. Although both `y` and `z` has same value, the difference between them will be apparent if we try to print `y+1` and `z+1`. See following program -\n",
    "\n",
    "\n"
   ]
  },
  {
   "cell_type": "code",
   "execution_count": 36,
   "metadata": {},
   "outputs": [
    {
     "name": "stderr",
     "output_type": "stream",
     "text": [
      "/var/folders/d4/z0x5s3410lj8px16wr2m5y200000gp/T/tmplv2pv4cu.c:9:3: warning: incompatible pointer types assigning to 'int *' from 'int (*)[5]' [-Wincompatible-pointer-types]\n",
      "z = &x;\n",
      "  ^ ~~\n",
      "/var/folders/d4/z0x5s3410lj8px16wr2m5y200000gp/T/tmplv2pv4cu.c:10:15: warning: format specifies type 'int' but the argument has type 'int (*)[5]' [-Wformat]\n",
      "printf(\"%d\\n\",y);\n",
      "        ~~    ^\n",
      "/var/folders/d4/z0x5s3410lj8px16wr2m5y200000gp/T/tmplv2pv4cu.c:11:15: warning: format specifies type 'int' but the argument has type 'int (*)[5]' [-Wformat]\n",
      "printf(\"%d\\n\",y+1);\n",
      "        ~~    ^~~\n",
      "/var/folders/d4/z0x5s3410lj8px16wr2m5y200000gp/T/tmplv2pv4cu.c:12:15: warning: format specifies type 'int' but the argument has type 'int *' [-Wformat]\n",
      "printf(\"%d\\n\",z);\n",
      "        ~~    ^\n",
      "/var/folders/d4/z0x5s3410lj8px16wr2m5y200000gp/T/tmplv2pv4cu.c:13:16: warning: format specifies type 'int' but the argument has type 'int *' [-Wformat]\n",
      "printf(\"%d\\n\", z+1);\n",
      "        ~~     ^~~\n",
      "5 warnings generated.\n"
     ]
    },
    {
     "name": "stdout",
     "output_type": "stream",
     "text": [
      "-538691456\n",
      "-538691436\n",
      "-538691456\n",
      "-538691452\n"
     ]
    }
   ],
   "source": [
    "#include <stdio.h>\n",
    "\n",
    "int main()\n",
    "{\n",
    "int x[5];\n",
    "int (*y)[5];\n",
    "int *z;\n",
    "y = &x;\n",
    "z = &x;\n",
    "printf(\"%d\\n\",y);\n",
    "printf(\"%d\\n\",y+1);\n",
    "printf(\"%d\\n\",z);\n",
    "printf(\"%d\\n\", z+1);\n",
    "}"
   ]
  },
  {
   "cell_type": "markdown",
   "metadata": {},
   "source": [
    "### `a[n]` vs `n[a]` and `a[]` vs `pa[]`"
   ]
  },
  {
   "cell_type": "code",
   "execution_count": 22,
   "metadata": {},
   "outputs": [
    {
     "name": "stdout",
     "output_type": "stream",
     "text": [
      "2nd element in array is 1\n",
      "3rd element in array is 2\n",
      "4th element in array is 3\n",
      "pa and arr is 0x7ffee9262880, 0x7ffee9262880\n"
     ]
    }
   ],
   "source": [
    "#include <stdio.h>\n",
    "\n",
    "int main()\n",
    "{\n",
    "int arr[5] = {0,1,2,3,4};\n",
    "int *pa;\n",
    "pa = &arr[0];\n",
    "\n",
    "printf(\"2nd element in array is %d\\n\", arr[1]);    //nothing unusual here\n",
    "printf(\"3rd element in array is %d\\n\", 2[arr]);    //wait, what? what is this 2[arr] thing?\n",
    "printf(\"4th element in array is %d\\n\", pa[3]);     //but pa is a pointer?! How is pa[3] even valid?\n",
    "printf(\"pa and arr is %p, %p\\n\", pa, arr);         //pa and arr are equivalent\n",
    "}\n"
   ]
  },
  {
   "cell_type": "markdown",
   "metadata": {},
   "source": [
    "Look carefully at above program. The second `printf` function has something unusual. We provided `2[arr]` as argument to access third element of array. How is this possible? Also note that both `pa` pointer and array name `arr` are basically equivalent to each other. \n",
    "\n",
    "\n",
    "From **K&R** (chapter)-\n",
    "\n",
    "Suppose we write -\n",
    "   \n",
    " ```C\n",
    "int a[10];\n",
    "int *pa;\n",
    "pa = &a[0];\n",
    "```\n",
    "\n",
    "The correspondence between indexing and pointer arithmetic is very close. By definition, the value of a variable or expression of type array is the address of element zero of the array. Thus after the assignment\n",
    "\n",
    "```c\n",
    "pa = &a[0];\n",
    "```\n",
    "\n",
    "`pa` and `a` have identical values. Since the name of an array is a synonym for the location of the initial element, the assignment `pa=&a[0]` can also be written as\n",
    "\n",
    "```c\n",
    "pa = a;\n",
    "```\n",
    "\n",
    "Rather more surprising, at first sight, is the fact that a reference to `a[i]` can also be written as `*(a+i)`. In evaluating `a[i]`, C converts it to `*(a+i)` immediately; the two forms are equivalent. Applying the operator `&` to both parts of this equivalence, it follows that `&a[i]` and `a+i` are also identical: `a+i` is the address of the `i`-th element beyond `a`. As the other side of this coin, if `pa` is a pointer, expressions might use it with a subscript; `pa[i]` is identical to `*(pa+i)`. In short, an array-and-index expression is equivalent to one written as a pointer and offset.\n",
    "\n",
    "There is one difference between an array name and a pointer that must be kept in mind. A pointer is a variable, so `pa=a` and `pa++` are legal. But an array name is not a variable; constructions like `a=pa` and `a++` are illegal.\n",
    "\n",
    "---"
   ]
  },
  {
   "cell_type": "markdown",
   "metadata": {},
   "source": [
    "From [Wikipedia](https://en.wikipedia.org/wiki/C_%28programming_language%29)\n",
    "\n",
    "The subscript notation `x[i]` (where `x` designates a pointer) is syntactic sugar for `*(x+i)`. Taking advantage of the compiler's knowledge of the pointer type, the address that `x + i` points to is not the base address (pointed to by `x`) incremented by `i` bytes, but rather is defined to be the base address incremented by `i` multiplied by the size of an element that `x` points to. Thus, `x[i]` designates the `i+1`th element of the array.\n",
    "\n",
    "Furthermore, in most expression contexts (a notable exception is as operand of `sizeof`), the name of an array is automatically converted to a pointer to the array's first element. This implies that an array is never copied as a whole when named as an argument to a function, but rather only the address of its first element is passed. Therefore, although function calls in C use pass-by-value semantics, arrays are in effect passed by reference. \n",
    "\n",
    "Thus, despite this apparent equivalence between array and pointer variables, there is still a distinction to be made between them. Even though the name of an array is, in most expression contexts, converted into a pointer (to its first element), this pointer does not itself occupy any storage; the array name is not an l-value, and its address is a constant, unlike a pointer variable. Consequently, what an array \"points to\" cannot be changed, and it is impossible to assign a new address to an array name.\n",
    "\n",
    "---"
   ]
  },
  {
   "cell_type": "markdown",
   "metadata": {},
   "source": [
    "From SO question [Is an array name a pointer?](https://stackoverflow.com/questions/1641957/is-an-array-name-a-pointer)-\n",
    "\n",
    "An array is an array and a pointer is a pointer, but in most cases array names are converted to pointers. A term often used is that they decay to pointers.\n",
    "\n",
    "Here is an array:\n",
    "```c\n",
    "int a[7];\n",
    "```\n",
    "`a` contains space for seven integers, and you can put a value in one of them with an assignment, like this:\n",
    "\n",
    "```c\n",
    "a[3] = 9;\n",
    "```\n",
    "Here is a pointer:\n",
    "```c\n",
    "int *p;\n",
    "```\n",
    "`p` doesn't contain any spaces for integers, but it can point to a space for an integer. We can, for example, set it to point to one of the places in the array `a`, such as the first one:\n",
    "```c\n",
    "p = &a[0];\n",
    "```\n",
    "What can be confusing is that you can also write this:\n",
    "\n",
    "```c\n",
    "p = a;\n",
    "```\n",
    "\n",
    "This does not copy the contents of the array a into the pointer `p` (whatever that would mean). Instead, the array name `a` is converted to a pointer to its first element. So that assignment does the same as the previous one.\n",
    "\n",
    "Now you can use `p` in a similar way to an array:\n",
    "\n",
    "```c\n",
    "p[3] = 17;\n",
    "```\n",
    "\n",
    "The reason that this works is that the array dereferencing operator in C, `[ ]`, is defined in terms of pointers. `x[y]` means: start with the pointer `x`, step `y` elements forward after what the pointer points to, and then take whatever is there. Using pointer arithmetic syntax, `x[y]` can also be written as `*(x+y)`.\n",
    "\n",
    "For this to work with a normal array, such as our `a`, the name `a` in `a[3]` must first be converted to a pointer (to the first element in `a`). Then we step 3 elements forward, and take whatever is there. In other words: take the element at position 3 in the array. (Which is the fourth element in the array, since the first one is numbered 0.)\n",
    "\n",
    "So, in summary, array names in a C program are (in most cases) converted to pointers. One exception is when we use the sizeof operator on an array. If a was converted to a pointer in this context, `sizeof a` would give the size of a pointer and not of the actual array, which would be rather useless, so in that case `a` means the array itself.\n",
    "\n",
    "---\n",
    "\n",
    "\n",
    "\n",
    "\n",
    "\n",
    "\n",
    "\n",
    "\n",
    "\n",
    "\n"
   ]
  },
  {
   "cell_type": "code",
   "execution_count": 23,
   "metadata": {},
   "outputs": [
    {
     "name": "stdout",
     "output_type": "stream",
     "text": [
      "13"
     ]
    }
   ],
   "source": [
    "#include <stdio.h>\n",
    "\n",
    "int main()\n",
    "\n",
    "{\n",
    "int intArray[6];\n",
    "int *intPtr;\n",
    "int i;\n",
    "\n",
    "intPtr = &i;\n",
    "   \n",
    "intArray[3] = 13;  //ok\n",
    "intPtr[0] = 12;    // odd, but ok. Changes i.\n",
    "intPtr[3] = 13;    // BAD! There is no integer reserved here!\n",
    "\n",
    "printf(\"%d\", intPtr[3]);\n",
    "}"
   ]
  },
  {
   "cell_type": "markdown",
   "metadata": {},
   "source": [
    "One effect of the C array scheme is that the compiler does not distinguish meaningfully between arrays and pointers-- they both just look like pointers. In the above example, the value of `intArray` is a pointer to the first element in the array so it's an `(int*)`. The value of the variable `intPtr` is also (`int*`) and it is set to point to a single integer `i`. So what's the difference between `intArray` and `intPtr`? Not much as far as the compiler is concerned. They are both just (`int*`) pointers, and the compiler is perfectly happy to apply the `[]` or `+` syntax to either. It's the programmer's responsibility to ensure that the elements referred to by a `[]` or `+` operation really are there. Really its' just the same old rule that C doesn't do any bounds checking. C thinks of the single integer `i` as just a sort of degenerate array of size 1."
   ]
  },
  {
   "cell_type": "markdown",
   "metadata": {},
   "source": [
    "<img src=\"images/arr.png\" width=\"400\" height=\"5000\"/>"
   ]
  },
  {
   "cell_type": "code",
   "execution_count": 25,
   "metadata": {},
   "outputs": [
    {
     "name": "stdout",
     "output_type": "stream",
     "text": [
      "0x7ffee537e88e\n",
      "a\n",
      "0x7ffee537e88f\n",
      "b\n",
      "0x7ffee537e890\n",
      "(\n",
      "0x7ffee537e890\n"
     ]
    }
   ],
   "source": [
    "#include <stdio.h>\n",
    "int main()\n",
    "{\n",
    "    char b[10];\n",
    "    char *p,*q,*r;\n",
    "    p = &b[0];\n",
    "    q = &b[1];\n",
    "    r = &b[2];\n",
    "\n",
    "    b[0] = 'a';\n",
    "    b[1] = 'b';\n",
    "    \n",
    "    //printf(\"%s\\n\", b); \n",
    "    printf(\"%p\\n\", p);     //address of first element\n",
    "    printf(\"%c\\n\", *p);    //value of first element\n",
    "    printf(\"%p\\n\", q);     //address of second element\n",
    "    printf(\"%c\\n\", *q);    //value of second element\n",
    "    printf(\"%p\\n\",++q);    //address of third element\n",
    "    printf(\"%c\\n\", *r);    //value of third element\n",
    "    printf(\"%p\\n\", r);     //address third element\n",
    "\n",
    "    return 0;    \n",
    "}"
   ]
  },
  {
   "cell_type": "markdown",
   "metadata": {},
   "source": [
    "Notice how pointer variable values got incremented when array is of int type. If variables were of char type then, they would have been incremented by 1 byte.\n"
   ]
  },
  {
   "cell_type": "markdown",
   "metadata": {},
   "source": [
    "### Strings"
   ]
  },
  {
   "cell_type": "markdown",
   "metadata": {},
   "source": [
    "Conceptually, a string is an array of characters (type `char`). In C, string variables can be of any length. However, the length of the string is determined by the first occurence of `\\0` (null character) in the string. Even though string variable might be 32,000 characters long, if null character appears at position 5 (assuming 0 based counting), then length of string would be 5. In C, all strings end with this null character. "
   ]
  },
  {
   "cell_type": "markdown",
   "metadata": {},
   "source": [
    "### Initializeing Strings\n",
    "\n",
    "There are three main ways to initialize string variables - "
   ]
  },
  {
   "cell_type": "code",
   "execution_count": 75,
   "metadata": {},
   "outputs": [
    {
     "name": "stdout",
     "output_type": "stream",
     "text": [
      "foobar\n",
      "samwise\n",
      "bazbaz\n"
     ]
    }
   ],
   "source": [
    "#include <stdio.h>\n",
    "#include <string.h>\n",
    "\n",
    "int main(void)\n",
    "\n",
    "{\n",
    "char *s1 = \"foobar\\n\";      //1st way\n",
    "printf(\"%s\", s1);\n",
    "\n",
    "char s2[] = \"samwise\\n\";    //2nd way, no need to mention array size\n",
    "printf(\"%s\",s2);\n",
    "\n",
    "char s3[30];\n",
    "strcpy(s3, \"bazbaz\\n\");   //string constant copy. We can't assign values to character array. Read below sections\n",
    "printf(\"%s\",s3);\n",
    "\n",
    "return 0;\n",
    "}"
   ]
  },
  {
   "cell_type": "markdown",
   "metadata": {},
   "source": [
    "### Difference between `char *s =\"foobar\"` and `char s[] =\"foobar\"`\n",
    "\n",
    "In case of `char *s = \"foobar\"`, `\"foobar\"` will be placed in the read-only parts of the memory, and making `s` a pointer to that makes any writing operation on this memory illegal. This means `\"foobar\"` behaves as a constant string. A string literal is constant on most platforms hence it can't be edited. This behaves like `const char *s`. [Source SO Post](https://stackoverflow.com/questions/1704407/what-is-the-difference-between-char-s-and-char-s)"
   ]
  },
  {
   "cell_type": "code",
   "execution_count": 47,
   "metadata": {},
   "outputs": [
    {
     "name": "stdout",
     "output_type": "stream",
     "text": [
      "Address of first character - 0x10680ff52\n",
      "Address pointed by s - 0x10680ff52\n",
      "Address of s - 0x7ffee9404898\n",
      "foobar\n",
      "b\n"
     ]
    },
    {
     "name": "stderr",
     "output_type": "stream",
     "text": [
      "[C kernel] Executable exited with code -10"
     ]
    }
   ],
   "source": [
    "#include <stdio.h>\n",
    "\n",
    "int main()\n",
    "{\n",
    "char *s = \"foobar\";\n",
    "\n",
    "printf(\"Address of first character - %p\\n\",&s[0]);\n",
    "printf(\"Address pointed by s - %p\\n\",s);\n",
    "printf(\"Address of s - %p\\n\", &s);          //unlike array, this is different from s in above line\n",
    "printf(\"%s\\n\",s);\n",
    "printf(\"%c\\n\", s[3]);\n",
    "s[3] = 'z';              //illegal\n",
    "}"
   ]
  },
  {
   "cell_type": "markdown",
   "metadata": {},
   "source": [
    "On the other hand, `char s[] = \"foobar\"` puts the literal string in read-only memory and copies the string to newly allocated memory on the stack. Thus making `s[3] = 'z'` operation legal.\n",
    "\n",
    "However, as shown in later examples, you cannot assign values to array. This means, you can't do something like -\n",
    "\n",
    "```c\n",
    "char s[10];\n",
    "s = \"foobar\";\n",
    "```\n",
    "\n",
    "The key thing to understand is that initialization happens at compile time while assignment happens at runtime. Compiler can't allocate the memory for array if it is not initialized. Once initialized, we can definitely edit the string. \n",
    "\n",
    "For further insights and discussions, I posted about this on SO and Reddit. "
   ]
  },
  {
   "cell_type": "code",
   "execution_count": 48,
   "metadata": {},
   "outputs": [
    {
     "name": "stdout",
     "output_type": "stream",
     "text": [
      "Address of first character - 0x7ffeed7d488e\n",
      "Address of array s - 0x7ffeed7d488e\n",
      "0x7ffeed7d488e\n",
      "foobar\n",
      "b\n",
      "foozar\n"
     ]
    }
   ],
   "source": [
    "#include <stdio.h>\n",
    "\n",
    "int main()\n",
    "{\n",
    "char s[10] = \"foobar\";\n",
    "\n",
    "printf(\"Address of first character - %p\\n\",&s[0]);\n",
    "printf(\"Address of array s - %p\\n\",s);\n",
    "printf(\"%p\\n\", &s);                      //same as s in above line\n",
    "printf(\"%s\\n\",s);\n",
    "printf(\"%c\\n\", s[3]);\n",
    "s[3] = 'z';                //legal\n",
    "printf(\"%s\\n\", s);\n",
    "}"
   ]
  },
  {
   "cell_type": "markdown",
   "metadata": {},
   "source": [
    "**Note** - \n",
    "\n",
    "As formal parameters in a function definition, `char s[]` and `char *s` are equivalent; we prefer the latter because it says more explicitly that the variable is a pointer."
   ]
  },
  {
   "cell_type": "code",
   "execution_count": 62,
   "metadata": {},
   "outputs": [
    {
     "name": "stdout",
     "output_type": "stream",
     "text": [
      "foobar"
     ]
    }
   ],
   "source": [
    "#include <stdio.h>\n",
    "\n",
    "int main(void)\n",
    "{\n",
    "char *s;\n",
    "s = \"foobar\";\n",
    "printf(\"%s\",s);\n",
    "}"
   ]
  },
  {
   "cell_type": "code",
   "execution_count": 63,
   "metadata": {},
   "outputs": [
    {
     "name": "stdout",
     "output_type": "stream",
     "text": [
      "foobar"
     ]
    },
    {
     "name": "stderr",
     "output_type": "stream",
     "text": [
      "[C kernel] Executable exited with code -10"
     ]
    }
   ],
   "source": [
    "#include <stdio.h>\n",
    "\n",
    "int main(void)\n",
    "{\n",
    "char *s;\n",
    "s = \"foobar\";\n",
    "printf(\"%s\", s);\n",
    "s[1] = 'z';\n",
    "printf(\"%s\",s);\n",
    "}"
   ]
  },
  {
   "cell_type": "code",
   "execution_count": 64,
   "metadata": {},
   "outputs": [
    {
     "name": "stdout",
     "output_type": "stream",
     "text": [
      "foobar\n",
      "fzobar"
     ]
    }
   ],
   "source": [
    "#include <stdio.h>\n",
    "\n",
    "int main(void)\n",
    "{\n",
    "char s[10] = \"foobar\";\n",
    "printf(\"%s\\n\",s);\n",
    "s[1] = 'z';\n",
    "printf(\"%s\",s);\n",
    "}"
   ]
  },
  {
   "cell_type": "code",
   "execution_count": 52,
   "metadata": {},
   "outputs": [
    {
     "name": "stderr",
     "output_type": "stream",
     "text": [
      "/var/folders/d4/z0x5s3410lj8px16wr2m5y200000gp/T/tmp32hn895p.c:6:3: error: array type 'char [10]' is not assignable\n",
      "s = \"foobar\"\n",
      "~ ^\n",
      "1 error generated.\n",
      "[C kernel] GCC exited with code 1, the executable will not be executed"
     ]
    }
   ],
   "source": [
    "#include <stdio.h>\n",
    "\n",
    "int main(void)\n",
    "{\n",
    "char s[10];\n",
    "s = \"foobar\"\n",
    "printf(\"%s\\n\",s);\n",
    "s[1] = 'z';\n",
    "printf(\"%s\",s);\n",
    "}"
   ]
  },
  {
   "cell_type": "markdown",
   "metadata": {},
   "source": [
    "Althogh we can't modify the string constant assigned to `char *s`, we can do something like this -"
   ]
  },
  {
   "cell_type": "code",
   "execution_count": 22,
   "metadata": {},
   "outputs": [
    {
     "name": "stdout",
     "output_type": "stream",
     "text": [
      "xyobar"
     ]
    }
   ],
   "source": [
    "#include <stdio.h>\n",
    "\n",
    "int main(void)\n",
    "{\n",
    "char s[] = \"foobar\";\n",
    "char *a = s;          //now we can modify a\n",
    "\n",
    "s[0] = 'x';\n",
    "a[1] = 'y';\n",
    "printf(\"%s\", s);\n",
    "}"
   ]
  },
  {
   "cell_type": "markdown",
   "metadata": {},
   "source": [
    "### String Arrays\n",
    "\n",
    "Suppose we want to print out a screenful of text instead of a single line. We could use one long character array, interspersed with `\\n`, where we want lines to break. But it is far more easier to use string arrays (as against to character arrays which we encountered so far). String array is an array of strings which themselves are array of characters. \n",
    "\n",
    "Before we write a such a program, note that we are going to declare string array like this - \n",
    "\n",
    "```c\n",
    "char * str_arr[] = {\"...\",\"....\",\"....\",};\n",
    "```\n",
    "\n",
    "So far we have seen declarations like `char *s = \"somestring\"` or `char s[] = \"somestring\"`. But what about `char * s[] = {....}`? This seems to be a mix of declaration we have seen earlier. \n",
    "\n",
    "The declaration `char * s[]` means `s` is array of pointers to `char`. That is, each element of array `s` is essentially a pointer to character string. Put another way, `s[0]` will have something like `char *s` instead of a character as its element. By the way, declaration in C can really get quite messy. When in doubt, use [cdecl](cdecl.org) to see what some declaration means. "
   ]
  },
  {
   "cell_type": "code",
   "execution_count": 67,
   "metadata": {},
   "outputs": [
    {
     "name": "stdout",
     "output_type": "stream",
     "text": [
      "------------------------------------\n",
      "|          ++Menu++                |\n",
      "|                                  |\n",
      "|          (0) Edit                |\n",
      "|          (1) Save                |\n",
      "|          (2) Find                |\n",
      "|          (q) Quit                |\n",
      "|                                  |\n",
      "------------------------------------\n"
     ]
    }
   ],
   "source": [
    "#include <stdio.h>\n",
    "\n",
    "char *menu[] = \n",
    "{\n",
    "    \"------------------------------------\",\n",
    "    \"|          ++Menu++                |\",\n",
    "    \"|                                  |\",\n",
    "    \"|          (0) Edit                |\",\n",
    "    \"|          (1) Save                |\",\n",
    "    \"|          (2) Find                |\",\n",
    "    \"|          (q) Quit                |\",\n",
    "    \"|                                  |\",\n",
    "    \"------------------------------------\",\n",
    "};\n",
    "\n",
    "int main(void)\n",
    "{\n",
    "    int line_num;\n",
    "    for (line_num = 0; line_num < 9; line_num++)\n",
    "    {printf(\"%s\\n\", menu[line_num]);}\n",
    "    return 0;\n",
    "}"
   ]
  },
  {
   "cell_type": "code",
   "execution_count": null,
   "metadata": {},
   "outputs": [],
   "source": [
    "#include <stdio.h>\n",
    "\n",
    "int main(void)\n",
    "\n",
    "{\n",
    "char *source = \"Copy me!\";\n",
    "char dest[20];           /* we'll copy that string into here */\n",
    "char *sp;               /* source pointer */\n",
    "char *dp;               /* destination pointer */\n",
    "\n",
    "for(sp = source, dp = dest; *sp != '\\0'; sp++, dp++) \n",
    "{\n",
    "*dp = *sp;\n",
    "}\n",
    "\n",
    "printf(\"%s\\n\", dest);   /* prints \"Copy me!\" */\n",
    "}"
   ]
  },
  {
   "cell_type": "markdown",
   "metadata": {},
   "source": [
    "***\n",
    "\n",
    "##### String\n",
    "\n",
    "This part is from **Think OS** book. \n",
    "\n",
    "First, remember that C strings are null-terminated. When you allocate space for a string, don’t forget the extra byte at the end.\n",
    "\n",
    "Also, the letters and numbers in C strings are encoded in ASCII. The ASCII codes for the digits “0” through “9” are 48 through 57, not 0 through 9. The ASCII code 0 is the NUL character that marks the end of a string. And the  ASCII codes 1 through 9 are special characters used in some communication protocols. ASCII code 7 is a bell; on some terminals, printing it makes a sound.\n",
    "\n",
    "The ASCII code for the letter “A” is 65; the code for “a” is 97. Here are those codes in binary:\n",
    "```\n",
    "65 = b0100 0001\n",
    "97 = b0110 0001\n",
    "```\n",
    "A careful observer will notice that they differ by a single bit. And this pattern holds for the rest of the letters; the sixth bit (counting from the right) acts as a “case bit”, 0 for upper-case letters and 1 for lower case letters. As an exercise, write a function that takes a string and converts from lowercase to upper-case by flipping the sixth bit. As a challenge, you can make a faster version by reading the string 32 or 64 bits at a time, rather than one character at a time. This optimization is made easier if the length of the string is a multiple of 4 or 8 bytes. If you read past the end of a string, you are likely to see strange characters. Conversely, if you write a string and then accidentally read it as an int or float, the results will be hard to interpret. For example, if you run:\n",
    "\n",
    "```\n",
    "char array[] = \"allen\";\n",
    "float *p = array;\n",
    "printf(\"%f\\n\", *p);\n",
    "```\n",
    "You will find that the ASCII representation of the first 8 characters of my name, interpreted as a double-precision floating point number, is\n",
    "69779713878800585457664.\n",
    "\n"
   ]
  },
  {
   "cell_type": "markdown",
   "metadata": {},
   "source": [
    "#### Assigning values to character array from command prompt\n",
    "\n",
    "Although we can't assign value to a character array as we saw above, we can certainly assign the value through some external source. See below code. Nothing special about it. \n",
    "```\n",
    "#include <stdio.h>\n",
    "\n",
    "int main(void)\n",
    "{\n",
    "char s[66];\n",
    "scanf(\"%s\", s);\n",
    "printf(\"%s\\n\",s);   \n",
    "}\n",
    "```\n",
    "\n",
    "But there is a problem with above code. You can't provide the input which has space in it. For example, if you try to provide the input `foo bar`, it will only take `foo` as input. To work around this, we modify above code as shown below - "
   ]
  },
  {
   "cell_type": "code",
   "execution_count": null,
   "metadata": {},
   "outputs": [],
   "source": [
    "#include <stdio.h>\n",
    "\n",
    "int main(void)\n",
    "{\n",
    "char s[66];\n",
    "scanf(\"%[^\\n]s\", s);\n",
    "printf(\"%s\\n\",s);   \n",
    "}"
   ]
  }
 ],
 "metadata": {
  "kernelspec": {
   "display_name": "C",
   "language": "c",
   "name": "c"
  },
  "language_info": {
   "file_extension": ".c",
   "mimetype": "text/plain",
   "name": "c"
  }
 },
 "nbformat": 4,
 "nbformat_minor": 4
}
