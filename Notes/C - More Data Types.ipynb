{
 "cells": [
  {
   "cell_type": "markdown",
   "metadata": {},
   "source": [
    "### `enum`\n",
    "\n",
    "\n",
    "Enumeration (or enum) is a user defined data type in C. It is mainly used to assign names to integral constants, the names make a program easy to read and maintain.\n"
   ]
  },
  {
   "cell_type": "code",
   "execution_count": 7,
   "metadata": {},
   "outputs": [
    {
     "name": "stdout",
     "output_type": "stream",
     "text": [
      "Month is Mar"
     ]
    }
   ],
   "source": [
    "# include <stdio.h>\n",
    "\n",
    "int main(void)\n",
    "{\n",
    "enum MONTH {Jan = 0, Feb, Mar};\n",
    "enum MONTH month = Mar;\n",
    "\n",
    "if(month==0)\n",
    "printf(\"Value of Jan\");\n",
    "\n",
    "else if(month == 1)\n",
    "printf(\"Month is Feb\");\n",
    "\n",
    "else if(month == 2)\n",
    "printf(\"Month is Mar\");\n",
    "}"
   ]
  },
  {
   "cell_type": "code",
   "execution_count": 9,
   "metadata": {},
   "outputs": [
    {
     "name": "stdout",
     "output_type": "stream",
     "text": [
      "2"
     ]
    }
   ],
   "source": [
    "#include<stdio.h>\n",
    " \n",
    "enum week{Mon, Tue, Wed, Thur, Fri, Sat, Sun};\n",
    " \n",
    "int main()\n",
    "{\n",
    "    enum week day;\n",
    "    day = Wed;\n",
    "    printf(\"%d\",day);\n",
    "    return 0;\n",
    "} "
   ]
  },
  {
   "cell_type": "markdown",
   "metadata": {},
   "source": [
    "In the above example, we declared “day” as the variable and the value of “Wed” is allocated to day, which is 2. So as a result, 2 is printed."
   ]
  },
  {
   "cell_type": "code",
   "execution_count": 10,
   "metadata": {},
   "outputs": [
    {
     "name": "stdout",
     "output_type": "stream",
     "text": [
      "0 1 2 3 4 5 6 7 8 9 10 11 "
     ]
    }
   ],
   "source": [
    "#include<stdio.h>\n",
    " \n",
    "enum year{Jan, Feb, Mar, Apr, May, Jun, Jul, \n",
    "          Aug, Sep, Oct, Nov, Dec};\n",
    " \n",
    "int main()\n",
    "{\n",
    "   int i;\n",
    "   for (i=Jan; i<=Dec; i++)      \n",
    "      printf(\"%d \", i);\n",
    "       \n",
    "   return 0;\n",
    "}\n"
   ]
  },
  {
   "cell_type": "markdown",
   "metadata": {},
   "source": [
    "### `struct`"
   ]
  },
  {
   "cell_type": "code",
   "execution_count": 11,
   "metadata": {},
   "outputs": [
    {
     "name": "stderr",
     "output_type": "stream",
     "text": [
      "/var/folders/d4/z0x5s3410lj8px16wr2m5y200000gp/T/tmpwdq22ti9.c:15:14: warning: format specifies type 'void *' but the argument has type 'struct test' [-Wformat]\n",
      "printf(\"%p\", *ptr);\n",
      "        ~~   ^~~~\n",
      "1 warning generated.\n"
     ]
    },
    {
     "name": "stdout",
     "output_type": "stream",
     "text": [
      "111\n",
      "112\n",
      "111\n",
      "112\n",
      "0x700000006f"
     ]
    }
   ],
   "source": [
    "#include <stdio.h>\n",
    "\n",
    "struct test {int x; int y;};\n",
    "\n",
    "int main(void)\n",
    "{\n",
    "struct test Test = {.x =111, .y = 112};   //notice the inilialization\n",
    "struct test *ptr = &Test;\n",
    "\n",
    "printf(\"%d\\n\", Test.x);\n",
    "printf(\"%d\\n\",Test.y);\n",
    "printf(\"%d\\n\", ptr->x);\n",
    "printf(\"%d\\n\", ptr->y);\n",
    "\n",
    "printf(\"%p\", *ptr);\n",
    "}"
   ]
  },
  {
   "cell_type": "code",
   "execution_count": 18,
   "metadata": {},
   "outputs": [
    {
     "name": "stderr",
     "output_type": "stream",
     "text": [
      "/var/folders/d4/z0x5s3410lj8px16wr2m5y200000gp/T/tmpp30prldl.c:16:20: warning: format specifies type 'int' but the argument has type 'struct xampl' [-Wformat]\n",
      "    printf(\"%d\\n\", *ptr);\n",
      "            ~~     ^~~~\n",
      "1 warning generated.\n"
     ]
    },
    {
     "name": "stdout",
     "output_type": "stream",
     "text": [
      "12\n",
      "12\n"
     ]
    }
   ],
   "source": [
    "#include <stdio.h>\n",
    "\n",
    "struct xampl {\n",
    "  int x;  \n",
    "};\n",
    "\n",
    "int main()\n",
    "{  \n",
    "    struct xampl structure;\n",
    "    struct xampl *ptr;\n",
    "\n",
    "    structure.x = 12;    \n",
    "    ptr = &structure; \n",
    "    \n",
    "    printf(\"%d\\n\", ptr->x );   \n",
    "    printf(\"%d\\n\", *ptr);\n",
    "    \n",
    "}"
   ]
  },
  {
   "cell_type": "markdown",
   "metadata": {},
   "source": [
    "In above example, we used `ptr->x`. This is kind of shorthand for `(*ptr).x` which is same as `structure.x`. So the rule is this: if you have a `struct`, use the dot operator; if you have a pointer to a `struct`, use the arrow operator (->)."
   ]
  },
  {
   "cell_type": "markdown",
   "metadata": {},
   "source": [
    "#### Passing `struct` pointer to function"
   ]
  },
  {
   "cell_type": "code",
   "execution_count": 13,
   "metadata": {},
   "outputs": [
    {
     "name": "stdout",
     "output_type": "stream",
     "text": [
      "leg count: 10\n",
      "eye count: 1\n"
     ]
    }
   ],
   "source": [
    "#include <stdio.h>\n",
    "\n",
    "struct mutantfrog {\n",
    "int num_legs;\n",
    "int num_eyes;\n",
    "};\n",
    "\n",
    "void build_beejs_frog(struct mutantfrog *f)\n",
    "{\n",
    "f->num_legs = 10;\n",
    "f->num_eyes = 1;\n",
    "}\n",
    "\n",
    "int main(void)\n",
    "{\n",
    "struct mutantfrog rudolph;\n",
    "build_beejs_frog(&rudolph); /* passing a pointer to the struct */\n",
    "\n",
    "printf(\"leg count: %d\\n\", rudolph.num_legs); \n",
    "printf(\"eye count: %d\\n\", rudolph.num_eyes);\n",
    "}\n"
   ]
  },
  {
   "cell_type": "code",
   "execution_count": 15,
   "metadata": {},
   "outputs": [
    {
     "name": "stdout",
     "output_type": "stream",
     "text": [
      "Name: John; Age: 30\n",
      "Name: John; Age: 25\n"
     ]
    }
   ],
   "source": [
    "#include <stdio.h>\n",
    "\n",
    "int main(void)\n",
    "{\n",
    "    typedef struct\n",
    "    {\n",
    "        char name[20];\n",
    "        char surname[20];\n",
    "        int unsigned age;\n",
    "    } person;\n",
    "\n",
    "    //Here i can pass strings as values...how does it works?\n",
    "    person p = {\"John\", \"Doe\", 30};\n",
    "\n",
    "    printf(\"Name: %s; Age: %d\\n\",p.name,p.age);\n",
    "    // This works as expected...\n",
    "    p.age = 25;\n",
    "    //...but the same approach doesn't work with a string\n",
    "    //p.name = \"Jane\";\n",
    "\n",
    "    printf(\"Name: %s; Age: %d\\n\",p.name,p.age);\n",
    "\n",
    "    return 0;\n",
    "}"
   ]
  },
  {
   "cell_type": "markdown",
   "metadata": {},
   "source": [
    "Above example was from SO. Need to put link here. "
   ]
  },
  {
   "cell_type": "markdown",
   "metadata": {},
   "source": [
    "#### `typedef`\n",
    "Above, we define a new type `struct xampl` and declare 2 variables `structure` and `*ptr` of this type. To save typing efforts, we could write this after declaring struct type –\n",
    "\n",
    "`typedef struct xample Foo`;\n",
    "`Foo structre, *ptr`;\n",
    "\n",
    "Now we can use `Foo` as a shorthand for `struct xample`. See below for illustration.\n",
    "Another interesting example - \n"
   ]
  },
  {
   "cell_type": "code",
   "execution_count": 16,
   "metadata": {},
   "outputs": [
    {
     "name": "stderr",
     "output_type": "stream",
     "text": [
      "/var/folders/d4/z0x5s3410lj8px16wr2m5y200000gp/T/tmpk6owhhvs.c:18:16: warning: format specifies type 'char *' but the argument has type 'Test' (aka 'struct test') [-Wformat]\n",
      "printf(\"%s\\n\", test1);              // this line crashes the program\n",
      "        ~~     ^~~~~\n",
      "1 warning generated.\n"
     ]
    },
    {
     "name": "stdout",
     "output_type": "stream",
     "text": [
      "a\n"
     ]
    },
    {
     "name": "stderr",
     "output_type": "stream",
     "text": [
      "[C kernel] Executable exited with code -11"
     ]
    }
   ],
   "source": [
    "#include<stdio.h>\n",
    "\n",
    "struct test{\n",
    "    int id;\n",
    "    char category;\n",
    "};\n",
    "\n",
    "typedef struct test Test;\n",
    "int main()\n",
    "{\n",
    "Test test1, test2;\n",
    "test1.id = 1;\n",
    "test1.category = 'a';\n",
    "test2.category = test1.category;\n",
    "test2.id = 2;\n",
    "\n",
    "printf(\"%c\\n\", test2.category);     \n",
    "printf(\"%s\\n\", test1);              // this line crashes the program\n",
    "}"
   ]
  },
  {
   "cell_type": "markdown",
   "metadata": {},
   "source": [
    "\n",
    "Remember there is no direct way to use `printf()` to print out `struct`. The above program gets compiled but crashes when run because of commented line. If we change `%s` to `%d`, the program runs but because we got lucky. The first element of struct is an integer and this is what is printed. In essence, this program is wrong because we can’t print `struct` and this program doesn’t complain & runs silently.  C is an unforgiving language. \n"
   ]
  },
  {
   "cell_type": "markdown",
   "metadata": {},
   "source": [
    "##### struct of arrays\n",
    "```\n",
    "struct fraction {\n",
    "    int numerator;\n",
    "    int denominator; };\n",
    "\n",
    "struct fraction f1, f2;            // declare two fractions\n",
    "f1.numerator = 22;\n",
    "f1.denominator = 7;\n",
    "f2 = f1;                           // this copies over the whole struct\n",
    "struct fraction numbers[1000];\n",
    "numbers[0].numerator = 22;         // set the 0th struct fraction\n",
    "numbers[0].denominator = 7;\n",
    "```\n",
    "Note – `struct fraction` is also a type like `int` or `char`, so we can always declare a pointer of this type – \n",
    "`struct fraction *f1, *f2`;\n"
   ]
  },
  {
   "cell_type": "code",
   "execution_count": 17,
   "metadata": {},
   "outputs": [
    {
     "name": "stdout",
     "output_type": "stream",
     "text": [
      "f1.numerator : 1\n",
      "address of f1 : 0x7ffee0f03890\n",
      "address of f1.num : 0x7ffee0f03890\n",
      "address of f1.den : 0x7ffee0f03894\n",
      "size of f1 : 8\n"
     ]
    }
   ],
   "source": [
    "/*see carefully how struct type and pointer works together.*/\n",
    "\n",
    "#include <stdio.h>\n",
    "\n",
    "int main(){\n",
    "    struct fraction {\n",
    "        int numerator;\n",
    "        int denominator;\n",
    "    };\n",
    "    struct fraction *f;\n",
    "    struct fraction f1;\n",
    "    f = &f1;\n",
    "    f1.numerator = 1;\n",
    "    f1.denominator = 3;\n",
    "\n",
    "    printf(\"f1.numerator : %d\\n\", f1.numerator);\n",
    "    printf(\"address of f1 : %p\\n\", f);\n",
    "    printf(\"address of f1.num : %p\\n\", &f1.numerator);\n",
    "    printf(\"address of f1.den : %p\\n\", &f1.denominator);\n",
    "    printf(\"size of f1 : %lu\\n\", sizeof(f1));\n",
    "}\n"
   ]
  },
  {
   "cell_type": "markdown",
   "metadata": {},
   "source": [
    "Note - Read this [SO](https://stackoverflow.com/questions/346536/difference-between-a-structure-and-a-union) link for difference between union and struct. "
   ]
  },
  {
   "cell_type": "code",
   "execution_count": 3,
   "metadata": {},
   "outputs": [
    {
     "name": "stdout",
     "output_type": "stream",
     "text": [
      "Hello (null)\n",
      "Goodbye\n",
      "0x10c387eb0, 0x10c387eb0, 0x10c387eb0\n"
     ]
    }
   ],
   "source": [
    "#include <stdio.h>\n",
    "\n",
    "struct greet_api {\n",
    "int (*say_hello)(char *name);\n",
    "int (*say_goodbye)(void); };\n",
    "\n",
    "/* Our implementation of the hello function */\n",
    "int say_hello_fn(char *name) {\n",
    "printf(\"Hello %s\\n\", name);\n",
    "return 0; }\n",
    "\n",
    "/* Our implementation of the goodbye function */\n",
    "int say_goodbye_fn(void) {\n",
    "printf(\"Goodbye\\n\");\n",
    "return 0; }\n",
    "\n",
    "/* A struct implementing the API */\n",
    "struct greet_api greet_api = {\n",
    " .say_hello = say_hello_fn,\n",
    " .say_goodbye = say_goodbye_fn\n",
    "};\n",
    "/* main() doesn't need to know anything about how the\n",
    " * say_hello/goodbye works, it just knows that it does */\n",
    "int main(int argc, char *argv[]) {\n",
    " greet_api.say_hello(argv[1]);\n",
    " greet_api.say_goodbye();\n",
    "printf(\"%p, %p, %p\\n\", greet_api.say_hello, say_hello_fn, &say_hello_fn);\n",
    "\n",
    "}"
   ]
  },
  {
   "cell_type": "code",
   "execution_count": null,
   "metadata": {},
   "outputs": [],
   "source": []
  }
 ],
 "metadata": {
  "kernelspec": {
   "display_name": "C",
   "language": "c",
   "name": "c"
  },
  "language_info": {
   "file_extension": ".c",
   "mimetype": "text/plain",
   "name": "c"
  }
 },
 "nbformat": 4,
 "nbformat_minor": 4
}
