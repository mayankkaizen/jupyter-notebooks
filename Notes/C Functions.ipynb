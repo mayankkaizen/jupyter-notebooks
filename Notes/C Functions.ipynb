{
 "cells": [
  {
   "cell_type": "markdown",
   "metadata": {},
   "source": [
    "#### Function\n",
    "\n",
    "A simple example first."
   ]
  },
  {
   "cell_type": "code",
   "execution_count": 2,
   "metadata": {},
   "outputs": [
    {
     "name": "stdout",
     "output_type": "stream",
     "text": [
      "result is 5\n"
     ]
    }
   ],
   "source": [
    "#include <stdio.h>   \n",
    "  \n",
    "static int add(int a, int b)                   //function declaration\n",
    "/*static means function can only be called in the same file where it is defined.*/\n",
    "{\n",
    "\tint c;                           //function definition\n",
    "\tc = a + b;\n",
    "\treturn c;\n",
    "};\n",
    "int main()\n",
    "{                               \n",
    "\tint x = 2; int y =  3; int res;\n",
    "\tres  = add(x,y);                 //function call\n",
    "\tprintf(\"result is %d\\n\", res);\n",
    "\treturn 0;\n",
    "}"
   ]
  },
  {
   "cell_type": "markdown",
   "metadata": {},
   "source": [
    "When you pass a value to a function, a copy of that value gets made in the stack.\n"
   ]
  },
  {
   "cell_type": "markdown",
   "metadata": {},
   "source": [
    "**\n",
    "#### Function Prototypes\n",
    "\n",
    "you have to define the function before you use it, otherwise the compiler wouldn't know about it ahead of time, and would bomb out with an error. This isn't quite strictly true. You can notify the compiler in advance that you'll be using a function of a certain type that has a certain parameter list and that way the function can be defined anywhere at all, as long as the function prototype has been declared first. Fortunately, the function prototype is really quite easy. It's merely a copy of the first line of the function definition with a semicolon tacked on the end for good measure. For example, this code calls a function that is defined later, because a prototype has been declared first:\n"
   ]
  },
  {
   "cell_type": "code",
   "execution_count": 4,
   "metadata": {},
   "outputs": [
    {
     "name": "stdout",
     "output_type": "stream",
     "text": [
      "result is 8\n"
     ]
    }
   ],
   "source": [
    "#include <stdio.h>   \n",
    "  \n",
    "static int add(int a, int b);                  //function prototype\n",
    "\n",
    "int main()\n",
    "{                               \n",
    "\tint x = 3, y = 5, res;\n",
    "    \n",
    "\tres  = add(x,y);                 //function call\n",
    "\tprintf(\"result is %d\\n\", res);\n",
    "\treturn 0;\n",
    "}\n",
    "\n",
    "static int add(int a, int b)                  //function declaration\n",
    "{\n",
    "\tint c;                           //function definition\n",
    "\tc = a + b;\n",
    "\treturn c;\n",
    "}"
   ]
  },
  {
   "cell_type": "markdown",
   "metadata": {},
   "source": [
    "#### How to call C functions in a program?\n",
    "\n",
    "There are two ways that a C function can be called from a program. They are,\n",
    "1.\tCall by value\n",
    "2.\tCall by reference\n",
    "\n",
    "##### Call by value:\n",
    "\n",
    " - In call by value method, the value of the variable is passed to the function as parameter.\n",
    " - The value of the actual parameter can not be modified by formal parameter.\n",
    " - Different Memory is allocated for both actual and formal parameters. Because, value of actual parameter is copied to formal parameter.\n",
    "\n",
    "Note:\n",
    "\n",
    " - Actual parameter – This is the argument which is used in function call.\n",
    " - Formal parameter – This is the argument which is used in function definition\n",
    "\n",
    "Example:\n",
    "\n",
    "\n"
   ]
  },
  {
   "cell_type": "code",
   "execution_count": 5,
   "metadata": {},
   "outputs": [
    {
     "name": "stdout",
     "output_type": "stream",
     "text": [
      "values before swap m = 22\n",
      " and n = 44\n",
      "values after swap m = 22\n",
      " and n = 44"
     ]
    }
   ],
   "source": [
    "#include<stdio.h>\n",
    "void swap(int a, int b)\n",
    "{\n",
    "\tint tmp;\n",
    "\ttmp = a;\n",
    "\ta = b;\n",
    "\tb = tmp;\n",
    "};\n",
    "\n",
    "int main()\n",
    "{\n",
    "\tint m = 22,  n = 44;\n",
    "\tprintf(\"values before swap m = %d\\n and n = %d\\n\",m,n);\n",
    "\tswap(m,n);\n",
    "\tprintf(\"values after swap m = %d\\n and n = %d\",m,n);\n",
    "}"
   ]
  },
  {
   "cell_type": "markdown",
   "metadata": {},
   "source": [
    "\n",
    " - In this program, the values of the variables “m” and “n” are passed to the function “swap”.\n",
    " - These values are copied to formal parameters “a” and “b” in swap function and used.\n",
    " - In reality, no swapping happened because values of ‘m’ and ‘n’ were copied to ‘a’ and ‘b’ and swapping happened to local copies of ‘a’ and ‘b’.\n",
    "\n",
    "##### Call by reference:\n",
    "\n",
    " - In call by reference method, the address of the variable is passed to the function as parameter.\n",
    " - The value of the actual parameter can be modified by formal parameter.\n",
    " - Same memory is used for both actual and formal parameters since only address is used by both parameters.\n",
    "\n",
    "**Example: -**\n",
    "\n",
    " - In this program, the address of the variables “m” and “n” are passed to the function “swap”.\n",
    " - These values are not copied to formal parameters “a” and “b” in swap function.\n",
    " - Because, they are just holding the address of those variables.\n",
    " - This address is used to access and change the values of the variables.\n"
   ]
  },
  {
   "cell_type": "code",
   "execution_count": 8,
   "metadata": {},
   "outputs": [
    {
     "name": "stdout",
     "output_type": "stream",
     "text": [
      "values before swap m = 22\n",
      " and n = 44\n",
      "values after swap m = 44\n",
      " and n = 22"
     ]
    }
   ],
   "source": [
    "#include<stdio.h>\n",
    "\n",
    "void swap(int *a, int *b)\n",
    "{\n",
    "\tint tmp;\n",
    "\ttmp = *a;\n",
    "\t*a = *b;\n",
    "\t*b = tmp;\n",
    "\t\n",
    "};\n",
    "\n",
    "int main()\n",
    "{\n",
    "\tint m = 22,  n = 44;\n",
    "\tprintf(\"values before swap m = %d\\n and n = %d\\n\",m,n);\n",
    "\tswap(&m,&n);\n",
    "      printf(\"values after swap m = %d\\n and n = %d\" ,m, n);\n",
    "}\n"
   ]
  },
  {
   "cell_type": "markdown",
   "metadata": {},
   "source": [
    "### Function Pointer in C"
   ]
  },
  {
   "cell_type": "code",
   "execution_count": 10,
   "metadata": {},
   "outputs": [
    {
     "name": "stdout",
     "output_type": "stream",
     "text": [
      "Value of a is 10\n"
     ]
    }
   ],
   "source": [
    "#include <stdio.h>\n",
    "\n",
    "void fun(int a)\n",
    "{\n",
    "printf(\"Value of a is %d\\n\", a);\n",
    "}\n",
    "\n",
    "int main(void)\n",
    "{\n",
    "void (*fun_ptr)(int) = &fun; //function pointer declaration \n",
    "/*\n",
    "The above line is equivalent of following\n",
    "void (*fun_ptr)(int); \n",
    "fun_ptr = &fun;\n",
    "*/\n",
    "\n",
    "(*fun_ptr)(10); //this is how we call fun() using fun_ptr\n",
    "\n",
    "return 0;\n",
    "}"
   ]
  },
  {
   "cell_type": "markdown",
   "metadata": {},
   "source": [
    "Note that we put an extra bracket around function pointer `fun_ptr` in above example because `void *fun_ptr(int)` is a declaration of a function which returns a pointer to void.\n",
    "\n",
    "**We don't need either `&` or `*` operator in case of function pointer**. Keeping this in mind, above program can be rewritten as below - \n",
    "\n",
    "\n",
    "\n",
    "\n"
   ]
  },
  {
   "cell_type": "code",
   "execution_count": 11,
   "metadata": {},
   "outputs": [
    {
     "name": "stdout",
     "output_type": "stream",
     "text": [
      "Value of a is 10\n"
     ]
    }
   ],
   "source": [
    "#include <stdio.h>\n",
    "\n",
    "void fun(int a)\n",
    "{\n",
    "printf(\"Value of a is %d\\n\", a);\n",
    "}\n",
    "\n",
    "int main(void)\n",
    "{\n",
    "void (*fun_ptr)(int) = fun; //& removed\n",
    "/*\n",
    "The above line is equivalent of following\n",
    "void (*fun_ptr)(int);\n",
    "fun_ptr = &fun;\n",
    "*/\n",
    "\n",
    "(fun_ptr)(10); // * removed\n",
    "\n",
    "return 0;\n",
    "}"
   ]
  },
  {
   "cell_type": "markdown",
   "metadata": {},
   "source": [
    "We can have an array of function pointers. Function pointer can be used in place of switch case. See following example - "
   ]
  },
  {
   "cell_type": "code",
   "execution_count": 14,
   "metadata": {},
   "outputs": [
    {
     "name": "stdout",
     "output_type": "stream",
     "text": [
      "AdditioN is 25\n",
      "Subtraction is 5\n",
      "Product is 150\n"
     ]
    }
   ],
   "source": [
    "#include <stdio.h>\n",
    "\n",
    "void add(int a, int b)\n",
    "{printf(\"AdditioN is %d\\n\", a+b);}\n",
    "\n",
    "void subtract(int a, int b)\n",
    "{printf(\"Subtraction is %d\\n\", a-b);}\n",
    "\n",
    "void product(int a, int b)\n",
    "{printf(\"Product is %d\\n\", a*b);}\n",
    "\n",
    "int main()\n",
    "{\n",
    "void (*fun_ptr_arr[])(int, int) = {add, subtract, product};\n",
    "unsigned int ch, a = 15, b =10;\n",
    "\n",
    "for(ch =0; ch < 3; ch++)\n",
    "{\n",
    "(*fun_ptr_arr[ch])(a,b);\n",
    "}\n",
    "\n",
    "return 0;\n",
    "}"
   ]
  },
  {
   "cell_type": "markdown",
   "metadata": {},
   "source": [
    "A function pointer can be passed as an argument and can also be returned from a function.\n",
    "\n",
    "\n",
    "\n",
    "\n",
    "\n"
   ]
  },
  {
   "cell_type": "code",
   "execution_count": 18,
   "metadata": {},
   "outputs": [
    {
     "name": "stdout",
     "output_type": "stream",
     "text": [
      "fun1\n",
      "fun2\n"
     ]
    }
   ],
   "source": [
    "#include <stdio.h>\n",
    "\n",
    "void fun1(){printf(\"fun1\\n\");}\n",
    "void fun2(){printf(\"fun2\\n\");}\n",
    "\n",
    "void wrapper(void (*fun)())\n",
    "{\n",
    "fun();\n",
    "}\n",
    "\n",
    "int main()\n",
    "{\n",
    "wrapper(fun1);\n",
    "wrapper(fun2);\n",
    "}"
   ]
  },
  {
   "cell_type": "markdown",
   "metadata": {},
   "source": [
    "Following is from [SO Post](https://stackoverflow.com/questions/840501/how-do-function-pointers-in-c-work)\n",
    "\n",
    "\n",
    "\n",
    "\n",
    "\n"
   ]
  },
  {
   "cell_type": "code",
   "execution_count": 19,
   "metadata": {},
   "outputs": [
    {
     "name": "stdout",
     "output_type": "stream",
     "text": [
      "5"
     ]
    }
   ],
   "source": [
    "#include <stdio.h>\n",
    "\n",
    "int addInt(int n, int m) \n",
    "{ return n+m;}\n",
    "\n",
    "\n",
    "int main(void)\n",
    "{\n",
    "int (*functionPtr)(int,int);  //defining a funcion pointer\n",
    "functionPtr = &addInt;\n",
    "int sum = (*functionPtr)(2, 3); // sum == 5, * can be omitted\n",
    "printf(\"%d\",sum);\n",
    "}"
   ]
  },
  {
   "cell_type": "markdown",
   "metadata": {},
   "source": [
    "Function pointer can also be passed to another function - "
   ]
  },
  {
   "cell_type": "code",
   "execution_count": 20,
   "metadata": {},
   "outputs": [
    {
     "name": "stdout",
     "output_type": "stream",
     "text": [
      "5"
     ]
    }
   ],
   "source": [
    "#include <stdio.h>\n",
    "\n",
    "int addInt(int n, int m) \n",
    "{ return n+m;}\n",
    "\n",
    "int add2to3(int (*functionPtr)(int, int)) {\n",
    "    return (*functionPtr)(2, 3);\n",
    "}\n",
    "\n",
    "int main(void)\n",
    "{\n",
    "int (*functionPtr)(int,int);  //defining a funcion pointer\n",
    "functionPtr = &addInt;\n",
    "\n",
    "int sum = add2to3(functionPtr);\n",
    "printf(\"%d\",sum);\n",
    "}"
   ]
  },
  {
   "cell_type": "code",
   "execution_count": null,
   "metadata": {},
   "outputs": [],
   "source": []
  }
 ],
 "metadata": {
  "kernelspec": {
   "display_name": "C",
   "language": "c",
   "name": "c"
  },
  "language_info": {
   "file_extension": ".c",
   "mimetype": "text/plain",
   "name": "c"
  }
 },
 "nbformat": 4,
 "nbformat_minor": 4
}
