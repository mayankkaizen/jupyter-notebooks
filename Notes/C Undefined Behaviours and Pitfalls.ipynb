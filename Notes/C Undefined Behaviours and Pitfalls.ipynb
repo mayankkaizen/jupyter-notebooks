{
 "cells": [
  {
   "cell_type": "markdown",
   "metadata": {},
   "source": [
    "##### Dereferencing a pointer to variable beyond its lifetime is UB."
   ]
  },
  {
   "cell_type": "code",
   "execution_count": 11,
   "metadata": {},
   "outputs": [
    {
     "name": "stderr",
     "output_type": "stream",
     "text": [
      "/var/folders/d4/z0x5s3410lj8px16wr2m5y200000gp/T/tmp8c61zxo5.c:7:9: warning: address of stack memory associated with local variable 'baz' returned [-Wreturn-stack-address]\n",
      "return &baz; /* (&baz) copied to new memory location outside of foo. */\n",
      "        ^~~\n",
      "1 warning generated.\n"
     ]
    }
   ],
   "source": [
    "#include <stdio.h>\n",
    "\n",
    "int* foo(int bar)\n",
    "{\n",
    "int baz = 6;\n",
    "baz += bar;\n",
    "return &baz; /* (&baz) copied to new memory location outside of foo. */\n",
    "} /* (1) The lifetime of baz and bar end here as they have automatic storage * duration (local variables), thus the returned pointer is not valid! */\n",
    "\n",
    "int main (void)\n",
    "{\n",
    "int* p;\n",
    "p = foo(5); /* (2) this expression's behavior is undefined */\n",
    "*p = *p - 6; /* (3) Undefined behaviour here */ return 0;\n",
    "}"
   ]
  },
  {
   "cell_type": "markdown",
   "metadata": {},
   "source": [
    "##### Signed Integer Overflow"
   ]
  },
  {
   "cell_type": "code",
   "execution_count": 16,
   "metadata": {},
   "outputs": [
    {
     "name": "stderr",
     "output_type": "stream",
     "text": [
      "/var/folders/d4/z0x5s3410lj8px16wr2m5y200000gp/T/tmpum02km6y.c:7:22: warning: overflow in expression; result is -2147483648 with type 'int' [-Winteger-overflow]\n",
      "printf(\"%d\\n\",INT_MAX+1);\n",
      "                     ^\n",
      "1 warning generated.\n"
     ]
    },
    {
     "name": "stdout",
     "output_type": "stream",
     "text": [
      "2147483647,-2147483648\n",
      "-2147483648\n"
     ]
    }
   ],
   "source": [
    "#include <stdio.h>\n",
    "#include <limits.h>\n",
    "\n",
    "int main(void)\n",
    "{\n",
    "printf(\"%d,%d\\n\",INT_MAX, INT_MIN);\n",
    "printf(\"%d\\n\",INT_MAX+1);\n",
    "}"
   ]
  },
  {
   "cell_type": "markdown",
   "metadata": {},
   "source": [
    "##### Using uninitialized variable is UB. "
   ]
  },
  {
   "cell_type": "code",
   "execution_count": 26,
   "metadata": {},
   "outputs": [
    {
     "name": "stdout",
     "output_type": "stream",
     "text": [
      "32767\n",
      "32812\n"
     ]
    }
   ],
   "source": [
    "#include <stdio.h>\n",
    "\n",
    "int main(void) {\n",
    "    int i, counter;\n",
    "    printf(\"%d\\n\", counter);\n",
    "    for(i = 0; i < 10; ++i)\n",
    "        counter += i;\n",
    "printf(\"%d\\n\", counter);\n",
    "return 0; }"
   ]
  },
  {
   "cell_type": "markdown",
   "metadata": {},
   "source": [
    "##### Increment operator\n"
   ]
  },
  {
   "cell_type": "code",
   "execution_count": 27,
   "metadata": {},
   "outputs": [
    {
     "name": "stderr",
     "output_type": "stream",
     "text": [
      "/var/folders/d4/z0x5s3410lj8px16wr2m5y200000gp/T/tmpnheg4rb9.c:5:6: warning: multiple unsequenced modifications to 'i' [-Wunsequenced]\n",
      "i = i++; /* Assignment changes variable, post-increment as well */ \n",
      "  ~  ^\n",
      "/var/folders/d4/z0x5s3410lj8px16wr2m5y200000gp/T/tmpnheg4rb9.c:6:10: warning: multiple unsequenced modifications to 'i' [-Wunsequenced]\n",
      "int a = i++ + i--;\n",
      "         ^     ~~\n",
      "2 warnings generated.\n"
     ]
    },
    {
     "name": "stdout",
     "output_type": "stream",
     "text": [
      "42"
     ]
    }
   ],
   "source": [
    "#include <stdio.h>\n",
    "\n",
    "int main(void)\n",
    "{int i = 42;\n",
    "i = i++; /* Assignment changes variable, post-increment as well */ \n",
    "int a = i++ + i--;\n",
    "printf(\"%d\",i);\n",
    "}\n",
    "\n"
   ]
  },
  {
   "cell_type": "markdown",
   "metadata": {},
   "source": [
    "#### Conversion of `signed int` into `unsigned int`"
   ]
  },
  {
   "cell_type": "code",
   "execution_count": 28,
   "metadata": {},
   "outputs": [
    {
     "name": "stdout",
     "output_type": "stream",
     "text": [
      "a is less than or equal to b\n"
     ]
    }
   ],
   "source": [
    "#include <stdio.h>\n",
    "int main(void)\n",
    "{\n",
    "\tunsigned int a = 1000;\n",
    "\tsigned int b = -1;\n",
    "\t\n",
    "\tif(a>b) puts(\"a is more than b\");\n",
    "\telse puts(\"a is less than or equal to b\");\n",
    "\t\n",
    "\treturn 0;\n",
    "}"
   ]
  },
  {
   "cell_type": "markdown",
   "metadata": {},
   "source": [
    "Since 1000 is more than -1 you would expect the output to be `a is more than b`, however that will not be the case. Arithmetic operations between different integral types are performed within a common type defined by the so called usual arithmetic conversions (see the language specification, 6.3.1.8). In this case the \"common type\" is `unsigned int`, Because, as stated in Usual arithmetic conversions,\n",
    "\n",
    ">714- *Otherwise, if the operand that has unsigned integer type has rank greater or equal to the rank of the type of the other operand, then the operand with signed integer type is converted to the type of the operand with unsigned integer type.*\n",
    "\n",
    "This means that `int operand b` will get converted to `unsigned int` before the comparison. When -1 is converted to an `unsigned int` the result is the maximal possible `unsigned int` value, which is greater than 1000, meaning that `a > b` is false.\n"
   ]
  },
  {
   "cell_type": "markdown",
   "metadata": {},
   "source": [
    "From the book, \"C Programming - A Modern Approach\" -\n",
    "\n",
    "> When a signed operand is combined with an unsigned operand, the signed operand is converted to an unsigned value. The conversion involves adding or subtracting a multiple of n+1, where n is the largest representable value of unsigned type. This rule can cause obsucre programming errors. \n",
    "> Suppose that the `int` variable `i` has the value -10 and `unsigned int` variable `u` has the value 10. If we compare `i` and `u` using the < operator, we might expect the result 1 (True). Before the comparison, however, `i` is converted to `unsigned int`. Since a negative number can't be represented as an unsigned integer, the converted value won't be -10. Instead, the value 4,294,967,296 is added (assuming that 4,294,967,295 is the largest  `unsigned int` value), giving the converted value of 4,294,967,286. The comparison `i < u` will therefore produce 0. \n",
    "\n"
   ]
  },
  {
   "cell_type": "code",
   "execution_count": null,
   "metadata": {},
   "outputs": [],
   "source": []
  }
 ],
 "metadata": {
  "kernelspec": {
   "display_name": "C",
   "language": "c",
   "name": "c"
  },
  "language_info": {
   "file_extension": ".c",
   "mimetype": "text/plain",
   "name": "c"
  }
 },
 "nbformat": 4,
 "nbformat_minor": 4
}
