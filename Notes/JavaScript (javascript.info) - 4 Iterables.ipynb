{
 "cells": [
  {
   "cell_type": "markdown",
   "metadata": {},
   "source": [
    "### Iterables\n",
    "\n",
    "Arrays are iterable. But there are many other built-in objects, that are iterable as well. For instance, strings are iterable also. If an object represents a collection (list, set) of something, the `for .. of` is a great syntax to loop over it, so we'll see how to make it work.\n",
    "\n",
    "#### `Symbol.iterator`\n",
    "\n",
    "Suppose we have an object, that is not an array, but looks suitable for `for .. of`. Like a `range` object that represents an interval of numbers - \n",
    "\n",
    "```js\n",
    "let range = {\n",
    "from : 1\n",
    "to : 5\n",
    "};\n",
    "```\n",
    "To make the `range` iterable, we need to add a method to the object named `Symbol.iterator` (a special built-in symbol just for that).\n",
    "\n",
    " - When `for ..  of` starts, it calls that method once. The method must return an iterator - an object with the method `next`.\n",
    " - Onward, `for .. of` works only with that returned object. \n",
    " - When `for .. of` wants the next value, it calls `next()` on that object.\n",
    " - The result of `next()` must have the form `{done: Boolean, value: any}`, where `done = true` means that iteration is finished, otherwise `value` must be the new value.\n",
    " \n",
    "See below for implementation for `range` -"
   ]
  },
  {
   "cell_type": "code",
   "execution_count": 1,
   "metadata": {},
   "outputs": [
    {
     "name": "stdout",
     "output_type": "stream",
     "text": [
      "1\n",
      "2\n",
      "3\n",
      "4\n",
      "5\n"
     ]
    }
   ],
   "source": [
    "let range = {\n",
    "    from: 1,\n",
    "    to:5\n",
    "};\n",
    "\n",
    "range[Symbol.iterator] = function(){\n",
    "    return {\n",
    "        current: this.from,\n",
    "        last: this.to,\n",
    "        next(){\n",
    "            if (this.current <= this.last){\n",
    "                return {done:false, value: this.current++};\n",
    "            } else {\n",
    "                return {done: true};\n",
    "            }\n",
    "        }\n",
    "    };\n",
    "};\n",
    "\n",
    "for (let num of range){\n",
    "    console.log(num);\n",
    "}"
   ]
  },
  {
   "cell_type": "markdown",
   "metadata": {},
   "source": [
    "Please note the core feature of iterables: an important separation of concerns:\n",
    "\n",
    " - The `range` itself does not have the `next()` method.\n",
    " - Instead, another object, a so called 'iterator' is created by the call to `range[Symbol.iterator]()` and it handles the whole iteration. \n",
    " \n",
    "So, the iterator object is separate from the object it iterates over.\n",
    "\n",
    "Technically, we may merge them and use `range` itself as the iterator to make the code simpler -"
   ]
  },
  {
   "cell_type": "code",
   "execution_count": 3,
   "metadata": {},
   "outputs": [
    {
     "name": "stdout",
     "output_type": "stream",
     "text": [
      "1\n",
      "2\n",
      "3\n",
      "4\n",
      "5\n"
     ]
    }
   ],
   "source": [
    "let range1 = {\n",
    "    from: 1,\n",
    "    to: 5,\n",
    "    [Symbol.iterator](){\n",
    "        this.current = this.from;\n",
    "        return this;\n",
    "    },\n",
    "    next(){\n",
    "        if (this.current <= this.to){\n",
    "            return {done: false, value: this.current++};\n",
    "        } else {\n",
    "            return {done: true}\n",
    "        }\n",
    "    }\n",
    "};\n",
    "\n",
    "for (let num of range1){\n",
    "    console.log(num);\n",
    "}"
   ]
  },
  {
   "cell_type": "markdown",
   "metadata": {},
   "source": [
    "The downside with above approach is that now it's impossible to have two `for .. of` loops running over the object simultaneously: they'll share the iteration state, because there's only one iterator - the object itself. However, we rarely encounter this situation and there are workarounds for that.\n",
    "\n",
    "**Infinite iterators**\n",
    "\n",
    "Infinite are iterators are also possible. Above, we can make `range` infinite by setting `range.to =  Infinity`."
   ]
  },
  {
   "cell_type": "markdown",
   "metadata": {},
   "source": [
    "#### String is iterable\n",
    "\n",
    "For a string, `for..of` loops over its characters:"
   ]
  },
  {
   "cell_type": "code",
   "execution_count": 4,
   "metadata": {},
   "outputs": [
    {
     "name": "stdout",
     "output_type": "stream",
     "text": [
      "t\n",
      "e\n",
      "s\n",
      "t\n"
     ]
    }
   ],
   "source": [
    "for (let char of \"test\"){\n",
    "    console.log(char)\n",
    "}"
   ]
  },
  {
   "cell_type": "markdown",
   "metadata": {},
   "source": [
    "And it works correctly with surrogate pairs - "
   ]
  },
  {
   "cell_type": "code",
   "execution_count": 18,
   "metadata": {},
   "outputs": [
    {
     "name": "stdout",
     "output_type": "stream",
     "text": [
      "Ú\n",
      "Û\n",
      "Ü\n"
     ]
    }
   ],
   "source": [
    "uuu = 'ÚÛÜ'\n",
    "for (let char of uuu){\n",
    "    console.log(char)\n",
    "}"
   ]
  },
  {
   "cell_type": "markdown",
   "metadata": {},
   "source": [
    "#### Calling an iterator explicitly\n",
    "\n",
    "Normally, internals of iterables are hidden from the external code. There's a `for ..  of` loop, that works, that's all it needs to know. But to understand things a little deeper let's see how to create an iterator explicitly. \n",
    "\n",
    "We'll iterate over a string the same way as `for .. of`, but with direct calls. This code gets a string iterator and calls it 'manually' -"
   ]
  },
  {
   "cell_type": "code",
   "execution_count": 5,
   "metadata": {},
   "outputs": [
    {
     "name": "stdout",
     "output_type": "stream",
     "text": [
      "H\n",
      "e\n",
      "l\n",
      "l\n",
      "o\n"
     ]
    }
   ],
   "source": [
    "let str = 'Hello';\n",
    "let iterator = str[Symbol.iterator]();\n",
    "\n",
    "while(true){\n",
    "    let result = iterator.next()\n",
    "    if (result.done) break;\n",
    "    console.log(result.value)\n",
    "}\n"
   ]
  },
  {
   "cell_type": "markdown",
   "metadata": {},
   "source": [
    "#### Iterables and array-likes\n",
    "\n",
    "There are two official terms that look similar, but are very different. \n",
    "\n",
    " - Iterables are objects that implement the `Symbol.iterator` method, as described above.\n",
    " - Array-likes are objects that have indexes and `length`, so they look like arrays\n",
    " \n",
    "Naturally, these properties can combine. For instance, strings are both iterable (`for ..of` works on them) and array-like (they have indexes and `length`).\n",
    "\n",
    "But an iterable may be not array-like and vice versa. Above `range` is iterable but not array-like as it doesn't have indexed properties and `length`.\n",
    "\n",
    "Below is an example of the object which is array-like but not iterable -"
   ]
  },
  {
   "cell_type": "code",
   "execution_count": 6,
   "metadata": {},
   "outputs": [
    {
     "ename": "TypeError",
     "evalue": "arrayLike is not iterable",
     "output_type": "error",
     "traceback": [
      "evalmachine.<anonymous>:8",
      "for (let item of arrayLike){",
      "                 ^",
      "",
      "TypeError: arrayLike is not iterable",
      "    at evalmachine.<anonymous>:8:18",
      "    at ContextifyScript.Script.runInThisContext (vm.js:50:33)",
      "    at Object.runInThisContext (vm.js:139:38)",
      "    at run ([eval]:1002:15)",
      "    at onRunRequest ([eval]:829:18)",
      "    at onMessage ([eval]:789:13)",
      "    at emitTwo (events.js:126:13)",
      "    at process.emit (events.js:214:7)",
      "    at emit (internal/child_process.js:772:12)",
      "    at _combinedTickCallback (internal/process/next_tick.js:141:11)"
     ]
    }
   ],
   "source": [
    "let arrayLike = {\n",
    "    0: 'Hello',\n",
    "    1: 'World',\n",
    "    length : 2\n",
    "};\n",
    "\n",
    "//error\n",
    "for (let item of arrayLike){\n",
    "    console.log(item)\n",
    "}"
   ]
  },
  {
   "cell_type": "markdown",
   "metadata": {},
   "source": [
    "#### `Array.from`\n",
    "\n",
    "There's a universal method `Array.from` that brings them together. It takes an iterable or array-like value and makes a 'real' `Array` from it. Then we can call array methods on it.  "
   ]
  },
  {
   "cell_type": "code",
   "execution_count": 7,
   "metadata": {},
   "outputs": [
    {
     "data": {
      "text/plain": [
       "{ '0': 'Hello', '1': 'World', length: 2 }"
      ]
     },
     "execution_count": 7,
     "metadata": {},
     "output_type": "execute_result"
    }
   ],
   "source": [
    "arrayLike"
   ]
  },
  {
   "cell_type": "code",
   "execution_count": 8,
   "metadata": {},
   "outputs": [
    {
     "data": {
      "text/plain": [
       "'World'"
      ]
     },
     "execution_count": 8,
     "metadata": {},
     "output_type": "execute_result"
    }
   ],
   "source": [
    "let arr = Array.from(arrayLike);\n",
    "arr.pop()"
   ]
  },
  {
   "cell_type": "markdown",
   "metadata": {},
   "source": [
    "The same happens for an iterable - \n"
   ]
  },
  {
   "cell_type": "code",
   "execution_count": 9,
   "metadata": {},
   "outputs": [
    {
     "name": "stdout",
     "output_type": "stream",
     "text": [
      "[ 1, 2, 3, 4, 5 ]\n"
     ]
    }
   ],
   "source": [
    "let new_array = Array.from(range);\n",
    "console.log(new_array)"
   ]
  },
  {
   "cell_type": "markdown",
   "metadata": {},
   "source": [
    "The full syntax for `Array.from` allows to provide an option 'mapping' function - \n",
    "\n",
    "```js\n",
    "Array.from(obj[, mapFn, thisArg])\n",
    "```\n",
    "\n",
    "The second argument `mapFn` should be the function to apply to each element before adding to the array and `thisArg` allows to set `this` for it."
   ]
  },
  {
   "cell_type": "code",
   "execution_count": 10,
   "metadata": {},
   "outputs": [
    {
     "data": {
      "text/plain": [
       "[ 1, 4, 9, 16, 25 ]"
      ]
     },
     "execution_count": 10,
     "metadata": {},
     "output_type": "execute_result"
    }
   ],
   "source": [
    "let abc = Array.from(range, num=>num*num);\n",
    "abc"
   ]
  },
  {
   "cell_type": "code",
   "execution_count": 12,
   "metadata": {},
   "outputs": [
    {
     "data": {
      "text/plain": [
       "'Ú'"
      ]
     },
     "execution_count": 12,
     "metadata": {},
     "output_type": "execute_result"
    }
   ],
   "source": [
    "let foo = 'ÚÛÜ';\n",
    "let bar = Array.from(st);\n",
    "bar[0]"
   ]
  },
  {
   "cell_type": "code",
   "execution_count": 13,
   "metadata": {},
   "outputs": [
    {
     "data": {
      "text/plain": [
       "3"
      ]
     },
     "execution_count": 13,
     "metadata": {},
     "output_type": "execute_result"
    }
   ],
   "source": [
    "bar.length"
   ]
  },
  {
   "cell_type": "markdown",
   "metadata": {},
   "source": [
    "Unlike `str.split`, it relies on the iterable nature of the string and so, just like `for .. of`, correctly works with surrogate pairs.\n",
    "\n",
    "Technically here it does the same as -"
   ]
  },
  {
   "cell_type": "code",
   "execution_count": 14,
   "metadata": {},
   "outputs": [
    {
     "data": {
      "text/plain": [
       "'ÚÛÜ'"
      ]
     },
     "execution_count": 14,
     "metadata": {},
     "output_type": "execute_result"
    }
   ],
   "source": [
    "foo"
   ]
  },
  {
   "cell_type": "code",
   "execution_count": 15,
   "metadata": {},
   "outputs": [
    {
     "data": {
      "text/plain": [
       "[ 'Ú', 'Û', 'Ü' ]"
      ]
     },
     "execution_count": 15,
     "metadata": {},
     "output_type": "execute_result"
    }
   ],
   "source": [
    "let list = [];\n",
    "for (let char of foo){\n",
    "    list.push(char)\n",
    "}\n",
    "list"
   ]
  },
  {
   "cell_type": "markdown",
   "metadata": {},
   "source": [
    "We can even build surrogate-aware `slice` on it - "
   ]
  },
  {
   "cell_type": "code",
   "execution_count": 16,
   "metadata": {},
   "outputs": [
    {
     "data": {
      "text/plain": [
       "'Û'"
      ]
     },
     "execution_count": 16,
     "metadata": {},
     "output_type": "execute_result"
    }
   ],
   "source": [
    "function slice(str, start, end){\n",
    "    return Array.from(str).slice(start, end).join('');\n",
    "}\n",
    "\n",
    "slice(foo,1,2)"
   ]
  },
  {
   "cell_type": "code",
   "execution_count": null,
   "metadata": {
    "collapsed": true
   },
   "outputs": [],
   "source": []
  }
 ],
 "metadata": {
  "kernelspec": {
   "display_name": "Javascript (Node.js)",
   "language": "javascript",
   "name": "javascript"
  },
  "language_info": {
   "file_extension": ".js",
   "mimetype": "application/javascript",
   "name": "javascript",
   "version": "8.11.2"
  }
 },
 "nbformat": 4,
 "nbformat_minor": 2
}
