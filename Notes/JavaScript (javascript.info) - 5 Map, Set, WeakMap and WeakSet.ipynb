{
 "cells": [
  {
   "cell_type": "markdown",
   "metadata": {},
   "source": [
    "### Map\n",
    "\n",
    "Map is a collection of keyed data items, just like an `object` but the main difference is that `Map` allows keys of any type.\n",
    "\n",
    "The main mehods are - \n",
    "\n",
    "```js\n",
    "new Map()            //creates the map\n",
    "map.set(key, value)  //stores the value by key\n",
    "map.get(key)         //returns value by key, if key not present, returns undefined\n",
    "map.has(key)         //returns boolean\n",
    "map.delete(key)      //remove the value by key\n",
    "map.clear()          //clear the map\n",
    "map.size           //returns the current element count\n",
    "```"
   ]
  },
  {
   "cell_type": "code",
   "execution_count": 1,
   "metadata": {},
   "outputs": [
    {
     "name": "stdout",
     "output_type": "stream",
     "text": [
      "str1\n",
      "num1\n",
      "bool1\n"
     ]
    }
   ],
   "source": [
    "let map  = new Map();\n",
    "map.set('1', 'str1');\n",
    "map.set(1, 'num1');\n",
    "map.set(true, 'bool1');\n",
    "\n",
    "//in regular object, keys would be turned into string. Map keeps the type\n",
    "console.log(map.get('1'));\n",
    "console.log(map.get(1));\n",
    "console.log(map.get(true));"
   ]
  },
  {
   "cell_type": "code",
   "execution_count": 3,
   "metadata": {},
   "outputs": [
    {
     "data": {
      "text/plain": [
       "3"
      ]
     },
     "execution_count": 3,
     "metadata": {},
     "output_type": "execute_result"
    }
   ],
   "source": [
    "map.size"
   ]
  },
  {
   "cell_type": "markdown",
   "metadata": {},
   "source": [
    "**Map can also use objects as keys**"
   ]
  },
  {
   "cell_type": "code",
   "execution_count": 4,
   "metadata": {},
   "outputs": [
    {
     "data": {
      "text/plain": [
       "123"
      ]
     },
     "execution_count": 4,
     "metadata": {},
     "output_type": "execute_result"
    }
   ],
   "source": [
    "let john = {name: 'John'};\n",
    "map.set(john,123);\n",
    "map.get(john)"
   ]
  },
  {
   "cell_type": "markdown",
   "metadata": {},
   "source": [
    "#### How `Map` compares keys\n",
    "\n",
    "To test values for equivalence, `Map` uses the algorithm `SameValueZero`. It is roughly the same as strict `===`, but the difference is that `NaN` is considered equal to `NaN`. So `NaN` can be used as the key as well.\n",
    "\n",
    "#### Chaining\n",
    "\n",
    "Every `map.set` call returns the map itself, so we can 'chain' the calls -\n",
    "\n",
    "```js\n",
    "map.set('1', 'str1').set(1,'num1');\n",
    "```"
   ]
  },
  {
   "cell_type": "markdown",
   "metadata": {},
   "source": [
    "#### Map from Object\n",
    "\n",
    "When a map is created, we can pass an array (or another iterable) with key-value pairs -"
   ]
  },
  {
   "cell_type": "code",
   "execution_count": 6,
   "metadata": {},
   "outputs": [
    {
     "data": {
      "text/plain": [
       "Map { 1 => 'num1', '1' => 'str1' }"
      ]
     },
     "execution_count": 6,
     "metadata": {},
     "output_type": "execute_result"
    }
   ],
   "source": [
    "let data = new Map([\n",
    "    [1, 'num1'],\n",
    "    ['1', 'str1']\n",
    "]);\n",
    "data"
   ]
  },
  {
   "cell_type": "markdown",
   "metadata": {},
   "source": [
    "There is a built-in method `Object.entries(obj)` that returns an array of key/value pairs for an object exactly in that format."
   ]
  },
  {
   "cell_type": "code",
   "execution_count": 7,
   "metadata": {},
   "outputs": [
    {
     "data": {
      "text/plain": [
       "Map { 'name' => 'john', 'age' => 30 }"
      ]
     },
     "execution_count": 7,
     "metadata": {},
     "output_type": "execute_result"
    }
   ],
   "source": [
    "let map1 = new Map(Object.entries({name: 'john', age:30}));\n",
    "map1"
   ]
  },
  {
   "cell_type": "markdown",
   "metadata": {},
   "source": [
    "#### Iteration over Map\n",
    "\n",
    "For looping over a map, there are 3 methods - \n",
    "\n",
    " - `map.keys()` - returns an iterable for keys\n",
    " - `map.values()` - returns an iterable fo values\n",
    " - `map.entries()` - returns an iterable for entries [key, value], it is used by default in `for .. of`\n",
    " \n",
    " "
   ]
  },
  {
   "cell_type": "code",
   "execution_count": 8,
   "metadata": {},
   "outputs": [
    {
     "data": {
      "text/plain": [
       "Map {\n",
       "  '1' => 'str1',\n",
       "  1 => 'num1',\n",
       "  true => 'bool1',\n",
       "  { name: 'John' } => 123 }"
      ]
     },
     "execution_count": 8,
     "metadata": {},
     "output_type": "execute_result"
    }
   ],
   "source": [
    "map"
   ]
  },
  {
   "cell_type": "code",
   "execution_count": 12,
   "metadata": {},
   "outputs": [
    {
     "name": "stdout",
     "output_type": "stream",
     "text": [
      "1\n",
      "1\n",
      "true\n",
      "{ name: 'John' }\n"
     ]
    }
   ],
   "source": [
    "for (let a of map.keys()){\n",
    "     console.log(a)\n",
    "     }"
   ]
  },
  {
   "cell_type": "code",
   "execution_count": 13,
   "metadata": {},
   "outputs": [
    {
     "name": "stdout",
     "output_type": "stream",
     "text": [
      "[ '1', 'str1' ]\n",
      "[ 1, 'num1' ]\n",
      "[ true, 'bool1' ]\n",
      "[ { name: 'John' }, 123 ]\n"
     ]
    }
   ],
   "source": [
    "for (let a of map.entries()){\n",
    "     console.log(a)\n",
    "     }"
   ]
  },
  {
   "cell_type": "markdown",
   "metadata": {},
   "source": [
    "**The insertion order is used**\n",
    "\n",
    "The iteration goes in the same order as the values were inserted. Map preserves this order, unlike a regular `object`"
   ]
  },
  {
   "cell_type": "markdown",
   "metadata": {},
   "source": [
    "#### `forEach`\n",
    "\n",
    "Map also has `forEach` method"
   ]
  },
  {
   "cell_type": "code",
   "execution_count": 14,
   "metadata": {},
   "outputs": [
    {
     "name": "stdout",
     "output_type": "stream",
     "text": [
      "1:str1\n",
      "1:num1\n",
      "true:bool1\n",
      "[object Object]:123\n"
     ]
    }
   ],
   "source": [
    "map.forEach((value, key, map)=> {\n",
    "    console.log(`${key}:${value}`)\n",
    "});"
   ]
  },
  {
   "cell_type": "markdown",
   "metadata": {},
   "source": [
    "### Set\n",
    "\n",
    "A `Set` is a collection of values, where each value may occur only once. Its main methods are - \n",
    "\n",
    "```js\n",
    "new Set(iterable)    //creates the set, optionally with values from iterable\n",
    "set.add(value)       //fill the value and return the set\n",
    "set.delete(value)    //removes the value, returns the boolean depending on the existence of value at the time of call\n",
    "set.has(value)       //returns boolean\n",
    "set.clear()          //clears the set\n",
    "set.size             //count of values\n",
    "```"
   ]
  },
  {
   "cell_type": "code",
   "execution_count": 16,
   "metadata": {},
   "outputs": [
    {
     "data": {
      "text/plain": [
       "Set { { name: 'John' }, { name: 'Pete' }, { name: 'Mary' } }"
      ]
     },
     "execution_count": 16,
     "metadata": {},
     "output_type": "execute_result"
    }
   ],
   "source": [
    "let set = new Set();\n",
    "\n",
    "let johnny = {name: 'John'};\n",
    "let pete = {name:  'Pete'};\n",
    "let mary = {name: 'Mary'};\n",
    "\n",
    "set.add(johnny);\n",
    "set.add(pete);\n",
    "set.add(mary);\n",
    "set.add(johnny);\n",
    "\n",
    "set"
   ]
  },
  {
   "cell_type": "code",
   "execution_count": 17,
   "metadata": {},
   "outputs": [
    {
     "data": {
      "text/plain": [
       "3"
      ]
     },
     "execution_count": 17,
     "metadata": {},
     "output_type": "execute_result"
    }
   ],
   "source": [
    "set.size"
   ]
  },
  {
   "cell_type": "code",
   "execution_count": 18,
   "metadata": {},
   "outputs": [
    {
     "name": "stdout",
     "output_type": "stream",
     "text": [
      "John\n",
      "Pete\n",
      "Mary\n"
     ]
    }
   ],
   "source": [
    "for (let user of set){\n",
    "    console.log(user.name)\n",
    "}"
   ]
  },
  {
   "cell_type": "code",
   "execution_count": 19,
   "metadata": {},
   "outputs": [
    {
     "name": "stdout",
     "output_type": "stream",
     "text": [
      "{ name: 'John' }\n",
      "{ name: 'Pete' }\n",
      "{ name: 'Mary' }\n"
     ]
    }
   ],
   "source": [
    "set.forEach((value, valueAgain, set)=> {\n",
    "    console.log(value);\n",
    "});"
   ]
  },
  {
   "cell_type": "markdown",
   "metadata": {},
   "source": [
    "Note the funny thing. The `forEach` function in the `Set` has 3 arguments: a value, then again a value, and then the target object. Indeed, the same value appears in the arguments twice.\n",
    "\n",
    "That's for compatibility with `Map` where `forEach` has three arguments. Looks a bit strange, for sure. But may help to replace `Map` with `Set` in certain cases with ease, and vice versa. \n",
    "\n",
    "The same methods `Map` has for iterators are also supported:\n",
    "\n",
    " - `set.keys()`\n",
    " - `set.values()` - same as `set.keys()`\n",
    " - `set.entries()` - retuns an iterable object for entries `[value, value]`, exists for compatibility with `Map`"
   ]
  },
  {
   "cell_type": "markdown",
   "metadata": {},
   "source": [
    "### WeakMap and WeakSet\n",
    "\n",
    "`WeakSet` is a special kind of `Set` that does not prevent JS from removing its items from memory. `WeakMap` is the same thing for `Map`.\n",
    "\n",
    "**the whole chapter is being skipped for now"
   ]
  },
  {
   "cell_type": "code",
   "execution_count": null,
   "metadata": {
    "collapsed": true
   },
   "outputs": [],
   "source": []
  }
 ],
 "metadata": {
  "kernelspec": {
   "display_name": "Javascript (Node.js)",
   "language": "javascript",
   "name": "javascript"
  },
  "language_info": {
   "file_extension": ".js",
   "mimetype": "application/javascript",
   "name": "javascript",
   "version": "8.11.2"
  }
 },
 "nbformat": 4,
 "nbformat_minor": 2
}
