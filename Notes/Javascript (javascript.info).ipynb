{
 "cells": [
  {
   "cell_type": "markdown",
   "metadata": {},
   "source": [
    "Run all the codes in browser."
   ]
  },
  {
   "cell_type": "markdown",
   "metadata": {},
   "source": [
    "JS script in HTML\n",
    "\n",
    "```html\n",
    "<script>alert('Hi')</script> //imbedded script\n",
    "<script src= \"path/to/script.js\"></script> //external script\n",
    "<script src= \"path/to/script.js\">alert(\"Hi\")</script> //script.js will be executed. `alert` fxn will be ignored\n",
    "```"
   ]
  },
  {
   "cell_type": "markdown",
   "metadata": {},
   "source": [
    " - semicolon are optional in most cases where a line break exists.\n",
    " - //this is single-line comment\n",
    " - multiline comment -\n",
    "```js\n",
    "/*multiline\n",
    "comment*/\n",
    "```\n",
    " - Nested comments are not allowed\n",
    " - \"`use strict`\" for moder JS features\n",
    "\n",
    "```js\n",
    "\"use strict\";\n",
    "let name = 'mayank';\n",
    "//rest of code\n",
    "```\n",
    "All codes in this notebook use `use strict`\n",
    "\n",
    "#### Variables\n",
    "\n",
    "Use `let` to declare a variable. This is needed in strict mode but not in default mode. In older scripts, we may find the use of `var`. They are almost the same things, except for some subtle differences.\n",
    "\n",
    "Variable name can't start with digits and may contain digits, letters, characters `$` and `_`."
   ]
  },
  {
   "cell_type": "markdown",
   "metadata": {},
   "source": [
    "#### Constants\n",
    "\n",
    "To declare a constant, use `const` instead of let - \n",
    "\n",
    "```js\n",
    "const pi = 3.14\n",
    "```\n",
    "\n",
    "If we try to change the value of `pi`, we will get error."
   ]
  },
  {
   "cell_type": "markdown",
   "metadata": {},
   "source": [
    "### Data Types \n",
    "\n",
    "There are 7 basic data types in JS\n",
    "\n",
    "#### Numbers\n",
    "Both integers and floats. \n",
    " - Regular numbers such as 1,-1,3.13, -4.12\n",
    " - `Infinity`,`-Infinity` and `NaN`\n",
    "\n",
    "`NaN` is sticky. Any further operation on `NaN` returns `NaN`."
   ]
  },
  {
   "cell_type": "code",
   "execution_count": 4,
   "metadata": {},
   "outputs": [
    {
     "data": {
      "text/plain": [
       "NaN"
      ]
     },
     "execution_count": 4,
     "metadata": {},
     "output_type": "execute_result"
    }
   ],
   "source": [
    "NaN + 2"
   ]
  },
  {
   "cell_type": "code",
   "execution_count": 5,
   "metadata": {},
   "outputs": [
    {
     "data": {
      "text/plain": [
       "NaN"
      ]
     },
     "execution_count": 5,
     "metadata": {},
     "output_type": "execute_result"
    }
   ],
   "source": [
    "NaN*2"
   ]
  },
  {
   "cell_type": "markdown",
   "metadata": {},
   "source": [
    "**Note** - Doing math is 'safe' in JS. Division by zero, treating string as number won't crash your progam. At worst, we'll get NaN as the result. "
   ]
  },
  {
   "cell_type": "markdown",
   "metadata": {},
   "source": [
    "#### Strings\n",
    "\n",
    "A string in JS must be surrounded by quotes. There are three ways to represent a string - \n",
    "\n",
    " - \"Hello\" \n",
    " - 'Hello'\n",
    " - \\`Hello\\` \n",
    " \n",
    "Last case is important. We have used backticks (\\`) here to surround a string. This is for extended functionality. This allows us to imbed variables and expressions into a string by wrapping them in `${...}`. See example below -  "
   ]
  },
  {
   "cell_type": "code",
   "execution_count": 8,
   "metadata": {},
   "outputs": [
    {
     "name": "stdout",
     "output_type": "stream",
     "text": [
      "Hello ,Raj\n"
     ]
    }
   ],
   "source": [
    "let student =  'Raj'\n",
    "console.log(`Hello ,${student}`)"
   ]
  },
  {
   "cell_type": "code",
   "execution_count": 9,
   "metadata": {},
   "outputs": [
    {
     "name": "stdout",
     "output_type": "stream",
     "text": [
      "The result is 3\n"
     ]
    }
   ],
   "source": [
    "console.log(`The result is ${1+2}`);"
   ]
  },
  {
   "cell_type": "markdown",
   "metadata": {},
   "source": [
    "#### Booleans\n",
    "`true` and `false`"
   ]
  },
  {
   "cell_type": "code",
   "execution_count": 10,
   "metadata": {},
   "outputs": [
    {
     "name": "stdout",
     "output_type": "stream",
     "text": [
      "true\n"
     ]
    }
   ],
   "source": [
    "let isGreater = 4 > 1;\n",
    "console.log(isGreater);"
   ]
  },
  {
   "cell_type": "markdown",
   "metadata": {},
   "source": [
    "#### The `null` type"
   ]
  },
  {
   "cell_type": "code",
   "execution_count": 11,
   "metadata": {},
   "outputs": [
    {
     "name": "stdout",
     "output_type": "stream",
     "text": [
      "null\n"
     ]
    }
   ],
   "source": [
    "let data = null;\n",
    "console.log(data);"
   ]
  },
  {
   "cell_type": "markdown",
   "metadata": {},
   "source": [
    "#### The `undefined` type"
   ]
  },
  {
   "cell_type": "code",
   "execution_count": 12,
   "metadata": {},
   "outputs": [
    {
     "name": "stdout",
     "output_type": "stream",
     "text": [
      "undefined\n"
     ]
    }
   ],
   "source": [
    "let x;\n",
    "console.log(x)"
   ]
  },
  {
   "cell_type": "markdown",
   "metadata": {},
   "source": [
    "All types discussed so far are called 'primitive' as their values can contain only a single thihng(string or number or whatever)."
   ]
  },
  {
   "cell_type": "markdown",
   "metadata": {},
   "source": [
    "#### The `object` type\n",
    "\n",
    "To store collections of data and more complex entities."
   ]
  },
  {
   "cell_type": "markdown",
   "metadata": {},
   "source": [
    "#### The `symbol` type\n",
    "\n",
    "To create unique identifiers for object."
   ]
  },
  {
   "cell_type": "markdown",
   "metadata": {},
   "source": [
    "### The `typeof` operator\n",
    "\n",
    "The syntax - \n",
    "\n",
    "```js\n",
    "typeof x; //as operator\n",
    "typeof(x) //as function\n",
    " ```\n",
    "Examples - \n",
    "\n",
    "```js\n",
    "typeof undefined //\"undefined\"\n",
    "typeof 0         //\"number\"\n",
    "typeof true      //\"boolean\"\n",
    "typeof \"foo\"     //\"string\"\n",
    "typeof Math      //\"object\"   -1\n",
    "typeof null      //\"object\"   -2\n",
    "typeof alert     //\"function\" -3\n",
    "```\n",
    "\n",
    "1 - `Math` is a builtin object that provides mathematical operations.\n",
    "\n",
    "2 - This is officially recognized error in `typeof`\n",
    "\n",
    "3 - This is also wrong. Functions belong to object. but is useful in practice."
   ]
  },
  {
   "cell_type": "markdown",
   "metadata": {},
   "source": [
    "### Type Conversion\n",
    "\n",
    "Usually operations and functions automatically convert the values given to them to the right type. This is type conversion. For example, `alert` automatically converts any value to string to show it. Mathematical operations convert values to numbers."
   ]
  },
  {
   "cell_type": "markdown",
   "metadata": {},
   "source": [
    "#### ToString"
   ]
  },
  {
   "cell_type": "code",
   "execution_count": 16,
   "metadata": {},
   "outputs": [
    {
     "name": "stdout",
     "output_type": "stream",
     "text": [
      "string\n"
     ]
    }
   ],
   "source": [
    "let y = true;\n",
    "y = String(y)\n",
    "console.log(typeof(y))  //output -> string"
   ]
  },
  {
   "cell_type": "markdown",
   "metadata": {},
   "source": [
    "#### ToNumber\n",
    "\n",
    "Numeric conversion happens in mathematical functions and expressions automatically."
   ]
  },
  {
   "cell_type": "code",
   "execution_count": 17,
   "metadata": {},
   "outputs": [
    {
     "name": "stdout",
     "output_type": "stream",
     "text": [
      "3\n"
     ]
    }
   ],
   "source": [
    "console.log(\"6\"/\"2\")"
   ]
  },
  {
   "cell_type": "code",
   "execution_count": 18,
   "metadata": {},
   "outputs": [
    {
     "name": "stdout",
     "output_type": "stream",
     "text": [
      "number\n"
     ]
    }
   ],
   "source": [
    "console.log(typeof(Number('6')))"
   ]
  },
  {
   "cell_type": "markdown",
   "metadata": {},
   "source": [
    "If string is not a valid number, the result of such a conversion is `NaN`."
   ]
  },
  {
   "cell_type": "code",
   "execution_count": 20,
   "metadata": {},
   "outputs": [
    {
     "name": "stdout",
     "output_type": "stream",
     "text": [
      "NaN\n"
     ]
    }
   ],
   "source": [
    "console.log(Number('SIX'))"
   ]
  },
  {
   "cell_type": "markdown",
   "metadata": {},
   "source": [
    "Numeric conversion rules - \n",
    "\n",
    "|Value|Becomes|\n",
    "|-----|-----|\n",
    "|`undefined`|`NaN`|\n",
    "|null|0|\n",
    "|true, false|1,0|\n",
    "|string|remove leading/trailing whitespaces, if remaining string is empty then 0. Otherwise number is 'read' from string. An error gives `NaN`|\n",
    "\n",
    "**IMPORTANT NOTE**\n",
    "\n",
    "Addition '+' concatenates strings. If any of the operands is string, other is also converted to string. '+' operation is carried out left to right."
   ]
  },
  {
   "cell_type": "code",
   "execution_count": 21,
   "metadata": {},
   "outputs": [
    {
     "data": {
      "text/plain": [
       "'12'"
      ]
     },
     "execution_count": 21,
     "metadata": {},
     "output_type": "execute_result"
    }
   ],
   "source": [
    "1 + '2'"
   ]
  },
  {
   "cell_type": "code",
   "execution_count": 22,
   "metadata": {},
   "outputs": [
    {
     "data": {
      "text/plain": [
       "'33'"
      ]
     },
     "execution_count": 22,
     "metadata": {},
     "output_type": "execute_result"
    }
   ],
   "source": [
    "1+2+'3'"
   ]
  },
  {
   "cell_type": "markdown",
   "metadata": {},
   "source": [
    "#### ToBoolean\n",
    "\n",
    "Values that are intuitively 'empty', like 0,'' (empty string), null, `NaN` and `undefined`, become `false`. All other are `true`. "
   ]
  },
  {
   "cell_type": "code",
   "execution_count": 23,
   "metadata": {},
   "outputs": [
    {
     "data": {
      "text/plain": [
       "false"
      ]
     },
     "execution_count": 23,
     "metadata": {},
     "output_type": "execute_result"
    }
   ],
   "source": [
    "Boolean('')"
   ]
  },
  {
   "cell_type": "code",
   "execution_count": 24,
   "metadata": {},
   "outputs": [
    {
     "data": {
      "text/plain": [
       "true"
      ]
     },
     "execution_count": 24,
     "metadata": {},
     "output_type": "execute_result"
    }
   ],
   "source": [
    "Boolean(' ') //this is not empty string"
   ]
  },
  {
   "cell_type": "code",
   "execution_count": 25,
   "metadata": {},
   "outputs": [
    {
     "data": {
      "text/plain": [
       "true"
      ]
     },
     "execution_count": 25,
     "metadata": {},
     "output_type": "execute_result"
    }
   ],
   "source": [
    "Boolean('0') //this is not empty string"
   ]
  },
  {
   "cell_type": "markdown",
   "metadata": {},
   "source": [
    "### Operators\n",
    "\n",
    "**`'+'`**\n",
    "\n",
    "We have already seen how binay `+` operation works. There is also a unary '+' operation which converts a value to a number. This makes it similar to the `Number()` function."
   ]
  },
  {
   "cell_type": "code",
   "execution_count": 26,
   "metadata": {},
   "outputs": [
    {
     "name": "stdout",
     "output_type": "stream",
     "text": [
      "1\n"
     ]
    }
   ],
   "source": [
    "console.log(+true)"
   ]
  },
  {
   "cell_type": "code",
   "execution_count": 27,
   "metadata": {},
   "outputs": [
    {
     "name": "stdout",
     "output_type": "stream",
     "text": [
      "6\n"
     ]
    }
   ],
   "source": [
    "console.log(+'6')"
   ]
  },
  {
   "cell_type": "markdown",
   "metadata": {},
   "source": [
    "#### Operator precedence\n",
    "\n",
    "unary+, unary- > multiplication, division > addition,subtraction > assignment"
   ]
  },
  {
   "cell_type": "markdown",
   "metadata": {},
   "source": [
    "#### Increment/Decrement\n",
    "\n",
    "Increase/decrease the value by 1. Two form of syntax - prefix and postfix. Both are same unless in the case of assignment. \n"
   ]
  },
  {
   "cell_type": "code",
   "execution_count": 28,
   "metadata": {},
   "outputs": [
    {
     "name": "stdout",
     "output_type": "stream",
     "text": [
      "3\n"
     ]
    }
   ],
   "source": [
    "let counter = 2;\n",
    "counter++;       //++counter is also valid here. \n",
    "console.log(counter)"
   ]
  },
  {
   "cell_type": "code",
   "execution_count": 31,
   "metadata": {},
   "outputs": [
    {
     "name": "stdout",
     "output_type": "stream",
     "text": [
      "2\n"
     ]
    }
   ],
   "source": [
    "let value = 2\n",
    "xx = value++\n",
    "console.log(xx)"
   ]
  },
  {
   "cell_type": "markdown",
   "metadata": {},
   "source": [
    "Above, current `value` is assigned to `xx` *before* it is incremented."
   ]
  },
  {
   "cell_type": "code",
   "execution_count": 32,
   "metadata": {},
   "outputs": [
    {
     "name": "stdout",
     "output_type": "stream",
     "text": [
      "3\n"
     ]
    }
   ],
   "source": [
    "let value1 = 2\n",
    "yy = ++value1\n",
    "console.log(yy)"
   ]
  },
  {
   "cell_type": "markdown",
   "metadata": {},
   "source": [
    "Above, `value1` is assigned to `yy` *after* it is incremented."
   ]
  },
  {
   "cell_type": "markdown",
   "metadata": {},
   "source": [
    "#### Bitwise operation \n",
    "skipped\n",
    "\n",
    "#### Modify in place\n",
    "\n"
   ]
  },
  {
   "cell_type": "code",
   "execution_count": 34,
   "metadata": {},
   "outputs": [
    {
     "name": "stdout",
     "output_type": "stream",
     "text": [
      "5\n"
     ]
    }
   ],
   "source": [
    "let v = 2\n",
    "v += 3\n",
    "console.log(v)"
   ]
  },
  {
   "cell_type": "markdown",
   "metadata": {},
   "source": [
    "#### Comma"
   ]
  },
  {
   "cell_type": "code",
   "execution_count": 35,
   "metadata": {},
   "outputs": [
    {
     "name": "stdout",
     "output_type": "stream",
     "text": [
      "7\n"
     ]
    }
   ],
   "source": [
    "let aa = (1+2, 3+4);\n",
    "console.log(aa);  //only last value will be kept. Earlier calculation will be discarded."
   ]
  },
  {
   "cell_type": "markdown",
   "metadata": {},
   "source": [
    "#### Comparison\n",
    "\n",
    "Result of comparison is boolean."
   ]
  },
  {
   "cell_type": "code",
   "execution_count": 1,
   "metadata": {},
   "outputs": [
    {
     "data": {
      "text/plain": [
       "true"
      ]
     },
     "execution_count": 1,
     "metadata": {},
     "output_type": "execute_result"
    }
   ],
   "source": [
    "2 > 1"
   ]
  },
  {
   "cell_type": "code",
   "execution_count": 2,
   "metadata": {},
   "outputs": [
    {
     "data": {
      "text/plain": [
       "false"
      ]
     },
     "execution_count": 2,
     "metadata": {},
     "output_type": "execute_result"
    }
   ],
   "source": [
    "2 != 2"
   ]
  },
  {
   "cell_type": "markdown",
   "metadata": {},
   "source": [
    "A comparison result can be assigned to a variable, just like any value:"
   ]
  },
  {
   "cell_type": "code",
   "execution_count": 3,
   "metadata": {},
   "outputs": [
    {
     "name": "stdout",
     "output_type": "stream",
     "text": [
      "true\n"
     ]
    }
   ],
   "source": [
    "let result =  2 > 1\n",
    "console.log(result)"
   ]
  },
  {
   "cell_type": "markdown",
   "metadata": {},
   "source": [
    "#### String comparison\n",
    "\n",
    "To see whether a string is greater than another, JavaScript uses the so-called “dictionary” or “lexicographical” order.\n",
    "\n",
    "In other words, strings are compared letter-by-letter.\n",
    "\n",
    "For example:"
   ]
  },
  {
   "cell_type": "code",
   "execution_count": 4,
   "metadata": {},
   "outputs": [
    {
     "name": "stdout",
     "output_type": "stream",
     "text": [
      "true\n"
     ]
    }
   ],
   "source": [
    "console.log('Z' > 'A')"
   ]
  },
  {
   "cell_type": "code",
   "execution_count": 5,
   "metadata": {},
   "outputs": [
    {
     "name": "stdout",
     "output_type": "stream",
     "text": [
      "true\n"
     ]
    }
   ],
   "source": [
    "console.log('Bee' > 'Be')"
   ]
  },
  {
   "cell_type": "markdown",
   "metadata": {},
   "source": [
    "The algorithm to compare two strings is simple:\n",
    "\n",
    "1 - Compare the first character of both strings.\n",
    " \n",
    "2 - If the first character from the first string is greater (or less) than the other string’s, then the first string is greater (or less) than the second. We’re done.\n",
    "\n",
    "3 - Otherwise, if both strings’ first characters are the same, compare the second characters the same way.\n",
    "\n",
    "4 - Repeat until the end of either string.\n",
    "\n",
    "5 - If both strings end at the same length, then they are equal. Otherwise, the longer string is greater.\n",
    "\n"
   ]
  },
  {
   "cell_type": "markdown",
   "metadata": {},
   "source": [
    "##### Not a real dictionary, but Unicode order\n",
    "\n",
    "The comparison algorithm given above is roughly equivalent to the one used in dictionaries or phone books, but it’s not exactly the same.\n",
    "\n",
    "For instance, case matters. A capital letter \"A\" is not equal to the lowercase \"a\". Which one is greater? The lowercase \"a\". Why? Because the lowercase character has a greater index in the internal encoding table JavaScript uses (Unicode)."
   ]
  },
  {
   "cell_type": "code",
   "execution_count": 6,
   "metadata": {},
   "outputs": [
    {
     "name": "stdout",
     "output_type": "stream",
     "text": [
      "true\n"
     ]
    }
   ],
   "source": [
    "console.log('a' > 'A')"
   ]
  },
  {
   "cell_type": "markdown",
   "metadata": {},
   "source": [
    "#### Comparison of different types\n",
    "\n",
    "When comparing values of different types, JavaScript converts the values to numbers.\n",
    "\n",
    "For example:"
   ]
  },
  {
   "cell_type": "code",
   "execution_count": 7,
   "metadata": {},
   "outputs": [
    {
     "data": {
      "text/plain": [
       "true"
      ]
     },
     "execution_count": 7,
     "metadata": {},
     "output_type": "execute_result"
    }
   ],
   "source": [
    "'1' > 0"
   ]
  },
  {
   "cell_type": "code",
   "execution_count": 8,
   "metadata": {},
   "outputs": [
    {
     "data": {
      "text/plain": [
       "true"
      ]
     },
     "execution_count": 8,
     "metadata": {},
     "output_type": "execute_result"
    }
   ],
   "source": [
    "true == 1"
   ]
  },
  {
   "cell_type": "markdown",
   "metadata": {},
   "source": [
    "#### Interesting bit -\n",
    "\n",
    "It is possible that at the same time:\n",
    "\n",
    " - Two values are equal.\n",
    " - One of them is true as a boolean and the other one is false as a boolean.\n",
    "\n",
    "For example:"
   ]
  },
  {
   "cell_type": "code",
   "execution_count": 9,
   "metadata": {},
   "outputs": [
    {
     "data": {
      "text/plain": [
       "false"
      ]
     },
     "execution_count": 9,
     "metadata": {},
     "output_type": "execute_result"
    }
   ],
   "source": [
    "let a = 0, b = '0'\n",
    "Boolean(a) == Boolean(b)"
   ]
  },
  {
   "cell_type": "code",
   "execution_count": 10,
   "metadata": {},
   "outputs": [
    {
     "data": {
      "text/plain": [
       "true"
      ]
     },
     "execution_count": 10,
     "metadata": {},
     "output_type": "execute_result"
    }
   ],
   "source": [
    "a == b"
   ]
  },
  {
   "cell_type": "markdown",
   "metadata": {},
   "source": [
    "From JavaScript’s standpoint, this result is quite normal. An equality check converts values using the numeric conversion (hence \"0\" becomes 0), while the explicit Boolean conversion uses another set of rules.\n",
    "\n",
    "#### Strict Equality\n",
    "\n",
    "A regular equality check == has a problem. It cannot differentiate 0 from false:"
   ]
  },
  {
   "cell_type": "code",
   "execution_count": 11,
   "metadata": {},
   "outputs": [
    {
     "data": {
      "text/plain": [
       "true"
      ]
     },
     "execution_count": 11,
     "metadata": {},
     "output_type": "execute_result"
    }
   ],
   "source": [
    "0 == false"
   ]
  },
  {
   "cell_type": "code",
   "execution_count": 12,
   "metadata": {},
   "outputs": [
    {
     "data": {
      "text/plain": [
       "true"
      ]
     },
     "execution_count": 12,
     "metadata": {},
     "output_type": "execute_result"
    }
   ],
   "source": [
    "'' == false"
   ]
  },
  {
   "cell_type": "markdown",
   "metadata": {},
   "source": [
    "##### A strict equality operator === checks the equality without type conversion.\n",
    "\n"
   ]
  },
  {
   "cell_type": "code",
   "execution_count": 13,
   "metadata": {},
   "outputs": [
    {
     "data": {
      "text/plain": [
       "false"
      ]
     },
     "execution_count": 13,
     "metadata": {},
     "output_type": "execute_result"
    }
   ],
   "source": [
    "0 === false"
   ]
  },
  {
   "cell_type": "markdown",
   "metadata": {},
   "source": [
    "There is also a “strict non-equality” operator !== analogous to !=\n",
    "\n",
    "#### Comparison with `null` and  `undefined`    "
   ]
  },
  {
   "cell_type": "code",
   "execution_count": 14,
   "metadata": {},
   "outputs": [
    {
     "data": {
      "text/plain": [
       "true"
      ]
     },
     "execution_count": 14,
     "metadata": {},
     "output_type": "execute_result"
    }
   ],
   "source": [
    "null == undefined"
   ]
  },
  {
   "cell_type": "markdown",
   "metadata": {},
   "source": [
    "The above result is unexpected. You'd expect `null` to be converted to 0 and `undefined` to `NaN` and 0 is not the same as `NaN`.\n",
    "\n",
    "There is a special rule for this non-strict `==` equality check. `null` and `undefined` are equal to each other (in the sense of ==) but not equal to any other value. \n",
    "\n",
    "However, for math operations and other comparison (<, >, =<, =>), they are converted to numbers before we do anything with them. \n",
    "\n",
    "Keeping these points in mind, consider following examples - "
   ]
  },
  {
   "cell_type": "code",
   "execution_count": 15,
   "metadata": {},
   "outputs": [
    {
     "data": {
      "text/plain": [
       "false"
      ]
     },
     "execution_count": 15,
     "metadata": {},
     "output_type": "execute_result"
    }
   ],
   "source": [
    "null >  0"
   ]
  },
  {
   "cell_type": "code",
   "execution_count": 16,
   "metadata": {},
   "outputs": [
    {
     "data": {
      "text/plain": [
       "false"
      ]
     },
     "execution_count": 16,
     "metadata": {},
     "output_type": "execute_result"
    }
   ],
   "source": [
    "null == 0"
   ]
  },
  {
   "cell_type": "code",
   "execution_count": 17,
   "metadata": {},
   "outputs": [
    {
     "data": {
      "text/plain": [
       "true"
      ]
     },
     "execution_count": 17,
     "metadata": {},
     "output_type": "execute_result"
    }
   ],
   "source": [
    "null >= 0 //null is converted to 0"
   ]
  },
  {
   "cell_type": "code",
   "execution_count": 18,
   "metadata": {},
   "outputs": [
    {
     "data": {
      "text/plain": [
       "false"
      ]
     },
     "execution_count": 18,
     "metadata": {},
     "output_type": "execute_result"
    }
   ],
   "source": [
    "undefined > 0 //undefined is converted to NaN"
   ]
  },
  {
   "cell_type": "code",
   "execution_count": 19,
   "metadata": {},
   "outputs": [
    {
     "data": {
      "text/plain": [
       "true"
      ]
     },
     "execution_count": 19,
     "metadata": {},
     "output_type": "execute_result"
    }
   ],
   "source": [
    "undefined == null //they equal each other"
   ]
  },
  {
   "cell_type": "code",
   "execution_count": 20,
   "metadata": {},
   "outputs": [
    {
     "data": {
      "text/plain": [
       "false"
      ]
     },
     "execution_count": 20,
     "metadata": {},
     "output_type": "execute_result"
    }
   ],
   "source": [
    "undefined >= 0 //undefined is converted to NaN"
   ]
  },
  {
   "cell_type": "markdown",
   "metadata": {},
   "source": [
    "#### Interaction: alert, prompt, confirm\n",
    "\n",
    "skipped"
   ]
  },
  {
   "cell_type": "markdown",
   "metadata": {},
   "source": [
    "#### Conditional operators: `if` and `?`"
   ]
  },
  {
   "cell_type": "code",
   "execution_count": 25,
   "metadata": {},
   "outputs": [
    {
     "name": "stdout",
     "output_type": "stream",
     "text": [
      "data is 1947\n"
     ]
    }
   ],
   "source": [
    "let input_year = 1947\n",
    "if (input_year = 1947) console.log(`data is ${input_year}`)\n"
   ]
  },
  {
   "cell_type": "code",
   "execution_count": 26,
   "metadata": {},
   "outputs": [
    {
     "name": "stdout",
     "output_type": "stream",
     "text": [
      "data is 1947\n",
      "Done\n"
     ]
    }
   ],
   "source": [
    "if (input_year = 1947) {\n",
    "    console.log(`data is ${input_year}`)\n",
    "    console.log('Done')} //use curly braces for multiline block"
   ]
  },
  {
   "cell_type": "code",
   "execution_count": 27,
   "metadata": {},
   "outputs": [
    {
     "name": "stdout",
     "output_type": "stream",
     "text": [
      "else clause executed\n"
     ]
    }
   ],
   "source": [
    "if(0) {console.log(\"This won't be printed\" )} //if(0) -> if clause won't be executed.\n",
    "else {console.log(\"else clause executed\")}    //notice else clause"
   ]
  },
  {
   "cell_type": "code",
   "execution_count": 32,
   "metadata": {},
   "outputs": [
    {
     "name": "stdout",
     "output_type": "stream",
     "text": [
      "Your age is more than 30\n"
     ]
    }
   ],
   "source": [
    "let my_age = 35\n",
    "if (my_age <10) {console.log(\"Your age is less than 10\")}\n",
    "else if (10 <= my_age  && my_age <=30) {console.log(\"Your age is betwen 10 and 30\")} //notice use of && and else-if\n",
    "else {console.log(\"Your age is more than 30\")}                              "
   ]
  },
  {
   "cell_type": "markdown",
   "metadata": {},
   "source": [
    "#### Ternary operator `?`\n",
    "\n",
    "```js\n",
    "let result = condition ? value1 : value2;\n",
    "```"
   ]
  },
  {
   "cell_type": "code",
   "execution_count": 33,
   "metadata": {},
   "outputs": [
    {
     "name": "stdout",
     "output_type": "stream",
     "text": [
      "false\n"
     ]
    }
   ],
   "source": [
    "let your_age = 17;\n",
    "let permission =  (your_age > 18) ? true : false\n",
    "console.log(permission)"
   ]
  },
  {
   "cell_type": "code",
   "execution_count": 36,
   "metadata": {},
   "outputs": [
    {
     "data": {
      "text/plain": [
       "'Not young enough!'"
      ]
     },
     "execution_count": 36,
     "metadata": {},
     "output_type": "execute_result"
    }
   ],
   "source": [
    "let ur_age = 40\n",
    "message = (ur_age < 18) ? \"Too young!\" : (ur_age < 35) ? \"Good\" : \"Not young enough!\""
   ]
  },
  {
   "cell_type": "markdown",
   "metadata": {},
   "source": [
    "#### Logical Operators\n",
    "\n",
    "There are three logical operators in JavaScript: `|| (OR)`, `&& (AND)`, `! (NOT)`\n",
    ".\n",
    "\n",
    "Although they are called “logical”, they can be applied to values of any type, not only boolean. Their result can also be of any type.\n",
    "\n",
    "#### `|| (OR)`\n",
    "In classical programming, the logical OR is meant to manipulate boolean values only. If any of its arguments are true, it returns true, otherwise it returns false. But in JS you can use values of any type, though they are converted to boolean values. "
   ]
  },
  {
   "cell_type": "code",
   "execution_count": 37,
   "metadata": {},
   "outputs": [
    {
     "data": {
      "text/plain": [
       "true"
      ]
     },
     "execution_count": 37,
     "metadata": {},
     "output_type": "execute_result"
    }
   ],
   "source": [
    "true || true"
   ]
  },
  {
   "cell_type": "code",
   "execution_count": 38,
   "metadata": {},
   "outputs": [
    {
     "data": {
      "text/plain": [
       "true"
      ]
     },
     "execution_count": 38,
     "metadata": {},
     "output_type": "execute_result"
    }
   ],
   "source": [
    "true || false"
   ]
  },
  {
   "cell_type": "code",
   "execution_count": 39,
   "metadata": {},
   "outputs": [
    {
     "data": {
      "text/plain": [
       "true"
      ]
     },
     "execution_count": 39,
     "metadata": {},
     "output_type": "execute_result"
    }
   ],
   "source": [
    "false || true"
   ]
  },
  {
   "cell_type": "code",
   "execution_count": 40,
   "metadata": {},
   "outputs": [
    {
     "data": {
      "text/plain": [
       "false"
      ]
     },
     "execution_count": 40,
     "metadata": {},
     "output_type": "execute_result"
    }
   ],
   "source": [
    "false || false"
   ]
  },
  {
   "cell_type": "code",
   "execution_count": 41,
   "metadata": {},
   "outputs": [
    {
     "data": {
      "text/plain": [
       "1"
      ]
     },
     "execution_count": 41,
     "metadata": {},
     "output_type": "execute_result"
    }
   ],
   "source": [
    "1 || 0"
   ]
  },
  {
   "cell_type": "code",
   "execution_count": 42,
   "metadata": {},
   "outputs": [
    {
     "data": {
      "text/plain": [
       "2"
      ]
     },
     "execution_count": 42,
     "metadata": {},
     "output_type": "execute_result"
    }
   ],
   "source": [
    "'' || 2"
   ]
  },
  {
   "cell_type": "markdown",
   "metadata": {},
   "source": [
    "Most of the time, OR || is used in an `if` statement to test if any of the given conditions is true."
   ]
  },
  {
   "cell_type": "code",
   "execution_count": 43,
   "metadata": {},
   "outputs": [
    {
     "name": "stdout",
     "output_type": "stream",
     "text": [
      "count is either greater 10 or less than 8\n"
     ]
    }
   ],
   "source": [
    "let count = 7\n",
    "if (count > 10 || count < 8){console.log(\"count is either greater 10 or less than 8\")}"
   ]
  },
  {
   "cell_type": "markdown",
   "metadata": {},
   "source": [
    "However, logical operation are more powerful. For multiple `OR`'ed values:\n",
    "\n",
    "```js\n",
    "let result = value1 || value2 || value3;\n",
    "```\n",
    "\n",
    "**The result would be first truth-y value. If all values are false, last value would be returned. **"
   ]
  },
  {
   "cell_type": "code",
   "execution_count": 44,
   "metadata": {},
   "outputs": [
    {
     "data": {
      "text/plain": [
       "1"
      ]
     },
     "execution_count": 44,
     "metadata": {},
     "output_type": "execute_result"
    }
   ],
   "source": [
    "1 || '' || 2 //first value 1 is true, hence 1 is returned"
   ]
  },
  {
   "cell_type": "code",
   "execution_count": 45,
   "metadata": {},
   "outputs": [
    {
     "data": {
      "text/plain": [
       "null"
      ]
     },
     "execution_count": 45,
     "metadata": {},
     "output_type": "execute_result"
    }
   ],
   "source": [
    "'' || 0 || null //all are false, hence last value"
   ]
  },
  {
   "cell_type": "code",
   "execution_count": 46,
   "metadata": {},
   "outputs": [
    {
     "data": {
      "text/plain": [
       "3"
      ]
     },
     "execution_count": 46,
     "metadata": {},
     "output_type": "execute_result"
    }
   ],
   "source": [
    "'' || 0 || 3"
   ]
  },
  {
   "cell_type": "markdown",
   "metadata": {},
   "source": [
    "#### `AND &&`\n",
    "\n",
    "Similarly, in the case of multiple AND'ed values:\n",
    "\n",
    "```js\n",
    "let result =  value1 && value2 && value3\n",
    "```\n",
    "\n",
    "**The result would be first false-y value. If all values are true, last value would be returned**"
   ]
  },
  {
   "cell_type": "code",
   "execution_count": 48,
   "metadata": {},
   "outputs": [
    {
     "data": {
      "text/plain": [
       "3"
      ]
     },
     "execution_count": 48,
     "metadata": {},
     "output_type": "execute_result"
    }
   ],
   "source": [
    "1 && 2 && 3 //all are true hence last value is returned"
   ]
  },
  {
   "cell_type": "code",
   "execution_count": 50,
   "metadata": {},
   "outputs": [
    {
     "data": {
      "text/plain": [
       "0"
      ]
     },
     "execution_count": 50,
     "metadata": {},
     "output_type": "execute_result"
    }
   ],
   "source": [
    "2 && 0 && '' // first false-y value encountered is 0 hence 0 is returned"
   ]
  },
  {
   "cell_type": "code",
   "execution_count": 51,
   "metadata": {},
   "outputs": [
    {
     "name": "stdout",
     "output_type": "stream",
     "text": [
      "John\n"
     ]
    }
   ],
   "source": [
    "let currentUser = null;\n",
    "let defaultUser = \"John\";\n",
    "\n",
    "let user_name = currentUser || defaultUser || \"unnamed\";\n",
    "\n",
    "console.log(user_name); // selects \"John\" – the first truthy value"
   ]
  },
  {
   "cell_type": "code",
   "execution_count": 52,
   "metadata": {},
   "outputs": [
    {
     "name": "stdout",
     "output_type": "stream",
     "text": [
      "undefined\n"
     ]
    }
   ],
   "source": [
    "let zz;\n",
    "\n",
    "true || (zz = 1);\n",
    "\n",
    "console.log(zz); // undefined, because (zz = 1) not evaluated"
   ]
  },
  {
   "cell_type": "code",
   "execution_count": 53,
   "metadata": {},
   "outputs": [
    {
     "name": "stdout",
     "output_type": "stream",
     "text": [
      "1\n"
     ]
    }
   ],
   "source": [
    "let zzz;\n",
    "\n",
    "false || (zzz = 1);\n",
    "\n",
    "console.log(zzz); // 1, because (zzz = 1) evaluated"
   ]
  },
  {
   "cell_type": "markdown",
   "metadata": {},
   "source": [
    "\n",
    "##### Precedence of AND && is higher than OR ||\n",
    "\n",
    "The precedence of `AND &&` operator is higher than `OR ||`.\n",
    "\n",
    "So the code `a && b || c && d` is essentially the same as if the `&&` expressions were in parentheses: `(a && b) || (c && d)`.\n"
   ]
  },
  {
   "cell_type": "markdown",
   "metadata": {},
   "source": [
    "#### `! (NOT)`\n",
    "\n",
    "The boolean `NOT` operator is represented with an exclamation sign `!`.\n",
    "\n",
    "The syntax is pretty simple:\n",
    "\n",
    "```js\n",
    "result = !value;\n",
    "```\n",
    "\n",
    "The operator accepts a single argument and does the following:\n",
    "\n",
    " - Converts the operand to boolean type: true/false.\n",
    " - Returns the inverse value.\n"
   ]
  },
  {
   "cell_type": "code",
   "execution_count": 54,
   "metadata": {},
   "outputs": [
    {
     "data": {
      "text/plain": [
       "false"
      ]
     },
     "execution_count": 54,
     "metadata": {},
     "output_type": "execute_result"
    }
   ],
   "source": [
    "!(true)"
   ]
  },
  {
   "cell_type": "code",
   "execution_count": 55,
   "metadata": {},
   "outputs": [
    {
     "data": {
      "text/plain": [
       "false"
      ]
     },
     "execution_count": 55,
     "metadata": {},
     "output_type": "execute_result"
    }
   ],
   "source": [
    "!(1)"
   ]
  },
  {
   "cell_type": "code",
   "execution_count": 56,
   "metadata": {},
   "outputs": [
    {
     "data": {
      "text/plain": [
       "true"
      ]
     },
     "execution_count": 56,
     "metadata": {},
     "output_type": "execute_result"
    }
   ],
   "source": [
    "!(0)"
   ]
  },
  {
   "cell_type": "markdown",
   "metadata": {},
   "source": [
    "### Loops: `while` and `for`\n",
    "\n",
    "```js\n",
    "while (condition) {\n",
    "//code\n",
    "}\n",
    "```"
   ]
  },
  {
   "cell_type": "code",
   "execution_count": 1,
   "metadata": {},
   "outputs": [
    {
     "name": "stdout",
     "output_type": "stream",
     "text": [
      "0\n",
      "1\n",
      "2\n"
     ]
    },
    {
     "data": {
      "text/plain": [
       "2"
      ]
     },
     "execution_count": 1,
     "metadata": {},
     "output_type": "execute_result"
    }
   ],
   "source": [
    "\"use strict\"\n",
    "let i = 0;\n",
    "while (i<3) {\n",
    "    console.log(i);\n",
    "    i++;\n",
    "}\n",
    "\n",
    "// for single line loop body, brackets are not required"
   ]
  },
  {
   "cell_type": "markdown",
   "metadata": {},
   "source": [
    "### `do...while` loop\n",
    "\n",
    "```js\n",
    "do {\n",
    "//loop body\n",
    "} while (condition);\n",
    "```\n"
   ]
  },
  {
   "cell_type": "code",
   "execution_count": 5,
   "metadata": {},
   "outputs": [
    {
     "name": "stdout",
     "output_type": "stream",
     "text": [
      "0\n",
      "1\n",
      "2\n"
     ]
    },
    {
     "data": {
      "text/plain": [
       "2"
      ]
     },
     "execution_count": 5,
     "metadata": {},
     "output_type": "execute_result"
    }
   ],
   "source": [
    "\"use strict\"\n",
    "let k = 0;\n",
    "do {\n",
    "    console.log(k);\n",
    "    k++;\n",
    "} while (k < 3);\n"
   ]
  },
  {
   "cell_type": "markdown",
   "metadata": {},
   "source": [
    "### `for` loop\n",
    "\n",
    "```js\n",
    "for (begin; condition; step) {\n",
    "// ...loop body\n",
    "}\n",
    "```\n",
    "\n",
    "Any part of `for` can be skipped. However, semi-colon must still be there. "
   ]
  },
  {
   "cell_type": "code",
   "execution_count": 9,
   "metadata": {},
   "outputs": [
    {
     "name": "stdout",
     "output_type": "stream",
     "text": [
      "0\n",
      "1\n",
      "2\n"
     ]
    }
   ],
   "source": [
    "\"use strict\"\n",
    "for (let i = 0; i < 3; i++) {\n",
    "    console.log(i);\n",
    "}"
   ]
  },
  {
   "cell_type": "markdown",
   "metadata": {},
   "source": [
    "Note that in above example, the variable `i` is declared right in the loop. This is called an 'inline' variable declaration. such variables are visible only inside the loop."
   ]
  },
  {
   "cell_type": "code",
   "execution_count": 1,
   "metadata": {
    "collapsed": true
   },
   "outputs": [
    {
     "name": "stdout",
     "output_type": "stream",
     "text": [
      "0\n",
      "1\n",
      "2\n"
     ]
    },
    {
     "ename": "ReferenceError",
     "evalue": "i is not defined",
     "output_type": "error",
     "traceback": [
      "evalmachine.<anonymous>:5",
      "console.log(i)",
      "            ^",
      "",
      "ReferenceError: i is not defined",
      "    at evalmachine.<anonymous>:5:13",
      "    at ContextifyScript.Script.runInThisContext (vm.js:50:33)",
      "    at Object.runInThisContext (vm.js:139:38)",
      "    at run ([eval]:1002:15)",
      "    at onRunRequest ([eval]:829:18)",
      "    at onMessage ([eval]:789:13)",
      "    at emitTwo (events.js:126:13)",
      "    at process.emit (events.js:214:7)",
      "    at emit (internal/child_process.js:772:12)",
      "    at _combinedTickCallback (internal/process/next_tick.js:141:11)"
     ]
    }
   ],
   "source": [
    "\"use strict\"\n",
    "for (let i = 0; i < 3; i++) {\n",
    "    console.log(i);\n",
    "}\n",
    "console.log(i)"
   ]
  },
  {
   "cell_type": "markdown",
   "metadata": {},
   "source": [
    "Run above code in browser. Output will be - \n",
    "\n",
    "`ReferenceError: i is not defined`"
   ]
  },
  {
   "cell_type": "code",
   "execution_count": null,
   "metadata": {
    "collapsed": true
   },
   "outputs": [],
   "source": [
    "\"use strict\"\n",
    "\n",
    "let sum = 0;\n",
    "while (true) {\n",
    "    let value = +prompt(\"Enter a number\");\n",
    "    if (!value) break;\n",
    "    sum += value;\n",
    "}\n",
    "console.log(sum)"
   ]
  },
  {
   "cell_type": "markdown",
   "metadata": {},
   "source": [
    "### Continue to next iteration\n",
    "\n",
    "It stops the current iteration and forces the loop to start a new one (if the condition allows)."
   ]
  },
  {
   "cell_type": "code",
   "execution_count": 59,
   "metadata": {},
   "outputs": [
    {
     "name": "stdout",
     "output_type": "stream",
     "text": [
      "0\n",
      "1\n",
      "2\n",
      "4\n",
      "5\n",
      "6\n",
      "7\n",
      "8\n",
      "9\n"
     ]
    }
   ],
   "source": [
    "for (let i = 0; i < 10; i++){\n",
    "    if(i == 3) continue\n",
    "    console.log(i)\n",
    "}"
   ]
  },
  {
   "cell_type": "markdown",
   "metadata": {
    "collapsed": true
   },
   "source": [
    "#### Labels for `break/continue`"
   ]
  },
  {
   "cell_type": "markdown",
   "metadata": {},
   "source": [
    "Sometimes we need to break out from multiple nested loops at once.\n",
    "\n",
    "For example, in the code below we loop over `i` and `j`, prompting for the coordinates (`i, j`) from (`0,0`) to (`3,3`):\n",
    "\n",
    "```js\n",
    "for (let i = 0; i < 3; i++) {\n",
    "\n",
    "  for (let j = 0; j < 3; j++) {\n",
    "\n",
    "    let input = prompt(`Value at coords (${i},${j})`, '');\n",
    "\n",
    "    // what if I want to exit from here to Done (below)?\n",
    "\n",
    "  }\n",
    "}\n",
    "\n",
    "alert('Done!');\n",
    "```\n",
    "\n",
    "We need a way to stop the process if the user cancels the input.\n",
    "\n",
    "The ordinary break after input would only break the inner loop. That’s not sufficient–labels, come to the rescue!\n",
    "\n",
    "A label is an identifier with a colon before a loop:\n",
    "\n",
    "```js\n",
    "labelName: for (...) {\n",
    "  ...\n",
    "}\n",
    "```"
   ]
  },
  {
   "cell_type": "code",
   "execution_count": null,
   "metadata": {
    "collapsed": true
   },
   "outputs": [],
   "source": [
    "//run this code in browser\n",
    "\n",
    "outer: for (let i = 0; i < 3; i++) {\n",
    "\n",
    "  for (let j = 0; j < 3; j++) {\n",
    "\n",
    "    let input = prompt(`Value at coords (${i},${j})`, '');\n",
    "\n",
    "    // if an empty string or canceled, then break out of both loops\n",
    "    if (!input) break outer; // (*)\n",
    "\n",
    "    // do something with the value...\n",
    "  }\n",
    "}\n",
    "alert('Done!');"
   ]
  },
  {
   "cell_type": "markdown",
   "metadata": {},
   "source": [
    "If you run above code in browser, you will se a modal window pompting you to input some values. If you cancel the window without providing any value, you will be greeted with 'Done' message. \n",
    "\n",
    "In the code above, `break outer` looks upwards for the label named `outer` and breaks out of that loop.\n",
    "\n",
    "So the control goes straight from (*) to `alert('Done!')`.\n",
    "\n",
    "The `continue` directive can also be used with a label. In this case, code execution jumps to the next iteration of the labeled loop."
   ]
  },
  {
   "cell_type": "markdown",
   "metadata": {},
   "source": [
    "#### The `switch` statement\n",
    "\n",
    "A `switch` statement can replace multiple if checks. It gives a more descriptive way to compare a value with multiple variants.\n",
    "\n",
    "It looks like this - \n",
    "\n",
    "```js\n",
    "switch(x) {\n",
    "  case 'value1':  // if (x === 'value1')\n",
    "    ...\n",
    "    [break]\n",
    "\n",
    "  case 'value2':  // if (x === 'value2')\n",
    "    ...\n",
    "    [break]\n",
    "\n",
    "  default:\n",
    "    ...\n",
    "    [break]\n",
    "}\n",
    "```\n",
    "\n",
    "\n",
    " - The value of x is checked for a strict equality to the value from the first case (that is, value1) then to the second (value2) and so on.\n",
    " - If the equality is found, switch starts to execute the code starting from the corresponding case, until the nearest break (or until the end of switch).\n",
    " - If no case is matched then the default code is executed (if it exists).\n"
   ]
  },
  {
   "cell_type": "code",
   "execution_count": 62,
   "metadata": {},
   "outputs": [
    {
     "name": "stdout",
     "output_type": "stream",
     "text": [
      "Exactly!\n"
     ]
    }
   ],
   "source": [
    "let foo = 2 + 2;\n",
    "\n",
    "switch (foo) {\n",
    "  case 3:\n",
    "    console.log( 'Too small' );\n",
    "    break;\n",
    "  case 4:\n",
    "    console.log( 'Exactly!' );\n",
    "    break;\n",
    "  case 5:\n",
    "    cosnole.log( 'Too large' );\n",
    "    break;\n",
    "  default:\n",
    "    console.log( \"I don't know such values\" );\n",
    "}"
   ]
  },
  {
   "cell_type": "markdown",
   "metadata": {},
   "source": [
    "If there is no `break` then the execution continues with the next case without any checks."
   ]
  },
  {
   "cell_type": "code",
   "execution_count": 63,
   "metadata": {},
   "outputs": [
    {
     "name": "stdout",
     "output_type": "stream",
     "text": [
      "Exactly!\n",
      "Too big\n",
      "I don't know such values\n"
     ]
    }
   ],
   "source": [
    "let bar = 2 + 2;\n",
    "\n",
    "switch (bar) {\n",
    "  case 3:\n",
    "    console.log( 'Too small' );\n",
    "  case 4:\n",
    "    console.log( 'Exactly!' );\n",
    "  case 5:\n",
    "    console.log( 'Too big' );\n",
    "  default:\n",
    "    console.log( \"I don't know such values\" );\n",
    "}"
   ]
  },
  {
   "cell_type": "markdown",
   "metadata": {},
   "source": [
    "#### Any expression can be a `switch/case` argument\n",
    "\n",
    "Both switch and case allow arbitrary expressions.\n",
    "\n",
    "For example:"
   ]
  },
  {
   "cell_type": "code",
   "execution_count": 64,
   "metadata": {},
   "outputs": [
    {
     "name": "stdout",
     "output_type": "stream",
     "text": [
      "this runs, because +a is 1, exactly equals b+1\n"
     ]
    }
   ],
   "source": [
    "let foo1 = \"1\";\n",
    "let bar1 = 0;\n",
    "\n",
    "switch (+foo1) {\n",
    "  case bar1 + 1:\n",
    "    console.log(\"this runs, because +a is 1, exactly equals b+1\");\n",
    "    break;\n",
    "\n",
    "  default:\n",
    "    console.log(\"this doesn't run\");\n",
    "}"
   ]
  },
  {
   "cell_type": "markdown",
   "metadata": {},
   "source": [
    "Grouping of “`case`”\n",
    "\n",
    "Several variants of case which share the same code can be grouped.\n",
    "\n",
    "For example, if we want the same code to run for case 3 and case 5:"
   ]
  },
  {
   "cell_type": "code",
   "execution_count": 66,
   "metadata": {},
   "outputs": [
    {
     "name": "stdout",
     "output_type": "stream",
     "text": [
      "Wrong!\n",
      "Why don't you take a math class?\n"
     ]
    }
   ],
   "source": [
    "let bazz = 2 + 1;\n",
    "\n",
    "switch (bazz) {\n",
    "  case 4:\n",
    "    console.log('Right!');\n",
    "    break;\n",
    "\n",
    "  case 3:                    // (*) grouped two cases\n",
    "  case 5:\n",
    "    console.log('Wrong!');\n",
    "    console.log(\"Why don't you take a math class?\");\n",
    "    break;\n",
    "\n",
    "  default:\n",
    "    console.log('The result is strange. Really.');\n",
    "}"
   ]
  },
  {
   "cell_type": "markdown",
   "metadata": {},
   "source": [
    "##### Type matters\n",
    "\n",
    "Let’s emphasize that the equality check is always strict. The values must be of the same type to match.\n",
    "\n",
    "For example, let’s consider the code:"
   ]
  },
  {
   "cell_type": "code",
   "execution_count": null,
   "metadata": {
    "collapsed": true
   },
   "outputs": [],
   "source": [
    "//run this code in browser\n",
    "let arg = prompt(\"Enter a value?\"); //arg is string as prompt retuns a string\n",
    "switch (arg) {\n",
    "  case '0':\n",
    "  case '1':\n",
    "    alert( 'One or zero' );\n",
    "    break;\n",
    "\n",
    "  case '2':\n",
    "    alert( 'Two' );\n",
    "    break;\n",
    "\n",
    "  case 3:\n",
    "    alert( 'Never executes!' );\n",
    "    break;\n",
    "  default:\n",
    "    alert( 'An unknown value' )\n",
    "}"
   ]
  },
  {
   "cell_type": "markdown",
   "metadata": {},
   "source": [
    "If you supply 3 as input, you might expect that `case 3` will be executed. However, that is not the case. The reason is `prompt` function converts 3 to string but in `case 3`, 3 is actually a number so this case never matches. "
   ]
  },
  {
   "cell_type": "markdown",
   "metadata": {},
   "source": [
    "### Functions\n",
    "\n",
    "We use `function` keyword to define a function - \n",
    "\n",
    "```js\n",
    "function square(x) {\n",
    "return x*x;}\n",
    "```"
   ]
  },
  {
   "cell_type": "code",
   "execution_count": 1,
   "metadata": {},
   "outputs": [
    {
     "data": {
      "text/plain": [
       "9"
      ]
     },
     "execution_count": 1,
     "metadata": {},
     "output_type": "execute_result"
    }
   ],
   "source": [
    "function square(x) {\n",
    "return x*x;}\n",
    "\n",
    "square(3)"
   ]
  },
  {
   "cell_type": "markdown",
   "metadata": {},
   "source": [
    "#### Local Variables\n",
    "\n",
    "A variable declared inside a function is only visible inside that function. For example:"
   ]
  },
  {
   "cell_type": "code",
   "execution_count": 2,
   "metadata": {},
   "outputs": [
    {
     "name": "stdout",
     "output_type": "stream",
     "text": [
      "Hello, I'm JavaScript!\n"
     ]
    },
    {
     "ename": "ReferenceError",
     "evalue": "message is not defined",
     "output_type": "error",
     "traceback": [
      "evalmachine.<anonymous>:9",
      "console.log( message ); // <-- Error! The variable is local to the function",
      "             ^",
      "",
      "ReferenceError: message is not defined",
      "    at evalmachine.<anonymous>:9:14",
      "    at ContextifyScript.Script.runInThisContext (vm.js:50:33)",
      "    at Object.runInThisContext (vm.js:139:38)",
      "    at run ([eval]:1002:15)",
      "    at onRunRequest ([eval]:829:18)",
      "    at onMessage ([eval]:789:13)",
      "    at emitTwo (events.js:126:13)",
      "    at process.emit (events.js:214:7)",
      "    at emit (internal/child_process.js:772:12)",
      "    at _combinedTickCallback (internal/process/next_tick.js:141:11)"
     ]
    }
   ],
   "source": [
    "function showMessage() {\n",
    "  let message = \"Hello, I'm JavaScript!\"; // local variable\n",
    "\n",
    "  console.log( message );\n",
    "}\n",
    "\n",
    "showMessage(); // Hello, I'm JavaScript!\n",
    "\n",
    "console.log( message ); // <-- Error! The variable is local to the function"
   ]
  },
  {
   "cell_type": "markdown",
   "metadata": {},
   "source": [
    "#### Outer variables\n",
    "\n",
    "A function can access an outer variable as well, for example:\n",
    "\n",
    "\n"
   ]
  },
  {
   "cell_type": "code",
   "execution_count": 4,
   "metadata": {},
   "outputs": [
    {
     "name": "stdout",
     "output_type": "stream",
     "text": [
      "Hello, John\n"
     ]
    }
   ],
   "source": [
    "let userName = 'John';\n",
    "\n",
    "function showMessage() {\n",
    "  let message = 'Hello, ' + userName;\n",
    "  console.log(message);\n",
    "}\n",
    "\n",
    "showMessage(); // Hello, John"
   ]
  },
  {
   "cell_type": "markdown",
   "metadata": {},
   "source": [
    "The function has full access to the outer variable. It can modify it as well."
   ]
  },
  {
   "cell_type": "code",
   "execution_count": 5,
   "metadata": {},
   "outputs": [
    {
     "name": "stdout",
     "output_type": "stream",
     "text": [
      "5\n"
     ]
    }
   ],
   "source": [
    "let x = 4;\n",
    "\n",
    "function test(){\n",
    "    let x = 5     //this overshadows global x\n",
    "    console.log(x);\n",
    "}\n",
    "\n",
    "test()"
   ]
  },
  {
   "cell_type": "code",
   "execution_count": 6,
   "metadata": {},
   "outputs": [
    {
     "name": "stdout",
     "output_type": "stream",
     "text": [
      "4\n"
     ]
    }
   ],
   "source": [
    "console.log(x) //it doesn't have access to x declared inside the function"
   ]
  },
  {
   "cell_type": "code",
   "execution_count": 7,
   "metadata": {},
   "outputs": [
    {
     "name": "stdout",
     "output_type": "stream",
     "text": [
      "5\n"
     ]
    }
   ],
   "source": [
    "let y = 4;\n",
    "\n",
    "function test(){\n",
    "     y = 5           //y is modified here\n",
    "    console.log(y);\n",
    "}\n",
    "\n",
    "test()"
   ]
  },
  {
   "cell_type": "code",
   "execution_count": 8,
   "metadata": {},
   "outputs": [
    {
     "name": "stdout",
     "output_type": "stream",
     "text": [
      "5\n"
     ]
    }
   ],
   "source": [
    "console.log(y)"
   ]
  },
  {
   "cell_type": "markdown",
   "metadata": {},
   "source": [
    "Notice above 2 examples carefully. In first, we defined `x` using `let` in the function body. This way, our function didn't affect the value of outer variable `x`. On the other hand, in second example, we didn't use `let` to define `y` in the function body and hence it was able to modify the value of outer variable `y`.\n",
    "\n",
    "The outer variable is only used if there’s no local one. So an occasional modification may happen if we forget `let`.\n",
    "\n",
    "If a same-named variable is declared inside the function then it shadows the outer one. For instance, in the code first `test` function, the function uses the local variable. The outer one is ignored."
   ]
  },
  {
   "cell_type": "markdown",
   "metadata": {},
   "source": [
    "#### Global variables\n",
    "\n",
    "Variables declared outside of any function, such as the outer `x` in the code above, are called global.\n",
    "\n",
    "Global variables are visible from any function (unless shadowed by locals).\n",
    "\n",
    "Usually, a function declares all variables specific to its task. Global variables only store project-level data, and it’s important that these variables are accessible from anywhere. Modern code has few or no globals. Most variables reside in their functions.\n"
   ]
  },
  {
   "cell_type": "markdown",
   "metadata": {},
   "source": [
    "#### Parameters\n",
    "\n",
    "We can pass arbitrary data to functions using parameters (also called function arguments) .\n",
    "\n",
    "If a parameter is not provided, then its value becomes undefined."
   ]
  },
  {
   "cell_type": "code",
   "execution_count": 9,
   "metadata": {},
   "outputs": [
    {
     "data": {
      "text/plain": [
       "7"
      ]
     },
     "execution_count": 9,
     "metadata": {},
     "output_type": "execute_result"
    }
   ],
   "source": [
    "function test(a,b) {\n",
    "    return a+b;\n",
    "}\n",
    "\n",
    "test(3,4)"
   ]
  },
  {
   "cell_type": "code",
   "execution_count": 10,
   "metadata": {},
   "outputs": [
    {
     "data": {
      "text/plain": [
       "NaN"
      ]
     },
     "execution_count": 10,
     "metadata": {},
     "output_type": "execute_result"
    }
   ],
   "source": [
    "test(4)\n",
    "\n",
    "//second parameter value isn't provided so default value of `undefined` is used\n",
    "//4 + undefined = NaN"
   ]
  },
  {
   "cell_type": "code",
   "execution_count": 11,
   "metadata": {},
   "outputs": [
    {
     "data": {
      "text/plain": [
       "11"
      ]
     },
     "execution_count": 11,
     "metadata": {},
     "output_type": "execute_result"
    }
   ],
   "source": [
    "function test(a, b =3) {\n",
    "    return a+b;\n",
    "}\n",
    "    \n",
    "test(8) //for b, default value is used"
   ]
  },
  {
   "cell_type": "code",
   "execution_count": 12,
   "metadata": {},
   "outputs": [
    {
     "data": {
      "text/plain": [
       "23"
      ]
     },
     "execution_count": 12,
     "metadata": {},
     "output_type": "execute_result"
    }
   ],
   "source": [
    "test(11,12)"
   ]
  },
  {
   "cell_type": "markdown",
   "metadata": {},
   "source": [
    "In JavaScript, a default parameter is evaluated every time the function is called without the respective parameter. This is in contrast to some other languages like Python, where any default parameters are evaluated only once during the initial interpretation."
   ]
  },
  {
   "cell_type": "markdown",
   "metadata": {},
   "source": [
    "It is possible to use return without a value. That causes the function to exit immediately.\n",
    "\n",
    "For example:"
   ]
  },
  {
   "cell_type": "code",
   "execution_count": 21,
   "metadata": {},
   "outputs": [
    {
     "name": "stdout",
     "output_type": "stream",
     "text": [
      "Access granted\n"
     ]
    }
   ],
   "source": [
    "function checkAge(age) {\n",
    "  if (age > 18) {\n",
    "    return true;\n",
    "  } else {\n",
    "    return false;\n",
    "  }\n",
    "}\n",
    "\n",
    "age =  19;\n",
    "\n",
    "if ( checkAge(age)) {\n",
    "  console.log( 'Access granted' );\n",
    "} else {\n",
    "  console.log( 'Access denied' );\n",
    "}"
   ]
  },
  {
   "cell_type": "code",
   "execution_count": 25,
   "metadata": {},
   "outputs": [
    {
     "name": "stdout",
     "output_type": "stream",
     "text": [
      "Not allowed\n",
      "Showing you the movie\n"
     ]
    }
   ],
   "source": [
    "function showMovie(age) {\n",
    "  if ( !checkAge(age) ) {\n",
    "      console.log(\"Not allowed\")\n",
    "    return;\n",
    "  }\n",
    "\n",
    "  console.log( \"Showing you the movie\" ); \n",
    "  \n",
    "}\n",
    "showMovie(17)"
   ]
  },
  {
   "cell_type": "markdown",
   "metadata": {},
   "source": [
    "In the code above, if `checkAge(age)` returns `false`, then `showMovie` won’t proceed to the second `console.log` statement."
   ]
  },
  {
   "cell_type": "markdown",
   "metadata": {},
   "source": [
    "**Caution**\n",
    "\n",
    "Never add a newline between `return` and the value\n",
    "\n",
    "For a long expression in `return`, it might be tempting to put it on a separate line, like this:\n",
    "\n",
    "`return\n",
    " (some + long + expression + or + whatever * f(a) + f(b))`\n",
    "\n",
    "That doesn’t work, because JavaScript assumes a semicolon after `return`. That’ll work the same as:\n",
    "\n",
    " `return;\n",
    " (some + long + expression + or + whatever * f(a) + f(b))`\n",
    " \n",
    " So, it effectively becomes an empty return. We should put the value on the same line instead."
   ]
  },
  {
   "cell_type": "markdown",
   "metadata": {},
   "source": [
    "#### Function expressions and arrows\n",
    "\n",
    "The syntax that we used before to define a function is called a *Function declaration* -\n",
    "\n",
    "```js\n",
    "function test(){\n",
    "\\\\some code;\n",
    "}\n",
    "```\n",
    "\n",
    "There is another syntax for creating a function that is called a *Function Expression*.\n",
    "\n",
    "```js\n",
    "let test = function(){\n",
    "\\\\some code\n",
    "};\n",
    "```\n",
    "This is also called an anonymous function. Here, the function is created and assigned to the variable explicitly, like any other value. \n",
    "\n"
   ]
  },
  {
   "cell_type": "code",
   "execution_count": 26,
   "metadata": {},
   "outputs": [
    {
     "name": "stdout",
     "output_type": "stream",
     "text": [
      "[Function: test]\n"
     ]
    }
   ],
   "source": [
    "console.log(test);"
   ]
  },
  {
   "cell_type": "code",
   "execution_count": null,
   "metadata": {
    "collapsed": true
   },
   "outputs": [],
   "source": [
    "alert(test) //in browser, this will show the code of function test"
   ]
  },
  {
   "cell_type": "code",
   "execution_count": 27,
   "metadata": {},
   "outputs": [
    {
     "data": {
      "text/plain": [
       "NaN"
      ]
     },
     "execution_count": 27,
     "metadata": {},
     "output_type": "execute_result"
    }
   ],
   "source": [
    "test1 =  test //since function is a value, you can assign it to any other variable`\n",
    "test1()"
   ]
  },
  {
   "cell_type": "code",
   "execution_count": 28,
   "metadata": {},
   "outputs": [
    {
     "data": {
      "text/plain": [
       "3"
      ]
     },
     "execution_count": 28,
     "metadata": {},
     "output_type": "execute_result"
    }
   ],
   "source": [
    "test(1,2)"
   ]
  },
  {
   "cell_type": "code",
   "execution_count": 29,
   "metadata": {},
   "outputs": [
    {
     "data": {
      "text/plain": [
       "3"
      ]
     },
     "execution_count": 29,
     "metadata": {},
     "output_type": "execute_result"
    }
   ],
   "source": [
    "test1(1,2)"
   ]
  },
  {
   "cell_type": "markdown",
   "metadata": {},
   "source": [
    "##### Why is there a semicolon at the end of function expression but not in function declaration?\n",
    "\n",
    " - There is no need for `;` at the end of code blocks and syntax structures that use them like `if {...}`, `for {}`, `function f{}` etc\n",
    " \n",
    " - A function expression is used inside the statement: `let test = .....;`, as a value. It's not a code block. The semicolon is recommended at the end of statements, no matter what the value is. So the semicolon here is not related to the function expressipon itself in any way, it just terminates the statement. "
   ]
  },
  {
   "cell_type": "markdown",
   "metadata": {},
   "source": [
    "#### Callback functions\n",
    "\n",
    "Let's look at more examples of passing functions as values and using function expressions.\n",
    "\n",
    "We'll write a function `ask(question, yes, no)` with three parameters:\n",
    "\n",
    "`question` - text of the question\n",
    "\n",
    "`yes` - function to run if the answer is 'Yes'\n",
    "\n",
    "`No` - function to run if the answer is 'No'\n",
    "\n",
    "The function should ask the `question` and, depending on the user's answer, call `yes()` or `no()`:"
   ]
  },
  {
   "cell_type": "code",
   "execution_count": null,
   "metadata": {
    "collapsed": true
   },
   "outputs": [],
   "source": [
    "//run this code in browser\n",
    "\n",
    "function ask(question, yes, no) {\n",
    "    if (confirm(question)) yes()\n",
    "    else no();\n",
    "}\n",
    "\n",
    "function showOk() {\n",
    "    alert(\"You agreed\");\n",
    "}\n",
    "function showCancel() {\n",
    "    alert(\"You canceled the execution\");\n",
    "}    \n",
    "\n",
    "//usage: functions showOk, showCancel passed as arguments ot ask\n",
    "ask(\"Do you agree?\", showOk, showCancel);"
   ]
  },
  {
   "cell_type": "markdown",
   "metadata": {},
   "source": [
    "**The arguments of `ask` are called callback functions or just callbacks**\n",
    "\n",
    "The idea is that we pass a function and expect it to be 'called back' later if necessary.\n",
    "\n",
    "Below is the much shorter version of above code which uses function expressions -"
   ]
  },
  {
   "cell_type": "code",
   "execution_count": null,
   "metadata": {
    "collapsed": true
   },
   "outputs": [],
   "source": [
    "//run this on browser\n",
    "\n",
    "function ask(question, yes, no) {\n",
    "  if (confirm(question)) yes()\n",
    "  else no();\n",
    "}\n",
    "\n",
    "ask(\n",
    "  \"Do you agree?\",\n",
    "  function() { alert(\"You agreed.\"); },\n",
    "  function() { alert(\"You canceled the execution.\"); }\n",
    "); "
   ]
  },
  {
   "cell_type": "markdown",
   "metadata": {},
   "source": [
    "#### Function declaration vs Function expression\n",
    "\n",
    "**A Function Expression is created when the execution reaches it and is usable from then on.**\n",
    "\n",
    "Once the execution flow passes to the right side of the assignment `let sum = function…` – here we go, the function is created and can be used (assigned, called, etc. ) from now on.\n",
    "\n",
    "Function Declarations are different.\n",
    "\n",
    "**A Function Declaration is usable in the whole script/code block.**\n",
    "\n",
    "In other words, when JavaScript prepares to run the script or a code block, it first looks for Function Declarations in it and creates the functions. We can think of it as an “initialization stage”.\n",
    "\n",
    "And after all of the Function Declarations are processed, the execution goes on.\n",
    "\n",
    "As a result, *a function declared as a Function Declaration can be called earlier than it is defined.*\n",
    "\n",
    "For example, this works:\n",
    "\n",
    "```js\n",
    "sayHi(\"John\"); // Hello, John\n",
    "\n",
    "function sayHi(name) {\n",
    "  alert( `Hello, ${name}` );\n",
    "}\n",
    "```\n",
    "The Function Declaration `sayHi` is created when JavaScript is preparing to start the script and is visible everywhere in it.\n",
    "\n",
    "…If it was a Function Expression, then it wouldn’t work:\n",
    "\n",
    "```js\n",
    "sayHi(\"John\"); // error!\n",
    "\n",
    "let sayHi = function(name) {  // (*) no magic any more\n",
    "  alert( `Hello, ${name}` );\n",
    "};\n",
    "```\n",
    "Function Expressions are created when the execution reaches them. That would happen only in the line (\\*). Too late.\n",
    "\n",
    "**When a Function Declaration is made within a code block, it is visible everywhere inside that block. But not outside of it.**\n",
    "\n",
    "For instance, let’s imagine that we need to declare a function welcome() depending on the age variable that we get during runtime. And then we plan to use it some time later.\n",
    "\n",
    "The code below doesn’t work:\n",
    "```js\n",
    "let age = prompt(\"What is your age?\", 18);\n",
    "\n",
    "// conditionally declare a function\n",
    "if (age < 18) {\n",
    "\n",
    "  function welcome() {\n",
    "    alert(\"Hello!\");\n",
    "  }\n",
    "\n",
    "} else {\n",
    "\n",
    "  function welcome() {\n",
    "    alert(\"Greetings!\");\n",
    "  }\n",
    "\n",
    "}\n",
    "\n",
    "\n",
    "// ...use it later\n",
    "welcome(); // Error: welcome is not defined\n",
    "```\n",
    "\n",
    "Here’s another example:\n",
    "```js\n",
    "let age = 16; // take 16 as an example\n",
    "\n",
    "if (age < 18) {\n",
    "  welcome();               // \\   (runs)\n",
    "                           //  |\n",
    "  function welcome() {     //  |\n",
    "    alert(\"Hello!\");       //  |  Function Declaration is available\n",
    "  }                        //  |  everywhere in the block where it's declared\n",
    "                           //  |\n",
    "  welcome();               // /   (runs)\n",
    "\n",
    "} else {\n",
    "\n",
    "  function welcome() {     //  for age = 16, this \"welcome\" is never created\n",
    "    alert(\"Greetings!\");\n",
    "  }\n",
    "}\n",
    "\n",
    "// Here we're out of curly braces,\n",
    "// so we can not see Function Declarations made inside of them.\n",
    "\n",
    "welcome(); // Error: welcome is not defined\n",
    "```"
   ]
  },
  {
   "cell_type": "markdown",
   "metadata": {},
   "source": [
    "\n",
    "What can we do to make welcome visible outside of `if`?\n",
    "\n",
    "The correct approach would be to use a Function Expression and assign `welcome` to the variable that is declared outside of `if` and has the proper visibility.\n",
    "\n",
    "Now it works as intended:\n",
    "```js\n",
    "let age = prompt(\"What is your age?\", 18);\n",
    "\n",
    "let welcome;\n",
    "\n",
    "if (age < 18) {\n",
    "\n",
    "  welcome = function() {\n",
    "    alert(\"Hello!\");\n",
    "  };\n",
    "\n",
    "} else {\n",
    "\n",
    "  welcome = function() {\n",
    "    alert(\"Greetings!\");\n",
    "  };\n",
    "\n",
    "}\n",
    "\n",
    "welcome(); // ok now\n",
    "```"
   ]
  },
  {
   "cell_type": "markdown",
   "metadata": {},
   "source": [
    "Or we could simplify it even further using a question mark operator ?:\n",
    "```js\n",
    "let age = prompt(\"What is your age?\", 18);\n",
    "\n",
    "let welcome = (age < 18) ?\n",
    "  function() { alert(\"Hello!\"); } :\n",
    "  function() { alert(\"Greetings!\"); };\n",
    "\n",
    "welcome(); // ok now\n",
    "```"
   ]
  },
  {
   "cell_type": "markdown",
   "metadata": {},
   "source": [
    "#### Arrow Functions\n",
    "\n",
    "There’s one more very simple and concise syntax for creating functions, that’s often better than Function Expressions. It’s called “arrow functions”, because it looks like this:\n",
    "\n",
    "```js\n",
    "let func = (arg1, arg2, ...argN) => expression\n",
    "```\n",
    "\n",
    "…This creates a function `func` that has arguments `arg1..argN`, evaluates the expression on the right side with their use and returns its result.\n",
    "\n",
    "In other words, it’s roughly the same as:\n",
    "```js\n",
    "let func = function(arg1, arg2, ...argN) {\n",
    "  return expression;\n",
    "};\n",
    "```\n",
    "\n",
    "…But much more concise."
   ]
  },
  {
   "cell_type": "code",
   "execution_count": 1,
   "metadata": {},
   "outputs": [
    {
     "name": "stdout",
     "output_type": "stream",
     "text": [
      "3\n"
     ]
    }
   ],
   "source": [
    "let sum = (a, b) => a + b;\n",
    "\n",
    "/* The arrow function is a shorter form of:\n",
    "\n",
    "let sum = function(a, b) {\n",
    "  return a + b;\n",
    "};\n",
    "*/\n",
    "\n",
    "console.log( sum(1, 2) ); // 3"
   ]
  },
  {
   "cell_type": "markdown",
   "metadata": {},
   "source": [
    "If we have only one argument, then parentheses can be omitted, making that even shorter:"
   ]
  },
  {
   "cell_type": "code",
   "execution_count": 2,
   "metadata": {},
   "outputs": [
    {
     "name": "stdout",
     "output_type": "stream",
     "text": [
      "6\n"
     ]
    }
   ],
   "source": [
    "// same as\n",
    "// let double = function(n) { return n * 2 }\n",
    "let double = n => n * 2;\n",
    "\n",
    "console.log( double(3) ); // 6"
   ]
  },
  {
   "cell_type": "markdown",
   "metadata": {},
   "source": [
    "If there are no arguments, parentheses should be empty (but they should be present):"
   ]
  },
  {
   "cell_type": "code",
   "execution_count": 5,
   "metadata": {},
   "outputs": [
    {
     "name": "stdout",
     "output_type": "stream",
     "text": [
      "Hello!\n"
     ]
    }
   ],
   "source": [
    "let SayHi = () => console.log(\"Hello!\");\n",
    "\n",
    "SayHi();"
   ]
  },
  {
   "cell_type": "code",
   "execution_count": null,
   "metadata": {
    "collapsed": true
   },
   "outputs": [],
   "source": [
    "//run this in browser\n",
    "let age = prompt(\"What is your age?\", 18);\n",
    "\n",
    "let welcome = (age < 18) ?\n",
    "  () => alert('Hello') :\n",
    "  () => alert(\"Greetings!\");\n",
    "\n",
    "welcome(); // ok now"
   ]
  },
  {
   "cell_type": "markdown",
   "metadata": {},
   "source": [
    "#### Multiline arrow functions\n",
    "\n",
    "The examples above took arguments from the left of => and evaluated the right-side expression with them.\n",
    "\n",
    "Sometimes we need something a little bit more complex, like multiple expressions or statements. It is also possible, but we should enclose them in curly braces. Then use a normal return within them.\n",
    "\n",
    "Like this:"
   ]
  },
  {
   "cell_type": "code",
   "execution_count": 9,
   "metadata": {},
   "outputs": [
    {
     "name": "stdout",
     "output_type": "stream",
     "text": [
      "3\n"
     ]
    }
   ],
   "source": [
    "let val = (a, b) => {  // the curly brace opens a multiline function\n",
    "  let result = a + b;\n",
    "  return result; // if we use curly braces, use return to get results\n",
    "};\n",
    "\n",
    "console.log( val(1, 2) ); // 3"
   ]
  },
  {
   "cell_type": "code",
   "execution_count": null,
   "metadata": {
    "collapsed": true
   },
   "outputs": [],
   "source": []
  }
 ],
 "metadata": {
  "kernelspec": {
   "display_name": "Javascript (Node.js)",
   "language": "javascript",
   "name": "javascript"
  },
  "language_info": {
   "file_extension": ".js",
   "mimetype": "application/javascript",
   "name": "javascript",
   "version": "8.11.2"
  }
 },
 "nbformat": 4,
 "nbformat_minor": 2
}
