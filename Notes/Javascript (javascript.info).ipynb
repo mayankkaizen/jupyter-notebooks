{
 "cells": [
  {
   "cell_type": "markdown",
   "metadata": {},
   "source": [
    "Run all the codes in browser."
   ]
  },
  {
   "cell_type": "markdown",
   "metadata": {},
   "source": [
    "JS script in HTML\n",
    "\n",
    "```html\n",
    "<script>alert('Hi')</script> //imbedded script\n",
    "<script src= \"path/to/script.js\"></script> //external script\n",
    "<script src= \"path/to/script.js\">alert(\"Hi\")</script> //script.js will be executed. `alert` fxn will be ignored\n",
    "```"
   ]
  },
  {
   "cell_type": "markdown",
   "metadata": {},
   "source": [
    " - semicolon are optional in most cases where a line break exists.\n",
    " - //this is single-line comment\n",
    " - multiline comment -\n",
    "```js\n",
    "/*multiline\n",
    "comment*/\n",
    "```\n",
    " - Nested comments are not allowed\n",
    " - \"`use strict`\" for moder JS features\n",
    "\n",
    "```js\n",
    "\"use strict\";\n",
    "let name = 'mayank';\n",
    "//rest of code\n",
    "```\n",
    "All codes in this notebook use `use strict`\n",
    "\n",
    "#### Variables\n",
    "\n",
    "Use `let` to declare a variable. This is needed in strict mode but not in default mode. In older scripts, we may find the use of `var`. They are almost the same things, except for some subtle differences.\n",
    "\n",
    "Variable name can't start with digits and may contain digits, letters, characters `$` and `_`."
   ]
  },
  {
   "cell_type": "markdown",
   "metadata": {},
   "source": [
    "#### Constants\n",
    "\n",
    "To declare a constant, use `const` instead of let - \n",
    "\n",
    "```js\n",
    "const pi = 3.14\n",
    "```\n",
    "\n",
    "If we try to change the value of `pi`, we will get error."
   ]
  },
  {
   "cell_type": "markdown",
   "metadata": {},
   "source": [
    "### Data Types \n",
    "\n",
    "There are 7 basic data types in JS\n",
    "\n",
    "#### Numbers\n",
    "Both integers and floats. \n",
    " - Regular numbers such as 1,-1,3.13, -4.12\n",
    " - `Infinity`,`-Infinity` and `NaN`\n",
    "\n",
    "`NaN` is sticky. Any further operation on `NaN` returns `NaN`."
   ]
  },
  {
   "cell_type": "code",
   "execution_count": 4,
   "metadata": {},
   "outputs": [
    {
     "data": {
      "text/plain": [
       "NaN"
      ]
     },
     "execution_count": 4,
     "metadata": {},
     "output_type": "execute_result"
    }
   ],
   "source": [
    "NaN + 2"
   ]
  },
  {
   "cell_type": "code",
   "execution_count": 5,
   "metadata": {},
   "outputs": [
    {
     "data": {
      "text/plain": [
       "NaN"
      ]
     },
     "execution_count": 5,
     "metadata": {},
     "output_type": "execute_result"
    }
   ],
   "source": [
    "NaN*2"
   ]
  },
  {
   "cell_type": "markdown",
   "metadata": {},
   "source": [
    "**Note** - Doing math is 'safe' in JS. Division by zero, treating string as number won't crash your progam. At worst, we'll get NaN as the result. "
   ]
  },
  {
   "cell_type": "markdown",
   "metadata": {},
   "source": [
    "#### Strings\n",
    "\n",
    "A string in JS must be surrounded by quotes. There are three ways to represent a string - \n",
    "\n",
    " - \"Hello\" \n",
    " - 'Hello'\n",
    " - \\`Hello\\` \n",
    " \n",
    "Last case is important. We have used backticks (\\`) here to surround a string. This is for extended functionality. This allows us to imbed variables and expressions into a string by wrapping them in `${...}`. See example below -  "
   ]
  },
  {
   "cell_type": "code",
   "execution_count": 8,
   "metadata": {},
   "outputs": [
    {
     "name": "stdout",
     "output_type": "stream",
     "text": [
      "Hello ,Raj\n"
     ]
    }
   ],
   "source": [
    "let student =  'Raj'\n",
    "console.log(`Hello ,${student}`)"
   ]
  },
  {
   "cell_type": "code",
   "execution_count": 9,
   "metadata": {},
   "outputs": [
    {
     "name": "stdout",
     "output_type": "stream",
     "text": [
      "The result is 3\n"
     ]
    }
   ],
   "source": [
    "console.log(`The result is ${1+2}`);"
   ]
  },
  {
   "cell_type": "markdown",
   "metadata": {},
   "source": [
    "#### Booleans\n",
    "`true` and `false`"
   ]
  },
  {
   "cell_type": "code",
   "execution_count": 10,
   "metadata": {},
   "outputs": [
    {
     "name": "stdout",
     "output_type": "stream",
     "text": [
      "true\n"
     ]
    }
   ],
   "source": [
    "let isGreater = 4 > 1;\n",
    "console.log(isGreater);"
   ]
  },
  {
   "cell_type": "markdown",
   "metadata": {},
   "source": [
    "#### The `null` type"
   ]
  },
  {
   "cell_type": "code",
   "execution_count": 11,
   "metadata": {},
   "outputs": [
    {
     "name": "stdout",
     "output_type": "stream",
     "text": [
      "null\n"
     ]
    }
   ],
   "source": [
    "let data = null;\n",
    "console.log(data);"
   ]
  },
  {
   "cell_type": "markdown",
   "metadata": {},
   "source": [
    "#### The `undefined` type"
   ]
  },
  {
   "cell_type": "code",
   "execution_count": 12,
   "metadata": {},
   "outputs": [
    {
     "name": "stdout",
     "output_type": "stream",
     "text": [
      "undefined\n"
     ]
    }
   ],
   "source": [
    "let x;\n",
    "console.log(x)"
   ]
  },
  {
   "cell_type": "markdown",
   "metadata": {},
   "source": [
    "All types discussed so far are called 'primitive' as their values can contain only a single thihng(string or number or whatever)."
   ]
  },
  {
   "cell_type": "markdown",
   "metadata": {},
   "source": [
    "#### The `object` type\n",
    "\n",
    "To store collections of data and more complex entities."
   ]
  },
  {
   "cell_type": "markdown",
   "metadata": {},
   "source": [
    "#### The `symbol` type\n",
    "\n",
    "To create unique identifiers for object."
   ]
  },
  {
   "cell_type": "markdown",
   "metadata": {},
   "source": [
    "### The `typeof` operator\n",
    "\n",
    "The syntax - \n",
    "\n",
    "```js\n",
    "typeof x; //as operator\n",
    "typeof(x) //as function\n",
    " ```\n",
    "Examples - \n",
    "\n",
    "```js\n",
    "typeof undefined //\"undefined\"\n",
    "typeof 0         //\"number\"\n",
    "typeof true      //\"boolean\"\n",
    "typeof \"foo\"     //\"string\"\n",
    "typeof Math      //\"object\"   -1\n",
    "typeof null      //\"object\"   -2\n",
    "typeof alert     //\"function\" -3\n",
    "```\n",
    "\n",
    "1 - `Math` is a builtin object that provides mathematical operations.\n",
    "\n",
    "2 - This is officially recognized error in `typeof`\n",
    "\n",
    "3 - This is also wrong. Functions belong to object. but is useful in practice."
   ]
  },
  {
   "cell_type": "markdown",
   "metadata": {},
   "source": [
    "### Type Conversion\n",
    "\n",
    "Usually operations and functions automatically convert the values given to them to the right type. This is type conversion. For example, `alert` automatically converts any value to string to show it. Mathematical operations convert values to numbers."
   ]
  },
  {
   "cell_type": "markdown",
   "metadata": {},
   "source": [
    "#### ToString"
   ]
  },
  {
   "cell_type": "code",
   "execution_count": 16,
   "metadata": {},
   "outputs": [
    {
     "name": "stdout",
     "output_type": "stream",
     "text": [
      "string\n"
     ]
    }
   ],
   "source": [
    "let y = true;\n",
    "y = String(y)\n",
    "console.log(typeof(y))  //output -> string"
   ]
  },
  {
   "cell_type": "markdown",
   "metadata": {},
   "source": [
    "#### ToNumber\n",
    "\n",
    "Numeric conversion happens in mathematical functions and expressions automatically."
   ]
  },
  {
   "cell_type": "code",
   "execution_count": 17,
   "metadata": {},
   "outputs": [
    {
     "name": "stdout",
     "output_type": "stream",
     "text": [
      "3\n"
     ]
    }
   ],
   "source": [
    "console.log(\"6\"/\"2\")"
   ]
  },
  {
   "cell_type": "code",
   "execution_count": 18,
   "metadata": {},
   "outputs": [
    {
     "name": "stdout",
     "output_type": "stream",
     "text": [
      "number\n"
     ]
    }
   ],
   "source": [
    "console.log(typeof(Number('6')))"
   ]
  },
  {
   "cell_type": "markdown",
   "metadata": {},
   "source": [
    "If string is not a valid number, the result of such a conversion is `NaN`."
   ]
  },
  {
   "cell_type": "code",
   "execution_count": 20,
   "metadata": {},
   "outputs": [
    {
     "name": "stdout",
     "output_type": "stream",
     "text": [
      "NaN\n"
     ]
    }
   ],
   "source": [
    "console.log(Number('SIX'))"
   ]
  },
  {
   "cell_type": "markdown",
   "metadata": {},
   "source": [
    "Numeric conversion rules - \n",
    "\n",
    "|Value|Becomes|\n",
    "|-----|-----|\n",
    "|`undefined`|`NaN`|\n",
    "|null|0|\n",
    "|true, false|1,0|\n",
    "|string|remove leading/trailing whitespaces, if remaining string is empty then 0. Otherwise number is 'read' from string. An error gives `NaN`|\n",
    "\n",
    "**IMPORTANT NOTE**\n",
    "\n",
    "Addition '+' concatenates strings. If any of the operands is string, other is also converted to string. '+' operation is carried out left to right."
   ]
  },
  {
   "cell_type": "code",
   "execution_count": 21,
   "metadata": {},
   "outputs": [
    {
     "data": {
      "text/plain": [
       "'12'"
      ]
     },
     "execution_count": 21,
     "metadata": {},
     "output_type": "execute_result"
    }
   ],
   "source": [
    "1 + '2'"
   ]
  },
  {
   "cell_type": "code",
   "execution_count": 22,
   "metadata": {},
   "outputs": [
    {
     "data": {
      "text/plain": [
       "'33'"
      ]
     },
     "execution_count": 22,
     "metadata": {},
     "output_type": "execute_result"
    }
   ],
   "source": [
    "1+2+'3'"
   ]
  },
  {
   "cell_type": "markdown",
   "metadata": {},
   "source": [
    "#### ToBoolean\n",
    "\n",
    "Values that are intuitively 'empty', like 0,'' (empty string), null, `NaN` and `undefined`, become `false`. All other are `true`. "
   ]
  },
  {
   "cell_type": "code",
   "execution_count": 23,
   "metadata": {},
   "outputs": [
    {
     "data": {
      "text/plain": [
       "false"
      ]
     },
     "execution_count": 23,
     "metadata": {},
     "output_type": "execute_result"
    }
   ],
   "source": [
    "Boolean('')"
   ]
  },
  {
   "cell_type": "code",
   "execution_count": 24,
   "metadata": {},
   "outputs": [
    {
     "data": {
      "text/plain": [
       "true"
      ]
     },
     "execution_count": 24,
     "metadata": {},
     "output_type": "execute_result"
    }
   ],
   "source": [
    "Boolean(' ') //this is not empty string"
   ]
  },
  {
   "cell_type": "code",
   "execution_count": 25,
   "metadata": {},
   "outputs": [
    {
     "data": {
      "text/plain": [
       "true"
      ]
     },
     "execution_count": 25,
     "metadata": {},
     "output_type": "execute_result"
    }
   ],
   "source": [
    "Boolean('0') //this is not empty string"
   ]
  },
  {
   "cell_type": "markdown",
   "metadata": {},
   "source": [
    "### Operators\n",
    "\n",
    "**`'+'`**\n",
    "\n",
    "We have already seen how binay `+` operation works. There is also a unary '+' operation which converts a value to a number. This makes it similar to the `Number()` function."
   ]
  },
  {
   "cell_type": "code",
   "execution_count": 26,
   "metadata": {},
   "outputs": [
    {
     "name": "stdout",
     "output_type": "stream",
     "text": [
      "1\n"
     ]
    }
   ],
   "source": [
    "console.log(+true)"
   ]
  },
  {
   "cell_type": "code",
   "execution_count": 27,
   "metadata": {},
   "outputs": [
    {
     "name": "stdout",
     "output_type": "stream",
     "text": [
      "6\n"
     ]
    }
   ],
   "source": [
    "console.log(+'6')"
   ]
  },
  {
   "cell_type": "markdown",
   "metadata": {},
   "source": [
    "#### Operator precedence\n",
    "\n",
    "unary+, unary- > multiplication, division > addition,subtraction > assignment"
   ]
  },
  {
   "cell_type": "markdown",
   "metadata": {},
   "source": [
    "#### Increment/Decrement\n",
    "\n",
    "Increase/decrease the value by 1. Two form of syntax - prefix and postfix. Both are same unless in the case of assignment. \n"
   ]
  },
  {
   "cell_type": "code",
   "execution_count": 28,
   "metadata": {},
   "outputs": [
    {
     "name": "stdout",
     "output_type": "stream",
     "text": [
      "3\n"
     ]
    }
   ],
   "source": [
    "let counter = 2;\n",
    "counter++;       //++counter is also valid here. \n",
    "console.log(counter)"
   ]
  },
  {
   "cell_type": "code",
   "execution_count": 31,
   "metadata": {},
   "outputs": [
    {
     "name": "stdout",
     "output_type": "stream",
     "text": [
      "2\n"
     ]
    }
   ],
   "source": [
    "let value = 2\n",
    "xx = value++\n",
    "console.log(xx)"
   ]
  },
  {
   "cell_type": "markdown",
   "metadata": {},
   "source": [
    "Above, current `value` is assigned to `xx` *before* it is incremented."
   ]
  },
  {
   "cell_type": "code",
   "execution_count": 32,
   "metadata": {},
   "outputs": [
    {
     "name": "stdout",
     "output_type": "stream",
     "text": [
      "3\n"
     ]
    }
   ],
   "source": [
    "let value1 = 2\n",
    "yy = ++value1\n",
    "console.log(yy)"
   ]
  },
  {
   "cell_type": "markdown",
   "metadata": {},
   "source": [
    "Above, `value1` is assigned to `yy` *after* it is incremented."
   ]
  },
  {
   "cell_type": "markdown",
   "metadata": {},
   "source": [
    "#### Bitwise operation \n",
    "skipped\n",
    "\n",
    "#### Modify in place\n",
    "\n"
   ]
  },
  {
   "cell_type": "code",
   "execution_count": 34,
   "metadata": {},
   "outputs": [
    {
     "name": "stdout",
     "output_type": "stream",
     "text": [
      "5\n"
     ]
    }
   ],
   "source": [
    "let v = 2\n",
    "v += 3\n",
    "console.log(v)"
   ]
  },
  {
   "cell_type": "markdown",
   "metadata": {},
   "source": [
    "#### Comma"
   ]
  },
  {
   "cell_type": "code",
   "execution_count": 35,
   "metadata": {},
   "outputs": [
    {
     "name": "stdout",
     "output_type": "stream",
     "text": [
      "7\n"
     ]
    }
   ],
   "source": [
    "let aa = (1+2, 3+4);\n",
    "console.log(aa);  //only last value will be kept. Earlier calculation will be discarded."
   ]
  },
  {
   "cell_type": "markdown",
   "metadata": {},
   "source": [
    "#### Comparison\n",
    "\n",
    "Result of comparison is boolean."
   ]
  },
  {
   "cell_type": "code",
   "execution_count": 1,
   "metadata": {},
   "outputs": [
    {
     "data": {
      "text/plain": [
       "true"
      ]
     },
     "execution_count": 1,
     "metadata": {},
     "output_type": "execute_result"
    }
   ],
   "source": [
    "2 > 1"
   ]
  },
  {
   "cell_type": "code",
   "execution_count": 2,
   "metadata": {},
   "outputs": [
    {
     "data": {
      "text/plain": [
       "false"
      ]
     },
     "execution_count": 2,
     "metadata": {},
     "output_type": "execute_result"
    }
   ],
   "source": [
    "2 != 2"
   ]
  },
  {
   "cell_type": "markdown",
   "metadata": {},
   "source": [
    "A comparison result can be assigned to a variable, just like any value:"
   ]
  },
  {
   "cell_type": "code",
   "execution_count": 3,
   "metadata": {},
   "outputs": [
    {
     "name": "stdout",
     "output_type": "stream",
     "text": [
      "true\n"
     ]
    }
   ],
   "source": [
    "let result =  2 > 1\n",
    "console.log(result)"
   ]
  },
  {
   "cell_type": "markdown",
   "metadata": {},
   "source": [
    "#### String comparison\n",
    "\n",
    "To see whether a string is greater than another, JavaScript uses the so-called “dictionary” or “lexicographical” order.\n",
    "\n",
    "In other words, strings are compared letter-by-letter.\n",
    "\n",
    "For example:"
   ]
  },
  {
   "cell_type": "code",
   "execution_count": 4,
   "metadata": {},
   "outputs": [
    {
     "name": "stdout",
     "output_type": "stream",
     "text": [
      "true\n"
     ]
    }
   ],
   "source": [
    "console.log('Z' > 'A')"
   ]
  },
  {
   "cell_type": "code",
   "execution_count": 5,
   "metadata": {},
   "outputs": [
    {
     "name": "stdout",
     "output_type": "stream",
     "text": [
      "true\n"
     ]
    }
   ],
   "source": [
    "console.log('Bee' > 'Be')"
   ]
  },
  {
   "cell_type": "markdown",
   "metadata": {},
   "source": [
    "The algorithm to compare two strings is simple:\n",
    "\n",
    "1 - Compare the first character of both strings.\n",
    " \n",
    "2 - If the first character from the first string is greater (or less) than the other string’s, then the first string is greater (or less) than the second. We’re done.\n",
    "\n",
    "3 - Otherwise, if both strings’ first characters are the same, compare the second characters the same way.\n",
    "\n",
    "4 - Repeat until the end of either string.\n",
    "\n",
    "5 - If both strings end at the same length, then they are equal. Otherwise, the longer string is greater.\n",
    "\n"
   ]
  },
  {
   "cell_type": "markdown",
   "metadata": {},
   "source": [
    "##### Not a real dictionary, but Unicode order\n",
    "\n",
    "The comparison algorithm given above is roughly equivalent to the one used in dictionaries or phone books, but it’s not exactly the same.\n",
    "\n",
    "For instance, case matters. A capital letter \"A\" is not equal to the lowercase \"a\". Which one is greater? The lowercase \"a\". Why? Because the lowercase character has a greater index in the internal encoding table JavaScript uses (Unicode)."
   ]
  },
  {
   "cell_type": "code",
   "execution_count": 6,
   "metadata": {},
   "outputs": [
    {
     "name": "stdout",
     "output_type": "stream",
     "text": [
      "true\n"
     ]
    }
   ],
   "source": [
    "console.log('a' > 'A')"
   ]
  },
  {
   "cell_type": "markdown",
   "metadata": {},
   "source": [
    "#### Comparison of different types\n",
    "\n",
    "When comparing values of different types, JavaScript converts the values to numbers.\n",
    "\n",
    "For example:"
   ]
  },
  {
   "cell_type": "code",
   "execution_count": 7,
   "metadata": {},
   "outputs": [
    {
     "data": {
      "text/plain": [
       "true"
      ]
     },
     "execution_count": 7,
     "metadata": {},
     "output_type": "execute_result"
    }
   ],
   "source": [
    "'1' > 0"
   ]
  },
  {
   "cell_type": "code",
   "execution_count": 8,
   "metadata": {},
   "outputs": [
    {
     "data": {
      "text/plain": [
       "true"
      ]
     },
     "execution_count": 8,
     "metadata": {},
     "output_type": "execute_result"
    }
   ],
   "source": [
    "true == 1"
   ]
  },
  {
   "cell_type": "markdown",
   "metadata": {},
   "source": [
    "#### Interesting bit -\n",
    "\n",
    "It is possible that at the same time:\n",
    "\n",
    " - Two values are equal.\n",
    " - One of them is true as a boolean and the other one is false as a boolean.\n",
    "\n",
    "For example:"
   ]
  },
  {
   "cell_type": "code",
   "execution_count": 9,
   "metadata": {},
   "outputs": [
    {
     "data": {
      "text/plain": [
       "false"
      ]
     },
     "execution_count": 9,
     "metadata": {},
     "output_type": "execute_result"
    }
   ],
   "source": [
    "let a = 0, b = '0'\n",
    "Boolean(a) == Boolean(b)"
   ]
  },
  {
   "cell_type": "code",
   "execution_count": 10,
   "metadata": {},
   "outputs": [
    {
     "data": {
      "text/plain": [
       "true"
      ]
     },
     "execution_count": 10,
     "metadata": {},
     "output_type": "execute_result"
    }
   ],
   "source": [
    "a == b"
   ]
  },
  {
   "cell_type": "markdown",
   "metadata": {},
   "source": [
    "From JavaScript’s standpoint, this result is quite normal. An equality check converts values using the numeric conversion (hence \"0\" becomes 0), while the explicit Boolean conversion uses another set of rules.\n",
    "\n",
    "#### Strict Equality\n",
    "\n",
    "A regular equality check == has a problem. It cannot differentiate 0 from false:"
   ]
  },
  {
   "cell_type": "code",
   "execution_count": 11,
   "metadata": {},
   "outputs": [
    {
     "data": {
      "text/plain": [
       "true"
      ]
     },
     "execution_count": 11,
     "metadata": {},
     "output_type": "execute_result"
    }
   ],
   "source": [
    "0 == false"
   ]
  },
  {
   "cell_type": "code",
   "execution_count": 12,
   "metadata": {},
   "outputs": [
    {
     "data": {
      "text/plain": [
       "true"
      ]
     },
     "execution_count": 12,
     "metadata": {},
     "output_type": "execute_result"
    }
   ],
   "source": [
    "'' == false"
   ]
  },
  {
   "cell_type": "markdown",
   "metadata": {},
   "source": [
    "##### A strict equality operator === checks the equality without type conversion.\n",
    "\n"
   ]
  },
  {
   "cell_type": "code",
   "execution_count": 13,
   "metadata": {},
   "outputs": [
    {
     "data": {
      "text/plain": [
       "false"
      ]
     },
     "execution_count": 13,
     "metadata": {},
     "output_type": "execute_result"
    }
   ],
   "source": [
    "0 === false"
   ]
  },
  {
   "cell_type": "markdown",
   "metadata": {},
   "source": [
    "There is also a “strict non-equality” operator !== analogous to !=\n",
    "\n",
    "#### Comparison with `null` and  `undefined`    "
   ]
  },
  {
   "cell_type": "code",
   "execution_count": 14,
   "metadata": {},
   "outputs": [
    {
     "data": {
      "text/plain": [
       "true"
      ]
     },
     "execution_count": 14,
     "metadata": {},
     "output_type": "execute_result"
    }
   ],
   "source": [
    "null == undefined"
   ]
  },
  {
   "cell_type": "markdown",
   "metadata": {},
   "source": [
    "The above result is unexpected. You'd expect `null` to be converted to 0 and `undefined` to `NaN` and 0 is not the same as `NaN`.\n",
    "\n",
    "There is a special rule for this non-strict `==` equality check. `null` and `undefined` are equal to each other (in the sense of ==) but not equal to any other value. \n",
    "\n",
    "However, for math operations and other comparison (<, >, =<, =>), they are converted to numbers before we do anything with them. \n",
    "\n",
    "Keeping these points in mind, consider following examples - "
   ]
  },
  {
   "cell_type": "code",
   "execution_count": 15,
   "metadata": {},
   "outputs": [
    {
     "data": {
      "text/plain": [
       "false"
      ]
     },
     "execution_count": 15,
     "metadata": {},
     "output_type": "execute_result"
    }
   ],
   "source": [
    "null >  0"
   ]
  },
  {
   "cell_type": "code",
   "execution_count": 16,
   "metadata": {},
   "outputs": [
    {
     "data": {
      "text/plain": [
       "false"
      ]
     },
     "execution_count": 16,
     "metadata": {},
     "output_type": "execute_result"
    }
   ],
   "source": [
    "null == 0"
   ]
  },
  {
   "cell_type": "code",
   "execution_count": 17,
   "metadata": {},
   "outputs": [
    {
     "data": {
      "text/plain": [
       "true"
      ]
     },
     "execution_count": 17,
     "metadata": {},
     "output_type": "execute_result"
    }
   ],
   "source": [
    "null >= 0 //null is converted to 0"
   ]
  },
  {
   "cell_type": "code",
   "execution_count": 18,
   "metadata": {},
   "outputs": [
    {
     "data": {
      "text/plain": [
       "false"
      ]
     },
     "execution_count": 18,
     "metadata": {},
     "output_type": "execute_result"
    }
   ],
   "source": [
    "undefined > 0 //undefined is converted to NaN"
   ]
  },
  {
   "cell_type": "code",
   "execution_count": 19,
   "metadata": {},
   "outputs": [
    {
     "data": {
      "text/plain": [
       "true"
      ]
     },
     "execution_count": 19,
     "metadata": {},
     "output_type": "execute_result"
    }
   ],
   "source": [
    "undefined == null //they equal each other"
   ]
  },
  {
   "cell_type": "code",
   "execution_count": 20,
   "metadata": {},
   "outputs": [
    {
     "data": {
      "text/plain": [
       "false"
      ]
     },
     "execution_count": 20,
     "metadata": {},
     "output_type": "execute_result"
    }
   ],
   "source": [
    "undefined >= 0 //undefined is converted to NaN"
   ]
  },
  {
   "cell_type": "markdown",
   "metadata": {},
   "source": [
    "#### Interaction: alert, prompt, confirm\n",
    "\n",
    "skipped"
   ]
  },
  {
   "cell_type": "markdown",
   "metadata": {},
   "source": [
    "#### Conditional operators: `if` and `?`"
   ]
  },
  {
   "cell_type": "code",
   "execution_count": 25,
   "metadata": {},
   "outputs": [
    {
     "name": "stdout",
     "output_type": "stream",
     "text": [
      "data is 1947\n"
     ]
    }
   ],
   "source": [
    "let input_year = 1947\n",
    "if (input_year = 1947) console.log(`data is ${input_year}`)\n"
   ]
  },
  {
   "cell_type": "code",
   "execution_count": 26,
   "metadata": {},
   "outputs": [
    {
     "name": "stdout",
     "output_type": "stream",
     "text": [
      "data is 1947\n",
      "Done\n"
     ]
    }
   ],
   "source": [
    "if (input_year = 1947) {\n",
    "    console.log(`data is ${input_year}`)\n",
    "    console.log('Done')} //use curly braces for multiline block"
   ]
  },
  {
   "cell_type": "code",
   "execution_count": 27,
   "metadata": {},
   "outputs": [
    {
     "name": "stdout",
     "output_type": "stream",
     "text": [
      "else clause executed\n"
     ]
    }
   ],
   "source": [
    "if(0) {console.log(\"This won't be printed\" )} //if(0) -> if clause won't be executed.\n",
    "else {console.log(\"else clause executed\")}    //notice else clause"
   ]
  },
  {
   "cell_type": "code",
   "execution_count": 32,
   "metadata": {},
   "outputs": [
    {
     "name": "stdout",
     "output_type": "stream",
     "text": [
      "Your age is more than 30\n"
     ]
    }
   ],
   "source": [
    "let my_age = 35\n",
    "if (my_age <10) {console.log(\"Your age is less than 10\")}\n",
    "else if (10 <= my_age  && my_age <=30) {console.log(\"Your age is betwen 10 and 30\")} //notice use of && and else-if\n",
    "else {console.log(\"Your age is more than 30\")}                              "
   ]
  },
  {
   "cell_type": "markdown",
   "metadata": {},
   "source": [
    "#### Ternary operator `?`\n",
    "\n",
    "```js\n",
    "let result = condition ? value1 : value2;\n",
    "```"
   ]
  },
  {
   "cell_type": "code",
   "execution_count": 33,
   "metadata": {},
   "outputs": [
    {
     "name": "stdout",
     "output_type": "stream",
     "text": [
      "false\n"
     ]
    }
   ],
   "source": [
    "let your_age = 17;\n",
    "let permission =  (your_age > 18) ? true : false\n",
    "console.log(permission)"
   ]
  },
  {
   "cell_type": "code",
   "execution_count": 36,
   "metadata": {},
   "outputs": [
    {
     "data": {
      "text/plain": [
       "'Not young enough!'"
      ]
     },
     "execution_count": 36,
     "metadata": {},
     "output_type": "execute_result"
    }
   ],
   "source": [
    "let ur_age = 40\n",
    "message = (ur_age < 18) ? \"Too young!\" : (ur_age < 35) ? \"Good\" : \"Not young enough!\""
   ]
  },
  {
   "cell_type": "markdown",
   "metadata": {},
   "source": [
    "#### Logical Operators\n",
    "\n",
    "There are three logical operators in JavaScript: `|| (OR)`, `&& (AND)`, `! (NOT)`\n",
    ".\n",
    "\n",
    "Although they are called “logical”, they can be applied to values of any type, not only boolean. Their result can also be of any type.\n",
    "\n",
    "#### `|| (OR)`\n",
    "In classical programming, the logical OR is meant to manipulate boolean values only. If any of its arguments are true, it returns true, otherwise it returns false. But in JS you can use values of any type, though they are converted to boolean values. "
   ]
  },
  {
   "cell_type": "code",
   "execution_count": 37,
   "metadata": {},
   "outputs": [
    {
     "data": {
      "text/plain": [
       "true"
      ]
     },
     "execution_count": 37,
     "metadata": {},
     "output_type": "execute_result"
    }
   ],
   "source": [
    "true || true"
   ]
  },
  {
   "cell_type": "code",
   "execution_count": 38,
   "metadata": {},
   "outputs": [
    {
     "data": {
      "text/plain": [
       "true"
      ]
     },
     "execution_count": 38,
     "metadata": {},
     "output_type": "execute_result"
    }
   ],
   "source": [
    "true || false"
   ]
  },
  {
   "cell_type": "code",
   "execution_count": 39,
   "metadata": {},
   "outputs": [
    {
     "data": {
      "text/plain": [
       "true"
      ]
     },
     "execution_count": 39,
     "metadata": {},
     "output_type": "execute_result"
    }
   ],
   "source": [
    "false || true"
   ]
  },
  {
   "cell_type": "code",
   "execution_count": 40,
   "metadata": {},
   "outputs": [
    {
     "data": {
      "text/plain": [
       "false"
      ]
     },
     "execution_count": 40,
     "metadata": {},
     "output_type": "execute_result"
    }
   ],
   "source": [
    "false || false"
   ]
  },
  {
   "cell_type": "code",
   "execution_count": 41,
   "metadata": {},
   "outputs": [
    {
     "data": {
      "text/plain": [
       "1"
      ]
     },
     "execution_count": 41,
     "metadata": {},
     "output_type": "execute_result"
    }
   ],
   "source": [
    "1 || 0"
   ]
  },
  {
   "cell_type": "code",
   "execution_count": 42,
   "metadata": {},
   "outputs": [
    {
     "data": {
      "text/plain": [
       "2"
      ]
     },
     "execution_count": 42,
     "metadata": {},
     "output_type": "execute_result"
    }
   ],
   "source": [
    "'' || 2"
   ]
  },
  {
   "cell_type": "markdown",
   "metadata": {},
   "source": [
    "Most of the time, OR || is used in an `if` statement to test if any of the given conditions is true."
   ]
  },
  {
   "cell_type": "code",
   "execution_count": 43,
   "metadata": {},
   "outputs": [
    {
     "name": "stdout",
     "output_type": "stream",
     "text": [
      "count is either greater 10 or less than 8\n"
     ]
    }
   ],
   "source": [
    "let count = 7\n",
    "if (count > 10 || count < 8){console.log(\"count is either greater 10 or less than 8\")}"
   ]
  },
  {
   "cell_type": "markdown",
   "metadata": {},
   "source": [
    "However, logical operation are more powerful. For multiple `OR`'ed values:\n",
    "\n",
    "```js\n",
    "let result = value1 || value2 || value3;\n",
    "```\n",
    "\n",
    "**The result would be first truth-y value. If all values are false, last value would be returned. **"
   ]
  },
  {
   "cell_type": "code",
   "execution_count": 44,
   "metadata": {},
   "outputs": [
    {
     "data": {
      "text/plain": [
       "1"
      ]
     },
     "execution_count": 44,
     "metadata": {},
     "output_type": "execute_result"
    }
   ],
   "source": [
    "1 || '' || 2 //first value 1 is true, hence 1 is returned"
   ]
  },
  {
   "cell_type": "code",
   "execution_count": 45,
   "metadata": {},
   "outputs": [
    {
     "data": {
      "text/plain": [
       "null"
      ]
     },
     "execution_count": 45,
     "metadata": {},
     "output_type": "execute_result"
    }
   ],
   "source": [
    "'' || 0 || null //all are false, hence last value"
   ]
  },
  {
   "cell_type": "code",
   "execution_count": 46,
   "metadata": {},
   "outputs": [
    {
     "data": {
      "text/plain": [
       "3"
      ]
     },
     "execution_count": 46,
     "metadata": {},
     "output_type": "execute_result"
    }
   ],
   "source": [
    "'' || 0 || 3"
   ]
  },
  {
   "cell_type": "markdown",
   "metadata": {},
   "source": [
    "#### `AND &&`\n",
    "\n",
    "Similarly, in the case of multiple AND'ed values:\n",
    "\n",
    "```js\n",
    "let result =  value1 && value2 && value3\n",
    "```\n",
    "\n",
    "**The result would be first false-y value. If all values are true, last value would be returned**"
   ]
  },
  {
   "cell_type": "code",
   "execution_count": 48,
   "metadata": {},
   "outputs": [
    {
     "data": {
      "text/plain": [
       "3"
      ]
     },
     "execution_count": 48,
     "metadata": {},
     "output_type": "execute_result"
    }
   ],
   "source": [
    "1 && 2 && 3 //all are true hence last value is returned"
   ]
  },
  {
   "cell_type": "code",
   "execution_count": 50,
   "metadata": {},
   "outputs": [
    {
     "data": {
      "text/plain": [
       "0"
      ]
     },
     "execution_count": 50,
     "metadata": {},
     "output_type": "execute_result"
    }
   ],
   "source": [
    "2 && 0 && '' // first false-y value encountered is 0 hence 0 is returned"
   ]
  },
  {
   "cell_type": "code",
   "execution_count": 51,
   "metadata": {},
   "outputs": [
    {
     "name": "stdout",
     "output_type": "stream",
     "text": [
      "John\n"
     ]
    }
   ],
   "source": [
    "let currentUser = null;\n",
    "let defaultUser = \"John\";\n",
    "\n",
    "let user_name = currentUser || defaultUser || \"unnamed\";\n",
    "\n",
    "console.log(user_name); // selects \"John\" – the first truthy value"
   ]
  },
  {
   "cell_type": "code",
   "execution_count": 52,
   "metadata": {},
   "outputs": [
    {
     "name": "stdout",
     "output_type": "stream",
     "text": [
      "undefined\n"
     ]
    }
   ],
   "source": [
    "let zz;\n",
    "\n",
    "true || (zz = 1);\n",
    "\n",
    "console.log(zz); // undefined, because (zz = 1) not evaluated"
   ]
  },
  {
   "cell_type": "code",
   "execution_count": 53,
   "metadata": {},
   "outputs": [
    {
     "name": "stdout",
     "output_type": "stream",
     "text": [
      "1\n"
     ]
    }
   ],
   "source": [
    "let zzz;\n",
    "\n",
    "false || (zzz = 1);\n",
    "\n",
    "console.log(zzz); // 1, because (zzz = 1) evaluated"
   ]
  },
  {
   "cell_type": "markdown",
   "metadata": {},
   "source": [
    "\n",
    "##### Precedence of AND && is higher than OR ||\n",
    "\n",
    "The precedence of `AND &&` operator is higher than `OR ||`.\n",
    "\n",
    "So the code `a && b || c && d` is essentially the same as if the `&&` expressions were in parentheses: `(a && b) || (c && d)`.\n"
   ]
  },
  {
   "cell_type": "markdown",
   "metadata": {},
   "source": [
    "#### `! (NOT)`\n",
    "\n",
    "The boolean `NOT` operator is represented with an exclamation sign `!`.\n",
    "\n",
    "The syntax is pretty simple:\n",
    "\n",
    "```js\n",
    "result = !value;\n",
    "```\n",
    "\n",
    "The operator accepts a single argument and does the following:\n",
    "\n",
    " - Converts the operand to boolean type: true/false.\n",
    " - Returns the inverse value.\n"
   ]
  },
  {
   "cell_type": "code",
   "execution_count": 54,
   "metadata": {},
   "outputs": [
    {
     "data": {
      "text/plain": [
       "false"
      ]
     },
     "execution_count": 54,
     "metadata": {},
     "output_type": "execute_result"
    }
   ],
   "source": [
    "!(true)"
   ]
  },
  {
   "cell_type": "code",
   "execution_count": 55,
   "metadata": {},
   "outputs": [
    {
     "data": {
      "text/plain": [
       "false"
      ]
     },
     "execution_count": 55,
     "metadata": {},
     "output_type": "execute_result"
    }
   ],
   "source": [
    "!(1)"
   ]
  },
  {
   "cell_type": "code",
   "execution_count": 56,
   "metadata": {},
   "outputs": [
    {
     "data": {
      "text/plain": [
       "true"
      ]
     },
     "execution_count": 56,
     "metadata": {},
     "output_type": "execute_result"
    }
   ],
   "source": [
    "!(0)"
   ]
  },
  {
   "cell_type": "markdown",
   "metadata": {},
   "source": [
    "### Loops: `while` and `for`\n",
    "\n",
    "```js\n",
    "while (condition) {\n",
    "//code\n",
    "}\n",
    "```"
   ]
  },
  {
   "cell_type": "code",
   "execution_count": 1,
   "metadata": {},
   "outputs": [
    {
     "name": "stdout",
     "output_type": "stream",
     "text": [
      "0\n",
      "1\n",
      "2\n"
     ]
    },
    {
     "data": {
      "text/plain": [
       "2"
      ]
     },
     "execution_count": 1,
     "metadata": {},
     "output_type": "execute_result"
    }
   ],
   "source": [
    "\"use strict\"\n",
    "let i = 0;\n",
    "while (i<3) {\n",
    "    console.log(i);\n",
    "    i++;\n",
    "}\n",
    "\n",
    "// for single line loop body, brackets are not required"
   ]
  },
  {
   "cell_type": "markdown",
   "metadata": {},
   "source": [
    "### `do...while` loop\n",
    "\n",
    "```js\n",
    "do {\n",
    "//loop body\n",
    "} while (condition);\n",
    "```\n"
   ]
  },
  {
   "cell_type": "code",
   "execution_count": 5,
   "metadata": {},
   "outputs": [
    {
     "name": "stdout",
     "output_type": "stream",
     "text": [
      "0\n",
      "1\n",
      "2\n"
     ]
    },
    {
     "data": {
      "text/plain": [
       "2"
      ]
     },
     "execution_count": 5,
     "metadata": {},
     "output_type": "execute_result"
    }
   ],
   "source": [
    "\"use strict\"\n",
    "let k = 0;\n",
    "do {\n",
    "    console.log(k);\n",
    "    k++;\n",
    "} while (k < 3);\n"
   ]
  },
  {
   "cell_type": "markdown",
   "metadata": {},
   "source": [
    "### `for` loop\n",
    "\n",
    "```js\n",
    "for (begin; condition; step) {\n",
    "// ...loop body\n",
    "}\n",
    "```\n",
    "\n",
    "Any part of `for` can be skipped. However, semi-colon must still be there. "
   ]
  },
  {
   "cell_type": "code",
   "execution_count": 9,
   "metadata": {},
   "outputs": [
    {
     "name": "stdout",
     "output_type": "stream",
     "text": [
      "0\n",
      "1\n",
      "2\n"
     ]
    }
   ],
   "source": [
    "\"use strict\"\n",
    "for (let i = 0; i < 3; i++) {\n",
    "    console.log(i);\n",
    "}"
   ]
  },
  {
   "cell_type": "markdown",
   "metadata": {},
   "source": [
    "Note that in above example, the variable `i` is declared right in the loop. This is called an 'inline' variable declaration. such variables are visible only inside the loop."
   ]
  },
  {
   "cell_type": "code",
   "execution_count": 1,
   "metadata": {
    "collapsed": true
   },
   "outputs": [
    {
     "name": "stdout",
     "output_type": "stream",
     "text": [
      "0\n",
      "1\n",
      "2\n"
     ]
    },
    {
     "ename": "ReferenceError",
     "evalue": "i is not defined",
     "output_type": "error",
     "traceback": [
      "evalmachine.<anonymous>:5",
      "console.log(i)",
      "            ^",
      "",
      "ReferenceError: i is not defined",
      "    at evalmachine.<anonymous>:5:13",
      "    at ContextifyScript.Script.runInThisContext (vm.js:50:33)",
      "    at Object.runInThisContext (vm.js:139:38)",
      "    at run ([eval]:1002:15)",
      "    at onRunRequest ([eval]:829:18)",
      "    at onMessage ([eval]:789:13)",
      "    at emitTwo (events.js:126:13)",
      "    at process.emit (events.js:214:7)",
      "    at emit (internal/child_process.js:772:12)",
      "    at _combinedTickCallback (internal/process/next_tick.js:141:11)"
     ]
    }
   ],
   "source": [
    "\"use strict\"\n",
    "for (let i = 0; i < 3; i++) {\n",
    "    console.log(i);\n",
    "}\n",
    "console.log(i)"
   ]
  },
  {
   "cell_type": "markdown",
   "metadata": {},
   "source": [
    "Run above code in browser. Output will be - \n",
    "\n",
    "`ReferenceError: i is not defined`"
   ]
  },
  {
   "cell_type": "code",
   "execution_count": null,
   "metadata": {
    "collapsed": true
   },
   "outputs": [],
   "source": [
    "\"use strict\"\n",
    "\n",
    "let sum = 0;\n",
    "while (true) {\n",
    "    let value = +prompt(\"Enter a number\");\n",
    "    if (!value) break;\n",
    "    sum += value;\n",
    "}\n",
    "console.log(sum)"
   ]
  },
  {
   "cell_type": "markdown",
   "metadata": {},
   "source": [
    "### Continue to next iteration\n",
    "\n",
    "It stops the current iteration and forces the loop to start a new one (if the condition allows)."
   ]
  },
  {
   "cell_type": "code",
   "execution_count": 59,
   "metadata": {},
   "outputs": [
    {
     "name": "stdout",
     "output_type": "stream",
     "text": [
      "0\n",
      "1\n",
      "2\n",
      "4\n",
      "5\n",
      "6\n",
      "7\n",
      "8\n",
      "9\n"
     ]
    }
   ],
   "source": [
    "for (let i = 0; i < 10; i++){\n",
    "    if(i == 3) continue\n",
    "    console.log(i)\n",
    "}"
   ]
  },
  {
   "cell_type": "markdown",
   "metadata": {
    "collapsed": true
   },
   "source": [
    "#### Labels for `break/continue`"
   ]
  },
  {
   "cell_type": "markdown",
   "metadata": {},
   "source": [
    "Sometimes we need to break out from multiple nested loops at once.\n",
    "\n",
    "For example, in the code below we loop over `i` and `j`, prompting for the coordinates (`i, j`) from (`0,0`) to (`3,3`):\n",
    "\n",
    "```js\n",
    "for (let i = 0; i < 3; i++) {\n",
    "\n",
    "  for (let j = 0; j < 3; j++) {\n",
    "\n",
    "    let input = prompt(`Value at coords (${i},${j})`, '');\n",
    "\n",
    "    // what if I want to exit from here to Done (below)?\n",
    "\n",
    "  }\n",
    "}\n",
    "\n",
    "alert('Done!');\n",
    "```\n",
    "\n",
    "We need a way to stop the process if the user cancels the input.\n",
    "\n",
    "The ordinary break after input would only break the inner loop. That’s not sufficient–labels, come to the rescue!\n",
    "\n",
    "A label is an identifier with a colon before a loop:\n",
    "\n",
    "```js\n",
    "labelName: for (...) {\n",
    "  ...\n",
    "}\n",
    "```"
   ]
  },
  {
   "cell_type": "code",
   "execution_count": null,
   "metadata": {
    "collapsed": true
   },
   "outputs": [],
   "source": [
    "//run this code in browser\n",
    "\n",
    "outer: for (let i = 0; i < 3; i++) {\n",
    "\n",
    "  for (let j = 0; j < 3; j++) {\n",
    "\n",
    "    let input = prompt(`Value at coords (${i},${j})`, '');\n",
    "\n",
    "    // if an empty string or canceled, then break out of both loops\n",
    "    if (!input) break outer; // (*)\n",
    "\n",
    "    // do something with the value...\n",
    "  }\n",
    "}\n",
    "alert('Done!');"
   ]
  },
  {
   "cell_type": "markdown",
   "metadata": {},
   "source": [
    "If you run above code in browser, you will se a modal window pompting you to input some values. If you cancel the window without providing any value, you will be greeted with 'Done' message. \n",
    "\n",
    "In the code above, `break outer` looks upwards for the label named `outer` and breaks out of that loop.\n",
    "\n",
    "So the control goes straight from (*) to `alert('Done!')`.\n",
    "\n",
    "The `continue` directive can also be used with a label. In this case, code execution jumps to the next iteration of the labeled loop."
   ]
  },
  {
   "cell_type": "markdown",
   "metadata": {},
   "source": [
    "#### The `switch` statement\n",
    "\n",
    "A `switch` statement can replace multiple if checks. It gives a more descriptive way to compare a value with multiple variants.\n",
    "\n",
    "It looks like this - \n",
    "\n",
    "```js\n",
    "switch(x) {\n",
    "  case 'value1':  // if (x === 'value1')\n",
    "    ...\n",
    "    [break]\n",
    "\n",
    "  case 'value2':  // if (x === 'value2')\n",
    "    ...\n",
    "    [break]\n",
    "\n",
    "  default:\n",
    "    ...\n",
    "    [break]\n",
    "}\n",
    "```\n",
    "\n",
    "\n",
    " - The value of x is checked for a strict equality to the value from the first case (that is, value1) then to the second (value2) and so on.\n",
    " - If the equality is found, switch starts to execute the code starting from the corresponding case, until the nearest break (or until the end of switch).\n",
    " - If no case is matched then the default code is executed (if it exists).\n"
   ]
  },
  {
   "cell_type": "code",
   "execution_count": 62,
   "metadata": {},
   "outputs": [
    {
     "name": "stdout",
     "output_type": "stream",
     "text": [
      "Exactly!\n"
     ]
    }
   ],
   "source": [
    "let foo = 2 + 2;\n",
    "\n",
    "switch (foo) {\n",
    "  case 3:\n",
    "    console.log( 'Too small' );\n",
    "    break;\n",
    "  case 4:\n",
    "    console.log( 'Exactly!' );\n",
    "    break;\n",
    "  case 5:\n",
    "    cosnole.log( 'Too large' );\n",
    "    break;\n",
    "  default:\n",
    "    console.log( \"I don't know such values\" );\n",
    "}"
   ]
  },
  {
   "cell_type": "markdown",
   "metadata": {},
   "source": [
    "If there is no `break` then the execution continues with the next case without any checks."
   ]
  },
  {
   "cell_type": "code",
   "execution_count": 63,
   "metadata": {},
   "outputs": [
    {
     "name": "stdout",
     "output_type": "stream",
     "text": [
      "Exactly!\n",
      "Too big\n",
      "I don't know such values\n"
     ]
    }
   ],
   "source": [
    "let bar = 2 + 2;\n",
    "\n",
    "switch (bar) {\n",
    "  case 3:\n",
    "    console.log( 'Too small' );\n",
    "  case 4:\n",
    "    console.log( 'Exactly!' );\n",
    "  case 5:\n",
    "    console.log( 'Too big' );\n",
    "  default:\n",
    "    console.log( \"I don't know such values\" );\n",
    "}"
   ]
  },
  {
   "cell_type": "markdown",
   "metadata": {},
   "source": [
    "#### Any expression can be a `switch/case` argument\n",
    "\n",
    "Both switch and case allow arbitrary expressions.\n",
    "\n",
    "For example:"
   ]
  },
  {
   "cell_type": "code",
   "execution_count": 64,
   "metadata": {},
   "outputs": [
    {
     "name": "stdout",
     "output_type": "stream",
     "text": [
      "this runs, because +a is 1, exactly equals b+1\n"
     ]
    }
   ],
   "source": [
    "let foo1 = \"1\";\n",
    "let bar1 = 0;\n",
    "\n",
    "switch (+foo1) {\n",
    "  case bar1 + 1:\n",
    "    console.log(\"this runs, because +a is 1, exactly equals b+1\");\n",
    "    break;\n",
    "\n",
    "  default:\n",
    "    console.log(\"this doesn't run\");\n",
    "}"
   ]
  },
  {
   "cell_type": "markdown",
   "metadata": {},
   "source": [
    "Grouping of “`case`”\n",
    "\n",
    "Several variants of case which share the same code can be grouped.\n",
    "\n",
    "For example, if we want the same code to run for case 3 and case 5:"
   ]
  },
  {
   "cell_type": "code",
   "execution_count": 66,
   "metadata": {},
   "outputs": [
    {
     "name": "stdout",
     "output_type": "stream",
     "text": [
      "Wrong!\n",
      "Why don't you take a math class?\n"
     ]
    }
   ],
   "source": [
    "let bazz = 2 + 1;\n",
    "\n",
    "switch (bazz) {\n",
    "  case 4:\n",
    "    console.log('Right!');\n",
    "    break;\n",
    "\n",
    "  case 3:                    // (*) grouped two cases\n",
    "  case 5:\n",
    "    console.log('Wrong!');\n",
    "    console.log(\"Why don't you take a math class?\");\n",
    "    break;\n",
    "\n",
    "  default:\n",
    "    console.log('The result is strange. Really.');\n",
    "}"
   ]
  },
  {
   "cell_type": "markdown",
   "metadata": {},
   "source": [
    "##### Type matters\n",
    "\n",
    "Let’s emphasize that the equality check is always strict. The values must be of the same type to match.\n",
    "\n",
    "For example, let’s consider the code:"
   ]
  },
  {
   "cell_type": "code",
   "execution_count": null,
   "metadata": {
    "collapsed": true
   },
   "outputs": [],
   "source": [
    "//run this code in browser\n",
    "let arg = prompt(\"Enter a value?\"); //arg is string as prompt retuns a string\n",
    "switch (arg) {\n",
    "  case '0':\n",
    "  case '1':\n",
    "    alert( 'One or zero' );\n",
    "    break;\n",
    "\n",
    "  case '2':\n",
    "    alert( 'Two' );\n",
    "    break;\n",
    "\n",
    "  case 3:\n",
    "    alert( 'Never executes!' );\n",
    "    break;\n",
    "  default:\n",
    "    alert( 'An unknown value' )\n",
    "}"
   ]
  },
  {
   "cell_type": "markdown",
   "metadata": {},
   "source": [
    "If you supply 3 as input, you might expect that `case 3` will be executed. However, that is not the case. The reason is `prompt` function converts 3 to string but in `case 3`, 3 is actually a number so this case never matches. "
   ]
  },
  {
   "cell_type": "markdown",
   "metadata": {},
   "source": [
    "### Functions\n",
    "\n",
    "We use `function` keyword to define a function - \n",
    "\n",
    "```js\n",
    "function square(x) {\n",
    "return x*x;}\n",
    "```"
   ]
  },
  {
   "cell_type": "code",
   "execution_count": 1,
   "metadata": {},
   "outputs": [
    {
     "data": {
      "text/plain": [
       "9"
      ]
     },
     "execution_count": 1,
     "metadata": {},
     "output_type": "execute_result"
    }
   ],
   "source": [
    "function square(x) {\n",
    "return x*x;}\n",
    "\n",
    "square(3)"
   ]
  },
  {
   "cell_type": "markdown",
   "metadata": {},
   "source": [
    "#### Local Variables\n",
    "\n",
    "A variable declared inside a function is only visible inside that function. For example:"
   ]
  },
  {
   "cell_type": "code",
   "execution_count": 2,
   "metadata": {},
   "outputs": [
    {
     "name": "stdout",
     "output_type": "stream",
     "text": [
      "Hello, I'm JavaScript!\n"
     ]
    },
    {
     "ename": "ReferenceError",
     "evalue": "message is not defined",
     "output_type": "error",
     "traceback": [
      "evalmachine.<anonymous>:9",
      "console.log( message ); // <-- Error! The variable is local to the function",
      "             ^",
      "",
      "ReferenceError: message is not defined",
      "    at evalmachine.<anonymous>:9:14",
      "    at ContextifyScript.Script.runInThisContext (vm.js:50:33)",
      "    at Object.runInThisContext (vm.js:139:38)",
      "    at run ([eval]:1002:15)",
      "    at onRunRequest ([eval]:829:18)",
      "    at onMessage ([eval]:789:13)",
      "    at emitTwo (events.js:126:13)",
      "    at process.emit (events.js:214:7)",
      "    at emit (internal/child_process.js:772:12)",
      "    at _combinedTickCallback (internal/process/next_tick.js:141:11)"
     ]
    }
   ],
   "source": [
    "function showMessage() {\n",
    "  let message = \"Hello, I'm JavaScript!\"; // local variable\n",
    "\n",
    "  console.log( message );\n",
    "}\n",
    "\n",
    "showMessage(); // Hello, I'm JavaScript!\n",
    "\n",
    "console.log( message ); // <-- Error! The variable is local to the function"
   ]
  },
  {
   "cell_type": "markdown",
   "metadata": {},
   "source": [
    "#### Outer variables\n",
    "\n",
    "A function can access an outer variable as well, for example:\n",
    "\n",
    "\n"
   ]
  },
  {
   "cell_type": "code",
   "execution_count": 4,
   "metadata": {},
   "outputs": [
    {
     "name": "stdout",
     "output_type": "stream",
     "text": [
      "Hello, John\n"
     ]
    }
   ],
   "source": [
    "let userName = 'John';\n",
    "\n",
    "function showMessage() {\n",
    "  let message = 'Hello, ' + userName;\n",
    "  console.log(message);\n",
    "}\n",
    "\n",
    "showMessage(); // Hello, John"
   ]
  },
  {
   "cell_type": "markdown",
   "metadata": {},
   "source": [
    "The function has full access to the outer variable. It can modify it as well."
   ]
  },
  {
   "cell_type": "code",
   "execution_count": 5,
   "metadata": {},
   "outputs": [
    {
     "name": "stdout",
     "output_type": "stream",
     "text": [
      "5\n"
     ]
    }
   ],
   "source": [
    "let x = 4;\n",
    "\n",
    "function test(){\n",
    "    let x = 5     //this overshadows global x\n",
    "    console.log(x);\n",
    "}\n",
    "\n",
    "test()"
   ]
  },
  {
   "cell_type": "code",
   "execution_count": 6,
   "metadata": {},
   "outputs": [
    {
     "name": "stdout",
     "output_type": "stream",
     "text": [
      "4\n"
     ]
    }
   ],
   "source": [
    "console.log(x) //it doesn't have access to x declared inside the function"
   ]
  },
  {
   "cell_type": "code",
   "execution_count": 7,
   "metadata": {},
   "outputs": [
    {
     "name": "stdout",
     "output_type": "stream",
     "text": [
      "5\n"
     ]
    }
   ],
   "source": [
    "let y = 4;\n",
    "\n",
    "function test(){\n",
    "     y = 5           //y is modified here\n",
    "    console.log(y);\n",
    "}\n",
    "\n",
    "test()"
   ]
  },
  {
   "cell_type": "code",
   "execution_count": 8,
   "metadata": {},
   "outputs": [
    {
     "name": "stdout",
     "output_type": "stream",
     "text": [
      "5\n"
     ]
    }
   ],
   "source": [
    "console.log(y)"
   ]
  },
  {
   "cell_type": "markdown",
   "metadata": {},
   "source": [
    "Notice above 2 examples carefully. In first, we defined `x` using `let` in the function body. This way, our function didn't affect the value of outer variable `x`. On the other hand, in second example, we didn't use `let` to define `y` in the function body and hence it was able to modify the value of outer variable `y`.\n",
    "\n",
    "The outer variable is only used if there’s no local one. So an occasional modification may happen if we forget `let`.\n",
    "\n",
    "If a same-named variable is declared inside the function then it shadows the outer one. For instance, in the code first `test` function, the function uses the local variable. The outer one is ignored."
   ]
  },
  {
   "cell_type": "markdown",
   "metadata": {},
   "source": [
    "#### Global variables\n",
    "\n",
    "Variables declared outside of any function, such as the outer `x` in the code above, are called global.\n",
    "\n",
    "Global variables are visible from any function (unless shadowed by locals).\n",
    "\n",
    "Usually, a function declares all variables specific to its task. Global variables only store project-level data, and it’s important that these variables are accessible from anywhere. Modern code has few or no globals. Most variables reside in their functions.\n"
   ]
  },
  {
   "cell_type": "markdown",
   "metadata": {},
   "source": [
    "#### Parameters\n",
    "\n",
    "We can pass arbitrary data to functions using parameters (also called function arguments) .\n",
    "\n",
    "If a parameter is not provided, then its value becomes undefined."
   ]
  },
  {
   "cell_type": "code",
   "execution_count": 9,
   "metadata": {},
   "outputs": [
    {
     "data": {
      "text/plain": [
       "7"
      ]
     },
     "execution_count": 9,
     "metadata": {},
     "output_type": "execute_result"
    }
   ],
   "source": [
    "function test(a,b) {\n",
    "    return a+b;\n",
    "}\n",
    "\n",
    "test(3,4)"
   ]
  },
  {
   "cell_type": "code",
   "execution_count": 10,
   "metadata": {},
   "outputs": [
    {
     "data": {
      "text/plain": [
       "NaN"
      ]
     },
     "execution_count": 10,
     "metadata": {},
     "output_type": "execute_result"
    }
   ],
   "source": [
    "test(4)\n",
    "\n",
    "//second parameter value isn't provided so default value of `undefined` is used\n",
    "//4 + undefined = NaN"
   ]
  },
  {
   "cell_type": "code",
   "execution_count": 11,
   "metadata": {},
   "outputs": [
    {
     "data": {
      "text/plain": [
       "11"
      ]
     },
     "execution_count": 11,
     "metadata": {},
     "output_type": "execute_result"
    }
   ],
   "source": [
    "function test(a, b =3) {\n",
    "    return a+b;\n",
    "}\n",
    "    \n",
    "test(8) //for b, default value is used"
   ]
  },
  {
   "cell_type": "code",
   "execution_count": 12,
   "metadata": {},
   "outputs": [
    {
     "data": {
      "text/plain": [
       "23"
      ]
     },
     "execution_count": 12,
     "metadata": {},
     "output_type": "execute_result"
    }
   ],
   "source": [
    "test(11,12)"
   ]
  },
  {
   "cell_type": "markdown",
   "metadata": {},
   "source": [
    "In JavaScript, a default parameter is evaluated every time the function is called without the respective parameter. This is in contrast to some other languages like Python, where any default parameters are evaluated only once during the initial interpretation."
   ]
  },
  {
   "cell_type": "markdown",
   "metadata": {},
   "source": [
    "It is possible to use return without a value. That causes the function to exit immediately.\n",
    "\n",
    "For example:"
   ]
  },
  {
   "cell_type": "code",
   "execution_count": 21,
   "metadata": {},
   "outputs": [
    {
     "name": "stdout",
     "output_type": "stream",
     "text": [
      "Access granted\n"
     ]
    }
   ],
   "source": [
    "function checkAge(age) {\n",
    "  if (age > 18) {\n",
    "    return true;\n",
    "  } else {\n",
    "    return false;\n",
    "  }\n",
    "}\n",
    "\n",
    "age =  19;\n",
    "\n",
    "if ( checkAge(age)) {\n",
    "  console.log( 'Access granted' );\n",
    "} else {\n",
    "  console.log( 'Access denied' );\n",
    "}"
   ]
  },
  {
   "cell_type": "code",
   "execution_count": 25,
   "metadata": {},
   "outputs": [
    {
     "name": "stdout",
     "output_type": "stream",
     "text": [
      "Not allowed\n",
      "Showing you the movie\n"
     ]
    }
   ],
   "source": [
    "function showMovie(age) {\n",
    "  if ( !checkAge(age) ) {\n",
    "      console.log(\"Not allowed\")\n",
    "    return;\n",
    "  }\n",
    "\n",
    "  console.log( \"Showing you the movie\" ); \n",
    "  \n",
    "}\n",
    "showMovie(17)"
   ]
  },
  {
   "cell_type": "markdown",
   "metadata": {},
   "source": [
    "In the code above, if `checkAge(age)` returns `false`, then `showMovie` won’t proceed to the second `console.log` statement."
   ]
  },
  {
   "cell_type": "markdown",
   "metadata": {},
   "source": [
    "**Caution**\n",
    "\n",
    "Never add a newline between `return` and the value\n",
    "\n",
    "For a long expression in `return`, it might be tempting to put it on a separate line, like this:\n",
    "\n",
    "`return\n",
    " (some + long + expression + or + whatever * f(a) + f(b))`\n",
    "\n",
    "That doesn’t work, because JavaScript assumes a semicolon after `return`. That’ll work the same as:\n",
    "\n",
    " `return;\n",
    " (some + long + expression + or + whatever * f(a) + f(b))`\n",
    " \n",
    " So, it effectively becomes an empty return. We should put the value on the same line instead."
   ]
  },
  {
   "cell_type": "markdown",
   "metadata": {},
   "source": [
    "#### Function expressions and arrows\n",
    "\n",
    "The syntax that we used before to define a function is called a *Function declaration* -\n",
    "\n",
    "```js\n",
    "function test(){\n",
    "\\\\some code;\n",
    "}\n",
    "```\n",
    "\n",
    "There is another syntax for creating a function that is called a *Function Expression*.\n",
    "\n",
    "```js\n",
    "let test = function(){\n",
    "\\\\some code\n",
    "};\n",
    "```\n",
    "This is also called an anonymous function. Here, the function is created and assigned to the variable explicitly, like any other value. \n",
    "\n"
   ]
  },
  {
   "cell_type": "code",
   "execution_count": 26,
   "metadata": {},
   "outputs": [
    {
     "name": "stdout",
     "output_type": "stream",
     "text": [
      "[Function: test]\n"
     ]
    }
   ],
   "source": [
    "console.log(test);"
   ]
  },
  {
   "cell_type": "code",
   "execution_count": null,
   "metadata": {
    "collapsed": true
   },
   "outputs": [],
   "source": [
    "alert(test) //in browser, this will show the code of function test"
   ]
  },
  {
   "cell_type": "code",
   "execution_count": 27,
   "metadata": {},
   "outputs": [
    {
     "data": {
      "text/plain": [
       "NaN"
      ]
     },
     "execution_count": 27,
     "metadata": {},
     "output_type": "execute_result"
    }
   ],
   "source": [
    "test1 =  test //since function is a value, you can assign it to any other variable`\n",
    "test1()"
   ]
  },
  {
   "cell_type": "code",
   "execution_count": 28,
   "metadata": {},
   "outputs": [
    {
     "data": {
      "text/plain": [
       "3"
      ]
     },
     "execution_count": 28,
     "metadata": {},
     "output_type": "execute_result"
    }
   ],
   "source": [
    "test(1,2)"
   ]
  },
  {
   "cell_type": "code",
   "execution_count": 29,
   "metadata": {},
   "outputs": [
    {
     "data": {
      "text/plain": [
       "3"
      ]
     },
     "execution_count": 29,
     "metadata": {},
     "output_type": "execute_result"
    }
   ],
   "source": [
    "test1(1,2)"
   ]
  },
  {
   "cell_type": "markdown",
   "metadata": {},
   "source": [
    "##### Why is there a semicolon at the end of function expression but not in function declaration?\n",
    "\n",
    " - There is no need for `;` at the end of code blocks and syntax structures that use them like `if {...}`, `for {}`, `function f{}` etc\n",
    " \n",
    " - A function expression is used inside the statement: `let test = .....;`, as a value. It's not a code block. The semicolon is recommended at the end of statements, no matter what the value is. So the semicolon here is not related to the function expressipon itself in any way, it just terminates the statement. "
   ]
  },
  {
   "cell_type": "markdown",
   "metadata": {},
   "source": [
    "#### Callback functions\n",
    "\n",
    "Let's look at more examples of passing functions as values and using function expressions.\n",
    "\n",
    "We'll write a function `ask(question, yes, no)` with three parameters:\n",
    "\n",
    "`question` - text of the question\n",
    "\n",
    "`yes` - function to run if the answer is 'Yes'\n",
    "\n",
    "`No` - function to run if the answer is 'No'\n",
    "\n",
    "The function should ask the `question` and, depending on the user's answer, call `yes()` or `no()`:"
   ]
  },
  {
   "cell_type": "code",
   "execution_count": null,
   "metadata": {
    "collapsed": true
   },
   "outputs": [],
   "source": [
    "//run this code in browser\n",
    "\n",
    "function ask(question, yes, no) {\n",
    "    if (confirm(question)) yes()\n",
    "    else no();\n",
    "}\n",
    "\n",
    "function showOk() {\n",
    "    alert(\"You agreed\");\n",
    "}\n",
    "function showCancel() {\n",
    "    alert(\"You canceled the execution\");\n",
    "}    \n",
    "\n",
    "//usage: functions showOk, showCancel passed as arguments ot ask\n",
    "ask(\"Do you agree?\", showOk, showCancel);"
   ]
  },
  {
   "cell_type": "markdown",
   "metadata": {},
   "source": [
    "**The arguments of `ask` are called callback functions or just callbacks**\n",
    "\n",
    "The idea is that we pass a function and expect it to be 'called back' later if necessary.\n",
    "\n",
    "Below is the much shorter version of above code which uses function expressions -"
   ]
  },
  {
   "cell_type": "code",
   "execution_count": null,
   "metadata": {
    "collapsed": true
   },
   "outputs": [],
   "source": [
    "//run this on browser\n",
    "\n",
    "function ask(question, yes, no) {\n",
    "  if (confirm(question)) yes()\n",
    "  else no();\n",
    "}\n",
    "\n",
    "ask(\n",
    "  \"Do you agree?\",\n",
    "  function() { alert(\"You agreed.\"); },\n",
    "  function() { alert(\"You canceled the execution.\"); }\n",
    "); "
   ]
  },
  {
   "cell_type": "markdown",
   "metadata": {},
   "source": [
    "#### Function declaration vs Function expression\n",
    "\n",
    "**A Function Expression is created when the execution reaches it and is usable from then on.**\n",
    "\n",
    "Once the execution flow passes to the right side of the assignment `let sum = function…` – here we go, the function is created and can be used (assigned, called, etc. ) from now on.\n",
    "\n",
    "Function Declarations are different.\n",
    "\n",
    "**A Function Declaration is usable in the whole script/code block.**\n",
    "\n",
    "In other words, when JavaScript prepares to run the script or a code block, it first looks for Function Declarations in it and creates the functions. We can think of it as an “initialization stage”.\n",
    "\n",
    "And after all of the Function Declarations are processed, the execution goes on.\n",
    "\n",
    "As a result, *a function declared as a Function Declaration can be called earlier than it is defined.*\n",
    "\n",
    "For example, this works:\n",
    "\n",
    "```js\n",
    "sayHi(\"John\"); // Hello, John\n",
    "\n",
    "function sayHi(name) {\n",
    "  alert( `Hello, ${name}` );\n",
    "}\n",
    "```\n",
    "The Function Declaration `sayHi` is created when JavaScript is preparing to start the script and is visible everywhere in it.\n",
    "\n",
    "…If it was a Function Expression, then it wouldn’t work:\n",
    "\n",
    "```js\n",
    "sayHi(\"John\"); // error!\n",
    "\n",
    "let sayHi = function(name) {  // (*) no magic any more\n",
    "  alert( `Hello, ${name}` );\n",
    "};\n",
    "```\n",
    "Function Expressions are created when the execution reaches them. That would happen only in the line (\\*). Too late.\n",
    "\n",
    "**When a Function Declaration is made within a code block, it is visible everywhere inside that block. But not outside of it.**\n",
    "\n",
    "For instance, let’s imagine that we need to declare a function welcome() depending on the age variable that we get during runtime. And then we plan to use it some time later.\n",
    "\n",
    "The code below doesn’t work:\n",
    "```js\n",
    "let age = prompt(\"What is your age?\", 18);\n",
    "\n",
    "// conditionally declare a function\n",
    "if (age < 18) {\n",
    "\n",
    "  function welcome() {\n",
    "    alert(\"Hello!\");\n",
    "  }\n",
    "\n",
    "} else {\n",
    "\n",
    "  function welcome() {\n",
    "    alert(\"Greetings!\");\n",
    "  }\n",
    "\n",
    "}\n",
    "\n",
    "\n",
    "// ...use it later\n",
    "welcome(); // Error: welcome is not defined\n",
    "```\n",
    "\n",
    "Here’s another example:\n",
    "```js\n",
    "let age = 16; // take 16 as an example\n",
    "\n",
    "if (age < 18) {\n",
    "  welcome();               // \\   (runs)\n",
    "                           //  |\n",
    "  function welcome() {     //  |\n",
    "    alert(\"Hello!\");       //  |  Function Declaration is available\n",
    "  }                        //  |  everywhere in the block where it's declared\n",
    "                           //  |\n",
    "  welcome();               // /   (runs)\n",
    "\n",
    "} else {\n",
    "\n",
    "  function welcome() {     //  for age = 16, this \"welcome\" is never created\n",
    "    alert(\"Greetings!\");\n",
    "  }\n",
    "}\n",
    "\n",
    "// Here we're out of curly braces,\n",
    "// so we can not see Function Declarations made inside of them.\n",
    "\n",
    "welcome(); // Error: welcome is not defined\n",
    "```"
   ]
  },
  {
   "cell_type": "markdown",
   "metadata": {},
   "source": [
    "\n",
    "What can we do to make welcome visible outside of `if`?\n",
    "\n",
    "The correct approach would be to use a Function Expression and assign `welcome` to the variable that is declared outside of `if` and has the proper visibility.\n",
    "\n",
    "Now it works as intended:\n",
    "```js\n",
    "let age = prompt(\"What is your age?\", 18);\n",
    "\n",
    "let welcome;\n",
    "\n",
    "if (age < 18) {\n",
    "\n",
    "  welcome = function() {\n",
    "    alert(\"Hello!\");\n",
    "  };\n",
    "\n",
    "} else {\n",
    "\n",
    "  welcome = function() {\n",
    "    alert(\"Greetings!\");\n",
    "  };\n",
    "\n",
    "}\n",
    "\n",
    "welcome(); // ok now\n",
    "```"
   ]
  },
  {
   "cell_type": "markdown",
   "metadata": {},
   "source": [
    "Or we could simplify it even further using a question mark operator ?:\n",
    "```js\n",
    "let age = prompt(\"What is your age?\", 18);\n",
    "\n",
    "let welcome = (age < 18) ?\n",
    "  function() { alert(\"Hello!\"); } :\n",
    "  function() { alert(\"Greetings!\"); };\n",
    "\n",
    "welcome(); // ok now\n",
    "```"
   ]
  },
  {
   "cell_type": "markdown",
   "metadata": {},
   "source": [
    "#### Arrow Functions\n",
    "\n",
    "There’s one more very simple and concise syntax for creating functions, that’s often better than Function Expressions. It’s called “arrow functions”, because it looks like this:\n",
    "\n",
    "```js\n",
    "let func = (arg1, arg2, ...argN) => expression\n",
    "```\n",
    "\n",
    "…This creates a function `func` that has arguments `arg1..argN`, evaluates the expression on the right side with their use and returns its result.\n",
    "\n",
    "In other words, it’s roughly the same as:\n",
    "```js\n",
    "let func = function(arg1, arg2, ...argN) {\n",
    "  return expression;\n",
    "};\n",
    "```\n",
    "\n",
    "…But much more concise."
   ]
  },
  {
   "cell_type": "code",
   "execution_count": 1,
   "metadata": {},
   "outputs": [
    {
     "name": "stdout",
     "output_type": "stream",
     "text": [
      "3\n"
     ]
    }
   ],
   "source": [
    "let sum = (a, b) => a + b;\n",
    "\n",
    "/* The arrow function is a shorter form of:\n",
    "\n",
    "let sum = function(a, b) {\n",
    "  return a + b;\n",
    "};\n",
    "*/\n",
    "\n",
    "console.log( sum(1, 2) ); // 3"
   ]
  },
  {
   "cell_type": "markdown",
   "metadata": {},
   "source": [
    "If we have only one argument, then parentheses can be omitted, making that even shorter:"
   ]
  },
  {
   "cell_type": "code",
   "execution_count": 2,
   "metadata": {},
   "outputs": [
    {
     "name": "stdout",
     "output_type": "stream",
     "text": [
      "6\n"
     ]
    }
   ],
   "source": [
    "// same as\n",
    "// let double = function(n) { return n * 2 }\n",
    "let double = n => n * 2;\n",
    "\n",
    "console.log( double(3) ); // 6"
   ]
  },
  {
   "cell_type": "markdown",
   "metadata": {},
   "source": [
    "If there are no arguments, parentheses should be empty (but they should be present):"
   ]
  },
  {
   "cell_type": "code",
   "execution_count": 5,
   "metadata": {},
   "outputs": [
    {
     "name": "stdout",
     "output_type": "stream",
     "text": [
      "Hello!\n"
     ]
    }
   ],
   "source": [
    "let SayHi = () => console.log(\"Hello!\");\n",
    "\n",
    "SayHi();"
   ]
  },
  {
   "cell_type": "code",
   "execution_count": null,
   "metadata": {
    "collapsed": true
   },
   "outputs": [],
   "source": [
    "//run this in browser\n",
    "let age = prompt(\"What is your age?\", 18);\n",
    "\n",
    "let welcome = (age < 18) ?\n",
    "  () => alert('Hello') :\n",
    "  () => alert(\"Greetings!\");\n",
    "\n",
    "welcome(); // ok now"
   ]
  },
  {
   "cell_type": "markdown",
   "metadata": {},
   "source": [
    "#### Multiline arrow functions\n",
    "\n",
    "The examples above took arguments from the left of => and evaluated the right-side expression with them.\n",
    "\n",
    "Sometimes we need something a little bit more complex, like multiple expressions or statements. It is also possible, but we should enclose them in curly braces. Then use a normal return within them.\n",
    "\n",
    "Like this:"
   ]
  },
  {
   "cell_type": "code",
   "execution_count": 9,
   "metadata": {},
   "outputs": [
    {
     "name": "stdout",
     "output_type": "stream",
     "text": [
      "3\n"
     ]
    }
   ],
   "source": [
    "let val = (a, b) => {  // the curly brace opens a multiline function\n",
    "  let result = a + b;\n",
    "  return result; // if we use curly braces, use return to get results\n",
    "};\n",
    "\n",
    "console.log( val(1, 2) ); // 3"
   ]
  },
  {
   "cell_type": "markdown",
   "metadata": {
    "collapsed": true
   },
   "source": [
    "### Objects\n",
    "\n",
    "We earlier mentioned that JS has 7 datatypes. Of these data types, 6 are 'primitives'. The 7th data type is `object` which we are going to discuss now.\n",
    "\n",
    "An empty object can be created using one of two syntaxes:\n",
    "\n",
    "\n",
    "```js\n",
    "let user = new Object(); // \"object constructor\" syntax\n",
    "let user = {};  // \"object literal\" syntax\n",
    "```"
   ]
  },
  {
   "cell_type": "code",
   "execution_count": 1,
   "metadata": {},
   "outputs": [
    {
     "name": "stdout",
     "output_type": "stream",
     "text": [
      "{ name: 'John' }\n"
     ]
    }
   ],
   "source": [
    "let user = {};\n",
    "user['name'] = 'John'; //adding key 'name' with 'John' as its value\n",
    "console.log(user);"
   ]
  },
  {
   "cell_type": "code",
   "execution_count": 2,
   "metadata": {},
   "outputs": [
    {
     "name": "stdout",
     "output_type": "stream",
     "text": [
      "{ name: 'John', age: 30 }\n"
     ]
    }
   ],
   "source": [
    "user.age = 30; //'.' notation can also be used. \n",
    "console.log(user);"
   ]
  },
  {
   "cell_type": "code",
   "execution_count": 3,
   "metadata": {},
   "outputs": [
    {
     "name": "stdout",
     "output_type": "stream",
     "text": [
      "{ name: 'John', age: 30, isAdmin: true }\n"
     ]
    }
   ],
   "source": [
    "//the value can be of any type\n",
    "user.isAdmin = true;\n",
    "console.log(user);"
   ]
  },
  {
   "cell_type": "code",
   "execution_count": 4,
   "metadata": {},
   "outputs": [
    {
     "name": "stdout",
     "output_type": "stream",
     "text": [
      "{ name: 'John', age: 30 }\n"
     ]
    }
   ],
   "source": [
    "//delete a key:value pair\n",
    "delete user.isAdmin\n",
    "console.log(user)"
   ]
  },
  {
   "cell_type": "code",
   "execution_count": 6,
   "metadata": {},
   "outputs": [
    {
     "name": "stdout",
     "output_type": "stream",
     "text": [
      "{ name: 'John', age: 30, 'work location': 'Delhi' }\n"
     ]
    }
   ],
   "source": [
    "//We can also use multiword property names, but then they must be quoted:\n",
    "user[\"work location\"] = 'Delhi';\n",
    "console.log(user);"
   ]
  },
  {
   "cell_type": "code",
   "execution_count": 7,
   "metadata": {},
   "outputs": [
    {
     "name": "stdout",
     "output_type": "stream",
     "text": [
      "Delhi\n"
     ]
    }
   ],
   "source": [
    "// '.' notation doesn't work with multiword keys. Use bracket notation instead\n",
    "console.log(user['work location'])"
   ]
  },
  {
   "cell_type": "markdown",
   "metadata": {},
   "source": [
    "Bracket notation works if keys are assigned to a variable - "
   ]
  },
  {
   "cell_type": "code",
   "execution_count": 8,
   "metadata": {},
   "outputs": [
    {
     "name": "stdout",
     "output_type": "stream",
     "text": [
      "undefined\n"
     ]
    }
   ],
   "source": [
    "key = 'name';\n",
    "console.log(user.key) //didn't work"
   ]
  },
  {
   "cell_type": "code",
   "execution_count": 9,
   "metadata": {},
   "outputs": [
    {
     "name": "stdout",
     "output_type": "stream",
     "text": [
      "John\n"
     ]
    }
   ],
   "source": [
    "console.log(user[key]) //it works"
   ]
  },
  {
   "cell_type": "markdown",
   "metadata": {},
   "source": [
    "We can use square bracket in an object literal. That is called *computed property* -"
   ]
  },
  {
   "cell_type": "code",
   "execution_count": 12,
   "metadata": {},
   "outputs": [
    {
     "name": "stdout",
     "output_type": "stream",
     "text": [
      "{ name: 'Peter', gender: 'male' }\n"
     ]
    }
   ],
   "source": [
    "let key  =  'gender';\n",
    "let employee = {name : 'Peter', [key]: 'male'};\n",
    "console.log(employee);"
   ]
  },
  {
   "cell_type": "markdown",
   "metadata": {},
   "source": [
    "Reserved keywords are allowed for property names - "
   ]
  },
  {
   "cell_type": "code",
   "execution_count": 13,
   "metadata": {},
   "outputs": [
    {
     "name": "stdout",
     "output_type": "stream",
     "text": [
      "{ name: 'Peter', gender: 'male', for: 'test' }\n"
     ]
    }
   ],
   "source": [
    "employee.for = 'test';\n",
    "console.log(employee);\n"
   ]
  },
  {
   "cell_type": "markdown",
   "metadata": {},
   "source": [
    "Basically, any name is allowed, but there’s a special one: `__proto__` that gets special treatment for historical reasons. For instance, we can’t set it to a non-object value:"
   ]
  },
  {
   "cell_type": "code",
   "execution_count": 14,
   "metadata": {},
   "outputs": [
    {
     "name": "stdout",
     "output_type": "stream",
     "text": [
      "{ name: 'Peter', gender: 'male', for: 'test' }\n"
     ]
    }
   ],
   "source": [
    "employee.__proto__ = 5; //will be ignored\n",
    "console.log(employee) "
   ]
  },
  {
   "cell_type": "markdown",
   "metadata": {},
   "source": [
    "#### Property value shorthand -\n",
    "\n",
    "In real code we often use existing variables as values for property names.\n",
    "\n",
    "For instance:"
   ]
  },
  {
   "cell_type": "code",
   "execution_count": 16,
   "metadata": {},
   "outputs": [
    {
     "name": "stdout",
     "output_type": "stream",
     "text": [
      "{ name: 'John', age: 30 }\n"
     ]
    }
   ],
   "source": [
    "function makeUser(name, age) {\n",
    "  return {\n",
    "    name: name,\n",
    "    age: age\n",
    "  };\n",
    "}\n",
    "\n",
    "let new_user = makeUser(\"John\", 30);\n",
    "console.log(new_user);"
   ]
  },
  {
   "cell_type": "markdown",
   "metadata": {},
   "source": [
    "In the example above, properties have the same names as variables. The use-case of making a property from a variable is so common, that there’s a special property value shorthand to make it shorter.\n",
    "\n",
    "Instead of `name:name` we can just write `name,` like this:"
   ]
  },
  {
   "cell_type": "code",
   "execution_count": 20,
   "metadata": {},
   "outputs": [
    {
     "data": {
      "text/plain": [
       "false"
      ]
     },
     "execution_count": 20,
     "metadata": {},
     "output_type": "execute_result"
    }
   ],
   "source": [
    "delete new_user"
   ]
  },
  {
   "cell_type": "code",
   "execution_count": 18,
   "metadata": {},
   "outputs": [
    {
     "name": "stdout",
     "output_type": "stream",
     "text": [
      "{ name: 'John', age: 30 }\n"
     ]
    }
   ],
   "source": [
    "console.log(new_user)"
   ]
  },
  {
   "cell_type": "code",
   "execution_count": 21,
   "metadata": {},
   "outputs": [
    {
     "name": "stdout",
     "output_type": "stream",
     "text": [
      "{ name: 'Mac', age: 32 }\n"
     ]
    }
   ],
   "source": [
    "function makeUser(name, age) {\n",
    "  return {\n",
    "    name,\n",
    "    age\n",
    "  };\n",
    "}\n",
    "\n",
    "let user1 = makeUser(\"Mac\", 32);\n",
    "console.log(user1);"
   ]
  },
  {
   "cell_type": "markdown",
   "metadata": {},
   "source": [
    "#### Existence Check"
   ]
  },
  {
   "cell_type": "code",
   "execution_count": 23,
   "metadata": {},
   "outputs": [
    {
     "name": "stdout",
     "output_type": "stream",
     "text": [
      "undefined\n"
     ]
    }
   ],
   "source": [
    "console.log(user1.location); //accessing non-existent property returns `undefined`"
   ]
  },
  {
   "cell_type": "code",
   "execution_count": 24,
   "metadata": {},
   "outputs": [
    {
     "name": "stdout",
     "output_type": "stream",
     "text": [
      "false\n"
     ]
    }
   ],
   "source": [
    "console.log(\"location\" in user1);"
   ]
  },
  {
   "cell_type": "code",
   "execution_count": 25,
   "metadata": {},
   "outputs": [
    {
     "name": "stdout",
     "output_type": "stream",
     "text": [
      "true\n"
     ]
    }
   ],
   "source": [
    "console.log(\"age\" in user1);"
   ]
  },
  {
   "cell_type": "markdown",
   "metadata": {},
   "source": [
    "Be careful that in above examples, actual property names were checked for existence. If we omit the quotes, then they will be treated as variables and will be tested for existence accordingly -"
   ]
  },
  {
   "cell_type": "code",
   "execution_count": 26,
   "metadata": {},
   "outputs": [
    {
     "ename": "ReferenceError",
     "evalue": "age is not defined",
     "output_type": "error",
     "traceback": [
      "evalmachine.<anonymous>:1",
      "console.log(age in user1);",
      "            ^",
      "",
      "ReferenceError: age is not defined",
      "    at evalmachine.<anonymous>:1:13",
      "    at ContextifyScript.Script.runInThisContext (vm.js:50:33)",
      "    at Object.runInThisContext (vm.js:139:38)",
      "    at run ([eval]:1002:15)",
      "    at onRunRequest ([eval]:829:18)",
      "    at onMessage ([eval]:789:13)",
      "    at emitTwo (events.js:126:13)",
      "    at process.emit (events.js:214:7)",
      "    at emit (internal/child_process.js:772:12)",
      "    at _combinedTickCallback (internal/process/next_tick.js:141:11)"
     ]
    }
   ],
   "source": [
    "console.log(age in user1); //no variable named age"
   ]
  },
  {
   "cell_type": "code",
   "execution_count": 28,
   "metadata": {},
   "outputs": [
    {
     "name": "stdout",
     "output_type": "stream",
     "text": [
      "true\n"
     ]
    }
   ],
   "source": [
    "let key1 = \"age\";\n",
    "console.log(key1 in user1);"
   ]
  },
  {
   "cell_type": "markdown",
   "metadata": {},
   "source": [
    "As we saw earlier, accessing non-existent property returns `undefined`, but what if we assigned `undefined` value to a property? "
   ]
  },
  {
   "cell_type": "code",
   "execution_count": 30,
   "metadata": {},
   "outputs": [
    {
     "name": "stdout",
     "output_type": "stream",
     "text": [
      "undefined\n"
     ]
    }
   ],
   "source": [
    "let test = {key1 : undefined}\n",
    "console.log(test.key1) //key1 property exists"
   ]
  },
  {
   "cell_type": "code",
   "execution_count": 31,
   "metadata": {
    "scrolled": true
   },
   "outputs": [
    {
     "name": "stdout",
     "output_type": "stream",
     "text": [
      "undefined\n"
     ]
    }
   ],
   "source": [
    "console.log(test.key2) //key2 property doesn't exist"
   ]
  },
  {
   "cell_type": "markdown",
   "metadata": {},
   "source": [
    "Property `key1` exists while property `key2` doesn't. In such cases, it is unsafe to look for `undefined` as a existence test. However, `in` works fine -  "
   ]
  },
  {
   "cell_type": "code",
   "execution_count": 35,
   "metadata": {},
   "outputs": [
    {
     "name": "stdout",
     "output_type": "stream",
     "text": [
      "true\n"
     ]
    }
   ],
   "source": [
    "console.log('key1' in test);"
   ]
  },
  {
   "cell_type": "code",
   "execution_count": 36,
   "metadata": {},
   "outputs": [
    {
     "name": "stdout",
     "output_type": "stream",
     "text": [
      "false\n"
     ]
    }
   ],
   "source": [
    "console.log('key2' in test)"
   ]
  },
  {
   "cell_type": "markdown",
   "metadata": {},
   "source": [
    "#### The `for ... in` loop\n",
    "\n",
    "To walk over all keys of an object, there exists a special form of the loop: for..in. This is a completely different thing from the for(;;) construct that we studied before.\n",
    "\n",
    "The syntax:\n",
    "\n",
    "```js\n",
    "for(key in object) {\n",
    "  // executes the body for each key among object properties\n",
    "}\n",
    "```"
   ]
  },
  {
   "cell_type": "code",
   "execution_count": 37,
   "metadata": {},
   "outputs": [
    {
     "name": "stdout",
     "output_type": "stream",
     "text": [
      "{ name: 'John', age: 30, 'work location': 'Delhi' }\n"
     ]
    }
   ],
   "source": [
    "console.log(user);"
   ]
  },
  {
   "cell_type": "code",
   "execution_count": 39,
   "metadata": {},
   "outputs": [
    {
     "name": "stdout",
     "output_type": "stream",
     "text": [
      "John\n",
      "30\n",
      "Delhi\n"
     ]
    }
   ],
   "source": [
    "for (let key in user){\n",
    "    console.log(user[key])\n",
    "}"
   ]
  },
  {
   "cell_type": "markdown",
   "metadata": {},
   "source": [
    "#### Ordered like an object\n",
    "\n",
    "Integer properties are sorted, others appear in creation order. -"
   ]
  },
  {
   "cell_type": "code",
   "execution_count": 40,
   "metadata": {},
   "outputs": [
    {
     "name": "stdout",
     "output_type": "stream",
     "text": [
      "1\n",
      "2\n",
      "d\n",
      "b\n"
     ]
    }
   ],
   "source": [
    "let foo = {'2': 2, '1': 1, 'd': 3, 'b':4}\n",
    "for (let key in foo){\n",
    "    console.log(key)\n",
    "}"
   ]
  },
  {
   "cell_type": "markdown",
   "metadata": {},
   "source": [
    "The “integer property” term here means a string that can be converted to-and-from an integer without a change.\n",
    "\n",
    "So, “49” is an integer property name, because when it’s transformed to an integer number and back, it’s still the same. But “+49” and “1.2” are not."
   ]
  },
  {
   "cell_type": "markdown",
   "metadata": {},
   "source": [
    "#### Copying by reference\n",
    "\n",
    "One of the fundamental differences of objects vs primitives is that they are stored and copied “by reference”.\n",
    "\n",
    "Primitive values: strings, numbers, booleans – are assigned/copied “as a whole value”."
   ]
  },
  {
   "cell_type": "code",
   "execution_count": 48,
   "metadata": {},
   "outputs": [
    {
     "name": "stdout",
     "output_type": "stream",
     "text": [
      "1\n"
     ]
    }
   ],
   "source": [
    "let m =  1\n",
    "let n = m\n",
    "console.log(n)"
   ]
  },
  {
   "cell_type": "code",
   "execution_count": 50,
   "metadata": {},
   "outputs": [
    {
     "name": "stdout",
     "output_type": "stream",
     "text": [
      "2\n"
     ]
    }
   ],
   "source": [
    "m=m+1\n",
    "console.log(m)"
   ]
  },
  {
   "cell_type": "code",
   "execution_count": 51,
   "metadata": {},
   "outputs": [
    {
     "name": "stdout",
     "output_type": "stream",
     "text": [
      "1\n"
     ]
    }
   ],
   "source": [
    "console.log(n)"
   ]
  },
  {
   "cell_type": "markdown",
   "metadata": {},
   "source": [
    "Objects are not like that.\n",
    "\n",
    "**A variable stores not the object itself, but its “address in memory”, in other words “a reference” to it.\n",
    "When an object variable is copied – the reference is copied, the object is not duplicated.\n",
    "**"
   ]
  },
  {
   "cell_type": "code",
   "execution_count": 55,
   "metadata": {},
   "outputs": [
    {
     "name": "stdout",
     "output_type": "stream",
     "text": [
      "{ '1': 1, '2': 2, d: 3, b: 4, f: 6 }\n"
     ]
    }
   ],
   "source": [
    "console.log(foo)"
   ]
  },
  {
   "cell_type": "code",
   "execution_count": 58,
   "metadata": {},
   "outputs": [
    {
     "name": "stdout",
     "output_type": "stream",
     "text": [
      "{ '1': 1, '2': 2, d: 3, b: 4, f: 6, x: 7 }\n"
     ]
    }
   ],
   "source": [
    "let baz = foo;\n",
    "baz['x'] = 7     //add some property to bar object\n",
    "console.log(foo) //change in bar will be reflected in foo as well"
   ]
  },
  {
   "cell_type": "markdown",
   "metadata": {},
   "source": [
    "#### Comparison by reference\n",
    "\n",
    "The equality `==` and strict equality `===` operators for objects work exactly the same.\n",
    "\n",
    "Two objects are equal only if they are the same object.\n",
    "\n",
    "For instance, two variables reference the same object, they are equal:"
   ]
  },
  {
   "cell_type": "code",
   "execution_count": 59,
   "metadata": {},
   "outputs": [
    {
     "name": "stdout",
     "output_type": "stream",
     "text": [
      "true\n"
     ]
    }
   ],
   "source": [
    "let a = {};\n",
    "let b = a;\n",
    "console.log(a == b);"
   ]
  },
  {
   "cell_type": "code",
   "execution_count": 60,
   "metadata": {},
   "outputs": [
    {
     "name": "stdout",
     "output_type": "stream",
     "text": [
      "true\n"
     ]
    }
   ],
   "source": [
    "console.log(a === b);"
   ]
  },
  {
   "cell_type": "code",
   "execution_count": 61,
   "metadata": {},
   "outputs": [
    {
     "name": "stdout",
     "output_type": "stream",
     "text": [
      "false\n"
     ]
    }
   ],
   "source": [
    "let c = {};\n",
    "let d = {};\n",
    "console.log(c == d);"
   ]
  },
  {
   "cell_type": "code",
   "execution_count": 62,
   "metadata": {},
   "outputs": [
    {
     "name": "stdout",
     "output_type": "stream",
     "text": [
      "false\n"
     ]
    }
   ],
   "source": [
    "console.log(c === d);"
   ]
  },
  {
   "cell_type": "markdown",
   "metadata": {},
   "source": [
    "For comparisons like obj1 > obj2 or for a comparison against a primitive obj == 5, objects are converted to primitives. We’ll study later how object conversions work."
   ]
  },
  {
   "cell_type": "markdown",
   "metadata": {},
   "source": [
    "#### `const` object\n",
    "\n",
    "An object declared with `const` *can* be changed - "
   ]
  },
  {
   "cell_type": "code",
   "execution_count": 65,
   "metadata": {},
   "outputs": [
    {
     "name": "stdout",
     "output_type": "stream",
     "text": [
      "{ name: 'Mayank', age: 35 }\n"
     ]
    }
   ],
   "source": [
    "const obj = {name : 'Mayank'};\n",
    "obj.age = 35;                  //(*)\n",
    "console.log(obj);"
   ]
  },
  {
   "cell_type": "markdown",
   "metadata": {},
   "source": [
    "It might seem that the line (\\*) would cause an error, but no, there’s totally no problem. That’s because `const` fixes the value of `obj` itself. And here `obj` stores the reference to the same object all the time. The line (\\*) goes inside the object, it doesn’t reassign `obj`.\n",
    "\n",
    "The `const` would give an error if we try to set `obj` to something else, for instance:"
   ]
  },
  {
   "cell_type": "code",
   "execution_count": 66,
   "metadata": {},
   "outputs": [
    {
     "name": "stdout",
     "output_type": "stream",
     "text": [
      "{ '1': 1, '2': 2, d: 3, b: 4, f: 6, x: 7 }\n"
     ]
    }
   ],
   "source": [
    "console.log(foo)"
   ]
  },
  {
   "cell_type": "code",
   "execution_count": 67,
   "metadata": {},
   "outputs": [
    {
     "name": "stdout",
     "output_type": "stream",
     "text": [
      "3\n"
     ]
    }
   ],
   "source": [
    "foo = 3; //foo can be re-assigned to some other value\n",
    "console.log(foo)"
   ]
  },
  {
   "cell_type": "code",
   "execution_count": 68,
   "metadata": {
    "collapsed": true
   },
   "outputs": [
    {
     "ename": "TypeError",
     "evalue": "Assignment to constant variable.",
     "output_type": "error",
     "traceback": [
      "evalmachine.<anonymous>:1",
      "obj = 4;",
      "    ^",
      "",
      "TypeError: Assignment to constant variable.",
      "    at evalmachine.<anonymous>:1:5",
      "    at ContextifyScript.Script.runInThisContext (vm.js:50:33)",
      "    at Object.runInThisContext (vm.js:139:38)",
      "    at run ([eval]:1002:15)",
      "    at onRunRequest ([eval]:829:18)",
      "    at onMessage ([eval]:789:13)",
      "    at emitTwo (events.js:126:13)",
      "    at process.emit (events.js:214:7)",
      "    at emit (internal/child_process.js:772:12)",
      "    at _combinedTickCallback (internal/process/next_tick.js:141:11)"
     ]
    }
   ],
   "source": [
    "obj = 4; //error"
   ]
  },
  {
   "cell_type": "markdown",
   "metadata": {},
   "source": [
    "…But what if we want to make constant object properties? So that user.age = 25 would give an error. That’s possible too. We'll see later.\n",
    "\n",
    "#### Cloning and merging - `Object.assign`\n",
    "\n",
    "So, copying an object variable creates one more reference to the same object.\n",
    "\n",
    "we can use the method Object.assign for that.\n",
    "\n",
    "The syntax is:\n",
    "\n",
    "```js\n",
    "Object.assign(dest[, src1, src2, src3...])\n",
    "```\n",
    "\n",
    " - Arguments `dest, and src1, ..., srcN` (can be as many as needed) are objects.\n",
    " - It copies the properties of all objects src1, ..., srcN into dest. In other words, properties of all arguments starting from the 2nd are copied into the 1st. Then it returns dest.\n"
   ]
  },
  {
   "cell_type": "code",
   "execution_count": 70,
   "metadata": {},
   "outputs": [
    {
     "data": {
      "text/plain": [
       "{ '1': 1, '2': 2, d: 3, b: 4, f: 6, x: 7 }"
      ]
     },
     "execution_count": 70,
     "metadata": {},
     "output_type": "execute_result"
    }
   ],
   "source": [
    "bar"
   ]
  },
  {
   "cell_type": "code",
   "execution_count": 71,
   "metadata": {},
   "outputs": [
    {
     "data": {
      "text/plain": [
       "{ '1': 1,\n",
       "  '2': 2,\n",
       "  d: 3,\n",
       "  b: 4,\n",
       "  f: 6,\n",
       "  x: 7,\n",
       "  canView: true,\n",
       "  canEdit: false }"
      ]
     },
     "execution_count": 71,
     "metadata": {},
     "output_type": "execute_result"
    }
   ],
   "source": [
    "let src1 = {canView : true};\n",
    "let src2 = {canEdit : false};\n",
    "\n",
    "Object.assign(bar, src1, src2);\n",
    "\n",
    "bar"
   ]
  },
  {
   "cell_type": "markdown",
   "metadata": {},
   "source": [
    "If the receiving object (user) already has the same named property, it will be overwritten. \n",
    "\n",
    "We can also do this -"
   ]
  },
  {
   "cell_type": "code",
   "execution_count": 72,
   "metadata": {},
   "outputs": [
    {
     "data": {
      "text/plain": [
       "{ '1': 1,\n",
       "  '2': 2,\n",
       "  d: 3,\n",
       "  b: 4,\n",
       "  f: 6,\n",
       "  x: 7,\n",
       "  canView: true,\n",
       "  canEdit: false }"
      ]
     },
     "execution_count": 72,
     "metadata": {},
     "output_type": "execute_result"
    }
   ],
   "source": [
    "let clone = Object.assign({}, bar);\n",
    "clone"
   ]
  },
  {
   "cell_type": "markdown",
   "metadata": {},
   "source": [
    "Until now we assumed that all properties of user are primitive. But properties can be references to other objects - "
   ]
  },
  {
   "cell_type": "code",
   "execution_count": 74,
   "metadata": {},
   "outputs": [
    {
     "data": {
      "text/plain": [
       "{ '1': 1,\n",
       "  '2': 2,\n",
       "  d: 3,\n",
       "  b: 4,\n",
       "  f: 6,\n",
       "  x: 7,\n",
       "  canView: true,\n",
       "  canEdit: false,\n",
       "  size: { height: 12, width: 14 } }"
      ]
     },
     "execution_count": 74,
     "metadata": {},
     "output_type": "execute_result"
    }
   ],
   "source": [
    "clone.size = {height : 12, width : 14};\n",
    "clone"
   ]
  },
  {
   "cell_type": "code",
   "execution_count": 75,
   "metadata": {},
   "outputs": [
    {
     "data": {
      "text/plain": [
       "true"
      ]
     },
     "execution_count": 75,
     "metadata": {},
     "output_type": "execute_result"
    }
   ],
   "source": [
    "clone1 = Object.assign({}, clone);\n",
    "clone1.size == clone.size; "
   ]
  },
  {
   "cell_type": "markdown",
   "metadata": {},
   "source": [
    "To fix that, we should use the cloning loop that examines each value of user[key] and, if it’s an object, then replicate its structure as well. That is called a “deep cloning”."
   ]
  },
  {
   "cell_type": "markdown",
   "metadata": {},
   "source": [
    "**Note -**\n",
    "\n",
    "Property keys of other types are coerced to strings. We can only use strings or symbols (described below) as keys in objects. Other types are converted to strings.\n",
    "\n",
    "For instance, a number 0 becomes a string \"0\" when used as a property key:"
   ]
  },
  {
   "cell_type": "code",
   "execution_count": 1,
   "metadata": {},
   "outputs": [
    {
     "data": {
      "text/plain": [
       "11"
      ]
     },
     "execution_count": 1,
     "metadata": {},
     "output_type": "execute_result"
    }
   ],
   "source": [
    "let test = {0 :11}\n",
    "test[0]"
   ]
  },
  {
   "cell_type": "code",
   "execution_count": 2,
   "metadata": {},
   "outputs": [
    {
     "data": {
      "text/plain": [
       "11"
      ]
     },
     "execution_count": 2,
     "metadata": {},
     "output_type": "execute_result"
    }
   ],
   "source": [
    "test['0']"
   ]
  },
  {
   "cell_type": "markdown",
   "metadata": {
    "collapsed": true
   },
   "source": [
    "### Symbol type\n",
    "\n",
    "By specification, object property keys may be either of string type, or of symbol type. Not numbers, not booleans, only strings or symbols, these two types.\n",
    "\n",
    "Till now we’ve only seen strings. Now let’s see the advantages that symbols can give us.\n",
    "\n",
    "“Symbol” value represents a unique identifier.\n",
    "\n",
    "A value of this type can be created using `Symbol()`:\n",
    "\n",
    "```js\n",
    "// id is a new symbol\n",
    "let id = Symbol();\n",
    "```\n",
    "\n",
    "We can also give symbol a description (also called a symbol name), mostly useful for debugging purposes:\n",
    "```js\n",
    "// id is a symbol with the description \"id\"\n",
    "let id = Symbol(\"id\");\n",
    "```\n",
    "Symbols are guaranteed to be unique. Even if we create many symbols with the same description, they are different values. The description is just a label that doesn’t affect anything.\n",
    "\n",
    "For instance, here are two symbols with the same description – they are not equal:\n"
   ]
  },
  {
   "cell_type": "code",
   "execution_count": 5,
   "metadata": {},
   "outputs": [
    {
     "name": "stdout",
     "output_type": "stream",
     "text": [
      "false\n"
     ]
    }
   ],
   "source": [
    "let a1 = Symbol('id');\n",
    "let a2 = Symbol('id');\n",
    "console.log(a1 == a2);"
   ]
  },
  {
   "cell_type": "markdown",
   "metadata": {},
   "source": [
    "Most values in JavaScript support implicit conversion to a string. For instance, we can `alert` almost any value, and it will work. Symbols are special. They don’t auto-convert."
   ]
  },
  {
   "cell_type": "code",
   "execution_count": null,
   "metadata": {
    "collapsed": true
   },
   "outputs": [],
   "source": [
    "// run this in a browser\n",
    "let id = Symbol(\"id\");\n",
    "alert(id); // TypeError: Cannot convert a Symbol value to a string"
   ]
  },
  {
   "cell_type": "markdown",
   "metadata": {},
   "source": [
    "If we really want to show a symbol, we need to call `.toString()` on it, like here:\n",
    "```js\n",
    "//run this in a browser\n",
    "\n",
    "let id = Symbol(\"id\");\n",
    "alert(id.toString()); // Symbol(id), now it works\n",
    "```"
   ]
  },
  {
   "cell_type": "code",
   "execution_count": 1,
   "metadata": {},
   "outputs": [
    {
     "data": {
      "text/plain": [
       "{ name: 'John', [Symbol(id)]: 123 }"
      ]
     },
     "execution_count": 1,
     "metadata": {},
     "output_type": "execute_result"
    }
   ],
   "source": [
    "let user = {name : 'John'};\n",
    "let id = Symbol('id');\n",
    "user[id] =  123;\n",
    "user"
   ]
  },
  {
   "cell_type": "code",
   "execution_count": 2,
   "metadata": {},
   "outputs": [
    {
     "data": {
      "text/plain": [
       "{ name: 'John', [Symbol(id)]: 123, [Symbol(id)]: 124 }"
      ]
     },
     "execution_count": 2,
     "metadata": {},
     "output_type": "execute_result"
    }
   ],
   "source": [
    "let id1 = Symbol('id');\n",
    "user[id1] = 124\n",
    "user"
   ]
  },
  {
   "cell_type": "markdown",
   "metadata": {},
   "source": [
    "What’s the benefit of using `Symbol(\"id\")` over a string `\"id\"`?\n",
    "\n",
    "Let’s make the example a bit deeper to see that.\n",
    "\n",
    "Imagine that another script wants to have its own `“id”` property inside user, for its own purposes. That may be another JavaScript library, so the scripts are completely unaware of each other.\n",
    "\n",
    "Then that script can create its own `Symbol(\"id\")`, like this:\n",
    "\n",
    "```js\n",
    "// ...\n",
    "let id = Symbol(\"id\");\n",
    "\n",
    "user[id] = \"Their id value\";\n",
    "```\n",
    "There will be no conflict, because symbols are always different, even if they have the same name."
   ]
  },
  {
   "cell_type": "markdown",
   "metadata": {},
   "source": [
    "#### Symbols in literals - \n",
    "\n",
    "If we want to use a symbol in an object literal, we need square brackets.\n",
    "\n",
    "Like this:"
   ]
  },
  {
   "cell_type": "code",
   "execution_count": 6,
   "metadata": {},
   "outputs": [
    {
     "data": {
      "text/plain": [
       "{ name: 'Mayank', [Symbol(address)]: 111 }"
      ]
     },
     "execution_count": 6,
     "metadata": {},
     "output_type": "execute_result"
    }
   ],
   "source": [
    "let address = Symbol('address')\n",
    "let new_user = {name : 'Mayank',[address] : 111}\n",
    "new_user"
   ]
  },
  {
   "cell_type": "code",
   "execution_count": 7,
   "metadata": {},
   "outputs": [
    {
     "data": {
      "text/plain": [
       "111"
      ]
     },
     "execution_count": 7,
     "metadata": {},
     "output_type": "execute_result"
    }
   ],
   "source": [
    "new_user[address]"
   ]
  },
  {
   "cell_type": "markdown",
   "metadata": {},
   "source": [
    "#### Symbols are skipped by `for…in`\n",
    "\n",
    "Symbolic properties do not participate in `for..in` loop."
   ]
  },
  {
   "cell_type": "code",
   "execution_count": 8,
   "metadata": {},
   "outputs": [
    {
     "data": {
      "text/plain": [
       "{ name: 'Mayank', [Symbol(address)]: 111 }"
      ]
     },
     "execution_count": 8,
     "metadata": {},
     "output_type": "execute_result"
    }
   ],
   "source": [
    "new_user"
   ]
  },
  {
   "cell_type": "code",
   "execution_count": 10,
   "metadata": {},
   "outputs": [
    {
     "data": {
      "text/plain": [
       "{ name: 'Mayank', age: 32, [Symbol(address)]: 111 }"
      ]
     },
     "execution_count": 10,
     "metadata": {},
     "output_type": "execute_result"
    }
   ],
   "source": [
    "new_user['age'] = 32;\n",
    "new_user"
   ]
  },
  {
   "cell_type": "code",
   "execution_count": 11,
   "metadata": {},
   "outputs": [
    {
     "name": "stdout",
     "output_type": "stream",
     "text": [
      "name\n",
      "age\n"
     ]
    }
   ],
   "source": [
    "for (let prop in new_user){\n",
    "    console.log(prop);\n",
    "}"
   ]
  },
  {
   "cell_type": "markdown",
   "metadata": {},
   "source": [
    "That’s a part of the general “hiding” concept. If another script or a library loops over our object, it won’t unexpectedly access a symbolic property.\n",
    "\n",
    "In contrast, `Object.assign` copies both string and symbol properties:"
   ]
  },
  {
   "cell_type": "code",
   "execution_count": 12,
   "metadata": {},
   "outputs": [
    {
     "data": {
      "text/plain": [
       "{ name: 'Mayank', age: 32, [Symbol(address)]: 111 }"
      ]
     },
     "execution_count": 12,
     "metadata": {},
     "output_type": "execute_result"
    }
   ],
   "source": [
    "let clone = Object.assign({}, new_user);\n",
    "clone"
   ]
  },
  {
   "cell_type": "markdown",
   "metadata": {},
   "source": [
    "There’s no paradox here. That’s by design. The idea is that when we clone an object or merge objects, we usually want all properties to be copied (including symbols like `id`)."
   ]
  },
  {
   "cell_type": "markdown",
   "metadata": {
    "collapsed": true
   },
   "source": [
    "#### Global symbols\n",
    "\n",
    "As we’ve seen, usually all symbols are different, even if they have the same names. But sometimes we want same-named symbols to be same entities.\n",
    "\n",
    "For instance, different parts of our application want to access symbol `\"id\"` meaning exactly the same property.\n",
    "\n",
    "To achieve that, there exists a global symbol registry. We can create symbols in it and access them later, and it guarantees that repeated accesses by the same name return exactly the same symbol.\n",
    "\n",
    "In order to create or read a symbol in the registry, use `Symbol.for(key)`.\n",
    "\n",
    "That call checks the global registry, and if there’s a symbol described as key, then returns it, otherwise creates a new symbol `Symbol(key)` and stores it in the registry by the given key.\n",
    "\n",
    "For instance:"
   ]
  },
  {
   "cell_type": "code",
   "execution_count": 6,
   "metadata": {},
   "outputs": [
    {
     "data": {
      "text/plain": [
       "Symbol(id)"
      ]
     },
     "execution_count": 6,
     "metadata": {},
     "output_type": "execute_result"
    }
   ],
   "source": [
    "id1 =  Symbol.for('id');\n",
    "id2 = Symbol.for('id');"
   ]
  },
  {
   "cell_type": "code",
   "execution_count": 7,
   "metadata": {},
   "outputs": [
    {
     "data": {
      "text/plain": [
       "true"
      ]
     },
     "execution_count": 7,
     "metadata": {},
     "output_type": "execute_result"
    }
   ],
   "source": [
    "id1 === id2"
   ]
  },
  {
   "cell_type": "markdown",
   "metadata": {},
   "source": [
    "Symbols inside the registry are called global symbols. If we want an application-wide symbol, accessible everywhere in the code – that’s what they are for."
   ]
  },
  {
   "cell_type": "markdown",
   "metadata": {},
   "source": [
    "### `Symbol.keyFor`\n",
    "\n",
    "For global symbols, not only `Symbol.for(key)` returns a symbol by name, but there’s a reverse call: `Symbol.keyFor(sym)`, that does the reverse: returns a name by a global symbol.\n",
    "\n",
    "For instance:"
   ]
  },
  {
   "cell_type": "code",
   "execution_count": 1,
   "metadata": {},
   "outputs": [
    {
     "name": "stdout",
     "output_type": "stream",
     "text": [
      "name\n"
     ]
    }
   ],
   "source": [
    "let sym = Symbol.for(\"name\");\n",
    "let sym2 = Symbol.for(\"id\");\n",
    "\n",
    "// get name from symbol\n",
    "console.log( Symbol.keyFor(sym) ); // name "
   ]
  },
  {
   "cell_type": "code",
   "execution_count": 2,
   "metadata": {},
   "outputs": [
    {
     "name": "stdout",
     "output_type": "stream",
     "text": [
      "id\n"
     ]
    }
   ],
   "source": [
    "console.log( Symbol.keyFor(sym2) );"
   ]
  },
  {
   "cell_type": "markdown",
   "metadata": {},
   "source": [
    "The `Symbol.keyFor` internally uses the global symbol registry to look up the key for the symbol. So it doesn’t work for non-global symbols. If the symbol is not global, it won’t be able to find it and return `undefined`."
   ]
  },
  {
   "cell_type": "code",
   "execution_count": 3,
   "metadata": {},
   "outputs": [
    {
     "name": "stdout",
     "output_type": "stream",
     "text": [
      "undefined\n"
     ]
    }
   ],
   "source": [
    "console.log( Symbol.keyFor(Symbol(\"name2\")) ); // undefined, the argument isn't a global symbol"
   ]
  },
  {
   "cell_type": "markdown",
   "metadata": {},
   "source": [
    "#### System symbols\n",
    "\n",
    "There exist many “system” symbols that JavaScript uses internally, and we can use them to fine-tune various aspects of our objects.\n",
    "\n",
    "They are listed in the specification in the Well-known symbols table:\n",
    "\n",
    "    Symbol.hasInstance\n",
    "    Symbol.isConcatSpreadable\n",
    "    Symbol.iterator\n",
    "    Symbol.toPrimitive …and so on.\n",
    "\n",
    "For instance, Symbol.toPrimitive allows us to describe object to primitive conversion. "
   ]
  },
  {
   "cell_type": "markdown",
   "metadata": {
    "collapsed": true
   },
   "source": [
    "### Object methods, `this`"
   ]
  },
  {
   "cell_type": "code",
   "execution_count": 1,
   "metadata": {},
   "outputs": [
    {
     "name": "stdout",
     "output_type": "stream",
     "text": [
      "Hello!\n"
     ]
    }
   ],
   "source": [
    "let user = {\n",
    "  name: \"John\",\n",
    "  age: 30\n",
    "};\n",
    "\n",
    "user.sayHi = function() {\n",
    "  console.log(\"Hello!\");\n",
    "};\n",
    "\n",
    "user.sayHi(); // Hello!"
   ]
  },
  {
   "cell_type": "code",
   "execution_count": 2,
   "metadata": {},
   "outputs": [
    {
     "data": {
      "text/plain": [
       "{ name: 'John', age: 30, sayHi: [Function] }"
      ]
     },
     "execution_count": 2,
     "metadata": {},
     "output_type": "execute_result"
    }
   ],
   "source": [
    "user"
   ]
  },
  {
   "cell_type": "markdown",
   "metadata": {},
   "source": [
    "Here we’ve just used a Function Expression to create the function and assign it to the property `user.sayHi` of the object.\n",
    "\n",
    "A function that is the property of an object is called its method. So, here we’ve got a method `sayHi` of the object user.\n",
    "\n",
    "Of course, we could use a pre-declared function as a method, like this:"
   ]
  },
  {
   "cell_type": "code",
   "execution_count": 3,
   "metadata": {},
   "outputs": [
    {
     "name": "stdout",
     "output_type": "stream",
     "text": [
      "Bye!\n"
     ]
    }
   ],
   "source": [
    "function sayBye() {\n",
    "  console.log(\"Bye!\");\n",
    "};\n",
    "\n",
    "// then add as a method\n",
    "user.sayBye = sayBye;\n",
    "\n",
    "user.sayBye(); // Hello!"
   ]
  },
  {
   "cell_type": "code",
   "execution_count": 4,
   "metadata": {},
   "outputs": [
    {
     "data": {
      "text/plain": [
       "{ name: 'John',\n",
       "  age: 30,\n",
       "  sayHi: [Function],\n",
       "  sayBye: [Function: sayBye] }"
      ]
     },
     "execution_count": 4,
     "metadata": {},
     "output_type": "execute_result"
    }
   ],
   "source": [
    "user"
   ]
  },
  {
   "cell_type": "markdown",
   "metadata": {},
   "source": [
    "#### Method shorthand"
   ]
  },
  {
   "cell_type": "code",
   "execution_count": 6,
   "metadata": {},
   "outputs": [
    {
     "name": "stdout",
     "output_type": "stream",
     "text": [
      "Hi\n"
     ]
    }
   ],
   "source": [
    "let user1 = {sayHi(){ console.log(\"Hi\")}};\n",
    "             \n",
    "user1.sayHi()"
   ]
  },
  {
   "cell_type": "markdown",
   "metadata": {},
   "source": [
    "As demonstrated, we can omit \"function\" and just write `sayHi()`.\n",
    "\n",
    "To tell the truth, the notations are not fully identical. There are subtle differences related to object inheritance (to be covered later), but for now they do not matter. In almost all cases the shorter syntax is preferred."
   ]
  },
  {
   "cell_type": "markdown",
   "metadata": {},
   "source": [
    "### `this` in methods\n",
    "\n",
    "It’s common that an object method needs to access the information stored in the object to do its job.\n",
    "\n",
    "For instance, the code inside `user.sayHi()`may need the name of the user.\n",
    "\n",
    "To access the object, a method can use the this keyword."
   ]
  },
  {
   "cell_type": "code",
   "execution_count": 7,
   "metadata": {},
   "outputs": [
    {
     "data": {
      "text/plain": [
       "{ name: 'John',\n",
       "  age: 30,\n",
       "  sayHi: [Function],\n",
       "  sayBye: [Function: sayBye] }"
      ]
     },
     "execution_count": 7,
     "metadata": {},
     "output_type": "execute_result"
    }
   ],
   "source": [
    "user"
   ]
  },
  {
   "cell_type": "code",
   "execution_count": 8,
   "metadata": {},
   "outputs": [
    {
     "data": {
      "text/plain": [
       "[Function]"
      ]
     },
     "execution_count": 8,
     "metadata": {},
     "output_type": "execute_result"
    }
   ],
   "source": [
    "user.sayHi = function() {console.log('Hi '+ this.name)} "
   ]
  },
  {
   "cell_type": "code",
   "execution_count": 9,
   "metadata": {},
   "outputs": [
    {
     "name": "stdout",
     "output_type": "stream",
     "text": [
      "Hi John\n"
     ]
    }
   ],
   "source": [
    "user.sayHi()"
   ]
  },
  {
   "cell_type": "code",
   "execution_count": 10,
   "metadata": {},
   "outputs": [
    {
     "data": {
      "text/plain": [
       "{ name: 'John',\n",
       "  age: 30,\n",
       "  sayHi: [Function],\n",
       "  sayBye: [Function: sayBye] }"
      ]
     },
     "execution_count": 10,
     "metadata": {},
     "output_type": "execute_result"
    }
   ],
   "source": [
    "user"
   ]
  },
  {
   "cell_type": "markdown",
   "metadata": {},
   "source": [
    "Here during the execution of `user.sayHi()`, the value of `this` will be `user`.\n",
    "\n",
    "Technically, it’s also possible to access the object without this, by referencing it via the outer variable:"
   ]
  },
  {
   "cell_type": "code",
   "execution_count": 11,
   "metadata": {},
   "outputs": [
    {
     "name": "stdout",
     "output_type": "stream",
     "text": [
      "John\n"
     ]
    }
   ],
   "source": [
    "let user2 = {\n",
    "  name: \"John\",\n",
    "  age: 30,\n",
    "\n",
    "  sayHi() {\n",
    "    console.log(user2.name); // \"user2\" instead of \"this\"\n",
    "  }\n",
    "};\n",
    "\n",
    "user2.sayHi()"
   ]
  },
  {
   "cell_type": "markdown",
   "metadata": {},
   "source": [
    "But such code is unreliable. If we decide to copy user to another variable, e.g. `admin = user2` and overwrite `user2` with something else, then it will access the wrong object."
   ]
  },
  {
   "cell_type": "code",
   "execution_count": 12,
   "metadata": {},
   "outputs": [
    {
     "name": "stdout",
     "output_type": "stream",
     "text": [
      "undefined\n"
     ]
    }
   ],
   "source": [
    "let admin =  user2\n",
    "user2 = 3\n",
    "admin.sayHi() "
   ]
  },
  {
   "cell_type": "code",
   "execution_count": 13,
   "metadata": {},
   "outputs": [
    {
     "data": {
      "text/plain": [
       "{ name: 'John', age: 30, sayHi: [Function: sayHi] }"
      ]
     },
     "execution_count": 13,
     "metadata": {},
     "output_type": "execute_result"
    }
   ],
   "source": [
    "admin"
   ]
  },
  {
   "cell_type": "markdown",
   "metadata": {},
   "source": [
    "#### `this` is not bound"
   ]
  },
  {
   "cell_type": "code",
   "execution_count": 16,
   "metadata": {},
   "outputs": [
    {
     "name": "stdout",
     "output_type": "stream",
     "text": [
      "John\n"
     ]
    }
   ],
   "source": [
    "let guy1 = { name: \"John\" };\n",
    "let guy2 = { name: \"Admin\" };\n",
    "\n",
    "function sayHi() {\n",
    "  console.log( this.name );\n",
    "}\n",
    "\n",
    "// use the same functions in two objects\n",
    "guy1.f = sayHi;\n",
    "guy2.f = sayHi;\n",
    "\n",
    "// these calls have different this\n",
    "// \"this\" inside the function is the object \"before the dot\"\n",
    "guy1.f(); // John  (this == user)"
   ]
  },
  {
   "cell_type": "code",
   "execution_count": 17,
   "metadata": {},
   "outputs": [
    {
     "name": "stdout",
     "output_type": "stream",
     "text": [
      "Admin\n"
     ]
    }
   ],
   "source": [
    "guy2.f(); // Admin  (this == admin)"
   ]
  },
  {
   "cell_type": "markdown",
   "metadata": {},
   "source": [
    "Actually, we can call the function without an object at all:"
   ]
  },
  {
   "cell_type": "code",
   "execution_count": 20,
   "metadata": {},
   "outputs": [
    {
     "name": "stdout",
     "output_type": "stream",
     "text": [
      "undefined\n"
     ]
    }
   ],
   "source": [
    "\"use strict\"\n",
    "function sayHi() {\n",
    "  console.log(this);\n",
    "}\n",
    "\n",
    "sayHi(); // undefined"
   ]
  },
  {
   "cell_type": "markdown",
   "metadata": {},
   "source": [
    "In this case this is `undefined` in strict mode. If we try to access `this.name`, there will be an error.\n",
    "\n",
    "In non-strict mode (if one forgets use strict) the value of `this` in such case will be the global object (window in a browser, we’ll get to it later). This is a historical behavior that `\"use strict\"` fixes."
   ]
  },
  {
   "cell_type": "markdown",
   "metadata": {},
   "source": [
    "**Be careful!** An intricate method call can lose this, for instance:"
   ]
  },
  {
   "cell_type": "code",
   "execution_count": 27,
   "metadata": {},
   "outputs": [
    {
     "name": "stdout",
     "output_type": "stream",
     "text": [
      "John\n"
     ]
    },
    {
     "ename": "TypeError",
     "evalue": "(intermediate value)(intermediate value)(intermediate value) is not a function",
     "output_type": "error",
     "traceback": [
      "evalmachine.<anonymous>:10",
      "(user.name == \"John\" ? user.hi : user.bye)(); // Error!",
      "                                          ^",
      "",
      "TypeError: (intermediate value)(intermediate value)(intermediate value) is not a function",
      "    at evalmachine.<anonymous>:10:43",
      "    at ContextifyScript.Script.runInThisContext (vm.js:50:33)",
      "    at Object.runInThisContext (vm.js:139:38)",
      "    at run ([eval]:1002:15)",
      "    at onRunRequest ([eval]:829:18)",
      "    at onMessage ([eval]:789:13)",
      "    at emitTwo (events.js:126:13)",
      "    at process.emit (events.js:214:7)",
      "    at emit (internal/child_process.js:772:12)",
      "    at _combinedTickCallback (internal/process/next_tick.js:141:11)"
     ]
    }
   ],
   "source": [
    "//refer oiginal source for explanation\n",
    "let bar = {\n",
    "  name: \"John\",\n",
    "  hi() {console.log(this.name); },\n",
    "  bye() {console.log(\"Bye\"); }\n",
    "};\n",
    "\n",
    "bar.hi(); // John (the simple call works)\n",
    "\n",
    "// now let's call user.hi or user.bye depending on the name\n",
    "(user.name == \"John\" ? user.hi : user.bye)(); // Error!"
   ]
  },
  {
   "cell_type": "markdown",
   "metadata": {},
   "source": [
    "#### Arrow functions have no `this` -\n",
    "\n",
    "Arrow functions are special: they don’t have their “own” `this`. If we reference this from such a function, it’s taken from the outer “normal” function.\n",
    "\n",
    "For instance, here `arrow()` uses this from the outer `foo.sayHi()` method:"
   ]
  },
  {
   "cell_type": "code",
   "execution_count": 26,
   "metadata": {},
   "outputs": [
    {
     "name": "stdout",
     "output_type": "stream",
     "text": [
      "Ilya\n"
     ]
    }
   ],
   "source": [
    "foo = {\n",
    "  firstName: \"Ilya\",\n",
    "  sayHi() {\n",
    "    let arrow = () => console.log(this.firstName);\n",
    "    arrow();\n",
    "  }\n",
    "};\n",
    "\n",
    "foo.sayHi(); // Ilya"
   ]
  },
  {
   "cell_type": "markdown",
   "metadata": {},
   "source": [
    "That’s a special feature of arrow functions, it’s useful when we actually do not want to have a separate this, but rather to take it from the outer context. "
   ]
  },
  {
   "cell_type": "markdown",
   "metadata": {},
   "source": [
    "### Object to primitive conversion\n",
    "\n",
    "What happens when objects are added `obj1 + obj2`, subtracted `obj1 - obj2` or printed using `alert(obj)`?\n",
    "\n",
    "For objects, there’s no to-boolean conversion, because all objects are `true` in a boolean context. So there are only string and numeric conversions."
   ]
  },
  {
   "cell_type": "markdown",
   "metadata": {
    "collapsed": true
   },
   "source": [
    "The object-to-primitive conversion is called automatically by many built-in functions and operators that expect a primitive as a value.\n",
    "\n",
    "There are 3 types (hints) of it:\n",
    "\n",
    "    `string` (for `alert` and other string conversions)\n",
    "    `number` (for maths)\n",
    "    `default` (few operators)\n",
    "\n",
    "The specification describes explicitly which operator uses which hint. There are very few operators that “don’t know what to expect” and use the `default` hint. Usually for built-in objects `default` hint is handled the same way as `number`, so in practice the last two are often merged together.\n",
    "\n",
    "The conversion algorithm is:\n",
    "\n",
    " - Call `obj[Symbol.toPrimitive](hint)` if the method exists,\n",
    " - Otherwise if hint is `string` -\n",
    "      - try `obj.toString()` and `obj.valueOf()`, whatever exists.\n",
    " - Otherwise if hint is `number` or `default`\n",
    "      - try `obj.valueOf()` and `obj.toString()`, whatever exists.\n",
    "\n",
    "In practice, it’s often enough to implement only `obj.toString()` as a “catch-all” method for all conversions that return a “human-readable” representation of an object, for logging or debugging purposes."
   ]
  },
  {
   "cell_type": "code",
   "execution_count": null,
   "metadata": {
    "collapsed": true
   },
   "outputs": [],
   "source": [
    "//run this in browser\n",
    "let user = {\n",
    "  name: \"John\",\n",
    "  money: 1000,\n",
    "\n",
    "  [Symbol.toPrimitive](hint) {\n",
    "    alert(`hint: ${hint}`);\n",
    "    return hint == \"string\" ? `{name: \"${this.name}\"}` : this.money;\n",
    "  }\n",
    "};\n",
    "\n",
    "// conversions demo:\n",
    "alert(user); // hint: string -> {name: \"John\"}\n",
    "alert(+user); // hint: number -> 1000\n",
    "alert(user + 500); // hint: default -> 1500"
   ]
  },
  {
   "cell_type": "markdown",
   "metadata": {},
   "source": [
    "As we can see from the code, `user` becomes a self-descriptive string or a money amount depending on the conversion. The single method `user[Symbol.toPrimitive]` handles all conversion cases."
   ]
  },
  {
   "cell_type": "markdown",
   "metadata": {},
   "source": [
    "### `toString/valueOf`\n",
    "\n",
    "Methods `toString` and `valueOf` come from ancient times. They are not symbols (symbols did not exist that long ago), but rather “regular” string-named methods. They provide an alternative “old-style” way to implement the conversion.\n",
    "\n",
    "If there’s no `Symbol.toPrimitive` then JavaScript tries to find them and try in the order:\n",
    "\n",
    " - `toString` -> `valueOf` for “string” hint.\n",
    " - `valueOf` -> `toString` otherwise.\n"
   ]
  },
  {
   "cell_type": "code",
   "execution_count": null,
   "metadata": {
    "collapsed": true
   },
   "outputs": [],
   "source": [
    "//run this i browser\n",
    "\n",
    "let user = {\n",
    "  name: \"John\",\n",
    "  money: 1000,\n",
    "\n",
    "  // for hint=\"string\"\n",
    "  toString() {\n",
    "    return `{name: \"${this.name}\"}`;\n",
    "  },\n",
    "\n",
    "  // for hint=\"number\" or \"default\"\n",
    "  valueOf() {\n",
    "    return this.money;\n",
    "  }\n",
    "\n",
    "};\n",
    "\n",
    "alert(user); // toString -> {name: \"John\"}\n",
    "alert(+user); // valueOf -> 1000\n",
    "alert(user + 500); // valueOf -> 1500"
   ]
  },
  {
   "cell_type": "markdown",
   "metadata": {},
   "source": [
    "Often we want a single “catch-all” place to handle all primitive conversions. In this case we can implement `toString` only, like this:"
   ]
  },
  {
   "cell_type": "code",
   "execution_count": null,
   "metadata": {
    "collapsed": true
   },
   "outputs": [],
   "source": [
    "//run this in browser\n",
    "\n",
    "let user = {\n",
    "  name: \"John\",\n",
    "\n",
    "  toString() {\n",
    "    return this.name;\n",
    "  }\n",
    "};\n",
    "\n",
    "alert(user); // toString -> John\n",
    "alert(user + 500); // toString -> John500"
   ]
  },
  {
   "cell_type": "markdown",
   "metadata": {},
   "source": [
    "#### `ToPrimitive` and `ToString/ToNumber`\n",
    "\n",
    "The important thing to know about all primitive-conversion methods is that they do not necessarily return the “hinted” primitive.\n",
    "\n",
    "There is no control whether `toString()` returns exactly a string, or whether `Symbol.toPrimitive` method returns a number for a hint “number”.\n",
    "\n",
    "The only mandatory thing: these methods must return a primitive.\n",
    "\n",
    "An operation that initiated the conversion gets that primitive, and then continues to work with it, applying further conversions if necessary.\n",
    "\n",
    "For instance:\n",
    "\n",
    " - Mathematical operations (except binary plus) perform `ToNumber` conversion:\n",
    " \n",
    "```js\n",
    "let obj = {\n",
    "  toString() { // toString handles all conversions in the absence of other methods\n",
    "    return \"2\";\n",
    "  }\n",
    "};\n",
    "\n",
    "alert(obj * 2); // 4, ToPrimitive gives \"2\", then it becomes 2\n",
    "```"
   ]
  },
  {
   "cell_type": "markdown",
   "metadata": {},
   "source": [
    " - Binary plus checks the primitive – if it’s a string, then it does concatenation, otherwise it performs ToNumber and works with numbers.\n",
    "\n",
    "String example:\n",
    "\n",
    "```js\n",
    "let obj = {\n",
    "  toString() {\n",
    "    return \"2\";\n",
    "  }\n",
    "};\n",
    "\n",
    "alert(obj + 2); // 22 (ToPrimitive returned string => concatenation)\n",
    "```\n",
    "\n",
    "Number example:\n",
    "```js\n",
    "let obj = {\n",
    "  toString() {\n",
    "    return true;\n",
    "  }\n",
    "};\n",
    "\n",
    "alert(obj + 2); // 3 (ToPrimitive returned boolean, not string => ToNumber)\n",
    "```"
   ]
  },
  {
   "cell_type": "markdown",
   "metadata": {},
   "source": [
    "#### Historical notes\n",
    "\n",
    "For historical reasons, methods `toString` or `valueOf` should return a primitive: if any of them returns an object, then there’s no error, but that object is ignored (like if the method didn’t exist).\n",
    "\n",
    "In contrast, `Symbol.toPrimitive` must return a primitive, otherwise, there will be an error.\n"
   ]
  },
  {
   "cell_type": "markdown",
   "metadata": {},
   "source": [
    "### Constructor, operator \"`new`\"\n",
    "\n",
    "The regular `{...}` syntax allows to create one object. But often we need to create many similar objects, like multiple users or menu items and so on.\n",
    "\n",
    "That can be done using constructor functions and the `new` operator.\n",
    "\n",
    "Constructor functions technically are regular functions. There are two conventions though:\n",
    "\n",
    " - They are named with capital letter first.\n",
    " - They should be executed only with \"new\" operator.\n",
    "\n",
    "For instance:"
   ]
  },
  {
   "cell_type": "code",
   "execution_count": 1,
   "metadata": {},
   "outputs": [
    {
     "name": "stdout",
     "output_type": "stream",
     "text": [
      "Jack\n",
      "false\n"
     ]
    }
   ],
   "source": [
    "function User(name) {\n",
    "  this.name = name;\n",
    "  this.isAdmin = false;\n",
    "}\n",
    "\n",
    "let user = new User(\"Jack\");\n",
    "\n",
    "console.log(user.name); // Jack\n",
    "console.log(user.isAdmin); // false"
   ]
  },
  {
   "cell_type": "markdown",
   "metadata": {},
   "source": [
    "Now if we want to create other users, we can call `new User(\"Ann\")`, `new User(\"Alice\")` and so on. Much shorter than using literals every time, and also easy to read."
   ]
  },
  {
   "cell_type": "markdown",
   "metadata": {},
   "source": [
    "**Note**\n",
    "\n",
    "`new function() { … }`\n",
    "\n",
    "If we have many lines of code all about creation of a single complex object, we can wrap them in constructor function, like this:\n",
    "```js\n",
    "let user = new function() {\n",
    "  this.name = \"John\";\n",
    "  this.isAdmin = false;\n",
    "\n",
    "  // ...other code for user creation\n",
    "  // maybe complex logic and statements\n",
    "  // local variables etc\n",
    "};\n",
    "```\n",
    "The constructor can’t be called again, because it is not saved anywhere, just created and called. So this trick aims to encapsulate the code that constructs the single object, without future reuse."
   ]
  },
  {
   "cell_type": "markdown",
   "metadata": {},
   "source": [
    "#### Return from constructors\n",
    "\n",
    "Usually, constructors do not have a return statement. Their task is to write all necessary stuff into this, and it automatically becomes the result.\n",
    "\n",
    "But if there is a return statement, then the rule is simple:\n",
    "\n",
    " - If return is called with object, then it is returned instead of this.\n",
    " - If return is called with a primitive, it’s ignored.\n",
    "\n",
    "In other words, return with an object returns that object, in all other cases this is returned.\n",
    "\n",
    "For instance, here return overrides this by returning an object:"
   ]
  },
  {
   "cell_type": "code",
   "execution_count": 2,
   "metadata": {},
   "outputs": [
    {
     "name": "stdout",
     "output_type": "stream",
     "text": [
      "Godzilla\n"
     ]
    }
   ],
   "source": [
    "function BigUser() {\n",
    "\n",
    "  this.name = \"John\";\n",
    "  return { name: \"Godzilla\" };  // <-- returns an object\n",
    "}\n",
    "\n",
    "console.log(new BigUser().name );  // Godzilla, got that object ^^"
   ]
  },
  {
   "cell_type": "code",
   "execution_count": 3,
   "metadata": {},
   "outputs": [
    {
     "name": "stdout",
     "output_type": "stream",
     "text": [
      "John\n"
     ]
    }
   ],
   "source": [
    "function SmallUser() {\n",
    "\n",
    "  this.name = \"John\";\n",
    "\n",
    "  return; // finishes the execution, returns this\n",
    "}\n",
    "\n",
    "console.log(new SmallUser().name );"
   ]
  },
  {
   "cell_type": "markdown",
   "metadata": {},
   "source": [
    "#### Omitting  parentheses\n",
    "\n",
    "By the way, we can omit parentheses after new, if it has no arguments:\n",
    "```js\n",
    "let user = new User; // <-- no parentheses\n",
    "// same as\n",
    "let user = new User();\n",
    "```"
   ]
  },
  {
   "cell_type": "markdown",
   "metadata": {},
   "source": [
    "#### Methods in constructor\n",
    "\n",
    "Using constructor functions to create objects gives a great deal of flexibility. The constructor function may have parameters that define how to construct the object, and what to put in it.\n",
    "\n",
    "Of course, we can add to this not only properties, but methods as well.\n",
    "\n",
    "For instance, `new User(name)` below creates an object with the given name and the method `sayHi`:"
   ]
  },
  {
   "cell_type": "code",
   "execution_count": 8,
   "metadata": {},
   "outputs": [
    {
     "name": "stdout",
     "output_type": "stream",
     "text": [
      "My name is: John\n"
     ]
    }
   ],
   "source": [
    "function User(name) {\n",
    "  this.name = name;\n",
    "\n",
    "  this.sayHi = function() {\n",
    "    console.log( \"My name is: \" + this.name );\n",
    "  };\n",
    "}\n",
    "\n",
    "let jo = new User(\"John\");\n",
    "\n",
    "jo.sayHi(); // My name is: John"
   ]
  },
  {
   "cell_type": "markdown",
   "metadata": {},
   "source": [
    "### Methods of primitives\n",
    "\n",
    "JavaScript allows us to work with primitives (strings, numbers, etc.) as if they were objects.\n",
    "\n",
    "They also provide methods to call as such. We will study those soon, but first we’ll see how it works because, of course, primitives are not objects (and here we will make it even clearer).\n",
    "\n",
    "Let’s look at the key distinctions between primitives and objects.\n",
    "\n",
    "A primitive\n",
    "\n",
    " - Is a value of a primitive type.\n",
    " - There are 6 primitive types: string, number, boolean, symbol, null and undefined.\n",
    "\n",
    "An object\n",
    "\n",
    " - Is capable of storing multiple values as properties.\n",
    " - Can be created with `{}`, for instance: `{name: \"John\", age: 30}`. There are other kinds of objects in JavaScript; functions, for example, are objects.\n",
    "\n",
    "One of the best things about objects is that we can store a function as one of its properties.\n",
    "\n",
    "Many built-in objects already exist, such as those that work with dates, errors, HTML elements, etc. They have different properties and methods. But, these features come with a cost!\n",
    "\n",
    "Objects are “heavier” than primitives. They require additional resources to support the internal machinery. But as properties and methods are very useful in programming, JavaScript engines try to optimize them to reduce the additional burden.\n",
    "\n",
    "#### A primitive as an object\n",
    "\n",
    "Here’s the paradox faced by the creator of JavaScript:\n",
    "\n",
    " - There are many things one would want to do with a primitive like a string or a number. It would be great to access them as methods.\n",
    " - Primitives must be as fast and lightweight as possible.\n",
    "\n",
    "The solution looks a little bit awkward, but here it is:\n",
    "\n",
    " - Primitives are still primitive. A single value, as desired.\n",
    " - The language allows access to methods and properties of strings, numbers, booleans and symbols.\n",
    " - When this happens, a special “object wrapper” is created that provides the extra functionality, and then is destroyed.\n",
    "\n",
    "The “object wrappers” are different for each primitive type and are called: `String`, `Number`, `Boolean` and `Symbol`. Thus, they provide different sets of methods.\n",
    "\n",
    "For instance, there exists a method `str.toUpperCase()` that returns a capitalized string.\n",
    "\n",
    "Here’s how it works:"
   ]
  },
  {
   "cell_type": "code",
   "execution_count": 9,
   "metadata": {},
   "outputs": [
    {
     "name": "stdout",
     "output_type": "stream",
     "text": [
      "HELLO\n"
     ]
    }
   ],
   "source": [
    "let str = \"Hello\";\n",
    "\n",
    "console.log(str.toUpperCase() ); // HELLO"
   ]
  },
  {
   "cell_type": "markdown",
   "metadata": {},
   "source": [
    "Here’s what actually happens in `str.toUpperCase()`:\n",
    "\n",
    " - The string str is a primitive. So in the moment of accessing its property, a special object is created that knows the value of the string, and has useful methods, like toUpperCase().\n",
    " - That method runs and returns a new string (shown by alert).\n",
    " - The special object is destroyed, leaving the primitive str alone.\n",
    "\n",
    "A number has methods of its own, for instance, `toFixed(n)` rounds the number to the given precision:"
   ]
  },
  {
   "cell_type": "code",
   "execution_count": 10,
   "metadata": {},
   "outputs": [
    {
     "data": {
      "text/plain": [
       "'11.12'"
      ]
     },
     "execution_count": 10,
     "metadata": {},
     "output_type": "execute_result"
    }
   ],
   "source": [
    "let n = 11.116;\n",
    "n.toFixed(2)\n"
   ]
  },
  {
   "cell_type": "markdown",
   "metadata": {},
   "source": [
    "**Note**\n",
    "\n",
    "Constructors `String/Number/Boolean` are for internal use only\n",
    "\n",
    "Some languages like Java allow us to create “wrapper objects” for primitives explicitly using a syntax like `new Number(1)` or `new Boolean(false)`.\n",
    "\n",
    "In JavaScript, that’s also possible for historical reasons, but highly unrecommended. Things will go crazy in several places.\n",
    "\n",
    "For instance:"
   ]
  },
  {
   "cell_type": "code",
   "execution_count": 11,
   "metadata": {},
   "outputs": [
    {
     "name": "stdout",
     "output_type": "stream",
     "text": [
      "number\n",
      "object\n"
     ]
    }
   ],
   "source": [
    "console.log(typeof 1 ); // \"number\"\n",
    "console.log(typeof new Number(1) ); // "
   ]
  },
  {
   "cell_type": "code",
   "execution_count": 12,
   "metadata": {},
   "outputs": [
    {
     "name": "stdout",
     "output_type": "stream",
     "text": [
      "zero is truthy?!?\n"
     ]
    }
   ],
   "source": [
    "let zero = new Number(0);\n",
    "\n",
    "if (zero) { // zero is true, because it's an object\n",
    "  console.log( \"zero is truthy?!?\" );\n",
    "}"
   ]
  },
  {
   "cell_type": "markdown",
   "metadata": {},
   "source": [
    "On the other hand, using the same functions `String/Number/Boolean` without `new` is a totally sane and useful thing. They convert a value to the corresponding type: to a string, a number, or a boolean (primitive).\n",
    "\n",
    "For example, this is entirely valid:"
   ]
  },
  {
   "cell_type": "code",
   "execution_count": 13,
   "metadata": {},
   "outputs": [
    {
     "name": "stdout",
     "output_type": "stream",
     "text": [
      "number\n"
     ]
    }
   ],
   "source": [
    "let num = Number(\"123\"); // convert a string to number\n",
    "console.log(typeof num)"
   ]
  },
  {
   "cell_type": "markdown",
   "metadata": {},
   "source": [
    "#### `null/undefined` have no methods\n",
    "\n",
    "The special primitives `null` and `undefined` are exceptions. They have no corresponding “wrapper objects” and provide no methods. In a sense, they are “the most primitive”."
   ]
  },
  {
   "cell_type": "markdown",
   "metadata": {},
   "source": [
    "### Numbers\n",
    "\n",
    "All numbers in JavaScript are stored in 64-bit format IEEE-754, also known as “double precision”.\n",
    "We can write - \n",
    "```js\n",
    "let billion = 1000000000;\n",
    "```\n",
    "But it is better to do this - "
   ]
  },
  {
   "cell_type": "code",
   "execution_count": 14,
   "metadata": {},
   "outputs": [
    {
     "name": "stdout",
     "output_type": "stream",
     "text": [
      "1000000000\n"
     ]
    }
   ],
   "source": [
    "let billion = 1e9;   //1 and 9 zeroes\n",
    "console.log(billion) "
   ]
  },
  {
   "cell_type": "code",
   "execution_count": 15,
   "metadata": {},
   "outputs": [
    {
     "data": {
      "text/plain": [
       "130000000"
      ]
     },
     "execution_count": 15,
     "metadata": {},
     "output_type": "execute_result"
    }
   ],
   "source": [
    "let a = 1.3e8;\n",
    "a"
   ]
  },
  {
   "cell_type": "code",
   "execution_count": 16,
   "metadata": {},
   "outputs": [
    {
     "data": {
      "text/plain": [
       "2.3e-7"
      ]
     },
     "execution_count": 16,
     "metadata": {},
     "output_type": "execute_result"
    }
   ],
   "source": [
    "let b = 2.3e-7; // seven zeroes to the left from 1.\n",
    "b"
   ]
  },
  {
   "cell_type": "markdown",
   "metadata": {},
   "source": [
    "If we count the zeroes in `0.000001`, there are 6 of them. So naturally it’s `1e-6`.\n",
    "\n",
    "In other words, a negative number after \"e\" means a division by 1 with the given number of zeroes."
   ]
  },
  {
   "cell_type": "markdown",
   "metadata": {},
   "source": [
    "#### Hex, binary and octal numbers\n",
    "\n",
    "Hexadecimal numbers are widely used in JavaScript to represent colors, encode characters, and for many other things. So naturally, there exists a shorter way to write them: `0x` and then the number.\n",
    "\n",
    "For instance:"
   ]
  },
  {
   "cell_type": "code",
   "execution_count": 19,
   "metadata": {},
   "outputs": [
    {
     "name": "stdout",
     "output_type": "stream",
     "text": [
      "255\n",
      "255\n"
     ]
    }
   ],
   "source": [
    "console.log(0xff)\n",
    "console.log(0xFF)"
   ]
  },
  {
   "cell_type": "markdown",
   "metadata": {},
   "source": [
    "Binary and octal numeral systems are rarely used, but also supported using the `0b` and `0o` prefixes:\n",
    "\n"
   ]
  },
  {
   "cell_type": "code",
   "execution_count": 20,
   "metadata": {},
   "outputs": [
    {
     "name": "stdout",
     "output_type": "stream",
     "text": [
      "25\n"
     ]
    }
   ],
   "source": [
    "console.log(0b11001)"
   ]
  },
  {
   "cell_type": "code",
   "execution_count": 25,
   "metadata": {},
   "outputs": [
    {
     "data": {
      "text/plain": [
       "true"
      ]
     },
     "execution_count": 25,
     "metadata": {},
     "output_type": "execute_result"
    }
   ],
   "source": [
    "let aa = 0b11111111; // binary form of 255\n",
    "let bb = 0o377; // octal form of 255\n",
    "\n",
    "aa == bb"
   ]
  },
  {
   "cell_type": "markdown",
   "metadata": {},
   "source": [
    "#### `toString(base)`\n",
    "\n",
    "The method `num.toString(base)` returns a string representation of `num` in the numeral system with the given base. The `base` can vary from 2 to 36. By default it’s 10.\n",
    "\n",
    "For example:"
   ]
  },
  {
   "cell_type": "code",
   "execution_count": 26,
   "metadata": {},
   "outputs": [
    {
     "data": {
      "text/plain": [
       "123"
      ]
     },
     "execution_count": 26,
     "metadata": {},
     "output_type": "execute_result"
    }
   ],
   "source": [
    "num"
   ]
  },
  {
   "cell_type": "code",
   "execution_count": 27,
   "metadata": {},
   "outputs": [
    {
     "data": {
      "text/plain": [
       "'7b'"
      ]
     },
     "execution_count": 27,
     "metadata": {},
     "output_type": "execute_result"
    }
   ],
   "source": [
    "num.toString(16)"
   ]
  },
  {
   "cell_type": "code",
   "execution_count": 28,
   "metadata": {},
   "outputs": [
    {
     "data": {
      "text/plain": [
       "'3f'"
      ]
     },
     "execution_count": 28,
     "metadata": {},
     "output_type": "execute_result"
    }
   ],
   "source": [
    "123..toString(36); // 2n9c"
   ]
  },
  {
   "cell_type": "markdown",
   "metadata": {},
   "source": [
    "Please note that two dots in `123..toString(36)` is not a typo. If we want to call a method directly on a number, like `toString` in the example above, then we need to place two dots `..` after it.\n",
    "\n",
    "If we placed a single dot: `123456.toString(36)`, then there would be an error, because JavaScript syntax implies the decimal part after the first dot. And if we place one more dot, then JavaScript knows that the decimal part is empty and now goes the method.\n",
    "\n",
    "Also could write `(123456).toString(36)`.\n"
   ]
  },
  {
   "cell_type": "code",
   "execution_count": 29,
   "metadata": {},
   "outputs": [
    {
     "data": {
      "text/plain": [
       "'2n9c'"
      ]
     },
     "execution_count": 29,
     "metadata": {},
     "output_type": "execute_result"
    }
   ],
   "source": [
    "(123456).toString(36)"
   ]
  },
  {
   "cell_type": "markdown",
   "metadata": {},
   "source": [
    "#### Rounding\n",
    "\n",
    "One of the most used operations when working with numbers is rounding. There are several built-in functions for rounding:\n",
    "\n",
    "`Math.floor`\n",
    "    Rounds down: 3.1 becomes 3, and -1.1 becomes -2.\n",
    "    \n",
    "`Math.ceil`\n",
    "    Rounds up: 3.1 becomes 4, and -1.1 becomes -1.\n",
    "    \n",
    "`Math.round`\n",
    "    Rounds to the nearest integer: 3.1 becomes 3, 3.6 becomes 4 and -1.1 becomes -1.\n",
    "    \n",
    "`Math.trunc` (not supported by Internet Explorer)\n",
    "    Removes anything after the decimal point without rounding: 3.1 becomes 3, -1.1 becomes -1. "
   ]
  },
  {
   "cell_type": "code",
   "execution_count": null,
   "metadata": {
    "collapsed": true
   },
   "outputs": [],
   "source": []
  }
 ],
 "metadata": {
  "kernelspec": {
   "display_name": "Javascript (Node.js)",
   "language": "javascript",
   "name": "javascript"
  },
  "language_info": {
   "file_extension": ".js",
   "mimetype": "application/javascript",
   "name": "javascript",
   "version": "8.11.2"
  }
 },
 "nbformat": 4,
 "nbformat_minor": 2
}
