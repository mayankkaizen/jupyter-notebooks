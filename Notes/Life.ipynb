{
 "cells": [
  {
   "cell_type": "markdown",
   "id": "3420909c",
   "metadata": {},
   "source": [
    "# Life\n",
    "\n",
    "<blockquote>\n",
    "\n",
    "\"Dr. Rosen: You can't reason your way out of this!\n",
    "\n",
    "John Forbes Nash: Why not? Why can't I?\n",
    "\n",
    "Dr. Rosen: Because your mind is where your problem is in the first place!”\n",
    "\n",
    "from 'A Beautiful Mind'. \n",
    "\n",
    "</blockquote>\n",
    "    \n",
    "राह बड़ी सीधी है\n",
    "मोड़ तो सारे मन के है \n",
    "\n",
    "\\- from a meme "
   ]
  },
  {
   "cell_type": "markdown",
   "id": "eae74be0",
   "metadata": {},
   "source": []
  },
  {
   "cell_type": "code",
   "execution_count": null,
   "id": "5a689b04",
   "metadata": {},
   "outputs": [],
   "source": []
  }
 ],
 "metadata": {
  "kernelspec": {
   "display_name": "Python 3 (ipykernel)",
   "language": "python",
   "name": "python3"
  },
  "language_info": {
   "codemirror_mode": {
    "name": "ipython",
    "version": 3
   },
   "file_extension": ".py",
   "mimetype": "text/x-python",
   "name": "python",
   "nbconvert_exporter": "python",
   "pygments_lexer": "ipython3",
   "version": "3.9.7"
  }
 },
 "nbformat": 4,
 "nbformat_minor": 5
}
