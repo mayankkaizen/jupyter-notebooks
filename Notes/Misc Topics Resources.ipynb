{
 "cells": [
  {
   "cell_type": "markdown",
   "id": "d3e9a7a8",
   "metadata": {},
   "source": [
    "This notebook contains resources for the topics/skills I want to understand or learn. "
   ]
  },
  {
   "cell_type": "markdown",
   "id": "fe8c25f7",
   "metadata": {},
   "source": [
    "####  Godel's Incompleteness Theorems and Turing's works\n",
    "\n",
    " - [$\\infty+1$](https://infinityplusonemath.wordpress.com/2017/06/17/what-is-math/?utm_source=pocket_mylist) is a gentle story-like introduction to Godel's work. Anyone can understand this. This site also introduces many other mathematical concept in similar fashion.  \n",
    " - [Kurt Godel and the romance of logic](https://news.ycombinator.com/item?id=18755000&utm_source=pocket_saves) HN discussion\n",
    " - [Kurt Gödel shows limits of math, logic, computing, AI](https://news.ycombinator.com/item?id=27536974&utm_source=pocket_saves)\n",
    " -[Logic Matters](https://www.logicmatters.net/?utm_source=pocket_saves) - Resources for Godel's works and logic"
   ]
  },
  {
   "cell_type": "markdown",
   "id": "291f5589",
   "metadata": {},
   "source": [
    "#### Claude Shanon and Information Theory related\n",
    "\n",
    " - [Pdf in this HN link](https://news.ycombinator.com/item?id=28785902). Also go through other links mentioned in this HN discussion. \n",
    " - [HN discuusion](https://news.ycombinator.com/item?id=19072769)\n",
    " - Another HN discussion(https://news.ycombinator.com/item?id=23873752&utm_source=pocket_saves)\n",
    " -[HN discussion](https://news.ycombinator.com/item?id=31164725&utm_source=pocket_saves)\n",
    " -[Entropy explained, with sheep](https://news.ycombinator.com/item?id=24140808&utm_source=pocket_saves) - HN post, although the post and the discussion are more centered around physics, rather than Information theory.\n"
   ]
  },
  {
   "cell_type": "markdown",
   "id": "d0a22eb5",
   "metadata": {},
   "source": [
    "#### Linear Algebra and related stuffs\n",
    "\n",
    " - Check this [HN discussion](https://news.ycombinator.com/item?id=20570025&utm_source=pocket_saves). Many guys in this thread recommended [Introduction to Linear Algebra by Gilbert Strang](https://www.amazon.com/Introduction-Linear-Algebra-Gilbert-Strang/dp/0980232775/ref=asc_df_0980232775/?tag=hyprod-20&linkCode=df0&hvadid=312152840806&hvpos=1o1&hvnetw=g&hvrand=13794249926302782300&hvpone=&hvptwo=&hvqmt=&hvdev=c&hvdvcmdl=&hvlocint=&hvlocphy=9015292&hvtargid=pla-454800779501&psc=1&tag=&ref=&adgrpid=61316181319&hvpone=&hvptwo=&hvadid=312152840806&hvpos=1o1&hvnetw=g&hvrand=13794249926302782300&hvqmt=&hvdev=c&hvdvcmdl=&hvlocint=&hvlocphy=9015292&hvtargid=pla-454800779501). Looks like his LA course is available on MIT OCW which I have to check as the link mentioned in the thread was broken. [Link to his MIT page](https://math.mit.edu/~gs/)\n",
    " \n",
    " - [This page](https://cain.math.gatech.edu/textbooks/onlinebooks.html) has curated collection of freely available quality books (not limited to Linear Algebra)\n",
    " \n",
    " - Georgia Tech online book [Interactive Linear Algebra](https://textbooks.math.gatech.edu/) is also a good resource.\n",
    " \n",
    " - [What is an eigenvalue?](https://news.ycombinator.com/item?id=33517795&utm_source=pocket_saves) - Quality discussion about eigenvalues.\n",
    " \n",
    " - [Linear Algebra Done Right by Sheldon Axler](https://linear.axler.net/) is very often recommended. However, per some recommendations, it is very abstract and advance text. \n",
    " \n",
    " - [Mathematics for Machine Learning](https://mml-book.github.io/book/mml-book.pdf) is also mentioned at many places. \n",
    " \n",
    " - [SO You Want to Study Mathematics..](https://www.susanrigetti.com/math) is also often discussed. \n",
    " \n",
    " - Few good comments about Matrix Multiplication on [this thread](https://news.ycombinator.com/item?id=29971470&utm_source=pocket_saves)\n",
    " \n",
    " - [Free Linear Algebra Textbook](https://news.ycombinator.com/item?id=24892907&utm_source=pocket_saves)\n",
    " \n",
    " - [A Programmer's Introduction to Mathematics by Jeremy Kun](https://pimbook.org/). His blog is very famous for topics at the intersection of programming and mathematics. In that light, his book is oft recommended. \n",
    " \n",
    " "
   ]
  },
  {
   "cell_type": "markdown",
   "id": "dde198d2",
   "metadata": {},
   "source": [
    "#### Relativity\n"
   ]
  },
  {
   "cell_type": "code",
   "execution_count": null,
   "id": "6c072a0b",
   "metadata": {},
   "outputs": [],
   "source": []
  }
 ],
 "metadata": {
  "kernelspec": {
   "display_name": "Python 3 (ipykernel)",
   "language": "python",
   "name": "python3"
  },
  "language_info": {
   "codemirror_mode": {
    "name": "ipython",
    "version": 3
   },
   "file_extension": ".py",
   "mimetype": "text/x-python",
   "name": "python",
   "nbconvert_exporter": "python",
   "pygments_lexer": "ipython3",
   "version": "3.9.7"
  }
 },
 "nbformat": 4,
 "nbformat_minor": 5
}
