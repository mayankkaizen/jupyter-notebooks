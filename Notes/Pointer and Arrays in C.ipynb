{
 "cells": [
  {
   "cell_type": "markdown",
   "metadata": {},
   "source": [
    "### Arrays and Pointers\n",
    "\n"
   ]
  },
  {
   "cell_type": "markdown",
   "metadata": {},
   "source": [
    "#### Array Initialization"
   ]
  },
  {
   "cell_type": "code",
   "execution_count": 59,
   "metadata": {},
   "outputs": [
    {
     "name": "stdout",
     "output_type": "stream",
     "text": [
      "a[1], b[1] and c[1] are 2,0,0.\n",
      "0,0\n"
     ]
    }
   ],
   "source": [
    "#include <stdio.h>\n",
    "\n",
    "int main()\n",
    "{\n",
    "int a[3] = {1,2,3};   //all elements initialized\n",
    "int b[3] = {1};       // first element initialized, rest are converted to zero automatically\n",
    "int c[3] = {0};       //all elements are zero\n",
    "int d[3];             //\n",
    "\n",
    "printf(\"a[1], b[1] and c[1] are %d,%d,%d.\\n\", a[1],b[1],c[1]);\n",
    "printf(\"%d,%d\\n\",d[1],d[2]);\n",
    "}"
   ]
  },
  {
   "cell_type": "code",
   "execution_count": 22,
   "metadata": {},
   "outputs": [
    {
     "name": "stdout",
     "output_type": "stream",
     "text": [
      "2nd element in array is 1\n",
      "3rd element in array is 2\n",
      "4th element in array is 3\n",
      "pa and arr is 0x7ffee9262880, 0x7ffee9262880\n"
     ]
    }
   ],
   "source": [
    "#include <stdio.h>\n",
    "\n",
    "int main()\n",
    "{\n",
    "int arr[5] = {0,1,2,3,4};\n",
    "int *pa;\n",
    "pa = &arr[0];\n",
    "\n",
    "printf(\"2nd element in array is %d\\n\", arr[1]);    //nothing unusual here\n",
    "printf(\"3rd element in array is %d\\n\", 2[arr]);    //wait, what? what is this 2[arr] thing?\n",
    "printf(\"4th element in array is %d\\n\", pa[3]);     //but pa is a pointer?! How is pa[3] even valid?\n",
    "printf(\"pa and arr is %p, %p\\n\", pa, arr);         //pa and arr are equivalent\n",
    "}\n"
   ]
  },
  {
   "cell_type": "markdown",
   "metadata": {},
   "source": [
    "Look carefully at above program. The second `printf` function has something unusual. We provided `2[arr]` as argument to access third element of array. How is this possible? Also note that both `pa` pointer and array name `arr` are basically equivalent to each other. \n",
    "\n",
    "\n",
    "From **K&R** (chapter)-\n",
    "\n",
    "Suppose we write -\n",
    "   \n",
    " ```C\n",
    "int a[10];\n",
    "int *pa;\n",
    "pa = &a[0];\n",
    "```\n",
    "\n",
    "The correspondence between indexing and pointer arithmetic is very close. By definition, the value of a variable or expression of type array is the address of element zero of the array. Thus after the assignment\n",
    "\n",
    "```c\n",
    "pa = &a[0];\n",
    "```\n",
    "\n",
    "`pa` and `a` have identical values. Since the name of an array is a synonym for the location of the initial element, the assignment `pa=&a[0]` can also be written as\n",
    "\n",
    "```c\n",
    "pa = a;\n",
    "```\n",
    "\n",
    "Rather more surprising, at first sight, is the fact that a reference to `a[i]` can also be written as `*(a+i)`. In evaluating `a[i]`, C converts it to `*(a+i)` immediately; the two forms are equivalent. Applying the operator `&` to both parts of this equivalence, it follows that `&a[i]` and `a+i` are also identical: `a+i` is the address of the `i`-th element beyond `a`. As the other side of this coin, if `pa` is a pointer, expressions might use it with a subscript; `pa[i]` is identical to `*(pa+i)`. In short, an array-and-index expression is equivalent to one written as a pointer and offset.\n",
    "\n",
    "There is one difference between an array name and a pointer that must be kept in mind. A pointer is a variable, so `pa=a` and `pa++` are legal. But an array name is not a variable; constructions like `a=pa` and `a++` are illegal.\n",
    "\n",
    "---"
   ]
  },
  {
   "cell_type": "markdown",
   "metadata": {},
   "source": [
    "From [Wikipedia](https://en.wikipedia.org/wiki/C_%28programming_language%29)\n",
    "\n",
    "The subscript notation `x[i]` (where `x` designates a pointer) is syntactic sugar for `*(x+i)`. Taking advantage of the compiler's knowledge of the pointer type, the address that `x + i` points to is not the base address (pointed to by `x`) incremented by `i` bytes, but rather is defined to be the base address incremented by `i` multiplied by the size of an element that `x` points to. Thus, `x[i]` designates the `i+1`th element of the array.\n",
    "\n",
    "Furthermore, in most expression contexts (a notable exception is as operand of `sizeof`), the name of an array is automatically converted to a pointer to the array's first element. This implies that an array is never copied as a whole when named as an argument to a function, but rather only the address of its first element is passed. Therefore, although function calls in C use pass-by-value semantics, arrays are in effect passed by reference. \n",
    "\n",
    "Thus, despite this apparent equivalence between array and pointer variables, there is still a distinction to be made between them. Even though the name of an array is, in most expression contexts, converted into a pointer (to its first element), this pointer does not itself occupy any storage; the array name is not an l-value, and its address is a constant, unlike a pointer variable. Consequently, what an array \"points to\" cannot be changed, and it is impossible to assign a new address to an array name.\n",
    "\n",
    "---"
   ]
  },
  {
   "cell_type": "markdown",
   "metadata": {},
   "source": [
    "From SO question [Is an array name a pointer?](https://stackoverflow.com/questions/1641957/is-an-array-name-a-pointer)-\n",
    "\n",
    "An array is an array and a pointer is a pointer, but in most cases array names are converted to pointers. A term often used is that they decay to pointers.\n",
    "\n",
    "Here is an array:\n",
    "```c\n",
    "int a[7];\n",
    "```\n",
    "`a` contains space for seven integers, and you can put a value in one of them with an assignment, like this:\n",
    "\n",
    "```c\n",
    "a[3] = 9;\n",
    "```\n",
    "Here is a pointer:\n",
    "```c\n",
    "int *p;\n",
    "```\n",
    "`p` doesn't contain any spaces for integers, but it can point to a space for an integer. We can, for example, set it to point to one of the places in the array `a`, such as the first one:\n",
    "```c\n",
    "p = &a[0];\n",
    "```\n",
    "What can be confusing is that you can also write this:\n",
    "\n",
    "```c\n",
    "p = a;\n",
    "```\n",
    "\n",
    "This does not copy the contents of the array a into the pointer `p` (whatever that would mean). Instead, the array name `a` is converted to a pointer to its first element. So that assignment does the same as the previous one.\n",
    "\n",
    "Now you can use `p` in a similar way to an array:\n",
    "\n",
    "```c\n",
    "p[3] = 17;\n",
    "```\n",
    "\n",
    "The reason that this works is that the array dereferencing operator in C, `[ ]`, is defined in terms of pointers. `x[y]` means: start with the pointer `x`, step `y` elements forward after what the pointer points to, and then take whatever is there. Using pointer arithmetic syntax, `x[y]` can also be written as `*(x+y)`.\n",
    "\n",
    "For this to work with a normal array, such as our `a`, the name `a` in `a[3]` must first be converted to a pointer (to the first element in `a`). Then we step 3 elements forward, and take whatever is there. In other words: take the element at position 3 in the array. (Which is the fourth element in the array, since the first one is numbered 0.)\n",
    "\n",
    "So, in summary, array names in a C program are (in most cases) converted to pointers. One exception is when we use the sizeof operator on an array. If a was converted to a pointer in this context, `sizeof a` would give the size of a pointer and not of the actual array, which would be rather useless, so in that case `a` means the array itself.\n",
    "\n",
    "---\n",
    "\n",
    "\n",
    "\n",
    "\n",
    "\n",
    "\n",
    "\n",
    "\n",
    "\n",
    "\n"
   ]
  },
  {
   "cell_type": "code",
   "execution_count": 23,
   "metadata": {},
   "outputs": [
    {
     "name": "stdout",
     "output_type": "stream",
     "text": [
      "13"
     ]
    }
   ],
   "source": [
    "#include <stdio.h>\n",
    "\n",
    "int main()\n",
    "\n",
    "{\n",
    "int intArray[6];\n",
    "int *intPtr;\n",
    "int i;\n",
    "\n",
    "intPtr = &i;\n",
    "   \n",
    "intArray[3] = 13;  //ok\n",
    "intPtr[0] = 12;    // odd, but ok. Changes i.\n",
    "intPtr[3] = 13;    // BAD! There is no integer reserved here!\n",
    "\n",
    "printf(\"%d\", intPtr[3]);\n",
    "}"
   ]
  },
  {
   "cell_type": "markdown",
   "metadata": {},
   "source": [
    "One effect of the C array scheme is that the compiler does not distinguish meaningfully between arrays and pointers-- they both just look like pointers. In the above example, the value of `intArray` is a pointer to the first element in the array so it's an `(int*)`. The value of the variable `intPtr` is also (`int*`) and it is set to point to a single integer `i`. So what's the difference between `intArray` and `intPtr`? Not much as far as the compiler is concerned. They are both just (`int*`) pointers, and the compiler is perfectly happy to apply the `[]` or `+` syntax to either. It's the programmer's responsibility to ensure that the elements referred to by a `[]` or `+` operation really are there. Really its' just the same old rule that C doesn't do any bounds checking. C thinks of the single integer `i` as just a sort of degenerate array of size 1."
   ]
  },
  {
   "cell_type": "markdown",
   "metadata": {},
   "source": [
    "<img src=\"images/arr.png\" width=\"400\" height=\"5000\"/>"
   ]
  },
  {
   "cell_type": "code",
   "execution_count": 25,
   "metadata": {},
   "outputs": [
    {
     "name": "stdout",
     "output_type": "stream",
     "text": [
      "0x7ffee537e88e\n",
      "a\n",
      "0x7ffee537e88f\n",
      "b\n",
      "0x7ffee537e890\n",
      "(\n",
      "0x7ffee537e890\n"
     ]
    }
   ],
   "source": [
    "#include <stdio.h>\n",
    "int main()\n",
    "{\n",
    "    char b[10];\n",
    "    char *p,*q,*r;\n",
    "    p = &b[0];\n",
    "    q = &b[1];\n",
    "    r = &b[2];\n",
    "\n",
    "    b[0] = 'a';\n",
    "    b[1] = 'b';\n",
    "    \n",
    "    //printf(\"%s\\n\", b); \n",
    "    printf(\"%p\\n\", p);\n",
    "    printf(\"%c\\n\", *p);\n",
    "    printf(\"%p\\n\", q);\n",
    "    printf(\"%c\\n\", *q);\n",
    "    printf(\"%p\\n\",++q);\n",
    "    printf(\"%c\\n\", *r);\n",
    "    printf(\"%p\\n\", r);\n",
    "\n",
    "    return 0;    \n",
    "}"
   ]
  },
  {
   "cell_type": "markdown",
   "metadata": {},
   "source": [
    "Notice how pointer variable values got incremented when array is of int type. If variables were of char type then, they would have been incremented by 1 byte.\n"
   ]
  },
  {
   "cell_type": "markdown",
   "metadata": {},
   "source": [
    "### Difference between `char *s =\"foobar\"` and `char s[] =\"foobar\"`\n",
    "\n",
    "In case of `char *s = \"foobar\"`, `\"foobar\"` will be placed in the read-only parts of the memory, and making `s` a pointer to that makes any writing operation on this memory illegal. [Source SO Post](https://stackoverflow.com/questions/1704407/what-is-the-difference-between-char-s-and-char-s)"
   ]
  },
  {
   "cell_type": "code",
   "execution_count": 47,
   "metadata": {},
   "outputs": [
    {
     "name": "stdout",
     "output_type": "stream",
     "text": [
      "Address of first character - 0x10680ff52\n",
      "Address pointed by s - 0x10680ff52\n",
      "Address of s - 0x7ffee9404898\n",
      "foobar\n",
      "b\n"
     ]
    },
    {
     "name": "stderr",
     "output_type": "stream",
     "text": [
      "[C kernel] Executable exited with code -10"
     ]
    }
   ],
   "source": [
    "#include <stdio.h>\n",
    "\n",
    "int main()\n",
    "{\n",
    "char *s = \"foobar\";\n",
    "\n",
    "printf(\"Address of first character - %p\\n\",&s[0]);\n",
    "printf(\"Address pointed by s - %p\\n\",s);\n",
    "printf(\"Address of s - %p\\n\", &s);\n",
    "printf(\"%s\\n\",s);\n",
    "printf(\"%c\\n\", s[3]);\n",
    "s[3] = 'z';              //illegal\n",
    "}"
   ]
  },
  {
   "cell_type": "markdown",
   "metadata": {},
   "source": [
    "On the other hand, `char s[] = \"foobar\"` puts the literal string in read-only memory and copies the string to newly allocated memory on the stack. Thus making `s[3] = 'z'` operation legal."
   ]
  },
  {
   "cell_type": "code",
   "execution_count": 48,
   "metadata": {},
   "outputs": [
    {
     "name": "stdout",
     "output_type": "stream",
     "text": [
      "Address of first character - 0x7ffeed7d488e\n",
      "Address of array s - 0x7ffeed7d488e\n",
      "0x7ffeed7d488e\n",
      "foobar\n",
      "b\n",
      "foozar\n"
     ]
    }
   ],
   "source": [
    "#include <stdio.h>\n",
    "\n",
    "int main()\n",
    "{\n",
    "char s[10] = \"foobar\";\n",
    "\n",
    "printf(\"Address of first character - %p\\n\",&s[0]);\n",
    "printf(\"Address of array s - %p\\n\",s);\n",
    "printf(\"%p\\n\", &s);\n",
    "printf(\"%s\\n\",s);\n",
    "printf(\"%c\\n\", s[3]);\n",
    "s[3] = 'z';                //legal\n",
    "printf(\"%s\\n\", s);\n",
    "}"
   ]
  },
  {
   "cell_type": "markdown",
   "metadata": {},
   "source": [
    "**Note** - \n",
    "\n",
    "As formal parameters in a function definition, `char s[]` and `char *s` are equivalent; we prefer the latter because it says more explicitly that the variable is a pointer."
   ]
  },
  {
   "cell_type": "code",
   "execution_count": null,
   "metadata": {},
   "outputs": [],
   "source": []
  },
  {
   "cell_type": "code",
   "execution_count": null,
   "metadata": {},
   "outputs": [],
   "source": []
  }
 ],
 "metadata": {
  "kernelspec": {
   "display_name": "C",
   "language": "c",
   "name": "c"
  },
  "language_info": {
   "file_extension": ".c",
   "mimetype": "text/plain",
   "name": "c"
  }
 },
 "nbformat": 4,
 "nbformat_minor": 4
}
