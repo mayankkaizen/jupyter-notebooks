{
 "cells": [
  {
   "cell_type": "markdown",
   "metadata": {},
   "source": [
    "Download apache. Extract it and copy it in c:\\ thereby creating a folder. c:\\apache24. Go to c:\\apache24\\conf folder and select httpd.conf file. Open it in notepad make following changes -\n",
    "\n",
    " -  Options Indexes FollowSymLinks ExecCGI\n",
    " - AddHnadler cgi-script .cgi.py\n",
    " - NameServer - localhost\n",
    "\n",
    "Now create a `test.py` with following statement - \n",
    "```\n",
    "print('Script working')\n",
    "```\n",
    "Put this file in `c:\\apache24\\htdocs` folder. Open command prompt as administrator. Run following command -\n",
    "\n",
    "    httpd -k start\n",
    "\n",
    "Now open http:\\\\localhost in browser. You should see 'It works' message. Now open http:\\\\localhost\\test.py . This will execute the 'test.py' in browser. \n",
    "\n",
    "When tried again, it is not executing script, rather it is showing entire content of script.\n",
    "\n",
    "----\n",
    "running Flask app on Apache -\n",
    " - let your Flask application be flask1.py\n",
    " - in the same directory as flask1.py, create a file named application.wsgi with following content - \n",
    "```\n",
    "import sys\n",
    "#Expand Python classes path with your app's path\n",
    "sys.path.insert(0, \"c:/miniconda3/mayankproj\")\n",
    "from flask1 import app as application\n",
    "```\n",
    "\n",
    " - pip install mod_wsgi in the same environment where Flask was installed and flask application was created. Note - pip install might fail and it may ask you to install Visual Studio C++ compiler and will give you a link to download from. Download it and restart the system. Then again pip install mod_wsgi \n",
    " - Now run mod_wsgi-express module-config on command line. It will output some content. Copy the output.\n",
    " - In apache 24, open httpd.conf file and paste the above output as it is in the end. Also add following in httpd.conf file -\n",
    "\n",
    "```\n",
    "<VirtualHost*>\n",
    "ServerName localhost\n",
    "WSGIScriptAlias /5000 C:/miniconda3/mayankproj/application.wsgi\n",
    "<Directory C:\\miniconda3\\mayankproj>\n",
    "Require all granted\n",
    "</Directory>\n",
    "</VirtualHost>\n",
    "```\n",
    " - That's it. Now run httpd -k run command, open your browser and go to localhost/5000 to see your flask application run\n",
    "\n"
   ]
  },
  {
   "cell_type": "markdown",
   "metadata": {},
   "source": [
    "---\n",
    "how to use cygwin\n",
    "\n",
    "```bash\n",
    "C:\\Users\\Mayank>cd c:\\cygwin\\bin\n",
    "c:\\cygwin\\bin>bash\n",
    "Mayank@Mayank-PC /usr/bin\n",
    "\n",
    "```\n",
    "\n",
    "----\n",
    "\n",
    "`shift+f10` for context menu\n",
    "`winkey+1`,`winkey+2`, first or second item in taskbar\n",
    "\n",
    "`cd ..\\`  -> cd into one directory above, `cd..\\..\\` for 2 directory above\n",
    "\n",
    "----------------------\n",
    "To open a command prompt in a given folder, go to that folder, press `SHIFT+RightClick` and then click on `Open command window here`\n",
    "\n",
    "-------------"
   ]
  },
  {
   "cell_type": "markdown",
   "metadata": {},
   "source": []
  },
  {
   "cell_type": "markdown",
   "metadata": {},
   "source": [
    "***\n",
    "I was trying to print a Unicode character in Python on command terminal. Instead of opening Python, I did something like this – \n",
    "```\n",
    "(webdev) c:\\miniconda3\\mayankproj>print('\\u25b2')\n",
    "Unable to initialize device PRN\n",
    "\n",
    "(webdev) c:\\miniconda3\\mayankproj>chcp 65001\n",
    "Active code page: 65001\n",
    "(webdev) c:\\miniconda3\\mayankproj>set PYTHONENCODING=utf-8\n",
    "(webdev) c:\\miniconda3\\mayankproj>print('\\u25b2')\n",
    "Unable to initialize device PRN\n",
    "(webdev) c:\\miniconda3\\mayankproj>python\n",
    "Python 3.6.3 |Anaconda, Inc.| (default, Oct 27 2017, 13:35:14) [MSC v.1900 32 bit (Intel)] on win32\n",
    "Type \"help\", \"copyright\", \"credits\" or \"license\" for more information.\n",
    ">>> print('\\ufffd')\n",
    "Traceback (most recent call last):\n",
    "  File \"<stdin>\", line 1, in <module>\n",
    "PermissionError: [WinError 31] A device attached to the system is not functioning\n",
    "\n",
    "(webdev) c:\\miniconda3\\mayankproj>chcp\n",
    "Active code page: 65001\n",
    "```\n",
    "After this I closed the command window and reopened it. \n",
    "```\n",
    "(webdev) c:\\miniconda3\\mayankproj>chcp\n",
    "Active code page: 437\n",
    "```\n",
    "After this I issued ‘idle’ command to open Python IDLE and tried to print Unicode symbol there and it worked there.\n",
    " \n"
   ]
  },
  {
   "cell_type": "markdown",
   "metadata": {},
   "source": [
    "***\n",
    "If you have one bit, you can specify one of two possibilities, usually written 0 and 1. If you have two bits, there are 4 possible combinations, 00, 01, 10, and 11. In general, if you have b bits, you can indicate one of 2^b values. A byte is 8 bits, so it can hold one of 256 values. Going in the other direction, suppose you want to store a letter of the alphabet. There are 26 letters, so how many bits do you need? With 4 bits, you can specify one of 16 values, so that’s not enough. With 5 bits, you can specify up to 32 values, so that’s enough for all the letters, with a few values left over.\n",
    "In general, if you want to specify one of N values, you should choose the smallest value of b so that $2b>= N$. Taking the log base 2 of both sides yields\n",
    "$b>=log2N$.\n",
    "\n",
    "\n",
    "***\n",
    "compiled languages are usually static while interpreted languages are usually dynamic. In general, static refers to things that happen at compile time, while 'dynamic' refers to things that happen at runtime.\n",
    "Also, in dynamic languages, variables are stored in memory while program is running. In compiled languages, variable names exist at compile time but not at run time. The compiler chooses a location for each variable and records these locations as part of the compiled program.1 The location of a variable is called its “address”. At run time, the value of each variable is stored at its address, but the names of the variables are not stored at all."
   ]
  },
  {
   "cell_type": "markdown",
   "metadata": {
    "collapsed": true
   },
   "source": [
    "### Git"
   ]
  },
  {
   "cell_type": "code",
   "execution_count": null,
   "metadata": {
    "collapsed": true
   },
   "outputs": [],
   "source": []
  }
 ],
 "metadata": {
  "kernelspec": {
   "display_name": "Python 3",
   "language": "python",
   "name": "python3"
  },
  "language_info": {
   "codemirror_mode": {
    "name": "ipython",
    "version": 3
   },
   "file_extension": ".py",
   "mimetype": "text/x-python",
   "name": "python",
   "nbconvert_exporter": "python",
   "pygments_lexer": "ipython3",
   "version": "3.7.6"
  }
 },
 "nbformat": 4,
 "nbformat_minor": 2
}
