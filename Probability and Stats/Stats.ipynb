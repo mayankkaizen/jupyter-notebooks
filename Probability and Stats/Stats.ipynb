{
 "cells": [
  {
   "cell_type": "markdown",
   "metadata": {},
   "source": [
    "#### Reference materials\n",
    "\n",
    "1. **Introduction to Statistics** -David M Lane\n",
    "2. **OpenIntro Statistics** - David M Diez"
   ]
  },
  {
   "cell_type": "code",
   "execution_count": 1,
   "metadata": {},
   "outputs": [],
   "source": [
    "#some generic imports\n",
    "\n",
    "%matplotlib inline \n",
    "import matplotlib.pyplot as plt\n",
    "import seaborn as sns\n",
    "sns.set()\n",
    "import numpy as np\n",
    "import pandas as pd\n",
    "from scipy import stats\n",
    "from scipy import special"
   ]
  },
  {
   "cell_type": "markdown",
   "metadata": {},
   "source": [
    "### Population and Samples\n",
    "\n",
    "Self evident. \n",
    "In statistics, we often rely on a sample --- that is, a small subset of a larger set of data --- to draw inferences about the larger set. The larger set is known as the population from which the sample is drawn."
   ]
  },
  {
   "cell_type": "markdown",
   "metadata": {},
   "source": [
    " - **Mean** - Average value.\n",
    " \n",
    "$$\\color{blue}{Mean =  \\frac{\\Sigma^{n}(x)}{n}}$$\n",
    "\n",
    "\n",
    " - **Median** - Middle value\n",
    " \n",
    "If count is odd, the median is the value at (n+1)/2,\n",
    "else it is the average of n/2 and (n+1)/2\n",
    "\n",
    " - **Mode** - Most Frequent value \n",
    " \n",
    " \n",
    " - **Variance** - Mean of squared distance of sample to its mean\n",
    " \n",
    " $$\\color{blue}{variance = \\frac{\\Sigma({x - {x_m}})^2}{n-1}}$$\n",
    " \n",
    " Note that in case of population (as against to sample), the formula for variance will be slightly different. Instead of denominator $n-1$, we have $n$ as denominator in case of variance of population. \n",
    " \n",
    " \n",
    " - **Standard Deviation** - Square root of variance\n",
    "\n",
    "$$\\color{blue}{\\sigma = \\sqrt{variance}}$$\n",
    " \n",
    " - **Standard Error (of Mean)** - For sample standard deviation `s` and number of samples `n`, \n",
    " \n",
    " $$\\color{blue}{Standard\\;Error =  \\frac{s}{\\sqrt{n}}}$$\n",
    " \n",
    " - **Covariance**\n",
    " \n",
    " $$\\color{blue}{\\frac{\\sum_{i=1}^n(x_i-\\bar{x})(y_i-\\bar{y})}{n-1}}$$ \n",
    " \n",
    " - **Correlation**\n",
    "  \n",
    "  $$\\color{blue}{\\frac{1}{n-1}\\sum_{i=1}^n(\\frac{x_i-\\bar{x}}{s_x})( \\frac{y_i-\\bar{y}}{s_y})}$$"
   ]
  },
  {
   "cell_type": "markdown",
   "metadata": {},
   "source": [
    "#### Covariance\n",
    "\n",
    "\n",
    "Whereas variance\n",
    "measures how a single variable deviates from its mean, covariance measures how two\n",
    "variables vary in tandem from their means"
   ]
  },
  {
   "cell_type": "code",
   "execution_count": 95,
   "metadata": {},
   "outputs": [
    {
     "data": {
      "text/html": [
       "<div>\n",
       "<style scoped>\n",
       "    .dataframe tbody tr th:only-of-type {\n",
       "        vertical-align: middle;\n",
       "    }\n",
       "\n",
       "    .dataframe tbody tr th {\n",
       "        vertical-align: top;\n",
       "    }\n",
       "\n",
       "    .dataframe thead th {\n",
       "        text-align: right;\n",
       "    }\n",
       "</style>\n",
       "<table border=\"1\" class=\"dataframe\">\n",
       "  <thead>\n",
       "    <tr style=\"text-align: right;\">\n",
       "      <th></th>\n",
       "      <th>dogs</th>\n",
       "      <th>cats</th>\n",
       "    </tr>\n",
       "  </thead>\n",
       "  <tbody>\n",
       "    <tr>\n",
       "      <th>0</th>\n",
       "      <td>1</td>\n",
       "      <td>1</td>\n",
       "    </tr>\n",
       "    <tr>\n",
       "      <th>1</th>\n",
       "      <td>2</td>\n",
       "      <td>3</td>\n",
       "    </tr>\n",
       "    <tr>\n",
       "      <th>2</th>\n",
       "      <td>2</td>\n",
       "      <td>3</td>\n",
       "    </tr>\n",
       "    <tr>\n",
       "      <th>3</th>\n",
       "      <td>1</td>\n",
       "      <td>2</td>\n",
       "    </tr>\n",
       "  </tbody>\n",
       "</table>\n",
       "</div>"
      ],
      "text/plain": [
       "   dogs  cats\n",
       "0     1     1\n",
       "1     2     3\n",
       "2     2     3\n",
       "3     1     2"
      ]
     },
     "execution_count": 95,
     "metadata": {},
     "output_type": "execute_result"
    }
   ],
   "source": [
    "import pandas as pd\n",
    "df = pd.DataFrame([(1, 1), (2, 3), (2,3), (1, 2)], columns=['dogs', 'cats'])\n",
    "df"
   ]
  },
  {
   "cell_type": "code",
   "execution_count": 96,
   "metadata": {},
   "outputs": [
    {
     "data": {
      "text/html": [
       "<div>\n",
       "<style scoped>\n",
       "    .dataframe tbody tr th:only-of-type {\n",
       "        vertical-align: middle;\n",
       "    }\n",
       "\n",
       "    .dataframe tbody tr th {\n",
       "        vertical-align: top;\n",
       "    }\n",
       "\n",
       "    .dataframe thead th {\n",
       "        text-align: right;\n",
       "    }\n",
       "</style>\n",
       "<table border=\"1\" class=\"dataframe\">\n",
       "  <thead>\n",
       "    <tr style=\"text-align: right;\">\n",
       "      <th></th>\n",
       "      <th>dogs</th>\n",
       "      <th>cats</th>\n",
       "    </tr>\n",
       "  </thead>\n",
       "  <tbody>\n",
       "    <tr>\n",
       "      <th>dogs</th>\n",
       "      <td>0.333333</td>\n",
       "      <td>0.500000</td>\n",
       "    </tr>\n",
       "    <tr>\n",
       "      <th>cats</th>\n",
       "      <td>0.500000</td>\n",
       "      <td>0.916667</td>\n",
       "    </tr>\n",
       "  </tbody>\n",
       "</table>\n",
       "</div>"
      ],
      "text/plain": [
       "          dogs      cats\n",
       "dogs  0.333333  0.500000\n",
       "cats  0.500000  0.916667"
      ]
     },
     "execution_count": 96,
     "metadata": {},
     "output_type": "execute_result"
    }
   ],
   "source": [
    "df.cov()"
   ]
  },
  {
   "cell_type": "markdown",
   "metadata": {},
   "source": [
    "The values in main diagonal line is variance for respective variable. That is the element (1,1) is variance for 'dog' variable. Similarily, element (2,2) is variance for 'cat'.\n",
    "\n",
    "The other elements, - (1,2) and (2,1) -  are covariance for variables 'dogs' and 'cats').\n",
    "\n",
    "\n"
   ]
  },
  {
   "cell_type": "code",
   "execution_count": 98,
   "metadata": {},
   "outputs": [
    {
     "data": {
      "text/plain": [
       "0.3333333333333333"
      ]
     },
     "execution_count": 98,
     "metadata": {},
     "output_type": "execute_result"
    }
   ],
   "source": [
    "(df['dogs']).var() #(1,1) element"
   ]
  },
  {
   "cell_type": "code",
   "execution_count": 97,
   "metadata": {},
   "outputs": [
    {
     "data": {
      "text/plain": [
       "0.9166666666666666"
      ]
     },
     "execution_count": 97,
     "metadata": {},
     "output_type": "execute_result"
    }
   ],
   "source": [
    "(df['cats']).var() #(2,2) element"
   ]
  },
  {
   "cell_type": "code",
   "execution_count": 99,
   "metadata": {},
   "outputs": [
    {
     "data": {
      "text/plain": [
       "0.5"
      ]
     },
     "execution_count": 99,
     "metadata": {},
     "output_type": "execute_result"
    }
   ],
   "source": [
    "a = (df['dogs'] - df['dogs'].mean())*(df['cats'] - df['cats'].mean())\n",
    "cov = sum(a)/3 #3 = 4 -1 = n -1\n",
    "cov   # (1,2) and (2,1) element"
   ]
  },
  {
   "cell_type": "markdown",
   "metadata": {},
   "source": [
    "#### Correlation"
   ]
  },
  {
   "cell_type": "code",
   "execution_count": 100,
   "metadata": {},
   "outputs": [
    {
     "data": {
      "text/html": [
       "<div>\n",
       "<style scoped>\n",
       "    .dataframe tbody tr th:only-of-type {\n",
       "        vertical-align: middle;\n",
       "    }\n",
       "\n",
       "    .dataframe tbody tr th {\n",
       "        vertical-align: top;\n",
       "    }\n",
       "\n",
       "    .dataframe thead th {\n",
       "        text-align: right;\n",
       "    }\n",
       "</style>\n",
       "<table border=\"1\" class=\"dataframe\">\n",
       "  <thead>\n",
       "    <tr style=\"text-align: right;\">\n",
       "      <th></th>\n",
       "      <th>dogs</th>\n",
       "      <th>cats</th>\n",
       "    </tr>\n",
       "  </thead>\n",
       "  <tbody>\n",
       "    <tr>\n",
       "      <th>dogs</th>\n",
       "      <td>1.000000</td>\n",
       "      <td>0.904534</td>\n",
       "    </tr>\n",
       "    <tr>\n",
       "      <th>cats</th>\n",
       "      <td>0.904534</td>\n",
       "      <td>1.000000</td>\n",
       "    </tr>\n",
       "  </tbody>\n",
       "</table>\n",
       "</div>"
      ],
      "text/plain": [
       "          dogs      cats\n",
       "dogs  1.000000  0.904534\n",
       "cats  0.904534  1.000000"
      ]
     },
     "execution_count": 100,
     "metadata": {},
     "output_type": "execute_result"
    }
   ],
   "source": [
    "df.corr()"
   ]
  },
  {
   "cell_type": "code",
   "execution_count": 101,
   "metadata": {},
   "outputs": [
    {
     "data": {
      "text/plain": [
       "array([[1, 1],\n",
       "       [2, 3],\n",
       "       [2, 3],\n",
       "       [1, 2]], dtype=int64)"
      ]
     },
     "execution_count": 101,
     "metadata": {},
     "output_type": "execute_result"
    }
   ],
   "source": [
    "df.values"
   ]
  },
  {
   "cell_type": "markdown",
   "metadata": {},
   "source": [
    "##### Be cautious when Using `np.cov`\n",
    "\n",
    "In Pandas, variables are represented by columns while observations by rows. In Numpy, it is other way round (with parameter `rowvar` set to default `True`)."
   ]
  },
  {
   "cell_type": "code",
   "execution_count": 102,
   "metadata": {},
   "outputs": [
    {
     "data": {
      "text/plain": [
       "array([[0. , 0. , 0. , 0. ],\n",
       "       [0. , 0.5, 0.5, 0.5],\n",
       "       [0. , 0.5, 0.5, 0.5],\n",
       "       [0. , 0.5, 0.5, 0.5]])"
      ]
     },
     "execution_count": 102,
     "metadata": {},
     "output_type": "execute_result"
    }
   ],
   "source": [
    "np.cov(df) #different from what was calculated in Pandas"
   ]
  },
  {
   "cell_type": "code",
   "execution_count": 103,
   "metadata": {},
   "outputs": [
    {
     "data": {
      "text/plain": [
       "array([[0.33333333, 0.5       ],\n",
       "       [0.5       , 0.91666667]])"
      ]
     },
     "execution_count": 103,
     "metadata": {},
     "output_type": "execute_result"
    }
   ],
   "source": [
    "np.cov(df, rowvar = False) #same as Pandas"
   ]
  },
  {
   "cell_type": "code",
   "execution_count": 104,
   "metadata": {},
   "outputs": [
    {
     "data": {
      "text/plain": [
       "array([[1, 2, 2, 1],\n",
       "       [1, 3, 3, 2]])"
      ]
     },
     "execution_count": 104,
     "metadata": {},
     "output_type": "execute_result"
    }
   ],
   "source": [
    "x = [1,2,2,1]\n",
    "y = [1,3,3,2]\n",
    "X = np.vstack((x,y))\n",
    "X"
   ]
  },
  {
   "cell_type": "code",
   "execution_count": 105,
   "metadata": {},
   "outputs": [
    {
     "data": {
      "text/html": [
       "<div>\n",
       "<style scoped>\n",
       "    .dataframe tbody tr th:only-of-type {\n",
       "        vertical-align: middle;\n",
       "    }\n",
       "\n",
       "    .dataframe tbody tr th {\n",
       "        vertical-align: top;\n",
       "    }\n",
       "\n",
       "    .dataframe thead th {\n",
       "        text-align: right;\n",
       "    }\n",
       "</style>\n",
       "<table border=\"1\" class=\"dataframe\">\n",
       "  <thead>\n",
       "    <tr style=\"text-align: right;\">\n",
       "      <th></th>\n",
       "      <th>0</th>\n",
       "      <th>1</th>\n",
       "      <th>2</th>\n",
       "      <th>3</th>\n",
       "    </tr>\n",
       "  </thead>\n",
       "  <tbody>\n",
       "    <tr>\n",
       "      <th>0</th>\n",
       "      <td>1</td>\n",
       "      <td>2</td>\n",
       "      <td>2</td>\n",
       "      <td>1</td>\n",
       "    </tr>\n",
       "    <tr>\n",
       "      <th>1</th>\n",
       "      <td>1</td>\n",
       "      <td>3</td>\n",
       "      <td>3</td>\n",
       "      <td>2</td>\n",
       "    </tr>\n",
       "  </tbody>\n",
       "</table>\n",
       "</div>"
      ],
      "text/plain": [
       "   0  1  2  3\n",
       "0  1  2  2  1\n",
       "1  1  3  3  2"
      ]
     },
     "execution_count": 105,
     "metadata": {},
     "output_type": "execute_result"
    }
   ],
   "source": [
    "df1 = pd.DataFrame(X)\n",
    "df1"
   ]
  },
  {
   "cell_type": "code",
   "execution_count": 106,
   "metadata": {},
   "outputs": [
    {
     "data": {
      "text/html": [
       "<div>\n",
       "<style scoped>\n",
       "    .dataframe tbody tr th:only-of-type {\n",
       "        vertical-align: middle;\n",
       "    }\n",
       "\n",
       "    .dataframe tbody tr th {\n",
       "        vertical-align: top;\n",
       "    }\n",
       "\n",
       "    .dataframe thead th {\n",
       "        text-align: right;\n",
       "    }\n",
       "</style>\n",
       "<table border=\"1\" class=\"dataframe\">\n",
       "  <thead>\n",
       "    <tr style=\"text-align: right;\">\n",
       "      <th></th>\n",
       "      <th>0</th>\n",
       "      <th>1</th>\n",
       "    </tr>\n",
       "  </thead>\n",
       "  <tbody>\n",
       "    <tr>\n",
       "      <th>0</th>\n",
       "      <td>0.333333</td>\n",
       "      <td>0.500000</td>\n",
       "    </tr>\n",
       "    <tr>\n",
       "      <th>1</th>\n",
       "      <td>0.500000</td>\n",
       "      <td>0.916667</td>\n",
       "    </tr>\n",
       "  </tbody>\n",
       "</table>\n",
       "</div>"
      ],
      "text/plain": [
       "          0         1\n",
       "0  0.333333  0.500000\n",
       "1  0.500000  0.916667"
      ]
     },
     "execution_count": 106,
     "metadata": {},
     "output_type": "execute_result"
    }
   ],
   "source": [
    "df1.T.cov()"
   ]
  },
  {
   "cell_type": "code",
   "execution_count": 107,
   "metadata": {},
   "outputs": [
    {
     "data": {
      "text/plain": [
       "array([[0.33333333, 0.5       ],\n",
       "       [0.5       , 0.91666667]])"
      ]
     },
     "execution_count": 107,
     "metadata": {},
     "output_type": "execute_result"
    }
   ],
   "source": [
    "np.cov(X) #now this is same as was calculated in Pandas."
   ]
  },
  {
   "cell_type": "markdown",
   "metadata": {},
   "source": [
    "### Percentiles\n",
    "\n",
    "There is no universally accepted definition of a percentile. Using the 65th percentile as an example, the 65th percentile can be defined as the lowest score that is ***greater than*** 65% of the scores. This is the way we defined it above and we will call this “Definition 1.” The 65th percentile can also be defined as the smallest score that is ***greater than or equal*** to 65% of the scores. This we will call “Definition 2.” Unfortunately, these two definitions can lead to dramatically different results, especially when there is relatively little data. Moreover, neither of these definitions is explicit about how to handle rounding. We'll stick to following method to compute the percentile. \n",
    "\n",
    "Let's consider the following example. Consider the 25th percentile for the 8 numbers in Table 1. Notice the numbers are given ranks ranging from 1 for the lowest number to 8 for the highest number.\n",
    "\n",
    "\n",
    "Number|Rank\n",
    "------|----\n",
    "3|1\n",
    "5|2\n",
    "7|3\n",
    "8|4\n",
    "9|5\n",
    "11|6\n",
    "13|7\n",
    "15|8\n",
    "\n",
    "The first step is to compute the rank (R) of the 25th percentile. This is done using the following formula:-\n",
    "\n",
    "$$R = P/100*(N+1)$$\n",
    "\n",
    "where **P** is the desired percentile (25 in this case) and **N** is the number of numbers (8 in this case). Therefore,\n",
    "\n",
    "$$R = 25/100*(9) = 2.25$$\n",
    "\n",
    "If R is an integer, the Pth percentile is be the number with rank R. When R is not an integer, we compute the Pth percentile by interpolation as follows:\n",
    "\n",
    "1. Define IR as the integer portion of R (the number to the left of the decimal point). For this example, IR = 2.\n",
    "2. Define FR as the fractional portion of R. For this example, FR = 0.25.\n",
    "3. Find the scores with Rank IR and with Rank IR + 1. For this example, this means the score with Rank 2 and the score with Rank 3. The scores are 5 and 7.\n",
    "4. Interpolate by multiplying the difference between the scores by FR and add the result to the lower score. For these data, this is (0.25)(7 - 5) + 5 = 5.5.\n",
    "\n",
    "Therefore, the 25th percentile is 5.5. If we had used the first definition (the smallest score greater than 25% of the scores), the 25th percentile would have been 7. If we had used the second definition (the smallest score greater than or equal to 25% of the scores), the 25th percentile would have been 5."
   ]
  },
  {
   "cell_type": "markdown",
   "metadata": {},
   "source": [
    "**Note** - Numpy uses following formula to calculate the rank. [see this](https://en.wikipedia.org/wiki/Percentile#Linear_interpolation_between_closest_ranks) -\n",
    "\n",
    "$$R = P/100*(N-1)+1$$"
   ]
  },
  {
   "cell_type": "code",
   "execution_count": 20,
   "metadata": {
    "scrolled": true
   },
   "outputs": [
    {
     "name": "stdout",
     "output_type": "stream",
     "text": [
      "linear 6.5\n",
      "lower 5\n",
      "higher 7\n",
      "midpoint 6.0\n",
      "nearest 7\n"
     ]
    }
   ],
   "source": [
    "x = [3,5,7,8,9,11,13,15]\n",
    "\n",
    "for i in ['linear', 'lower', 'higher', 'midpoint', 'nearest']: \n",
    "    a = np.percentile(x, 25, interpolation =  i)\n",
    "    print(i, a)"
   ]
  },
  {
   "cell_type": "markdown",
   "metadata": {},
   "source": [
    "### Variance Sum Law I\n",
    "\n",
    "there are many occasions in which it is important to know the variance of the sum of two variables. Consider the following situation: (a) you have two populations, (b) you sample one number from each population,\n",
    "and (c) you add the two numbers together. The question is, “What is the variance of this sum?” For example, suppose the two populations are the populations of 8- year old males and 8-year-old females in Houston, Texas, and that the variable of interest is memory span. You repeat the following steps thousands of times: (1)\n",
    "law I sample one male and one female, (2) measure the memory span of each, and (3) sum the two memory spans. After you have done this thousands of times, you compute the variance of the sum. It turns out that the variance of this sum can be computed according to the following formula:\n",
    "\n",
    "$${\\sigma}^2_{sum} ={\\sigma}^2_{M}+{\\sigma}^2_{F}  $$\n",
    "\n",
    "\n",
    "where the first term is the variance of the sum, the second term is the variance of the males and the third term is the variance of the females. \n",
    "\n",
    "The formula for the variance of the difference between the two variables (memory span in this example) is shown below. Notice that the expression for the difference is the same as the formula for the sum.\n",
    "\n",
    "$${\\sigma}^2_{difference} ={\\sigma}^2_{M}+{\\sigma}^2_{F}  $$\n",
    "\n",
    "More generally, the variance sum law can be written as follows:\n",
    "\n",
    "$${\\sigma}^2_{X\\pm{Y}} ={\\sigma}^2_{X}+{\\sigma}^2_{Y}  $$\n",
    "\n",
    "Important. These formulas for the sum and difference of variables given above only apply when the variables are independent. \n"
   ]
  },
  {
   "cell_type": "code",
   "execution_count": 30,
   "metadata": {},
   "outputs": [
    {
     "data": {
      "text/plain": [
       "(24.63674464778196, 24.431583355572656)"
      ]
     },
     "execution_count": 30,
     "metadata": {},
     "output_type": "execute_result"
    }
   ],
   "source": [
    "pop_1 = (5*np.random.randn(1000))\n",
    "pop_2 = (5*np.random.randn(1000))\n",
    "\n",
    "np.var(pop_1), np.var(pop_2),"
   ]
  },
  {
   "cell_type": "code",
   "execution_count": 31,
   "metadata": {},
   "outputs": [
    {
     "data": {
      "text/plain": [
       "(49.911579809635704, 49.068328003354615)"
      ]
     },
     "execution_count": 31,
     "metadata": {},
     "output_type": "execute_result"
    }
   ],
   "source": [
    "samp = pop_1[:100]+pop_2[:100]\n",
    "np.var(samp),np.var(pop_1)+np.var(pop_2)"
   ]
  },
  {
   "cell_type": "markdown",
   "metadata": {},
   "source": [
    "### Variance Sum Law II\n",
    "\n",
    "Recall that when the variables X and Y are independent, the variance of the sum or\n",
    "difference between X and Y can be written as follows:\n",
    "\n",
    "$${\\sigma}^2_{X\\pm{Y}} ={\\sigma}^2_{X}+{\\sigma}^2_{Y}  $$\n",
    "\n",
    "When X and Y are correlated, following formula should be used -\n",
    "\n",
    "$${\\sigma}^2_{X\\pm{Y}} ={\\sigma}^2_{X}+{\\sigma}^2_{Y} \\pm2\\rho{\\sigma_X}{\\sigma_Y} $$\n",
    "\n",
    "Where $\\rho$ is correlation between X and Y in the population. \n",
    "\n",
    "For example, if the variance of the verbal SAT were 10,000, the variance of the quantitative SAT were 11,000 and the correlation between these two tests were 0.50 then the variance of total (verbal + quantitative) would be - "
   ]
  },
  {
   "cell_type": "markdown",
   "metadata": {},
   "source": [
    "### Bivariate data and Pearson Correlation"
   ]
  },
  {
   "cell_type": "markdown",
   "metadata": {},
   "source": [
    "The Pearson product-moment correlation coefficient is a measure of the strength of the linear relationship between two variables. It is referred to as Pearson's correlation or simply as the correlation coefficient.\n",
    "\n",
    "Pearson's $r$ can range from -1 to 1. An $r$ of -1 indicates a perfect negative linear relationship between variables, an $r$ of 0 indicates no linear relationship between variables, and an $r$ of 1 indicates a perfect positive linear relationship between variables. "
   ]
  },
  {
   "cell_type": "markdown",
   "metadata": {},
   "source": [
    "#### Calculating Pearson $r$\n",
    "\n",
    "Let's say we have following paired data - \n",
    "\n",
    "|X|Y|\n",
    "|--|---|\n",
    "|1|4|\n",
    "|3|6|\n",
    "|5|10|\n",
    "|5|12|\n",
    "|6|13|\n"
   ]
  },
  {
   "cell_type": "code",
   "execution_count": 2,
   "metadata": {},
   "outputs": [
    {
     "data": {
      "text/plain": [
       "<matplotlib.collections.PathCollection at 0x588c5944c0>"
      ]
     },
     "execution_count": 2,
     "metadata": {},
     "output_type": "execute_result"
    },
    {
     "data": {
      "image/png": "[encoded data removed]",
      "text/plain": [
       "<Figure size 432x288 with 1 Axes>"
      ]
     },
     "metadata": {
      "needs_background": "light"
     },
     "output_type": "display_data"
    }
   ],
   "source": [
    "import matplotlib.pyplot as plt\n",
    "X = [1,3,5,5,6]\n",
    "Y = [4,6,10,12,13]\n",
    "\n",
    "plt.scatter(Y,X)"
   ]
  },
  {
   "cell_type": "code",
   "execution_count": 4,
   "metadata": {},
   "outputs": [
    {
     "data": {
      "text/plain": [
       "(4.0, 9.0)"
      ]
     },
     "execution_count": 4,
     "metadata": {},
     "output_type": "execute_result"
    }
   ],
   "source": [
    "import numpy as np\n",
    "\n",
    "x_m = np.mean(X) \n",
    "y_m = np.mean(Y)\n",
    "x_m, y_m\n"
   ]
  },
  {
   "cell_type": "markdown",
   "metadata": {},
   "source": [
    "Based on above data we prepare following table - \n",
    "\n",
    "||$X$|$Y$|$x$|$y$|$xy$|$x^2$|$y^2$|\n",
    "|-|-|-|-|-|-|-|-|\n",
    "||1|4|-3|-5|15|9|25|\n",
    "||3|6|-1|-3|3|1|9|\n",
    "||5|10|1|1|1|1|1|\n",
    "||5|12|1|3|3|1|9|\n",
    "||6|13|2|4|8|4|16|\n",
    "|Total|20|45|0|0|30|16|60|\n",
    "|Mean|4|9|0|0|6|||\n",
    "\n",
    "Here values of $x$ are calculated by subtracting $X$ from mean. Ditto for $y$. Now we use the following formula - \n",
    "\n",
    "$$r =  \\frac{\\Sigma{xy}}{\\sqrt{\\Sigma{x^2}\\Sigma{y^2}}}$$\n",
    "\n"
   ]
  },
  {
   "cell_type": "code",
   "execution_count": 5,
   "metadata": {},
   "outputs": [
    {
     "data": {
      "text/plain": [
       "0.9682458365518541"
      ]
     },
     "execution_count": 5,
     "metadata": {},
     "output_type": "execute_result"
    }
   ],
   "source": [
    "r  = 30/np.sqrt(16*60)\n",
    "r"
   ]
  },
  {
   "cell_type": "code",
   "execution_count": 6,
   "metadata": {},
   "outputs": [
    {
     "data": {
      "text/plain": [
       "31488.088481701518"
      ]
     },
     "execution_count": 6,
     "metadata": {},
     "output_type": "execute_result"
    }
   ],
   "source": [
    "10000+11000+2*.5*np.sqrt(10000)*np.sqrt(11000)"
   ]
  },
  {
   "cell_type": "markdown",
   "metadata": {},
   "source": [
    "The variance of difference is -"
   ]
  },
  {
   "cell_type": "code",
   "execution_count": 7,
   "metadata": {},
   "outputs": [
    {
     "data": {
      "text/plain": [
       "10511.911518298484"
      ]
     },
     "execution_count": 7,
     "metadata": {},
     "output_type": "execute_result"
    }
   ],
   "source": [
    "10000+11000-2*.5*np.sqrt(10000)*np.sqrt(11000)"
   ]
  },
  {
   "cell_type": "markdown",
   "metadata": {},
   "source": [
    "In case we have variances and correlation for samples, we use sample variances and correlation."
   ]
  },
  {
   "cell_type": "markdown",
   "metadata": {},
   "source": [
    "### Histogram and KDE"
   ]
  },
  {
   "cell_type": "code",
   "execution_count": 38,
   "metadata": {},
   "outputs": [
    {
     "data": {
      "image/png": "[encoded data removed]",
      "text/plain": [
       "<Figure size 576x396 with 1 Axes>"
      ]
     },
     "metadata": {},
     "output_type": "display_data"
    }
   ],
   "source": [
    "x = np.random.randn(10000)\n",
    "plt.plot(x,'.');"
   ]
  },
  {
   "cell_type": "code",
   "execution_count": 109,
   "metadata": {},
   "outputs": [
    {
     "data": {
      "image/png": "[encoded data removed]",
      "text/plain": [
       "<Figure size 576x396 with 1 Axes>"
      ]
     },
     "metadata": {},
     "output_type": "display_data"
    }
   ],
   "source": [
    "plt.hist(x, bins = 25);"
   ]
  },
  {
   "cell_type": "code",
   "execution_count": 110,
   "metadata": {},
   "outputs": [
    {
     "data": {
      "image/png": "[encoded data removed]",
      "text/plain": [
       "<Figure size 576x396 with 1 Axes>"
      ]
     },
     "metadata": {},
     "output_type": "display_data"
    }
   ],
   "source": [
    "sns.kdeplot(x, shade = True);"
   ]
  },
  {
   "cell_type": "code",
   "execution_count": 111,
   "metadata": {
    "scrolled": true
   },
   "outputs": [
    {
     "data": {
      "image/png": "[encoded data removed]",
      "text/plain": [
       "<Figure size 576x396 with 1 Axes>"
      ]
     },
     "metadata": {},
     "output_type": "display_data"
    }
   ],
   "source": [
    "sns.rugplot(x);"
   ]
  },
  {
   "cell_type": "markdown",
   "metadata": {},
   "source": [
    "\n",
    "#### Box Plot\n",
    "\n"
   ]
  },
  {
   "cell_type": "code",
   "execution_count": 22,
   "metadata": {},
   "outputs": [
    {
     "data": {
      "text/plain": [
       "<matplotlib.legend.Legend at 0x7f38ac64c0>"
      ]
     },
     "execution_count": 22,
     "metadata": {},
     "output_type": "execute_result"
    },
    {
     "data": {
      "image/png": "[encoded data removed]",
      "text/plain": [
       "<Figure size 432x288 with 1 Axes>"
      ]
     },
     "metadata": {},
     "output_type": "display_data"
    }
   ],
   "source": [
    "x = [3,5,7,8,9,11,13,15]\n",
    "\n",
    "plt.boxplot(x);\n",
    "\n",
    "percentile= [(0, 'min','r'),(25, '1 quartile','green'),(50, 'median','blue'),(75,'3 quartile','yellow'),(100, 'max','cyan')]\n",
    "\n",
    "for p, label, color in percentile:\n",
    "    plt.hlines(np.percentile(x,p), 0,.9, colors = color, linestyles = '--', label = label)\n",
    "\n",
    "plt.legend()"
   ]
  },
  {
   "cell_type": "markdown",
   "metadata": {},
   "source": [
    "#### Outliers \n",
    "\n",
    "In above plot, we don't see any outlier as our dataset contains no outlier value. Let's change our dataset and plot it again -"
   ]
  },
  {
   "cell_type": "code",
   "execution_count": 25,
   "metadata": {},
   "outputs": [
    {
     "data": {
      "text/plain": [
       "<matplotlib.legend.Legend at 0x7f39c99cd0>"
      ]
     },
     "execution_count": 25,
     "metadata": {},
     "output_type": "execute_result"
    },
    {
     "data": {
      "image/png": "[encoded data removed]",
      "text/plain": [
       "<Figure size 432x288 with 1 Axes>"
      ]
     },
     "metadata": {},
     "output_type": "display_data"
    }
   ],
   "source": [
    "x = [3,5,7,8,9,11,13,35]\n",
    "\n",
    "plt.boxplot(x);\n",
    "\n",
    "percentile= [(0, 'min','r'),(25, '1 quartile','green'),(50, 'median','blue'),(75,'3 quartile','yellow'),(100, 'max','cyan')]\n",
    "\n",
    "for p, label, color in percentile:\n",
    "    plt.hlines(np.percentile(x,p), 0,.9, colors = color, linestyles = '--', label = label)\n",
    "\n",
    "plt.legend()"
   ]
  },
  {
   "cell_type": "markdown",
   "metadata": {},
   "source": [
    "Now compare the above plot with the earlier one. The small circle at the top of plot represents the outlier in our data. To decide on outliers, we calculate $Q3$ (75 quartile) and $Q1$ (25 quartile). These values are represented by upper and lower sides of box in boxplot. \n",
    "\n",
    "Now $Q3 + 1.5*(Q3-Q1)$ will represent the *maximum value* and $Q1 - 1.5(Q3-Q1)$ the *minimum value* which will not be considered outliers. Any value beyond this will be considered outlier.  "
   ]
  },
  {
   "cell_type": "markdown",
   "metadata": {},
   "source": [
    "#### Q -Q Plot\n",
    "\n",
    "Let us assume we have a spinner which gives a random number between 0 and 1. We spin it 5 times and we get following following values -"
   ]
  },
  {
   "cell_type": "code",
   "execution_count": 112,
   "metadata": {},
   "outputs": [],
   "source": [
    "l = [.41, .24, .59, .03, .67]"
   ]
  },
  {
   "cell_type": "code",
   "execution_count": 113,
   "metadata": {},
   "outputs": [
    {
     "data": {
      "text/plain": [
       "[0.03, 0.24, 0.41, 0.59, 0.67]"
      ]
     },
     "execution_count": 113,
     "metadata": {},
     "output_type": "execute_result"
    }
   ],
   "source": [
    "sorted(l)"
   ]
  },
  {
   "cell_type": "markdown",
   "metadata": {},
   "source": [
    "We expect a uniform distribution to model these data. If the sample data were “perfect,” then on average there would be an observation in the middle of each of the 5 intervals: 0 to .2, .2 to .4, .4 to .6, and so on. Table below shows the 5 data points (sorted in ascending order) and the theoretically expected value of each based on the assumption that the distribution is uniform (the middle of the interval).\n",
    "\n",
    "|Sample value |Rank|Middle of the i-th interval|\n",
    "|-------------|----|---------------------------|\n",
    "|.03|1|.1|\n",
    "|.24|2|.3|\n",
    "|.41|3|.5|\n",
    "|.59|4|.7|\n",
    "|.67|5|.9|"
   ]
  },
  {
   "cell_type": "code",
   "execution_count": 114,
   "metadata": {},
   "outputs": [],
   "source": [
    "exp = [.1,.3,.5,.7,.9]"
   ]
  },
  {
   "cell_type": "code",
   "execution_count": 115,
   "metadata": {},
   "outputs": [
    {
     "data": {
      "image/png": "[encoded data removed]",
      "text/plain": [
       "<Figure size 432x288 with 1 Axes>"
      ]
     },
     "metadata": {
      "needs_background": "light"
     },
     "output_type": "display_data"
    }
   ],
   "source": [
    "%matplotlib inline\n",
    "import matplotlib.pyplot as plt\n",
    "\n",
    "plt.scatter(exp,sorted(l))\n",
    "plt.plot(exp, exp, color = 'red')\n",
    "plt.title(\"q-q plot\")\n",
    "plt.xlabel('theoretical quantile')\n",
    "plt.ylabel(\"sample quantile\");"
   ]
  },
  {
   "cell_type": "markdown",
   "metadata": {},
   "source": [
    "Above plot shows that our data roughly follows a straight line which indicates samples are from a uniform distribution.\n",
    "\n",
    "Q-Q plot definition can be extended to any continuous density. Above we used q-q plot in the context of uniform distribution but it can also be used to test whether our data has come from a standard normal distribution. \n",
    "\n",
    "Consider following data points - \n"
   ]
  },
  {
   "cell_type": "code",
   "execution_count": 123,
   "metadata": {},
   "outputs": [
    {
     "data": {
      "image/png": "[encoded data removed]",
      "text/plain": [
       "<Figure size 432x288 with 1 Axes>"
      ]
     },
     "metadata": {
      "needs_background": "light"
     },
     "output_type": "display_data"
    }
   ],
   "source": [
    "from statsmodels.graphics.gofplots import qqplot\n",
    "qqplot(np.array(l), line = 'r');"
   ]
  },
  {
   "cell_type": "code",
   "execution_count": 12,
   "metadata": {},
   "outputs": [],
   "source": [
    "n = [-1.96, -.78, .31, 1.15, 1.31]"
   ]
  },
  {
   "cell_type": "markdown",
   "metadata": {},
   "source": [
    "\n",
    "Since the sample size is 5, we can think of dividing a standard normal distribution in 5 equal intervals: 0-20%, 20-40% and so on. As we did in the case of uniform distribution, we focus on middle of each interval (10%, 30%..). For each interval, we calculate the $z-value$ -"
   ]
  },
  {
   "cell_type": "code",
   "execution_count": 13,
   "metadata": {},
   "outputs": [],
   "source": [
    "import numpy as np\n",
    "from scipy.stats import norm\n",
    "inv =[.1,.3, .5, .7, .9]\n",
    "\n",
    "inv = np.round(norm.ppf(inv),2)"
   ]
  },
  {
   "cell_type": "code",
   "execution_count": 14,
   "metadata": {},
   "outputs": [
    {
     "data": {
      "text/plain": [
       "array([-1.28, -0.52,  0.  ,  0.52,  1.28])"
      ]
     },
     "execution_count": 14,
     "metadata": {},
     "output_type": "execute_result"
    }
   ],
   "source": [
    "inv"
   ]
  },
  {
   "cell_type": "markdown",
   "metadata": {},
   "source": [
    "The area between -$\\infty$ and -1.28 is .1. Similarily, the area between -$\\infty$ and -.52 is .3. "
   ]
  },
  {
   "cell_type": "code",
   "execution_count": 15,
   "metadata": {},
   "outputs": [
    {
     "data": {
      "text/plain": [
       "(-3.0, 3.0)"
      ]
     },
     "execution_count": 15,
     "metadata": {},
     "output_type": "execute_result"
    },
    {
     "data": {
      "image/png": "[encoded data removed]",
      "text/plain": [
       "<Figure size 432x288 with 1 Axes>"
      ]
     },
     "metadata": {
      "needs_background": "light"
     },
     "output_type": "display_data"
    }
   ],
   "source": [
    "plt.scatter(inv, n)\n",
    "plt.xlim(-3,3)"
   ]
  },
  {
   "cell_type": "markdown",
   "metadata": {},
   "source": [
    "Again, we can see that our plot roughly follows a straight line which means we can be fairly confident that our data came from a standard normal distribution. Note that, n = 5 is small sample size. The bigger the sample size, the closer will be our plot to a straight line. "
   ]
  },
  {
   "cell_type": "markdown",
   "metadata": {},
   "source": [
    "### Continuous probability distributions\n",
    "\n",
    "### Uniform Distribution\n",
    "\n",
    "<br>\n",
    "The simplest continuous probability distribution has a flat probability density function between two points $a$ and $b$, say, as illustrated below. It is called a uniform distribution between $a$ and $b$.\n",
    "\n",
    "In order for the area under the probability density function to be equal to 1, it must have a\n",
    "height of $1/(b − a)$, so that\n",
    "\n",
    "$$f(x) = \\frac{1}{b − a}$$\n",
    "\n",
    "<br>"
   ]
  },
  {
   "cell_type": "code",
   "execution_count": 44,
   "metadata": {},
   "outputs": [
    {
     "data": {
      "image/png": "[encoded data removed]",
      "text/plain": [
       "<Figure size 576x396 with 1 Axes>"
      ]
     },
     "metadata": {},
     "output_type": "display_data"
    }
   ],
   "source": [
    "x = np.random.rand(10000)\n",
    "plt.plot(x,'.')\n",
    "plt.ylim(0,1.5);"
   ]
  },
  {
   "cell_type": "markdown",
   "metadata": {},
   "source": [
    "It is easy to see that above plot is uniformally distributed. "
   ]
  },
  {
   "cell_type": "code",
   "execution_count": 45,
   "metadata": {},
   "outputs": [
    {
     "data": {
      "text/plain": [
       "<seaborn.axisgrid.FacetGrid object at 0x000000825BDB4490>"
      ]
     },
     "execution_count": 45,
     "metadata": {},
     "output_type": "execute_result"
    },
    {
     "data": {
      "image/png": "[encoded data removed]",
      "text/plain": [
       "<Figure size 360x360 with 1 Axes>"
      ]
     },
     "metadata": {},
     "output_type": "display_data"
    }
   ],
   "source": [
    "sns.displot(x, rug = True)"
   ]
  },
  {
   "cell_type": "markdown",
   "metadata": {},
   "source": [
    "### Normal Distribution\n",
    "\n",
    "\n",
    "\n",
    "We should keep the following ideas in mind about the curve that describes a continuous distribution (like the normal distribution). First, the area under the curve equals 1. Second, the probability of any exact value of `X` is 0. Finally, the area under the curve and bounded between two given points on the X-axis is the probability that a number chosen at random will fall between the two points.\n",
    "\n",
    "The probability density of normal distribution is - \n",
    "<div class=\"alert alert-block alert-warning\">\n",
    "$$p(x) = \\frac{1}{\\sigma\\sqrt{ 2 \\pi}}e^{-\\frac{1}{2} {(\\frac{x - \\mu }{\\sigma})}^2 }$$\n",
    "</div>\n",
    "\n",
    "#### The Z-Score\n",
    "\n",
    "The Z-score of an observation is the number of standard deviations it falls above or below the mean. We compute the Z-score for an observation $x$ that follows a\n",
    "distribution with mean $\\mu$ and standard deviation $\\sigma$ using\n",
    "$$z =  \\frac{x - \\mu}{\\sigma}$$\n",
    "\n",
    "#### Z-Score and Percentile for an Observation\n",
    "\n",
    "Given a standard normal distribution, what percentage of values of this distribution is below 1? In other words, calculate the percentile of 1."
   ]
  },
  {
   "cell_type": "code",
   "execution_count": 126,
   "metadata": {},
   "outputs": [
    {
     "data": {
      "text/plain": [
       "0.8413447460685429"
      ]
     },
     "execution_count": 126,
     "metadata": {},
     "output_type": "execute_result"
    }
   ],
   "source": [
    "from scipy.stats import norm\n",
    "norm.cdf(1, 0, 1)"
   ]
  },
  {
   "cell_type": "markdown",
   "metadata": {},
   "source": [
    "Though we can look up the percentile of `1` by calculating its `z-score` and then referring to normal probability table, the better way is to just calculate the `cdf` for sample `1`. This will directly give you the percentile without calculating `z-score` and referring to normal probability table."
   ]
  },
  {
   "cell_type": "code",
   "execution_count": 127,
   "metadata": {},
   "outputs": [
    {
     "data": {
      "text/plain": [
       "DescribeResult(nobs=25, minmax=(22.598579673129002, 62.99229393183553), mean=49.37688182298493, variance=90.68818640086083, skewness=-0.6967331954859833, kurtosis=0.6408293953970174)"
      ]
     },
     "execution_count": 127,
     "metadata": {},
     "output_type": "execute_result"
    }
   ],
   "source": [
    "s = np.random.normal(50,10,25)\n",
    "stats.describe(s)"
   ]
  },
  {
   "cell_type": "code",
   "execution_count": 128,
   "metadata": {},
   "outputs": [
    {
     "data": {
      "text/plain": [
       "(18.0, 80.0)"
      ]
     },
     "execution_count": 128,
     "metadata": {},
     "output_type": "execute_result"
    },
    {
     "data": {
      "image/png": "[encoded data removed]",
      "text/plain": [
       "<Figure size 432x288 with 1 Axes>"
      ]
     },
     "metadata": {
      "needs_background": "light"
     },
     "output_type": "display_data"
    }
   ],
   "source": [
    "plt.boxplot(s, vert = False, sym = '.r', showmeans = True)\n",
    "plt.xlim(18,80)\n",
    "\n",
    "#Caution - When both seaborn and matplotlib are imported, boxplot using matplotlib doesn't show outliers. Either draw boxplot-\n",
    "# - using seaborn or use the method using 'sym' parameter as used here."
   ]
  },
  {
   "cell_type": "markdown",
   "metadata": {},
   "source": [
    "#### Cumulative Distribution Function"
   ]
  },
  {
   "cell_type": "code",
   "execution_count": 129,
   "metadata": {},
   "outputs": [
    {
     "data": {
      "text/plain": [
       "<matplotlib.collections.PathCollection object at 0x0000007F3DA56970>"
      ]
     },
     "execution_count": 129,
     "metadata": {},
     "output_type": "execute_result"
    },
    {
     "data": {
      "image/png": "[encoded data removed]",
      "text/plain": [
       "<Figure size 432x288 with 1 Axes>"
      ]
     },
     "metadata": {
      "needs_background": "light"
     },
     "output_type": "display_data"
    }
   ],
   "source": [
    "plt.scatter(s, norm.cdf(s,50,10))    "
   ]
  },
  {
   "cell_type": "markdown",
   "metadata": {},
   "source": [
    "#### Shapiro- Wilk test\n",
    "\n",
    "omitted for the time being"
   ]
  },
  {
   "cell_type": "markdown",
   "metadata": {},
   "source": [
    "##### The 68-95-99.7% Rule\n",
    "\n",
    "  All normal density curves satisfy the following property which is often referred to as the Empirical Rule.\n",
    "\n",
    "- 68% of the observations fall within 1 standard deviation of the mean, that is, between and $\\mu-\\sigma$ and $\\mu+\\sigma$ . \n",
    "- 95% of the observations fall within 2 standard deviations of the mean, that is, between and $\\mu-2\\sigma$ and $\\mu+2\\sigma$ . \n",
    "- 99.7% of the observations fall within 3 standard deviations of the mean, that is, between and $\\mu-3\\sigma$ and $\\mu+3\\sigma$. \n",
    "\n",
    "To be precise, this rule would be '68.2-95.4-99.7' Rule"
   ]
  },
  {
   "cell_type": "markdown",
   "metadata": {},
   "source": [
    "#### Area under Curve for Normal Distribution\n",
    "\n",
    "The total area under curve is always equal to 1. In case of standard normal distribution, let us say we want to find out the probability that a random observation will fall between, say, -2 and 2. For this, we need to calculate the area under curve from x = -$\\infty$ to 2 and -2 and compute the difference between those two values. \n",
    "\n"
   ]
  },
  {
   "cell_type": "code",
   "execution_count": 46,
   "metadata": {},
   "outputs": [
    {
     "data": {
      "text/plain": [
       "<matplotlib.legend.Legend object at 0x000000825D5B4640>"
      ]
     },
     "execution_count": 46,
     "metadata": {},
     "output_type": "execute_result"
    },
    {
     "data": {
      "image/png": "[encoded data removed]",
      "text/plain": [
       "<Figure size 432x288 with 1 Axes>"
      ]
     },
     "metadata": {},
     "output_type": "display_data"
    }
   ],
   "source": [
    "%matplotlib inline\n",
    "import matplotlib.pyplot as plt\n",
    "import numpy as np\n",
    "import seaborn as sns\n",
    "from scipy.stats import norm\n",
    "sns.set()\n",
    "\n",
    "x = np.linspace(-5,5,100)\n",
    "x1 = np.linspace(-5,2,100)\n",
    "x2 = np.linspace(-5,-2,10)\n",
    "plt.plot(x, norm.pdf(x, loc = 0, scale = 1), '-',color = 'red', label = 'mean 0 var 1')\n",
    "plt.vlines(2,0,norm.pdf(2,0,1))\n",
    "plt.fill_between(x1, norm.pdf(x1, 0,1), 0)\n",
    "plt.fill_between(x2, norm.pdf(x2, 0,1), 0, color = 'pink')\n",
    "plt.legend()\n"
   ]
  },
  {
   "cell_type": "code",
   "execution_count": 47,
   "metadata": {},
   "outputs": [
    {
     "data": {
      "text/plain": [
       "<seaborn.axisgrid.FacetGrid object at 0x000000825BA838B0>"
      ]
     },
     "execution_count": 47,
     "metadata": {},
     "output_type": "execute_result"
    },
    {
     "data": {
      "image/png": "[encoded data removed]",
      "text/plain": [
       "<Figure size 360x360 with 1 Axes>"
      ]
     },
     "metadata": {},
     "output_type": "display_data"
    }
   ],
   "source": [
    "sns.displot(x)"
   ]
  },
  {
   "cell_type": "markdown",
   "metadata": {},
   "source": [
    "We are interested in finding area of blue colored region. For this, we first caculate the area of pink region (probability for a sample lying between - $\\infty$ to -2). Then we calculate the area of both pink shaded region AND blue shaded region (probability for a sample lying between -$\\infty$ to 2. Finally we subtract the former from the later to get the area.\n",
    "\n",
    "We use scipy's `stats.norm.cdf` function to calculate the area."
   ]
  },
  {
   "cell_type": "code",
   "execution_count": 131,
   "metadata": {},
   "outputs": [
    {
     "data": {
      "text/plain": [
       "0.9544997361036416"
      ]
     },
     "execution_count": 131,
     "metadata": {},
     "output_type": "execute_result"
    }
   ],
   "source": [
    "norm.cdf(2, loc = 0, scale = 1) - norm.cdf(-2, loc = 0, scale = 1)"
   ]
  },
  {
   "cell_type": "markdown",
   "metadata": {},
   "source": [
    "This means the probability that a random value would lie between -2 and 2 in a normally distributed distribution population is .9544"
   ]
  },
  {
   "cell_type": "markdown",
   "metadata": {},
   "source": [
    "\n",
    "### Sampling Distribution of Mean\n",
    "\n",
    "\n",
    "\n",
    "#### Mean\n",
    "\n",
    "The mean of the **sampling distribution of the mean** is the mean of the population from which the scores were sampled. Therefore, if a population has a mean μ, then the mean of the sampling distribution of the mean is also μ. \n",
    "\n",
    "#### Variance\n",
    "The variance of the sampling distribution of the mean is ${\\sigma}^2/N$\n",
    "\n",
    "That is, the variance of the sampling distribution of the mean is the population\n",
    "variance ($\\sigma$) divided by $N$, the sample size (the number of scores used to compute a\n",
    " mean). Thus, the larger the sample size, the smaller the variance of the sampling distribution of the mean.\n",
    " \n",
    "This expression can be derived very easily from the variance sum law. Let's begin by computing the variance of the sampling distribution of the sum of three numbers sampled from a population with variance $σ^2$. The variance of\n",
    "the sum would be $σ^2 + σ^2 + σ^2$. For N numbers, the variance would be N$σ^2$. Since the mean is $1/N$ times the sum, the variance of the sampling distribution of the mean would be $1/N^2$ times the variance of the sum, which equals $σ^2/N$.\n",
    "The standard error of the mean is the standard deviation of the sampling distribution of the mean. It is therefore the square root of the variance of the sampling distribution of the mean and can be written as:\n",
    "\n",
    " \n",
    " $${Standard\\;Error\\;of\\;Mean =  \\frac{\\sigma}{\\sqrt{N}}}$$\n",
    " \n",
    " However, we rarely know the variance of population. To address this we use the variance of sample. In that case, the formula we use is - \n",
    " \n",
    " $$Standard\\;Error =  \\frac{s}{\\sqrt{N}}$$\n",
    " \n",
    "Where $s$ is the standard deviation of sample. \n",
    " \n"
   ]
  },
  {
   "cell_type": "markdown",
   "metadata": {},
   "source": [
    "#### Central Limit Theorem\n",
    "The central limit theorem states that:\n",
    ">Given a population with a finite mean $μ$ and a finite non- zero variance $σ^2$, the sampling distribution of the mean\n",
    "approaches a normal distribution with a mean of $μ$ and a variance of $σ^2/N$ as $N$, the sample size, increases.\n",
    "\n",
    "The expressions for the mean and variance of the sampling distribution of the mean are not new or remarkable. What is remarkable is that regardless of the shape of the parent population, the sampling distribution of the mean approaches a normal distribution as $N$ increases. "
   ]
  },
  {
   "cell_type": "markdown",
   "metadata": {},
   "source": [
    "Let us generate a 'population' of some measurement having 10000 observations. "
   ]
  },
  {
   "cell_type": "code",
   "execution_count": 48,
   "metadata": {},
   "outputs": [
    {
     "data": {
      "image/png": "[encoded data removed]",
      "text/plain": [
       "<Figure size 432x288 with 1 Axes>"
      ]
     },
     "metadata": {},
     "output_type": "display_data"
    }
   ],
   "source": [
    "np.random.seed(123)\n",
    "data = np.random.randint(0,101, 10000) - (5*np.random.randn(10000))\n",
    "\n",
    "plt.hist(data);"
   ]
  },
  {
   "cell_type": "markdown",
   "metadata": {},
   "source": [
    "Histogram for our data is shown above. It is definitely not normally distributed. We calculate the population mean and standard deviation so that we can compare them with our estimates."
   ]
  },
  {
   "cell_type": "code",
   "execution_count": 49,
   "metadata": {},
   "outputs": [
    {
     "data": {
      "text/plain": [
       "(50.340928613386296, 29.59223779433743)"
      ]
     },
     "execution_count": 49,
     "metadata": {},
     "output_type": "execute_result"
    }
   ],
   "source": [
    "pop_mean = np.mean(data)\n",
    "pop_std = np.std(data)\n",
    "\n",
    "\n",
    "pop_mean, pop_std"
   ]
  },
  {
   "cell_type": "markdown",
   "metadata": {},
   "source": [
    "Let us take 200 samples with each sample having 100 random observations. We prepare a list of mean for each sample. "
   ]
  },
  {
   "cell_type": "code",
   "execution_count": 50,
   "metadata": {},
   "outputs": [
    {
     "data": {
      "text/plain": [
       "200"
      ]
     },
     "execution_count": 50,
     "metadata": {},
     "output_type": "execute_result"
    }
   ],
   "source": [
    "l = []\n",
    "for i in range(200):\n",
    "    a = np.mean(np.random.choice(data, 100))\n",
    "    l.append(a)\n",
    "    \n",
    "len(l)"
   ]
  },
  {
   "cell_type": "markdown",
   "metadata": {},
   "source": [
    "Below is the histogram for **sampling distribution of mean**. Note that this histogram is centered exactly around the population mean. Also note that, these sample means are approximately normally distributed. \n",
    "\n",
    "<div class=\"alert alert-block alert-warning\">\n",
    "\n",
    "**Sampling distribution**\n",
    "\n",
    "The sampling distribution represents the distribution of the point estimates based on samples of a fixed size from a certain population. It is useful to think of a particular point estimate as being drawn from such a distribution. Understanding the\n",
    "concept of a sampling distribution is central to understanding statistical inference.</div>\n"
   ]
  },
  {
   "cell_type": "code",
   "execution_count": 51,
   "metadata": {},
   "outputs": [
    {
     "data": {
      "image/png": "[encoded data removed]",
      "text/plain": [
       "<Figure size 432x288 with 1 Axes>"
      ]
     },
     "metadata": {},
     "output_type": "display_data"
    }
   ],
   "source": [
    "plt.hist(l);"
   ]
  },
  {
   "cell_type": "markdown",
   "metadata": {},
   "source": [
    "Calculating the standard distribution for this distribution of means - "
   ]
  },
  {
   "cell_type": "code",
   "execution_count": 52,
   "metadata": {},
   "outputs": [
    {
     "data": {
      "text/plain": [
       "2.9797559928445434"
      ]
     },
     "execution_count": 52,
     "metadata": {},
     "output_type": "execute_result"
    }
   ],
   "source": [
    "np.std(l)"
   ]
  },
  {
   "cell_type": "markdown",
   "metadata": {},
   "source": [
    "What we just calculated is called **Standard Error of Mean**. This value indicates the 'spread' of sampling means around true population means. \n",
    "\n",
    "But imagine we have only one sample (of 100 observations). Obviously, we can't calculate SE of mean from one sample alone. Earlier, we were able to calculate this because we have multiple samples (200). \n",
    "\n",
    "Suppose we know the population standard deviation. We have already calculated this above. Then we can calculated SE as shown below -   \n",
    "\n",
    "<div class=\"alert alert-block alert-warning\">\n",
    "\n",
    "**Standard error of an estimate**\n",
    "\n",
    "The standard deviation associated with an estimate is called the standard error.\n",
    "It describes the typical error or uncertainty associated with the estimate.</div>"
   ]
  },
  {
   "cell_type": "code",
   "execution_count": 53,
   "metadata": {},
   "outputs": [
    {
     "data": {
      "text/plain": [
       "2.959223779433743"
      ]
     },
     "execution_count": 53,
     "metadata": {},
     "output_type": "execute_result"
    }
   ],
   "source": [
    "pop_std/np.sqrt(100) #Standard error when Population Std dev is known. 100 is the sample size"
   ]
  },
  {
   "cell_type": "markdown",
   "metadata": {},
   "source": [
    "Notice that this value is very close close to the SE of mean which we calculated on the basis of smapling distribution mean. \n",
    "\n",
    "Usually we don't know the standard deviation for entire population so we use the sample standard deviation provided sample size is more than 30 and population distribution is not strongly skewed. "
   ]
  },
  {
   "cell_type": "code",
   "execution_count": 54,
   "metadata": {},
   "outputs": [
    {
     "data": {
      "text/plain": [
       "2.8952243911504576"
      ]
     },
     "execution_count": 54,
     "metadata": {},
     "output_type": "execute_result"
    }
   ],
   "source": [
    "b = np.random.choice(data,100)\n",
    "sample_std = np.std(b)\n",
    "se_2 = sample_std/10\n",
    "se_2                  #Standard error when Population std dev not known so we use the sample std dev\n",
    "\n",
    "#Using sample std dev is viable if sample size is more than 30 and population distribution is not strongly skewed. "
   ]
  },
  {
   "cell_type": "markdown",
   "metadata": {},
   "source": [
    "\n",
    "Again, SE of mean calculated here is very close the SE of mean which we caculated in the begining."
   ]
  },
  {
   "cell_type": "markdown",
   "metadata": {},
   "source": [
    "## Basic Properties of Point Estimates\n",
    "\n",
    "So far,we achieved three goals in this section. First, we determined that point estimates from a sample may be used to estimate population parameters. We also determined that these point estimates are not exact: they vary from one sample to another. Lastly, we quantified the uncertainty of the sample mean using what we call the standard error, mathematically\n",
    "represented in equation $SE\\;=\\;\\frac{\\sigma}{\\sqrt{n}}$\n",
    "\n",
    "### Confidence Interval\n",
    "\n",
    "A point estimate provides a single plausible value for a parameter. However, a point estimate is rarely perfect; usually there is some error in the estimate. Instead of supplying just a point estimate of a parameter, a next logical step would be to provide a plausible *range of values* for the parameter.\n",
    "\n",
    "A plausible range of values for the population parameter is called a **confidence interval**.\n",
    "\n",
    "Our point estimate is the most plausible value of the parameter, so it makes sense to build the confidence interval around the point estimate. The standard error, which is a measure of the uncertainty associated with the point estimate, provides a guide for how large we should make the confidence interval.\n",
    "\n",
    "The standard error represents the standard deviation associated with the estimate, and roughly 95% of the time the estimate will be within 2 standard errors of the parameter. If the interval spreads out 2 standard errors from the point estimate, we can be roughly **95% confident** that we have captured the true parameter:\n",
    "\n",
    "$$point\\;estimate\\;\\pm\\;2\\;*\\;SE\\ \\ \\ \\ \\ \\ \\ \\ \\ \\ \\  -\\;(eq2)$$\n",
    "\n",
    "But what does “95% confident” mean? Suppose we took many samples and built a confidence\n",
    "interval from each sample using Equation (2). Then about 95% of those intervals\n",
    "would contain the actual mean, $\\mu$."
   ]
  },
  {
   "cell_type": "markdown",
   "metadata": {},
   "source": [
    "Earlier we calculted SE through various methods and it came out to be approximately 2.95. We also caculated sample means for 200 samples. Let us just pick means of 25 such samples.   "
   ]
  },
  {
   "cell_type": "markdown",
   "metadata": {},
   "source": [
    "Now, let us try to visualize confidence interval of 95% for given data. We have 25 points from sampling distribution of means (that is means of 25 samples). For each sample  mean, we caculated the range for 95% confidence interval using equation (2).\n",
    "\n",
    "Since we have 25 ranges for 95% confidence intervals, this means approximately 24 ( ~ 25 x .95) of these ranges will have true population mean in them. \n",
    "\n",
    "The following plot confirms this. Confidence interval corresponding to thick blue line doesn't contain true population mean. All other 24 intervals have population means in them. "
   ]
  },
  {
   "cell_type": "code",
   "execution_count": 56,
   "metadata": {},
   "outputs": [
    {
     "data": {
      "text/plain": [
       "<matplotlib.legend.Legend at 0x825d6602e0>"
      ]
     },
     "execution_count": 56,
     "metadata": {},
     "output_type": "execute_result"
    },
    {
     "data": {
      "image/png": "[encoded data removed]",
      "text/plain": [
       "<Figure size 576x432 with 1 Axes>"
      ]
     },
     "metadata": {},
     "output_type": "display_data"
    }
   ],
   "source": [
    "se = 3\n",
    "plt.style.use('seaborn')\n",
    "plt.figure(figsize = (8,6))\n",
    "plt.vlines(pop_mean,0,26, linestyles = '--', color = 'gray', lw = 1.5, label = 'population mean')\n",
    "for i, j in enumerate(l[:25],1):\n",
    "    a = j-(2*se)\n",
    "    b = j+(2*se)\n",
    "    if not a < pop_mean < b:\n",
    "        plt.hlines(i,a,b, lw =2, color = 'red')\n",
    "        plt.scatter(j,i, c = 'red', s = 15)\n",
    "    else:\n",
    "        plt.hlines(i,a,b, lw =1, color = 'blue')\n",
    "        plt.scatter(j,i, c = 'red', s = 18)\n",
    "\n",
    "plt.scatter([],[], c = 'red', s = 15, label = 'Sample mean')    \n",
    "plt.xlabel('mean')\n",
    "plt.ylabel('sample')\n",
    "plt.text(60,-2,'$\\mu = %.2f$' %pop_mean)\n",
    "plt.legend(scatterpoints = 1,frameon = False)    "
   ]
  },
  {
   "cell_type": "markdown",
   "metadata": {},
   "source": [
    "Earlier we plotted histogram for 200 samples taken from sampling distribution of means. It was evident that histogram approximately mimicked the normal distribution. \n",
    "\n",
    "Now, we'll repeat the process but this time with 100,000 samples."
   ]
  },
  {
   "cell_type": "code",
   "execution_count": 57,
   "metadata": {},
   "outputs": [
    {
     "data": {
      "image/png": "[encoded data removed]",
      "text/plain": [
       "<Figure size 576x396 with 1 Axes>"
      ]
     },
     "metadata": {},
     "output_type": "display_data"
    }
   ],
   "source": [
    "l1 = []\n",
    "for i in range(100000):\n",
    "    a = np.mean(np.random.choice(data, 100))\n",
    "    l1.append(a)\n",
    "    \n",
    "plt.hist(l1, bins = 50);    "
   ]
  },
  {
   "cell_type": "markdown",
   "metadata": {},
   "source": [
    "It can be seen that in present case, histogram is resembling normal distribution far more accurately."
   ]
  },
  {
   "cell_type": "code",
   "execution_count": 58,
   "metadata": {},
   "outputs": [
    {
     "data": {
      "image/png": "[encoded data removed]",
      "text/plain": [
       "<Figure size 360x360 with 1 Axes>"
      ]
     },
     "metadata": {},
     "output_type": "display_data"
    }
   ],
   "source": [
    "sns.displot(l1, kde = True, rug = True);"
   ]
  },
  {
   "cell_type": "markdown",
   "metadata": {},
   "source": [
    "The preceeding discussions give us opportunity to introduce one more concept, known as **Central Limit Theorem.**\n",
    "\n",
    "<div class=\"alert alert-block alert-warning\">\n",
    "\n",
    "**Central Limit Theorem, informal description -**\n",
    "\n",
    "If a sample consists of at least 30 independent observations and the data are not strongly skewed, then the distribution of the sample mean is well approximated by a normal model.</div>\n",
    "\n",
    "\n",
    "The choice of using 2 standard errors in Equation (2) was based on our general guideline that roughly 95% of the time, observations are within two standard deviations of the mean. Under the normal model, we can make this more accurate by using 1.96 in place of 2.\n",
    "\n",
    "$$\\color{blue}{point\\;estimate\\;\\pm\\;1.96\\;*\\;SE\\ \\ \\ \\ \\ \\ \\ \\ \\ \\ \\  -\\;}(eq3)$$"
   ]
  },
  {
   "cell_type": "code",
   "execution_count": 59,
   "metadata": {},
   "outputs": [
    {
     "data": {
      "text/plain": [
       "0.950004209703559"
      ]
     },
     "execution_count": 59,
     "metadata": {},
     "output_type": "execute_result"
    }
   ],
   "source": [
    "from scipy.stats import norm\n",
    "norm.cdf(1.96,0,1) - norm.cdf(-1.96,0,1) # 95% values will fall within 1.96 std from mean\n",
    "\n",
    "#This gives the intuition behind using 1.96 s.d. for 95% confidence interval"
   ]
  },
  {
   "cell_type": "code",
   "execution_count": 60,
   "metadata": {},
   "outputs": [
    {
     "data": {
      "text/plain": [
       "0.9973002039367398"
      ]
     },
     "execution_count": 60,
     "metadata": {},
     "output_type": "execute_result"
    }
   ],
   "source": [
    "norm.cdf(3,0,1) - norm.cdf(-3,0,1) # 99% values will fall within 1.96 std from mean\n",
    "\n",
    "#This gives the intuition behind using 3 s.d. for 99.7% confidence interval"
   ]
  },
  {
   "cell_type": "markdown",
   "metadata": {},
   "source": [
    "### Hypothesis Testing\n",
    "\n",
    "We have earlier generated a contrived example of population $x$. Let us assume this this data belong to year 2018. Let us generate a sample with 100 observation - "
   ]
  },
  {
   "cell_type": "code",
   "execution_count": 61,
   "metadata": {},
   "outputs": [
    {
     "data": {
      "text/plain": [
       "(50.91355809692017, 29.421080122339646, 2.9421080122339647)"
      ]
     },
     "execution_count": 61,
     "metadata": {},
     "output_type": "execute_result"
    }
   ],
   "source": [
    "sam_18 = np.random.choice(data,100)\n",
    "sample_std = np.std(sam_18)\n",
    "sample_mean = np.mean(sam_18)\n",
    "s_e = sample_std/10\n",
    "sample_mean, sample_std, s_e            #Standard error when Population std dev not known so we use the sample std dev\n",
    "\n",
    "#Using sample std dev is viable if sample size is more than 30 and population distribution is not strongly skewed. "
   ]
  },
  {
   "cell_type": "markdown",
   "metadata": {},
   "source": [
    "Suppose we are told that data for year 2017 has the population mean of, say, 52. Now our claim is that there is no difference between 2017 population mean and 2018 population mean. How would you test this hypothesis? Assume that we only have access to 2018 sample data.   \n",
    "\n",
    " 95% Confidence interval for 2018 year sample -"
   ]
  },
  {
   "cell_type": "code",
   "execution_count": 62,
   "metadata": {},
   "outputs": [
    {
     "data": {
      "text/plain": [
       "(45.1470263929416, 56.68008980089874)"
      ]
     },
     "execution_count": 62,
     "metadata": {},
     "output_type": "execute_result"
    }
   ],
   "source": [
    "aa = sample_mean - (1.96*s_e)\n",
    "bb = sample_mean + (1.96*s_e)\n",
    "\n",
    "aa, bb"
   ]
  },
  {
   "cell_type": "markdown",
   "metadata": {},
   "source": [
    "Based on the question we are asked, we can develop two hypothesis -\n",
    "\n",
    " - $H_0$ : There is no difference between 2017 population mean and 2018 population mean.\n",
    " - $H_A$ : There is significant difference between 2017 population mean and 2018 population mean.\n",
    "\n",
    "We can also write these hypotheses in following ways - \n",
    "\n",
    " - $H_0$ : $\\mu_{18}$ = 52.\n",
    " - $H_A$ : $\\mu_{18}$ $\\neq$ 52\n",
    " \n",
    "$H_0$ is Null Hypothesis and $H_A$ is alternate hypothesis. \n",
    "\n",
    "For year 2018, we calculated 95% CI as (48.52, 60.14). Also, we have no access to 2018 population mean. We note that 2017 population mean (52) falls in above confidence interval. This means we can not *reject* our null hypothesis. (Failure to reject the null hypothesis doesn't mean null hypothesis is true).\n",
    "\n",
    "Note that this is **2-sided Hypothesis Testing**."
   ]
  },
  {
   "cell_type": "markdown",
   "metadata": {},
   "source": [
    "#### Decision Errors\n",
    "\n",
    "\n",
    "\\(![image hypo.png missing](images/hypo.png)\n",
    "\n",
    "A **Type 1 Error** is rejecting the null hypothesis when $H_0$ is actually true. A **Type 2 Error** is failing to reject the null hypothesis when the alternative is actually true.\n",
    "\n",
    "Hypothesis testing is built around rejecting or failing to reject the null hypothesis. That is, we do not reject $H_0$ unless we have strong evidence. But what precisely does strong evidence mean? As a general rule of thumb, for those cases where the null hypothesis is actually true, we do not want to incorrectly reject $H_0$ more than 5% of the time. This\n",
    "corresponds to a **significance level** of 0.05. We often write the significance level using\n",
    "$\\alpha$ (the Greek letter alpha): $\\alpha$ = 0.05.\n",
    "\n",
    "If we use a 95% confidence interval to evaluate a hypothesis test where the null hypothesis is true, we will make an error whenever the point estimate is at least 1.96 standard errors away from the population parameter. This happens about 5% of the time (2.5% in each tail). Similarly, using a 99% confidence interval to evaluate a hypothesis is equivalent to a significance level of $\\alpha$ = 0.01.\n",
    "\n",
    "A confidence interval is, in one sense, simplistic in the world of hypothesis tests.\n",
    "Consider the following two scenarios:\n",
    "\n",
    " - The null value (the parameter value under the null hypothesis) is in the 95% confidence interval but just barely, so we would not reject H0. However, we might like to somehow say, quantitatively, that it was a close decision.\n",
    " - The null value is very far outside of the interval, so we reject $H_0$. However, we want to communicate that, not only did we reject the null hypothesis, but it wasn’t even close. such a case is shown below\n",
    " \n",
    " ![image hypo1.png missing](images/hypo1.png)\n",
    " \n",
    " It would be helpful to quantify the strength of the evidence against the null hypothesis. In this case, the evidence is extremely strong."
   ]
  },
  {
   "cell_type": "markdown",
   "metadata": {},
   "source": [
    "#### Formal Testing Using `p-values`\n",
    "\n",
    "The `p-value` is a way of quantifying the strength of the evidence against the null hypothesis and in favor of the alternative. Formally the `p-value` is a conditional probability.\n",
    "\n",
    "<div class=\"alert alert-block alert-warning\">\n",
    "**p-value** - The `p-value` is the probability of observing data at least as favorable to the alternative\n",
    "hypothesis as our current data set, if the null hypothesis is true. We typically use a summary statistic of the data, in this chapter the sample mean, to help compute the `p-value` and evaluate the hypotheses.</div>\n",
    "\n",
    "***Example*** -  A pole found that college students average about 7 hours sleep per night. Researchers at a rural school are in interested in showing that students at their school sleep longer than 7 hours on average and they wish to demonstrate that using a sample of students from their school. \n",
    "\n",
    "We can set up the null hypothesis for this test as a skeptical perspective: the students at this school average 7 hours of sleep per night. The alternative hypothesis takes a new form reflecting the interests of the research: the students average more than 7 hours of sleep. We can write these hypotheses as - \n",
    "\n",
    " - $H_0 : \\mu\\;=$ 7\n",
    " - $H_A : \\mu\\;\\gt\\;$7\n",
    "\n",
    "<div class=\"alert alert-block alert-warning\">\n",
    "We will find it most useful if we always list the null hypothesis as an equality (e.g.\n",
    "μ = 7) while the alternative always uses an inequality (e.g. μ 6= 7, μ > 7, or μ < 7).</div>\n",
    "\n",
    "Using $\\mu$ > 7 as the alternative is an example of a one-sided hypothesis test. In this investigation, there is no apparent interest in learning whether the mean is less than 7 hours. Earlier we encountered a two-sided hypothesis where we looked for any clear difference, greater than or less than the null value. \n",
    "\n",
    "Back to our example. Researchers conducted a survey on random 110 students and found out their average sleep time was 7.42 hours with standard deviation 1.75 hours. \n",
    "\n",
    "The hypothesis test for the sleep study will be evaluated using a $significance\\;level$ of $\\alpha$ = 0.05. We want to consider the data under the scenario that the null hypothesis is true. In this case, the sample mean is from a distribution that is nearly normal and has mean 7 and standard deviation of about ${SE}_x$ = 0.17. (Recall that SE of mean is the standard deviation of sampling distribution of mean.)\n",
    "\n",
    "For $\\sigma_{sample}$ = 7.42, we calculate the $z\\;score$ - "
   ]
  },
  {
   "cell_type": "code",
   "execution_count": 129,
   "metadata": {},
   "outputs": [
    {
     "data": {
      "text/plain": [
       "0.7074692412202295"
      ]
     },
     "execution_count": 129,
     "metadata": {},
     "output_type": "execute_result"
    }
   ],
   "source": [
    "7.42/np.sqrt(110)"
   ]
  },
  {
   "cell_type": "code",
   "execution_count": 63,
   "metadata": {},
   "outputs": [
    {
     "data": {
      "text/plain": [
       "2.470588235294117"
      ]
     },
     "execution_count": 63,
     "metadata": {},
     "output_type": "execute_result"
    }
   ],
   "source": [
    "z = (7.42-7)/.17\n",
    "z"
   ]
  },
  {
   "cell_type": "markdown",
   "metadata": {},
   "source": [
    "For given distribution, our sample mean is 2.47 standard deviations away from distribution mean (very far, actually). \n",
    "\n",
    "Now we wish to find the area of the region which lie between $x$ and $\\infty$ See below plot for clarity - "
   ]
  },
  {
   "cell_type": "code",
   "execution_count": 64,
   "metadata": {},
   "outputs": [
    {
     "data": {
      "text/plain": [
       "<matplotlib.collections.PolyCollection at 0x82618ea850>"
      ]
     },
     "execution_count": 64,
     "metadata": {},
     "output_type": "execute_result"
    },
    {
     "data": {
      "image/png": "[encoded data removed]",
      "text/plain": [
       "<Figure size 576x396 with 1 Axes>"
      ]
     },
     "metadata": {},
     "output_type": "display_data"
    }
   ],
   "source": [
    "samp = np.random.normal(7,.17,500)\n",
    "plt.plot(np.sort(samp), norm.pdf(np.sort(samp), 7, .17))\n",
    "xx = np.linspace(7.42,8,50)\n",
    "plt.fill_between(xx, norm.pdf(xx,7,.17), 0)"
   ]
  },
  {
   "cell_type": "code",
   "execution_count": 65,
   "metadata": {},
   "outputs": [
    {
     "data": {
      "text/plain": [
       "0.007"
      ]
     },
     "execution_count": 65,
     "metadata": {},
     "output_type": "execute_result"
    }
   ],
   "source": [
    "area = 1 - norm.cdf(7.42,7,.17)\n",
    "round(area,3)"
   ]
  },
  {
   "cell_type": "markdown",
   "metadata": {},
   "source": [
    "The shaded area equals to .007. *If the null hypothesis is true, the probability of observing\n",
    "a sample mean at least as large as 7.42 hours for a sample of 110 students is only 0.007.* That is, if the null hypothesis is true, we would not often see such a large mean.\n",
    "\n",
    "The value we calculated as .007 is `p-value`. Because `p-value` (= .007) is less than significance level (= .05), we reject the null hypothesis. \n",
    "\n",
    "What we observed is so unusual with respect to the null hypothesis that it casts serious doubt on $H_0$ and provides strong evidence favoring $H_A$."
   ]
  },
  {
   "cell_type": "code",
   "execution_count": 66,
   "metadata": {},
   "outputs": [
    {
     "data": {
      "text/plain": [
       "(7.0868, 7.7532)"
      ]
     },
     "execution_count": 66,
     "metadata": {},
     "output_type": "execute_result"
    }
   ],
   "source": [
    "7.42-(1.96*.17),7.42+(1.96*.17) #95% confidence interval"
   ]
  },
  {
   "cell_type": "markdown",
   "metadata": {},
   "source": [
    "Again, population mean (= 7) barely touch the range of confidence interval. \n",
    "\n",
    "<div class=\"alert alert-block alert-warning\">\n",
    "`p-value` as a tool in hypothesis testing\n",
    "The smaller the `p-value`, the stronger the data favor $H_A$ over $H_0$. A small `p-value`\n",
    "(usually less than 0.05) corresponds to sufficient evidence to reject $H_0$ in favor of $H_A$. </div>\n",
    "\n",
    "Also -\n",
    "<div class=\"alert alert-block alert-warning\">\n",
    "It is useful to draw a picture of the distribution of $\\bar{x}$ as though $H_0$ was true\n",
    "(i.e. $\\mu$ equals the null value), and shade the region (or regions) of sample means\n",
    "that are at least as favorable to the alternative hypothesis. These shaded regions\n",
    "represent the `p-value`.</div>\n",
    "\n",
    "The ideas below review the process of evaluating hypothesis tests with `p-values`:\n",
    "\n",
    "  - The null hypothesis represents a skeptic’s position or a position of no difference. We reject this position only if the evidence strongly favors $H_A$.\n",
    "  - A small `p-value` means that if the null hypothesis is true, there is a low probability of seeing a point estimate at least as extreme as the one we saw. We interpret this as strong evidence in favor of the alternative.\n",
    "  - We reject the null hypothesis if the `p-value` is smaller than the significance level,$\\alpha$, which is usually 0.05. Otherwise, we fail to reject $H_0$.\n",
    "  - We should always state the conclusion of the hypothesis test in plain language so non-statisticians can also understand the results."
   ]
  },
  {
   "cell_type": "markdown",
   "metadata": {},
   "source": [
    "#### 2-sided Hypothesis Testing with `p-value`s\n",
    "\n",
    "In preceeding example, we conducted 1-sided hypothesis testing. Now consider following example.\n",
    "\n",
    "***Example*** -  Earlier we were interested in the case of average sleep time being more than 7 hours. Now another group of researchers from a different college is interested in finding out if students from their college have average sleep time *different* from 7 hours. \n",
    "\n",
    "They also conducted a survey with a sample of 122 students and found the mean to be 6.83 hours with standard deviation of 1.8 hours. \n",
    "\n",
    "We can write following hypotheses for above problem - \n",
    "\n",
    " - $H_0 : \\mu\\;=$ 7\n",
    " - $H_A : \\mu\\;\\neq\\;$7"
   ]
  },
  {
   "cell_type": "code",
   "execution_count": 67,
   "metadata": {},
   "outputs": [
    {
     "data": {
      "text/plain": [
       "0.16296434287653336"
      ]
     },
     "execution_count": 67,
     "metadata": {},
     "output_type": "execute_result"
    }
   ],
   "source": [
    "se_2 = 1.8/np.sqrt(122)\n",
    "se_2 #standard error of mean"
   ]
  },
  {
   "cell_type": "code",
   "execution_count": 68,
   "metadata": {},
   "outputs": [
    {
     "data": {
      "text/plain": [
       "0.144004379001971"
      ]
     },
     "execution_count": 68,
     "metadata": {},
     "output_type": "execute_result"
    }
   ],
   "source": [
    "pv_1 = norm.cdf(6.83, 7, .16) #sampling distribution\n",
    "pv_1"
   ]
  },
  {
   "cell_type": "code",
   "execution_count": 69,
   "metadata": {},
   "outputs": [
    {
     "data": {
      "text/plain": [
       "0.288008758003942"
      ]
     },
     "execution_count": 69,
     "metadata": {},
     "output_type": "execute_result"
    }
   ],
   "source": [
    "pvalue = 2*pv_1\n",
    "pvalue"
   ]
  },
  {
   "cell_type": "markdown",
   "metadata": {},
   "source": [
    "This `p-value` (= .288) is relatively larger than significance level (= .05) so we shouldn't reject $H_0$. That is, if $H_0$ is true, it would not be very unusual to see a sample mean this far from 7 hours simply due to sampling variation. Thus, we do not have sufficient evidence to conclude that the mean is different than 7 hours. \n",
    "\n",
    "We can also see that the population mean (= 7 hrs) falls comfortably within the range of 95% confidence interval. "
   ]
  },
  {
   "cell_type": "code",
   "execution_count": 70,
   "metadata": {},
   "outputs": [
    {
     "data": {
      "text/plain": [
       "(6.5164, 7.1436)"
      ]
     },
     "execution_count": 70,
     "metadata": {},
     "output_type": "execute_result"
    }
   ],
   "source": [
    "6.83-(1.96*.16),6.83+(1.96*.16)"
   ]
  },
  {
   "cell_type": "markdown",
   "metadata": {},
   "source": [
    "#### Choosing a Significance Level\n",
    "\n",
    "Choosing a significance level for a test is important in many contexts, and the traditional level is 0.05. However, it is often helpful to adjust the significance level based on the application. \n",
    "\n",
    "If making a Type 1 Error is dangerous or especially costly, we should choose a small significance level (e.g. 0.01). Under this scenario we want to be very cautious about rejecting the null hypothesis, so we demand very strong evidence favoring \n",
    "$H_A$ before we would reject $H_0$.\n",
    "\n",
    "If a Type 2 Error is relatively more dangerous or much more costly than a Type 1 Error, then we should choose a higher significance level (e.g. 0.10). Here we want to be cautious about failing to reject $H_0$ when the null is actually false.\n",
    "\n",
    ">The significance level selected for a test should reflect the consequences associated with Type 1 and Type 2 Errors.\n"
   ]
  },
  {
   "cell_type": "markdown",
   "metadata": {},
   "source": [
    "### $t$ - distribution\n",
    "\n",
    "We required a large sample in Chapter 4 for two reasons:\n",
    "\n",
    " -  The sampling distribution of $\\bar{x}$ tends to be more normal when the sample is large.\n",
    " -  The calculated standard error is typically very accurate when using a large sample.\n",
    " \n",
    "But it is not always the case when we have sample size big enough.\n",
    "\n",
    "If the population data are nearly normal, then $\\bar{x}$ will also follow a normal distribution, which\n",
    "addresses the first problem. The accuracy of the standard error is trickier for small sample size, and for this\n",
    "challenge we’ll introduce a new distribution called the **t-distribution**.\n",
    "\n",
    "Earlier, for normal model, we used the following formula to calculate the 95% confidence interval -\n",
    "\n",
    "$$point\\;estimate\\;\\pm\\;z_{95}*SE$$\n",
    "\n",
    "We revise the above formula with slight modification -\n",
    "\n",
    "$$point\\;estimate\\;\\pm\\;t_{df,95}*SE$$\n",
    "\n",
    "In a sense, both formulae are exactly the same except for one difference: in former case, the distribution was normal while in later case, the distribution is t-distribution. \n",
    "\n",
    "Consider following data -\n",
    "\n",
    "|n|$\\bar{x}$|std|min|max|\n",
    "|---|----|---|----|----|\n",
    "|19|4.4|2.3|1.7|9.2|\n",
    "\n"
   ]
  },
  {
   "cell_type": "code",
   "execution_count": 56,
   "metadata": {
    "scrolled": true
   },
   "outputs": [
    {
     "data": {
      "text/plain": [
       "0.527656187902292"
      ]
     },
     "execution_count": 56,
     "metadata": {},
     "output_type": "execute_result"
    }
   ],
   "source": [
    "se_t = 2.3/np.sqrt(19)\n",
    "se_t"
   ]
  },
  {
   "cell_type": "markdown",
   "metadata": {},
   "source": [
    "Now we find the value of $t_{df,95}$ - "
   ]
  },
  {
   "cell_type": "code",
   "execution_count": 57,
   "metadata": {},
   "outputs": [
    {
     "data": {
      "text/plain": [
       "2.10092204024096"
      ]
     },
     "execution_count": 57,
     "metadata": {},
     "output_type": "execute_result"
    }
   ],
   "source": [
    "from scipy.stats import t\n",
    "t.isf(.025,18) #.025 for each tail -> .05 for both tails. 18= dof"
   ]
  },
  {
   "cell_type": "code",
   "execution_count": 58,
   "metadata": {},
   "outputs": [
    {
     "data": {
      "text/plain": [
       "0.025045202854784177"
      ]
     },
     "execution_count": 58,
     "metadata": {},
     "output_type": "execute_result"
    }
   ],
   "source": [
    "1-t.cdf(2.1,18)"
   ]
  },
  {
   "cell_type": "markdown",
   "metadata": {},
   "source": [
    "Our 95% confidence interval would be - "
   ]
  },
  {
   "cell_type": "code",
   "execution_count": 60,
   "metadata": {},
   "outputs": [
    {
     "data": {
      "text/plain": [
       "(3.291922005405187, 5.508077994594814)"
      ]
     },
     "execution_count": 60,
     "metadata": {},
     "output_type": "execute_result"
    }
   ],
   "source": [
    "4.4-(2.1*se_t),4.4+(2.1*se_t)"
   ]
  },
  {
   "cell_type": "markdown",
   "metadata": {},
   "source": [
    "### t-distribution\n",
    "\n",
    "In the **Sampling Distribution of Mean** section and afterwards, we generated an artificial population `data` and experimented with it. We saw that when our (single) sample was large enough, we were able to estimate the population mean and its standard error. The key point was our sample was large enough. "
   ]
  },
  {
   "cell_type": "code",
   "execution_count": 98,
   "metadata": {},
   "outputs": [
    {
     "data": {
      "text/plain": [
       "(15.024143916986409, 4.0836823216746705)"
      ]
     },
     "execution_count": 98,
     "metadata": {},
     "output_type": "execute_result"
    }
   ],
   "source": [
    "data = np.random.normal(15,4,10000) + np.random.randn(10000)\n",
    "\n",
    "np.mean(data), np.std(data)"
   ]
  },
  {
   "cell_type": "code",
   "execution_count": 102,
   "metadata": {},
   "outputs": [
    {
     "data": {
      "image/png": "[encoded data removed]",
      "text/plain": [
       "<Figure size 576x396 with 1 Axes>"
      ]
     },
     "metadata": {},
     "output_type": "display_data"
    }
   ],
   "source": [
    "plt.hist(data); #nearly normal distribution"
   ]
  },
  {
   "cell_type": "markdown",
   "metadata": {},
   "source": [
    "Below we prepared 2 samples, first being of size 150 and second being of size 5, and computed their mean. You can see that mean of larger sample is very close to population mean. However, the same is not true in case of smaller sample."
   ]
  },
  {
   "cell_type": "code",
   "execution_count": 99,
   "metadata": {},
   "outputs": [
    {
     "data": {
      "text/plain": [
       "(15.322643597112261, 11.747084715344192)"
      ]
     },
     "execution_count": 99,
     "metadata": {},
     "output_type": "execute_result"
    }
   ],
   "source": [
    "large_samp = np.random.choice(data, 150)\n",
    "small_samp = np.random.choice(data, 5)\n",
    "\n",
    "np.mean(large_samp), np.mean(small_samp)"
   ]
  },
  {
   "cell_type": "markdown",
   "metadata": {},
   "source": [
    "In fact, we can plot mean of sample vs sample size as shown below. You can observe that when sample size becomes sufficiently large, its mean approaches population mean within reasonable limit. "
   ]
  },
  {
   "cell_type": "code",
   "execution_count": 100,
   "metadata": {},
   "outputs": [
    {
     "data": {
      "text/plain": [
       "<matplotlib.legend.Legend at 0x8262cf2e50>"
      ]
     },
     "execution_count": 100,
     "metadata": {},
     "output_type": "execute_result"
    },
    {
     "data": {
      "image/png": "[encoded data removed]",
      "text/plain": [
       "<Figure size 576x396 with 1 Axes>"
      ]
     },
     "metadata": {},
     "output_type": "display_data"
    }
   ],
   "source": [
    "mean_list = []\n",
    "\n",
    "for i in range (5,201):\n",
    "    a = np.mean(np.random.choice(data, i))\n",
    "    mean_list.append(a)\n",
    "    \n",
    "plt.plot(range(5,201),mean_list)    \n",
    "plt.hlines(np.mean(data), 0,201, 'r', label = 'Population mean') \n",
    "plt.legend()"
   ]
  },
  {
   "cell_type": "code",
   "execution_count": 117,
   "metadata": {},
   "outputs": [
    {
     "data": {
      "text/plain": [
       "(15.01095373739327, 0.38827266509198666)"
      ]
     },
     "execution_count": 117,
     "metadata": {},
     "output_type": "execute_result"
    }
   ],
   "source": [
    "l = []\n",
    "\n",
    "for i in range(200):\n",
    "    a = np.mean(np.random.choice(data, 100))\n",
    "    l.append(a)\n",
    "    \n",
    "np.mean(l), np.std(l) #mean and std of sampling disttribution of mean"
   ]
  },
  {
   "cell_type": "code",
   "execution_count": 118,
   "metadata": {},
   "outputs": [
    {
     "data": {
      "text/plain": [
       "0.3796318019626927"
      ]
     },
     "execution_count": 118,
     "metadata": {},
     "output_type": "execute_result"
    }
   ],
   "source": [
    "np.std(np.random.choice(data, 100))/10  #standard error calculated with one sample"
   ]
  },
  {
   "cell_type": "markdown",
   "metadata": {},
   "source": [
    "The takeaway is that if our sample size is large eoungh, we can be fairly confident that sample mean and population mean are *almost equal.*\n",
    "\n",
    "But what if our sample size is small? How do we estimate population mean in that case? \n",
    "\n",
    "Additionaly, in normal distributions $95\\%$ of the area of a normal distribution is within $1.96$ standard deviations of the mean. Therefore, if you randomly sampled a value from a normal distribution with a mean of $100$, the probability it would be within $1.96σ$ of $100$ is $0.95$. Similarly, if you sample $N$ values from the population, the probability that the sample mean ($M$) will be within $1.96 σM$ of $100$ is $0.95$.\n",
    "\n",
    "But what if we do not know the standard deviation? You sample $N$ values and compute the sample mean ($s_M$) and estimate the standard error of the mean ($σ_M$) with $s_M$. What is the probability that $M$ will be within $1.96 s_M$ of the population mean ($μ$)? We can't be sure. (this para needs to be understood because we dealt with something like that in confidence interval section)\n",
    "\n",
    "\n",
    "\n",
    "This is where **t-distribution** comes into picture. \n",
    "\n",
    "From Wikipedia - \n",
    "\n",
    "> t- distribution is any member of family of continuous probability distributions that arises when estimating the mean of a normally distributed population in situations where the **sample size is too small and the population standard deviation is unknown**.\n",
    "\n",
    "Note that the normal distribution has relatively more scores in the center of the distribution and the t distribution has relatively more in the tails. The t distribution is therefore leptokurtic. The t distribution approaches the normal distribution as the degrees of freedom increase.\n",
    "\n",
    "Since the t distribution is leptokurtic, the percentage of the distribution within 1.96 standard deviations of the mean is less than the 95% for the normal distribution. Table 1 shows the number of standard deviations from the mean required to contain 95% and 99% of the area of the t distribution for various degrees of freedom. These are the values of t that you use in a confidence interval. The corresponding values for the normal distribution are 1.96 and 2.58 respectively. Notice that with few degrees of freedom, the values of t are much higher than the corresponding values for a normal distribution and that the difference decreases as the degrees of freedom increase.\n",
    "\n",
    "<img src=\"images/t-table.png\" width=\"300\" height=\"400\"/>"
   ]
  },
  {
   "cell_type": "markdown",
   "metadata": {},
   "source": [
    "\n",
    "\n",
    "Suppose we take $n$ samples from a normal distribution with mean $\\mu$ and standard deviation $\\sigma$. Let $\\bar{x}$ and $s$ be the mean and standard deviation of these $n$ samples.  Then the random variable \n",
    "\n",
    "<div class=\"alert alert-block alert-warning\">\n",
    "$$\\frac{\\bar{x}-\\mu}{SE}\\;\\;\\;\\;\\; \\; where \\;SE = \\frac{s}{\\sqrt{n}}$$\n",
    "</div>\n",
    "\n",
    "has a **Student's t-distribution** (or simply t-distribution) with n-1 degrees of freedom.\n",
    "  "
   ]
  },
  {
   "cell_type": "markdown",
   "metadata": {},
   "source": [
    "t-distribution has mean 0 and variance $(v)/(v-2)$ where $v$ is the degree of freedom. "
   ]
  },
  {
   "cell_type": "code",
   "execution_count": 127,
   "metadata": {},
   "outputs": [
    {
     "data": {
      "text/plain": [
       "(-0.1031488941062244, 2.7960443540467077)"
      ]
     },
     "execution_count": 127,
     "metadata": {},
     "output_type": "execute_result"
    }
   ],
   "source": [
    "mu = np.mean(data)\n",
    "\n",
    "t_dist = []\n",
    "for i in range(200):\n",
    "    a = (np.random.choice(data, 5)) #sample size 5 so dof would be 4\n",
    "    m, s = np.mean(a), np.std(a)\n",
    "    t = (m-mu)/(s/np.sqrt(5))\n",
    "    t_dist.append(t)\n",
    "    \n",
    "    \n",
    "np.mean(t_dist), np.var(t_dist)     #close to ideal value"
   ]
  },
  {
   "cell_type": "code",
   "execution_count": 128,
   "metadata": {},
   "outputs": [
    {
     "data": {
      "image/png": "[encoded data removed]",
      "text/plain": [
       "<Figure size 576x396 with 1 Axes>"
      ]
     },
     "metadata": {},
     "output_type": "display_data"
    }
   ],
   "source": [
    "plt.hist(t_dist);"
   ]
  },
  {
   "cell_type": "code",
   "execution_count": 126,
   "metadata": {},
   "outputs": [
    {
     "data": {
      "image/png": "[encoded data removed]",
      "text/plain": [
       "<Figure size 576x396 with 1 Axes>"
      ]
     },
     "metadata": {},
     "output_type": "display_data"
    }
   ],
   "source": [
    "plt.hist(data);"
   ]
  },
  {
   "cell_type": "markdown",
   "metadata": {},
   "source": [
    "\n",
    "See below for t-distribution plots for degree of freedom = [1,5,8]. Normal distribution with mean = 0 and var = 1 has also been shown. It can be seen that with increasing value of dof, the plot resembles more and more to normal distribution plot."
   ]
  },
  {
   "cell_type": "code",
   "execution_count": 132,
   "metadata": {},
   "outputs": [
    {
     "data": {
      "text/plain": [
       "<matplotlib.legend.Legend object at 0x0000007F3DB119D0>"
      ]
     },
     "execution_count": 132,
     "metadata": {},
     "output_type": "execute_result"
    },
    {
     "data": {
      "image/png": "[encoded data removed]",
      "text/plain": [
       "<Figure size 432x288 with 1 Axes>"
      ]
     },
     "metadata": {},
     "output_type": "display_data"
    }
   ],
   "source": [
    "from scipy.stats import t\n",
    "x = np.linspace(-5,5,100)\n",
    "plt.plot(x, norm.pdf(x, loc = 0, scale = 1), '-',color = 'purple', label = 'mean 0 var 1')\n",
    "plt.plot(x, t.pdf(x,1), color = 'blue', label = 'df = 1')\n",
    "plt.plot(x, t.pdf(x,5), color = 'green', label = 'df = 5')\n",
    "plt.plot(x, t.pdf(x,8), color = 'orange', label = 'df = 8')\n",
    "plt.legend()\n",
    "            "
   ]
  },
  {
   "cell_type": "markdown",
   "metadata": {},
   "source": [
    "#### One Sample t-test\n",
    "\n",
    "`t-test` is very similar to the hpyothesis test we saw earlier. In both test, we calculate the `p-value` and compare it with significance level. But there is one point to be noted. Unlike normal distribution, which can have any mean and std, t- distribution always have 0 mean and $\\frac{df}{df-2}$ std (for $df$ >2). So, in normal distribution, we could calculate the `z-score` and use it to find relevant value from normal probability table. Or one can directly `norm.cdf` function to calculate `p-value`\n",
    "\n",
    "But `t-distribution` is always centered around mean = 0, so we first need to calculate the `t-score` and then use it to calculate `p-value` by using `t.cdf` or `t.sf`\n",
    "\n",
    "**Example**\n",
    "The average time for all runners who finished the Cherry Blossom Race in 2006 was 93.29 minutes. The sample mean and sample standard deviation of the sample of 100 runners from the 2012 Cherry Blossom Race are 95.61 and 15.78 minutes,\n",
    "respectively. Recall that the sample size is 100. We're interested in difference between means of both years. What is the `p-value` for the test, and what is your conclusion?\n",
    "\n",
    "**Discussion** We can write hypotheses as follows - \n",
    "\n",
    "$H_0$: The average 10 mile run time was the same for 2006 and 2012. $\\mu$ = 93.29 minutes.\n",
    "\n",
    "$H_A$: The average 10 mile run time for 2012 was different than that of 2006. $\\mu\\;\\neq\n",
    "$ 93.29 minutes."
   ]
  },
  {
   "cell_type": "code",
   "execution_count": 61,
   "metadata": {},
   "outputs": [
    {
     "data": {
      "text/plain": [
       "0.14467449109616456"
      ]
     },
     "execution_count": 61,
     "metadata": {},
     "output_type": "execute_result"
    }
   ],
   "source": [
    "se_run = 15.78/10\n",
    "t_score = (95.61-93.29)/se_run\n",
    "\n",
    "pv = t.sf(t_score,99)\n",
    "pv*2"
   ]
  },
  {
   "cell_type": "code",
   "execution_count": 62,
   "metadata": {},
   "outputs": [
    {
     "data": {
      "text/plain": [
       "0.14150340816602847"
      ]
     },
     "execution_count": 62,
     "metadata": {},
     "output_type": "execute_result"
    }
   ],
   "source": [
    "(1-norm.cdf(95.61,93.29,1.578))*2 \n",
    "#this is very close the pv calculated above and this is expected. \n",
    "#For sample size > 30, t distribution is very close to normal distribution"
   ]
  },
  {
   "cell_type": "markdown",
   "metadata": {},
   "source": [
    "The `p-value` is 0.1447. Because the `p-value` is greater than 0.05, we do not reject the null hypothesis. That is, the data do not provide strong evidence that the average run time for the Cherry Blossom Run in 2012 is any different than the 2006 average."
   ]
  },
  {
   "cell_type": "markdown",
   "metadata": {},
   "source": [
    "#### 2 Sided t-Test\n",
    "<div class=\"alert alert-block alert-warning\">\n",
    "The $p-value$ for the two-sided hypothesis testing problem\n",
    "\n",
    "$H_0 : μ = μ_0$ versus $H_A : μ \\neq μ_0$\n",
    "$$$$\n",
    "based on a data set of n observations with a sample mean $\\overline{x}$ and a sample standard deviation $s$, is\n",
    "$$$$\n",
    "$$p-value = 2 × P(X ≥ |t|)$$\n",
    "$$$$\n",
    "where the random variable $X$ has a $t-distribution$ with $n − 1$ degrees of freedom, and\n",
    "$$$$\n",
    "$$t = \\frac{(\\overline{x}-\\mu_0)}{SE}$$\n",
    "$$$$\n",
    "which is known as the $t-statistic$. This testing procedure is called a **two-sided t-test**.\n",
    "</div>"
   ]
  },
  {
   "cell_type": "markdown",
   "metadata": {},
   "source": [
    "As an illustration of the calculation of a $p-value$ for a two-sided hypothesis testing problem, consider the hypotheses\n",
    "\n",
    "$H_0 : μ = 10.0$ versus $H_A : μ \\neq 10.0$\n",
    "\n",
    "\n",
    "Suppose that a data set is obtained with $n$ = 15, $\\overline{x}$ = 10.6, and $s$ = 1.61. The $t-statistic$ is\n",
    "\n",
    "$t = \\frac{\\sqrt{n}{(\\overline{x}-\\mu_0)}}{s}$\n",
    "\n",
    "=\n",
    "$t = \\frac{\\sqrt{15}(10.6-10)}{1.61}$ = 1.44\n",
    "\n",
    "Therefore any data set with a $t-statistic$ larger than 1.44 or smaller than −1.44 is “worse” than\n",
    "the observed data set. \n",
    "\n",
    "The $p-value$ is\n",
    "\n",
    "$p-value = 2 × P(X ≥ 1.44)$\n",
    "\n",
    "where the random variable $X$ has a $t-distribution$ with $n − 1$ = 14 degrees of freedom. `scipy.stats.t` module can be used to show that this value is\n",
    "\n",
    "p-value = 2 × 0.086 = 0.172\n",
    "\n",
    "![](images\\pvalue.png)"
   ]
  },
  {
   "cell_type": "code",
   "execution_count": 142,
   "metadata": {},
   "outputs": [
    {
     "data": {
      "text/plain": [
       "0.17092448998084908"
      ]
     },
     "execution_count": 142,
     "metadata": {},
     "output_type": "execute_result"
    }
   ],
   "source": [
    "from scipy.stats import t\n",
    "tt = (10.6-10)/np.sqrt((1.61**2)/float(15)) # tt (t-statistic)= 1.4433\n",
    "pval = t.sf(np.abs(tt), 14)*2  #t.sf is survival function (1-'cdf') at x of given RV. \n",
    "pval #same as calculated above "
   ]
  },
  {
   "cell_type": "markdown",
   "metadata": {},
   "source": [
    "If you know the shaded area in the plot shown above, you can calculate corresponding `t` by using inverse survival function of t-distribution -"
   ]
  },
  {
   "cell_type": "code",
   "execution_count": 143,
   "metadata": {},
   "outputs": [
    {
     "data": {
      "text/plain": [
       "1.4394740509241577"
      ]
     },
     "execution_count": 143,
     "metadata": {},
     "output_type": "execute_result"
    }
   ],
   "source": [
    "t.isf(.086, 14)"
   ]
  },
  {
   "cell_type": "markdown",
   "metadata": {},
   "source": [
    "Another example from Scipy docs given below. \n",
    "\n",
    "Note - I am slightly confused. What is the meaning of degree of freedom = 10 in below example? How is degree of freedom 14 (15-1) in above example ?"
   ]
  },
  {
   "cell_type": "code",
   "execution_count": 144,
   "metadata": {},
   "outputs": [
    {
     "data": {
      "text/plain": [
       "(-0.04813218002818482, 1.1518319041316933, 1.3267167353756422)"
      ]
     },
     "execution_count": 144,
     "metadata": {},
     "output_type": "execute_result"
    }
   ],
   "source": [
    "np.random.seed(22629734)\n",
    "from scipy.stats import t\n",
    "x = t.rvs(10, size = 1000) #random variables, degree of freedom 10, size 1000, loc and scale are 0 and 1 respectively\n",
    "\n",
    "m, v, s, k = t.stats(10, moments = 'mvsk') #theoretical values, mean, variance, skew, kurtosis\n",
    "n, (minmax), sm, sv, skew, skurt =  stats.describe(x)\n",
    "np.mean(x), np.std(x), np.var(x)"
   ]
  },
  {
   "cell_type": "code",
   "execution_count": 145,
   "metadata": {},
   "outputs": [
    {
     "data": {
      "text/plain": [
       "(array(0.), array(1.25), array(0.), array(1.))"
      ]
     },
     "execution_count": 145,
     "metadata": {},
     "output_type": "execute_result"
    }
   ],
   "source": [
    "m,v,s,k"
   ]
  },
  {
   "cell_type": "code",
   "execution_count": 146,
   "metadata": {},
   "outputs": [
    {
     "data": {
      "text/plain": [
       "(1000, (-4.81247516246362, 7.0059600611489135), -0.04813218002818482, 1.328044780155798, 0.06661313913231239, 1.991537350719934)"
      ]
     },
     "execution_count": 146,
     "metadata": {},
     "output_type": "execute_result"
    }
   ],
   "source": [
    "n, (minmax), sm, sv, skew, skurt"
   ]
  },
  {
   "cell_type": "code",
   "execution_count": 147,
   "metadata": {},
   "outputs": [
    {
     "data": {
      "text/plain": [
       "[<matplotlib.lines.Line2D object at 0x0000007F3CD65FD0>]"
      ]
     },
     "execution_count": 147,
     "metadata": {},
     "output_type": "execute_result"
    },
    {
     "data": {
      "image/png": "[encoded data removed]",
      "text/plain": [
       "<Figure size 432x288 with 1 Axes>"
      ]
     },
     "metadata": {},
     "output_type": "display_data"
    }
   ],
   "source": [
    "plt.plot(np.sort(x), t.pdf(np.sort(x), 10))"
   ]
  },
  {
   "cell_type": "markdown",
   "metadata": {},
   "source": [
    "**Note:** - `stats.describe` uses the unbiased estimator for the variance, while `np.var` is the biased estimator."
   ]
  },
  {
   "cell_type": "code",
   "execution_count": 148,
   "metadata": {},
   "outputs": [
    {
     "data": {
      "text/plain": [
       "-1.3207760125273018"
      ]
     },
     "execution_count": 148,
     "metadata": {},
     "output_type": "execute_result"
    }
   ],
   "source": [
    "tstats = (sm-m)/np.sqrt(sv/float(1000))\n",
    "tstats"
   ]
  },
  {
   "cell_type": "code",
   "execution_count": 149,
   "metadata": {},
   "outputs": [
    {
     "data": {
      "text/plain": [
       "1.8131214688157116"
      ]
     },
     "execution_count": 149,
     "metadata": {},
     "output_type": "execute_result"
    }
   ],
   "source": [
    "p_val = t.sf(tstats, 999)*2\n",
    "p_val"
   ]
  },
  {
   "cell_type": "markdown",
   "metadata": {},
   "source": [
    "Or we can directly calculate the `t-statistic` and `p value` as shown below -"
   ]
  },
  {
   "cell_type": "code",
   "execution_count": 151,
   "metadata": {},
   "outputs": [
    {
     "data": {
      "text/plain": [
       "Ttest_1sampResult(statistic=-1.3207760125273018, pvalue=0.18687853118428843)"
      ]
     },
     "execution_count": 151,
     "metadata": {},
     "output_type": "execute_result"
    }
   ],
   "source": [
    "stats.ttest_1samp(x, m)\n",
    "\n",
    "#Calculates the T-test for the mean of ONE group of scores.\n",
    "#This is a two-sided test for the null hypothesis that the expected value (mean) of a sample of independent \n",
    "#observations `a` is equal to the given population mean, `popmean`."
   ]
  },
  {
   "cell_type": "markdown",
   "metadata": {},
   "source": [
    "#### One Sided t-Test\n",
    "<div class=\"alert alert-block alert-warning\">\n",
    "The $p-value$ for the two-sided hypothesis testing problem\n",
    "\n",
    "$H_0 : μ \\leq μ_0$ versus $H_A : μ \\geq μ_0$\n",
    "\n",
    "based on a data set of n observations with a sample mean $\\overline{x}$ and a sample standard deviation $s$, is\n",
    "$$$$\n",
    "$$p-value = P(X ≥ t)$$\n",
    "$$$$\n",
    "and the p-value for the one-sided hypothesis testing problem\n",
    "\n",
    "\n",
    "$H_0 : μ \\geq μ_0$ versus $H_A : μ \\leq μ_0$ is\n",
    "$$$$\n",
    "$$p-value = P(X ≤ t)$$\n",
    "$$$$\n",
    "where the random variable $X$ has a $t-distribution$ with $n − 1$ degrees of freedom, and\n",
    "$$$$\n",
    "$$t = \\frac{\\overline{x}-\\mu_0}{SE}$$\n",
    "$$$$\n",
    "which is known as the $t-statistic$. \n",
    "\n",
    "This testing procedure is called a **one-sided t-test**.\n",
    "</div>"
   ]
  },
  {
   "cell_type": "code",
   "execution_count": null,
   "metadata": {},
   "outputs": [],
   "source": []
  },
  {
   "cell_type": "markdown",
   "metadata": {},
   "source": [
    "#### Inference for Paired data\n",
    "\n",
    "Suppose we have a list of books and we want to compare their prices from Amazon and a local bookstore. We can prepare the following table - \n",
    "\n",
    "|Book|Bookstore price|Amazon Price|Bookstore-Amazon diff|\n",
    "|----|---------------|------------|---------------------|\n",
    "|Book1|27.67|27.95|-0.28|\n",
    "|Book2|40.59|31.64|9.45|\n",
    "|..|..|..|..|\n",
    "\n",
    "From this data, we can prepare following data - \n",
    "\n",
    "|$n_{diff}$|$\\bar{x}_{diff}$|$s_{diff}$|\n",
    "|----|----|----|\n",
    "|73.0|12.76|14.26|\n",
    "\n",
    "Now we want to determine whether, on average, there is a di↵erence between Amazon’s price for a book and the bookstore’s price. We write following hypotheses -\n",
    "\n",
    "$H_0$: $\\mu_{diff}\\;=0$ . There is no difference in the average textbook price.\n",
    "\n",
    "$H_A$: $\\mu_{diff}\\;\\neq0$ . There is a difference in average prices."
   ]
  },
  {
   "cell_type": "code",
   "execution_count": 63,
   "metadata": {},
   "outputs": [
    {
     "data": {
      "text/plain": [
       "7.645265623439809"
      ]
     },
     "execution_count": 63,
     "metadata": {},
     "output_type": "execute_result"
    }
   ],
   "source": [
    "ste = 14.26/np.sqrt(73)        #standard error\n",
    "tsc = (12.76-0)/ste            #notice mean diff for null hypothesis is 0\n",
    "tsc"
   ]
  },
  {
   "cell_type": "code",
   "execution_count": 64,
   "metadata": {},
   "outputs": [
    {
     "data": {
      "text/plain": [
       "7.032497838235506e-11"
      ]
     },
     "execution_count": 64,
     "metadata": {},
     "output_type": "execute_result"
    }
   ],
   "source": [
    "pval = t.sf(tsc, 72)\n",
    "pval*2"
   ]
  },
  {
   "cell_type": "markdown",
   "metadata": {},
   "source": [
    "The `p-value` we calculated above is very very small. Since it is less than .05, we reject the null hypothesis. \n",
    "\n",
    "The 95% confidence interval will be as follows - \n",
    "\n"
   ]
  },
  {
   "cell_type": "code",
   "execution_count": 65,
   "metadata": {},
   "outputs": [
    {
     "data": {
      "text/plain": [
       "1.9934635662785831"
      ]
     },
     "execution_count": 65,
     "metadata": {},
     "output_type": "execute_result"
    }
   ],
   "source": [
    "t.isf(.025,72) #t_{df,95}"
   ]
  },
  {
   "cell_type": "code",
   "execution_count": 66,
   "metadata": {},
   "outputs": [
    {
     "data": {
      "text/plain": [
       "(9.438676549556524, 16.081323450443477)"
      ]
     },
     "execution_count": 66,
     "metadata": {},
     "output_type": "execute_result"
    }
   ],
   "source": [
    "12.76-(1.99*ste),12.76+(1.99*ste)"
   ]
  },
  {
   "cell_type": "markdown",
   "metadata": {},
   "source": [
    "We are 95% confident that Amazon is, on average, between USD 9.44 and USD 16.08 cheaper than the bookstore."
   ]
  },
  {
   "cell_type": "markdown",
   "metadata": {},
   "source": [
    "#### Difference of Two Means\n",
    "\n",
    "Here we consider the difference in two population means, $\\mu_1-\\mu_2$, under the condition that data is not paired. We'll use t-distribution with a point estimate of the difference $\\bar{x}_1-\\bar{x}_2$.\n",
    "\n",
    "This section is motivated by questions like “Is there convincing evidence that newborns from mothers who smoke have a different average birth weight than newborns from mothers who don’t smoke?”\n",
    "\n",
    " - **Confidence Interval for a difference of 2 means**\n",
    "\n",
    "We want to study the efficacy of of a treatment known as **ESC** vis a vis traditional treatment for heart related issues. For this we measure heart's pumping capacity before and after the treatment. Positive value means increased capacity which is taken as a sign of improved condition. Now we came up with following stats - \n",
    "\n",
    "|Group|$n$|$\\bar{x}$|$s$|\n",
    "|-----|---|---------|---|\n",
    "|ESCs|9|3.50|5.17|\n",
    "|Control|9|-4.33|2.76|\n",
    "\n",
    "Note that control group is usually the group against which we wish to compare something 'interesting'.\n",
    "\n",
    "The sample difference of two means, $\\bar{x}_1-\\bar{x}_2$, can be modeled using the t-distribution\n",
    "and the standard error - \n",
    "\n",
    "$$\\color{blue}{SE_{\\bar{x}_1-\\bar{x}_2} = \\sqrt{\\frac{s_1^2}{n_1}+\\frac{s_2^2}{n_2}}}$$\n",
    "\n",
    "when each sample mean can itself be modeled using a t-distribution and the samples are independent. To calculate the degrees of freedom, use statistical software or the smaller of ${n_1}-1$ and ${n_2}-1$ ."
   ]
  },
  {
   "cell_type": "code",
   "execution_count": 67,
   "metadata": {},
   "outputs": [
    {
     "data": {
      "text/plain": [
       "1.953529569209992"
      ]
     },
     "execution_count": 67,
     "metadata": {},
     "output_type": "execute_result"
    }
   ],
   "source": [
    "s_e = np.sqrt(((5.17)**2)/9+((2.76)**2)/9)\n",
    "s_e"
   ]
  },
  {
   "cell_type": "code",
   "execution_count": 68,
   "metadata": {},
   "outputs": [
    {
     "data": {
      "text/plain": [
       "2.306004135033371"
      ]
     },
     "execution_count": 68,
     "metadata": {},
     "output_type": "execute_result"
    }
   ],
   "source": [
    "t.isf(.025,8) #t_{df,8}"
   ]
  },
  {
   "cell_type": "markdown",
   "metadata": {},
   "source": [
    "95% Confidence interval -"
   ]
  },
  {
   "cell_type": "code",
   "execution_count": 69,
   "metadata": {},
   "outputs": [
    {
     "data": {
      "text/plain": [
       "(3.3368819908170186, 12.32311800918298)"
      ]
     },
     "execution_count": 69,
     "metadata": {},
     "output_type": "execute_result"
    }
   ],
   "source": [
    "x1x2 = 3.50-(-4.33) #point estimate of mean difference\n",
    "\n",
    "x1x2 - 2.3*(s_e),x1x2 + 2.3*(s_e)"
   ]
  },
  {
   "cell_type": "markdown",
   "metadata": {},
   "source": [
    "We are 95% confident that embryonic stem cells (ESCs) improve the heart’s pumping function in sheep that have suff\n",
    "ered a heart attack by 3.32% to 12.34%.\n",
    "\n",
    "???How do I find exact value of dof for above case???"
   ]
  },
  {
   "cell_type": "markdown",
   "metadata": {},
   "source": [
    " - **Hypothesis Tests based on a difference of in Means**\n",
    " \n",
    "A survey was conducted to study the effect of smoking on weights of newborns. The survey was conducted on 150 women, of which 100 were non-smoker and 50 were smokers. Following is the summary of survey - \n",
    "\n",
    "|-|smoker|non smoker|\n",
    "|-----|-----|-------|\n",
    "|mean|6.78|7.18|\n",
    "|std|1.43|1.60|\n",
    "|sample size|50|100|\n",
    "\n",
    "Null hypothesis represents case of no difference.\n",
    "\n",
    "$H_0$: There is no difference between avg birth weights of both groups. That is, $\\mu_s = \\mu_{ns}$\n",
    "\n",
    "$H_A$: There is difference between avg birth weights of both groups. That is, $\\mu_s \\neq \\mu_{ns}$\n",
    "\n",
    "For given data, point estimate will be - \n",
    "\n",
    "$\\mu_{ns}-\\mu_s$ = .40\n",
    "\n",
    "Now we calculate the SE and t-score :-"
   ]
  },
  {
   "cell_type": "code",
   "execution_count": 70,
   "metadata": {},
   "outputs": [
    {
     "data": {
      "text/plain": [
       "0.2578720613017238"
      ]
     },
     "execution_count": 70,
     "metadata": {},
     "output_type": "execute_result"
    }
   ],
   "source": [
    "np.sqrt(((1.60*1.60)/100)+((1.43*1.43)/50))"
   ]
  },
  {
   "cell_type": "code",
   "execution_count": 71,
   "metadata": {},
   "outputs": [
    {
     "data": {
      "text/plain": [
       "1.5515903801396433"
      ]
     },
     "execution_count": 71,
     "metadata": {},
     "output_type": "execute_result"
    }
   ],
   "source": [
    "tscore = (.40-0)/.2578\n",
    "tscore"
   ]
  },
  {
   "cell_type": "markdown",
   "metadata": {},
   "source": [
    "Taking degree of freedom as 49 (smaller of 99 and 49), we calculate 2 sided `p-value` -"
   ]
  },
  {
   "cell_type": "code",
   "execution_count": 72,
   "metadata": {},
   "outputs": [
    {
     "data": {
      "text/plain": [
       "0.12719580570131486"
      ]
     },
     "execution_count": 72,
     "metadata": {},
     "output_type": "execute_result"
    }
   ],
   "source": [
    "t.sf(tscore,49)*2"
   ]
  },
  {
   "cell_type": "markdown",
   "metadata": {},
   "source": [
    "This `p-value` is greater than the signiicance level of .05 so we fail to reject the null hypothesis. That is, there is not enough evidence to claim that there is difference between average wt of newborns from each group.\n",
    "\n",
    "**Caution** Does above conclusion mean that smoking and newborn weights are unrelated?\n",
    "\n",
    "Absolutely not. It is possible that there is some difference but we did not detect it. If there is a\n",
    "difference, we made a Type 2 Error. Notice: we also don’t have enough information to, if there is an actual\n",
    "difference, confidently say which direction that difference would be in.\n",
    "\n",
    "If we made a Type 2 Error and there is a difference, what could we have done differently in data collection to be more likely to detect the difference?\n",
    "\n",
    "We could have collected more data. If the sample sizes are larger, we tend to have a better shot at\n",
    "finding a difference if one exists."
   ]
  },
  {
   "cell_type": "markdown",
   "metadata": {},
   "source": [
    " - **Case Study : Two Versions of a Course Exam**\n",
    " \n",
    "Below is the data - \n",
    "\n",
    "|Version|n|mean|std|min|max|\n",
    "|---|---|---|---|--|--|\n",
    "|A|30|79.4|14|45|100|\n",
    "|B|27|74.1|20|32|100|\n",
    "\n",
    "Now, we would like to evaluate whether the difference observed in the groups is so large that it provides convincing\n",
    "evidence that Version B was more difficult (on average) than Version A.\n",
    "\n",
    "Null hypothesis represents case of no difference.\n",
    "\n",
    "$H_0$: There is no difference between avg birth weights of both groups. That is, $\\mu_A = \\mu_B$\n",
    "\n",
    "$H_A$: There is difference between avg birth weights of both groups. That is, $\\mu_A \\neq \\mu_B$\n",
    "\n",
    "\n",
    "\n",
    "Our point estimate $\\bar{x}_A-\\bar{x}_B$ = 79.4-74.1 = 5.3\n",
    "\n",
    "Calculating SE - "
   ]
  },
  {
   "cell_type": "code",
   "execution_count": 73,
   "metadata": {},
   "outputs": [
    {
     "data": {
      "text/plain": [
       "4.620405625932441"
      ]
     },
     "execution_count": 73,
     "metadata": {},
     "output_type": "execute_result"
    }
   ],
   "source": [
    "np.sqrt(((14*14)/30)+((20*20)/27))"
   ]
  },
  {
   "cell_type": "code",
   "execution_count": 74,
   "metadata": {},
   "outputs": [
    {
     "data": {
      "text/plain": [
       "1.147186147186147"
      ]
     },
     "execution_count": 74,
     "metadata": {},
     "output_type": "execute_result"
    }
   ],
   "source": [
    "#t-score \n",
    "\n",
    "t_s = (5.3 - 0)/4.62\n",
    "t_s"
   ]
  },
  {
   "cell_type": "code",
   "execution_count": 75,
   "metadata": {},
   "outputs": [
    {
     "data": {
      "text/plain": [
       "0.2617520294994035"
      ]
     },
     "execution_count": 75,
     "metadata": {},
     "output_type": "execute_result"
    }
   ],
   "source": [
    "# 2 sided p-value\n",
    "2*t.sf(t_s,26)"
   ]
  },
  {
   "cell_type": "markdown",
   "metadata": {},
   "source": [
    "Calculated `p-value` is greater than .05, we do not reject null hypothesis."
   ]
  },
  {
   "cell_type": "markdown",
   "metadata": {},
   "source": [
    "##### Pooled Standard Deviation Estimate \n",
    "Occasionally, two populations will have standard deviations that are so similar that they can\n",
    "be treated as identical. In such cases, we can make the t-distribution approach slightly more precise by using a pooled standard deviation.\n",
    "\n",
    "The **pooled standard deviation** of two groups is a way to use data from both\n",
    "samples to better estimate the standard deviation and standard error. If s1 and s2 are\n",
    "the standard deviations of groups 1 and 2 and there are good reasons to believe that the\n",
    "population standard deviations are equal, then we can obtain an improved estimate of the\n",
    "group variances by pooling their data:\n",
    "\n",
    "$$\\color{blue}{s_{pooled}^2 = \\frac{s_1^2\\times(n-1)+s_2^2\\times(n-2)}{n_1+n_2-2}}$$\n",
    "\n",
    "where $n_1$ and $n_2$ are the sample sizes, as before. To use this new statistic, we substitute $s^2_{pooled}$ in place of $s_1^2$ and $s^2_2$ in the standard error formula, and we use an updated formula for the degrees of freedom:\n",
    "\n",
    "$$\\color{blue}{df = n_1 + n_2 − 2}$$"
   ]
  },
  {
   "cell_type": "markdown",
   "metadata": {},
   "source": [
    "#### Sampling Distribution of Difference between Means\n",
    "\n",
    "The sampling distribution of the difference between means can be thought of as the distribution that would result if we repeated the following three steps over and over again: (1) sample n1 scores from Population 1 and n2 scores fromf Population 2, (2) compute the means of the two samples($M_1$ and $M_2$), and (3) compute the difference between means, \n",
    "$M_1$ and $M_2$. The distribution of the differeces  between means is the sampling distribution of difference between means. \n",
    "\n",
    "As you might expect, the mean of the sampling distribution of difference between mean is:\n",
    "\n",
    "$$\\mu_{M_1-M_2}=\\mu_{1}-\\mu_{2}$$\n",
    "\n",
    "which says that the mean of the distribution of differences between sample means\n",
    "is equal to the difference between population means. For example, say that the\n",
    "mean test score of all 12-year-olds in a population is 34 and the mean of 10-year- olds is 25. If numerous samples were taken from each age group and the mean difference computed each time, the mean of these numerous differences between sample means would be $34 - 25 = 9$.\n",
    "\n",
    "From the variance sum law, we know that:\n",
    "\n",
    "$$\\sigma^2_{M_1-M_2}=\\sigma^2_{M_1}+\\sigma^2_{M_2}$$\n",
    "\n",
    "which says that the variance of the sampling distribution of the difference between means is equal to the variance of the sampling distribution of the mean for Population 1 plus the variance of the sampling distribution of the mean for Population 2. Recall the formula for the variance of the sampling distribution of the mean:\n",
    "\n",
    "$$variance\\;of\\;sampling\\;distribution\\;of\\;mean = \\frac{{\\sigma}^2}{N}$$\n",
    "\n",
    "Since we have two populations and two samples sizes, we need to distinguish between the two variances and sample sizes. We do this by using the subscripts 1 and 2. Using this convention, we can write the formula for the variance of the sampling distribution of the difference between means as:\n",
    "\n",
    "$$\\sigma^2_{M_1-M_2}=\\frac{\\sigma^2_{1}}{n_1}+\\frac{\\sigma^2_{2}}{n_2}$$\n",
    "\n",
    "Since the standard error of a sampling distribution is the standard deviation of the sampling distribution, the standard error of the difference between means is:\n",
    "\n",
    "$$\\sigma_{M_1-M_2}=\\sqrt{\\frac{\\sigma^2_{1}}{n_1}+\\frac{\\sigma^2_{2}}{n_2}}$$"
   ]
  },
  {
   "cell_type": "markdown",
   "metadata": {},
   "source": [
    "**Note**\n",
    "\n",
    "Rest of the chapter has been skipped (OpenIntro Statistics)"
   ]
  },
  {
   "cell_type": "markdown",
   "metadata": {},
   "source": [
    "### Inference for Categorical Data\n",
    "\n",
    "Based on Chapter 6 of OpenIntro Statistics\n",
    "\n",
    "A sample proportion can be described as a sample mean. If we represent each “success” as a `1` and each “failure” as a `0`, then the sample proportion is the mean of these numerical outcomes:\n",
    "\n",
    "$$\\color{blue}{\\hat{p} =\\frac{0+1+1+0+1+0+---+1}{n}}$$\n",
    "\n",
    "The distribution of $\\hat{p}$ is nearly normal when the distribution of `0`’s and `1`’s is not too strongly skewed for the sample size. The most common guideline for sample size and skew when working with proportions is to ensure that we expect to observe a minimum number of successes (`1`’s) and failures (`0`’s), typically at least 10 of each. \n",
    "\n",
    "If\n",
    "\n",
    " - sample observations are independent, and\n",
    " - we see at least 10 cases of both `1`s and `0`s in our sample\n",
    " \n",
    "then sampling distribution of $\\hat{p}$ is nearly normal with the mean $p$ and and standard error\n",
    "\n",
    "$$\\color{blue}{SE_p = \\sqrt{\\frac{p(1-p)}{n}}}$$\n",
    "\n",
    "\n",
    "Typically we don’t know the true proportion, $p$, so we substitute some value to check    \n",
    "conditions and to estimate the standard error. For confidence intervals, usually the sample\n",
    "proportion $\\hat{p}$ is used to check the success-failure condition and compute the standard error.\n",
    "For hypothesis tests, typically the null value – that is, the proportion claimed in the null\n",
    "hypothesis – is used in place of $p$.\n",
    "\n",
    "Note that in earlier parts, we actually used standard deviation of sampling distribution to calculate SE. Here we are using different approach. "
   ]
  },
  {
   "cell_type": "markdown",
   "metadata": {},
   "source": [
    "#### Confidence Interval for a Proportion\n",
    "\n",
    "During Ebola virus outbreak, a doctor in New York city who had been treating Ebola patients was subsequently diagnosed with Ebola. Soon thereafter, a survey found that 82% respondents (out of 1042 participants) favored the 21-day mandatory  quarantine for any one who has come into contact with a Ebola patient.\n",
    "\n",
    "In this case, our point estimate is sampling proportion, $\\hat{p}$, with value of .82 for sample size of 1042.\n",
    "\n",
    "Let us caculate the standard error of proportion - \n"
   ]
  },
  {
   "cell_type": "code",
   "execution_count": 76,
   "metadata": {},
   "outputs": [
    {
     "data": {
      "text/plain": [
       "0.011901708775845125"
      ]
     },
     "execution_count": 76,
     "metadata": {},
     "output_type": "execute_result"
    }
   ],
   "source": [
    "sep = np.sqrt((.82*(1-.82))/1042)\n",
    "sep"
   ]
  },
  {
   "cell_type": "markdown",
   "metadata": {},
   "source": [
    "Now we can calculate the 95% confidence interval using the formula from chapter 4 - "
   ]
  },
  {
   "cell_type": "code",
   "execution_count": 78,
   "metadata": {},
   "outputs": [
    {
     "data": {
      "text/plain": [
       "(0.7966726507993435, 0.8433273492006564)"
      ]
     },
     "execution_count": 78,
     "metadata": {},
     "output_type": "execute_result"
    }
   ],
   "source": [
    ".82- (1.96*sep),.82+(1.96*sep)"
   ]
  },
  {
   "cell_type": "markdown",
   "metadata": {},
   "source": [
    "So we are 95% sure that the true proportion of New York adults who favored mandatory quarantine was between 79.67% to 84.33%."
   ]
  },
  {
   "cell_type": "markdown",
   "metadata": {},
   "source": [
    "\n",
    "#### Hypothesis Testing for a proportion\n",
    "\n",
    "A simple random sample of 1028 US adults in 2013 found that 56% support nuclear arm reduction. Does the provide evidence for the claim that majority of Americans are in favor of nuclear arm reduction with significance level of .05?\n",
    "\n",
    "Our hypotheses are -\n",
    "\n",
    "$H_0$: $P$ = 0.50\n",
    "\n",
    "$H_A$: $P\\;\\gt$ 0.50\n",
    "\n",
    "Note that this is one sided hypothesis test.\n",
    "\n",
    "First calculate the standard error - \n"
   ]
  },
  {
   "cell_type": "code",
   "execution_count": 79,
   "metadata": {},
   "outputs": [
    {
     "data": {
      "text/plain": [
       "0.015594571538795133"
      ]
     },
     "execution_count": 79,
     "metadata": {},
     "output_type": "execute_result"
    }
   ],
   "source": [
    "#important- unlike CI, the value of 'p' is of null hypothesis rather than of sample value.  \n",
    "sep = np.sqrt((.5*(1-.5))/1028)\n",
    "sep"
   ]
  },
  {
   "cell_type": "code",
   "execution_count": 80,
   "metadata": {},
   "outputs": [
    {
     "data": {
      "text/plain": [
       "3.750000000000003"
      ]
     },
     "execution_count": 80,
     "metadata": {},
     "output_type": "execute_result"
    }
   ],
   "source": [
    "zscore = (.56-.5)/.016\n",
    "zscore"
   ]
  },
  {
   "cell_type": "code",
   "execution_count": 81,
   "metadata": {},
   "outputs": [
    {
     "data": {
      "text/plain": [
       "0.0001"
      ]
     },
     "execution_count": 81,
     "metadata": {},
     "output_type": "execute_result"
    }
   ],
   "source": [
    "pvalue = norm.sf(3.75)\n",
    "np.round(pvalue,4)\n",
    "\n",
    "#alternatively, use norm.sf(.56,.5,.015) to directly calculate pvalue"
   ]
  },
  {
   "cell_type": "markdown",
   "metadata": {},
   "source": [
    "This `pvalue` (= 0.0001) is way less than .05. This means Either null hpyothesis is false or this is unusually rare sample. That is, our sample doesn't support the null hypothesis. "
   ]
  },
  {
   "cell_type": "code",
   "execution_count": 82,
   "metadata": {},
   "outputs": [
    {
     "data": {
      "text/plain": [
       "<matplotlib.legend.Legend object at 0x0000007F3D2A0580>"
      ]
     },
     "execution_count": 82,
     "metadata": {},
     "output_type": "execute_result"
    },
    {
     "data": {
      "image/png": "[encoded data removed]",
      "text/plain": [
       "<Figure size 576x396 with 1 Axes>"
      ]
     },
     "metadata": {},
     "output_type": "display_data"
    }
   ],
   "source": [
    "x = np.linspace(0,1,100)\n",
    "plt.plot(x,norm.pdf(x,.5,.015))\n",
    "plt.vlines(.56,0,10, label = 'Sample praportion')\n",
    "plt.legend()"
   ]
  },
  {
   "cell_type": "markdown",
   "metadata": {},
   "source": [
    "##### Choosing a sample size when estimating a proportion\n",
    "\n",
    "When collecting data, we choose a sample size suitable for the purpose of the study. Often\n",
    "times this means choosing a sample size large enough that the **margin of error** – which is\n",
    "the part we add and subtract from the point estimate in a confidence interval – is sufficiently\n",
    "small that the sample is useful. More explicitly, our task is to find a sample size **`n`** so that\n",
    "the sample proportion is within some margin of error **`m`** of the actual proportion with a certain level of confidence.\n",
    "\n",
    "**Example - **\n",
    "A university newspaper is conducting a survey to determine what\n",
    "fraction of students support a 200 dollar per year increase in fees to pay for a new football\n",
    "stadium. How big of a sample is required to ensure the margin of error is smaller\n",
    "than 0.04 using a 95% confidence level?\n",
    "\n",
    "margin of error for 95% confidence = 1.96 * $\\sqrt{\\frac{p(1-p)}{n}}$\n",
    "\n",
    "Our goal is to find the smallest sample size n so that this margin of error is smaller\n",
    "than `m` = 0.04. Here both `n` and `p` are unknown. It shouldn't be too hard to see that $p(1-p)$ is highest when `p` = .5.\n",
    "This means with `p` =.5, we'll get the highest margin of error. If this margin of error is less than specified `m`, then *any margin of error will be less than `m`*. So `p` = .5 represents the *worst case scenario*. \n",
    "\n",
    "We have following inequality - \n",
    "\n",
    "$$1.96 * \\sqrt{\\frac{p(1-p)}{n}} \\lt .04$$\n",
    "\n",
    "Solving for `p` = .5, we se that $n \\gt 600.25$\n",
    "\n",
    "We would need over 600.25 participants, which means we need 601 participants or more, to ensure the sample proportion is within 0.04 of the true proportion with 95% confidence."
   ]
  },
  {
   "cell_type": "markdown",
   "metadata": {},
   "source": [
    "##### Difference of two proportions\n",
    "\n",
    "We would like to make conclusions about the di↵erence in two population proportions: $p_1 − p_2$. In our investigations, we first identify a reasonable point estimate of $p_1 − p_2$ based on the sample. You may have already guessed its form: $\\hat{p_1} − \\hat{p_2}$. Next, in each example we verify that the point estimate follows the normal model by checking certain conditions. Finally, we compute the estimate’s standard error and apply our inferential framework.\n",
    "\n",
    " - **Sample  distribution of the difference of two proportions**\n",
    " \n",
    "The Standard Error of the Difference in sample proportions is\n",
    "\n",
    "$$SE_{\\hat{p_1}-\\hat{p_2}} = \\sqrt{{SE}^2_{\\hat{p}_1}+{SE}^2_{\\hat{p}_2}} = \\sqrt{\\frac{p_1(1-p_1)}{n_1}+\\frac{p_2(1-p_2)}{n_2}}$$\n",
    "\n",
    "where $p_1$ and $p_2$ represent the population proportions, and $n_1$ and $n_2$ represent\n",
    "the sample sizes.\n",
    "\n",
    " - **Confidence interval for `p1-p2`**\n",
    " \n",
    "Consider following example of a survey question - \n",
    "\n",
    "*As you may know, by 2014 nearly all Americans will be required to have\n",
    "health insurance. [People who do not buy insurance will pay a penalty]\n",
    "while [People who cannot afford it will receive financial help from the government].\n",
    "Do you approve or disapprove of this policy?*\n",
    "\n",
    "For each randomly sampled respondent, the statements in brackets were randomized:\n",
    "either they were kept in the order given above, or the two statements were reversed.\n",
    "Following table shows the results of this experiment. Create and interpret a 90% confidence\n",
    "interval of the difference in approval\n",
    "\n",
    "|-|Sample size|Approve(%)|Disapprove(%)|Other|\n",
    "|------------|-------|----------|-----|--|\n",
    "|“people who cannot afford it will receive financial help from the government” is given second|771|47|49|3|\n",
    "|“people who do not buy it will pay a penalty” is given second|732|34|63|3|\n",
    "\n",
    "Because all conditions are met, the normal model can be used for\n",
    "the point estimate of the difference in support, where $p_1$ corresponds to the original\n",
    "ordering and $p_2$ to the reversed ordering:\n",
    "\n",
    "$$\\hat{p_1}-\\hat{p_2}= 0.47-0.34 =0.13$$\n",
    "\n",
    "$$SE=\\sqrt{\\frac{.47(1-0.47)}{771}+\\frac{.34(1-0.34)}{732}} = 0.025$$\n",
    "\n",
    "For a 90% Confidence Interval, we use $z-score$ of 1.65:"
   ]
  },
  {
   "cell_type": "code",
   "execution_count": 83,
   "metadata": {},
   "outputs": [
    {
     "data": {
      "text/plain": [
       "(0.08875, 0.17125)"
      ]
     },
     "execution_count": 83,
     "metadata": {},
     "output_type": "execute_result"
    }
   ],
   "source": [
    "\n",
    "a = .13-(1.65*(.025)) \n",
    "b = .13+(1.65*(.025))\n",
    "a,b\n",
    "                               "
   ]
  },
  {
   "cell_type": "markdown",
   "metadata": {},
   "source": [
    "We are 90% confident that the approval rating for the 2010 healthcare law changes\n",
    "between 9% and 17% due to the ordering of the two statements in the survey question."
   ]
  },
  {
   "cell_type": "markdown",
   "metadata": {},
   "source": [
    " - **Hpyothesis test for p1-p2**\n",
    "\n",
    "A 30-year study was conducted with nearly 90,000 female participants. \n",
    "\n",
    "If mammograms are much more effective than non-mammogram breast cancer exams, then we would expect to see additional deaths from breast cancer in the control group. On the other hand, if mammograms are not as effective as regular breast cancer exams, we would expect to see an increase in breast cancer deaths in the mammogram group.\n",
    "\n",
    "\n",
    "|-|Death from breast cancer?||\n",
    "|-----|-----------|------|\n",
    "| |$Yes$|$No$|\n",
    "|Mammogram|500|44425|\n",
    "|Control|505|44405|\n",
    "\n",
    "\n",
    "$H_0$: the breast cancer death rate for patients screened using mammograms is the same as the breast\n",
    "cancer death rate for patients in the control, $p_{mgm}-p_{ctrl} = 0$  \n",
    "\n",
    "$H_A$: the breast cancer death rate for patients screened using mammograms is di↵erent than the breast cancer death rate for patients in the control, $p_{mgm}-p_{ctrl} \\neq 0$\n",
    "\n",
    "The details are very similar to that of confidence intervals. However,\n",
    "this time we use a special proportion called the pooled proportion to check the successfailure\n",
    "condition:\n",
    "\n",
    "$$\\hat{p} = \\frac{total\\;count \\;of\\; ppl\\; who\\; died\\; of\\; breast\\; cancer}{total\\; patients\\; in \\;the \\;study}$$\n",
    "\n",
    "$$\\hat{p}= \\frac{500+505}{500+44425+505+44405}=0.0112$$\n",
    "\n",
    "**--skipped--**"
   ]
  },
  {
   "cell_type": "markdown",
   "metadata": {},
   "source": [
    "##### Testing for goodness of fit using chi-square \n",
    "\n",
    "From a population, we took a sample of jurors consisting of 275 observations. We also have knowledge about population as shown below - \n",
    "\n",
    "|Race|White|Black|Hispanic|Other|Total|\n",
    "|----|-----|-----|--------|-----|-----|\n",
    "|Representation in juries|205|26|25|19|275|\n",
    "|Registered Votes|.72|.07|.12|.09|1|\n",
    "\n",
    "While the proportions in the juries do not precisely represent the population proportions,\n",
    "it is unclear whether these data provide convincing evidence that the sample is not\n",
    "representative. If the jurors really were randomly sampled from the registered voters, we\n",
    "might expect small differences due to chance. However, unusually large differences may\n",
    "provide convincing evidence that the juries were not representative\n",
    "\n",
    "Based on this data, we can prepare another table which shows observed count vs expected count of jurors. \n",
    "\n",
    "\n",
    "|Race|White|Black|Hispanic|Other|Total|\n",
    "|----|-----|-----|--------|-----|-----|\n",
    "|Representation in juries|205|26|25|19|275|\n",
    "|Expected Count|198|19.25|33|24.75|275|\n",
    "\n",
    "The sample proportion represented from each race among the 275 jurors was not a\n",
    "precise match for any ethnic group. While some sampling variation is expected, we would\n",
    "expect the sample proportions to be fairly similar to the population proportions if there\n",
    "is no bias on juries. We need to test whether the differences are strong enough to provide\n",
    "convincing evidence that the jurors are not a random sample. These ideas can be organized\n",
    "into hypotheses:\n",
    "\n",
    "$H_0$: The jurors are a random sample, i.e. there is no racial bias in who serves on a jury,\n",
    "and the observed counts reflect natural sampling fluctuation.\n",
    "\n",
    "$H_A$: The jurors are not randomly sampled, i.e. there is racial bias in juror selection.\n",
    "\n",
    " - **The chi-square test statistic**\n",
    " \n",
    " \n",
    "In previous hypothesis tests, we constructed a test statistic of the following form:\n",
    "$$\\frac{point\\; estimate − null\\; value}{SE \\;of\\;point\\;estimate}$$ \n",
    "\n",
    "Our strategy will be to first compute the difference between the observed counts and\n",
    "the counts we would expect if the null hypothesis was true, then we will standardize the\n",
    "difference:\n",
    "\n",
    "\n",
    "$$Z_1 = \\frac{observed\\; white \\;count − null \\;white\\; count}\n",
    "{SE \\;of \\;observed\\; white\\; count} = \\frac{205-198}{\\sqrt{198}} = 0.50$$\n",
    "\n",
    "\n",
    "Similarily for black population - $Z_2$ = 1.54, for Hispanic, $Z_3$ = -1.39 and for other, $Z_2$ = -1.16.\n",
    "\n",
    "We would like to use a single test statistic to determine if these four standardized di↵erences\n",
    "are irregularly far from zero. That is, Z1, Z2, Z3, and Z4 must be combined somehow to\n",
    "help determine if they – as a group – tend to be unusually far from zero. A first thought\n",
    "might be to take the absolute value of these four standardized di↵erences and add them up:\n",
    "\n",
    "$|Z_1| + |Z_2| + |Z_3| + |Z_4|$ = 4.58\n",
    "\n",
    "Indeed, this does give one number summarizing how far the actual counts are from what\n",
    "was expected. However, it is more common to add the squared values:\n",
    "\n",
    "$Z_1^2 + Z_2^2 + Z_3^2+ Z_4^2$ = 5.89\n",
    "\n",
    "We essentially calculated $\\chi^2$ above. In general -\n",
    "\n",
    "$$\\chi^2 = \\sum_i{\\frac{({observed\\;{count}_i-null\\;{count}_i})^2}{null\\;{count}_i}}$$\n",
    "\n",
    "we will see that if the null hypothesis is true, then $\\chi^2$\n",
    "follows a new distribution called a **chi-square distribution**. Using this distribution, we will\n",
    "be able to obtain a `p-value` to evaluate the hypotheses.\n",
    "\n",
    "##### The chi-square distribution\n",
    "\n",
    "The chi-square distribution is sometimes used to characterize data sets and statistics that are always positive and typically right skewed. Recall the normal distribution had two parameters – mean and standard deviation – that could be used to describe its exact characteristics. The chi-square distribution has just one parameter called **degrees of\n",
    "freedom (df)**, which influences the shape, center, and spread of the distribution.\n",
    "\n",
    "We determined that a large $\\chi^2$ value would suggest strong evidence favoring the alternative hypothesis: that there was racial bias. However, we could not quantify what the chance was of observing such a large test statistic ($\\chi^2$ = 5.89) if the null hypothesis actually was true. This is where the chi-square distribution becomes useful. If the null hypothesis\n",
    "was true and there was no racial bias, then $\\chi^2$ would follow a chi-square distribution, with three degrees of freedom in this case. Under certain conditions, the statistic $\\chi^2$ follows a chi-square distribution with $k − 1$ degrees of freedom, where $k$ is the number of bins."
   ]
  },
  {
   "cell_type": "code",
   "execution_count": 86,
   "metadata": {},
   "outputs": [
    {
     "data": {
      "text/plain": [
       "0.1170863469934531"
      ]
     },
     "execution_count": 86,
     "metadata": {},
     "output_type": "execute_result"
    }
   ],
   "source": [
    "#Calculating pvalue. df is 3. \n",
    "from scipy.stats import chi2\n",
    "\n",
    "1-chi2.cdf(5.89,3)"
   ]
  },
  {
   "cell_type": "markdown",
   "metadata": {},
   "source": [
    "Since this value is bigger than the usual significance limit of .05, we fail to reject null hypothesis. In other words, the data do not provide convinceing evidence of racial bias in the juror selection. "
   ]
  },
  {
   "cell_type": "code",
   "execution_count": 87,
   "metadata": {},
   "outputs": [
    {
     "data": {
      "image/png": "[encoded data removed]",
      "text/plain": [
       "<Figure size 576x396 with 1 Axes>"
      ]
     },
     "metadata": {},
     "output_type": "display_data"
    }
   ],
   "source": [
    "data = np.linspace(0,20,100)\n",
    "r = np.linspace(5.89,20,30)\n",
    "plt.plot(data, chi2.pdf(data,3))\n",
    "plt.fill_between(r, chi2.pdf(r,3), color = 'orange')\n",
    "plt.vlines(5.89,0,chi2.pdf(5.89,3))\n",
    "plt.text(6,.055, '$\\chi^2=5.89$');"
   ]
  },
  {
   "cell_type": "markdown",
   "metadata": {},
   "source": [
    "#### Testing for independence in two-way tables\n",
    "\n",
    "Suppose Google is testing 3 algorithms using a smaple of 10,000 search queries. See following table - \n",
    "\n",
    "|**Algorithm**|Current|Test 1|Test 2|Total|\n",
    "|-------------|-------|------|------|-----|\n",
    "|**Count**|5000|2500|2500|10000|\n",
    "\n",
    "We can write following hypotheses - \n",
    "\n",
    "$H_0$-The algorithms each perform equally well\n",
    "\n",
    "$H_A$-The algorithms do not perform equally well\n",
    "\n",
    "In this experiment, the explanatory variable is the search algorithm. However, an outcome variable is also needed. This outcome variable should somehow reflect whether the search results align with the user’s interests. One possible way to quantify this is to determine whether (1) the user clicked one of the links provided and did not try a new\n",
    "search, or (2) the user performed a related search. Under scenario (1), we might think that the user was satisfied with the search results. Under scenario (2), the search results probably were not relevant, so the user tried a second search.\n",
    "\n",
    "now the different combinations of two variables are binned in a two-way table. In examining these data, we want to evaluate whether there is strong evidence that at least one algorithm is performing better than the others. To do\n",
    "so, we apply a chi-square test to this two-way table. The ideas of this test are similar to those ideas in the one-way table case. However, degrees of freedom and expected counts are computed a little differently than before.\n",
    "\n",
    "|**Algorithm**|Current|Test 1|Test 2|Total|\n",
    "|-------------|-------|------|------|-----|\n",
    "|**No new search**|3511|1749|1818|7078|\n",
    "|**New search**|1489|751|682|2922|\n",
    "|**Total**|5000|2500|2500|10000|\n",
    "\n",
    "**What is so different about one-way tables and two-way tables?**\n",
    "\n",
    ">A one-way table describes counts for each outcome in a single variable. A two-way\n",
    "table describes counts for combinations of outcomes for two variables. When we\n",
    "consider a two-way table, we often would like to know, are these variables related\n",
    "in any way? That is, are they dependent (versus independent)?\n",
    "\n",
    "The hypothesis test for this Google experiment is really accessing whether there is statistically significant evidence that the choice of the algorithm affects whether a user performs a second research. In other words, the goal is to check whether the `search` variable is independent of `algorithm` variable. "
   ]
  },
  {
   "cell_type": "markdown",
   "metadata": {},
   "source": [
    "**Working**\n",
    "\n",
    "We see that out of total 10,000 observations, 7078 didn't perform new search. That is, 70.78% users didn't perform new search. We'd hope that same %age of users from each group didn't perform new search, provide null hypothesis is true. For example, we'd hope 70.87% (that is 1769.5) users from `Test 1` group didn't perform second search. \n",
    "\n",
    "This way, we can prepare another table which, alongwith observed data, also shows 'expected' data - \n",
    "\n",
    "|-|-|Observed vs (Expected) Counts|.|.|\n",
    "|-------------|-------|------|------|-----|\n",
    "|**Algorithm**|Current|Test 1|Test 2|Total|\n",
    "|**No new search**|3511 (3539)|1749 (1769.5)|1818 (1769.5)|7078|\n",
    "|**New search**|1489 (1461)|751 (730.5)|682 (730.5)|2922|\n",
    "|**Total**|5000|2500|2500|10000|\n",
    "\n",
    "Now we can use the formula for calculating $\\chi^2$ which we mentioned earlier - \n",
    "\n"
   ]
  },
  {
   "cell_type": "code",
   "execution_count": 88,
   "metadata": {},
   "outputs": [
    {
     "data": {
      "text/plain": [
       "6.12032270124296"
      ]
     },
     "execution_count": 88,
     "metadata": {},
     "output_type": "execute_result"
    }
   ],
   "source": [
    "chi_2 = (((3511-3539)**2)/3539)+(((1489-1461)**2)/1461)+(((1749-1769.5)**2)/1769.5)+(((751-730.5)**2)/730.5)+\\\n",
    "(((1818-1769.5)**2)/1769.5)+(((682-730.5)**2)/730.5) \n",
    "chi_2"
   ]
  },
  {
   "cell_type": "markdown",
   "metadata": {},
   "source": [
    "Note that, in this case, degree of freedom will be (no of columns-1)\\*(no of rows -1 ), that is, 2\\*1 = 2. Now we can calculate the `pvalue` -"
   ]
  },
  {
   "cell_type": "code",
   "execution_count": 89,
   "metadata": {},
   "outputs": [],
   "source": [
    "pvalue = 1-chi2.cdf(6.120,2)"
   ]
  },
  {
   "cell_type": "code",
   "execution_count": 90,
   "metadata": {},
   "outputs": [
    {
     "data": {
      "text/plain": [
       "0.04688769521998848"
      ]
     },
     "execution_count": 90,
     "metadata": {},
     "output_type": "execute_result"
    }
   ],
   "source": [
    "pvalue"
   ]
  },
  {
   "cell_type": "markdown",
   "metadata": {},
   "source": [
    "This `pvalue` is less that the usual significance level of .05, so we reject the null hypothesis."
   ]
  },
  {
   "cell_type": "code",
   "execution_count": 92,
   "metadata": {},
   "outputs": [
    {
     "data": {
      "text/html": [
       "<div>\n",
       "<style scoped>\n",
       "    .dataframe tbody tr th:only-of-type {\n",
       "        vertical-align: middle;\n",
       "    }\n",
       "\n",
       "    .dataframe tbody tr th {\n",
       "        vertical-align: top;\n",
       "    }\n",
       "\n",
       "    .dataframe thead th {\n",
       "        text-align: right;\n",
       "    }\n",
       "</style>\n",
       "<table border=\"1\" class=\"dataframe\">\n",
       "  <thead>\n",
       "    <tr style=\"text-align: right;\">\n",
       "      <th></th>\n",
       "      <th>Face</th>\n",
       "      <th>Red</th>\n",
       "      <th>Black</th>\n",
       "      <th>Expected</th>\n",
       "    </tr>\n",
       "  </thead>\n",
       "  <tbody>\n",
       "    <tr>\n",
       "      <th>0</th>\n",
       "      <td>1</td>\n",
       "      <td>6</td>\n",
       "      <td>9</td>\n",
       "      <td>10</td>\n",
       "    </tr>\n",
       "    <tr>\n",
       "      <th>1</th>\n",
       "      <td>2</td>\n",
       "      <td>5</td>\n",
       "      <td>10</td>\n",
       "      <td>10</td>\n",
       "    </tr>\n",
       "    <tr>\n",
       "      <th>2</th>\n",
       "      <td>3</td>\n",
       "      <td>14</td>\n",
       "      <td>12</td>\n",
       "      <td>10</td>\n",
       "    </tr>\n",
       "    <tr>\n",
       "      <th>3</th>\n",
       "      <td>4</td>\n",
       "      <td>15</td>\n",
       "      <td>11</td>\n",
       "      <td>10</td>\n",
       "    </tr>\n",
       "    <tr>\n",
       "      <th>4</th>\n",
       "      <td>5</td>\n",
       "      <td>11</td>\n",
       "      <td>8</td>\n",
       "      <td>10</td>\n",
       "    </tr>\n",
       "    <tr>\n",
       "      <th>5</th>\n",
       "      <td>6</td>\n",
       "      <td>9</td>\n",
       "      <td>10</td>\n",
       "      <td>10</td>\n",
       "    </tr>\n",
       "  </tbody>\n",
       "</table>\n",
       "</div>"
      ],
      "text/plain": [
       "   Face  Red  Black  Expected\n",
       "0     1    6      9        10\n",
       "1     2    5     10        10\n",
       "2     3   14     12        10\n",
       "3     4   15     11        10\n",
       "4     5   11      8        10\n",
       "5     6    9     10        10"
      ]
     },
     "execution_count": 92,
     "metadata": {},
     "output_type": "execute_result"
    }
   ],
   "source": [
    "import pandas as pd\n",
    "data = pd.DataFrame({'Red':[6,5,14,15,11,9],'Black':[9,10,12,11,8,10], 'Face':[1,2,3,4,5,6]}, columns = ['Face', 'Red', 'Black'])\n",
    "data['Expected'] = pd.Series(np.ones(10)*10, dtype = int)\n",
    "data"
   ]
  },
  {
   "cell_type": "code",
   "execution_count": 93,
   "metadata": {},
   "outputs": [
    {
     "data": {
      "text/plain": [
       "8.399999999999999"
      ]
     },
     "execution_count": 93,
     "metadata": {},
     "output_type": "execute_result"
    }
   ],
   "source": [
    "chi_stats = (data['Red']-data['Expected'])**2/data['Expected']\n",
    "sum(chi_stats)"
   ]
  },
  {
   "cell_type": "code",
   "execution_count": 94,
   "metadata": {},
   "outputs": [
    {
     "data": {
      "text/plain": [
       "0.13552570885783255"
      ]
     },
     "execution_count": 94,
     "metadata": {},
     "output_type": "execute_result"
    }
   ],
   "source": [
    "1-chi2.cdf(8.39999,5)"
   ]
  },
  {
   "cell_type": "markdown",
   "metadata": {},
   "source": [
    "### Binomial Distribution\n",
    "\n",
    "Let there be an experiment with only two possible outcomes, say, a and b. Also p(a) = `p` and therefore p(b) = `1- p`. \n",
    "Let there be `n` trials of this experiment and we are interested in event `a` which has a probability of happening `p`. Also, we want to caculate the probability of getting `k` successes out of `n` trials (that is event `a` happens `k` times out of `n` trials). We can calculate the probability by using following formula - \n",
    "\n",
    "<div class=\"alert alert-block alert-warning\">\n",
    "$$prob(k,n,p) = \\begin{pmatrix}\n",
    "n\\\\\n",
    "k\n",
    "\\end{pmatrix}{p^k}{(1-p)^{n-k}}$$\n",
    "</div>\n",
    "where\n",
    "\n",
    "$$\\begin{pmatrix}\n",
    "n\\\\\n",
    "k\n",
    "\\end{pmatrix} = \\frac{n!}{k!(n-k)!}$$\n",
    "\n",
    "\n",
    "$Mean = np$\n",
    "\n",
    "$Variance = np(1-p)$\n",
    "\n",
    "##### Example \n",
    "\n",
    "Suppose we have a bias coin and for this coin, getting head has the probability of .3. Then the probability that we would get 2 heads in 6 trials is calculated as shown below.\n",
    "\n",
    "Here n = 6, k = 2 and p  = .3. By using above formula get the value of .3241. \n",
    "\n",
    "\n",
    "\n"
   ]
  },
  {
   "cell_type": "markdown",
   "metadata": {},
   "source": [
    "### Poisson Distribution\n",
    "\n",
    "This is a discrete probability distribution that expresses the probability of a given number of events occuring in a fixed interval of a time or space if these events occur with a known constant rate and independently of the time since the last event. Let $\\lambda$ be the average rate of event occuring, then for $k$ = 0,1,2.. -\n",
    "\n",
    "$$pmf = \\frac{\\lambda^k{e^{-\\lambda}}}{k!}$$\n",
    "\n",
    "and $$mean = variance  = \\lambda$$\n",
    "\n",
    "**Relation with Binomial Distribution**\n",
    "\n",
    "Poission distribution is just a special case of the binomial - where the number of trials is large and the probability of success in any given one is small.\n",
    "\n",
    "If we define a number \n",
    "\n",
    "$$\\lambda = np \\Rightarrow p = \\frac{\\lambda}{n}$$\n",
    "\n",
    "and let this be the rate of successes for a given duration. It is equal to $np$. That is the number of trials $n$-however many there are-times the chances of success $p$ for each of those trials. \n",
    "\n",
    "From binomial distribution, we have - \n",
    "\n",
    "$$prob(k,n,p) = \\begin{pmatrix}\n",
    "n\\\\\n",
    "k\n",
    "\\end{pmatrix}{p^k}{(1-p)^{n-k}}$$\n",
    "\n",
    "Putting $p = \\frac{\\lambda}{n}$ in above equation and taking the limit for $N \\rightarrow \\; \\infty$, we can get -\n",
    "\n",
    "$$pmf = \\frac{\\lambda^k{e^{-\\lambda}}}{k!}$$"
   ]
  },
  {
   "cell_type": "markdown",
   "metadata": {},
   "source": [
    "#### Degrees of Freedom\n",
    "\n",
    "Some estimates are based on more information than others. For example, an estimate of the variance based on a sample size of 100 is based on more information than an estimate of the variance based on a sample size of 5. The degrees of freedom (df) of an estimate is the number of independent pieces of information on which the estimate is based.\n",
    "As an example, let's say that we know that the mean height of Martians is 6 and wish to estimate the variance of their heights. We randomly sample one Martian and find that its height is 8. Recall that the variance is defined as the mean squared deviation of the values from their population mean. We can compute the squared deviation of our value of 8 from the population mean of 6 to find a single squared deviation from the mean. This single squared deviation from the mean $(8-6)^2 = 4$ is an estimate of the mean squared deviation for all Martians. Therefore, based on this sample of one, we would estimate that the population variance is 4. This estimate is based on a single piece of information and therefore has 1 df. If we sampled another Martian and obtained a height of 5, then we could compute a second estimate of the variance, $(5-6)^2 = 1$. We could then average our two estimates (4 and 1) to obtain an estimate of 2.5. Since this estimate is based on two independent pieces of information, it has two degrees of freedom. The two estimates are independent because they are based on two independently and randomly selected Martians. The estimates would not be independent if after sampling one Martian, we decided to choose its brother as our second Martian.\n",
    "\n",
    "As you are probably thinking, it is pretty rare that we know the population mean when we are estimating the variance. Instead, we have to first estimate the population mean (μ) with the sample mean (M). The process of estimating the mean affects our degrees of freedom as shown below.\n",
    "\n",
    "Returning to our problem of estimating the variance in Martian heights, let's assume we do not know the population mean and therefore we have to estimate it from the sample. We have sampled two Martians and found that their heights are 8 and 5. Therefore M, our estimate of the population mean, is M =  (8 + 5)/2 = 6.5\n",
    "\n",
    "We can now compute two estimates of variance:\n",
    "\n",
    "      Estimate 1 = (8-6.5)2 = 2.25\n",
    "      Estimate 2 = (5-6.5)2 = 2.25"
   ]
  },
  {
   "cell_type": "markdown",
   "metadata": {},
   "source": [
    "\n",
    "Now for the key question: Are these two estimates independent? The answer is no because each height contributed to the calculation of M. Since the first Martian's height of 8 influenced M, it also influenced Estimate 2. If the first height had been, for example, 10, then M would have been 7.5 and Estimate 2 would have been (5-7.5)2 = 6.25 instead of 2.25. The important point is that the two estimates are not independent and therefore we do not have two degrees of freedom. "
   ]
  },
  {
   "cell_type": "markdown",
   "metadata": {},
   "source": [
    "In general, the degrees of freedom for an estimate is equal to the number of values minus the number of parameters estimated en route to the estimate in question. In the Martians example, there are two values (8 and 5) and we had to estimate one parameter (μ) on the way to estimating the parameter of interest ($σ^2$). Therefore, the estimate of variance has 2 - 1 = 1 degree of freedom. If we had sampled 12 Martians, then our estimate of variance would have had 11 degrees of freedom. Therefore, the degrees of freedom of an estimate of variance is equal to N - 1 where N is the number of observations.\n",
    "\n",
    "Recall that the formula for estimating the variance in a sample is:\n",
    "\n",
    "$$s^2 = \\frac{\\Sigma(X-\\overline{x})^2}{n-1}$$\n",
    "\n",
    "The denominator of this formula is the degrees of freedom."
   ]
  },
  {
   "cell_type": "markdown",
   "metadata": {},
   "source": [
    "### Characteristics of Estimators\n",
    "\n",
    "Let's compare two weighing scales. Scale 1 is a very high-tech digital scale and gives essentially the same weight each time you weigh yourself; it varies by at most 0.02 pounds from weighing to weighing. Although this scale has the potential to be very accurate, it is calibrated incorrectly and, on average, overstates your weight by one pound. Scale 2 is a cheap scale and gives very different results from weighing to weighing. However, it is just as likely to underestimate as overestimate your weight. Sometimes it vastly overestimates it and sometimes it vastly underestimates it. However, the average of a large number of measurements would be your actual weight. Scale 1 is biased since, on average, its measurements are one pound higher than your actual weight. Scale 2, by contrast, gives unbiased estimates of your weight. However, Scale 2 is highly variable and its measurements are often very far from your true weight. Scale 1, in spite of being biased, is fairly accurate. Its measurements are never more than 1.02 pounds from your actual weight.\n",
    "\n",
    "#### Bias\n",
    "\n",
    "A statistic is biased if the long-term average value of the statistic is not the parameter it is estimating. More formally, a statistic is biased if the mean of the sampling distribution of the statistic is not equal to the parameter. The mean of the sampling distribution of a statistic is sometimes referred to as the expected value of\n",
    "the statistic.\n",
    "\n",
    "As we saw elsewhere that the sampling distribution of the mean, the mean of the sampling distribution of the (sample) mean is the population mean (μ). Therefore the sample mean is an unbiased estimate of μ. Any given sample mean may underestimate or overestimate μ, but there is no systematic tendency for sample means to either under or overestimate μ.\n",
    "\n",
    "We know that the formula for the variance in a population is - \n",
    "\n",
    "$$\\color{blue}{variance({\\sigma}^2)= \\frac{\\Sigma({x - \\mu})^2}{n}}$$\n",
    "\n",
    "whereas the formula to estimate the variance from a sample is\n",
    "\n",
    "$$\\color{blue}{variance({s}^2) = \\frac{\\Sigma({x - \\overline{x}})^2}{n-1}}$$\n",
    "\n",
    "Notice that the denominators of the formulas are different: $n$ for the population\n",
    "and $n-1$ for the sample. If $n$ is used in the formula for $s^2$, then the estimates tend to\n",
    "be too low and therefore biased. The formula with $n-1$ in the denominator gives an unbiased estimate of the population variance. Note that $n-1$ is the degrees of freedom."
   ]
  },
  {
   "cell_type": "markdown",
   "metadata": {},
   "source": [
    "#### Sampling Variability\n",
    "\n",
    "The sampling variability of a statistic refers to how much the statistic varies from sample to sample and is usually measured by its standard error; the smaller the standard error, the less the sampling variability. For example, the standard error of the mean is a measure of a sampling variability of the mean. Recall that the formula for the standard error of the mean is -  \n",
    " \n",
    " $$\\color{blue}{Standard\\;Error =  \\frac{s}{\\sqrt{n}}}$$\n",
    " \n",
    " for sample standard deviation `s` and number of samples `n`.\n",
    " \n",
    "The larger the sample size ($n$), the smaller the standard error of the mean and therefore the lower the sampling variability.\n",
    "\n",
    "Statistics differ in their sampling variability even with the same sample size. For example, for normal distributions, the standard error of the median is larger than the standard error of the mean. The smaller the standard error of a statistic, the more efficient the statistic. The relative efficiency of two statistics is typically defined as the ratio of their standard errors. However, it is sometimes defined as the ratio of their squared standard errors."
   ]
  },
  {
   "cell_type": "code",
   "execution_count": null,
   "metadata": {},
   "outputs": [],
   "source": []
  }
 ],
 "metadata": {
  "kernelspec": {
   "display_name": "Python 3 (ipykernel)",
   "language": "python",
   "name": "python3"
  },
  "language_info": {
   "codemirror_mode": {
    "name": "ipython",
    "version": 3
   },
   "file_extension": ".py",
   "mimetype": "text/x-python",
   "name": "python",
   "nbconvert_exporter": "python",
   "pygments_lexer": "ipython3",
   "version": "3.9.7"
  }
 },
 "nbformat": 4,
 "nbformat_minor": 4
}
