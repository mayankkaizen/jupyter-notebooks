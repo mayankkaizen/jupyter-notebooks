{
 "cells": [
  {
   "cell_type": "markdown",
   "metadata": {
    "collapsed": true
   },
   "source": [
    "### VARIABLES"
   ]
  },
  {
   "cell_type": "markdown",
   "metadata": {},
   "source": [
    "This section is almost completely copied from Whirlwind Tour of Python because it was so good.\n",
    "Python Variables Are Pointers - Assigning variables in Python is as easy as putting a variable name to the left of the equals (``=``) sign:\n",
    "```python\n",
    "# assign 4 to the variable x\n",
    "x = 4\n",
    "```\n",
    "\n",
    "This may seem straightforward, but if you have the wrong mental model of what this operation does, the way Python works may seem confusing. We'll briefly dig into that here.\n",
    "\n",
    "In many programming languages, variables are best thought of as containers or buckets into which you put data.\n",
    "So in C, for example, when you write\n",
    "```\n",
    "// C code\n",
    "int x = 4;\n",
    "```\n",
    "you are essentially defining a \"memory bucket\" named ``x``, and putting the value ``4`` into it. In Python, by contrast, variables are best thought of not as containers but as pointers. So in Python, when you write\n",
    "```python\n",
    "x = 4\n",
    "```\n",
    "you are essentially defining a *pointer* named ``x`` that points to some other bucket containing the value ``4``.\n",
    "Note one consequence of this: because Python variables just point to various objects, there is no need to \"declare\" the variable, or even require the variable to always point to information of the same type! This is the sense in which  people say Python is *dynamically-typed*: variable names can point to objects of any type. So in Python, you can do things like this:\n",
    "```python\n",
    "x = 1         # x is an integer\n",
    "x = 'hello'   # now x is a string\n",
    "x = [1, 2, 3] # now x is a list\n",
    "```\n",
    "While users of statically-typed languages might miss the type-safety that comes with declarations like those found in C,\n",
    "```\n",
    "int x = 4;\n",
    "```\n",
    "this dynamic typing is one of the pieces that makes Python so quick to write and easy to read. There is a consequence of this \"variable as pointer\" approach that you need to be aware of.\n",
    "\n",
    "If we have two variable names pointing to the same *mutable* object, then changing one will change the other as well! For example, let's create and modify a list:\n",
    "\n",
    "```python\n",
    "x = [1, 2, 3]\n",
    "y = x\n",
    "```\n",
    "We've created two variables ``x`` and ``y`` which both point to the same object. Because of this, if we modify the list via one of its names, we'll see that the \"other\" list will be modified as well:\n",
    "\n",
    "```python\n",
    "print(y)       #output – [1,2,3]\n",
    "x.append(4)    # append 4 to the list pointed to by x\n",
    "print(y)       #output – [1,2,3,4] y's list is modified as well!\n",
    "```\n",
    "\n",
    "This behavior might seem confusing if you're wrongly thinking of variables as buckets that contain data. But if you're correctly thinking of variables as pointers to objects, then this behavior makes sense.\n",
    "Note also that if we use \"``=``\" to assign another value to ``x``, this will not affect the value of ``y`` – assignment is simply a change of what object the variable points to:\n",
    "\n",
    "```python\n",
    "x = 'something else'\n",
    "print(y)  # y is unchanged\n",
    "```\n",
    "Again, this makes perfect sense if you think of ``x`` and ``y`` as pointers, and the \"``=``\" operator as an operation that changes what the name points to.\n",
    "\n",
    "Numbers, strings, and other *simple types* are immutable: you can't change their value – you can only change what values the variables point to. So, for example, it's perfectly safe to do operations like the following:\n",
    "```python\n",
    "x = 10\n",
    "y = x\n",
    "x += 5  # add 5 to x's value, and assign it to x\n",
    "print(\"x =\", x) #x=15\n",
    "print(\"y =\", y) #y=10\n",
    "```\n",
    "When we call ``x += 5``, we are not modifying the value of the ``10`` object pointed to by ``x``; we are rather changing the variable ``x`` so that it points to a new integer object with value ``15``. For this reason, the value of ``y`` is not affected by the operation.\n"
   ]
  },
  {
   "cell_type": "markdown",
   "metadata": {},
   "source": [
    "### Everything is an Object"
   ]
  },
  {
   "cell_type": "markdown",
   "metadata": {},
   "source": [
    "Python is an object-oriented programming language, and in Python everything is an object.\n",
    "Let's flesh-out what this means. Earlier we saw that variables are simply pointers, and the variable names themselves have no attached type information. This leads some to claim erroneously that Python is a type-free language. But this is not the case!\n",
    "Consider the following:\n",
    "```python\n",
    "x = 4\n",
    "type(x) #int\n",
    "x = 'hello'\n",
    "type(x) #str\n",
    "x = 3.14159\n",
    "type(x) #float\n",
    "```\n",
    "\n",
    "Python has types; however, the types are linked not to the variable names but *to the objects themselves*. In object-oriented programming languages like Python, an *object* is an entity that contains data along with associated metadata and/or functionality.\n",
    "\n",
    "In Python everything is an object, which means every entity has some metadata (called *attributes*) and associated functionality (called *methods*). These attributes and methods are accessed via the dot syntax.\n",
    "For example, before we saw that lists have an ``append`` method, which adds an item to the list, and is accessed via the dot \n",
    "(\"``.``\") syntax:\n",
    "```python\n",
    "L = [1, 2, 3]\n",
    "L.append(100)\n",
    "print(L)     # L = [1, 2, 3, 100]\n",
    "```\n",
    "While it might be expected for compound objects like lists to have attributes and methods, what is sometimes unexpected is that in Python even simple types have attached attributes and methods. For example, numerical types have a ``real`` and ``imag`` attribute that returns the real and imaginary part of the value, if viewed as a complex number:  x \n",
    "```python\n",
    "x = 4.5\n",
    "print(x.real, \"+\", x.imag, 'i')  # 4.5 + 0.0i\n",
    "```\n",
    "Methods are like attributes, except they are functions that you can call using opening and closing parentheses. For example, floating point numbers have a method called ``is_integer`` that checks whether the value is an integer:\n",
    "```python\n",
    "x = 4.5\n",
    "x.is_integer() #False\n",
    "x = 4.0\n",
    "x.is_integer() #True\n",
    "```\n",
    "\n",
    "When we say that everything in Python is an object, we really mean that *everything* is an object – even the attributes and methods of objects are themselves objects with their own ``type`` information:\n",
    "```python\n",
    "type(x.is_integer)       #builtin_function_or_method\n",
    "```"
   ]
  },
  {
   "cell_type": "markdown",
   "metadata": {},
   "source": [
    "####  Python int type\n",
    "\n",
    "Python integers are actually quite a bit more sophisticated than integers in languages like C. C integers are fixed-precision, and usually overflow at some value (often near 231231 or 263263, depending on your system). Python integers are variable-precision, so you can do computations that would overflow in other languages:\n"
   ]
  },
  {
   "cell_type": "code",
   "execution_count": 3,
   "metadata": {},
   "outputs": [
    {
     "data": {
      "text/plain": [
       "10715086071862673209484250490600018105614048117055336074437503883703510511249361224931983788156958581275946729175531468251871452856923140435984577574698574803934567774824230985421074605062371141877954182153046474983581941267398767559165543946077062914571196477686542167660429831652624386837205668069376"
      ]
     },
     "execution_count": 3,
     "metadata": {},
     "output_type": "execute_result"
    }
   ],
   "source": [
    "2**1000"
   ]
  },
  {
   "cell_type": "markdown",
   "metadata": {},
   "source": [
    "### LOOP & CONDITIONS"
   ]
  },
  {
   "cell_type": "markdown",
   "metadata": {},
   "source": [
    "#### `while-else-break` loop\n",
    "\n",
    "Run example given below. Notice two things. First, notice `else` clause is associated with `while` clause. Second, notice `break` statement and how it affects the execution of `else` clause. `else` clause is run only when `break` statement is not executed. "
   ]
  },
  {
   "cell_type": "code",
   "execution_count": 6,
   "metadata": {},
   "outputs": [
    {
     "name": "stdout",
     "output_type": "stream",
     "text": [
      "input your name in small letters:\n",
      "jack\n",
      "input your name in small letters:\n",
      "peter\n",
      "Sorry!\n"
     ]
    }
   ],
   "source": [
    "a = 1\n",
    "while (a < 3):\n",
    "    string =  input(\"input your name in small letters:\\n\")\n",
    "    if string == 'mayank':\n",
    "        print(\"Hi %s\" %string) \n",
    "        break\n",
    "    a = a + 1\n",
    "\n",
    "else:\n",
    "    print(\"Sorry!\")"
   ]
  },
  {
   "cell_type": "markdown",
   "metadata": {},
   "source": [
    "#### `while-continue` loop"
   ]
  },
  {
   "cell_type": "code",
   "execution_count": 7,
   "metadata": {},
   "outputs": [
    {
     "name": "stdout",
     "output_type": "stream",
     "text": [
      "0\n",
      "1\n",
      "3\n",
      "4\n",
      "5\n"
     ]
    }
   ],
   "source": [
    "n = -1\n",
    "while n < 5:\n",
    "\tn =  n + 1\n",
    "\tif n == 2:\n",
    "\t\tcontinue\n",
    "\tprint(n)\n"
   ]
  },
  {
   "cell_type": "markdown",
   "metadata": {},
   "source": [
    "`continue` makes program do nothing for current iteration, rather it makes program to jump to next iteration."
   ]
  },
  {
   "cell_type": "markdown",
   "metadata": {},
   "source": [
    "#### `while-true`"
   ]
  },
  {
   "cell_type": "code",
   "execution_count": 3,
   "metadata": {},
   "outputs": [
    {
     "name": "stdout",
     "output_type": "stream",
     "text": [
      "> stop\n",
      "> halt\n",
      "halt\n",
      "Done\n"
     ]
    }
   ],
   "source": [
    "while True:\n",
    "    line = input('> ')\n",
    "    if line == 'halt':\n",
    "        print(line)\n",
    "        break            \n",
    "print('Done')\t\n"
   ]
  },
  {
   "cell_type": "markdown",
   "metadata": {},
   "source": [
    "`while True` introduces infinite loop. It only stops when `break` is executed."
   ]
  },
  {
   "cell_type": "code",
   "execution_count": 4,
   "metadata": {},
   "outputs": [
    {
     "name": "stdout",
     "output_type": "stream",
     "text": [
      "6\n"
     ]
    }
   ],
   "source": [
    "listing = [1,2,3,6,8]\n",
    "for i in listing:\n",
    "    if i == 6:D\n",
    "        print(i)\n",
    "        break    \n",
    "else:\n",
    "    print('not there')  \n"
   ]
  },
  {
   "cell_type": "markdown",
   "metadata": {},
   "source": [
    "Again, in above example, `else` is associated with `for` clause and it is executed if `break` is not executed."
   ]
  },
  {
   "cell_type": "markdown",
   "metadata": {},
   "source": [
    "### Python ternery operator"
   ]
  },
  {
   "cell_type": "code",
   "execution_count": 6,
   "metadata": {},
   "outputs": [
    {
     "data": {
      "text/plain": [
       "-1"
      ]
     },
     "execution_count": 6,
     "metadata": {},
     "output_type": "execute_result"
    }
   ],
   "source": [
    ">>> a = 1\n",
    ">>> b = 2\n",
    ">>> 1 if a > b else -1\n"
   ]
  },
  {
   "cell_type": "code",
   "execution_count": 7,
   "metadata": {},
   "outputs": [
    {
     "data": {
      "text/plain": [
       "True"
      ]
     },
     "execution_count": 7,
     "metadata": {},
     "output_type": "execute_result"
    }
   ],
   "source": [
    ">>> a,b,c = [2,3,3]\n",
    ">>> a < b == c\n"
   ]
  },
  {
   "cell_type": "code",
   "execution_count": 8,
   "metadata": {},
   "outputs": [
    {
     "data": {
      "text/plain": [
       "False"
      ]
     },
     "execution_count": 8,
     "metadata": {},
     "output_type": "execute_result"
    }
   ],
   "source": [
    ">>> a < b and b < c"
   ]
  },
  {
   "cell_type": "code",
   "execution_count": 9,
   "metadata": {},
   "outputs": [
    {
     "data": {
      "text/plain": [
       "True"
      ]
     },
     "execution_count": 9,
     "metadata": {},
     "output_type": "execute_result"
    }
   ],
   "source": [
    ">>> a,b,c = [2,3,3]\n",
    ">>> a < b or b < c"
   ]
  },
  {
   "cell_type": "code",
   "execution_count": 11,
   "metadata": {},
   "outputs": [
    {
     "data": {
      "text/plain": [
       "2"
      ]
     },
     "execution_count": 11,
     "metadata": {},
     "output_type": "execute_result"
    }
   ],
   "source": [
    ">>> d = a or b or c\n",
    ">>> d"
   ]
  },
  {
   "cell_type": "code",
   "execution_count": 12,
   "metadata": {},
   "outputs": [
    {
     "data": {
      "text/plain": [
       "3"
      ]
     },
     "execution_count": 12,
     "metadata": {},
     "output_type": "execute_result"
    }
   ],
   "source": [
    ">>> d =  a and b and c\n",
    ">>> d\n"
   ]
  },
  {
   "cell_type": "markdown",
   "metadata": {
    "collapsed": true
   },
   "source": [
    "###  \\*args and **kwargs"
   ]
  },
  {
   "cell_type": "code",
   "execution_count": 2,
   "metadata": {},
   "outputs": [
    {
     "name": "stdout",
     "output_type": "stream",
     "text": [
      "(2, 3)\n",
      "{}\n"
     ]
    }
   ],
   "source": [
    ">>> def func(*args, **kwargs):\n",
    "\tprint(args)\n",
    "\tprint(kwargs)\n",
    "\n",
    "func(2,3)    "
   ]
  },
  {
   "cell_type": "code",
   "execution_count": 3,
   "metadata": {},
   "outputs": [
    {
     "name": "stdout",
     "output_type": "stream",
     "text": [
      "(2,)\n",
      "{'a': 3}\n"
     ]
    }
   ],
   "source": [
    "func(2, a =3)"
   ]
  },
  {
   "cell_type": "markdown",
   "metadata": {},
   "source": [
    "args are printed as a tuple while kwargs are printed as dictionary"
   ]
  },
  {
   "cell_type": "code",
   "execution_count": 5,
   "metadata": {},
   "outputs": [
    {
     "name": "stdout",
     "output_type": "stream",
     "text": [
      "value is  2\n",
      "a\n",
      "a\n",
      "b\n",
      "a :  6\n",
      "b :  voom\n"
     ]
    }
   ],
   "source": [
    "def func(value, *args, **kwargs):\n",
    "\tprint('value is ',value)\n",
    "\tfor i in args:\n",
    "\t\tprint(i)\n",
    "\tfor v in kwargs:\n",
    "\t\tprint(v)\n",
    "\tfor v in kwargs:\n",
    "\t\tprint(v, ': ', kwargs[v])\n",
    "\n",
    "func(2, 'a', a =6, b = 'voom')        "
   ]
  },
  {
   "cell_type": "code",
   "execution_count": 6,
   "metadata": {
    "collapsed": true
   },
   "outputs": [],
   "source": [
    "def test(x,y,z):\n",
    "\tprint(x,y,z)\n",
    "\n",
    "testD = {'x': 1, 'y':2, 'z':3}\n",
    "testL = [4,5,6]\n",
    "    "
   ]
  },
  {
   "cell_type": "code",
   "execution_count": 7,
   "metadata": {},
   "outputs": [
    {
     "name": "stdout",
     "output_type": "stream",
     "text": [
      "x y z\n"
     ]
    }
   ],
   "source": [
    "test(*testD)"
   ]
  },
  {
   "cell_type": "code",
   "execution_count": 8,
   "metadata": {},
   "outputs": [
    {
     "name": "stdout",
     "output_type": "stream",
     "text": [
      "1 2 3\n"
     ]
    }
   ],
   "source": [
    "test(**testD)"
   ]
  },
  {
   "cell_type": "code",
   "execution_count": 9,
   "metadata": {},
   "outputs": [
    {
     "name": "stdout",
     "output_type": "stream",
     "text": [
      "4 5 6\n"
     ]
    }
   ],
   "source": [
    "test(*testL)"
   ]
  },
  {
   "cell_type": "code",
   "execution_count": 11,
   "metadata": {},
   "outputs": [
    {
     "name": "stdout",
     "output_type": "stream",
     "text": [
      "{'$$$': 4, '+-=': 5}\n"
     ]
    }
   ],
   "source": [
    "def foo(**kwargs):\n",
    "    print(kwargs)\n",
    "\n",
    "kwargs = {'$$$':4, '+-=':5}\n",
    "\n",
    "foo(**kwargs)"
   ]
  },
  {
   "cell_type": "markdown",
   "metadata": {},
   "source": [
    "Interestingly, in above case, invalid identifiers are accepted when passed through \\*\\*kwargs to python function"
   ]
  },
  {
   "cell_type": "markdown",
   "metadata": {
    "collapsed": true
   },
   "source": [
    "#### `sys.argv`"
   ]
  },
  {
   "cell_type": "code",
   "execution_count": 1,
   "metadata": {},
   "outputs": [
    {
     "name": "stdout",
     "output_type": "stream",
     "text": [
      "['C:\\\\miniconda3\\\\envs\\\\data\\\\lib\\\\site-packages\\\\ipykernel_launcher.py', '-f', 'C:\\\\Users\\\\Mayank\\\\AppData\\\\Roaming\\\\jupyter\\\\runtime\\\\kernel-917fc80f-6626-4e12-b44b-f8cd690948fb.json']\n"
     ]
    }
   ],
   "source": [
    "# save it in a file and run through command line\n",
    "\n",
    "import sys\n",
    "if __name__ == '__main__':\n",
    "    arg_length = len(sys.argv)\n",
    "    if arg_length >= 2 and arg_length <=3:\n",
    "        print(sys.argv)\n",
    "    else:\n",
    "        print('please enter two arguments')\n"
   ]
  },
  {
   "cell_type": "markdown",
   "metadata": {},
   "source": [
    "#### Functions are Objects too - An Example"
   ]
  },
  {
   "cell_type": "code",
   "execution_count": 2,
   "metadata": {},
   "outputs": [
    {
     "name": "stdout",
     "output_type": "stream",
     "text": [
      "Yes\n",
      "Yes\n",
      "True\n",
      "name 'shout' is not defined\n",
      "Yes\n"
     ]
    }
   ],
   "source": [
    "def shout(word='yes'):\n",
    "    return word.capitalize()\n",
    "\n",
    "print(shout())\n",
    "\n",
    "scream = shout\n",
    "\n",
    "print(scream())\n",
    "print(scream is shout)\n",
    "\n",
    "del shout\n",
    "try:\n",
    "    print(shout())\n",
    "except NameError as e:\n",
    "    print(e)\n",
    "    \n",
    "print(scream())\n"
   ]
  },
  {
   "cell_type": "markdown",
   "metadata": {},
   "source": [
    "#### `__name__` and `__main__`"
   ]
  },
  {
   "cell_type": "markdown",
   "metadata": {},
   "source": [
    "```python\n",
    "print('running', __name__)\n",
    "import foo\n",
    "\n",
    "print('running',__name__)\n",
    "```\n",
    "o/p →\n",
    "```\n",
    "running __main__\n",
    "running foo\n",
    "running foo\n",
    "running __main__\n",
    "```\n",
    "You can test this yourself. I created a file foodoo.py that has:\n",
    "```python\n",
    "import foodoo\n",
    "print('running', __name__)\n",
    "```\n",
    "...and it prints out:\n",
    "```\n",
    "running foodoo\n",
    "running __main__\n",
    "```\n",
    "The first line comes when the module is imported. The second comes when the original script runs.\n",
    "\n",
    "Of course, you NEVER want to do this in real life. It's very confusing and produces unreadable code. Rename your file instead. - Comment by Al Sweigart, author of ATBS.\n"
   ]
  },
  {
   "cell_type": "markdown",
   "metadata": {},
   "source": [
    "#### `__hash__`"
   ]
  },
  {
   "cell_type": "code",
   "execution_count": 5,
   "metadata": {},
   "outputs": [
    {
     "name": "stdout",
     "output_type": "stream",
     "text": [
      "1\n",
      "1847833133\n",
      "-1658481943\n"
     ]
    },
    {
     "ename": "TypeError",
     "evalue": "'NoneType' object is not callable",
     "output_type": "error",
     "traceback": [
      "\u001b[1;31m---------------------------------------------------------------------------\u001b[0m",
      "\u001b[1;31mTypeError\u001b[0m                                 Traceback (most recent call last)",
      "\u001b[1;32m<ipython-input-5-b3f2f6e756db>\u001b[0m in \u001b[0;36m<module>\u001b[1;34m()\u001b[0m\n\u001b[0;32m      7\u001b[0m \u001b[0mprint\u001b[0m\u001b[1;33m(\u001b[0m\u001b[0mb\u001b[0m\u001b[1;33m.\u001b[0m\u001b[0m__hash__\u001b[0m\u001b[1;33m(\u001b[0m\u001b[1;33m)\u001b[0m\u001b[1;33m)\u001b[0m\u001b[1;33m\u001b[0m\u001b[0m\n\u001b[0;32m      8\u001b[0m \u001b[0mprint\u001b[0m\u001b[1;33m(\u001b[0m\u001b[0mc\u001b[0m\u001b[1;33m.\u001b[0m\u001b[0m__hash__\u001b[0m\u001b[1;33m(\u001b[0m\u001b[1;33m)\u001b[0m\u001b[1;33m)\u001b[0m\u001b[1;33m\u001b[0m\u001b[0m\n\u001b[1;32m----> 9\u001b[1;33m \u001b[0mprint\u001b[0m\u001b[1;33m(\u001b[0m\u001b[0md\u001b[0m\u001b[1;33m.\u001b[0m\u001b[0m__hash__\u001b[0m\u001b[1;33m(\u001b[0m\u001b[1;33m)\u001b[0m\u001b[1;33m)\u001b[0m\u001b[1;33m\u001b[0m\u001b[0m\n\u001b[0m",
      "\u001b[1;31mTypeError\u001b[0m: 'NoneType' object is not callable"
     ]
    }
   ],
   "source": [
    "a = 1\n",
    "b = 'a'\n",
    "c = (2,)\n",
    "d = [1]\n",
    "\n",
    "print(a.__hash__())\n",
    "print(b.__hash__())\n",
    "print(c.__hash__())\n",
    "print(d.__hash__())"
   ]
  },
  {
   "cell_type": "markdown",
   "metadata": {},
   "source": [
    "`__hash__` method, when applied on lists, produces error. It is because lists are mutables. "
   ]
  },
  {
   "cell_type": "markdown",
   "metadata": {},
   "source": [
    "#### `__iter__`"
   ]
  },
  {
   "cell_type": "code",
   "execution_count": 6,
   "metadata": {},
   "outputs": [
    {
     "name": "stdout",
     "output_type": "stream",
     "text": [
      "Enter any list, tuple, or string\n",
      "[1,2,3]\n",
      "[\n",
      "1\n",
      ",\n",
      "2\n",
      ",\n",
      "3\n",
      "]\n",
      "End of world\n"
     ]
    }
   ],
   "source": [
    "s = input('Enter any list, tuple, or string\\n')\n",
    "it = s.__iter__()\n",
    "while 1:\n",
    "    try:\n",
    "        i = next(it)\n",
    "        print(i)\n",
    "    except StopIteration:\n",
    "        print('End of world')\n",
    "        break\n"
   ]
  },
  {
   "cell_type": "markdown",
   "metadata": {},
   "source": [
    "I thought I was supplying a list but, as can be seen, program took it as a string. "
   ]
  },
  {
   "cell_type": "markdown",
   "metadata": {},
   "source": [
    "#### Unpacking"
   ]
  },
  {
   "cell_type": "code",
   "execution_count": 9,
   "metadata": {},
   "outputs": [
    {
     "data": {
      "text/plain": [
       "(1, 4)"
      ]
     },
     "execution_count": 9,
     "metadata": {},
     "output_type": "execute_result"
    }
   ],
   "source": [
    "l = [1,2,3,4]\n",
    "s = 'abcde'\n",
    "\n",
    "first, *_, last = l\n",
    "first, last"
   ]
  },
  {
   "cell_type": "code",
   "execution_count": 10,
   "metadata": {},
   "outputs": [
    {
     "data": {
      "text/plain": [
       "('a', 'e')"
      ]
     },
     "execution_count": 10,
     "metadata": {},
     "output_type": "execute_result"
    }
   ],
   "source": [
    "first, *_, last = s\n",
    "first, last"
   ]
  },
  {
   "cell_type": "markdown",
   "metadata": {},
   "source": [
    "### Working with Files"
   ]
  },
  {
   "cell_type": "code",
   "execution_count": 4,
   "metadata": {
    "collapsed": true
   },
   "outputs": [],
   "source": [
    "f = open('file.txt','w')\n",
    "#if file doesn't exist, it will be created"
   ]
  },
  {
   "cell_type": "code",
   "execution_count": 5,
   "metadata": {},
   "outputs": [
    {
     "data": {
      "text/plain": [
       "<_io.TextIOWrapper name='file.txt' mode='w' encoding='cp1252'>"
      ]
     },
     "execution_count": 5,
     "metadata": {},
     "output_type": "execute_result"
    }
   ],
   "source": [
    "f"
   ]
  },
  {
   "cell_type": "code",
   "execution_count": 5,
   "metadata": {},
   "outputs": [
    {
     "data": {
      "text/plain": [
       "14"
      ]
     },
     "execution_count": 5,
     "metadata": {},
     "output_type": "execute_result"
    }
   ],
   "source": [
    "f.write('Holla hooo!!!\\n')\n",
    "#if file already exists, old content is deleted"
   ]
  },
  {
   "cell_type": "code",
   "execution_count": 6,
   "metadata": {
    "collapsed": true
   },
   "outputs": [],
   "source": [
    "f.close()"
   ]
  },
  {
   "cell_type": "code",
   "execution_count": 11,
   "metadata": {
    "collapsed": true
   },
   "outputs": [],
   "source": [
    "f=open('file.txt','a')\n",
    "f.write('I am an engineer\\nI live in Delhi\\nI\\'m married')\n",
    "f.close()\n"
   ]
  },
  {
   "cell_type": "code",
   "execution_count": 12,
   "metadata": {},
   "outputs": [
    {
     "data": {
      "text/plain": [
       "['my name is mayank\\n',\n",
       " 'I am an engineer\\n',\n",
       " 'I live in Delhi\\n',\n",
       " \"I'm marriedI am an engineer\\n\",\n",
       " 'I live in Delhi\\n',\n",
       " \"I'm married\"]"
      ]
     },
     "execution_count": 12,
     "metadata": {},
     "output_type": "execute_result"
    }
   ],
   "source": [
    "f = open('file.txt','r')\n",
    "f.readlines()"
   ]
  },
  {
   "cell_type": "code",
   "execution_count": 13,
   "metadata": {
    "collapsed": true
   },
   "outputs": [],
   "source": [
    "f.close() #close the file to save the work"
   ]
  },
  {
   "cell_type": "code",
   "execution_count": 14,
   "metadata": {},
   "outputs": [
    {
     "name": "stdout",
     "output_type": "stream",
     "text": [
      "my name is mayank\n",
      "\n",
      "I am an engineer\n",
      "\n",
      "I live in Delhi\n",
      "\n",
      "I'm married\n"
     ]
    }
   ],
   "source": [
    "f = open('file.txt','r')\n",
    "for line in f:\n",
    "    print(line)"
   ]
  },
  {
   "cell_type": "code",
   "execution_count": 16,
   "metadata": {},
   "outputs": [
    {
     "data": {
      "text/plain": [
       "'my name is'"
      ]
     },
     "execution_count": 16,
     "metadata": {},
     "output_type": "execute_result"
    }
   ],
   "source": [
    "f = open('file.txt','r')\n",
    "f.read(10) #read 10 bytes. If no argument, entire content is returned."
   ]
  },
  {
   "cell_type": "code",
   "execution_count": 17,
   "metadata": {},
   "outputs": [
    {
     "data": {
      "text/plain": [
       "' mayank\\n'"
      ]
     },
     "execution_count": 17,
     "metadata": {},
     "output_type": "execute_result"
    }
   ],
   "source": [
    "f.readline()"
   ]
  },
  {
   "cell_type": "code",
   "execution_count": 18,
   "metadata": {},
   "outputs": [
    {
     "data": {
      "text/plain": [
       "'I am an engineer\\n'"
      ]
     },
     "execution_count": 18,
     "metadata": {},
     "output_type": "execute_result"
    }
   ],
   "source": [
    "f.readline() #successive calls return successive lines."
   ]
  },
  {
   "cell_type": "code",
   "execution_count": 19,
   "metadata": {},
   "outputs": [
    {
     "data": {
      "text/plain": [
       "['I live in Delhi\\n', \"I'm married\"]"
      ]
     },
     "execution_count": 19,
     "metadata": {},
     "output_type": "execute_result"
    }
   ],
   "source": [
    "list(f)"
   ]
  },
  {
   "cell_type": "markdown",
   "metadata": {},
   "source": [
    "#### Context Manager"
   ]
  },
  {
   "cell_type": "code",
   "execution_count": 20,
   "metadata": {
    "scrolled": true
   },
   "outputs": [
    {
     "data": {
      "text/plain": [
       "['my name is mayank\\n',\n",
       " 'I am an engineer\\n',\n",
       " 'I live in Delhi\\n',\n",
       " \"I'm marriedI like programming\\n\"]"
      ]
     },
     "execution_count": 20,
     "metadata": {},
     "output_type": "execute_result"
    }
   ],
   "source": [
    "#You don't have to close files with context manager. \n",
    "with open('file.txt','a') as f:\n",
    "    f.write('I like programming\\n')\n",
    "    \n",
    "f = open('file.txt', 'r')\n",
    "f.readlines()"
   ]
  },
  {
   "cell_type": "code",
   "execution_count": 10,
   "metadata": {},
   "outputs": [],
   "source": [
    "# Use 'x' with open in #Python to write to a file that doesn't already exist\n",
    "\n",
    "with open('file1.txt', 'x') as f:\n",
    "    f.write(\"nope, nope.\")"
   ]
  },
  {
   "cell_type": "markdown",
   "metadata": {},
   "source": [
    "Using 'x' mode, we ensure that we don't accidentally overwrite the content of a file which already exists. "
   ]
  },
  {
   "cell_type": "markdown",
   "metadata": {
    "collapsed": true
   },
   "source": [
    "#### importing * is Bad - An Example"
   ]
  },
  {
   "cell_type": "code",
   "execution_count": 1,
   "metadata": {},
   "outputs": [
    {
     "data": {
      "text/plain": [
       "9"
      ]
     },
     "execution_count": 1,
     "metadata": {},
     "output_type": "execute_result"
    }
   ],
   "source": [
    "sum(range(5),-1)"
   ]
  },
  {
   "cell_type": "code",
   "execution_count": 2,
   "metadata": {},
   "outputs": [
    {
     "data": {
      "text/plain": [
       "10"
      ]
     },
     "execution_count": 2,
     "metadata": {},
     "output_type": "execute_result"
    }
   ],
   "source": [
    "from numpy import *\n",
    "sum(range(5),-1)"
   ]
  },
  {
   "cell_type": "markdown",
   "metadata": {},
   "source": [
    "#### Python List Comparisons Techniques"
   ]
  },
  {
   "cell_type": "markdown",
   "metadata": {},
   "source": [
    "\n",
    "identity matters\n",
    "\n",
    "`a is b`\n",
    "\n",
    "order matters, duplicates matter\n",
    "\n",
    "`a == b`\n",
    "\n",
    "order ignored, duplicates matter\n",
    "\n",
    "`Counter(a) = Counter(b)`\n",
    "\n",
    "both order and duplicates ignored\n",
    "\n",
    "`set(a) = set(b)`"
   ]
  },
  {
   "cell_type": "code",
   "execution_count": null,
   "metadata": {
    "collapsed": true
   },
   "outputs": [],
   "source": []
  }
 ],
 "metadata": {
  "kernelspec": {
   "display_name": "Python 3",
   "language": "python",
   "name": "python3"
  },
  "language_info": {
   "codemirror_mode": {
    "name": "ipython",
    "version": 3
   },
   "file_extension": ".py",
   "mimetype": "text/x-python",
   "name": "python",
   "nbconvert_exporter": "python",
   "pygments_lexer": "ipython3",
   "version": "3.6.3"
  }
 },
 "nbformat": 4,
 "nbformat_minor": 2
}
