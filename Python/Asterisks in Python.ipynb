{
 "cells": [
  {
   "cell_type": "markdown",
   "metadata": {},
   "source": [
    "### Asterisks (`*`) in Python\n",
    "\n",
    "We'll talk about $*$ and $**$ prefix operators, that is the $*$ and $**$ operators that are used before a variable. For example -"
   ]
  },
  {
   "cell_type": "code",
   "execution_count": 1,
   "metadata": {},
   "outputs": [
    {
     "data": {
      "text/plain": [
       "[2, 1, 3, 7, 8, 9]"
      ]
     },
     "execution_count": 1,
     "metadata": {},
     "output_type": "execute_result"
    }
   ],
   "source": [
    "numbers = [2,1,3]\n",
    "more_numbers = [*numbers,7,8,9]\n",
    "more_numbers"
   ]
  },
  {
   "cell_type": "code",
   "execution_count": 2,
   "metadata": {},
   "outputs": [
    {
     "name": "stdout",
     "output_type": "stream",
     "text": [
      "2,1,3,7,8,9\n"
     ]
    }
   ],
   "source": [
    "print(*more_numbers, sep = ',')"
   ]
  },
  {
   "cell_type": "markdown",
   "metadata": {},
   "source": [
    "#### Uses - \n",
    "\n",
    " - Using $*$ and $**$ to pass arguments to a function\n",
    " - Using $*$ and $**$ to capture arguments passed into a function\n",
    " - using $*$ to accept keyword-only arguments\n",
    " - Using $*$ to capture items during tuple unpacking\n",
    " - Using $*$ to unpack iterables into a list/tuple\n",
    " - Using $**$ to unpack dictionaries into other dictionaries"
   ]
  },
  {
   "cell_type": "markdown",
   "metadata": {},
   "source": [
    "##### Asterisks for unpacking into function call"
   ]
  },
  {
   "cell_type": "code",
   "execution_count": 3,
   "metadata": {},
   "outputs": [
    {
     "name": "stdout",
     "output_type": "stream",
     "text": [
      "banana apple guava\n"
     ]
    }
   ],
   "source": [
    "fruits = ['banana', 'apple', 'guava']\n",
    "print(fruits[0], fruits[1], fruits[2])"
   ]
  },
  {
   "cell_type": "code",
   "execution_count": 4,
   "metadata": {},
   "outputs": [
    {
     "name": "stdout",
     "output_type": "stream",
     "text": [
      "banana apple guava\n"
     ]
    }
   ],
   "source": [
    "print(*fruits)"
   ]
  },
  {
   "cell_type": "code",
   "execution_count": 5,
   "metadata": {},
   "outputs": [
    {
     "data": {
      "text/plain": [
       "[2, 1, 3]"
      ]
     },
     "execution_count": 5,
     "metadata": {},
     "output_type": "execute_result"
    }
   ],
   "source": [
    "numbers"
   ]
  },
  {
   "cell_type": "code",
   "execution_count": 6,
   "metadata": {},
   "outputs": [
    {
     "name": "stdout",
     "output_type": "stream",
     "text": [
      "2 1 3 banana apple guava\n"
     ]
    }
   ],
   "source": [
    "print(*numbers, *fruits)"
   ]
  },
  {
   "cell_type": "code",
   "execution_count": 3,
   "metadata": {},
   "outputs": [
    {
     "data": {
      "text/plain": [
       "[(1, 4, 7), (2, 5, 8), (3, 6, 9)]"
      ]
     },
     "execution_count": 3,
     "metadata": {},
     "output_type": "execute_result"
    }
   ],
   "source": [
    "l = [[1,2,3],[4,5,6],[7,8,9]]\n",
    "list(zip(*l))"
   ]
  },
  {
   "cell_type": "code",
   "execution_count": 7,
   "metadata": {},
   "outputs": [
    {
     "data": {
      "text/plain": [
       "[[1, 4, 7], [2, 5, 8], [3, 6, 9]]"
      ]
     },
     "execution_count": 7,
     "metadata": {},
     "output_type": "execute_result"
    }
   ],
   "source": [
    "def transpose_list(list_of_lists):\n",
    "    return [list(row) for row in zip(*list_of_lists)]\n",
    "\n",
    "l = [[1,2,3],[4,5,6],[7,8,9]]\n",
    "transpose_list(l)"
   ]
  },
  {
   "cell_type": "code",
   "execution_count": 8,
   "metadata": {},
   "outputs": [
    {
     "data": {
      "text/plain": [
       "'2011-02-12.txt'"
      ]
     },
     "execution_count": 8,
     "metadata": {},
     "output_type": "execute_result"
    }
   ],
   "source": [
    "date_info = {'year':'2011', 'month': '02', 'date': '12'}\n",
    "filename = \"{year}-{month}-{date}.txt\".format(**date_info)\n",
    "filename"
   ]
  },
  {
   "cell_type": "markdown",
   "metadata": {},
   "source": [
    "##### Asterisks for packing arguments given to function \n",
    "\n",
    "When defining a function, the `*` operator can be used to capture an unlimited number of positional arguments given to the function. These arguments are captured into a tuple."
   ]
  },
  {
   "cell_type": "code",
   "execution_count": 4,
   "metadata": {},
   "outputs": [
    {
     "data": {
      "text/plain": [
       "18"
      ]
     },
     "execution_count": 4,
     "metadata": {},
     "output_type": "execute_result"
    }
   ],
   "source": [
    "from random import randint\n",
    "\n",
    "def roll(*dice):\n",
    "    return sum(randint(1,die) for die in dice)\n",
    "\n",
    "roll(20)"
   ]
  },
  {
   "cell_type": "code",
   "execution_count": 7,
   "metadata": {},
   "outputs": [
    {
     "data": {
      "text/plain": [
       "3"
      ]
     },
     "execution_count": 7,
     "metadata": {},
     "output_type": "execute_result"
    }
   ],
   "source": [
    "roll(6,6)"
   ]
  },
  {
   "cell_type": "code",
   "execution_count": 8,
   "metadata": {},
   "outputs": [
    {
     "data": {
      "text/plain": [
       "15"
      ]
     },
     "execution_count": 8,
     "metadata": {},
     "output_type": "execute_result"
    }
   ],
   "source": [
    "roll(6,7,8)"
   ]
  },
  {
   "cell_type": "markdown",
   "metadata": {},
   "source": [
    "The `**` operator has another side to it: we can use `**` when defning a function to capture any keyword arguments given to the function into a directory:"
   ]
  },
  {
   "cell_type": "code",
   "execution_count": 21,
   "metadata": {},
   "outputs": [
    {
     "data": {
      "text/plain": [
       "'<a href = \"http://www.example.com\">'"
      ]
     },
     "execution_count": 21,
     "metadata": {},
     "output_type": "execute_result"
    }
   ],
   "source": [
    "def tag(tag_name, **attributes):\n",
    "    attribute_list = [ f'{name} = \"{value}\"' for name, value in attributes.items()]\n",
    "    return f\"<{tag_name} {' '.join(attribute_list)}>\"\n",
    "    \n",
    "tag('a', href = \"http://www.example.com\")    "
   ]
  },
  {
   "cell_type": "code",
   "execution_count": 20,
   "metadata": {},
   "outputs": [
    {
     "data": {
      "text/plain": [
       "'<img height = \"20\"&&width = \"40\"&&src = \"face.jpg\">'"
      ]
     },
     "execution_count": 20,
     "metadata": {},
     "output_type": "execute_result"
    }
   ],
   "source": [
    "tag('img', height =20, width =40, src = 'face.jpg')"
   ]
  },
  {
   "cell_type": "markdown",
   "metadata": {},
   "source": [
    "##### Positional arguments with keyword-only arguments\n",
    "\n",
    "In Python 3, we have a special syntax for accepting keyword-only arguments to functions. "
   ]
  },
  {
   "cell_type": "code",
   "execution_count": 14,
   "metadata": {},
   "outputs": [
    {
     "data": {
      "text/plain": [
       "['yellow', 'red', 'unknown']"
      ]
     },
     "execution_count": 14,
     "metadata": {},
     "output_type": "execute_result"
    }
   ],
   "source": [
    "def get_multiple(*keys, dictionary, default = None):\n",
    "    return [dictionary.get(key,default) for key in keys]\n",
    "\n",
    "fruits = {'lemon' : 'yellow', 'orange': 'orange', 'tomato': 'red' }\n",
    "get_multiple('lemon', 'tomato', 'squash', dictionary = fruits, default = 'unknown')"
   ]
  },
  {
   "cell_type": "markdown",
   "metadata": {},
   "source": [
    "The arguments `dictionary` and `default` come after `*keys`, which means they can only be specified as keyword arguments. If we try to specify thme positionally we'll get an arror - "
   ]
  },
  {
   "cell_type": "code",
   "execution_count": 15,
   "metadata": {},
   "outputs": [
    {
     "ename": "TypeError",
     "evalue": "get_multiple() missing 1 required keyword-only argument: 'dictionary'",
     "output_type": "error",
     "traceback": [
      "\u001b[1;31m---------------------------------------------------------------------------\u001b[0m",
      "\u001b[1;31mTypeError\u001b[0m                                 Traceback (most recent call last)",
      "\u001b[1;32m<ipython-input-15-0177b49f09d5>\u001b[0m in \u001b[0;36m<module>\u001b[1;34m\u001b[0m\n\u001b[1;32m----> 1\u001b[1;33m \u001b[0mget_multiple\u001b[0m\u001b[1;33m(\u001b[0m\u001b[1;34m'lemon'\u001b[0m\u001b[1;33m,\u001b[0m \u001b[1;34m'tomato'\u001b[0m\u001b[1;33m,\u001b[0m \u001b[1;34m'squash'\u001b[0m\u001b[1;33m,\u001b[0m \u001b[0mfruits\u001b[0m\u001b[1;33m,\u001b[0m \u001b[1;34m'unknown'\u001b[0m\u001b[1;33m)\u001b[0m\u001b[1;33m\u001b[0m\u001b[0m\n\u001b[0m",
      "\u001b[1;31mTypeError\u001b[0m: get_multiple() missing 1 required keyword-only argument: 'dictionary'"
     ]
    }
   ],
   "source": [
    "get_multiple('lemon', 'tomato', 'squash', fruits, 'unknown')"
   ]
  },
  {
   "cell_type": "markdown",
   "metadata": {},
   "source": [
    "##### Keyword-only arguments without positional arguments\n",
    "\n",
    "Python allows this with `*` on its own syntax"
   ]
  },
  {
   "cell_type": "code",
   "execution_count": 16,
   "metadata": {},
   "outputs": [
    {
     "data": {
      "text/plain": [
       "[(0, 2), (2, 1), (1, 3)]"
      ]
     },
     "execution_count": 16,
     "metadata": {},
     "output_type": "execute_result"
    }
   ],
   "source": [
    "def with_previous(iterable, *, fillvalue = None):\n",
    "    \"\"\"Yield each iterable item along with the item before it.\"\"\"\n",
    "    previous = fillvalue\n",
    "    for item in iterable:\n",
    "        yield previous, item\n",
    "        previous = item\n",
    "        \n",
    "list(with_previous([2,1,3],fillvalue = 0))        "
   ]
  },
  {
   "cell_type": "markdown",
   "metadata": {},
   "source": [
    "But this will raise error - "
   ]
  },
  {
   "cell_type": "code",
   "execution_count": 17,
   "metadata": {},
   "outputs": [
    {
     "ename": "TypeError",
     "evalue": "with_previous() takes 1 positional argument but 2 were given",
     "output_type": "error",
     "traceback": [
      "\u001b[1;31m---------------------------------------------------------------------------\u001b[0m",
      "\u001b[1;31mTypeError\u001b[0m                                 Traceback (most recent call last)",
      "\u001b[1;32m<ipython-input-17-97dfc248274c>\u001b[0m in \u001b[0;36m<module>\u001b[1;34m\u001b[0m\n\u001b[1;32m----> 1\u001b[1;33m \u001b[0mlist\u001b[0m\u001b[1;33m(\u001b[0m\u001b[0mwith_previous\u001b[0m\u001b[1;33m(\u001b[0m\u001b[1;33m[\u001b[0m\u001b[1;36m2\u001b[0m\u001b[1;33m,\u001b[0m\u001b[1;36m1\u001b[0m\u001b[1;33m,\u001b[0m\u001b[1;36m3\u001b[0m\u001b[1;33m]\u001b[0m\u001b[1;33m,\u001b[0m\u001b[1;36m0\u001b[0m\u001b[1;33m)\u001b[0m\u001b[1;33m)\u001b[0m\u001b[1;33m\u001b[0m\u001b[0m\n\u001b[0m",
      "\u001b[1;31mTypeError\u001b[0m: with_previous() takes 1 positional argument but 2 were given"
     ]
    }
   ],
   "source": [
    "list(with_previous([2,1,3],0))"
   ]
  },
  {
   "cell_type": "markdown",
   "metadata": {},
   "source": [
    "##### Asterisks in tuple unpacking"
   ]
  },
  {
   "cell_type": "code",
   "execution_count": 18,
   "metadata": {},
   "outputs": [
    {
     "data": {
      "text/plain": [
       "'lemon'"
      ]
     },
     "execution_count": 18,
     "metadata": {},
     "output_type": "execute_result"
    }
   ],
   "source": [
    "fruits = ['lemon', 'banana', 'guava', 'apple']\n",
    "first, second, *remaining = fruits\n",
    "first"
   ]
  },
  {
   "cell_type": "code",
   "execution_count": 19,
   "metadata": {},
   "outputs": [
    {
     "data": {
      "text/plain": [
       "['guava', 'apple']"
      ]
     },
     "execution_count": 19,
     "metadata": {},
     "output_type": "execute_result"
    }
   ],
   "source": [
    "remaining"
   ]
  },
  {
   "cell_type": "code",
   "execution_count": 20,
   "metadata": {},
   "outputs": [
    {
     "data": {
      "text/plain": [
       "['banana', 'guava']"
      ]
     },
     "execution_count": 20,
     "metadata": {},
     "output_type": "execute_result"
    }
   ],
   "source": [
    "first, *middle, last = fruits\n",
    "middle"
   ]
  },
  {
   "cell_type": "markdown",
   "metadata": {},
   "source": [
    "##### Asterisks in list literals\n",
    "\n",
    "Suppose we have a function that takes any sequence and returns a list with the sequence and the reverse of that sequence concatenated together:"
   ]
  },
  {
   "cell_type": "code",
   "execution_count": 21,
   "metadata": {},
   "outputs": [
    {
     "data": {
      "text/plain": [
       "['a', 'b', 'c', 'c', 'b', 'a']"
      ]
     },
     "execution_count": 21,
     "metadata": {},
     "output_type": "execute_result"
    }
   ],
   "source": [
    "def palindromify(sequence):\n",
    "    return list(sequence)+list(reversed(sequence))\n",
    "\n",
    "palindromify('abc')"
   ]
  },
  {
   "cell_type": "markdown",
   "metadata": {},
   "source": [
    "Alternatively, you can do this -"
   ]
  },
  {
   "cell_type": "code",
   "execution_count": 22,
   "metadata": {},
   "outputs": [
    {
     "data": {
      "text/plain": [
       "['a', 'b', 'c', 'c', 'b', 'a']"
      ]
     },
     "execution_count": 22,
     "metadata": {},
     "output_type": "execute_result"
    }
   ],
   "source": [
    "def palindromify(sequence):\n",
    "    return [*sequence, *reversed(sequence)]\n",
    "\n",
    "palindromify('abc')"
   ]
  },
  {
   "cell_type": "markdown",
   "metadata": {},
   "source": [
    "##### Double asterisks in dictionary literals\n",
    "\n",
    "`**` can also be used for dumping key/value pairs from one dictionary into a new dictionary:"
   ]
  },
  {
   "cell_type": "code",
   "execution_count": 23,
   "metadata": {},
   "outputs": [
    {
     "data": {
      "text/plain": [
       "{'year': '2020',\n",
       " 'month': '02',\n",
       " 'day': '04',\n",
       " 'artist': 'Beethovan',\n",
       " 'title': 'Symphony No 5'}"
      ]
     },
     "execution_count": 23,
     "metadata": {},
     "output_type": "execute_result"
    }
   ],
   "source": [
    "# merging 2 dictionaries\n",
    "date_info = {'year': '2020', 'month': '02', 'day': '04'}\n",
    "track_info = {'artist': 'Beethovan', 'title': 'Symphony No 5'}\n",
    "all_info = {**date_info, **track_info}\n",
    "all_info"
   ]
  },
  {
   "cell_type": "code",
   "execution_count": 24,
   "metadata": {},
   "outputs": [
    {
     "data": {
      "text/plain": [
       "{'year': '2020', 'month': '02', 'day': '04', 'venue': 'National Stadium'}"
      ]
     },
     "execution_count": 24,
     "metadata": {},
     "output_type": "execute_result"
    }
   ],
   "source": [
    "# adding info\n",
    "event_info = {**date_info, 'venue': 'National Stadium'}\n",
    "event_info"
   ]
  },
  {
   "cell_type": "code",
   "execution_count": 25,
   "metadata": {},
   "outputs": [
    {
     "data": {
      "text/plain": [
       "{'year': '2020', 'month': '02', 'day': '11'}"
      ]
     },
     "execution_count": 25,
     "metadata": {},
     "output_type": "execute_result"
    }
   ],
   "source": [
    "#updating info\n",
    "new_info = {**date_info, 'day': '11'}\n",
    "new_info"
   ]
  },
  {
   "cell_type": "code",
   "execution_count": null,
   "metadata": {
    "collapsed": true
   },
   "outputs": [],
   "source": []
  },
  {
   "cell_type": "code",
   "execution_count": null,
   "metadata": {
    "collapsed": true
   },
   "outputs": [],
   "source": []
  }
 ],
 "metadata": {
  "kernelspec": {
   "display_name": "Python 3",
   "language": "python",
   "name": "python3"
  },
  "language_info": {
   "codemirror_mode": {
    "name": "ipython",
    "version": 3
   },
   "file_extension": ".py",
   "mimetype": "text/x-python",
   "name": "python",
   "nbconvert_exporter": "python",
   "pygments_lexer": "ipython3",
   "version": "3.7.6"
  }
 },
 "nbformat": 4,
 "nbformat_minor": 2
}
