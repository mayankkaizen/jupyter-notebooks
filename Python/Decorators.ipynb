{
 "cells": [
  {
   "cell_type": "markdown",
   "metadata": {},
   "source": [
    "This is from this [SO post](https://stackoverflow.com/a/1594484)\n",
    "\n",
    "### Decorator Basics\n",
    "\n",
    "#### Python's functions are objects.\n",
    "\n",
    "To understand decorators, you must first understand that functions are objects in Python. This has important consequences. Let's see why with a simple example:"
   ]
  },
  {
   "cell_type": "code",
   "execution_count": 1,
   "metadata": {},
   "outputs": [
    {
     "name": "stdout",
     "output_type": "stream",
     "text": [
      "Yes!\n"
     ]
    }
   ],
   "source": [
    "def shout(word = \"yes\"):\n",
    "    return word.capitalize()+\"!\"\n",
    "\n",
    "print(shout())"
   ]
  },
  {
   "cell_type": "code",
   "execution_count": 2,
   "metadata": {},
   "outputs": [
    {
     "name": "stdout",
     "output_type": "stream",
     "text": [
      "Yes!\n"
     ]
    }
   ],
   "source": [
    "#As an object you can assign the function to a variable like any other object\n",
    "scream =  shout\n",
    "#Notice we don't use parentheses: we aren't calling the function,\n",
    "#we're putting the function the function 'shout' into the variable 'scream'\n",
    "#it means you can then call 'shout' from 'scream'.\n",
    "\n",
    "print(scream())"
   ]
  },
  {
   "cell_type": "code",
   "execution_count": 3,
   "metadata": {},
   "outputs": [
    {
     "name": "stdout",
     "output_type": "stream",
     "text": [
      "name 'shout' is not defined\n"
     ]
    }
   ],
   "source": [
    "#More than that, it means you can remove the old name 'shout' and the function will still\n",
    "#be accessed from 'scream'\n",
    "\n",
    "del shout\n",
    "try:\n",
    "    print(shout())\n",
    "except NameError as e:\n",
    "    print(e)"
   ]
  },
  {
   "cell_type": "code",
   "execution_count": 4,
   "metadata": {},
   "outputs": [
    {
     "name": "stdout",
     "output_type": "stream",
     "text": [
      "Yes!\n"
     ]
    }
   ],
   "source": [
    "print(scream())"
   ]
  },
  {
   "cell_type": "markdown",
   "metadata": {},
   "source": [
    "Keep in mind, we'll circle back to it shortly. \n",
    "\n",
    "Another interesting property of Python functions is they can be defined inside another function!"
   ]
  },
  {
   "cell_type": "code",
   "execution_count": 5,
   "metadata": {},
   "outputs": [
    {
     "name": "stdout",
     "output_type": "stream",
     "text": [
      "yes...\n"
     ]
    }
   ],
   "source": [
    "def talk():\n",
    "    #you can define a function on the fly in 'talk'\n",
    "    def whisper(word = 'yes'):\n",
    "        return word.lower()+\"...\"\n",
    "    #...and use it right away!\n",
    "    print(whisper())\n",
    "    \n",
    "#you call 'talk', that defines 'whisper' Every time you call it, then 'whisper' is called in 'talk' \n",
    "talk()"
   ]
  },
  {
   "cell_type": "code",
   "execution_count": 6,
   "metadata": {},
   "outputs": [
    {
     "name": "stdout",
     "output_type": "stream",
     "text": [
      "name 'whisper' is not defined\n"
     ]
    }
   ],
   "source": [
    "#But 'whisper' doesn't outside of 'talk'\n",
    "\n",
    "try:\n",
    "    print(whisper())\n",
    "except NameError as e:\n",
    "    print(e)"
   ]
  },
  {
   "cell_type": "markdown",
   "metadata": {},
   "source": [
    "#### Functions references\n",
    "\n",
    "Okay, still here? Now the fun part...\n",
    "\n",
    "You've seen that functions are objects. Therefore functions: \n",
    "\n",
    " - can be assigned to a variable\n",
    " - can be defined in another function\n",
    " \n",
    "That means that **a function can `return` another function.** "
   ]
  },
  {
   "cell_type": "code",
   "execution_count": 7,
   "metadata": {},
   "outputs": [
    {
     "name": "stdout",
     "output_type": "stream",
     "text": [
      "<function getTalk.<locals>.shout at 0x033E38A0>\n"
     ]
    }
   ],
   "source": [
    "def getTalk(kind = 'shout'):\n",
    "    #we define functions on the fly\n",
    "    def shout(word = 'yes'):\n",
    "        return word.capitalize()+'!'\n",
    "    \n",
    "    def whisper(word = 'yes'):\n",
    "        return word.lower()+'....'\n",
    "    \n",
    "    #Then we return one of them\n",
    "    if kind == 'shout':\n",
    "        #we don't use '()' here, we aren't calling the function\n",
    "        #we are returning the function object\n",
    "        return shout\n",
    "    else:\n",
    "        return whisper\n",
    "\n",
    "#How do you use this strange beast?\n",
    "#Get the function and assign it to a variable\n",
    "\n",
    "talk = getTalk()\n",
    "\n",
    "#you can see that 'talk' is here a function object\n",
    "\n",
    "print(talk)\n",
    "    \n",
    "    "
   ]
  },
  {
   "cell_type": "code",
   "execution_count": 8,
   "metadata": {},
   "outputs": [
    {
     "name": "stdout",
     "output_type": "stream",
     "text": [
      "Yes!\n"
     ]
    }
   ],
   "source": [
    "print(talk())"
   ]
  },
  {
   "cell_type": "code",
   "execution_count": 9,
   "metadata": {},
   "outputs": [
    {
     "name": "stdout",
     "output_type": "stream",
     "text": [
      "yes....\n"
     ]
    }
   ],
   "source": [
    "#And you can even use it directly if you feel wild\n",
    "\n",
    "print(getTalk(\"whisper\")())"
   ]
  },
  {
   "cell_type": "markdown",
   "metadata": {},
   "source": [
    "There's more!\n",
    "\n",
    "If you can `return` a function, you can pass one as a parameter:"
   ]
  },
  {
   "cell_type": "code",
   "execution_count": 10,
   "metadata": {},
   "outputs": [
    {
     "name": "stdout",
     "output_type": "stream",
     "text": [
      "I do something before then I call the function you gave me\n",
      "Yes!\n"
     ]
    }
   ],
   "source": [
    "def doSomethingBefore(func):\n",
    "    print(\"I do something before then I call the function you gave me\")\n",
    "    print(func())\n",
    "    \n",
    "doSomethingBefore(scream)    "
   ]
  },
  {
   "cell_type": "markdown",
   "metadata": {},
   "source": [
    "Well, you just have everything needed to understand decorators. You see, decorators are 'wrapers', which means that **they let you execute code before and after the function they decorate** without modifying the function itself.\n",
    "\n",
    "#### Handcrafted decorators\n",
    "\n",
    "How you'd do it manually:\n"
   ]
  },
  {
   "cell_type": "code",
   "execution_count": 11,
   "metadata": {
    "collapsed": true
   },
   "outputs": [],
   "source": [
    "#A decorator is a function that expects Another function as parameter\n",
    "def my_new_decorator(a_function_to_decorate):\n",
    "    \n",
    "    #Inside, the decorator defines a function on the fly: the wrapper.\n",
    "    #This function is going to be wrapper around the original function.\n",
    "    #so it can execute code before and after it.\n",
    "    \n",
    "    def the_wrapper_around_the_original_function():\n",
    "        \n",
    "        #Put here the code you want to be executecd BEFORE the original fxn is called\n",
    "        print(\"Before the function runs\")\n",
    "        \n",
    "        #Call the function (using parentheses)\n",
    "        a_function_to_decorate()\n",
    "        \n",
    "        #put here the code you want to be executed AFTER the original fxn is called\n",
    "        print(\"After the function runs\")\n",
    "        \n",
    "    #At this point, \"a_function_to_decorate\" Has never been executed.\n",
    "    #We return the wrapper function we have just created.\n",
    "    #The wrapper contains the function and the code to execute before and after. It's ready to use\n",
    "    return the_wrapper_around_the_original_function\n",
    "\n",
    "#Now imagine you create a function you don't want to touch ever.\n",
    "\n",
    "def a_stand_alone_function():\n",
    "    print(\"I am a stand alone function, don't you dare to modify me\")"
   ]
  },
  {
   "cell_type": "markdown",
   "metadata": {},
   "source": [
    "Now, you probably want that every time you call `a_stand_alone_function`, `a_stand_alone_function_decorated` is called instead. That's easy, just overwrite `a_stand_alone_function` with the function returned by `my_new_decorator`:"
   ]
  },
  {
   "cell_type": "code",
   "execution_count": 12,
   "metadata": {},
   "outputs": [
    {
     "name": "stdout",
     "output_type": "stream",
     "text": [
      "Before the function runs\n",
      "I am a stand alone function, don't you dare to modify me\n",
      "After the function runs\n"
     ]
    }
   ],
   "source": [
    "a_stand_alone_function = my_new_decorator(a_stand_alone_function)\n",
    "a_stand_alone_function()"
   ]
  },
  {
   "cell_type": "markdown",
   "metadata": {},
   "source": [
    "That's exactly what decorators do!\n",
    "\n",
    "#### Decorators demystified\n",
    "\n",
    "The previous example, using the decorator syntax:\n"
   ]
  },
  {
   "cell_type": "code",
   "execution_count": 14,
   "metadata": {},
   "outputs": [
    {
     "name": "stdout",
     "output_type": "stream",
     "text": [
      "Before the function runs\n",
      "Leave me alone\n",
      "After the function runs\n"
     ]
    }
   ],
   "source": [
    "@my_new_decorator\n",
    "def another_stand_alone_function():\n",
    "    print(\"Leave me alone\")\n",
    "    \n",
    "another_stand_alone_function()    "
   ]
  },
  {
   "cell_type": "markdown",
   "metadata": {},
   "source": [
    "Yes, that's all,it's that simple. `@decorator` is just a shortcut to:\n",
    "\n",
    "    another_stand_alone_function = my_new_decorator(another_stand_alone_function)\n",
    "  \n",
    "Decorators are just a pythonic variant of the [decorator design pattern](). There are several classic design patterns embedded in Python to ease development (like iterators).\n",
    "\n",
    "Of course, you can accumulate decorators:"
   ]
  },
  {
   "cell_type": "code",
   "execution_count": 15,
   "metadata": {},
   "outputs": [
    {
     "name": "stdout",
     "output_type": "stream",
     "text": [
      "--ham--\n"
     ]
    }
   ],
   "source": [
    "def bread(func):\n",
    "    def wrapper():\n",
    "        print(\"</''''''\\>\")\n",
    "        func()\n",
    "        print(\"<\\''''''/>\")\n",
    "    return wrapper\n",
    "\n",
    "def ingredients(func):\n",
    "    def wrapper():\n",
    "        print(\"#tomatoes#\")\n",
    "        func()\n",
    "        print(\"-salad-\")\n",
    "    return wrapper\n",
    "\n",
    "def sandwich(food = \"--ham--\"):\n",
    "    print(food)\n",
    "    \n",
    "sandwich()    "
   ]
  },
  {
   "cell_type": "code",
   "execution_count": 16,
   "metadata": {},
   "outputs": [
    {
     "name": "stdout",
     "output_type": "stream",
     "text": [
      "</''''''\\>\n",
      "#tomatoes#\n",
      "--ham--\n",
      "-salad-\n",
      "<''''''/>\n"
     ]
    }
   ],
   "source": [
    "sandwich =  bread(ingredients(sandwich))\n",
    "sandwich()"
   ]
  },
  {
   "cell_type": "markdown",
   "metadata": {},
   "source": [
    "Using the Python decorator syntax:"
   ]
  },
  {
   "cell_type": "code",
   "execution_count": 17,
   "metadata": {},
   "outputs": [
    {
     "name": "stdout",
     "output_type": "stream",
     "text": [
      "</''''''\\>\n",
      "#tomatoes#\n",
      "--ham--\n",
      "-salad-\n",
      "<''''''/>\n"
     ]
    }
   ],
   "source": [
    "@bread\n",
    "@ingredients\n",
    "def sandwich(food=\"--ham--\"):\n",
    "    print(food)\n",
    "    \n",
    "sandwich()    "
   ]
  },
  {
   "cell_type": "markdown",
   "metadata": {},
   "source": [
    "The order you set the decorators MATTERS:"
   ]
  },
  {
   "cell_type": "code",
   "execution_count": 18,
   "metadata": {},
   "outputs": [
    {
     "name": "stdout",
     "output_type": "stream",
     "text": [
      "#tomatoes#\n",
      "</''''''\\>\n",
      "--ham--\n",
      "<''''''/>\n",
      "-salad-\n"
     ]
    }
   ],
   "source": [
    "@ingredients\n",
    "@bread\n",
    "def strange_sandwich(food = \"--ham--\"):\n",
    "    print(food)\n",
    "    \n",
    "strange_sandwich()    "
   ]
  },
  {
   "cell_type": "markdown",
   "metadata": {},
   "source": [
    "#### Now: to answer the question...\n",
    "\n",
    "As a conclusion, you can easily see how to answer the question:"
   ]
  },
  {
   "cell_type": "code",
   "execution_count": 20,
   "metadata": {},
   "outputs": [
    {
     "data": {
      "text/plain": [
       "'<b><i>hello</i></b>'"
      ]
     },
     "execution_count": 20,
     "metadata": {},
     "output_type": "execute_result"
    }
   ],
   "source": [
    "#The decorator to make it bold\n",
    "def makebold(fn):\n",
    "    #The new fxn the decorator returns\n",
    "    def wrapper():\n",
    "        #Insertion of some code before and after\n",
    "        return \"<b>\"+fn()+\"</b>\"\n",
    "    return wrapper\n",
    "\n",
    "#The decorator to make it italic\n",
    "def makeitalic(fn):\n",
    "    def wrapper():\n",
    "        return\"<i>\"+fn()+\"</i>\"\n",
    "    return wrapper\n",
    "@makebold\n",
    "@makeitalic\n",
    "def say():\n",
    "    return \"hello\"\n",
    "\n",
    "say()"
   ]
  },
  {
   "cell_type": "markdown",
   "metadata": {},
   "source": [
    "Above is equivalent to:\n",
    "\n",
    "    say = makebold(makeitalic(say))\n"
   ]
  },
  {
   "cell_type": "markdown",
   "metadata": {},
   "source": [
    "#### Taking decorators to the next level\n",
    "\n",
    "##### Passing arguments to the decorated function"
   ]
  },
  {
   "cell_type": "code",
   "execution_count": 23,
   "metadata": {},
   "outputs": [
    {
     "name": "stdout",
     "output_type": "stream",
     "text": [
      "I got args!Look:Sam, Gates\n",
      "My name is Sam Gates\n"
     ]
    }
   ],
   "source": [
    "#It's not black magic, you just have to let the wrapper pass the argument:\n",
    "\n",
    "def a_decorator_passing_args(func_to_decorate):\n",
    "    def a_wrapper_accepting_args(arg1, arg2):\n",
    "        print(\"I got args!Look:{0}, {1}\".format(arg1,arg2))\n",
    "        func_to_decorate(arg1, arg2)\n",
    "    return a_wrapper_accepting_args\n",
    "\n",
    "#since when you are calling the function returned by the decorator, you are calling the wrapper,\n",
    "#passing arguments to the wrapper will let it pass them to the decorated function\n",
    "\n",
    "@a_decorator_passing_args\n",
    "def print_full_name(first, last):\n",
    "    print(\"My name is {0} {1}\".format(first, last))\n",
    "    \n",
    "print_full_name('Sam', 'Gates')    \n",
    "    "
   ]
  },
  {
   "cell_type": "markdown",
   "metadata": {},
   "source": [
    "#### Decorating Methods\n",
    "\n",
    "One nifty thing about Python is that methods and functions are really the same. The only difference is that methods expect that their first argument is a reference to the current object(`self`).\n",
    "\n",
    "That means you can build a decorator for methods the same way! Just remember to take `self` into consideration:"
   ]
  },
  {
   "cell_type": "code",
   "execution_count": 25,
   "metadata": {},
   "outputs": [
    {
     "name": "stdout",
     "output_type": "stream",
     "text": [
      "I am 26, what did you think?\n"
     ]
    }
   ],
   "source": [
    "def method_friendly_decorator(method_to_decorate):\n",
    "    def wrapper(self, lie):\n",
    "        lie = lie - 3 #vey friendly, decrease age even more :)\n",
    "        return method_to_decorate(self, lie)\n",
    "    return wrapper\n",
    "\n",
    "class Lucy:\n",
    "    def __init__(self):\n",
    "        self.age = 32\n",
    "        \n",
    "    @method_friendly_decorator\n",
    "    def sayYourAge(self,lie):\n",
    "        print(\"I am {0}, what did you think?\".format(self.age+lie))\n",
    "        \n",
    "l = Lucy()\n",
    "l.sayYourAge(-3)"
   ]
  },
  {
   "cell_type": "markdown",
   "metadata": {},
   "source": [
    "If you're making general-purpose decorator--one you'll apply to any function or methods, no matter its arguments--then just use `*args, **kwargs`:"
   ]
  },
  {
   "cell_type": "code",
   "execution_count": 26,
   "metadata": {},
   "outputs": [
    {
     "name": "stdout",
     "output_type": "stream",
     "text": [
      "Do I have args?:\n",
      "()\n",
      "{}\n",
      "Python is cool, no argument here.\n"
     ]
    }
   ],
   "source": [
    "def a_decorator_passing_arbitrary_args(function_to_decorate):\n",
    "    #the wrapper accepts any arguments\n",
    "    def a_wrapper_accepting_arbitrary_args(*args,**kwargs):\n",
    "        print(\"Do I have args?:\")\n",
    "        print(args)\n",
    "        print(kwargs)\n",
    "        #Then you unpack the arguments, here *args, **kwargs\n",
    "        function_to_decorate(*args,**kwargs)\n",
    "    return a_wrapper_accepting_arbitrary_args\n",
    "\n",
    "@a_decorator_passing_arbitrary_args\n",
    "def function_with_no_argument():\n",
    "    print(\"Python is cool, no argument here.\")\n",
    "    \n",
    "function_with_no_argument()    "
   ]
  },
  {
   "cell_type": "code",
   "execution_count": 27,
   "metadata": {},
   "outputs": [
    {
     "name": "stdout",
     "output_type": "stream",
     "text": [
      "Do I have args?:\n",
      "(1, 2, 3)\n",
      "{}\n",
      "1 2 3\n"
     ]
    }
   ],
   "source": [
    "@a_decorator_passing_arbitrary_args\n",
    "def function_with_arguments(a,b,c):\n",
    "    print(a,b,c)\n",
    "    \n",
    "function_with_arguments(1,2,3) "
   ]
  },
  {
   "cell_type": "code",
   "execution_count": 29,
   "metadata": {},
   "outputs": [
    {
     "name": "stdout",
     "output_type": "stream",
     "text": [
      "Do I have args?:\n",
      "('Sam', 'Linus', 'Steve')\n",
      "{'platypus': 'Indeed!'}\n",
      "Do Sam, Linus and Steve like platypus? Indeed!\n"
     ]
    }
   ],
   "source": [
    "@a_decorator_passing_arbitrary_args\n",
    "def function_with_named_arguments(a,b,c, platypus = \"why not?\"):\n",
    "    print(\"Do {0}, {1} and {2} like platypus? {3}\".format(a,b,c,platypus))\n",
    "    \n",
    "function_with_named_arguments('Sam', 'Linus', 'Steve', platypus = 'Indeed!') "
   ]
  },
  {
   "cell_type": "code",
   "execution_count": 31,
   "metadata": {},
   "outputs": [
    {
     "name": "stdout",
     "output_type": "stream",
     "text": [
      "Do I have args?:\n",
      "(<__main__.Mary object at 0x035F3DB0>,)\n",
      "{}\n",
      "I am 28\n"
     ]
    }
   ],
   "source": [
    "class Mary:\n",
    "    def __init__(self):\n",
    "        self.age = 31\n",
    "        \n",
    "    @a_decorator_passing_arbitrary_args\n",
    "    def sayYourAge(self, lie= -3):\n",
    "        print(\"I am {0}\".format(self.age+ lie))\n",
    "        \n",
    "m = Mary()\n",
    "\n",
    "m.sayYourAge()"
   ]
  },
  {
   "cell_type": "markdown",
   "metadata": {},
   "source": [
    "#### Passing arguments to the decorator\n",
    "\n",
    "Great, now what would you say about passing arguments to the decorator itself?\n",
    "\n",
    "This can get somewhat twisted, since a decorator must accept a function as an argument. Therefore you cannot pass the decorated function's arguments directly to the decorator. \n",
    "\n",
    "Before rushing to the solution, let's write a little reminder:"
   ]
  },
  {
   "cell_type": "code",
   "execution_count": 36,
   "metadata": {},
   "outputs": [
    {
     "name": "stdout",
     "output_type": "stream",
     "text": [
      "I am an ordinary function\n"
     ]
    }
   ],
   "source": [
    "#decorators are ordinary functions\\\n",
    "\n",
    "def my_decorator(func):\n",
    "    print(\"I am an ordinary function\")\n",
    "    def wrapper():\n",
    "        print(\"I am function returned by the decorator\")\n",
    "        func()\n",
    "    return wrapper\n",
    "\n",
    "# therefore you can call it without any \"@\"\n",
    "\n",
    "def lazy_function():\n",
    "    print(\"zzzzzzz\")\n",
    "    \n",
    "decorated_function = my_decorator(lazy_function)\n",
    "# Take note that 'lazy_function' wasn't executed but 'print' function of decorator executed.\n"
   ]
  },
  {
   "cell_type": "code",
   "execution_count": 37,
   "metadata": {},
   "outputs": [
    {
     "name": "stdout",
     "output_type": "stream",
     "text": [
      "I am an ordinary function\n"
     ]
    }
   ],
   "source": [
    "@my_decorator\n",
    "def lazy_function():\n",
    "    print(\"zzzzzz\")"
   ]
  },
  {
   "cell_type": "markdown",
   "metadata": {},
   "source": [
    "It's exactly the same. \"my_decorator\" is called. So when you `@my_decorator`, you are telling Python to call the function 'labelled by the variable '`my_decorator`'.\n",
    "\n",
    "This is important! The label you give can point directly to the decorator -**or not**.\n",
    "\n",
    "Let's get evil. :)"
   ]
  },
  {
   "cell_type": "code",
   "execution_count": 38,
   "metadata": {},
   "outputs": [
    {
     "name": "stdout",
     "output_type": "stream",
     "text": [
      "I make decorators! I am executed only once:when you make me create a decorator.\n",
      "As a decorator maker, I return a decorator\n"
     ]
    }
   ],
   "source": [
    "def decorator_maker():\n",
    "    \n",
    "    print(\"I make decorators! I am executed only once:\"\n",
    "         \"when you make me create a decorator.\")\n",
    "    \n",
    "    def my_decorator(func):\n",
    "        print(\"I'm a decorator. I am executed only when you decorate a function.\")\n",
    "        \n",
    "        def wrapped():\n",
    "            print(\"I am the wrapper around the decorated function\"\n",
    "                 \"I am called when you call the decorated function.\"\n",
    "                 \"As the wrapper, I return the result of the decorated function\")\n",
    "            return func()\n",
    "        \n",
    "        print(\"As the decorator, I returned the wrapped function\")\n",
    "        \n",
    "        return wrapped\n",
    "    \n",
    "    print(\"As a decorator maker, I return a decorator\")\n",
    "    return my_decorator\n",
    "\n",
    "#Let's create a decorator. It's just a new function after all\n",
    "\n",
    "new_decorator = decorator_maker()"
   ]
  },
  {
   "cell_type": "code",
   "execution_count": 39,
   "metadata": {},
   "outputs": [
    {
     "name": "stdout",
     "output_type": "stream",
     "text": [
      "I'm a decorator. I am executed only when you decorate a function.\n",
      "As the decorator, I returned the wrapped function\n"
     ]
    }
   ],
   "source": [
    "#Now we decorate the function\n",
    "\n",
    "def decorated_function():\n",
    "    print(\"I am the decorated function.\")\n",
    "    \n",
    "decorated_function = new_decorator(decorated_function)    "
   ]
  },
  {
   "cell_type": "code",
   "execution_count": 40,
   "metadata": {},
   "outputs": [
    {
     "name": "stdout",
     "output_type": "stream",
     "text": [
      "I am the wrapper around the decorated functionI am called when you call the decorated function.As the wrapper, I return the result of the decorated function\n",
      "I am the decorated function.\n"
     ]
    }
   ],
   "source": [
    "decorated_function()"
   ]
  },
  {
   "cell_type": "markdown",
   "metadata": {},
   "source": [
    "No surprise here.\n",
    "\n",
    "Let's do Exactly the same thing, but skip all the pesky intermediate variables:"
   ]
  },
  {
   "cell_type": "code",
   "execution_count": 41,
   "metadata": {},
   "outputs": [
    {
     "name": "stdout",
     "output_type": "stream",
     "text": [
      "I make decorators! I am executed only once:when you make me create a decorator.\n",
      "As a decorator maker, I return a decorator\n",
      "I'm a decorator. I am executed only when you decorate a function.\n",
      "As the decorator, I returned the wrapped function\n"
     ]
    }
   ],
   "source": [
    "def decorated_function():\n",
    "    print(\"I am the decorated function\")\n",
    "    \n",
    "decorated_function =decorator_maker()(decorated_function)    "
   ]
  },
  {
   "cell_type": "code",
   "execution_count": 42,
   "metadata": {},
   "outputs": [
    {
     "name": "stdout",
     "output_type": "stream",
     "text": [
      "I am the wrapper around the decorated functionI am called when you call the decorated function.As the wrapper, I return the result of the decorated function\n",
      "I am the decorated function\n"
     ]
    }
   ],
   "source": [
    "decorated_function()\n"
   ]
  },
  {
   "cell_type": "markdown",
   "metadata": {},
   "source": [
    "Let's make it even shorter"
   ]
  },
  {
   "cell_type": "code",
   "execution_count": 43,
   "metadata": {},
   "outputs": [
    {
     "name": "stdout",
     "output_type": "stream",
     "text": [
      "I make decorators! I am executed only once:when you make me create a decorator.\n",
      "As a decorator maker, I return a decorator\n",
      "I'm a decorator. I am executed only when you decorate a function.\n",
      "As the decorator, I returned the wrapped function\n"
     ]
    }
   ],
   "source": [
    "@decorator_maker()\n",
    "def decorated_function():\n",
    "    print(\"I am the decorated function\")"
   ]
  },
  {
   "cell_type": "code",
   "execution_count": 44,
   "metadata": {},
   "outputs": [
    {
     "name": "stdout",
     "output_type": "stream",
     "text": [
      "I am the wrapper around the decorated functionI am called when you call the decorated function.As the wrapper, I return the result of the decorated function\n",
      "I am the decorated function\n"
     ]
    }
   ],
   "source": [
    "decorated_function()"
   ]
  },
  {
   "cell_type": "markdown",
   "metadata": {},
   "source": [
    "Hey, did you see that? We used a function call with the `2` syntax! :)\n",
    "\n",
    "So, back to decorators with arguments. If we can use functions to generate the decorator on the fly, we can pass arguments to that function, right?"
   ]
  },
  {
   "cell_type": "code",
   "execution_count": 46,
   "metadata": {},
   "outputs": [
    {
     "name": "stdout",
     "output_type": "stream",
     "text": [
      "I make decorators! And I accept arguments: Leonard, Sheldon\n",
      "I am the decorator. Somehow you passed me args: Leonard,Sheldon\n",
      "I am the wrapper around the decorated fxn. \n",
      "I can access all the variables \n",
      "\t - from the decorator: Leonard,Sheldon\n",
      "\t - from the function call:Rajesh,Howard\n",
      "Then I can pass them to decorated function\n",
      "I am the decorated function and only knows abt my args: Rajesh,Howard\n"
     ]
    }
   ],
   "source": [
    "def decorator_maker_with_args(dec_arg1, dec_arg2):\n",
    "    print(\"I make decorators! And I accept arguments: {0}, {1}\".format(dec_arg1, dec_arg2))\n",
    "    \n",
    "    def my_decorator(func):\n",
    "        #The ability to pass arguments here is a gift from closures.\n",
    "        #If you aren't comfortable with closures, you can assume it's ok, or read the SO link\n",
    "        #link to be added later\n",
    "        print(\"I am the decorator. Somehow you passed me args: {0},{1}\".format(dec_arg1, dec_arg2))\n",
    "        \n",
    "        #Don't confuse decorator args with function args\n",
    "        def wrapped(func_arg1,func_arg2):\n",
    "            print(\"I am the wrapper around the decorated fxn. \\n\"\n",
    "                 \"I can access all the variables \\n\"\n",
    "                 \"\\t - from the decorator: {0},{1}\\n\"\n",
    "                 \"\\t - from the function call:{2},{3}\\n\"\n",
    "                 \"Then I can pass them to decorated function\"\n",
    "                 .format(dec_arg1, dec_arg2, func_arg1, func_arg2))\n",
    "            return func(func_arg1, func_arg2)\n",
    "            \n",
    "        return wrapped\n",
    "        \n",
    "    return my_decorator\n",
    "\n",
    "@decorator_maker_with_args(\"Leonard\", \"Sheldon\")\n",
    "def decorated_function_with_args(func_arg1, func_arg2):\n",
    "    print(\"I am the decorated function and only knows abt my args: {0},{1}\"\n",
    "          .format(func_arg1, func_arg2))\n",
    "    \n",
    "decorated_function_with_args(\"Rajesh\",\"Howard\")    "
   ]
  },
  {
   "cell_type": "markdown",
   "metadata": {},
   "source": [
    "Here it is: a decorator with arguments. Arguments can be set as variable:"
   ]
  },
  {
   "cell_type": "code",
   "execution_count": 47,
   "metadata": {},
   "outputs": [
    {
     "name": "stdout",
     "output_type": "stream",
     "text": [
      "I make decorators! And I accept arguments: Leonard, Penny\n",
      "I am the decorator. Somehow you passed me args: Leonard,Penny\n",
      "I am the wrapper around the decorated fxn. \n",
      "I can access all the variables \n",
      "\t - from the decorator: Leonard,Penny\n",
      "\t - from the function call:Leslie,Howard\n",
      "Then I can pass them to decorated function\n",
      "I am decorated function and only knows about my args: Leslie, Howard\n"
     ]
    }
   ],
   "source": [
    "c1 = \"Penny\"\n",
    "c2 = \"Leslie\"\n",
    "\n",
    "@decorator_maker_with_args(\"Leonard\", c1)\n",
    "def decorated_function_with_args(func_arg1, func_arg2):\n",
    "    print(\"I am decorated function and only knows about my args: {0}, {1}\"\n",
    "          .format(func_arg1, func_arg2))\n",
    "\n",
    "decorated_function_with_args(c2, \"Howard\")    "
   ]
  },
  {
   "cell_type": "markdown",
   "metadata": {},
   "source": [
    "As you can see, you can pass arguments to the decorator like any function using the trick. You can even use `*args, **kwargs` if you wish. But remember decorators are called **only once**.\n",
    "\n",
    "Just when Python imports the script. You can't dynamically set the arguments afterwards. When you do `import x`, **the function is already decorated**, so you can't change anything."
   ]
  },
  {
   "cell_type": "markdown",
   "metadata": {},
   "source": [
    "#### Let's practice: decorating a decorator\n",
    "\n",
    "Okay, as a bonus, I'll give you a snipppet to make any decorator accept generically any argument. After all, in order to accept arguments, we created our decorator using another function.\n",
    "\n",
    "We wrapped the decorator.\n",
    "\n",
    "Anything else we saw recently that wrapped function?\n",
    "\n",
    "Oh yes, decorators!\n",
    "\n",
    "Let's have some fun and write a decorator for the decorators:"
   ]
  },
  {
   "cell_type": "code",
   "execution_count": 50,
   "metadata": {
    "collapsed": true
   },
   "outputs": [],
   "source": [
    "def decorator_with_args(decorator_to_enhance):\n",
    "    \"\"\"This function is supposed to be used as a decorator. It must decorate an other function,\n",
    "    that is intended to be used as a decorator. Take a cup of coffee. It will allow any \n",
    "    decorator to accept any arbitray number of argumnts, saving you the headache to remember \n",
    "    how to that every time. \"\"\"\n",
    "    \n",
    "    #we use the same trick we did to pass arguments\n",
    "    def decorator_maker(*args, **kwargs):\n",
    "        #we create on the fly a decorator that accept only a function\n",
    "        #but keeps the passed arguments from the maker.\n",
    "        def decorator_wrapper(func):\n",
    "            #we return the result of the original decorator, which, after all, \n",
    "            #IS JUST AN ORDINARY FUNCTION which returns a function.\n",
    "            #Only pitfall: the decorator must have this specific signature or it won't work\n",
    "            return decorator_to_enhance(func, *args, **kwargs)\n",
    "        return decorator_wrapper\n",
    "    return decorator_maker"
   ]
  },
  {
   "cell_type": "markdown",
   "metadata": {},
   "source": [
    "It can be used as follows:"
   ]
  },
  {
   "cell_type": "code",
   "execution_count": 52,
   "metadata": {},
   "outputs": [
    {
     "name": "stdout",
     "output_type": "stream",
     "text": [
      "Decorate`d with (42, 404, 1024) {}\n",
      "Hello Universe and  everything\n"
     ]
    }
   ],
   "source": [
    "@decorator_with_args\n",
    "def decorated_decorator(func, *args, **kwargs):\n",
    "    def wrapper(func_arg1, func_arg2):\n",
    "        print(\"Decorate`d with {0} {1}\".format(args, kwargs))\n",
    "        return func(func_arg1, func_arg2)\n",
    "    return wrapper\n",
    "\n",
    "# Then you decorate the functions you wish with your brand new decorated decorator\n",
    "\n",
    "@decorated_decorator(42,404, 1024)\n",
    "def decorated_function(func_arg1, func_arg2):\n",
    "    print(\"Hello {0} {1}\".format(func_arg1, func_arg2))\n",
    "    \n",
    "decorated_function(\"Universe and \", \"everything\")    "
   ]
  },
  {
   "cell_type": "markdown",
   "metadata": {},
   "source": [
    "I know, the last time you had this feeling, it was after listening a guy saying: \"before understanding recursion, you must first understand recursion\". But now, don't you feel good about mastering this?\n",
    "\n",
    "#### Best practices: decorators\n",
    "\n",
    " - Decorators were introduced in Python 2.4, so be sure your code will be run on >=2.4. \n",
    " - Decorators slow down the function call. Keep that in mind. \n",
    " - **You can't un-decorate a function**\n",
    " - Decorators wrap functions, which can make them hard to debug. (This gets better from Python >=2.5, see below)\n",
    " \n",
    "The `functools` module was introduced in Python 2.5. It includes the function `functools.wraps()`, which copies the name, module, and docstring of the decorated function to its wrappe. (Fun fact: `functools.wraps()` is a decorator! \n",
    "  "
   ]
  },
  {
   "cell_type": "code",
   "execution_count": 53,
   "metadata": {},
   "outputs": [
    {
     "name": "stdout",
     "output_type": "stream",
     "text": [
      "foo\n"
     ]
    }
   ],
   "source": [
    "#for debugging, the stacktrace prints you the function __name__\n",
    "\n",
    "def foo():\n",
    "    print(\"foo\")\n",
    "    \n",
    "print(foo.__name__)    "
   ]
  },
  {
   "cell_type": "code",
   "execution_count": 54,
   "metadata": {},
   "outputs": [
    {
     "name": "stdout",
     "output_type": "stream",
     "text": [
      "wrapper\n"
     ]
    }
   ],
   "source": [
    "#with a decorator, it gets messy\n",
    "def bar(func):\n",
    "    def wrapper():\n",
    "        print(\"bar\")\n",
    "        return func()\n",
    "    return wrapper\n",
    "\n",
    "@bar\n",
    "def foo():\n",
    "    print(\"foo\")\n",
    "    \n",
    "print(foo.__name__)    "
   ]
  },
  {
   "cell_type": "code",
   "execution_count": 55,
   "metadata": {},
   "outputs": [
    {
     "name": "stdout",
     "output_type": "stream",
     "text": [
      "foo\n"
     ]
    }
   ],
   "source": [
    "#'functools' can help here\n",
    "\n",
    "import functools\n",
    "\n",
    "def bar(func):\n",
    "    #we say that 'wrapper', is wrapping \"func\" and the magic begins\n",
    "    @functools.wraps(func)\n",
    "    def wrapper():\n",
    "        print(\"bar\")\n",
    "        return func()\n",
    "    return wrapper\n",
    "\n",
    "@bar\n",
    "def foo():\n",
    "    print(\"foo\")\n",
    "    \n",
    "print(foo.__name__)    "
   ]
  },
  {
   "cell_type": "markdown",
   "metadata": {},
   "source": [
    "#### How can the decorators be useful?\n",
    "\n",
    "**Now the big question:** What can I use decorators for?\n",
    "\n",
    "Seem cool and powerful, but a practical example would be great. Well, there are 1000 possibilities.Classic uses are extending a function behavior from an external lib(you can't modify it), or for debugging (you don't want to modify it because it's temporary.)\n",
    "\n",
    "You can use them to extend several functions in a DRY's way, like so:"
   ]
  },
  {
   "cell_type": "code",
   "execution_count": 57,
   "metadata": {},
   "outputs": [
    {
     "name": "stdout",
     "output_type": "stream",
     "text": [
      "reverse_string, ('Able was I ere I saw Elba',) {}\n",
      "wrapper 0.0003452901720618256\n",
      "wrapper has been used: 1x\n",
      "<reversed object at 0x0346CBF0>\n",
      "reverse_string, ('A man, a plan, a canoe, pasta, heros, rajahs',) {}\n",
      "wrapper 7.465733449985425e-05\n",
      "wrapper has been used: 2x\n",
      "<reversed object at 0x0346C910>\n"
     ]
    }
   ],
   "source": [
    "def benchmark(func):\n",
    "    \"\"\"A decorator that prints the time a function takes to execute\"\"\"\n",
    "    import time\n",
    "    def wrapper(*args, **kwargs):\n",
    "        t = time.clock()\n",
    "        res = func(*args, **kwargs)\n",
    "        print(\"{0} {1}\".format(func.__name__, time.clock()-t))\n",
    "        return res\n",
    "    return wrapper\n",
    "\n",
    "def logging(func):\n",
    "    \"\"\"A decorator that logs the activity of the script. It actually just print it, but could\n",
    "    be logging!\"\"\"\n",
    "    def wrapper(*args, **kwargs):\n",
    "        res = func(*args, **kwargs)\n",
    "        print(\"{0}, {1} {2}\".format(func.__name__, args, kwargs))\n",
    "        return res\n",
    "    return wrapper\n",
    "\n",
    "def counter(func):\n",
    "    \"\"\"A decorator that counts and prints the number of times a function has been run\"\"\"\n",
    "    def wrapper(*args, **kwargs):\n",
    "        wrapper.count = wrapper.count + 1\n",
    "        res = func(*args, **kwargs)\n",
    "        print(\"{0} has been used: {1}x\".format(func.__name__, wrapper.count))\n",
    "        return res\n",
    "    wrapper.count = 0\n",
    "    return wrapper\n",
    "\n",
    "@counter\n",
    "@benchmark\n",
    "@logging\n",
    "def reverse_string(string):\n",
    "    return str(reversed(string))\n",
    "\n",
    "print(reverse_string(\"Able was I ere I saw Elba\"))\n",
    "print(reverse_string(\"A man, a plan, a canoe, pasta, heros, rajahs\"))\n",
    "\n",
    "# reverse string isn't printed?           "
   ]
  },
  {
   "cell_type": "markdown",
   "metadata": {},
   "source": [
    "Of course the good thing with decorators is that you can use them right away on almost anything without rewriting. DRY, I said:"
   ]
  },
  {
   "cell_type": "code",
   "execution_count": 64,
   "metadata": {},
   "outputs": [
    {
     "ename": "ImportError",
     "evalue": "cannot import name 'urlopen'",
     "output_type": "error",
     "traceback": [
      "\u001b[1;31m----------------------------------------------------------------\u001b[0m",
      "\u001b[1;31mImportError\u001b[0m                    Traceback (most recent call last)",
      "\u001b[1;32m<ipython-input-64-94b9485e35a6>\u001b[0m in \u001b[0;36m<module>\u001b[1;34m()\u001b[0m\n\u001b[0;32m     11\u001b[0m         \u001b[1;32mreturn\u001b[0m \u001b[1;34m\"No, I'm .... doesn't!\"\u001b[0m\u001b[1;33m\u001b[0m\u001b[0m\n\u001b[0;32m     12\u001b[0m \u001b[1;33m\u001b[0m\u001b[0m\n\u001b[1;32m---> 13\u001b[1;33m \u001b[0mprint\u001b[0m\u001b[1;33m(\u001b[0m\u001b[0mget_random_futurama_quote\u001b[0m\u001b[1;33m(\u001b[0m\u001b[1;33m)\u001b[0m\u001b[1;33m)\u001b[0m\u001b[1;33m\u001b[0m\u001b[0m\n\u001b[0m\u001b[0;32m     14\u001b[0m \u001b[0mprint\u001b[0m\u001b[1;33m(\u001b[0m\u001b[0mget_random_futurama_quote\u001b[0m\u001b[1;33m(\u001b[0m\u001b[1;33m)\u001b[0m\u001b[1;33m)\u001b[0m\u001b[1;33m\u001b[0m\u001b[0m\n\u001b[0;32m     15\u001b[0m \u001b[1;33m\u001b[0m\u001b[0m\n",
      "\u001b[1;32m<ipython-input-57-87d3a12fef9f>\u001b[0m in \u001b[0;36mwrapper\u001b[1;34m(*args, **kwargs)\u001b[0m\n\u001b[0;32m     22\u001b[0m     \u001b[1;32mdef\u001b[0m \u001b[0mwrapper\u001b[0m\u001b[1;33m(\u001b[0m\u001b[1;33m*\u001b[0m\u001b[0margs\u001b[0m\u001b[1;33m,\u001b[0m \u001b[1;33m**\u001b[0m\u001b[0mkwargs\u001b[0m\u001b[1;33m)\u001b[0m\u001b[1;33m:\u001b[0m\u001b[1;33m\u001b[0m\u001b[0m\n\u001b[0;32m     23\u001b[0m         \u001b[0mwrapper\u001b[0m\u001b[1;33m.\u001b[0m\u001b[0mcount\u001b[0m \u001b[1;33m=\u001b[0m \u001b[0mwrapper\u001b[0m\u001b[1;33m.\u001b[0m\u001b[0mcount\u001b[0m \u001b[1;33m+\u001b[0m \u001b[1;36m1\u001b[0m\u001b[1;33m\u001b[0m\u001b[0m\n\u001b[1;32m---> 24\u001b[1;33m         \u001b[0mres\u001b[0m \u001b[1;33m=\u001b[0m \u001b[0mfunc\u001b[0m\u001b[1;33m(\u001b[0m\u001b[1;33m*\u001b[0m\u001b[0margs\u001b[0m\u001b[1;33m,\u001b[0m \u001b[1;33m**\u001b[0m\u001b[0mkwargs\u001b[0m\u001b[1;33m)\u001b[0m\u001b[1;33m\u001b[0m\u001b[0m\n\u001b[0m\u001b[0;32m     25\u001b[0m         \u001b[0mprint\u001b[0m\u001b[1;33m(\u001b[0m\u001b[1;34m\"{0} has been used: {1}x\"\u001b[0m\u001b[1;33m.\u001b[0m\u001b[0mformat\u001b[0m\u001b[1;33m(\u001b[0m\u001b[0mfunc\u001b[0m\u001b[1;33m.\u001b[0m\u001b[0m__name__\u001b[0m\u001b[1;33m,\u001b[0m \u001b[0mwrapper\u001b[0m\u001b[1;33m.\u001b[0m\u001b[0mcount\u001b[0m\u001b[1;33m)\u001b[0m\u001b[1;33m)\u001b[0m\u001b[1;33m\u001b[0m\u001b[0m\n\u001b[0;32m     26\u001b[0m         \u001b[1;32mreturn\u001b[0m \u001b[0mres\u001b[0m\u001b[1;33m\u001b[0m\u001b[0m\n",
      "\u001b[1;32m<ipython-input-57-87d3a12fef9f>\u001b[0m in \u001b[0;36mwrapper\u001b[1;34m(*args, **kwargs)\u001b[0m\n\u001b[0;32m      4\u001b[0m     \u001b[1;32mdef\u001b[0m \u001b[0mwrapper\u001b[0m\u001b[1;33m(\u001b[0m\u001b[1;33m*\u001b[0m\u001b[0margs\u001b[0m\u001b[1;33m,\u001b[0m \u001b[1;33m**\u001b[0m\u001b[0mkwargs\u001b[0m\u001b[1;33m)\u001b[0m\u001b[1;33m:\u001b[0m\u001b[1;33m\u001b[0m\u001b[0m\n\u001b[0;32m      5\u001b[0m         \u001b[0mt\u001b[0m \u001b[1;33m=\u001b[0m \u001b[0mtime\u001b[0m\u001b[1;33m.\u001b[0m\u001b[0mclock\u001b[0m\u001b[1;33m(\u001b[0m\u001b[1;33m)\u001b[0m\u001b[1;33m\u001b[0m\u001b[0m\n\u001b[1;32m----> 6\u001b[1;33m         \u001b[0mres\u001b[0m \u001b[1;33m=\u001b[0m \u001b[0mfunc\u001b[0m\u001b[1;33m(\u001b[0m\u001b[1;33m*\u001b[0m\u001b[0margs\u001b[0m\u001b[1;33m,\u001b[0m \u001b[1;33m**\u001b[0m\u001b[0mkwargs\u001b[0m\u001b[1;33m)\u001b[0m\u001b[1;33m\u001b[0m\u001b[0m\n\u001b[0m\u001b[0;32m      7\u001b[0m         \u001b[0mprint\u001b[0m\u001b[1;33m(\u001b[0m\u001b[1;34m\"{0} {1}\"\u001b[0m\u001b[1;33m.\u001b[0m\u001b[0mformat\u001b[0m\u001b[1;33m(\u001b[0m\u001b[0mfunc\u001b[0m\u001b[1;33m.\u001b[0m\u001b[0m__name__\u001b[0m\u001b[1;33m,\u001b[0m \u001b[0mtime\u001b[0m\u001b[1;33m.\u001b[0m\u001b[0mclock\u001b[0m\u001b[1;33m(\u001b[0m\u001b[1;33m)\u001b[0m\u001b[1;33m-\u001b[0m\u001b[0mt\u001b[0m\u001b[1;33m)\u001b[0m\u001b[1;33m)\u001b[0m\u001b[1;33m\u001b[0m\u001b[0m\n\u001b[0;32m      8\u001b[0m         \u001b[1;32mreturn\u001b[0m \u001b[0mres\u001b[0m\u001b[1;33m\u001b[0m\u001b[0m\n",
      "\u001b[1;32m<ipython-input-57-87d3a12fef9f>\u001b[0m in \u001b[0;36mwrapper\u001b[1;34m(*args, **kwargs)\u001b[0m\n\u001b[0;32m     13\u001b[0m     be logging!\"\"\"\n\u001b[0;32m     14\u001b[0m     \u001b[1;32mdef\u001b[0m \u001b[0mwrapper\u001b[0m\u001b[1;33m(\u001b[0m\u001b[1;33m*\u001b[0m\u001b[0margs\u001b[0m\u001b[1;33m,\u001b[0m \u001b[1;33m**\u001b[0m\u001b[0mkwargs\u001b[0m\u001b[1;33m)\u001b[0m\u001b[1;33m:\u001b[0m\u001b[1;33m\u001b[0m\u001b[0m\n\u001b[1;32m---> 15\u001b[1;33m         \u001b[0mres\u001b[0m \u001b[1;33m=\u001b[0m \u001b[0mfunc\u001b[0m\u001b[1;33m(\u001b[0m\u001b[1;33m*\u001b[0m\u001b[0margs\u001b[0m\u001b[1;33m,\u001b[0m \u001b[1;33m**\u001b[0m\u001b[0mkwargs\u001b[0m\u001b[1;33m)\u001b[0m\u001b[1;33m\u001b[0m\u001b[0m\n\u001b[0m\u001b[0;32m     16\u001b[0m         \u001b[0mprint\u001b[0m\u001b[1;33m(\u001b[0m\u001b[1;34m\"{0}, {1} {2}\"\u001b[0m\u001b[1;33m.\u001b[0m\u001b[0mformat\u001b[0m\u001b[1;33m(\u001b[0m\u001b[0mfunc\u001b[0m\u001b[1;33m.\u001b[0m\u001b[0m__name__\u001b[0m\u001b[1;33m,\u001b[0m \u001b[0margs\u001b[0m\u001b[1;33m,\u001b[0m \u001b[0mkwargs\u001b[0m\u001b[1;33m)\u001b[0m\u001b[1;33m)\u001b[0m\u001b[1;33m\u001b[0m\u001b[0m\n\u001b[0;32m     17\u001b[0m         \u001b[1;32mreturn\u001b[0m \u001b[0mres\u001b[0m\u001b[1;33m\u001b[0m\u001b[0m\n",
      "\u001b[1;32m<ipython-input-64-94b9485e35a6>\u001b[0m in \u001b[0;36mget_random_futurama_quote\u001b[1;34m()\u001b[0m\n\u001b[0;32m      3\u001b[0m \u001b[1;33m@\u001b[0m\u001b[0mlogging\u001b[0m\u001b[1;33m\u001b[0m\u001b[0m\n\u001b[0;32m      4\u001b[0m \u001b[1;32mdef\u001b[0m \u001b[0mget_random_futurama_quote\u001b[0m\u001b[1;33m(\u001b[0m\u001b[1;33m)\u001b[0m\u001b[1;33m:\u001b[0m\u001b[1;33m\u001b[0m\u001b[0m\n\u001b[1;32m----> 5\u001b[1;33m     \u001b[1;32mfrom\u001b[0m \u001b[0murllib\u001b[0m \u001b[1;32mimport\u001b[0m \u001b[0murlopen\u001b[0m\u001b[1;33m\u001b[0m\u001b[0m\n\u001b[0m\u001b[0;32m      6\u001b[0m     \u001b[0mresult\u001b[0m \u001b[1;33m=\u001b[0m \u001b[0murlopen\u001b[0m\u001b[1;33m(\u001b[0m\u001b[1;34m\"http://subfusion.net/cgi-bin/quote.pl?quote=futurama\"\u001b[0m\u001b[1;33m)\u001b[0m\u001b[1;33m.\u001b[0m\u001b[0mread\u001b[0m\u001b[1;33m(\u001b[0m\u001b[1;33m)\u001b[0m\u001b[1;33m\u001b[0m\u001b[0m\n\u001b[0;32m      7\u001b[0m     \u001b[1;32mtry\u001b[0m\u001b[1;33m:\u001b[0m\u001b[1;33m\u001b[0m\u001b[0m\n",
      "\u001b[1;31mImportError\u001b[0m: cannot import name 'urlopen'"
     ]
    }
   ],
   "source": [
    "@counter\n",
    "@benchmark\n",
    "@logging\n",
    "def get_random_futurama_quote():\n",
    "    from urllib import urlopen\n",
    "    result = urlopen(\"http://subfusion.net/cgi-bin/quote.pl?quote=futurama\").read()\n",
    "    try:\n",
    "        value = result.split(\"<br><b><hr><br>\")[1].split(\"<br><br><hr>\")[0]\n",
    "        return value.strip()\n",
    "    except:\n",
    "        return \"No, I'm .... doesn't!\"\n",
    "    \n",
    "print(get_random_futurama_quote())\n",
    "print(get_random_futurama_quote())\n",
    "    "
   ]
  },
  {
   "cell_type": "markdown",
   "metadata": {},
   "source": [
    "Python itself provides several decorators: `property`, `staticmethod` etc.\n",
    "\n",
    " - Django uses decorators to manage caching and view permissions.\n",
    " - Twisted to fake inlining asynchonous function calls.\n",
    " \n",
    "This really is a large playground. "
   ]
  },
  {
   "cell_type": "code",
   "execution_count": 65,
   "metadata": {
    "collapsed": true
   },
   "outputs": [],
   "source": [
    "import urllib"
   ]
  },
  {
   "cell_type": "code",
   "execution_count": 67,
   "metadata": {},
   "outputs": [
    {
     "name": "stdout",
     "output_type": "stream",
     "text": [
      "Help on package urllib:\n",
      "\n",
      "NAME\n",
      "    urllib\n",
      "\n",
      "PACKAGE CONTENTS\n",
      "    error\n",
      "    parse\n",
      "    request\n",
      "    response\n",
      "    robotparser\n",
      "\n",
      "FILE\n",
      "    c:\\miniconda3\\envs\\data\\lib\\urllib\\__init__.py\n",
      "\n",
      "\n"
     ]
    }
   ],
   "source": [
    "help(urllib)"
   ]
  },
  {
   "cell_type": "code",
   "execution_count": null,
   "metadata": {
    "collapsed": true
   },
   "outputs": [],
   "source": []
  }
 ],
 "metadata": {
  "kernelspec": {
   "display_name": "Python 3",
   "language": "python",
   "name": "python3"
  },
  "language_info": {
   "codemirror_mode": {
    "name": "ipython",
    "version": 3
   },
   "file_extension": ".py",
   "mimetype": "text/x-python",
   "name": "python",
   "nbconvert_exporter": "python",
   "pygments_lexer": "ipython3",
   "version": "3.6.3"
  }
 },
 "nbformat": 4,
 "nbformat_minor": 2
}
