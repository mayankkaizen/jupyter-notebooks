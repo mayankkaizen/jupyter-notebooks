{
 "cells": [
  {
   "cell_type": "markdown",
   "metadata": {},
   "source": [
    "[Source]()\n",
    "\n",
    "Inheritance and composition are two important concepts in OOP that model the relationship between two classes. Both of them enable code reuse, but they do it in different ways.\n",
    "\n",
    "#### What's Inheritance?\n",
    "\n",
    "Inheritance models what is called an **is a** relationship. This means that when you have a`Derived` class that inherits from a `Base` class, you created a relationship where `Derived` **is a** specialized version of `Base`.\n",
    "\n",
    "Inheritance is represented using the **Unified Modeling Language (UML)** in the following way:\n",
    "\n",
    "/insert image\n",
    "\n",
    "Classes are represented as boxes with the class name on top. The inheritance relationship is represented by an arrow from the derived class pointing to the base class. The word **extends** is usually added to the arrow.\n",
    "\n",
    "Let's say you have a base class `Animal` and you derive from it to create a `Horse` class. The inheritance relationship states that a `Horse` **is an** `Animal`. This means that `Horse` inherits the interface and implementation of `Animal`, and `Horse` objects can be used to replace `Animal` objects in the application.\n",
    "\n",
    "This is known as the **Liskov substitution principle**. The principle states that \"in a computer program, if S is a subtype of T, then objects of type T may be replaced with objects of Type S without altering any of the desired properties of the program\".\n",
    "\n"
   ]
  },
  {
   "cell_type": "markdown",
   "metadata": {},
   "source": [
    "#### What's Composition?\n",
    "\n",
    "Composition is a concept that models a **has a** relationship. It enables creating complex types by combining objects of other types. This means that a class `Composite` can contain an object of another class `Component`. This relationship means that a `Composite` **has a** `Component`. \n",
    "\n",
    "UML represents composition as follows:\n",
    "\n",
    "/insert image\n",
    "\n",
    "Composition is represented through a line with a diamond at the composite class pointing to the component class. The composite side can express the cardinality of the relationship. The cardinality indicates the number or valid range of `Component` instances the `Composite` class will contain. \n",
    "\n",
    "In the diagram above, the 1 represents that the `Composite` class contains one object of type `Component`. Cardinality can be expressed in the following ways:\n",
    "\n",
    " - **A number** indicates the number of `Component` instances that are contained in the `Composite`.\n",
    " - **The * symbol ** indicates that the `Composite` class can contain a variable number of `Component` instances. \n",
    " - **A range 1..4** indicates that the `Composite` class can contain a range of `Component` instances. The range is indicated with the mininum and maximum numbert of instances, or mininum and many instances like in **1..***"
   ]
  },
  {
   "cell_type": "markdown",
   "metadata": {},
   "source": [
    "<div class=\"alert alert-block alert-warning\">Note - Classes that contain objects of other classes are usually referred to as composites, where classes that are used to create more complex types are referred to as components</div>\n",
    "\n",
    "For example, your `Horse` class can be composed by another object of type `Tail`. Composition allows you to express that relationship by saying a `Horse` **has a** `Tail`.\n",
    "\n",
    "Composition enables you to reuse code by adding objects to other objects, as opposed to inheriting the interface and implementation of other classes. Both `Horse` and `Dog` classes can leverage the functionality of `Tail` through composition without deriving one class from the other. "
   ]
  },
  {
   "cell_type": "markdown",
   "metadata": {},
   "source": [
    "### An Overview of Inheritance in Python\n",
    "\n",
    "Everythin in Python is an object. Modules are objects, class definitions and functions are objects, and of course, objects created from classes are objects too.\n",
    "\n",
    "When you write Python code using classes, you are using inheritance even if you don't know you're using it. Let's take a look at what that means. \n",
    "\n",
    "#### The Object Super Class\n",
    "\n",
    "Let's start by writing the simplest class possible:"
   ]
  },
  {
   "cell_type": "code",
   "execution_count": 1,
   "metadata": {
    "collapsed": true
   },
   "outputs": [],
   "source": [
    "class MyClass:\n",
    "    pass"
   ]
  },
  {
   "cell_type": "markdown",
   "metadata": {},
   "source": [
    "You declared a class `MyClass` that doesn't do much, but it will illustrate the most basic inheritance concepts. Now that you have the class delcared, you can use `dir()` function to list its members:"
   ]
  },
  {
   "cell_type": "code",
   "execution_count": 4,
   "metadata": {},
   "outputs": [
    {
     "name": "stdout",
     "output_type": "stream",
     "text": [
      "Pretty printing has been turned OFF\n"
     ]
    },
    {
     "data": {
      "text/plain": [
       "['__class__', '__delattr__', '__dict__', '__dir__', '__doc__', '__eq__', '__format__', '__ge__', '__getattribute__', '__gt__', '__hash__', '__init__', '__init_subclass__', '__le__', '__lt__', '__module__', '__ne__', '__new__', '__reduce__', '__reduce_ex__', '__repr__', '__setattr__', '__sizeof__', '__str__', '__subclasshook__', '__weakref__']"
      ]
     },
     "execution_count": 4,
     "metadata": {},
     "output_type": "execute_result"
    }
   ],
   "source": [
    "%pprint\n",
    "c = MyClass()\n",
    "dir(c)"
   ]
  },
  {
   "cell_type": "markdown",
   "metadata": {},
   "source": [
    "`dir()` returns a list of all the members in the specified object. You have not declared any members in `MyClass`, so where is the list coming from? You can find out using the interactive interpreter:"
   ]
  },
  {
   "cell_type": "code",
   "execution_count": 5,
   "metadata": {},
   "outputs": [
    {
     "data": {
      "text/plain": [
       "['__class__', '__delattr__', '__dir__', '__doc__', '__eq__', '__format__', '__ge__', '__getattribute__', '__gt__', '__hash__', '__init__', '__init_subclass__', '__le__', '__lt__', '__ne__', '__new__', '__reduce__', '__reduce_ex__', '__repr__', '__setattr__', '__sizeof__', '__str__', '__subclasshook__']"
      ]
     },
     "execution_count": 5,
     "metadata": {},
     "output_type": "execute_result"
    }
   ],
   "source": [
    "o = object()\n",
    "dir(o)"
   ]
  },
  {
   "cell_type": "markdown",
   "metadata": {},
   "source": [
    "As you can see, the two lists are nearly identical. There are some additional members in `MyClass` like `__dict__` and `__weakref__`, but evey single member of the `object` class is also present in `MyClass`.\n",
    "\n",
    "This is because every class you create in Python implicitly derives from `object`. You could be more explicit and write `class MyClass(object):`, but it's redundant and unnecessary."
   ]
  },
  {
   "cell_type": "markdown",
   "metadata": {},
   "source": [
    "#### Exceptions Are an Exception\n",
    "\n",
    "Every class that you create in Python will implicitly derive from `object`. The exception to this rule are classes used to indicate errors by raising an exception. \n",
    "\n",
    "You can see the problem using the Python interactive interpreter:\n"
   ]
  },
  {
   "cell_type": "code",
   "execution_count": 6,
   "metadata": {},
   "outputs": [
    {
     "ename": "TypeError",
     "evalue": "exceptions must derive from BaseException",
     "output_type": "error",
     "traceback": [
      "\u001b[1;31m---------------------------------------------------------------------------\u001b[0m",
      "\u001b[1;31mTypeError\u001b[0m                                 Traceback (most recent call last)",
      "\u001b[1;32m<ipython-input-6-5b47d2d2bb01>\u001b[0m in \u001b[0;36m<module>\u001b[1;34m()\u001b[0m\n\u001b[0;32m      2\u001b[0m     \u001b[1;32mpass\u001b[0m\u001b[1;33m\u001b[0m\u001b[0m\n\u001b[0;32m      3\u001b[0m \u001b[1;33m\u001b[0m\u001b[0m\n\u001b[1;32m----> 4\u001b[1;33m \u001b[1;32mraise\u001b[0m \u001b[0mMyError\u001b[0m\u001b[1;33m(\u001b[0m\u001b[1;33m)\u001b[0m\u001b[1;33m\u001b[0m\u001b[0m\n\u001b[0m",
      "\u001b[1;31mTypeError\u001b[0m: exceptions must derive from BaseException"
     ]
    }
   ],
   "source": [
    "class MyError:\n",
    "    pass\n",
    "\n",
    "raise MyError()"
   ]
  },
  {
   "cell_type": "markdown",
   "metadata": {},
   "source": [
    "You created a new class to indicate a type of error. Then you tried to use it to raise an exception. An exception is raised but the output states taht the exception is type `TypeError` not `MyError` and that all exceptions must derive from `BaseException`.\n",
    "\n",
    " `BaseException` is a base class provided for all error types. To create a new error type, you must derive your class from `BaseException` or one of its derived classes. The convention in Python is to derive your custom error types from `Exception`, which in turn derives from `BaseException`.\n",
    " \n",
    " The correct way to define your error type is the following:"
   ]
  },
  {
   "cell_type": "code",
   "execution_count": 7,
   "metadata": {},
   "outputs": [
    {
     "ename": "MyError",
     "evalue": "",
     "output_type": "error",
     "traceback": [
      "\u001b[1;31m---------------------------------------------------------------------------\u001b[0m",
      "\u001b[1;31mMyError\u001b[0m                                   Traceback (most recent call last)",
      "\u001b[1;32m<ipython-input-7-6c76408d4dc3>\u001b[0m in \u001b[0;36m<module>\u001b[1;34m()\u001b[0m\n\u001b[0;32m      2\u001b[0m     \u001b[1;32mpass\u001b[0m\u001b[1;33m\u001b[0m\u001b[0m\n\u001b[0;32m      3\u001b[0m \u001b[1;33m\u001b[0m\u001b[0m\n\u001b[1;32m----> 4\u001b[1;33m \u001b[1;32mraise\u001b[0m \u001b[0mMyError\u001b[0m\u001b[1;33m(\u001b[0m\u001b[1;33m)\u001b[0m\u001b[1;33m\u001b[0m\u001b[0m\n\u001b[0m",
      "\u001b[1;31mMyError\u001b[0m: "
     ]
    }
   ],
   "source": [
    "class MyError(Exception):\n",
    "    pass\n",
    "\n",
    "raise MyError()"
   ]
  },
  {
   "cell_type": "markdown",
   "metadata": {},
   "source": [
    "As you can see, when you raise `MyError`, the output correctly states the type of error raised."
   ]
  },
  {
   "cell_type": "markdown",
   "metadata": {},
   "source": [
    "#### Creating Class Hierarchies\n",
    "\n",
    "Inheritance is the mechanism you'll use to create hierarchies of related classes. These related classes will share a common interface that will be defined in the base classes. Derived classes can specialize the interface by providing a particular implementation where applies. \n",
    "\n",
    "In this section, you'll start modeling an HR system. The example will demonstrate the use of inheritance and how derived classes can provide a concrete implementation of the base class interface. \n",
    "\n",
    "The HR system needs to process payroll for the company's employees, but there are different types of employees depending on how their payroll is calculated.\n",
    "\n",
    "You start by implementing a `PayrollSystem` class that processes payroll:"
   ]
  },
  {
   "cell_type": "code",
   "execution_count": 8,
   "metadata": {},
   "outputs": [
    {
     "name": "stdout",
     "output_type": "stream",
     "text": [
      "Writing hr.py\n"
     ]
    }
   ],
   "source": [
    "\n",
    "class PayrollSystem:\n",
    "    def calculate_payroll(self, employees):\n",
    "        print(\"calculating payroll\")\n",
    "        print(\"====================\")\n",
    "        for employee in employees:\n",
    "            print(f'Payroll for: {employee.id} - {employee.name}')\n",
    "            print(f'- check amount: {employee.calculate_payroll()}')\n",
    "            print('')\n",
    "\n"
   ]
  },
  {
   "cell_type": "markdown",
   "metadata": {},
   "source": [
    "The `PayrollSystem` implements a `.calculate_payroll()` method that takes a collection of employees and prints their id, name and check amount using that method exposed on each employee object. \n",
    "\n",
    "Now, you implement a base class `Employee` that handles the common interface for every employee type:"
   ]
  },
  {
   "cell_type": "code",
   "execution_count": 9,
   "metadata": {
    "collapsed": true
   },
   "outputs": [],
   "source": [
    "class Employee:\n",
    "    def __init__(self, id, name):\n",
    "        self.id = id\n",
    "        self.name = name\n",
    "        "
   ]
  },
  {
   "cell_type": "markdown",
   "metadata": {},
   "source": [
    "`Employee` is the base class for all employee types. It is constructed with an `id` and a `name`. What you are saying is that every `Employee` must have an `id` assigned as well as a `name`.\n",
    "\n",
    "The HR system requires that every `Employee` processed must provide a `.calculate_payroll()` interface that returns the weekly salary for the employee. The implementation of that interface differs depending on the type of `Employee`.\n",
    "\n",
    "For example, administative workers have a fixed salary, so every week they get paid the same amount - "
   ]
  },
  {
   "cell_type": "code",
   "execution_count": 10,
   "metadata": {
    "collapsed": true
   },
   "outputs": [],
   "source": [
    "class SalaryEmployee(Employee):\n",
    "    def __init__(self, id, name, weekly_salary):\n",
    "        super().__init__(id, name)\n",
    "        self.weekly_salary = weekly_salary\n",
    "        \n",
    "    def calculate_payroll(self):\n",
    "        return self.weekly_salary"
   ]
  },
  {
   "cell_type": "markdown",
   "metadata": {},
   "source": [
    "You create a derived class `SalaryEmployee` that inherits `Employee`. The class is initialized with the `id` and `name` required by the base class, and you use `super()` to initialize the members of the base class.\n",
    "\n",
    "`SalaryEmployee` also requires a `weekly_salary` initialization parameter taht represents the amount the employee makes per week. \n",
    "\n",
    "The class provide the required `.calculate_payroll()` method used by HR system. The implementation just returns the amount stored in `weekly_salary`.\n",
    "\n",
    "The company also employs manufacturing workers that are paid by the hour, so you add an `HourlyEmployee` to the HR system:"
   ]
  },
  {
   "cell_type": "code",
   "execution_count": 11,
   "metadata": {
    "collapsed": true
   },
   "outputs": [],
   "source": [
    "class HourlyEmployee(Employee):\n",
    "    def __init__(self, id, name, hours_worked, hour_rate):\n",
    "        super().__init__(id, name)\n",
    "        self.hours_worked = hours_worked\n",
    "        self.hour_rate = hour_rate\n",
    "        \n",
    "    def calculate_payroll(self):\n",
    "        return self.hours_worked * self.hour_rate"
   ]
  },
  {
   "cell_type": "markdown",
   "metadata": {},
   "source": [
    "The above part is self-explanatory. \n",
    "\n",
    "Finally, the company employs sales associates that are paid through a fixed salary plus a commission based on their sales, so you create a `CommissionEmployee` class:"
   ]
  },
  {
   "cell_type": "code",
   "execution_count": 12,
   "metadata": {
    "collapsed": true
   },
   "outputs": [],
   "source": [
    "class CommissionEmployee(SalaryEmployee):\n",
    "    def __init__(self, id, name, weekly_salary, commission):\n",
    "        super().__init__(id, name, weekly_salary)\n",
    "        self.commission = commission\n",
    "        \n",
    "    def calculate_payroll(self):\n",
    "        fixed = super().calculate_payroll()\n",
    "        return fixed + self.commission"
   ]
  },
  {
   "cell_type": "markdown",
   "metadata": {},
   "source": [
    "You derive `CommissionEmployee` from `SalaryEmployee` because both classes have a `weekly_salary` to consider. At the same time, `CommissionEmployee` is initialized with a `Commission` value that is based on the sales for the employee. \n",
    "\n",
    "`.calculate_payroll()` leverages the implementation of the base class to retrieve the fixed salary and adds the commission value. \n",
    "\n",
    "Since `CommissionEmployee` derives from `SalaryEmployee`, you have access to the `weekly_salary` property directly, and you could've implemented `.calculate_payroll()` using the value of that property. \n",
    "\n",
    "The problem with accessing the property directly is that if the implementation of `SalaryEmployee.calculate_payroll()` changes, then you'll have to also change the implementation of `CommissionEmployee.calculate_payroll()`. It's better to rely on the already implemented method in the base class and extend the functionality as needed. \n",
    "\n",
    "You created your first class hierarchy for the system. The UML diagram of the classes looks like this:\n",
    "\n",
    "/insert image\n",
    "\n",
    "The diagram shows the inheritance hierarchy of the classes. The derived classes implement the `IPayrollCalculator` interface, which is required by the `PayrollSystem`. The `PayrollSystem.calculate_payroll()` implementation requires that the `employee` objects passed contain an `id`, `name`, and `calculate_payroll()` implementation. \n",
    "\n",
    "Interfaces are represented similarily to classes with the word **interface** above the interface name. Interface names are usually prefixed with a capital I. \n",
    "\n",
    "Let's create a file `hr.py` which contains everything we've coded so far:"
   ]
  },
  {
   "cell_type": "code",
   "execution_count": 13,
   "metadata": {},
   "outputs": [
    {
     "name": "stdout",
     "output_type": "stream",
     "text": [
      "Overwriting hr.py\n"
     ]
    }
   ],
   "source": [
    "%%file hr.py\n",
    "\n",
    "class PayrollSystem:\n",
    "    def calculate_payroll(self, employees):\n",
    "        print(\"calculating payroll\")\n",
    "        print(\"====================\")\n",
    "        for employee in employees:\n",
    "            print(f'Payroll for: {employee.id} - {employee.name}')\n",
    "            print(f'- check amount: {employee.calculate_payroll()}')\n",
    "            print('')\n",
    "\n",
    "class Employee:\n",
    "    def __init__(self, id, name):\n",
    "        self.id = id\n",
    "        self.name = name\n",
    "        \n",
    "class SalaryEmployee(Employee):\n",
    "    def __init__(self, id, name, weekly_salary):\n",
    "        super().__init__(id, name)\n",
    "        self.weekly_salary = weekly_salary\n",
    "        \n",
    "    def calculate_payroll(self):\n",
    "        return self.weekly_salary\n",
    "    \n",
    "class HourlyEmployee(Employee):\n",
    "    def __init__(self, id, name, hours_worked, hour_rate):\n",
    "        super().__init__(id, name)\n",
    "        self.hours_worked = hours_worked\n",
    "        self.hour_rate = hour_rate\n",
    "        \n",
    "    def calculate_payroll(self):\n",
    "        return self.hours_worked * self.hour_rate\n",
    "    \n",
    "class CommissionEmployee(SalaryEmployee):\n",
    "    def __init__(self, id, name, weekly_salary, commission):\n",
    "        super().__init__(id, name, weekly_salary)\n",
    "        self.commission = commission\n",
    "        \n",
    "    def calculate_payroll(self):\n",
    "        fixed = super().calculate_payroll()\n",
    "        return fixed + self.commission    "
   ]
  },
  {
   "cell_type": "code",
   "execution_count": 17,
   "metadata": {},
   "outputs": [
    {
     "name": "stdout",
     "output_type": "stream",
     "text": [
      "Overwriting program.py\n"
     ]
    }
   ],
   "source": [
    "%%file program.py\n",
    "\n",
    "import hr\n",
    "\n",
    "salary_employee = hr.SalaryEmployee(1, 'John Smith', 1500)\n",
    "hourly_employee = hr.HourlyEmployee(2, 'Jane Doe', 40, 15)\n",
    "commission_employee = hr.CommissionEmployee(3, 'Kevin Bacon', 1000, 250)\n",
    "\n",
    "payroll_system = hr.PayrollSystem()\n",
    "\n",
    "payroll_system.calculate_payroll([salary_employee, hourly_employee, \n",
    "                                 commission_employee])\n"
   ]
  },
  {
   "cell_type": "code",
   "execution_count": 18,
   "metadata": {},
   "outputs": [
    {
     "name": "stdout",
     "output_type": "stream",
     "text": [
      "calculating payroll\n",
      "====================\n",
      "Payroll for: 1 - John Smith\n",
      "- check amount: 1500\n",
      "\n",
      "Payroll for: 2 - Jane Doe\n",
      "- check amount: 600\n",
      "\n",
      "Payroll for: 3 - Kevin Bacon\n",
      "- check amount: 1250\n",
      "\n"
     ]
    }
   ],
   "source": [
    "%run program.py"
   ]
  },
  {
   "cell_type": "markdown",
   "metadata": {},
   "source": [
    "Notice how the `Employee` base class doesn't define a `.calculate_payroll()` method. This means that if you were to create a plain `Employee` object and pass it to the `PayrollSystem`, then you'd get an error:"
   ]
  },
  {
   "cell_type": "code",
   "execution_count": 19,
   "metadata": {},
   "outputs": [
    {
     "name": "stdout",
     "output_type": "stream",
     "text": [
      "calculating payroll\n",
      "====================\n",
      "Payroll for: 4 - Invalid\n"
     ]
    },
    {
     "ename": "AttributeError",
     "evalue": "'Employee' object has no attribute 'calculate_payroll'",
     "output_type": "error",
     "traceback": [
      "\u001b[1;31m---------------------------------------------------------------------------\u001b[0m",
      "\u001b[1;31mAttributeError\u001b[0m                            Traceback (most recent call last)",
      "\u001b[1;32m<ipython-input-19-492fe8eabbfa>\u001b[0m in \u001b[0;36m<module>\u001b[1;34m()\u001b[0m\n\u001b[0;32m      4\u001b[0m \u001b[0mpayroll_system\u001b[0m \u001b[1;33m=\u001b[0m \u001b[0mhr\u001b[0m\u001b[1;33m.\u001b[0m\u001b[0mPayrollSystem\u001b[0m\u001b[1;33m(\u001b[0m\u001b[1;33m)\u001b[0m\u001b[1;33m\u001b[0m\u001b[0m\n\u001b[0;32m      5\u001b[0m \u001b[1;33m\u001b[0m\u001b[0m\n\u001b[1;32m----> 6\u001b[1;33m \u001b[0mpayroll_system\u001b[0m\u001b[1;33m.\u001b[0m\u001b[0mcalculate_payroll\u001b[0m\u001b[1;33m(\u001b[0m\u001b[1;33m[\u001b[0m\u001b[0memployee\u001b[0m\u001b[1;33m]\u001b[0m\u001b[1;33m)\u001b[0m\u001b[1;33m\u001b[0m\u001b[0m\n\u001b[0m",
      "\u001b[1;32mc:\\miniconda3\\notebooks\\My Notebooks\\Python\\hr.py\u001b[0m in \u001b[0;36mcalculate_payroll\u001b[1;34m(self, employees)\u001b[0m\n\u001b[0;32m      6\u001b[0m         \u001b[1;32mfor\u001b[0m \u001b[0memployee\u001b[0m \u001b[1;32min\u001b[0m \u001b[0memployees\u001b[0m\u001b[1;33m:\u001b[0m\u001b[1;33m\u001b[0m\u001b[0m\n\u001b[0;32m      7\u001b[0m             \u001b[0mprint\u001b[0m\u001b[1;33m(\u001b[0m\u001b[1;34mf'Payroll for: {employee.id} - {employee.name}'\u001b[0m\u001b[1;33m)\u001b[0m\u001b[1;33m\u001b[0m\u001b[0m\n\u001b[1;32m----> 8\u001b[1;33m             \u001b[0mprint\u001b[0m\u001b[1;33m(\u001b[0m\u001b[1;34mf'- check amount: {employee.calculate_payroll()}'\u001b[0m\u001b[1;33m)\u001b[0m\u001b[1;33m\u001b[0m\u001b[0m\n\u001b[0m\u001b[0;32m      9\u001b[0m             \u001b[0mprint\u001b[0m\u001b[1;33m(\u001b[0m\u001b[1;34m''\u001b[0m\u001b[1;33m)\u001b[0m\u001b[1;33m\u001b[0m\u001b[0m\n\u001b[0;32m     10\u001b[0m \u001b[1;33m\u001b[0m\u001b[0m\n",
      "\u001b[1;31mAttributeError\u001b[0m: 'Employee' object has no attribute 'calculate_payroll'"
     ]
    }
   ],
   "source": [
    "import hr\n",
    "\n",
    "employee = hr.Employee(4, 'Invalid')\n",
    "payroll_system = hr.PayrollSystem()\n",
    "\n",
    "payroll_system.calculate_payroll([employee])"
   ]
  },
  {
   "cell_type": "markdown",
   "metadata": {},
   "source": [
    "While you instantiate an `Employee` object, the object can't be used by the `PayrollSystem` because it can't `.calculate_payroll()` for an `Employee`. To meet the requirements of `PayrollSystem`, you'll want to convet the `Employee` class, which is currently a concrete class, to an abstract class. That way, no employee is ever just an `Employee`, but one that implements `.calculate_payroll()`"
   ]
  },
  {
   "cell_type": "markdown",
   "metadata": {},
   "source": [
    "#### Abstract Base Classes in Python\n",
    "\n",
    "The `Employee` class in the example above is what is called an abstract base class. Abstract base classes exist to be inherited, but never instantiated. Python provides the `abc` module to define abstract base classes.\n",
    "\n",
    "You can use leading underscores in your class name to communicate that objects of that class should not be created. Underscore provide a friendly way to prevent misuse of you code, but they don't prevent eager users from creating instances of that class. \n",
    "\n",
    "The `abc` module in the Python standard library provides functionality to prevent creating objects from abstract base classes. \n",
    "\n",
    "You can modify the implementation of the `Employee` class to ensure that it can't be instantiated:"
   ]
  },
  {
   "cell_type": "code",
   "execution_count": 25,
   "metadata": {},
   "outputs": [],
   "source": [
    "from abc import ABC, abstractmethod\n",
    "\n",
    "class Employee(ABC):\n",
    "    def __init__(self, id, name):\n",
    "        self.id = id\n",
    "        self.name =  name\n",
    "        \n",
    "    @abstractmethod\n",
    "    def calculate_payroll(self):\n",
    "        pass"
   ]
  },
  {
   "cell_type": "markdown",
   "metadata": {},
   "source": [
    "You derive `Employee` from `ABC`, making it an abstract base class. Then, you decoate the `.calculate_payroll()` method with the `@abstractmethod` decorator.\n",
    "\n",
    "This change has two nice side-effects:\n",
    "\n",
    " 1. You're telling users of the module that objects of type `Employee` can't be created. \n",
    " 2. You're telling other developers working on the `hr` module that if they derive from `Employee`, then they must override the `.calculate_payroll()` abstract method. "
   ]
  },
  {
   "cell_type": "code",
   "execution_count": 26,
   "metadata": {},
   "outputs": [
    {
     "ename": "TypeError",
     "evalue": "Can't instantiate abstract class Employee with abstract methods calculate_payroll",
     "output_type": "error",
     "traceback": [
      "\u001b[1;31m---------------------------------------------------------------------------\u001b[0m",
      "\u001b[1;31mTypeError\u001b[0m                                 Traceback (most recent call last)",
      "\u001b[1;32m<ipython-input-26-3889c35cc643>\u001b[0m in \u001b[0;36m<module>\u001b[1;34m()\u001b[0m\n\u001b[1;32m----> 1\u001b[1;33m \u001b[0memployee\u001b[0m \u001b[1;33m=\u001b[0m \u001b[0mEmployee\u001b[0m\u001b[1;33m(\u001b[0m\u001b[1;36m1\u001b[0m\u001b[1;33m,\u001b[0m \u001b[1;34m'abstract'\u001b[0m\u001b[1;33m)\u001b[0m\u001b[1;33m\u001b[0m\u001b[0m\n\u001b[0m",
      "\u001b[1;31mTypeError\u001b[0m: Can't instantiate abstract class Employee with abstract methods calculate_payroll"
     ]
    }
   ],
   "source": [
    "employee = Employee(1, 'abstract')\n",
    "\n",
    "#However, if you don't use the decorator, instance can be created"
   ]
  },
  {
   "cell_type": "markdown",
   "metadata": {},
   "source": [
    "The o/p shows that the class cannot be instantiated because it contains an abstract method `calculate_payroll()`. Derived classes must override the method to allow creating objects of their type. "
   ]
  },
  {
   "cell_type": "markdown",
   "metadata": {},
   "source": [
    "#### Implementation Inheritance vs Interface Inheritance\n",
    "\n",
    "When you derive one class from another, the derived class inherits both:\n",
    " 1. **The base class interface:** The derived class inherits all the methods, properties, and attributes of the base class. \n",
    " 2. **The base class implementation:** The derived class inherits the code that implements the class interface. \n",
    " \n",
    "Most of the time, you'll want to inherit the implementation of a class, but you will want to implement multiple interfaces, so your objects can be used in different situations. \n",
    "\n",
    "In Python, you don't have to explicitly declare an interface. Any object that implements the desired interface can be used in place of another object. This is known as **duck typing** (if it behaves like a duck, then it's a duck).\n",
    "\n",
    "To illustrate this, you will now add a `DisgruntledEmployee` class to the example above which doesn't derive from `Employee`:"
   ]
  },
  {
   "cell_type": "code",
   "execution_count": 28,
   "metadata": {},
   "outputs": [
    {
     "name": "stdout",
     "output_type": "stream",
     "text": [
      "Writing disgruntled.py\n"
     ]
    }
   ],
   "source": [
    "%%file disgruntled.py\n",
    "\n",
    "class DisgruntledEmployee:\n",
    "    def __init__(self, id, name):\n",
    "        self.id = id\n",
    "        self.name = name\n",
    "        \n",
    "    def calculate_payroll(self):\n",
    "        return 1000000"
   ]
  },
  {
   "cell_type": "markdown",
   "metadata": {},
   "source": [
    "The `DisgruntledEmployee` class doesn't derive fom `Employee`, but it exposes the same interface required by the `PayrollSystem`. The `PayrollSystem.calculate_payroll()` requires a list of objects that implement the following interface:\n",
    "\n",
    "\n",
    " - An **id** property or attribute that returns the employee's id. \n",
    " - A **name** property or attribute that represents the employee's name\n",
    " - A **`.calculate_payroll()`** method that doesn't take any parameters and returns the payroll amount to process\n",
    " \n",
    "All these requirements are met by the `DisgruntledDEmployee` class, so the `PayrollSystem` can still calculate its payroll.\n",
    "\n",
    "You can modify the program to use the `DisgruntledEmplyee` class:"
   ]
  },
  {
   "cell_type": "code",
   "execution_count": 29,
   "metadata": {},
   "outputs": [
    {
     "name": "stdout",
     "output_type": "stream",
     "text": [
      "Overwriting program.py\n"
     ]
    }
   ],
   "source": [
    "%%file program.py\n",
    "\n",
    "import hr\n",
    "import disgruntled\n",
    "\n",
    "salary_employee = hr.SalaryEmployee(1, 'John Smith', 1500)\n",
    "hourly_employee = hr.HourlyEmployee(2, 'Jane Doe', 40, 15)\n",
    "commission_employee = hr.CommissionEmployee(3, 'Kevin Bacon', 1000, 250)\n",
    "disgruntled_employee = disgruntled.DisgruntledEmployee(2000, 'Anonymous')\n",
    "\n",
    "payroll_system = hr.PayrollSystem()\n",
    "\n",
    "payroll_system.calculate_payroll([salary_employee, hourly_employee, \n",
    "                                 commission_employee, disgruntled_employee])\n"
   ]
  },
  {
   "cell_type": "code",
   "execution_count": 30,
   "metadata": {},
   "outputs": [
    {
     "name": "stdout",
     "output_type": "stream",
     "text": [
      "calculating payroll\n",
      "====================\n",
      "Payroll for: 1 - John Smith\n",
      "- check amount: 1500\n",
      "\n",
      "Payroll for: 2 - Jane Doe\n",
      "- check amount: 600\n",
      "\n",
      "Payroll for: 3 - Kevin Bacon\n",
      "- check amount: 1250\n",
      "\n",
      "Payroll for: 2000 - Anonymous\n",
      "- check amount: 1000000\n",
      "\n"
     ]
    }
   ],
   "source": [
    "%run program.py"
   ]
  },
  {
   "cell_type": "markdown",
   "metadata": {},
   "source": [
    "As you can see, the `PayrollSystem` can still process the new object because it meets the desired interface.\n",
    "\n",
    "Since you don't have to derive from a specific class for your objects to be reusable by the program, you may be asking why you should use inheritance instead of just implementing the desired interface. The following rules may help you:\n",
    "\n",
    " - **Use inheritance to reuse an implementation:** Your derived classes should leverage most of their base class implementation. They must also model an **is a ** relationship. A `Customer` class might also have an `id` and a `name`, but a `Customer` is not an `Employee`, so you should not use inheritance. \n",
    " - **Implement an interface to be reused:** When you want your class to be reused by a specific part of your application, you implement the required interface in your class, but you don't need to provide a base class, or inherits from another class. \n",
    " \n",
    "You can now clean up the example above to move onto the next topic. You can delete the `disgruntled.py` file and then modify `hr` module to its original state.\n",
    "\n",
    "You removed the import of `abc` module since the `Employee` class doesn't need to be abstract. You also removed the abstract method from it since it doesn't provide any implementation (I actully never modified original `hr` module.)\n",
    "\n",
    "Basically, you are inheriting the implementation of the `id` and `name` attributes of the `Employee` class in your derived classes. Since `.calculate_payroll()` is just an interface to the `PayrollSystem.calculate_payroll()` method, you don't need to implement it in the `Employee` base class. \n",
    "\n",
    "Notice how the `CommissionEmployee` class derives from `SalaryEmployee`. This means that `CommissionEmployee` inherits the implementation and interface of `SalaryEmployee`. You can see how the `CommissionEmployee.calculate_payroll()` method levarges the base class implementation because it relies on the result from `super().calculate_payroll()` to implement its own version. "
   ]
  },
  {
   "cell_type": "markdown",
   "metadata": {},
   "source": [
    "#### The Class Explosion Problem\n",
    "\n",
    "If you are not careful, inheritance can lead you to huge hierarchical structure of classes that is hard to understand and maintain. This is known as the **class explosion problem**.\n",
    "\n",
    "You started buidling a class hierarchy of `Employee` types used by the `PayrollSystem` to calculate payroll. Now, you need to add some functionality to those classes, so they can be used with the new `ProductivitySystem`.\n",
    "\n",
    "The `ProductivitySystem` tracks productivity based on employee roles. There are different employee roles:\n",
    "\n",
    " - Managers: They walk around yelling at people telling them what to do. They are salaried employees and make more money.\n",
    " - Secretaries: They do all the paper work for managers and ensure that everything gets billed and payed on time. They are also salaried employees but make less money.\n",
    " - Sales employees: They make a lot of phone calls to sell products. They have a salary, but they also get commissions for sales.\n",
    " - Factory workers: They manufacture the products for the company. They are paid by the hour.\n",
    "\n",
    "With those requirements, you start to see that `Employee` and its derived classes might belong somewhere other than the `hr` module because now they’re also used by the `ProductivitySystem`.\n",
    "\n",
    "You create an `employees` module and move the classes there:"
   ]
  },
  {
   "cell_type": "code",
   "execution_count": 1,
   "metadata": {},
   "outputs": [
    {
     "name": "stdout",
     "output_type": "stream",
     "text": [
      "Overwriting hr.py\n"
     ]
    }
   ],
   "source": [
    "%%file hr.py\n",
    "\n",
    "class PayrollSystem:\n",
    "    def calculate_payroll(self, employees):\n",
    "        print(\"calculating payroll\")\n",
    "        print(\"====================\")\n",
    "        for employee in employees:\n",
    "            print(f'Payroll for: {employee.id} - {employee.name}')\n",
    "            print(f'- check amount: {employee.calculate_payroll()}')\n",
    "            print('')"
   ]
  },
  {
   "cell_type": "code",
   "execution_count": 33,
   "metadata": {},
   "outputs": [
    {
     "name": "stdout",
     "output_type": "stream",
     "text": [
      "Writing employee.py\n"
     ]
    }
   ],
   "source": [
    "%%file employee.py\n",
    "\n",
    "class Employee:\n",
    "    def __init__(self, id, name):\n",
    "        self.id = id\n",
    "        self.name = name\n",
    "        \n",
    "class SalaryEmployee(Employee):\n",
    "    def __init__(self, id, name, weekly_salary):\n",
    "        super().__init__(id, name)\n",
    "        self.weekly_salary = weekly_salary\n",
    "        \n",
    "    def calculate_payroll(self):\n",
    "        return self.weekly_salary\n",
    "    \n",
    "class HourlyEmployee(Employee):\n",
    "    def __init__(self, id, name, hours_worked, hour_rate):\n",
    "        super().__init__(id, name)\n",
    "        self.hours_worked = hours_worked\n",
    "        self.hour_rate = hour_rate\n",
    "        \n",
    "    def calculate_payroll(self):\n",
    "        return self.hours_worked * self.hour_rate\n",
    "    \n",
    "class CommissionEmployee(SalaryEmployee):\n",
    "    def __init__(self, id, name, weekly_salary, commission):\n",
    "        super().__init__(id, name, weekly_salary)\n",
    "        self.commission = commission\n",
    "        \n",
    "    def calculate_payroll(self):\n",
    "        fixed = super().calculate_payroll()\n",
    "        return fixed + self.commission    "
   ]
  },
  {
   "cell_type": "code",
   "execution_count": 34,
   "metadata": {},
   "outputs": [
    {
     "name": "stdout",
     "output_type": "stream",
     "text": [
      "Overwriting program.py\n"
     ]
    }
   ],
   "source": [
    "%%file program.py\n",
    "\n",
    "import hr\n",
    "import employee\n",
    "\n",
    "salary_employee = employee.SalaryEmployee(1, 'John Smith', 1500)\n",
    "hourly_employee = employee.HourlyEmployee(2, 'Jane Doe', 40, 15)\n",
    "commission_employee = employee.CommissionEmployee(3, 'Kevin Bacon', 1000, 250)\n",
    "\n",
    "payroll_system = hr.PayrollSystem()\n",
    "\n",
    "payroll_system.calculate_payroll([salary_employee, hourly_employee, \n",
    "                                 commission_employee])\n"
   ]
  },
  {
   "cell_type": "code",
   "execution_count": 35,
   "metadata": {},
   "outputs": [
    {
     "name": "stdout",
     "output_type": "stream",
     "text": [
      "calculating payroll\n",
      "====================\n",
      "Payroll for: 1 - John Smith\n",
      "- check amount: 1500\n",
      "\n",
      "Payroll for: 2 - Jane Doe\n",
      "- check amount: 600\n",
      "\n",
      "Payroll for: 3 - Kevin Bacon\n",
      "- check amount: 1250\n",
      "\n"
     ]
    }
   ],
   "source": [
    "%run program.py"
   ]
  },
  {
   "cell_type": "markdown",
   "metadata": {},
   "source": [
    "With everything in place, you start adding new classes-"
   ]
  },
  {
   "cell_type": "code",
   "execution_count": 2,
   "metadata": {},
   "outputs": [
    {
     "name": "stdout",
     "output_type": "stream",
     "text": [
      "Overwriting employee.py\n"
     ]
    }
   ],
   "source": [
    "%%file employee.py\n",
    "\n",
    "class Employee:\n",
    "    def __init__(self, id, name):\n",
    "        self.id = id\n",
    "        self.name = name\n",
    "        \n",
    "class SalaryEmployee(Employee):\n",
    "    def __init__(self, id, name, weekly_salary):\n",
    "        super().__init__(id, name)\n",
    "        self.weekly_salary = weekly_salary\n",
    "        \n",
    "    def calculate_payroll(self):\n",
    "        return self.weekly_salary\n",
    "    \n",
    "class HourlyEmployee(Employee):\n",
    "    def __init__(self, id, name, hours_worked, hour_rate):\n",
    "        super().__init__(id, name)\n",
    "        self.hours_worked = hours_worked\n",
    "        self.hour_rate = hour_rate\n",
    "        \n",
    "    def calculate_payroll(self):\n",
    "        return self.hours_worked * self.hour_rate\n",
    "    \n",
    "class CommissionEmployee(SalaryEmployee):\n",
    "    def __init__(self, id, name, weekly_salary, commission):\n",
    "        super().__init__(id, name, weekly_salary)\n",
    "        self.commission = commission\n",
    "        \n",
    "    def calculate_payroll(self):\n",
    "        fixed = super().calculate_payroll()\n",
    "        return fixed + self.commission    \n",
    "\n",
    "# new classes are added here\n",
    "\n",
    "class Manager(SalaryEmployee):\n",
    "    def work(self, hours):\n",
    "        print(f'{self.name} screams and yells for {hours} hours.')\n",
    "\n",
    "class Secretary(SalaryEmployee):\n",
    "    def work(self, hours):\n",
    "        print(f'{self.name} expends {hours} hours doing office paperwork.')\n",
    "\n",
    "class SalesPerson(CommissionEmployee):\n",
    "    def work(self, hours):\n",
    "        print(f'{self.name} expends {hours} hours on the phone.')\n",
    "\n",
    "class FactoryWorker(HourlyEmployee):\n",
    "    def work(self, hours):\n",
    "        print(f'{self.name} manufactures gadgets for {hours} hours.')\n",
    "\n"
   ]
  },
  {
   "cell_type": "markdown",
   "metadata": {},
   "source": [
    "First, you add a `Manager` class that derives from `SalaryEmployee`. The class exposes a method `work()` that will be used by the productivity system. The method takes the hours the employee worked.\n",
    "\n",
    "Then you add `Secretary`, `SalesPerson`, and `FactoryWorker` and then implement the `work()` interface, so they can be used by the productivity system.\n",
    "\n",
    "Now, you can add the `ProductivitySytem` class:"
   ]
  },
  {
   "cell_type": "code",
   "execution_count": 3,
   "metadata": {},
   "outputs": [
    {
     "name": "stdout",
     "output_type": "stream",
     "text": [
      "Overwriting productivity.py\n"
     ]
    }
   ],
   "source": [
    "%%file productivity.py\n",
    "\n",
    "class ProductivitySystem:\n",
    "    def track(self, employees, hours):\n",
    "        print('Tracking Employee Productivity')\n",
    "        print('==============================')\n",
    "        for employee in employees:\n",
    "            employee.work(hours)\n",
    "        print('')\n",
    "        \n",
    "        "
   ]
  },
  {
   "cell_type": "markdown",
   "metadata": {},
   "source": [
    "The class tracks employees in the `track()` method that takes a list of employees and the number of hours to track. You can now add the productivity system to your program:"
   ]
  },
  {
   "cell_type": "code",
   "execution_count": 4,
   "metadata": {},
   "outputs": [
    {
     "name": "stdout",
     "output_type": "stream",
     "text": [
      "Overwriting program.py\n"
     ]
    }
   ],
   "source": [
    "%%file program.py\n",
    "\n",
    "import hr\n",
    "import employee\n",
    "import productivity\n",
    "\n",
    "manager = employee.Manager(1, 'Mary Poppins', 3000)\n",
    "secretary = employee.Secretary(2, 'John Smith', 1500)\n",
    "sales_guy = employee.SalesPerson(3, 'Kevin Bacon', 1000, 250)\n",
    "factory_worker = employee.FactoryWorker(2, 'Jane Doe', 40, 15)\n",
    "employees = [\n",
    "    manager,\n",
    "    secretary,\n",
    "    sales_guy,\n",
    "    factory_worker,\n",
    "]\n",
    "\n",
    "productivity_system = productivity.ProductivitySystem()\n",
    "productivity_system.track(employees, 40)\n",
    "payroll_system = hr.PayrollSystem()\n",
    "payroll_system.calculate_payroll(employees)"
   ]
  },
  {
   "cell_type": "markdown",
   "metadata": {},
   "source": [
    "The program creates a list of employees of different types. The employee list is sent to the productivity system to track their work for 40 hours. Then the same list of employees is sent to the payroll system to calculate their payroll.\n",
    "\n",
    "You can run the program to see the output:"
   ]
  },
  {
   "cell_type": "code",
   "execution_count": 5,
   "metadata": {},
   "outputs": [
    {
     "name": "stdout",
     "output_type": "stream",
     "text": [
      "Tracking Employee Productivity\n",
      "==============================\n",
      "Mary Poppins screams and yells for 40 hours.\n",
      "John Smith expends 40 hours doing office paperwork.\n",
      "Kevin Bacon expends 40 hours on the phone.\n",
      "Jane Doe manufactures gadgets for 40 hours.\n",
      "\n",
      "calculating payroll\n",
      "====================\n",
      "Payroll for: 1 - Mary Poppins\n",
      "- check amount: 3000\n",
      "\n",
      "Payroll for: 2 - John Smith\n",
      "- check amount: 1500\n",
      "\n",
      "Payroll for: 3 - Kevin Bacon\n",
      "- check amount: 1250\n",
      "\n",
      "Payroll for: 2 - Jane Doe\n",
      "- check amount: 600\n",
      "\n"
     ]
    }
   ],
   "source": [
    "%run program.py"
   ]
  },
  {
   "cell_type": "markdown",
   "metadata": {},
   "source": [
    "The program works as expected, but you had to add four new classes to support the changes. As new requirements come, your class hierarchy will inevitably grow, leading to the class explosion problem where your hierarchies will become so big that they’ll be hard to understand and maintain.\n",
    "\n",
    "The following diagram shows the new class hierarchy:\n",
    "\n",
    "/insert diagram\n",
    "\n",
    "The diagram shows how the class hierarchy is growing. Additional requirements might have an exponential effect in the number of classes with this design."
   ]
  },
  {
   "cell_type": "markdown",
   "metadata": {},
   "source": [
    "#### Inheriting Multiple Classes\n",
    "\n",
    "Python is one of the few modern programming languages that supports multiple inheritance. Multiple inheritance is the ability to derive a class from multiple base classes at the same time.\n",
    "\n",
    "Multiple inheritance has a bad reputation to the extent that most modern programming languages don’t support it. Instead, modern programming languages support the concept of interfaces. In those languages, you inherit from a single base class and then implement multiple interfaces, so your class can be re-used in different situations.\n",
    "\n",
    "This approach puts some constraints in your designs. You can only inherit the implementation of one class by directly deriving from it. You can implement multiple interfaces, but you can’t inherit the implementation of multiple classes.\n",
    "\n",
    "This constraint is good for software design because it forces you to design your classes with fewer dependencies on each other. You will see later in this article that you can leverage multiple implementations through composition, which makes software more flexible. This section, however, is about multiple inheritance, so let’s take a look at how it works.\n",
    "\n",
    "It turns out that sometimes temporary secretaries are hired when there is too much paperwork to do. The `TemporarySecretary` class performs the role of a `Secretary` in the context of the `ProductivitySystem`, but for payroll purposes, it is an `HourlyEmployee`.\n",
    "\n",
    "You look at your class design. It has grown a little bit, but you can still understand how it works. It seems you have two options:\n",
    "\n",
    " 1. **Derive from `Secretary`:** You can derive from `Secretary` to inherit the `.work()` method for the role, and then override the `.calculate_payroll()` method to implement it as an `HourlyEmployee`.\n",
    "\n",
    " 2. **Derive from `HourlyEmployee`:** You can derive from `HourlyEmployee` to inherit the `.calculate_payroll()` method, and then override the `.work()` method to implement it as a `Secretary`.\n",
    "\n",
    "Then, you remember that Python supports multiple inheritance, so you decide to derive from both `Secretary` and `HourlyEmployee`:\n",
    "\n"
   ]
  },
  {
   "cell_type": "code",
   "execution_count": 1,
   "metadata": {},
   "outputs": [
    {
     "name": "stdout",
     "output_type": "stream",
     "text": [
      "Overwriting employee.py\n"
     ]
    }
   ],
   "source": [
    "%%file employee.py\n",
    "\n",
    "class Employee:\n",
    "    def __init__(self, id, name):\n",
    "        self.id = id\n",
    "        self.name = name\n",
    "        \n",
    "class SalaryEmployee(Employee):\n",
    "    def __init__(self, id, name, weekly_salary):\n",
    "        super().__init__(id, name)\n",
    "        self.weekly_salary = weekly_salary\n",
    "        \n",
    "    def calculate_payroll(self):\n",
    "        return self.weekly_salary\n",
    "    \n",
    "class HourlyEmployee(Employee):\n",
    "    def __init__(self, id, name, hours_worked, hour_rate):\n",
    "        super().__init__(id, name)\n",
    "        self.hours_worked = hours_worked\n",
    "        self.hour_rate = hour_rate\n",
    "        \n",
    "    def calculate_payroll(self):\n",
    "        return self.hours_worked * self.hour_rate\n",
    "    \n",
    "class CommissionEmployee(SalaryEmployee):\n",
    "    def __init__(self, id, name, weekly_salary, commission):\n",
    "        super().__init__(id, name, weekly_salary)\n",
    "        self.commission = commission\n",
    "        \n",
    "    def calculate_payroll(self):\n",
    "        fixed = super().calculate_payroll()\n",
    "        return fixed + self.commission    \n",
    "\n",
    "# new classes are added here\n",
    "\n",
    "class Manager(SalaryEmployee):\n",
    "    def work(self, hours):\n",
    "        print(f'{self.name} screams and yells for {hours} hours.')\n",
    "\n",
    "class Secretary(SalaryEmployee):\n",
    "    def work(self, hours):\n",
    "        print(f'{self.name} expends {hours} hours doing office paperwork.')\n",
    "\n",
    "class SalesPerson(CommissionEmployee):\n",
    "    def work(self, hours):\n",
    "        print(f'{self.name} expends {hours} hours on the phone.')\n",
    "\n",
    "class FactoryWorker(HourlyEmployee):\n",
    "    def work(self, hours):\n",
    "        print(f'{self.name} manufactures gadgets for {hours} hours.')\n",
    "\n",
    "class TemporarySecretary(Secretary, HourlyEmployee):\n",
    "    pass"
   ]
  },
  {
   "cell_type": "markdown",
   "metadata": {},
   "source": [
    "Python allows you to inherit from two different classes by specifying them between parenthesis in the class declaration.\n",
    "\n",
    "Now, you modify your program to add the new temporary secretary employee:"
   ]
  },
  {
   "cell_type": "code",
   "execution_count": 2,
   "metadata": {},
   "outputs": [
    {
     "name": "stdout",
     "output_type": "stream",
     "text": [
      "Overwriting program.py\n"
     ]
    }
   ],
   "source": [
    "%%file program.py\n",
    "\n",
    "import hr\n",
    "import employee\n",
    "import productivity\n",
    "\n",
    "manager = employee.Manager(1, 'Mary Poppins', 3000)\n",
    "secretary = employee.Secretary(2, 'John Smith', 1500)\n",
    "sales_guy = employee.SalesPerson(3, 'Kevin Bacon', 1000, 250)\n",
    "factory_worker = employee.FactoryWorker(4, 'Jane Doe', 40, 15)\n",
    "temporary_secretary = employee.TemporarySecretary(5, 'Robin Williams', 40, 9)\n",
    "company_employees = [\n",
    "    manager,\n",
    "    secretary,\n",
    "    sales_guy,\n",
    "    factory_worker,\n",
    "    temporary_secretary,\n",
    "]\n",
    "productivity_system = productivity.ProductivitySystem()\n",
    "productivity_system.track(company_employees, 40)\n",
    "payroll_system = hr.PayrollSystem()\n",
    "payroll_system.calculate_payroll(company_employees)\n"
   ]
  },
  {
   "cell_type": "code",
   "execution_count": 3,
   "metadata": {},
   "outputs": [
    {
     "ename": "TypeError",
     "evalue": "__init__() takes 4 positional arguments but 5 were given",
     "output_type": "error",
     "traceback": [
      "\u001b[1;31m---------------------------------------------------------------------------\u001b[0m",
      "\u001b[1;31mTypeError\u001b[0m                                 Traceback (most recent call last)",
      "\u001b[1;32mc:\\miniconda3\\notebooks\\My Notebooks\\Python\\program.py\u001b[0m in \u001b[0;36m<module>\u001b[1;34m()\u001b[0m\n\u001b[0;32m      8\u001b[0m \u001b[0msales_guy\u001b[0m \u001b[1;33m=\u001b[0m \u001b[0memployee\u001b[0m\u001b[1;33m.\u001b[0m\u001b[0mSalesPerson\u001b[0m\u001b[1;33m(\u001b[0m\u001b[1;36m3\u001b[0m\u001b[1;33m,\u001b[0m \u001b[1;34m'Kevin Bacon'\u001b[0m\u001b[1;33m,\u001b[0m \u001b[1;36m1000\u001b[0m\u001b[1;33m,\u001b[0m \u001b[1;36m250\u001b[0m\u001b[1;33m)\u001b[0m\u001b[1;33m\u001b[0m\u001b[0m\n\u001b[0;32m      9\u001b[0m \u001b[0mfactory_worker\u001b[0m \u001b[1;33m=\u001b[0m \u001b[0memployee\u001b[0m\u001b[1;33m.\u001b[0m\u001b[0mFactoryWorker\u001b[0m\u001b[1;33m(\u001b[0m\u001b[1;36m4\u001b[0m\u001b[1;33m,\u001b[0m \u001b[1;34m'Jane Doe'\u001b[0m\u001b[1;33m,\u001b[0m \u001b[1;36m40\u001b[0m\u001b[1;33m,\u001b[0m \u001b[1;36m15\u001b[0m\u001b[1;33m)\u001b[0m\u001b[1;33m\u001b[0m\u001b[0m\n\u001b[1;32m---> 10\u001b[1;33m \u001b[0mtemporary_secretary\u001b[0m \u001b[1;33m=\u001b[0m \u001b[0memployee\u001b[0m\u001b[1;33m.\u001b[0m\u001b[0mTemporarySecretary\u001b[0m\u001b[1;33m(\u001b[0m\u001b[1;36m5\u001b[0m\u001b[1;33m,\u001b[0m \u001b[1;34m'Robin Williams'\u001b[0m\u001b[1;33m,\u001b[0m \u001b[1;36m40\u001b[0m\u001b[1;33m,\u001b[0m \u001b[1;36m9\u001b[0m\u001b[1;33m)\u001b[0m\u001b[1;33m\u001b[0m\u001b[0m\n\u001b[0m\u001b[0;32m     11\u001b[0m company_employees = [\n\u001b[0;32m     12\u001b[0m     \u001b[0mmanager\u001b[0m\u001b[1;33m,\u001b[0m\u001b[1;33m\u001b[0m\u001b[0m\n",
      "\u001b[1;31mTypeError\u001b[0m: __init__() takes 4 positional arguments but 5 were given"
     ]
    }
   ],
   "source": [
    "%run program.py"
   ]
  },
  {
   "cell_type": "markdown",
   "metadata": {},
   "source": [
    "You get a `TypeError` exception saying that 4 positional arguments where expected, but 5 were given.\n",
    "\n",
    "This is because you derived `TemporarySecretary` first from `Secretary` and then from `HourlyEmployee`, so the interpreter is trying to use `Secretary.__init__()` to initialize the object.\n",
    "\n",
    "Okay, let’s reverse it:"
   ]
  },
  {
   "cell_type": "code",
   "execution_count": 1,
   "metadata": {},
   "outputs": [
    {
     "name": "stdout",
     "output_type": "stream",
     "text": [
      "Overwriting employee.py\n"
     ]
    }
   ],
   "source": [
    "%%file employee.py\n",
    "\n",
    "class Employee:\n",
    "    def __init__(self, id, name):\n",
    "        self.id = id\n",
    "        self.name = name\n",
    "        \n",
    "class SalaryEmployee(Employee):\n",
    "    def __init__(self, id, name, weekly_salary):\n",
    "        super().__init__(id, name)\n",
    "        self.weekly_salary = weekly_salary\n",
    "        \n",
    "    def calculate_payroll(self):\n",
    "        return self.weekly_salary\n",
    "    \n",
    "class HourlyEmployee(Employee):\n",
    "    def __init__(self, id, name, hours_worked, hour_rate):\n",
    "        super().__init__(id, name)\n",
    "        self.hours_worked = hours_worked\n",
    "        self.hour_rate = hour_rate\n",
    "        \n",
    "    def calculate_payroll(self):\n",
    "        return self.hours_worked * self.hour_rate\n",
    "    \n",
    "class CommissionEmployee(SalaryEmployee):\n",
    "    def __init__(self, id, name, weekly_salary, commission):\n",
    "        super().__init__(id, name, weekly_salary)\n",
    "        self.commission = commission\n",
    "        \n",
    "    def calculate_payroll(self):\n",
    "        fixed = super().calculate_payroll()\n",
    "        return fixed + self.commission    \n",
    "\n",
    "# new classes are added here\n",
    "\n",
    "class Manager(SalaryEmployee):\n",
    "    def work(self, hours):\n",
    "        print(f'{self.name} screams and yells for {hours} hours.')\n",
    "\n",
    "class Secretary(SalaryEmployee):\n",
    "    def work(self, hours):\n",
    "        print(f'{self.name} expends {hours} hours doing office paperwork.')\n",
    "\n",
    "class SalesPerson(CommissionEmployee):\n",
    "    def work(self, hours):\n",
    "        print(f'{self.name} expends {hours} hours on the phone.')\n",
    "\n",
    "class FactoryWorker(HourlyEmployee):\n",
    "    def work(self, hours):\n",
    "        print(f'{self.name} manufactures gadgets for {hours} hours.')\n",
    "\n",
    "class TemporarySecretary(HourlyEmployee, Secretary):\n",
    "    pass"
   ]
  },
  {
   "cell_type": "code",
   "execution_count": 2,
   "metadata": {},
   "outputs": [
    {
     "ename": "TypeError",
     "evalue": "__init__() missing 1 required positional argument: 'weekly_salary'",
     "output_type": "error",
     "traceback": [
      "\u001b[1;31m---------------------------------------------------------------------------\u001b[0m",
      "\u001b[1;31mTypeError\u001b[0m                                 Traceback (most recent call last)",
      "\u001b[1;32mc:\\miniconda3\\notebooks\\My Notebooks\\Python\\program.py\u001b[0m in \u001b[0;36m<module>\u001b[1;34m()\u001b[0m\n\u001b[0;32m      8\u001b[0m \u001b[0msales_guy\u001b[0m \u001b[1;33m=\u001b[0m \u001b[0memployee\u001b[0m\u001b[1;33m.\u001b[0m\u001b[0mSalesPerson\u001b[0m\u001b[1;33m(\u001b[0m\u001b[1;36m3\u001b[0m\u001b[1;33m,\u001b[0m \u001b[1;34m'Kevin Bacon'\u001b[0m\u001b[1;33m,\u001b[0m \u001b[1;36m1000\u001b[0m\u001b[1;33m,\u001b[0m \u001b[1;36m250\u001b[0m\u001b[1;33m)\u001b[0m\u001b[1;33m\u001b[0m\u001b[0m\n\u001b[0;32m      9\u001b[0m \u001b[0mfactory_worker\u001b[0m \u001b[1;33m=\u001b[0m \u001b[0memployee\u001b[0m\u001b[1;33m.\u001b[0m\u001b[0mFactoryWorker\u001b[0m\u001b[1;33m(\u001b[0m\u001b[1;36m4\u001b[0m\u001b[1;33m,\u001b[0m \u001b[1;34m'Jane Doe'\u001b[0m\u001b[1;33m,\u001b[0m \u001b[1;36m40\u001b[0m\u001b[1;33m,\u001b[0m \u001b[1;36m15\u001b[0m\u001b[1;33m)\u001b[0m\u001b[1;33m\u001b[0m\u001b[0m\n\u001b[1;32m---> 10\u001b[1;33m \u001b[0mtemporary_secretary\u001b[0m \u001b[1;33m=\u001b[0m \u001b[0memployee\u001b[0m\u001b[1;33m.\u001b[0m\u001b[0mTemporarySecretary\u001b[0m\u001b[1;33m(\u001b[0m\u001b[1;36m5\u001b[0m\u001b[1;33m,\u001b[0m \u001b[1;34m'Robin Williams'\u001b[0m\u001b[1;33m,\u001b[0m \u001b[1;36m40\u001b[0m\u001b[1;33m,\u001b[0m \u001b[1;36m9\u001b[0m\u001b[1;33m)\u001b[0m\u001b[1;33m\u001b[0m\u001b[0m\n\u001b[0m\u001b[0;32m     11\u001b[0m company_employees = [\n\u001b[0;32m     12\u001b[0m     \u001b[0mmanager\u001b[0m\u001b[1;33m,\u001b[0m\u001b[1;33m\u001b[0m\u001b[0m\n",
      "\u001b[1;32mc:\\miniconda3\\notebooks\\My Notebooks\\Python\\employee.py\u001b[0m in \u001b[0;36m__init__\u001b[1;34m(self, id, name, hours_worked, hour_rate)\u001b[0m\n\u001b[0;32m     15\u001b[0m \u001b[1;32mclass\u001b[0m \u001b[0mHourlyEmployee\u001b[0m\u001b[1;33m(\u001b[0m\u001b[0mEmployee\u001b[0m\u001b[1;33m)\u001b[0m\u001b[1;33m:\u001b[0m\u001b[1;33m\u001b[0m\u001b[0m\n\u001b[0;32m     16\u001b[0m     \u001b[1;32mdef\u001b[0m \u001b[0m__init__\u001b[0m\u001b[1;33m(\u001b[0m\u001b[0mself\u001b[0m\u001b[1;33m,\u001b[0m \u001b[0mid\u001b[0m\u001b[1;33m,\u001b[0m \u001b[0mname\u001b[0m\u001b[1;33m,\u001b[0m \u001b[0mhours_worked\u001b[0m\u001b[1;33m,\u001b[0m \u001b[0mhour_rate\u001b[0m\u001b[1;33m)\u001b[0m\u001b[1;33m:\u001b[0m\u001b[1;33m\u001b[0m\u001b[0m\n\u001b[1;32m---> 17\u001b[1;33m         \u001b[0msuper\u001b[0m\u001b[1;33m(\u001b[0m\u001b[1;33m)\u001b[0m\u001b[1;33m.\u001b[0m\u001b[0m__init__\u001b[0m\u001b[1;33m(\u001b[0m\u001b[0mid\u001b[0m\u001b[1;33m,\u001b[0m \u001b[0mname\u001b[0m\u001b[1;33m)\u001b[0m\u001b[1;33m\u001b[0m\u001b[0m\n\u001b[0m\u001b[0;32m     18\u001b[0m         \u001b[0mself\u001b[0m\u001b[1;33m.\u001b[0m\u001b[0mhours_worked\u001b[0m \u001b[1;33m=\u001b[0m \u001b[0mhours_worked\u001b[0m\u001b[1;33m\u001b[0m\u001b[0m\n\u001b[0;32m     19\u001b[0m         \u001b[0mself\u001b[0m\u001b[1;33m.\u001b[0m\u001b[0mhour_rate\u001b[0m \u001b[1;33m=\u001b[0m \u001b[0mhour_rate\u001b[0m\u001b[1;33m\u001b[0m\u001b[0m\n",
      "\u001b[1;31mTypeError\u001b[0m: __init__() missing 1 required positional argument: 'weekly_salary'"
     ]
    }
   ],
   "source": [
    "%run program.py"
   ]
  },
  {
   "cell_type": "markdown",
   "metadata": {},
   "source": [
    "Now it seems you are missing a `weekly_salary` parameter, which is necessary to initialize `Secretary`, but that parameter doesn’t make sense in the context of a `TemporarySecretary` because it’s an `HourlyEmployee`.\n",
    "\n",
    "Maybe implementing `TemporarySecretary.__init__()` will help:"
   ]
  },
  {
   "cell_type": "code",
   "execution_count": 3,
   "metadata": {},
   "outputs": [
    {
     "name": "stdout",
     "output_type": "stream",
     "text": [
      "Overwriting employee.py\n"
     ]
    }
   ],
   "source": [
    "%%file employee.py\n",
    "\n",
    "class Employee:\n",
    "    def __init__(self, id, name):\n",
    "        self.id = id\n",
    "        self.name = name\n",
    "        \n",
    "class SalaryEmployee(Employee):\n",
    "    def __init__(self, id, name, weekly_salary):\n",
    "        super().__init__(id, name)\n",
    "        self.weekly_salary = weekly_salary\n",
    "        \n",
    "    def calculate_payroll(self):\n",
    "        return self.weekly_salary\n",
    "    \n",
    "class HourlyEmployee(Employee):\n",
    "    def __init__(self, id, name, hours_worked, hour_rate):\n",
    "        super().__init__(id, name)\n",
    "        self.hours_worked = hours_worked\n",
    "        self.hour_rate = hour_rate\n",
    "        \n",
    "    def calculate_payroll(self):\n",
    "        return self.hours_worked * self.hour_rate\n",
    "    \n",
    "class CommissionEmployee(SalaryEmployee):\n",
    "    def __init__(self, id, name, weekly_salary, commission):\n",
    "        super().__init__(id, name, weekly_salary)\n",
    "        self.commission = commission\n",
    "        \n",
    "    def calculate_payroll(self):\n",
    "        fixed = super().calculate_payroll()\n",
    "        return fixed + self.commission    \n",
    "\n",
    "# new classes are added here\n",
    "\n",
    "class Manager(SalaryEmployee):\n",
    "    def work(self, hours):\n",
    "        print(f'{self.name} screams and yells for {hours} hours.')\n",
    "\n",
    "class Secretary(SalaryEmployee):\n",
    "    def work(self, hours):\n",
    "        print(f'{self.name} expends {hours} hours doing office paperwork.')\n",
    "\n",
    "class SalesPerson(CommissionEmployee):\n",
    "    def work(self, hours):\n",
    "        print(f'{self.name} expends {hours} hours on the phone.')\n",
    "\n",
    "class FactoryWorker(HourlyEmployee):\n",
    "    def work(self, hours):\n",
    "        print(f'{self.name} manufactures gadgets for {hours} hours.')\n",
    "\n",
    "class TemporarySecretary(HourlyEmployee, Secretary):\n",
    "    def __init__(self, id, name, hours_worked, hour_rate):\n",
    "        super().__init__(id, name, hours_worked, hour_rate)"
   ]
  },
  {
   "cell_type": "code",
   "execution_count": 1,
   "metadata": {},
   "outputs": [
    {
     "ename": "TypeError",
     "evalue": "__init__() missing 1 required positional argument: 'weekly_salary'",
     "output_type": "error",
     "traceback": [
      "\u001b[1;31m---------------------------------------------------------------------------\u001b[0m",
      "\u001b[1;31mTypeError\u001b[0m                                 Traceback (most recent call last)",
      "\u001b[1;32mc:\\miniconda3\\notebooks\\My Notebooks\\Python\\program.py\u001b[0m in \u001b[0;36m<module>\u001b[1;34m()\u001b[0m\n\u001b[0;32m      8\u001b[0m \u001b[0msales_guy\u001b[0m \u001b[1;33m=\u001b[0m \u001b[0memployee\u001b[0m\u001b[1;33m.\u001b[0m\u001b[0mSalesPerson\u001b[0m\u001b[1;33m(\u001b[0m\u001b[1;36m3\u001b[0m\u001b[1;33m,\u001b[0m \u001b[1;34m'Kevin Bacon'\u001b[0m\u001b[1;33m,\u001b[0m \u001b[1;36m1000\u001b[0m\u001b[1;33m,\u001b[0m \u001b[1;36m250\u001b[0m\u001b[1;33m)\u001b[0m\u001b[1;33m\u001b[0m\u001b[0m\n\u001b[0;32m      9\u001b[0m \u001b[0mfactory_worker\u001b[0m \u001b[1;33m=\u001b[0m \u001b[0memployee\u001b[0m\u001b[1;33m.\u001b[0m\u001b[0mFactoryWorker\u001b[0m\u001b[1;33m(\u001b[0m\u001b[1;36m4\u001b[0m\u001b[1;33m,\u001b[0m \u001b[1;34m'Jane Doe'\u001b[0m\u001b[1;33m,\u001b[0m \u001b[1;36m40\u001b[0m\u001b[1;33m,\u001b[0m \u001b[1;36m15\u001b[0m\u001b[1;33m)\u001b[0m\u001b[1;33m\u001b[0m\u001b[0m\n\u001b[1;32m---> 10\u001b[1;33m \u001b[0mtemporary_secretary\u001b[0m \u001b[1;33m=\u001b[0m \u001b[0memployee\u001b[0m\u001b[1;33m.\u001b[0m\u001b[0mTemporarySecretary\u001b[0m\u001b[1;33m(\u001b[0m\u001b[1;36m5\u001b[0m\u001b[1;33m,\u001b[0m \u001b[1;34m'Robin Williams'\u001b[0m\u001b[1;33m,\u001b[0m \u001b[1;36m40\u001b[0m\u001b[1;33m,\u001b[0m \u001b[1;36m9\u001b[0m\u001b[1;33m)\u001b[0m\u001b[1;33m\u001b[0m\u001b[0m\n\u001b[0m\u001b[0;32m     11\u001b[0m company_employees = [\n\u001b[0;32m     12\u001b[0m     \u001b[0mmanager\u001b[0m\u001b[1;33m,\u001b[0m\u001b[1;33m\u001b[0m\u001b[0m\n",
      "\u001b[1;32mc:\\miniconda3\\notebooks\\My Notebooks\\Python\\employee.py\u001b[0m in \u001b[0;36m__init__\u001b[1;34m(self, id, name, hours_worked, hour_rate)\u001b[0m\n\u001b[0;32m     51\u001b[0m \u001b[1;32mclass\u001b[0m \u001b[0mTemporarySecretary\u001b[0m\u001b[1;33m(\u001b[0m\u001b[0mHourlyEmployee\u001b[0m\u001b[1;33m,\u001b[0m \u001b[0mSecretary\u001b[0m\u001b[1;33m)\u001b[0m\u001b[1;33m:\u001b[0m\u001b[1;33m\u001b[0m\u001b[0m\n\u001b[0;32m     52\u001b[0m     \u001b[1;32mdef\u001b[0m \u001b[0m__init__\u001b[0m\u001b[1;33m(\u001b[0m\u001b[0mself\u001b[0m\u001b[1;33m,\u001b[0m \u001b[0mid\u001b[0m\u001b[1;33m,\u001b[0m \u001b[0mname\u001b[0m\u001b[1;33m,\u001b[0m \u001b[0mhours_worked\u001b[0m\u001b[1;33m,\u001b[0m \u001b[0mhour_rate\u001b[0m\u001b[1;33m)\u001b[0m\u001b[1;33m:\u001b[0m\u001b[1;33m\u001b[0m\u001b[0m\n\u001b[1;32m---> 53\u001b[1;33m         \u001b[0msuper\u001b[0m\u001b[1;33m(\u001b[0m\u001b[1;33m)\u001b[0m\u001b[1;33m.\u001b[0m\u001b[0m__init__\u001b[0m\u001b[1;33m(\u001b[0m\u001b[0mid\u001b[0m\u001b[1;33m,\u001b[0m \u001b[0mname\u001b[0m\u001b[1;33m,\u001b[0m \u001b[0mhours_worked\u001b[0m\u001b[1;33m,\u001b[0m \u001b[0mhour_rate\u001b[0m\u001b[1;33m)\u001b[0m\u001b[1;33m\u001b[0m\u001b[0m\n\u001b[0m",
      "\u001b[1;32mc:\\miniconda3\\notebooks\\My Notebooks\\Python\\employee.py\u001b[0m in \u001b[0;36m__init__\u001b[1;34m(self, id, name, hours_worked, hour_rate)\u001b[0m\n\u001b[0;32m     15\u001b[0m \u001b[1;32mclass\u001b[0m \u001b[0mHourlyEmployee\u001b[0m\u001b[1;33m(\u001b[0m\u001b[0mEmployee\u001b[0m\u001b[1;33m)\u001b[0m\u001b[1;33m:\u001b[0m\u001b[1;33m\u001b[0m\u001b[0m\n\u001b[0;32m     16\u001b[0m     \u001b[1;32mdef\u001b[0m \u001b[0m__init__\u001b[0m\u001b[1;33m(\u001b[0m\u001b[0mself\u001b[0m\u001b[1;33m,\u001b[0m \u001b[0mid\u001b[0m\u001b[1;33m,\u001b[0m \u001b[0mname\u001b[0m\u001b[1;33m,\u001b[0m \u001b[0mhours_worked\u001b[0m\u001b[1;33m,\u001b[0m \u001b[0mhour_rate\u001b[0m\u001b[1;33m)\u001b[0m\u001b[1;33m:\u001b[0m\u001b[1;33m\u001b[0m\u001b[0m\n\u001b[1;32m---> 17\u001b[1;33m         \u001b[0msuper\u001b[0m\u001b[1;33m(\u001b[0m\u001b[1;33m)\u001b[0m\u001b[1;33m.\u001b[0m\u001b[0m__init__\u001b[0m\u001b[1;33m(\u001b[0m\u001b[0mid\u001b[0m\u001b[1;33m,\u001b[0m \u001b[0mname\u001b[0m\u001b[1;33m)\u001b[0m\u001b[1;33m\u001b[0m\u001b[0m\n\u001b[0m\u001b[0;32m     18\u001b[0m         \u001b[0mself\u001b[0m\u001b[1;33m.\u001b[0m\u001b[0mhours_worked\u001b[0m \u001b[1;33m=\u001b[0m \u001b[0mhours_worked\u001b[0m\u001b[1;33m\u001b[0m\u001b[0m\n\u001b[0;32m     19\u001b[0m         \u001b[0mself\u001b[0m\u001b[1;33m.\u001b[0m\u001b[0mhour_rate\u001b[0m \u001b[1;33m=\u001b[0m \u001b[0mhour_rate\u001b[0m\u001b[1;33m\u001b[0m\u001b[0m\n",
      "\u001b[1;31mTypeError\u001b[0m: __init__() missing 1 required positional argument: 'weekly_salary'"
     ]
    }
   ],
   "source": [
    "%run program.py"
   ]
  },
  {
   "cell_type": "markdown",
   "metadata": {},
   "source": [
    "That didn’t work either. Okay, it’s time for you to dive into Python’s **method resolution order (MRO)** to see what’s going on.\n",
    "\n",
    "When a method or attribute of a class is accessed, Python uses the class MRO to find it. The MRO is also used by `super()` to determine which method or attribute to invoke.\n",
    "\n",
    "You can evaluate the `TemporarySecretary` class MRO using the interactive interpreter:"
   ]
  },
  {
   "cell_type": "code",
   "execution_count": 2,
   "metadata": {},
   "outputs": [
    {
     "data": {
      "text/plain": [
       "(employee.TemporarySecretary,\n",
       " employee.HourlyEmployee,\n",
       " employee.Secretary,\n",
       " employee.SalaryEmployee,\n",
       " employee.Employee,\n",
       " object)"
      ]
     },
     "execution_count": 2,
     "metadata": {},
     "output_type": "execute_result"
    }
   ],
   "source": [
    ">>> from employee import TemporarySecretary\n",
    ">>> TemporarySecretary.__mro__\n"
   ]
  },
  {
   "cell_type": "markdown",
   "metadata": {},
   "source": [
    "The MRO shows the order in which Python is going to look for a matching attribute or method. In the example, this is what happens when we create the `TemporarySecretary` object:\n",
    "\n",
    " 1. The `TemporarySecretary.__init__(self, id, name, hours_worked, hour_rate)` method is called.\n",
    "\n",
    " 2. The `super().__init__(id, name, hours_worked, hour_rate)` call matches `HourlyEmployee.__init__(self, id, name, hour_worked, hour_rate)`.\n",
    "\n",
    " 3. `HourlyEmployee` calls `super().__init__(id, name)`, which the MRO is going to match to `Secretary.__init__()`, which is inherited from `SalaryEmployee.__init__(self, id, name, weekly_salary)`.\n",
    "\n",
    "Because the parameters don’t match, a `TypeError` exception is raised.\n",
    "\n",
    "You can bypass the MRO by reversing the inheritance order and directly calling `HourlyEmployee.__init__()` as follows:"
   ]
  },
  {
   "cell_type": "code",
   "execution_count": 1,
   "metadata": {},
   "outputs": [
    {
     "name": "stdout",
     "output_type": "stream",
     "text": [
      "Overwriting employee.py\n"
     ]
    }
   ],
   "source": [
    "%%file employee.py\n",
    "\n",
    "class Employee:\n",
    "    def __init__(self, id, name):\n",
    "        self.id = id\n",
    "        self.name = name\n",
    "        \n",
    "class SalaryEmployee(Employee):\n",
    "    def __init__(self, id, name, weekly_salary):\n",
    "        super().__init__(id, name)\n",
    "        self.weekly_salary = weekly_salary\n",
    "        \n",
    "    def calculate_payroll(self):\n",
    "        return self.weekly_salary\n",
    "    \n",
    "class HourlyEmployee(Employee):\n",
    "    def __init__(self, id, name, hours_worked, hour_rate):\n",
    "        super().__init__(id, name)\n",
    "        self.hours_worked = hours_worked\n",
    "        self.hour_rate = hour_rate\n",
    "        \n",
    "    def calculate_payroll(self):\n",
    "        return self.hours_worked * self.hour_rate\n",
    "    \n",
    "class CommissionEmployee(SalaryEmployee):\n",
    "    def __init__(self, id, name, weekly_salary, commission):\n",
    "        super().__init__(id, name, weekly_salary)\n",
    "        self.commission = commission\n",
    "        \n",
    "    def calculate_payroll(self):\n",
    "        fixed = super().calculate_payroll()\n",
    "        return fixed + self.commission    \n",
    "\n",
    "# new classes are added here\n",
    "\n",
    "class Manager(SalaryEmployee):\n",
    "    def work(self, hours):\n",
    "        print(f'{self.name} screams and yells for {hours} hours.')\n",
    "\n",
    "class Secretary(SalaryEmployee):\n",
    "    def work(self, hours):\n",
    "        print(f'{self.name} expends {hours} hours doing office paperwork.')\n",
    "\n",
    "class SalesPerson(CommissionEmployee):\n",
    "    def work(self, hours):\n",
    "        print(f'{self.name} expends {hours} hours on the phone.')\n",
    "\n",
    "class FactoryWorker(HourlyEmployee):\n",
    "    def work(self, hours):\n",
    "        print(f'{self.name} manufactures gadgets for {hours} hours.')\n",
    "\n",
    "class TemporarySecretary(Secretary,HourlyEmployee):\n",
    "    def __init__(self, id, name, hours_worked, hour_rate):\n",
    "        HourlyEmployee.__init__(self,id, name, hours_worked, hour_rate)\n",
    "        "
   ]
  },
  {
   "cell_type": "code",
   "execution_count": 2,
   "metadata": {},
   "outputs": [
    {
     "name": "stdout",
     "output_type": "stream",
     "text": [
      "Tracking Employee Productivity\n",
      "==============================\n",
      "Mary Poppins screams and yells for 40 hours.\n",
      "John Smith expends 40 hours doing office paperwork.\n",
      "Kevin Bacon expends 40 hours on the phone.\n",
      "Jane Doe manufactures gadgets for 40 hours.\n",
      "Robin Williams expends 40 hours doing office paperwork.\n",
      "\n",
      "calculating payroll\n",
      "====================\n",
      "Payroll for: 1 - Mary Poppins\n",
      "- check amount: 3000\n",
      "\n",
      "Payroll for: 2 - John Smith\n",
      "- check amount: 1500\n",
      "\n",
      "Payroll for: 3 - Kevin Bacon\n",
      "- check amount: 1250\n",
      "\n",
      "Payroll for: 4 - Jane Doe\n",
      "- check amount: 600\n",
      "\n",
      "Payroll for: 5 - Robin Williams\n"
     ]
    },
    {
     "ename": "AttributeError",
     "evalue": "'TemporarySecretary' object has no attribute 'weekly_salary'",
     "output_type": "error",
     "traceback": [
      "\u001b[1;31m---------------------------------------------------------------------------\u001b[0m",
      "\u001b[1;31mAttributeError\u001b[0m                            Traceback (most recent call last)",
      "\u001b[1;32mc:\\miniconda3\\notebooks\\My Notebooks\\Python\\program.py\u001b[0m in \u001b[0;36m<module>\u001b[1;34m()\u001b[0m\n\u001b[0;32m     19\u001b[0m \u001b[0mproductivity_system\u001b[0m\u001b[1;33m.\u001b[0m\u001b[0mtrack\u001b[0m\u001b[1;33m(\u001b[0m\u001b[0mcompany_employees\u001b[0m\u001b[1;33m,\u001b[0m \u001b[1;36m40\u001b[0m\u001b[1;33m)\u001b[0m\u001b[1;33m\u001b[0m\u001b[0m\n\u001b[0;32m     20\u001b[0m \u001b[0mpayroll_system\u001b[0m \u001b[1;33m=\u001b[0m \u001b[0mhr\u001b[0m\u001b[1;33m.\u001b[0m\u001b[0mPayrollSystem\u001b[0m\u001b[1;33m(\u001b[0m\u001b[1;33m)\u001b[0m\u001b[1;33m\u001b[0m\u001b[0m\n\u001b[1;32m---> 21\u001b[1;33m \u001b[0mpayroll_system\u001b[0m\u001b[1;33m.\u001b[0m\u001b[0mcalculate_payroll\u001b[0m\u001b[1;33m(\u001b[0m\u001b[0mcompany_employees\u001b[0m\u001b[1;33m)\u001b[0m\u001b[1;33m\u001b[0m\u001b[0m\n\u001b[0m",
      "\u001b[1;32mc:\\miniconda3\\notebooks\\My Notebooks\\Python\\hr.py\u001b[0m in \u001b[0;36mcalculate_payroll\u001b[1;34m(self, employees)\u001b[0m\n\u001b[0;32m      6\u001b[0m         \u001b[1;32mfor\u001b[0m \u001b[0memployee\u001b[0m \u001b[1;32min\u001b[0m \u001b[0memployees\u001b[0m\u001b[1;33m:\u001b[0m\u001b[1;33m\u001b[0m\u001b[0m\n\u001b[0;32m      7\u001b[0m             \u001b[0mprint\u001b[0m\u001b[1;33m(\u001b[0m\u001b[1;34mf'Payroll for: {employee.id} - {employee.name}'\u001b[0m\u001b[1;33m)\u001b[0m\u001b[1;33m\u001b[0m\u001b[0m\n\u001b[1;32m----> 8\u001b[1;33m             \u001b[0mprint\u001b[0m\u001b[1;33m(\u001b[0m\u001b[1;34mf'- check amount: {employee.calculate_payroll()}'\u001b[0m\u001b[1;33m)\u001b[0m\u001b[1;33m\u001b[0m\u001b[0m\n\u001b[0m\u001b[0;32m      9\u001b[0m             \u001b[0mprint\u001b[0m\u001b[1;33m(\u001b[0m\u001b[1;34m''\u001b[0m\u001b[1;33m)\u001b[0m\u001b[1;33m\u001b[0m\u001b[0m\n",
      "\u001b[1;32mc:\\miniconda3\\notebooks\\My Notebooks\\Python\\employee.py\u001b[0m in \u001b[0;36mcalculate_payroll\u001b[1;34m(self)\u001b[0m\n\u001b[0;32m     11\u001b[0m \u001b[1;33m\u001b[0m\u001b[0m\n\u001b[0;32m     12\u001b[0m     \u001b[1;32mdef\u001b[0m \u001b[0mcalculate_payroll\u001b[0m\u001b[1;33m(\u001b[0m\u001b[0mself\u001b[0m\u001b[1;33m)\u001b[0m\u001b[1;33m:\u001b[0m\u001b[1;33m\u001b[0m\u001b[0m\n\u001b[1;32m---> 13\u001b[1;33m         \u001b[1;32mreturn\u001b[0m \u001b[0mself\u001b[0m\u001b[1;33m.\u001b[0m\u001b[0mweekly_salary\u001b[0m\u001b[1;33m\u001b[0m\u001b[0m\n\u001b[0m\u001b[0;32m     14\u001b[0m \u001b[1;33m\u001b[0m\u001b[0m\n\u001b[0;32m     15\u001b[0m \u001b[1;32mclass\u001b[0m \u001b[0mHourlyEmployee\u001b[0m\u001b[1;33m(\u001b[0m\u001b[0mEmployee\u001b[0m\u001b[1;33m)\u001b[0m\u001b[1;33m:\u001b[0m\u001b[1;33m\u001b[0m\u001b[0m\n",
      "\u001b[1;31mAttributeError\u001b[0m: 'TemporarySecretary' object has no attribute 'weekly_salary'"
     ]
    }
   ],
   "source": [
    "%run program.py"
   ]
  },
  {
   "cell_type": "markdown",
   "metadata": {},
   "source": [
    "The problem now is that because you reversed the inheritance order, the MRO is finding the `.calculate_payroll()` method of `SalariedEmployee` before the one in `HourlyEmployee`. You need to override `.calculate_payroll()` in `TemporarySecretary` and invoke the right implementation from it:"
   ]
  },
  {
   "cell_type": "code",
   "execution_count": 3,
   "metadata": {},
   "outputs": [
    {
     "name": "stdout",
     "output_type": "stream",
     "text": [
      "Overwriting employee.py\n"
     ]
    }
   ],
   "source": [
    "%%file employee.py\n",
    "\n",
    "class Employee:\n",
    "    def __init__(self, id, name):\n",
    "        self.id = id\n",
    "        self.name = name\n",
    "        \n",
    "class SalaryEmployee(Employee):\n",
    "    def __init__(self, id, name, weekly_salary):\n",
    "        super().__init__(id, name)\n",
    "        self.weekly_salary = weekly_salary\n",
    "        \n",
    "    def calculate_payroll(self):\n",
    "        return self.weekly_salary\n",
    "    \n",
    "class HourlyEmployee(Employee):\n",
    "    def __init__(self, id, name, hours_worked, hour_rate):\n",
    "        super().__init__(id, name)\n",
    "        self.hours_worked = hours_worked\n",
    "        self.hour_rate = hour_rate\n",
    "        \n",
    "    def calculate_payroll(self):\n",
    "        return self.hours_worked * self.hour_rate\n",
    "    \n",
    "class CommissionEmployee(SalaryEmployee):\n",
    "    def __init__(self, id, name, weekly_salary, commission):\n",
    "        super().__init__(id, name, weekly_salary)\n",
    "        self.commission = commission\n",
    "        \n",
    "    def calculate_payroll(self):\n",
    "        fixed = super().calculate_payroll()\n",
    "        return fixed + self.commission    \n",
    "\n",
    "# new classes are added here\n",
    "\n",
    "class Manager(SalaryEmployee):\n",
    "    def work(self, hours):\n",
    "        print(f'{self.name} screams and yells for {hours} hours.')\n",
    "\n",
    "class Secretary(SalaryEmployee):\n",
    "    def work(self, hours):\n",
    "        print(f'{self.name} expends {hours} hours doing office paperwork.')\n",
    "\n",
    "class SalesPerson(CommissionEmployee):\n",
    "    def work(self, hours):\n",
    "        print(f'{self.name} expends {hours} hours on the phone.')\n",
    "\n",
    "class FactoryWorker(HourlyEmployee):\n",
    "    def work(self, hours):\n",
    "        print(f'{self.name} manufactures gadgets for {hours} hours.')\n",
    "\n",
    "class TemporarySecretary(Secretary, HourlyEmployee):\n",
    "    def __init__(self, id, name, hours_worked, hour_rate):\n",
    "        HourlyEmployee.__init__(self, id, name, hours_worked, hour_rate)\n",
    "\n",
    "    def calculate_payroll(self):\n",
    "        return HourlyEmployee.calculate_payroll(self)\n",
    "    "
   ]
  },
  {
   "cell_type": "code",
   "execution_count": 1,
   "metadata": {},
   "outputs": [
    {
     "name": "stdout",
     "output_type": "stream",
     "text": [
      "Tracking Employee Productivity\n",
      "==============================\n",
      "Mary Poppins screams and yells for 40 hours.\n",
      "John Smith expends 40 hours doing office paperwork.\n",
      "Kevin Bacon expends 40 hours on the phone.\n",
      "Jane Doe manufactures gadgets for 40 hours.\n",
      "Robin Williams expends 40 hours doing office paperwork.\n",
      "\n",
      "calculating payroll\n",
      "====================\n",
      "Payroll for: 1 - Mary Poppins\n",
      "- check amount: 3000\n",
      "\n",
      "Payroll for: 2 - John Smith\n",
      "- check amount: 1500\n",
      "\n",
      "Payroll for: 3 - Kevin Bacon\n",
      "- check amount: 1250\n",
      "\n",
      "Payroll for: 4 - Jane Doe\n",
      "- check amount: 600\n",
      "\n",
      "Payroll for: 5 - Robin Williams\n",
      "- check amount: 360\n",
      "\n"
     ]
    }
   ],
   "source": [
    "%run program.py"
   ]
  },
  {
   "cell_type": "markdown",
   "metadata": {},
   "source": [
    "The `calculate_payroll()` method directly invokes `HourlyEmployee.calculate_payroll()` to ensure that you get the correct result as seen above.\n",
    "\n",
    "The program now works as expected because you're forcing the method resolution order by explicitly telling the interpreter which method we want to use. \n",
    "\n",
    "As you can see, multiple inheritance can be confusing, especially when you run into the diamond problem. \n",
    "\n",
    "The following diagram shows the diamond problem in your class hierarchy:\n",
    "\n",
    "/insert image\n",
    "\n",
    "The diagram shows the diamond problem with the current class design. `TemporarySecretary` uses multiple inheritance to derive from two classes that ultimately also derive from `Employee`. This causes two paths to reach the `Employee` base class, which is something you want to avoid in your designs. \n",
    "\n",
    "The diamond problem appears when you're using multiple inheritance and deriving from two classes that have a common base class. This can cause the wroing version of a method to be called. \n",
    "\n",
    "As you've seen, Python provides a way to force the right method to be invoked, and analyzing the MRO can help you understand the problem.\n",
    "\n",
    "Still, when you run into the diamond problem, it's better to re-think the design. You will now make some changes to leverage multiple inheritance, avoiding the diamond problem. \n",
    "\n",
    "The `Employee` derived classes are used by two different systems:\n",
    "\n",
    " 1. The productivity system\n",
    " 2. The payroll system\n",
    " \n",
    "This means that everythin related to productivity should be together in one module and everything related to payroll should be together in another. You can start making changes to the productivity module: "
   ]
  },
  {
   "cell_type": "code",
   "execution_count": 2,
   "metadata": {},
   "outputs": [
    {
     "name": "stdout",
     "output_type": "stream",
     "text": [
      "Overwriting productivity.py\n"
     ]
    }
   ],
   "source": [
    "%%file productivity.py\n",
    "\n",
    "class ProductivitySystem:\n",
    "    def track(self, employees, hours):\n",
    "        print('Tracking Employee Productivity')\n",
    "        print('===========================')\n",
    "        for employee in employees:\n",
    "            result = employee.work(hours)\n",
    "            print(f'{employee.name}:{result}')\n",
    "            print('')\n",
    "            \n",
    "class ManagerRole:\n",
    "    def work(self, hours):\n",
    "        return f'screams and yells for {hours} hours.'\n",
    "    \n",
    "class SecretaryRole:\n",
    "    def work(self, hours):\n",
    "        return f'expends {hours} hours doing office paperwork.'\n",
    "    \n",
    "class SalesRole:\n",
    "    def work(self, hours):\n",
    "        return f'expends {hours} hours on the phone.'\n",
    "    \n",
    "class FactoryRole:\n",
    "    def work(self, hours):\n",
    "        return f'manufactures gadgets for {hours} hours.'\n",
    "    "
   ]
  },
  {
   "cell_type": "markdown",
   "metadata": {},
   "source": [
    "The `productivity` module implements the `ProductivitySystem` class as well as the related roles its supports. The classes implement the `work()` interface required by the system, but they don't derive from `Employee`.\n",
    "\n",
    "You can do the same with the `hr` module:"
   ]
  },
  {
   "cell_type": "code",
   "execution_count": 1,
   "metadata": {},
   "outputs": [
    {
     "name": "stdout",
     "output_type": "stream",
     "text": [
      "Overwriting hr.py\n"
     ]
    }
   ],
   "source": [
    "%%file hr.py\n",
    "\n",
    "class PayrollSystem:\n",
    "    def calculate_payroll(self, employees):\n",
    "        print('calculating payroll')\n",
    "        print('=================')\n",
    "        for employee in employees:\n",
    "            print(f'Payroll for: {employee.id} - {employee.name}')\n",
    "            print(f' - Check amount: {employee.calculate_payroll()}')\n",
    "            print('')\n",
    "            \n",
    "class SalaryPolicy:\n",
    "    def __init__(self, weekly_salary):\n",
    "        self.weekly_salary = weekly_salary\n",
    "        \n",
    "    def calculate_payroll(self):\n",
    "        return self.weekly_salary\n",
    "    \n",
    "class HourlyPolicy:\n",
    "    def __init__(self, hours_worked, hour_rate):\n",
    "        self.hours_worked = hours_worked\n",
    "        self.hour_rate = hour_rate\n",
    "        \n",
    "    def calculate_payroll(self):\n",
    "        return self.hours_worked * self.hour_rate\n",
    "    \n",
    "class CommissionPolicy(SalaryPolicy):\n",
    "    def __init__(self, weekly_salary, commission):\n",
    "        super().__init__(weekly_salary)\n",
    "        self.commission = commission\n",
    "        \n",
    "    def calculate_payroll(self):\n",
    "        fixed = super().calculate_payroll()\n",
    "        return fixed + self.commission"
   ]
  },
  {
   "cell_type": "markdown",
   "metadata": {},
   "source": [
    "The `hr` module implements the `PayrollSystem`, which calculates payroll for the employees. It also implements the policy classes for payroll. As you can see, the policy classes don't derive from `Employee` anymore.\n",
    "\n",
    "You can now add the necessary classes to the employee module:"
   ]
  },
  {
   "cell_type": "code",
   "execution_count": 2,
   "metadata": {},
   "outputs": [
    {
     "name": "stdout",
     "output_type": "stream",
     "text": [
      "Overwriting employees.py\n"
     ]
    }
   ],
   "source": [
    "%%file employees.py\n",
    "\n",
    "from hr import (SalaryPolicy, CommissionPolicy, HourlyPolicy)\n",
    "from productivity import (ManagerRole, SecretaryRole, SalesRole, FactoryRole)\n",
    "\n",
    "class Employee:\n",
    "    def __init__(self, id, name):\n",
    "        self.id = id\n",
    "        self.name = name\n",
    "        \n",
    "class Manager(Employee, ManagerRole, SalaryPolicy):\n",
    "    def __init__(self, id, name, weekly_salary):\n",
    "        SalaryPolicy.__init__(self, weekly_salary)\n",
    "        super().__init__(id, name)\n",
    "        \n",
    "class Secretary(Employee, SecretaryRole, SalaryPolicy):\n",
    "    def __init__(self, id, name, weekly_salary):\n",
    "        SalaryPolicy.__init__(self, weekly_salary)\n",
    "        super().__init__(id, name)\n",
    "        \n",
    "class SalesPerson(Employee, SalesRole, CommissionPolicy):\n",
    "    def __init__(self, id, name, weekly_salary, commission):\n",
    "        CommissionPolicy.__init__(self, weekly_salary, commission)\n",
    "        super().__init__(id, name)\n",
    "        \n",
    "class FactoryWorker(Employee, FactoryRole, HourlyPolicy):\n",
    "    def __init__(self, id, name, hours_worked, hour_rate):\n",
    "        HourlyPolicy.__init__(self, hours_worked, hour_rate)\n",
    "        super().__init__(id, name)\n",
    "\n",
    "class TemporarySecretary(Employee, SecretaryRole, HourlyPolicy):\n",
    "    def __init__(self, id, name, hours_worked, hour_rate):\n",
    "        HourlyPolicy.__init__(self, hours_worked, hour_rate)\n",
    "        super().__init__(id, name)\n",
    "        "
   ]
  },
  {
   "cell_type": "markdown",
   "metadata": {},
   "source": [
    "The `employees` module imports policies and roles from the other modules and implements the different `Employee` types. You are still using multiple inheritance to inherit the implementation of the salary policy classes and the productivity roles, but the implementation of each class only needs to deal with initialization.\n",
    "\n",
    "Notice that you still need to explicitly initialize the salary policies in the constructors. You probably saw that the initializations of `Manager` and `Secretary` are identical. Also, the initializations of `FactoryWorker` and `TemporarySecretary` are the same.\n",
    "\n",
    "You will not want to have this kind of code duplication in more complex designs, so you have to be careful when designing class hierarchies.\n",
    "\n",
    "Here’s the UML diagram for the new design:\n",
    "\n",
    "/insert image\n",
    "\n",
    "The diagram shows the relationships to define the `Secretary` and `TemporarySecretary` using multiple inheritance, but avoiding the diamond problem.\n",
    "\n",
    "You can run the program and see how it works:"
   ]
  },
  {
   "cell_type": "code",
   "execution_count": 3,
   "metadata": {},
   "outputs": [
    {
     "name": "stdout",
     "output_type": "stream",
     "text": [
      "Overwriting program.py\n"
     ]
    }
   ],
   "source": [
    "%%file program.py\n",
    "\n",
    "import hr\n",
    "import employees\n",
    "import productivity\n",
    "\n",
    "manager = employees.Manager(1, 'Mary Poppins', 3000)\n",
    "secretary = employees.Secretary(2, 'John Smith', 1500)\n",
    "sales_guy = employees.SalesPerson(3, 'Kevin Bacon', 1000, 250)\n",
    "factory_worker = employees.FactoryWorker(4, 'Jane Doe', 40, 15)\n",
    "temporary_secretary = employees.TemporarySecretary(5, 'Robin Williams', 40, 9)\n",
    "company_employees = [\n",
    "    manager,\n",
    "    secretary,\n",
    "    sales_guy,\n",
    "    factory_worker,\n",
    "    temporary_secretary,\n",
    "]\n",
    "productivity_system = productivity.ProductivitySystem()\n",
    "productivity_system.track(company_employees, 40)\n",
    "payroll_system = hr.PayrollSystem()\n",
    "payroll_system.calculate_payroll(company_employees)\n"
   ]
  },
  {
   "cell_type": "code",
   "execution_count": 4,
   "metadata": {},
   "outputs": [
    {
     "name": "stdout",
     "output_type": "stream",
     "text": [
      "Tracking Employee Productivity\n",
      "===========================\n",
      "Mary Poppins:screams and yells for 40 hours.\n",
      "\n",
      "John Smith:expends 40 hours doing office paperwork.\n",
      "\n",
      "Kevin Bacon:expends 40 hours on the phone.\n",
      "\n",
      "Jane Doe:manufactures gadgets for 40 hours.\n",
      "\n",
      "Robin Williams:expends 40 hours doing office paperwork.\n",
      "\n",
      "calculating payroll\n",
      "=================\n",
      "Payroll for: 1 - Mary Poppins\n",
      " - Check amount: 3000\n",
      "\n",
      "Payroll for: 2 - John Smith\n",
      " - Check amount: 1500\n",
      "\n",
      "Payroll for: 3 - Kevin Bacon\n",
      " - Check amount: 1250\n",
      "\n",
      "Payroll for: 4 - Jane Doe\n",
      " - Check amount: 600\n",
      "\n",
      "Payroll for: 5 - Robin Williams\n",
      " - Check amount: 360\n",
      "\n"
     ]
    }
   ],
   "source": [
    "%run program.py"
   ]
  },
  {
   "cell_type": "markdown",
   "metadata": {},
   "source": [
    "You’ve seen how inheritance and multiple inheritance work in Python. You can now explore the topic of composition."
   ]
  },
  {
   "cell_type": "markdown",
   "metadata": {},
   "source": [
    "## Composition in Python\n",
    "\n",
    "Composition is an object oriented design concept that models a has a relationship. In composition, a class known as composite contains an object of another class known to as component. In other words, a composite class has a component of another class.\n",
    "\n",
    "Composition allows composite classes to reuse the implementation of the components it contains. The composite class doesn’t inherit the component class interface, but it can leverage its implementation.\n",
    "\n",
    "The composition relation between two classes is considered loosely coupled. That means that changes to the component class rarely affect the composite class, and changes to the composite class never affect the component class.\n",
    "\n",
    "This provides better adaptability to change and allows applications to introduce new requirements without affecting existing code.\n",
    "\n",
    "When looking at two competing software designs, one based on inheritance and another based on composition, the composition solution usually is the most flexible. You can now look at how composition works.\n",
    "\n",
    "You’ve already used composition in our examples. If you look at the `Employee` class, you’ll see that it contains two attributes:\n",
    "\n",
    " 1. `id` to identify an employee.\n",
    " 2. `name` to contain the name of the employee.\n",
    "\n",
    "These two attributes are objects that the `Employee` class has. Therefore, you can say that an `Employee` **has an** `id` and **has a** `name`.\n",
    "\n",
    "Another attribute for an `Employee` might be an `Address`:\n",
    "\n"
   ]
  },
  {
   "cell_type": "code",
   "execution_count": 5,
   "metadata": {},
   "outputs": [
    {
     "name": "stdout",
     "output_type": "stream",
     "text": [
      "Writing contacts.py\n"
     ]
    }
   ],
   "source": [
    "%%file contacts.py\n",
    "\n",
    "\n",
    "\n",
    "class Address:\n",
    "    def __init__(self, street, city, state, zipcode, street2=''):\n",
    "        self.street = street\n",
    "        self.street2 = street2\n",
    "        self.city = city\n",
    "        self.state = state\n",
    "        self.zipcode = zipcode\n",
    "\n",
    "    def __str__(self):\n",
    "        lines = [self.street]\n",
    "        if self.street2:\n",
    "            lines.append(self.street2)\n",
    "        lines.append(f'{self.city}, {self.state} {self.zipcode}')\n",
    "        return '\\n'.join(lines)\n",
    "\n"
   ]
  },
  {
   "cell_type": "markdown",
   "metadata": {},
   "source": [
    "You implemented a basic address class that contains the usual components for an address. You made the `street2` attribute optional because not all addresses will have that component.\n",
    "\n",
    "You implemented `__str__()` to provide a pretty representation of an `Address`. You can see this implementation in the interactive interpreter:\n"
   ]
  },
  {
   "cell_type": "code",
   "execution_count": 6,
   "metadata": {},
   "outputs": [
    {
     "name": "stdout",
     "output_type": "stream",
     "text": [
      "55 Main St.\n",
      "Concord, NH 03301\n"
     ]
    }
   ],
   "source": [
    ">>> from contacts import Address\n",
    ">>> address = Address('55 Main St.', 'Concord', 'NH', '03301')\n",
    ">>> print(address)"
   ]
  },
  {
   "cell_type": "markdown",
   "metadata": {},
   "source": [
    "You can now add the `Address` to the `Employee` class through composition:"
   ]
  },
  {
   "cell_type": "code",
   "execution_count": 7,
   "metadata": {},
   "outputs": [
    {
     "name": "stdout",
     "output_type": "stream",
     "text": [
      "Overwriting employees.py\n"
     ]
    }
   ],
   "source": [
    "%%file employees.py\n",
    "\n",
    "from hr import (SalaryPolicy, CommissionPolicy, HourlyPolicy)\n",
    "from productivity import (ManagerRole, SecretaryRole, SalesRole, FactoryRole)\n",
    "\n",
    "class Employee:\n",
    "    def __init__(self, id, name):\n",
    "        self.id = id\n",
    "        self.name = name\n",
    "        self.address = None\n",
    "        \n",
    "class Manager(Employee, ManagerRole, SalaryPolicy):\n",
    "    def __init__(self, id, name, weekly_salary):\n",
    "        SalaryPolicy.__init__(self, weekly_salary)\n",
    "        super().__init__(id, name)\n",
    "        \n",
    "class Secretary(Employee, SecretaryRole, SalaryPolicy):\n",
    "    def __init__(self, id, name, weekly_salary):\n",
    "        SalaryPolicy.__init__(self, weekly_salary)\n",
    "        super().__init__(id, name)\n",
    "        \n",
    "class SalesPerson(Employee, SalesRole, CommissionPolicy):\n",
    "    def __init__(self, id, name, weekly_salary, commission):\n",
    "        CommissionPolicy.__init__(self, weekly_salary, commission)\n",
    "        super().__init__(id, name)\n",
    "        \n",
    "class FactoryWorker(Employee, FactoryRole, HourlyPolicy):\n",
    "    def __init__(self, id, name, hours_worked, hour_rate):\n",
    "        HourlyPolicy.__init__(self, hours_worked, hour_rate)\n",
    "        super().__init__(id, name)\n",
    "\n",
    "class TemporarySecretary(Employee, SecretaryRole, HourlyPolicy):\n",
    "    def __init__(self, id, name, hours_worked, hour_rate):\n",
    "        HourlyPolicy.__init__(self, hours_worked, hour_rate)\n",
    "        super().__init__(id, name)\n",
    "        "
   ]
  },
  {
   "cell_type": "markdown",
   "metadata": {},
   "source": [
    "You initialize the `address` attribute to `None` for now to make it optional, but by doing that, you can now assign an `Address` to an `Employee`. Also notice that there is no reference in the `employee` module to the `contacts` module.\n",
    "\n",
    "Composition is a loosely coupled relationship that often doesn’t require the composite class to have knowledge of the component.\n",
    "\n",
    "The UML diagram representing the relationship between Employee and Address looks like this:\n",
    "\n",
    "/insert image\n",
    "\n",
    "The diagram shows the basic composition relationship between `Employee` and `Address`.\n",
    "\n",
    "You can now modify the `PayrollSystem` class to leverage the `address` attribute in `Employee`:"
   ]
  },
  {
   "cell_type": "code",
   "execution_count": 8,
   "metadata": {},
   "outputs": [
    {
     "name": "stdout",
     "output_type": "stream",
     "text": [
      "Overwriting hr.py\n"
     ]
    }
   ],
   "source": [
    "%%file hr.py\n",
    "\n",
    "class PayrollSystem:\n",
    "    def calculate_payroll(self, employees):\n",
    "        print('calculating payroll')\n",
    "        print('=================')\n",
    "        for employee in employees:\n",
    "            print(f'Payroll for: {employee.id} - {employee.name}')\n",
    "            print(f' - Check amount: {employee.calculate_payroll()}')\n",
    "            if employee.address:\n",
    "                print(' - sent to:')\n",
    "                print(employee.address)\n",
    "            print('')\n",
    "            \n",
    "class SalaryPolicy:\n",
    "    def __init__(self, weekly_salary):\n",
    "        self.weekly_salary = weekly_salary\n",
    "        \n",
    "    def calculate_payroll(self):\n",
    "        return self.weekly_salary\n",
    "    \n",
    "class HourlyPolicy:\n",
    "    def __init__(self, hours_worked, hour_rate):\n",
    "        self.hours_worked = hours_worked\n",
    "        self.hour_rate = hour_rate\n",
    "        \n",
    "    def calculate_payroll(self):\n",
    "        return self.hours_worked * self.hour_rate\n",
    "    \n",
    "class CommissionPolicy(SalaryPolicy):\n",
    "    def __init__(self, weekly_salary, commission):\n",
    "        super().__init__(weekly_salary)\n",
    "        self.commission = commission\n",
    "        \n",
    "    def calculate_payroll(self):\n",
    "        fixed = super().calculate_payroll()\n",
    "        return fixed + self.commission"
   ]
  },
  {
   "cell_type": "markdown",
   "metadata": {},
   "source": [
    "You check to see if the `employee` object has an address, and if it does, you print it. You can now modify the program to assign some addresses to the employees:"
   ]
  },
  {
   "cell_type": "code",
   "execution_count": 9,
   "metadata": {},
   "outputs": [
    {
     "name": "stdout",
     "output_type": "stream",
     "text": [
      "Overwriting program.py\n"
     ]
    }
   ],
   "source": [
    "%%file program.py\n",
    "\n",
    "import hr\n",
    "import employees\n",
    "import productivity\n",
    "import contacts\n",
    "\n",
    "manager = employees.Manager(1, 'Mary Poppins', 3000)\n",
    "manager.address = contacts.Address(\n",
    "    '121 Admin Rd', \n",
    "    'Concord', \n",
    "    'NH', \n",
    "    '03301'\n",
    ")\n",
    "secretary = employees.Secretary(2, 'John Smith', 1500)\n",
    "secretary.address = contacts.Address(\n",
    "    '67 Paperwork Ave.', \n",
    "    'Manchester', \n",
    "    'NH', \n",
    "    '03101'\n",
    ")\n",
    "sales_guy = employees.SalesPerson(3, 'Kevin Bacon', 1000, 250)\n",
    "factory_worker = employees.FactoryWorker(4, 'Jane Doe', 40, 15)\n",
    "temporary_secretary = employees.TemporarySecretary(5, 'Robin Williams', 40, 9)\n",
    "employees = [\n",
    "    manager,\n",
    "    secretary,\n",
    "    sales_guy,\n",
    "    factory_worker,\n",
    "    temporary_secretary,\n",
    "]\n",
    "productivity_system = productivity.ProductivitySystem()\n",
    "productivity_system.track(employees, 40)\n",
    "payroll_system = hr.PayrollSystem()\n",
    "payroll_system.calculate_payroll(employees)"
   ]
  },
  {
   "cell_type": "code",
   "execution_count": 1,
   "metadata": {},
   "outputs": [
    {
     "name": "stdout",
     "output_type": "stream",
     "text": [
      "Tracking Employee Productivity\n",
      "===========================\n",
      "Mary Poppins:screams and yells for 40 hours.\n",
      "\n",
      "John Smith:expends 40 hours doing office paperwork.\n",
      "\n",
      "Kevin Bacon:expends 40 hours on the phone.\n",
      "\n",
      "Jane Doe:manufactures gadgets for 40 hours.\n",
      "\n",
      "Robin Williams:expends 40 hours doing office paperwork.\n",
      "\n",
      "calculating payroll\n",
      "=================\n",
      "Payroll for: 1 - Mary Poppins\n",
      " - Check amount: 3000\n",
      " - sent to:\n",
      "121 Admin Rd\n",
      "Concord, NH 03301\n",
      "\n",
      "Payroll for: 2 - John Smith\n",
      " - Check amount: 1500\n",
      " - sent to:\n",
      "67 Paperwork Ave.\n",
      "Manchester, NH 03101\n",
      "\n",
      "Payroll for: 3 - Kevin Bacon\n",
      " - Check amount: 1250\n",
      "\n",
      "Payroll for: 4 - Jane Doe\n",
      " - Check amount: 600\n",
      "\n",
      "Payroll for: 5 - Robin Williams\n",
      " - Check amount: 360\n",
      "\n"
     ]
    }
   ],
   "source": [
    "%run program.py"
   ]
  },
  {
   "cell_type": "markdown",
   "metadata": {},
   "source": [
    "Notice how the payroll output for the `manager` and `secretary` objects show the addresses where the checks were sent.\n",
    "\n",
    "The `Employee` class leverages the implementation of the `Address` class without any knowledge of what an Address object is or how it’s represented. This type of design is so flexible that you can change the `Address` class without any impact to the Employee class."
   ]
  },
  {
   "cell_type": "markdown",
   "metadata": {},
   "source": [
    "#### Flexible Designs With Composition\n",
    "\n",
    "Composition is more flexible than inheritance because it models a loosely coupled relationship. Changes to a component class have minimal or no effects on the composite class. Designs based on composition are more suitable to change.\n",
    "\n",
    "You change behavior by providing new components that implement those behaviors instead of adding new classes to your hierarchy.\n",
    "\n",
    "Take a look at the multiple inheritance example above. Imagine how new payroll policies will affect the design. Try to picture what the class hierarchy will look like if new roles are needed. As you saw before, relying too heavily on inheritance can lead to class explosion.\n",
    "\n",
    "The biggest problem is not so much the number of classes in your design, but how tightly coupled the relationships between those classes are. Tightly coupled classes affect each other when changes are introduced.\n",
    "\n",
    "In this section, you are going to use composition to implement a better design that still fits the requirements of the `PayrollSystem` and the `ProductivitySystem`.\n",
    "\n",
    "You can start by implementing the functionality of the `ProductivitySystem`:"
   ]
  },
  {
   "cell_type": "code",
   "execution_count": null,
   "metadata": {
    "collapsed": true
   },
   "outputs": [],
   "source": [
    "%%file productivity.py\n",
    "\n",
    "class ProductivitySystem:\n",
    "    def track(self, employees, hours):\n",
    "        print('Tracking Employee Productivity')\n",
    "        print('===========================')\n",
    "        for employee in employees:\n",
    "            result = employee.work(hours)\n",
    "            print(f'{employee.name}:{result}')\n",
    "            print('')\n",
    "            \n",
    "class ManagerRole:\n",
    "    def work(self, hours):\n",
    "        return f'screams and yells for {hours} hours.'\n",
    "    \n",
    "class SecretaryRole:\n",
    "    def work(self, hours):\n",
    "        return f'expends {hours} hours doing office paperwork.'\n",
    "    \n",
    "class SalesRole:\n",
    "    def work(self, hours):\n",
    "        return f'expends {hours} hours on the phone.'\n",
    "    \n",
    "class FactoryRole:\n",
    "    def work(self, hours):\n",
    "        return f'manufactures gadgets for {hours} hours.'\n",
    "    "
   ]
  }
 ],
 "metadata": {
  "kernelspec": {
   "display_name": "Python 3",
   "language": "python",
   "name": "python3"
  },
  "language_info": {
   "codemirror_mode": {
    "name": "ipython",
    "version": 3
   },
   "file_extension": ".py",
   "mimetype": "text/x-python",
   "name": "python",
   "nbconvert_exporter": "python",
   "pygments_lexer": "ipython3",
   "version": "3.6.3"
  }
 },
 "nbformat": 4,
 "nbformat_minor": 2
}
