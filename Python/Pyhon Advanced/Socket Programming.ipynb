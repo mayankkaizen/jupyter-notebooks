{
 "cells": [
  {
   "cell_type": "markdown",
   "metadata": {},
   "source": [
    "[source](https://stackabuse.com/basic-socket-programming-in-python/)"
   ]
  },
  {
   "cell_type": "markdown",
   "metadata": {},
   "source": [
    "In order to make use of the socket functionality, we use `socket` module. In the example code shown below the Python `time` module is imported as well in order to simuate the weather station and to simplyfy time calculations.\n",
    "\n",
    "In this case, both the client and the server run on the same computer. A socket has a corresponding port number, which is 23456 in our case. If desired, you may choose a different port number from the unrestricted number range between 1024 and 65535.\n",
    "\n",
    "#### The Server\n",
    "\n",
    "Having loaded the additional Python `socket` module an Internet streaming socket is created using the `socket.socket` class with two parameters `socket.AF_INET` and `socket.SOCK_STREAM`. The retrieval of the hostname, the fully qualified domain name, and the IP address is done by the methods `gethostname()`, `getfqdn()`, and `gethostbyname()` respectively. \n",
    "\n",
    "Next, the socket is bound to the IP address and the port number 23456 with the help of the `bind()` method. \n",
    "\n",
    "With the help of the `listen()` method the server listens for incoming connections on the specified port. In the `while` loop the server waits for incoming requests and accepts them using the `accept()` method. The data submitted by the client is read via `recv()` method as chunks of 64 bytes, and simply output to stdout. Finally, the current connection is closed if no further data is sent from the client. "
   ]
  },
  {
   "cell_type": "code",
   "execution_count": 1,
   "metadata": {},
   "outputs": [
    {
     "name": "stdout",
     "output_type": "stream",
     "text": [
      "Writing server.py\n"
     ]
    }
   ],
   "source": [
    "%%file server.py\n",
    "\n",
    "import socket\n",
    "\n",
    "# create TCP/IP socket\n",
    "sock = socket.socket(socket.AF_INET,socket.SOCK_STREAM)\n",
    "\n",
    "#retrieve local hostname\n",
    "local_hostname = socket.gethostname()\n",
    "\n",
    "#get fully qualified domain name\n",
    "local_fqdn =  socket.getfqdn()\n",
    "\n",
    "#get the according IP address\n",
    "ip_address = socket.gethostbyname(local_hostname)\n",
    "\n",
    "#output hostname, domain name and IP address\n",
    "print(\"working on %s (%s) with %s\" % (local_hostname, local_fqdn, ip_address))\n",
    "\n",
    "#bind the socket to the port 23456\n",
    "server_address = (ip_address, 23456)\n",
    "print('starting up on %s port %s' % server_address)\n",
    "sock.bind(server_address)\n",
    "\n",
    "#listen for incoming connection (server mode) with one connection at a time\n",
    "sock.listen(1)\n",
    "\n",
    "while True:\n",
    "    #wait for a connection\n",
    "    print(\"waiting for a connection\")\n",
    "    connection, client_address = sock.accept()\n",
    "    try:\n",
    "        #show who connected to us\n",
    "        print('connection from', client_address)\n",
    "        \n",
    "        #receive the data in small chunks and print it\n",
    "        while True:\n",
    "            data = connection.recv(64)\n",
    "            if data:\n",
    "                #output received data\n",
    "                print('Data: %s' %data)\n",
    "            else:\n",
    "                #no more data --quit the loop`\n",
    "                print(\"no more data\")\n",
    "                break\n",
    "    finally:\n",
    "        connection.close()"
   ]
  },
  {
   "cell_type": "markdown",
   "metadata": {},
   "source": [
    "#### The Client\n",
    "\n",
    "Now we will have a look at the client side. The Python code is mostly similar to the server side, except for the usage of the socket - the client uses the `connect()` method, instead. In a `for` loop the temperature data is sent to the server using the `sendall()` method. The call of the `time.sleep(2)` method pauses the client for two seconds before it sends another temperature reading. After all the temperature data is sent from the list the connection is finally closed using the `close()` method."
   ]
  },
  {
   "cell_type": "code",
   "execution_count": 3,
   "metadata": {},
   "outputs": [
    {
     "name": "stdout",
     "output_type": "stream",
     "text": [
      "Overwriting client.py\n"
     ]
    }
   ],
   "source": [
    "%%file client.py\n",
    "\n",
    "import socket \n",
    "import time\n",
    "\n",
    "#create TCP/IP socket\n",
    "sock = socket.socket(socket.AF_INET, socket.SOCK_STREAM)\n",
    "\n",
    "#retrieve local hostname\n",
    "local_hostname = socket.gethostname()\n",
    "local_fqdn = socket.getfqdn()\n",
    "ip_address = socket.gethostbyname(local_hostname)\n",
    "\n",
    "server_address = (ip_address, 23456)\n",
    "sock.connect(server_address)\n",
    "\n",
    "print(\"connection to %s (%s) with %s\" %(local_hostname, local_fqdn, ip_address))\n",
    "\n",
    "#define example data to be sent to the server\n",
    "temperature_data = ['15','33','44','12','11','26']\n",
    "\n",
    "for entry in temperature_data:\n",
    "    print(\"data: %s\" %entry)\n",
    "    new_data = str(\"temp: %s\\n\" %entry).encode(\"utf-8\")\n",
    "    sock.sendall(new_data)\n",
    "    time.sleep(2)\n",
    "\n",
    "    #close connection\n",
    "sock.close()    "
   ]
  },
  {
   "cell_type": "markdown",
   "metadata": {
    "collapsed": true
   },
   "source": [
    "To run both server and the client program, open two terminal windows and issue the following commands - one per terminal window and in the following order - \n",
    "\n",
    "    python server.py\n",
    "    python client.py\n",
    "    \n",
    "Also note that don't run these scripts inside Notebook, it won't work. Also, close the terminate the Jupyter Notebook before you run these scripts on command prompt.     "
   ]
  },
  {
   "cell_type": "code",
   "execution_count": null,
   "metadata": {
    "collapsed": true
   },
   "outputs": [],
   "source": []
  }
 ],
 "metadata": {
  "kernelspec": {
   "display_name": "Python 3 (ipykernel)",
   "language": "python",
   "name": "python3"
  },
  "language_info": {
   "codemirror_mode": {
    "name": "ipython",
    "version": 3
   },
   "file_extension": ".py",
   "mimetype": "text/x-python",
   "name": "python",
   "nbconvert_exporter": "python",
   "pygments_lexer": "ipython3",
   "version": "3.9.7"
  }
 },
 "nbformat": 4,
 "nbformat_minor": 2
}
