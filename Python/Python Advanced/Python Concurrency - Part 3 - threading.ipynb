{
 "cells": [
  {
   "cell_type": "markdown",
   "id": "112abd4b",
   "metadata": {},
   "source": [
    "## Threading\n",
    "\n",
    "[Python doc](https://docs.python.org/3/library/threading.html)\n",
    "\n",
    "[PyMOTW](https://pymotw.com/3/threading/index.html) - source of material in this notebook\n",
    "\n",
    "In the the first notebook of this series, we've seen some basic examples of `threading`. Let's explore this module in details.\n",
    "\n",
    "#### API Structure\n",
    "\n",
    "                                      threading\n",
    "                                         |\n",
    "             ---------------------------------------------\n",
    "             |(functions)             |(constant)        |(classes)\n",
    "             |                        |                  |\n",
    "             --active_count()         --TIMEOUT_MAX      --local\n",
    "             --current_thread()                          --Thread \n",
    "             --excepthook(args,/)                            |(methods/attrs)\n",
    "             --get_ident()                                   |\n",
    "             --get_native_id()                               --start()\n",
    "             --enumerate()                                   --run()\n",
    "             --main_thread()                                 --join(timeout = None)\n",
    "             --settrace(func)                                --name\n",
    "             --gettrace()                                    --getName() \n",
    "             --setprofile(func)                              --setName()\n",
    "             --getprofile()                                  --ident\n",
    "             --stacksize([size])                             --native_id\n",
    "                                                             --is_alive()\n",
    "                                                             --daemon\n",
    "                                                             --isDaemon()\n",
    "                                                             --setDaemon()\n",
    "                                                         --Lock\n",
    "                                                            |(methods)\n",
    "                                                            |\n",
    "                                                            --acquire(blocking=True, timeout=- 1)\n",
    "                                                            --release()\n",
    "                                                            --locked()\n",
    "                                                         --RLock\n",
    "                                                            |(methods)\n",
    "                                                            |\n",
    "                                                            --acquire(blocking=True, timeout=- 1)\n",
    "                                                            --release()\n",
    "                                                         --Condition(lock = None)\n",
    "                                                            |(methods)\n",
    "                                                            |\n",
    "                                                            --acquire(*args)\n",
    "                                                            --release()\n",
    "                                                            --wait(timeout = None)\n",
    "                                                            --wait_for(predicate, timeout=None)\n",
    "                                                            --notify(n=1)\n",
    "                                                            --notify_all()\n",
    "                                                         --Semaphore(value=1)\n",
    "                                                            |(methods)\n",
    "                                                            |\n",
    "                                                            --acquire(blocking=True, timeout=None)\n",
    "                                                            --release(n=1)\n",
    "                                                         --BoundedSemaphore(value=1)\n",
    "                                                         --Event\n",
    "                                                            |(methods)\n",
    "                                                            |\n",
    "                                                            --is_set()\n",
    "                                                            --set()\n",
    "                                                            --clear()\n",
    "                                                            --wait(timeout=None)\n",
    "                                                         --Timer(interval, function, args=None, kwargs=None)   \n",
    "                                                            |(methods)\n",
    "                                                            |\n",
    "                                                            --cancel()\n",
    "                                                         --Barrier(parties, action=None, timeout=None)\n",
    "                                                            |(methods)\n",
    "                                                            |\n",
    "                                                            --wait(timeout=None)\n",
    "                                                            --reset()\n",
    "                                                            --abort()\n",
    "                                                            |(attributes)\n",
    "                                                            |\n",
    "                                                            --parties,n_waiting,broken"
   ]
  },
  {
   "cell_type": "code",
   "execution_count": 8,
   "id": "2f71a03d",
   "metadata": {},
   "outputs": [
    {
     "data": {
      "text/plain": [
       "type"
      ]
     },
     "execution_count": 8,
     "metadata": {},
     "output_type": "execute_result"
    }
   ],
   "source": [
    "import threading as t\n",
    "\n",
    "class Test:\n",
    "    pass\n",
    "\n",
    "type(Test)\n"
   ]
  },
  {
   "cell_type": "markdown",
   "id": "672449a9",
   "metadata": {},
   "source": [
    "#### Thread Objects\n",
    "\n",
    "The simplest way to use a `Thread` is to instantiate it with a target function and call `start()` to let it begin working.\n",
    "\n",
    "`class threading.Thread(group=None, target=None, name=None, args=(), kwargs={}, *, daemon=None)`\n",
    "\n"
   ]
  },
  {
   "cell_type": "code",
   "execution_count": 2,
   "id": "fde9f89f",
   "metadata": {},
   "outputs": [
    {
     "name": "stdout",
     "output_type": "stream",
     "text": [
      "Overwriting thread1.py\n"
     ]
    }
   ],
   "source": [
    "%%file thread1.py\n",
    "\n",
    "import threading\n",
    "\n",
    "def worker(num):\n",
    "    \"\"\"thread worker function\"\"\"\n",
    "    print('Worker: %s' % num)\n",
    "\n",
    "for i in range(5):\n",
    "    t = threading.Thread(target=worker, args=(i,))\n",
    "    t.start()"
   ]
  },
  {
   "cell_type": "markdown",
   "id": "1bc5392d",
   "metadata": {},
   "source": [
    "Output:\n",
    "\n",
    "```\n",
    "Worker: 0\n",
    "Worker: 1\n",
    "Worker: 2\n",
    "Worker: 3\n",
    "Worker: 4\n",
    "```"
   ]
  },
  {
   "cell_type": "markdown",
   "id": "0cf5ddb2",
   "metadata": {},
   "source": [
    "#### Determining the Current Thread\n",
    "\n",
    "Using arguments to identify or name the thread is cumbersome and unnecessary. Each `Thread` instance has a name with a default value that can be changed as the thread is created. Naming threads is useful in server processes with multiple service threads handling different operations."
   ]
  },
  {
   "cell_type": "code",
   "execution_count": 4,
   "id": "03ad5742",
   "metadata": {},
   "outputs": [
    {
     "name": "stdout",
     "output_type": "stream",
     "text": [
      "Overwriting thread2.py\n"
     ]
    }
   ],
   "source": [
    "%%file thread2.py\n",
    "\n",
    "import threading\n",
    "import time\n",
    "\n",
    "\n",
    "def worker():\n",
    "    print(threading.current_thread().getName(), 'Starting')\n",
    "    time.sleep(0.2)\n",
    "    print(threading.current_thread().getName(), 'Exiting')\n",
    "\n",
    "\n",
    "def my_service():\n",
    "    print(threading.current_thread().getName(), 'Starting') #note the `getName()` method\n",
    "    time.sleep(0.3)\n",
    "    print(threading.current_thread().name, 'Exiting') #note the `name` attribute\n",
    "\n",
    "\n",
    "t = threading.Thread(name='my_service', target=my_service)\n",
    "w = threading.Thread(name='worker', target=worker)\n",
    "w2 = threading.Thread(target=worker)  # use default name\n",
    "\n",
    "w.start()\n",
    "w2.start()\n",
    "t.start()"
   ]
  },
  {
   "cell_type": "markdown",
   "id": "f9f29c0b",
   "metadata": {},
   "source": [
    "Output:\n",
    "\n",
    "```\n",
    "worker Starting\n",
    "Thread-1 Starting\n",
    "my_service Starting\n",
    "worker Exiting\n",
    "Thread-1 Exiting\n",
    "my_service Exiting\n",
    "```"
   ]
  },
  {
   "cell_type": "markdown",
   "id": "65a932f3",
   "metadata": {},
   "source": [
    "Most programs do not use `print` to debug. The `logging` module supports embedding the thread name in every log message using the formatter code `%(threadName)s`. Including thread names in log messages makes it possible to trace those messages back to their source.\n",
    "\n",
    "`logging` is also thread-safe, so messages from different threads are kept distinct in the output."
   ]
  },
  {
   "cell_type": "code",
   "execution_count": 9,
   "id": "a8d63ed4",
   "metadata": {},
   "outputs": [
    {
     "name": "stdout",
     "output_type": "stream",
     "text": [
      "Writing thread3.py\n"
     ]
    }
   ],
   "source": [
    "%%file thread3.py\n",
    "\n",
    "import logging\n",
    "import threading\n",
    "import time\n",
    "\n",
    "\n",
    "def worker():\n",
    "    logging.debug('Starting')\n",
    "    time.sleep(0.2)\n",
    "    logging.debug('Exiting')\n",
    "\n",
    "\n",
    "def my_service():\n",
    "    logging.debug('Starting')\n",
    "    time.sleep(0.3)\n",
    "    logging.debug('Exiting')\n",
    "\n",
    "\n",
    "logging.basicConfig(\n",
    "    level=logging.DEBUG,\n",
    "    format='[%(levelname)s] (%(threadName)-10s) %(message)s',)\n",
    "\n",
    "t = threading.Thread(name='my_service', target=my_service)\n",
    "w = threading.Thread(name='worker', target=worker)\n",
    "w2 = threading.Thread(target=worker)  # use default name\n",
    "\n",
    "w.start()\n",
    "w2.start()\n",
    "t.start()"
   ]
  },
  {
   "cell_type": "markdown",
   "id": "66ac7234",
   "metadata": {},
   "source": [
    "Output:\n",
    "\n",
    "```\n",
    "\n",
    "[DEBUG] (worker    ) Starting\n",
    "[DEBUG] (Thread-1  ) Starting\n",
    "[DEBUG] (my_service) Starting\n",
    "[DEBUG] (worker    ) Exiting\n",
    "[DEBUG] (Thread-1  ) Exiting\n",
    "[DEBUG] (my_service) Exiting\n",
    "```"
   ]
  },
  {
   "cell_type": "markdown",
   "id": "6286a315",
   "metadata": {},
   "source": [
    "#### Daemon vs. Non-Daemon Threads\n",
    "\n",
    "Up to this point, the example programs have implicitly waited to exit until all threads have completed their work. Sometimes programs spawn a thread as a daemon that runs without blocking the main program from exiting. Using daemon threads is useful for services where there may not be an easy way to interrupt the thread, or where letting the thread die in the middle of its work does not lose or corrupt data (for example, a thread that generates “heart beats” for a service monitoring tool). To mark a thread as a daemon, pass `daemon=True` when constructing it or call its `set_daemon()` method with `True`. The default is for threads to not be daemons."
   ]
  },
  {
   "cell_type": "code",
   "execution_count": 10,
   "id": "3d17d520",
   "metadata": {},
   "outputs": [
    {
     "name": "stdout",
     "output_type": "stream",
     "text": [
      "Writing thread4.py\n"
     ]
    }
   ],
   "source": [
    "%%file thread4.py\n",
    "\n",
    "import threading\n",
    "import time\n",
    "import logging\n",
    "\n",
    "\n",
    "def daemon():\n",
    "    logging.debug('Starting')\n",
    "    time.sleep(0.2)\n",
    "    logging.debug('Exiting')\n",
    "\n",
    "\n",
    "def non_daemon():\n",
    "    logging.debug('Starting')\n",
    "    logging.debug('Exiting')\n",
    "\n",
    "\n",
    "logging.basicConfig(\n",
    "    level=logging.DEBUG,\n",
    "    format='(%(threadName)-10s) %(message)s',)\n",
    "\n",
    "d = threading.Thread(name='daemon', target=daemon, daemon=True)\n",
    "\n",
    "t = threading.Thread(name='non-daemon', target=non_daemon)\n",
    "\n",
    "d.start()\n",
    "t.start()"
   ]
  },
  {
   "cell_type": "markdown",
   "id": "d92d01c7",
   "metadata": {},
   "source": [
    "Output:\n",
    "\n",
    "```\n",
    "(daemon    ) Starting\n",
    "(non-daemon) Starting\n",
    "(non-daemon) Exiting\n",
    "```\n",
    "The output does not include the \"`Exiting`\" message from the daemon thread, since all of the non-daemon threads (including the main thread) exit before the daemon thread wakes up from the `sleep()` call.\n",
    "\n",
    "\n",
    "To wait until a daemon thread has completed its work, use the `join()` method."
   ]
  },
  {
   "cell_type": "code",
   "execution_count": 12,
   "id": "52c64a43",
   "metadata": {},
   "outputs": [
    {
     "name": "stdout",
     "output_type": "stream",
     "text": [
      "Overwriting thread5.py\n"
     ]
    }
   ],
   "source": [
    "%%file thread5.py\n",
    "\n",
    "import threading\n",
    "import time\n",
    "import logging\n",
    "\n",
    "\n",
    "def daemon():\n",
    "    logging.debug('Starting')\n",
    "    time.sleep(0.2)\n",
    "    logging.debug('Exiting')\n",
    "\n",
    "\n",
    "def non_daemon():\n",
    "    logging.debug('Starting')\n",
    "    logging.debug('Exiting')\n",
    "\n",
    "\n",
    "logging.basicConfig(\n",
    "    level=logging.DEBUG,\n",
    "    format='(%(threadName)-10s) %(message)s',)\n",
    "\n",
    "d = threading.Thread(name='daemon', target=daemon, daemon=True)\n",
    "\n",
    "t = threading.Thread(name='non-daemon', target=non_daemon)\n",
    "\n",
    "d.start()\n",
    "t.start()\n",
    "\n",
    "d.join()\n",
    "t.join()"
   ]
  },
  {
   "cell_type": "markdown",
   "id": "eab0da83",
   "metadata": {},
   "source": [
    "Output:\n",
    "\n",
    "```\n",
    "(daemon    ) Starting\n",
    "(non-daemon) Starting\n",
    "(non-daemon) Exiting\n",
    "(daemon    ) Exiting\n",
    "```\n",
    "\n",
    "\n",
    "Waiting for the daemon thread to exit using `join()` means it has a chance to produce its \"`Exiting`\" message.\n",
    "\n",
    "By default, `join()` blocks indefinitely. It is also possible to pass a float value representing the number of seconds to wait for the thread to become inactive. If the thread does not complete within the `timeout` period, `join()` returns anyway."
   ]
  },
  {
   "cell_type": "code",
   "execution_count": 15,
   "id": "887880af",
   "metadata": {},
   "outputs": [
    {
     "name": "stdout",
     "output_type": "stream",
     "text": [
      "Overwriting thread6.py\n"
     ]
    }
   ],
   "source": [
    "%%file thread6.py\n",
    "\n",
    "import threading\n",
    "import time\n",
    "import logging\n",
    "\n",
    "\n",
    "def daemon():\n",
    "    logging.debug('Starting')\n",
    "    time.sleep(0.2)\n",
    "    logging.debug('Exiting')\n",
    "\n",
    "\n",
    "def non_daemon():\n",
    "    logging.debug('Starting')\n",
    "    logging.debug('Exiting')\n",
    "\n",
    "\n",
    "logging.basicConfig(\n",
    "    level=logging.DEBUG,\n",
    "    format='(%(threadName)-10s) %(message)s',\n",
    ")\n",
    "\n",
    "d = threading.Thread(name='daemon', target=daemon, daemon=True)\n",
    "\n",
    "t = threading.Thread(name='non-daemon', target=non_daemon)\n",
    "\n",
    "d.start()\n",
    "t.start()\n",
    "\n",
    "d.join(0.1)\n",
    "print('d.is_alive()', d.is_alive())\n",
    "t.join()"
   ]
  },
  {
   "cell_type": "markdown",
   "id": "3806b216",
   "metadata": {},
   "source": [
    "Output:\n",
    "\n",
    "```\n",
    "(daemon    ) Starting\n",
    "(non-daemon) Starting\n",
    "(non-daemon) Exiting\n",
    "d.is_alive() True\n",
    "```\n",
    "\n",
    "Since the timeout passed is less than the amount of time the daemon thread sleeps, the thread is still “alive” after `join()` returns."
   ]
  },
  {
   "cell_type": "markdown",
   "id": "c3c28296",
   "metadata": {},
   "source": [
    "#### Enumerating All Threads\n",
    "\n",
    "It is not necessary to retain an explicit handle to all of the daemon threads in order to ensure they have completed before exiting the main process. `enumerate()` returns a list of active Thread instances. The list includes the current thread, and since joining the current thread introduces a deadlock situation, it must be skipped.\n",
    "\n",
    "From Python docs - \n",
    "\n",
    ">Return a list of all Thread objects currently active. The list includes daemonic threads and dummy thread objects created by `current_thread()`. It excludes terminated threads and threads that have not yet been started. However, the main thread is always part of the result, even when terminated."
   ]
  },
  {
   "cell_type": "code",
   "execution_count": 16,
   "id": "76a56b9b",
   "metadata": {
    "scrolled": true
   },
   "outputs": [
    {
     "name": "stdout",
     "output_type": "stream",
     "text": [
      "Writing thread7.py\n"
     ]
    }
   ],
   "source": [
    "%%file thread7.py\n",
    "\n",
    "import random\n",
    "import threading\n",
    "import time\n",
    "import logging\n",
    "\n",
    "\n",
    "def worker():\n",
    "    \"\"\"thread worker function\"\"\"\n",
    "    pause = random.randint(1, 5) / 10\n",
    "    logging.debug('sleeping %0.2f', pause)\n",
    "    time.sleep(pause)\n",
    "    logging.debug('ending')\n",
    "\n",
    "\n",
    "logging.basicConfig(\n",
    "    level=logging.DEBUG,\n",
    "    format='(%(threadName)-10s) %(message)s',)\n",
    "\n",
    "for i in range(3):\n",
    "    t = threading.Thread(target=worker, daemon=True)\n",
    "    t.start()\n",
    "\n",
    "main_thread = threading.main_thread()\n",
    "for t in threading.enumerate():\n",
    "    if t is main_thread:\n",
    "        continue\n",
    "    logging.debug('joining %s', t.getName())\n",
    "    t.join()"
   ]
  },
  {
   "cell_type": "markdown",
   "id": "c9b5c64a",
   "metadata": {},
   "source": [
    "Output:\n",
    "\n",
    "```\n",
    "(Thread-1  ) sleeping 0.10\n",
    "(Thread-2  ) sleeping 0.40\n",
    "(Thread-3  ) sleeping 0.10\n",
    "(MainThread) joining Thread-1\n",
    "(Thread-3  ) ending\n",
    "(Thread-1  ) ending\n",
    "(MainThread) joining Thread-2\n",
    "(Thread-2  ) ending\n",
    "(MainThread) joining Thread-3\n",
    "```"
   ]
  },
  {
   "cell_type": "markdown",
   "id": "65e5972f",
   "metadata": {},
   "source": [
    "Out of curiosity, I removed the `for` clause from above program and just tried to print the output of `threading.enumerate()` - "
   ]
  },
  {
   "cell_type": "code",
   "execution_count": 17,
   "id": "008387bc",
   "metadata": {},
   "outputs": [
    {
     "name": "stdout",
     "output_type": "stream",
     "text": [
      "Writing thread8.py\n"
     ]
    }
   ],
   "source": [
    "%%file thread8.py\n",
    "\n",
    "import random\n",
    "import threading\n",
    "import time\n",
    "import logging\n",
    "\n",
    "\n",
    "def worker():\n",
    "    \"\"\"thread worker function\"\"\"\n",
    "    pause = random.randint(1, 5) / 10\n",
    "    logging.debug('sleeping %0.2f', pause)\n",
    "    time.sleep(pause)\n",
    "    logging.debug('ending')\n",
    "\n",
    "\n",
    "logging.basicConfig(\n",
    "    level=logging.DEBUG,\n",
    "    format='(%(threadName)-10s) %(message)s',)\n",
    "\n",
    "for i in range(3):\n",
    "    t = threading.Thread(target=worker, daemon=True)\n",
    "    t.start()\n",
    "\n",
    "main_thread = threading.main_thread()\n",
    "print(threading.enumerate())"
   ]
  },
  {
   "cell_type": "markdown",
   "id": "34893a93",
   "metadata": {},
   "source": [
    "Output:\n",
    "\n",
    "```\n",
    "(Thread-1  ) sleeping 0.40\n",
    "(Thread-2  ) sleeping 0.30\n",
    "(Thread-3  ) sleeping 0.50\n",
    "[<_MainThread(MainThread, started 2740)>, <Thread(Thread-1, started daemon 5724)>, <Thread\n",
    "(Thread-2, started daemon 4156)>, <Thread(Thread-3, started daemon 1648)>]\n",
    "```"
   ]
  },
  {
   "cell_type": "code",
   "execution_count": 18,
   "id": "3280c920",
   "metadata": {},
   "outputs": [
    {
     "name": "stdout",
     "output_type": "stream",
     "text": [
      "Writing thread9.py\n"
     ]
    }
   ],
   "source": [
    "%%file thread9.py\n",
    "\n",
    "import random\n",
    "import threading\n",
    "import time\n",
    "import logging\n",
    "\n",
    "\n",
    "def worker():\n",
    "    \"\"\"thread worker function\"\"\"\n",
    "    pause = random.randint(1, 5) / 10\n",
    "    logging.debug('sleeping %0.2f', pause)\n",
    "    time.sleep(pause)\n",
    "    logging.debug('ending')\n",
    "\n",
    "\n",
    "logging.basicConfig(\n",
    "    level=logging.DEBUG,\n",
    "    format='(%(threadName)-10s) %(message)s',)\n",
    "\n",
    "for i in range(3):\n",
    "    t = threading.Thread(target=worker, daemon=True)\n",
    "    t.start()\n",
    "\n",
    "main_thread = threading.main_thread()\n",
    "for t in threading.enumerate():\n",
    "    #if t is main_thread:\n",
    "    #    continue\n",
    "    logging.debug('joining %s', t.getName())\n",
    "    t.join()"
   ]
  },
  {
   "cell_type": "markdown",
   "id": "1a8f8c17",
   "metadata": {},
   "source": [
    "Output:\n",
    "```\n",
    "RuntimeError: cannot join current thread\n",
    "```\n",
    "\n",
    "See the `thread9.py` program. I tried to `join`ing the main thread which in turn introduced the deadlock situation. Hence the `RuntimeError`."
   ]
  },
  {
   "cell_type": "markdown",
   "id": "226a7234",
   "metadata": {},
   "source": [
    "#### Subclassing Thread\n",
    "\n",
    "At start-up, a Thread does some basic initialization and then calls its `run()` method, which calls the target function passed to the constructor. To create a subclass of Thread, override `run()` to do whatever is necessary"
   ]
  },
  {
   "cell_type": "code",
   "execution_count": 19,
   "id": "3ead0278",
   "metadata": {},
   "outputs": [
    {
     "name": "stdout",
     "output_type": "stream",
     "text": [
      "Writing thread10.py\n"
     ]
    }
   ],
   "source": [
    "%%file thread10.py\n",
    "\n",
    "import threading\n",
    "import logging\n",
    "\n",
    "\n",
    "class MyThread(threading.Thread):\n",
    "\n",
    "    def run(self):\n",
    "        logging.debug('running')\n",
    "\n",
    "\n",
    "logging.basicConfig(\n",
    "    level=logging.DEBUG,\n",
    "    format='(%(threadName)-10s) %(message)s',)\n",
    "\n",
    "for i in range(5):\n",
    "    t = MyThread()\n",
    "    t.start()"
   ]
  },
  {
   "cell_type": "markdown",
   "id": "cbb47de9",
   "metadata": {},
   "source": [
    "Output:\n",
    "\n",
    "```\n",
    "(Thread-1  ) running\n",
    "(Thread-2  ) running\n",
    "(Thread-3  ) running\n",
    "(Thread-4  ) running\n",
    "(Thread-5  ) running\n",
    "```"
   ]
  },
  {
   "cell_type": "markdown",
   "id": "23639a86",
   "metadata": {},
   "source": [
    "Because the `args` and `kwargs` values passed to the Thread constructor are saved in private variables using names prefixed with '`__`', they are not easily accessed from a subclass. To pass arguments to a custom thread type, redefine the constructor to save the values in an instance attribute that can be seen in the subclass."
   ]
  },
  {
   "cell_type": "code",
   "execution_count": 20,
   "id": "728695cf",
   "metadata": {},
   "outputs": [
    {
     "name": "stdout",
     "output_type": "stream",
     "text": [
      "Writing thread11.py\n"
     ]
    }
   ],
   "source": [
    "%%file thread11.py\n",
    "\n",
    "import threading\n",
    "import logging\n",
    "\n",
    "\n",
    "class MyThreadWithArgs(threading.Thread):\n",
    "\n",
    "    def __init__(self, group=None, target=None, name=None,\n",
    "                 args=(), kwargs=None, *, daemon=None):\n",
    "        super().__init__(group=group, target=target, name=name,\n",
    "                         daemon=daemon)\n",
    "        self.args = args\n",
    "        self.kwargs = kwargs\n",
    "\n",
    "    def run(self):\n",
    "        logging.debug('running with %s and %s',\n",
    "                      self.args, self.kwargs)\n",
    "\n",
    "\n",
    "logging.basicConfig(\n",
    "    level=logging.DEBUG,\n",
    "    format='(%(threadName)-10s) %(message)s',\n",
    ")\n",
    "\n",
    "for i in range(5):\n",
    "    t = MyThreadWithArgs(args=(i,), kwargs={'a': 'A', 'b': 'B'})\n",
    "    t.start()"
   ]
  },
  {
   "cell_type": "markdown",
   "id": "34801b51",
   "metadata": {},
   "source": [
    "Output:\n",
    "\n",
    "```\n",
    "(Thread-1  ) running with (0,) and {'b': 'B', 'a': 'A'}\n",
    "(Thread-2  ) running with (1,) and {'b': 'B', 'a': 'A'}\n",
    "(Thread-3  ) running with (2,) and {'b': 'B', 'a': 'A'}\n",
    "(Thread-4  ) running with (3,) and {'b': 'B', 'a': 'A'}\n",
    "(Thread-5  ) running with (4,) and {'b': 'B', 'a': 'A'}\n",
    "```\n",
    "\n",
    "`MyThreadWithArgs` uses the same API as Thread, but another class could easily change the constructor method to take more or different arguments more directly related to the purpose of the thread, as with any other class."
   ]
  },
  {
   "cell_type": "markdown",
   "id": "96829217",
   "metadata": {},
   "source": [
    "#### `Timer` Objects: Timer Threads\n",
    "\n",
    "One example of a reason to subclass `Thread` is provided by `Timer`, also included in `threading`. A `Timer` starts its work after a delay, and can be canceled at any point within that delay time period."
   ]
  },
  {
   "cell_type": "code",
   "execution_count": 21,
   "id": "b73d3f7a",
   "metadata": {},
   "outputs": [
    {
     "name": "stdout",
     "output_type": "stream",
     "text": [
      "Writing thread12.py\n"
     ]
    }
   ],
   "source": [
    "%%file thread12.py\n",
    "\n",
    "import threading\n",
    "import time\n",
    "import logging\n",
    "\n",
    "\n",
    "def delayed():\n",
    "    logging.debug('worker running')\n",
    "\n",
    "\n",
    "logging.basicConfig(\n",
    "    level=logging.DEBUG,\n",
    "    format='(%(threadName)-10s) %(message)s',\n",
    ")\n",
    "\n",
    "t1 = threading.Timer(0.3, delayed)\n",
    "t1.setName('t1')\n",
    "t2 = threading.Timer(0.3, delayed)\n",
    "t2.setName('t2')\n",
    "\n",
    "logging.debug('starting timers')\n",
    "t1.start()\n",
    "t2.start()\n",
    "\n",
    "logging.debug('waiting before canceling %s', t2.getName())\n",
    "time.sleep(0.2)\n",
    "logging.debug('canceling %s', t2.getName())\n",
    "t2.cancel()\n",
    "logging.debug('done')"
   ]
  },
  {
   "cell_type": "markdown",
   "id": "89f2d395",
   "metadata": {},
   "source": [
    "The second timer in this example is never run, and the first timer appears to run after the rest of the main program is done. Since it is not a daemon thread, it is joined implicitly when the main thread is done.\n",
    "\n",
    "Output:\n",
    "\n",
    "```\n",
    "(MainThread) starting timers\n",
    "(MainThread) waiting before canceling t2\n",
    "(MainThread) canceling t2\n",
    "(MainThread) done\n",
    "(t1        ) worker running\n",
    "```\n"
   ]
  },
  {
   "cell_type": "markdown",
   "id": "742bb935",
   "metadata": {},
   "source": [
    "#### `Event` Objects: Signaling Between Threads\n",
    "\n",
    "Although the point of using multiple threads is to run separate operations concurrently, there are times when it is important to be able to synchronize the operations in two or more threads. Event objects are a simple way to communicate between threads safely. An `Event` manages an internal flag that callers can control with the `set()` and `clear()` methods. Other threads can use `wait()` to pause until the flag is set, effectively blocking progress until allowed to continue."
   ]
  },
  {
   "cell_type": "code",
   "execution_count": 22,
   "id": "51d67688",
   "metadata": {},
   "outputs": [
    {
     "name": "stdout",
     "output_type": "stream",
     "text": [
      "Writing thread13.py\n"
     ]
    }
   ],
   "source": [
    "%%file thread13.py\n",
    "\n",
    "import logging\n",
    "import threading\n",
    "import time\n",
    "\n",
    "\n",
    "def wait_for_event(e):\n",
    "    \"\"\"Wait for the event to be set before doing anything\"\"\"\n",
    "    logging.debug('wait_for_event starting')\n",
    "    event_is_set = e.wait()\n",
    "    logging.debug('event set: %s', event_is_set)\n",
    "\n",
    "\n",
    "def wait_for_event_timeout(e, t):\n",
    "    \"\"\"Wait t seconds and then timeout\"\"\"\n",
    "    while not e.is_set():\n",
    "        logging.debug('wait_for_event_timeout starting')\n",
    "        event_is_set = e.wait(t)\n",
    "        logging.debug('event set: %s', event_is_set)\n",
    "        if event_is_set:\n",
    "            logging.debug('processing event')\n",
    "        else:\n",
    "            logging.debug('doing other work')\n",
    "\n",
    "\n",
    "logging.basicConfig(\n",
    "    level=logging.DEBUG,\n",
    "    format='(%(threadName)-10s) %(message)s',)\n",
    "\n",
    "e = threading.Event()\n",
    "t1 = threading.Thread(\n",
    "    name='block',\n",
    "    target=wait_for_event,\n",
    "    args=(e,),)\n",
    "t1.start()\n",
    "\n",
    "t2 = threading.Thread(\n",
    "    name='nonblock',\n",
    "    target=wait_for_event_timeout,\n",
    "    args=(e, 2),)\n",
    "t2.start()\n",
    "\n",
    "logging.debug('Waiting before calling Event.set()')\n",
    "time.sleep(0.3)\n",
    "e.set()\n",
    "logging.debug('Event is set')"
   ]
  },
  {
   "cell_type": "markdown",
   "id": "0774f68e",
   "metadata": {},
   "source": [
    "Output:\n",
    "\n",
    "```\n",
    "(block     ) wait_for_event starting\n",
    "(nonblock  ) wait_for_event_timeout starting\n",
    "(MainThread) Waiting before calling Event.set()\n",
    "(MainThread) Event is set\n",
    "(nonblock  ) event set: True\n",
    "(block     ) event set: True\n",
    "(nonblock  ) processing event\n",
    "```\n",
    "\n",
    "The `wait()` method takes an argument representing the number of seconds to wait for the event before timing out. It returns a Boolean indicating whether or not the event is set, so the caller knows why `wait()` returned. The `is_set()` method can be used separately on the event without fear of blocking.\n",
    "\n",
    "In this example, `wait_for_event_timeout()` checks the event status without blocking indefinitely. The `wait_for_event()` blocks on the call to `wait()`, which does not return until the event status changes."
   ]
  },
  {
   "cell_type": "markdown",
   "id": "e219a160",
   "metadata": {},
   "source": [
    "#### `Lock` Objects: Controlling Access to Resources\n",
    "\n",
    "In addition to synchronizing the operations of threads, it is also important to be able to control access to shared resources to prevent corruption or missed data. Python’s built-in data structures (lists, dictionaries, etc.) are thread-safe as a side-effect of having atomic byte-codes for manipulating them (the global interpreter lock used to protect Python’s internal data structures is not released in the middle of an update). Other data structures implemented in Python, or simpler types like integers and floats, do not have that protection. To guard against simultaneous access to an object, use a `Lock` object."
   ]
  },
  {
   "cell_type": "code",
   "execution_count": 23,
   "id": "bcc23c98",
   "metadata": {},
   "outputs": [
    {
     "name": "stdout",
     "output_type": "stream",
     "text": [
      "Writing thread14.py\n"
     ]
    }
   ],
   "source": [
    "%%file thread14.py\n",
    "\n",
    "import logging\n",
    "import random\n",
    "import threading\n",
    "import time\n",
    "\n",
    "\n",
    "class Counter:\n",
    "\n",
    "    def __init__(self, start=0):\n",
    "        self.lock = threading.Lock()\n",
    "        self.value = start\n",
    "\n",
    "    def increment(self):\n",
    "        logging.debug('Waiting for lock')\n",
    "        self.lock.acquire()\n",
    "        try:\n",
    "            logging.debug('Acquired lock')\n",
    "            self.value = self.value + 1\n",
    "        finally:\n",
    "            self.lock.release()\n",
    "\n",
    "\n",
    "def worker(c):\n",
    "    for i in range(2):\n",
    "        pause = random.random()\n",
    "        logging.debug('Sleeping %0.02f', pause)\n",
    "        time.sleep(pause)\n",
    "        c.increment()\n",
    "    logging.debug('Done')\n",
    "\n",
    "\n",
    "logging.basicConfig(\n",
    "    level=logging.DEBUG,\n",
    "    format='(%(threadName)-10s) %(message)s',\n",
    ")\n",
    "\n",
    "counter = Counter()\n",
    "for i in range(2):\n",
    "    t = threading.Thread(target=worker, args=(counter,))\n",
    "    t.start()\n",
    "\n",
    "logging.debug('Waiting for worker threads')\n",
    "main_thread = threading.main_thread()\n",
    "for t in threading.enumerate():\n",
    "    if t is not main_thread:\n",
    "        t.join()\n",
    "logging.debug('Counter: %d', counter.value)"
   ]
  },
  {
   "cell_type": "markdown",
   "id": "f3aedc09",
   "metadata": {},
   "source": [
    "Output:\n",
    "\n",
    "```\n",
    "(Thread-1  ) Sleeping 0.21\n",
    "(Thread-2  ) Sleeping 0.41\n",
    "(MainThread) Waiting for worker threads\n",
    "(Thread-1  ) Waiting for lock\n",
    "(Thread-1  ) Acquired lock\n",
    "(Thread-1  ) Sleeping 0.24\n",
    "(Thread-2  ) Waiting for lock\n",
    "(Thread-2  ) Acquired lock\n",
    "(Thread-2  ) Sleeping 0.67\n",
    "(Thread-1  ) Waiting for lock\n",
    "(Thread-1  ) Acquired lock\n",
    "(Thread-1  ) Done\n",
    "(Thread-2  ) Waiting for lock\n",
    "(Thread-2  ) Acquired lock\n",
    "(Thread-2  ) Done\n",
    "(MainThread) Counter: 4\n",
    "```\n",
    "\n",
    "In this example, the `worker()` function increments a `Counter` instance, which manages a `Lock` to prevent two threads from changing its internal state at the same time. If the `Lock` was not used, there is a possibility of missing a change to the value attribute."
   ]
  },
  {
   "cell_type": "markdown",
   "id": "2a37cbcf",
   "metadata": {},
   "source": [
    "To find out whether another thread has acquired the lock without holding up the current thread, pass `False` for the blocking argument to `acquire()`. In the next example, `worker()` tries to acquire the lock three separate times and counts how many attempts it has to make to do so. In the mean time, `lock_holder()` cycles between holding and releasing the lock, with short pauses in each state used to simulate load."
   ]
  },
  {
   "cell_type": "code",
   "execution_count": 24,
   "id": "140fdd0f",
   "metadata": {},
   "outputs": [
    {
     "name": "stdout",
     "output_type": "stream",
     "text": [
      "Writing thread15.py\n"
     ]
    }
   ],
   "source": [
    "%%file thread15.py\n",
    "\n",
    "import logging\n",
    "import threading\n",
    "import time\n",
    "\n",
    "\n",
    "def lock_holder(lock):\n",
    "    logging.debug('Starting')\n",
    "    while True:\n",
    "        lock.acquire()\n",
    "        try:\n",
    "            logging.debug('Holding')\n",
    "            time.sleep(0.5)\n",
    "        finally:\n",
    "            logging.debug('Not holding')\n",
    "            lock.release()\n",
    "        time.sleep(0.5)\n",
    "\n",
    "\n",
    "def worker(lock):\n",
    "    logging.debug('Starting')\n",
    "    num_tries = 0\n",
    "    num_acquires = 0\n",
    "    while num_acquires < 3:\n",
    "        time.sleep(0.5)\n",
    "        logging.debug('Trying to acquire')\n",
    "        have_it = lock.acquire(0)\n",
    "        try:\n",
    "            num_tries += 1\n",
    "            if have_it:\n",
    "                logging.debug('Iteration %d: Acquired',\n",
    "                              num_tries)\n",
    "                num_acquires += 1\n",
    "            else:\n",
    "                logging.debug('Iteration %d: Not acquired',\n",
    "                              num_tries)\n",
    "        finally:\n",
    "            if have_it:\n",
    "                lock.release()\n",
    "    logging.debug('Done after %d iterations', num_tries)\n",
    "\n",
    "\n",
    "logging.basicConfig(\n",
    "    level=logging.DEBUG,\n",
    "    format='(%(threadName)-10s) %(message)s',\n",
    ")\n",
    "\n",
    "lock = threading.Lock()\n",
    "\n",
    "holder = threading.Thread(\n",
    "    target=lock_holder,\n",
    "    args=(lock,),\n",
    "    name='LockHolder',\n",
    "    daemon=True,\n",
    ")\n",
    "holder.start()\n",
    "\n",
    "worker = threading.Thread(\n",
    "    target=worker,\n",
    "    args=(lock,),\n",
    "    name='Worker',\n",
    ")\n",
    "worker.start()"
   ]
  },
  {
   "cell_type": "markdown",
   "id": "b370b6f9",
   "metadata": {},
   "source": [
    "Output:\n",
    "\n",
    "```\n",
    "(LockHolder) Starting\n",
    "(LockHolder) Holding\n",
    "(Worker    ) Starting\n",
    "(Worker    ) Trying to acquire\n",
    "(LockHolder) Not holding\n",
    "(Worker    ) Iteration 1: Not acquired\n",
    "(Worker    ) Trying to acquire\n",
    "(LockHolder) Holding\n",
    "(Worker    ) Iteration 2: Not acquired\n",
    "(LockHolder) Not holding\n",
    "(Worker    ) Trying to acquire\n",
    "(Worker    ) Iteration 3: Acquired\n",
    "(Worker    ) Trying to acquire\n",
    "(LockHolder) Holding\n",
    "(Worker    ) Iteration 4: Not acquired\n",
    "(Worker    ) Trying to acquire\n",
    "(LockHolder) Not holding\n",
    "(Worker    ) Iteration 5: Not acquired\n",
    "(Worker    ) Trying to acquire\n",
    "(LockHolder) Holding\n",
    "(Worker    ) Iteration 6: Not acquired\n",
    "(LockHolder) Not holding\n",
    "(Worker    ) Trying to acquire\n",
    "(Worker    ) Iteration 7: Acquired\n",
    "(Worker    ) Trying to acquire\n",
    "(LockHolder) Holding\n",
    "(Worker    ) Iteration 8: Not acquired\n",
    "(Worker    ) Trying to acquire\n",
    "(LockHolder) Not holding\n",
    "(Worker    ) Iteration 9: Not acquired\n",
    "(Worker    ) Trying to acquire\n",
    "(LockHolder) Holding\n",
    "(Worker    ) Iteration 10: Not acquired\n",
    "(Worker    ) Trying to acquire\n",
    "(LockHolder) Not holding\n",
    "(Worker    ) Iteration 11: Not acquired\n",
    "(Worker    ) Trying to acquire\n",
    "(LockHolder) Holding\n",
    "(Worker    ) Iteration 12: Not acquired\n",
    "(LockHolder) Not holding\n",
    "(Worker    ) Trying to acquire\n",
    "(Worker    ) Iteration 13: Acquired\n",
    "(Worker    ) Done after 13 iterations\n",
    "```\n",
    "\n",
    "It takes `worker()` more than three iterations to acquire the lock three separate times."
   ]
  },
  {
   "cell_type": "markdown",
   "id": "827c7c72",
   "metadata": {},
   "source": [
    "#### RLock Objects: Re-entrant Locks\n",
    "\n",
    "Normal Lock objects cannot be acquired more than once, even by the same thread. This can introduce undesirable side-effects if a lock is accessed by more than one function in the same call chain."
   ]
  },
  {
   "cell_type": "code",
   "execution_count": 27,
   "id": "935b84fa",
   "metadata": {},
   "outputs": [
    {
     "name": "stdout",
     "output_type": "stream",
     "text": [
      "Overwriting thread16.py\n"
     ]
    }
   ],
   "source": [
    "%%file thread16.py\n",
    "\n",
    "import threading\n",
    "\n",
    "lock = threading.Lock()\n",
    "\n",
    "print('First try :', lock.acquire())\n",
    "print('Second try:', lock.acquire(0))"
   ]
  },
  {
   "cell_type": "markdown",
   "id": "9af23051",
   "metadata": {},
   "source": [
    "Output:\n",
    "\n",
    "```\n",
    "First try : True\n",
    "Second try: False\n",
    "```\n",
    "\n",
    "In above case, the second call to `acquire()` is given a zero timeout to prevent it from blocking because the lock has been obtained by the first call.\n",
    "\n",
    "*Clarification needed*: When I changed argument from 0 to 1 in last line of above code, the first line of output is printed. After that, command prompt appears to hang. What is that?\n",
    "\n",
    "In a situation where separate code from the same thread needs to “re-acquire” the lock, use an `RLock` instead."
   ]
  },
  {
   "cell_type": "code",
   "execution_count": 29,
   "id": "8e45e383",
   "metadata": {},
   "outputs": [
    {
     "name": "stdout",
     "output_type": "stream",
     "text": [
      "Overwriting thread17.py\n"
     ]
    }
   ],
   "source": [
    "%%file thread17.py\n",
    "\n",
    "import threading\n",
    "\n",
    "lock = threading.RLock()\n",
    "\n",
    "print('First try :', lock.acquire())\n",
    "print('Second try:', lock.acquire(0))  #line a"
   ]
  },
  {
   "cell_type": "markdown",
   "id": "f98eb4f6",
   "metadata": {},
   "source": [
    "Output:\n",
    "\n",
    "```\n",
    "First try : True\n",
    "Second try: True\n",
    "```\n",
    "\n",
    "In this case, when I changed argument from 0 to 1 in line 'a', I got the same output. "
   ]
  },
  {
   "cell_type": "markdown",
   "id": "a2d90037",
   "metadata": {},
   "source": [
    "#### Locks as Context Managers\n",
    "\n",
    "Locks implement the context manager API and are compatible with the `with` statement. Using `with` removes the need to explicitly acquire and release the lock."
   ]
  },
  {
   "cell_type": "code",
   "execution_count": 30,
   "id": "a3e5e134",
   "metadata": {},
   "outputs": [
    {
     "name": "stdout",
     "output_type": "stream",
     "text": [
      "Writing thread18.py\n"
     ]
    }
   ],
   "source": [
    "%%file thread18.py\n",
    "\n",
    "import threading\n",
    "import logging\n",
    "\n",
    "\n",
    "def worker_with(lock):\n",
    "    with lock:\n",
    "        logging.debug('Lock acquired via with')\n",
    "\n",
    "\n",
    "def worker_no_with(lock):\n",
    "    lock.acquire()\n",
    "    try:\n",
    "        logging.debug('Lock acquired directly')\n",
    "    finally:\n",
    "        lock.release()\n",
    "\n",
    "\n",
    "logging.basicConfig(\n",
    "    level=logging.DEBUG,\n",
    "    format='(%(threadName)-10s) %(message)s',\n",
    ")\n",
    "\n",
    "lock = threading.Lock()\n",
    "w = threading.Thread(target=worker_with, args=(lock,))\n",
    "nw = threading.Thread(target=worker_no_with, args=(lock,))\n",
    "\n",
    "w.start()\n",
    "nw.start()"
   ]
  },
  {
   "cell_type": "markdown",
   "id": "8868ef63",
   "metadata": {},
   "source": [
    "Output:\n",
    "\n",
    "```\n",
    "(Thread-1  ) Lock acquired via with\n",
    "(Thread-2  ) Lock acquired directly\n",
    "```\n",
    "\n",
    "The two functions `worker_with()` and `worker_no_with()` manage the lock in equivalent ways."
   ]
  },
  {
   "cell_type": "markdown",
   "id": "60d3becd",
   "metadata": {},
   "source": [
    "#### `Condition` Objects: Synchronizing Threads\n",
    "\n",
    "In addition to using `Events`, another way of synchronizing threads is through using a `Condition` object. Because the `Condition` uses a `Lock`, it can be tied to a shared resource, allowing multiple threads to wait for the resource to be updated. In this example, the `consumer()` threads wait for the `Condition` to be set before continuing. The `producer()` thread is responsible for setting the condition and notifying the other threads that they can continue."
   ]
  },
  {
   "cell_type": "code",
   "execution_count": 31,
   "id": "444462e7",
   "metadata": {},
   "outputs": [
    {
     "name": "stdout",
     "output_type": "stream",
     "text": [
      "Writing thread19.py\n"
     ]
    }
   ],
   "source": [
    "%%file thread19.py\n",
    "\n",
    "import logging\n",
    "import threading\n",
    "import time\n",
    "\n",
    "\n",
    "def consumer(cond):\n",
    "    \"\"\"wait for the condition and use the resource\"\"\"\n",
    "    logging.debug('Starting consumer thread')\n",
    "    with cond:\n",
    "        cond.wait()\n",
    "        logging.debug('Resource is available to consumer')\n",
    "\n",
    "\n",
    "def producer(cond):\n",
    "    \"\"\"set up the resource to be used by the consumer\"\"\"\n",
    "    logging.debug('Starting producer thread')\n",
    "    with cond:\n",
    "        logging.debug('Making resource available')\n",
    "        cond.notifyAll()\n",
    "\n",
    "\n",
    "logging.basicConfig(\n",
    "    level=logging.DEBUG,\n",
    "    format='%(asctime)s (%(threadName)-2s) %(message)s',\n",
    ")\n",
    "\n",
    "condition = threading.Condition()\n",
    "c1 = threading.Thread(name='c1', target=consumer,\n",
    "                      args=(condition,))\n",
    "c2 = threading.Thread(name='c2', target=consumer,\n",
    "                      args=(condition,))\n",
    "p = threading.Thread(name='p', target=producer,\n",
    "                     args=(condition,))\n",
    "\n",
    "c1.start()\n",
    "time.sleep(0.2)\n",
    "c2.start()\n",
    "time.sleep(0.2)\n",
    "p.start()"
   ]
  },
  {
   "cell_type": "markdown",
   "id": "becb549e",
   "metadata": {},
   "source": [
    "The threads use `with` to acquire the lock associated with the `Condition`. Using the `acquire()` and `release()` methods explicitly also works.\n",
    "\n",
    "Output:\n",
    "\n",
    "```\n",
    "2023-01-05 21:40:45,894 (c1) Starting consumer thread\n",
    "2023-01-05 21:40:46,097 (c2) Starting consumer thread\n",
    "2023-01-05 21:40:46,301 (p ) Starting producer thread\n",
    "2023-01-05 21:40:46,301 (p ) Making resource available\n",
    "2023-01-05 21:40:46,301 (c1) Resource is available to consumer\n",
    "2023-01-05 21:40:46,301 (c2) Resource is available to consumer\n",
    "```"
   ]
  },
  {
   "cell_type": "markdown",
   "id": "b1f33d47",
   "metadata": {},
   "source": [
    "#### `Barrier` Objects\n",
    "\n",
    "Barriers are another thread synchronization mechanism. A `Barrier` establishes a control point and all participating threads block until all of the participating “parties” have reached that point. It lets threads start up separately and then pause until they are all ready to proceed."
   ]
  },
  {
   "cell_type": "code",
   "execution_count": 32,
   "id": "60e63df9",
   "metadata": {},
   "outputs": [
    {
     "name": "stdout",
     "output_type": "stream",
     "text": [
      "Writing thread20.py\n"
     ]
    }
   ],
   "source": [
    "%%file thread20.py\n",
    "\n",
    "import threading\n",
    "import time\n",
    "\n",
    "\n",
    "def worker(barrier):\n",
    "    print(threading.current_thread().name,\n",
    "          'waiting for barrier with {} others'.format(\n",
    "              barrier.n_waiting))\n",
    "    worker_id = barrier.wait()\n",
    "    print(threading.current_thread().name, 'after barrier',\n",
    "          worker_id)\n",
    "\n",
    "\n",
    "NUM_THREADS = 3\n",
    "\n",
    "barrier = threading.Barrier(NUM_THREADS)\n",
    "\n",
    "threads = [\n",
    "    threading.Thread(\n",
    "        name='worker-%s' % i,\n",
    "        target=worker,\n",
    "        args=(barrier,),\n",
    "    )\n",
    "    for i in range(NUM_THREADS)\n",
    "]\n",
    "\n",
    "for t in threads:\n",
    "    print(t.name, 'starting')\n",
    "    t.start()\n",
    "    time.sleep(0.1)\n",
    "\n",
    "for t in threads:\n",
    "    t.join()"
   ]
  },
  {
   "cell_type": "markdown",
   "id": "1eebb433",
   "metadata": {},
   "source": [
    "In this example, the `Barrier` is configured to block until three threads are waiting. When the condition is met, all of the threads are released past the control point at the same time. The return value from `wait()` indicates the number of the party being released, and can be used to limit some threads from taking an action like cleaning up a shared resource.\n",
    "\n",
    "Output:\n",
    "\n",
    "```\n",
    "worker-0 starting\n",
    "worker-0 waiting for barrier with 0 others\n",
    "worker-1 starting\n",
    "worker-1 waiting for barrier with 1 others\n",
    "worker-2 starting\n",
    "worker-2 waiting for barrier with 2 others\n",
    "worker-2 after barrier 2\n",
    "worker-1 after barrier 1\n",
    "worker-0 after barrier 0\n",
    "```\n",
    "\n",
    "The `abort()` method of `Barrier` causes all of the waiting threads to receive a `BrokenBarrierError`. This allows threads to clean up if processing is stopped while they are blocked on `wait()`."
   ]
  },
  {
   "cell_type": "code",
   "execution_count": 33,
   "id": "6b5c7b7c",
   "metadata": {},
   "outputs": [
    {
     "name": "stdout",
     "output_type": "stream",
     "text": [
      "Writing thread21.py\n"
     ]
    }
   ],
   "source": [
    "%%file thread21.py\n",
    "\n",
    "import threading\n",
    "import time\n",
    "\n",
    "\n",
    "def worker(barrier):\n",
    "    print(threading.current_thread().name,\n",
    "          'waiting for barrier with {} others'.format(\n",
    "              barrier.n_waiting))\n",
    "    try:\n",
    "        worker_id = barrier.wait()\n",
    "    except threading.BrokenBarrierError:\n",
    "        print(threading.current_thread().name, 'aborting')\n",
    "    else:\n",
    "        print(threading.current_thread().name, 'after barrier',\n",
    "              worker_id)\n",
    "\n",
    "\n",
    "NUM_THREADS = 3\n",
    "\n",
    "barrier = threading.Barrier(NUM_THREADS + 1)\n",
    "\n",
    "threads = [\n",
    "    threading.Thread(\n",
    "        name='worker-%s' % i,\n",
    "        target=worker,\n",
    "        args=(barrier,),\n",
    "    )\n",
    "    for i in range(NUM_THREADS)\n",
    "]\n",
    "\n",
    "for t in threads:\n",
    "    print(t.name, 'starting')\n",
    "    t.start()\n",
    "    time.sleep(0.1)\n",
    "\n",
    "barrier.abort()\n",
    "\n",
    "for t in threads:\n",
    "    t.join()\n",
    "\n"
   ]
  },
  {
   "cell_type": "markdown",
   "id": "c1f7300d",
   "metadata": {},
   "source": [
    "Output:\n",
    "\n",
    "```\n",
    "worker-0 starting\n",
    "worker-0 waiting for barrier with 0 others\n",
    "worker-1 starting\n",
    "worker-1 waiting for barrier with 1 others\n",
    "worker-2 starting\n",
    "worker-2 waiting for barrier with 2 others\n",
    "worker-1 aborting\n",
    "worker-2 aborting\n",
    "worker-0 aborting\n",
    "```\n",
    "\n",
    "This example configures the `Barrier` to expect one more participating thread than is actually started so that processing in all of the threads is blocked. The `abort()` call raises an exception in each blocked thread."
   ]
  },
  {
   "cell_type": "markdown",
   "id": "3c5fc890",
   "metadata": {},
   "source": [
    "#### `Semaphore` Objects: Limiting Concurrent Access to Resources\n",
    "\n",
    "Sometimes it is useful to allow more than one worker access to a resource at a time, while still limiting the overall number. For example, a connection pool might support a fixed number of simultaneous connections, or a network application might support a fixed number of concurrent downloads. A `Semaphore` is one way to manage those connections."
   ]
  },
  {
   "cell_type": "code",
   "execution_count": 34,
   "id": "2460c387",
   "metadata": {},
   "outputs": [
    {
     "name": "stdout",
     "output_type": "stream",
     "text": [
      "Writing thread22.py\n"
     ]
    }
   ],
   "source": [
    "%%file thread22.py\n",
    "\n",
    "import logging\n",
    "import random\n",
    "import threading\n",
    "import time\n",
    "\n",
    "\n",
    "class ActivePool:\n",
    "\n",
    "    def __init__(self):\n",
    "        super(ActivePool, self).__init__()\n",
    "        self.active = []\n",
    "        self.lock = threading.Lock()\n",
    "\n",
    "    def makeActive(self, name):\n",
    "        with self.lock:\n",
    "            self.active.append(name)\n",
    "            logging.debug('Running: %s', self.active)\n",
    "\n",
    "    def makeInactive(self, name):\n",
    "        with self.lock:\n",
    "            self.active.remove(name)\n",
    "            logging.debug('Running: %s', self.active)\n",
    "\n",
    "\n",
    "def worker(s, pool):\n",
    "    logging.debug('Waiting to join the pool')\n",
    "    with s:\n",
    "        name = threading.current_thread().getName()\n",
    "        pool.makeActive(name)\n",
    "        time.sleep(0.1)\n",
    "        pool.makeInactive(name)\n",
    "\n",
    "\n",
    "logging.basicConfig(\n",
    "    level=logging.DEBUG,\n",
    "    format='%(asctime)s (%(threadName)-2s) %(message)s',\n",
    ")\n",
    "\n",
    "pool = ActivePool()\n",
    "s = threading.Semaphore(2)\n",
    "for i in range(4):\n",
    "    t = threading.Thread(\n",
    "        target=worker,\n",
    "        name=str(i),\n",
    "        args=(s, pool),\n",
    "    )\n",
    "    t.start()"
   ]
  },
  {
   "cell_type": "markdown",
   "id": "b2f5ec70",
   "metadata": {},
   "source": [
    "Output:\n",
    "\n",
    "```\n",
    "2023-01-05 21:49:13,823 (0 ) Waiting to join the pool\n",
    "2023-01-05 21:49:13,823 (0 ) Running: ['0']\n",
    "2023-01-05 21:49:13,823 (1 ) Waiting to join the pool\n",
    "2023-01-05 21:49:13,838 (2 ) Waiting to join the pool\n",
    "2023-01-05 21:49:13,838 (1 ) Running: ['0', '1']\n",
    "2023-01-05 21:49:13,838 (3 ) Waiting to join the pool\n",
    "2023-01-05 21:49:13,948 (1 ) Running: ['0']\n",
    "2023-01-05 21:49:13,948 (0 ) Running: []\n",
    "2023-01-05 21:49:13,948 (2 ) Running: ['2']\n",
    "2023-01-05 21:49:13,948 (3 ) Running: ['2', '3']\n",
    "2023-01-05 21:49:14,057 (3 ) Running: ['2']\n",
    "2023-01-05 21:49:14,057 (2 ) Running: []\n",
    "```\n",
    "\n",
    "In this example, the `ActivePool` class simply serves as a convenient way to track which threads are able to run at a given moment. A real resource pool would allocate a connection or some other value to the newly active thread, and reclaim the value when the thread is done. Here, it is just used to hold the names of the active threads to show that at most two are running concurrently."
   ]
  },
  {
   "cell_type": "markdown",
   "id": "5dd1b9a8",
   "metadata": {},
   "source": [
    "#### `local()` Class: Thread-specific Data\n",
    "\n",
    "While some resources need to be locked so multiple threads can use them, others need to be protected so that they are hidden from threads that do not own them. The `local()` class creates an object capable of hiding values from view in separate threads."
   ]
  },
  {
   "cell_type": "code",
   "execution_count": 36,
   "id": "6def59ab",
   "metadata": {},
   "outputs": [
    {
     "name": "stdout",
     "output_type": "stream",
     "text": [
      "Overwriting thread23.py\n"
     ]
    }
   ],
   "source": [
    "%%file thread23.py\n",
    "\n",
    "import random\n",
    "import threading\n",
    "import logging\n",
    "\n",
    "\n",
    "def show_value(data):\n",
    "    try:\n",
    "        val = data.value\n",
    "    except AttributeError:\n",
    "        logging.debug('No value yet')\n",
    "    else:\n",
    "        logging.debug('value=%s', val)\n",
    "\n",
    "\n",
    "def worker(data):\n",
    "    show_value(data)\n",
    "    data.value = random.randint(1, 100)\n",
    "    show_value(data)\n",
    "\n",
    "\n",
    "logging.basicConfig(\n",
    "    level=logging.DEBUG,\n",
    "    format='(%(threadName)-10s) %(message)s',\n",
    ")\n",
    "\n",
    "local_data = threading.local()\n",
    "show_value(local_data)\n",
    "local_data.value = 1000\n",
    "show_value(local_data)\n",
    "\n",
    "for i in range(2):\n",
    "    t = threading.Thread(target=worker, args=(local_data,))\n",
    "    t.start()"
   ]
  },
  {
   "cell_type": "markdown",
   "id": "c27307a1",
   "metadata": {},
   "source": [
    "Output:\n",
    "\n",
    "```\n",
    "(MainThread) No value yet\n",
    "(MainThread) value=1000\n",
    "(Thread-1  ) No value yet\n",
    "(Thread-1  ) value=72\n",
    "(Thread-2  ) No value yet\n",
    "(Thread-2  ) value=100\n",
    "```\n",
    "\n",
    "The attribute `local_data.value` is not present for any thread until it is set in that thread.\n",
    "\n",
    "To initialize the settings so all threads start with the same value, use a subclass and set the attributes in `__init__()`."
   ]
  },
  {
   "cell_type": "code",
   "execution_count": 37,
   "id": "2975fe66",
   "metadata": {},
   "outputs": [
    {
     "name": "stdout",
     "output_type": "stream",
     "text": [
      "Writing thread24.py\n"
     ]
    }
   ],
   "source": [
    "%%file thread24.py\n",
    "\n",
    "import random\n",
    "import threading\n",
    "import logging\n",
    "\n",
    "\n",
    "def show_value(data):\n",
    "    try:\n",
    "        val = data.value\n",
    "    except AttributeError:\n",
    "        logging.debug('No value yet')\n",
    "    else:\n",
    "        logging.debug('value=%s', val)\n",
    "\n",
    "\n",
    "def worker(data):\n",
    "    show_value(data)\n",
    "    data.value = random.randint(1, 100)\n",
    "    show_value(data)\n",
    "\n",
    "\n",
    "class MyLocal(threading.local):\n",
    "\n",
    "    def __init__(self, value):\n",
    "        super().__init__()\n",
    "        logging.debug('Initializing %r', self)\n",
    "        self.value = value\n",
    "\n",
    "\n",
    "logging.basicConfig(\n",
    "    level=logging.DEBUG,\n",
    "    format='(%(threadName)-10s) %(message)s',\n",
    ")\n",
    "\n",
    "local_data = MyLocal(1000)\n",
    "show_value(local_data)\n",
    "\n",
    "for i in range(2):\n",
    "    t = threading.Thread(target=worker, args=(local_data,))\n",
    "    t.start()"
   ]
  },
  {
   "cell_type": "markdown",
   "id": "4efb4f01",
   "metadata": {},
   "source": [
    "Output:\n",
    "\n",
    "```\n",
    "(MainThread) Initializing <__main__.MyLocal object at 0x0000004BF5D85F40>\n",
    "(MainThread) value=1000\n",
    "(Thread-1  ) Initializing <__main__.MyLocal object at 0x0000004BF5D85F40>\n",
    "(Thread-1  ) value=1000\n",
    "(Thread-2  ) Initializing <__main__.MyLocal object at 0x0000004BF5D85F40>\n",
    "(Thread-1  ) value=41\n",
    "(Thread-2  ) value=1000\n",
    "(Thread-2  ) value=32\n",
    "```\n",
    "\n",
    "`__init__()` is invoked on the same object (note the `id()` value), once in each thread to set the default values."
   ]
  },
  {
   "cell_type": "code",
   "execution_count": null,
   "id": "77152bc1",
   "metadata": {},
   "outputs": [],
   "source": []
  }
 ],
 "metadata": {
  "kernelspec": {
   "display_name": "Python 3 (ipykernel)",
   "language": "python",
   "name": "python3"
  },
  "language_info": {
   "codemirror_mode": {
    "name": "ipython",
    "version": 3
   },
   "file_extension": ".py",
   "mimetype": "text/x-python",
   "name": "python",
   "nbconvert_exporter": "python",
   "pygments_lexer": "ipython3",
   "version": "3.9.7"
  }
 },
 "nbformat": 4,
 "nbformat_minor": 5
}
