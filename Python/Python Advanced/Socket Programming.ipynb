{
 "cells": [
  {
   "cell_type": "markdown",
   "metadata": {},
   "source": [
    "Some curated sources:\n",
    "\n",
    " - [Socket Programming HOWTO - Python docs](https://docs.python.org/3/howto/sockets.html)\n",
    " - [Official docs for socket module](https://docs.python.org/3.10/library/socket.html)\n",
    " - [PyMOTW3 page for socket module](https://pymotw.com/3/socket/index.html#module-socket)\n",
    " - [Beej's Guide to Network Programming](https://beej.us/guide/bgnet/) - If you know C, this is an amazing resource. "
   ]
  },
  {
   "cell_type": "markdown",
   "metadata": {},
   "source": [
    "#### Socket\n",
    "\n",
    ">A socket is one endpoint of a two-way communication link between two programs running on the network. A socket is bound to a port number so that the TCP layer can identify the application that data is destined to be sent to. [Source](https://docs.oracle.com/javase/tutorial/networking/sockets/definition.html)\n",
    "\n",
    "Be careful to note that socket is not the connection. It is an endpoint of a connection. Also note that socket is an abstract entity. It doesn't have any physical manifestation. \n",
    "\n",
    "There are actually many types of sockets. The main ones are:\n",
    "\n",
    "- Stream sockets (`SOCK_STREAM`) - TCP protocol is used. Reliable\n",
    "- Datagram sockets (`SOCK_DGRAM`) - UDP protocol is used. Connectionless. Unreliable\n",
    "- Raw  sockets (`SOCK_RAW`) - No protocol is used\n",
    "\n",
    "\n",
    "We'll be mainly concerned with Stream sockets as our Web and many other Internet services use them exclusively. \n",
    "\n",
    "An endpoint is a combination of an IP address and a port number. Every TCP connection can be uniquely identified by its two endpoints. That way you can have multiple connections between your host and the server. \n",
    "\n",
    "Each computer (or some other device), when connected to Internet, is assigned an IP address. But your computer may be running many Internet based applications (such as web browser). So how does a data packet arrive at correct application? The answer is port. Each application has its own port number. So the combination of IP address and port number uniquely identifies the exact destination. The same thing goes for server too. Every server also has an IP address and a port where it listens to incoming requests from clients (such as applications running on your computer). This means a connection is established between a client (your computer) and a server (such as google.com). This connection is TCP based and each endpoint (that is socket) is uniquely identifiable by a combination of IP address and port. \n",
    "\n",
    "A word about IP addresses. You may have seen IP addresses like 129.168.11.135. There are basically two versions for assigning IP addresses. The first one, which is also older and prevalent, is **IPv4**. In this version, an IP address is defined as 32 bit number so we can come up with some 4.20 (2^32) billion addresses. In old days, 4 billion was a big number but it was later realised that there'd be far more devices in future and we'd run out of all the addresses of IPv4 could provide. So we came up with **IPv6** which defines IP address as a 128 bit number. However, IPv6 is still in the midst of adaptation. \n",
    "\n",
    "In socket programming, we usually have to specify which address family we want to use. For example, in Python, `AF_INET` means IPv4 address family and `AF_INET6` means IPv6 address family. There is one other address family, `AF_UNIX`, but we'll ignore that. \n",
    "\n",
    "**So, sockets have two primary properties controlling the way they send data: the address family controls the OSI network layer protocol used and the socket type controls the transport layer protocol.**\n",
    "\n",
    "---"
   ]
  },
  {
   "cell_type": "markdown",
   "metadata": {},
   "source": [
    "#### 10,000 Ft Overview of how sockets are created and used\n",
    "\n",
    "`class socket.socket(family=AF_INET, type=SOCK_STREAM, proto=0, fileno=None)`\n",
    "\n",
    "An instance of this class represents a socket. After creating this socket, you `bind()` it to a server address and then make it to `listen()`thereby enabling a server to accept connections. Finally, this server `accept()` incoming connection (this returns a new `conn` socket object and client `address`). Once connection is established, it `recv()` message from client via `conn` object. This server can also `send()`( or `sendall()`) messages to client using the `conn` object. \n",
    "\n",
    "On client side, we again create an instance of above class which represents client side socket. To connect with server, we use this socket to `connect(server_address)`. After that, we `sendall(message)` to server or `recv()` message from server.  \n",
    "\n",
    "![](images/socketflow.png)"
   ]
  },
  {
   "cell_type": "markdown",
   "metadata": {},
   "source": [
    "\n",
    "---\n",
    "\n",
    "##### Example 1\n",
    "\n",
    "[Source for following example](https://stackabuse.com/basic-socket-programming-in-python/)\n",
    "\n",
    "In order to make use of the socket functionality, we use `socket` module. In the example code shown below the Python `time` module is imported as well in order to simuate the weather station and to simplyfy time calculations.\n",
    "\n",
    "In this case, both the client and the server run on the same computer. A socket has a corresponding port number, which is 23456 in our case. If desired, you may choose a different port number from the unrestricted number range between 1024 and 65535.\n",
    "\n",
    "#### The Server\n",
    "\n",
    "Having loaded the additional Python `socket` module an Internet streaming socket is created using the `socket.socket` class with two parameters `socket.AF_INET` and `socket.SOCK_STREAM`. The retrieval of the hostname, the fully qualified domain name, and the IP address is done by the methods `gethostname()`, `getfqdn()`, and `gethostbyname()` respectively. \n",
    "\n",
    "Next, the socket is bound to the IP address and the port number 23456 with the help of the `bind()` method. \n",
    "\n",
    "With the help of the `listen()` method the server listens for incoming connections on the specified port. In the `while` loop the server waits for incoming requests and accepts them using the `accept()` method. The data submitted by the client is read via `recv()` method as chunks of 64 bytes, and simply output to stdout. Finally, the current connection is closed if no further data is sent from the client. "
   ]
  },
  {
   "cell_type": "code",
   "execution_count": 65,
   "metadata": {},
   "outputs": [
    {
     "name": "stdout",
     "output_type": "stream",
     "text": [
      "Overwriting server.py\n"
     ]
    }
   ],
   "source": [
    "%%file server.py\n",
    "\n",
    "import socket\n",
    "\n",
    "# create TCP/IP socket\n",
    "sock = socket.socket(socket.AF_INET,socket.SOCK_STREAM)\n",
    "\n",
    "#retrieve local hostname\n",
    "local_hostname = socket.gethostname()\n",
    "\n",
    "#get fully qualified domain name\n",
    "local_fqdn =  socket.getfqdn()\n",
    "\n",
    "#get the according IP address\n",
    "ip_address = socket.gethostbyname(local_hostname)\n",
    "\n",
    "#output hostname, domain name and IP address\n",
    "print(\"working on %s (%s) with %s\" % (local_hostname, local_fqdn, ip_address))\n",
    "\n",
    "#bind the socket to the port 23456\n",
    "server_address = (ip_address, 23456)\n",
    "print('starting up on %s port %s' % server_address)\n",
    "sock.bind(server_address)\n",
    "\n",
    "#listen for incoming connection (server mode) with two connection at a time\n",
    "sock.listen(2)\n",
    "\n",
    "while True:\n",
    "    #wait for a connection\n",
    "    print(\"waiting for a connection\")\n",
    "    connection, client_address = sock.accept()\n",
    "    try:\n",
    "        #show who connected to us\n",
    "        print('connection from', client_address)\n",
    "        \n",
    "        #receive the data in small chunks and print it\n",
    "        while True:\n",
    "            data = connection.recv(64)\n",
    "            if data:\n",
    "                #output received data\n",
    "                print('Data: %s' %data)\n",
    "            else:\n",
    "                #no more data --quit the loop`\n",
    "                print(\"no more data\")\n",
    "                break\n",
    "    finally:\n",
    "        connection.close()"
   ]
  },
  {
   "cell_type": "markdown",
   "metadata": {},
   "source": [
    "#### The Client\n",
    "\n",
    "Now we will have a look at the client side. The Python code is mostly similar to the server side, except for the usage of the socket - the client uses the `connect()` method, instead. In a `for` loop the temperature data is sent to the server using the `sendall()` method. The call of the `time.sleep(2)` method pauses the client for two seconds before it sends another temperature reading. After all the temperature data is sent from the list the connection is finally closed using the `close()` method."
   ]
  },
  {
   "cell_type": "code",
   "execution_count": 67,
   "metadata": {},
   "outputs": [
    {
     "name": "stdout",
     "output_type": "stream",
     "text": [
      "Overwriting client.py\n"
     ]
    }
   ],
   "source": [
    "%%file client.py\n",
    "\n",
    "import socket \n",
    "import time\n",
    "\n",
    "#create TCP/IP socket\n",
    "sock = socket.socket(socket.AF_INET, socket.SOCK_STREAM)\n",
    "\n",
    "#retrieve local hostname\n",
    "local_hostname = socket.gethostname()\n",
    "local_fqdn = socket.getfqdn()\n",
    "ip_address = socket.gethostbyname(local_hostname)\n",
    "\n",
    "server_address = (ip_address, 23456)\n",
    "sock.connect(server_address)\n",
    "\n",
    "print(\"connection to %s (%s) with %s\" %(local_hostname, local_fqdn, ip_address))\n",
    "\n",
    "#define example data to be sent to the server\n",
    "temperature_data = ['15','33','44','12','11','26','22','34','40','18','21','29','42']\n",
    "\n",
    "for entry in temperature_data:\n",
    "    print(\"data: %s\" %entry)\n",
    "    new_data = str(\"temp: %s\\n\" %entry).encode(\"utf-8\")\n",
    "    sock.sendall(new_data)\n",
    "    time.sleep(4)\n",
    "\n",
    "    #close connection\n",
    "sock.close()    "
   ]
  },
  {
   "cell_type": "markdown",
   "metadata": {
    "collapsed": true
   },
   "source": [
    "To run both server and the client program, open two terminal windows and issue the following commands - one per terminal window and in the following order - \n",
    "\n",
    "    python server.py\n",
    "    python client.py\n",
    "    \n",
    "Also note that don't run these scripts inside Notebook, it won't work. \n",
    "\n",
    "\n",
    "#### Sockets are blocking by default\n",
    "\n",
    "[Source of following](https://realpython.com/python-sockets/#blocking-calls)\n",
    "\n",
    "A socket function or method that temporarily suspends your application is a blocking call. For example, `.accept()`, `.connect()`, `.send()`, and `.recv()` block, meaning they don’t return immediately. Blocking calls have to wait on system calls (I/O) to complete before they can return a value. So you, the caller, are blocked until they’re done or a timeout or other error occurs.  Non-blocking mode is supported with `.setblocking()`.\n",
    "\n",
    "A socket object can be in one of three modes: blocking, non-blocking, or timeout. Sockets are by default always created in blocking mode, but this can be changed by calling `setdefaulttimeout()`. Blocking socket calls can be set to non-blocking mode so they return immediately. If you do this, then you’ll need to at least refactor or redesign your application to handle the socket operation when it’s ready.\n",
    "\n",
    "Because the call returns immediately, data may not be ready. The callee is waiting on the network and hasn’t had time to complete its work. If this is the case, then the current status is the `errno` value `socket.EWOULDBLOCK`. ([See this](https://stackoverflow.com/questions/3647539/socket-error-errno-ewouldblock) to know more about `socket.EWOULDBLOCK`)\n",
    "\n",
    "From [Python docs: Notes on socket timeout](https://docs.python.org/3.10/library/socket.html#notes-on-socket-timeouts) -\n",
    "\n",
    "- In _blocking mode_, operations block until complete or the system returns an error (such as connection timed out).\n",
    "\n",
    "- _In non-blocking mode_, operations fail (with an error that is unfortunately system-dependent) if they cannot be completed immediately: functions from the `select` can be used to know when and whether a socket is available for reading or writing.\n",
    "\n",
    "- _In timeout mode_, operations fail if they cannot be completed within the timeout specified for the socket (they raise a `timeout` exception) or if the system returns an error.\n",
    "\n",
    "\n",
    "---"
   ]
  },
  {
   "cell_type": "markdown",
   "metadata": {},
   "source": [
    "API Structure\n",
    "\n",
    " - Exceptions\n",
    "  - `socket.error`\n",
    "  - `socket.herror`\n",
    "  - `socket.gaierror`\n",
    "  - `socket.timeout`\n",
    " - Constants\n",
    "  - `AF_*` address families such as `AF_INET`\n",
    "  - `SOCK_*` socket type\n",
    "  - `IPROTO_*` protocol constants\n",
    "  - `MSG_*` \n",
    "  - many more\n",
    " - Class `socket.socket(family=AF_INET, type=SOCK_STREAM, proto=0, fileno=None)` - for creating socket objects\n",
    " - Function part 1 - these functions create sockets\n",
    "  - `socketpair()` - returns 2-tuple. Each element represents a socket\n",
    "  - `create_connection(address)` - returns and then connects this socket to server\n",
    "  - `create_server()` - returns a server socket object\n",
    " - socket methods\n",
    "  - `.accept()`\n",
    "  - `.bind()`\n",
    "  - `.close()`\n",
    "  - `.connect()`\n",
    "  - `.connect_ex()`\n",
    "  - `.getpeername()`\n",
    "  - `.getsockname()`\n",
    "  - `.getsockopt()`\n",
    "  - `.listen()`\n",
    "  - `.recv()`\n",
    "  - `.recvfrom()`\n",
    "  - `.recvmsg()`\n",
    "  - `.send()`\n",
    "  - `.sendall()`\n",
    "  - `.sendmsg()`\n",
    "  - `.shutdown()`\n",
    "  - `.setsockopt()`\n",
    "  - `.setblocking()`\n",
    "  - `.share()`, `.settimeout()`, `.sendfile()`\n",
    "  - attributes `family`, `type`, `proto`\n",
    " - Functions part 2 \n",
    "  - `has_dualstack_ipv6()` - returns `True` if platform supports IPv6 compatible socket creation\n",
    "  - `gethostname()`\n",
    "  - `gethostbyname()`\n",
    "  - `gethostbyname_ex()`\n",
    "  - `getfqdn()`\n",
    "  - `gethostbyaddr()`\n",
    "  - `getservbyname()`\n",
    "  - `getservbyport()`\n",
    "  - `getprotobyname()`\n",
    "  - `getaddrinfo()`\n",
    "  - `getnameinfo()`\n",
    "  - `sethostname()`\n",
    "  - `inet_aton()`\n",
    "  - `inet_ntoa()`\n",
    "  - `inet_pton()`\n",
    "  - `inet_ntop()`"
   ]
  },
  {
   "cell_type": "markdown",
   "metadata": {},
   "source": [
    "#### Module functions\n",
    "\n",
    "[Source](https://pymotw.com/3/socket/)"
   ]
  },
  {
   "cell_type": "markdown",
   "metadata": {},
   "source": [
    "#### `gethostname()`\n",
    "\n",
    "To find the official name of the current host, use `gethostname()`\n",
    "\n",
    "#### `gethostbyname()`\n",
    "\n",
    "Use `gethostbyname()` to consult the OS hostname resolution API and convert the name of a server to its numerical address."
   ]
  },
  {
   "cell_type": "code",
   "execution_count": 7,
   "metadata": {},
   "outputs": [
    {
     "name": "stdout",
     "output_type": "stream",
     "text": [
      "pc\n",
      "apu : [Errno 11001] getaddrinfo failed\n",
      "pymotw.com : 185.199.109.153\n",
      "www.python.org : 199.232.20.223\n",
      "nosuchname : [Errno 11001] getaddrinfo failed\n"
     ]
    }
   ],
   "source": [
    "from socket import *\n",
    "\n",
    "print(gethostname())\n",
    "\n",
    "\n",
    "#\n",
    "\n",
    "\n",
    "HOSTS = ['apu','pymotw.com','www.python.org','nosuchname']\n",
    "\n",
    "for host in HOSTS:\n",
    "    try:\n",
    "        print('{} : {}'.format(host, gethostbyname(host)))\n",
    "    except error as msg:\n",
    "        print('{} : {}'.format(host, msg))"
   ]
  },
  {
   "cell_type": "markdown",
   "metadata": {},
   "source": [
    "#### `gethostbyname_ex()`\n",
    "\n",
    "For access to more naming information about a server, use `gethostbyname_ex()`. It returns the canonical hostname of the server, any aliases, and all of the available IP addresses that can be used to reach it.\n",
    "\n",
    "Having all known IP addresses for a server lets a client implement its own load balancing or fail-over algorithms."
   ]
  },
  {
   "cell_type": "code",
   "execution_count": 8,
   "metadata": {},
   "outputs": [
    {
     "name": "stdout",
     "output_type": "stream",
     "text": [
      "apu\n",
      "ERROR: [Errno 11001] getaddrinfo failed\n",
      "\n",
      "pymotw.com\n",
      "  Hostname: pymotw.com\n",
      "  Aliases : []\n",
      " Addresses: ['185.199.109.153', '185.199.108.153', '185.199.111.153', '185.199.110.153']\n",
      "\n",
      "www.python.org\n",
      "  Hostname: dualstack.python.map.fastly.net\n",
      "  Aliases : ['www.python.org']\n",
      " Addresses: ['199.232.20.223']\n",
      "\n",
      "nosuchname\n",
      "ERROR: [Errno 11001] getaddrinfo failed\n",
      "\n",
      "google.com\n",
      "  Hostname: google.com\n",
      "  Aliases : []\n",
      " Addresses: ['142.250.193.238']\n",
      "\n"
     ]
    }
   ],
   "source": [
    "\n",
    "HOSTS = ['apu','pymotw.com','www.python.org','nosuchname', 'google.com']\n",
    "\n",
    "for host in HOSTS:\n",
    "    print(host)\n",
    "    try:\n",
    "        name, aliases, addresses = gethostbyname_ex(host)\n",
    "        print('  Hostname:', name)\n",
    "        print('  Aliases :', aliases)\n",
    "        print(' Addresses:', addresses)\n",
    "    except error as msg:\n",
    "        print('ERROR:', msg)\n",
    "    print()"
   ]
  },
  {
   "cell_type": "markdown",
   "metadata": {},
   "source": [
    "#### `getfqdn()`\n",
    "\n",
    "Use `getfqdn()` to convert a partial name to a fully qualified domain name.\n",
    "\n",
    "The name returned will not necessarily match the input argument in any way if the input is an alias, such as `www` is here."
   ]
  },
  {
   "cell_type": "code",
   "execution_count": 9,
   "metadata": {},
   "outputs": [
    {
     "name": "stdout",
     "output_type": "stream",
     "text": [
      "       apu : apu\n",
      "pymotw.com : pymotw.com\n"
     ]
    }
   ],
   "source": [
    "for host in ['apu', 'pymotw.com']:\n",
    "    print('{:>10} : {}'.format(host, getfqdn(host)))"
   ]
  },
  {
   "cell_type": "markdown",
   "metadata": {},
   "source": [
    "#### `gethostbyaddr()`\n",
    "\n",
    "When the address of a server is available, use `gethostbyaddr()` to do a “reverse” lookup for the name. The return value is a tuple containing the full hostname, any aliases, and all IP addresses associated with the name."
   ]
  },
  {
   "cell_type": "code",
   "execution_count": 12,
   "metadata": {},
   "outputs": [
    {
     "name": "stdout",
     "output_type": "stream",
     "text": [
      "Hostname : del11s18-in-f14.1e100.net\n",
      "Aliases  : []\n",
      "Addresses: ['142.250.193.238']\n"
     ]
    }
   ],
   "source": [
    "hostname, aliases, addresses = gethostbyaddr('142.250.193.238')\n",
    "\n",
    "print('Hostname :', hostname)\n",
    "print('Aliases  :', aliases)\n",
    "print('Addresses:', addresses)"
   ]
  },
  {
   "cell_type": "markdown",
   "metadata": {},
   "source": [
    "#### Finding Service Information\n",
    "\n",
    "####  `getservbyname()`\n",
    "\n",
    "In addition to an IP address, each socket address includes an integer port number. Many applications can run on the same host, listening on a single IP address, but only one socket at a time can use a port at that address. The combination of IP address, protocol, and port number uniquely identify a communication channel and ensure that messages sent through a socket arrive at the correct destination.\n",
    "\n",
    "Some of the port numbers are pre-allocated for a specific protocol. For example, communication between email servers using SMTP occurs over port number 25 using TCP, and web clients and servers use port 80 for HTTP. The port numbers for network services with standardized names can be looked up with `getservbyname()`\n",
    "\n",
    "Although a standardized service is unlikely to change ports, looking up the value with a system call instead of hard-coding it is more flexible when new services are added in the future."
   ]
  },
  {
   "cell_type": "code",
   "execution_count": 13,
   "metadata": {},
   "outputs": [
    {
     "name": "stdout",
     "output_type": "stream",
     "text": [
      "  http : 80\n",
      " https : 443\n",
      "   ftp : 21\n",
      "gopher : 70\n",
      "  smtp : 25\n",
      "  imap : 143\n",
      " imaps : 993\n",
      "  pop3 : 110\n",
      " pop3s : 995\n"
     ]
    }
   ],
   "source": [
    "from urllib.parse import urlparse\n",
    "\n",
    "URLS = [\n",
    "    'http://www.python.org',\n",
    "    'https://www.mybank.com',\n",
    "    'ftp://prep.ai.mit.edu',\n",
    "    'gopher://gopher.micro.umn.edu',\n",
    "    'smtp://mail.example.com',\n",
    "    'imap://mail.example.com',\n",
    "    'imaps://mail.example.com',\n",
    "    'pop3://pop.example.com',\n",
    "    'pop3s://pop.example.com',\n",
    "]\n",
    "\n",
    "for url in URLS:\n",
    "    parsed_url = urlparse(url)\n",
    "    port = getservbyname(parsed_url.scheme)\n",
    "    print('{:>6} : {}'.format(parsed_url.scheme, port))"
   ]
  },
  {
   "cell_type": "markdown",
   "metadata": {},
   "source": [
    "#### `getservbyport(port[, protocolname])`\n",
    "\n",
    "To reverse the service port lookup, use `getservbyport()`. The reverse lookup is useful for constructing URLs to services from arbitrary addresses. The optional protocol name, if given, should be `tcp` or `udp`, otherwise any protocol will match."
   ]
  },
  {
   "cell_type": "code",
   "execution_count": 16,
   "metadata": {},
   "outputs": [
    {
     "name": "stdout",
     "output_type": "stream",
     "text": [
      "http://example.com/\n",
      "https://example.com/\n",
      "ftp://example.com/\n",
      "gopher://example.com/\n",
      "smtp://example.com/\n",
      "imap://example.com/\n",
      "imaps://example.com/\n",
      "pop3://example.com/\n",
      "pop3s://example.com/\n"
     ]
    }
   ],
   "source": [
    "for port in [80, 443, 21, 70, 25, 143, 993, 110, 995]:\n",
    "    url = '{}://example.com/'.format(getservbyport(port))\n",
    "    print(url)"
   ]
  },
  {
   "cell_type": "code",
   "execution_count": 19,
   "metadata": {},
   "outputs": [
    {
     "data": {
      "text/plain": [
       "'https'"
      ]
     },
     "execution_count": 19,
     "metadata": {},
     "output_type": "execute_result"
    }
   ],
   "source": [
    "getservbyport(443, 'tcp') #, getservbyport(55443, 'tcp') ->error"
   ]
  },
  {
   "cell_type": "markdown",
   "metadata": {},
   "source": [
    "#### `getprotobyname(protocolname)`\n",
    "\n",
    "The number assigned to a transport protocol can be retrieved with `getprotobyname()`. This translates an internet protocol name (for example, `icmp`) to a constant suitable for passing as the (optional) third argument to the `socket()` function. This is usually only needed for sockets opened in “raw” mode (`SOCK_RAW`); for the normal socket modes, the correct protocol is chosen automatically if the protocol is omitted or zero.\n",
    "\n",
    "The values for protocol numbers are standardized, and defined as constants in `socket` with the prefix `IPPROTO_`."
   ]
  },
  {
   "cell_type": "code",
   "execution_count": 25,
   "metadata": {},
   "outputs": [
    {
     "name": "stdout",
     "output_type": "stream",
     "text": [
      "{51: 'IPPROTO_AH', 7: 'IPPROTO_CBT', 60: 'IPPROTO_DSTOPTS', 8: 'IPPROTO_EGP', 50: 'IPPROTO_ESP', 44: 'IPPROTO_FRAGMENT', 3: 'IPPROTO_GGP', 0: 'IPPROTO_IP', 78: 'IPPROTO_ICLFXBM', 1: 'IPPROTO_ICMP', 58: 'IPPROTO_ICMPV6', 22: 'IPPROTO_IDP', 2: 'IPPROTO_IGMP', 9: 'IPPROTO_IGP', 4: 'IPPROTO_IPV4', 41: 'IPPROTO_IPV6', 115: 'IPPROTO_L2TP', 256: 'IPPROTO_MAX', 77: 'IPPROTO_ND', 59: 'IPPROTO_NONE', 113: 'IPPROTO_PGM', 103: 'IPPROTO_PIM', 12: 'IPPROTO_PUP', 255: 'IPPROTO_RAW', 27: 'IPPROTO_RDP', 43: 'IPPROTO_ROUTING', 132: 'IPPROTO_SCTP', 5: 'IPPROTO_ST', 6: 'IPPROTO_TCP', 17: 'IPPROTO_UDP'} \n",
      "\n",
      "icmp ->  1 (socket.IPPROTO_ICMP =  1)\n",
      " udp -> 17 (socket.IPPROTO_UDP  = 17)\n",
      " tcp ->  6 (socket.IPPROTO_TCP  =  6)\n"
     ]
    }
   ],
   "source": [
    "import socket\n",
    "\n",
    "def get_constants(prefix):\n",
    "    \"\"\"Create a dictionary mapping socket module\n",
    "    constants to their names.\n",
    "    \"\"\"\n",
    "    return {\n",
    "        getattr(socket, n): n\n",
    "        for n in dir(socket)\n",
    "        if n.startswith(prefix)}\n",
    "\n",
    "\n",
    "protocols = get_constants('IPPROTO_')\n",
    "print(protocols,'\\n')\n",
    "\n",
    "for name in ['icmp', 'udp', 'tcp']:\n",
    "    proto_num = socket.getprotobyname(name)\n",
    "    const_name = protocols[proto_num]\n",
    "    print('{:>4} -> {:2d} (socket.{:<12} = {:2d})'.format(\n",
    "        name, proto_num, const_name,\n",
    "        getattr(socket, const_name)))"
   ]
  },
  {
   "cell_type": "markdown",
   "metadata": {},
   "source": [
    "#### Looking Up Server Addresses\n",
    "\n",
    "#### `getaddrinfo(host, port, family=0, type=0, proto=0, flags=0)`\n",
    "\n",
    "Translate the host/port argument into a sequence of 5-tuples that contain all the necessary arguments for creating a socket connected to that service. host is a domain name, a string representation of an IPv4/v6 address or `None`. port is a string service name such as `http`, a numeric port number or `None`.\n",
    "\n",
    "`getaddrinfo()` converts the basic address of a service into a list of tuples with all of the information necessary to make a connection. The contents of each tuple will vary, containing different network families or protocols."
   ]
  },
  {
   "cell_type": "code",
   "execution_count": 26,
   "metadata": {},
   "outputs": [
    {
     "name": "stdout",
     "output_type": "stream",
     "text": [
      "Family        : AF_INET6\n",
      "Type          : SOCK_STREAM\n",
      "Protocol      : IPPROTO_IP\n",
      "Canonical name: \n",
      "Socket address: ('2a04:4e42:42::223', 80, 0, 0)\n",
      "\n",
      "Family        : AF_INET\n",
      "Type          : SOCK_STREAM\n",
      "Protocol      : IPPROTO_IP\n",
      "Canonical name: \n",
      "Socket address: ('199.232.20.223', 80)\n",
      "\n"
     ]
    }
   ],
   "source": [
    "import socket\n",
    "\n",
    "\n",
    "def get_constants(prefix):\n",
    "    \"\"\"Create a dictionary mapping socket module\n",
    "    constants to their names.\n",
    "    \"\"\"\n",
    "    return {\n",
    "        getattr(socket, n): n\n",
    "        for n in dir(socket)\n",
    "        if n.startswith(prefix)\n",
    "    }\n",
    "\n",
    "\n",
    "families = get_constants('AF_')\n",
    "types = get_constants('SOCK_')\n",
    "protocols = get_constants('IPPROTO_')\n",
    "\n",
    "for response in socket.getaddrinfo('www.python.org', 'http'):\n",
    "\n",
    "    # Unpack the response tuple\n",
    "    family, socktype, proto, canonname, sockaddr = response\n",
    "\n",
    "    print('Family        :', families[family])\n",
    "    print('Type          :', types[socktype])\n",
    "    print('Protocol      :', protocols[proto])\n",
    "    print('Canonical name:', canonname)\n",
    "    print('Socket address:', sockaddr)\n",
    "    print()"
   ]
  },
  {
   "cell_type": "markdown",
   "metadata": {},
   "source": [
    "See following example also. "
   ]
  },
  {
   "cell_type": "code",
   "execution_count": 27,
   "metadata": {},
   "outputs": [
    {
     "name": "stdout",
     "output_type": "stream",
     "text": [
      "Family        : AF_INET\n",
      "Type          : SOCK_STREAM\n",
      "Protocol      : IPPROTO_TCP\n",
      "Canonical name: dualstack.python.map.fastly.net\n",
      "Socket address: ('199.232.20.223', 80)\n",
      "\n"
     ]
    }
   ],
   "source": [
    "import socket\n",
    "\n",
    "\n",
    "def get_constants(prefix):\n",
    "    \"\"\"Create a dictionary mapping socket module\n",
    "    constants to their names.\n",
    "    \"\"\"\n",
    "    return {\n",
    "        getattr(socket, n): n\n",
    "        for n in dir(socket)\n",
    "        if n.startswith(prefix)\n",
    "    }\n",
    "\n",
    "\n",
    "families = get_constants('AF_')\n",
    "types = get_constants('SOCK_')\n",
    "protocols = get_constants('IPPROTO_')\n",
    "\n",
    "responses = socket.getaddrinfo(\n",
    "    host='www.python.org',\n",
    "    port='http',\n",
    "    family=socket.AF_INET,\n",
    "    type=socket.SOCK_STREAM,\n",
    "    proto=socket.IPPROTO_TCP,\n",
    "    flags=socket.AI_CANONNAME,\n",
    ")\n",
    "\n",
    "for response in responses:\n",
    "    # Unpack the response tuple\n",
    "    family, socktype, proto, canonname, sockaddr = response\n",
    "\n",
    "    print('Family        :', families[family])\n",
    "    print('Type          :', types[socktype])\n",
    "    print('Protocol      :', protocols[proto])\n",
    "    print('Canonical name:', canonname)\n",
    "    print('Socket address:', sockaddr)\n",
    "    print()"
   ]
  },
  {
   "cell_type": "markdown",
   "metadata": {},
   "source": [
    "#### IP Address Representations\n",
    "\n",
    "Network programs written in C use the data type struct sockaddr to represent IP addresses as binary values (instead of the string addresses usually found in Python programs). To convert `IPv4` addresses between the Python representation and the C representation, use `inet_aton()` and `inet_ntoa()`."
   ]
  },
  {
   "cell_type": "code",
   "execution_count": 28,
   "metadata": {},
   "outputs": [
    {
     "name": "stdout",
     "output_type": "stream",
     "text": [
      "Original: 192.168.1.1\n",
      "Packed  : b'c0a80101'\n",
      "Unpacked: 192.168.1.1\n",
      "\n",
      "Original: 127.0.0.1\n",
      "Packed  : b'7f000001'\n",
      "Unpacked: 127.0.0.1\n",
      "\n"
     ]
    }
   ],
   "source": [
    "import binascii\n",
    "import socket\n",
    "import struct\n",
    "import sys\n",
    "\n",
    "for string_address in ['192.168.1.1', '127.0.0.1']:\n",
    "    packed = socket.inet_aton(string_address)\n",
    "    print('Original:', string_address)\n",
    "    print('Packed  :', binascii.hexlify(packed))\n",
    "    print('Unpacked:', socket.inet_ntoa(packed))\n",
    "    print()"
   ]
  },
  {
   "cell_type": "markdown",
   "metadata": {},
   "source": [
    "The related functions `inet_pton()` and `inet_ntop()` work with both IPv4 and IPv6 addresses, producing the appropriate format based on the address family parameter passed in."
   ]
  },
  {
   "cell_type": "code",
   "execution_count": 29,
   "metadata": {},
   "outputs": [
    {
     "name": "stdout",
     "output_type": "stream",
     "text": [
      "Original: 2002:ac10:10a:1234:21e:52ff:fe74:40e\n",
      "Packed  : b'2002ac10010a1234021e52fffe74040e'\n",
      "Unpacked: 2002:ac10:10a:1234:21e:52ff:fe74:40e\n"
     ]
    }
   ],
   "source": [
    "import binascii\n",
    "import socket\n",
    "import struct\n",
    "import sys\n",
    "\n",
    "string_address = '2002:ac10:10a:1234:21e:52ff:fe74:40e'\n",
    "packed = socket.inet_pton(socket.AF_INET6, string_address)\n",
    "\n",
    "print('Original:', string_address)\n",
    "print('Packed  :', binascii.hexlify(packed))\n",
    "print('Unpacked:', socket.inet_ntop(socket.AF_INET6, packed))"
   ]
  },
  {
   "cell_type": "markdown",
   "metadata": {},
   "source": [
    "Some functions have been left out."
   ]
  },
  {
   "cell_type": "markdown",
   "metadata": {},
   "source": [
    "##### Module Exploration\n",
    "\n",
    "This sample program, based on the one in the standard library documentation, receives incoming messages and echos them back to the sender. It starts by creating a TCP/IP socket, then `bind()` is used to associate the socket with the server address. In this case, the address is `localhost`, referring to the current server, and the port number is 10000."
   ]
  },
  {
   "cell_type": "code",
   "execution_count": 2,
   "metadata": {},
   "outputs": [
    {
     "name": "stdout",
     "output_type": "stream",
     "text": [
      "Writing echo_server.py\n"
     ]
    }
   ],
   "source": [
    "%%file echo_server.py\n",
    "\n",
    "import socket\n",
    "import sys\n",
    "\n",
    "# Create a TCP/IP socket\n",
    "sock = socket.socket(socket.AF_INET, socket.SOCK_STREAM)\n",
    "\n",
    "# Bind the socket to the port\n",
    "server_address = ('localhost', 10000)\n",
    "print('starting up on {} port {}'.format(*server_address))\n",
    "sock.bind(server_address)\n",
    "\n",
    "# Listen for incoming connections\n",
    "sock.listen(1)\n",
    "\n",
    "while True:\n",
    "    # Wait for a connection\n",
    "    print('waiting for a connection')\n",
    "    connection, client_address = sock.accept()\n",
    "    try:\n",
    "        print('connection from', client_address)\n",
    "\n",
    "        # Receive the data in small chunks and retransmit it\n",
    "        while True:\n",
    "            data = connection.recv(16)\n",
    "            print('received {!r}'.format(data))\n",
    "            if data:\n",
    "                print('sending data back to the client')\n",
    "                connection.sendall(data)\n",
    "            else:\n",
    "                print('no data from', client_address)\n",
    "                break\n",
    "\n",
    "    finally:\n",
    "        # Clean up the connection\n",
    "        connection.close()"
   ]
  },
  {
   "cell_type": "code",
   "execution_count": 3,
   "metadata": {},
   "outputs": [
    {
     "name": "stdout",
     "output_type": "stream",
     "text": [
      "Writing echo_client.py\n"
     ]
    }
   ],
   "source": [
    "%%file echo_client.py\n",
    "\n",
    "import socket\n",
    "import sys\n",
    "\n",
    "# Create a TCP/IP socket\n",
    "sock = socket.socket(socket.AF_INET, socket.SOCK_STREAM)\n",
    "\n",
    "# Connect the socket to the port where the server is listening\n",
    "server_address = ('localhost', 10000)\n",
    "print('connecting to {} port {}'.format(*server_address))\n",
    "sock.connect(server_address)\n",
    "\n",
    "try:\n",
    "\n",
    "    # Send data\n",
    "    message = b'This is the message.  It will be repeated.'\n",
    "    print('sending {!r}'.format(message))\n",
    "    sock.sendall(message)\n",
    "\n",
    "    # Look for the response\n",
    "    amount_received = 0\n",
    "    amount_expected = len(message)\n",
    "\n",
    "    while amount_received < amount_expected:\n",
    "        data = sock.recv(16)\n",
    "        amount_received += len(data)\n",
    "        print('received {!r}'.format(data))\n",
    "\n",
    "finally:\n",
    "    print('closing socket')\n",
    "    sock.close()"
   ]
  },
  {
   "cell_type": "markdown",
   "metadata": {},
   "source": [
    "#### Easy Client Connections\n",
    "\n",
    "#### `create_connection()`\n",
    "\n",
    "Connect to a TCP service listening on the internet *address* (a 2-tuple (`host`, `port`)), and return the socket object. This is a higher-level function than `socket.connect()`: if host is a non-numeric hostname, it will try to resolve it for both `AF_INET` and `AF_INET6`, and then try to connect to all possible addresses in turn until a connection succeeds. This makes it easy to write clients that are compatible to both `IPv4` and `IPv6`.\n",
    "\n",
    "TCP/IP clients can save a few steps by using the convenience function `create_connection()` to connect to a server. The function takes one argument, a two-value tuple containing the address of the server, and derives the best address to use for the connection"
   ]
  },
  {
   "cell_type": "code",
   "execution_count": 38,
   "metadata": {},
   "outputs": [
    {
     "data": {
      "text/plain": [
       "{<AddressFamily.AF_APPLETALK: 16>: 'AF_APPLETALK',\n",
       " <AddressFamily.AF_BLUETOOTH: 32>: 'AF_BLUETOOTH',\n",
       " 12: 'AF_DECnet',\n",
       " <AddressFamily.AF_INET: 2>: 'AF_INET',\n",
       " <AddressFamily.AF_INET6: 23>: 'AF_INET6',\n",
       " <AddressFamily.AF_IPX: 6>: 'AF_IPX',\n",
       " <AddressFamily.AF_IRDA: 26>: 'AF_IRDA',\n",
       " <AddressFamily.AF_LINK: 33>: 'AF_LINK',\n",
       " <AddressFamily.AF_SNA: 11>: 'AF_SNA',\n",
       " <AddressFamily.AF_UNSPEC: 0>: 'AF_UNSPEC'}"
      ]
     },
     "execution_count": 38,
     "metadata": {},
     "output_type": "execute_result"
    }
   ],
   "source": [
    "import socket\n",
    "{\n",
    "        getattr(socket, n): n\n",
    "        for n in dir(socket)\n",
    "        if n.startswith('AF_')\n",
    "    }"
   ]
  },
  {
   "cell_type": "code",
   "execution_count": 30,
   "metadata": {},
   "outputs": [
    {
     "name": "stdout",
     "output_type": "stream",
     "text": [
      "Writing socket1.py\n"
     ]
    }
   ],
   "source": [
    "%%file socket1.py\n",
    "\n",
    "import socket\n",
    "import sys\n",
    "\n",
    "\n",
    "def get_constants(prefix):\n",
    "    \"\"\"Create a dictionary mapping socket module\n",
    "    constants to their names.\n",
    "    \"\"\"\n",
    "    return {\n",
    "        getattr(socket, n): n\n",
    "        for n in dir(socket)\n",
    "        if n.startswith(prefix)\n",
    "    }\n",
    "\n",
    "\n",
    "families = get_constants('AF_')\n",
    "types = get_constants('SOCK_')\n",
    "protocols = get_constants('IPPROTO_')\n",
    "\n",
    "# Create a TCP/IP socket\n",
    "#note that we didn't use `sock = socket.socket(socket.AF_INET, socket.SOCK_STREAM)`\n",
    "#create_connection returns socket object just like socket.socket(...)\n",
    "#also note the lack of socket.connect(server) expression\n",
    "\n",
    "sock = socket.create_connection(('localhost', 10000))\n",
    "\n",
    "print('Family  :', families[sock.family])\n",
    "print('Type    :', types[sock.type])\n",
    "print('Protocol:', protocols[sock.proto])\n",
    "print()\n",
    "\n",
    "try:\n",
    "\n",
    "    # Send data\n",
    "    message = b'This is the message.  It will be repeated.'\n",
    "    print('sending {!r}'.format(message))\n",
    "    sock.sendall(message)\n",
    "\n",
    "    amount_received = 0\n",
    "    amount_expected = len(message)\n",
    "\n",
    "    while amount_received < amount_expected:\n",
    "        data = sock.recv(16)\n",
    "        amount_received += len(data)\n",
    "        print('received {!r}'.format(data))\n",
    "\n",
    "finally:\n",
    "    print('closing socket')\n",
    "    sock.close()"
   ]
  },
  {
   "cell_type": "markdown",
   "metadata": {},
   "source": [
    "`create_connection()` uses `getaddrinfo()` to find candidate connection parameters, and returns a socket opened with the first configuration that creates a successful connection. The family, type, and proto attributes can be examined to determine the type of socket being returned.\n",
    "\n",
    "Output:\n",
    "\n",
    "```\n",
    "Family  : AF_INET\n",
    "Type    : SOCK_STREAM\n",
    "Protocol: IPPROTO_IP\n",
    "\n",
    "sending b'This is the message.  It will be repeated.'\n",
    "received b'This is the mess'\n",
    "received b'age.  It will be'\n",
    "received b' repeated.'\n",
    "closing socket\n",
    "```"
   ]
  },
  {
   "cell_type": "markdown",
   "metadata": {},
   "source": [
    "#### Choosing an Address for Listening\n",
    "\n",
    "It is important to bind a server to the correct address, so that clients can communicate with it. The previous examples all used `localhost` as the IP address, which limits connections to clients running on the same server. Use a public address of the server, such as the value returned by `gethostname()`, to allow other hosts to connect. This example modifies the echo server to listen on an address specified via a command line argument."
   ]
  },
  {
   "cell_type": "code",
   "execution_count": 31,
   "metadata": {},
   "outputs": [
    {
     "name": "stdout",
     "output_type": "stream",
     "text": [
      "Writing echo_server1.py\n"
     ]
    }
   ],
   "source": [
    "%%file echo_server1.py\n",
    "\n",
    "import socket\n",
    "import sys\n",
    "\n",
    "# Create a TCP/IP socket\n",
    "sock = socket.socket(socket.AF_INET, socket.SOCK_STREAM)\n",
    "\n",
    "# Bind the socket to the address given on the command line\n",
    "server_name = sys.argv[1]\n",
    "server_address = (server_name, 10000)\n",
    "print('starting up on {} port {}'.format(*server_address))\n",
    "sock.bind(server_address)\n",
    "sock.listen(1)\n",
    "\n",
    "while True:\n",
    "    print('waiting for a connection')\n",
    "    connection, client_address = sock.accept()\n",
    "    try:\n",
    "        print('client connected:', client_address)\n",
    "        while True:\n",
    "            data = connection.recv(16)\n",
    "            print('received {!r}'.format(data))\n",
    "            if data:\n",
    "                connection.sendall(data)\n",
    "            else:\n",
    "                break\n",
    "    finally:\n",
    "        connection.close()"
   ]
  },
  {
   "cell_type": "markdown",
   "metadata": {},
   "source": [
    "A similar modification to the client program is needed before the server can be tested."
   ]
  },
  {
   "cell_type": "code",
   "execution_count": 32,
   "metadata": {},
   "outputs": [
    {
     "name": "stdout",
     "output_type": "stream",
     "text": [
      "Writing echo_client1.py\n"
     ]
    }
   ],
   "source": [
    "%%file echo_client1.py\n",
    "\n",
    "import socket\n",
    "import sys\n",
    "\n",
    "# Create a TCP/IP socket\n",
    "sock = socket.socket(socket.AF_INET, socket.SOCK_STREAM)\n",
    "\n",
    "# Connect the socket to the port on the server\n",
    "# given by the caller\n",
    "server_address = (sys.argv[1], 10000)\n",
    "print('connecting to {} port {}'.format(*server_address))\n",
    "sock.connect(server_address)\n",
    "\n",
    "try:\n",
    "\n",
    "    message = b'This is the message.  It will be repeated.'\n",
    "    print('sending {!r}'.format(message))\n",
    "    sock.sendall(message)\n",
    "\n",
    "    amount_received = 0\n",
    "    amount_expected = len(message)\n",
    "    while amount_received < amount_expected:\n",
    "        data = sock.recv(16)\n",
    "        amount_received += len(data)\n",
    "        print('received {!r}'.format(data))\n",
    "\n",
    "finally:\n",
    "    sock.close()"
   ]
  },
  {
   "cell_type": "markdown",
   "metadata": {},
   "source": [
    "**Note:-** The source material provided `hubert.hellfly.net` as argument which on my system raised `OSError`. So I provided `pc` as argument. This way, program ran correctly. "
   ]
  },
  {
   "cell_type": "markdown",
   "metadata": {},
   "source": [
    "Many servers have more than one network interface, and therefore more than one IP address. Rather than running separate copies of a service bound to each IP address, use the special address `INADDR_ANY` to listen on all addresses at the same time. Although socket defines a constant for `INADDR_ANY`, it is an integer value and must be converted to a dotted-notation string address before it can be passed to `bind()`. As a shortcut, use `0.0.0.0` or an empty string (`''`) instead of doing the conversion.\n",
    "\n",
    "As a contrived example, let's say a server is using 4 IP addresses (say `111.111.111.1`, `111.111.111.2`, `111.111.111.3` and `111.111.111.4`) to listen to incoming connections. Instead of creating 4 sockets for each of these addresses, we simply `bind()` the server to `0.0.0.0` (or `''`). This way, server is able to listen on all of above 4 addresses. However, client still needs to specify one of these addresses to connect with server. "
   ]
  },
  {
   "cell_type": "code",
   "execution_count": 33,
   "metadata": {},
   "outputs": [
    {
     "name": "stdout",
     "output_type": "stream",
     "text": [
      "Writing echo_server2.py\n"
     ]
    }
   ],
   "source": [
    "%%file echo_server2.py\n",
    "\n",
    "import socket\n",
    "import sys\n",
    "\n",
    "# Create a TCP/IP socket\n",
    "sock = socket.socket(socket.AF_INET, socket.SOCK_STREAM)\n",
    "\n",
    "# Bind the socket to the address given on the command line\n",
    "server_address = ('', 10000)\n",
    "sock.bind(server_address)\n",
    "print('starting up on {} port {}'.format(*sock.getsockname()))\n",
    "sock.listen(1)\n",
    "\n",
    "while True:\n",
    "    print('waiting for a connection')\n",
    "    connection, client_address = sock.accept()\n",
    "    try:\n",
    "        print('client connected:', client_address)\n",
    "        while True:\n",
    "            data = connection.recv(16)\n",
    "            print('received {!r}'.format(data))\n",
    "            if data:\n",
    "                connection.sendall(data)\n",
    "            else:\n",
    "                break\n",
    "    finally:\n",
    "        connection.close()"
   ]
  },
  {
   "cell_type": "markdown",
   "metadata": {},
   "source": [
    "**Aside**\n",
    "\n",
    "`127.0.0.1` is the `loopback address` (also known as `localhost`) and `0.0.0.0` is the IP address that is a *non-routable meta-address* used to indicate an invalid, unknown, or non-applicable destination.\n",
    "\n",
    "`0.0.0.0` and `127.0.0.1` are easy to confuse, but let's keep remember that an address with four zeros has a few defined uses, whereas `127.0.0.1` instead has the very specific purpose of allowing a device to send messages to itself.\n",
    "\n",
    "In earlier examples, we used `localhost` (that is, `127.0.0.1`) as server address. This means, your server will be accessible to the clients on the same machine. Any other machine on the network will not be able to access that server. On the other hand, `0.0.0.0` means your server is visible to outside world and any machine can connect to this server using appropriate server address. Also note that we haven't used the port number because, by default, all webservers use port `80` to listen on. If your server is using any other port, client has to specify port number alongwith IP address. Be clear that client can't use `0.0.0.0` address to connect with server. \n",
    "\n",
    "In essence, `0.0.0.0` means _\"anywhere and everywhere\"_, while `127.0.0.1` means _\"precisely here and nowhere else\"_.\n",
    "\n",
    "See [this](https://stackoverflow.com/questions/20778771/what-is-the-difference-between-0-0-0-0-127-0-0-1-and-localhost) and [this](https://stackoverflow.com/questions/74233128/difference-between-0-0-0-0-and-127-0-0-1-on-windows-and-linux)"
   ]
  },
  {
   "cell_type": "markdown",
   "metadata": {},
   "source": [
    "#### About `sock.setsockopt(SOL_SOCKET, SO_REUSEADDR, 1)`\n",
    "\n",
    "In the notebook 'Python Concurrency - Part 1', there is an example of server code:\n",
    "\n",
    "```\n",
    "address = ('', 25000)\n",
    "sock = socket(AF_INET, SOCK_STREAM) #(1st param: address family, 2nd param: socket type)\n",
    "sock.setsockopt(SOL_SOCKET, SO_REUSEADDR,1)  # line 2\n",
    "sock.bind(address)\n",
    "sock.listen(5) \n",
    "while True:\n",
    "    client,addr = sock.accept()\n",
    "    ....\n",
    "```\n",
    "\n",
    "In line 2, we used the method `setsockopt(level, optname, value)`. I didn't quite understand this and [Python docs](https://docs.python.org/3.10/library/socket.html#socket.socket.setsockopt) wasn't of much help. This [SO Post](https://stackoverflow.com/questions/14388706/how-do-so-reuseaddr-and-so-reuseport-differ/14388707?utm_source=pocket_saves) touches on this."
   ]
  },
  {
   "cell_type": "code",
   "execution_count": 59,
   "metadata": {},
   "outputs": [
    {
     "data": {
      "text/plain": [
       "(<socket.socket fd=1532, family=AddressFamily.AF_INET, type=SocketKind.SOCK_STREAM, proto=0, laddr=('127.0.0.1', 49334), raddr=('127.0.0.1', 49335)>,\n",
       " <socket.socket fd=1568, family=AddressFamily.AF_INET, type=SocketKind.SOCK_STREAM, proto=0, laddr=('127.0.0.1', 49335), raddr=('127.0.0.1', 49334)>)"
      ]
     },
     "execution_count": 59,
     "metadata": {},
     "output_type": "execute_result"
    }
   ],
   "source": [
    "\n",
    "\n",
    "sock1 = socket.socket(family=AF_INET, type=SOCK_STREAM, proto=0, fileno=None)\n",
    "sock2 = socketpair()\n",
    "sock2"
   ]
  },
  {
   "cell_type": "code",
   "execution_count": 60,
   "metadata": {},
   "outputs": [
    {
     "data": {
      "text/plain": [
       "True"
      ]
     },
     "execution_count": 60,
     "metadata": {},
     "output_type": "execute_result"
    }
   ],
   "source": [
    "socket.has_dualstack_ipv6()"
   ]
  },
  {
   "cell_type": "markdown",
   "metadata": {},
   "source": [
    "#### Multi-connection server and client\n",
    "\n",
    "[Source](https://realpython.com/python-sockets/#reference)\n",
    "\n",
    "This section uses [selectors](https://docs.python.org/3/library/selectors.html) module which I am not even slightly familiar with. Although I can recall that in `asyncio`, the `select()` function is used to select event.\n",
    "\n",
    "So, let us first try to explore `selectors` module to some extent. \n",
    "\n",
    "From [PyMOTW](https://pymotw.com/3/selectors/index.html#module-selectors):\n",
    "\n",
    "The APIs in selectors are event-based, similar to `poll()` from `select`. There are several implementations and the module automatically sets the alias DefaultSelector to refer to the most efficient one for the current system configuration.\n",
    "\n",
    "A selector object provides methods for specifying what events to look for on a socket, and then lets the caller wait for events in a platform-independent way. Registering interest in an event creates a `SelectorKey`, which holds the socket, information about the events of interest, and optional application data. The owner of the selector calls its `select()` method to learn about events. The return value is a sequence of key objects and a bitmask indicating what events have occurred. A program using a selector should repeatedly call `select()`, then handle the events appropriately.\n",
    "\n",
    "The module is fairly small. At its core, it defines a class hiearchy:\n",
    "```\n",
    "BaseSelector\n",
    "+-- SelectSelector\n",
    "+-- PollSelector\n",
    "+-- EpollSelector\n",
    "+-- DevpollSelector\n",
    "+-- KqueueSelector\n",
    "```\n",
    "\n",
    "However, we should use `DefaultSelector` class which is an alias for the best implementation for current platform. There are few terms we'll encounter later whih we should be aware of:\n",
    "\n",
    "\n",
    "**`fileobj`** - File object registered. In the context of socket programming, a `fileobj` is socket object (for ex, an instance of `socket` class). In Unix philosophy, everything (e.g. sokets, pipes, devices and so on) is a file. The same is not true for Windows platform. On Windows, only sockets can be `fileobj`.  \n",
    "\n",
    "\n",
    "**`events`**: An _event_ is a bitwise mask indicating which I/O events should be waited for on a given file object. Occasionally in some codes, term `mask` is also used. It can be a combination of the modules constants below:\n",
    "\n",
    "Constant|Meaning\n",
    "----------|-----\n",
    "`EVENT_READ`| Available for read\n",
    "`EVENT_WRITE`| Available for write\n",
    "\n",
    "**`fd`** Underlying file descriptor. This is essentially a small integer associated with an open file (socket object in the current context) ready for read/write operation. \n",
    "\n",
    "**`data`** Optional opaque data associated to this file object: for example, this could be used to store a per-client session ID.\n",
    "\n",
    "\n",
    "\n",
    "An instance (say `sel`) of `DefaultSelector` class has following main methods available:\n",
    "\n",
    "**Note** - Many of these methods return an instance of `SelectorKey` instance. A `SelectorKey` is a `namedtuple` used to associate a file object to its underlying file descriptor, selected event mask and attached data. `SelectorKey` looks like -\n",
    "\n",
    "`SelectorKey(fileobj=<socket.socket fd=256, family=AddressFamily.AF_INET, type=SocketKind.SOCK_STREAM, proto=0, laddr=('127.0.0.1', 10000)>, fd=256, events=1, data=<function accept at 0x0000003D1690B5E0>)`\n",
    "\n",
    "`sel = selectors.DefaultSelector()`\n",
    "\n",
    "`sel.register(fileobj, events, data=None)`- This returns a new `SelectorKey` instance, or raises a `ValueError` in case of invalid event mask or file descriptor, or `KeyError` if the file object is already registered.\n",
    "\n",
    "\n",
    "`sel.unregister(fileobj)` - Returns the associated `SelectorKey` instance, or raises a `KeyError` if `fileobj` is not registered. \n",
    "\n",
    "`sel.selct(timeout = None)` - This returns a list of `(key, events)` tuples, one for each ready file object. `key` is the `SelectorKey` instance corresponding to a ready file object. events is a bitmask of events ready on this file object.\n",
    "\n",
    "`sel.close()` - Close the selector.\n",
    "\n",
    "\n",
    "#### Echo Server\n",
    "\n",
    "The echo server example below uses the application data in the `SelectorKey` to register a callback function to be invoked on the new event. The main loop gets the callback from the key and passes the socket and event mask to it. As the server starts, it registers the `accept()` function to be called for read events on the main server socket. Accepting the connection produces a new socket, which is then registered with the `read()` function as a callback for read events."
   ]
  },
  {
   "cell_type": "code",
   "execution_count": 86,
   "metadata": {},
   "outputs": [
    {
     "name": "stdout",
     "output_type": "stream",
     "text": [
      "Overwriting selectserver.py\n"
     ]
    }
   ],
   "source": [
    "%%file selectserver.py\n",
    "\n",
    "import selectors\n",
    "import socket\n",
    "\n",
    "mysel = selectors.DefaultSelector()\n",
    "keep_running = True\n",
    "\n",
    "\n",
    "def read(connection):\n",
    "    \"Callback for read events\"\n",
    "    global keep_running\n",
    "\n",
    "    client_address = connection.getpeername()\n",
    "    print('read({})'.format(client_address))\n",
    "    data = connection.recv(1024)\n",
    "    if data:\n",
    "        # A readable client socket has data\n",
    "        print('  received {!r}'.format(data))\n",
    "        connection.sendall(data)\n",
    "    else:\n",
    "        # Interpret empty result as closed connection\n",
    "        print('  closing')\n",
    "        mysel.unregister(connection)\n",
    "        connection.close()\n",
    "        # Tell the main loop to stop\n",
    "        keep_running = False\n",
    "\n",
    "\n",
    "def accept(sock):\n",
    "    \"Callback for new connections\"\n",
    "    new_connection, addr = sock.accept()\n",
    "    print('accept({})'.format(addr))\n",
    "    new_connection.setblocking(False)\n",
    "    mysel.register(new_connection, selectors.EVENT_READ, read)\n",
    "\n",
    "\n",
    "server_address = ('localhost', 10000)\n",
    "print('starting up on {} port {}'.format(*server_address))\n",
    "server = socket.socket(socket.AF_INET, socket.SOCK_STREAM)\n",
    "server.setblocking(False)\n",
    "server.bind(server_address)\n",
    "server.listen(5)\n",
    "\n",
    "mysel.register(server, selectors.EVENT_READ, accept)\n",
    "\n",
    "while keep_running:\n",
    "    print('waiting for I/O')\n",
    "    for key, mask in mysel.select(timeout=1):\n",
    "        print(\"mask is: \", mask)\n",
    "        callback = key.data\n",
    "        callback(key.fileobj)\n",
    "\n",
    "print('shutting down')\n",
    "mysel.close()"
   ]
  },
  {
   "cell_type": "markdown",
   "metadata": {},
   "source": [
    "#### Echo Client\n",
    "\n",
    "The echo client example below processes all of the I/O events in the main loop, instead of using callbacks. It sets up the selector to report read events on the socket, and to report when the socket is ready to send data. Because it is looking at two types of events, the client must check which occurred by examining the mask value. After all of its outgoing data has been sent, it changes the selector configuration to only report when there is data to read."
   ]
  },
  {
   "cell_type": "code",
   "execution_count": 82,
   "metadata": {},
   "outputs": [
    {
     "name": "stdout",
     "output_type": "stream",
     "text": [
      "Writing selectclient.py\n"
     ]
    }
   ],
   "source": [
    "%%file selectclient.py\n",
    "\n",
    "import selectors\n",
    "import socket\n",
    "\n",
    "mysel = selectors.DefaultSelector()\n",
    "keep_running = True\n",
    "outgoing = [b'It will be repeated.', b'This is the message.  ',]\n",
    "bytes_sent = 0\n",
    "bytes_received = 0\n",
    "\n",
    "# Connecting is a blocking operation, so call setblocking()\n",
    "# after it returns.\n",
    "server_address = ('localhost', 10000)\n",
    "print('connecting to {} port {}'.format(*server_address))\n",
    "sock = socket.socket(socket.AF_INET, socket.SOCK_STREAM)\n",
    "sock.connect(server_address)\n",
    "sock.setblocking(False)\n",
    "\n",
    "# Set up the selector to watch for when the socket is ready\n",
    "# to send data as well as when there is data to read.\n",
    "mysel.register(sock,selectors.EVENT_READ | selectors.EVENT_WRITE,)\n",
    "\n",
    "while keep_running:\n",
    "    print('waiting for I/O')\n",
    "    for key, mask in mysel.select(timeout=1):\n",
    "        connection = key.fileobj\n",
    "        client_address = connection.getpeername()\n",
    "        print('client({})'.format(client_address))\n",
    "\n",
    "        if mask & selectors.EVENT_READ:\n",
    "            print('  ready to read')\n",
    "            data = connection.recv(1024)\n",
    "            if data:\n",
    "                # A readable client socket has data\n",
    "                print('  received {!r}'.format(data))\n",
    "                bytes_received += len(data)\n",
    "\n",
    "            # Interpret empty result as closed connection,\n",
    "            # and also close when we have received a copy\n",
    "            # of all of the data sent.\n",
    "            keep_running = not (\n",
    "                data or\n",
    "                (bytes_received and\n",
    "                 (bytes_received == bytes_sent))\n",
    "            )\n",
    "\n",
    "        if mask & selectors.EVENT_WRITE:\n",
    "            print('  ready to write')\n",
    "            if not outgoing:\n",
    "                # We are out of messages, so we no longer need to\n",
    "                # write anything. Change our registration to let\n",
    "                # us keep reading responses from the server.\n",
    "                print('  switching to read-only')\n",
    "                mysel.modify(sock, selectors.EVENT_READ)\n",
    "            else:\n",
    "                # Send the next message.\n",
    "                next_msg = outgoing.pop()\n",
    "                print('  sending {!r}'.format(next_msg))\n",
    "                sock.sendall(next_msg)\n",
    "                bytes_sent += len(next_msg)\n",
    "\n",
    "print('shutting down')\n",
    "mysel.unregister(connection)\n",
    "connection.close()\n",
    "mysel.close()"
   ]
  },
  {
   "cell_type": "markdown",
   "metadata": {},
   "source": [
    "The client tracks the amount of data it has sent, and the amount it has received. When those values match and are non-zero, the client exits the processing loop and cleanly shuts down by removing the socket from the selector and closing both the socket and the selector.\n"
   ]
  },
  {
   "cell_type": "markdown",
   "metadata": {},
   "source": [
    "Output on server:\n",
    "\n",
    "```\n",
    "starting up on localhost port 10000\n",
    "waiting for I/O\n",
    "waiting for I/O\n",
    "accept(('127.0.0.1', 59850))\n",
    "waiting for I/O\n",
    "read(('127.0.0.1', 59850))\n",
    "  received b'This is the message.  It will be repeated.'\n",
    "waiting for I/O\n",
    "read(('127.0.0.1', 59850))\n",
    "  closing\n",
    "shutting down\n",
    "```\n",
    "\n",
    "Output on client:\n",
    "\n",
    "```\n",
    "connecting to localhost port 10000\n",
    "waiting for I/O\n",
    "client(('127.0.0.1', 10000))\n",
    "  ready to write\n",
    "  sending b'This is the message.  '\n",
    "waiting for I/O\n",
    "client(('127.0.0.1', 10000))\n",
    "  ready to write\n",
    "  sending b'It will be repeated.'\n",
    "waiting for I/O\n",
    "client(('127.0.0.1', 10000))\n",
    "  ready to write\n",
    "  switching to read-only\n",
    "waiting for I/O\n",
    "client(('127.0.0.1', 10000))\n",
    "  ready to read\n",
    "  received b'This is the message.  It will be repeated.'\n",
    "shutting down\n",
    "```\n"
   ]
  },
  {
   "cell_type": "markdown",
   "metadata": {},
   "source": [
    "Alternatively, you can only run `selectserver.py` and use `telnet localhost 10000` command in 2 separate terminal windows. You can see server is able to connect (and respond) to both clients. "
   ]
  },
  {
   "cell_type": "markdown",
   "metadata": {},
   "source": [
    "[Source for following example](https://realpython.com/python-sockets/#reference)\n"
   ]
  },
  {
   "cell_type": "code",
   "execution_count": 92,
   "metadata": {},
   "outputs": [
    {
     "name": "stdout",
     "output_type": "stream",
     "text": [
      "Overwriting multiconnserver.py\n"
     ]
    }
   ],
   "source": [
    "%%file multiconnserver.py\n",
    "\n",
    "import sys\n",
    "import socket\n",
    "import selectors\n",
    "import types\n",
    "\n",
    "sel = selectors.DefaultSelector()\n",
    "\n",
    "\n",
    "def accept_wrapper(sock):\n",
    "    conn, addr = sock.accept()  # Should be ready to read\n",
    "    print(f\"Accepted connection from {addr}\")\n",
    "    conn.setblocking(False)\n",
    "    data = types.SimpleNamespace(addr=addr, inb=b\"\", outb=b\"\")\n",
    "    events = selectors.EVENT_READ | selectors.EVENT_WRITE\n",
    "    sel.register(conn, events, data=data)\n",
    "\n",
    "\n",
    "def service_connection(key, mask):\n",
    "    sock = key.fileobj\n",
    "    data = key.data\n",
    "    if mask & selectors.EVENT_READ:\n",
    "        recv_data = sock.recv(1024)  # Should be ready to read\n",
    "        if recv_data:\n",
    "            data.outb += recv_data\n",
    "        else:\n",
    "            print(f\"Closing connection to {data.addr}\")\n",
    "            sel.unregister(sock)\n",
    "            sock.close()\n",
    "    if mask & selectors.EVENT_WRITE:\n",
    "        if data.outb:\n",
    "            print(f\"Echoing {data.outb!r} to {data.addr}\")\n",
    "            sent = sock.send(data.outb)  # Should be ready to write\n",
    "            data.outb = data.outb[sent:]\n",
    "\n",
    "\n",
    "if len(sys.argv) != 3:\n",
    "    print(f\"Usage: {sys.argv[0]} <host> <port>\")\n",
    "    sys.exit(1)\n",
    "\n",
    "host, port = sys.argv[1], int(sys.argv[2])\n",
    "lsock = socket.socket(socket.AF_INET, socket.SOCK_STREAM)\n",
    "lsock.bind((host, port))\n",
    "lsock.listen()\n",
    "print(f\"Listening on {(host, port)}\")\n",
    "lsock.setblocking(False)\n",
    "sel.register(lsock, selectors.EVENT_READ, data=None)\n",
    "\n",
    "try:\n",
    "    while True:\n",
    "        events = sel.select(timeout=None)\n",
    "        for key, mask in events:\n",
    "            if key.data is None:\n",
    "                accept_wrapper(key.fileobj)\n",
    "            else:\n",
    "                service_connection(key, mask)\n",
    "except KeyboardInterrupt:\n",
    "    print(\"Caught keyboard interrupt, exiting\")\n",
    "finally:\n",
    "    sel.close()"
   ]
  },
  {
   "cell_type": "code",
   "execution_count": 91,
   "metadata": {},
   "outputs": [
    {
     "name": "stdout",
     "output_type": "stream",
     "text": [
      "Overwriting multiconnclient.py\n"
     ]
    }
   ],
   "source": [
    "%%file multiconnclient.py\n",
    "\n",
    "import sys\n",
    "import socket\n",
    "import selectors\n",
    "import types\n",
    "\n",
    "sel = selectors.DefaultSelector()\n",
    "messages = [b\"Message 1 from client.\", b\"Message 2 from client.\"]\n",
    "\n",
    "\n",
    "def start_connections(host, port, num_conns):\n",
    "    server_addr = (host, port)\n",
    "    for i in range(0, num_conns):\n",
    "        connid = i + 1\n",
    "        print(f\"Starting connection {connid} to {server_addr}\")\n",
    "        sock = socket.socket(socket.AF_INET, socket.SOCK_STREAM)\n",
    "        sock.setblocking(False)\n",
    "        sock.connect_ex(server_addr)\n",
    "        events = selectors.EVENT_READ | selectors.EVENT_WRITE\n",
    "        data = types.SimpleNamespace(\n",
    "            connid=connid,\n",
    "            msg_total=sum(len(m) for m in messages),\n",
    "            recv_total=0,\n",
    "            messages=messages.copy(),\n",
    "            outb=b\"\",\n",
    "        )\n",
    "        sel.register(sock, events, data=data)\n",
    "\n",
    "\n",
    "def service_connection(key, mask):\n",
    "    sock = key.fileobj\n",
    "    data = key.data\n",
    "    if mask & selectors.EVENT_READ:\n",
    "        recv_data = sock.recv(1024)  # Should be ready to read\n",
    "        if recv_data:\n",
    "            print(f\"Received {recv_data!r} from connection {data.connid}\")\n",
    "            data.recv_total += len(recv_data)\n",
    "        if not recv_data or data.recv_total == data.msg_total:\n",
    "            print(f\"Closing connection {data.connid}\")\n",
    "            sel.unregister(sock)\n",
    "            sock.close()\n",
    "    if mask & selectors.EVENT_WRITE:\n",
    "        if not data.outb and data.messages:\n",
    "            data.outb = data.messages.pop(0)\n",
    "        if data.outb:\n",
    "            print(f\"Sending {data.outb!r} to connection {data.connid}\")\n",
    "            sent = sock.send(data.outb)  # Should be ready to write\n",
    "            data.outb = data.outb[sent:]\n",
    "\n",
    "\n",
    "if len(sys.argv) != 4:\n",
    "    print(f\"Usage: {sys.argv[0]} <host> <port> <num_connections>\")\n",
    "    sys.exit(1)\n",
    "\n",
    "host, port, num_conns = sys.argv[1:4]\n",
    "start_connections(host, int(port), int(num_conns))\n",
    "\n",
    "try:\n",
    "    while True:\n",
    "        events = sel.select(timeout=1)\n",
    "        if events:\n",
    "            for key, mask in events:\n",
    "                service_connection(key, mask)\n",
    "        # Check for a socket being monitored to continue.\n",
    "        if not sel.get_map():\n",
    "            break\n",
    "except KeyboardInterrupt:\n",
    "    print(\"Caught keyboard interrupt, exiting\")\n",
    "finally:\n",
    "    sel.close()\n",
    "\n"
   ]
  },
  {
   "cell_type": "markdown",
   "metadata": {},
   "source": [
    "Following is just a test program written by me to experiment. "
   ]
  },
  {
   "cell_type": "code",
   "execution_count": 78,
   "metadata": {
    "scrolled": true
   },
   "outputs": [
    {
     "name": "stdout",
     "output_type": "stream",
     "text": [
      "Overwriting testserver.py\n"
     ]
    }
   ],
   "source": [
    "%%file testserver.py\n",
    "\n",
    "from socket import *\n",
    "\n",
    "sock = socket(AF_INET, SOCK_STREAM)\n",
    "sock.bind(('localhost',11000))\n",
    "print(sock.getsockname())\n",
    "sock.listen(2)\n",
    "\n",
    "while True:\n",
    "    conn, addr = sock.accept()\n",
    "    print(\"connected to: \", addr)\n",
    "    while True:\n",
    "        msg = conn.recv(1024)\n",
    "        print(\"received msg: \", msg)\n",
    "        if msg:\n",
    "            conn.sendall(msg)\n",
    "            print('msg sent: ', msg)\n",
    "        else:\n",
    "            sock.close()\n",
    "            break\n",
    "            "
   ]
  },
  {
   "cell_type": "code",
   "execution_count": 89,
   "metadata": {},
   "outputs": [
    {
     "name": "stdout",
     "output_type": "stream",
     "text": [
      "Overwriting testclient.py\n"
     ]
    }
   ],
   "source": [
    "%%file testclient.py\n",
    "\n",
    "from socket import *\n",
    "\n",
    "sock = socket(AF_INET, SOCK_STREAM)\n",
    "a = sock.connect(('localhost',11000))\n",
    "print(a)\n",
    "print(sock.getsockname())\n",
    "\n",
    "while True:\n",
    "    inp = input(\"message to be sent: - \")\n",
    "    if not inp:\n",
    "        break\n",
    "    binp = inp.encode('ascii')\n",
    "    sock.sendall(binp)\n",
    "    print(\"message sent: \", binp)\n",
    "    a = sock.recv(1024)\n",
    "    print(\"message received: \", a)\n",
    "    \n",
    "\n",
    "sock.close()"
   ]
  },
  {
   "cell_type": "code",
   "execution_count": null,
   "metadata": {},
   "outputs": [],
   "source": []
  }
 ],
 "metadata": {
  "kernelspec": {
   "display_name": "Python 3 (ipykernel)",
   "language": "python",
   "name": "python3"
  },
  "language_info": {
   "codemirror_mode": {
    "name": "ipython",
    "version": 3
   },
   "file_extension": ".py",
   "mimetype": "text/x-python",
   "name": "python",
   "nbconvert_exporter": "python",
   "pygments_lexer": "ipython3",
   "version": "3.9.7"
  }
 },
 "nbformat": 4,
 "nbformat_minor": 2
}
