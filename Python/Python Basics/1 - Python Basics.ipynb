{
 "cells": [
  {
   "cell_type": "markdown",
   "metadata": {},
   "source": [
    "#### Some Excrepts from Python Documentations\n",
    "\n",
    "##### Data Model\n",
    "\n",
    "Objects are Python’s abstraction for data. All data in a Python program is represented by objects or by\n",
    "relations between objects. (In a sense, and in conformance to Von Neumann’s model of a “stored program\n",
    "computer,” code is also represented by objects.)\n",
    "Every object has an identity, a type and a value. An object’s identity never changes once it has been created;\n",
    "you may think of it as the object’s address in memory. The `is` operator compares the identity of two\n",
    "objects; the `id()` function returns an integer representing its identity.\n",
    "\n",
    "---\n",
    "(*following section hints what we mean by mutability*)\n",
    "\n",
    "An object’s type determines the operations that the object supports (e.g., “does it have a length?”) and also\n",
    "defines the possible values for objects of that type. The `type()` function returns an object’s type (which is\n",
    "an object itself). Like its identity, an object’s type is also unchangeable.1\n",
    "The value of some objects can change. Objects whose value can change are said to be mutable; objects\n",
    "whose value is unchangeable once they are created are called immutable. (The value of an immutable\n",
    "container object that contains a reference to a mutable object can change when the latter’s value is changed;\n",
    "however the container is still considered immutable, because the collection of objects it contains cannot be\n",
    "changed. So, immutability is not strictly the same as having an unchangeable value, it is more subtle.) An\n",
    "object’s mutability is determined by its type; for instance, numbers, strings and tuples are immutable, while\n",
    "dictionaries and lists are mutable.\n",
    "Objects are never explicitly destroyed; however, when they become unreachable they may be garbagecollected.\n",
    "An implementation is allowed to postpone garbage collection or omit it altogether — it is a\n",
    "matter of implementation quality how garbage collection is implemented, as long as no objects are collected\n",
    "that are still reachable.\n",
    "\n",
    "---\n",
    "...Some objects contain references to other objects; these are called containers. Examples of containers are\n",
    "tuples, lists and dictionaries. The references are part of a container’s value. In most cases, when we talk\n",
    "about the value of a container, we imply the values, not the identities of the contained objects; however,\n",
    "when we talk about the mutability of a container, only the identities of the immediately contained objects\n",
    "are implied. So, if an immutable container (like a tuple) contains a reference to a mutable object, its value\n",
    "changes if that mutable object is changed.\n",
    "\n",
    "-----\n",
    "Types affect almost all aspects of object behavior. Even the importance of object identity is affected in\n",
    "some sense: for immutable types, operations that compute new values may actually return a reference to\n",
    "any existing object with the same type and value, while for mutable objects this is not allowed. **E.g., after\n",
    "`a = 1`; `b = 1`, `a` and `b` may or may not refer to the same object with the value one, depending on the\n",
    "implementation, but after `c = []; d = []`, `c` and `d` are guaranteed to refer to two different, unique, newly\n",
    "created empty lists. (Note that `c = d = []` assigns the same object to both `c` and `d`.)**"
   ]
  },
  {
   "cell_type": "code",
   "execution_count": 1,
   "metadata": {},
   "outputs": [
    {
     "data": {
      "text/plain": [
       "True"
      ]
     },
     "execution_count": 1,
     "metadata": {},
     "output_type": "execute_result"
    }
   ],
   "source": [
    "a = 1\n",
    "b = 1\n",
    "a is b"
   ]
  },
  {
   "cell_type": "code",
   "execution_count": 2,
   "metadata": {},
   "outputs": [
    {
     "data": {
      "text/plain": [
       "False"
      ]
     },
     "execution_count": 2,
     "metadata": {},
     "output_type": "execute_result"
    }
   ],
   "source": [
    "a = []\n",
    "b = []\n",
    "\n",
    "a is b"
   ]
  },
  {
   "cell_type": "code",
   "execution_count": 3,
   "metadata": {},
   "outputs": [
    {
     "data": {
      "text/plain": [
       "True"
      ]
     },
     "execution_count": 3,
     "metadata": {},
     "output_type": "execute_result"
    }
   ],
   "source": [
    "a = b = []\n",
    "a is b"
   ]
  },
  {
   "cell_type": "code",
   "execution_count": 4,
   "metadata": {},
   "outputs": [
    {
     "data": {
      "text/plain": [
       "(140719143124184, 140719143073896)"
      ]
     },
     "execution_count": 4,
     "metadata": {},
     "output_type": "execute_result"
    }
   ],
   "source": [
    "id(None), id(True)"
   ]
  },
  {
   "cell_type": "code",
   "execution_count": 5,
   "metadata": {},
   "outputs": [
    {
     "data": {
      "text/plain": [
       "140719143124184"
      ]
     },
     "execution_count": 5,
     "metadata": {},
     "output_type": "execute_result"
    }
   ],
   "source": [
    "id(None)"
   ]
  },
  {
   "cell_type": "markdown",
   "metadata": {
    "collapsed": true
   },
   "source": [
    "#### VARIABLES"
   ]
  },
  {
   "cell_type": "markdown",
   "metadata": {},
   "source": [
    "This section is almost completely copied from Whirlwind Tour of Python because it was so good.\n",
    "Python Variables Are Pointers - Assigning variables in Python is as easy as putting a variable name to the left of the equals (``=``) sign:\n",
    "```python\n",
    "# assign 4 to the variable x\n",
    "x = 4\n",
    "```\n",
    "\n",
    "This may seem straightforward, but if you have the wrong mental model of what this operation does, the way Python works may seem confusing. We'll briefly dig into that here.\n",
    "\n",
    "In many programming languages, variables are best thought of as containers or buckets into which you put data.\n",
    "So in C, for example, when you write\n",
    "```\n",
    "// C code\n",
    "int x = 4;\n",
    "```\n",
    "you are essentially defining a \"memory bucket\" named ``x``, and putting the value ``4`` into it. In Python, by contrast, variables are best thought of not as containers but as pointers. So in Python, when you write\n",
    "```python\n",
    "x = 4\n",
    "```\n",
    "you are essentially defining a *pointer* named ``x`` that points to some other bucket containing the value ``4``.\n",
    "Note one consequence of this: because Python variables just point to various objects, there is no need to \"declare\" the variable, or even require the variable to always point to information of the same type! This is the sense in which  people say Python is *dynamically-typed*: variable names can point to objects of any type. So in Python, you can do things like this:\n",
    "```python\n",
    "x = 1         # x is an integer\n",
    "x = 'hello'   # now x is a string\n",
    "x = [1, 2, 3] # now x is a list\n",
    "```\n",
    "While users of statically-typed languages might miss the type-safety that comes with declarations like those found in C,\n",
    "```\n",
    "int x = 4;\n",
    "```\n",
    "this dynamic typing is one of the pieces that makes Python so quick to write and easy to read. There is a consequence of this \"variable as pointer\" approach that you need to be aware of.\n",
    "\n",
    "If we have two variable names pointing to the same *mutable* object, then changing one will change the other as well! For example, let's create and modify a list:\n",
    "\n",
    "```python\n",
    "x = [1, 2, 3]\n",
    "y = x\n",
    "```\n",
    "We've created two variables ``x`` and ``y`` which both point to the same object. Because of this, if we modify the list via one of its names, we'll see that the \"other\" list will be modified as well:\n",
    "\n",
    "```python\n",
    "print(y)       #output – [1,2,3]\n",
    "x.append(4)    # append 4 to the list pointed to by x\n",
    "print(y)       #output – [1,2,3,4] y's list is modified as well!\n",
    "```\n",
    "\n",
    "This behavior might seem confusing if you're wrongly thinking of variables as buckets that contain data. But if you're correctly thinking of variables as pointers to objects, then this behavior makes sense.\n",
    "Note also that if we use \"``=``\" to assign another value to ``x``, this will not affect the value of ``y`` – assignment is simply a change of what object the variable points to:\n",
    "\n",
    "```python\n",
    "x = 'something else'\n",
    "print(y)  # y is unchanged\n",
    "```\n",
    "Again, this makes perfect sense if you think of ``x`` and ``y`` as pointers, and the \"``=``\" operator as an operation that changes what the name points to.\n",
    "\n",
    "Numbers, strings, and other *simple types* are immutable: you can't change their value – you can only change what values the variables point to. So, for example, it's perfectly safe to do operations like the following:\n",
    "```python\n",
    "x = 10\n",
    "y = x\n",
    "x += 5  # add 5 to x's value, and assign it to x\n",
    "print(\"x =\", x) #x=15\n",
    "print(\"y =\", y) #y=10\n",
    "```\n",
    "When we call ``x += 5``, we are not modifying the value of the ``10`` object pointed to by ``x``; we are rather changing the variable ``x`` so that it points to a new integer object with value ``15``. For this reason, the value of ``y`` is not affected by the operation.\n"
   ]
  },
  {
   "cell_type": "code",
   "execution_count": 6,
   "metadata": {},
   "outputs": [
    {
     "data": {
      "text/plain": [
       "True"
      ]
     },
     "execution_count": 6,
     "metadata": {},
     "output_type": "execute_result"
    }
   ],
   "source": [
    "x = [1,2,3]\n",
    "y = x\n",
    "id(y) == id(x) # both variable referencing to same object"
   ]
  },
  {
   "cell_type": "code",
   "execution_count": 7,
   "metadata": {},
   "outputs": [
    {
     "data": {
      "text/plain": [
       "(1034201892864, 1034116557104)"
      ]
     },
     "execution_count": 7,
     "metadata": {},
     "output_type": "execute_result"
    }
   ],
   "source": [
    "id(y), id(y[0])"
   ]
  },
  {
   "cell_type": "code",
   "execution_count": 8,
   "metadata": {},
   "outputs": [
    {
     "data": {
      "text/plain": [
       "1034116557104"
      ]
     },
     "execution_count": 8,
     "metadata": {},
     "output_type": "execute_result"
    }
   ],
   "source": [
    "z = 1\n",
    "id(z) #note object represented by variable y[0] from above has been reused here. "
   ]
  },
  {
   "cell_type": "code",
   "execution_count": 9,
   "metadata": {},
   "outputs": [
    {
     "data": {
      "text/plain": [
       "(1034116557392, 1034116557392)"
      ]
     },
     "execution_count": 9,
     "metadata": {},
     "output_type": "execute_result"
    }
   ],
   "source": [
    "x =10\n",
    "y =x\n",
    "id(y), id(x)"
   ]
  },
  {
   "cell_type": "code",
   "execution_count": 10,
   "metadata": {},
   "outputs": [
    {
     "data": {
      "text/plain": [
       "(1034116557392, 1034116557552)"
      ]
     },
     "execution_count": 10,
     "metadata": {},
     "output_type": "execute_result"
    }
   ],
   "source": [
    "x+=5\n",
    "id(y), id(x) #now x is pointing to new object altogether, y is still pointing to old object"
   ]
  },
  {
   "cell_type": "markdown",
   "metadata": {},
   "source": [
    "#### Everything is an Object"
   ]
  },
  {
   "cell_type": "markdown",
   "metadata": {},
   "source": [
    "Python is an object-oriented programming language, and in Python everything is an object.\n",
    "Let's flesh-out what this means. Earlier we saw that variables are simply pointers, and the variable names themselves have no attached type information. This leads some to claim erroneously that Python is a type-free language. But this is not the case!\n",
    "Consider the following:\n",
    "```python\n",
    "x = 4\n",
    "type(x) #int\n",
    "x = 'hello'\n",
    "type(x) #str\n",
    "x = 3.14159\n",
    "type(x) #float\n",
    "```\n",
    "\n",
    "Python has types; however, the types are linked not to the variable names but *to the objects themselves*. In object-oriented programming languages like Python, an *object* is an entity that contains data along with associated metadata and/or functionality.\n",
    "\n",
    "In Python everything is an object, which means every entity has some metadata (called *attributes*) and associated functionality (called *methods*). These attributes and methods are accessed via the dot syntax.\n",
    "For example, before we saw that lists have an ``append`` method, which adds an item to the list, and is accessed via the dot \n",
    "(\"``.``\") syntax:\n",
    "```python\n",
    "L = [1, 2, 3]\n",
    "L.append(100)\n",
    "print(L)     # L = [1, 2, 3, 100]\n",
    "```\n",
    "While it might be expected for compound objects like lists to have attributes and methods, what is sometimes unexpected is that in Python even simple types have attached attributes and methods. For example, numerical types have a ``real`` and ``imag`` attribute that returns the real and imaginary part of the value, if viewed as a complex number:  x \n",
    "```python\n",
    "x = 4.5\n",
    "print(x.real, \"+\", x.imag, 'i')  # 4.5 + 0.0i\n",
    "```\n",
    "Methods are like attributes, except they are functions that you can call using opening and closing parentheses. For example, floating point numbers have a method called ``is_integer`` that checks whether the value is an integer:\n",
    "```python\n",
    "x = 4.5\n",
    "x.is_integer() #False\n",
    "x = 4.0\n",
    "x.is_integer() #True\n",
    "```\n",
    "\n",
    "When we say that everything in Python is an object, we really mean that *everything* is an object – even the attributes and methods of objects are themselves objects with their own ``type`` information:\n",
    "```python\n",
    "type(x.is_integer)       #builtin_function_or_method\n",
    "```"
   ]
  },
  {
   "cell_type": "markdown",
   "metadata": {},
   "source": [
    "####  Python `int` type\n",
    "\n",
    "Python integers are actually quite a bit more sophisticated than integers in languages like C. C integers are fixed-precision, and usually overflow at some value (often near 231231 or 263263, depending on your system). Python integers are variable-precision, so you can do computations that would overflow in other languages:\n"
   ]
  },
  {
   "cell_type": "code",
   "execution_count": 11,
   "metadata": {},
   "outputs": [
    {
     "data": {
      "text/plain": [
       "19950631168807583848837421626835850838234968318861924548520089498529438830221946631919961684036194597899331129423209124271556491349413781117593785932096323957855730046793794526765246551266059895520550086918193311542508608460618104685509074866089624888090489894838009253941633257850621568309473902556912388065225096643874441046759871626985453222868538161694315775629640762836880760732228535091641476183956381458969463899410840960536267821064621427333394036525565649530603142680234969400335934316651459297773279665775606172582031407994198179607378245683762280037302885487251900834464581454650557929601414833921615734588139257095379769119277800826957735674444123062018757836325502728323789270710373802866393031428133241401624195671690574061419654342324638801248856147305207431992259611796250130992860241708340807605932320161268492288496255841312844061536738951487114256315111089745514203313820202931640957596464756010405845841566072044962867016515061920631004186422275908670900574606417856951911456055068251250406007519842261898059237118054444788072906395242548339221982707404473162376760846613033778706039803413197133493654622700563169937455508241780972810983291314403571877524768509857276937926433221599399876886660808368837838027643282775172273657572744784112294389733810861607423253291974813120197604178281965697475898164531258434135959862784130128185406283476649088690521047580882615823961985770122407044330583075869039319604603404973156583208672105913300903752823415539745394397715257455290510212310947321610753474825740775273986348298498340756937955646638621874569499279016572103701364433135817214311791398222983845847334440270964182851005072927748364550578634501100852987812389473928699540834346158807043959118985815145779177143619698728131459483783202081474982171858011389071228250905826817436220577475921417653715687725614904582904992461028630081535583308130101987675856234343538955409175623400844887526162643568648833519463720377293240094456246923254350400678027273837755376406726898636241037491410966718557050759098100246789880178271925953381282421954028302759408448955014676668389697996886241636313376393903373455801407636741877711055384225739499110186468219696581651485130494222369947714763069155468217682876200362777257723781365331611196811280792669481887201298643660768551639860534602297871557517947385246369446923087894265948217008051120322365496288169035739121368338393591756418733850510970271613915439590991598154654417336311656936031122249937969999226781732358023111862644575299135758175008199839236284615249881088960232244362173771618086357015468484058622329792853875623486556440536962622018963571028812361567512543338303270029097668650568557157505516727518899194129711337690149916181315171544007728650573189557450920330185304847113818315407324053319038462084036421763703911550639789000742853672196280903477974533320468368795868580237952218629120080742819551317948157624448298518461509704888027274721574688131594750409732115080498190455803416826949787141316063210686391511681774304792596709376"
      ]
     },
     "execution_count": 11,
     "metadata": {},
     "output_type": "execute_result"
    }
   ],
   "source": [
    "2**10000"
   ]
  },
  {
   "cell_type": "markdown",
   "metadata": {},
   "source": [
    "### Aside: Floating Point Precision\n",
    "\n",
    "One thing to be aware of with floating point arithmetic is that its precision is limited, which can cause equality tests to be unstable. For example:"
   ]
  },
  {
   "cell_type": "code",
   "execution_count": 39,
   "metadata": {},
   "outputs": [
    {
     "data": {
      "text/plain": [
       "True"
      ]
     },
     "execution_count": 39,
     "metadata": {},
     "output_type": "execute_result"
    }
   ],
   "source": [
    "float(2**53) == float(2**53) + 1"
   ]
  },
  {
   "cell_type": "code",
   "execution_count": 2,
   "metadata": {},
   "outputs": [
    {
     "data": {
      "text/plain": [
       "0.30000000000000004"
      ]
     },
     "execution_count": 2,
     "metadata": {},
     "output_type": "execute_result"
    }
   ],
   "source": [
    ".1 + .2\n"
   ]
  },
  {
   "cell_type": "markdown",
   "metadata": {},
   "source": [
    "Why is this the case? It turns out that it is not a behavior unique to Python, but is due to the fixed-precision format of the binary floating-point storage used by most, if not all, scientific computing platforms. All programming languages using floating-point numbers store them in a fixed number of bits, and this leads some numbers to be represented only approximately. We can see this by printing the three values to high precision:\n"
   ]
  },
  {
   "cell_type": "code",
   "execution_count": 3,
   "metadata": {},
   "outputs": [
    {
     "name": "stdout",
     "output_type": "stream",
     "text": [
      "0.1 = 0.10000000000000001\n",
      "0.2 = 0.20000000000000001\n",
      "0.3 = 0.29999999999999999\n"
     ]
    }
   ],
   "source": [
    "print(\"0.1 = {0:.17f}\".format(0.1))\n",
    "print(\"0.2 = {0:.17f}\".format(0.2))\n",
    "print(\"0.3 = {0:.17f}\".format(0.3))"
   ]
  },
  {
   "cell_type": "markdown",
   "metadata": {},
   "source": [
    "We're accustomed to thinking of numbers in decimal (base-10) notation, so that each fraction must be expressed as a sum of powers of 10:\n",
    "$$\n",
    "1 /8 = 1\\cdot 10^{-1} + 2\\cdot 10^{-2} + 5\\cdot 10^{-3}\n",
    "$$\n",
    "In the familiar base-10 representation, we represent this in the familiar decimal expression: $0.125$.\n",
    "\n",
    "Computers usually store values in binary notation, so that each number is expressed as a sum of powers of 2:\n",
    "$$\n",
    "1/8 = 0\\cdot 2^{-1} + 0\\cdot 2^{-2} + 1\\cdot 2^{-3}\n",
    "$$\n",
    "In a base-2 representation, we can write this $0.001_2$, where the subscript 2 indicates binary notation.\n",
    "The value $0.125 = 0.001_2$ happens to be one number which both binary and decimal notation can represent in a finite number of digits.\n",
    "\n",
    "In the familiar base-10 representation of numbers, you are probably familiar with numbers that can't be expressed in a finite number of digits.\n",
    "For example, dividing $1$ by $3$ gives, in standard decimal notation:\n",
    "$$\n",
    "1 / 3 = 0.333333333\\cdots\n",
    "$$\n",
    "The 3s go on forever: that is, to truly represent this quotient, the number of required digits is infinite!\n",
    "\n",
    "Similarly, there are numbers for which binary representations require an infinite number of digits.\n",
    "For example:\n",
    "$$\n",
    "1 / 10 = 0.00011001100110011\\cdots_2\n",
    "$$\n",
    "Just as decimal notation requires an infinite number of digits to perfectly represent $1/3$, binary notation requires an infinite number of digits to represent $1/10$.\n",
    "Python internally truncates these representations at 52 bits beyond the first nonzero bit on most systems.\n",
    "\n",
    "This rounding error for floating-point values is a necessary evil of working with floating-point numbers.\n",
    "The best way to deal with it is to always keep in mind that floating-point arithmetic is approximate, and *never* rely on exact equality tests with floating-point values."
   ]
  },
  {
   "cell_type": "markdown",
   "metadata": {},
   "source": [
    "#### LOOP & CONDITIONS"
   ]
  },
  {
   "cell_type": "markdown",
   "metadata": {},
   "source": [
    "#### `if-else-elif` condition"
   ]
  },
  {
   "cell_type": "code",
   "execution_count": 6,
   "metadata": {},
   "outputs": [
    {
     "name": "stdout",
     "output_type": "stream",
     "text": [
      "Fine\n"
     ]
    }
   ],
   "source": [
    "value  =  5\n",
    "\n",
    "if value < 6:\n",
    "    print('Fine')"
   ]
  },
  {
   "cell_type": "code",
   "execution_count": 7,
   "metadata": {},
   "outputs": [
    {
     "name": "stdout",
     "output_type": "stream",
     "text": [
      "value is just enough\n"
     ]
    }
   ],
   "source": [
    "if value >7:\n",
    "    print(\"value is big\")\n",
    "else:\n",
    "    print(\"value is just enough\")\n",
    "    "
   ]
  },
  {
   "cell_type": "code",
   "execution_count": 8,
   "metadata": {},
   "outputs": [
    {
     "name": "stdout",
     "output_type": "stream",
     "text": [
      "value is just enough\n"
     ]
    }
   ],
   "source": [
    "if value >7:\n",
    "    print(\"value is big\")\n",
    "elif value < 3:\n",
    "    print(\"value is small\")\n",
    "else:  \n",
    "    print(\"value is just enough\")\n",
    "    "
   ]
  },
  {
   "cell_type": "code",
   "execution_count": 9,
   "metadata": {},
   "outputs": [
    {
     "name": "stdout",
     "output_type": "stream",
     "text": [
      "value is in container\n"
     ]
    }
   ],
   "source": [
    "if value in [2,3,4,5,6]:\n",
    "    print(\"value is in container\")"
   ]
  },
  {
   "cell_type": "markdown",
   "metadata": {},
   "source": [
    "#### `while` loop\n"
   ]
  },
  {
   "cell_type": "code",
   "execution_count": 1,
   "metadata": {},
   "outputs": [
    {
     "name": "stdout",
     "output_type": "stream",
     "text": [
      "0\n",
      "1\n",
      "2\n",
      "3\n",
      "4\n",
      "5\n"
     ]
    }
   ],
   "source": [
    "a = 0\n",
    "while a <6:\n",
    "    print(a)\n",
    "    a+=1\n"
   ]
  },
  {
   "cell_type": "markdown",
   "metadata": {},
   "source": [
    "#### `for` loop\n",
    "\n",
    "Runs a block of code for each element in a given sequence "
   ]
  },
  {
   "cell_type": "code",
   "execution_count": 3,
   "metadata": {},
   "outputs": [
    {
     "name": "stdout",
     "output_type": "stream",
     "text": [
      "1\n",
      "4\n",
      "9\n",
      "16\n"
     ]
    }
   ],
   "source": [
    "values = [1,2,3,4]\n",
    "\n",
    "for i in values:\n",
    "    print(i*i)"
   ]
  },
  {
   "cell_type": "code",
   "execution_count": 5,
   "metadata": {},
   "outputs": [
    {
     "name": "stdout",
     "output_type": "stream",
     "text": [
      "1\n",
      "3\n",
      "4\n"
     ]
    }
   ],
   "source": [
    "for i in range(1,5):\n",
    "    if i == 2:\n",
    "        pass\n",
    "    else:\n",
    "        print(i)"
   ]
  },
  {
   "cell_type": "markdown",
   "metadata": {},
   "source": [
    "#### `while-else-break` loop\n",
    "\n",
    "Run example given below. Notice two things. First, notice `else` clause is associated with `while` clause. Second, notice `break` statement and how it affects the execution of `else` clause. `else` clause is run only when `break` statement is not executed. "
   ]
  },
  {
   "cell_type": "code",
   "execution_count": 12,
   "metadata": {},
   "outputs": [
    {
     "name": "stdout",
     "output_type": "stream",
     "text": [
      "input your name in small letters:\n",
      "SDFD\n",
      "input your name in small letters:\n",
      "DFASD\n",
      "Sorry!\n"
     ]
    }
   ],
   "source": [
    "a = 1\n",
    "while (a < 3):\n",
    "    string =  input(\"input your name in small letters:\\n\")\n",
    "    if string == 'mayank':\n",
    "        print(\"Hi %s\" %string) \n",
    "        break\n",
    "    a = a + 1\n",
    "\n",
    "else:\n",
    "    print(\"Sorry!\")"
   ]
  },
  {
   "cell_type": "markdown",
   "metadata": {},
   "source": [
    "#### `while-continue` loop"
   ]
  },
  {
   "cell_type": "code",
   "execution_count": 13,
   "metadata": {},
   "outputs": [
    {
     "name": "stdout",
     "output_type": "stream",
     "text": [
      "0\n",
      "1\n",
      "3\n",
      "4\n",
      "5\n"
     ]
    }
   ],
   "source": [
    "n = -1\n",
    "while n < 5:\n",
    "\tn =  n + 1\n",
    "\tif n == 2:\n",
    "\t\tcontinue\n",
    "\tprint(n)\n"
   ]
  },
  {
   "cell_type": "markdown",
   "metadata": {},
   "source": [
    "`continue` makes program do nothing for current iteration, rather it makes program to jump to next iteration."
   ]
  },
  {
   "cell_type": "markdown",
   "metadata": {},
   "source": [
    "#### `while-true`"
   ]
  },
  {
   "cell_type": "code",
   "execution_count": 14,
   "metadata": {},
   "outputs": [
    {
     "name": "stdout",
     "output_type": "stream",
     "text": [
      "> KK\n",
      "> HALT\n",
      "> halt\n",
      "halt\n",
      "Done\n"
     ]
    }
   ],
   "source": [
    "while True:\n",
    "    line = input('> ')\n",
    "    if line == 'halt':\n",
    "        print(line)\n",
    "        break            \n",
    "print('Done')\t\n"
   ]
  },
  {
   "cell_type": "markdown",
   "metadata": {},
   "source": [
    "`while True` introduces infinite loop. It only stops when `break` is executed."
   ]
  },
  {
   "cell_type": "code",
   "execution_count": 15,
   "metadata": {},
   "outputs": [
    {
     "name": "stdout",
     "output_type": "stream",
     "text": [
      "6\n"
     ]
    }
   ],
   "source": [
    "listing = [1,2,3,6,8]\n",
    "for i in listing:\n",
    "    if i == 6:\n",
    "        print(i)\n",
    "        break    \n",
    "else:\n",
    "    print('not there')  \n"
   ]
  },
  {
   "cell_type": "markdown",
   "metadata": {},
   "source": [
    "Again, in above example, `else` is associated with `for` clause and it is executed if `break` is not executed."
   ]
  },
  {
   "cell_type": "markdown",
   "metadata": {},
   "source": [
    "### `any()` and `all()`\n",
    "\n",
    "<br>\n",
    "\n",
    "`any(iterable)` \n",
    "\n",
    "Returns `True` if any value in iterable is `True`. If iterable is empty, it returns `False`."
   ]
  },
  {
   "cell_type": "code",
   "execution_count": 11,
   "metadata": {},
   "outputs": [
    {
     "data": {
      "text/plain": [
       "(True, False, False)"
      ]
     },
     "execution_count": 11,
     "metadata": {},
     "output_type": "execute_result"
    }
   ],
   "source": [
    "any([True, False, False, False]), any([]), any([0,0,0,0,0])"
   ]
  },
  {
   "cell_type": "markdown",
   "metadata": {},
   "source": [
    "`all(iterable)`\n",
    "\n",
    "Returns `True` if all values in iterable are `True`. Empty iterable returns `True`."
   ]
  },
  {
   "cell_type": "code",
   "execution_count": 14,
   "metadata": {},
   "outputs": [
    {
     "data": {
      "text/plain": [
       "(True, False, False, True)"
      ]
     },
     "execution_count": 14,
     "metadata": {},
     "output_type": "execute_result"
    }
   ],
   "source": [
    "all([True, True, True]), all([1,0,0]), all(range(4)), all([])"
   ]
  },
  {
   "cell_type": "markdown",
   "metadata": {},
   "source": [
    "\n",
    "\n",
    "### Truth Value Testing\n",
    "\n",
    "Any object can be tested for truth value, for use in an `if` or `while` condition or as operand of the Boolean\n",
    "operations below.\n",
    "\n",
    "By default, an object is considered true unless its class defines either a `__bool__()` method that returns\n",
    "`False` or `a __len__()` method that returns zero, when called with the object. Here are most of the built-in\n",
    "objects considered false:\n",
    "\n",
    " - constants defined to be false: `None` and `False`.\n",
    " - zero of any numeric type: `0`, `0.0`, `0j`, `Decimal(0)`, `Fraction(0, 1)`\n",
    " - empty sequences and collections: `''`, `()`, `[]`, `{}`, `set()`, `range(0)`\n",
    "\n",
    "Operations and built-in functions that have a Boolean result always return `0` or `False` for false and `1` or\n",
    "`True` for true, unless otherwise stated. \n",
    "\n",
    "(Important exception: the Boolean operations `or` and `and` always return one of their operands. See below)"
   ]
  },
  {
   "cell_type": "markdown",
   "metadata": {},
   "source": [
    "#### Boolean Operations - **`and`, `or`, `not`**\n",
    "\n",
    "These are the Boolean operations, ordered by ascending priority:\n",
    "\n",
    "|Operation            |Result|Notes|\n",
    "|---------------------|------|-----|\n",
    "|`x or y`|if `x` is false, then `y`, else `x`|1|\n",
    "|`x and y`|if `x` is false, then `x`, else `y`|2|\n",
    "|`not x`|if `x` is false, then `True`, else `False`|3|\n",
    "\n",
    "\n",
    "1. This is a short-circuit operator, so it only evaluates the second argument if the first one is false.\n",
    "2. This is a short-circuit operator, so it only evaluates the second argument if the first one is true.\n",
    "3. `not` has a lower priority than non-Boolean operators, so `not a == b` is interpreted as `not (a == b)`, and `a == not b` is a syntax error."
   ]
  },
  {
   "cell_type": "markdown",
   "metadata": {},
   "source": [
    "#### Boolean Operator and Short-circuit Evaluations\n",
    "\n",
    "To speed up boolean evaluations, Python uses short-circuit evaluations. It means that boolean evaluation may stop if one of its expression is False. \n"
   ]
  },
  {
   "cell_type": "code",
   "execution_count": 16,
   "metadata": {},
   "outputs": [
    {
     "name": "stdout",
     "output_type": "stream",
     "text": [
      "5\n",
      "3\n",
      "False\n",
      "False\n",
      "None\n",
      "0\n"
     ]
    }
   ],
   "source": [
    "print(3 and 5)\n",
    "print(5 and 3)\n",
    "print(5 and False)\n",
    "print(False and 5)\n",
    "print(None and 5)\n",
    "print(0 and 5)"
   ]
  },
  {
   "cell_type": "code",
   "execution_count": 17,
   "metadata": {},
   "outputs": [
    {
     "name": "stdout",
     "output_type": "stream",
     "text": [
      "3\n",
      "3\n",
      "3\n",
      "3\n",
      "3\n",
      "False\n"
     ]
    }
   ],
   "source": [
    "print(3 or 5)\n",
    "print([] or 3)\n",
    "print(0 or 3)\n",
    "print(3 or 0)\n",
    "print(False or 3)\n",
    "print(0 or False)"
   ]
  },
  {
   "cell_type": "code",
   "execution_count": 18,
   "metadata": {},
   "outputs": [
    {
     "data": {
      "text/plain": [
       "3"
      ]
     },
     "execution_count": 18,
     "metadata": {},
     "output_type": "execute_result"
    }
   ],
   "source": [
    "1 and 0 or 3 #left to right evaluation"
   ]
  },
  {
   "cell_type": "code",
   "execution_count": 19,
   "metadata": {},
   "outputs": [
    {
     "data": {
      "text/plain": [
       "3"
      ]
     },
     "execution_count": 19,
     "metadata": {},
     "output_type": "execute_result"
    }
   ],
   "source": [
    "1 and 3 or 0"
   ]
  },
  {
   "cell_type": "code",
   "execution_count": 20,
   "metadata": {},
   "outputs": [
    {
     "data": {
      "text/plain": [
       "3"
      ]
     },
     "execution_count": 20,
     "metadata": {},
     "output_type": "execute_result"
    }
   ],
   "source": [
    "0 and 1 or 3"
   ]
  },
  {
   "cell_type": "markdown",
   "metadata": {},
   "source": [
    "#### Aside: Using the Keywords `and`/`or` Versus the Operators `&`/`|`\n",
    "\n",
    "One common point of confusion is the difference between the keywords ``and`` and ``or`` on one hand, and the operators ``&`` and ``|`` on the other. When would you use one versus the other?\n",
    "\n",
    "The difference is this: ``and`` and ``or`` gauge the truth or falsehood of *entire object*, while ``&`` and ``|`` refer to *bits within each object*.\n",
    "\n",
    "When you use ``and`` or ``or``, it's equivalent to asking Python to treat the object as a single Boolean entity.\n",
    "In Python, all nonzero integers will evaluate as `True`. Thus:"
   ]
  },
  {
   "cell_type": "code",
   "execution_count": 21,
   "metadata": {},
   "outputs": [
    {
     "name": "stdout",
     "output_type": "stream",
     "text": [
      "True\n",
      "False\n",
      "False\n",
      "True\n"
     ]
    }
   ],
   "source": [
    "print(bool(42))\n",
    "print(bool(0))\n",
    "print(bool(42 and 0))\n",
    "print(bool(42 or 0))"
   ]
  },
  {
   "cell_type": "markdown",
   "metadata": {},
   "source": [
    "When you use ``&`` and ``|`` on integers, the expression operates on the bits of the element, applying the `and` or the `or` to the individual bits making up the number:"
   ]
  },
  {
   "cell_type": "code",
   "execution_count": 22,
   "metadata": {},
   "outputs": [
    {
     "name": "stdout",
     "output_type": "stream",
     "text": [
      "0b101010\n",
      "0b111011\n",
      "0b101010\n",
      "0b111011\n"
     ]
    }
   ],
   "source": [
    "print(bin(42))\n",
    "print(bin(59))\n",
    "print(bin(42 & 59))\n",
    "print(bin(42 | 59))"
   ]
  },
  {
   "cell_type": "code",
   "execution_count": 11,
   "metadata": {},
   "outputs": [
    {
     "data": {
      "text/plain": [
       "array([ True,  True,  True, False,  True,  True])"
      ]
     },
     "execution_count": 11,
     "metadata": {},
     "output_type": "execute_result"
    }
   ],
   "source": [
    "import numpy as np \n",
    "A = np.array([1, 0, 1, 0, 1, 0], dtype=bool)\n",
    "B = np.array([1, 1, 1, 0, 1, 1], dtype=bool)\n",
    "A | B"
   ]
  },
  {
   "cell_type": "code",
   "execution_count": 12,
   "metadata": {},
   "outputs": [
    {
     "ename": "ValueError",
     "evalue": "The truth value of an array with more than one element is ambiguous. Use a.any() or a.all()",
     "output_type": "error",
     "traceback": [
      "\u001b[1;31m---------------------------------------------------------------------------\u001b[0m",
      "\u001b[1;31mValueError\u001b[0m                                Traceback (most recent call last)",
      "\u001b[1;32m<ipython-input-12-f5f386762ccc>\u001b[0m in \u001b[0;36m<module>\u001b[1;34m\u001b[0m\n\u001b[1;32m----> 1\u001b[1;33m \u001b[0mA\u001b[0m \u001b[1;32mor\u001b[0m \u001b[0mB\u001b[0m \u001b[1;31m#error\u001b[0m\u001b[1;33m\u001b[0m\u001b[1;33m\u001b[0m\u001b[0m\n\u001b[0m",
      "\u001b[1;31mValueError\u001b[0m: The truth value of an array with more than one element is ambiguous. Use a.any() or a.all()"
     ]
    }
   ],
   "source": [
    "A or B #error"
   ]
  },
  {
   "cell_type": "markdown",
   "metadata": {},
   "source": [
    "#### Python ternery operator"
   ]
  },
  {
   "cell_type": "code",
   "execution_count": 25,
   "metadata": {},
   "outputs": [
    {
     "data": {
      "text/plain": [
       "-1"
      ]
     },
     "execution_count": 25,
     "metadata": {},
     "output_type": "execute_result"
    }
   ],
   "source": [
    ">>> a = 1\n",
    ">>> b = 2\n",
    ">>> 1 if a > b else -1\n"
   ]
  },
  {
   "cell_type": "code",
   "execution_count": 26,
   "metadata": {},
   "outputs": [
    {
     "data": {
      "text/plain": [
       "True"
      ]
     },
     "execution_count": 26,
     "metadata": {},
     "output_type": "execute_result"
    }
   ],
   "source": [
    ">>> a,b,c = [2,3,3]\n",
    ">>> a < b == c\n"
   ]
  },
  {
   "cell_type": "code",
   "execution_count": 27,
   "metadata": {},
   "outputs": [
    {
     "data": {
      "text/plain": [
       "False"
      ]
     },
     "execution_count": 27,
     "metadata": {},
     "output_type": "execute_result"
    }
   ],
   "source": [
    ">>> a < b and b < c"
   ]
  },
  {
   "cell_type": "code",
   "execution_count": 28,
   "metadata": {},
   "outputs": [
    {
     "data": {
      "text/plain": [
       "True"
      ]
     },
     "execution_count": 28,
     "metadata": {},
     "output_type": "execute_result"
    }
   ],
   "source": [
    ">>> a,b,c = [2,3,3]\n",
    ">>> a < b or b < c"
   ]
  },
  {
   "cell_type": "code",
   "execution_count": 29,
   "metadata": {},
   "outputs": [
    {
     "data": {
      "text/plain": [
       "2"
      ]
     },
     "execution_count": 29,
     "metadata": {},
     "output_type": "execute_result"
    }
   ],
   "source": [
    ">>> d = a or b or c\n",
    ">>> d"
   ]
  },
  {
   "cell_type": "code",
   "execution_count": 30,
   "metadata": {},
   "outputs": [
    {
     "data": {
      "text/plain": [
       "3"
      ]
     },
     "execution_count": 30,
     "metadata": {},
     "output_type": "execute_result"
    }
   ],
   "source": [
    ">>> d =  a and b and c\n",
    ">>> d\n"
   ]
  },
  {
   "cell_type": "markdown",
   "metadata": {},
   "source": [
    "### `map`, `reduce` and `filter`\n",
    "\n",
    "Essentially, these three functions allow you to apply a function across a number of iterables, in one fell swoop. `map` and `filter` come built-in with Python (in the `__builtins__` module) and require no importing. `reduce`, however, needs to be imported as it resides in the `functools` module. Let's get a better understanding of how they all work, starting with `map`."
   ]
  },
  {
   "cell_type": "markdown",
   "metadata": {},
   "source": [
    "`map(func, *iterables)`\n",
    "\n",
    "Where `func` is the function on which each element in iterables (as many as they are) would be applied on. Notice the asterisk(`*`) on iterables? It means there can be as many iterables as possible, in so far `func` has that exact number as required input arguments. Before we move on to an example, it's important that you note the following:\n",
    "\n",
    " - The function returns a map object which is a generator object. To get the result as a list, the built-in `list()` function can be called on the map object. i.e. `list(map(func, *iterables))`.\n",
    " \n",
    " - The number of arguments to func must be the number of iterables listed. \n",
    " \n",
    " "
   ]
  },
  {
   "cell_type": "code",
   "execution_count": 5,
   "metadata": {},
   "outputs": [
    {
     "data": {
      "text/plain": [
       "['ALFRED', 'TABITHA', 'WILLIAM', 'ARLA']"
      ]
     },
     "execution_count": 5,
     "metadata": {},
     "output_type": "execute_result"
    }
   ],
   "source": [
    "my_pets = ['alfred', 'tabitha', 'william', 'arla']\n",
    "\n",
    "uppered_pets = list(map(str.upper, my_pets))\n",
    "\n",
    "uppered_pets"
   ]
  },
  {
   "cell_type": "markdown",
   "metadata": {},
   "source": [
    "Note that we didn't actually call `str.upper` in `map()`. We only mention the name of function. "
   ]
  },
  {
   "cell_type": "code",
   "execution_count": 9,
   "metadata": {},
   "outputs": [
    {
     "name": "stdout",
     "output_type": "stream",
     "text": [
      "[3.6, 5.58, 4.009, 56.2424, 9.01344, 32.00013]\n"
     ]
    }
   ],
   "source": [
    "circle_areas = [3.56773, 5.57668, 4.00914, 56.24241, 9.01344, 32.00013]\n",
    "\n",
    "result = list(map(round, circle_areas, range(1,7)))\n",
    "\n",
    "print(result)"
   ]
  },
  {
   "cell_type": "code",
   "execution_count": 10,
   "metadata": {},
   "outputs": [
    {
     "name": "stdout",
     "output_type": "stream",
     "text": [
      "[('a', 1), ('b', 2), ('c', 3), ('d', 4), ('e', 5)]\n"
     ]
    }
   ],
   "source": [
    "my_strings = ['a', 'b', 'c', 'd', 'e']\n",
    "my_numbers = [1,2,3,4,5]\n",
    "\n",
    "results = list(map(lambda x, y: (x, y), my_strings, my_numbers))\n",
    "\n",
    "print(results)"
   ]
  },
  {
   "cell_type": "markdown",
   "metadata": {},
   "source": [
    "`filter(func, iterable)`\n",
    "\n",
    "`filter()`, first of all, requires the function to return boolean values (true or false) and then passes each element in the iterable through the function, \"filtering\" away those that are false.\n",
    "\n",
    "The following points are to be noted regarding `filter()`:\n",
    "\n",
    " - Unlike `map()`, only one iterable is required.\n",
    " - The `func` argument is required to return a boolean type. If it doesn't, filter simply returns the iterable passed to it. Also, as only one iterable is required, it's implicit that `func` must only take one argument.\n",
    " - `filter` passes each element in the iterable through `func` and returns only the ones that evaluate to true. I mean, it's right there in the name -- a \"filter\".\n"
   ]
  },
  {
   "cell_type": "code",
   "execution_count": 11,
   "metadata": {},
   "outputs": [
    {
     "name": "stdout",
     "output_type": "stream",
     "text": [
      "[90, 76, 88, 81]\n"
     ]
    }
   ],
   "source": [
    "scores = [66, 90, 68, 59, 76, 60, 88, 74, 81, 65]\n",
    "\n",
    "def is_A_student(score):\n",
    "    return score > 75\n",
    "\n",
    "over_75 = list(filter(is_A_student, scores))\n",
    "\n",
    "print(over_75)"
   ]
  },
  {
   "cell_type": "code",
   "execution_count": 12,
   "metadata": {},
   "outputs": [
    {
     "name": "stdout",
     "output_type": "stream",
     "text": [
      "['madam', 'anutforajaroftuna']\n"
     ]
    }
   ],
   "source": [
    "dromes = (\"demigod\", \"rewire\", \"madam\", \"freer\", \"anutforajaroftuna\", \"kiosk\")\n",
    "\n",
    "palindromes = list(filter(lambda word: word == word[::-1], dromes))\n",
    "\n",
    "print(palindromes)"
   ]
  },
  {
   "cell_type": "markdown",
   "metadata": {},
   "source": [
    "`reduce(func, iterable[, initial])`\n",
    "\n",
    "reduce applies a function of two arguments cumulatively to the elements of an iterable, optionally starting with an initial argument.\n",
    "\n",
    "Here `func` is the function on which each element in the iterable gets cumulatively applied to, and initial is the optional value that gets placed before the elements of the iterable in the calculation, and serves as a default when the iterable is empty. The following should be noted about `reduce()`: \n",
    "\n",
    " -  `func `requires two arguments, the first of which is the first element in iterable (if initial is not supplied) and the second element in iterable. If initial is supplied, then it becomes the first argument to func and the first element in iterable becomes the second element. \n",
    " \n",
    " - `reduce` \"reduces\" iterable into a single value. "
   ]
  },
  {
   "cell_type": "code",
   "execution_count": 13,
   "metadata": {},
   "outputs": [
    {
     "name": "stdout",
     "output_type": "stream",
     "text": [
      "68\n"
     ]
    }
   ],
   "source": [
    "from functools import reduce\n",
    "\n",
    "numbers = [3, 4, 6, 9, 34, 12]\n",
    "\n",
    "def custom_sum(first, second):\n",
    "    return first + second\n",
    "\n",
    "result = reduce(custom_sum, numbers)\n",
    "print(result)"
   ]
  },
  {
   "cell_type": "code",
   "execution_count": 14,
   "metadata": {},
   "outputs": [
    {
     "name": "stdout",
     "output_type": "stream",
     "text": [
      "78\n"
     ]
    }
   ],
   "source": [
    "from functools import reduce\n",
    "\n",
    "numbers = [3, 4, 6, 9, 34, 12]\n",
    "\n",
    "def custom_sum(first, second):\n",
    "    return first + second\n",
    "\n",
    "result = reduce(custom_sum, numbers, 10)\n",
    "print(result)"
   ]
  },
  {
   "cell_type": "markdown",
   "metadata": {},
   "source": [
    "### String Formatting\n",
    "\n",
    "Python provides 3 ways for string formatting. \n",
    "\n",
    " - % string formatting\n",
    " - string.format\n",
    " - f'string"
   ]
  },
  {
   "cell_type": "code",
   "execution_count": 16,
   "metadata": {},
   "outputs": [
    {
     "name": "stdout",
     "output_type": "stream",
     "text": [
      "Name give is Peter\n"
     ]
    }
   ],
   "source": [
    "name = 'Peter'\n",
    "print(\"Name give is %s\" %name)"
   ]
  },
  {
   "cell_type": "code",
   "execution_count": 17,
   "metadata": {},
   "outputs": [
    {
     "name": "stdout",
     "output_type": "stream",
     "text": [
      "Peter age is 40\n"
     ]
    }
   ],
   "source": [
    "name =  'Peter'\n",
    "age = 40\n",
    "\n",
    "print(\"%s age is %d\" %(name, age))"
   ]
  },
  {
   "cell_type": "markdown",
   "metadata": {},
   "source": [
    "`%s` is used to inject strings similarly `%d` for integers, `%f` for floating-point values, `%b` for binary format.\n",
    "\n",
    "Floating-point numbers use the format `%a.bf`. Here, `a` would be the minimum number of digits to be present in the string; these might be padded with white space if the whole number doesn’t have this many digits. Close to this, `bf` represents how many digits are to be displayed after the decimal point. "
   ]
  },
  {
   "cell_type": "code",
   "execution_count": 22,
   "metadata": {},
   "outputs": [
    {
     "name": "stdout",
     "output_type": "stream",
     "text": [
      "value is 3\n",
      "value is   3\n",
      "value is 3.13\n",
      "value is 3.1344000\n"
     ]
    }
   ],
   "source": [
    "dec = 3.1344\n",
    "\n",
    "print(\"value is %.0f\" %dec)\n",
    "print(\"value is %3.0f\" %dec)\n",
    "print(\"value is %3.2f\" %dec)\n",
    "print(\"value is %3.7f\" %dec)"
   ]
  },
  {
   "cell_type": "markdown",
   "metadata": {},
   "source": [
    "`format()` method\n",
    "\n"
   ]
  },
  {
   "cell_type": "code",
   "execution_count": 24,
   "metadata": {},
   "outputs": [
    {
     "name": "stdout",
     "output_type": "stream",
     "text": [
      "Name is Peter and age is40\n"
     ]
    }
   ],
   "source": [
    "name, age = \"Peter\", 40\n",
    "\n",
    "print(\"Name is {} and age is{}\".format(name, age))"
   ]
  },
  {
   "cell_type": "markdown",
   "metadata": {},
   "source": [
    "You can also provide indexing in `{}` which will map to values in `format()`."
   ]
  },
  {
   "cell_type": "code",
   "execution_count": 27,
   "metadata": {},
   "outputs": [
    {
     "name": "stdout",
     "output_type": "stream",
     "text": [
      "Name is Peter and age is 40\n"
     ]
    }
   ],
   "source": [
    "name, age = \"Peter\", 40\n",
    "\n",
    "print(\"Name is {1} and age is {0}\".format(age, name))"
   ]
  },
  {
   "cell_type": "markdown",
   "metadata": {},
   "source": [
    "Or you can use keywords by doing something like this - "
   ]
  },
  {
   "cell_type": "code",
   "execution_count": 28,
   "metadata": {},
   "outputs": [
    {
     "name": "stdout",
     "output_type": "stream",
     "text": [
      "Name is Peter and age is 40\n"
     ]
    }
   ],
   "source": [
    "name, age = \"Peter\", 40\n",
    "\n",
    "print(\"Name is {a} and age is {b}\".format(a = name,b = age))"
   ]
  },
  {
   "cell_type": "code",
   "execution_count": 29,
   "metadata": {},
   "outputs": [
    {
     "name": "stdout",
     "output_type": "stream",
     "text": [
      "The first second was alright, but the second second was tough.\n"
     ]
    }
   ],
   "source": [
    "print('The first {p} was alright, but the {p} {p} was tough.'.format(p = 'second'))\n",
    "\n"
   ]
  },
  {
   "cell_type": "code",
   "execution_count": 38,
   "metadata": {},
   "outputs": [
    {
     "name": "stdout",
     "output_type": "stream",
     "text": [
      "The valueof pi is: 3.14159\n"
     ]
    }
   ],
   "source": [
    "print('The valueof pi is: {0:1.5f}'.format(3.141592, 3434.434343434))\n",
    "\n",
    "# 0 in {0:1.5f} is the index for values supplied in format() method. \n"
   ]
  },
  {
   "cell_type": "markdown",
   "metadata": {},
   "source": [
    "See also - https://pyformat.info/"
   ]
  },
  {
   "cell_type": "markdown",
   "metadata": {},
   "source": [
    "#### f-strings\n",
    "\n",
    "Only for Python3.6+ ."
   ]
  },
  {
   "cell_type": "code",
   "execution_count": 33,
   "metadata": {},
   "outputs": [
    {
     "data": {
      "text/plain": [
       "'roses are red'"
      ]
     },
     "execution_count": 33,
     "metadata": {},
     "output_type": "execute_result"
    }
   ],
   "source": [
    ">>> a = 'roses'\n",
    ">>> b = 'red'\n",
    "\n",
    ">>> f'{a} are {b}'\n"
   ]
  },
  {
   "cell_type": "code",
   "execution_count": 34,
   "metadata": {},
   "outputs": [
    {
     "name": "stdout",
     "output_type": "stream",
     "text": [
      "He said his age is 30.\n"
     ]
    }
   ],
   "source": [
    "a = 5\n",
    " \n",
    "b = 10\n",
    " \n",
    "print(f\"He said his age is {2 * (a + b)}.\")"
   ]
  },
  {
   "cell_type": "markdown",
   "metadata": {
    "collapsed": true
   },
   "source": [
    "### `sys.argv`"
   ]
  },
  {
   "cell_type": "code",
   "execution_count": 13,
   "metadata": {},
   "outputs": [
    {
     "name": "stdout",
     "output_type": "stream",
     "text": [
      "['C:\\\\Users\\\\pcxyz\\\\miniconda3\\\\envs\\\\data\\\\lib\\\\site-packages\\\\ipykernel_launcher.py', '-f', 'C:\\\\Users\\\\pcxyz\\\\AppData\\\\Roaming\\\\jupyter\\\\runtime\\\\kernel-a9e2704c-d2df-476c-a538-1e0512046aba.json']\n"
     ]
    }
   ],
   "source": [
    "# save it in a file and run through command line\n",
    "\n",
    "import sys\n",
    "if __name__ == '__main__':\n",
    "    arg_length = len(sys.argv)\n",
    "    if arg_length >= 2 and arg_length <=3:\n",
    "        print(sys.argv)\n",
    "    else:\n",
    "        print('please enter two arguments')\n"
   ]
  },
  {
   "cell_type": "markdown",
   "metadata": {},
   "source": [
    "#### += Operation on Mutable Types\n",
    "For any operator \"``■``\", the expression ``a ■= b`` is equivalent to ``a = a ■ b``, with a slight catch.\n",
    "For mutable objects like lists, arrays, or DataFrames, these augmented assignment operations are actually subtly different than their more verbose counterparts: they modify the contents of the original object rather than creating a new object to store the result."
   ]
  },
  {
   "cell_type": "code",
   "execution_count": 1,
   "metadata": {},
   "outputs": [
    {
     "name": "stdout",
     "output_type": "stream",
     "text": [
      "981179169664\n",
      "981179169792\n",
      "981179169792\n"
     ]
    }
   ],
   "source": [
    "s = [1,2,3]\n",
    "print(id(s))\n",
    "s = s + [1]\n",
    "print(id(s))  #id of s changed\n",
    "s+=[2]\n",
    "print(id(s))  #id doesn't change"
   ]
  },
  {
   "cell_type": "markdown",
   "metadata": {},
   "source": [
    "#### Functions are Objects too - An Example"
   ]
  },
  {
   "cell_type": "code",
   "execution_count": 40,
   "metadata": {},
   "outputs": [
    {
     "name": "stdout",
     "output_type": "stream",
     "text": [
      "Yes\n",
      "Yes\n",
      "True\n",
      "name 'shout' is not defined\n",
      "Yes\n"
     ]
    }
   ],
   "source": [
    "def shout(word='yes'):\n",
    "    return word.capitalize()\n",
    "\n",
    "print(shout())\n",
    "\n",
    "scream = shout\n",
    "\n",
    "print(scream())\n",
    "print(scream is shout)\n",
    "\n",
    "del shout\n",
    "try:\n",
    "    print(shout())\n",
    "except NameError as e:\n",
    "    print(e)\n",
    "    \n",
    "print(scream())\n"
   ]
  },
  {
   "cell_type": "markdown",
   "metadata": {},
   "source": [
    "#### `__name__` and `__main__`"
   ]
  },
  {
   "cell_type": "markdown",
   "metadata": {},
   "source": [
    "```python\n",
    "print('running', __name__)\n",
    "import foo\n",
    "\n",
    "print('running',__name__)\n",
    "```\n",
    "o/p →\n",
    "```\n",
    "running __main__\n",
    "running foo\n",
    "running foo\n",
    "running __main__\n",
    "```\n",
    "You can test this yourself. I created a file foodoo.py that has:\n",
    "```python\n",
    "import foodoo\n",
    "print('running', __name__)\n",
    "```\n",
    "...and it prints out:\n",
    "```\n",
    "running foodoo\n",
    "running __main__\n",
    "```\n",
    "The first line comes when the module is imported. The second comes when the original script runs.\n",
    "\n",
    "Of course, you NEVER want to do this in real life. It's very confusing and produces unreadable code. Rename your file instead. - Comment by Al Sweigart, author of ATBS.\n"
   ]
  },
  {
   "cell_type": "markdown",
   "metadata": {},
   "source": [
    "#### `__hash__`"
   ]
  },
  {
   "cell_type": "code",
   "execution_count": 21,
   "metadata": {},
   "outputs": [
    {
     "name": "stdout",
     "output_type": "stream",
     "text": [
      "1\n",
      "1860346078\n",
      "-1658481943\n"
     ]
    },
    {
     "ename": "TypeError",
     "evalue": "'NoneType' object is not callable",
     "output_type": "error",
     "traceback": [
      "\u001b[1;31m---------------------------------------------------------------------------\u001b[0m",
      "\u001b[1;31mTypeError\u001b[0m                                 Traceback (most recent call last)",
      "\u001b[1;32m<ipython-input-21-525d0bf6812c>\u001b[0m in \u001b[0;36m<module>\u001b[1;34m\u001b[0m\n\u001b[0;32m      7\u001b[0m \u001b[0mprint\u001b[0m\u001b[1;33m(\u001b[0m\u001b[0mb\u001b[0m\u001b[1;33m.\u001b[0m\u001b[0m__hash__\u001b[0m\u001b[1;33m(\u001b[0m\u001b[1;33m)\u001b[0m\u001b[1;33m)\u001b[0m\u001b[1;33m\u001b[0m\u001b[1;33m\u001b[0m\u001b[0m\n\u001b[0;32m      8\u001b[0m \u001b[0mprint\u001b[0m\u001b[1;33m(\u001b[0m\u001b[0mc\u001b[0m\u001b[1;33m.\u001b[0m\u001b[0m__hash__\u001b[0m\u001b[1;33m(\u001b[0m\u001b[1;33m)\u001b[0m\u001b[1;33m)\u001b[0m\u001b[1;33m\u001b[0m\u001b[1;33m\u001b[0m\u001b[0m\n\u001b[1;32m----> 9\u001b[1;33m \u001b[0mprint\u001b[0m\u001b[1;33m(\u001b[0m\u001b[0md\u001b[0m\u001b[1;33m.\u001b[0m\u001b[0m__hash__\u001b[0m\u001b[1;33m(\u001b[0m\u001b[1;33m)\u001b[0m\u001b[1;33m)\u001b[0m\u001b[1;33m\u001b[0m\u001b[1;33m\u001b[0m\u001b[0m\n\u001b[0m",
      "\u001b[1;31mTypeError\u001b[0m: 'NoneType' object is not callable"
     ]
    }
   ],
   "source": [
    "a = 1\n",
    "b = 'a'\n",
    "c = (2,)\n",
    "d = [1]\n",
    "\n",
    "print(a.__hash__())\n",
    "print(b.__hash__())\n",
    "print(c.__hash__())\n",
    "print(d.__hash__())"
   ]
  },
  {
   "cell_type": "markdown",
   "metadata": {},
   "source": [
    "`__hash__` method, when applied on lists, produces error. It is because lists are mutables. "
   ]
  },
  {
   "cell_type": "markdown",
   "metadata": {},
   "source": [
    "#### `__iter__`"
   ]
  },
  {
   "cell_type": "code",
   "execution_count": 7,
   "metadata": {},
   "outputs": [
    {
     "name": "stdout",
     "output_type": "stream",
     "text": [
      "Enter any list, tuple, or string\n",
      "[2,2]\n",
      "[\n",
      "2\n",
      ",\n",
      "2\n",
      "]\n",
      "End of world\n"
     ]
    }
   ],
   "source": [
    "s = input('Enter any list, tuple, or string\\n')\n",
    "it = s.__iter__()\n",
    "while 1:\n",
    "    try:\n",
    "        i = next(it)\n",
    "        print(i)\n",
    "    except StopIteration:\n",
    "        print('End of world')\n",
    "        break\n"
   ]
  },
  {
   "cell_type": "markdown",
   "metadata": {},
   "source": [
    "I thought I was supplying a list but, as can be seen, program took it as a string. "
   ]
  },
  {
   "cell_type": "markdown",
   "metadata": {},
   "source": [
    "#### Working with Files"
   ]
  },
  {
   "cell_type": "code",
   "execution_count": 16,
   "metadata": {},
   "outputs": [],
   "source": [
    "f = open('file.txt','w')\n",
    "#if file doesn't exist, it will be created\n",
    "f.close()"
   ]
  },
  {
   "cell_type": "code",
   "execution_count": 17,
   "metadata": {},
   "outputs": [
    {
     "data": {
      "text/plain": [
       "<_io.TextIOWrapper name='file.txt' mode='w' encoding='cp1252'>"
      ]
     },
     "execution_count": 17,
     "metadata": {},
     "output_type": "execute_result"
    }
   ],
   "source": [
    "f"
   ]
  },
  {
   "cell_type": "code",
   "execution_count": 47,
   "metadata": {},
   "outputs": [
    {
     "data": {
      "text/plain": [
       "14"
      ]
     },
     "execution_count": 47,
     "metadata": {},
     "output_type": "execute_result"
    }
   ],
   "source": [
    "f = open('file.txt', 'w')\n",
    "f.write('Holla hooo!!!\\n')\n",
    "#if file already exists, old content is deleted"
   ]
  },
  {
   "cell_type": "code",
   "execution_count": 48,
   "metadata": {
    "collapsed": true
   },
   "outputs": [],
   "source": [
    "f.close()"
   ]
  },
  {
   "cell_type": "code",
   "execution_count": 49,
   "metadata": {
    "collapsed": true
   },
   "outputs": [],
   "source": [
    "f=open('file.txt','a')\n",
    "f.write('I am an engineer\\nI live in Delhi\\nI\\'m married')\n",
    "f.close()\n"
   ]
  },
  {
   "cell_type": "code",
   "execution_count": 50,
   "metadata": {},
   "outputs": [
    {
     "data": {
      "text/plain": [
       "['Holla hooo!!!\\n', 'I am an engineer\\n', 'I live in Delhi\\n', \"I'm married\"]"
      ]
     },
     "execution_count": 50,
     "metadata": {},
     "output_type": "execute_result"
    }
   ],
   "source": [
    "f = open('file.txt','r')\n",
    "a = f.readlines() #returns list, each element is string consituting each line\n",
    "a"
   ]
  },
  {
   "cell_type": "code",
   "execution_count": 51,
   "metadata": {},
   "outputs": [
    {
     "data": {
      "text/plain": [
       "str"
      ]
     },
     "execution_count": 51,
     "metadata": {},
     "output_type": "execute_result"
    }
   ],
   "source": [
    "f = open('file.txt', 'r')\n",
    "b = f.read()\n",
    "type(b)"
   ]
  },
  {
   "cell_type": "code",
   "execution_count": 52,
   "metadata": {},
   "outputs": [
    {
     "data": {
      "text/plain": [
       "\"Holla hooo!!!\\nI am an engineer\\nI live in Delhi\\nI'm married\""
      ]
     },
     "execution_count": 52,
     "metadata": {},
     "output_type": "execute_result"
    }
   ],
   "source": [
    "b"
   ]
  },
  {
   "cell_type": "code",
   "execution_count": 53,
   "metadata": {},
   "outputs": [
    {
     "name": "stdout",
     "output_type": "stream",
     "text": [
      "Pretty printing has been turned OFF\n"
     ]
    },
    {
     "data": {
      "text/plain": [
       "['Holla hooo!!!', 'I am an engineer', 'I live in Delhi', \"I'm married\"]"
      ]
     },
     "execution_count": 53,
     "metadata": {},
     "output_type": "execute_result"
    }
   ],
   "source": [
    "%pprint\n",
    "b.split('\\n')"
   ]
  },
  {
   "cell_type": "code",
   "execution_count": 54,
   "metadata": {
    "collapsed": true
   },
   "outputs": [],
   "source": [
    "f.close() #close the file to save the work"
   ]
  },
  {
   "cell_type": "code",
   "execution_count": 55,
   "metadata": {},
   "outputs": [
    {
     "name": "stdout",
     "output_type": "stream",
     "text": [
      "Holla hooo!!!\n",
      "\n",
      "I am an engineer\n",
      "\n",
      "I live in Delhi\n",
      "\n",
      "I'm married\n"
     ]
    }
   ],
   "source": [
    "f = open('file.txt','r')\n",
    "for line in f:\n",
    "    print(line)"
   ]
  },
  {
   "cell_type": "code",
   "execution_count": 56,
   "metadata": {},
   "outputs": [
    {
     "data": {
      "text/plain": [
       "'Holla hooo'"
      ]
     },
     "execution_count": 56,
     "metadata": {},
     "output_type": "execute_result"
    }
   ],
   "source": [
    "f = open('file.txt','r')\n",
    "f.read(10) #read 10 bytes. If no argument, entire content is returned."
   ]
  },
  {
   "cell_type": "code",
   "execution_count": 57,
   "metadata": {},
   "outputs": [
    {
     "data": {
      "text/plain": [
       "'!!!\\n'"
      ]
     },
     "execution_count": 57,
     "metadata": {},
     "output_type": "execute_result"
    }
   ],
   "source": [
    "f.readline()"
   ]
  },
  {
   "cell_type": "code",
   "execution_count": 58,
   "metadata": {},
   "outputs": [
    {
     "data": {
      "text/plain": [
       "'I am an engineer\\n'"
      ]
     },
     "execution_count": 58,
     "metadata": {},
     "output_type": "execute_result"
    }
   ],
   "source": [
    "f.readline() #successive calls return successive lines."
   ]
  },
  {
   "cell_type": "code",
   "execution_count": 59,
   "metadata": {},
   "outputs": [
    {
     "data": {
      "text/plain": [
       "['I live in Delhi\\n', \"I'm married\"]"
      ]
     },
     "execution_count": 59,
     "metadata": {},
     "output_type": "execute_result"
    }
   ],
   "source": [
    "list(f)"
   ]
  },
  {
   "cell_type": "markdown",
   "metadata": {},
   "source": [
    "#### Context Manager"
   ]
  },
  {
   "cell_type": "code",
   "execution_count": 60,
   "metadata": {
    "scrolled": true
   },
   "outputs": [
    {
     "data": {
      "text/plain": [
       "['Holla hooo!!!\\n', 'I am an engineer\\n', 'I live in Delhi\\n', \"I'm marriedI like programming\\n\"]"
      ]
     },
     "execution_count": 60,
     "metadata": {},
     "output_type": "execute_result"
    }
   ],
   "source": [
    "#You don't have to close files with context manager. \n",
    "with open('file.txt','a') as f:\n",
    "    f.write('I like programming\\n')\n",
    "    \n",
    "f = open('file.txt', 'r')\n",
    "f.readlines()"
   ]
  },
  {
   "cell_type": "code",
   "execution_count": 61,
   "metadata": {},
   "outputs": [
    {
     "ename": "FileExistsError",
     "evalue": "[Errno 17] File exists: 'file1.txt'",
     "output_type": "error",
     "traceback": [
      "\u001b[1;31m---------------------------------------------------------------------------\u001b[0m",
      "\u001b[1;31mFileExistsError\u001b[0m                           Traceback (most recent call last)",
      "\u001b[1;32m<ipython-input-61-75d36cb2fdac>\u001b[0m in \u001b[0;36m<module>\u001b[1;34m\u001b[0m\n\u001b[0;32m      2\u001b[0m \u001b[1;31m#if file already exists, it will raise a error\u001b[0m\u001b[1;33m\u001b[0m\u001b[1;33m\u001b[0m\u001b[0m\n\u001b[0;32m      3\u001b[0m \u001b[1;33m\u001b[0m\u001b[0m\n\u001b[1;32m----> 4\u001b[1;33m \u001b[1;32mwith\u001b[0m \u001b[0mopen\u001b[0m\u001b[1;33m(\u001b[0m\u001b[1;34m'file1.txt'\u001b[0m\u001b[1;33m,\u001b[0m \u001b[1;34m'x'\u001b[0m\u001b[1;33m)\u001b[0m \u001b[1;32mas\u001b[0m \u001b[0mf\u001b[0m\u001b[1;33m:\u001b[0m\u001b[1;33m\u001b[0m\u001b[0m\n\u001b[0m\u001b[0;32m      5\u001b[0m     \u001b[0mf\u001b[0m\u001b[1;33m.\u001b[0m\u001b[0mwrite\u001b[0m\u001b[1;33m(\u001b[0m\u001b[1;34m\"nope, nope.\"\u001b[0m\u001b[1;33m)\u001b[0m\u001b[1;33m\u001b[0m\u001b[0m\n",
      "\u001b[1;31mFileExistsError\u001b[0m: [Errno 17] File exists: 'file1.txt'"
     ]
    }
   ],
   "source": [
    "# Use 'x' with open in #Python to write to a file that doesn't already exist\n",
    "#if file already exists, it will raise a error\n",
    "\n",
    "with open('file1.txt', 'x') as f:\n",
    "    f.write(\"nope, nope.\")"
   ]
  },
  {
   "cell_type": "markdown",
   "metadata": {},
   "source": [
    "Using `x` mode, we ensure that we don't accidentally overwrite the content of a file which already exists. "
   ]
  }
 ],
 "metadata": {
  "kernelspec": {
   "display_name": "Python 3",
   "language": "python",
   "name": "python3"
  },
  "language_info": {
   "codemirror_mode": {
    "name": "ipython",
    "version": 3
   },
   "file_extension": ".py",
   "mimetype": "text/x-python",
   "name": "python",
   "nbconvert_exporter": "python",
   "pygments_lexer": "ipython3",
   "version": "3.9.5"
  }
 },
 "nbformat": 4,
 "nbformat_minor": 2
}
