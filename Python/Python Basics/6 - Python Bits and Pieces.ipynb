{
 "cells": [
  {
   "cell_type": "code",
   "execution_count": 1,
   "metadata": {},
   "outputs": [
    {
     "name": "stdout",
     "output_type": "stream",
     "text": [
      "[0, 1, 2]\n",
      "(0, 1, 2)\n",
      "{0, 1, 2}\n"
     ]
    }
   ],
   "source": [
    "s = range(3)\n",
    "print([*s])\n",
    "print((*s,))\n",
    "print({*s})\n",
    "\n",
    "#Available only in 3.5+"
   ]
  },
  {
   "cell_type": "markdown",
   "metadata": {},
   "source": [
    "#### For looping over partially consumed iterator"
   ]
  },
  {
   "cell_type": "code",
   "execution_count": 2,
   "metadata": {},
   "outputs": [
    {
     "data": {
      "text/plain": [
       "1"
      ]
     },
     "execution_count": 2,
     "metadata": {},
     "output_type": "execute_result"
    }
   ],
   "source": [
    "l = [1,2,3,4,5]\n",
    "it = iter(l)\n",
    "next(it)"
   ]
  },
  {
   "cell_type": "code",
   "execution_count": 3,
   "metadata": {},
   "outputs": [
    {
     "name": "stdout",
     "output_type": "stream",
     "text": [
      "2\n",
      "3\n",
      "4\n",
      "5\n"
     ]
    }
   ],
   "source": [
    "for i in it:\n",
    "    print(i)"
   ]
  },
  {
   "cell_type": "code",
   "execution_count": 4,
   "metadata": {},
   "outputs": [
    {
     "name": "stdout",
     "output_type": "stream",
     "text": [
      "1\n",
      "8577990961394010104\n",
      "6909455589863252355\n"
     ]
    },
    {
     "ename": "TypeError",
     "evalue": "'NoneType' object is not callable",
     "output_type": "error",
     "traceback": [
      "\u001b[1;31m---------------------------------------------------------------------------\u001b[0m",
      "\u001b[1;31mTypeError\u001b[0m                                 Traceback (most recent call last)",
      "\u001b[1;32m<ipython-input-4-525d0bf6812c>\u001b[0m in \u001b[0;36m<module>\u001b[1;34m\u001b[0m\n\u001b[0;32m      7\u001b[0m \u001b[0mprint\u001b[0m\u001b[1;33m(\u001b[0m\u001b[0mb\u001b[0m\u001b[1;33m.\u001b[0m\u001b[0m__hash__\u001b[0m\u001b[1;33m(\u001b[0m\u001b[1;33m)\u001b[0m\u001b[1;33m)\u001b[0m\u001b[1;33m\u001b[0m\u001b[1;33m\u001b[0m\u001b[0m\n\u001b[0;32m      8\u001b[0m \u001b[0mprint\u001b[0m\u001b[1;33m(\u001b[0m\u001b[0mc\u001b[0m\u001b[1;33m.\u001b[0m\u001b[0m__hash__\u001b[0m\u001b[1;33m(\u001b[0m\u001b[1;33m)\u001b[0m\u001b[1;33m)\u001b[0m\u001b[1;33m\u001b[0m\u001b[1;33m\u001b[0m\u001b[0m\n\u001b[1;32m----> 9\u001b[1;33m \u001b[0mprint\u001b[0m\u001b[1;33m(\u001b[0m\u001b[0md\u001b[0m\u001b[1;33m.\u001b[0m\u001b[0m__hash__\u001b[0m\u001b[1;33m(\u001b[0m\u001b[1;33m)\u001b[0m\u001b[1;33m)\u001b[0m\u001b[1;33m\u001b[0m\u001b[1;33m\u001b[0m\u001b[0m\n\u001b[0m",
      "\u001b[1;31mTypeError\u001b[0m: 'NoneType' object is not callable"
     ]
    }
   ],
   "source": [
    "a = 1\n",
    "b = 'a'\n",
    "c = (2,)\n",
    "d = [1]\n",
    "\n",
    "print(a.__hash__())\n",
    "print(b.__hash__())\n",
    "print(c.__hash__())\n",
    "print(d.__hash__())"
   ]
  },
  {
   "cell_type": "code",
   "execution_count": 5,
   "metadata": {},
   "outputs": [
    {
     "name": "stdout",
     "output_type": "stream",
     "text": [
      "Enter any list, tuple, or string\n",
      "fsdfs\n",
      "f\n",
      "s\n",
      "d\n",
      "f\n",
      "s\n",
      "End of world\n"
     ]
    }
   ],
   "source": [
    "s = input('Enter any list, tuple, or string\\n')  #s is always a string\n",
    "it = s.__iter__()\n",
    "while 1:\n",
    "    try:\n",
    "        i = next(it)\n",
    "        print(i)\n",
    "    except StopIteration:\n",
    "        print('End of world')\n",
    "        break\n"
   ]
  },
  {
   "cell_type": "code",
   "execution_count": 6,
   "metadata": {},
   "outputs": [
    {
     "name": "stdout",
     "output_type": "stream",
     "text": [
      "2\n",
      "3\n",
      "3\n",
      "3\n",
      "3\n",
      "End of world\n"
     ]
    }
   ],
   "source": [
    "it = [2,3,3,3,3].__iter__()\n",
    "\n",
    "while 1:\n",
    "    try:\n",
    "        i = next(it)\n",
    "        print(i)\n",
    "    except StopIteration:\n",
    "        print('End of world')\n",
    "        break"
   ]
  },
  {
   "cell_type": "code",
   "execution_count": null,
   "metadata": {},
   "outputs": [],
   "source": []
  },
  {
   "cell_type": "code",
   "execution_count": null,
   "metadata": {},
   "outputs": [],
   "source": []
  },
  {
   "cell_type": "markdown",
   "metadata": {},
   "source": [
    "#### Python List Comarisons Tricks\n",
    "identity matters\n",
    "\n",
    "`a is b`\n",
    "\n",
    "order matters, duplicates matter\n",
    "\n",
    "`a == b`\n",
    "\n",
    "order ignored, duplicates matter\n",
    "\n",
    "`Counter(a) = Counter(b)`\n",
    "\n",
    "both order and duplicates ignored\n",
    "\n",
    "`set(a) = set(b)`"
   ]
  },
  {
   "cell_type": "code",
   "execution_count": 1,
   "metadata": {},
   "outputs": [
    {
     "name": "stdout",
     "output_type": "stream",
     "text": [
      "1-2-3-4 !"
     ]
    }
   ],
   "source": [
    "l = [1,2,3,4]\n",
    "print(*l, sep = '-', end = ' !')"
   ]
  },
  {
   "cell_type": "code",
   "execution_count": 2,
   "metadata": {
    "scrolled": false
   },
   "outputs": [
    {
     "name": "stdout",
     "output_type": "stream",
     "text": [
      "[1, 2, 3, 4]\n"
     ]
    }
   ],
   "source": [
    "print(l)"
   ]
  },
  {
   "cell_type": "code",
   "execution_count": 3,
   "metadata": {
    "scrolled": true
   },
   "outputs": [
    {
     "name": "stdout",
     "output_type": "stream",
     "text": [
      "1--2--3|"
     ]
    }
   ],
   "source": [
    "print(1, 2, 3, sep='--',end='|')"
   ]
  },
  {
   "cell_type": "markdown",
   "metadata": {},
   "source": [
    "#### bitwise `>>` (right shift )and `<<` (left shift) operator\n",
    "\n",
    " - `x >> n` 'consumes' `n` rightmost bits. This is the same as //'ing x by 2**n. So `100101 >> 1` will give `10010`. \n",
    " \n",
    " - `x << n` Returns x with the bits shifted to the left by n places (and new bits on the right-hand-side are zeros). This is the same as multiplying x by 2\\**n. So, `100101 << 2` will give `010100`\n",
    " \n",
    " verify above with examples?"
   ]
  },
  {
   "cell_type": "code",
   "execution_count": null,
   "metadata": {},
   "outputs": [],
   "source": []
  },
  {
   "cell_type": "markdown",
   "metadata": {},
   "source": [
    "#### bit flip operator"
   ]
  },
  {
   "cell_type": "code",
   "execution_count": 4,
   "metadata": {},
   "outputs": [
    {
     "data": {
      "text/plain": [
       "True"
      ]
     },
     "execution_count": 4,
     "metadata": {},
     "output_type": "execute_result"
    }
   ],
   "source": [
    "-1 == ~0"
   ]
  },
  {
   "cell_type": "markdown",
   "metadata": {},
   "source": [
    "Recall that ``~`` is the bit-flip operator, and evidently when you flip all the bits of zero you end up with -1. If you're curious as to why this is, look up the two's complement integer encoding scheme, which is what Python uses to encode signed integers, and think about what happens when you start flipping all the bits of integers encoded this way."
   ]
  },
  {
   "cell_type": "code",
   "execution_count": 9,
   "metadata": {},
   "outputs": [
    {
     "data": {
      "text/plain": [
       "(True, False, True, False, False, True)"
      ]
     },
     "execution_count": 9,
     "metadata": {},
     "output_type": "execute_result"
    }
   ],
   "source": [
    "bool(3.33), bool(\"\"), bool(\"abc\"), bool(0), bool([]), bool([3])"
   ]
  },
  {
   "cell_type": "code",
   "execution_count": 10,
   "metadata": {},
   "outputs": [
    {
     "data": {
      "text/plain": [
       "(1, 8)"
      ]
     },
     "execution_count": 10,
     "metadata": {},
     "output_type": "execute_result"
    }
   ],
   "source": [
    "x = 0.125\n",
    "x.as_integer_ratio() #denominator will always be positive\n"
   ]
  },
  {
   "cell_type": "code",
   "execution_count": 11,
   "metadata": {},
   "outputs": [
    {
     "data": {
      "text/plain": [
       "(False, '0x1.0000000000000p-3')"
      ]
     },
     "execution_count": 11,
     "metadata": {},
     "output_type": "execute_result"
    }
   ],
   "source": [
    "x.is_integer(), x.hex() #float.hex return string representation of hexadecimal value of float"
   ]
  },
  {
   "cell_type": "code",
   "execution_count": 12,
   "metadata": {},
   "outputs": [
    {
     "data": {
      "text/plain": [
       "((1-2j), 2.0)"
      ]
     },
     "execution_count": 12,
     "metadata": {},
     "output_type": "execute_result"
    }
   ],
   "source": [
    "x = 1+2j\n",
    "x.conjugate(), x.imag"
   ]
  },
  {
   "cell_type": "markdown",
   "metadata": {},
   "source": [
    "#### Python Quirks"
   ]
  },
  {
   "cell_type": "code",
   "execution_count": 2,
   "metadata": {},
   "outputs": [
    {
     "data": {
      "text/plain": [
       "-416"
      ]
     },
     "execution_count": 2,
     "metadata": {},
     "output_type": "execute_result"
    }
   ],
   "source": [
    "id(type) - id(object)"
   ]
  },
  {
   "cell_type": "code",
   "execution_count": 16,
   "metadata": {},
   "outputs": [
    {
     "ename": "SyntaxError",
     "evalue": "can't assign to literal (<ipython-input-16-72102c16109a>, line 5)",
     "output_type": "error",
     "traceback": [
      "\u001b[1;36m  File \u001b[1;32m\"<ipython-input-16-72102c16109a>\"\u001b[1;36m, line \u001b[1;32m5\u001b[0m\n\u001b[1;33m    {} = []\u001b[0m\n\u001b[1;37m           ^\u001b[0m\n\u001b[1;31mSyntaxError\u001b[0m\u001b[1;31m:\u001b[0m can't assign to literal\n"
     ]
    }
   ],
   "source": [
    "[] = ()\n",
    "[] = {}\n",
    "() = ()\n",
    "() = []\n",
    "{} = []\n"
   ]
  },
  {
   "cell_type": "code",
   "execution_count": 17,
   "metadata": {},
   "outputs": [
    {
     "ename": "SyntaxError",
     "evalue": "can't assign to literal (<ipython-input-17-ba2384680aab>, line 1)",
     "output_type": "error",
     "traceback": [
      "\u001b[1;36m  File \u001b[1;32m\"<ipython-input-17-ba2384680aab>\"\u001b[1;36m, line \u001b[1;32m1\u001b[0m\n\u001b[1;33m    {} = {}\u001b[0m\n\u001b[1;37m           ^\u001b[0m\n\u001b[1;31mSyntaxError\u001b[0m\u001b[1;31m:\u001b[0m can't assign to literal\n"
     ]
    }
   ],
   "source": [
    "{} = {}"
   ]
  },
  {
   "cell_type": "code",
   "execution_count": 18,
   "metadata": {},
   "outputs": [
    {
     "name": "stdout",
     "output_type": "stream",
     "text": [
      "True\n",
      "False\n"
     ]
    }
   ],
   "source": [
    "print(id({}) == id({}))\n",
    "\n",
    "print({} is {})\n"
   ]
  },
  {
   "cell_type": "markdown",
   "metadata": {},
   "source": [
    "### Random Points"
   ]
  },
  {
   "cell_type": "code",
   "execution_count": 19,
   "metadata": {},
   "outputs": [
    {
     "name": "stdout",
     "output_type": "stream",
     "text": [
      "ABCDEFGHIJKLMNOPQRSTUVWXYZ\n"
     ]
    }
   ],
   "source": [
    ">>> from string import *\n",
    ">>> print(ascii_uppercase)\n"
   ]
  },
  {
   "cell_type": "markdown",
   "metadata": {},
   "source": [
    "#### Some Helpful Tips and Tricks"
   ]
  },
  {
   "cell_type": "markdown",
   "metadata": {},
   "source": [
    "Check if two words are anagram - "
   ]
  },
  {
   "cell_type": "code",
   "execution_count": 38,
   "metadata": {},
   "outputs": [
    {
     "data": {
      "text/plain": [
       "True"
      ]
     },
     "execution_count": 38,
     "metadata": {},
     "output_type": "execute_result"
    }
   ],
   "source": [
    "from collections import Counter\n",
    "def ana(s1,s2):\n",
    "    return Counter(s1) == Counter(s2)\n",
    "\n",
    "ana('ram','mar')"
   ]
  },
  {
   "cell_type": "code",
   "execution_count": 39,
   "metadata": {},
   "outputs": [
    {
     "data": {
      "text/plain": [
       "False"
      ]
     },
     "execution_count": 39,
     "metadata": {},
     "output_type": "execute_result"
    }
   ],
   "source": [
    "ana('ab','bc')"
   ]
  },
  {
   "cell_type": "markdown",
   "metadata": {},
   "source": [
    "Use `ord` function to find out the Unicode code point of any character - "
   ]
  },
  {
   "cell_type": "code",
   "execution_count": 41,
   "metadata": {},
   "outputs": [
    {
     "data": {
      "text/plain": [
       "[97, 120, 116]"
      ]
     },
     "execution_count": 41,
     "metadata": {},
     "output_type": "execute_result"
    }
   ],
   "source": [
    "symbols = 'axt'\n",
    "[ord(s) for s in symbols]"
   ]
  },
  {
   "cell_type": "markdown",
   "metadata": {},
   "source": [
    "#### Accessing module's doc"
   ]
  },
  {
   "cell_type": "code",
   "execution_count": 43,
   "metadata": {},
   "outputs": [
    {
     "name": "stdout",
     "output_type": "stream",
     "text": [
      "This module provides access to some objects used or maintained by the\n",
      "interpreter and to functions that interact strongly with the interpreter.\n",
      "\n",
      "Dynamic objects:\n",
      "\n",
      "argv -- command line arguments; argv[0] is the script pathname if known\n",
      "path -- module search path; path[0] is the script directory, else ''\n",
      "modules -- dictionary of loaded modules\n",
      "\n",
      "displayhook -- called to show results in an interactive session\n",
      "excepthook -- called to handle any uncaught exception other than SystemExit\n",
      "  To customize printing in an interactive session or to install a custom\n",
      "  top-level exception handler, assign other functions to replace these.\n",
      "\n",
      "stdin -- standard input file object; used by input()\n",
      "stdout -- standard output file object; used by print()\n",
      "stderr -- standard error object; used for error messages\n",
      "  By assigning other file objects (or objects that behave like files)\n",
      "  to these, it is possible to redirect all of the interpreter's I/O.\n",
      "\n",
      "last_type -- type of last uncaught exception\n",
      "last_value -- value of last uncaught exception\n",
      "last_traceback -- traceback of last uncaught exception\n",
      "  These three are only available in an interactive session after a\n",
      "  traceback has been printed.\n",
      "\n",
      "Static objects:\n",
      "\n",
      "builtin_module_names -- tuple of module names built into this interpreter\n",
      "copyright -- copyright notice pertaining to this interpreter\n",
      "exec_prefix -- prefix used to find the machine-specific Python library\n",
      "executable -- absolute path of the executable binary of the Python interpreter\n",
      "float_info -- a struct sequence with information about the float implementation.\n",
      "float_repr_style -- string indicating the style of repr() output for floats\n",
      "hash_info -- a struct sequence with information about the hash algorithm.\n",
      "hexversion -- version information encoded as a single integer\n",
      "implementation -- Python implementation information.\n",
      "int_info -- a struct sequence with information about the int implementation.\n",
      "maxsize -- the largest supported length of containers.\n",
      "maxunicode -- the value of the largest Unicode code point\n",
      "platform -- platform identifier\n",
      "prefix -- prefix used to find the Python library\n",
      "thread_info -- a struct sequence with information about the thread implementation.\n",
      "version -- the version of this interpreter as a string\n",
      "version_info -- version information as a named tuple\n",
      "dllhandle -- [Windows only] integer handle of the Python DLL\n",
      "winver -- [Windows only] version number of the Python DLL\n",
      "_enablelegacywindowsfsencoding -- [Windows only] \n",
      "__stdin__ -- the original stdin; don't touch!\n",
      "__stdout__ -- the original stdout; don't touch!\n",
      "__stderr__ -- the original stderr; don't touch!\n",
      "__displayhook__ -- the original displayhook; don't touch!\n",
      "__excepthook__ -- the original excepthook; don't touch!\n",
      "\n",
      "Functions:\n",
      "\n",
      "displayhook() -- print an object to the screen, and save it in builtins._\n",
      "excepthook() -- print an exception and its traceback to sys.stderr\n",
      "exc_info() -- return thread-safe information about the current exception\n",
      "exit() -- exit the interpreter by raising SystemExit\n",
      "getdlopenflags() -- returns flags to be used for dlopen() calls\n",
      "getprofile() -- get the global profiling function\n",
      "getrefcount() -- return the reference count for an object (plus one :-)\n",
      "getrecursionlimit() -- return the max recursion depth for the interpreter\n",
      "getsizeof() -- return the size of an object in bytes\n",
      "gettrace() -- get the global debug tracing function\n",
      "setcheckinterval() -- control how often the interpreter checks for events\n",
      "setdlopenflags() -- set the flags to be used for dlopen() calls\n",
      "setprofile() -- set the global profiling function\n",
      "setrecursionlimit() -- set the max recursion depth for the interpreter\n",
      "settrace() -- set the global debug tracing function\n",
      "\n"
     ]
    }
   ],
   "source": [
    "import sys\n",
    "print(sys.__doc__) #this is better than plain `sys.__doc__`"
   ]
  },
  {
   "cell_type": "code",
   "execution_count": 44,
   "metadata": {},
   "outputs": [
    {
     "data": {
      "text/plain": [
       "1000000000"
      ]
     },
     "execution_count": 44,
     "metadata": {},
     "output_type": "execute_result"
    }
   ],
   "source": [
    ">>> m = 1_000_000_000\n",
    ">>> m\n",
    "\n",
    "#Only in Python3.6+\n"
   ]
  },
  {
   "cell_type": "markdown",
   "metadata": {},
   "source": [
    "In Python, even simple data objects, like integers, can invoke methods. Also '-' is a unary operator. \n",
    "\n",
    "In second example below, it is applied to the sum of 99 and 28, because attribute access binds more tightly than '-'."
   ]
  },
  {
   "cell_type": "code",
   "execution_count": 47,
   "metadata": {},
   "outputs": [
    {
     "data": {
      "text/plain": [
       "-71"
      ]
     },
     "execution_count": 47,
     "metadata": {},
     "output_type": "execute_result"
    }
   ],
   "source": [
    "(-99).__add__(28)\n"
   ]
  },
  {
   "cell_type": "code",
   "execution_count": 48,
   "metadata": {},
   "outputs": [
    {
     "data": {
      "text/plain": [
       "-127"
      ]
     },
     "execution_count": 48,
     "metadata": {},
     "output_type": "execute_result"
    }
   ],
   "source": [
    "-99 .__add__(28)"
   ]
  },
  {
   "cell_type": "code",
   "execution_count": 51,
   "metadata": {},
   "outputs": [
    {
     "ename": "NameError",
     "evalue": "name 'nsmallest' is not defined",
     "output_type": "error",
     "traceback": [
      "\u001b[1;31m---------------------------------------------------------------------------\u001b[0m",
      "\u001b[1;31mNameError\u001b[0m                                 Traceback (most recent call last)",
      "\u001b[1;32m<ipython-input-51-d9f08b8d0932>\u001b[0m in \u001b[0;36m<module>\u001b[1;34m\u001b[0m\n\u001b[0;32m      7\u001b[0m \u001b[0ml\u001b[0m \u001b[1;33m=\u001b[0m \u001b[1;33m[\u001b[0m\u001b[1;36m1\u001b[0m\u001b[1;33m,\u001b[0m\u001b[1;36m2\u001b[0m\u001b[1;33m,\u001b[0m\u001b[1;36m3\u001b[0m\u001b[1;33m,\u001b[0m\u001b[1;36m4\u001b[0m\u001b[1;33m,\u001b[0m\u001b[1;36m5\u001b[0m\u001b[1;33m,\u001b[0m\u001b[1;36m6\u001b[0m\u001b[1;33m,\u001b[0m\u001b[1;36m7\u001b[0m\u001b[1;33m,\u001b[0m\u001b[1;36m8\u001b[0m\u001b[1;33m,\u001b[0m\u001b[1;36m9\u001b[0m\u001b[1;33m]\u001b[0m\u001b[1;33m\u001b[0m\u001b[0m\n\u001b[0;32m      8\u001b[0m \u001b[1;33m\u001b[0m\u001b[0m\n\u001b[1;32m----> 9\u001b[1;33m \u001b[0mknn\u001b[0m\u001b[1;33m(\u001b[0m\u001b[1;36m2\u001b[0m\u001b[1;33m,\u001b[0m\u001b[1;36m4\u001b[0m\u001b[1;33m,\u001b[0m\u001b[0ml\u001b[0m\u001b[1;33m)\u001b[0m\u001b[1;33m\u001b[0m\u001b[0m\n\u001b[0m\u001b[0;32m     10\u001b[0m \u001b[1;33m\u001b[0m\u001b[0m\n\u001b[0;32m     11\u001b[0m \u001b[1;31m#source - https://twitter.com/raymondh/status/981198588834299904\u001b[0m\u001b[1;33m\u001b[0m\u001b[1;33m\u001b[0m\u001b[0m\n",
      "\u001b[1;32m<ipython-input-51-d9f08b8d0932>\u001b[0m in \u001b[0;36mknn\u001b[1;34m(k, x, sortlist)\u001b[0m\n\u001b[0;32m      2\u001b[0m     \u001b[0mi\u001b[0m \u001b[1;33m=\u001b[0m \u001b[0mbisect\u001b[0m\u001b[1;33m(\u001b[0m\u001b[0msortlist\u001b[0m\u001b[1;33m,\u001b[0m \u001b[0mx\u001b[0m\u001b[1;33m)\u001b[0m\u001b[1;33m\u001b[0m\u001b[0m\n\u001b[0;32m      3\u001b[0m     \u001b[0msegment\u001b[0m \u001b[1;33m=\u001b[0m \u001b[0msortlist\u001b[0m\u001b[1;33m[\u001b[0m\u001b[0mmax\u001b[0m\u001b[1;33m(\u001b[0m\u001b[0mi\u001b[0m\u001b[1;33m-\u001b[0m\u001b[0mk\u001b[0m\u001b[1;33m,\u001b[0m\u001b[1;36m0\u001b[0m\u001b[1;33m)\u001b[0m\u001b[1;33m:\u001b[0m \u001b[0mi\u001b[0m\u001b[1;33m+\u001b[0m\u001b[0mk\u001b[0m\u001b[1;33m]\u001b[0m\u001b[1;33m\u001b[0m\u001b[0m\n\u001b[1;32m----> 4\u001b[1;33m     \u001b[1;32mreturn\u001b[0m \u001b[0mnsmallest\u001b[0m\u001b[1;33m(\u001b[0m\u001b[0mk\u001b[0m\u001b[1;33m,\u001b[0m\u001b[0msegment\u001b[0m\u001b[1;33m,\u001b[0m \u001b[0mkey\u001b[0m \u001b[1;33m=\u001b[0m \u001b[1;32mlambda\u001b[0m \u001b[0my\u001b[0m\u001b[1;33m:\u001b[0m \u001b[0mabs\u001b[0m\u001b[1;33m(\u001b[0m\u001b[0mx\u001b[0m\u001b[1;33m-\u001b[0m\u001b[0my\u001b[0m\u001b[1;33m)\u001b[0m\u001b[1;33m)\u001b[0m\u001b[1;33m\u001b[0m\u001b[0m\n\u001b[0m\u001b[0;32m      5\u001b[0m \u001b[1;33m\u001b[0m\u001b[0m\n\u001b[0;32m      6\u001b[0m \u001b[1;32mfrom\u001b[0m \u001b[0mbisect\u001b[0m \u001b[1;32mimport\u001b[0m \u001b[1;33m*\u001b[0m\u001b[1;33m\u001b[0m\u001b[0m\n",
      "\u001b[1;31mNameError\u001b[0m: name 'nsmallest' is not defined"
     ]
    }
   ],
   "source": [
    "def knn(k,x, sortlist):\n",
    "    i = bisect(sortlist, x)\n",
    "    segment = sortlist[max(i-k,0): i+k]\n",
    "    return nsmallest(k,segment, key = lambda y: abs(x-y))\n",
    "\n",
    "from bisect import *\n",
    "l = [1,2,3,4,5,6,7,8,9]\n",
    "\n",
    "knn(2,4,l)\n",
    "\n",
    "#source - https://twitter.com/raymondh/status/981198588834299904"
   ]
  },
  {
   "cell_type": "code",
   "execution_count": 52,
   "metadata": {},
   "outputs": [
    {
     "name": "stdout",
     "output_type": "stream",
     "text": [
      "**\n",
      "*\n",
      "******\n",
      "************\n",
      "****************\n",
      "*******************\n",
      "*******************************************\n",
      "**********************************\n",
      "***********************************************************\n",
      "**********************************************************************\n",
      "*****************************************************************\n",
      "*************************************************************\n",
      "****************************************************\n",
      "******************************************\n",
      "*********************************************\n",
      "*****************************\n",
      "***********************\n",
      "******\n",
      "*********\n",
      "****\n",
      "\n",
      "**\n"
     ]
    }
   ],
   "source": [
    "from collections import Counter\n",
    "from random import random\n",
    "c = Counter(round(sum(random() for i in range(150))) for j in range(600)) \n",
    "\n",
    "for i in range(min(c), max(c)+1):\n",
    "    print('*'*c[i])\n",
    "    \n",
    "#source - https://twitter.com/raymondh/status/972549441201750016"
   ]
  },
  {
   "cell_type": "code",
   "execution_count": 53,
   "metadata": {},
   "outputs": [
    {
     "name": "stdout",
     "output_type": "stream",
     "text": [
      "3.14159\n"
     ]
    }
   ],
   "source": [
    "e = .000001\n",
    "c = complex(-0.75, e)\n",
    "i = z = 0\n",
    "while abs(z) < 1.0:\n",
    "    z = z**2 + c\n",
    "    i += 1\n",
    "print(i*e)    \n",
    "\n",
    "#source - https://twitter.com/raymondh/status/974134329017184256"
   ]
  },
  {
   "cell_type": "markdown",
   "metadata": {},
   "source": [
    "#### Reading the source code of the module you imported "
   ]
  },
  {
   "cell_type": "code",
   "execution_count": 54,
   "metadata": {},
   "outputs": [
    {
     "name": "stdout",
     "output_type": "stream",
     "text": [
      "('r\"\"\"OS routines for NT or Posix depending on what system we\\'re on.\\n'\n",
      " '\\n'\n",
      " 'This exports:\\n'\n",
      " '  - all functions from posix or nt, e.g. unlink, stat, etc.\\n'\n",
      " '  - os.path is either posixpath or ntpath\\n'\n",
      " \"  - os.name is either 'posix' or 'nt'\\n\"\n",
      " \"  - os.curdir is a string representing the current directory (always '.')\\n\"\n",
      " \"  - os.pardir is a string representing the parent directory (always '..')\\n\"\n",
      " \"  - os.sep is the (or a most common) pathname separator ('/' or '\\\\\\\\')\\n\"\n",
      " \"  - os.extsep is the extension separator (always '.')\\n\"\n",
      " \"  - os.altsep is the alternate pathname separator (None or '/')\\n\"\n",
      " '  - os.pathsep is the component separator used in $PATH etc\\n'\n",
      " \"  - os.linesep is the line separator in text files ('\\\\r' or '\\\\n' or \"\n",
      " \"'\\\\r\\\\n')\\n\"\n",
      " '  - os.defpath is the default search path for executables\\n'\n",
      " \"  - os.devnull is the file path of the null device ('/dev/null', etc.)\\n\"\n",
      " '\\n'\n",
      " \"Programs that import and use 'os' stand a better chance of being\\n\"\n",
      " 'portable between different platforms.  Of course, they must then\\n'\n",
      " 'only use functions that are defined by all platforms (e.g., unlink\\n'\n",
      " 'and opendir), and leave all pathname manipulation to os.path\\n'\n",
      " '(e.g., split and join).\\n'\n",
      " '\"\"\"\\n'\n",
      " '\\n'\n",
      " \"#'\\n\"\n",
      " 'import abc\\n'\n",
      " 'import sys\\n'\n",
      " 'import stat as st\\n'\n",
      " '\\n'\n",
      " '_names = sys.builtin_module_names\\n'\n",
      " '\\n'\n",
      " '# Note:  more names are added to __all__ later.\\n'\n",
      " '__all__ = [\"altsep\", \"curdir\", \"pardir\", \"sep\", \"pathsep\", \"linesep\",\\n'\n",
      " '           \"defpath\", \"name\", \"path\", \"devnull\", \"SEEK_SET\", \"SEEK_CUR\",\\n'\n",
      " '           \"SEEK_END\", \"fsencode\", \"fsdecode\", \"get_exec_path\", \"fdopen\",\\n'\n",
      " '           \"popen\", \"extsep\"]\\n'\n",
      " '\\n'\n",
      " 'def _exists(name):\\n'\n",
      " '    return name in globals()\\n'\n",
      " '\\n'\n",
      " 'def _get_exports_list(module):\\n'\n",
      " '    try:\\n'\n",
      " '        return list(module.__all__)\\n'\n",
      " '    except AttributeError:\\n'\n",
      " \"        return [n for n in dir(module) if n[0] != '_']\\n\"\n",
      " '\\n'\n",
      " '# Any new dependencies of the os module and/or changes in path separator\\n'\n",
      " '# requires updating importlib as well.\\n'\n",
      " \"if 'posix' in _names:\\n\"\n",
      " \"    name = 'posix'\\n\"\n",
      " \"    linesep = '\\\\n'\\n\"\n",
      " '    from posix import *\\n'\n",
      " '    try:\\n'\n",
      " '        from posix import _exit\\n'\n",
      " \"        __all__.append('_exit')\\n\"\n",
      " '    except ImportError:\\n'\n",
      " '        pass\\n'\n",
      " '    import posixpath as path\\n'\n",
      " '\\n'\n",
      " '    try:\\n'\n",
      " '        from posix import _have_functions\\n'\n",
      " '    except ImportError:\\n'\n",
      " '        pass\\n'\n",
      " '\\n'\n",
      " '    import posix\\n'\n",
      " '    __all__.extend(_get_exports_list(posix))\\n'\n",
      " '    del posix\\n'\n",
      " '\\n'\n",
      " \"elif 'nt' in _names:\\n\"\n",
      " \"    name = 'nt'\\n\"\n",
      " \"    linesep = '\\\\r\\\\n'\\n\"\n",
      " '    from nt import *\\n'\n",
      " '    try:\\n'\n",
      " '        from nt import _exit\\n'\n",
      " \"        __all__.append('_exit')\\n\"\n",
      " '    except ImportError:\\n'\n",
      " '        pass\\n'\n",
      " '    import ntpath as path\\n'\n",
      " '\\n'\n",
      " '    import nt\\n'\n",
      " '    __all__.extend(_get_exports_list(nt))\\n'\n",
      " '    del nt\\n'\n",
      " '\\n'\n",
      " '    try:\\n'\n",
      " '        from nt import _have_functions\\n'\n",
      " '    except ImportError:\\n'\n",
      " '        pass\\n'\n",
      " '\\n'\n",
      " 'else:\\n'\n",
      " \"    raise ImportError('no os specific module found')\\n\"\n",
      " '\\n'\n",
      " \"sys.modules['os.path'] = path\\n\"\n",
      " 'from os.path import (curdir, pardir, sep, pathsep, defpath, extsep, altsep,\\n'\n",
      " '    devnull)\\n'\n",
      " '\\n'\n",
      " 'del _names\\n'\n",
      " '\\n'\n",
      " '\\n'\n",
      " 'if _exists(\"_have_functions\"):\\n'\n",
      " '    _globals = globals()\\n'\n",
      " '    def _add(str, fn):\\n'\n",
      " '        if (fn in _globals) and (str in _have_functions):\\n'\n",
      " '            _set.add(_globals[fn])\\n'\n",
      " '\\n'\n",
      " '    _set = set()\\n'\n",
      " '    _add(\"HAVE_FACCESSAT\",  \"access\")\\n'\n",
      " '    _add(\"HAVE_FCHMODAT\",   \"chmod\")\\n'\n",
      " '    _add(\"HAVE_FCHOWNAT\",   \"chown\")\\n'\n",
      " '    _add(\"HAVE_FSTATAT\",    \"stat\")\\n'\n",
      " '    _add(\"HAVE_FUTIMESAT\",  \"utime\")\\n'\n",
      " '    _add(\"HAVE_LINKAT\",     \"link\")\\n'\n",
      " '    _add(\"HAVE_MKDIRAT\",    \"mkdir\")\\n'\n",
      " '    _add(\"HAVE_MKFIFOAT\",   \"mkfifo\")\\n'\n",
      " '    _add(\"HAVE_MKNODAT\",    \"mknod\")\\n'\n",
      " '    _add(\"HAVE_OPENAT\",     \"open\")\\n'\n",
      " '    _add(\"HAVE_READLINKAT\", \"readlink\")\\n'\n",
      " '    _add(\"HAVE_RENAMEAT\",   \"rename\")\\n'\n",
      " '    _add(\"HAVE_SYMLINKAT\",  \"symlink\")\\n'\n",
      " '    _add(\"HAVE_UNLINKAT\",   \"unlink\")\\n'\n",
      " '    _add(\"HAVE_UNLINKAT\",   \"rmdir\")\\n'\n",
      " '    _add(\"HAVE_UTIMENSAT\",  \"utime\")\\n'\n",
      " '    supports_dir_fd = _set\\n'\n",
      " '\\n'\n",
      " '    _set = set()\\n'\n",
      " '    _add(\"HAVE_FACCESSAT\",  \"access\")\\n'\n",
      " '    supports_effective_ids = _set\\n'\n",
      " '\\n'\n",
      " '    _set = set()\\n'\n",
      " '    _add(\"HAVE_FCHDIR\",     \"chdir\")\\n'\n",
      " '    _add(\"HAVE_FCHMOD\",     \"chmod\")\\n'\n",
      " '    _add(\"HAVE_FCHOWN\",     \"chown\")\\n'\n",
      " '    _add(\"HAVE_FDOPENDIR\",  \"listdir\")\\n'\n",
      " '    _add(\"HAVE_FDOPENDIR\",  \"scandir\")\\n'\n",
      " '    _add(\"HAVE_FEXECVE\",    \"execve\")\\n'\n",
      " '    _set.add(stat) # fstat always works\\n'\n",
      " '    _add(\"HAVE_FTRUNCATE\",  \"truncate\")\\n'\n",
      " '    _add(\"HAVE_FUTIMENS\",   \"utime\")\\n'\n",
      " '    _add(\"HAVE_FUTIMES\",    \"utime\")\\n'\n",
      " '    _add(\"HAVE_FPATHCONF\",  \"pathconf\")\\n'\n",
      " '    if _exists(\"statvfs\") and _exists(\"fstatvfs\"): # mac os x10.3\\n'\n",
      " '        _add(\"HAVE_FSTATVFS\", \"statvfs\")\\n'\n",
      " '    supports_fd = _set\\n'\n",
      " '\\n'\n",
      " '    _set = set()\\n'\n",
      " '    _add(\"HAVE_FACCESSAT\",  \"access\")\\n'\n",
      " \"    # Some platforms don't support lchmod().  Often the function exists\\n\"\n",
      " '    # anyway, as a stub that always returns ENOSUP or perhaps EOPNOTSUPP.\\n'\n",
      " \"    # (No, I don't know why that's a good design.)  ./configure will detect\\n\"\n",
      " \"    # this and reject it--so HAVE_LCHMOD still won't be defined on such\\n\"\n",
      " '    # platforms.  This is Very Helpful.\\n'\n",
      " '    #\\n'\n",
      " '    # However, sometimes platforms without a working lchmod() *do* have\\n'\n",
      " '    # fchmodat().  (Examples: Linux kernel 3.2 with glibc 2.15,\\n'\n",
      " '    # OpenIndiana 3.x.)  And fchmodat() has a flag that theoretically makes\\n'\n",
      " '    # it behave like lchmod().  So in theory it would be a suitable\\n'\n",
      " \"    # replacement for lchmod().  But when lchmod() doesn't work, \"\n",
      " \"fchmodat()'s\\n\"\n",
      " \"    # flag doesn't work *either*.  Sadly ./configure isn't sophisticated\\n\"\n",
      " '    # enough to detect this condition--it only determines whether or not\\n'\n",
      " '    # fchmodat() minimally works.\\n'\n",
      " '    #\\n'\n",
      " '    # Therefore we simply ignore fchmodat() when deciding whether or not\\n'\n",
      " '    # os.chmod supports follow_symlinks.  Just checking lchmod() is\\n'\n",
      " '    # sufficient.  After all--if you have a working fchmodat(), your\\n'\n",
      " '    # lchmod() almost certainly works too.\\n'\n",
      " '    #\\n'\n",
      " '    # _add(\"HAVE_FCHMODAT\",   \"chmod\")\\n'\n",
      " '    _add(\"HAVE_FCHOWNAT\",   \"chown\")\\n'\n",
      " '    _add(\"HAVE_FSTATAT\",    \"stat\")\\n'\n",
      " '    _add(\"HAVE_LCHFLAGS\",   \"chflags\")\\n'\n",
      " '    _add(\"HAVE_LCHMOD\",     \"chmod\")\\n'\n",
      " '    if _exists(\"lchown\"): # mac os x10.3\\n'\n",
      " '        _add(\"HAVE_LCHOWN\", \"chown\")\\n'\n",
      " '    _add(\"HAVE_LINKAT\",     \"link\")\\n'\n",
      " '    _add(\"HAVE_LUTIMES\",    \"utime\")\\n'\n",
      " '    _add(\"HAVE_LSTAT\",      \"stat\")\\n'\n",
      " '    _add(\"HAVE_FSTATAT\",    \"stat\")\\n'\n",
      " '    _add(\"HAVE_UTIMENSAT\",  \"utime\")\\n'\n",
      " '    _add(\"MS_WINDOWS\",      \"stat\")\\n'\n",
      " '    supports_follow_symlinks = _set\\n'\n",
      " '\\n'\n",
      " '    del _set\\n'\n",
      " '    del _have_functions\\n'\n",
      " '    del _globals\\n'\n",
      " '    del _add\\n'\n",
      " '\\n'\n",
      " '\\n'\n",
      " '# Python uses fixed values for the SEEK_ constants; they are mapped\\n'\n",
      " '# to native constants if necessary in posixmodule.c\\n'\n",
      " '# Other possible SEEK values are directly imported from posixmodule.c\\n'\n",
      " 'SEEK_SET = 0\\n'\n",
      " 'SEEK_CUR = 1\\n'\n",
      " 'SEEK_END = 2\\n'\n",
      " '\\n'\n",
      " '# Super directory utilities.\\n'\n",
      " '# (Inspired by Eric Raymond; the doc strings are mostly his)\\n'\n",
      " '\\n'\n",
      " 'def makedirs(name, mode=0o777, exist_ok=False):\\n'\n",
      " '    \"\"\"makedirs(name [, mode=0o777][, exist_ok=False])\\n'\n",
      " '\\n'\n",
      " '    Super-mkdir; create a leaf directory and all intermediate ones.  Works '\n",
      " 'like\\n'\n",
      " '    mkdir, except that any intermediate path segment (not just the '\n",
      " 'rightmost)\\n'\n",
      " '    will be created if it does not exist. If the target directory already\\n'\n",
      " '    exists, raise an OSError if exist_ok is False. Otherwise no exception '\n",
      " 'is\\n'\n",
      " '    raised.  This is recursive.\\n'\n",
      " '\\n'\n",
      " '    \"\"\"\\n'\n",
      " '    head, tail = path.split(name)\\n'\n",
      " '    if not tail:\\n'\n",
      " '        head, tail = path.split(head)\\n'\n",
      " '    if head and tail and not path.exists(head):\\n'\n",
      " '        try:\\n'\n",
      " '            makedirs(head, exist_ok=exist_ok)\\n'\n",
      " '        except FileExistsError:\\n'\n",
      " '            # Defeats race condition when another thread created the path\\n'\n",
      " '            pass\\n'\n",
      " '        cdir = curdir\\n'\n",
      " '        if isinstance(tail, bytes):\\n'\n",
      " \"            cdir = bytes(curdir, 'ASCII')\\n\"\n",
      " '        if tail == cdir:           # xxx/newdir/. exists if xxx/newdir '\n",
      " 'exists\\n'\n",
      " '            return\\n'\n",
      " '    try:\\n'\n",
      " '        mkdir(name, mode)\\n'\n",
      " '    except OSError:\\n'\n",
      " '        # Cannot rely on checking for EEXIST, since the operating system\\n'\n",
      " '        # could give priority to other errors like EACCES or EROFS\\n'\n",
      " '        if not exist_ok or not path.isdir(name):\\n'\n",
      " '            raise\\n'\n",
      " '\\n'\n",
      " 'def removedirs(name):\\n'\n",
      " '    \"\"\"removedirs(name)\\n'\n",
      " '\\n'\n",
      " '    Super-rmdir; remove a leaf directory and all empty intermediate\\n'\n",
      " '    ones.  Works like rmdir except that, if the leaf directory is\\n'\n",
      " '    successfully removed, directories corresponding to rightmost path\\n'\n",
      " '    segments will be pruned away until either the whole path is\\n'\n",
      " '    consumed or an error occurs.  Errors during this latter phase are\\n'\n",
      " '    ignored -- they generally mean that a directory was not empty.\\n'\n",
      " '\\n'\n",
      " '    \"\"\"\\n'\n",
      " '    rmdir(name)\\n'\n",
      " '    head, tail = path.split(name)\\n'\n",
      " '    if not tail:\\n'\n",
      " '        head, tail = path.split(head)\\n'\n",
      " '    while head and tail:\\n'\n",
      " '        try:\\n'\n",
      " '            rmdir(head)\\n'\n",
      " '        except OSError:\\n'\n",
      " '            break\\n'\n",
      " '        head, tail = path.split(head)\\n'\n",
      " '\\n'\n",
      " 'def renames(old, new):\\n'\n",
      " '    \"\"\"renames(old, new)\\n'\n",
      " '\\n'\n",
      " '    Super-rename; create directories as necessary and delete any left\\n'\n",
      " '    empty.  Works like rename, except creation of any intermediate\\n'\n",
      " '    directories needed to make the new pathname good is attempted\\n'\n",
      " '    first.  After the rename, directories corresponding to rightmost\\n'\n",
      " '    path segments of the old name will be pruned until either the\\n'\n",
      " '    whole path is consumed or a nonempty directory is found.\\n'\n",
      " '\\n'\n",
      " '    Note: this function can fail with the new directory structure made\\n'\n",
      " '    if you lack permissions needed to unlink the leaf directory or\\n'\n",
      " '    file.\\n'\n",
      " '\\n'\n",
      " '    \"\"\"\\n'\n",
      " '    head, tail = path.split(new)\\n'\n",
      " '    if head and tail and not path.exists(head):\\n'\n",
      " '        makedirs(head)\\n'\n",
      " '    rename(old, new)\\n'\n",
      " '    head, tail = path.split(old)\\n'\n",
      " '    if head and tail:\\n'\n",
      " '        try:\\n'\n",
      " '            removedirs(head)\\n'\n",
      " '        except OSError:\\n'\n",
      " '            pass\\n'\n",
      " '\\n'\n",
      " '__all__.extend([\"makedirs\", \"removedirs\", \"renames\"])\\n'\n",
      " '\\n'\n",
      " 'def walk(top, topdown=True, onerror=None, followlinks=False):\\n'\n",
      " '    \"\"\"Directory tree generator.\\n'\n",
      " '\\n'\n",
      " '    For each directory in the directory tree rooted at top (including top\\n'\n",
      " \"    itself, but excluding '.' and '..'), yields a 3-tuple\\n\"\n",
      " '\\n'\n",
      " '        dirpath, dirnames, filenames\\n'\n",
      " '\\n'\n",
      " '    dirpath is a string, the path to the directory.  dirnames is a list of\\n'\n",
      " \"    the names of the subdirectories in dirpath (excluding '.' and '..').\\n\"\n",
      " '    filenames is a list of the names of the non-directory files in dirpath.\\n'\n",
      " '    Note that the names in the lists are just names, with no path '\n",
      " 'components.\\n'\n",
      " '    To get a full path (which begins with top) to a file or directory in\\n'\n",
      " '    dirpath, do os.path.join(dirpath, name).\\n'\n",
      " '\\n'\n",
      " \"    If optional arg 'topdown' is true or not specified, the triple for a\\n\"\n",
      " '    directory is generated before the triples for any of its subdirectories\\n'\n",
      " '    (directories are generated top down).  If topdown is false, the triple\\n'\n",
      " '    for a directory is generated after the triples for all of its\\n'\n",
      " '    subdirectories (directories are generated bottom up).\\n'\n",
      " '\\n'\n",
      " '    When topdown is true, the caller can modify the dirnames list in-place\\n'\n",
      " '    (e.g., via del or slice assignment), and walk will only recurse into '\n",
      " 'the\\n'\n",
      " '    subdirectories whose names remain in dirnames; this can be used to prune '\n",
      " 'the\\n'\n",
      " '    search, or to impose a specific order of visiting.  Modifying dirnames '\n",
      " 'when\\n'\n",
      " '    topdown is false is ineffective, since the directories in dirnames have\\n'\n",
      " '    already been generated by the time dirnames itself is generated. No '\n",
      " 'matter\\n'\n",
      " '    the value of topdown, the list of subdirectories is retrieved before '\n",
      " 'the\\n'\n",
      " '    tuples for the directory and its subdirectories are generated.\\n'\n",
      " '\\n'\n",
      " '    By default errors from the os.scandir() call are ignored.  If\\n'\n",
      " \"    optional arg 'onerror' is specified, it should be a function; it\\n\"\n",
      " '    will be called with one argument, an OSError instance.  It can\\n'\n",
      " '    report the error to continue with the walk, or raise the exception\\n'\n",
      " '    to abort the walk.  Note that the filename is available as the\\n'\n",
      " '    filename attribute of the exception object.\\n'\n",
      " '\\n'\n",
      " '    By default, os.walk does not follow symbolic links to subdirectories on\\n'\n",
      " '    systems that support them.  In order to get this functionality, set the\\n'\n",
      " \"    optional argument 'followlinks' to true.\\n\"\n",
      " '\\n'\n",
      " \"    Caution:  if you pass a relative pathname for top, don't change the\\n\"\n",
      " '    current working directory between resumptions of walk.  walk never\\n'\n",
      " \"    changes the current directory, and assumes that the client doesn't\\n\"\n",
      " '    either.\\n'\n",
      " '\\n'\n",
      " '    Example:\\n'\n",
      " '\\n'\n",
      " '    import os\\n'\n",
      " '    from os.path import join, getsize\\n'\n",
      " \"    for root, dirs, files in os.walk('python/Lib/email'):\\n\"\n",
      " '        print(root, \"consumes\", end=\"\")\\n'\n",
      " '        print(sum([getsize(join(root, name)) for name in files]), end=\"\")\\n'\n",
      " '        print(\"bytes in\", len(files), \"non-directory files\")\\n'\n",
      " \"        if 'CVS' in dirs:\\n\"\n",
      " \"            dirs.remove('CVS')  # don't visit CVS directories\\n\"\n",
      " '\\n'\n",
      " '    \"\"\"\\n'\n",
      " '    top = fspath(top)\\n'\n",
      " '    dirs = []\\n'\n",
      " '    nondirs = []\\n'\n",
      " '    walk_dirs = []\\n'\n",
      " '\\n'\n",
      " \"    # We may not have read permission for top, in which case we can't\\n\"\n",
      " '    # get a list of the files the directory contains.  os.walk\\n'\n",
      " '    # always suppressed the exception then, rather than blow up for a\\n'\n",
      " '    # minor reason when (say) a thousand readable directories are still\\n'\n",
      " '    # left to visit.  That logic is copied here.\\n'\n",
      " '    try:\\n'\n",
      " '        # Note that scandir is global in this module due\\n'\n",
      " '        # to earlier import-*.\\n'\n",
      " '        scandir_it = scandir(top)\\n'\n",
      " '    except OSError as error:\\n'\n",
      " '        if onerror is not None:\\n'\n",
      " '            onerror(error)\\n'\n",
      " '        return\\n'\n",
      " '\\n'\n",
      " '    with scandir_it:\\n'\n",
      " '        while True:\\n'\n",
      " '            try:\\n'\n",
      " '                try:\\n'\n",
      " '                    entry = next(scandir_it)\\n'\n",
      " '                except StopIteration:\\n'\n",
      " '                    break\\n'\n",
      " '            except OSError as error:\\n'\n",
      " '                if onerror is not None:\\n'\n",
      " '                    onerror(error)\\n'\n",
      " '                return\\n'\n",
      " '\\n'\n",
      " '            try:\\n'\n",
      " '                is_dir = entry.is_dir()\\n'\n",
      " '            except OSError:\\n'\n",
      " '                # If is_dir() raises an OSError, consider that the entry is '\n",
      " 'not\\n'\n",
      " '                # a directory, same behaviour than os.path.isdir().\\n'\n",
      " '                is_dir = False\\n'\n",
      " '\\n'\n",
      " '            if is_dir:\\n'\n",
      " '                dirs.append(entry.name)\\n'\n",
      " '            else:\\n'\n",
      " '                nondirs.append(entry.name)\\n'\n",
      " '\\n'\n",
      " '            if not topdown and is_dir:\\n'\n",
      " '                # Bottom-up: recurse into sub-directory, but exclude '\n",
      " 'symlinks to\\n'\n",
      " '                # directories if followlinks is False\\n'\n",
      " '                if followlinks:\\n'\n",
      " '                    walk_into = True\\n'\n",
      " '                else:\\n'\n",
      " '                    try:\\n'\n",
      " '                        is_symlink = entry.is_symlink()\\n'\n",
      " '                    except OSError:\\n'\n",
      " '                        # If is_symlink() raises an OSError, consider that '\n",
      " 'the\\n'\n",
      " '                        # entry is not a symbolic link, same behaviour than\\n'\n",
      " '                        # os.path.islink().\\n'\n",
      " '                        is_symlink = False\\n'\n",
      " '                    walk_into = not is_symlink\\n'\n",
      " '\\n'\n",
      " '                if walk_into:\\n'\n",
      " '                    walk_dirs.append(entry.path)\\n'\n",
      " '\\n'\n",
      " '    # Yield before recursion if going top down\\n'\n",
      " '    if topdown:\\n'\n",
      " '        yield top, dirs, nondirs\\n'\n",
      " '\\n'\n",
      " '        # Recurse into sub-directories\\n'\n",
      " '        islink, join = path.islink, path.join\\n'\n",
      " '        for dirname in dirs:\\n'\n",
      " '            new_path = join(top, dirname)\\n'\n",
      " '            # Issue #23605: os.path.islink() is used instead of caching\\n'\n",
      " '            # entry.is_symlink() result during the loop on os.scandir() '\n",
      " 'because\\n'\n",
      " '            # the caller can replace the directory entry during the \"yield\"\\n'\n",
      " '            # above.\\n'\n",
      " '            if followlinks or not islink(new_path):\\n'\n",
      " '                yield from walk(new_path, topdown, onerror, followlinks)\\n'\n",
      " '    else:\\n'\n",
      " '        # Recurse into sub-directories\\n'\n",
      " '        for new_path in walk_dirs:\\n'\n",
      " '            yield from walk(new_path, topdown, onerror, followlinks)\\n'\n",
      " '        # Yield after recursion if going bottom up\\n'\n",
      " '        yield top, dirs, nondirs\\n'\n",
      " '\\n'\n",
      " '__all__.append(\"walk\")\\n'\n",
      " '\\n'\n",
      " 'if {open, stat} <= supports_dir_fd and {scandir, stat} <= supports_fd:\\n'\n",
      " '\\n'\n",
      " '    def fwalk(top=\".\", topdown=True, onerror=None, *, follow_symlinks=False, '\n",
      " 'dir_fd=None):\\n'\n",
      " '        \"\"\"Directory tree generator.\\n'\n",
      " '\\n'\n",
      " '        This behaves exactly like walk(), except that it yields a 4-tuple\\n'\n",
      " '\\n'\n",
      " '            dirpath, dirnames, filenames, dirfd\\n'\n",
      " '\\n'\n",
      " '        `dirpath`, `dirnames` and `filenames` are identical to walk() '\n",
      " 'output,\\n'\n",
      " '        and `dirfd` is a file descriptor referring to the directory '\n",
      " '`dirpath`.\\n'\n",
      " '\\n'\n",
      " \"        The advantage of fwalk() over walk() is that it's safe against \"\n",
      " 'symlink\\n'\n",
      " '        races (when follow_symlinks is False).\\n'\n",
      " '\\n'\n",
      " '        If dir_fd is not None, it should be a file descriptor open to a '\n",
      " 'directory,\\n'\n",
      " '          and top should be relative; top will then be relative to that '\n",
      " 'directory.\\n'\n",
      " '          (dir_fd is always supported for fwalk.)\\n'\n",
      " '\\n'\n",
      " '        Caution:\\n'\n",
      " '        Since fwalk() yields file descriptors, those are only valid until '\n",
      " 'the\\n'\n",
      " '        next iteration step, so you should dup() them if you want to keep '\n",
      " 'them\\n'\n",
      " '        for a longer period.\\n'\n",
      " '\\n'\n",
      " '        Example:\\n'\n",
      " '\\n'\n",
      " '        import os\\n'\n",
      " \"        for root, dirs, files, rootfd in os.fwalk('python/Lib/email'):\\n\"\n",
      " '            print(root, \"consumes\", end=\"\")\\n'\n",
      " '            print(sum([os.stat(name, dir_fd=rootfd).st_size for name in '\n",
      " 'files]),\\n'\n",
      " '                  end=\"\")\\n'\n",
      " '            print(\"bytes in\", len(files), \"non-directory files\")\\n'\n",
      " \"            if 'CVS' in dirs:\\n\"\n",
      " \"                dirs.remove('CVS')  # don't visit CVS directories\\n\"\n",
      " '        \"\"\"\\n'\n",
      " \"        if not isinstance(top, int) or not hasattr(top, '__index__'):\\n\"\n",
      " '            top = fspath(top)\\n'\n",
      " '        # Note: To guard against symlink races, we use the standard\\n'\n",
      " '        # lstat()/open()/fstat() trick.\\n'\n",
      " '        if not follow_symlinks:\\n'\n",
      " '            orig_st = stat(top, follow_symlinks=False, dir_fd=dir_fd)\\n'\n",
      " '        topfd = open(top, O_RDONLY, dir_fd=dir_fd)\\n'\n",
      " '        try:\\n'\n",
      " '            if (follow_symlinks or (st.S_ISDIR(orig_st.st_mode) and\\n'\n",
      " '                                    path.samestat(orig_st, stat(topfd)))):\\n'\n",
      " '                yield from _fwalk(topfd, top, isinstance(top, bytes),\\n'\n",
      " '                                  topdown, onerror, follow_symlinks)\\n'\n",
      " '        finally:\\n'\n",
      " '            close(topfd)\\n'\n",
      " '\\n'\n",
      " '    def _fwalk(topfd, toppath, isbytes, topdown, onerror, follow_symlinks):\\n'\n",
      " '        # Note: This uses O(depth of the directory tree) file descriptors: '\n",
      " 'if\\n'\n",
      " '        # necessary, it can be adapted to only require O(1) FDs, see issue\\n'\n",
      " '        # #13734.\\n'\n",
      " '\\n'\n",
      " '        scandir_it = scandir(topfd)\\n'\n",
      " '        dirs = []\\n'\n",
      " '        nondirs = []\\n'\n",
      " '        entries = None if topdown or follow_symlinks else []\\n'\n",
      " '        for entry in scandir_it:\\n'\n",
      " '            name = entry.name\\n'\n",
      " '            if isbytes:\\n'\n",
      " '                name = fsencode(name)\\n'\n",
      " '            try:\\n'\n",
      " '                if entry.is_dir():\\n'\n",
      " '                    dirs.append(name)\\n'\n",
      " '                    if entries is not None:\\n'\n",
      " '                        entries.append(entry)\\n'\n",
      " '                else:\\n'\n",
      " '                    nondirs.append(name)\\n'\n",
      " '            except OSError:\\n'\n",
      " '                try:\\n'\n",
      " '                    # Add dangling symlinks, ignore disappeared files\\n'\n",
      " '                    if entry.is_symlink():\\n'\n",
      " '                        nondirs.append(name)\\n'\n",
      " '                except OSError:\\n'\n",
      " '                    pass\\n'\n",
      " '\\n'\n",
      " '        if topdown:\\n'\n",
      " '            yield toppath, dirs, nondirs, topfd\\n'\n",
      " '\\n'\n",
      " '        for name in dirs if entries is None else zip(dirs, entries):\\n'\n",
      " '            try:\\n'\n",
      " '                if not follow_symlinks:\\n'\n",
      " '                    if topdown:\\n'\n",
      " '                        orig_st = stat(name, dir_fd=topfd, '\n",
      " 'follow_symlinks=False)\\n'\n",
      " '                    else:\\n'\n",
      " '                        assert entries is not None\\n'\n",
      " '                        name, entry = name\\n'\n",
      " '                        orig_st = entry.stat(follow_symlinks=False)\\n'\n",
      " '                dirfd = open(name, O_RDONLY, dir_fd=topfd)\\n'\n",
      " '            except OSError as err:\\n'\n",
      " '                if onerror is not None:\\n'\n",
      " '                    onerror(err)\\n'\n",
      " '                continue\\n'\n",
      " '            try:\\n'\n",
      " '                if follow_symlinks or path.samestat(orig_st, stat(dirfd)):\\n'\n",
      " '                    dirpath = path.join(toppath, name)\\n'\n",
      " '                    yield from _fwalk(dirfd, dirpath, isbytes,\\n'\n",
      " '                                      topdown, onerror, follow_symlinks)\\n'\n",
      " '            finally:\\n'\n",
      " '                close(dirfd)\\n'\n",
      " '\\n'\n",
      " '        if not topdown:\\n'\n",
      " '            yield toppath, dirs, nondirs, topfd\\n'\n",
      " '\\n'\n",
      " '    __all__.append(\"fwalk\")\\n'\n",
      " '\\n'\n",
      " '# Make sure os.environ exists, at least\\n'\n",
      " 'try:\\n'\n",
      " '    environ\\n'\n",
      " 'except NameError:\\n'\n",
      " '    environ = {}\\n'\n",
      " '\\n'\n",
      " 'def execl(file, *args):\\n'\n",
      " '    \"\"\"execl(file, *args)\\n'\n",
      " '\\n'\n",
      " '    Execute the executable file with argument list args, replacing the\\n'\n",
      " '    current process. \"\"\"\\n'\n",
      " '    execv(file, args)\\n'\n",
      " '\\n'\n",
      " 'def execle(file, *args):\\n'\n",
      " '    \"\"\"execle(file, *args, env)\\n'\n",
      " '\\n'\n",
      " '    Execute the executable file with argument list args and\\n'\n",
      " '    environment env, replacing the current process. \"\"\"\\n'\n",
      " '    env = args[-1]\\n'\n",
      " '    execve(file, args[:-1], env)\\n'\n",
      " '\\n'\n",
      " 'def execlp(file, *args):\\n'\n",
      " '    \"\"\"execlp(file, *args)\\n'\n",
      " '\\n'\n",
      " '    Execute the executable file (which is searched for along $PATH)\\n'\n",
      " '    with argument list args, replacing the current process. \"\"\"\\n'\n",
      " '    execvp(file, args)\\n'\n",
      " '\\n'\n",
      " 'def execlpe(file, *args):\\n'\n",
      " '    \"\"\"execlpe(file, *args, env)\\n'\n",
      " '\\n'\n",
      " '    Execute the executable file (which is searched for along $PATH)\\n'\n",
      " '    with argument list args and environment env, replacing the current\\n'\n",
      " '    process. \"\"\"\\n'\n",
      " '    env = args[-1]\\n'\n",
      " '    execvpe(file, args[:-1], env)\\n'\n",
      " '\\n'\n",
      " 'def execvp(file, args):\\n'\n",
      " '    \"\"\"execvp(file, args)\\n'\n",
      " '\\n'\n",
      " '    Execute the executable file (which is searched for along $PATH)\\n'\n",
      " '    with argument list args, replacing the current process.\\n'\n",
      " '    args may be a list or tuple of strings. \"\"\"\\n'\n",
      " '    _execvpe(file, args)\\n'\n",
      " '\\n'\n",
      " 'def execvpe(file, args, env):\\n'\n",
      " '    \"\"\"execvpe(file, args, env)\\n'\n",
      " '\\n'\n",
      " '    Execute the executable file (which is searched for along $PATH)\\n'\n",
      " '    with argument list args and environment env , replacing the\\n'\n",
      " '    current process.\\n'\n",
      " '    args may be a list or tuple of strings. \"\"\"\\n'\n",
      " '    _execvpe(file, args, env)\\n'\n",
      " '\\n'\n",
      " '__all__.extend([\"execl\",\"execle\",\"execlp\",\"execlpe\",\"execvp\",\"execvpe\"])\\n'\n",
      " '\\n'\n",
      " 'def _execvpe(file, args, env=None):\\n'\n",
      " '    if env is not None:\\n'\n",
      " '        exec_func = execve\\n'\n",
      " '        argrest = (args, env)\\n'\n",
      " '    else:\\n'\n",
      " '        exec_func = execv\\n'\n",
      " '        argrest = (args,)\\n'\n",
      " '        env = environ\\n'\n",
      " '\\n'\n",
      " '    if path.dirname(file):\\n'\n",
      " '        exec_func(file, *argrest)\\n'\n",
      " '        return\\n'\n",
      " '    saved_exc = None\\n'\n",
      " '    path_list = get_exec_path(env)\\n'\n",
      " \"    if name != 'nt':\\n\"\n",
      " '        file = fsencode(file)\\n'\n",
      " '        path_list = map(fsencode, path_list)\\n'\n",
      " '    for dir in path_list:\\n'\n",
      " '        fullname = path.join(dir, file)\\n'\n",
      " '        try:\\n'\n",
      " '            exec_func(fullname, *argrest)\\n'\n",
      " '        except (FileNotFoundError, NotADirectoryError) as e:\\n'\n",
      " '            last_exc = e\\n'\n",
      " '        except OSError as e:\\n'\n",
      " '            last_exc = e\\n'\n",
      " '            if saved_exc is None:\\n'\n",
      " '                saved_exc = e\\n'\n",
      " '    if saved_exc is not None:\\n'\n",
      " '        raise saved_exc\\n'\n",
      " '    raise last_exc\\n'\n",
      " '\\n'\n",
      " '\\n'\n",
      " 'def get_exec_path(env=None):\\n'\n",
      " '    \"\"\"Returns the sequence of directories that will be searched for the\\n'\n",
      " '    named executable (similar to a shell) when launching a process.\\n'\n",
      " '\\n'\n",
      " '    *env* must be an environment variable dict or None.  If *env* is None,\\n'\n",
      " '    os.environ will be used.\\n'\n",
      " '    \"\"\"\\n'\n",
      " '    # Use a local import instead of a global import to limit the number of\\n'\n",
      " '    # modules loaded at startup: the os module is always loaded at startup '\n",
      " 'by\\n'\n",
      " '    # Python. It may also avoid a bootstrap issue.\\n'\n",
      " '    import warnings\\n'\n",
      " '\\n'\n",
      " '    if env is None:\\n'\n",
      " '        env = environ\\n'\n",
      " '\\n'\n",
      " \"    # {b'PATH': ...}.get('PATH') and {'PATH': ...}.get(b'PATH') emit a\\n\"\n",
      " '    # BytesWarning when using python -b or python -bb: ignore the warning\\n'\n",
      " '    with warnings.catch_warnings():\\n'\n",
      " '        warnings.simplefilter(\"ignore\", BytesWarning)\\n'\n",
      " '\\n'\n",
      " '        try:\\n'\n",
      " \"            path_list = env.get('PATH')\\n\"\n",
      " '        except TypeError:\\n'\n",
      " '            path_list = None\\n'\n",
      " '\\n'\n",
      " '        if supports_bytes_environ:\\n'\n",
      " '            try:\\n'\n",
      " \"                path_listb = env[b'PATH']\\n\"\n",
      " '            except (KeyError, TypeError):\\n'\n",
      " '                pass\\n'\n",
      " '            else:\\n'\n",
      " '                if path_list is not None:\\n'\n",
      " '                    raise ValueError(\\n'\n",
      " '                        \"env cannot contain \\'PATH\\' and b\\'PATH\\' keys\")\\n'\n",
      " '                path_list = path_listb\\n'\n",
      " '\\n'\n",
      " '            if path_list is not None and isinstance(path_list, bytes):\\n'\n",
      " '                path_list = fsdecode(path_list)\\n'\n",
      " '\\n'\n",
      " '    if path_list is None:\\n'\n",
      " '        path_list = defpath\\n'\n",
      " '    return path_list.split(pathsep)\\n'\n",
      " '\\n'\n",
      " '\\n'\n",
      " '# Change environ to automatically call putenv(), unsetenv if they exist.\\n'\n",
      " 'from _collections_abc import MutableMapping\\n'\n",
      " '\\n'\n",
      " 'class _Environ(MutableMapping):\\n'\n",
      " '    def __init__(self, data, encodekey, decodekey, encodevalue, decodevalue, '\n",
      " 'putenv, unsetenv):\\n'\n",
      " '        self.encodekey = encodekey\\n'\n",
      " '        self.decodekey = decodekey\\n'\n",
      " '        self.encodevalue = encodevalue\\n'\n",
      " '        self.decodevalue = decodevalue\\n'\n",
      " '        self.putenv = putenv\\n'\n",
      " '        self.unsetenv = unsetenv\\n'\n",
      " '        self._data = data\\n'\n",
      " '\\n'\n",
      " '    def __getitem__(self, key):\\n'\n",
      " '        try:\\n'\n",
      " '            value = self._data[self.encodekey(key)]\\n'\n",
      " '        except KeyError:\\n'\n",
      " '            # raise KeyError with the original key value\\n'\n",
      " '            raise KeyError(key) from None\\n'\n",
      " '        return self.decodevalue(value)\\n'\n",
      " '\\n'\n",
      " '    def __setitem__(self, key, value):\\n'\n",
      " '        key = self.encodekey(key)\\n'\n",
      " '        value = self.encodevalue(value)\\n'\n",
      " '        self.putenv(key, value)\\n'\n",
      " '        self._data[key] = value\\n'\n",
      " '\\n'\n",
      " '    def __delitem__(self, key):\\n'\n",
      " '        encodedkey = self.encodekey(key)\\n'\n",
      " '        self.unsetenv(encodedkey)\\n'\n",
      " '        try:\\n'\n",
      " '            del self._data[encodedkey]\\n'\n",
      " '        except KeyError:\\n'\n",
      " '            # raise KeyError with the original key value\\n'\n",
      " '            raise KeyError(key) from None\\n'\n",
      " '\\n'\n",
      " '    def __iter__(self):\\n'\n",
      " '        # list() from dict object is an atomic operation\\n'\n",
      " '        keys = list(self._data)\\n'\n",
      " '        for key in keys:\\n'\n",
      " '            yield self.decodekey(key)\\n'\n",
      " '\\n'\n",
      " '    def __len__(self):\\n'\n",
      " '        return len(self._data)\\n'\n",
      " '\\n'\n",
      " '    def __repr__(self):\\n'\n",
      " \"        return 'environ({{{}}})'.format(', '.join(\\n\"\n",
      " \"            ('{!r}: {!r}'.format(self.decodekey(key), \"\n",
      " 'self.decodevalue(value))\\n'\n",
      " '            for key, value in self._data.items())))\\n'\n",
      " '\\n'\n",
      " '    def copy(self):\\n'\n",
      " '        return dict(self)\\n'\n",
      " '\\n'\n",
      " '    def setdefault(self, key, value):\\n'\n",
      " '        if key not in self:\\n'\n",
      " '            self[key] = value\\n'\n",
      " '        return self[key]\\n'\n",
      " '\\n'\n",
      " 'try:\\n'\n",
      " '    _putenv = putenv\\n'\n",
      " 'except NameError:\\n'\n",
      " '    _putenv = lambda key, value: None\\n'\n",
      " 'else:\\n'\n",
      " '    if \"putenv\" not in __all__:\\n'\n",
      " '        __all__.append(\"putenv\")\\n'\n",
      " '\\n'\n",
      " 'try:\\n'\n",
      " '    _unsetenv = unsetenv\\n'\n",
      " 'except NameError:\\n'\n",
      " '    _unsetenv = lambda key: _putenv(key, \"\")\\n'\n",
      " 'else:\\n'\n",
      " '    if \"unsetenv\" not in __all__:\\n'\n",
      " '        __all__.append(\"unsetenv\")\\n'\n",
      " '\\n'\n",
      " 'def _createenviron():\\n'\n",
      " \"    if name == 'nt':\\n\"\n",
      " '        # Where Env Var Names Must Be UPPERCASE\\n'\n",
      " '        def check_str(value):\\n'\n",
      " '            if not isinstance(value, str):\\n'\n",
      " '                raise TypeError(\"str expected, not %s\" % '\n",
      " 'type(value).__name__)\\n'\n",
      " '            return value\\n'\n",
      " '        encode = check_str\\n'\n",
      " '        decode = str\\n'\n",
      " '        def encodekey(key):\\n'\n",
      " '            return encode(key).upper()\\n'\n",
      " '        data = {}\\n'\n",
      " '        for key, value in environ.items():\\n'\n",
      " '            data[encodekey(key)] = value\\n'\n",
      " '    else:\\n'\n",
      " '        # Where Env Var Names Can Be Mixed Case\\n'\n",
      " '        encoding = sys.getfilesystemencoding()\\n'\n",
      " '        def encode(value):\\n'\n",
      " '            if not isinstance(value, str):\\n'\n",
      " '                raise TypeError(\"str expected, not %s\" % '\n",
      " 'type(value).__name__)\\n'\n",
      " \"            return value.encode(encoding, 'surrogateescape')\\n\"\n",
      " '        def decode(value):\\n'\n",
      " \"            return value.decode(encoding, 'surrogateescape')\\n\"\n",
      " '        encodekey = encode\\n'\n",
      " '        data = environ\\n'\n",
      " '    return _Environ(data,\\n'\n",
      " '        encodekey, decode,\\n'\n",
      " '        encode, decode,\\n'\n",
      " '        _putenv, _unsetenv)\\n'\n",
      " '\\n'\n",
      " '# unicode environ\\n'\n",
      " 'environ = _createenviron()\\n'\n",
      " 'del _createenviron\\n'\n",
      " '\\n'\n",
      " '\\n'\n",
      " 'def getenv(key, default=None):\\n'\n",
      " '    \"\"\"Get an environment variable, return None if it doesn\\'t exist.\\n'\n",
      " '    The optional second argument can specify an alternate default.\\n'\n",
      " '    key, default and the result are str.\"\"\"\\n'\n",
      " '    return environ.get(key, default)\\n'\n",
      " '\\n'\n",
      " \"supports_bytes_environ = (name != 'nt')\\n\"\n",
      " '__all__.extend((\"getenv\", \"supports_bytes_environ\"))\\n'\n",
      " '\\n'\n",
      " 'if supports_bytes_environ:\\n'\n",
      " '    def _check_bytes(value):\\n'\n",
      " '        if not isinstance(value, bytes):\\n'\n",
      " '            raise TypeError(\"bytes expected, not %s\" % '\n",
      " 'type(value).__name__)\\n'\n",
      " '        return value\\n'\n",
      " '\\n'\n",
      " '    # bytes environ\\n'\n",
      " '    environb = _Environ(environ._data,\\n'\n",
      " '        _check_bytes, bytes,\\n'\n",
      " '        _check_bytes, bytes,\\n'\n",
      " '        _putenv, _unsetenv)\\n'\n",
      " '    del _check_bytes\\n'\n",
      " '\\n'\n",
      " '    def getenvb(key, default=None):\\n'\n",
      " '        \"\"\"Get an environment variable, return None if it doesn\\'t exist.\\n'\n",
      " '        The optional second argument can specify an alternate default.\\n'\n",
      " '        key, default and the result are bytes.\"\"\"\\n'\n",
      " '        return environb.get(key, default)\\n'\n",
      " '\\n'\n",
      " '    __all__.extend((\"environb\", \"getenvb\"))\\n'\n",
      " '\\n'\n",
      " 'def _fscodec():\\n'\n",
      " '    encoding = sys.getfilesystemencoding()\\n'\n",
      " '    errors = sys.getfilesystemencodeerrors()\\n'\n",
      " '\\n'\n",
      " '    def fsencode(filename):\\n'\n",
      " '        \"\"\"Encode filename (an os.PathLike, bytes, or str) to the '\n",
      " 'filesystem\\n'\n",
      " \"        encoding with 'surrogateescape' error handler, return bytes \"\n",
      " 'unchanged.\\n'\n",
      " \"        On Windows, use 'strict' error handler if the file system encoding \"\n",
      " 'is\\n'\n",
      " \"        'mbcs' (which is the default encoding).\\n\"\n",
      " '        \"\"\"\\n'\n",
      " '        filename = fspath(filename)  # Does type-checking of `filename`.\\n'\n",
      " '        if isinstance(filename, str):\\n'\n",
      " '            return filename.encode(encoding, errors)\\n'\n",
      " '        else:\\n'\n",
      " '            return filename\\n'\n",
      " '\\n'\n",
      " '    def fsdecode(filename):\\n'\n",
      " '        \"\"\"Decode filename (an os.PathLike, bytes, or str) from the '\n",
      " 'filesystem\\n'\n",
      " \"        encoding with 'surrogateescape' error handler, return str unchanged. \"\n",
      " 'On\\n'\n",
      " \"        Windows, use 'strict' error handler if the file system encoding is\\n\"\n",
      " \"        'mbcs' (which is the default encoding).\\n\"\n",
      " '        \"\"\"\\n'\n",
      " '        filename = fspath(filename)  # Does type-checking of `filename`.\\n'\n",
      " '        if isinstance(filename, bytes):\\n'\n",
      " '            return filename.decode(encoding, errors)\\n'\n",
      " '        else:\\n'\n",
      " '            return filename\\n'\n",
      " '\\n'\n",
      " '    return fsencode, fsdecode\\n'\n",
      " '\\n'\n",
      " 'fsencode, fsdecode = _fscodec()\\n'\n",
      " 'del _fscodec\\n'\n",
      " '\\n'\n",
      " '# Supply spawn*() (probably only for Unix)\\n'\n",
      " 'if _exists(\"fork\") and not _exists(\"spawnv\") and _exists(\"execv\"):\\n'\n",
      " '\\n'\n",
      " '    P_WAIT = 0\\n'\n",
      " '    P_NOWAIT = P_NOWAITO = 1\\n'\n",
      " '\\n'\n",
      " '    __all__.extend([\"P_WAIT\", \"P_NOWAIT\", \"P_NOWAITO\"])\\n'\n",
      " '\\n'\n",
      " '    # XXX Should we support P_DETACH?  I suppose it could fork()**2\\n'\n",
      " '    # and close the std I/O streams.  Also, P_OVERLAY is the same\\n'\n",
      " '    # as execv*()?\\n'\n",
      " '\\n'\n",
      " '    def _spawnvef(mode, file, args, env, func):\\n'\n",
      " '        # Internal helper; func is the exec*() function to use\\n'\n",
      " '        if not isinstance(args, (tuple, list)):\\n'\n",
      " \"            raise TypeError('argv must be a tuple or a list')\\n\"\n",
      " '        if not args or not args[0]:\\n'\n",
      " \"            raise ValueError('argv first element cannot be empty')\\n\"\n",
      " '        pid = fork()\\n'\n",
      " '        if not pid:\\n'\n",
      " '            # Child\\n'\n",
      " '            try:\\n'\n",
      " '                if env is None:\\n'\n",
      " '                    func(file, args)\\n'\n",
      " '                else:\\n'\n",
      " '                    func(file, args, env)\\n'\n",
      " '            except:\\n'\n",
      " '                _exit(127)\\n'\n",
      " '        else:\\n'\n",
      " '            # Parent\\n'\n",
      " '            if mode == P_NOWAIT:\\n'\n",
      " '                return pid # Caller is responsible for waiting!\\n'\n",
      " '            while 1:\\n'\n",
      " '                wpid, sts = waitpid(pid, 0)\\n'\n",
      " '                if WIFSTOPPED(sts):\\n'\n",
      " '                    continue\\n'\n",
      " '                elif WIFSIGNALED(sts):\\n'\n",
      " '                    return -WTERMSIG(sts)\\n'\n",
      " '                elif WIFEXITED(sts):\\n'\n",
      " '                    return WEXITSTATUS(sts)\\n'\n",
      " '                else:\\n'\n",
      " '                    raise OSError(\"Not stopped, signaled or exited???\")\\n'\n",
      " '\\n'\n",
      " '    def spawnv(mode, file, args):\\n'\n",
      " '        \"\"\"spawnv(mode, file, args) -> integer\\n'\n",
      " '\\n'\n",
      " 'Execute file with arguments from args in a subprocess.\\n'\n",
      " 'If mode == P_NOWAIT return the pid of the process.\\n'\n",
      " \"If mode == P_WAIT return the process's exit code if it exits normally;\\n\"\n",
      " 'otherwise return -SIG, where SIG is the signal that killed it. \"\"\"\\n'\n",
      " '        return _spawnvef(mode, file, args, None, execv)\\n'\n",
      " '\\n'\n",
      " '    def spawnve(mode, file, args, env):\\n'\n",
      " '        \"\"\"spawnve(mode, file, args, env) -> integer\\n'\n",
      " '\\n'\n",
      " 'Execute file with arguments from args in a subprocess with the\\n'\n",
      " 'specified environment.\\n'\n",
      " 'If mode == P_NOWAIT return the pid of the process.\\n'\n",
      " \"If mode == P_WAIT return the process's exit code if it exits normally;\\n\"\n",
      " 'otherwise return -SIG, where SIG is the signal that killed it. \"\"\"\\n'\n",
      " '        return _spawnvef(mode, file, args, env, execve)\\n'\n",
      " '\\n'\n",
      " \"    # Note: spawnvp[e] isn't currently supported on Windows\\n\"\n",
      " '\\n'\n",
      " '    def spawnvp(mode, file, args):\\n'\n",
      " '        \"\"\"spawnvp(mode, file, args) -> integer\\n'\n",
      " '\\n'\n",
      " 'Execute file (which is looked for along $PATH) with arguments from\\n'\n",
      " 'args in a subprocess.\\n'\n",
      " 'If mode == P_NOWAIT return the pid of the process.\\n'\n",
      " \"If mode == P_WAIT return the process's exit code if it exits normally;\\n\"\n",
      " 'otherwise return -SIG, where SIG is the signal that killed it. \"\"\"\\n'\n",
      " '        return _spawnvef(mode, file, args, None, execvp)\\n'\n",
      " '\\n'\n",
      " '    def spawnvpe(mode, file, args, env):\\n'\n",
      " '        \"\"\"spawnvpe(mode, file, args, env) -> integer\\n'\n",
      " '\\n'\n",
      " 'Execute file (which is looked for along $PATH) with arguments from\\n'\n",
      " 'args in a subprocess with the supplied environment.\\n'\n",
      " 'If mode == P_NOWAIT return the pid of the process.\\n'\n",
      " \"If mode == P_WAIT return the process's exit code if it exits normally;\\n\"\n",
      " 'otherwise return -SIG, where SIG is the signal that killed it. \"\"\"\\n'\n",
      " '        return _spawnvef(mode, file, args, env, execvpe)\\n'\n",
      " '\\n'\n",
      " '\\n'\n",
      " '    __all__.extend([\"spawnv\", \"spawnve\", \"spawnvp\", \"spawnvpe\"])\\n'\n",
      " '\\n'\n",
      " '\\n'\n",
      " 'if _exists(\"spawnv\"):\\n'\n",
      " \"    # These aren't supplied by the basic Windows code\\n\"\n",
      " '    # but can be easily implemented in Python\\n'\n",
      " '\\n'\n",
      " '    def spawnl(mode, file, *args):\\n'\n",
      " '        \"\"\"spawnl(mode, file, *args) -> integer\\n'\n",
      " '\\n'\n",
      " 'Execute file with arguments from args in a subprocess.\\n'\n",
      " 'If mode == P_NOWAIT return the pid of the process.\\n'\n",
      " \"If mode == P_WAIT return the process's exit code if it exits normally;\\n\"\n",
      " 'otherwise return -SIG, where SIG is the signal that killed it. \"\"\"\\n'\n",
      " '        return spawnv(mode, file, args)\\n'\n",
      " '\\n'\n",
      " '    def spawnle(mode, file, *args):\\n'\n",
      " '        \"\"\"spawnle(mode, file, *args, env) -> integer\\n'\n",
      " '\\n'\n",
      " 'Execute file with arguments from args in a subprocess with the\\n'\n",
      " 'supplied environment.\\n'\n",
      " 'If mode == P_NOWAIT return the pid of the process.\\n'\n",
      " \"If mode == P_WAIT return the process's exit code if it exits normally;\\n\"\n",
      " 'otherwise return -SIG, where SIG is the signal that killed it. \"\"\"\\n'\n",
      " '        env = args[-1]\\n'\n",
      " '        return spawnve(mode, file, args[:-1], env)\\n'\n",
      " '\\n'\n",
      " '\\n'\n",
      " '    __all__.extend([\"spawnl\", \"spawnle\"])\\n'\n",
      " '\\n'\n",
      " '\\n'\n",
      " 'if _exists(\"spawnvp\"):\\n'\n",
      " \"    # At the moment, Windows doesn't implement spawnvp[e],\\n\"\n",
      " \"    # so it won't have spawnlp[e] either.\\n\"\n",
      " '    def spawnlp(mode, file, *args):\\n'\n",
      " '        \"\"\"spawnlp(mode, file, *args) -> integer\\n'\n",
      " '\\n'\n",
      " 'Execute file (which is looked for along $PATH) with arguments from\\n'\n",
      " 'args in a subprocess with the supplied environment.\\n'\n",
      " 'If mode == P_NOWAIT return the pid of the process.\\n'\n",
      " \"If mode == P_WAIT return the process's exit code if it exits normally;\\n\"\n",
      " 'otherwise return -SIG, where SIG is the signal that killed it. \"\"\"\\n'\n",
      " '        return spawnvp(mode, file, args)\\n'\n",
      " '\\n'\n",
      " '    def spawnlpe(mode, file, *args):\\n'\n",
      " '        \"\"\"spawnlpe(mode, file, *args, env) -> integer\\n'\n",
      " '\\n'\n",
      " 'Execute file (which is looked for along $PATH) with arguments from\\n'\n",
      " 'args in a subprocess with the supplied environment.\\n'\n",
      " 'If mode == P_NOWAIT return the pid of the process.\\n'\n",
      " \"If mode == P_WAIT return the process's exit code if it exits normally;\\n\"\n",
      " 'otherwise return -SIG, where SIG is the signal that killed it. \"\"\"\\n'\n",
      " '        env = args[-1]\\n'\n",
      " '        return spawnvpe(mode, file, args[:-1], env)\\n'\n",
      " '\\n'\n",
      " '\\n'\n",
      " '    __all__.extend([\"spawnlp\", \"spawnlpe\"])\\n'\n",
      " '\\n'\n",
      " '\\n'\n",
      " '# Supply os.popen()\\n'\n",
      " 'def popen(cmd, mode=\"r\", buffering=-1):\\n'\n",
      " '    if not isinstance(cmd, str):\\n'\n",
      " '        raise TypeError(\"invalid cmd type (%s, expected string)\" % '\n",
      " 'type(cmd))\\n'\n",
      " '    if mode not in (\"r\", \"w\"):\\n'\n",
      " '        raise ValueError(\"invalid mode %r\" % mode)\\n'\n",
      " '    if buffering == 0 or buffering is None:\\n'\n",
      " '        raise ValueError(\"popen() does not support unbuffered streams\")\\n'\n",
      " '    import subprocess, io\\n'\n",
      " '    if mode == \"r\":\\n'\n",
      " '        proc = subprocess.Popen(cmd,\\n'\n",
      " '                                shell=True,\\n'\n",
      " '                                stdout=subprocess.PIPE,\\n'\n",
      " '                                bufsize=buffering)\\n'\n",
      " '        return _wrap_close(io.TextIOWrapper(proc.stdout), proc)\\n'\n",
      " '    else:\\n'\n",
      " '        proc = subprocess.Popen(cmd,\\n'\n",
      " '                                shell=True,\\n'\n",
      " '                                stdin=subprocess.PIPE,\\n'\n",
      " '                                bufsize=buffering)\\n'\n",
      " '        return _wrap_close(io.TextIOWrapper(proc.stdin), proc)\\n'\n",
      " '\\n'\n",
      " '# Helper for popen() -- a proxy for a file whose close waits for the '\n",
      " 'process\\n'\n",
      " 'class _wrap_close:\\n'\n"
     ]
    },
    {
     "name": "stdout",
     "output_type": "stream",
     "text": [
      " '    def __init__(self, stream, proc):\\n'\n",
      " '        self._stream = stream\\n'\n",
      " '        self._proc = proc\\n'\n",
      " '    def close(self):\\n'\n",
      " '        self._stream.close()\\n'\n",
      " '        returncode = self._proc.wait()\\n'\n",
      " '        if returncode == 0:\\n'\n",
      " '            return None\\n'\n",
      " \"        if name == 'nt':\\n\"\n",
      " '            return returncode\\n'\n",
      " '        else:\\n'\n",
      " '            return returncode << 8  # Shift left to match old behavior\\n'\n",
      " '    def __enter__(self):\\n'\n",
      " '        return self\\n'\n",
      " '    def __exit__(self, *args):\\n'\n",
      " '        self.close()\\n'\n",
      " '    def __getattr__(self, name):\\n'\n",
      " '        return getattr(self._stream, name)\\n'\n",
      " '    def __iter__(self):\\n'\n",
      " '        return iter(self._stream)\\n'\n",
      " '\\n'\n",
      " '# Supply os.fdopen()\\n'\n",
      " 'def fdopen(fd, *args, **kwargs):\\n'\n",
      " '    if not isinstance(fd, int):\\n'\n",
      " '        raise TypeError(\"invalid fd type (%s, expected integer)\" % '\n",
      " 'type(fd))\\n'\n",
      " '    import io\\n'\n",
      " '    return io.open(fd, *args, **kwargs)\\n'\n",
      " '\\n'\n",
      " '\\n'\n",
      " '# For testing purposes, make sure the function is available when the C\\n'\n",
      " '# implementation exists.\\n'\n",
      " 'def _fspath(path):\\n'\n",
      " '    \"\"\"Return the path representation of a path-like object.\\n'\n",
      " '\\n'\n",
      " '    If str or bytes is passed in, it is returned unchanged. Otherwise the\\n'\n",
      " '    os.PathLike interface is used to get the path representation. If the\\n'\n",
      " '    path representation is not str or bytes, TypeError is raised. If the\\n'\n",
      " '    provided path is not str, bytes, or os.PathLike, TypeError is raised.\\n'\n",
      " '    \"\"\"\\n'\n",
      " '    if isinstance(path, (str, bytes)):\\n'\n",
      " '        return path\\n'\n",
      " '\\n'\n",
      " \"    # Work from the object's type to match method resolution of other magic\\n\"\n",
      " '    # methods.\\n'\n",
      " '    path_type = type(path)\\n'\n",
      " '    try:\\n'\n",
      " '        path_repr = path_type.__fspath__(path)\\n'\n",
      " '    except AttributeError:\\n'\n",
      " \"        if hasattr(path_type, '__fspath__'):\\n\"\n",
      " '            raise\\n'\n",
      " '        else:\\n'\n",
      " '            raise TypeError(\"expected str, bytes or os.PathLike object, \"\\n'\n",
      " '                            \"not \" + path_type.__name__)\\n'\n",
      " '    if isinstance(path_repr, (str, bytes)):\\n'\n",
      " '        return path_repr\\n'\n",
      " '    else:\\n'\n",
      " '        raise TypeError(\"expected {}.__fspath__() to return str or bytes, \"\\n'\n",
      " '                        \"not {}\".format(path_type.__name__,\\n'\n",
      " '                                        type(path_repr).__name__))\\n'\n",
      " '\\n'\n",
      " '# If there is no C implementation, make the pure Python version the\\n'\n",
      " '# implementation as transparently as possible.\\n'\n",
      " \"if not _exists('fspath'):\\n\"\n",
      " '    fspath = _fspath\\n'\n",
      " '    fspath.__name__ = \"fspath\"\\n'\n",
      " '\\n'\n",
      " '\\n'\n",
      " 'class PathLike(abc.ABC):\\n'\n",
      " '\\n'\n",
      " '    \"\"\"Abstract base class for implementing the file system path '\n",
      " 'protocol.\"\"\"\\n'\n",
      " '\\n'\n",
      " '    @abc.abstractmethod\\n'\n",
      " '    def __fspath__(self):\\n'\n",
      " '        \"\"\"Return the file system path representation of the object.\"\"\"\\n'\n",
      " '        raise NotImplementedError\\n'\n",
      " '\\n'\n",
      " '    @classmethod\\n'\n",
      " '    def __subclasshook__(cls, subclass):\\n'\n",
      " \"        return hasattr(subclass, '__fspath__')\\n\")\n"
     ]
    }
   ],
   "source": [
    "import os\n",
    "import inspect\n",
    "import pprint\n",
    "\n",
    "pprint.pprint(inspect.getsource(os))"
   ]
  },
  {
   "cell_type": "markdown",
   "metadata": {},
   "source": [
    "#### Python has Infinity and Not a Number values:"
   ]
  },
  {
   "cell_type": "markdown",
   "metadata": {},
   "source": [
    "#### `del` and `__del__`\n",
    "\n",
    "`del` doesn't delete a object, it merely decreases the reference counter. `__del__` actually destroys the object."
   ]
  },
  {
   "cell_type": "markdown",
   "metadata": {
    "collapsed": true
   },
   "source": [
    "#### `python -i foo.py`\n",
    "Run a #python script and enter the interactive mode having access to everything defined in the script python -i foo.py\n",
    "\n",
    "[Source](https://twitter.com/python_tip/status/1007237101199527936)"
   ]
  },
  {
   "cell_type": "markdown",
   "metadata": {},
   "source": [
    "#### `itertools.compress`\n",
    "\n",
    "Use itertools.compress to filter a sequence based on the results of filtering another related sequence:"
   ]
  },
  {
   "cell_type": "code",
   "execution_count": 65,
   "metadata": {},
   "outputs": [
    {
     "data": {
      "text/plain": [
       "['James', 'Ryan']"
      ]
     },
     "execution_count": 65,
     "metadata": {},
     "output_type": "execute_result"
    }
   ],
   "source": [
    "from itertools import compress\n",
    "\n",
    "value = [1,2,3,4,5]\n",
    "name = ['Sam','Peter', 'Mac','James', 'Ryan']\n",
    "\n",
    "count = [n > 3 for n in value]\n",
    "\n",
    "list(compress(name, count))"
   ]
  },
  {
   "cell_type": "code",
   "execution_count": 66,
   "metadata": {},
   "outputs": [
    {
     "name": "stdout",
     "output_type": "stream",
     "text": [
      "['James' 'Ryan']\n"
     ]
    }
   ],
   "source": [
    "#alternative method\n",
    "\n",
    "import numpy as np \n",
    "countsnp=np.array(value) \n",
    "namesnp=np.array(name) \n",
    "print(namesnp[countsnp>3])"
   ]
  },
  {
   "cell_type": "code",
   "execution_count": 67,
   "metadata": {},
   "outputs": [
    {
     "data": {
      "text/plain": [
       "['James', 'Ryan']"
      ]
     },
     "execution_count": 67,
     "metadata": {},
     "output_type": "execute_result"
    }
   ],
   "source": [
    "# another way\n",
    "[n for n, c in zip(name, value) if c > 3]"
   ]
  },
  {
   "cell_type": "code",
   "execution_count": 68,
   "metadata": {},
   "outputs": [
    {
     "data": {
      "text/plain": [
       "1"
      ]
     },
     "execution_count": 68,
     "metadata": {},
     "output_type": "execute_result"
    }
   ],
   "source": [
    "class Test():\n",
    "    a = 1\n",
    "\n",
    "test = Test()\n",
    "test.a"
   ]
  },
  {
   "cell_type": "code",
   "execution_count": 69,
   "metadata": {},
   "outputs": [
    {
     "data": {
      "text/plain": [
       "1"
      ]
     },
     "execution_count": 69,
     "metadata": {},
     "output_type": "execute_result"
    }
   ],
   "source": [
    "getattr(test, 'a')"
   ]
  },
  {
   "cell_type": "code",
   "execution_count": 5,
   "metadata": {},
   "outputs": [
    {
     "name": "stdout",
     "output_type": "stream",
     "text": [
      "[8]\n"
     ]
    }
   ],
   "source": [
    "array = [1, 8, 15] \n",
    "g = (x for x in array if array.count(x) > 0) \n",
    "array = [2, 8, 22] \n",
    "print(list(g))"
   ]
  },
  {
   "cell_type": "code",
   "execution_count": 2,
   "metadata": {},
   "outputs": [
    {
     "data": {
      "text/plain": [
       "<generator object <genexpr> at 0x03397C60>"
      ]
     },
     "execution_count": 2,
     "metadata": {},
     "output_type": "execute_result"
    }
   ],
   "source": [
    "g"
   ]
  },
  {
   "cell_type": "markdown",
   "metadata": {},
   "source": [
    "[doc source for below](https://docs.python.org/3/library/difflib.html#sequencematcher-examples)"
   ]
  },
  {
   "cell_type": "code",
   "execution_count": 6,
   "metadata": {},
   "outputs": [
    {
     "name": "stdout",
     "output_type": "stream",
     "text": [
      "0.895\n"
     ]
    }
   ],
   "source": [
    "from difflib import SequenceMatcher\n",
    "\n",
    "s1 = \"This is my string\"\n",
    "s2 = \"This is my new string\"\n",
    "s = SequenceMatcher(None, s1, s2)\n",
    "print(round(s.ratio(),3))\n"
   ]
  },
  {
   "cell_type": "code",
   "execution_count": 7,
   "metadata": {},
   "outputs": [
    {
     "data": {
      "text/plain": [
       "[Match(a=0, b=0, size=11),\n",
       " Match(a=11, b=15, size=6),\n",
       " Match(a=17, b=21, size=0)]"
      ]
     },
     "execution_count": 7,
     "metadata": {},
     "output_type": "execute_result"
    }
   ],
   "source": [
    "s.get_matching_blocks()"
   ]
  },
  {
   "cell_type": "code",
   "execution_count": 8,
   "metadata": {},
   "outputs": [
    {
     "name": "stdout",
     "output_type": "stream",
     "text": [
      "a[0] and b[0] match for 11 elements\n",
      "a[11] and b[15] match for 6 elements\n",
      "a[17] and b[21] match for 0 elements\n"
     ]
    }
   ],
   "source": [
    "for block in s.get_matching_blocks():\n",
    "    print(\"a[%d] and b[%d] match for %d elements\" %block)"
   ]
  },
  {
   "cell_type": "markdown",
   "metadata": {
    "collapsed": true
   },
   "source": [
    "#### Access environment variables with `os.environ`:"
   ]
  },
  {
   "cell_type": "code",
   "execution_count": 6,
   "metadata": {},
   "outputs": [
    {
     "data": {
      "text/plain": [
       "True"
      ]
     },
     "execution_count": 6,
     "metadata": {},
     "output_type": "execute_result"
    }
   ],
   "source": [
    "import os\n",
    "'PATH' in os.environ"
   ]
  },
  {
   "cell_type": "code",
   "execution_count": 7,
   "metadata": {},
   "outputs": [
    {
     "data": {
      "text/plain": [
       "'postgres'"
      ]
     },
     "execution_count": 7,
     "metadata": {},
     "output_type": "execute_result"
    }
   ],
   "source": [
    "os.environ.get('PGUSER', None)"
   ]
  },
  {
   "cell_type": "markdown",
   "metadata": {},
   "source": [
    "#### An interesting Python idiom"
   ]
  },
  {
   "cell_type": "code",
   "execution_count": 3,
   "metadata": {},
   "outputs": [
    {
     "data": {
      "text/plain": [
       "[2]"
      ]
     },
     "execution_count": 3,
     "metadata": {},
     "output_type": "execute_result"
    }
   ],
   "source": [
    "def accumulate(x, prev = None):\n",
    "    prev_elements = prev or []\n",
    "    prev_elements.append(x)\n",
    "    return prev_elements\n",
    "\n",
    "accumulate(2)"
   ]
  },
  {
   "cell_type": "code",
   "execution_count": 4,
   "metadata": {},
   "outputs": [
    {
     "data": {
      "text/plain": [
       "[3]"
      ]
     },
     "execution_count": 4,
     "metadata": {},
     "output_type": "execute_result"
    }
   ],
   "source": [
    "accumulate(3)"
   ]
  },
  {
   "cell_type": "markdown",
   "metadata": {},
   "source": [
    "[Source](https://twitter.com/GaelVaroquaux/status/1090142057878994944)\n",
    "\n",
    "Let's talk about immutability. Python, unlike languages like Clojure, Erlang, and Rust is built entirely around mutable state. I'm going to try to convince you that immutability is awesome and can be effectively used in Python today. Thread ->\n",
    "\n",
    "1- If an object is immutable it means that its state cannot be changed after it is created. For instance, in Python you can't change a character in a string, or reassign an element of a tuple. Python ships with a few immutable datatypes: str, bytes, tuple/namedtuple, frozenset.\n",
    "\n",
    "2- Users can of course create their own immutable datatypes / objects. If an object doesn't have API to mutate its state and all of its public attrubutes are exposed via a readonly @property it is effectively immutable.\n",
    "\n",
    "3- Immutable objects are special because that can be \"hashable\". That means that they implement a `__hash__()` method, which, in turn, means that they can be keys in dicts and other mappings.\n",
    "\n",
    "4- It's not safe to make a mutable object hashable. Imagine a dictionary key that isn't stable and can be changed at any time! Thus immutability and hashability are closely related things.\n",
    "\n",
    "5- That said, it's possible for an immutable collection to be non-hashable. Hashing is a recursive operation, so If an immutable collection contains a mutable object, it becomes non-hashable.\n",
    "\n",
    "```python\n",
    "immutable = ([],)\n",
    "hash(immutable) #error\n",
    "```\n",
    "6- Hashable & immutable objects and collections can be used as cache keys. Therefore functions that receive only immutable arguments and have no side effects can be decorated with `@functools.lru_cache` to speed things up! <img src=\"images/imm1.jpg\" width=\"500\" height=\"500\"/>\n",
    "\n",
    "7- Immutable objects are so easy to reason about; you can cache them & pass them around safely. For example, `inspect.signature()` function returns a Signature object. It has a lot of metadata, all of which is immutable. So it's cached and computed only once per a function!\n",
    "\n",
    "8a- Another great examples is the new 'contextvars' stdlib module. Context Variables are similar to threadlocal objects, and are used to have local state in async/await code. How can we implement this local state and make it super fast to capture the state?\n",
    "\n",
    "8b- The answer, of course, is to make it immutable! contextvars store all their state in an immutable collection, so to capture the entire local state you only need to assign it to a variable! Any change to the state creates a new version of the state.\n",
    "\n",
    "8- We use the same concept in @edgedatabase, where the schema of the database is stored in an immutable collection. It means that implementing support for transactions, savepoints, and DDL is easy.\n",
    "\n",
    "9- Unfortunately Python doesn't have an immutable mapping datatype yet. There's a trick though: types.MappingProxyType. Wrap a dict with it and return it from your API. Without access to the wrapped dict it's impossible to mutate the MappingProxy:\n",
    "\n",
    "<img src=\"images/imm2.jpg\" width=\"500\" height=\"500\"/>\n",
    "\n",
    "10- So `types.MappingProxyType` can be used to expose a read-only dict and that's great. Sadly it's not hashable though, so it can't be used as a cached key etc. There's a solution though. The above mentioned contextvars module required an efficient immutable mapping type.\n",
    "\n",
    "11- The implementation of that new mapping type is rather complex, and it would be a shame if we could only use it for contextvars and nothing else. So we created a new library out of it: immutables. [MagicStack](https://t.co/IV6fzv4tPf)\n",
    "\n",
    "12- With `immutables.Map` you can easily create immutable and hashable mappings. The Map type is almost as fast as Python dict, with O(log32 N) lookup/update complexity. Maybe we'll have it in Python 3.8 stdlib!\n",
    "<img src=\"images/imm3.jpg\" width=\"500\" height=\"500\"/>\n",
    "\n",
    "13- BTW, there's a new trick to easily declare named tuples in Python: `typing.NamedTuple`. I use it all the time.\n",
    "<img src=\"images/imm4.jpg\" width=\"500\" height=\"500\"/>\n",
    "\n",
    "14- Similar to (13), you can also create a frozen dataclass:\n",
    "<img src=\"images/imm5.jpg\" width=\"500\" height=\"500\"/>\n",
    "\n",
    "15- Bonus. Did you know about `namedtuple._replace()` method?\n",
    "<img src=\"images/imm6.jpg\" width=\"500\" height=\"500\"/>"
   ]
  },
  {
   "cell_type": "markdown",
   "metadata": {
    "collapsed": true
   },
   "source": []
  },
  {
   "cell_type": "markdown",
   "metadata": {
    "collapsed": true
   },
   "source": [
    "#### Prime Number List"
   ]
  },
  {
   "cell_type": "code",
   "execution_count": 1,
   "metadata": {},
   "outputs": [
    {
     "name": "stdout",
     "output_type": "stream",
     "text": [
      "[2, 3, 5, 7, 11, 13, 17, 19, 23, 29, 31, 37, 41, 43, 47, 53, 59, 61, 67, 71, 73, 79, 83, 89, 97, 101, 103, 107, 109, 113, 127, 131, 137, 139, 149, 151, 157, 163, 167, 173, 179, 181, 191, 193, 197, 199, 211, 223, 227, 229, 233, 239, 241, 251, 257, 263, 269, 271, 277, 281, 283, 293, 307, 311, 313, 317, 331, 337, 347, 349, 353, 359, 367, 373, 379, 383, 389, 397, 401, 409, 419, 421, 431, 433, 439, 443, 449, 457, 461, 463, 467, 479, 487, 491, 499, 503, 509, 521, 523, 541, 547, 557, 563, 569, 571, 577, 587, 593, 599, 601, 607, 613, 617, 619, 631, 641, 643, 647, 653, 659, 661, 673, 677, 683, 691, 701, 709, 719, 727, 733, 739, 743, 751, 757, 761, 769, 773, 787, 797, 809, 811, 821, 823, 827, 829, 839, 853, 857, 859, 863, 877, 881, 883, 887, 907, 911, 919, 929, 937, 941, 947, 953, 967, 971, 977, 983, 991, 997]\n"
     ]
    }
   ],
   "source": [
    "from functools import reduce\n",
    "\n",
    "# Primes < 1000\n",
    "print(list(filter(None,map(lambda y:y*reduce(lambda x,y:x*y!=0,\n",
    "map(lambda x,y=y:y%x,range(2,int(pow(y,0.5)+1))),1),range(2,1000)))))"
   ]
  },
  {
   "cell_type": "code",
   "execution_count": 2,
   "metadata": {},
   "outputs": [
    {
     "name": "stdout",
     "output_type": "stream",
     "text": [
      "[1, 1, 2, 3, 5, 8, 13, 21, 34, 55]\n"
     ]
    }
   ],
   "source": [
    "# First 10 Fibonacci numbers\n",
    "print(list(map(lambda x,f=lambda x,f:(f(x-1,f)+f(x-2,f)) if x>1 else 1:\n",
    "f(x,f), range(10))))"
   ]
  },
  {
   "cell_type": "markdown",
   "metadata": {},
   "source": [
    "#### Prime Number Generator - By Martelli, Hettinger and Tim Peters"
   ]
  },
  {
   "cell_type": "code",
   "execution_count": 6,
   "metadata": {},
   "outputs": [
    {
     "data": {
      "text/plain": [
       "[2, 3]"
      ]
     },
     "execution_count": 6,
     "metadata": {},
     "output_type": "execute_result"
    }
   ],
   "source": [
    "from itertools import *\n",
    "\n",
    "def erat2():\n",
    "    d = {}\n",
    "    yield 2\n",
    "    for q in islice(count(3),0,None,2):\n",
    "        p = d.pop(q,None)\n",
    "        if p is None:\n",
    "            d[q*q] = q\n",
    "            yield q\n",
    "        else:\n",
    "            x = p + q\n",
    "            while x in d or not (x&1):\n",
    "                x += p\n",
    "            d[x] = p    \n",
    "        \n",
    "\n",
    "def get_prime(n):\n",
    "    return list(takewhile(lambda p: p<n, erat2()))\n",
    "\n",
    "# code credit goes to Alex Martelli, Raymond Hettinger, Tim Peters etc\n",
    "get_prime(5)"
   ]
  },
  {
   "cell_type": "code",
   "execution_count": 7,
   "metadata": {},
   "outputs": [
    {
     "name": "stdout",
     "output_type": "stream",
     "text": [
      "mayank \n",
      "hiyaaa\n"
     ]
    }
   ],
   "source": [
    "_print = print\n",
    "\n",
    "def print(*args, **kwargs):\n",
    "    narg = (*args, '\\nhiyaaa')\n",
    "    _print(*narg, **kwargs)\n",
    "    \n",
    "print('mayank') "
   ]
  },
  {
   "cell_type": "code",
   "execution_count": 8,
   "metadata": {},
   "outputs": [
    {
     "name": "stdout",
     "output_type": "stream",
     "text": [
      "HI \n",
      "hiyaaa\n"
     ]
    }
   ],
   "source": [
    "print('HI')"
   ]
  },
  {
   "cell_type": "code",
   "execution_count": 9,
   "metadata": {},
   "outputs": [],
   "source": [
    "del _print"
   ]
  },
  {
   "cell_type": "code",
   "execution_count": 1,
   "metadata": {},
   "outputs": [
    {
     "name": "stdout",
     "output_type": "stream",
     "text": [
      "Hi\n"
     ]
    }
   ],
   "source": [
    "print('Hi')\n"
   ]
  },
  {
   "cell_type": "markdown",
   "metadata": {},
   "source": [
    "#### Travelling Salesman Portrait"
   ]
  },
  {
   "cell_type": "code",
   "execution_count": 4,
   "metadata": {},
   "outputs": [
    {
     "data": {
      "image/png": "[encoded data removed]",
      "text/plain": [
       "<PIL.Image.Image image mode=1 size=640x427 at 0x35B759C130>"
      ]
     },
     "execution_count": 4,
     "metadata": {},
     "output_type": "execute_result"
    }
   ],
   "source": [
    "import numpy as np\n",
    "from PIL import Image\n",
    "\n",
    "img = Image.open('images/flower.jpg')\n",
    "bw_image = img.convert('1', dither= Image.NONE)\n",
    "bw_image"
   ]
  },
  {
   "cell_type": "code",
   "execution_count": 6,
   "metadata": {},
   "outputs": [
    {
     "data": {
      "text/plain": [
       "([], [])"
      ]
     },
     "execution_count": 6,
     "metadata": {},
     "output_type": "execute_result"
    },
    {
     "data": {
      "image/png": "[encoded data removed]",
      "text/plain": [
       "<Figure size 600x800 with 1 Axes>"
      ]
     },
     "metadata": {},
     "output_type": "display_data"
    }
   ],
   "source": [
    "%matplotlib inline\n",
    "import matplotlib.pyplot as plt\n",
    "\n",
    "bw_array = np.array(bw_image, dtype = np.int64)\n",
    "black_indices = np.argwhere(bw_array == 0)\n",
    "chosen_indices = black_indices[np.random.choice(black_indices.shape[0], replace = False, size = 5000)]\n",
    "\n",
    "plt.figure(figsize = (6,8), dpi =100)\n",
    "plt.scatter([x[1] for x in chosen_indices],\n",
    "            [x[0] for x in chosen_indices],\n",
    "            color = 'black', s=1)\n",
    "plt.gca().invert_yaxis()\n",
    "plt.xticks([])\n",
    "plt.yticks([])"
   ]
  },
  {
   "cell_type": "code",
   "execution_count": null,
   "metadata": {},
   "outputs": [],
   "source": [
    "from itertools import combinations\n",
    "import math\n",
    "\n",
    "distance_lookup = {}\n",
    "\n",
    "for (p1, p2) in combinations(range(len(chosen_indices)), r = 2):\n",
    "    p1 = tuple(chosen_indices[p1])\n",
    "    p2 = tuple(chosen_indices[p2])\n",
    "    x1,y1 = p1\n",
    "    x2,y2 = p2\n",
    "    distance_lookup[(p1,p2)] = math.sqrt((x2-x1)**2+(y2-y1)**2)\n",
    "    \n",
    "distance_matrix = []\n",
    "\n",
    "for row_num in range(0,len(chosen_indices)):\n",
    "    row_list = []\n",
    "    for col_num in range(0, row_num):\n",
    "        p1 = tuple(chosen_indices[row_num])\n",
    "        p2 = tuple(chosen_indices[col_num])\n",
    "        if (p1,p2) in distance_lookup:\n",
    "            row_list.append(distance_lookup[p1,p2])\n",
    "        \n",
    "        else:\n",
    "            row_list.append(distance_lookup[p2,p1])\n",
    "            \n",
    "    distance_matrix.append(row_list)        "
   ]
  },
  {
   "cell_type": "markdown",
   "metadata": {},
   "source": [
    "#### Generating following series - \n",
    "```\n",
    "[1 1]\n",
    "[2 1]\n",
    "[1 2 1 1]\n",
    "[1 1 1 2 2 1]\n",
    "[3 1 2 2 1 1]\n",
    "[1 3 1 1 2 2 2 1]\n",
    "```"
   ]
  },
  {
   "cell_type": "code",
   "execution_count": 2,
   "metadata": {},
   "outputs": [
    {
     "name": "stdout",
     "output_type": "stream",
     "text": [
      "[1 1]\n",
      "[2 1]\n",
      "[1 2 1 1]\n",
      "[1 1 1 2 2 1]\n",
      "[3 1 2 2 1 1]\n",
      "[1 3 1 1 2 2 2 1]\n",
      "[1 1 1 3 2 1 3 2 1 1]\n",
      "[3 1 1 3 1 2 1 1 1 3 1 2 2 1]\n",
      "[1 3 2 1 1 3 1 1 1 2 3 1 1 3 1 1 2 2 1 1]\n",
      "[1 1 1 3 1 2 2 1 1 3 3 1 1 2 1 3 2 1 1 3 2 1 2 2 2 1]\n"
     ]
    }
   ],
   "source": [
    "import numpy as np\n",
    "import itertools\n",
    "\n",
    "def ser(a):\n",
    "    t = [(len(list(group)), key) for key, group in itertools.groupby(a)]\n",
    "    b = np.array(t).flatten()\n",
    "    return b\n",
    "\n",
    "a = [1]\n",
    "n = 0\n",
    "while n < 10:   \n",
    "    a = ser(a)\n",
    "    print(a)\n",
    "    n += 1\n"
   ]
  },
  {
   "cell_type": "markdown",
   "metadata": {},
   "source": [
    "#### Simulating Brownian Motion"
   ]
  },
  {
   "cell_type": "code",
   "execution_count": 3,
   "metadata": {},
   "outputs": [
    {
     "data": {
      "image/png": "[encoded data removed]",
      "text/plain": [
       "<Figure size 576x576 with 1 Axes>"
      ]
     },
     "metadata": {},
     "output_type": "display_data"
    }
   ],
   "source": [
    "%matplotlib inline\n",
    "import numpy as np\n",
    "import matplotlib.pyplot as plt\n",
    "import seaborn as sns\n",
    "sns.set()\n",
    "\n",
    "n = 5000\n",
    "\n",
    "x = np.cumsum(np.random.randn(n))\n",
    "y = np.cumsum(np.random.randn(n))\n",
    "\n",
    "k = 10\n",
    "x2 = np.interp(np.arange(n * k), np.arange(n) * k, x)\n",
    "y2 = np.interp(np.arange(n * k), np.arange(n) * k, y)\n",
    "\n",
    "fig, ax = plt.subplots(1, 1, figsize=(8, 8))\n",
    "# Now, we draw our points with a gradient of colors.\n",
    "ax.scatter(x2, y2, c=range(n * k), linewidths=0,\n",
    "           marker='o', s=3, cmap=plt.cm.jet,)\n",
    "ax.axis('equal')\n",
    "ax.set_axis_off()"
   ]
  },
  {
   "cell_type": "code",
   "execution_count": 2,
   "metadata": {},
   "outputs": [
    {
     "data": {
      "text/plain": [
       "['1', '2', '3', '4', '5']"
      ]
     },
     "execution_count": 2,
     "metadata": {},
     "output_type": "execute_result"
    }
   ],
   "source": [
    "s = [1,2,3,4,5]\n",
    "list(map(str,s))\n",
    "#output- ['1','2','3','4','5']"
   ]
  },
  {
   "cell_type": "code",
   "execution_count": 4,
   "metadata": {},
   "outputs": [
    {
     "name": "stdout",
     "output_type": "stream",
     "text": [
      "Operator precedence\n",
      "*******************\n",
      "\n",
      "The following table summarizes the operator precedence in Python, from\n",
      "highest precedence (most binding) to lowest precedence (least\n",
      "binding).  Operators in the same box have the same precedence.  Unless\n",
      "the syntax is explicitly given, operators are binary.  Operators in\n",
      "the same box group left to right (except for exponentiation, which\n",
      "groups from right to left).\n",
      "\n",
      "Note that comparisons, membership tests, and identity tests, all have\n",
      "the same precedence and have a left-to-right chaining feature as\n",
      "described in the Comparisons section.\n",
      "\n",
      "+-------------------------------------------------+---------------------------------------+\n",
      "| Operator                                        | Description                           |\n",
      "|=================================================|=======================================|\n",
      "| \"(expressions...)\",  \"[expressions...]\", \"{key: | Binding or parenthesized expression,  |\n",
      "| value...}\", \"{expressions...}\"                  | list display, dictionary display, set |\n",
      "|                                                 | display                               |\n",
      "+-------------------------------------------------+---------------------------------------+\n",
      "| \"x[index]\", \"x[index:index]\",                   | Subscription, slicing, call,          |\n",
      "| \"x(arguments...)\", \"x.attribute\"                | attribute reference                   |\n",
      "+-------------------------------------------------+---------------------------------------+\n",
      "| \"await\" \"x\"                                     | Await expression                      |\n",
      "+-------------------------------------------------+---------------------------------------+\n",
      "| \"**\"                                            | Exponentiation [5]                    |\n",
      "+-------------------------------------------------+---------------------------------------+\n",
      "| \"+x\", \"-x\", \"~x\"                                | Positive, negative, bitwise NOT       |\n",
      "+-------------------------------------------------+---------------------------------------+\n",
      "| \"*\", \"@\", \"/\", \"//\", \"%\"                        | Multiplication, matrix                |\n",
      "|                                                 | multiplication, division, floor       |\n",
      "|                                                 | division, remainder [6]               |\n",
      "+-------------------------------------------------+---------------------------------------+\n",
      "| \"+\", \"-\"                                        | Addition and subtraction              |\n",
      "+-------------------------------------------------+---------------------------------------+\n",
      "| \"<<\", \">>\"                                      | Shifts                                |\n",
      "+-------------------------------------------------+---------------------------------------+\n",
      "| \"&\"                                             | Bitwise AND                           |\n",
      "+-------------------------------------------------+---------------------------------------+\n",
      "| \"^\"                                             | Bitwise XOR                           |\n",
      "+-------------------------------------------------+---------------------------------------+\n",
      "| \"|\"                                             | Bitwise OR                            |\n",
      "+-------------------------------------------------+---------------------------------------+\n",
      "| \"in\", \"not in\", \"is\", \"is not\", \"<\", \"<=\", \">\", | Comparisons, including membership     |\n",
      "| \">=\", \"!=\", \"==\"                                | tests and identity tests              |\n",
      "+-------------------------------------------------+---------------------------------------+\n",
      "| \"not\" \"x\"                                       | Boolean NOT                           |\n",
      "+-------------------------------------------------+---------------------------------------+\n",
      "| \"and\"                                           | Boolean AND                           |\n",
      "+-------------------------------------------------+---------------------------------------+\n",
      "| \"or\"                                            | Boolean OR                            |\n",
      "+-------------------------------------------------+---------------------------------------+\n",
      "| \"if\" – \"else\"                                   | Conditional expression                |\n",
      "+-------------------------------------------------+---------------------------------------+\n",
      "| \"lambda\"                                        | Lambda expression                     |\n",
      "+-------------------------------------------------+---------------------------------------+\n",
      "| \":=\"                                            | Assignment expression                 |\n",
      "+-------------------------------------------------+---------------------------------------+\n",
      "\n",
      "-[ Footnotes ]-\n",
      "\n",
      "[1] While \"abs(x%y) < abs(y)\" is true mathematically, for floats it\n",
      "    may not be true numerically due to roundoff.  For example, and\n",
      "    assuming a platform on which a Python float is an IEEE 754 double-\n",
      "    precision number, in order that \"-1e-100 % 1e100\" have the same\n",
      "    sign as \"1e100\", the computed result is \"-1e-100 + 1e100\", which\n",
      "    is numerically exactly equal to \"1e100\".  The function\n",
      "    \"math.fmod()\" returns a result whose sign matches the sign of the\n",
      "    first argument instead, and so returns \"-1e-100\" in this case.\n",
      "    Which approach is more appropriate depends on the application.\n",
      "\n",
      "[2] If x is very close to an exact integer multiple of y, it’s\n",
      "    possible for \"x//y\" to be one larger than \"(x-x%y)//y\" due to\n",
      "    rounding.  In such cases, Python returns the latter result, in\n",
      "    order to preserve that \"divmod(x,y)[0] * y + x % y\" be very close\n",
      "    to \"x\".\n",
      "\n",
      "[3] The Unicode standard distinguishes between *code points* (e.g.\n",
      "    U+0041) and *abstract characters* (e.g. “LATIN CAPITAL LETTER A”).\n",
      "    While most abstract characters in Unicode are only represented\n",
      "    using one code point, there is a number of abstract characters\n",
      "    that can in addition be represented using a sequence of more than\n",
      "    one code point.  For example, the abstract character “LATIN\n",
      "    CAPITAL LETTER C WITH CEDILLA” can be represented as a single\n",
      "    *precomposed character* at code position U+00C7, or as a sequence\n",
      "    of a *base character* at code position U+0043 (LATIN CAPITAL\n",
      "    LETTER C), followed by a *combining character* at code position\n",
      "    U+0327 (COMBINING CEDILLA).\n",
      "\n",
      "    The comparison operators on strings compare at the level of\n",
      "    Unicode code points. This may be counter-intuitive to humans.  For\n",
      "    example, \"\"\\u00C7\" == \"\\u0043\\u0327\"\" is \"False\", even though both\n",
      "    strings represent the same abstract character “LATIN CAPITAL\n",
      "    LETTER C WITH CEDILLA”.\n",
      "\n",
      "    To compare strings at the level of abstract characters (that is,\n",
      "    in a way intuitive to humans), use \"unicodedata.normalize()\".\n",
      "\n",
      "[4] Due to automatic garbage-collection, free lists, and the dynamic\n",
      "    nature of descriptors, you may notice seemingly unusual behaviour\n",
      "    in certain uses of the \"is\" operator, like those involving\n",
      "    comparisons between instance methods, or constants.  Check their\n",
      "    documentation for more info.\n",
      "\n",
      "[5] The power operator \"**\" binds less tightly than an arithmetic or\n",
      "    bitwise unary operator on its right, that is, \"2**-1\" is \"0.5\".\n",
      "\n",
      "[6] The \"%\" operator is also used for string formatting; the same\n",
      "    precedence applies.\n",
      "\n",
      "Related help topics: lambda, or, and, not, in, is, BOOLEAN, COMPARISON,\n",
      "BITWISE, SHIFTING, BINARY, FORMATTING, POWER, UNARY, ATTRIBUTES,\n",
      "SUBSCRIPTS, SLICINGS, CALLS, TUPLES, LISTS, DICTIONARIES\n",
      "\n"
     ]
    }
   ],
   "source": [
    "help('+')"
   ]
  },
  {
   "cell_type": "code",
   "execution_count": 1,
   "metadata": {},
   "outputs": [
    {
     "data": {
      "image/png": "[encoded data removed]",
      "text/plain": [
       "<qrcode.image.pil.PilImage at 0x8f17d7cd0>"
      ]
     },
     "execution_count": 1,
     "metadata": {},
     "output_type": "execute_result"
    }
   ],
   "source": [
    "import qrcode\n",
    "\n",
    "qr = qrcode.QRCode()\n",
    "qr.add_data('twitter.com/prakharseth19')\n",
    "qr.make()\n",
    "qr.make_image(fill_color = 'black', back_color = \"white\")"
   ]
  },
  {
   "cell_type": "markdown",
   "metadata": {},
   "source": [
    "[Source of `latexify`](https://colab.research.google.com/drive/1MuiawKpVIZ12MWwyYuzZHmbKThdM5wNJ?usp=sharing)"
   ]
  },
  {
   "cell_type": "code",
   "execution_count": 6,
   "metadata": {},
   "outputs": [
    {
     "data": {
      "text/latex": [
       "$$ \\displaystyle \\mathrm{solve}(a, b, c) = \\frac{-b + \\sqrt{b^{{2}} - {4} a c}}{{2} a} $$"
      ],
      "text/plain": [
       "<latexify.frontend.LatexifiedFunction at 0x8f15c7f40>"
      ]
     },
     "execution_count": 6,
     "metadata": {},
     "output_type": "execute_result"
    }
   ],
   "source": [
    "import math\n",
    "import latexify\n",
    "\n",
    "@latexify.with_latex\n",
    "def solve(a,b,c):\n",
    "    return (-b + math.sqrt(b**2 - 4*a*c))/(2*a)\n",
    "\n",
    "solve"
   ]
  },
  {
   "cell_type": "code",
   "execution_count": 9,
   "metadata": {},
   "outputs": [
    {
     "data": {
      "text/latex": [
       "$$ \\displaystyle \\mathrm{sinc}(x) = \\left\\{ \\begin{array}{ll} {1}, & \\mathrm{if} \\ {x = {0}} \\\\ \\frac{\\sin{\\left({x}\\right)}}{x}, & \\mathrm{otherwise} \\end{array} \\right. $$"
      ],
      "text/plain": [
       "<latexify.frontend.LatexifiedFunction at 0x8f066d8e0>"
      ]
     },
     "execution_count": 9,
     "metadata": {},
     "output_type": "execute_result"
    }
   ],
   "source": [
    "@latexify.with_latex\n",
    "def sinc(x):\n",
    "    if x == 0:\n",
    "        return 1\n",
    "    else:\n",
    "        return math.sin(x)/x\n",
    "\n",
    "sinc"
   ]
  },
  {
   "cell_type": "code",
   "execution_count": 11,
   "metadata": {},
   "outputs": [
    {
     "data": {
      "text/latex": [
       "$$ \\displaystyle \\frac{-b + \\sqrt{b^{{2}} - {4} a c}}{{2} a} $$"
      ],
      "text/plain": [
       "<latexify.frontend.LatexifiedFunction at 0x8f066dcd0>"
      ]
     },
     "execution_count": 11,
     "metadata": {},
     "output_type": "execute_result"
    }
   ],
   "source": [
    "@latexify.expression\n",
    "def solve(a,b,c):\n",
    "    return (-b + math.sqrt(b**2 - 4*a*c))/(2*a)\n",
    "\n",
    "solve"
   ]
  },
  {
   "cell_type": "code",
   "execution_count": 18,
   "metadata": {},
   "outputs": [
    {
     "name": "stdout",
     "output_type": "stream",
     "text": [
      "\\mathrm{solve}(a, b, c) = \\frac{-b + \\sqrt{b^{{2}} - {4} a c}}{{2} a}\n"
     ]
    },
    {
     "data": {
      "text/plain": [
       "(-1.0, None)"
      ]
     },
     "execution_count": 18,
     "metadata": {},
     "output_type": "execute_result"
    }
   ],
   "source": [
    "@latexify.function\n",
    "def solve(a,b,c):\n",
    "    return (-b + math.sqrt(b**2 - 4*a*c))/(2*a)\n",
    "\n",
    "solve(1,4,3), print(solve)\n"
   ]
  },
  {
   "cell_type": "code",
   "execution_count": 19,
   "metadata": {},
   "outputs": [
    {
     "data": {
      "text/latex": [
       "$$ \\displaystyle \\mathrm{solve}(a, b, c) = \\frac{-b + \\sqrt{b^{{2}} - {4} a c}}{{2} a} $$"
      ],
      "text/plain": [
       "<latexify.frontend.LatexifiedFunction at 0x8f15d4220>"
      ]
     },
     "execution_count": 19,
     "metadata": {},
     "output_type": "execute_result"
    }
   ],
   "source": [
    "solve"
   ]
  },
  {
   "cell_type": "code",
   "execution_count": 20,
   "metadata": {},
   "outputs": [
    {
     "data": {
      "text/plain": [
       "1"
      ]
     },
     "execution_count": 20,
     "metadata": {},
     "output_type": "execute_result"
    }
   ],
   "source": [
    "len({1, True, 1.0})"
   ]
  },
  {
   "cell_type": "markdown",
   "metadata": {},
   "source": [
    "What is the result of the following:\n",
    "\n",
    "```Python\n",
    "len({1, True, 1.0})\n",
    "```"
   ]
  },
  {
   "cell_type": "code",
   "execution_count": 23,
   "metadata": {},
   "outputs": [
    {
     "data": {
      "text/plain": [
       "({1}, set)"
      ]
     },
     "execution_count": 23,
     "metadata": {},
     "output_type": "execute_result"
    }
   ],
   "source": [
    "a = {1, True, 1.0}\n",
    "a, type(a)"
   ]
  },
  {
   "cell_type": "markdown",
   "metadata": {},
   "source": [
    "What does this print? [Source: GvR Tweet](https://twitter.com/gvanrossum/status/1354305179244392453)"
   ]
  },
  {
   "cell_type": "code",
   "execution_count": 24,
   "metadata": {},
   "outputs": [
    {
     "name": "stdout",
     "output_type": "stream",
     "text": [
      "0 1\n"
     ]
    }
   ],
   "source": [
    "x = 0\n",
    "y = 0\n",
    "\n",
    "def f():\n",
    "    x = 1\n",
    "    y = 1\n",
    "    class C:\n",
    "        print(x,y) #what will be printed\n",
    "        x = 2\n",
    "        \n",
    "f()        "
   ]
  },
  {
   "cell_type": "markdown",
   "metadata": {},
   "source": [
    "Use following code snippet to request any number of inputs. Note that it will stop taking input as soon as input value matches second argument. "
   ]
  },
  {
   "cell_type": "code",
   "execution_count": 25,
   "metadata": {},
   "outputs": [
    {
     "name": "stdout",
     "output_type": "stream",
     "text": [
      "33\n",
      "33\n",
      "re\n",
      "re\n",
      "fd\n",
      "fd\n",
      "ff\n",
      "ff\n",
      "\n"
     ]
    }
   ],
   "source": [
    "for el in iter(input,\"\"):\n",
    "    print(el)"
   ]
  },
  {
   "cell_type": "markdown",
   "metadata": {},
   "source": [
    "Write function for following - \n",
    "\n",
    "input = `'aaaabbbcca'`\n",
    "\n",
    "Output: `[(\"a\", 4), (\"b\", 3), (\"c\", 2), (\"a\", 1)]`"
   ]
  },
  {
   "cell_type": "code",
   "execution_count": 121,
   "metadata": {},
   "outputs": [
    {
     "data": {
      "text/plain": [
       "[('a', 2), ('b', 2), ('c', 1)]"
      ]
     },
     "execution_count": 121,
     "metadata": {},
     "output_type": "execute_result"
    }
   ],
   "source": [
    "#not working with end characters\n",
    "\n",
    "inp = 'aabbca'\n",
    "\n",
    "index = len(inp)\n",
    "output = [] \n",
    "count = 1\n",
    "\n",
    "for i in range(index-1): #i = 0,1,2,3\n",
    "    \n",
    "    if inp[i] == inp[i+1]:\n",
    "        count+=1\n",
    "    \n",
    "    else:\n",
    "        output.append((inp[i], count))\n",
    "        count = 1\n",
    "        \n",
    "        \n",
    "output\n",
    "\n",
    "#i = 0, "
   ]
  },
  {
   "cell_type": "code",
   "execution_count": 8,
   "metadata": {},
   "outputs": [
    {
     "data": {
      "text/plain": [
       "[('a', 2), ('b', 2), ('c', 1), ('a', 3), ('d', 1)]"
      ]
     },
     "execution_count": 8,
     "metadata": {},
     "output_type": "execute_result"
    }
   ],
   "source": [
    "inp = 'aabbcaaad'\n",
    "\n",
    "i = 0\n",
    "output = [] \n",
    "count = 0\n",
    "init = inp[0]\n",
    "\n",
    "while i < len(inp):\n",
    "    if inp[i]== init:\n",
    "        count+=1\n",
    "    else:    \n",
    "        output.append((init, count))\n",
    "        init = inp[i]\n",
    "        count = 1\n",
    "    i+=1\n",
    "    \n",
    "    if  i == len(inp):\n",
    "        output.append((init,count))\n",
    "        \n",
    "output        \n",
    "    "
   ]
  },
  {
   "cell_type": "code",
   "execution_count": null,
   "metadata": {},
   "outputs": [],
   "source": []
  }
 ],
 "metadata": {
  "kernelspec": {
   "display_name": "Python 3 (ipykernel)",
   "language": "python",
   "name": "python3"
  },
  "language_info": {
   "codemirror_mode": {
    "name": "ipython",
    "version": 3
   },
   "file_extension": ".py",
   "mimetype": "text/x-python",
   "name": "python",
   "nbconvert_exporter": "python",
   "pygments_lexer": "ipython3",
   "version": "3.9.7"
  }
 },
 "nbformat": 4,
 "nbformat_minor": 2
}
