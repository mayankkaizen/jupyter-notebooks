{
 "cells": [
  {
   "cell_type": "markdown",
   "id": "fd78570c",
   "metadata": {},
   "source": [
    "[Builtin Function Docs](https://docs.python.org/3.9/library/functions.html)"
   ]
  },
  {
   "cell_type": "markdown",
   "id": "d0408346",
   "metadata": {},
   "source": [
    "![](images/builtin.png)"
   ]
  },
  {
   "cell_type": "markdown",
   "id": "d538d5c8",
   "metadata": {},
   "source": [
    "Functions which are generally considered important are described below. The functions omitted below are of slightly advance uses or are rarely needed. You should still try to look into all of them time to time. "
   ]
  },
  {
   "cell_type": "markdown",
   "id": "2089e73f",
   "metadata": {},
   "source": [
    "### `abs(x)`\n",
    "\n",
    "Return the absolute value of a number. The argument may be an integer, a floating point number. If the argument is a complex number, its magnitude is returned."
   ]
  },
  {
   "cell_type": "code",
   "execution_count": 1,
   "id": "d1ae1c32",
   "metadata": {},
   "outputs": [
    {
     "data": {
      "text/plain": [
       "(1, 3.33, 5.0)"
      ]
     },
     "execution_count": 1,
     "metadata": {},
     "output_type": "execute_result"
    }
   ],
   "source": [
    "abs(-1), abs(3.33), abs(3-4j)"
   ]
  },
  {
   "cell_type": "markdown",
   "id": "84f72efe",
   "metadata": {},
   "source": [
    "### `all(iterable)`\n",
    "\n",
    "Return `True` if all elements of the iterable are true (or if the iterable is empty)."
   ]
  },
  {
   "cell_type": "code",
   "execution_count": 2,
   "id": "a13f7c09",
   "metadata": {},
   "outputs": [
    {
     "data": {
      "text/plain": [
       "(False, True, True)"
      ]
     },
     "execution_count": 2,
     "metadata": {},
     "output_type": "execute_result"
    }
   ],
   "source": [
    "all(range(3)), all('mayank'), all([1,2,3])"
   ]
  },
  {
   "cell_type": "markdown",
   "id": "96127276",
   "metadata": {},
   "source": [
    "### `any(iterable)`\n",
    "\n",
    "Return `True` if any elements of the iterable are true (or `False` if the iterable is empty)."
   ]
  },
  {
   "cell_type": "code",
   "execution_count": 3,
   "id": "a0eb2bf3",
   "metadata": {},
   "outputs": [
    {
     "data": {
      "text/plain": [
       "(True, True, True, False)"
      ]
     },
     "execution_count": 3,
     "metadata": {},
     "output_type": "execute_result"
    }
   ],
   "source": [
    "any(range(3)), any('mayank'), any([1,2,3]), any([0])"
   ]
  },
  {
   "cell_type": "markdown",
   "id": "3955ca79",
   "metadata": {},
   "source": [
    "### `bin()`\n",
    "\n",
    "Convert an integer number to a binary string prefixed with “0b”. "
   ]
  },
  {
   "cell_type": "code",
   "execution_count": 4,
   "id": "bac210b4",
   "metadata": {},
   "outputs": [
    {
     "data": {
      "text/plain": [
       "('0b11', '-0b100')"
      ]
     },
     "execution_count": 4,
     "metadata": {},
     "output_type": "execute_result"
    }
   ],
   "source": [
    "bin(3), bin(-4)"
   ]
  },
  {
   "cell_type": "markdown",
   "id": "eb3b94bf",
   "metadata": {},
   "source": [
    "### `bool()` \n",
    "\n",
    "Returns truth of value a given object"
   ]
  },
  {
   "cell_type": "code",
   "execution_count": 6,
   "id": "ce766117",
   "metadata": {},
   "outputs": [
    {
     "data": {
      "text/plain": [
       "(False, True, True, False)"
      ]
     },
     "execution_count": 6,
     "metadata": {},
     "output_type": "execute_result"
    }
   ],
   "source": [
    "bool(''), bool('m'), bool([1,2]), bool(None)"
   ]
  },
  {
   "cell_type": "markdown",
   "id": "ad995d14",
   "metadata": {},
   "source": [
    "### `chr(i)`\n",
    "\n",
    "Return the string representing a character whose Unicode code point is the integer `i`. This is the inverse of `ord()`.\n",
    "\n",
    "The valid range for the argument is from 0 through 1,114,111 (0x10FFFF in base 16). `ValueError` will be raised if `i` is outside that range."
   ]
  },
  {
   "cell_type": "code",
   "execution_count": 189,
   "id": "4ba42f8e",
   "metadata": {},
   "outputs": [
    {
     "data": {
      "text/plain": [
       "('ї', '⤷')"
      ]
     },
     "execution_count": 189,
     "metadata": {},
     "output_type": "execute_result"
    }
   ],
   "source": [
    "chr(1111), chr(10551)"
   ]
  },
  {
   "cell_type": "markdown",
   "id": "d9e321e5",
   "metadata": {},
   "source": [
    "### `complex(real [, img])`"
   ]
  },
  {
   "cell_type": "code",
   "execution_count": 191,
   "id": "a716beb0",
   "metadata": {},
   "outputs": [
    {
     "data": {
      "text/plain": [
       "((1+3j), (1+6j))"
      ]
     },
     "execution_count": 191,
     "metadata": {},
     "output_type": "execute_result"
    }
   ],
   "source": [
    "complex(1,3), complex('1+6j')"
   ]
  },
  {
   "cell_type": "code",
   "execution_count": 192,
   "id": "b73c90fa",
   "metadata": {},
   "outputs": [
    {
     "ename": "ValueError",
     "evalue": "complex() arg is a malformed string",
     "output_type": "error",
     "traceback": [
      "\u001b[1;31m---------------------------------------------------------------------------\u001b[0m",
      "\u001b[1;31mValueError\u001b[0m                                Traceback (most recent call last)",
      "\u001b[1;32m<ipython-input-192-22473fec50a2>\u001b[0m in \u001b[0;36m<module>\u001b[1;34m\u001b[0m\n\u001b[1;32m----> 1\u001b[1;33m \u001b[0mcomplex\u001b[0m\u001b[1;33m(\u001b[0m\u001b[1;34m'1 + 6j'\u001b[0m\u001b[1;33m)\u001b[0m\u001b[1;33m\u001b[0m\u001b[1;33m\u001b[0m\u001b[0m\n\u001b[0m",
      "\u001b[1;31mValueError\u001b[0m: complex() arg is a malformed string"
     ]
    }
   ],
   "source": [
    "complex('1 + 6j') #no whitespace around '+' should be given "
   ]
  },
  {
   "cell_type": "markdown",
   "id": "c9a4c9b7",
   "metadata": {},
   "source": [
    "### `dict()` \n",
    "\n",
    "Creates a dictionary. More on this in other notebook."
   ]
  },
  {
   "cell_type": "code",
   "execution_count": 7,
   "id": "c71c6eaa",
   "metadata": {},
   "outputs": [
    {
     "data": {
      "text/plain": [
       "({}, dict)"
      ]
     },
     "execution_count": 7,
     "metadata": {},
     "output_type": "execute_result"
    }
   ],
   "source": [
    "a = dict()\n",
    "    \n",
    "a,type(a)"
   ]
  },
  {
   "cell_type": "markdown",
   "id": "ebe50623",
   "metadata": {},
   "source": [
    "### `dir([object])`\n",
    "\n",
    "Without arguments, return the list of names in the current local scope. \n",
    "#With an argument, attempt to return a list of valid attributes for that object.\n"
   ]
  },
  {
   "cell_type": "code",
   "execution_count": 9,
   "id": "68ba0111",
   "metadata": {},
   "outputs": [
    {
     "name": "stdout",
     "output_type": "stream",
     "text": [
      "Pretty printing has been turned OFF\n"
     ]
    },
    {
     "data": {
      "text/plain": [
       "['__add__', '__class__', '__contains__', '__delattr__', '__dir__', '__doc__', '__eq__', '__format__', '__ge__', '__getattribute__', '__getitem__', '__getnewargs__', '__gt__', '__hash__', '__init__', '__init_subclass__', '__iter__', '__le__', '__len__', '__lt__', '__mod__', '__mul__', '__ne__', '__new__', '__reduce__', '__reduce_ex__', '__repr__', '__rmod__', '__rmul__', '__setattr__', '__sizeof__', '__str__', '__subclasshook__', 'capitalize', 'casefold', 'center', 'count', 'encode', 'endswith', 'expandtabs', 'find', 'format', 'format_map', 'index', 'isalnum', 'isalpha', 'isascii', 'isdecimal', 'isdigit', 'isidentifier', 'islower', 'isnumeric', 'isprintable', 'isspace', 'istitle', 'isupper', 'join', 'ljust', 'lower', 'lstrip', 'maketrans', 'partition', 'removeprefix', 'removesuffix', 'replace', 'rfind', 'rindex', 'rjust', 'rpartition', 'rsplit', 'rstrip', 'split', 'splitlines', 'startswith', 'strip', 'swapcase', 'title', 'translate', 'upper', 'zfill']"
      ]
     },
     "execution_count": 9,
     "metadata": {},
     "output_type": "execute_result"
    }
   ],
   "source": [
    "%pprint\n",
    "dir('') #"
   ]
  },
  {
   "cell_type": "markdown",
   "id": "c90d5d42",
   "metadata": {},
   "source": [
    "### `divmod(a,b)`\n",
    "\n",
    "return a pair of numbers consisting of their quotient and remainder when using integer division."
   ]
  },
  {
   "cell_type": "code",
   "execution_count": 10,
   "id": "f2140b20",
   "metadata": {},
   "outputs": [
    {
     "data": {
      "text/plain": [
       "((4, 1), (4.0, 0.3000000000000007))"
      ]
     },
     "execution_count": 10,
     "metadata": {},
     "output_type": "execute_result"
    }
   ],
   "source": [
    "divmod(13,3), divmod(12.3, 3)"
   ]
  },
  {
   "cell_type": "markdown",
   "id": "cdb4342f",
   "metadata": {},
   "source": [
    "### `enumerate(iterable, start = 0)`"
   ]
  },
  {
   "cell_type": "code",
   "execution_count": 11,
   "id": "a3e1ee06",
   "metadata": {},
   "outputs": [
    {
     "data": {
      "text/plain": [
       "[(0, 'b'), (1, 'x'), (2, 'z')]"
      ]
     },
     "execution_count": 11,
     "metadata": {},
     "output_type": "execute_result"
    }
   ],
   "source": [
    "a = enumerate(['b','x','z'])\n",
    "list(a)"
   ]
  },
  {
   "cell_type": "code",
   "execution_count": 197,
   "id": "1923ccd9",
   "metadata": {},
   "outputs": [
    {
     "name": "stdout",
     "output_type": "stream",
     "text": [
      "1 a\n",
      "2 b\n",
      "3 e\n",
      "4 d\n"
     ]
    }
   ],
   "source": [
    "b = ['a','b','e','d']\n",
    "for i,v in enumerate(b, start =1):\n",
    "    print(i,v)"
   ]
  },
  {
   "cell_type": "markdown",
   "id": "cba84153",
   "metadata": {},
   "source": [
    "### `filter()` \n",
    "\n",
    "covered in Python Function notebook."
   ]
  },
  {
   "cell_type": "markdown",
   "id": "45afd585",
   "metadata": {},
   "source": [
    "### `float(x)`\n",
    "\n",
    "Return a floating point number constructed from a number or string x."
   ]
  },
  {
   "cell_type": "code",
   "execution_count": 12,
   "id": "fc9393dc",
   "metadata": {},
   "outputs": [
    {
     "data": {
      "text/plain": [
       "(2.0, 2.0, 2.2, nan, -2.2, -inf)"
      ]
     },
     "execution_count": 12,
     "metadata": {},
     "output_type": "execute_result"
    }
   ],
   "source": [
    "\n",
    "float(2), float(2.0), float('2.2'), float('nan'), float('-2.2'), float('-inf')"
   ]
  },
  {
   "cell_type": "markdown",
   "id": "1883f0af",
   "metadata": {},
   "source": [
    "### `help(object)`\n",
    "\n"
   ]
  },
  {
   "cell_type": "code",
   "execution_count": 196,
   "id": "4a9c3340",
   "metadata": {},
   "outputs": [
    {
     "name": "stdout",
     "output_type": "stream",
     "text": [
      "Help on method_descriptor:\n",
      "\n",
      "append(self, object, /)\n",
      "    Append object to the end of the list.\n",
      "\n"
     ]
    }
   ],
   "source": [
    "help(list.append)"
   ]
  },
  {
   "cell_type": "markdown",
   "id": "fc6d674f",
   "metadata": {},
   "source": [
    "### `hex(x)`"
   ]
  },
  {
   "cell_type": "code",
   "execution_count": 15,
   "id": "688e9bfe",
   "metadata": {},
   "outputs": [
    {
     "data": {
      "text/plain": [
       "'0xa'"
      ]
     },
     "execution_count": 15,
     "metadata": {},
     "output_type": "execute_result"
    }
   ],
   "source": [
    "hex(10) #hexadecimal number in string representation, prefixed by '0x'"
   ]
  },
  {
   "cell_type": "markdown",
   "id": "38456f94",
   "metadata": {},
   "source": [
    "### `id(x)`\n",
    "\n",
    "Return the “identity” of an object. This is the memory address where object is saved."
   ]
  },
  {
   "cell_type": "code",
   "execution_count": 13,
   "id": "ec1a2482",
   "metadata": {},
   "outputs": [
    {
     "data": {
      "text/plain": [
       "610307208304"
      ]
     },
     "execution_count": 13,
     "metadata": {},
     "output_type": "execute_result"
    }
   ],
   "source": [
    "id('a') "
   ]
  },
  {
   "cell_type": "markdown",
   "id": "d4f42f4b",
   "metadata": {},
   "source": [
    "### `int()`"
   ]
  },
  {
   "cell_type": "code",
   "execution_count": 14,
   "id": "b2f97826",
   "metadata": {},
   "outputs": [
    {
     "data": {
      "text/plain": [
       "(0, 1, 10)"
      ]
     },
     "execution_count": 14,
     "metadata": {},
     "output_type": "execute_result"
    }
   ],
   "source": [
    "int(), int('1'), int('a',16) #last example says 'a' is a hexadecimal number"
   ]
  },
  {
   "cell_type": "markdown",
   "id": "0f054d74",
   "metadata": {},
   "source": [
    "### `input([prompt])`"
   ]
  },
  {
   "cell_type": "code",
   "execution_count": 16,
   "id": "e2a73ccd",
   "metadata": {},
   "outputs": [
    {
     "name": "stdout",
     "output_type": "stream",
     "text": [
      "--> Hello, guys!!\n"
     ]
    }
   ],
   "source": [
    "s = input('--> ')  "
   ]
  },
  {
   "cell_type": "markdown",
   "id": "fddc4006",
   "metadata": {},
   "source": [
    "If the `prompt` argument is present, it is written to standard output without a trailing newline. The function then reads a line from input, converts it to a string (stripping a trailing newline), and returns that."
   ]
  },
  {
   "cell_type": "code",
   "execution_count": 18,
   "id": "cfc7540d",
   "metadata": {},
   "outputs": [
    {
     "data": {
      "text/plain": [
       "'Hello, guys!!'"
      ]
     },
     "execution_count": 18,
     "metadata": {},
     "output_type": "execute_result"
    }
   ],
   "source": [
    "s"
   ]
  },
  {
   "cell_type": "markdown",
   "id": "30183222",
   "metadata": {},
   "source": [
    "### `isinstance(object, classinfo)`"
   ]
  },
  {
   "cell_type": "code",
   "execution_count": 19,
   "id": "a145bb5b",
   "metadata": {},
   "outputs": [
    {
     "data": {
      "text/plain": [
       "True"
      ]
     },
     "execution_count": 19,
     "metadata": {},
     "output_type": "execute_result"
    }
   ],
   "source": [
    "a = int()\n",
    "isinstance(a, int)"
   ]
  },
  {
   "cell_type": "code",
   "execution_count": 22,
   "id": "38050f17",
   "metadata": {},
   "outputs": [
    {
     "data": {
      "text/plain": [
       "True"
      ]
     },
     "execution_count": 22,
     "metadata": {},
     "output_type": "execute_result"
    }
   ],
   "source": [
    "class Test:\n",
    "    pass\n",
    "\n",
    "class Test1(Test):\n",
    "    pass\n",
    "\n",
    "test = Test()\n",
    "test1 = Test1()\n",
    "\n",
    "isinstance(test, Test)"
   ]
  },
  {
   "cell_type": "code",
   "execution_count": 24,
   "id": "0e127172",
   "metadata": {},
   "outputs": [
    {
     "data": {
      "text/plain": [
       "True"
      ]
     },
     "execution_count": 24,
     "metadata": {},
     "output_type": "execute_result"
    }
   ],
   "source": [
    "isinstance(test1, Test) #note 'test1' instance is not the direct instance of class Test. "
   ]
  },
  {
   "cell_type": "markdown",
   "id": "f083031e",
   "metadata": {},
   "source": [
    "### `issubclass(class, classinfo)`"
   ]
  },
  {
   "cell_type": "code",
   "execution_count": 25,
   "id": "36a48ef8",
   "metadata": {},
   "outputs": [
    {
     "data": {
      "text/plain": [
       "True"
      ]
     },
     "execution_count": 25,
     "metadata": {},
     "output_type": "execute_result"
    }
   ],
   "source": [
    "issubclass(Test1, Test)"
   ]
  },
  {
   "cell_type": "markdown",
   "id": "feec971b",
   "metadata": {},
   "source": [
    "### `iter(object[, sentinel]`\n",
    "\n",
    "`iter` function has two different use depending on the presence of `sentinel` parameter. When no `sentinel` argument is passed, `object` must be an iterable. If `sentinel` value is passed, `object` must be callable (like function or class). In this case, function is kept running until `sentinel` value is encountered.\n",
    "\n",
    "\n",
    "This function returns an iterator object. This iterator object, when passed to `next` function, returns one item with each call to `next`. "
   ]
  },
  {
   "cell_type": "code",
   "execution_count": 211,
   "id": "c02531fe",
   "metadata": {},
   "outputs": [
    {
     "data": {
      "text/plain": [
       "str_iterator"
      ]
     },
     "execution_count": 211,
     "metadata": {},
     "output_type": "execute_result"
    }
   ],
   "source": [
    "a = iter('mayank')\n",
    "type(a)"
   ]
  },
  {
   "cell_type": "code",
   "execution_count": 212,
   "id": "67e629e0",
   "metadata": {},
   "outputs": [
    {
     "data": {
      "text/plain": [
       "'m'"
      ]
     },
     "execution_count": 212,
     "metadata": {},
     "output_type": "execute_result"
    }
   ],
   "source": [
    "next(a)"
   ]
  },
  {
   "cell_type": "code",
   "execution_count": 233,
   "id": "19b79c69",
   "metadata": {},
   "outputs": [
    {
     "name": "stdout",
     "output_type": "stream",
     "text": [
      "65\n",
      "565\n"
     ]
    },
    {
     "ename": "StopIteration",
     "evalue": "",
     "output_type": "error",
     "traceback": [
      "\u001b[1;31m---------------------------------------------------------------------------\u001b[0m",
      "\u001b[1;31mStopIteration\u001b[0m                             Traceback (most recent call last)",
      "\u001b[1;32m<ipython-input-233-a3c8d50828ed>\u001b[0m in \u001b[0;36m<module>\u001b[1;34m\u001b[0m\n\u001b[0;32m      7\u001b[0m \u001b[1;33m\u001b[0m\u001b[0m\n\u001b[0;32m      8\u001b[0m \u001b[1;32mwhile\u001b[0m \u001b[1;32mTrue\u001b[0m\u001b[1;33m:\u001b[0m\u001b[1;33m\u001b[0m\u001b[1;33m\u001b[0m\u001b[0m\n\u001b[1;32m----> 9\u001b[1;33m     \u001b[0mprint\u001b[0m\u001b[1;33m(\u001b[0m\u001b[0mnext\u001b[0m\u001b[1;33m(\u001b[0m\u001b[0mfp\u001b[0m\u001b[1;33m)\u001b[0m\u001b[1;33m)\u001b[0m\u001b[1;33m\u001b[0m\u001b[1;33m\u001b[0m\u001b[0m\n\u001b[0m\u001b[0;32m     10\u001b[0m \u001b[1;33m\u001b[0m\u001b[0m\n\u001b[0;32m     11\u001b[0m \u001b[1;33m\u001b[0m\u001b[0m\n",
      "\u001b[1;31mStopIteration\u001b[0m: "
     ]
    }
   ],
   "source": [
    "l = [12,32,554,100,565,65]\n",
    "\n",
    "def xyz():\n",
    "    return l.pop()\n",
    "\n",
    "fp = iter(xyz, 100)\n",
    "\n",
    "while True:\n",
    "    print(next(fp))\n",
    "    \n",
    "    \n",
    "    "
   ]
  },
  {
   "cell_type": "markdown",
   "id": "8fb98ded",
   "metadata": {},
   "source": [
    "### `len(s)` - returns number of elements in a collection"
   ]
  },
  {
   "cell_type": "code",
   "execution_count": 183,
   "id": "52e109b0",
   "metadata": {},
   "outputs": [
    {
     "data": {
      "text/plain": [
       "(3, 4, 5, 1, 2, 4)"
      ]
     },
     "execution_count": 183,
     "metadata": {},
     "output_type": "execute_result"
    }
   ],
   "source": [
    "\n",
    "\n",
    "len('abc'), len([1,2,3,4]), len((2,4,5,6,6)), len({1}), len({'a':1, 'c': 3}),  len(range(4))\n",
    "\n"
   ]
  },
  {
   "cell_type": "code",
   "execution_count": 29,
   "id": "e4079d12",
   "metadata": {},
   "outputs": [
    {
     "data": {
      "text/plain": [
       "9223372036854775807"
      ]
     },
     "execution_count": 29,
     "metadata": {},
     "output_type": "execute_result"
    }
   ],
   "source": [
    "import sys\n",
    "\n",
    "sys.maxsize  #this is the maximum length len() function can return, beyond this OverflowError will be raised"
   ]
  },
  {
   "cell_type": "code",
   "execution_count": 30,
   "id": "42284975",
   "metadata": {},
   "outputs": [
    {
     "ename": "OverflowError",
     "evalue": "Python int too large to convert to C ssize_t",
     "output_type": "error",
     "traceback": [
      "\u001b[1;31m---------------------------------------------------------------------------\u001b[0m",
      "\u001b[1;31mOverflowError\u001b[0m                             Traceback (most recent call last)",
      "\u001b[1;32m<ipython-input-30-ace25aa35a93>\u001b[0m in \u001b[0;36m<module>\u001b[1;34m\u001b[0m\n\u001b[1;32m----> 1\u001b[1;33m \u001b[0mlen\u001b[0m\u001b[1;33m(\u001b[0m\u001b[0mrange\u001b[0m\u001b[1;33m(\u001b[0m\u001b[1;36m2\u001b[0m\u001b[1;33m**\u001b[0m\u001b[1;36m100\u001b[0m\u001b[1;33m)\u001b[0m\u001b[1;33m)\u001b[0m\u001b[1;33m\u001b[0m\u001b[1;33m\u001b[0m\u001b[0m\n\u001b[0m",
      "\u001b[1;31mOverflowError\u001b[0m: Python int too large to convert to C ssize_t"
     ]
    }
   ],
   "source": [
    "len(range(2**100))"
   ]
  },
  {
   "cell_type": "markdown",
   "id": "1a70bd5e",
   "metadata": {},
   "source": [
    "### `list()`  \n",
    "\n",
    "Covered elsewhere"
   ]
  },
  {
   "cell_type": "markdown",
   "id": "3e6c5084",
   "metadata": {},
   "source": [
    "### `map(function, iterable, ...)` \n",
    "\n",
    "covered elsewhere"
   ]
  },
  {
   "cell_type": "markdown",
   "id": "60d68d66",
   "metadata": {},
   "source": [
    "### `max(iterable, *[, key, default])`\n",
    "### `max(arg1, arg2, *args[, key])`\n",
    "\n",
    "Return the largest item in an iterable or the largest of two or more arguments.\n",
    "\n",
    "If one positional argument is provided, it should be an iterable. The largest item in the iterable is returned. If two or more positional arguments are provided, the largest of the positional arguments is returned.\n",
    "\n",
    "There are two optional keyword-only arguments. The `key` argument specifies a one-argument ordering function like that used for `list.sort()`. The `default` argument specifies an object to return if the provided iterable is empty. If the iterable is empty and default is not provided, a `ValueError` is raised.\n",
    "\n",
    "If multiple items are maximal, the function returns the first one encountered. "
   ]
  },
  {
   "cell_type": "code",
   "execution_count": 38,
   "id": "fd816834",
   "metadata": {},
   "outputs": [
    {
     "data": {
      "text/plain": [
       "(3, 'c', 'b')"
      ]
     },
     "execution_count": 38,
     "metadata": {},
     "output_type": "execute_result"
    }
   ],
   "source": [
    "#max()\n",
    "\n",
    "max([1,2,3]), max('abc'), max({'a':2,'b':3}) #largest in an iterable"
   ]
  },
  {
   "cell_type": "code",
   "execution_count": 33,
   "id": "defbc5cc",
   "metadata": {},
   "outputs": [
    {
     "data": {
      "text/plain": [
       "[2, 3, 4]"
      ]
     },
     "execution_count": 33,
     "metadata": {},
     "output_type": "execute_result"
    }
   ],
   "source": [
    "max([1,2,3],[2,3,4]) #largest of 2 iterable"
   ]
  },
  {
   "cell_type": "code",
   "execution_count": 36,
   "id": "d4f0c99f",
   "metadata": {},
   "outputs": [
    {
     "data": {
      "text/plain": [
       "['b', 'a', 'c']"
      ]
     },
     "execution_count": 36,
     "metadata": {},
     "output_type": "execute_result"
    }
   ],
   "source": [
    "a = ['a','b','c']\n",
    "b = ['b','a','c']\n",
    "\n",
    "max(a,b)  #largest  of 2 iterables"
   ]
  },
  {
   "cell_type": "code",
   "execution_count": 40,
   "id": "5968b26d",
   "metadata": {},
   "outputs": [
    {
     "data": {
      "text/plain": [
       "('c', 'Z')"
      ]
     },
     "execution_count": 40,
     "metadata": {},
     "output_type": "execute_result"
    }
   ],
   "source": [
    "max('a','b','c','Z'), max('a','b','c','Z', key = str.lower) #if one iterable, key function can be given to sort \n"
   ]
  },
  {
   "cell_type": "code",
   "execution_count": 42,
   "id": "80784982",
   "metadata": {},
   "outputs": [
    {
     "data": {
      "text/plain": [
       "'No value'"
      ]
     },
     "execution_count": 42,
     "metadata": {},
     "output_type": "execute_result"
    }
   ],
   "source": [
    "max([], default ='No value') #if empty iterable, default is returned"
   ]
  },
  {
   "cell_type": "code",
   "execution_count": 234,
   "id": "77a726cc",
   "metadata": {},
   "outputs": [
    {
     "data": {
      "text/plain": [
       "'-'"
      ]
     },
     "execution_count": 234,
     "metadata": {},
     "output_type": "execute_result"
    }
   ],
   "source": [
    "max('-', '+')"
   ]
  },
  {
   "cell_type": "markdown",
   "id": "36051743",
   "metadata": {},
   "source": [
    "Note that strings are compared based on the value of `ord(character)` function. Character with lower `ord(character)` value is considered smaller."
   ]
  },
  {
   "cell_type": "code",
   "execution_count": 235,
   "id": "46443449",
   "metadata": {},
   "outputs": [
    {
     "data": {
      "text/plain": [
       "(45, 43)"
      ]
     },
     "execution_count": 235,
     "metadata": {},
     "output_type": "execute_result"
    }
   ],
   "source": [
    "ord('-'), ord('+') "
   ]
  },
  {
   "cell_type": "markdown",
   "id": "bc2e5e8e",
   "metadata": {},
   "source": [
    "### `min()` \n",
    "\n",
    "Opposite of `max()`"
   ]
  },
  {
   "cell_type": "markdown",
   "id": "421cd084",
   "metadata": {},
   "source": [
    "### `next(iterator [,default] )`\n",
    "\n",
    "Retrieve the next item from the iterator by calling its `__next__()` method. If default is given, it is returned if the iterator is exhausted, otherwise `StopIteration` is raised.\n",
    "\n",
    "Note that *iterable* and *iterator* are two different things. "
   ]
  },
  {
   "cell_type": "code",
   "execution_count": 50,
   "id": "064f4591",
   "metadata": {},
   "outputs": [
    {
     "data": {
      "text/plain": [
       "1"
      ]
     },
     "execution_count": 50,
     "metadata": {},
     "output_type": "execute_result"
    }
   ],
   "source": [
    "a = [1,2,3] #this is iterable\n",
    "b = iter(a)\n",
    "next(b)"
   ]
  },
  {
   "cell_type": "code",
   "execution_count": 52,
   "id": "5e477722",
   "metadata": {},
   "outputs": [
    {
     "data": {
      "text/plain": [
       "2"
      ]
     },
     "execution_count": 52,
     "metadata": {},
     "output_type": "execute_result"
    }
   ],
   "source": [
    "next(b)"
   ]
  },
  {
   "cell_type": "code",
   "execution_count": 53,
   "id": "c0b5d410",
   "metadata": {},
   "outputs": [
    {
     "data": {
      "text/plain": [
       "3"
      ]
     },
     "execution_count": 53,
     "metadata": {},
     "output_type": "execute_result"
    }
   ],
   "source": [
    "next(b)"
   ]
  },
  {
   "cell_type": "code",
   "execution_count": 54,
   "id": "064b67ab",
   "metadata": {},
   "outputs": [
    {
     "ename": "StopIteration",
     "evalue": "",
     "output_type": "error",
     "traceback": [
      "\u001b[1;31m---------------------------------------------------------------------------\u001b[0m",
      "\u001b[1;31mStopIteration\u001b[0m                             Traceback (most recent call last)",
      "\u001b[1;32m<ipython-input-54-adb3e17b0219>\u001b[0m in \u001b[0;36m<module>\u001b[1;34m\u001b[0m\n\u001b[1;32m----> 1\u001b[1;33m \u001b[0mnext\u001b[0m\u001b[1;33m(\u001b[0m\u001b[0mb\u001b[0m\u001b[1;33m)\u001b[0m\u001b[1;33m\u001b[0m\u001b[1;33m\u001b[0m\u001b[0m\n\u001b[0m",
      "\u001b[1;31mStopIteration\u001b[0m: "
     ]
    }
   ],
   "source": [
    "next(b)"
   ]
  },
  {
   "cell_type": "code",
   "execution_count": 61,
   "id": "910e0da3",
   "metadata": {},
   "outputs": [
    {
     "name": "stdout",
     "output_type": "stream",
     "text": [
      "1\n",
      "2\n",
      "3\n",
      "End of Iteration\n"
     ]
    }
   ],
   "source": [
    "a = [1,2,3] #this is iterable\n",
    "b = iter(a)\n",
    "\n",
    "for i in range(len(a)+1):\n",
    "    print(next(b, 'End of Iteration')) #default value `End of Iteration` is returned if iterator exhausted"
   ]
  },
  {
   "cell_type": "markdown",
   "id": "48ce6a83",
   "metadata": {},
   "source": [
    "### `open()`\n",
    "\n",
    "Refer the section related to file reading and writing. "
   ]
  },
  {
   "cell_type": "markdown",
   "id": "e7f502d6",
   "metadata": {},
   "source": [
    "### `ord(c)`\n",
    "\n",
    "Returns the Given a string representing one Unicode character, return an integer representing the Unicode code point of that character.\n",
    "\n",
    "You are advised to learn about Unicode, ASCII code etc. Refer the pertinenet notebook."
   ]
  },
  {
   "cell_type": "code",
   "execution_count": 62,
   "id": "4fec7379",
   "metadata": {},
   "outputs": [
    {
     "data": {
      "text/plain": [
       "(97, 65, 8364)"
      ]
     },
     "execution_count": 62,
     "metadata": {},
     "output_type": "execute_result"
    }
   ],
   "source": [
    "ord('a'), ord('A'), ord('€')"
   ]
  },
  {
   "cell_type": "markdown",
   "id": "a8a914f8",
   "metadata": {},
   "source": [
    "### `pow(base, exp[, mod])`\n",
    "\n",
    "Return base to the power exp; if mod is present, return base to the power exp, modulo mod (computed more efficiently than `pow(base, exp) % mod)`. The two-argument form `pow(base, exp)` is equivalent to using the power operator: `base**exp`.\n",
    "\n",
    "For `int` operands `base` and `exp`, if `mod` is present, `mod` must also be of integer type and `mod` must be nonzero. If `mod` is present and `exp` is negative, `base` must be relatively prime to `mod`. In that case, `pow(inv_base, -exp, mod)` is returned, where `inv_base` is an inverse to `base modulo mod`.\n",
    "\n",
    "Study the following examples carefully - "
   ]
  },
  {
   "cell_type": "code",
   "execution_count": 67,
   "id": "45582917",
   "metadata": {},
   "outputs": [
    {
     "data": {
      "text/plain": [
       "(8, 0.0001, (1.8369701987210297e-16+3j))"
      ]
     },
     "execution_count": 67,
     "metadata": {},
     "output_type": "execute_result"
    }
   ],
   "source": [
    "pow(2,3), pow(100,-2), pow(-9, .5)"
   ]
  },
  {
   "cell_type": "code",
   "execution_count": 71,
   "id": "bb9d40ad",
   "metadata": {},
   "outputs": [
    {
     "data": {
      "text/plain": [
       "(1, 4)"
      ]
     },
     "execution_count": 71,
     "metadata": {},
     "output_type": "execute_result"
    }
   ],
   "source": [
    "pow(23,2,2), pow(23,2,5)"
   ]
  },
  {
   "cell_type": "markdown",
   "id": "4e253646",
   "metadata": {},
   "source": [
    "Above 2 operations are equivalent to followings - "
   ]
  },
  {
   "cell_type": "code",
   "execution_count": 72,
   "id": "ec853622",
   "metadata": {},
   "outputs": [
    {
     "data": {
      "text/plain": [
       "(1, 4)"
      ]
     },
     "execution_count": 72,
     "metadata": {},
     "output_type": "execute_result"
    }
   ],
   "source": [
    "(23**2)%2, (23**2)%5"
   ]
  },
  {
   "cell_type": "markdown",
   "id": "47ae559f",
   "metadata": {},
   "source": [
    "When `mod` is present but `exp` is negative - "
   ]
  },
  {
   "cell_type": "code",
   "execution_count": 73,
   "id": "7ace10b9",
   "metadata": {},
   "outputs": [
    {
     "data": {
      "text/plain": [
       "23"
      ]
     },
     "execution_count": 73,
     "metadata": {},
     "output_type": "execute_result"
    }
   ],
   "source": [
    "pow(38, -1, mod=97)"
   ]
  },
  {
   "cell_type": "code",
   "execution_count": 74,
   "id": "761a258c",
   "metadata": {},
   "outputs": [
    {
     "data": {
      "text/plain": [
       "True"
      ]
     },
     "execution_count": 74,
     "metadata": {},
     "output_type": "execute_result"
    }
   ],
   "source": [
    "(23 * 38) % 97 == 1"
   ]
  },
  {
   "cell_type": "markdown",
   "id": "649965db",
   "metadata": {},
   "source": [
    "You are advised to learn some modular arithmatic to understand that. "
   ]
  },
  {
   "cell_type": "markdown",
   "id": "9055efb1",
   "metadata": {},
   "source": [
    "### `print(*objects, sep=' ', end='\\n', file=sys.stdout, flush=False)`"
   ]
  },
  {
   "cell_type": "code",
   "execution_count": 83,
   "id": "e9be56be",
   "metadata": {},
   "outputs": [
    {
     "name": "stdout",
     "output_type": "stream",
     "text": [
      "Mayank!\n",
      "\n",
      "\n",
      "['Mayank', 'Peter', 'Sam']\n",
      "\n",
      "\n",
      "\t ,Mayank ,Peter ,Sam\n"
     ]
    }
   ],
   "source": [
    "print('Mayank','!')\n",
    "print('\\n')\n",
    "names = ['Mayank', 'Peter', 'Sam']\n",
    "print(names)\n",
    "print('\\n')\n",
    "print('\\t',*names, sep = ' ,')"
   ]
  },
  {
   "cell_type": "markdown",
   "id": "374d0352",
   "metadata": {},
   "source": [
    "### `range(stop)`\n",
    "### `range(start,stop [,step])`\n",
    "\n",
    "`stop` value is non-inclusive. If only one parameter is present, it is taken as `stop` value with `start` being 0 and `step` being 1.\n",
    "\n",
    "If 2 parameters are passed, they are `start` and `stop` respectively. \n",
    "\n",
    "For a positive step, the contents of a range r are determined by the formula `r[i] = start + step*i` where `i >= 0` and `r[i] < stop`.\n",
    "\n",
    "For a negative step, the contents of the range are still determined by the formula `r[i] = start + step*i`, but the constraints are `i >= 0` and `r[i] > stop`.\n"
   ]
  },
  {
   "cell_type": "code",
   "execution_count": 86,
   "id": "dae32a7d",
   "metadata": {},
   "outputs": [
    {
     "name": "stdout",
     "output_type": "stream",
     "text": [
      "0\n",
      "1\n",
      "2\n"
     ]
    }
   ],
   "source": [
    "for i in range(3):\n",
    "    print(i)"
   ]
  },
  {
   "cell_type": "code",
   "execution_count": 85,
   "id": "f125b48a",
   "metadata": {},
   "outputs": [
    {
     "data": {
      "text/plain": [
       "[10, 9, 8, 7, 6, 5, 4, 3, 2]"
      ]
     },
     "execution_count": 85,
     "metadata": {},
     "output_type": "execute_result"
    }
   ],
   "source": [
    "list(range(10,1,-1))"
   ]
  },
  {
   "cell_type": "code",
   "execution_count": 89,
   "id": "b246df98",
   "metadata": {},
   "outputs": [
    {
     "data": {
      "text/plain": [
       "(range(0, 20, 2), False, 5, 10, range(0, 10, 2), 18)"
      ]
     },
     "execution_count": 89,
     "metadata": {},
     "output_type": "execute_result"
    }
   ],
   "source": [
    "r = range(0,20,2)\n",
    "r, 11 in r, r.index(10), r[5], r[:5], r[-1]"
   ]
  },
  {
   "cell_type": "code",
   "execution_count": 90,
   "id": "c4f9a471",
   "metadata": {},
   "outputs": [
    {
     "data": {
      "text/plain": [
       "True"
      ]
     },
     "execution_count": 90,
     "metadata": {},
     "output_type": "execute_result"
    }
   ],
   "source": [
    "range(0) == range(2, 1, 3) "
   ]
  },
  {
   "cell_type": "markdown",
   "id": "b436cd79",
   "metadata": {},
   "source": [
    "### `reversed(seq)`\n",
    "\n",
    "Returns an iterator"
   ]
  },
  {
   "cell_type": "code",
   "execution_count": 246,
   "id": "a4749a73",
   "metadata": {},
   "outputs": [
    {
     "data": {
      "text/plain": [
       "<list_reverseiterator at 0x8e1d6236a0>"
      ]
     },
     "execution_count": 246,
     "metadata": {},
     "output_type": "execute_result"
    }
   ],
   "source": [
    "some_lst = [1,2,3,4]\n",
    "\n",
    "reversed(some_lst)"
   ]
  },
  {
   "cell_type": "code",
   "execution_count": 247,
   "id": "0f57815d",
   "metadata": {},
   "outputs": [
    {
     "name": "stdout",
     "output_type": "stream",
     "text": [
      "4\n",
      "3\n",
      "2\n",
      "1\n"
     ]
    }
   ],
   "source": [
    "for i in reversed(some_lst):\n",
    "    print(i)"
   ]
  },
  {
   "cell_type": "code",
   "execution_count": 248,
   "id": "4cd2d01f",
   "metadata": {},
   "outputs": [
    {
     "data": {
      "text/plain": [
       "['c', 'b', 'a']"
      ]
     },
     "execution_count": 248,
     "metadata": {},
     "output_type": "execute_result"
    }
   ],
   "source": [
    "list(reversed('abc'))"
   ]
  },
  {
   "cell_type": "code",
   "execution_count": 250,
   "id": "e6c77659",
   "metadata": {},
   "outputs": [
    {
     "name": "stdout",
     "output_type": "stream",
     "text": [
      "d\n",
      "c\n",
      "b\n",
      "a\n"
     ]
    },
    {
     "ename": "StopIteration",
     "evalue": "",
     "output_type": "error",
     "traceback": [
      "\u001b[1;31m---------------------------------------------------------------------------\u001b[0m",
      "\u001b[1;31mStopIteration\u001b[0m                             Traceback (most recent call last)",
      "\u001b[1;32m<ipython-input-250-01243ca3f610>\u001b[0m in \u001b[0;36m<module>\u001b[1;34m\u001b[0m\n\u001b[0;32m      2\u001b[0m \u001b[1;33m\u001b[0m\u001b[0m\n\u001b[0;32m      3\u001b[0m \u001b[1;32mwhile\u001b[0m \u001b[1;32mTrue\u001b[0m\u001b[1;33m:\u001b[0m\u001b[1;33m\u001b[0m\u001b[1;33m\u001b[0m\u001b[0m\n\u001b[1;32m----> 4\u001b[1;33m     \u001b[0mprint\u001b[0m\u001b[1;33m(\u001b[0m\u001b[0mnext\u001b[0m\u001b[1;33m(\u001b[0m\u001b[0ma\u001b[0m\u001b[1;33m)\u001b[0m\u001b[1;33m)\u001b[0m\u001b[1;33m\u001b[0m\u001b[1;33m\u001b[0m\u001b[0m\n\u001b[0m",
      "\u001b[1;31mStopIteration\u001b[0m: "
     ]
    }
   ],
   "source": [
    "a = reversed('abcd')\n",
    "\n",
    "while True:\n",
    "    print(next(a))"
   ]
  },
  {
   "cell_type": "markdown",
   "id": "dfe7eae3",
   "metadata": {},
   "source": [
    "### `round(number[, ndigits])`"
   ]
  },
  {
   "cell_type": "markdown",
   "id": "a281f31b",
   "metadata": {},
   "source": [
    "For the built-in types supporting `round()`, values are rounded to the closest multiple of 10 to the power minus ndigits; if two multiples are equally close, rounding is done toward the even choice (so, for example, both `round(0.5)` and `round(-0.5)` are `0`, and `round(1.5)` is `2`). Any integer value is valid for ndigits (positive, zero, or negative). The return value is an integer if ndigits is omitted or `None`. Otherwise the return value has the same type as number."
   ]
  },
  {
   "cell_type": "code",
   "execution_count": 96,
   "id": "493ad913",
   "metadata": {},
   "outputs": [
    {
     "data": {
      "text/plain": [
       "(3.14, 3, 300.0)"
      ]
     },
     "execution_count": 96,
     "metadata": {},
     "output_type": "execute_result"
    }
   ],
   "source": [
    "pi = 3.1415\n",
    "some_value = 312.1213\n",
    "round(pi, 2), round(pi), round(some_value, -2) #notice the case of -ve value of ndigits"
   ]
  },
  {
   "cell_type": "markdown",
   "id": "37231aef",
   "metadata": {},
   "source": [
    "The behavior of `round()` for floats can be surprising: for example, `round(2.675, 2)` gives `2.67` instead of the expected `2.68`. This is not a bug: it’s a result of the fact that most decimal fractions can’t be represented exactly as a float."
   ]
  },
  {
   "cell_type": "code",
   "execution_count": 98,
   "id": "b9283c15",
   "metadata": {},
   "outputs": [
    {
     "data": {
      "text/plain": [
       "2.67"
      ]
     },
     "execution_count": 98,
     "metadata": {},
     "output_type": "execute_result"
    }
   ],
   "source": [
    "#be careful\n",
    "\n",
    "round(2.675,2) #output is NOT 2.68 as expected"
   ]
  },
  {
   "cell_type": "markdown",
   "id": "732d7952",
   "metadata": {},
   "source": [
    "### `set([iterable])`\n",
    "\n",
    "`set` is actually a class and return a new set object, optionally with elements taken from iterable. set is a built-in class. "
   ]
  },
  {
   "cell_type": "code",
   "execution_count": 99,
   "id": "faf6a815",
   "metadata": {},
   "outputs": [
    {
     "data": {
      "text/plain": [
       "(set(), {'a', 'c', 'b'})"
      ]
     },
     "execution_count": 99,
     "metadata": {},
     "output_type": "execute_result"
    }
   ],
   "source": [
    "a = set() #returns an empty set\n",
    "b = set('aabbbc')\n",
    "\n",
    "a,b, "
   ]
  },
  {
   "cell_type": "markdown",
   "id": "f06c3cd3",
   "metadata": {},
   "source": [
    "### `slice(stop)` and `slice(start, stop [, step]`\n",
    "\n",
    "Both are actually classes. Although rarely needed, users may use them as named slice objects for reuse. See example below\n"
   ]
  },
  {
   "cell_type": "code",
   "execution_count": 104,
   "id": "14630814",
   "metadata": {},
   "outputs": [
    {
     "data": {
      "text/plain": [
       "'May'"
      ]
     },
     "execution_count": 104,
     "metadata": {},
     "output_type": "execute_result"
    }
   ],
   "source": [
    "a = slice(3)\n",
    "my_name = 'Mayank'\n",
    "\n",
    "my_name[a]"
   ]
  },
  {
   "cell_type": "code",
   "execution_count": 108,
   "id": "5aa9b598",
   "metadata": {},
   "outputs": [
    {
     "data": {
      "text/plain": [
       "3"
      ]
     },
     "execution_count": 108,
     "metadata": {},
     "output_type": "execute_result"
    }
   ],
   "source": [
    "a.stop"
   ]
  },
  {
   "cell_type": "markdown",
   "id": "b8ac9ff8",
   "metadata": {},
   "source": [
    "### `sorted(iterable, key = None, reverse = False)`\n",
    "\n",
    "Return a new sorted list from the items in iterable.\n",
    "\n",
    "Has two optional arguments which must be specified as keyword arguments.\n",
    "\n",
    "`key` specifies a function of one argument that is used to extract a comparison key from each element in iterable (for example, `key=str.lower`). The default value is `None` (compare the elements directly). reverse is a boolean value. If set to `True`, then the list elements are sorted as if each comparison were reversed."
   ]
  },
  {
   "cell_type": "code",
   "execution_count": 110,
   "id": "bdb2f875",
   "metadata": {},
   "outputs": [
    {
     "data": {
      "text/plain": [
       "['M', 'a', 'a', 'k', 'n', 'y']"
      ]
     },
     "execution_count": 110,
     "metadata": {},
     "output_type": "execute_result"
    }
   ],
   "source": [
    "sorted('Mayank')"
   ]
  },
  {
   "cell_type": "code",
   "execution_count": 111,
   "id": "b052d5a7",
   "metadata": {},
   "outputs": [
    {
     "data": {
      "text/plain": [
       "['a', 'a', 'k', 'M', 'n', 'y']"
      ]
     },
     "execution_count": 111,
     "metadata": {},
     "output_type": "execute_result"
    }
   ],
   "source": [
    "sorted('Mayank', key = str.lower)"
   ]
  },
  {
   "cell_type": "code",
   "execution_count": 112,
   "id": "48bdc662",
   "metadata": {},
   "outputs": [
    {
     "data": {
      "text/plain": [
       "['fig', 'apple', 'cherry', 'banana', 'raspberry', 'strawberry']"
      ]
     },
     "execution_count": 112,
     "metadata": {},
     "output_type": "execute_result"
    }
   ],
   "source": [
    "fruits = ['strawberry', 'fig', 'apple', 'cherry', 'raspberry', 'banana']\n",
    "sorted(fruits, key=len)"
   ]
  },
  {
   "cell_type": "code",
   "execution_count": 115,
   "id": "862ae569",
   "metadata": {},
   "outputs": [
    {
     "data": {
      "text/plain": [
       "['strawberry', 'raspberry', 'cherry', 'banana', 'apple', 'fig']"
      ]
     },
     "execution_count": 115,
     "metadata": {},
     "output_type": "execute_result"
    }
   ],
   "source": [
    "sorted(fruits, key = len, reverse = True)"
   ]
  },
  {
   "cell_type": "code",
   "execution_count": 113,
   "id": "d0ce3e00",
   "metadata": {},
   "outputs": [
    {
     "data": {
      "text/plain": [
       "['banana', 'apple', 'fig', 'raspberry', 'strawberry', 'cherry']"
      ]
     },
     "execution_count": 113,
     "metadata": {},
     "output_type": "execute_result"
    }
   ],
   "source": [
    "def reverse(word):\n",
    "    return word[::-1]\n",
    "\n",
    "#sorted on the basis of last letters\n",
    "sorted(fruits, key=reverse)"
   ]
  },
  {
   "cell_type": "code",
   "execution_count": 114,
   "id": "742e540a",
   "metadata": {},
   "outputs": [
    {
     "data": {
      "text/plain": [
       "['strawberry', 'raspberry', 'fig', 'cherry', 'banana', 'apple']"
      ]
     },
     "execution_count": 114,
     "metadata": {},
     "output_type": "execute_result"
    }
   ],
   "source": [
    "sorted(fruits, reverse = True)"
   ]
  },
  {
   "cell_type": "code",
   "execution_count": 127,
   "id": "9b2a7a03",
   "metadata": {},
   "outputs": [
    {
     "name": "stdout",
     "output_type": "stream",
     "text": [
      "Pretty printing has been turned ON\n"
     ]
    },
    {
     "data": {
      "text/plain": [
       "[{'first': 'Alan', 'last': 'Turing', 'YOB': 1912},\n",
       " {'first': 'Grace', 'last': 'Hopper', 'YOB': 1906},\n",
       " {'first': 'Guido', 'last': 'Van Rossum', 'YOB': 1956}]"
      ]
     },
     "execution_count": 127,
     "metadata": {},
     "output_type": "execute_result"
    }
   ],
   "source": [
    "%pprint\n",
    "data = [{'first':'Guido', 'last':'Van Rossum', 'YOB':1956},\n",
    "        {'first':'Grace', 'last':'Hopper',     'YOB':1906},\n",
    "        {'first':'Alan',  'last':'Turing',     'YOB':1912}]\n",
    "\n",
    "# sort alphabetically by first name\n",
    "sorted(data, key=lambda item: item['first'])"
   ]
  },
  {
   "cell_type": "code",
   "execution_count": 128,
   "id": "b55991da",
   "metadata": {},
   "outputs": [
    {
     "data": {
      "text/plain": [
       "[{'first': 'Grace', 'last': 'Hopper', 'YOB': 1906},\n",
       " {'first': 'Alan', 'last': 'Turing', 'YOB': 1912},\n",
       " {'first': 'Guido', 'last': 'Van Rossum', 'YOB': 1956}]"
      ]
     },
     "execution_count": 128,
     "metadata": {},
     "output_type": "execute_result"
    }
   ],
   "source": [
    "# sort by year of birth\n",
    "sorted(data, key=lambda item: item['YOB'])"
   ]
  },
  {
   "cell_type": "code",
   "execution_count": 130,
   "id": "400bca2d",
   "metadata": {},
   "outputs": [],
   "source": [
    "class Student:\n",
    "    def __init__(self, name, grade, age):\n",
    "        self.name = name\n",
    "        self.grade = grade\n",
    "        self.age = age\n",
    "\n",
    "    def __repr__(self):\n",
    "        return repr((self.name, self.grade, self.age))"
   ]
  },
  {
   "cell_type": "code",
   "execution_count": 131,
   "id": "93872bbc",
   "metadata": {},
   "outputs": [
    {
     "data": {
      "text/plain": [
       "[('dave', 'B', 10), ('jane', 'B', 12), ('john', 'A', 15)]"
      ]
     },
     "execution_count": 131,
     "metadata": {},
     "output_type": "execute_result"
    }
   ],
   "source": [
    "student_objects = [\n",
    "    Student('john', 'A', 15),\n",
    "    Student('jane', 'B', 12),\n",
    "    Student('dave', 'B', 10),\n",
    "]\n",
    "\n",
    "\n",
    "sorted(student_objects, key=lambda student: student.age)   # sort by age"
   ]
  },
  {
   "cell_type": "code",
   "execution_count": 132,
   "id": "21e01315",
   "metadata": {},
   "outputs": [
    {
     "data": {
      "text/plain": [
       "{'Peter': 22, 'Mayank': 23, 'Sam': 25}"
      ]
     },
     "execution_count": 132,
     "metadata": {},
     "output_type": "execute_result"
    }
   ],
   "source": [
    "marks = {'Mayank':23, 'Peter':22, 'Sam': 25}\n",
    "\n",
    "a = sorted(marks.items(), key = lambda x: x[1])\n",
    "dict(a)"
   ]
  },
  {
   "cell_type": "code",
   "execution_count": 133,
   "id": "632d1f18",
   "metadata": {},
   "outputs": [
    {
     "data": {
      "text/plain": [
       "{'Mayank': 23, 'Peter': 22, 'Sam': 25}"
      ]
     },
     "execution_count": 133,
     "metadata": {},
     "output_type": "execute_result"
    }
   ],
   "source": [
    "b = sorted(marks.items(), key = lambda x: x[0])\n",
    "dict(b)"
   ]
  },
  {
   "cell_type": "markdown",
   "id": "47371019",
   "metadata": {},
   "source": [
    "### `str(object = '')`\n",
    "### `str(object=b'', encoding='utf-8', errors='strict')`\n",
    "\n",
    "\n",
    "\n",
    "Returns a string (`str`) object. "
   ]
  },
  {
   "cell_type": "code",
   "execution_count": 238,
   "id": "c2b3d39d",
   "metadata": {},
   "outputs": [
    {
     "data": {
      "text/plain": [
       "(list, '[1]')"
      ]
     },
     "execution_count": 238,
     "metadata": {},
     "output_type": "execute_result"
    }
   ],
   "source": [
    "a = [1]\n",
    "type(a),str(a)"
   ]
  },
  {
   "cell_type": "code",
   "execution_count": 256,
   "id": "f3ff41e4",
   "metadata": {},
   "outputs": [
    {
     "data": {
      "text/plain": [
       "'o'"
      ]
     },
     "execution_count": 256,
     "metadata": {},
     "output_type": "execute_result"
    }
   ],
   "source": [
    "str('\\u006f')"
   ]
  },
  {
   "cell_type": "code",
   "execution_count": 244,
   "id": "3f39e875",
   "metadata": {},
   "outputs": [
    {
     "data": {
      "text/plain": [
       "(bytes, b'\\xdb\\x90')"
      ]
     },
     "execution_count": 244,
     "metadata": {},
     "output_type": "execute_result"
    }
   ],
   "source": [
    "a = str.encode('ې')\n",
    "type(a), a"
   ]
  },
  {
   "cell_type": "code",
   "execution_count": 243,
   "id": "cc268f54",
   "metadata": {},
   "outputs": [
    {
     "data": {
      "text/plain": [
       "'ې'"
      ]
     },
     "execution_count": 243,
     "metadata": {},
     "output_type": "execute_result"
    }
   ],
   "source": [
    "str(b'\\xdb\\x90', encoding='utf-8', errors='strict')"
   ]
  },
  {
   "cell_type": "code",
   "execution_count": 245,
   "id": "793fe914",
   "metadata": {},
   "outputs": [
    {
     "data": {
      "text/plain": [
       "'﷽'"
      ]
     },
     "execution_count": 245,
     "metadata": {},
     "output_type": "execute_result"
    }
   ],
   "source": [
    "str('\\uFDFD')"
   ]
  },
  {
   "cell_type": "markdown",
   "id": "6f7f80f1",
   "metadata": {},
   "source": [
    "Note that `\\u` is used for 4 hex digits Unicode codepoints. `\\U` is used similarily but it expects 8 hex digits. If required, leading 0s can be used to make 8 digits codepoint. [See this](https://docs.python.org/3/howto/unicode.html#unicode-literals-in-python-source-code)  "
   ]
  },
  {
   "cell_type": "code",
   "execution_count": 252,
   "id": "61a0a60c",
   "metadata": {},
   "outputs": [
    {
     "data": {
      "text/plain": [
       "'ὠ0'"
      ]
     },
     "execution_count": 252,
     "metadata": {},
     "output_type": "execute_result"
    }
   ],
   "source": [
    "str('\\u1F600') #wrong. It is parsed as '\\u1f60' and 0"
   ]
  },
  {
   "cell_type": "code",
   "execution_count": 253,
   "id": "b687a211",
   "metadata": {},
   "outputs": [
    {
     "data": {
      "text/plain": [
       "'😀'"
      ]
     },
     "execution_count": 253,
     "metadata": {},
     "output_type": "execute_result"
    }
   ],
   "source": [
    "str('\\U0001F600')"
   ]
  },
  {
   "cell_type": "code",
   "execution_count": 257,
   "id": "d49cd89e",
   "metadata": {},
   "outputs": [
    {
     "data": {
      "text/plain": [
       "('o', 'o')"
      ]
     },
     "execution_count": 257,
     "metadata": {},
     "output_type": "execute_result"
    }
   ],
   "source": [
    "str('\\u006f'), str('\\U0000006f')"
   ]
  },
  {
   "cell_type": "markdown",
   "id": "7204722d",
   "metadata": {},
   "source": [
    "### ` sum(iterable, /, start=0)`\n",
    "\n",
    "Sums `start` and the items of an `iterable` from left to right and returns the total. The iterable’s items are normally numbers, and the `start` value is not allowed to be a string."
   ]
  },
  {
   "cell_type": "code",
   "execution_count": 134,
   "id": "3915b91c",
   "metadata": {},
   "outputs": [
    {
     "data": {
      "text/plain": [
       "3"
      ]
     },
     "execution_count": 134,
     "metadata": {},
     "output_type": "execute_result"
    }
   ],
   "source": [
    "sum(range(3))"
   ]
  },
  {
   "cell_type": "code",
   "execution_count": 136,
   "id": "58b977f7",
   "metadata": {},
   "outputs": [
    {
     "data": {
      "text/plain": [
       "16"
      ]
     },
     "execution_count": 136,
     "metadata": {},
     "output_type": "execute_result"
    }
   ],
   "source": [
    "sum(range(3), 13)  #13 + sum(range(3))"
   ]
  },
  {
   "cell_type": "code",
   "execution_count": 141,
   "id": "c5e9df88",
   "metadata": {},
   "outputs": [
    {
     "data": {
      "text/plain": [
       "3"
      ]
     },
     "execution_count": 141,
     "metadata": {},
     "output_type": "execute_result"
    }
   ],
   "source": [
    "sum([1,2])"
   ]
  },
  {
   "cell_type": "markdown",
   "id": "070477a6",
   "metadata": {},
   "source": [
    "### `tuple([iterable])`\n",
    "\n"
   ]
  },
  {
   "cell_type": "code",
   "execution_count": 142,
   "id": "8c6e2d24",
   "metadata": {},
   "outputs": [
    {
     "data": {
      "text/plain": [
       "()"
      ]
     },
     "execution_count": 142,
     "metadata": {},
     "output_type": "execute_result"
    }
   ],
   "source": [
    "some_tuple = tuple()\n",
    "\n",
    "some_tuple"
   ]
  },
  {
   "cell_type": "code",
   "execution_count": 143,
   "id": "63c2cedf",
   "metadata": {},
   "outputs": [
    {
     "data": {
      "text/plain": [
       "('Mayank', 'Peter', 'Sam')"
      ]
     },
     "execution_count": 143,
     "metadata": {},
     "output_type": "execute_result"
    }
   ],
   "source": [
    "names = ['Mayank', 'Peter', 'Sam']\n",
    "\n",
    "tuple(names)"
   ]
  },
  {
   "cell_type": "markdown",
   "id": "d7990f88",
   "metadata": {},
   "source": [
    "### `type(object)`\n",
    "### `type(name, bases, dict, **kwds)`\n",
    "\n",
    "With one argument, return the type of an object. The return value is a type object and generally the same object as returned by `object.__class__`.\n",
    "\n",
    "`type(name, bases, dict, **kwds)` is not discussed as it is used in metaprogramming which is rather advance Python programming."
   ]
  },
  {
   "cell_type": "code",
   "execution_count": 144,
   "id": "2f333122",
   "metadata": {},
   "outputs": [
    {
     "data": {
      "text/plain": [
       "str"
      ]
     },
     "execution_count": 144,
     "metadata": {},
     "output_type": "execute_result"
    }
   ],
   "source": [
    "a = 's'  #string\n",
    "type(a)"
   ]
  },
  {
   "cell_type": "code",
   "execution_count": 145,
   "id": "b03e020a",
   "metadata": {},
   "outputs": [
    {
     "data": {
      "text/plain": [
       "str"
      ]
     },
     "execution_count": 145,
     "metadata": {},
     "output_type": "execute_result"
    }
   ],
   "source": [
    "a.__class__"
   ]
  },
  {
   "cell_type": "markdown",
   "id": "b68fbbe9",
   "metadata": {},
   "source": [
    "### `zip(*iterables)`\n",
    "\n",
    "Make an iterator that aggregates elements from each of the iterables.\n",
    "\n",
    "Returns an iterator of tuples, where the i-th tuple contains the i-th element from each of the argument sequences or iterables. The iterator stops when the shortest input iterable is exhausted. \n",
    "\n",
    "`zip()` should only be used with unequal length inputs when you don’t care about trailing, unmatched values from the longer iterables. If those values are important, use `itertools.zip_longest()` instead."
   ]
  },
  {
   "cell_type": "code",
   "execution_count": 146,
   "id": "c159f757",
   "metadata": {},
   "outputs": [
    {
     "data": {
      "text/plain": [
       "[(1, 4), (2, 5), (3, 6)]"
      ]
     },
     "execution_count": 146,
     "metadata": {},
     "output_type": "execute_result"
    }
   ],
   "source": [
    "x = [1, 2, 3]\n",
    "y = [4, 5, 6]\n",
    "zipped = zip(x, y)\n",
    "list(zipped)"
   ]
  },
  {
   "cell_type": "code",
   "execution_count": 147,
   "id": "762cfc40",
   "metadata": {},
   "outputs": [
    {
     "data": {
      "text/plain": [
       "[(1, 4), (2, 5), (3, 6)]"
      ]
     },
     "execution_count": 147,
     "metadata": {},
     "output_type": "execute_result"
    }
   ],
   "source": [
    "x = [1, 2, 3]\n",
    "y = [4, 5, 6,7]     #this list has 4 items, last item will be ignored by zip() \n",
    "zipped = zip(x, y)\n",
    "list(zipped)"
   ]
  },
  {
   "cell_type": "code",
   "execution_count": 148,
   "id": "30fa2b24",
   "metadata": {},
   "outputs": [
    {
     "data": {
      "text/plain": [
       "{'Peter': 'Smith', 'Sam': 'Rockwell'}"
      ]
     },
     "execution_count": 148,
     "metadata": {},
     "output_type": "execute_result"
    }
   ],
   "source": [
    "name = ['Peter', 'Sam']\n",
    "surname = ['Smith', 'Rockwell']\n",
    "\n",
    "dict(zip(name,surname))"
   ]
  },
  {
   "cell_type": "code",
   "execution_count": 149,
   "id": "5cc5b010",
   "metadata": {},
   "outputs": [
    {
     "data": {
      "text/plain": [
       "[(1, 4), (2, 5), (3, 6)]"
      ]
     },
     "execution_count": 149,
     "metadata": {},
     "output_type": "execute_result"
    }
   ],
   "source": [
    "m = [[1,2,3],[4,5,6]]\n",
    "list(zip(*m))            # '*' will 'unpack' m"
   ]
  },
  {
   "cell_type": "markdown",
   "id": "e3d54cb7",
   "metadata": {},
   "source": [
    "`zip()` makes possible an idiom for clustering a data series into n-length groups using `zip(*[iter(s)]*n)`. This repeats the same iterator `n` times so that each output tuple has the result of `n` calls to the iterator. This has the effect of dividing the input into n-length chunks."
   ]
  },
  {
   "cell_type": "code",
   "execution_count": 150,
   "id": "148121ea",
   "metadata": {},
   "outputs": [
    {
     "data": {
      "text/plain": [
       "[(1, 2, 3), (4, 5, 6), (7, 8, 9)]"
      ]
     },
     "execution_count": 150,
     "metadata": {},
     "output_type": "execute_result"
    }
   ],
   "source": [
    "l = [1,2,3,4,5,6,7,8,9]\n",
    "list(zip(*[iter(l)]*3)) #didn't get it. Now I got it. See below for explanation"
   ]
  },
  {
   "cell_type": "markdown",
   "id": "a22239f4",
   "metadata": {},
   "source": [
    "First, note that `zip` takes iterables as input. `[iter(l)*3]` returns a list of 3 identical iterators. So what `zip` will do is to collect one item from each (identical) iterator to form first tuple. But iterator returns successive items after successive calls to `next()`. This means `zip` goes to first iterator which provides first element by calling `next()`. For second element of first tuple, `zip` goes to next iterator which, in turn, calls `next()`. But this iterator is same as first, so its first call to `next()` is essentially the second `next()` call for first iterator. Similarily, third iterator's first `next()` call will essentially be third.\n",
    "\n",
    "See code given below"
   ]
  },
  {
   "cell_type": "code",
   "execution_count": 151,
   "id": "c5295f3b",
   "metadata": {},
   "outputs": [
    {
     "name": "stdout",
     "output_type": "stream",
     "text": [
      "[(1, 2, 3), (4, 5, 6), (7, 8, 9)]\n",
      "iterable exhausted\n"
     ]
    }
   ],
   "source": [
    "l = [1,2,3,4,5,6,7,8,9]\n",
    "\n",
    "it = [iter(l)]*3 #list of 3 identical iterator\n",
    "\n",
    "c = []\n",
    "\n",
    "#each loop will create a tuple and insert it a list. As soon as any iterable is exhausted,... \n",
    "#...StopIteration exception will be raised which  will be caught by `except` clause which will break the loop\n",
    "\n",
    "while True: \n",
    "    try:\n",
    "        b = (next(it[0]), next(it[1]), next(it[2]))\n",
    "        c.append(b)\n",
    "\n",
    "    except StopIteration:\n",
    "        print(c)\n",
    "        print('iterable exhausted')\n",
    "        break\n",
    "        "
   ]
  },
  {
   "cell_type": "markdown",
   "id": "3563c5ac",
   "metadata": {},
   "source": [
    "`zip()` in conjunction with the `*` operator can be used to unzip a list:"
   ]
  },
  {
   "cell_type": "code",
   "execution_count": 179,
   "id": "698641cd",
   "metadata": {},
   "outputs": [
    {
     "data": {
      "text/plain": [
       "[(1, 4), (2, 5), (3, 6)]"
      ]
     },
     "execution_count": 179,
     "metadata": {},
     "output_type": "execute_result"
    }
   ],
   "source": [
    "x = [1, 2, 3]\n",
    "y = [4, 5, 6]\n",
    "\n",
    "zipped = zip(x, y)\n",
    "a = list(zipped)\n",
    "a\n"
   ]
  },
  {
   "cell_type": "code",
   "execution_count": 180,
   "id": "dfba0c1e",
   "metadata": {},
   "outputs": [
    {
     "data": {
      "text/plain": [
       "(1, 2, 3)"
      ]
     },
     "execution_count": 180,
     "metadata": {},
     "output_type": "execute_result"
    }
   ],
   "source": [
    "x2, y2 = zip(*zip(x,y))\n",
    "x2"
   ]
  },
  {
   "cell_type": "code",
   "execution_count": 182,
   "id": "e2b6022a",
   "metadata": {},
   "outputs": [
    {
     "data": {
      "text/plain": [
       "(1, 2, 3)"
      ]
     },
     "execution_count": 182,
     "metadata": {},
     "output_type": "execute_result"
    }
   ],
   "source": [
    "x3,y3 = zip(*a)\n",
    "x3\n"
   ]
  },
  {
   "cell_type": "code",
   "execution_count": 160,
   "id": "2595a084",
   "metadata": {},
   "outputs": [
    {
     "data": {
      "text/plain": [
       "(('a', 'c', 'd'), (12, 15, 17))"
      ]
     },
     "execution_count": 160,
     "metadata": {},
     "output_type": "execute_result"
    }
   ],
   "source": [
    "x = (('a', 12), ('c', 15),('d', 17))\n",
    "names,ages = zip(*x)\n",
    "names, ages"
   ]
  },
  {
   "cell_type": "code",
   "execution_count": null,
   "id": "64e68b43",
   "metadata": {},
   "outputs": [],
   "source": []
  }
 ],
 "metadata": {
  "kernelspec": {
   "display_name": "Python 3 (ipykernel)",
   "language": "python",
   "name": "python3"
  },
  "language_info": {
   "codemirror_mode": {
    "name": "ipython",
    "version": 3
   },
   "file_extension": ".py",
   "mimetype": "text/x-python",
   "name": "python",
   "nbconvert_exporter": "python",
   "pygments_lexer": "ipython3",
   "version": "3.9.7"
  }
 },
 "nbformat": 4,
 "nbformat_minor": 5
}
