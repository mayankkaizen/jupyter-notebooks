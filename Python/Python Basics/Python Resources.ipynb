{
 "cells": [
  {
   "cell_type": "markdown",
   "id": "04f2f700",
   "metadata": {},
   "source": [
    "### Python Resources"
   ]
  },
  {
   "cell_type": "markdown",
   "id": "13c5226b",
   "metadata": {},
   "source": [
    "\n",
    "Collection of Python related links which I personally found useful. Note necessarily in any order. Some are beginners friendly. Some are a bit advanced. \n",
    "\n",
    " - [Speed Up Your Python Program with Concurrency](http://www.pybloggers.com/2019/01/speed-up-your-python-program-with-concurrency/)\n",
    " - [Getting Started Testing - Ned Batchelder](https://nedbatchelder.com/text/test0.html)\n",
    " - [Lambda Functions in Python: What Are They Good For?](https://dbader.org/blog/python-lambda-functions)\n",
    " - [Asterisks in Python: what they are and how to use them](https://treyhunner.com/2018/10/asterisks-in-python-what-they-are-and-how-to-use-them/)\n",
    " - [Python, signal handlers, and exceptions](https://anonbadger.wordpress.com/2018/12/15/python-signal-handlers-and-exceptions/)\n",
    " - [A Guide to Python's Magic Methods](https://rszalski.github.io/magicmethods/). Also see this [HN link](https://news.ycombinator.com/item?id=17727083)\n",
    " - [Python's Meta-Object Protocol(2012)(pdf) - Guido van Rossum](http://laser.inf.ethz.ch/2012/slides/vanRossum/laser-mop.pdf). Also see this [HN link](https://news.ycombinator.com/item?id=17669621)\n",
    " - [The Definitive Guide to Python import Statements](https://chrisyeh96.github.io/2017/08/08/definitive-guide-python-imports.html). Also see this[HN link](https://news.ycombinator.com/item?id=17808059)\n",
    " - [Understanding Python Metaclasses](https://blog.ionelmc.ro/2015/02/09/understanding-python-metaclasses/)\n",
    " - [Python Metaclasses](http://www.pybloggers.com/2018/05/python-metaclasses/)\n",
    " - [Garbage Collection in Python](https://rushter.com/blog/python-garbage-collector/)\n",
    " - [A curious Course coroutines and concurrency- David Beazley](http://www.dabeaz.com/coroutines/)\n",
    " - [Using functional programming in Python like a boss: Generators, Iterators and Decorators](https://nbviewer.org/github/akittas/presentations/blob/master/pythess/func_py/func_py.ipynb?utm_content=buffer5e1ec&utm_medium=social&utm_source=twitter.com&utm_campaign=buffer)\n",
    " - [Why Python is slow: Looking under the hood](https://jakevdp.github.io/blog/2014/05/09/why-python-is-slow/?utm_content=buffer79fef&utm_medium=social&utm_source=twitter.com&utm_campaign=buffer) - Jake VanderPlas\n",
    " - [Pythonic Data Structures and Algorithms](https://github.com/keon/algorithms)\n",
    " - [Generator tricks for system programmers](http://www.dabeaz.com/generators-uk/GeneratorsUK.pdf) - David Baezly\n",
    " - [Dynamic Programming in Python - Bayesian Blocks](http://jakevdp.github.io/blog/2012/09/12/dynamic-programming-in-python/) - Jake VanderPlas\n",
    " - [Simple Python web framework from scratch](https://mattscodecave.com/posts/simple-python-framework-from-scratch.html)\n",
    " - [Getting started with Python internals](http://akaptur.com/blog/2014/08/03/getting-started-with-python-internals/)\n",
    " - [A Python Interpretor Written in Python](http://www.aosabook.org/en/500L/a-python-interpreter-written-in-python.html)"
   ]
  },
  {
   "cell_type": "markdown",
   "id": "b110dfb6",
   "metadata": {},
   "source": [
    "### Async, Threading etc\n",
    "\n",
    " - [Python & Async Simplified](https://www.aeracode.org/2018/02/19/python-async-simplified/)\n",
    "\n",
    " - [Async Python: The Different Forms of Concurrency](http://masnun.rocks/2016/10/06/async-python-the-different-forms-of-concurrency/)\n",
    "\n",
    " - [Asynchronous Programming in Python - Asyncio](https://djangostars.com/blog/asynchronous-programming-in-python-asyncio/)\n",
    "\n",
    " - [Python Multithreading for Beginners](https://www.reddit.com/r/learnpython/comments/6u2opf/python_multithreading_for_beginners/)\n",
    "\n",
    " - [Asynchronous Python for the complete beginner - Miguel Grinberg](https://speakerd.s3.amazonaws.com/presentations/c0b3f86d71f6461f94eca52fbbccb7e6/Asynchronous_Python_for_the_Complete_Beginner__5_.pdf)\n",
    " \n",
    " - [Python 3 Killer Feature: asyncio](https://eng.paxos.com/python-3s-killer-feature-asyncio)\n",
    "\n",
    " - [Now that Python has coroutines (eg async/await), does multi-threading still has a use?](https://www.reddit.com/r/Python/comments/5all7u/now_that_python_has_coroutines_eg_asyncawait_does/)"
   ]
  },
  {
   "cell_type": "markdown",
   "id": "e11eba63",
   "metadata": {},
   "source": [
    "### Stack Overflow\n",
    "\n",
    " - [What does the yield keyword do in Python?](https://stackoverflow.com/questions/231767/what-does-the-yield-keyword-do)\n",
    "\n",
    " - [What is a metaclass in Python?](https://stackoverflow.com/questions/100003/what-are-metaclasses-in-python)\n",
    "\n",
    " - [Difference between __str__ and __repr__ in Python](https://stackoverflow.com/questions/1436703/what-is-the-difference-between-str-and-repr)\n",
    "\n",
    " - [Hidden features of Python](https://stackoverflow.com/questions/101268/hidden-features-of-python/112286#112286) Old post. Many answers are Python 2 specific. But still good nuggets here and there. \n",
    "\n",
    " - [What does `if __name__ == “__main__”:` do?](https://stackoverflow.com/questions/419163/what-does-if-name-main-do)\n",
    "\n",
    " - [How Can I represent an enum in Python?](https://stackoverflow.com/questions/36932/how-can-i-represent-an-enum-in-python)\n",
    "\n",
    " - [Why regex shouldn't be used to parse HTML document?](https://stackoverflow.com/questions/1732348/regex-match-open-tags-except-xhtml-self-contained-tags/1732454#1732454) (This one is quite famous.\n",
    " \n",
    " - [What do you wish you'd known about when you started learning Python?](https://stackoverflow.com/questions/1710363/what-do-you-wish-youd-known-about-when-you-started-learning-python/)\n",
    "\n",
    " - [iterator - what does the yield keyword do in Python?](https://stackoverflow.com/questions/231767/what-does-the-yield-keyword-do)\n",
    "\n",
    " - [How can I make a chain of function decorators in Python?](https://stackoverflow.com/questions/739654/how-to-make-function-decorators-and-chain-them-together/1594484#1594484)\n",
    "\n",
    " - [Try/catch or validation for speed?](https://stackoverflow.com/questions/5589532/try-catch-or-validation-for-speed/)\n",
    "\n",
    " - [What exactly is the point of memoryview in Python](https://stackoverflow.com/questions/18655648/what-exactly-is-the-point-of-memoryview-in-python)\n",
    "\n",
    " - [Generator Expression vs List Comprehensions](https://stackoverflow.com/questions/47789/generator-expressions-vs-list-comprehensions)\n",
    "\n",
    " - [How can I make a chain of function decorators in Python?](https://stackoverflow.com/questions/739654/how-to-make-function-decorators-and-chain-them-together/1594484#1594484) (contains excellent explanation for decorators)\n",
    "\n",
    " - [Is it a good practice to use try-except-else in Python?](https://stackoverflow.com/questions/16138232/is-it-a-good-practice-to-use-try-except-else-in-python)\n",
    "\n",
    " - [Manually raising (throwing) an exception in Python](https://stackoverflow.com/questions/2052390/manually-raising-throwing-an-exception-in-python)\n",
    " \n",
    " - [Why functools.partial necessary?](https://stackoverflow.com/questions/3252228/python-why-is-functools-partial-necessary)\n",
    "\n",
    " - [Differences between generator comprehension expressions](https://stackoverflow.com/questions/45190729/differences-between-generator-comprehension-expressions)\n",
    "\n",
    " - [Filter a set for matching string permutations](https://stackoverflow.com/questions/44857962/filter-a-set-for-matching-string-permutations/44858212#44858212)\n",
    "\n",
    " - [Coroutine vs continuation vs Generator](https://stackoverflow.com/questions/715758/coroutine-vs-continuation-vs-generator)\n",
    "\n",
    " - [The relationship between thread and process in multi-process program](https://stackoverflow.com/questions/48435348/the-relationship-between-thread-and-process-in-multi-process-program)\n",
    "\n",
    " - [[] = (), () = () and {} =() assignments](https://stackoverflow.com/questions/48446168/and-assignments)\n",
    "\n",
    " - ['elif' in list comprehension conditionals](https://stackoverflow.com/questions/9987483/elif-in-list-comprehension-conditionals)\n",
    "\n",
    " - [I set True = False and I can't undo it](https://stackoverflow.com/questions/46965557/i-set-true-false-and-i-cant-undo-it)\n",
    "\n",
    " - [Strange use of 'and' operator in Python](https://stackoverflow.com/questions/47007680/how-do-and-and-or-act-with-non-boolean-values)\n",
    "\n",
    " - ['is' operator behaves unexpectedly with integers](https://stackoverflow.com/questions/306313/is-operator-behaves-unexpectedly-with-integers)\n",
    "\n",
    "\n",
    "And do read about Alex Martelli. He is a prolific contributor on Stack Overflow. He has answered [more than 6000 questions there](https://stackoverflow.com/users/95810/alex-martelli) and each of his answer is a treat."
   ]
  },
  {
   "cell_type": "markdown",
   "id": "d6879290",
   "metadata": {},
   "source": [
    "### Descriptors\n",
    "\n",
    " - [What are descriptors?](https://www.blog.pythonlibrary.org/2016/06/10/python-201-what-are-descriptors/#more-5610)\n",
    " - [Python Descriptors](http://martyalchin.com/2007/nov/23/python-descriptors-part-1-of-2/)"
   ]
  },
  {
   "cell_type": "markdown",
   "id": "31e31259",
   "metadata": {},
   "source": [
    "### Decorators\n",
    "\n",
    "\n",
    " - [Python decorators](https://pythonconquerstheuniverse.wordpress.com/2012/04/29/python-decorators/)\n",
    " - [A guide to Python’s function decorators](https://www.thecodeship.com/patterns/guide-to-python-function-decorators/)\n",
    " - [Understanding Python Decorators in 12 Easy Steps](http://simeonfranklin.com/blog/2012/jul/1/python-decorators-in-12-steps/)\n",
    " - [Please Fix Your Decorators](https://hynek.me/articles/decorators/)\n",
    " - [Things which aren’t magic – Flask and @app.route](https://ains.co/blog/things-which-arent-magic-flask-part-1.html)\n",
    " - [How you implemented your Python decorator is wrong. –  Graham Dumpleton](http://blog.dscpl.com.au/2014/01/how-you-implemented-your-python.html)\n",
    " - [A Dive into Python Closures and Decorators Part 1](https://www.codementor.io/@moyosore/a-dive-into-python-closures-and-decorators-part-1-9mpr98pgr?utm_content=buffered129&utm_medium=social&utm_source=twitter.com&utm_campaign=buffer) & [Part 2](https://www.codementor.io/@moyosore/a-dive-into-python-closures-and-decorators-part-2-ab2enoyjg?utm_content=bufferec5f3&utm_medium=social&utm_source=twitter.com&utm_campaign=buffer)\n",
    " - [The decorators they won’t tell you about](https://github.com/hchasestevens/hchasestevens.github.io/blob/master/notebooks/the-decorators-they-wont-tell-you-about.ipynb#blob_contributors_box) (Jupyter Notebook)\n",
    " - [How do YOU actually use decorators](https://www.reddit.com/r/learnpython/comments/54gzw7/how_do_you_actually_use_decorators/)\n",
    "\n",
    "And the link for best explanation for decorators is given in SO section."
   ]
  },
  {
   "cell_type": "markdown",
   "id": "a37cf368",
   "metadata": {},
   "source": [
    "### Beginner's material\n",
    "\n",
    " - [Loop like a native](https://nedbatchelder.com/text/iter.html) - Ned Batchelder\n",
    " - [For/else](https://nedbatchelder.com/blog/201110/forelse.html) - Ned Batchelder\n",
    " - [Generator Comprehensions](https://nedbatchelder.com//blog/201605/generator_comprehensions.html) - Ned Batchelder\n",
    " - [Getting Started Testing](https://nedbatchelder.com/text/test0.html) - Ned Batchelder\n",
    " - [Python Names and Values](https://nedbatchelder.com/text/names1.html) - Ned Batchelder\n",
    " - [List vs Values](https://nedbatchelder.com/blog/201608/lists_vs_tuples.html) - Ned Batcheder\n",
    " - [Triangular Fibonacci number](https://nedbatchelder.com/blog/201706/triangular_fibonacci_numbers.html) - Ned Batchelder\n",
    " - [Python Range is not an iterator](https://treyhunner.com/2018/02/python-range-is-not-an-iterator/)\n",
    " - [Python tuples - immutable but potentially changing](http://radar.oreilly.com/2014/10/python-tuples-immutable-but-potentially-changing.html) - Luciano Ramalho\n",
    " - [Python Exception Handling](https://www.techbeamers.com/python-exception-handling/)\n",
    " - [How to use Generators and Yield in Python](https://realpython.com/introduction-to-python-generators/?utm_source=fsp&utm_medium=twitter&utm_campaign=april)\n",
    " - [Requests in Python](https://www.pythonforbeginners.com/requests/requests-in-python)\n",
    " - [The Story of None, True and False (and an explanation of literals, keywords and builtin thrown in)](http://python-history.blogspot.com/2013/11/story-of-none-true-false.html) - by Guido van Rossum\n",
    " "
   ]
  },
  {
   "cell_type": "markdown",
   "id": "377d7d19",
   "metadata": {},
   "source": [
    "### OOP and Metaprogramming\n",
    "\n",
    " - [Introduction to classes](http://programarcadegames.com/index.php?chapter=introduction_to_classes&lang=de#section_12) - Basic Tutorial\n",
    " - [Python classes and OOP](https://www.jeffknupp.com/blog/2014/06/18/improve-your-python-python-classes-and-object-oriented-programming/) - Basic Tutorial\n",
    " - [Introduction to OOP in Python with Reeborg](http://reeborg.ca/docs/oop_py_en/index.html)\n",
    " - [How to use class inheritance](https://www.digitalocean.com/community/tutorials/understanding-class-inheritance-in-python-3) - Basic Tutorial\n",
    " - [Enriching Your Python Classes with Dunder Methods](https://dbader.org/blog/python-dunder-methods)\n",
    " \n",
    "Advanced material -\n",
    "\n",
    " - [Understanding Python metaclasses](https://blog.ionelmc.ro/2015/02/09/understanding-python-metaclasses/)\n",
    " - [Python Metaclasses and Metaprogramming](https://stackabuse.com/python-metaclasses-and-metaprogramming/)\n",
    " - [Python's super() considered super](https://rhettinger.wordpress.com/2011/05/26/super-considered-super/)"
   ]
  },
  {
   "cell_type": "markdown",
   "id": "ffafabf5",
   "metadata": {},
   "source": [
    "### ML, DS, Stats and Probability\n",
    "\n",
    " - [Bayesian Modelling in Python](https://github.com/markdregan/Bayesian-Modelling-in-Python)\n",
    " - [Probabilistic Programming & Bayesian Methods for Hackers (Basically an online book)](http://camdavidsonpilon.github.io/Probabilistic-Programming-and-Bayesian-Methods-for-Hackers/)"
   ]
  },
  {
   "cell_type": "code",
   "execution_count": 7,
   "id": "063defcf",
   "metadata": {},
   "outputs": [
    {
     "name": "stdout",
     "output_type": "stream",
     "text": [
      "Writing ab.py\n"
     ]
    }
   ],
   "source": [
    "\n",
    "%%file ab.py\n",
    "\n",
    "(lambda _, __, ___, ____, _____, ______, _______, ________:\n",
    "    getattr(\n",
    "        __import__(True.__class__.__name__[_] + [].__class__.__name__[__]),\n",
    "        ().__class__.__eq__.__class__.__name__[:__] +\n",
    "        ().__iter__().__class__.__name__[_:][_____:________]\n",
    "    )(\n",
    "        _, (lambda _, __, ___: _(_, __, ___))(\n",
    "            lambda _, __, ___:\n",
    "                bytes([___ % __]) + _(_, __, ___ // __) if ___ else\n",
    "                (lambda: _).__code__.co_lnotab,\n",
    "            _ << ________,\n",
    "            (((_____ << ____) + _) << ((___ << _____) - ___)) + (((((___ << __)\n",
    "            - _) << ___) + _) << ((_____ << ____) + (_ << _))) + (((_______ <<\n",
    "            __) - _) << (((((_ << ___) + _)) << ___) + (_ << _))) + (((_______\n",
    "            << ___) + _) << ((_ << ______) + _)) + (((_______ << ____) - _) <<\n",
    "            ((_______ << ___))) + (((_ << ____) - _) << ((((___ << __) + _) <<\n",
    "            __) - _)) - (_______ << ((((___ << __) - _) << __) + _)) + (_______\n",
    "            << (((((_ << ___) + _)) << __))) - ((((((_ << ___) + _)) << __) +\n",
    "            _) << ((((___ << __) + _) << _))) + (((_______ << __) - _) <<\n",
    "            (((((_ << ___) + _)) << _))) + (((___ << ___) + _) << ((_____ <<\n",
    "            _))) + (_____ << ______) + (_ << ___)\n",
    "        )\n",
    "    )\n",
    ")(\n",
    "    *(lambda _, __, ___: _(_, __, ___))(\n",
    "        (lambda _, __, ___:\n",
    "            [__(___[(lambda: _).__code__.co_nlocals])] +\n",
    "            _(_, __, ___[(lambda _: _).__code__.co_nlocals:]) if ___ else []\n",
    "        ),\n",
    "        lambda _: _.__code__.co_argcount,\n",
    "        (\n",
    "            lambda _: _,\n",
    "            lambda _, __: _,\n",
    "            lambda _, __, ___: _,\n",
    "            lambda _, __, ___, ____: _,\n",
    "            lambda _, __, ___, ____, _____: _,\n",
    "            lambda _, __, ___, ____, _____, ______: _,\n",
    "            lambda _, __, ___, ____, _____, ______, _______: _,\n",
    "            lambda _, __, ___, ____, _____, ______, _______, ________: _\n",
    "        )\n",
    "    )\n",
    ")"
   ]
  },
  {
   "cell_type": "code",
   "execution_count": 9,
   "id": "2ad6067d",
   "metadata": {},
   "outputs": [
    {
     "name": "stdout",
     "output_type": "stream",
     "text": [
      "Hello world!\n"
     ]
    }
   ],
   "source": [
    "!python ab.py"
   ]
  },
  {
   "cell_type": "code",
   "execution_count": 2,
   "id": "5c938928",
   "metadata": {},
   "outputs": [
    {
     "name": "stdout",
     "output_type": "stream",
     "text": [
      "Writing abc.py\n"
     ]
    }
   ],
   "source": [
    "%%file abc.py\n",
    "\n",
    "import code\n",
    "a =  2\n",
    "code.interact(banner ='IDLE', local=locals(), exitmsg = 'Goodbye')\n",
    "print(a)"
   ]
  },
  {
   "cell_type": "code",
   "execution_count": null,
   "id": "badde04b",
   "metadata": {},
   "outputs": [],
   "source": []
  }
 ],
 "metadata": {
  "kernelspec": {
   "display_name": "Python 3 (ipykernel)",
   "language": "python",
   "name": "python3"
  },
  "language_info": {
   "codemirror_mode": {
    "name": "ipython",
    "version": 3
   },
   "file_extension": ".py",
   "mimetype": "text/x-python",
   "name": "python",
   "nbconvert_exporter": "python",
   "pygments_lexer": "ipython3",
   "version": "3.9.7"
  }
 },
 "nbformat": 4,
 "nbformat_minor": 5
}
