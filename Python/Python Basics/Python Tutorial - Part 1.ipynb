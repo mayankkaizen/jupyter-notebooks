{
 "cells": [
  {
   "cell_type": "markdown",
   "metadata": {},
   "source": [
    "**It is assumed that you have installed Python and it is up and running.** "
   ]
  },
  {
   "cell_type": "markdown",
   "metadata": {},
   "source": [
    "### PART 1"
   ]
  },
  {
   "cell_type": "markdown",
   "metadata": {},
   "source": [
    "Python is -\n",
    "\n",
    " 1. high-level language. JS is also high level language. C, C++ are low level language. \n",
    " \n",
    " \n",
    " 2. a language with dynamic typing. C, C++ and Java are statically typed languages. JS is also dynamically typed language.\n",
    " \n",
    " \n",
    " 3. OOP language\n",
    " \n",
    " \n",
    " 4. a langauge where (almost) everything is an object. \n",
    " \n",
    " \n",
    " 5. a garbage collected language. C is not a garbage collected language.  \n",
    " \n",
    " \n",
    "I've mentioned what kind of langauge Python is but I am mostly skipping the explanation of what these things means. They will be made clear in future. "
   ]
  },
  {
   "cell_type": "markdown",
   "metadata": {},
   "source": [
    "**Python as a calculator**"
   ]
  },
  {
   "cell_type": "code",
   "execution_count": 9,
   "metadata": {},
   "outputs": [
    {
     "data": {
      "text/plain": [
       "(10, 2.090909090909091, 1, 2, 8)"
      ]
     },
     "execution_count": 9,
     "metadata": {},
     "output_type": "execute_result"
    }
   ],
   "source": [
    "2+2*4, 23/11, 23%11, 23//11, 2**3 # multiplication is higer up than addition"
   ]
  },
  {
   "cell_type": "code",
   "execution_count": 56,
   "metadata": {},
   "outputs": [
    {
     "ename": "ZeroDivisionError",
     "evalue": "division by zero",
     "output_type": "error",
     "traceback": [
      "\u001b[1;31m---------------------------------------------------------------------------\u001b[0m",
      "\u001b[1;31mZeroDivisionError\u001b[0m                         Traceback (most recent call last)",
      "\u001b[1;32m<ipython-input-56-e576969d4ba9>\u001b[0m in \u001b[0;36m<module>\u001b[1;34m\u001b[0m\n\u001b[1;32m----> 1\u001b[1;33m \u001b[1;36m1\u001b[0m\u001b[1;33m/\u001b[0m\u001b[1;36m0\u001b[0m \u001b[1;31m#error\u001b[0m\u001b[1;33m\u001b[0m\u001b[1;33m\u001b[0m\u001b[0m\n\u001b[0m",
      "\u001b[1;31mZeroDivisionError\u001b[0m: division by zero"
     ]
    }
   ],
   "source": [
    "1/0 #error "
   ]
  },
  {
   "cell_type": "code",
   "execution_count": 46,
   "metadata": {},
   "outputs": [
    {
     "data": {
      "text/plain": [
       "(0, -1)"
      ]
     },
     "execution_count": 46,
     "metadata": {},
     "output_type": "execute_result"
    }
   ],
   "source": [
    "2-2, 3-4"
   ]
  },
  {
   "cell_type": "code",
   "execution_count": 47,
   "metadata": {},
   "outputs": [
    {
     "data": {
      "text/plain": [
       "True"
      ]
     },
     "execution_count": 47,
     "metadata": {},
     "output_type": "execute_result"
    }
   ],
   "source": [
    "2 == 2"
   ]
  },
  {
   "cell_type": "markdown",
   "metadata": {},
   "source": [
    "`//` is called floored division. Also referred to as integer division. The resultant value is a whole integer, though the result’s type is not necessarily int. The result is always rounded towards minus infinity: `1//2` is `0`, `(-1)//2` is `-1`, `1//(-2)` is `-1`, and `(-1)//(-2)` is `0`.\n",
    "\n",
    "`%` is called modulo operator. \n",
    "\n",
    "The `%` (modulo) operator yields the remainder from the division of the first argument by the second. The numeric arguments are first converted to a common type. A zero right argument raises the `ZeroDivisionError` exception. The arguments may be floating point numbers, e.g., `3.14%0.7` equals `0.34` (since `3.14` equals `4*0.7 + 0.34`.) **The modulo operator always yields a result with the same sign as its second operand (or zero); the absolute value of the result is strictly smaller than the absolute value of the second operand.** [Source](https://docs.python.org/3/reference/expressions.html#binary-arithmetic-operations)\n",
    "\n",
    "Python defines `pow(0, 0)` and `0 ** 0` to be `1`, as is common for programming languages."
   ]
  },
  {
   "cell_type": "code",
   "execution_count": 4,
   "metadata": {},
   "outputs": [
    {
     "data": {
      "text/plain": [
       "(-2, -8)"
      ]
     },
     "execution_count": 4,
     "metadata": {},
     "output_type": "execute_result"
    }
   ],
   "source": [
    "22%(-3), 22//-3"
   ]
  },
  {
   "cell_type": "code",
   "execution_count": 341,
   "metadata": {},
   "outputs": [
    {
     "name": "stdout",
     "output_type": "stream",
     "text": [
      "2\n",
      "-3\n",
      "8\n"
     ]
    }
   ],
   "source": [
    "print(22//10)\n",
    "print(-22//10)\n",
    "print(-22%10)"
   ]
  },
  {
   "cell_type": "markdown",
   "metadata": {},
   "source": [
    "**Note** - In interactive mode or in notebook, you can use `_` to access last result - "
   ]
  },
  {
   "cell_type": "code",
   "execution_count": 260,
   "metadata": {},
   "outputs": [
    {
     "data": {
      "text/plain": [
       "4"
      ]
     },
     "execution_count": 260,
     "metadata": {},
     "output_type": "execute_result"
    }
   ],
   "source": [
    "2+2"
   ]
  },
  {
   "cell_type": "code",
   "execution_count": 261,
   "metadata": {},
   "outputs": [
    {
     "data": {
      "text/plain": [
       "10"
      ]
     },
     "execution_count": 261,
     "metadata": {},
     "output_type": "execute_result"
    }
   ],
   "source": [
    "_ + 6"
   ]
  },
  {
   "cell_type": "markdown",
   "metadata": {},
   "source": [
    "#### Comparison operators"
   ]
  },
  {
   "cell_type": "code",
   "execution_count": 6,
   "metadata": {},
   "outputs": [
    {
     "data": {
      "text/plain": [
       "(True, False)"
      ]
     },
     "execution_count": 6,
     "metadata": {},
     "output_type": "execute_result"
    }
   ],
   "source": [
    "2 < 3, 2 <=1"
   ]
  },
  {
   "cell_type": "code",
   "execution_count": 8,
   "metadata": {},
   "outputs": [
    {
     "data": {
      "text/plain": [
       "(True, False)"
      ]
     },
     "execution_count": 8,
     "metadata": {},
     "output_type": "execute_result"
    }
   ],
   "source": [
    "3 >= 2, 4 > 5"
   ]
  },
  {
   "cell_type": "code",
   "execution_count": 7,
   "metadata": {},
   "outputs": [
    {
     "data": {
      "text/plain": [
       "True"
      ]
     },
     "execution_count": 7,
     "metadata": {},
     "output_type": "execute_result"
    }
   ],
   "source": [
    "2 != 1"
   ]
  },
  {
   "cell_type": "code",
   "execution_count": 49,
   "metadata": {},
   "outputs": [
    {
     "data": {
      "text/plain": [
       "(False, True)"
      ]
     },
     "execution_count": 49,
     "metadata": {},
     "output_type": "execute_result"
    }
   ],
   "source": [
    "2 == 3, 2 ==2 "
   ]
  },
  {
   "cell_type": "markdown",
   "metadata": {},
   "source": [
    "#### Literals (or constant values)\n",
    "\n",
    " 1. String literals\n",
    " 2. Numeric literals\n",
    " 3. Boolean literals"
   ]
  },
  {
   "cell_type": "code",
   "execution_count": 21,
   "metadata": {},
   "outputs": [
    {
     "data": {
      "text/plain": [
       "('mayank', 'mayank')"
      ]
     },
     "execution_count": 21,
     "metadata": {},
     "output_type": "execute_result"
    }
   ],
   "source": [
    "'mayank', \"mayank\" #constant values, string"
   ]
  },
  {
   "cell_type": "code",
   "execution_count": 12,
   "metadata": {},
   "outputs": [
    {
     "data": {
      "text/plain": [
       "2"
      ]
     },
     "execution_count": 12,
     "metadata": {},
     "output_type": "execute_result"
    }
   ],
   "source": [
    "2 #constant values, integer"
   ]
  },
  {
   "cell_type": "code",
   "execution_count": 16,
   "metadata": {},
   "outputs": [
    {
     "data": {
      "text/plain": [
       "2.33"
      ]
     },
     "execution_count": 16,
     "metadata": {},
     "output_type": "execute_result"
    }
   ],
   "source": [
    "2.33 #constant values, floating point"
   ]
  },
  {
   "cell_type": "code",
   "execution_count": 28,
   "metadata": {},
   "outputs": [
    {
     "data": {
      "text/plain": [
       "(4+5j)"
      ]
     },
     "execution_count": 28,
     "metadata": {},
     "output_type": "execute_result"
    }
   ],
   "source": [
    "4+5j  #complex number\n"
   ]
  },
  {
   "cell_type": "code",
   "execution_count": 29,
   "metadata": {},
   "outputs": [
    {
     "data": {
      "text/plain": [
       "True"
      ]
     },
     "execution_count": 29,
     "metadata": {},
     "output_type": "execute_result"
    }
   ],
   "source": [
    "True  #boolean literal"
   ]
  },
  {
   "cell_type": "markdown",
   "metadata": {},
   "source": [
    "#### Python Keywords\n",
    "\n",
    "Below is the list of Python keywords. They have special meaning and purposes. Don't use them as variable name. "
   ]
  },
  {
   "cell_type": "code",
   "execution_count": 20,
   "metadata": {
    "scrolled": true
   },
   "outputs": [
    {
     "name": "stdout",
     "output_type": "stream",
     "text": [
      "['False', 'None', 'True', 'and', 'as', 'assert', 'break', 'class', 'continue', 'def', 'del', 'elif', 'else', 'except', 'finally', 'for', 'from', 'global', 'if', 'import', 'in', 'is', 'lambda', 'nonlocal', 'not', 'or', 'pass', 'raise', 'return', 'try', 'while', 'with', 'yield']\n"
     ]
    }
   ],
   "source": [
    "import keyword  \n",
    "print(keyword.kwlist) #Python uses these words. "
   ]
  },
  {
   "cell_type": "markdown",
   "metadata": {},
   "source": [
    "#### Variables \n",
    "\n",
    "In the context of Python, a variable is just a pointer which points to an object. Carefully note that, **a variable is not the object but a pointer to an object it is currently pointing to.** \n",
    "\n",
    "A variable, per se, does not have any type (checked by `type` function) or identity (checked by `id` function which returns the memory location) or any value. When you use `type` function or `id` function on a variable, you get the type and id of the object pointed by that variable.\n",
    "\n",
    "Also note that you can always make a variable to point to any other object. In that case, the object earlier pointed by this variable is deleted (unless pointed by any other variable).\n",
    "\n",
    "\n",
    "\n"
   ]
  },
  {
   "cell_type": "code",
   "execution_count": 25,
   "metadata": {},
   "outputs": [
    {
     "data": {
      "text/plain": [
       "(2, int, 739586042192)"
      ]
     },
     "execution_count": 25,
     "metadata": {},
     "output_type": "execute_result"
    }
   ],
   "source": [
    "#variable, it can be assigned some values, values can be changed\n",
    "\n",
    "a = 2\n",
    "a, type(a), id(a)"
   ]
  },
  {
   "cell_type": "code",
   "execution_count": 26,
   "metadata": {},
   "outputs": [
    {
     "data": {
      "text/plain": [
       "(3.33, float, 739675497456)"
      ]
     },
     "execution_count": 26,
     "metadata": {},
     "output_type": "execute_result"
    }
   ],
   "source": [
    "a = 3.33  #now 'a' points to different value\n",
    "a, type(a), id(a)"
   ]
  },
  {
   "cell_type": "markdown",
   "metadata": {},
   "source": [
    "When we executed `a = 2`, Python created an object with value `2` of type `int` at the memory address `739586042192`. And to make this accessible to us, gave it a name `a`.\n",
    "\n",
    "Then we ran `a = 3.33`, Python created another object with value `3.33` of type `float` at the memory address `739675497456` with name `a`.\n",
    "\n",
    "You can see that in the former case, `a` was pointing to the object residing at memory address `739586042192` but then we made it to point to another object of different type residing at memory address `739675497456`.\n",
    "\n",
    "This also explains what we mean when we say  \"Python is dynamically typed language\".\n",
    "\n",
    "Now the question arises - what happens to the object earlier pointed by `a`? Since that object is no longer accessible (that is, not pointed by any variable), Python deletes it and frees up the memory claimed by it. (Python is garbage collected language).\n",
    "\n",
    "So you can see that variables themselves do not have any type, identity or value. Only objects pointed by them do. \n",
    "\n",
    "Also note that multiple variables can point to a single object. See below - \n",
    "\n",
    "\n",
    "\n"
   ]
  },
  {
   "cell_type": "code",
   "execution_count": 27,
   "metadata": {},
   "outputs": [
    {
     "data": {
      "text/plain": [
       "(739586042224, 739586042224)"
      ]
     },
     "execution_count": 27,
     "metadata": {},
     "output_type": "execute_result"
    }
   ],
   "source": [
    "a = b = 3 \n",
    "\n",
    "id(a), id(b)"
   ]
  },
  {
   "cell_type": "code",
   "execution_count": 29,
   "metadata": {},
   "outputs": [
    {
     "name": "stdout",
     "output_type": "stream",
     "text": [
      "a is now :-  4\n",
      "b is now :-  3\n"
     ]
    }
   ],
   "source": [
    "a = 4\n",
    "\n",
    "print(\"a is now :- \",a)\n",
    "print(\"b is now :- \", b)"
   ]
  },
  {
   "cell_type": "code",
   "execution_count": 30,
   "metadata": {},
   "outputs": [
    {
     "data": {
      "text/plain": [
       "(739586042256, 739586042224)"
      ]
     },
     "execution_count": 30,
     "metadata": {},
     "output_type": "execute_result"
    }
   ],
   "source": [
    "id(a), id(b)"
   ]
  },
  {
   "cell_type": "markdown",
   "metadata": {},
   "source": [
    "With `a = b = 3`, we created a **single** `int` object with value `3` at memory address `739586042224` and this object is pointed to by 2 variables `a` and `b`.\n",
    "\n",
    "Then with `a = 4`, we created another `int` object with value `4` at memory location `739586042256`. After this, earlier object can no longer be accessible through variable `a`. Since earlier object is still pointed to by `b`, it isn't deleted by Python's garbage collection mechanism. \n",
    "\n",
    "See another example.\n",
    "\n"
   ]
  },
  {
   "cell_type": "code",
   "execution_count": 31,
   "metadata": {},
   "outputs": [
    {
     "data": {
      "text/plain": [
       "(739663577136, 739663577136)"
      ]
     },
     "execution_count": 31,
     "metadata": {},
     "output_type": "execute_result"
    }
   ],
   "source": [
    "a = 'Peter'\n",
    "b = a\n",
    "\n",
    "id(a), id(b)\n"
   ]
  },
  {
   "cell_type": "code",
   "execution_count": 32,
   "metadata": {},
   "outputs": [
    {
     "name": "stdout",
     "output_type": "stream",
     "text": [
      "Peter\n"
     ]
    },
    {
     "data": {
      "text/plain": [
       "(None, 739663577136, 739586042256)"
      ]
     },
     "execution_count": 32,
     "metadata": {},
     "output_type": "execute_result"
    }
   ],
   "source": [
    "b = 4\n",
    "print(a), id(a), id(b)"
   ]
  },
  {
   "cell_type": "markdown",
   "metadata": {},
   "source": [
    "Note that before we can use any variable, we have to assign some value to them. It shouldn't come as a surprise. After all, variable has to point to some object. Without object, variable has no meaning. "
   ]
  },
  {
   "cell_type": "code",
   "execution_count": 54,
   "metadata": {},
   "outputs": [
    {
     "ename": "NameError",
     "evalue": "name 'n' is not defined",
     "output_type": "error",
     "traceback": [
      "\u001b[1;31m---------------------------------------------------------------------------\u001b[0m",
      "\u001b[1;31mNameError\u001b[0m                                 Traceback (most recent call last)",
      "\u001b[1;32m<ipython-input-54-dc736aba71c8>\u001b[0m in \u001b[0;36m<module>\u001b[1;34m\u001b[0m\n\u001b[1;32m----> 1\u001b[1;33m \u001b[0mn\u001b[0m \u001b[1;31m# error\u001b[0m\u001b[1;33m\u001b[0m\u001b[1;33m\u001b[0m\u001b[0m\n\u001b[0m",
      "\u001b[1;31mNameError\u001b[0m: name 'n' is not defined"
     ]
    }
   ],
   "source": [
    "n  #error"
   ]
  },
  {
   "cell_type": "markdown",
   "metadata": {},
   "source": [
    "**This section is almost completely copied from Whirlwind Tour of Python because it was so good.**\n",
    "\n",
    "\n",
    "Python Variables Are Pointers - Assigning variables in Python is as easy as putting a variable name to the left of the equals (``=``) sign:\n",
    "```python\n",
    "# assign 4 to the variable x\n",
    "x = 4\n",
    "```\n",
    "\n",
    "This may seem straightforward, but if you have the wrong mental model of what this operation does, the way Python works may seem confusing. We'll briefly dig into that here.\n",
    "\n",
    "In many programming languages, variables are best thought of as containers or buckets into which you put data.\n",
    "So in C, for example, when you write\n",
    "```\n",
    "// C code\n",
    "int x = 4;\n",
    "```\n",
    "you are essentially defining a \"memory bucket\" named ``x``, and putting the value ``4`` into it. In Python, by contrast, variables are best thought of not as containers but as pointers. So in Python, when you write\n",
    "```python\n",
    "x = 4\n",
    "```\n",
    "you are essentially defining a *pointer* named ``x`` that points to some other bucket containing the value ``4``.\n",
    "Note one consequence of this: because Python variables just point to various objects, there is no need to \"declare\" the variable, or even require the variable to always point to information of the same type! This is the sense in which  people say Python is *dynamically-typed*: variable names can point to objects of any type. So in Python, you can do things like this:\n",
    "```python\n",
    "x = 1         # x is an integer\n",
    "x = 'hello'   # now x is a string\n",
    "x = [1, 2, 3] # now x is a list\n",
    "```\n",
    "While users of statically-typed languages might miss the type-safety that comes with declarations like those found in C,\n",
    "```\n",
    "int x = 4;\n",
    "```\n",
    "this dynamic typing is one of the pieces that makes Python so quick to write and easy to read. There is a consequence of this \"variable as pointer\" approach that you need to be aware of.\n",
    "\n",
    "If we have two variable names pointing to the same *mutable* object, then changing one will change the other as well! For example, let's create and modify a list:\n",
    "\n",
    "```python\n",
    "x = [1, 2, 3]\n",
    "y = x\n",
    "```\n",
    "We've created two variables ``x`` and ``y`` which both point to the same object. Because of this, if we modify the list via one of its names, we'll see that the \"other\" list will be modified as well:\n",
    "\n",
    "```python\n",
    "print(y)       #output – [1,2,3]\n",
    "x.append(4)    # append 4 to the list pointed to by x\n",
    "print(y)       #output – [1,2,3,4] y's list is modified as well!\n",
    "```\n",
    "\n",
    "This behavior might seem confusing if you're wrongly thinking of variables as buckets that contain data. But if you're correctly thinking of variables as pointers to objects, then this behavior makes sense.\n",
    "Note also that if we use \"``=``\" to assign another value to ``x``, this will not affect the value of ``y`` – assignment is simply a change of what object the variable points to:\n",
    "\n",
    "```python\n",
    "x = 'something else'\n",
    "print(y)  # y is unchanged\n",
    "```\n",
    "Again, this makes perfect sense if you think of ``x`` and ``y`` as pointers, and the \"``=``\" operator as an operation that changes what the name points to.\n",
    "\n",
    "Numbers, strings, and other *simple types* are immutable: you can't change their value – you can only change what values the variables point to. So, for example, it's perfectly safe to do operations like the following:\n",
    "```python\n",
    "x = 10\n",
    "y = x\n",
    "x += 5  # add 5 to x's value, and assign it to x\n",
    "print(\"x =\", x) #x=15\n",
    "print(\"y =\", y) #y=10\n",
    "```\n",
    "When we call ``x += 5``, we are not modifying the value of the ``10`` object pointed to by ``x``; we are rather changing the variable ``x`` so that it points to a new integer object with value ``15``. For this reason, the value of ``y`` is not affected by the operation.\n",
    "\n",
    "\n",
    "**END**"
   ]
  },
  {
   "cell_type": "code",
   "execution_count": 34,
   "metadata": {},
   "outputs": [
    {
     "data": {
      "text/plain": [
       "(int, NoneType)"
      ]
     },
     "execution_count": 34,
     "metadata": {},
     "output_type": "execute_result"
    }
   ],
   "source": [
    "a = None\n",
    "b = 1\n",
    "type(b), a.__class__"
   ]
  },
  {
   "cell_type": "markdown",
   "metadata": {},
   "source": [
    "**Note**\n",
    "\n",
    "The `type(b)` is equivalent to `b.__class__`. Assuming you know OOP, `b.__class__` outputs the class of which `b` is an instance. "
   ]
  },
  {
   "cell_type": "markdown",
   "metadata": {},
   "source": [
    "#### Python Data types\n",
    "\n",
    " - `None`: This type has single value `None`. \n",
    " - Numerics types: They are immutable.\n",
    "   - Integers: 2 types of integers: Integers and Booleans \n",
    "     - `int` type for any integer. They represent all integers\n",
    "     - `bool` type. Only two possible values `True` representing `1` and `False` representing `0`.\n",
    "   - floats: `float` type. Represents floating value numbers such as 2.3\n",
    "   - complex numbers: `complex` types. Complex numbers such as 2+3j\n",
    " - String: `str` type. Sequence of characters. These are immutable\n",
    " - Lists: `list` Lists contain orderly collection of other arbitrary Python objects. They are mutable.\n",
    " - Tuples: `tuple` Just like lists but immutable\n",
    " - Dictionaries: `dict` type. Mapping objects. Collection of `key:value` pairs. Mutable. \n",
    " - Sets: `set` type. These represent unordered, finite sets of unique, immutable objects. They are mutable. \n",
    " \n",
    "\n",
    "These are the most used data types. Other data types are also available but they are rarely used hence not mentioned here.   \n",
    "\n",
    "See below for examples of each types.\n"
   ]
  },
  {
   "cell_type": "code",
   "execution_count": 33,
   "metadata": {},
   "outputs": [],
   "source": [
    "none_value = None\n",
    "num = 1        #integer, number\n",
    "flt = 2.2      #float, also a number\n",
    "comp = 2+7j    #complex number\n",
    "boo = True     #boolean value\n",
    "st = 'abc'     #string\n",
    "st1 = \"afsdf\"  #also a string\n",
    "st2 = \"111\"    #also a string\n",
    "\n",
    "foo = [1,2,'a', 'mayank', True] #a list\n",
    "bar = (1,2,'a', 'mayank', True) #a tuple\n",
    "baz = {'a': 1, 'b': False, 'c': 'xyz'}  #a dictionary\n",
    "bam = {1,'a','b'} #a set"
   ]
  },
  {
   "cell_type": "markdown",
   "metadata": {},
   "source": [
    "Good news is that these are the only data types we'll work with. \n",
    "\n"
   ]
  },
  {
   "cell_type": "markdown",
   "metadata": {},
   "source": []
  },
  {
   "cell_type": "markdown",
   "metadata": {},
   "source": [
    "#### Built-in types\n",
    "\n",
    "Above we mentioned some built-in data types. Let's check `type` of each variable we defined above. "
   ]
  },
  {
   "cell_type": "code",
   "execution_count": 40,
   "metadata": {},
   "outputs": [
    {
     "data": {
      "text/plain": [
       "(int, float, complex, bool)"
      ]
     },
     "execution_count": 40,
     "metadata": {},
     "output_type": "execute_result"
    }
   ],
   "source": [
    "type(num), type(flt), type(comp), type(boo)"
   ]
  },
  {
   "cell_type": "code",
   "execution_count": 41,
   "metadata": {},
   "outputs": [
    {
     "data": {
      "text/plain": [
       "(str, str, str)"
      ]
     },
     "execution_count": 41,
     "metadata": {},
     "output_type": "execute_result"
    }
   ],
   "source": [
    "type(st), type(st1), type(st2)"
   ]
  },
  {
   "cell_type": "code",
   "execution_count": 42,
   "metadata": {},
   "outputs": [
    {
     "data": {
      "text/plain": [
       "(list, tuple, dict, set)"
      ]
     },
     "execution_count": 42,
     "metadata": {},
     "output_type": "execute_result"
    }
   ],
   "source": [
    "type(foo), type(bar), type(baz), type(bam)"
   ]
  },
  {
   "cell_type": "markdown",
   "metadata": {},
   "source": [
    "There are many other types available in Python, however, they are not necessarily data types. For example, take a built-in function `sum()` and check its type. "
   ]
  },
  {
   "cell_type": "code",
   "execution_count": 43,
   "metadata": {},
   "outputs": [
    {
     "data": {
      "text/plain": [
       "builtin_function_or_method"
      ]
     },
     "execution_count": 43,
     "metadata": {},
     "output_type": "execute_result"
    }
   ],
   "source": [
    "type(sum)"
   ]
  },
  {
   "cell_type": "markdown",
   "metadata": {},
   "source": [
    "Or a class:"
   ]
  },
  {
   "cell_type": "code",
   "execution_count": 44,
   "metadata": {},
   "outputs": [
    {
     "data": {
      "text/plain": [
       "type"
      ]
     },
     "execution_count": 44,
     "metadata": {},
     "output_type": "execute_result"
    }
   ],
   "source": [
    "class Test():\n",
    "    pass\n",
    "\n",
    "type(Test)"
   ]
  },
  {
   "cell_type": "code",
   "execution_count": 45,
   "metadata": {},
   "outputs": [
    {
     "data": {
      "text/plain": [
       "__main__.Test"
      ]
     },
     "execution_count": 45,
     "metadata": {},
     "output_type": "execute_result"
    }
   ],
   "source": [
    "test = Test()\n",
    "\n",
    "type(test)"
   ]
  },
  {
   "cell_type": "markdown",
   "metadata": {},
   "source": [
    "Above two example may stump you but don't worry. Their types aren't of immediate concern. Important point here is that there are many other possible types and they might not necessarily be data types. "
   ]
  },
  {
   "cell_type": "markdown",
   "metadata": {},
   "source": [
    "### PART 2\n",
    "\n",
    "In this part, we'll look into numerics types, strings, lists, tuples, dictionaries and sets. \n",
    "\n",
    "types|iterables|sequence|mutability\n",
    "------|-----|------|-------\n",
    "numeric types|No|No|Immutable\n",
    "string|Yes|Yes|Immutable\n",
    "List|Yes|Yes|Mutable\n",
    "Tuple|Yes|Yes|Immutable\n",
    "Dictionaries|Yes|No|Mutable\n",
    "Sets|Yes|No|Mutable\n",
    "\n",
    "In very simple terms -\n",
    "\n",
    "- If an object is iterable, you can iterate over its elements using `For` loop.\n",
    "- If an object is sequence, you can access its elements by indexing (using `object[i]` notation)\n",
    "- If an object is mutable, you can change its content without changing its identity.  "
   ]
  },
  {
   "cell_type": "markdown",
   "metadata": {},
   "source": [
    "#### Numbers"
   ]
  },
  {
   "cell_type": "code",
   "execution_count": 312,
   "metadata": {},
   "outputs": [
    {
     "data": {
      "text/plain": [
       "['as_integer_ratio', 'bit_length', 'conjugate', 'denominator', 'from_bytes', 'imag', 'numerator', 'real', 'to_bytes']"
      ]
     },
     "execution_count": 312,
     "metadata": {},
     "output_type": "execute_result"
    }
   ],
   "source": [
    "a =  4\n",
    "\n",
    "[i for i in dir(a) if not i.startswith('_')]"
   ]
  },
  {
   "cell_type": "code",
   "execution_count": 12,
   "metadata": {},
   "outputs": [
    {
     "data": {
      "text/plain": [
       "(7549513676786961, 2199023255552)"
      ]
     },
     "execution_count": 12,
     "metadata": {},
     "output_type": "execute_result"
    }
   ],
   "source": [
    "some_float = 3433.121345\n",
    "\n",
    "some_float.as_integer_ratio()"
   ]
  },
  {
   "cell_type": "code",
   "execution_count": 14,
   "metadata": {},
   "outputs": [
    {
     "data": {
      "text/plain": [
       "(7, '0b1111001')"
      ]
     },
     "execution_count": 14,
     "metadata": {},
     "output_type": "execute_result"
    }
   ],
   "source": [
    "some_num = 121\n",
    "some_num.bit_length(), bin(121)"
   ]
  },
  {
   "cell_type": "code",
   "execution_count": 16,
   "metadata": {},
   "outputs": [
    {
     "data": {
      "text/plain": [
       "((3-4j), 4.0, 3.0)"
      ]
     },
     "execution_count": 16,
     "metadata": {},
     "output_type": "execute_result"
    }
   ],
   "source": [
    "comp = 3+4j\n",
    "comp.conjugate(), comp.imag, comp.real"
   ]
  },
  {
   "cell_type": "code",
   "execution_count": 18,
   "metadata": {},
   "outputs": [
    {
     "data": {
      "text/plain": [
       "(1, 5)"
      ]
     },
     "execution_count": 18,
     "metadata": {},
     "output_type": "execute_result"
    }
   ],
   "source": [
    "xy = 5\n",
    "xy.denominator, xy.numerator"
   ]
  },
  {
   "cell_type": "code",
   "execution_count": 15,
   "metadata": {},
   "outputs": [
    {
     "data": {
      "text/plain": [
       "b'\\x0b\\x00\\x00\\x00\\x00\\x00\\x00\\x00\\x00\\x00'"
      ]
     },
     "execution_count": 15,
     "metadata": {},
     "output_type": "execute_result"
    }
   ],
   "source": [
    "import sys\n",
    "n = 11\n",
    "n.to_bytes(10, sys.byteorder)"
   ]
  },
  {
   "cell_type": "markdown",
   "metadata": {},
   "source": [
    "**Note about boolean values `False` and `True`**\n",
    "\n",
    "In numeric contexts (for example when used as the argument to an arithmetic operator), they behave like the integers 0 and 1, respectively."
   ]
  },
  {
   "cell_type": "code",
   "execution_count": 334,
   "metadata": {},
   "outputs": [
    {
     "data": {
      "text/plain": [
       "(True, 2)"
      ]
     },
     "execution_count": 334,
     "metadata": {},
     "output_type": "execute_result"
    }
   ],
   "source": [
    "True == 1, True + 1"
   ]
  },
  {
   "cell_type": "code",
   "execution_count": 333,
   "metadata": {},
   "outputs": [
    {
     "data": {
      "text/plain": [
       "2"
      ]
     },
     "execution_count": 333,
     "metadata": {},
     "output_type": "execute_result"
    }
   ],
   "source": [
    "2 - False"
   ]
  },
  {
   "cell_type": "code",
   "execution_count": 342,
   "metadata": {},
   "outputs": [
    {
     "data": {
      "text/plain": [
       "True"
      ]
     },
     "execution_count": 342,
     "metadata": {},
     "output_type": "execute_result"
    }
   ],
   "source": [
    "issubclass(bool,int)"
   ]
  },
  {
   "cell_type": "code",
   "execution_count": 343,
   "metadata": {},
   "outputs": [
    {
     "data": {
      "text/plain": [
       "True"
      ]
     },
     "execution_count": 343,
     "metadata": {},
     "output_type": "execute_result"
    }
   ],
   "source": [
    "isinstance(True, int)"
   ]
  },
  {
   "cell_type": "code",
   "execution_count": 6,
   "metadata": {},
   "outputs": [
    {
     "data": {
      "text/plain": [
       "((int,),\n",
       " [bool,\n",
       "  <enum 'IntEnum'>,\n",
       "  <enum 'IntFlag'>,\n",
       "  sre_constants._NamedIntConstant,\n",
       "  subprocess.Handle])"
      ]
     },
     "execution_count": 6,
     "metadata": {},
     "output_type": "execute_result"
    }
   ],
   "source": [
    "bool.__bases__, int.__subclasses__()\n",
    "#bool class inherits from `int` class"
   ]
  },
  {
   "cell_type": "code",
   "execution_count": 7,
   "metadata": {},
   "outputs": [
    {
     "data": {
      "text/plain": [
       "(bool, type, type, type, (object,), True)"
      ]
     },
     "execution_count": 7,
     "metadata": {},
     "output_type": "execute_result"
    }
   ],
   "source": [
    "a1 = True\n",
    "a1.__class__, bool.__class__,type.__class__, int.__class__, int.__bases__, issubclass(int, object)\n"
   ]
  },
  {
   "cell_type": "code",
   "execution_count": 12,
   "metadata": {},
   "outputs": [
    {
     "data": {
      "text/plain": [
       "type"
      ]
     },
     "execution_count": 12,
     "metadata": {},
     "output_type": "execute_result"
    }
   ],
   "source": [
    "object.__class__\n"
   ]
  },
  {
   "cell_type": "code",
   "execution_count": 15,
   "metadata": {},
   "outputs": [
    {
     "data": {
      "text/plain": [
       "(True, list, list)"
      ]
     },
     "execution_count": 15,
     "metadata": {},
     "output_type": "execute_result"
    }
   ],
   "source": [
    "nn = [1,2]\n",
    "isinstance(nn, list), nn.__class__, type(nn)"
   ]
  },
  {
   "cell_type": "code",
   "execution_count": 17,
   "metadata": {},
   "outputs": [
    {
     "data": {
      "text/plain": [
       "((object,), True)"
      ]
     },
     "execution_count": 17,
     "metadata": {},
     "output_type": "execute_result"
    }
   ],
   "source": [
    "type.__bases__, issubclass(type, object)"
   ]
  },
  {
   "cell_type": "markdown",
   "metadata": {},
   "source": [
    "##### Note - Lest you forget, `__class__` gives you the type of a class. `__bases__` gives you the class of which said class is a subclass. "
   ]
  },
  {
   "cell_type": "markdown",
   "metadata": {},
   "source": [
    "Complex numbers are written in the form `a+bj`. If  you want to use simply `j`, write it as `1j`.  "
   ]
  },
  {
   "cell_type": "code",
   "execution_count": 336,
   "metadata": {},
   "outputs": [
    {
     "data": {
      "text/plain": [
       "(-1+0j)"
      ]
     },
     "execution_count": 336,
     "metadata": {},
     "output_type": "execute_result"
    }
   ],
   "source": [
    "1j * 1j"
   ]
  },
  {
   "cell_type": "markdown",
   "metadata": {},
   "source": [
    "Python can also deal with `NaN` ('Not a Number'), $-\\infty$ and $\\infty$. You simply pass the strings 'NaN', 'nan' for `NaN` and 'inf' or '-inf' for $\\infty$ or $-\\infty$."
   ]
  },
  {
   "cell_type": "code",
   "execution_count": 24,
   "metadata": {},
   "outputs": [
    {
     "data": {
      "text/plain": [
       "nan"
      ]
     },
     "execution_count": 24,
     "metadata": {},
     "output_type": "execute_result"
    }
   ],
   "source": [
    "a = float('NaN')\n",
    "a"
   ]
  },
  {
   "cell_type": "code",
   "execution_count": 35,
   "metadata": {},
   "outputs": [
    {
     "data": {
      "text/plain": [
       "inf"
      ]
     },
     "execution_count": 35,
     "metadata": {},
     "output_type": "execute_result"
    }
   ],
   "source": [
    "float('inf')"
   ]
  },
  {
   "cell_type": "code",
   "execution_count": 22,
   "metadata": {},
   "outputs": [
    {
     "data": {
      "text/plain": [
       "True"
      ]
     },
     "execution_count": 22,
     "metadata": {},
     "output_type": "execute_result"
    }
   ],
   "source": [
    "3 > float('-inf')"
   ]
  },
  {
   "cell_type": "code",
   "execution_count": 26,
   "metadata": {},
   "outputs": [
    {
     "data": {
      "text/plain": [
       "True"
      ]
     },
     "execution_count": 26,
     "metadata": {},
     "output_type": "execute_result"
    }
   ],
   "source": [
    "float('-inf') == float('-inf')\n"
   ]
  },
  {
   "cell_type": "code",
   "execution_count": 53,
   "metadata": {},
   "outputs": [
    {
     "data": {
      "text/plain": [
       "False"
      ]
     },
     "execution_count": 53,
     "metadata": {},
     "output_type": "execute_result"
    }
   ],
   "source": [
    "2**1000 > float('inf')"
   ]
  },
  {
   "cell_type": "markdown",
   "metadata": {},
   "source": [
    "Note that `NaN` doesn't equal to anything, not even to itself so `==` can't be used to test equality."
   ]
  },
  {
   "cell_type": "code",
   "execution_count": 27,
   "metadata": {},
   "outputs": [
    {
     "data": {
      "text/plain": [
       "False"
      ]
     },
     "execution_count": 27,
     "metadata": {},
     "output_type": "execute_result"
    }
   ],
   "source": [
    "float('NaN') == float('NaN')"
   ]
  },
  {
   "cell_type": "code",
   "execution_count": 54,
   "metadata": {},
   "outputs": [
    {
     "data": {
      "text/plain": [
       "float"
      ]
     },
     "execution_count": 54,
     "metadata": {},
     "output_type": "execute_result"
    }
   ],
   "source": [
    "a = float('NaN')"
   ]
  },
  {
   "cell_type": "markdown",
   "metadata": {},
   "source": [
    "#### Strings"
   ]
  },
  {
   "cell_type": "code",
   "execution_count": 85,
   "metadata": {},
   "outputs": [
    {
     "data": {
      "text/plain": [
       "(str, str)"
      ]
     },
     "execution_count": 85,
     "metadata": {},
     "output_type": "execute_result"
    }
   ],
   "source": [
    "a = '' #empty string\n",
    "b = str() #also an empty string\n",
    "\n",
    "type(a),type(b)"
   ]
  },
  {
   "cell_type": "markdown",
   "metadata": {},
   "source": [
    "Strings can be concatenated -"
   ]
  },
  {
   "cell_type": "code",
   "execution_count": 250,
   "metadata": {},
   "outputs": [
    {
     "data": {
      "text/plain": [
       "'Samwise'"
      ]
     },
     "execution_count": 250,
     "metadata": {},
     "output_type": "execute_result"
    }
   ],
   "source": [
    "'Sam' + 'wise'"
   ]
  },
  {
   "cell_type": "code",
   "execution_count": 251,
   "metadata": {},
   "outputs": [
    {
     "name": "stdout",
     "output_type": "stream",
     "text": [
      "Samwise\n"
     ]
    }
   ],
   "source": [
    "name = 'Sam'\n",
    "print(name + 'wise') #name is a variable which holds a string"
   ]
  },
  {
   "cell_type": "markdown",
   "metadata": {},
   "source": [
    "Below is the list of string methods. We'll talk about methods later but for the time being, just keep in mind that every object has methods which can be used by `.` notation.  "
   ]
  },
  {
   "cell_type": "code",
   "execution_count": 88,
   "metadata": {},
   "outputs": [
    {
     "name": "stdout",
     "output_type": "stream",
     "text": [
      "Pretty printing has been turned OFF\n"
     ]
    },
    {
     "data": {
      "text/plain": [
       "['capitalize', 'casefold', 'center', 'count', 'encode', 'endswith', 'expandtabs', 'find', 'format', 'index', 'isalnum', 'isalpha', 'isascii', 'isdecimal', 'isdigit', 'isidentifier', 'islower', 'isnumeric', 'isprintable', 'isspace', 'istitle', 'isupper', 'join', 'ljust', 'lower', 'lstrip', 'maketrans', 'partition', 'removeprefix', 'removesuffix', 'replace', 'rfind', 'rindex', 'rjust', 'rpartition', 'rsplit', 'rstrip', 'split', 'splitlines', 'startswith', 'strip', 'swapcase', 'title', 'translate', 'upper', 'zfill']"
      ]
     },
     "execution_count": 88,
     "metadata": {},
     "output_type": "execute_result"
    }
   ],
   "source": [
    "%pprint      \n",
    "[i for i in dir('') if not '_' in i] #this is list comprehension but don't bother about it just yet"
   ]
  },
  {
   "cell_type": "code",
   "execution_count": 90,
   "metadata": {},
   "outputs": [
    {
     "data": {
      "text/plain": [
       "'Mayank'"
      ]
     },
     "execution_count": 90,
     "metadata": {},
     "output_type": "execute_result"
    }
   ],
   "source": [
    "a = 'mayank'\n",
    "a.capitalize()  #this is how you use method via dot notation. "
   ]
  },
  {
   "cell_type": "markdown",
   "metadata": {},
   "source": [
    "You are supposed to explore every string methods. \n",
    "\n",
    "We can access each character of a string by subscription method. Remember that in Python, indexing starts from 0. That means first element will actually be 0th element in programming terminology. "
   ]
  },
  {
   "cell_type": "code",
   "execution_count": 96,
   "metadata": {},
   "outputs": [
    {
     "data": {
      "text/plain": [
       "'m'"
      ]
     },
     "execution_count": 96,
     "metadata": {},
     "output_type": "execute_result"
    }
   ],
   "source": [
    "name = 'mayank'\n",
    "name[0]         #subscription method"
   ]
  },
  {
   "cell_type": "code",
   "execution_count": 97,
   "metadata": {},
   "outputs": [
    {
     "data": {
      "text/plain": [
       "6"
      ]
     },
     "execution_count": 97,
     "metadata": {},
     "output_type": "execute_result"
    }
   ],
   "source": [
    "len(name)"
   ]
  },
  {
   "cell_type": "code",
   "execution_count": 151,
   "metadata": {},
   "outputs": [
    {
     "data": {
      "text/plain": [
       "'knayam'"
      ]
     },
     "execution_count": 151,
     "metadata": {},
     "output_type": "execute_result"
    }
   ],
   "source": [
    "name[::-1]  #string reversal through slicing "
   ]
  },
  {
   "cell_type": "code",
   "execution_count": 182,
   "metadata": {},
   "outputs": [
    {
     "data": {
      "text/plain": [
       "'ma'"
      ]
     },
     "execution_count": 182,
     "metadata": {},
     "output_type": "execute_result"
    }
   ],
   "source": [
    "name[:2]"
   ]
  },
  {
   "cell_type": "code",
   "execution_count": 152,
   "metadata": {},
   "outputs": [
    {
     "name": "stdout",
     "output_type": "stream",
     "text": [
      "m\n",
      "a\n",
      "y\n",
      "a\n",
      "n\n",
      "k\n"
     ]
    }
   ],
   "source": [
    "for i in name:\n",
    "    print(i)"
   ]
  },
  {
   "cell_type": "code",
   "execution_count": 153,
   "metadata": {},
   "outputs": [
    {
     "data": {
      "text/plain": [
       "['m', 'a', 'y', 'a', 'n', 'k']"
      ]
     },
     "execution_count": 153,
     "metadata": {},
     "output_type": "execute_result"
    }
   ],
   "source": [
    "list(name)"
   ]
  },
  {
   "cell_type": "code",
   "execution_count": 155,
   "metadata": {},
   "outputs": [
    {
     "data": {
      "text/plain": [
       "['e', 'e', 'p', 'r', 't']"
      ]
     },
     "execution_count": 155,
     "metadata": {},
     "output_type": "execute_result"
    }
   ],
   "source": [
    "sorted('peter')"
   ]
  },
  {
   "cell_type": "code",
   "execution_count": 161,
   "metadata": {},
   "outputs": [
    {
     "data": {
      "text/plain": [
       "(False, True)"
      ]
     },
     "execution_count": 161,
     "metadata": {},
     "output_type": "execute_result"
    }
   ],
   "source": [
    "'i' in name, 'm' in name"
   ]
  },
  {
   "cell_type": "markdown",
   "metadata": {},
   "source": [
    "white space characters such as `\\n` are treated as a character "
   ]
  },
  {
   "cell_type": "code",
   "execution_count": 238,
   "metadata": {},
   "outputs": [
    {
     "name": "stdout",
     "output_type": "stream",
     "text": [
      "maya\n",
      "k\n"
     ]
    }
   ],
   "source": [
    "print(\"maya\\nk\")"
   ]
  },
  {
   "cell_type": "markdown",
   "metadata": {},
   "source": [
    "To 'escape' this, you use `\\` before anything you want to escape. For example, if you want to print `\\n` as such, you escape it as shown below -"
   ]
  },
  {
   "cell_type": "code",
   "execution_count": 239,
   "metadata": {},
   "outputs": [
    {
     "name": "stdout",
     "output_type": "stream",
     "text": [
      "maya\\nk\n"
     ]
    }
   ],
   "source": [
    "print(\"maya\\\\nk\")"
   ]
  },
  {
   "cell_type": "markdown",
   "metadata": {},
   "source": [
    "Alternatively, you can use *raw strings* by prefixing `r` before first quote mark - "
   ]
  },
  {
   "cell_type": "code",
   "execution_count": 245,
   "metadata": {},
   "outputs": [
    {
     "name": "stdout",
     "output_type": "stream",
     "text": [
      "maya\\nk\n"
     ]
    }
   ],
   "source": [
    "print(r'maya\\nk')"
   ]
  },
  {
   "cell_type": "markdown",
   "metadata": {},
   "source": [
    "See also - "
   ]
  },
  {
   "cell_type": "code",
   "execution_count": 240,
   "metadata": {},
   "outputs": [
    {
     "name": "stdout",
     "output_type": "stream",
     "text": [
      "He said, 'Hi'\n"
     ]
    }
   ],
   "source": [
    "print(\"He said, 'Hi'\")"
   ]
  },
  {
   "cell_type": "code",
   "execution_count": 2,
   "metadata": {},
   "outputs": [
    {
     "ename": "SyntaxError",
     "evalue": "invalid syntax (Temp/ipykernel_5108/606407991.py, line 1)",
     "output_type": "error",
     "traceback": [
      "\u001b[1;36m  File \u001b[1;32m\"C:\\Users\\pcxyz\\AppData\\Local\\Temp/ipykernel_5108/606407991.py\"\u001b[1;36m, line \u001b[1;32m1\u001b[0m\n\u001b[1;33m    print(\"He said, \"Hi\"\") #error\u001b[0m\n\u001b[1;37m                     ^\u001b[0m\n\u001b[1;31mSyntaxError\u001b[0m\u001b[1;31m:\u001b[0m invalid syntax\n"
     ]
    }
   ],
   "source": [
    "print(\"He said, \"Hi\"\") #error"
   ]
  },
  {
   "cell_type": "code",
   "execution_count": 243,
   "metadata": {},
   "outputs": [
    {
     "name": "stdout",
     "output_type": "stream",
     "text": [
      "He said, \"Hi\"\n"
     ]
    }
   ],
   "source": [
    "#use escaping \n",
    "print(\"He said, \\\"Hi\\\"\")"
   ]
  },
  {
   "cell_type": "markdown",
   "metadata": {},
   "source": [
    "Multi-line string"
   ]
  },
  {
   "cell_type": "code",
   "execution_count": 248,
   "metadata": {},
   "outputs": [
    {
     "name": "stdout",
     "output_type": "stream",
     "text": [
      "\n",
      "First enter your name\n",
      "Then, your age\n",
      "\n"
     ]
    }
   ],
   "source": [
    "print('''\n",
    "First enter your name\n",
    "Then, your age\n",
    "''')"
   ]
  },
  {
   "cell_type": "code",
   "execution_count": 249,
   "metadata": {},
   "outputs": [
    {
     "name": "stdout",
     "output_type": "stream",
     "text": [
      "First enter your name\n",
      "Then, your age\n",
      "\n"
     ]
    }
   ],
   "source": [
    "print('''\\\n",
    "First enter your name\n",
    "Then, your age\n",
    "''')"
   ]
  },
  {
   "cell_type": "markdown",
   "metadata": {},
   "source": [
    "Carefully note that in previous example there was a blank line while in second example, newline character was omitted because we escaped this. "
   ]
  },
  {
   "cell_type": "markdown",
   "metadata": {},
   "source": [
    "Strings are **immutable** which means, once created, you can not change the value of string. More on that later. "
   ]
  },
  {
   "cell_type": "code",
   "execution_count": 207,
   "metadata": {},
   "outputs": [
    {
     "ename": "TypeError",
     "evalue": "'str' object does not support item assignment",
     "output_type": "error",
     "traceback": [
      "\u001b[1;31m---------------------------------------------------------------------------\u001b[0m",
      "\u001b[1;31mTypeError\u001b[0m                                 Traceback (most recent call last)",
      "\u001b[1;32m<ipython-input-207-fe92b4057e3f>\u001b[0m in \u001b[0;36m<module>\u001b[1;34m\u001b[0m\n\u001b[0;32m      1\u001b[0m \u001b[0mxyz\u001b[0m \u001b[1;33m=\u001b[0m \u001b[1;34m'mayank'\u001b[0m\u001b[1;33m\u001b[0m\u001b[1;33m\u001b[0m\u001b[0m\n\u001b[1;32m----> 2\u001b[1;33m \u001b[0mxyz\u001b[0m\u001b[1;33m[\u001b[0m\u001b[1;36m1\u001b[0m\u001b[1;33m]\u001b[0m \u001b[1;33m=\u001b[0m \u001b[1;34m'z'\u001b[0m    \u001b[1;31m#trying to change first 'a' to 'z'\u001b[0m\u001b[1;33m\u001b[0m\u001b[1;33m\u001b[0m\u001b[0m\n\u001b[0m",
      "\u001b[1;31mTypeError\u001b[0m: 'str' object does not support item assignment"
     ]
    }
   ],
   "source": [
    "xyz = 'mayank'\n",
    "xyz[1] = 'z'    #trying to change first 'a' to 'z', error"
   ]
  },
  {
   "cell_type": "markdown",
   "metadata": {},
   "source": [
    "#### Note \n",
    "\n",
    "Following is something I encountered long time after I created this notebook. I was doing an exercise is [ROSALIND](https://rosalind.info/problems/revc/) and got to learn something new. The exercise was related to finding a complement of a DNA strand. In DNA, 'A' and 'T' are complements to each other. Similarily, 'C' and 'G' are complements to each other. So if you have something like 'AAAACCCGGT', then reverse complement of this would be 'ACCGGGTTTT'. That is, first original string is reversed then each character is replaced with its complement. \n",
    "\n",
    "```python\n",
    "#my solution\n",
    "def rev_comp(s):\n",
    "\ts1 = s[::-1]\n",
    "\ttable = {'A':'T','T':'A','C':'G','G':'C'}\n",
    "\top = ''\n",
    "\tfor i in s1:\n",
    "\t\top = op + table.get(i)\n",
    "\treturn op\n",
    "```    "
   ]
  },
  {
   "cell_type": "code",
   "execution_count": 1,
   "metadata": {},
   "outputs": [
    {
     "name": "stdout",
     "output_type": "stream",
     "text": [
      "ACCGGGTTTT\n"
     ]
    }
   ],
   "source": [
    "#better solution. See this docs link - https://docs.python.org/3/library/stdtypes.html#str.translate\n",
    "\n",
    "s = 'AAAACCCGGT'\n",
    "print(s[::-1].translate(str.maketrans('ACGT', 'TGCA')))"
   ]
  },
  {
   "cell_type": "code",
   "execution_count": 2,
   "metadata": {},
   "outputs": [
    {
     "name": "stdout",
     "output_type": "stream",
     "text": [
      "TGGCCCAAAA\n"
     ]
    }
   ],
   "source": [
    "\n",
    "s = 'AAAACCCGGT'\n",
    "table = {'A':'T','T':'A','C':'G','G':'C'}\n",
    "print(s[::-1].translate(table)) #not working? Possibly Python 2 method"
   ]
  },
  {
   "cell_type": "markdown",
   "metadata": {},
   "source": [
    "#### lists\n"
   ]
  },
  {
   "cell_type": "code",
   "execution_count": 159,
   "metadata": {},
   "outputs": [
    {
     "data": {
      "text/plain": [
       "([], [], [1, 2])"
      ]
     },
     "execution_count": 159,
     "metadata": {},
     "output_type": "execute_result"
    }
   ],
   "source": [
    "list1 = list()  #empty list\n",
    "list2 = []      #empty list\n",
    "list3 = [1,2]   #non-empty list\n",
    "\n",
    "list1,list2,list3         "
   ]
  },
  {
   "cell_type": "code",
   "execution_count": 164,
   "metadata": {},
   "outputs": [
    {
     "data": {
      "text/plain": [
       "['append', 'clear', 'copy', 'count', 'extend', 'index', 'insert', 'pop', 'remove', 'reverse', 'sort']"
      ]
     },
     "execution_count": 164,
     "metadata": {},
     "output_type": "execute_result"
    }
   ],
   "source": [
    "[i for i in dir(list1) if not '_' in i]"
   ]
  },
  {
   "cell_type": "markdown",
   "metadata": {},
   "source": [
    "These are the methods for list. Most of them are pretty intuitive. However, you are supposed to practice them through examples. Apart from these methods, some built-in functions such as `len()`, `sorted()` can also be applied on a list. \n",
    "\n",
    "Method| Return Value|\n",
    "-------------|-----------|\n",
    "``append(x)``|``None``\n",
    "``extend(iterable)``|``None``\n",
    "``insert(i,x)``|``None``\n",
    "``remove(x)``|``None``\n",
    "``pop([i])``|popped item\n",
    "``clear()``|``None``\n",
    "``index(x[, start[, end]])``| index\n",
    "``count(x)``|count\n",
    "``sort(*, key=None, reverse=False)``|``None``\n",
    "``reverse()``|``None``\n",
    "``copy()``| shallow copy of list"
   ]
  },
  {
   "cell_type": "code",
   "execution_count": 165,
   "metadata": {},
   "outputs": [
    {
     "data": {
      "text/plain": [
       "3"
      ]
     },
     "execution_count": 165,
     "metadata": {},
     "output_type": "execute_result"
    }
   ],
   "source": [
    "names = ['Mayank', 'Peter', 'Rajat']\n",
    "\n",
    "len(names)"
   ]
  },
  {
   "cell_type": "code",
   "execution_count": 166,
   "metadata": {},
   "outputs": [
    {
     "data": {
      "text/plain": [
       "['Mayank', 'Peter', 'Rajat']"
      ]
     },
     "execution_count": 166,
     "metadata": {},
     "output_type": "execute_result"
    }
   ],
   "source": [
    "sorted(names)"
   ]
  },
  {
   "cell_type": "code",
   "execution_count": 167,
   "metadata": {},
   "outputs": [
    {
     "data": {
      "text/plain": [
       "(True, True)"
      ]
     },
     "execution_count": 167,
     "metadata": {},
     "output_type": "execute_result"
    }
   ],
   "source": [
    "all(names), any(names)"
   ]
  },
  {
   "cell_type": "code",
   "execution_count": 169,
   "metadata": {},
   "outputs": [
    {
     "name": "stdout",
     "output_type": "stream",
     "text": [
      "Rajat\n",
      "Peter\n",
      "Mayank\n"
     ]
    }
   ],
   "source": [
    "for i in reversed(names):\n",
    "    print(i)"
   ]
  },
  {
   "cell_type": "code",
   "execution_count": 172,
   "metadata": {},
   "outputs": [
    {
     "data": {
      "text/plain": [
       "('Mayank', 'Rajat')"
      ]
     },
     "execution_count": 172,
     "metadata": {},
     "output_type": "execute_result"
    }
   ],
   "source": [
    "min(names), max(names)"
   ]
  },
  {
   "cell_type": "markdown",
   "metadata": {},
   "source": [
    "Since elements of a list are ordered, we can access them through indexing"
   ]
  },
  {
   "cell_type": "code",
   "execution_count": 174,
   "metadata": {},
   "outputs": [
    {
     "data": {
      "text/plain": [
       "'Mayank'"
      ]
     },
     "execution_count": 174,
     "metadata": {},
     "output_type": "execute_result"
    }
   ],
   "source": [
    "names[0]"
   ]
  },
  {
   "cell_type": "code",
   "execution_count": 175,
   "metadata": {},
   "outputs": [
    {
     "data": {
      "text/plain": [
       "'Rajat'"
      ]
     },
     "execution_count": 175,
     "metadata": {},
     "output_type": "execute_result"
    }
   ],
   "source": [
    "names[-1] # -1 means indexing starts from last element"
   ]
  },
  {
   "cell_type": "markdown",
   "metadata": {},
   "source": [
    "Lists can be sliced through `list[:start:stop:step]` method. `start` defaults to 0, `stop` defaults to length of list minus 1 and `step` defaults to 1."
   ]
  },
  {
   "cell_type": "code",
   "execution_count": 18,
   "metadata": {},
   "outputs": [
    {
     "data": {
      "text/plain": [
       "([3, 4, 3, 7, 8, 9, 5], [3, 4])"
      ]
     },
     "execution_count": 18,
     "metadata": {},
     "output_type": "execute_result"
    }
   ],
   "source": [
    "values  = [3,4,3,7,8,9,5]\n",
    "values[::], values[:2]"
   ]
  },
  {
   "cell_type": "markdown",
   "metadata": {},
   "source": [
    "However, if `step` is negative number, `start` defaults to length of list minus 1, `stop` defaults to 0. "
   ]
  },
  {
   "cell_type": "code",
   "execution_count": 19,
   "metadata": {},
   "outputs": [
    {
     "data": {
      "text/plain": [
       "[5, 9, 8, 7, 3, 4, 3]"
      ]
     },
     "execution_count": 19,
     "metadata": {},
     "output_type": "execute_result"
    }
   ],
   "source": [
    "values[::-1] #list reversal"
   ]
  },
  {
   "cell_type": "code",
   "execution_count": 20,
   "metadata": {},
   "outputs": [
    {
     "data": {
      "text/plain": [
       "([5, 9, 8], [5, 9, 8])"
      ]
     },
     "execution_count": 20,
     "metadata": {},
     "output_type": "execute_result"
    }
   ],
   "source": [
    "values[:3:-1], values[6:3:-1] #slicing from end. Careful here"
   ]
  },
  {
   "cell_type": "code",
   "execution_count": 200,
   "metadata": {},
   "outputs": [
    {
     "data": {
      "text/plain": [
       "[9, 8]"
      ]
     },
     "execution_count": 200,
     "metadata": {},
     "output_type": "execute_result"
    }
   ],
   "source": [
    "values[5:3:-1]"
   ]
  },
  {
   "cell_type": "code",
   "execution_count": 186,
   "metadata": {},
   "outputs": [
    {
     "data": {
      "text/plain": [
       "(False, True)"
      ]
     },
     "execution_count": 186,
     "metadata": {},
     "output_type": "execute_result"
    }
   ],
   "source": [
    "11 in values, 4 in values "
   ]
  },
  {
   "cell_type": "code",
   "execution_count": 190,
   "metadata": {},
   "outputs": [
    {
     "data": {
      "text/plain": [
       "39"
      ]
     },
     "execution_count": 190,
     "metadata": {},
     "output_type": "execute_result"
    }
   ],
   "source": [
    "sum(values)"
   ]
  },
  {
   "cell_type": "markdown",
   "metadata": {},
   "source": [
    "List can be replicated by `*` operator"
   ]
  },
  {
   "cell_type": "code",
   "execution_count": 191,
   "metadata": {},
   "outputs": [
    {
     "data": {
      "text/plain": [
       "['Mayank', 'Peter', 'Rajat', 'Mayank', 'Peter', 'Rajat', 'Mayank', 'Peter', 'Rajat']"
      ]
     },
     "execution_count": 191,
     "metadata": {},
     "output_type": "execute_result"
    }
   ],
   "source": [
    "names*3"
   ]
  },
  {
   "cell_type": "markdown",
   "metadata": {},
   "source": [
    "Carefully observe the following examples"
   ]
  },
  {
   "cell_type": "code",
   "execution_count": 192,
   "metadata": {},
   "outputs": [
    {
     "data": {
      "text/plain": [
       "['Mayank', 'Peter', 'Rajat']"
      ]
     },
     "execution_count": 192,
     "metadata": {},
     "output_type": "execute_result"
    }
   ],
   "source": [
    "names"
   ]
  },
  {
   "cell_type": "code",
   "execution_count": 194,
   "metadata": {},
   "outputs": [
    {
     "data": {
      "text/plain": [
       "True"
      ]
     },
     "execution_count": 194,
     "metadata": {},
     "output_type": "execute_result"
    }
   ],
   "source": [
    "names1 = names\n",
    "names is names1  #both are same objects"
   ]
  },
  {
   "cell_type": "code",
   "execution_count": 195,
   "metadata": {},
   "outputs": [
    {
     "data": {
      "text/plain": [
       "False"
      ]
     },
     "execution_count": 195,
     "metadata": {},
     "output_type": "execute_result"
    }
   ],
   "source": [
    "names2 = list(names)\n",
    "\n",
    "names2 is names  #both are different objects"
   ]
  },
  {
   "cell_type": "markdown",
   "metadata": {},
   "source": [
    "Note, however, that even though `names` and `names2` refer to 2 different lists, their contents still refer to same objects. This is **shallow copying**. Only outermost content is copied. "
   ]
  },
  {
   "cell_type": "code",
   "execution_count": 319,
   "metadata": {},
   "outputs": [
    {
     "data": {
      "text/plain": [
       "True"
      ]
     },
     "execution_count": 319,
     "metadata": {},
     "output_type": "execute_result"
    }
   ],
   "source": [
    "names[1] is names2[1]"
   ]
  },
  {
   "cell_type": "code",
   "execution_count": 197,
   "metadata": {},
   "outputs": [
    {
     "data": {
      "text/plain": [
       "False"
      ]
     },
     "execution_count": 197,
     "metadata": {},
     "output_type": "execute_result"
    }
   ],
   "source": [
    "names3= names[::]\n",
    "\n",
    "names3 is names  #both are different lists"
   ]
  },
  {
   "cell_type": "code",
   "execution_count": 320,
   "metadata": {},
   "outputs": [
    {
     "data": {
      "text/plain": [
       "True"
      ]
     },
     "execution_count": 320,
     "metadata": {},
     "output_type": "execute_result"
    }
   ],
   "source": [
    "names[1] is names3[1]"
   ]
  },
  {
   "cell_type": "markdown",
   "metadata": {},
   "source": [
    "Lists are **mutable** which means you can change their content. "
   ]
  },
  {
   "cell_type": "code",
   "execution_count": 208,
   "metadata": {},
   "outputs": [
    {
     "name": "stdout",
     "output_type": "stream",
     "text": [
      "404477705856\n",
      "[2, 3, 4, 11]\n",
      "404477705856\n"
     ]
    }
   ],
   "source": [
    "random_list = [2,3,4,5]\n",
    "print(id(random_list))\n",
    "random_list[3] = 11\n",
    "print(random_list)\n",
    "print(id(random_list))"
   ]
  },
  {
   "cell_type": "markdown",
   "metadata": {},
   "source": [
    "You can see that the content of list has changed but its identity (value of `id()` function) hasn't."
   ]
  },
  {
   "cell_type": "markdown",
   "metadata": {},
   "source": [
    "**List comprehensions** provide a concise way to create lists. This basic syntax, then, is `[expr for var in iterable optionally 0 or more if or for clause]`, where `expr` is any valid expression, `var` is a variable name, and `iterable` is any iterable Python object."
   ]
  },
  {
   "cell_type": "code",
   "execution_count": 260,
   "metadata": {},
   "outputs": [
    {
     "data": {
      "text/plain": [
       "[0, 1, 4, 9, 16]"
      ]
     },
     "execution_count": 260,
     "metadata": {},
     "output_type": "execute_result"
    }
   ],
   "source": [
    "[i**2 for i in range(5)]"
   ]
  },
  {
   "cell_type": "code",
   "execution_count": 261,
   "metadata": {},
   "outputs": [
    {
     "data": {
      "text/plain": [
       "[(1, 3), (1, 4), (2, 3), (2, 1), (2, 4), (3, 1), (3, 4)]"
      ]
     },
     "execution_count": 261,
     "metadata": {},
     "output_type": "execute_result"
    }
   ],
   "source": [
    "#this listcomp combines the elements of two lists if they are not equal:\n",
    "\n",
    "[(x, y) for x in [1,2,3] for y in [3,1,4] if x != y]"
   ]
  },
  {
   "cell_type": "code",
   "execution_count": 262,
   "metadata": {},
   "outputs": [
    {
     "data": {
      "text/plain": [
       "[1, 2, 3, 4]"
      ]
     },
     "execution_count": 262,
     "metadata": {},
     "output_type": "execute_result"
    }
   ],
   "source": [
    "foo = [[1,2],[3,4]]\n",
    "[f for bar in foo for f in bar]\n"
   ]
  },
  {
   "cell_type": "code",
   "execution_count": 263,
   "metadata": {},
   "outputs": [
    {
     "data": {
      "text/plain": [
       "[(0, 0), (0, 1), (0, 2), (1, 0), (1, 1), (1, 2)]"
      ]
     },
     "execution_count": 263,
     "metadata": {},
     "output_type": "execute_result"
    }
   ],
   "source": [
    "[(i, j) for i in range(2) for j in range(3)]\n"
   ]
  },
  {
   "cell_type": "markdown",
   "metadata": {},
   "source": [
    "Notice that the second `for` expression acts as the interior index, varying the fastest in the resulting list. This type of construction can be extended to three, four, or more iterators within the comprehension, though at some point code readibility will suffer!"
   ]
  },
  {
   "cell_type": "code",
   "execution_count": 273,
   "metadata": {},
   "outputs": [
    {
     "data": {
      "text/plain": [
       "[['red', 'car'], ['red', 'ball'], ['red', 'duck'], ['blue', 'car'], ['blue', 'ball'], ['blue', 'duck'], ['green', 'car'], ['green', 'ball'], ['green', 'duck']]"
      ]
     },
     "execution_count": 273,
     "metadata": {},
     "output_type": "execute_result"
    }
   ],
   "source": [
    "colors = ['red','blue','green' ]\n",
    "toys = ['car','ball','duck']\n",
    "\n",
    "[[color, toy] for color in colors for toy in toys]"
   ]
  },
  {
   "cell_type": "code",
   "execution_count": 3,
   "metadata": {},
   "outputs": [
    {
     "data": {
      "text/plain": [
       "['James', 'Ryan']"
      ]
     },
     "execution_count": 3,
     "metadata": {},
     "output_type": "execute_result"
    }
   ],
   "source": [
    "value = [1,2,3,4,5]\n",
    "name = ['Sam','Peter', 'Mac','James', 'Ryan']\n",
    "\n",
    "[n for n, c in zip(name, value) if c > 3]"
   ]
  },
  {
   "cell_type": "markdown",
   "metadata": {},
   "source": [
    "#### `sorted()` vs `list.sort()`"
   ]
  },
  {
   "cell_type": "code",
   "execution_count": 264,
   "metadata": {},
   "outputs": [
    {
     "data": {
      "text/plain": [
       "[1, 2, 3, 5]"
      ]
     },
     "execution_count": 264,
     "metadata": {},
     "output_type": "execute_result"
    }
   ],
   "source": [
    "some_list = [2,1,5,3]\n",
    "sorted(some_list)"
   ]
  },
  {
   "cell_type": "code",
   "execution_count": 265,
   "metadata": {},
   "outputs": [
    {
     "data": {
      "text/plain": [
       "[2, 1, 5, 3]"
      ]
     },
     "execution_count": 265,
     "metadata": {},
     "output_type": "execute_result"
    }
   ],
   "source": [
    "some_list"
   ]
  },
  {
   "cell_type": "code",
   "execution_count": 267,
   "metadata": {},
   "outputs": [
    {
     "data": {
      "text/plain": [
       "[1, 2, 3, 5]"
      ]
     },
     "execution_count": 267,
     "metadata": {},
     "output_type": "execute_result"
    }
   ],
   "source": [
    "some_list.sort()\n",
    "some_list"
   ]
  },
  {
   "cell_type": "markdown",
   "metadata": {},
   "source": [
    "As you can see, `sorted()` function doesn't change the original list but `list.sort()` does."
   ]
  },
  {
   "cell_type": "markdown",
   "metadata": {},
   "source": [
    "#### `list.append()` vs `list.extend()`"
   ]
  },
  {
   "cell_type": "code",
   "execution_count": 268,
   "metadata": {},
   "outputs": [
    {
     "data": {
      "text/plain": [
       "[1, 2, 3, 5]"
      ]
     },
     "execution_count": 268,
     "metadata": {},
     "output_type": "execute_result"
    }
   ],
   "source": [
    "some_list"
   ]
  },
  {
   "cell_type": "code",
   "execution_count": 269,
   "metadata": {},
   "outputs": [],
   "source": [
    "some_list.append([1,2]) #this method takes an object as argument append the entire object"
   ]
  },
  {
   "cell_type": "code",
   "execution_count": 270,
   "metadata": {},
   "outputs": [
    {
     "data": {
      "text/plain": [
       "[1, 2, 3, 5, [1, 2]]"
      ]
     },
     "execution_count": 270,
     "metadata": {},
     "output_type": "execute_result"
    }
   ],
   "source": [
    "some_list"
   ]
  },
  {
   "cell_type": "code",
   "execution_count": 271,
   "metadata": {},
   "outputs": [],
   "source": [
    "some_list.extend([11,12]) #this method takes an iterable as an argument and append each element of that iterable"
   ]
  },
  {
   "cell_type": "code",
   "execution_count": 272,
   "metadata": {},
   "outputs": [
    {
     "data": {
      "text/plain": [
       "[1, 2, 3, 5, [1, 2], 11, 12]"
      ]
     },
     "execution_count": 272,
     "metadata": {},
     "output_type": "execute_result"
    }
   ],
   "source": [
    "some_list"
   ]
  },
  {
   "cell_type": "markdown",
   "metadata": {},
   "source": [
    "**Aside**\n",
    "\n",
    "We have learned to use list methods like this - `some_list.sort()`. However, there is another way. You can also do `list.sort(some_list)`. Although, we haven't introduced OOP yet, but keep in mind that `some_list` is an instance of a `list` class and former is known as bound method call while later is unbound method call. [See this SO post](https://stackoverflow.com/questions/6083090/in-python-whats-difference-between-some-string-lower-and-str-lowersome-stri).\n",
    "\n",
    "The same is true for string methods which we'll encounter in later section. `some_string.lower()` produces the same result as `str.lower(some_string)`."
   ]
  },
  {
   "cell_type": "markdown",
   "metadata": {},
   "source": [
    "#### A List Gotcha\n",
    "\n"
   ]
  },
  {
   "cell_type": "code",
   "execution_count": 1,
   "metadata": {},
   "outputs": [
    {
     "data": {
      "text/plain": [
       "[[None, None], [None, None], [None, None]]"
      ]
     },
     "execution_count": 1,
     "metadata": {},
     "output_type": "execute_result"
    }
   ],
   "source": [
    "a = [[None]*2]*3\n",
    "a\n"
   ]
  },
  {
   "cell_type": "code",
   "execution_count": 2,
   "metadata": {},
   "outputs": [
    {
     "data": {
      "text/plain": [
       "(739675491904, 739675491200)"
      ]
     },
     "execution_count": 2,
     "metadata": {},
     "output_type": "execute_result"
    }
   ],
   "source": [
    "id(a), id(a[0])"
   ]
  },
  {
   "cell_type": "code",
   "execution_count": 3,
   "metadata": {},
   "outputs": [
    {
     "data": {
      "text/plain": [
       "True"
      ]
     },
     "execution_count": 3,
     "metadata": {},
     "output_type": "execute_result"
    }
   ],
   "source": [
    "id(a[0]) == id(a[1]) == id(a[2])"
   ]
  },
  {
   "cell_type": "markdown",
   "metadata": {},
   "source": [
    "\n",
    "The lists `a[0]`,`a[1]` and `a[2]` are pointing to same list. They all have same `id()` value."
   ]
  },
  {
   "cell_type": "code",
   "execution_count": 4,
   "metadata": {},
   "outputs": [
    {
     "data": {
      "text/plain": [
       "True"
      ]
     },
     "execution_count": 4,
     "metadata": {},
     "output_type": "execute_result"
    }
   ],
   "source": [
    "id(a[0][0]) == id(a[1][0]) == id(a[2][0])"
   ]
  },
  {
   "cell_type": "code",
   "execution_count": 5,
   "metadata": {},
   "outputs": [
    {
     "data": {
      "text/plain": [
       "[[1, None], [1, None], [1, None]]"
      ]
     },
     "execution_count": 5,
     "metadata": {},
     "output_type": "execute_result"
    }
   ],
   "source": [
    "a[0][0] =1\n",
    "a"
   ]
  },
  {
   "cell_type": "code",
   "execution_count": 6,
   "metadata": {},
   "outputs": [
    {
     "data": {
      "text/plain": [
       "(739675491904, 739675491200)"
      ]
     },
     "execution_count": 6,
     "metadata": {},
     "output_type": "execute_result"
    }
   ],
   "source": [
    "id(a), id(a[0])"
   ]
  },
  {
   "cell_type": "markdown",
   "metadata": {},
   "source": [
    "We tried to change only one element and here 3 elements are changed!\n",
    "\n",
    "The lists `a[0]`, `a[1]`, `a[2]` are STILL pointing to same list. They all STILL have same `id()` value.\n",
    "The reason behind above is that replicating a list with `*` doesn’t create copies, it only creates references to the existing objects. The `*3` creates a list containing 3 references to the same list of length two. Changes to one row will show in all rows, which is almost certainly not what you want. Try below instead - \n"
   ]
  },
  {
   "cell_type": "code",
   "execution_count": 7,
   "metadata": {},
   "outputs": [
    {
     "data": {
      "text/plain": [
       "[[None, None], [None, None], [None, None]]"
      ]
     },
     "execution_count": 7,
     "metadata": {},
     "output_type": "execute_result"
    }
   ],
   "source": [
    "a = [None] * 3 # a = [None, None, None]\n",
    "for i in range(3):\n",
    "    a[i] = [None] *2 #each time a new list will be inserted\n",
    "\n",
    "a    "
   ]
  },
  {
   "cell_type": "code",
   "execution_count": 8,
   "metadata": {},
   "outputs": [
    {
     "data": {
      "text/plain": [
       "[[1, None], [None, None], [None, None]]"
      ]
     },
     "execution_count": 8,
     "metadata": {},
     "output_type": "execute_result"
    }
   ],
   "source": [
    "a[0][0] = 1\n",
    "a\n"
   ]
  },
  {
   "cell_type": "markdown",
   "metadata": {},
   "source": [
    "#### One of many ways for checking for empty list"
   ]
  },
  {
   "cell_type": "code",
   "execution_count": 9,
   "metadata": {},
   "outputs": [
    {
     "data": {
      "text/plain": [
       "[]"
      ]
     },
     "execution_count": 9,
     "metadata": {},
     "output_type": "execute_result"
    }
   ],
   "source": [
    "l = []\n",
    "l and 1\n"
   ]
  },
  {
   "cell_type": "code",
   "execution_count": 10,
   "metadata": {},
   "outputs": [
    {
     "name": "stdout",
     "output_type": "stream",
     "text": [
      "list is empty\n"
     ]
    }
   ],
   "source": [
    "l = []\n",
    "if not l:      # not l evaluates to true as empty list evaluates to false\n",
    "    print(\"list is empty\")\n",
    "else:\n",
    "    print(l)"
   ]
  },
  {
   "cell_type": "markdown",
   "metadata": {},
   "source": [
    "#### Inserting an element in a sorted list and ensure that list remains sorted"
   ]
  },
  {
   "cell_type": "code",
   "execution_count": 20,
   "metadata": {},
   "outputs": [],
   "source": [
    "a = [1,2,4,5]\n",
    "\n",
    "import bisect\n",
    "bisect.insort(a, 3)"
   ]
  },
  {
   "cell_type": "code",
   "execution_count": 21,
   "metadata": {},
   "outputs": [
    {
     "data": {
      "text/plain": [
       "[1, 2, 3, 4, 5]"
      ]
     },
     "execution_count": 21,
     "metadata": {},
     "output_type": "execute_result"
    }
   ],
   "source": [
    "a"
   ]
  },
  {
   "cell_type": "markdown",
   "metadata": {},
   "source": [
    "#### Tuples\n",
    "\n",
    "Tuples are similar to lists except for only one difference. Unlike lists, tuples are immutable."
   ]
  },
  {
   "cell_type": "code",
   "execution_count": 52,
   "metadata": {},
   "outputs": [
    {
     "data": {
      "text/plain": [
       "(tuple, tuple, int, tuple, tuple)"
      ]
     },
     "execution_count": 52,
     "metadata": {},
     "output_type": "execute_result"
    }
   ],
   "source": [
    "a = ()      #empty tuple\n",
    "b = (1,)    #note the use of comma. Without comma 'b' will be a number\n",
    "c = (1)     #not a tuple, but an integer\n",
    "d = tuple() #tuple function used here\n",
    "e = 1,2,'a' #also a tuple\n",
    "\n",
    "type(a), type(b), type(c), type(d), type(e)"
   ]
  },
  {
   "cell_type": "markdown",
   "metadata": {},
   "source": [
    "Tuples have following associated methods - \n"
   ]
  },
  {
   "cell_type": "code",
   "execution_count": 214,
   "metadata": {},
   "outputs": [
    {
     "data": {
      "text/plain": [
       "['count', 'index']"
      ]
     },
     "execution_count": 214,
     "metadata": {},
     "output_type": "execute_result"
    }
   ],
   "source": [
    "[i for i in dir(a) if not '_' in i] #'a' is a tuple from above example"
   ]
  },
  {
   "cell_type": "markdown",
   "metadata": {},
   "source": [
    "You can see tuples don't have any method such as `.append()` which can change its content. This shows the immutability of tuples. "
   ]
  },
  {
   "cell_type": "markdown",
   "metadata": {},
   "source": [
    "We saw that `a = list(b)` and `a = b[::]` create 2 different lists. Let's see see what happens in case of tuples. "
   ]
  },
  {
   "cell_type": "code",
   "execution_count": 321,
   "metadata": {},
   "outputs": [
    {
     "data": {
      "text/plain": [
       "True"
      ]
     },
     "execution_count": 321,
     "metadata": {},
     "output_type": "execute_result"
    }
   ],
   "source": [
    "tuple1 = (1,2,[1])\n",
    "tuple2 = tuple(tuple1)\n",
    "\n",
    "tuple1 is tuple2"
   ]
  },
  {
   "cell_type": "code",
   "execution_count": 323,
   "metadata": {},
   "outputs": [
    {
     "data": {
      "text/plain": [
       "True"
      ]
     },
     "execution_count": 323,
     "metadata": {},
     "output_type": "execute_result"
    }
   ],
   "source": [
    "tuple3 = tuple1[::]\n",
    "tuple3 is tuple1"
   ]
  },
  {
   "cell_type": "markdown",
   "metadata": {},
   "source": [
    "We see that in case of tuples, we get same tuple. In general,\n",
    "\n",
    "- **`b = a`** - both refers to same object, irrespective of their types.\n",
    "- **`b = constructor(a)`** - if type mutable, both refer to different object otherwise same object\n",
    "- **`b = a[:]`** - if type mutable, both refer to different object otherwise same object."
   ]
  },
  {
   "cell_type": "markdown",
   "metadata": {},
   "source": [
    "#### Dictonaries\n",
    "\n",
    "Dictonaries are objects which have collections of `key:value` pairs. "
   ]
  },
  {
   "cell_type": "code",
   "execution_count": 220,
   "metadata": {},
   "outputs": [],
   "source": [
    "dict1 = {}                                     #empty dictionary\n",
    "dict2 = dict()                                 #empty dictionary created by using dict() function \n",
    "dict2 = {'name': 'Peter', 'age': 35}           # 'name' & 'age' are keys and 'Peter' & 35 are their respective values\n"
   ]
  },
  {
   "cell_type": "code",
   "execution_count": 259,
   "metadata": {},
   "outputs": [
    {
     "data": {
      "text/plain": [
       "{'sape': 4139, 'guido': 4127, 'jack': 4098}"
      ]
     },
     "execution_count": 259,
     "metadata": {},
     "output_type": "execute_result"
    }
   ],
   "source": [
    "dict([('sape', 4139), ('guido', 4127), ('jack', 4098)])"
   ]
  },
  {
   "cell_type": "markdown",
   "metadata": {},
   "source": [
    "If keys are all strings,  it is sometimes easier to specify pairs using keyword arguments: - \n"
   ]
  },
  {
   "cell_type": "code",
   "execution_count": 254,
   "metadata": {},
   "outputs": [
    {
     "data": {
      "text/plain": [
       "{'name': 'Peter', 'Country': 'USA'}"
      ]
     },
     "execution_count": 254,
     "metadata": {},
     "output_type": "execute_result"
    }
   ],
   "source": [
    "dict(name = 'Peter', Country ='USA')`"
   ]
  },
  {
   "cell_type": "markdown",
   "metadata": {},
   "source": [
    "Keys can be of any immutable type. If tuples are used as keys, make sure tuples don't contain any mutable object such as a list. "
   ]
  },
  {
   "cell_type": "code",
   "execution_count": 255,
   "metadata": {},
   "outputs": [
    {
     "data": {
      "text/plain": [
       "{(1, 2): 'foo'}"
      ]
     },
     "execution_count": 255,
     "metadata": {},
     "output_type": "execute_result"
    }
   ],
   "source": [
    "{(1,2):'foo'}"
   ]
  },
  {
   "cell_type": "code",
   "execution_count": 256,
   "metadata": {},
   "outputs": [
    {
     "ename": "TypeError",
     "evalue": "unhashable type: 'list'",
     "output_type": "error",
     "traceback": [
      "\u001b[1;31m---------------------------------------------------------------------------\u001b[0m",
      "\u001b[1;31mTypeError\u001b[0m                                 Traceback (most recent call last)",
      "\u001b[1;32m<ipython-input-256-d700c06defa9>\u001b[0m in \u001b[0;36m<module>\u001b[1;34m\u001b[0m\n\u001b[1;32m----> 1\u001b[1;33m \u001b[1;33m{\u001b[0m\u001b[1;33m(\u001b[0m\u001b[1;36m1\u001b[0m\u001b[1;33m,\u001b[0m\u001b[1;33m[\u001b[0m\u001b[1;36m2\u001b[0m\u001b[1;33m]\u001b[0m\u001b[1;33m)\u001b[0m\u001b[1;33m:\u001b[0m \u001b[1;34m'bar'\u001b[0m\u001b[1;33m}\u001b[0m\u001b[1;33m\u001b[0m\u001b[1;33m\u001b[0m\u001b[0m\n\u001b[0m",
      "\u001b[1;31mTypeError\u001b[0m: unhashable type: 'list'"
     ]
    }
   ],
   "source": [
    "{(1,[2]): 'bar'}  #error"
   ]
  },
  {
   "cell_type": "markdown",
   "metadata": {},
   "source": [
    "**Dict comprehension** can also be used to create a dictionary - "
   ]
  },
  {
   "cell_type": "code",
   "execution_count": 258,
   "metadata": {},
   "outputs": [
    {
     "data": {
      "text/plain": [
       "{2: 4, 3: 9, 4: 16}"
      ]
     },
     "execution_count": 258,
     "metadata": {},
     "output_type": "execute_result"
    }
   ],
   "source": [
    "{x:x**2 for x in [2,3,4]}"
   ]
  },
  {
   "cell_type": "markdown",
   "metadata": {},
   "source": [
    "Below is the list of all the methods which can be applied on a dictionary. You are supposed to practice all of them. "
   ]
  },
  {
   "cell_type": "code",
   "execution_count": 313,
   "metadata": {},
   "outputs": [
    {
     "data": {
      "text/plain": [
       "['clear', 'copy', 'fromkeys', 'get', 'items', 'keys', 'pop', 'popitem', 'setdefault', 'update', 'values']"
      ]
     },
     "execution_count": 313,
     "metadata": {},
     "output_type": "execute_result"
    }
   ],
   "source": [
    "[i for i in dir(dict1) if not i.startswith('_')] "
   ]
  },
  {
   "cell_type": "markdown",
   "metadata": {},
   "source": [
    "Method|Return value\n",
    "-------------------|----------\n",
    "``clear``|``None``\n",
    "``copy``|Return a shallow copy of the dictionary.\n",
    "``fromkeys(iterable[, value])``|Create a new dictionary with keys from iterable and values set to value.\n",
    "``get(key[, default])``|Return the value for key if key is in the dictionary, else default.\n",
    "``items()``|Return a new view of the dictionary’s items ((`key`, `value`) pairs)\n",
    "``keys()``|Return a new view of the dictionary’s keys. \n",
    "``popkey([, default])``|If key is in the dictionary, remove it and return its value, else return default\n",
    "``popitem()``|Remove and return a (`key`, `value`) pair from the dictionary.\n",
    "``setdefault(key[, default])``|If key is in the dictionary, return its value. If not, insert key with a value of default and return default.\n",
    "``update([)``|Update the dictionary with the key/value pairs from other, overwriting existing keys. \n",
    "``values()``|Return a new view of the dictionary’s values"
   ]
  },
  {
   "cell_type": "code",
   "execution_count": 233,
   "metadata": {},
   "outputs": [
    {
     "data": {
      "text/plain": [
       "2"
      ]
     },
     "execution_count": 233,
     "metadata": {},
     "output_type": "execute_result"
    }
   ],
   "source": [
    "len(dict2)"
   ]
  },
  {
   "cell_type": "code",
   "execution_count": 234,
   "metadata": {},
   "outputs": [
    {
     "data": {
      "text/plain": [
       "True"
      ]
     },
     "execution_count": 234,
     "metadata": {},
     "output_type": "execute_result"
    }
   ],
   "source": [
    "'name' in dict2  #you can check if some key is present in dictionary"
   ]
  },
  {
   "cell_type": "code",
   "execution_count": 235,
   "metadata": {},
   "outputs": [
    {
     "data": {
      "text/plain": [
       "False"
      ]
     },
     "execution_count": 235,
     "metadata": {},
     "output_type": "execute_result"
    }
   ],
   "source": [
    "'Peter' in dict2 #there is no 'Peter' key. values can't checked for presence in dictionary "
   ]
  },
  {
   "cell_type": "code",
   "execution_count": 236,
   "metadata": {},
   "outputs": [
    {
     "name": "stdout",
     "output_type": "stream",
     "text": [
      "name\n",
      "age\n"
     ]
    }
   ],
   "source": [
    "#you can loop over dictionary keys\n",
    "\n",
    "for i in dict2:\n",
    "    print(i)"
   ]
  },
  {
   "cell_type": "markdown",
   "metadata": {},
   "source": [
    "#### d[key]"
   ]
  },
  {
   "cell_type": "code",
   "execution_count": 4,
   "metadata": {},
   "outputs": [
    {
     "data": {
      "text/plain": [
       "2"
      ]
     },
     "execution_count": 4,
     "metadata": {},
     "output_type": "execute_result"
    }
   ],
   "source": [
    "data = {'a':1, 'b':2}\n",
    "data['b']"
   ]
  },
  {
   "cell_type": "code",
   "execution_count": 5,
   "metadata": {},
   "outputs": [
    {
     "data": {
      "text/plain": [
       "{'a': 1, 'b': 22}"
      ]
     },
     "execution_count": 5,
     "metadata": {},
     "output_type": "execute_result"
    }
   ],
   "source": [
    "data['b'] = 22\n",
    "data"
   ]
  },
  {
   "cell_type": "markdown",
   "metadata": {},
   "source": [
    "#### `d | other` (for Python 3.9 and above)\n",
    "\n",
    "Create a new dictionary with the merged keys and values of `d` and `other`, which must both be dictionaries. The values of other take priority when `d` and `other` share keys."
   ]
  },
  {
   "cell_type": "code",
   "execution_count": 6,
   "metadata": {},
   "outputs": [
    {
     "data": {
      "text/plain": [
       "{'a': 1, 'b': 3, 'c': 1}"
      ]
     },
     "execution_count": 6,
     "metadata": {},
     "output_type": "execute_result"
    }
   ],
   "source": [
    "data2 = {'b':3,'c':1}\n",
    "\n",
    "data | data2"
   ]
  },
  {
   "cell_type": "markdown",
   "metadata": {},
   "source": [
    "#### `d |= other` (for Python 3.9 and above)\n",
    "\n",
    "Update the dictionary `d` with keys and values from `other`, which may be either a mapping or an iterable of key/value pairs. The values of `other` take priority when `d` and `other` share keys."
   ]
  },
  {
   "cell_type": "code",
   "execution_count": 9,
   "metadata": {},
   "outputs": [
    {
     "data": {
      "text/plain": [
       "{'b': 3, 'c': 4, 'd': 5}"
      ]
     },
     "execution_count": 9,
     "metadata": {},
     "output_type": "execute_result"
    }
   ],
   "source": [
    "mapping = [('c',4),('d',5)]\n",
    "\n",
    "data2 |= mapping\n",
    "\n",
    "data2"
   ]
  },
  {
   "cell_type": "markdown",
   "metadata": {},
   "source": [
    "### Sets\n"
   ]
  },
  {
   "cell_type": "code",
   "execution_count": 229,
   "metadata": {},
   "outputs": [
    {
     "name": "stdout",
     "output_type": "stream",
     "text": [
      "{1, 2, 3}\n"
     ]
    }
   ],
   "source": [
    "set1 = set()      #empty set using set() function\n",
    "set2 = {1,2,3,4}  #set\n",
    "no_set1 = {}      #not a set\n",
    "list5 = [1,2,3,1] \n",
    "set3 = set(list5) ##will prepare a set by removing duplicate items\n",
    "\n",
    "print(set3)"
   ]
  },
  {
   "cell_type": "code",
   "execution_count": 315,
   "metadata": {},
   "outputs": [
    {
     "data": {
      "text/plain": [
       "['add', 'clear', 'copy', 'difference', 'difference_update', 'discard', 'intersection', 'intersection_update', 'isdisjoint', 'issubset', 'issuperset', 'pop', 'remove', 'symmetric_difference', 'symmetric_difference_update', 'union', 'update']"
      ]
     },
     "execution_count": 315,
     "metadata": {},
     "output_type": "execute_result"
    }
   ],
   "source": [
    "[i for i in dir(set1) if not i.startswith('_')] "
   ]
  },
  {
   "cell_type": "code",
   "execution_count": 230,
   "metadata": {},
   "outputs": [
    {
     "data": {
      "text/plain": [
       "(False, True)"
      ]
     },
     "execution_count": 230,
     "metadata": {},
     "output_type": "execute_result"
    }
   ],
   "source": [
    "4 in set3, 3 in set3"
   ]
  },
  {
   "cell_type": "code",
   "execution_count": 231,
   "metadata": {},
   "outputs": [
    {
     "data": {
      "text/plain": [
       "3"
      ]
     },
     "execution_count": 231,
     "metadata": {},
     "output_type": "execute_result"
    }
   ],
   "source": [
    "len(set3)"
   ]
  },
  {
   "cell_type": "code",
   "execution_count": 232,
   "metadata": {},
   "outputs": [
    {
     "ename": "TypeError",
     "evalue": "'set' object is not subscriptable",
     "output_type": "error",
     "traceback": [
      "\u001b[1;31m---------------------------------------------------------------------------\u001b[0m",
      "\u001b[1;31mTypeError\u001b[0m                                 Traceback (most recent call last)",
      "\u001b[1;32m<ipython-input-232-d9b1fc8c1409>\u001b[0m in \u001b[0;36m<module>\u001b[1;34m\u001b[0m\n\u001b[1;32m----> 1\u001b[1;33m \u001b[0mset3\u001b[0m\u001b[1;33m[\u001b[0m\u001b[1;36m1\u001b[0m\u001b[1;33m]\u001b[0m\u001b[1;33m\u001b[0m\u001b[1;33m\u001b[0m\u001b[0m\n\u001b[0m",
      "\u001b[1;31mTypeError\u001b[0m: 'set' object is not subscriptable"
     ]
    }
   ],
   "source": [
    "set3[1]  #indexing doesn't work with sets"
   ]
  },
  {
   "cell_type": "markdown",
   "metadata": {},
   "source": [
    "### Some code snippets\n"
   ]
  },
  {
   "cell_type": "code",
   "execution_count": 326,
   "metadata": {},
   "outputs": [
    {
     "data": {
      "text/plain": [
       "['b', 'e', 'c', 'd', 'a']"
      ]
     },
     "execution_count": 326,
     "metadata": {},
     "output_type": "execute_result"
    }
   ],
   "source": [
    "#a list of lists is given. You want to create a list consisting of unique items.\n",
    "\n",
    "lol = [['a','b','c'],['b','c','d'],['d','e']]\n",
    "a = set().union(*lol)\n",
    "list(a)"
   ]
  },
  {
   "cell_type": "code",
   "execution_count": 327,
   "metadata": {},
   "outputs": [
    {
     "data": {
      "text/plain": [
       "{'b': 7, 'c': 4, 'd': 9}"
      ]
     },
     "execution_count": 327,
     "metadata": {},
     "output_type": "execute_result"
    }
   ],
   "source": [
    "#merging two dictionaies into one\n",
    "\n",
    "a = {'b':3, 'c':4}\n",
    "b = {'b':7,'d':9}\n",
    "merged = {**a, **b} #for 3.5++\n",
    "merged              #Notice for key b, lattermost value was used."
   ]
  },
  {
   "cell_type": "code",
   "execution_count": 328,
   "metadata": {},
   "outputs": [
    {
     "data": {
      "text/plain": [
       "{'jan': [1, 2], 'feb': [3, 5], 'mar': [4]}"
      ]
     },
     "execution_count": 328,
     "metadata": {},
     "output_type": "execute_result"
    }
   ],
   "source": [
    "# Combining 2 lists - One list as keys and items from other list are grouped as values\n",
    "\n",
    "a = ['jan','jan', 'feb', 'mar', 'feb']\n",
    "b = [1,2,3,4,5]\n",
    "c = {}\n",
    "for x, y in zip(a,b):\n",
    "    c.setdefault(x,[]).append(y)\n",
    "    \n",
    "c    "
   ]
  },
  {
   "cell_type": "markdown",
   "metadata": {},
   "source": [
    "### PART 3\n",
    "\n",
    "Before we move to loops and control flows, we need to understand **Truth value testing.**\n",
    "\n",
    "Any object can be tested for truth value for use in an `if` or `while` condition or as operand of the Boolean\n",
    "operations. Every object is either `True` or `False`. The general intuition is that `False` denotes zero or emptiness while `True` denotes some value. \n",
    "\n",
    "Here are most of the built-in\n",
    "objects considered false:\n",
    "\n",
    " - constants defined to be false: `None` and `False`.\n",
    " - zero of any numeric type: `0`, `0.0`, `0j`, `Decimal(0)`, `Fraction(0, 1)`\n",
    " - empty sequences and collections: `''`, `()`, `[]`, `{}`, `set()`, `range(0)`\n",
    "\n",
    "Operations and built-in functions that have a Boolean result always return `0` or `False` for false and `1` or\n",
    "`True` for true, unless otherwise stated. \n",
    "\n",
    "(Important exception: the Boolean operations `or` and `and` always return one of their operands. Explained later)\n",
    "\n",
    "We can use built-in `bool()` function to test the truth value. See following examples - "
   ]
  },
  {
   "cell_type": "code",
   "execution_count": 68,
   "metadata": {},
   "outputs": [
    {
     "data": {
      "text/plain": [
       "(True, False, False, False, True, True, False, False, False)"
      ]
     },
     "execution_count": 68,
     "metadata": {},
     "output_type": "execute_result"
    }
   ],
   "source": [
    "a = [1] #non-empty list and truth value is True\n",
    "b = []  #empty list, hence truth value is False\n",
    "c = {}  #empty dictionary, False\n",
    "d = ''  #empty string\n",
    "e = 'mayank' #non-empty string, True\n",
    "f = True #always \n",
    "g = False #always False\n",
    "h = None #False\n",
    "i = 0 #zero is False\n",
    "\n",
    "bool(a),bool(b),bool(c),bool(d),bool(e),bool(f),bool(g),bool(h),bool(i)"
   ]
  },
  {
   "cell_type": "markdown",
   "metadata": {},
   "source": [
    "#### Boolean Operations - **`and`, `or`, `not`**\n",
    "\n",
    "These are the Boolean operations, ordered by ascending priority:\n",
    "\n",
    "|Operation            |Result|Notes|\n",
    "|---------------------|------|-----|\n",
    "|`x or y`|if `x` is false, then `y`, else `x`|1|\n",
    "|`x and y`|if `x` is false, then `x`, else `y`|2|\n",
    "|`not x`|if `x` is false, then `True`, else `False`|3|\n",
    "\n",
    "\n",
    "1. This is a short-circuit operator, so it only evaluates the second argument if the first one is false.\n",
    "2. This is a short-circuit operator, so it only evaluates the second argument if the first one is true.\n",
    "3. `not` has a lower priority than non-Boolean operators, so `not a == b` is interpreted as `not (a == b)`, and `a == not b` is a syntax error."
   ]
  },
  {
   "cell_type": "code",
   "execution_count": 69,
   "metadata": {},
   "outputs": [
    {
     "name": "stdout",
     "output_type": "stream",
     "text": [
      "5\n",
      "3\n",
      "False\n",
      "False\n",
      "None\n",
      "0\n"
     ]
    }
   ],
   "source": [
    "print(3 and 5)     #'x and y' operation. 'x' is not false so it returns 'y', that is, 5. \n",
    "print(5 and 3)\n",
    "print(5 and False)\n",
    "print(False and 5)\n",
    "print(None and 5)\n",
    "print(0 and 5)"
   ]
  },
  {
   "cell_type": "code",
   "execution_count": 70,
   "metadata": {},
   "outputs": [
    {
     "name": "stdout",
     "output_type": "stream",
     "text": [
      "3\n",
      "3\n",
      "3\n",
      "3\n",
      "3\n",
      "False\n"
     ]
    }
   ],
   "source": [
    "print(3 or 5)      # 'x or y' operation. if 'x' false, 'y' is output. Otherwise 'x' is output. \n",
    "print([] or 3)\n",
    "print(0 or 3)\n",
    "print(3 or 0)\n",
    "print(False or 3)\n",
    "print(0 or False)"
   ]
  },
  {
   "cell_type": "code",
   "execution_count": 71,
   "metadata": {},
   "outputs": [
    {
     "data": {
      "text/plain": [
       "3"
      ]
     },
     "execution_count": 71,
     "metadata": {},
     "output_type": "execute_result"
    }
   ],
   "source": [
    "1 and 0 or 3 #left to right evaluation"
   ]
  },
  {
   "cell_type": "markdown",
   "metadata": {},
   "source": [
    "While we are at it, let us also look into `&` and `|` operators. They are similar to `and` and `or` but they operate on bits of objects rather than on objects themselves. "
   ]
  },
  {
   "cell_type": "code",
   "execution_count": 77,
   "metadata": {},
   "outputs": [
    {
     "data": {
      "text/plain": [
       "(122, 2)"
      ]
     },
     "execution_count": 77,
     "metadata": {},
     "output_type": "execute_result"
    }
   ],
   "source": [
    "3 and 122, 3 & 122  #see the difference\n"
   ]
  },
  {
   "cell_type": "code",
   "execution_count": 83,
   "metadata": {},
   "outputs": [
    {
     "name": "stdout",
     "output_type": "stream",
     "text": [
      "0b11\n",
      "0b1111010\n",
      "0b10\n"
     ]
    }
   ],
   "source": [
    "print(bin(3))\n",
    "print(bin(122))\n",
    "print(bin(3 & 122))\n"
   ]
  },
  {
   "cell_type": "code",
   "execution_count": 1,
   "metadata": {},
   "outputs": [
    {
     "data": {
      "text/plain": [
       "[2, 0, 4]"
      ]
     },
     "execution_count": 1,
     "metadata": {},
     "output_type": "execute_result"
    }
   ],
   "source": [
    "a = [1,2,3]\n",
    "b = [2,0,4]\n",
    "\n",
    "a and b"
   ]
  },
  {
   "cell_type": "code",
   "execution_count": 2,
   "metadata": {},
   "outputs": [
    {
     "ename": "TypeError",
     "evalue": "unsupported operand type(s) for &: 'list' and 'list'",
     "output_type": "error",
     "traceback": [
      "\u001b[1;31m---------------------------------------------------------------------------\u001b[0m",
      "\u001b[1;31mTypeError\u001b[0m                                 Traceback (most recent call last)",
      "\u001b[1;32m~\\AppData\\Local\\Temp/ipykernel_2220/3682403309.py\u001b[0m in \u001b[0;36m<module>\u001b[1;34m\u001b[0m\n\u001b[1;32m----> 1\u001b[1;33m \u001b[0ma\u001b[0m \u001b[1;33m&\u001b[0m \u001b[0mb\u001b[0m\u001b[1;33m\u001b[0m\u001b[1;33m\u001b[0m\u001b[0m\n\u001b[0m",
      "\u001b[1;31mTypeError\u001b[0m: unsupported operand type(s) for &: 'list' and 'list'"
     ]
    }
   ],
   "source": [
    "a & b"
   ]
  },
  {
   "cell_type": "code",
   "execution_count": 287,
   "metadata": {},
   "outputs": [
    {
     "data": {
      "text/plain": [
       "array([ True,  True,  True, False,  True,  True])"
      ]
     },
     "execution_count": 287,
     "metadata": {},
     "output_type": "execute_result"
    }
   ],
   "source": [
    "import numpy as np \n",
    "A = np.array([1, 0, 1, 0, 1, 0], dtype=bool)\n",
    "B = np.array([1, 1, 1, 0, 1, 1], dtype=bool)\n",
    "A | B"
   ]
  },
  {
   "cell_type": "code",
   "execution_count": 288,
   "metadata": {},
   "outputs": [
    {
     "ename": "ValueError",
     "evalue": "The truth value of an array with more than one element is ambiguous. Use a.any() or a.all()",
     "output_type": "error",
     "traceback": [
      "\u001b[1;31m---------------------------------------------------------------------------\u001b[0m",
      "\u001b[1;31mValueError\u001b[0m                                Traceback (most recent call last)",
      "\u001b[1;32m<ipython-input-288-f5f386762ccc>\u001b[0m in \u001b[0;36m<module>\u001b[1;34m\u001b[0m\n\u001b[1;32m----> 1\u001b[1;33m \u001b[0mA\u001b[0m \u001b[1;32mor\u001b[0m \u001b[0mB\u001b[0m \u001b[1;31m#error\u001b[0m\u001b[1;33m\u001b[0m\u001b[1;33m\u001b[0m\u001b[0m\n\u001b[0m",
      "\u001b[1;31mValueError\u001b[0m: The truth value of an array with more than one element is ambiguous. Use a.any() or a.all()"
     ]
    }
   ],
   "source": [
    "A or B #error"
   ]
  },
  {
   "cell_type": "markdown",
   "metadata": {},
   "source": [
    "#### Python ternery operator"
   ]
  },
  {
   "cell_type": "code",
   "execution_count": 289,
   "metadata": {},
   "outputs": [
    {
     "data": {
      "text/plain": [
       "-1"
      ]
     },
     "execution_count": 289,
     "metadata": {},
     "output_type": "execute_result"
    }
   ],
   "source": [
    "a = 1\n",
    "b = 2\n",
    "1 if a > b else -1\n"
   ]
  },
  {
   "cell_type": "code",
   "execution_count": 70,
   "metadata": {},
   "outputs": [
    {
     "data": {
      "text/plain": [
       "False"
      ]
     },
     "execution_count": 70,
     "metadata": {},
     "output_type": "execute_result"
    }
   ],
   "source": [
    "a,b,c = [1,2,3]\n",
    "a < b == c\n"
   ]
  },
  {
   "cell_type": "code",
   "execution_count": 72,
   "metadata": {},
   "outputs": [
    {
     "data": {
      "text/plain": [
       "True"
      ]
     },
     "execution_count": 72,
     "metadata": {},
     "output_type": "execute_result"
    }
   ],
   "source": [
    "a < b and b < c"
   ]
  },
  {
   "cell_type": "code",
   "execution_count": 292,
   "metadata": {},
   "outputs": [
    {
     "data": {
      "text/plain": [
       "True"
      ]
     },
     "execution_count": 292,
     "metadata": {},
     "output_type": "execute_result"
    }
   ],
   "source": [
    "a,b,c = [2,3,3]\n",
    "a < b or b < c"
   ]
  },
  {
   "cell_type": "code",
   "execution_count": 293,
   "metadata": {},
   "outputs": [
    {
     "data": {
      "text/plain": [
       "2"
      ]
     },
     "execution_count": 293,
     "metadata": {},
     "output_type": "execute_result"
    }
   ],
   "source": [
    "d = a or b or c\n",
    "d"
   ]
  },
  {
   "cell_type": "code",
   "execution_count": 294,
   "metadata": {},
   "outputs": [
    {
     "data": {
      "text/plain": [
       "3"
      ]
     },
     "execution_count": 294,
     "metadata": {},
     "output_type": "execute_result"
    }
   ],
   "source": [
    "d =  a and b and c\n",
    "d\n"
   ]
  },
  {
   "cell_type": "markdown",
   "metadata": {},
   "source": [
    "### `if-elif-else` conditions\n",
    "\n",
    "With `if`, `elif` and `else` are optional. \n",
    "\n",
    "Syntax is:\n",
    "\n",
    "```Python\n",
    "if <exp>:         \n",
    "    <code block>\n",
    "elif <exp>:\n",
    "    <code block>\n",
    "else:\n",
    "    <code block>\n",
    "```\n",
    "\n",
    "    "
   ]
  },
  {
   "cell_type": "code",
   "execution_count": 68,
   "metadata": {},
   "outputs": [
    {
     "name": "stdout",
     "output_type": "stream",
     "text": [
      "Hi\n"
     ]
    }
   ],
   "source": [
    "if 1:\n",
    "    print('Hi')\n",
    "    \n",
    "    "
   ]
  },
  {
   "cell_type": "code",
   "execution_count": 69,
   "metadata": {},
   "outputs": [],
   "source": [
    "if []:\n",
    "    print('Nothing is printed')"
   ]
  },
  {
   "cell_type": "code",
   "execution_count": 41,
   "metadata": {},
   "outputs": [],
   "source": [
    "if False:\n",
    "    print(\"nothing will be printed\")"
   ]
  },
  {
   "cell_type": "code",
   "execution_count": 42,
   "metadata": {},
   "outputs": [
    {
     "name": "stdout",
     "output_type": "stream",
     "text": [
      "HELLO!\n"
     ]
    }
   ],
   "source": [
    "if True:\n",
    "    print(\"HELLO!\")"
   ]
  },
  {
   "cell_type": "code",
   "execution_count": 284,
   "metadata": {},
   "outputs": [
    {
     "name": "stdout",
     "output_type": "stream",
     "text": [
      "Fine\n"
     ]
    }
   ],
   "source": [
    "value  =  5\n",
    "\n",
    "if value < 6:     # 5 < 6 evaluates to True\n",
    "    print('Fine')"
   ]
  },
  {
   "cell_type": "code",
   "execution_count": 285,
   "metadata": {},
   "outputs": [
    {
     "name": "stdout",
     "output_type": "stream",
     "text": [
      "Enter age:\n",
      "55\n",
      "No more young!\n"
     ]
    }
   ],
   "source": [
    "age = int(input(\"Enter age:\\n\"))\n",
    "\n",
    "if age < 40:                  #55 < 40 evaluates to False so 'if' clause won't be executed\n",
    "    print(\"You are young\")\n",
    "else:             \n",
    "    print(\"No more young!\")"
   ]
  },
  {
   "cell_type": "code",
   "execution_count": 286,
   "metadata": {},
   "outputs": [
    {
     "name": "stdout",
     "output_type": "stream",
     "text": [
      "value is in container\n"
     ]
    }
   ],
   "source": [
    "value =  3\n",
    "\n",
    "if value in [2,3,4,5,6]:\n",
    "    print(\"value is in container\")"
   ]
  },
  {
   "cell_type": "code",
   "execution_count": 40,
   "metadata": {},
   "outputs": [
    {
     "name": "stdout",
     "output_type": "stream",
     "text": [
      "2 is even number\n",
      "3 is odd number\n",
      "4 is even number\n"
     ]
    }
   ],
   "source": [
    "nums = [2,3,4]\n",
    "\n",
    "for i in nums:\n",
    "    if i%2==0:\n",
    "        print('{} is even number'.format(i))\n",
    "    else:\n",
    "        print('{} is odd number'.format(i))\n",
    "    "
   ]
  },
  {
   "cell_type": "code",
   "execution_count": 55,
   "metadata": {},
   "outputs": [],
   "source": [
    "marks = -90\n",
    "\n",
    "if marks >=0 and marks <= 50:\n",
    "    print(\"Your marks are not good\")\n",
    "\n",
    "elif marks > 50 and marks <= 75:\n",
    "    print(\"Your marks are good\")\n",
    "    \n",
    "elif marks > 75 and marks <= 100:     #using 'else'clause here can cause problems\n",
    "    print(\"Your marks are excellent!\")"
   ]
  },
  {
   "cell_type": "markdown",
   "metadata": {},
   "source": [
    "In codes where you are using `elif` clause(s), be careful that the condition you are testing should be =`True` in exactly one of `if-elif-else` clauses. \n",
    "\n",
    "Can you see if there is any problem in following code?\n",
    "\n",
    "```Python\n",
    "marks = -90\n",
    "\n",
    "if marks >=0 and marks <= 50:\n",
    "    print(\"Your marks are not good\")\n",
    "\n",
    "elif marks > 50 and marks <= 75:\n",
    "    print(\"Your marks are good\")\n",
    "    \n",
    "else:     \n",
    "    print(\"Your marks are excellent!\")\n",
    "```\n",
    "\n"
   ]
  },
  {
   "cell_type": "code",
   "execution_count": 49,
   "metadata": {},
   "outputs": [
    {
     "name": "stdout",
     "output_type": "stream",
     "text": [
      "Your marks are excellent!\n"
     ]
    }
   ],
   "source": [
    "#LOL!!\n",
    "\n",
    "marks = -90\n",
    "\n",
    "if marks >=0 and marks <= 50:\n",
    "    print(\"Your marks are not good\")\n",
    "\n",
    "elif marks > 50 and marks <= 75:\n",
    "    print(\"Your marks are good\")\n",
    "    \n",
    "else:     #using 'else'clause here can cause problems\n",
    "    print(\"Your marks are excellent!\")"
   ]
  },
  {
   "cell_type": "markdown",
   "metadata": {},
   "source": [
    "### `for` loop\n",
    "\n",
    "Syntax is\n",
    "\n",
    "```Python\n",
    "for i in iterable:\n",
    "    #do something with i\n",
    "```    \n",
    "Runs a block of code for each element in a given sequence.\n"
   ]
  },
  {
   "cell_type": "code",
   "execution_count": 274,
   "metadata": {},
   "outputs": [
    {
     "name": "stdout",
     "output_type": "stream",
     "text": [
      "1\n",
      "4\n",
      "9\n",
      "16\n"
     ]
    }
   ],
   "source": [
    "values = [1,2,3,4]\n",
    "\n",
    "for i in values:\n",
    "    print(i*i)"
   ]
  },
  {
   "cell_type": "code",
   "execution_count": 2,
   "metadata": {},
   "outputs": [
    {
     "name": "stdout",
     "output_type": "stream",
     "text": [
      "30\n",
      "24\n",
      "18\n"
     ]
    }
   ],
   "source": [
    "mapping = {'Sam': 10, 'Peter': 8, 'Sean':6}\n",
    "\n",
    "for i in mapping:        #iteration over dictionary keys\n",
    "    print(mapping[i]*3)\n",
    "           "
   ]
  },
  {
   "cell_type": "code",
   "execution_count": 275,
   "metadata": {},
   "outputs": [
    {
     "name": "stdout",
     "output_type": "stream",
     "text": [
      "1\n",
      "3\n",
      "4\n"
     ]
    }
   ],
   "source": [
    "for i in range(1,5):\n",
    "    if i == 2:\n",
    "        pass\n",
    "    else:\n",
    "        print(i)"
   ]
  },
  {
   "cell_type": "code",
   "execution_count": 276,
   "metadata": {},
   "outputs": [
    {
     "name": "stdout",
     "output_type": "stream",
     "text": [
      "0\n",
      "1\n",
      "2\n",
      "3\n",
      "5\n",
      "6\n"
     ]
    }
   ],
   "source": [
    "for i in range(7):\n",
    "    if i == 4:\n",
    "        continue\n",
    "    else:\n",
    "        print(i)"
   ]
  },
  {
   "cell_type": "code",
   "execution_count": 277,
   "metadata": {},
   "outputs": [
    {
     "name": "stdout",
     "output_type": "stream",
     "text": [
      "0\n",
      "1\n",
      "2\n",
      "3\n"
     ]
    }
   ],
   "source": [
    "for i in range(7):\n",
    "    if i == 4:\n",
    "        break          #this will terminate the loop`\n",
    "    else:\n",
    "        print(i)"
   ]
  },
  {
   "cell_type": "markdown",
   "metadata": {},
   "source": [
    "### `for - else` "
   ]
  },
  {
   "cell_type": "code",
   "execution_count": 283,
   "metadata": {},
   "outputs": [
    {
     "name": "stdout",
     "output_type": "stream",
     "text": [
      "6\n"
     ]
    }
   ],
   "source": [
    "listing = [1,2,3,6,8]\n",
    "for i in listing:\n",
    "    if i == 6:\n",
    "        print(i)\n",
    "        break    \n",
    "else:\n",
    "    print('not there')  \n"
   ]
  },
  {
   "cell_type": "markdown",
   "metadata": {},
   "source": [
    "In above example, `else` is associated with `for` clause and it is executed if `break` is not executed."
   ]
  },
  {
   "cell_type": "markdown",
   "metadata": {},
   "source": [
    "### `while` loop\n",
    "\n",
    "Syntax is \n",
    "\n",
    "```Python\n",
    "while <expression>:\n",
    "    code block\n",
    "```\n",
    "\n",
    "Code block will be executed as long as *expression* is `True`."
   ]
  },
  {
   "cell_type": "code",
   "execution_count": 278,
   "metadata": {},
   "outputs": [
    {
     "name": "stdout",
     "output_type": "stream",
     "text": [
      "0\n",
      "1\n",
      "2\n",
      "3\n",
      "4\n",
      "5\n"
     ]
    }
   ],
   "source": [
    "a = 0\n",
    "while a <6: \n",
    "    print(a)\n",
    "    a+=1"
   ]
  },
  {
   "cell_type": "code",
   "execution_count": 280,
   "metadata": {},
   "outputs": [
    {
     "name": "stdout",
     "output_type": "stream",
     "text": [
      "Enter your name:\n",
      "peter\n",
      "Enter your name:\n",
      "Mayank\n",
      "Hi, Mayank\n"
     ]
    }
   ],
   "source": [
    "#while True introduces infinite loop, can only be terminated via `break` statement\n",
    "\n",
    "while True:\n",
    "    name = input(\"Enter your name:\\n\")\n",
    "    if name == \"Mayank\":\n",
    "        print(\"Hi, %s\" %name)\n",
    "        break"
   ]
  },
  {
   "cell_type": "markdown",
   "metadata": {},
   "source": [
    "#### `while-else-break` loop\n",
    "\n",
    "Run example given below. Notice two things. First, notice `else` clause is associated with `while` clause. Second, notice `break` statement and how it affects the execution of `else` clause. `else` clause is run only when `break` statement is not executed. "
   ]
  },
  {
   "cell_type": "code",
   "execution_count": 281,
   "metadata": {},
   "outputs": [
    {
     "name": "stdout",
     "output_type": "stream",
     "text": [
      "input your name in small letters:\n",
      "sam\n",
      "input your name in small letters:\n",
      "peter\n",
      "Sorry!\n"
     ]
    }
   ],
   "source": [
    "a = 1\n",
    "while (a < 3):\n",
    "    string =  input(\"input your name in small letters:\\n\")\n",
    "    if string == 'mayank':\n",
    "        print(\"Hi %s\" %string) \n",
    "        break\n",
    "    a = a + 1\n",
    "\n",
    "else:\n",
    "    print(\"Sorry!\")"
   ]
  },
  {
   "cell_type": "code",
   "execution_count": 282,
   "metadata": {},
   "outputs": [
    {
     "name": "stdout",
     "output_type": "stream",
     "text": [
      "0\n",
      "1\n",
      "3\n",
      "4\n",
      "5\n"
     ]
    }
   ],
   "source": [
    "n = -1\n",
    "while n < 5:\n",
    "    n =  n + 1\n",
    "    if n == 2:\n",
    "        continue\n",
    "    print(n)"
   ]
  },
  {
   "cell_type": "markdown",
   "metadata": {},
   "source": [
    "`continue` makes program do nothing for current iteration, rather it makes program to jump to next iteration."
   ]
  },
  {
   "cell_type": "code",
   "execution_count": null,
   "metadata": {},
   "outputs": [],
   "source": []
  },
  {
   "cell_type": "markdown",
   "metadata": {},
   "source": [
    "### PART 4\n",
    "\n",
    "This is the part I want to introduce at later part of the course because it introduces design features and some subtle concepts which novices may not be able to fully understand. "
   ]
  },
  {
   "cell_type": "markdown",
   "metadata": {},
   "source": [
    "#### Everything is an object \n",
    "\n",
    "Every variable you define is an object. Every function, built-in or user-defined, is an object. Every class is an object. Every instance of a given class is an object. This also means you can 'move around' them. You can assign them to variables, you can pass them to functions, functions can return them and so on. \n",
    "\n",
    "Also every object has some associated characterstics (called attributes) and associated behaviours (called methods). We can access attributes or apply methods on object via `.` notation. \n",
    "\n",
    "     obj.attribute\n",
    "     obj.method()\n",
    "\n",
    "Every object has a type, an identity and a value. "
   ]
  },
  {
   "cell_type": "markdown",
   "metadata": {},
   "source": [
    "**Following section is credited to Jake VanderPlas**\n",
    "\n",
    "Python is an object-oriented programming language, and in Python everything is an object.\n",
    "Let's flesh-out what this means. Earlier we saw that variables are simply pointers, and the variable names themselves have no attached type information. This leads some to claim erroneously that Python is a type-free language. But this is not the case!\n",
    "Consider the following:\n",
    "```python\n",
    "x = 4\n",
    "type(x) #int\n",
    "x = 'hello'\n",
    "type(x) #str\n",
    "x = 3.14159\n",
    "type(x) #float\n",
    "```\n",
    "\n",
    "Python has types; however, the types are linked not to the variable names but *to the objects themselves*. In object-oriented programming languages like Python, an *object* is an entity that contains data along with associated metadata and/or functionality.\n",
    "\n",
    "In Python everything is an object, which means every entity has some metadata (called *attributes*) and associated functionality (called *methods*). These attributes and methods are accessed via the dot syntax.\n",
    "For example, before we saw that lists have an ``append`` method, which adds an item to the list, and is accessed via the dot \n",
    "(\"``.``\") syntax:\n",
    "```python\n",
    "L = [1, 2, 3]\n",
    "L.append(100)\n",
    "print(L)     # L = [1, 2, 3, 100]\n",
    "```\n",
    "While it might be expected for compound objects like lists to have attributes and methods, what is sometimes unexpected is that in Python even simple types have attached attributes and methods. For example, numerical types have a ``real`` and ``imag`` attribute that returns the real and imaginary part of the value, if viewed as a complex number:  x \n",
    "```python\n",
    "x = 4.5\n",
    "print(x.real, \"+\", x.imag, 'i')  # 4.5 + 0.0i\n",
    "```\n",
    "Methods are like attributes, except they are functions that you can call using opening and closing parentheses. For example, floating point numbers have a method called ``is_integer`` that checks whether the value is an integer:\n",
    "```python\n",
    "x = 4.5\n",
    "x.is_integer() #False\n",
    "x = 4.0\n",
    "x.is_integer() #True\n",
    "```\n",
    "\n",
    "When we say that everything in Python is an object, we really mean that *everything* is an object – even the attributes and methods of objects are themselves objects with their own ``type`` information:\n",
    "```python\n",
    "type(x.is_integer)       #builtin_function_or_method\n",
    "```"
   ]
  },
  {
   "cell_type": "markdown",
   "metadata": {},
   "source": [
    "#### Mutability and Immutability"
   ]
  },
  {
   "cell_type": "markdown",
   "metadata": {},
   "source": [
    "So far we have seen that strings and tuples are immutable while lists are mutable. Although we might have developed generally accurate understanding of mutable/immutable objects, we better look at it more closely. \n",
    "\n",
    "#### Some Excrepts from Python Documentations\n",
    "\n",
    "##### Data Model\n",
    "\n",
    "Objects are Python’s abstraction for data. All data in a Python program is represented by objects or by\n",
    "relations between objects. (In a sense, and in conformance to Von Neumann’s model of a “stored program\n",
    "computer,” code is also represented by objects.)\n",
    "Every object has an identity, a type and a value. An object’s identity never changes once it has been created;\n",
    "you may think of it as the object’s address in memory. The `is` operator compares the identity of two\n",
    "objects; the `id()` function returns an integer representing its identity.\n",
    "\n",
    "---\n",
    "(*following section hints what we mean by mutability*)\n",
    "\n",
    "An object’s type determines the operations that the object supports (e.g., “does it have a length?”) and also\n",
    "defines the possible values for objects of that type. The `type()` function returns an object’s type (which is\n",
    "an object itself). Like its identity, an object’s type is also unchangeable.1\n",
    "The value of some objects can change. Objects whose value can change are said to be mutable; objects\n",
    "whose value is unchangeable once they are created are called immutable. (The value of an immutable\n",
    "container object that contains a reference to a mutable object can change when the latter’s value is changed;\n",
    "however the container is still considered immutable, because the collection of objects it contains cannot be\n",
    "changed. So, immutability is not strictly the same as having an unchangeable value, it is more subtle.) An\n",
    "object’s mutability is determined by its type; for instance, numbers, strings and tuples are immutable, while\n",
    "dictionaries and lists are mutable.\n",
    "Objects are never explicitly destroyed; however, when they become unreachable they may be garbagecollected.\n",
    "An implementation is allowed to postpone garbage collection or omit it altogether — it is a\n",
    "matter of implementation quality how garbage collection is implemented, as long as no objects are collected\n",
    "that are still reachable.\n",
    "\n",
    "---\n",
    "...Some objects contain references to other objects; these are called containers. Examples of containers are\n",
    "tuples, lists and dictionaries. The references are part of a container’s value. In most cases, when we talk\n",
    "about the value of a container, we imply the values, not the identities of the contained objects; however,\n",
    "when we talk about the mutability of a container, only the identities of the immediately contained objects\n",
    "are implied. So, if an immutable container (like a tuple) contains a reference to a mutable object, its value\n",
    "changes if that mutable object is changed.\n",
    "\n",
    "-----\n",
    "Types affect almost all aspects of object behavior. Even the importance of object identity is affected in\n",
    "some sense: for immutable types, operations that compute new values may actually return a reference to\n",
    "any existing object with the same type and value, while for mutable objects this is not allowed. **E.g., after\n",
    "`a = 1`; `b = 1`, `a` and `b` may or may not refer to the same object with the value one, depending on the\n",
    "implementation, but after `c = []; d = []`, `c` and `d` are guaranteed to refer to two different, unique, newly\n",
    "created empty lists. (Note that `c = d = []` assigns the same object to both `c` and `d`.)**"
   ]
  },
  {
   "cell_type": "code",
   "execution_count": 304,
   "metadata": {},
   "outputs": [
    {
     "data": {
      "text/plain": [
       "True"
      ]
     },
     "execution_count": 304,
     "metadata": {},
     "output_type": "execute_result"
    }
   ],
   "source": [
    "a = 1\n",
    "b = 1\n",
    "\n",
    "a is b"
   ]
  },
  {
   "cell_type": "code",
   "execution_count": 305,
   "metadata": {},
   "outputs": [
    {
     "data": {
      "text/plain": [
       "False"
      ]
     },
     "execution_count": 305,
     "metadata": {},
     "output_type": "execute_result"
    }
   ],
   "source": [
    "a = 300\n",
    "b = 300\n",
    "\n",
    "a is b"
   ]
  },
  {
   "cell_type": "markdown",
   "metadata": {},
   "source": [
    "**Note** - For values between [-5,256], `a` and `b` will be identical."
   ]
  },
  {
   "cell_type": "code",
   "execution_count": 301,
   "metadata": {},
   "outputs": [
    {
     "data": {
      "text/plain": [
       "False"
      ]
     },
     "execution_count": 301,
     "metadata": {},
     "output_type": "execute_result"
    }
   ],
   "source": [
    "a, b = [],[]\n",
    "a is b"
   ]
  },
  {
   "cell_type": "markdown",
   "metadata": {},
   "source": [
    "#### Mutability of Tuples"
   ]
  },
  {
   "cell_type": "code",
   "execution_count": 337,
   "metadata": {},
   "outputs": [
    {
     "name": "stdout",
     "output_type": "stream",
     "text": [
      "(1, 2, [3, 4])\n",
      "id of t1 is 404495510080\n",
      "id of t1[-1] is 404478705856\n",
      "now t1 is  (1, 2, [3, 4, 5])\n",
      "now id of t1 is 404495510080\n",
      "now id of t1[-1] is 404478705856\n"
     ]
    }
   ],
   "source": [
    "t1 = (1,2,[3,4])\n",
    "\n",
    "print(t1)\n",
    "print(\"id of t1 is %d\" %id(t1))\n",
    "print(\"id of t1[-1] is %d\" %id(t1[-1]))\n",
    "\n",
    "t1[-1].append(5)\n",
    "\n",
    "print(\"now t1 is \", t1)\n",
    "print(\"now id of t1 is %d\" %id(t1))\n",
    "print(\"now id of t1[-1] is %d\" %id(t1[-1]))\n"
   ]
  },
  {
   "cell_type": "markdown",
   "metadata": {},
   "source": [
    "Tuples are immutable but above we can see it got 'mutated'. This example shows how tuples can be mutable if one of its elements is of mutable type. In this example, original and final tuple still have same id.\n",
    "\n",
    "This also illustrates the situation in which the value of a tuple changes as result of changes to a mutable object referenced in it. What can never change in a tuple is the identity of the items it contains. Also – "
   ]
  },
  {
   "cell_type": "code",
   "execution_count": 338,
   "metadata": {},
   "outputs": [
    {
     "ename": "TypeError",
     "evalue": "'tuple' object does not support item assignment",
     "output_type": "error",
     "traceback": [
      "\u001b[1;31m---------------------------------------------------------------------------\u001b[0m",
      "\u001b[1;31mTypeError\u001b[0m                                 Traceback (most recent call last)",
      "\u001b[1;32m<ipython-input-338-fa15ea818b20>\u001b[0m in \u001b[0;36m<module>\u001b[1;34m\u001b[0m\n\u001b[0;32m      1\u001b[0m \u001b[0mt\u001b[0m \u001b[1;33m=\u001b[0m \u001b[1;33m(\u001b[0m\u001b[1;36m1\u001b[0m\u001b[1;33m,\u001b[0m\u001b[1;36m2\u001b[0m\u001b[1;33m,\u001b[0m\u001b[1;33m[\u001b[0m\u001b[1;36m30\u001b[0m\u001b[1;33m,\u001b[0m\u001b[1;36m40\u001b[0m\u001b[1;33m]\u001b[0m\u001b[1;33m)\u001b[0m\u001b[1;33m\u001b[0m\u001b[1;33m\u001b[0m\u001b[0m\n\u001b[1;32m----> 2\u001b[1;33m \u001b[0mt\u001b[0m\u001b[1;33m[\u001b[0m\u001b[1;36m2\u001b[0m\u001b[1;33m]\u001b[0m \u001b[1;33m+=\u001b[0m \u001b[1;33m[\u001b[0m\u001b[1;36m50\u001b[0m\u001b[1;33m,\u001b[0m\u001b[1;36m60\u001b[0m\u001b[1;33m]\u001b[0m \u001b[1;31m#id of list won't change, hence tuple will 'mutate'\u001b[0m\u001b[1;33m\u001b[0m\u001b[1;33m\u001b[0m\u001b[0m\n\u001b[0m",
      "\u001b[1;31mTypeError\u001b[0m: 'tuple' object does not support item assignment"
     ]
    }
   ],
   "source": [
    "t = (1,2,[30,40])\n",
    "t[2] += [50,60] #id of list won't change, hence tuple will 'mutate'\n"
   ]
  },
  {
   "cell_type": "code",
   "execution_count": 339,
   "metadata": {},
   "outputs": [
    {
     "data": {
      "text/plain": [
       "(1, 2, [30, 40, 50, 60])"
      ]
     },
     "execution_count": 339,
     "metadata": {},
     "output_type": "execute_result"
    }
   ],
   "source": [
    "t"
   ]
  },
  {
   "cell_type": "code",
   "execution_count": 340,
   "metadata": {},
   "outputs": [
    {
     "ename": "TypeError",
     "evalue": "'tuple' object does not support item assignment",
     "output_type": "error",
     "traceback": [
      "\u001b[1;31m---------------------------------------------------------------------------\u001b[0m",
      "\u001b[1;31mTypeError\u001b[0m                                 Traceback (most recent call last)",
      "\u001b[1;32m<ipython-input-340-07b670bfc17e>\u001b[0m in \u001b[0;36m<module>\u001b[1;34m\u001b[0m\n\u001b[1;32m----> 1\u001b[1;33m \u001b[0mt\u001b[0m\u001b[1;33m[\u001b[0m\u001b[1;36m2\u001b[0m\u001b[1;33m]\u001b[0m \u001b[1;33m=\u001b[0m \u001b[0mt\u001b[0m\u001b[1;33m[\u001b[0m\u001b[1;36m2\u001b[0m\u001b[1;33m]\u001b[0m \u001b[1;33m+\u001b[0m\u001b[1;33m[\u001b[0m\u001b[1;36m90\u001b[0m\u001b[1;33m]\u001b[0m \u001b[1;31m#won't work as id of list will change which isn't allowed as tuple is immutable\u001b[0m\u001b[1;33m\u001b[0m\u001b[1;33m\u001b[0m\u001b[0m\n\u001b[0m",
      "\u001b[1;31mTypeError\u001b[0m: 'tuple' object does not support item assignment"
     ]
    }
   ],
   "source": [
    "t[2] = t[2] +[90] #won't work as id of list will change which isn't allowed as tuple is immutable"
   ]
  },
  {
   "cell_type": "markdown",
   "metadata": {},
   "source": [
    "#### += Operation on Mutable Types\n",
    "For any operator \"``■``\", the expression ``a ■= b`` is equivalent to ``a = a ■ b``, with a slight catch.\n",
    "For mutable objects like lists, arrays, or DataFrames, these augmented assignment operations are actually subtly different than their more verbose counterparts: they modify the contents of the original object rather than creating a new object to store the result."
   ]
  },
  {
   "cell_type": "code",
   "execution_count": 306,
   "metadata": {},
   "outputs": [
    {
     "name": "stdout",
     "output_type": "stream",
     "text": [
      "404495335936\n",
      "404495335680\n",
      "404495335680\n"
     ]
    }
   ],
   "source": [
    "s = [1,2,3]\n",
    "print(id(s))\n",
    "s = s + [1]\n",
    "print(id(s))  #id of s changed\n",
    "s+=[2]\n",
    "print(id(s))  #id doesn't change"
   ]
  },
  {
   "cell_type": "markdown",
   "metadata": {},
   "source": [
    "#### Aside: Floating Point Precision\n",
    "\n",
    "One thing to be aware of with floating point arithmetic is that its precision is limited, which can cause equality tests to be unstable. For example:"
   ]
  },
  {
   "cell_type": "code",
   "execution_count": 307,
   "metadata": {},
   "outputs": [
    {
     "data": {
      "text/plain": [
       "True"
      ]
     },
     "execution_count": 307,
     "metadata": {},
     "output_type": "execute_result"
    }
   ],
   "source": [
    "\n",
    "float(2**53) == float(2**53) + 1"
   ]
  },
  {
   "cell_type": "code",
   "execution_count": 308,
   "metadata": {},
   "outputs": [
    {
     "data": {
      "text/plain": [
       "0.30000000000000004"
      ]
     },
     "execution_count": 308,
     "metadata": {},
     "output_type": "execute_result"
    }
   ],
   "source": [
    ".1 + .2"
   ]
  },
  {
   "cell_type": "markdown",
   "metadata": {},
   "source": [
    "Why is this the case? It turns out that it is not a behavior unique to Python, but is due to the fixed-precision format of the binary floating-point storage used by most, if not all, scientific computing platforms. All programming languages using floating-point numbers store them in a fixed number of bits, and this leads some numbers to be represented only approximately. We can see this by printing the three values to high precision:\n"
   ]
  },
  {
   "cell_type": "code",
   "execution_count": 309,
   "metadata": {},
   "outputs": [
    {
     "name": "stdout",
     "output_type": "stream",
     "text": [
      "0.1 = 0.10000000000000001\n",
      "0.2 = 0.20000000000000001\n",
      "0.3 = 0.29999999999999999\n"
     ]
    }
   ],
   "source": [
    "print(\"0.1 = {0:.17f}\".format(0.1))\n",
    "print(\"0.2 = {0:.17f}\".format(0.2))\n",
    "print(\"0.3 = {0:.17f}\".format(0.3))"
   ]
  },
  {
   "cell_type": "markdown",
   "metadata": {},
   "source": [
    "We're accustomed to thinking of numbers in decimal (base-10) notation, so that each fraction must be expressed as a sum of powers of 10:\n",
    "$$\n",
    "1 /8 = 1\\cdot 10^{-1} + 2\\cdot 10^{-2} + 5\\cdot 10^{-3}\n",
    "$$\n",
    "In the familiar base-10 representation, we represent this in the familiar decimal expression: $0.125$.\n",
    "\n",
    "Computers usually store values in binary notation, so that each number is expressed as a sum of powers of 2:\n",
    "$$\n",
    "1/8 = 0\\cdot 2^{-1} + 0\\cdot 2^{-2} + 1\\cdot 2^{-3}\n",
    "$$\n",
    "In a base-2 representation, we can write this $0.001_2$, where the subscript 2 indicates binary notation.\n",
    "The value $0.125 = 0.001_2$ happens to be one number which both binary and decimal notation can represent in a finite number of digits.\n",
    "\n",
    "In the familiar base-10 representation of numbers, you are probably familiar with numbers that can't be expressed in a finite number of digits.\n",
    "For example, dividing $1$ by $3$ gives, in standard decimal notation:\n",
    "$$\n",
    "1 / 3 = 0.333333333\\cdots\n",
    "$$\n",
    "The 3s go on forever: that is, to truly represent this quotient, the number of required digits is infinite!\n",
    "\n",
    "Similarly, there are numbers for which binary representations require an infinite number of digits.\n",
    "For example:\n",
    "$$\n",
    "1 / 10 = 0.00011001100110011\\cdots_2\n",
    "$$\n",
    "Just as decimal notation requires an infinite number of digits to perfectly represent $1/3$, binary notation requires an infinite number of digits to represent $1/10$.\n",
    "Python internally truncates these representations at 52 bits beyond the first nonzero bit on most systems.\n",
    "\n",
    "This rounding error for floating-point values is a necessary evil of working with floating-point numbers.\n",
    "The best way to deal with it is to always keep in mind that floating-point arithmetic is approximate, and *never* rely on exact equality tests with floating-point values."
   ]
  },
  {
   "cell_type": "markdown",
   "metadata": {},
   "source": [
    "#### Iterable vs Iterator\n",
    "\n",
    "Iterable is a collection while iterator is a stream. In iterable, all items are availble at any and all the time. And of course, you can iterate over them. However, iterator doesn't have all the items available. It gives you one item at a time on the fly and keep track of its present state. An object is called iterable if you can get an iterator for it. To convert an iterable into a iterator, pass it to `iter()` function which returns an iterator object.\n",
    "\n",
    "In technical terms, iterable has `__iter__` method defined and iterator has `__next__` method defined for it. \n",
    "\n",
    "Successive calls to `next(iterator)` function return successive elements. After iterator is exhausted, it raises `StopIteration` exception. \n",
    "\n",
    "\n",
    "\n"
   ]
  },
  {
   "cell_type": "code",
   "execution_count": 63,
   "metadata": {},
   "outputs": [
    {
     "data": {
      "text/plain": [
       "True"
      ]
     },
     "execution_count": 63,
     "metadata": {},
     "output_type": "execute_result"
    }
   ],
   "source": [
    "name = 'Mayank'\n",
    "\n",
    "'__iter__' in dir(name)"
   ]
  },
  {
   "cell_type": "code",
   "execution_count": 64,
   "metadata": {},
   "outputs": [
    {
     "data": {
      "text/plain": [
       "True"
      ]
     },
     "execution_count": 64,
     "metadata": {},
     "output_type": "execute_result"
    }
   ],
   "source": [
    "a = iter(name)\n",
    "\n",
    "'__next__' in dir(a)"
   ]
  },
  {
   "cell_type": "code",
   "execution_count": 65,
   "metadata": {},
   "outputs": [
    {
     "data": {
      "text/plain": [
       "'M'"
      ]
     },
     "execution_count": 65,
     "metadata": {},
     "output_type": "execute_result"
    }
   ],
   "source": [
    "next(a)"
   ]
  },
  {
   "cell_type": "code",
   "execution_count": 66,
   "metadata": {},
   "outputs": [
    {
     "data": {
      "text/plain": [
       "'a'"
      ]
     },
     "execution_count": 66,
     "metadata": {},
     "output_type": "execute_result"
    }
   ],
   "source": [
    "next(a)"
   ]
  },
  {
   "cell_type": "code",
   "execution_count": 67,
   "metadata": {},
   "outputs": [
    {
     "ename": "StopIteration",
     "evalue": "",
     "output_type": "error",
     "traceback": [
      "\u001b[1;31m---------------------------------------------------------------------------\u001b[0m",
      "\u001b[1;31mStopIteration\u001b[0m                             Traceback (most recent call last)",
      "\u001b[1;32m<ipython-input-67-28c268cde671>\u001b[0m in \u001b[0;36m<module>\u001b[1;34m\u001b[0m\n\u001b[1;32m----> 1\u001b[1;33m \u001b[0mnext\u001b[0m\u001b[1;33m(\u001b[0m\u001b[0ma\u001b[0m\u001b[1;33m)\u001b[0m\u001b[1;33m,\u001b[0m \u001b[0mnext\u001b[0m\u001b[1;33m(\u001b[0m\u001b[0ma\u001b[0m\u001b[1;33m)\u001b[0m\u001b[1;33m,\u001b[0m \u001b[0mnext\u001b[0m\u001b[1;33m(\u001b[0m\u001b[0ma\u001b[0m\u001b[1;33m)\u001b[0m\u001b[1;33m,\u001b[0m \u001b[0mnext\u001b[0m\u001b[1;33m(\u001b[0m\u001b[0ma\u001b[0m\u001b[1;33m)\u001b[0m\u001b[1;33m,\u001b[0m \u001b[0mnext\u001b[0m\u001b[1;33m(\u001b[0m\u001b[0ma\u001b[0m\u001b[1;33m)\u001b[0m\u001b[1;33m\u001b[0m\u001b[1;33m\u001b[0m\u001b[0m\n\u001b[0m",
      "\u001b[1;31mStopIteration\u001b[0m: "
     ]
    }
   ],
   "source": [
    "next(a), next(a), next(a), next(a), next(a)"
   ]
  },
  {
   "cell_type": "markdown",
   "metadata": {},
   "source": [
    "### PART 5\n",
    "\n",
    "### Error handling and Exceptions\n",
    "\n",
    "People commit all sort of mistakes when they write programs (or do anything else). If you haven't, either you are a God or you haven't tried anything. If you have come this far in your journey of learning Python, you must have seen fair amount of error messages such as `TypeError`, `SyntaxError`, `ValueError` or `NameError`. Although Python tries to help you by showing what kind of mistake you have committed (*by raising an exception*) but let's admit that seeing such message(s) isn't exactly encouraging or pleasant. \n",
    "\n",
    "In this section, we'll learn how to handle these errors and let our program complete gracefully regardless of whether an excception occured or not. First, let's see some examples of errors -  "
   ]
  },
  {
   "cell_type": "code",
   "execution_count": 56,
   "metadata": {},
   "outputs": [
    {
     "ename": "SyntaxError",
     "evalue": "invalid syntax (<ipython-input-56-22fe0292925e>, line 1)",
     "output_type": "error",
     "traceback": [
      "\u001b[1;36m  File \u001b[1;32m\"<ipython-input-56-22fe0292925e>\"\u001b[1;36m, line \u001b[1;32m1\u001b[0m\n\u001b[1;33m    For i in range(5)\u001b[0m\n\u001b[1;37m        ^\u001b[0m\n\u001b[1;31mSyntaxError\u001b[0m\u001b[1;31m:\u001b[0m invalid syntax\n"
     ]
    }
   ],
   "source": [
    "For i in range(5)  #SyntaxError\n",
    "    print(i)\n"
   ]
  },
  {
   "cell_type": "code",
   "execution_count": 57,
   "metadata": {},
   "outputs": [
    {
     "ename": "NameError",
     "evalue": "name 'aa' is not defined",
     "output_type": "error",
     "traceback": [
      "\u001b[1;31m---------------------------------------------------------------------------\u001b[0m",
      "\u001b[1;31mNameError\u001b[0m                                 Traceback (most recent call last)",
      "\u001b[1;32m<ipython-input-57-54933412a1fe>\u001b[0m in \u001b[0;36m<module>\u001b[1;34m\u001b[0m\n\u001b[1;32m----> 1\u001b[1;33m \u001b[0mprint\u001b[0m\u001b[1;33m(\u001b[0m\u001b[0maa\u001b[0m\u001b[1;33m)\u001b[0m\u001b[1;33m\u001b[0m\u001b[1;33m\u001b[0m\u001b[0m\n\u001b[0m",
      "\u001b[1;31mNameError\u001b[0m: name 'aa' is not defined"
     ]
    }
   ],
   "source": [
    "print(aa) #variable aa isn't defined"
   ]
  },
  {
   "cell_type": "code",
   "execution_count": 58,
   "metadata": {},
   "outputs": [
    {
     "ename": "ZeroDivisionError",
     "evalue": "division by zero",
     "output_type": "error",
     "traceback": [
      "\u001b[1;31m---------------------------------------------------------------------------\u001b[0m",
      "\u001b[1;31mZeroDivisionError\u001b[0m                         Traceback (most recent call last)",
      "\u001b[1;32m<ipython-input-58-9e1622b385b6>\u001b[0m in \u001b[0;36m<module>\u001b[1;34m\u001b[0m\n\u001b[1;32m----> 1\u001b[1;33m \u001b[1;36m1\u001b[0m\u001b[1;33m/\u001b[0m\u001b[1;36m0\u001b[0m\u001b[1;33m\u001b[0m\u001b[1;33m\u001b[0m\u001b[0m\n\u001b[0m",
      "\u001b[1;31mZeroDivisionError\u001b[0m: division by zero"
     ]
    }
   ],
   "source": [
    "1/0  #division by 0 is not allowed"
   ]
  },
  {
   "cell_type": "code",
   "execution_count": 59,
   "metadata": {},
   "outputs": [
    {
     "ename": "AttributeError",
     "evalue": "'int' object has no attribute 'value'",
     "output_type": "error",
     "traceback": [
      "\u001b[1;31m---------------------------------------------------------------------------\u001b[0m",
      "\u001b[1;31mAttributeError\u001b[0m                            Traceback (most recent call last)",
      "\u001b[1;32m<ipython-input-59-a841af1314a7>\u001b[0m in \u001b[0;36m<module>\u001b[1;34m\u001b[0m\n\u001b[0;32m      1\u001b[0m \u001b[0ma\u001b[0m \u001b[1;33m=\u001b[0m \u001b[1;36m0\u001b[0m\u001b[1;33m\u001b[0m\u001b[1;33m\u001b[0m\u001b[0m\n\u001b[1;32m----> 2\u001b[1;33m \u001b[0ma\u001b[0m\u001b[1;33m.\u001b[0m\u001b[0mvalue\u001b[0m\u001b[1;33m\u001b[0m\u001b[1;33m\u001b[0m\u001b[0m\n\u001b[0m",
      "\u001b[1;31mAttributeError\u001b[0m: 'int' object has no attribute 'value'"
     ]
    }
   ],
   "source": [
    "a = 0\n",
    "a.value"
   ]
  },
  {
   "cell_type": "code",
   "execution_count": 60,
   "metadata": {},
   "outputs": [
    {
     "ename": "AttributeError",
     "evalue": "'int' object has no attribute 'append'",
     "output_type": "error",
     "traceback": [
      "\u001b[1;31m---------------------------------------------------------------------------\u001b[0m",
      "\u001b[1;31mAttributeError\u001b[0m                            Traceback (most recent call last)",
      "\u001b[1;32m<ipython-input-60-6119a689a583>\u001b[0m in \u001b[0;36m<module>\u001b[1;34m\u001b[0m\n\u001b[0;32m      2\u001b[0m     \u001b[0ma\u001b[0m\u001b[1;33m.\u001b[0m\u001b[0mappend\u001b[0m\u001b[1;33m(\u001b[0m\u001b[1;36m2\u001b[0m\u001b[1;33m)\u001b[0m\u001b[1;33m\u001b[0m\u001b[1;33m\u001b[0m\u001b[0m\n\u001b[0;32m      3\u001b[0m \u001b[1;33m\u001b[0m\u001b[0m\n\u001b[1;32m----> 4\u001b[1;33m \u001b[0mf\u001b[0m\u001b[1;33m(\u001b[0m\u001b[1;36m2\u001b[0m\u001b[1;33m)\u001b[0m\u001b[1;33m\u001b[0m\u001b[1;33m\u001b[0m\u001b[0m\n\u001b[0m",
      "\u001b[1;32m<ipython-input-60-6119a689a583>\u001b[0m in \u001b[0;36mf\u001b[1;34m(a)\u001b[0m\n\u001b[0;32m      1\u001b[0m \u001b[1;32mdef\u001b[0m \u001b[0mf\u001b[0m\u001b[1;33m(\u001b[0m\u001b[0ma\u001b[0m\u001b[1;33m)\u001b[0m\u001b[1;33m:\u001b[0m\u001b[1;33m\u001b[0m\u001b[1;33m\u001b[0m\u001b[0m\n\u001b[1;32m----> 2\u001b[1;33m     \u001b[0ma\u001b[0m\u001b[1;33m.\u001b[0m\u001b[0mappend\u001b[0m\u001b[1;33m(\u001b[0m\u001b[1;36m2\u001b[0m\u001b[1;33m)\u001b[0m\u001b[1;33m\u001b[0m\u001b[1;33m\u001b[0m\u001b[0m\n\u001b[0m\u001b[0;32m      3\u001b[0m \u001b[1;33m\u001b[0m\u001b[0m\n\u001b[0;32m      4\u001b[0m \u001b[0mf\u001b[0m\u001b[1;33m(\u001b[0m\u001b[1;36m2\u001b[0m\u001b[1;33m)\u001b[0m\u001b[1;33m\u001b[0m\u001b[1;33m\u001b[0m\u001b[0m\n",
      "\u001b[1;31mAttributeError\u001b[0m: 'int' object has no attribute 'append'"
     ]
    }
   ],
   "source": [
    "def f(a):\n",
    "    a.append(2)\n",
    "    \n",
    "f(2)    "
   ]
  },
  {
   "cell_type": "markdown",
   "metadata": {},
   "source": [
    "Rather than showing (or seeing) these irritating messages, it'd be much nicer if we try to handle them within our program. It is not that you'll be able to avoid these errors, but at least you (or other users) will see much better output. \n",
    "\n",
    "Let's see how some of above programs can be rewritten to properly handle the errors ()- "
   ]
  },
  {
   "cell_type": "code",
   "execution_count": 62,
   "metadata": {},
   "outputs": [
    {
     "name": "stdout",
     "output_type": "stream",
     "text": [
      "Division by 0 is not allowed.\n"
     ]
    }
   ],
   "source": [
    "try:\n",
    "    1/0\n",
    "\n",
    "except ZeroDivisionError:\n",
    "    print('Division by 0 is not allowed.')"
   ]
  },
  {
   "cell_type": "code",
   "execution_count": 63,
   "metadata": {},
   "outputs": [
    {
     "name": "stdout",
     "output_type": "stream",
     "text": [
      "'int' object has no attribute 'value'\n",
      "Please check for the object's attribute list\n"
     ]
    }
   ],
   "source": [
    "try:\n",
    "    a = 0\n",
    "    print(a.value)\n",
    "    \n",
    "except AttributeError as e:\n",
    "    print(e)\n",
    "    print(\"Please check for the object's attribute list\")\n",
    "    "
   ]
  },
  {
   "cell_type": "markdown",
   "metadata": {},
   "source": [
    "You can see that our programs still produced errors but they were handled rather nicely. \n",
    "\n"
   ]
  },
  {
   "cell_type": "markdown",
   "metadata": {},
   "source": [
    "**Note about `SyntaxError`:**\n",
    "\n",
    "Unlike other cases we have seen above, `SyntaxError` can't be handled. `SyntaxError` is caught when your program is parsed while errors like `AttributeError` happen when your program is exceuted. The later type of errors are called **exceptions** and we'll learn to handle these exceptions. \n",
    "\n",
    "Oh, just like everything else in Python, exceptions, too, are objects. "
   ]
  },
  {
   "cell_type": "markdown",
   "metadata": {},
   "source": [
    "### `try` statement\n",
    "\n",
    "\n",
    "The `try` clause is followed by -\n",
    "\n",
    " - one or more `except` clauses (optionally followed by exactly one `else` clause)\n",
    " - (optionally) exactly one `finally` clause\n",
    " \n",
    " \n",
    "The syntax is as follows - \n",
    "\n",
    "```Python\n",
    "try:\n",
    "    statement(s)\n",
    "except [expression [as target]]:\n",
    "    statement(s)\n",
    "[else:\n",
    "    statement(s)]\n",
    "[finally:\n",
    "    statement(s)]\n",
    "```\n",
    "<br>\n",
    "\n",
    "**Note** Square brackets `[]` in documentations or syntax descriptions tell us that part enclosed by `[]` is optional. For example, if you read the [Python documentation](https://docs.python.org/3.9/library/functions.html#input) of `input()` function, you'll see that the function signature of this function is ` input([prompt])`. What it says that the parameter `prompt` is optional. So `[]` around `else` and `finally` clauses in description of `try-except-else-finally` syntax indicates that these clauses are optional. \n",
    "\n",
    "<br>\n",
    "\n",
    "The `except` clauses are where exceptions are handled and therefore they are called *exception handlers*. Notice that in syntax description `except` statement is followed by `[expression [as target]]`. The `except` clause handles the exception propagated from `try`  only if exception name mathes the `expression` part in `except` statement. `expression` part may be a single class or a tuple of classes. The optional `target` is an identifier that names a variable that Python binds to the\n",
    "exception object just before the exception handler executes. A handler can also obtain the current exception object by calling the `exc_info` function of module `sys`.\n",
    "\n",
    "I can guess the above description is a bit terse. So let us go through some examples."
   ]
  },
  {
   "cell_type": "code",
   "execution_count": 67,
   "metadata": {},
   "outputs": [
    {
     "name": "stdout",
     "output_type": "stream",
     "text": [
      "Enter any number\n",
      "gg\n",
      "Enter valid input.\n"
     ]
    }
   ],
   "source": [
    "inp = input('Enter any number\\n')\n",
    "try:\n",
    "    a =  int(inp)\n",
    "    print(a)\n",
    "\n",
    "except:\n",
    "    print('Enter valid input.')\n",
    "    "
   ]
  },
  {
   "cell_type": "markdown",
   "metadata": {},
   "source": [
    "Consider above example. The main part of our code resides in `try` clause. Now come to `except` clause. Any exception raised in `try` clause will be handled in `except` clause. If `try` clause doesn't raise any exception, `except` clause won't be executed. While running this code, we provided a string `gg` as input which obviously is an invalid input because it can't be converted to an integer. Because of this, an exception is raised which is caught and handled by `exception` clause. The output doesn't tell but `try` clause raised `ValueError` which we handled.\n",
    "\n",
    "Since `exception` clause in above code doesn't have any `expression` part, it will handle every exception raised by `try` clause. Is that a good thing? Actually no.\n",
    "\n",
    "See following example- \n",
    "\n"
   ]
  },
  {
   "cell_type": "code",
   "execution_count": 66,
   "metadata": {},
   "outputs": [
    {
     "name": "stdout",
     "output_type": "stream",
     "text": [
      "Enter any number\n",
      "'44'\n",
      "Enter valid number.\n"
     ]
    }
   ],
   "source": [
    "inp = input('Enter any number\\n')\n",
    "try:\n",
    "    a =  int(inp)\n",
    "    print(aaa)\n",
    "\n",
    "except:\n",
    "    print('Enter valid number.')"
   ]
  },
  {
   "cell_type": "markdown",
   "metadata": {},
   "source": [
    "Given our program, `'44'` was valid input and yet our program asked us to provide valid number. What went wrong?\n",
    "\n",
    "The problem is that in 4th line of program, I mistyped `a` as `aaa` in `print` function which eventually raised the `NameError`. Since our `except` clause was designed to handle all exceptions in only one way, it handled this exception exactly the same way it earlier handled `ValueError`. Not a good thing. So what can we do to improve this? We explicitly mention the exception we want to handle in `except` clause as shown in below example -  "
   ]
  },
  {
   "cell_type": "code",
   "execution_count": 68,
   "metadata": {},
   "outputs": [
    {
     "name": "stdout",
     "output_type": "stream",
     "text": [
      "Enter any number\n",
      "54\n",
      "undefined variable\n"
     ]
    }
   ],
   "source": [
    "inp = input('Enter any number\\n')\n",
    "try:\n",
    "    a =  int(inp)\n",
    "    print(aaa)\n",
    "\n",
    "except ValueError:\n",
    "    print('Enter valid number.')\n",
    "    \n",
    "except NameError:\n",
    "    print('undefined variable')\n",
    "    \n",
    "except:\n",
    "    print(\"some other error\")"
   ]
  },
  {
   "cell_type": "markdown",
   "metadata": {},
   "source": [
    "This is better. \n",
    "\n",
    "We provided 3 `except` clauses and first 2 clause's `expression` part explicitly mentions the exception we want to handle. Since raised `NameError` matched the `expression` value of second `except` clause, this clause was executed. **Note that `except` clauses are evaluated in order**. If bare `except` clause (third clause in above example) had come before other clauses, it would have handled the `NameError`. This is not what we would have wanted. \n",
    "\n",
    "If you wish, you can print the error message generated by exception. This is done by providing `target` variable (in `except [expression [as target]]:` part). "
   ]
  },
  {
   "cell_type": "code",
   "execution_count": 69,
   "metadata": {},
   "outputs": [
    {
     "name": "stdout",
     "output_type": "stream",
     "text": [
      "Enter any number\n",
      "44\n",
      "name 'aaa' is not defined\n",
      "undefined variable\n"
     ]
    }
   ],
   "source": [
    "inp = input('Enter any number\\n')\n",
    "\n",
    "try:\n",
    "    a =  int(inp)\n",
    "    print(aaa)\n",
    "\n",
    "except ValueError:\n",
    "    print('Enter valid number.')\n",
    "    \n",
    "except NameError as err:\n",
    "    print(err)\n",
    "    print('undefined variable')\n",
    "    \n",
    "except:\n",
    "    print(\"some other error\")"
   ]
  },
  {
   "cell_type": "markdown",
   "metadata": {},
   "source": [
    "`except` clause can handle multiple exceptions. To do this, you simply pass a tuple of exception names as an argument to `except`:\n",
    "\n",
    "```Python\n",
    "try:\n",
    "    <code block>\n",
    "except (NameError, ValueError):\n",
    "    <code block>\n",
    "```    "
   ]
  },
  {
   "cell_type": "markdown",
   "metadata": {},
   "source": [
    "#### `else` clause\n",
    "\n",
    "We mentioned we can also provide optional `else` clause. This is executed only when `try` clause is executed normally. If `try` clause raises any exception, `else` clause won't run. Also, if any of `break`, `continue` or `return` statement (if present) in `try` clause is executed, `else` clause won't run. See following examples -   "
   ]
  },
  {
   "cell_type": "code",
   "execution_count": 74,
   "metadata": {},
   "outputs": [
    {
     "name": "stdout",
     "output_type": "stream",
     "text": [
      "Enter any number\n",
      "55\n",
      "55\n",
      "'try' clause executed normally\n"
     ]
    }
   ],
   "source": [
    "inp = input('Enter any number\\n')\n",
    "try:\n",
    "    a =  int(inp)\n",
    "    print(a)\n",
    "\n",
    "except ValueError:\n",
    "    print('Enter valid number.')\n",
    "    \n",
    "except NameError as err:\n",
    "    print(err)\n",
    "    print('undefined variable')\n",
    "    \n",
    "except:\n",
    "    print(\"some other error\")\n",
    "    \n",
    "else:\n",
    "    print(\"'try' clause executed normally\")\n",
    "          "
   ]
  },
  {
   "cell_type": "code",
   "execution_count": 75,
   "metadata": {},
   "outputs": [
    {
     "name": "stdout",
     "output_type": "stream",
     "text": [
      "Enter any number\n",
      "hfg\n",
      "Enter valid number.\n"
     ]
    }
   ],
   "source": [
    "inp = input('Enter any number\\n')\n",
    "\n",
    "try:\n",
    "    a =  int(inp)\n",
    "    print(a)\n",
    "\n",
    "except ValueError:\n",
    "    print('Enter valid number.')\n",
    "    \n",
    "except NameError as err:\n",
    "    print(err)\n",
    "    print('undefined variable')\n",
    "    \n",
    "except:\n",
    "    print(\"some other error\")\n",
    "    \n",
    "else:\n",
    "    print(\"'try' clause executed normally\")\n",
    "          "
   ]
  },
  {
   "cell_type": "code",
   "execution_count": 3,
   "metadata": {},
   "outputs": [
    {
     "name": "stdout",
     "output_type": "stream",
     "text": [
      "Enter secret number44\n",
      "You are granted entry\n"
     ]
    }
   ],
   "source": [
    "while True:\n",
    "\n",
    "    try:    \n",
    "        secret = int(input(\"Enter secret number\"))\n",
    "        if secret == 44:\n",
    "            print(\"You are granted entry\")\n",
    "            break\n",
    "\n",
    "    except ValueError:\n",
    "        print(\"Enter valid number\")\n",
    "    \n",
    "    else:\n",
    "        print(\"Nothing will be printed\")"
   ]
  },
  {
   "cell_type": "code",
   "execution_count": 4,
   "metadata": {},
   "outputs": [
    {
     "name": "stdout",
     "output_type": "stream",
     "text": [
      "Enter secret number44\n",
      "You are granted entry\n",
      "Nothing will be printed\n"
     ]
    }
   ],
   "source": [
    "#break is executed and yet else clause ran???\n",
    "\n",
    "try:\n",
    "\n",
    "    while True:    \n",
    "        secret = int(input(\"Enter secret number\"))\n",
    "        if secret == 44:\n",
    "            print(\"You are granted entry\")\n",
    "            break\n",
    "\n",
    "except ValueError:\n",
    "    print(\"Enter valid number\")\n",
    "    \n",
    "else:\n",
    "    print(\"Nothing will be printed\")"
   ]
  },
  {
   "cell_type": "code",
   "execution_count": 10,
   "metadata": {},
   "outputs": [],
   "source": [
    "def f(a,b):\n",
    "    try:\n",
    "        a.append(b)\n",
    "        print(a)    #if return a is used here, else clause won't run\n",
    "    \n",
    "    except AttributeError:\n",
    "        print('first argument has to be a list')\n",
    "    \n",
    "    else:\n",
    "        print('test message')\n",
    "\n",
    " #exception  raised so else clause won't run       "
   ]
  },
  {
   "cell_type": "code",
   "execution_count": 11,
   "metadata": {},
   "outputs": [
    {
     "name": "stdout",
     "output_type": "stream",
     "text": [
      "first argument has to be a list\n"
     ]
    }
   ],
   "source": [
    "f(2,3)"
   ]
  },
  {
   "cell_type": "code",
   "execution_count": 12,
   "metadata": {},
   "outputs": [
    {
     "name": "stdout",
     "output_type": "stream",
     "text": [
      "[3]\n",
      "test message\n"
     ]
    }
   ],
   "source": [
    "f([],3) #no exception raised, else clause executed"
   ]
  },
  {
   "cell_type": "code",
   "execution_count": 15,
   "metadata": {},
   "outputs": [],
   "source": [
    "def f(a,b):\n",
    "    try:\n",
    "        a.append(b)\n",
    "        return a      #if this return executed, function will be exited \n",
    "    \n",
    "    except AttributeError:\n",
    "        print('first argument has to be a list')\n",
    "    \n",
    "    else:\n",
    "        print('test message')"
   ]
  },
  {
   "cell_type": "code",
   "execution_count": 16,
   "metadata": {},
   "outputs": [
    {
     "data": {
      "text/plain": [
       "[2]"
      ]
     },
     "execution_count": 16,
     "metadata": {},
     "output_type": "execute_result"
    }
   ],
   "source": [
    "f([],2)"
   ]
  },
  {
   "cell_type": "markdown",
   "metadata": {},
   "source": [
    "A note about above example, functions exit as soon as they execute `return` statement. It doesn't matter if your rest of the code was executed or not. "
   ]
  },
  {
   "cell_type": "code",
   "execution_count": 19,
   "metadata": {},
   "outputs": [],
   "source": [
    "def f(a):\n",
    "    return a\n",
    "    print(a*2)"
   ]
  },
  {
   "cell_type": "code",
   "execution_count": 20,
   "metadata": {},
   "outputs": [
    {
     "data": {
      "text/plain": [
       "32"
      ]
     },
     "execution_count": 20,
     "metadata": {},
     "output_type": "execute_result"
    }
   ],
   "source": [
    "f(32)"
   ]
  },
  {
   "cell_type": "code",
   "execution_count": 60,
   "metadata": {},
   "outputs": [
    {
     "name": "stdout",
     "output_type": "stream",
     "text": [
      "OS error: [Errno 2] No such file or directory: 'myfile1.txt'\n"
     ]
    }
   ],
   "source": [
    "import sys\n",
    "\n",
    "try:\n",
    "    f = open('myfile1.txt')\n",
    "    s = f.readline()\n",
    "    i = int(s.strip())\n",
    "except OSError as err:\n",
    "    print(\"OS error: {0}\".format(err))\n",
    "except ValueError:\n",
    "    print(\"Could not convert data to an integer.\")\n",
    "except:\n",
    "    print(\"Unexpected error:\", sys.exc_info()[0])\n",
    "    raise"
   ]
  },
  {
   "cell_type": "markdown",
   "metadata": {},
   "source": [
    "-  Rrun this program w/o any existing 'myfile1'. It will raise `OSError`.\n",
    "-  Save a text file named 'myfile' with some text content and then run the program. It will raise `ValueError`.\n",
    "-  Type 'inta' in place of 'int' in `int()` in `try` clause, then run the program. It will raise `Unexpected error` in third `except` clause. Also notice the use of `sys.exc_info()` function,\n",
    "-  If we omit `raise`, exception will still be raised but without any additional details. Try running the program with and w/o `raise` in third `except` clause.\n"
   ]
  },
  {
   "cell_type": "markdown",
   "metadata": {},
   "source": [
    "#### `finally` clause\n",
    "\n",
    " - There can only be at most one `finally`clause. \n",
    " - These clauses are always executed regardless of what happens in other clauses. If an exception is raised in `try` clause and is not handled, it is saved until `finally` is executed and then it is reraised. However, if `return`, `break` or `coninue` is executed in `finally` clause, the saved exception is discarded.\n",
    " - If a function has `try-finally` suit of clauses with `return` statements, the return value and any exception raised in `try` clause will be discarded and `return` value of `finally` clause will be used.  \n",
    " - If the `try` statement reaches a `break`, `continue` or `return` statement, the `finally` clause will execute just prior to the `break`, `continue` or `return` statement’s execution.\n",
    "\n",
    "\n",
    "In real world applications, the `finally` clause is useful for releasing external resources (such as files or network connections), regardless of whether the use of the resource was successful."
   ]
  },
  {
   "cell_type": "code",
   "execution_count": 21,
   "metadata": {},
   "outputs": [
    {
     "name": "stdout",
     "output_type": "stream",
     "text": [
      "division by 0 not allowed\n",
      "this will always be executed at the end\n"
     ]
    }
   ],
   "source": [
    "try:\n",
    "    1/0\n",
    "    \n",
    "except ZeroDivisionError:                #exception is handled\n",
    "    print(\"division by 0 not allowed\")\n",
    "    \n",
    "finally:\n",
    "    print(\"this will always be executed at the end\")\n",
    "    "
   ]
  },
  {
   "cell_type": "markdown",
   "metadata": {},
   "source": [
    "In example below,the `ZeroDivisionError` exception is raised but is not handled. So this exception is saved until the execution of `finally` clause. It is reraised after `finally` clause is executed."
   ]
  },
  {
   "cell_type": "code",
   "execution_count": 22,
   "metadata": {},
   "outputs": [
    {
     "name": "stdout",
     "output_type": "stream",
     "text": [
      "this will always be executed at the end\n"
     ]
    },
    {
     "ename": "ZeroDivisionError",
     "evalue": "division by zero",
     "output_type": "error",
     "traceback": [
      "\u001b[1;31m---------------------------------------------------------------------------\u001b[0m",
      "\u001b[1;31mZeroDivisionError\u001b[0m                         Traceback (most recent call last)",
      "\u001b[1;32m<ipython-input-22-e4155e74e639>\u001b[0m in \u001b[0;36m<module>\u001b[1;34m\u001b[0m\n\u001b[0;32m      1\u001b[0m \u001b[1;32mtry\u001b[0m\u001b[1;33m:\u001b[0m\u001b[1;33m\u001b[0m\u001b[1;33m\u001b[0m\u001b[0m\n\u001b[1;32m----> 2\u001b[1;33m     \u001b[1;36m1\u001b[0m\u001b[1;33m/\u001b[0m\u001b[1;36m0\u001b[0m\u001b[1;33m\u001b[0m\u001b[1;33m\u001b[0m\u001b[0m\n\u001b[0m\u001b[0;32m      3\u001b[0m \u001b[1;33m\u001b[0m\u001b[0m\n\u001b[0;32m      4\u001b[0m \u001b[1;32mexcept\u001b[0m \u001b[0mNameError\u001b[0m\u001b[1;33m:\u001b[0m\u001b[1;33m\u001b[0m\u001b[1;33m\u001b[0m\u001b[0m\n\u001b[0;32m      5\u001b[0m     \u001b[0mprint\u001b[0m\u001b[1;33m(\u001b[0m\u001b[1;34m\"name is not defined\"\u001b[0m\u001b[1;33m)\u001b[0m\u001b[1;33m\u001b[0m\u001b[1;33m\u001b[0m\u001b[0m\n",
      "\u001b[1;31mZeroDivisionError\u001b[0m: division by zero"
     ]
    }
   ],
   "source": [
    "try:\n",
    "    1/0\n",
    "    \n",
    "except NameError:                \n",
    "    print(\"name is not defined\")\n",
    "    \n",
    "finally:\n",
    "    print(\"this will always be executed at the end\")\n",
    "    "
   ]
  },
  {
   "cell_type": "code",
   "execution_count": 23,
   "metadata": {},
   "outputs": [],
   "source": [
    "def f(a,b):\n",
    "    \n",
    "    try:\n",
    "        return  a/b\n",
    "    finally:\n",
    "        return 42\n",
    "    \n",
    "    "
   ]
  },
  {
   "cell_type": "code",
   "execution_count": 25,
   "metadata": {},
   "outputs": [
    {
     "data": {
      "text/plain": [
       "42"
      ]
     },
     "execution_count": 25,
     "metadata": {},
     "output_type": "execute_result"
    }
   ],
   "source": [
    "f(3,2)"
   ]
  },
  {
   "cell_type": "code",
   "execution_count": 26,
   "metadata": {},
   "outputs": [
    {
     "data": {
      "text/plain": [
       "42"
      ]
     },
     "execution_count": 26,
     "metadata": {},
     "output_type": "execute_result"
    }
   ],
   "source": [
    "f(1,0)"
   ]
  },
  {
   "cell_type": "code",
   "execution_count": 33,
   "metadata": {},
   "outputs": [],
   "source": [
    "def demo1():\n",
    "    try:\n",
    "        raise RuntimeError #\"To Force Issue\"\n",
    "    except:\n",
    "        return 1\n",
    "    else:\n",
    "        return 2\n",
    "    finally:\n",
    "        return 3\n",
    "\n",
    "def demo2():\n",
    "    try:\n",
    "        try:\n",
    "            raise RuntimeError #\"To Force Issue\"\n",
    "        except:\n",
    "            return 1\n",
    "        else:\n",
    "            return 2\n",
    "        finally:\n",
    "            return 3\n",
    "    except:\n",
    "        print(4)\n",
    "    else:\n",
    "        print(5)\n",
    "    finally:\n",
    "        print(6)\n"
   ]
  },
  {
   "cell_type": "code",
   "execution_count": 34,
   "metadata": {},
   "outputs": [
    {
     "data": {
      "text/plain": [
       "3"
      ]
     },
     "execution_count": 34,
     "metadata": {},
     "output_type": "execute_result"
    }
   ],
   "source": [
    "demo1()"
   ]
  },
  {
   "cell_type": "code",
   "execution_count": 35,
   "metadata": {},
   "outputs": [
    {
     "name": "stdout",
     "output_type": "stream",
     "text": [
      "6\n"
     ]
    },
    {
     "data": {
      "text/plain": [
       "3"
      ]
     },
     "execution_count": 35,
     "metadata": {},
     "output_type": "execute_result"
    }
   ],
   "source": [
    "demo2()"
   ]
  },
  {
   "cell_type": "markdown",
   "metadata": {},
   "source": [
    "#### Raising forced exception and `raise` statement\n",
    "\n",
    "You can also force a specified exception to occur by using `raise` statement - \n"
   ]
  },
  {
   "cell_type": "code",
   "execution_count": 37,
   "metadata": {},
   "outputs": [
    {
     "ename": "NameError",
     "evalue": "",
     "output_type": "error",
     "traceback": [
      "\u001b[1;31m---------------------------------------------------------------------------\u001b[0m",
      "\u001b[1;31mNameError\u001b[0m                                 Traceback (most recent call last)",
      "\u001b[1;32m<ipython-input-37-1d90210dd9ab>\u001b[0m in \u001b[0;36m<module>\u001b[1;34m\u001b[0m\n\u001b[1;32m----> 1\u001b[1;33m \u001b[1;32mraise\u001b[0m \u001b[0mNameError\u001b[0m\u001b[1;33m(\u001b[0m\u001b[1;33m)\u001b[0m\u001b[1;33m\u001b[0m\u001b[1;33m\u001b[0m\u001b[0m\n\u001b[0m",
      "\u001b[1;31mNameError\u001b[0m: "
     ]
    }
   ],
   "source": [
    "raise NameError #equivalent to calling `raise NameError()`\n"
   ]
  },
  {
   "cell_type": "code",
   "execution_count": 38,
   "metadata": {},
   "outputs": [
    {
     "ename": "NameError",
     "evalue": "Hi",
     "output_type": "error",
     "traceback": [
      "\u001b[1;31m---------------------------------------------------------------------------\u001b[0m",
      "\u001b[1;31mNameError\u001b[0m                                 Traceback (most recent call last)",
      "\u001b[1;32m<ipython-input-38-13796227c2a3>\u001b[0m in \u001b[0;36m<module>\u001b[1;34m\u001b[0m\n\u001b[1;32m----> 1\u001b[1;33m \u001b[1;32mraise\u001b[0m \u001b[0mNameError\u001b[0m\u001b[1;33m(\u001b[0m\u001b[1;34m\"Hi\"\u001b[0m\u001b[1;33m)\u001b[0m\u001b[1;33m\u001b[0m\u001b[1;33m\u001b[0m\u001b[0m\n\u001b[0m",
      "\u001b[1;31mNameError\u001b[0m: Hi"
     ]
    }
   ],
   "source": [
    "raise NameError(\"Hi\")"
   ]
  },
  {
   "cell_type": "markdown",
   "metadata": {},
   "source": [
    "Of course, we can handle these raised errors - "
   ]
  },
  {
   "cell_type": "code",
   "execution_count": 40,
   "metadata": {},
   "outputs": [
    {
     "name": "stdout",
     "output_type": "stream",
     "text": [
      "Forced error\n"
     ]
    }
   ],
   "source": [
    "try:\n",
    "    raise NameError(\"Forced error\")\n",
    "except NameError as e:\n",
    "    print(e)\n",
    "    \n"
   ]
  },
  {
   "cell_type": "markdown",
   "metadata": {},
   "source": [
    "We saw earlier that a bare `except` clause will handle every exception raised in `try` clause. This way, although exceptions are handled, we get no information as to what exception is handled by a bare `except` clause. We can use bare `raise` statement to re-raise the exception. Also, we can use bare `raise` to reraise any exception even though it was handled."
   ]
  },
  {
   "cell_type": "code",
   "execution_count": 41,
   "metadata": {},
   "outputs": [
    {
     "name": "stdout",
     "output_type": "stream",
     "text": [
      "Something bad happened\n"
     ]
    },
    {
     "ename": "ZeroDivisionError",
     "evalue": "division by zero",
     "output_type": "error",
     "traceback": [
      "\u001b[1;31m---------------------------------------------------------------------------\u001b[0m",
      "\u001b[1;31mZeroDivisionError\u001b[0m                         Traceback (most recent call last)",
      "\u001b[1;32m<ipython-input-41-37b7c9555899>\u001b[0m in \u001b[0;36m<module>\u001b[1;34m\u001b[0m\n\u001b[0;32m      1\u001b[0m \u001b[1;32mtry\u001b[0m\u001b[1;33m:\u001b[0m\u001b[1;33m\u001b[0m\u001b[1;33m\u001b[0m\u001b[0m\n\u001b[1;32m----> 2\u001b[1;33m     \u001b[1;36m1\u001b[0m\u001b[1;33m/\u001b[0m\u001b[1;36m0\u001b[0m\u001b[1;33m\u001b[0m\u001b[1;33m\u001b[0m\u001b[0m\n\u001b[0m\u001b[0;32m      3\u001b[0m \u001b[1;33m\u001b[0m\u001b[0m\n\u001b[0;32m      4\u001b[0m \u001b[1;32mexcept\u001b[0m \u001b[0mZeroDivisionError\u001b[0m\u001b[1;33m:\u001b[0m\u001b[1;33m\u001b[0m\u001b[1;33m\u001b[0m\u001b[0m\n\u001b[0;32m      5\u001b[0m     \u001b[0mprint\u001b[0m\u001b[1;33m(\u001b[0m\u001b[1;34m\"Something bad happened\"\u001b[0m\u001b[1;33m)\u001b[0m\u001b[1;33m\u001b[0m\u001b[1;33m\u001b[0m\u001b[0m\n",
      "\u001b[1;31mZeroDivisionError\u001b[0m: division by zero"
     ]
    }
   ],
   "source": [
    "try:\n",
    "    1/0\n",
    "    \n",
    "except ZeroDivisionError:\n",
    "    print(\"Something bad happened\")\n",
    "    raise"
   ]
  },
  {
   "cell_type": "code",
   "execution_count": 42,
   "metadata": {},
   "outputs": [
    {
     "ename": "ZeroDivisionError",
     "evalue": "division by zero",
     "output_type": "error",
     "traceback": [
      "\u001b[1;31m---------------------------------------------------------------------------\u001b[0m",
      "\u001b[1;31mZeroDivisionError\u001b[0m                         Traceback (most recent call last)",
      "\u001b[1;32m<ipython-input-42-4a4cbbac6dcc>\u001b[0m in \u001b[0;36m<module>\u001b[1;34m\u001b[0m\n\u001b[0;32m      1\u001b[0m \u001b[1;32mtry\u001b[0m\u001b[1;33m:\u001b[0m\u001b[1;33m\u001b[0m\u001b[1;33m\u001b[0m\u001b[0m\n\u001b[1;32m----> 2\u001b[1;33m     \u001b[1;36m1\u001b[0m\u001b[1;33m/\u001b[0m\u001b[1;36m0\u001b[0m\u001b[1;33m\u001b[0m\u001b[1;33m\u001b[0m\u001b[0m\n\u001b[0m\u001b[0;32m      3\u001b[0m \u001b[1;32mexcept\u001b[0m\u001b[1;33m:\u001b[0m\u001b[1;33m\u001b[0m\u001b[1;33m\u001b[0m\u001b[0m\n\u001b[0;32m      4\u001b[0m     \u001b[1;32mraise\u001b[0m\u001b[1;33m\u001b[0m\u001b[1;33m\u001b[0m\u001b[0m\n",
      "\u001b[1;31mZeroDivisionError\u001b[0m: division by zero"
     ]
    }
   ],
   "source": [
    "try:\n",
    "    1/0\n",
    "except:\n",
    "    raise"
   ]
  },
  {
   "cell_type": "markdown",
   "metadata": {},
   "source": [
    "#### `sys.exc_info()`"
   ]
  },
  {
   "cell_type": "markdown",
   "metadata": {},
   "source": [
    "The `exc_info()` function from `sys` returns a tuple `(type, value, traceback)` regarding the most recent exception caught by an `except` clause"
   ]
  },
  {
   "cell_type": "code",
   "execution_count": 55,
   "metadata": {},
   "outputs": [
    {
     "name": "stdout",
     "output_type": "stream",
     "text": [
      "<class 'ZeroDivisionError'>\n",
      "division by zero\n",
      "<traceback object at 0x00000099AC264400>\n"
     ]
    }
   ],
   "source": [
    "import sys\n",
    "\n",
    "try:\n",
    "    1/0\n",
    "    \n",
    "except:\n",
    "    print(sys.exc_info()[0])\n",
    "    print(sys.exc_info()[1])\n",
    "    print(sys.exc_info()[2])"
   ]
  },
  {
   "cell_type": "code",
   "execution_count": 43,
   "metadata": {},
   "outputs": [
    {
     "ename": "RuntimeError",
     "evalue": "Failed to open database",
     "output_type": "error",
     "traceback": [
      "\u001b[1;31m---------------------------------------------------------------------------\u001b[0m",
      "\u001b[1;31mOSError\u001b[0m                                   Traceback (most recent call last)",
      "\u001b[1;32m<ipython-input-43-a028d8f04f31>\u001b[0m in \u001b[0;36m<module>\u001b[1;34m\u001b[0m\n\u001b[0;32m      4\u001b[0m \u001b[1;32mtry\u001b[0m\u001b[1;33m:\u001b[0m\u001b[1;33m\u001b[0m\u001b[1;33m\u001b[0m\u001b[0m\n\u001b[1;32m----> 5\u001b[1;33m     \u001b[0mfunc\u001b[0m\u001b[1;33m(\u001b[0m\u001b[1;33m)\u001b[0m\u001b[1;33m\u001b[0m\u001b[1;33m\u001b[0m\u001b[0m\n\u001b[0m\u001b[0;32m      6\u001b[0m \u001b[1;32mexcept\u001b[0m \u001b[0mIOError\u001b[0m \u001b[1;32mas\u001b[0m \u001b[0mexc\u001b[0m\u001b[1;33m:\u001b[0m\u001b[1;33m\u001b[0m\u001b[1;33m\u001b[0m\u001b[0m\n",
      "\u001b[1;32m<ipython-input-43-a028d8f04f31>\u001b[0m in \u001b[0;36mfunc\u001b[1;34m()\u001b[0m\n\u001b[0;32m      1\u001b[0m \u001b[1;32mdef\u001b[0m \u001b[0mfunc\u001b[0m\u001b[1;33m(\u001b[0m\u001b[1;33m)\u001b[0m\u001b[1;33m:\u001b[0m\u001b[1;33m\u001b[0m\u001b[1;33m\u001b[0m\u001b[0m\n\u001b[1;32m----> 2\u001b[1;33m     \u001b[1;32mraise\u001b[0m \u001b[0mIOError\u001b[0m\u001b[1;33m\u001b[0m\u001b[1;33m\u001b[0m\u001b[0m\n\u001b[0m\u001b[0;32m      3\u001b[0m \u001b[1;33m\u001b[0m\u001b[0m\n",
      "\u001b[1;31mOSError\u001b[0m: ",
      "\nThe above exception was the direct cause of the following exception:\n",
      "\u001b[1;31mRuntimeError\u001b[0m                              Traceback (most recent call last)",
      "\u001b[1;32m<ipython-input-43-a028d8f04f31>\u001b[0m in \u001b[0;36m<module>\u001b[1;34m\u001b[0m\n\u001b[0;32m      5\u001b[0m     \u001b[0mfunc\u001b[0m\u001b[1;33m(\u001b[0m\u001b[1;33m)\u001b[0m\u001b[1;33m\u001b[0m\u001b[1;33m\u001b[0m\u001b[0m\n\u001b[0;32m      6\u001b[0m \u001b[1;32mexcept\u001b[0m \u001b[0mIOError\u001b[0m \u001b[1;32mas\u001b[0m \u001b[0mexc\u001b[0m\u001b[1;33m:\u001b[0m\u001b[1;33m\u001b[0m\u001b[1;33m\u001b[0m\u001b[0m\n\u001b[1;32m----> 7\u001b[1;33m     \u001b[1;32mraise\u001b[0m \u001b[0mRuntimeError\u001b[0m\u001b[1;33m(\u001b[0m\u001b[1;34m'Failed to open database'\u001b[0m\u001b[1;33m)\u001b[0m \u001b[1;32mfrom\u001b[0m \u001b[0mexc\u001b[0m\u001b[1;33m\u001b[0m\u001b[1;33m\u001b[0m\u001b[0m\n\u001b[0m",
      "\u001b[1;31mRuntimeError\u001b[0m: Failed to open database"
     ]
    }
   ],
   "source": [
    "def func():\n",
    "...     raise IOError\n",
    "...\n",
    ">>> try:\n",
    "...     func()\n",
    "... except IOError as exc:\n",
    "...     raise RuntimeError('Failed to open database') from exc"
   ]
  },
  {
   "cell_type": "markdown",
   "metadata": {},
   "source": [
    "#### Defining custom exceptions\n",
    "\n",
    "In addition to built-in exceptions, it is possible to define custom exceptions through class inheritance. For instance, if you want a special kind of `ValueError`, you can do this:"
   ]
  },
  {
   "cell_type": "code",
   "execution_count": 56,
   "metadata": {},
   "outputs": [
    {
     "ename": "CustomError",
     "evalue": "You are wrong because I say so.",
     "output_type": "error",
     "traceback": [
      "\u001b[1;31m---------------------------------------------------------------------------\u001b[0m",
      "\u001b[1;31mCustomError\u001b[0m                               Traceback (most recent call last)",
      "\u001b[1;32m<ipython-input-56-29520c59f9ca>\u001b[0m in \u001b[0;36m<module>\u001b[1;34m\u001b[0m\n\u001b[0;32m      2\u001b[0m     \u001b[1;32mpass\u001b[0m\u001b[1;33m\u001b[0m\u001b[1;33m\u001b[0m\u001b[0m\n\u001b[0;32m      3\u001b[0m \u001b[1;33m\u001b[0m\u001b[0m\n\u001b[1;32m----> 4\u001b[1;33m \u001b[1;32mraise\u001b[0m \u001b[0mCustomError\u001b[0m\u001b[1;33m(\u001b[0m\u001b[1;34m'You are wrong because I say so.'\u001b[0m\u001b[1;33m)\u001b[0m\u001b[1;33m\u001b[0m\u001b[1;33m\u001b[0m\u001b[0m\n\u001b[0m\u001b[0;32m      5\u001b[0m \u001b[1;33m\u001b[0m\u001b[0m\n",
      "\u001b[1;31mCustomError\u001b[0m: You are wrong because I say so."
     ]
    }
   ],
   "source": [
    "class CustomError(ValueError):\n",
    "    pass\n",
    "\n",
    "raise CustomError('You are wrong because I say so.')\n",
    "\n"
   ]
  },
  {
   "cell_type": "code",
   "execution_count": 57,
   "metadata": {},
   "outputs": [],
   "source": [
    "a,b = 1,0\n",
    "\n",
    "from contextlib import suppress\n",
    "with suppress(ZeroDivisionError):\n",
    "    print(a/b)\n",
    "\n",
    "# error suppressed\n"
   ]
  },
  {
   "cell_type": "markdown",
   "metadata": {},
   "source": [
    "#### Exception hiearchy\n",
    "\n",
    "Every exception which is raised is an instance of a class derived form `BaseException`. For example, `AttributeError` is subclassed from `Exception` class which in turn is subclassed from `BaseException`. \n",
    "\n",
    "[Exception hiearchy](https://docs.python.org/3.9/library/exceptions.html#exception-hierarchy)"
   ]
  },
  {
   "cell_type": "markdown",
   "metadata": {},
   "source": [
    "### Object Oriented Programming\n",
    "\n",
    "Phew! OOP finally!\n",
    "\n",
    "\n",
    "You may think that you don't know anything about OOP or classes but guess what, you have been using these concepts all along. Practically every program you ever wrote in Python has implicitly used elements of OOP and classes. For examples - when you do something like `a = list(b)` or `some_list.append()` or `b = string(c)` or `for i in range(10):`, you were actually using classes. And let me admit: I kind of lied when I said that `list()`, `tuple()`, `range()` and `set()` are built-in functions. These aren't actually functions. They are classes but we pretended as if they were functions (because both classes and functions are *callables*). \n",
    "\n",
    "\n",
    "It is not like there are problems which can *only* be solved through OOP. At this point, I can't resist myself from quoting Joe Armstrong (creator of Erlang language) because it always makes me laugh: -\n",
    "\n",
    "<br>\n",
    "\n",
    ">“Because the problem with object-oriented languages is they've got all this implicit environment that they carry around with them. You wanted a banana but what you got was a gorilla holding the banana and the entire jungle.”\n",
    "\n",
    "<br>\n",
    "\n",
    "OOP is merely a programming paradigm where we think differently about data and functions/methods which work on data. One other paradigm is **imperative programming**. Languages like C are based on imperative programming paradigm while JAVA, C++ are OOP pardigm based. Python supports both paradigms. But how? The key difference between them is that in imperative programming, data and functions are separate from each other but in OOP, they are entwined. Think about a dog. As soon as you think about a dog, the idea that \"All dogs bark\" almost immediately comes to mind. The function \"barking\" is attached to dogs. **God (or Nature) attaches this act of barking as soon as he creates a dog object.** That is at the heart of OOP. In imperative programming, you create a dog object and then you *separately* create a 'barking' function. In this case, you can still make dog bark but it is not its inherent characterstic. \n",
    "\n",
    "\n",
    "Note that even though OOP as a paradigm exists and is talked about as if it is some concrete concept, the exact formalism of OOP varies. Besides, each language implement OOP in its own ways. Java way of doing OOP is different from that of Python. Anyways....\n",
    "\n",
    "\n",
    "#### Classes and instances\n",
    "\n",
    "A Class is a concept or blueprint. The sole object of having a class is to define things and descibe rules. It is like a standardized car manufacturing manual which helps you build actual cars. Put another way, a student is a generic term. It captures some ideas about what we mean when we refer someone as a student.  You aren't actually talking about some particular student named Peter or Steve. The actual cars you build with the help of manual are instances of a class 'car'. The actual student named 'Steve' is an instance of a class 'Student'. And this Steve guy will have all the properties and methods of a *general student* (or defined by class 'Student'). \n",
    "\n",
    "In Python, you define a class like this:\n",
    "\n",
    "\n",
    "\n",
    "\n",
    "\n",
    "\n",
    "\n",
    "\n",
    "\n",
    " \n",
    "\n",
    "\n",
    "\n",
    "\n",
    "\n",
    "#### Classes\n",
    "\n"
   ]
  },
  {
   "cell_type": "code",
   "execution_count": 5,
   "metadata": {},
   "outputs": [],
   "source": [
    "class Car:\n",
    "    pass"
   ]
  },
  {
   "cell_type": "markdown",
   "metadata": {},
   "source": [
    "classes are defined by using the statement `class` followed by a class name. For class names, we follow CamelCase convention (ex. - `MyClass`, `ElectricCar` etc). So far, we haven't described anything about this class `Car`. We used the `pass` as a filler because class body can't be empty. So what can we do with this class? Not much. The only thing we can do is to create instances of this classes. We create instances like this -  "
   ]
  },
  {
   "cell_type": "code",
   "execution_count": 8,
   "metadata": {},
   "outputs": [],
   "source": [
    "car1 = Car()"
   ]
  },
  {
   "cell_type": "markdown",
   "metadata": {},
   "source": [
    "We can create as many instances as we wish. You can use `isinstance` function to see that `car1` is an instance of class `Car`."
   ]
  },
  {
   "cell_type": "code",
   "execution_count": 9,
   "metadata": {},
   "outputs": [
    {
     "data": {
      "text/plain": [
       "True"
      ]
     },
     "execution_count": 9,
     "metadata": {},
     "output_type": "execute_result"
    }
   ],
   "source": [
    "isinstance(car1, Car)"
   ]
  },
  {
   "cell_type": "markdown",
   "metadata": {},
   "source": [
    "Alternatively, you can access `__class__` attribute of an instance to find out its class - "
   ]
  },
  {
   "cell_type": "code",
   "execution_count": 75,
   "metadata": {},
   "outputs": [
    {
     "name": "stdout",
     "output_type": "stream",
     "text": [
      "<class '__main__.Car'>\n"
     ]
    }
   ],
   "source": [
    "print(car1.__class__)"
   ]
  },
  {
   "cell_type": "code",
   "execution_count": 187,
   "metadata": {},
   "outputs": [
    {
     "data": {
      "text/plain": [
       "<class '__main__.Car'>"
      ]
     },
     "execution_count": 187,
     "metadata": {},
     "output_type": "execute_result"
    }
   ],
   "source": [
    "type(car1)"
   ]
  },
  {
   "cell_type": "markdown",
   "metadata": {},
   "source": []
  },
  {
   "cell_type": "markdown",
   "metadata": {},
   "source": [
    "You may have noticed the similarity between above and calling a function. That is how we pretended that `list()` etc are functions. Let's  use `list()` again -"
   ]
  },
  {
   "cell_type": "code",
   "execution_count": 12,
   "metadata": {},
   "outputs": [
    {
     "data": {
      "text/plain": [
       "True"
      ]
     },
     "execution_count": 12,
     "metadata": {},
     "output_type": "execute_result"
    }
   ],
   "source": [
    "some_list = list()\n",
    "isinstance(some_list, list)"
   ]
  },
  {
   "cell_type": "markdown",
   "metadata": {},
   "source": [
    "See? `some_list` is an instance of `list` class. "
   ]
  },
  {
   "cell_type": "markdown",
   "metadata": {},
   "source": [
    "Since everything is an object in Python, our classes and their instances are also objects and like every object, our classes and instnaces can have their own attributes and methods. For example, `list` class has its own `append` method. Methods and attributes associated with an object can be accessed by using `.` notation. You have done this many times. Let's recap - \n",
    "\n"
   ]
  },
  {
   "cell_type": "code",
   "execution_count": 13,
   "metadata": {},
   "outputs": [
    {
     "data": {
      "text/plain": [
       "True"
      ]
     },
     "execution_count": 13,
     "metadata": {},
     "output_type": "execute_result"
    }
   ],
   "source": [
    "a = int(4)\n",
    "isinstance(a, int)"
   ]
  },
  {
   "cell_type": "code",
   "execution_count": 14,
   "metadata": {},
   "outputs": [
    {
     "data": {
      "text/plain": [
       "4"
      ]
     },
     "execution_count": 14,
     "metadata": {},
     "output_type": "execute_result"
    }
   ],
   "source": [
    "a.numerator #numerator attribute"
   ]
  },
  {
   "cell_type": "code",
   "execution_count": 15,
   "metadata": {},
   "outputs": [
    {
     "data": {
      "text/plain": [
       "(4, 1)"
      ]
     },
     "execution_count": 15,
     "metadata": {},
     "output_type": "execute_result"
    }
   ],
   "source": [
    "a.as_integer_ratio() #'as_integer_ratio' is a method "
   ]
  },
  {
   "cell_type": "markdown",
   "metadata": {},
   "source": [
    "So what methods and attributes does our `Car` class have? None. Because, unlike `int` or `list`, `Car` is user defined class and we haven't added anything to it. Didn't I say that our class was pretty much useless? Well, let's add stuff to our cool `Car` class.  "
   ]
  },
  {
   "cell_type": "code",
   "execution_count": 120,
   "metadata": {},
   "outputs": [
    {
     "name": "stdout",
     "output_type": "stream",
     "text": [
      "Car goes broom!!!\n"
     ]
    }
   ],
   "source": [
    "class Car:\n",
    "    wheels = 4\n",
    "    \n",
    "    def run(self):\n",
    "        print(\"Car goes broom!!!\")\n",
    "    \n",
    "car1 = Car()\n",
    "car1.run()"
   ]
  },
  {
   "cell_type": "code",
   "execution_count": 121,
   "metadata": {},
   "outputs": [
    {
     "data": {
      "text/plain": [
       "(4, 4)"
      ]
     },
     "execution_count": 121,
     "metadata": {},
     "output_type": "execute_result"
    }
   ],
   "source": [
    "car1.wheels, Car.wheels"
   ]
  },
  {
   "cell_type": "markdown",
   "metadata": {},
   "source": [
    "Now we have added few things to our `Car` class. We have added a **class attribute** `wheels` with value `4`. This attribute is defined at class level hence the name 'class attribute'. This attribute is shared by all instances. As we saw above, this attribute can be accessed by both the class and its instances. We can always change the value of this attribute - "
   ]
  },
  {
   "cell_type": "code",
   "execution_count": 122,
   "metadata": {},
   "outputs": [
    {
     "data": {
      "text/plain": [
       "'alloyed wheels'"
      ]
     },
     "execution_count": 122,
     "metadata": {},
     "output_type": "execute_result"
    }
   ],
   "source": [
    "Car.wheels = 'alloyed wheels'\n",
    "car1.wheels"
   ]
  },
  {
   "cell_type": "markdown",
   "metadata": {},
   "source": [
    "In above case, we have defined the class attribute inside the class body. We can define them from outside and they, too, will be shared by all instances.  "
   ]
  },
  {
   "cell_type": "code",
   "execution_count": 123,
   "metadata": {},
   "outputs": [],
   "source": [
    "Car.some_attribute = 'Foo'"
   ]
  },
  {
   "cell_type": "code",
   "execution_count": 124,
   "metadata": {},
   "outputs": [
    {
     "data": {
      "text/plain": [
       "'Foo'"
      ]
     },
     "execution_count": 124,
     "metadata": {},
     "output_type": "execute_result"
    }
   ],
   "source": [
    "car1.some_attribute"
   ]
  },
  {
   "cell_type": "markdown",
   "metadata": {},
   "source": [
    "However it is recommended that you define class attributes directly in the class body unless you have some good reasons. Also note that, with in the class body, class attributes are not referenced with their qualified name - \n",
    "\n",
    "```Python\n",
    "Class Test:\n",
    "    x = 4\n",
    "    y = x  #not Class.x\n",
    "```    \n",
    "\n",
    "So far, we have explicitly defined 2 class attributes (`wheels` and `some_attribute`). But Python also implicitly define some other attributes such as `__dict__` and `__bases___`"
   ]
  },
  {
   "cell_type": "code",
   "execution_count": 126,
   "metadata": {},
   "outputs": [
    {
     "name": "stdout",
     "output_type": "stream",
     "text": [
      "Pretty printing has been turned OFF\n"
     ]
    },
    {
     "data": {
      "text/plain": [
       "['__class__', '__delattr__', '__dict__', '__dir__', '__doc__', '__eq__', '__format__', '__ge__', '__getattribute__', '__gt__', '__hash__', '__init__', '__init_subclass__', '__le__', '__lt__', '__module__', '__ne__', '__new__', '__reduce__', '__reduce_ex__', '__repr__', '__setattr__', '__sizeof__', '__str__', '__subclasshook__', '__weakref__', 'run', 'some_attribute', 'wheels']"
      ]
     },
     "execution_count": 126,
     "metadata": {},
     "output_type": "execute_result"
    }
   ],
   "source": [
    "%pprint\n",
    "dir(Car)"
   ]
  },
  {
   "cell_type": "markdown",
   "metadata": {},
   "source": [
    "You can see user defined attributes are listed last in above list. There are many others which Python defined implicitly. We shall not dig into them for the time being. "
   ]
  },
  {
   "cell_type": "markdown",
   "metadata": {},
   "source": [
    "Another thing we added is `run()` function. In the context of OOP, they are called methods (like `append` is the method of list). Take a look at it again and notice that we have passed a strange parameter `self` to this function. Before we explain `self`, note that the first parameter for any method will always be `self`. Another thing to note that the parameter name `self` is used as a convention. You can of course use any other name in place of `self` but it is not recommended. There is a special place in hell for people who do otherwise. \n",
    "\n",
    "The parameter `self` refers to an instance on which method is called. When applied on an instance, the `self` argument is not passed as you have noticed in `car1.run()`. At first look, it is weird. When you write an ordinary function and run it without providing required arguments, Python complains. So what is happening here? Read on carefully - \n",
    "\n",
    "\n",
    "#### `instance.method()` is equivalent to `class.function(instance)`\n",
    "\n",
    "Let us first understand above assertion through examples - \n",
    "\n"
   ]
  },
  {
   "cell_type": "code",
   "execution_count": 28,
   "metadata": {},
   "outputs": [
    {
     "name": "stdout",
     "output_type": "stream",
     "text": [
      "Car goes broom!!!\n"
     ]
    }
   ],
   "source": [
    "car1.run()"
   ]
  },
  {
   "cell_type": "code",
   "execution_count": 30,
   "metadata": {},
   "outputs": [
    {
     "name": "stdout",
     "output_type": "stream",
     "text": [
      "Car goes broom!!!\n"
     ]
    }
   ],
   "source": [
    "Car.run(car1)"
   ]
  },
  {
   "cell_type": "code",
   "execution_count": 127,
   "metadata": {},
   "outputs": [
    {
     "data": {
      "text/plain": [
       "(<class 'method'>, <class 'function'>)"
      ]
     },
     "execution_count": 127,
     "metadata": {},
     "output_type": "execute_result"
    }
   ],
   "source": [
    "type(car1.run), type(Car.run)"
   ]
  },
  {
   "cell_type": "markdown",
   "metadata": {},
   "source": [
    "So we see that `car1.run()` is equivalent (but not same) to `Car.run(car1)`. \n",
    "\n",
    "What is happening here is that when we try to run `car1.run()`, the `run()` attribute is searched in the attribute list of `car1`. But we haven't defined `run()` attribute or  any other attribute for `car1`, so it is not found. You can verify that `car1` doesn't have any attribute - "
   ]
  },
  {
   "cell_type": "code",
   "execution_count": 32,
   "metadata": {},
   "outputs": [
    {
     "data": {
      "text/plain": [
       "{}"
      ]
     },
     "execution_count": 32,
     "metadata": {},
     "output_type": "execute_result"
    }
   ],
   "source": [
    "car1.__dict__"
   ]
  },
  {
   "cell_type": "markdown",
   "metadata": {},
   "source": [
    "Python then searches for this attribute in the attribute list of class. Recall that we added 3 attributes (`wheels`, `run` and `some_attribute`) to our `Car` class. So, `run` attribute is found here. How do we access it? Of course by `.` notation. But this attribute is actually a function which requires a parameter `self`. And what is the value of `self` here? It is `car1` because `self` refers to the current instance on which we are applying the method. So `car1.run()` translate to `Car.run(car1)` behind the curtains. \n",
    "\n",
    "1. `car1.run()` -> `car1` doesn't have any attribute `run()`. So it is searched in its class which is `Car`.\n",
    "2. `run` is the attribute of `Car` -> It is found in the attribute list of `Car` where this attribute is defined as a function. \n",
    "3. Accessing this through dot notation -> `Car.run(self)`\n",
    "4. `Run Car.run(car1)`\n",
    "\n",
    "You have actually done this even before you learned any OOP. Didn't I tell you were using OOP all along? See following example - "
   ]
  },
  {
   "cell_type": "code",
   "execution_count": 35,
   "metadata": {},
   "outputs": [],
   "source": [
    "some_list = list()  #a is an instance of of `list` class"
   ]
  },
  {
   "cell_type": "markdown",
   "metadata": {},
   "source": [
    "We created a fresh instance of list with name `some_list`. Note that this instance, per se, doesn't have any attribute. In fact, `list` class doesn't allow to add any attribute to its instances or itself. "
   ]
  },
  {
   "cell_type": "code",
   "execution_count": 37,
   "metadata": {},
   "outputs": [
    {
     "ename": "AttributeError",
     "evalue": "'list' object has no attribute 'aa'",
     "output_type": "error",
     "traceback": [
      "\u001b[1;31m---------------------------------------------------------------------------\u001b[0m",
      "\u001b[1;31mAttributeError\u001b[0m                            Traceback (most recent call last)",
      "\u001b[1;32m<ipython-input-37-7ec44ed3212f>\u001b[0m in \u001b[0;36m<module>\u001b[1;34m\u001b[0m\n\u001b[1;32m----> 1\u001b[1;33m \u001b[0msome_list\u001b[0m\u001b[1;33m.\u001b[0m\u001b[0maa\u001b[0m \u001b[1;33m=\u001b[0m \u001b[1;36m33\u001b[0m  \u001b[1;31m##not allowed hence the error\u001b[0m\u001b[1;33m\u001b[0m\u001b[1;33m\u001b[0m\u001b[0m\n\u001b[0m",
      "\u001b[1;31mAttributeError\u001b[0m: 'list' object has no attribute 'aa'"
     ]
    }
   ],
   "source": [
    "some_list.aa = 33  ##not allowed hence the error"
   ]
  },
  {
   "cell_type": "code",
   "execution_count": 39,
   "metadata": {},
   "outputs": [],
   "source": [
    "some_list.append(2) #some_list doesn't have any attribute `append` but `list` class does. "
   ]
  },
  {
   "cell_type": "code",
   "execution_count": 41,
   "metadata": {},
   "outputs": [
    {
     "data": {
      "text/plain": [
       "[2]"
      ]
     },
     "execution_count": 41,
     "metadata": {},
     "output_type": "execute_result"
    }
   ],
   "source": [
    "some_list"
   ]
  },
  {
   "cell_type": "code",
   "execution_count": 43,
   "metadata": {},
   "outputs": [
    {
     "data": {
      "text/plain": [
       "True"
      ]
     },
     "execution_count": 43,
     "metadata": {},
     "output_type": "execute_result"
    }
   ],
   "source": [
    "'append' in list.__dict__"
   ]
  },
  {
   "cell_type": "markdown",
   "metadata": {},
   "source": [
    "In fact, if you have done `list.append(some_list, 2)` instead of `some_list.append(2)`, you would have got the same result. In the same vein, `Car.run(car1)` is equivalent to `car1.run()`. \n",
    "\n",
    "In case of `Car.run(car1)`, `run` is **unbounded** function while in case of `car1.run()`, it is an **bounded function**. [See also](https://stackoverflow.com/questions/6083090/in-python-whats-difference-between-some-string-lower-and-str-lowersome-stri?utm_source=pocket_mylist)\n",
    "\n",
    "**When an attribute for an instance is searched, it is first searched in instance's attribute-list. If not found there, it is then searched in the attribute-list of respective class and so on**\n",
    "\n",
    "Recall that - "
   ]
  },
  {
   "cell_type": "code",
   "execution_count": 46,
   "metadata": {},
   "outputs": [
    {
     "data": {
      "text/plain": [
       "'alloyed wheels'"
      ]
     },
     "execution_count": 46,
     "metadata": {},
     "output_type": "execute_result"
    }
   ],
   "source": [
    "car1.wheels"
   ]
  },
  {
   "cell_type": "markdown",
   "metadata": {},
   "source": [
    "In this case, too, `wheels` attribute isn't defined at instance level. It is defined at class level. So when we run `car1.wheels`, `wheels` is searched in instance's attribute list. Since it is not found there, it is then searched at class level and it is found there so `car1.wheels` is equivalent to `Car.wheels`. "
   ]
  },
  {
   "cell_type": "code",
   "execution_count": 47,
   "metadata": {},
   "outputs": [
    {
     "data": {
      "text/plain": [
       "True"
      ]
     },
     "execution_count": 47,
     "metadata": {},
     "output_type": "execute_result"
    }
   ],
   "source": [
    "car1.wheels is Car.wheels"
   ]
  },
  {
   "cell_type": "markdown",
   "metadata": {},
   "source": [
    "#### Instance attributes\n",
    "\n",
    "Let us review the example we were working on -"
   ]
  },
  {
   "cell_type": "code",
   "execution_count": 48,
   "metadata": {},
   "outputs": [],
   "source": [
    "class Car:\n",
    "    wheels = 4\n",
    "    \n",
    "    def run(self):\n",
    "        print(\"Car goes broom!!!\")"
   ]
  },
  {
   "cell_type": "markdown",
   "metadata": {},
   "source": [
    "So far, we have added a class attribute `wheels` (ignoring `some_attribute` which we added externally) and a class method. These 2 attributes are shared by all instances. But instances can have their own attributes. After all not all cars are going to look same. Some will be from Ford and some will be from Tesla and so on. Similarily they will come in different colors. So how do we add attributes to instances?\n",
    "\n",
    "**`__init__` magic method**:\n",
    "\n",
    "The `__init__` method is called constructor (or initializer). What it does is to initialize an instance with its initial state. This method run automatically every time an instance is created. Let us see how it works  - "
   ]
  },
  {
   "cell_type": "code",
   "execution_count": 1,
   "metadata": {},
   "outputs": [
    {
     "name": "stdout",
     "output_type": "stream",
     "text": [
      "red Ford Car goes broom!!!\n"
     ]
    }
   ],
   "source": [
    "class Car:\n",
    "    wheels = 4\n",
    "    \n",
    "#    def __init__(self, make, color):\n",
    " #       self.make_type = make\n",
    "  #      self.color_type = color\n",
    "    \n",
    "    def run(self, make, color):\n",
    "        print(\"%s %s Car goes broom!!!\" %(color, make))\n",
    "        \n",
    "car = Car()\n",
    "car.run('Ford', 'red')        "
   ]
  },
  {
   "cell_type": "markdown",
   "metadata": {},
   "source": [
    "Although we provided a red Ford car, our `car` instance doesn't have any `color` or `make` attribute. It'd be nice if we can get something like `car.color = red` and `car.make = Ford`."
   ]
  },
  {
   "cell_type": "code",
   "execution_count": 135,
   "metadata": {},
   "outputs": [
    {
     "name": "stdout",
     "output_type": "stream",
     "text": [
      "red Ford Car goes broom!!!\n"
     ]
    }
   ],
   "source": [
    "class Car:\n",
    "    wheels = 4\n",
    "    \n",
    "    def run(self, make, color):\n",
    "        self.make_type = make\n",
    "        self.color_type = color\n",
    "        print(\"%s %s Car goes broom!!!\" %(self.color_type, self.make_type))\n",
    "        \n",
    "car = Car()\n",
    "car.run('Ford', 'red')        "
   ]
  },
  {
   "cell_type": "code",
   "execution_count": 136,
   "metadata": {},
   "outputs": [
    {
     "data": {
      "text/plain": [
       "('Ford', 'red')"
      ]
     },
     "execution_count": 136,
     "metadata": {},
     "output_type": "execute_result"
    }
   ],
   "source": [
    "car.make_type, car.color_type"
   ]
  },
  {
   "cell_type": "markdown",
   "metadata": {},
   "source": [
    "This is better. However, this can be done in much better way - "
   ]
  },
  {
   "cell_type": "code",
   "execution_count": 57,
   "metadata": {},
   "outputs": [],
   "source": [
    "class Car:\n",
    "    wheels = 4\n",
    "    \n",
    "    def __init__(self, make, color):\n",
    "        self.make_type = make\n",
    "        self.color_type = color\n",
    "    \n",
    "    def run(self):\n",
    "        print(\"Car goes broom!!!\")"
   ]
  },
  {
   "cell_type": "code",
   "execution_count": 58,
   "metadata": {},
   "outputs": [],
   "source": [
    "car1 = Car('Ford', 'red')\n",
    "car2 = Car('Tesla', 'black')\n",
    "car3 = Car('GM', 'white')"
   ]
  },
  {
   "cell_type": "code",
   "execution_count": 59,
   "metadata": {},
   "outputs": [
    {
     "name": "stdout",
     "output_type": "stream",
     "text": [
      "Ford red\n",
      "Tesla black\n",
      "GM white\n"
     ]
    }
   ],
   "source": [
    "print(car1.make_type, car1.color_type)\n",
    "print(car2.make_type, car2.color_type)\n",
    "print(car3.make_type, car3.color_type)\n"
   ]
  },
  {
   "cell_type": "markdown",
   "metadata": {},
   "source": [
    "We added `__init__` method to our class. This method takes three parameters with `self` being first. In the body of this method, we wrote -\n",
    "\n",
    "```Python\n",
    "self.make_type = make\n",
    "self.color_type = color\n",
    "```\n",
    "\n",
    "What we are doing here is that we are defining 2 new instance attributes `make_type` and `color_type` and we assign these 2 attributes the value of `make` and `color` parameters respectively. `__init__` method is called automatically when you create an instance, all you have to do is to provide arguments `make` and `color` when you create an instance. That is, when we run\n",
    "\n",
    "    >>>`car1 = Car('Ford','red')`\n",
    "    \n",
    "an instance `car1` is created. After this, the arguments `Ford` and `red` is automatically passed to `__init__` function which in turn sets instance attributes - \n",
    "\n",
    "    car1.make_type = 'Ford'\n",
    "    car1.color_type = 'red'\n",
    "\n",
    "\n",
    "If you have read about Python OOP somewhere else, you may have seen that people usually reuse `__init__` parameters name as attribute names like this - \n",
    "\n",
    "```Python\n",
    "class Test:\n",
    "    def __init__(self, param1, param2):\n",
    "        self.param1 = param1\n",
    "        self.param2 = param2\n",
    "```\n",
    "\n",
    "I haven't done this simply because it confused me a lot when I first learned Python OOP. I kept the attribute name and parameter name different so that you should know how things are working out. However from now on, I'll also reuse the parameters name. \n",
    "\n",
    "I mentioned that `__init__` is run automatically as soon as an instance is created. Let us see an example of this - \n",
    "\n",
    "        \n",
    "\n",
    "\n"
   ]
  },
  {
   "cell_type": "code",
   "execution_count": 63,
   "metadata": {},
   "outputs": [],
   "source": [
    "class Test:\n",
    "    \n",
    "    def __init__(self):\n",
    "        print('New instance %s is created' %self)"
   ]
  },
  {
   "cell_type": "code",
   "execution_count": 65,
   "metadata": {
    "scrolled": true
   },
   "outputs": [
    {
     "name": "stdout",
     "output_type": "stream",
     "text": [
      "New instance <__main__.Test object at 0x0000002E7BF57130> is created\n"
     ]
    }
   ],
   "source": [
    "foo = Test()"
   ]
  },
  {
   "cell_type": "markdown",
   "metadata": {},
   "source": [
    "See? All you did is to create a new instance and the `print` function was automatically executed.\n",
    "\n",
    "Back to instance attributes. Now our instances have their own attributes. Before that, the `__dict__` attribute of our instances returned empty dictionary. Now it won't."
   ]
  },
  {
   "cell_type": "code",
   "execution_count": 66,
   "metadata": {},
   "outputs": [
    {
     "data": {
      "text/plain": [
       "{'make_type': 'Ford', 'color_type': 'red'}"
      ]
     },
     "execution_count": 66,
     "metadata": {},
     "output_type": "execute_result"
    }
   ],
   "source": [
    "car1.__dict__"
   ]
  },
  {
   "cell_type": "markdown",
   "metadata": {},
   "source": [
    "Just like class attribute, we can add instance attribute externally - "
   ]
  },
  {
   "cell_type": "code",
   "execution_count": 67,
   "metadata": {},
   "outputs": [],
   "source": [
    "car1.fuel = 'Diesel'"
   ]
  },
  {
   "cell_type": "code",
   "execution_count": 68,
   "metadata": {},
   "outputs": [
    {
     "data": {
      "text/plain": [
       "'Diesel'"
      ]
     },
     "execution_count": 68,
     "metadata": {},
     "output_type": "execute_result"
    }
   ],
   "source": [
    "car1.fuel"
   ]
  },
  {
   "cell_type": "code",
   "execution_count": 70,
   "metadata": {},
   "outputs": [
    {
     "data": {
      "text/plain": [
       "{'make_type': 'Ford', 'color_type': 'red', 'fuel': 'Diesel'}"
      ]
     },
     "execution_count": 70,
     "metadata": {},
     "output_type": "execute_result"
    }
   ],
   "source": [
    "car1.__dict__"
   ]
  },
  {
   "cell_type": "markdown",
   "metadata": {},
   "source": [
    "What if an instance has an attribute with same name as class attribute? If you were careful during earlier sections, you'd recall that attribute is first searched in instance attribute list, then in class attribute list. \n"
   ]
  },
  {
   "cell_type": "code",
   "execution_count": 71,
   "metadata": {},
   "outputs": [],
   "source": [
    "car2.wheels = 'Generic'"
   ]
  },
  {
   "cell_type": "code",
   "execution_count": 72,
   "metadata": {},
   "outputs": [
    {
     "data": {
      "text/plain": [
       "'Generic'"
      ]
     },
     "execution_count": 72,
     "metadata": {},
     "output_type": "execute_result"
    }
   ],
   "source": [
    "car2.wheels"
   ]
  },
  {
   "cell_type": "code",
   "execution_count": 73,
   "metadata": {},
   "outputs": [
    {
     "data": {
      "text/plain": [
       "4"
      ]
     },
     "execution_count": 73,
     "metadata": {},
     "output_type": "execute_result"
    }
   ],
   "source": [
    "car1.wheels"
   ]
  },
  {
   "cell_type": "markdown",
   "metadata": {},
   "source": [
    "This shows that if the same attribute name occurs in both an instance and in a class, then attribute lookup prioritizes the instance. In above case, only `car1` has its own `wheels` attribute. As for `car2`, it will still use class attribute. \n",
    "\n",
    "\n"
   ]
  },
  {
   "cell_type": "markdown",
   "metadata": {},
   "source": [
    "**Return value of `__init__` is always `None`** so be careful your `__init__` shouldn't return anything else -  "
   ]
  },
  {
   "cell_type": "code",
   "execution_count": 119,
   "metadata": {},
   "outputs": [
    {
     "name": "stdout",
     "output_type": "stream",
     "text": [
      "Hi\n"
     ]
    },
    {
     "ename": "TypeError",
     "evalue": "__init__() should return None, not 'int'",
     "output_type": "error",
     "traceback": [
      "\u001b[1;31m---------------------------------------------------------------------------\u001b[0m",
      "\u001b[1;31mTypeError\u001b[0m                                 Traceback (most recent call last)",
      "\u001b[1;32m<ipython-input-119-352b4b312570>\u001b[0m in \u001b[0;36m<module>\u001b[1;34m\u001b[0m\n\u001b[0;32m      4\u001b[0m         \u001b[1;32mreturn\u001b[0m \u001b[1;36m1\u001b[0m\u001b[1;33m\u001b[0m\u001b[1;33m\u001b[0m\u001b[0m\n\u001b[0;32m      5\u001b[0m \u001b[1;33m\u001b[0m\u001b[0m\n\u001b[1;32m----> 6\u001b[1;33m \u001b[0mfoo\u001b[0m \u001b[1;33m=\u001b[0m \u001b[0mFoo\u001b[0m\u001b[1;33m(\u001b[0m\u001b[1;33m)\u001b[0m\u001b[1;33m\u001b[0m\u001b[1;33m\u001b[0m\u001b[0m\n\u001b[0m",
      "\u001b[1;31mTypeError\u001b[0m: __init__() should return None, not 'int'"
     ]
    }
   ],
   "source": [
    "class Foo:\n",
    "    def __init__(self):\n",
    "        print('Hi')\n",
    "        return 1\n",
    "    \n",
    "foo = Foo()    "
   ]
  },
  {
   "cell_type": "markdown",
   "metadata": {},
   "source": [
    "**`__init__`** function is executed as soon as an instance of a class created. See below - "
   ]
  },
  {
   "cell_type": "code",
   "execution_count": 128,
   "metadata": {},
   "outputs": [
    {
     "name": "stdout",
     "output_type": "stream",
     "text": [
      "Test id is 199677410464\n",
      "Test id is 199677408064\n"
     ]
    },
    {
     "ename": "TypeError",
     "evalue": "unsupported operand type(s) for *: 'Test' and 'int'",
     "output_type": "error",
     "traceback": [
      "\u001b[1;31m---------------------------------------------------------------------------\u001b[0m",
      "\u001b[1;31mTypeError\u001b[0m                                 Traceback (most recent call last)",
      "\u001b[1;32m<ipython-input-128-0131042e1154>\u001b[0m in \u001b[0;36m<module>\u001b[1;34m\u001b[0m\n\u001b[0;32m      4\u001b[0m \u001b[1;33m\u001b[0m\u001b[0m\n\u001b[0;32m      5\u001b[0m \u001b[0mx\u001b[0m \u001b[1;33m=\u001b[0m \u001b[0mTest\u001b[0m\u001b[1;33m(\u001b[0m\u001b[1;33m)\u001b[0m\u001b[1;33m\u001b[0m\u001b[1;33m\u001b[0m\u001b[0m\n\u001b[1;32m----> 6\u001b[1;33m \u001b[0my\u001b[0m \u001b[1;33m=\u001b[0m \u001b[0mTest\u001b[0m\u001b[1;33m(\u001b[0m\u001b[1;33m)\u001b[0m\u001b[1;33m*\u001b[0m\u001b[1;36m10\u001b[0m\u001b[1;33m\u001b[0m\u001b[1;33m\u001b[0m\u001b[0m\n\u001b[0m",
      "\u001b[1;31mTypeError\u001b[0m: unsupported operand type(s) for *: 'Test' and 'int'"
     ]
    }
   ],
   "source": [
    "class Test:\n",
    "    def __init__(self):\n",
    "        print(\"Test id is %d\" %id(self)) \n",
    "        \n",
    "x = Test()\n",
    "y = Test()*10"
   ]
  },
  {
   "cell_type": "markdown",
   "metadata": {},
   "source": [
    "Above program shows that object is instantiated before it is assigned to any variable. Line 1 runs fine. Line 2 produces `TypeError` because of wrong multiplication. Here instance was created (as shown by `id()` function) but its product with 10 produced error and nothing was assigned to `y`. Error happens only after instance is created and before instance is assigned a name 'y'. If this program is run interactively, `print(x)` command will run successfully but `print(y)` command will raise `NameError`. "
   ]
  },
  {
   "cell_type": "code",
   "execution_count": 129,
   "metadata": {},
   "outputs": [
    {
     "name": "stdout",
     "output_type": "stream",
     "text": [
      "<__main__.Test object at 0x0000002E7DB37CA0>\n"
     ]
    },
    {
     "ename": "NameError",
     "evalue": "name 'y' is not defined",
     "output_type": "error",
     "traceback": [
      "\u001b[1;31m---------------------------------------------------------------------------\u001b[0m",
      "\u001b[1;31mNameError\u001b[0m                                 Traceback (most recent call last)",
      "\u001b[1;32m<ipython-input-129-5fe5eafd380c>\u001b[0m in \u001b[0;36m<module>\u001b[1;34m\u001b[0m\n\u001b[0;32m      1\u001b[0m \u001b[0mprint\u001b[0m\u001b[1;33m(\u001b[0m\u001b[0mx\u001b[0m\u001b[1;33m)\u001b[0m\u001b[1;33m\u001b[0m\u001b[1;33m\u001b[0m\u001b[0m\n\u001b[1;32m----> 2\u001b[1;33m \u001b[0mprint\u001b[0m\u001b[1;33m(\u001b[0m\u001b[0my\u001b[0m\u001b[1;33m)\u001b[0m\u001b[1;33m\u001b[0m\u001b[1;33m\u001b[0m\u001b[0m\n\u001b[0m",
      "\u001b[1;31mNameError\u001b[0m: name 'y' is not defined"
     ]
    }
   ],
   "source": [
    "print(x)\n",
    "print(y)"
   ]
  },
  {
   "cell_type": "markdown",
   "metadata": {},
   "source": [
    "#### Inheritance\n",
    "\n",
    "Let's write a generic OOP code which is exactly similar to what we have written so far (no more car stuff).\n",
    "\n"
   ]
  },
  {
   "cell_type": "code",
   "execution_count": 176,
   "metadata": {},
   "outputs": [],
   "source": [
    "class A:\n",
    "    \n",
    "    bar = 'barbar'\n",
    "    \n",
    "    def __init__(self, value):\n",
    "        self.value = value\n",
    "        \n",
    "    def func(self):\n",
    "        print(\"This is {}\".format(self.value))"
   ]
  },
  {
   "cell_type": "markdown",
   "metadata": {},
   "source": [
    "Now we can write a class `B` which inherits from `A`. We'll see what this means. "
   ]
  },
  {
   "cell_type": "code",
   "execution_count": 177,
   "metadata": {},
   "outputs": [],
   "source": [
    "class B(A):\n",
    "    pass\n",
    "    \n",
    "b = B(5)    "
   ]
  },
  {
   "cell_type": "code",
   "execution_count": 179,
   "metadata": {},
   "outputs": [
    {
     "data": {
      "text/plain": [
       "(<class '__main__.A'>,)"
      ]
     },
     "execution_count": 179,
     "metadata": {},
     "output_type": "execute_result"
    }
   ],
   "source": [
    "B.__bases__ #__bases__ gives a tuple of parent classes"
   ]
  },
  {
   "cell_type": "code",
   "execution_count": 154,
   "metadata": {},
   "outputs": [
    {
     "ename": "TypeError",
     "evalue": "__init__() missing 1 required positional argument: 'value'",
     "output_type": "error",
     "traceback": [
      "\u001b[1;31m---------------------------------------------------------------------------\u001b[0m",
      "\u001b[1;31mTypeError\u001b[0m                                 Traceback (most recent call last)",
      "\u001b[1;32m<ipython-input-154-dc797e5f4d02>\u001b[0m in \u001b[0;36m<module>\u001b[1;34m\u001b[0m\n\u001b[1;32m----> 1\u001b[1;33m \u001b[0mb1\u001b[0m \u001b[1;33m=\u001b[0m \u001b[0mB\u001b[0m\u001b[1;33m(\u001b[0m\u001b[1;33m)\u001b[0m\u001b[1;33m\u001b[0m\u001b[1;33m\u001b[0m\u001b[0m\n\u001b[0m",
      "\u001b[1;31mTypeError\u001b[0m: __init__() missing 1 required positional argument: 'value'"
     ]
    }
   ],
   "source": [
    "b1 = B()"
   ]
  },
  {
   "cell_type": "code",
   "execution_count": 155,
   "metadata": {},
   "outputs": [
    {
     "data": {
      "text/plain": [
       "'barbar'"
      ]
     },
     "execution_count": 155,
     "metadata": {},
     "output_type": "execute_result"
    }
   ],
   "source": [
    "b.bar"
   ]
  },
  {
   "cell_type": "markdown",
   "metadata": {},
   "source": [
    "What we are doing here is that we created a class `B` which inherits attributes from class `A`. By executing `B(A)`, we are telling Python that our class `B` is a subclass of `A`. In the body of class `B`, we didn't really put anything just to keep things simple. We can always add stuff in `B` in future. \n",
    "\n",
    "So what happens when we run `b = B(5)`? \n",
    "\n",
    "Since `B` is a subclass of `A`, `B` has access to every attributes defined in `A`. If an attribute or method isn't found in `B`, it will be looked up in `A`. In above case, an instance is created and immediately after it is created, it looks for `__init__` method which we haven't provided in `B`. In that case, it is searched in `A` where it is found and executed. \n",
    "\n",
    "Attributes look-up works in the same way - \n"
   ]
  },
  {
   "cell_type": "code",
   "execution_count": 156,
   "metadata": {},
   "outputs": [
    {
     "data": {
      "text/plain": [
       "'barbar'"
      ]
     },
     "execution_count": 156,
     "metadata": {},
     "output_type": "execute_result"
    }
   ],
   "source": [
    "b.bar"
   ]
  },
  {
   "cell_type": "code",
   "execution_count": 157,
   "metadata": {},
   "outputs": [
    {
     "name": "stdout",
     "output_type": "stream",
     "text": [
      "This is 5\n"
     ]
    }
   ],
   "source": [
    "b.func()"
   ]
  },
  {
   "cell_type": "markdown",
   "metadata": {},
   "source": [
    "Another common use of inheritance is that of calling parent's class `__init__` method. For example - "
   ]
  },
  {
   "cell_type": "code",
   "execution_count": 158,
   "metadata": {},
   "outputs": [
    {
     "name": "stdout",
     "output_type": "stream",
     "text": [
      "Mac has value 8 and belongs to group Top tier\n"
     ]
    }
   ],
   "source": [
    "class A:\n",
    "    \n",
    "    bar = 'barbar'\n",
    "    \n",
    "    def __init__(self, value):\n",
    "        self.value = value\n",
    "        \n",
    "    def func(self):\n",
    "        print(\"This is {}\".format(self.value))\n",
    "        \n",
    "class B(A):\n",
    "    \n",
    "    def __init__(self, value, name, group):\n",
    "        self.name = name\n",
    "        self.group = group\n",
    "        A.__init__(self, value)    #part of the task was delegated to parent's `init` method\n",
    "        \n",
    "    def show(self):\n",
    "        print(\"%s has value %d and belongs to group %s\" %(self.name, self.value, self.group))\n",
    "        \n",
    "        \n",
    "b = B(8, 'Mac', 'Top tier') \n",
    "b.show()"
   ]
  },
  {
   "cell_type": "markdown",
   "metadata": {},
   "source": [
    "Class `A` instances are initialized with only one attribute (`value`) but instances of class `B` have 2 additional attributes (`name` and `group`). Since `B` inherits from `A`, it can always use access `A`s attributes (and methods). This is known as **delegation**. So we say that `B`'s `__init__` method has delegated part of its task to `A`s `__init__` method. This way, we were able to avoid the repetition of task. Always remember the **DRY (DON'T REPEAT YOURSELF)** principle.\n",
    "\n",
    "\n",
    "\n"
   ]
  },
  {
   "cell_type": "markdown",
   "metadata": {},
   "source": [
    "#### Method overriding\n",
    "\n",
    "Above `b` is an instance of `B` but it was able to access `func` method of class `A` because there was no `func` defined in `B`. \n",
    "\n",
    "Let us define `B`'s own `func` method -  "
   ]
  },
  {
   "cell_type": "code",
   "execution_count": 97,
   "metadata": {},
   "outputs": [
    {
     "name": "stdout",
     "output_type": "stream",
     "text": [
      "This is new method\n"
     ]
    }
   ],
   "source": [
    "class B(A):\n",
    "    def func(self):\n",
    "        print(\"This is new method\")\n",
    "        \n",
    "b = B(4)\n",
    "b.func()"
   ]
  },
  {
   "cell_type": "markdown",
   "metadata": {},
   "source": [
    "But what if `b`  want to use the `func` method of `A`?\n"
   ]
  },
  {
   "cell_type": "code",
   "execution_count": 100,
   "metadata": {},
   "outputs": [
    {
     "name": "stdout",
     "output_type": "stream",
     "text": [
      "This is 4\n"
     ]
    }
   ],
   "source": [
    "A.func(b) "
   ]
  },
  {
   "cell_type": "markdown",
   "metadata": {},
   "source": [
    "One useful aspect of method overriding is that sometimes your subclass function want to delegates part of it task to parent class function with same name. For example -   "
   ]
  },
  {
   "cell_type": "code",
   "execution_count": 108,
   "metadata": {},
   "outputs": [
    {
     "name": "stdout",
     "output_type": "stream",
     "text": [
      "Hi\n",
      "This is 4\n"
     ]
    }
   ],
   "source": [
    "class B(A):\n",
    "    def func(self):\n",
    "        print('Hi')\n",
    "        A.func(self)\n",
    "        \n",
    "b = B(4)\n",
    "b.func()"
   ]
  },
  {
   "cell_type": "markdown",
   "metadata": {},
   "source": [
    "In above example of class `A` and class `B`, you may have noticed that we haven't added any new attribute in class `B`. Instead, class `B` is using the the `__init__` of class `A`. However, this wouldn't work if we wish to add new attributes to subclass. "
   ]
  },
  {
   "cell_type": "code",
   "execution_count": 117,
   "metadata": {},
   "outputs": [
    {
     "name": "stdout",
     "output_type": "stream",
     "text": [
      "5 Foo\n"
     ]
    }
   ],
   "source": [
    "class A:\n",
    "    \n",
    "    bar = 'barbar'\n",
    "    \n",
    "    def __init__(self, value):\n",
    "        self.value = value\n",
    "        \n",
    "    def func(self):\n",
    "        print(\"This is {}\".format(self.value))\n",
    "        \n",
    "class B(A):\n",
    "    \n",
    "    def __init__(self, value, name):\n",
    "        A.__init__(self, value)\n",
    "        self.name = name\n",
    "        \n",
    "    def func(self):\n",
    "        print(self.name, self.value)\n",
    "        \n",
    "b = B('Foo', 5)\n",
    "b.func()"
   ]
  },
  {
   "cell_type": "markdown",
   "metadata": {},
   "source": [
    "In this case, we have provided one new instance variable `name` which will be the value of `name` attribute of class `B` instances. In this case, we have to initialize it separately which means we have to provide `__init__` in class `B`. Again, if we provide this method in class `B`, `value` attribute won't be initialized as `A`'s `__init__` won't be called automatically here. For this, we have to explicitly call `A`s `__init__` method.  "
   ]
  },
  {
   "cell_type": "markdown",
   "metadata": {},
   "source": [
    "####  Multiple Inheritance and `super()`\n",
    "\n",
    "In above examples, there was only one parent class and one child class so things were pretty simple. Python also supports multiple inheritance. A child class can inherits from more than 1 parent class. See a typical example below -\n",
    "\n",
    "```Python\n",
    "class A:\n",
    "    pass\n",
    "\n",
    "class B(A):\n",
    "    pass\n",
    "\n",
    "class C(A):\n",
    "    pass\n",
    "\n",
    "class D(B,C):\n",
    "    pass\n",
    "```\n",
    "\n",
    "So how does attribute lookup work in multiple inheritance? In general, you can think of the search for attributes inherited from a parent class as depth-first, left-to-right, not searching twice in the same class where there is an overlap in the hierarchy. \n",
    "\n",
    "Let's see a very basic example to illustrate this -  \n",
    "\n",
    "\n",
    "    "
   ]
  },
  {
   "cell_type": "code",
   "execution_count": 22,
   "metadata": {},
   "outputs": [
    {
     "data": {
      "text/plain": [
       "'c'"
      ]
     },
     "execution_count": 22,
     "metadata": {},
     "output_type": "execute_result"
    }
   ],
   "source": [
    "class A():\n",
    "    x = 'a' \n",
    "    \n",
    "class B(A): \n",
    "    pass\n",
    "\n",
    "class C(A): \n",
    "    x = 'c'\n",
    "\n",
    "class D(B, C): \n",
    "    pass\n",
    " \n",
    "D.x"
   ]
  },
  {
   "cell_type": "markdown",
   "metadata": {},
   "source": [
    "In finding `D.x`, the attribute `x` is first searched in `D` (depth first), then in `B` (parent classes, left to right) and then in `C` where it is found. This searching concept is known as **method resolution order (MRO)**. You can always use the `__mro__` attribute of a class to find out method resolution order. This works for attribute lookup as well. "
   ]
  },
  {
   "cell_type": "code",
   "execution_count": 23,
   "metadata": {},
   "outputs": [
    {
     "data": {
      "text/plain": [
       "(__main__.D, __main__.B, __main__.C, __main__.A, object)"
      ]
     },
     "execution_count": 23,
     "metadata": {},
     "output_type": "execute_result"
    }
   ],
   "source": [
    "D.__mro__"
   ]
  },
  {
   "cell_type": "markdown",
   "metadata": {},
   "source": [
    "You can notice that this order preserves the principle of 'depth first, then left to right parent classes'. "
   ]
  },
  {
   "cell_type": "markdown",
   "metadata": {},
   "source": [
    "### `super()`\n",
    "\n",
    "When we introduced the concept of inheritance, we did following example - \n",
    "\n"
   ]
  },
  {
   "cell_type": "code",
   "execution_count": 142,
   "metadata": {},
   "outputs": [
    {
     "name": "stdout",
     "output_type": "stream",
     "text": [
      "Hi\n",
      "This is 4\n"
     ]
    }
   ],
   "source": [
    "class A:\n",
    "    \n",
    "    bar = 'barbar'\n",
    "    \n",
    "    def __init__(self, value):\n",
    "        self.value = value\n",
    "        \n",
    "    def func(self):\n",
    "        print(\"This is {}\".format(self.value))\n",
    "        \n",
    "class B(A):\n",
    "    def func(self):\n",
    "        print('Hi')\n",
    "        A.func(self)\n",
    "        \n",
    "b = B(4)\n",
    "b.func()        "
   ]
  },
  {
   "cell_type": "markdown",
   "metadata": {},
   "source": [
    "In above example, recall that we defined a `func` method in class `B` which in turn calls the parent class (in our case, `A`) `func` method. To call the parent class method in child class, we accessed it through `.` notation (`A.func()`). In this case we know that `B` has only one base class so it was easy to use base class's method. However, this way of hard-coded call to base class's method is often undesirable, error-prone and offers  limited capability. \n",
    "\n",
    "Above example is fairly simple example of single inheritance. Nothing complicated here. But what if we change the name class `A` to class `C`? What if we come up with a new class `C` and make it the base of `B`? What if `B` has multiple base classes? In all these cases, you simply can't always call parent's method by hard-coded call. It doesn't offer any flexibility. It may even lead to wrong solution.\n"
   ]
  },
  {
   "cell_type": "code",
   "execution_count": 145,
   "metadata": {},
   "outputs": [
    {
     "name": "stdout",
     "output_type": "stream",
     "text": [
      "Hi\n",
      "This is 4\n"
     ]
    }
   ],
   "source": [
    "class A:\n",
    "    \n",
    "    bar = 'barbar'\n",
    "    \n",
    "    def __init__(self, value):\n",
    "        self.value = value\n",
    "        \n",
    "    def func(self):\n",
    "        print(\"This is {}\".format(self.value))\n",
    "        \n",
    "class C:\n",
    "    \n",
    "    def __init__(self, value):\n",
    "        self.value = value\n",
    "        \n",
    "    def func(self):\n",
    "        print(\"This is different function\")   \n",
    "        \n",
    "class B(C, A):\n",
    "    def func(self):\n",
    "        print('Hi')\n",
    "        A.func(self)\n",
    "        \n",
    "b = B(4)\n",
    "b.func()        "
   ]
  },
  {
   "cell_type": "markdown",
   "metadata": {},
   "source": [
    "In above example, we only added one more class `C` and `B` now has 2 base classes. You still want to call `func` method of *next in line* base class. But you had actually hardcoded this call to `A`s `func` method. The expected output is -\n",
    "\n",
    "```\n",
    "Hi\n",
    "This is different function\n",
    "```\n",
    "\n",
    "But you aren't getting correct output because you are not calling correct next base class's method. \n",
    "\n",
    "To address these kind of problems (and many more), `super()` was introduced. Let's see how it works - "
   ]
  },
  {
   "cell_type": "code",
   "execution_count": 161,
   "metadata": {},
   "outputs": [
    {
     "name": "stdout",
     "output_type": "stream",
     "text": [
      "Hi\n",
      "This is 4\n"
     ]
    }
   ],
   "source": [
    "class A:\n",
    "    \n",
    "    bar = 'barbar'\n",
    "    \n",
    "    def __init__(self, value):\n",
    "        self.value = value\n",
    "        \n",
    "    def func(self):\n",
    "        print(\"This is {}\".format(self.value))\n",
    "        \n",
    "class B(A):\n",
    "    def func(self):\n",
    "        print('Hi')\n",
    "        super().func() #A is replaced with super(). func() no longer need 'self' argument\n",
    "        \n",
    "b = B(4)\n",
    "b.func()  "
   ]
  },
  {
   "cell_type": "code",
   "execution_count": 162,
   "metadata": {},
   "outputs": [
    {
     "data": {
      "text/plain": [
       "(<class '__main__.B'>, <class '__main__.A'>, <class 'object'>)"
      ]
     },
     "execution_count": 162,
     "metadata": {},
     "output_type": "execute_result"
    }
   ],
   "source": [
    "B.__mro__"
   ]
  },
  {
   "cell_type": "code",
   "execution_count": 166,
   "metadata": {},
   "outputs": [
    {
     "name": "stdout",
     "output_type": "stream",
     "text": [
      "Hi\n",
      "This is different function\n"
     ]
    }
   ],
   "source": [
    "class A:\n",
    "    \n",
    "    bar = 'barbar'\n",
    "    \n",
    "    def __init__(self, value):\n",
    "        self.value = value\n",
    "        \n",
    "    def func(self):\n",
    "        print(\"This is {}\".format(self.value))\n",
    "        \n",
    "class C:\n",
    "    \n",
    "    def __init__(self, value):\n",
    "        self.value = value\n",
    "        \n",
    "    def func(self):\n",
    "        print(\"This is different function\")   \n",
    "        \n",
    "class B(C, A):\n",
    "    def func(self):\n",
    "        print('Hi')\n",
    "        super().func()  #super() in place of 'A'.\n",
    "        \n",
    "b = B(4)\n",
    "b.func()        "
   ]
  },
  {
   "cell_type": "code",
   "execution_count": 160,
   "metadata": {},
   "outputs": [
    {
     "data": {
      "text/plain": [
       "(<class '__main__.B'>, <class '__main__.C'>, <class '__main__.A'>, <class 'object'>)"
      ]
     },
     "execution_count": 160,
     "metadata": {},
     "output_type": "execute_result"
    }
   ],
   "source": [
    "B.__mro__"
   ]
  },
  {
   "cell_type": "markdown",
   "metadata": {},
   "source": [
    "In both cases, `super()` searched the method `func` in next-in-line parent class as described by the class's `__mro__` attribute. You can see that in former case, MRO wrt class `B` was `B --> A --> object` while in later case, MRO wrt same class `B` was `B --> C --> A --> object`. Using `super()` makes sure that it delegates the method calls to the class as described by MRO for class in which `super()` was used. \n",
    "\n",
    "**Note carefully** that, in last example, the MRO wrt class `B` was `B --> C --> A --> object` but `super()` actually started searching `func` from `C`. It skipped the class where it was called (in this case, `B`).\n",
    "\n",
    "\n",
    "The function signature of `super()` is **`super([type, [object_or_type])`** and this returns a proxy object. \n",
    "\n",
    "If no arguments are provided, then `super()` is equivalent to `super(present_class, self)`. For above example `super()` is equivalent to `super(B, self)`. `super(B, self)` indicates that `self` is an instance of `B` and, more importantly, the search starts from the class right after the `B` in MRO wrt `B`.\n",
    "\n",
    "See below example - \n",
    "\n",
    "\n",
    "\n",
    "\n"
   ]
  },
  {
   "cell_type": "code",
   "execution_count": 165,
   "metadata": {},
   "outputs": [
    {
     "name": "stdout",
     "output_type": "stream",
     "text": [
      "A\n"
     ]
    }
   ],
   "source": [
    "class A:\n",
    "    def test(self):\n",
    "        print('A')\n",
    "        \n",
    "class B(A):\n",
    "    def test(self):\n",
    "        print('B')\n",
    "        \n",
    "class C(A):\n",
    "    def test(self):\n",
    "        print('C')\n",
    "        \n",
    "class D(B, C):\n",
    "    def test(self):\n",
    "        super(C, self).test() #search starts after `C` in D.__mro__ .\n",
    "        \n",
    "#keep changing C to B or D. \n",
    "d = D()\n",
    "d.test()"
   ]
  },
  {
   "cell_type": "markdown",
   "metadata": {},
   "source": [
    "You can see from these examples that `super()` offers a lot of flexibility. Moreover, `__mro__` is a dynmaic attribute and can change whenever class hiearchy is changed. This means that `super()` can use the updated hiearchy because it use `__mro__` attribute for searching. \n",
    "\n",
    "**Cautionary Note** Many people initially develop this incorrect mental model that `super().some_method()` is equivalent to `base.some_method(self)`. I'll be honest that I, too, developed this incorrect mental model. This rather unintuitive behaviour of `super()` was the talking point of famous blog [Python's Super Considered Harmful](https://fuhm.net/super-harmful/). This blog caused Raymond Hettinger (he is Python's core developer) to write [Python’s super() considered super!](https://rhettinger.wordpress.com/2011/05/26/super-considered-super/). \n",
    "\n",
    "\n",
    "Let me clarify what I mean by incorrect mental model of `super()`. See following snippets - \n",
    "\n",
    "```Python \n",
    "class A:\n",
    "    def test(self):\n",
    "        print(\"Hi\")\n",
    "        \n",
    "class B(A):\n",
    "    def test(self):\n",
    "        A.test(self)\n",
    "```\n",
    "does the same thing as\n",
    "\n",
    "\n",
    "```Python \n",
    "class A:\n",
    "    def test(self):\n",
    "        print(\"Hi\")\n",
    "        \n",
    "class B(A):\n",
    "    def test(self):\n",
    "        super().test()\n",
    "```\n",
    "\n",
    "Be careful that `super().test()` is not the same thing as `A.test(self)`. \n",
    "\n",
    "See following examples - \n"
   ]
  },
  {
   "cell_type": "code",
   "execution_count": 169,
   "metadata": {},
   "outputs": [
    {
     "name": "stdout",
     "output_type": "stream",
     "text": [
      "C\n"
     ]
    }
   ],
   "source": [
    "#some people think it will output `A` wrongly assuming that\n",
    "#super().setmethod() in class B(A) will delegate the call to A's setmethod. \n",
    "\n",
    "class A:\n",
    "    def setmethod(self):\n",
    "        print('A')\n",
    "        \n",
    "class B(A):\n",
    "    def setmethod(self):\n",
    "        super().setmethod() #super()refers to next in D.__mro__ in case of d.setmethod()\n",
    "        \n",
    "class C(A):\n",
    "    def setmethod(self):\n",
    "        print('C')\n",
    "        \n",
    "class D(B,C):\n",
    "    def setmethod(self):\n",
    "        super().setmethod()\n",
    "        \n",
    "d = D()\n",
    "d.setmethod()        "
   ]
  },
  {
   "cell_type": "code",
   "execution_count": 170,
   "metadata": {},
   "outputs": [
    {
     "name": "stdout",
     "output_type": "stream",
     "text": [
      "UserA init'ed\n",
      "ChildA init'ed\n",
      "Base init'ed\n"
     ]
    },
    {
     "data": {
      "text/plain": [
       "<__main__.UserA object at 0x0000002E7DB3ABB0>"
      ]
     },
     "execution_count": 170,
     "metadata": {},
     "output_type": "execute_result"
    }
   ],
   "source": [
    "#even better example\n",
    "\n",
    "\n",
    "class Base():\n",
    "    def __init__(self):\n",
    "        print(\"Base init'ed\")\n",
    "\n",
    "class ChildA(Base):\n",
    "    def __init__(self):\n",
    "        print(\"ChildA init'ed\")\n",
    "        Base.__init__(self)       #Hardcoded call to Base init\n",
    "\n",
    "class ChildB(Base):\n",
    "    def __init__(self):\n",
    "        print(\"ChildB init'ed\")\n",
    "        super().__init__()        #uses super()\n",
    "        \n",
    "class UserDependency(Base):\n",
    "    def __init__(self):\n",
    "        print(\"UserDependency init'ed\")\n",
    "        super().__init__()\n",
    "        \n",
    "class UserA(ChildA, UserDependency):\n",
    "    def __init__(self):\n",
    "        print(\"UserA init'ed\")\n",
    "        super().__init__()\n",
    "\n",
    "class UserB(ChildB, UserDependency):\n",
    "    def __init__(self):\n",
    "        print(\"UserB init'ed\")\n",
    "        super().__init__()\n",
    "        \n",
    "UserA()        "
   ]
  },
  {
   "cell_type": "code",
   "execution_count": 171,
   "metadata": {},
   "outputs": [
    {
     "name": "stdout",
     "output_type": "stream",
     "text": [
      "UserB init'ed\n",
      "ChildB init'ed\n",
      "UserDependency init'ed\n",
      "Base init'ed\n"
     ]
    },
    {
     "data": {
      "text/plain": [
       "<__main__.UserB object at 0x0000002E7DB35160>"
      ]
     },
     "execution_count": 171,
     "metadata": {},
     "output_type": "execute_result"
    }
   ],
   "source": [
    "UserB()"
   ]
  },
  {
   "cell_type": "code",
   "execution_count": 173,
   "metadata": {},
   "outputs": [
    {
     "name": "stdout",
     "output_type": "stream",
     "text": [
      "D\n",
      "B\n",
      "C\n",
      "Class A method is run.\n",
      "Class C method is run\n",
      "Class B method is run\n",
      "Class D method is run\n"
     ]
    }
   ],
   "source": [
    "class A:\n",
    "    def __init__(self,a):\n",
    "        self.a = a\n",
    "        \n",
    "    def test(self):\n",
    "        print(\"Class A method is run.\")\n",
    "\n",
    "        \n",
    "class B(A):\n",
    "    def test(self):\n",
    "        print('B')\n",
    "        super().test()\n",
    "        print(\"Class B method is run\")\n",
    "        \n",
    "class C(A):        \n",
    "    def test(self):\n",
    "        print('C')\n",
    "        super().test()\n",
    "        print(\"Class C method is run\")\n",
    "    \n",
    "class D(B, C):        \n",
    "    def test(self):\n",
    "        print('D')\n",
    "        super().test()\n",
    "        print(\"Class D method is run\")\n",
    "\n",
    "d = D(2)   \n",
    "d.test()"
   ]
  },
  {
   "cell_type": "code",
   "execution_count": 174,
   "metadata": {},
   "outputs": [
    {
     "name": "stdout",
     "output_type": "stream",
     "text": [
      "D\n",
      "B\n",
      "C\n",
      "A\n"
     ]
    }
   ],
   "source": [
    "class A:\n",
    "    def __init__(self):\n",
    "        print('A')\n",
    "        \n",
    "class B(A):\n",
    "    def __init__(self):\n",
    "        print('B')\n",
    "        super().__init__()\n",
    "        \n",
    "class C(A):\n",
    "    def __init__(self):\n",
    "        print('C')\n",
    "        super().__init__()\n",
    "                \n",
    "class D(B, C):\n",
    "    def __init__(self):\n",
    "        print('D')\n",
    "        super().__init__()\n",
    "        \n",
    "d = D()        "
   ]
  },
  {
   "cell_type": "code",
   "execution_count": 175,
   "metadata": {},
   "outputs": [
    {
     "name": "stdout",
     "output_type": "stream",
     "text": [
      "A\n",
      "C\n",
      "B\n",
      "D\n"
     ]
    }
   ],
   "source": [
    "#similar to above, except that print command now comes after super()\n",
    "\n",
    "class A:\n",
    "    def __init__(self):\n",
    "        print('A')\n",
    "        \n",
    "class B(A):\n",
    "    def __init__(self):\n",
    "        super().__init__()\n",
    "        print('B')\n",
    "        \n",
    "class C(A):\n",
    "    def __init__(self):\n",
    "        super().__init__()\n",
    "        print('C')\n",
    "                \n",
    "class D(B, C):\n",
    "    def __init__(self):\n",
    "        super().__init__()\n",
    "        print('D')\n",
    "d = D()        \n",
    "\n",
    "# D's super() moves to B's super which in turns moves to C's super which in turns moves to A's __init__"
   ]
  },
  {
   "cell_type": "markdown",
   "metadata": {},
   "source": [
    "Sources and further reading (readers may find them a bit advanced materials)-\n",
    "\n",
    "[The Python 2.3 Method Resolution Order](https://www.python.org/download/releases/2.3/mro/)\n",
    "\n",
    "[Method Resolution Order (MRO) in new-style classes?](https://stackoverflow.com/questions/1848474/method-resolution-order-mro-in-new-style-classes/27670178?utm_source=pocket_mylist)\n",
    "\n",
    "[Understanding Python super() with __init__() methods](https://stackoverflow.com/questions/576169/understanding-python-super-with-init-methods/27134600?utm_source=pocket_mylist)\n",
    "\n",
    "[What does 'super' do in Python? - difference between super().__init__() and explicit superclass __init__()](https://stackoverflow.com/questions/222877/what-does-super-do-in-python-difference-between-super-init-and-expl/33469090#33469090)\n",
    "\n",
    "[Python's Super considered harmful](https://fuhm.net/super-harmful/)\n",
    "\n",
    "[Python’s super() considered super!](https://rhettinger.wordpress.com/2011/05/26/super-considered-super/) - This one is classic. "
   ]
  },
  {
   "cell_type": "markdown",
   "metadata": {},
   "source": [
    "#### Encapsulation, Private Attributes and Data Hiding\n",
    "\n",
    "From [Wikipedia](https://en.wikipedia.org/wiki/Object-oriented_programming#Encapsulation) - \n",
    "\n",
    "> Encapsulation is an object-oriented programming concept that binds together the data and functions that manipulate the data, and that keeps both safe from outside interference and misuse. Data encapsulation led to the important OOP concept of data hiding. ...\n",
    "\n",
    "Often times you write classes but you don't really want to let other people access/modify its internals. This concept of data hinding is known as encapsulation.  \n",
    "\n",
    "For example - "
   ]
  },
  {
   "cell_type": "code",
   "execution_count": 198,
   "metadata": {},
   "outputs": [
    {
     "data": {
      "text/plain": [
       "'Sam'"
      ]
     },
     "execution_count": 198,
     "metadata": {},
     "output_type": "execute_result"
    }
   ],
   "source": [
    "class A:\n",
    "    def __init__(self, name):\n",
    "        self.name = name\n",
    "                \n",
    "a = A('Sam')\n",
    "a.name"
   ]
  },
  {
   "cell_type": "code",
   "execution_count": 199,
   "metadata": {},
   "outputs": [],
   "source": [
    "a.name = 'Mayank'"
   ]
  },
  {
   "cell_type": "code",
   "execution_count": 200,
   "metadata": {},
   "outputs": [
    {
     "data": {
      "text/plain": [
       "'Mayank'"
      ]
     },
     "execution_count": 200,
     "metadata": {},
     "output_type": "execute_result"
    }
   ],
   "source": [
    "a.name"
   ]
  },
  {
   "cell_type": "markdown",
   "metadata": {},
   "source": [
    "In above example, the `name` attribute was accessible from outside and we could modify it. However, this may not always be desirable. In order to protect our classes from misuses and undesired modifications, some sort of mechanism is needed. Although languages like Java has strict mechanism in place to achieve encapsulation, Python doesn't have that sort of mechanism. Python only has *conventions* which are enforced by *consenting adults*. \n",
    "\n",
    "By  Alex Martelli [Source](https://stackoverflow.com/questions/1547145/defining-private-module-functions-in-python)- \n",
    "```\n",
    "In Python, \"privacy\" depends on \"consenting adults'\" levels of agreement - you can't force it (any more than you can in real life;-). A single leading underscore means you're not supposed to access it \"from the outside\" -- two leading underscores (w/o trailing underscores) carry the message even more forcefully... but, in the end, it still depends on social convention and consensus: Python's introspection is forceful enough that you can't handcuff every other programmer in the world to respect your wishes.\n",
    "```\n",
    "\n",
    "\n",
    "\n",
    "Another excrept [Source](https://mail.python.org/pipermail/tutor/2003-October/025932.html) -\n",
    "\n",
    "```\n",
    " ...\"we are all consenting adults here\"... \n",
    "This expression is also used in the object-oriented python\n",
    "literature to explain python's attitudes about private class\n",
    "members, which python doesn't have. \n",
    "\n",
    "When you create an instance of some class there is nothing to\n",
    "prevent you from poking around inside and using various internal,\n",
    "private methods that are (a) necessary for the class to function,\n",
    "BUT (b) not intended for direct use/access.\n",
    "\n",
    "Nothing is really private in python. No class or class instance can\n",
    "keep you away from all what's inside (this makes introspection\n",
    "possible and powerful). Python trusts you. It says \"hey, if you want\n",
    "to go poking around in dark places, I'm gonna trust that you've got\n",
    "a good reason and you're not making trouble.\"\n",
    "\n",
    "After all, we're all consenting adults here.\n",
    "\n",
    "C++ and Java don't have this philosophy (not to the same extent).\n",
    "They allow you create private methods and static members. \n",
    "\n",
    "Perl culture is like python in this respect, but Perl expresses the\n",
    "sentiment a bit differently. As the Camel book puts it,\n",
    "\n",
    "  \"a Perl module would prefer that you stayed out of its living room\n",
    "  because you weren't invited, not because it has a shotgun.\"\n",
    "\n",
    "But the sentiment is identical.\n",
    "```\n",
    "And now from Guido himself - \n",
    "\n",
    "```\n",
    "\"main reason for making (nearly) everything discoverable was debugging: when debugging you often need to break through the abstractions\"\n",
    "```"
   ]
  },
  {
   "cell_type": "markdown",
   "metadata": {},
   "source": [
    "In gist, nothing is actually hidden in Python. Python only has conventions and since we are 'consenting adults', Python trusts us with our good intentions. \n",
    "\n",
    "Directly copied from [Official Python Tutorial](https://docs.python.org/3/tutorial/classes.html#private-variables) -\n",
    "\n",
    "- A name prefixed with an underscore (e.g. `_spam`) should be treated as a non-public part of the API (whether it is a function, a method or a data member). It should be considered an implementation detail and subject to change without notice.\n",
    "\n",
    "\n",
    "- Since there is a valid use-case for class-private members (namely to avoid name clashes of names with names defined by subclasses), there is limited support for such a mechanism, called *name mangling*. Any identifier of the form `__spam` (at least two leading underscores, at most one trailing underscore) is textually replaced with `_classname__spam`, where `classname` is the current class name with leading underscore(s) stripped. This mangling is done without regard to the syntactic position of the identifier, as long as it occurs within the definition of a class.\n",
    "\n",
    "Let us see what all these things means."
   ]
  },
  {
   "cell_type": "code",
   "execution_count": 201,
   "metadata": {},
   "outputs": [
    {
     "name": "stdout",
     "output_type": "stream",
     "text": [
      "3\n"
     ]
    }
   ],
   "source": [
    "class Encapsulation():\n",
    "    def __init__(self, a, b, c):\n",
    "        self.public = a\n",
    "        self._protected = b\n",
    "        self.__private = c\n",
    "        print(self.__private)  #from inside of class, you can access it.\n",
    "        \n",
    "A = Encapsulation(1,2,3)        "
   ]
  },
  {
   "cell_type": "code",
   "execution_count": 202,
   "metadata": {},
   "outputs": [
    {
     "name": "stdout",
     "output_type": "stream",
     "text": [
      "1\n",
      "2\n"
     ]
    },
    {
     "ename": "AttributeError",
     "evalue": "'Encapsulation' object has no attribute '__private'",
     "output_type": "error",
     "traceback": [
      "\u001b[1;31m---------------------------------------------------------------------------\u001b[0m",
      "\u001b[1;31mAttributeError\u001b[0m                            Traceback (most recent call last)",
      "\u001b[1;32m<ipython-input-202-f127fa2b0bb6>\u001b[0m in \u001b[0;36m<module>\u001b[1;34m\u001b[0m\n\u001b[0;32m      1\u001b[0m \u001b[0mprint\u001b[0m\u001b[1;33m(\u001b[0m\u001b[0mA\u001b[0m\u001b[1;33m.\u001b[0m\u001b[0mpublic\u001b[0m\u001b[1;33m)\u001b[0m\u001b[1;33m\u001b[0m\u001b[1;33m\u001b[0m\u001b[0m\n\u001b[0;32m      2\u001b[0m \u001b[0mprint\u001b[0m\u001b[1;33m(\u001b[0m\u001b[0mA\u001b[0m\u001b[1;33m.\u001b[0m\u001b[0m_protected\u001b[0m\u001b[1;33m)\u001b[0m\u001b[1;33m\u001b[0m\u001b[1;33m\u001b[0m\u001b[0m\n\u001b[1;32m----> 3\u001b[1;33m \u001b[0mprint\u001b[0m\u001b[1;33m(\u001b[0m\u001b[0mA\u001b[0m\u001b[1;33m.\u001b[0m\u001b[0m__private\u001b[0m\u001b[1;33m)\u001b[0m   \u001b[1;31m#from outside, this attribute isn't accessible\u001b[0m\u001b[1;33m\u001b[0m\u001b[1;33m\u001b[0m\u001b[0m\n\u001b[0m",
      "\u001b[1;31mAttributeError\u001b[0m: 'Encapsulation' object has no attribute '__private'"
     ]
    }
   ],
   "source": [
    "print(A.public)\n",
    "print(A._protected)  # it is accessible. \n",
    "print(A.__private)   #from outside, this attribute isn't accessible as __private is now _Encapsulation__private"
   ]
  },
  {
   "cell_type": "code",
   "execution_count": 203,
   "metadata": {},
   "outputs": [
    {
     "data": {
      "text/plain": [
       "3"
      ]
     },
     "execution_count": 203,
     "metadata": {},
     "output_type": "execute_result"
    }
   ],
   "source": [
    "A._Encapsulation__private #name-mangling in action. "
   ]
  },
  {
   "cell_type": "code",
   "execution_count": 204,
   "metadata": {},
   "outputs": [
    {
     "data": {
      "text/plain": [
       "'Mayank'"
      ]
     },
     "execution_count": 204,
     "metadata": {},
     "output_type": "execute_result"
    }
   ],
   "source": [
    "class Foo:\n",
    "    def __init__(self, name):\n",
    "        self.__name = name\n",
    "    def setname(self):\n",
    "        return self.__name\n",
    "    \n",
    "bar = Foo('Mayank')\n",
    "\n",
    "bar.setname()  #class methods can access it. "
   ]
  },
  {
   "cell_type": "code",
   "execution_count": 205,
   "metadata": {},
   "outputs": [
    {
     "ename": "AttributeError",
     "evalue": "'Foo' object has no attribute '__name'",
     "output_type": "error",
     "traceback": [
      "\u001b[1;31m---------------------------------------------------------------------------\u001b[0m",
      "\u001b[1;31mAttributeError\u001b[0m                            Traceback (most recent call last)",
      "\u001b[1;32m<ipython-input-205-199386daa6c0>\u001b[0m in \u001b[0;36m<module>\u001b[1;34m\u001b[0m\n\u001b[1;32m----> 1\u001b[1;33m \u001b[0mbar\u001b[0m\u001b[1;33m.\u001b[0m\u001b[0m__name\u001b[0m\u001b[1;33m\u001b[0m\u001b[1;33m\u001b[0m\u001b[0m\n\u001b[0m",
      "\u001b[1;31mAttributeError\u001b[0m: 'Foo' object has no attribute '__name'"
     ]
    }
   ],
   "source": [
    "bar.__name"
   ]
  },
  {
   "cell_type": "code",
   "execution_count": 206,
   "metadata": {},
   "outputs": [
    {
     "data": {
      "text/plain": [
       "'Mayank'"
      ]
     },
     "execution_count": 206,
     "metadata": {},
     "output_type": "execute_result"
    }
   ],
   "source": [
    "bar._Foo__name"
   ]
  },
  {
   "cell_type": "code",
   "execution_count": 32,
   "metadata": {},
   "outputs": [
    {
     "ename": "AttributeError",
     "evalue": "'E' object has no attribute '_E__value'",
     "output_type": "error",
     "traceback": [
      "\u001b[1;31m---------------------------------------------------------------------------\u001b[0m",
      "\u001b[1;31mAttributeError\u001b[0m                            Traceback (most recent call last)",
      "\u001b[1;32m~\\AppData\\Local\\Temp/ipykernel_7096/1023301220.py\u001b[0m in \u001b[0;36m<module>\u001b[1;34m\u001b[0m\n\u001b[0;32m      9\u001b[0m \u001b[1;33m\u001b[0m\u001b[0m\n\u001b[0;32m     10\u001b[0m \u001b[0ma\u001b[0m \u001b[1;33m=\u001b[0m \u001b[0mE\u001b[0m\u001b[1;33m(\u001b[0m\u001b[1;33m)\u001b[0m\u001b[1;33m\u001b[0m\u001b[1;33m\u001b[0m\u001b[0m\n\u001b[1;32m---> 11\u001b[1;33m \u001b[0ma\u001b[0m\u001b[1;33m.\u001b[0m\u001b[0mprintf\u001b[0m\u001b[1;33m(\u001b[0m\u001b[1;33m)\u001b[0m\u001b[1;33m\u001b[0m\u001b[1;33m\u001b[0m\u001b[0m\n\u001b[0m",
      "\u001b[1;32m~\\AppData\\Local\\Temp/ipykernel_7096/1023301220.py\u001b[0m in \u001b[0;36mprintf\u001b[1;34m(self)\u001b[0m\n\u001b[0;32m      5\u001b[0m \u001b[1;32mclass\u001b[0m \u001b[0mE\u001b[0m\u001b[1;33m(\u001b[0m\u001b[0mD\u001b[0m\u001b[1;33m)\u001b[0m\u001b[1;33m:\u001b[0m\u001b[1;33m\u001b[0m\u001b[1;33m\u001b[0m\u001b[0m\n\u001b[0;32m      6\u001b[0m     \u001b[1;32mdef\u001b[0m \u001b[0mprintf\u001b[0m\u001b[1;33m(\u001b[0m\u001b[0mself\u001b[0m\u001b[1;33m)\u001b[0m\u001b[1;33m:\u001b[0m\u001b[1;33m\u001b[0m\u001b[1;33m\u001b[0m\u001b[0m\n\u001b[1;32m----> 7\u001b[1;33m         \u001b[0mprint\u001b[0m\u001b[1;33m(\u001b[0m\u001b[0mself\u001b[0m\u001b[1;33m.\u001b[0m\u001b[0m__value\u001b[0m\u001b[1;33m)\u001b[0m\u001b[1;33m\u001b[0m\u001b[1;33m\u001b[0m\u001b[0m\n\u001b[0m\u001b[0;32m      8\u001b[0m \u001b[1;33m\u001b[0m\u001b[0m\n\u001b[0;32m      9\u001b[0m \u001b[1;33m\u001b[0m\u001b[0m\n",
      "\u001b[1;31mAttributeError\u001b[0m: 'E' object has no attribute '_E__value'"
     ]
    }
   ],
   "source": [
    "##another example\n",
    "class D:\n",
    "    __value =  5\n",
    "    \n",
    "class E(D):\n",
    "    def printf(self):\n",
    "        print(self.__value)\n",
    "     \n",
    "    \n",
    "a = E()\n",
    "a.printf()"
   ]
  },
  {
   "cell_type": "code",
   "execution_count": 209,
   "metadata": {},
   "outputs": [
    {
     "name": "stdout",
     "output_type": "stream",
     "text": [
      "public method\n"
     ]
    }
   ],
   "source": [
    "class MyClass:\n",
    "    def myPublicMethod(self):\n",
    "            print('public method')\n",
    "    def __myPrivateMethod(self):\n",
    "            print('this is private!!')\n",
    "\n",
    "obj = MyClass()\n",
    "\n",
    "obj.myPublicMethod()"
   ]
  },
  {
   "cell_type": "code",
   "execution_count": 210,
   "metadata": {},
   "outputs": [
    {
     "ename": "AttributeError",
     "evalue": "'MyClass' object has no attribute 'myPrivateMethod'",
     "output_type": "error",
     "traceback": [
      "\u001b[1;31m---------------------------------------------------------------------------\u001b[0m",
      "\u001b[1;31mAttributeError\u001b[0m                            Traceback (most recent call last)",
      "\u001b[1;32m<ipython-input-210-6c18a827dcb1>\u001b[0m in \u001b[0;36m<module>\u001b[1;34m\u001b[0m\n\u001b[1;32m----> 1\u001b[1;33m \u001b[0mobj\u001b[0m\u001b[1;33m.\u001b[0m\u001b[0mmyPrivateMethod\u001b[0m\u001b[1;33m(\u001b[0m\u001b[1;33m)\u001b[0m\u001b[1;33m\u001b[0m\u001b[1;33m\u001b[0m\u001b[0m\n\u001b[0m",
      "\u001b[1;31mAttributeError\u001b[0m: 'MyClass' object has no attribute 'myPrivateMethod'"
     ]
    }
   ],
   "source": [
    "obj.myPrivateMethod()"
   ]
  },
  {
   "cell_type": "markdown",
   "metadata": {},
   "source": [
    "From Python Essential Reference book – \n",
    "\n",
    "By default, all attributes and methods of a class are “public.”This means that they are all accessible without any restrictions. It also implies that everything defined in a base class is inherited and accessible within a derived class.This behavior is often undesirable in object-oriented applications because it exposes the internal implementation of an object and can lead to namespace conflicts between objects defined in a derived class and those defined in a base class. To fix this problem, all names in a class that start with a double underscore, such as` __Foo`, are automatically mangled to form a new name of the form `_Classname__Foo`. This effectively provides a way for a class to have private attributes and methods because private names used in a derived class won’t collide with the same private names used in a base class. \n",
    "\n",
    "Here is an example -\n",
    "```python\n",
    "class A(object):\n",
    "    def __init__(self):\n",
    "        self.__X = 3       # Mangled to self._A__X\n",
    "    def __spam(self):      # Mangled to _A__spam()\n",
    "        pass\n",
    "    def bar(self):\n",
    "        self.__spam()      # Only calls A.__spam()\n",
    "\n",
    "class B(A):\n",
    "    def __init__(self):\n",
    "        A.__init__(self)\n",
    "        self.__X = 37      # Mangled to self._B__X\n",
    "    def __spam(self):      # Mangled to _B__spam()\n",
    "        pass\n",
    "```\n",
    "\n",
    "Although this scheme provides the illusion of data hiding, there’s no strict mechanism in place to actually prevent access to the “private” attributes of a class. In particular, if the name of the class and corresponding private attribute are known, they can be accessed using the mangled name.\n"
   ]
  },
  {
   "cell_type": "markdown",
   "metadata": {},
   "source": [
    "### `__slots__`\n",
    "\n",
    "By default, instances of classes have a dictionary for attribute storage.  This wastes space for objects having very few instance variables.  The space consumption can become acute when creating large numbers of instances.\n",
    "\n",
    "The default can be overridden by defining `__slots__` in a class definition.\n",
    "\n",
    "The `__slots__` declaration takes a sequence of instance variables and reserves just enough space in each instance to hold a value for each variable.  Space is saved because `__dict__` is not created for each instance.\n",
    "\n",
    "So we achieve - \n",
    "\n",
    " - Faster attribute access\n",
    " - Memory saving\n",
    "\n",
    "[Further reading](https://stackoverflow.com/questions/472000/usage-of-slots)"
   ]
  },
  {
   "cell_type": "code",
   "execution_count": 218,
   "metadata": {},
   "outputs": [
    {
     "data": {
      "text/plain": [
       "{'name': 'Same', 'value': 44, 'group': 'Top'}"
      ]
     },
     "execution_count": 218,
     "metadata": {},
     "output_type": "execute_result"
    }
   ],
   "source": [
    "class A:\n",
    "    \n",
    "    def __init__(self, name, value, group):\n",
    "        self.name = name\n",
    "        self.value = value\n",
    "        self.group = group\n",
    "        \n",
    "a = A('Same', 44, 'Top')\n",
    "a.__dict__"
   ]
  },
  {
   "cell_type": "code",
   "execution_count": 219,
   "metadata": {},
   "outputs": [
    {
     "data": {
      "text/plain": [
       "{'name': 'Same', 'value': 44, 'group': 'Top', 'attr': 'something'}"
      ]
     },
     "execution_count": 219,
     "metadata": {},
     "output_type": "execute_result"
    }
   ],
   "source": [
    "a.attr = 'something'\n",
    "a.__dict__"
   ]
  },
  {
   "cell_type": "code",
   "execution_count": 220,
   "metadata": {},
   "outputs": [
    {
     "ename": "AttributeError",
     "evalue": "'A' object has no attribute '__slots__'",
     "output_type": "error",
     "traceback": [
      "\u001b[1;31m---------------------------------------------------------------------------\u001b[0m",
      "\u001b[1;31mAttributeError\u001b[0m                            Traceback (most recent call last)",
      "\u001b[1;32m<ipython-input-220-5e8023d04295>\u001b[0m in \u001b[0;36m<module>\u001b[1;34m\u001b[0m\n\u001b[1;32m----> 1\u001b[1;33m \u001b[0ma\u001b[0m\u001b[1;33m.\u001b[0m\u001b[0m__slots__\u001b[0m\u001b[1;33m\u001b[0m\u001b[1;33m\u001b[0m\u001b[0m\n\u001b[0m",
      "\u001b[1;31mAttributeError\u001b[0m: 'A' object has no attribute '__slots__'"
     ]
    }
   ],
   "source": [
    "a.__slots__"
   ]
  },
  {
   "cell_type": "code",
   "execution_count": 215,
   "metadata": {},
   "outputs": [
    {
     "ename": "AttributeError",
     "evalue": "'A' object has no attribute '__dict__'",
     "output_type": "error",
     "traceback": [
      "\u001b[1;31m---------------------------------------------------------------------------\u001b[0m",
      "\u001b[1;31mAttributeError\u001b[0m                            Traceback (most recent call last)",
      "\u001b[1;32m<ipython-input-215-87f6aa290151>\u001b[0m in \u001b[0;36m<module>\u001b[1;34m\u001b[0m\n\u001b[0;32m     10\u001b[0m \u001b[0ma\u001b[0m \u001b[1;33m=\u001b[0m \u001b[0mA\u001b[0m\u001b[1;33m(\u001b[0m\u001b[1;34m'Same'\u001b[0m\u001b[1;33m,\u001b[0m \u001b[1;36m44\u001b[0m\u001b[1;33m,\u001b[0m \u001b[1;34m'Top'\u001b[0m\u001b[1;33m)\u001b[0m\u001b[1;33m\u001b[0m\u001b[1;33m\u001b[0m\u001b[0m\n\u001b[0;32m     11\u001b[0m \u001b[1;33m\u001b[0m\u001b[0m\n\u001b[1;32m---> 12\u001b[1;33m \u001b[0ma\u001b[0m\u001b[1;33m.\u001b[0m\u001b[0m__dict__\u001b[0m\u001b[1;33m\u001b[0m\u001b[1;33m\u001b[0m\u001b[0m\n\u001b[0m",
      "\u001b[1;31mAttributeError\u001b[0m: 'A' object has no attribute '__dict__'"
     ]
    }
   ],
   "source": [
    "class A:\n",
    "    \n",
    "    __slots__ = ['name', 'value', 'group']\n",
    "    \n",
    "    def __init__(self, name, value, group):\n",
    "        self.name = name\n",
    "        self.value = value\n",
    "        self.group = group\n",
    "        \n",
    "a = A('Same', 44, 'Top')\n",
    "\n",
    "a.__dict__ #when slots are defined, __dict__ becomes unavailable"
   ]
  },
  {
   "cell_type": "code",
   "execution_count": 216,
   "metadata": {},
   "outputs": [
    {
     "ename": "AttributeError",
     "evalue": "'A' object has no attribute 'attr'",
     "output_type": "error",
     "traceback": [
      "\u001b[1;31m---------------------------------------------------------------------------\u001b[0m",
      "\u001b[1;31mAttributeError\u001b[0m                            Traceback (most recent call last)",
      "\u001b[1;32m<ipython-input-216-9c2a3b72f734>\u001b[0m in \u001b[0;36m<module>\u001b[1;34m\u001b[0m\n\u001b[1;32m----> 1\u001b[1;33m \u001b[0ma\u001b[0m\u001b[1;33m.\u001b[0m\u001b[0mattr\u001b[0m \u001b[1;33m=\u001b[0m \u001b[1;34m'not a chance'\u001b[0m\u001b[1;33m\u001b[0m\u001b[1;33m\u001b[0m\u001b[0m\n\u001b[0m\u001b[0;32m      2\u001b[0m \u001b[0ma\u001b[0m\u001b[1;33m.\u001b[0m\u001b[0mattr\u001b[0m\u001b[1;33m\u001b[0m\u001b[1;33m\u001b[0m\u001b[0m\n",
      "\u001b[1;31mAttributeError\u001b[0m: 'A' object has no attribute 'attr'"
     ]
    }
   ],
   "source": [
    "a.attr = 'not a chance' #no other attribute, except for allowed by slots, is possible\n",
    "a.attr"
   ]
  },
  {
   "cell_type": "code",
   "execution_count": 217,
   "metadata": {},
   "outputs": [
    {
     "data": {
      "text/plain": [
       "['name', 'value', 'group']"
      ]
     },
     "execution_count": 217,
     "metadata": {},
     "output_type": "execute_result"
    }
   ],
   "source": [
    "a.__slots__"
   ]
  },
  {
   "cell_type": "markdown",
   "metadata": {},
   "source": [
    "### `@classmethod` and `@staticmethod`\n",
    "\n",
    "Note - Since we haven't covered decorators, you may be puzzled by this `@` prefixes in above terms. We will cover them in future. \n",
    "\n",
    "First, a same old boring example -\n"
   ]
  },
  {
   "cell_type": "code",
   "execution_count": 228,
   "metadata": {},
   "outputs": [
    {
     "name": "stdout",
     "output_type": "stream",
     "text": [
      "Hi\n"
     ]
    }
   ],
   "source": [
    "class A:\n",
    "    \n",
    "    def test(self):\n",
    "        print('Hi')\n",
    "        \n",
    "a = A()\n",
    "\n",
    "a.test() #this is how method is run"
   ]
  },
  {
   "cell_type": "code",
   "execution_count": 229,
   "metadata": {},
   "outputs": [
    {
     "name": "stdout",
     "output_type": "stream",
     "text": [
      "Hi\n"
     ]
    }
   ],
   "source": [
    "A.test(a) #unbounded function"
   ]
  },
  {
   "cell_type": "code",
   "execution_count": 230,
   "metadata": {},
   "outputs": [
    {
     "ename": "TypeError",
     "evalue": "test() missing 1 required positional argument: 'self'",
     "output_type": "error",
     "traceback": [
      "\u001b[1;31m---------------------------------------------------------------------------\u001b[0m",
      "\u001b[1;31mTypeError\u001b[0m                                 Traceback (most recent call last)",
      "\u001b[1;32m<ipython-input-230-cbd3f23c7400>\u001b[0m in \u001b[0;36m<module>\u001b[1;34m\u001b[0m\n\u001b[1;32m----> 1\u001b[1;33m \u001b[0mA\u001b[0m\u001b[1;33m.\u001b[0m\u001b[0mtest\u001b[0m\u001b[1;33m(\u001b[0m\u001b[1;33m)\u001b[0m \u001b[1;31m#not a chance\u001b[0m\u001b[1;33m\u001b[0m\u001b[1;33m\u001b[0m\u001b[0m\n\u001b[0m",
      "\u001b[1;31mTypeError\u001b[0m: test() missing 1 required positional argument: 'self'"
     ]
    }
   ],
   "source": [
    "A.test() #not a chance"
   ]
  },
  {
   "cell_type": "markdown",
   "metadata": {},
   "source": [
    "Whether you use `test` as bounded function (that is, you run it as `a.test()`) or as unbounded function (`A.test(a)`), you need to have an instance of the class. You are actually using `test` on *per instance* basis. After all, class members are meant to be used by instances. The way you define a method, the first parameter is always set as `self`. \n",
    "\n",
    "Class methods, on the other hand, don't need instances. Instead of `self` (instance), they have `cls` (class) as first parameter. So how does that work? You use `@classmethod` decorator as shown below -   \n",
    "\n"
   ]
  },
  {
   "cell_type": "code",
   "execution_count": 231,
   "metadata": {},
   "outputs": [
    {
     "name": "stdout",
     "output_type": "stream",
     "text": [
      "Hi\n"
     ]
    }
   ],
   "source": [
    "class A:\n",
    "    \n",
    "    @classmethod\n",
    "    def test(cls):\n",
    "        print('Hi')\n",
    "        \n",
    "A.test()        "
   ]
  },
  {
   "cell_type": "code",
   "execution_count": 232,
   "metadata": {},
   "outputs": [
    {
     "name": "stdout",
     "output_type": "stream",
     "text": [
      "Hi\n"
     ]
    }
   ],
   "source": [
    "a = A()\n",
    "a.test()  #cls is automatically passed as first argument to test()"
   ]
  },
  {
   "cell_type": "code",
   "execution_count": 233,
   "metadata": {},
   "outputs": [
    {
     "ename": "TypeError",
     "evalue": "test() takes 1 positional argument but 2 were given",
     "output_type": "error",
     "traceback": [
      "\u001b[1;31m---------------------------------------------------------------------------\u001b[0m",
      "\u001b[1;31mTypeError\u001b[0m                                 Traceback (most recent call last)",
      "\u001b[1;32m<ipython-input-233-b5c2e8400cbf>\u001b[0m in \u001b[0;36m<module>\u001b[1;34m\u001b[0m\n\u001b[1;32m----> 1\u001b[1;33m \u001b[0mA\u001b[0m\u001b[1;33m.\u001b[0m\u001b[0mtest\u001b[0m\u001b[1;33m(\u001b[0m\u001b[0ma\u001b[0m\u001b[1;33m)\u001b[0m\u001b[1;33m\u001b[0m\u001b[1;33m\u001b[0m\u001b[0m\n\u001b[0m",
      "\u001b[1;31mTypeError\u001b[0m: test() takes 1 positional argument but 2 were given"
     ]
    }
   ],
   "source": [
    "A.test(a) #if test() were instance method, this would've run"
   ]
  },
  {
   "cell_type": "markdown",
   "metadata": {},
   "source": [
    "Note also that there is no way class methods can access or manipulate instance variables. However, they can access class variables. \n"
   ]
  },
  {
   "cell_type": "code",
   "execution_count": 235,
   "metadata": {},
   "outputs": [
    {
     "data": {
      "text/plain": [
       "9"
      ]
     },
     "execution_count": 235,
     "metadata": {},
     "output_type": "execute_result"
    }
   ],
   "source": [
    "class Times():\n",
    "    factor = 3\n",
    "    @classmethod\n",
    "    def mul(cls,x):\n",
    "        return cls.factor*x \n",
    "    \n",
    "Times.mul(3)    "
   ]
  },
  {
   "cell_type": "code",
   "execution_count": 236,
   "metadata": {},
   "outputs": [
    {
     "data": {
      "text/plain": [
       "mappingproxy({'__module__': '__main__', 'factor': 3, 'mul': <classmethod object at 0x0000002E7DB3A340>, '__dict__': <attribute '__dict__' of 'Times' objects>, '__weakref__': <attribute '__weakref__' of 'Times' objects>, '__doc__': None})"
      ]
     },
     "execution_count": 236,
     "metadata": {},
     "output_type": "execute_result"
    }
   ],
   "source": [
    "Times.__dict__"
   ]
  },
  {
   "cell_type": "markdown",
   "metadata": {},
   "source": [
    "Class methods can be inherited. In that case, `cls` refers to child class. "
   ]
  },
  {
   "cell_type": "code",
   "execution_count": 237,
   "metadata": {},
   "outputs": [
    {
     "name": "stdout",
     "output_type": "stream",
     "text": [
      "8\n"
     ]
    }
   ],
   "source": [
    "class Times():\n",
    "    factor = 1\n",
    "    @classmethod\n",
    "    def mul(cls,x):\n",
    "        return cls.factor*x\n",
    "\n",
    "class TwoTimes(Times):\n",
    "    factor = 2\n",
    "\n",
    "x = TwoTimes.mul(4)    \n",
    "\n",
    "print(x)"
   ]
  },
  {
   "cell_type": "markdown",
   "metadata": {},
   "source": [
    "### `@staticmethod`"
   ]
  },
  {
   "cell_type": "code",
   "execution_count": 256,
   "metadata": {},
   "outputs": [
    {
     "name": "stdout",
     "output_type": "stream",
     "text": [
      "Hi\n"
     ]
    }
   ],
   "source": [
    "class Test:\n",
    "\n",
    "    @staticmethod\n",
    "    def testmethod():\n",
    "        print('Hi')\n",
    "    \n",
    "    def __init__(self,number):\n",
    "        self.number = number\n",
    "\n",
    "    def setmethod(self):\n",
    "        print(self.number)    \n",
    "\n",
    "Test.testmethod()       "
   ]
  },
  {
   "cell_type": "markdown",
   "metadata": {},
   "source": [
    "### `@property`"
   ]
  },
  {
   "cell_type": "code",
   "execution_count": 257,
   "metadata": {},
   "outputs": [
    {
     "data": {
      "text/plain": [
       "4"
      ]
     },
     "execution_count": 257,
     "metadata": {},
     "output_type": "execute_result"
    }
   ],
   "source": [
    "import math\n",
    "\n",
    "class Circle:\n",
    "    def __init__(self,radius):\n",
    "        self.radius = radius\n",
    "\n",
    "    @property\n",
    "    def area(self):\n",
    "        return math.pi*self.radius**2\n",
    "\n",
    "    @property\n",
    "    def perimeter(self):\n",
    "        return 2*math.pi*self.radius\n",
    "\n",
    "c = Circle(4)\n",
    "c.radius\n",
    "\n"
   ]
  },
  {
   "cell_type": "code",
   "execution_count": 258,
   "metadata": {},
   "outputs": [
    {
     "data": {
      "text/plain": [
       "(25.132741228718345, 50.26548245743669)"
      ]
     },
     "execution_count": 258,
     "metadata": {},
     "output_type": "execute_result"
    }
   ],
   "source": [
    "c.perimeter, c.area"
   ]
  },
  {
   "cell_type": "code",
   "execution_count": 259,
   "metadata": {
    "scrolled": true
   },
   "outputs": [
    {
     "ename": "AttributeError",
     "evalue": "can't set attribute",
     "output_type": "error",
     "traceback": [
      "\u001b[1;31m---------------------------------------------------------------------------\u001b[0m",
      "\u001b[1;31mAttributeError\u001b[0m                            Traceback (most recent call last)",
      "\u001b[1;32m<ipython-input-259-304c1f226521>\u001b[0m in \u001b[0;36m<module>\u001b[1;34m\u001b[0m\n\u001b[1;32m----> 1\u001b[1;33m \u001b[0mc\u001b[0m\u001b[1;33m.\u001b[0m\u001b[0mperimeter\u001b[0m \u001b[1;33m=\u001b[0m  \u001b[1;36m5\u001b[0m\u001b[1;33m\u001b[0m\u001b[1;33m\u001b[0m\u001b[0m\n\u001b[0m",
      "\u001b[1;31mAttributeError\u001b[0m: can't set attribute"
     ]
    }
   ],
   "source": [
    "c.perimeter =  5"
   ]
  },
  {
   "cell_type": "markdown",
   "metadata": {},
   "source": [
    "As we know, instances of a class has attributes and methods bound to them. To access attributes and methods, we use dot notation. To access an attribute, we write `object.attribute` while to apply a method, we write `object.method()`. However, unlike methods, we can always change the value of attribute as shown above (c.radius = 5). In above program, if we don’t use `@property` decorator, we would apply method like this: `c.perimeter()`. But by using `@property` decorator, we get rid of those parentheses used after a method. So, now we can write `c.perimeter` instead of `c.perimeter()`. However, as said earlier, we can’t change the value of `c.perimeter` which is obvious. This is an example of making programming interface as uniform as possible.(Uniform Access Principle)\t"
   ]
  },
  {
   "cell_type": "markdown",
   "metadata": {},
   "source": [
    "#### `__repr__`"
   ]
  },
  {
   "cell_type": "code",
   "execution_count": 238,
   "metadata": {},
   "outputs": [
    {
     "data": {
      "text/plain": [
       "value for current instance = 5"
      ]
     },
     "execution_count": 238,
     "metadata": {},
     "output_type": "execute_result"
    }
   ],
   "source": [
    "class Test:\n",
    "\tdef __init__(self,value):\n",
    "\t\tself.value = value\n",
    "\tdef __repr__(self):\n",
    "\t\treturn 'value for current instance = %s' % self.value\n",
    "\n",
    "a = Test(5)\n",
    "a"
   ]
  },
  {
   "cell_type": "markdown",
   "metadata": {},
   "source": [
    "#### `__call__`"
   ]
  },
  {
   "cell_type": "code",
   "execution_count": 239,
   "metadata": {},
   "outputs": [
    {
     "name": "stdout",
     "output_type": "stream",
     "text": [
      "Hi\n"
     ]
    }
   ],
   "source": [
    "class Foo:\n",
    "    def __call__(self):\n",
    "        print('Hi')\n",
    "        \n",
    "bar = Foo()\n",
    "bar()\n"
   ]
  },
  {
   "cell_type": "markdown",
   "metadata": {},
   "source": [
    "#### `__del__`"
   ]
  },
  {
   "cell_type": "code",
   "execution_count": 240,
   "metadata": {},
   "outputs": [
    {
     "name": "stdout",
     "output_type": "stream",
     "text": [
      "Mayank\n",
      "Hi Mayank\n"
     ]
    }
   ],
   "source": [
    "class Person:\n",
    "    def __init__(self, name):\n",
    "        self.name = name\n",
    "        print(self.name)\n",
    "        \n",
    "    def sayhello(self):\n",
    "        print(\"Hi\", self.name)\n",
    "        \n",
    "    def __del__(self):\n",
    "        print(\"bye\", self.name)\n",
    "        \n",
    "A = Person(\"Mayank\")\n",
    "\n",
    "A.sayhello()        \n",
    "        "
   ]
  },
  {
   "cell_type": "code",
   "execution_count": 242,
   "metadata": {},
   "outputs": [
    {
     "name": "stdout",
     "output_type": "stream",
     "text": [
      "bye Mayank\n"
     ]
    }
   ],
   "source": [
    "del A"
   ]
  },
  {
   "cell_type": "code",
   "execution_count": 245,
   "metadata": {},
   "outputs": [
    {
     "name": "stdout",
     "output_type": "stream",
     "text": [
      "1\n",
      "199677415280\n",
      "2\n",
      "199677413888\n"
     ]
    }
   ],
   "source": [
    "class Employee:\n",
    "    \n",
    "    empCount = 0\n",
    "    \n",
    "    def __init__(self):\n",
    "        Employee.empCount += 1\n",
    "        print(Employee.empCount)\n",
    "        print(id(self))\n",
    "\n",
    "    def __del__(self):\n",
    "        Employee.empCount -= 1\n",
    "        print(Employee.empCount)\n",
    "        print(id(self))\n",
    "        \n",
    "emp1 = Employee()\n",
    "emp2 = Employee()"
   ]
  },
  {
   "cell_type": "code",
   "execution_count": 246,
   "metadata": {},
   "outputs": [
    {
     "name": "stdout",
     "output_type": "stream",
     "text": [
      "1\n",
      "199677415280\n"
     ]
    }
   ],
   "source": [
    "del emp1"
   ]
  },
  {
   "cell_type": "code",
   "execution_count": 247,
   "metadata": {},
   "outputs": [
    {
     "name": "stdout",
     "output_type": "stream",
     "text": [
      "0\n",
      "199677413888\n"
     ]
    }
   ],
   "source": [
    "del emp2"
   ]
  },
  {
   "cell_type": "code",
   "execution_count": 248,
   "metadata": {},
   "outputs": [
    {
     "data": {
      "text/plain": [
       "0"
      ]
     },
     "execution_count": 248,
     "metadata": {},
     "output_type": "execute_result"
    }
   ],
   "source": [
    "Employee.empCount"
   ]
  },
  {
   "cell_type": "markdown",
   "metadata": {},
   "source": [
    "#### `__add__`\n",
    "\n"
   ]
  },
  {
   "cell_type": "code",
   "execution_count": 243,
   "metadata": {},
   "outputs": [
    {
     "data": {
      "text/plain": [
       "('xy', 'x', 'y')"
      ]
     },
     "execution_count": 243,
     "metadata": {},
     "output_type": "execute_result"
    }
   ],
   "source": [
    "class Strings:\n",
    "    def __init__(self,a):\n",
    "        self.a = a\n",
    "        \n",
    "    def __add__(self, other):\n",
    "        return self.a + other.a\n",
    "    \n",
    "aa = Strings('x')\n",
    "ba = Strings('y')\n",
    "\n",
    "aa+ba, aa.a, ba.a"
   ]
  },
  {
   "cell_type": "code",
   "execution_count": 244,
   "metadata": {},
   "outputs": [
    {
     "data": {
      "text/plain": [
       "(7, 9)"
      ]
     },
     "execution_count": 244,
     "metadata": {},
     "output_type": "execute_result"
    }
   ],
   "source": [
    "class Foo:\n",
    "    def __init__(self,x,y):\n",
    "        self.x = x\n",
    "        self.y = y\n",
    "        \n",
    "    def __add__(self, other):\n",
    "        self.x = self.x + other.x\n",
    "        self.y = self.y + other.y\n",
    "        return self.x, self.y\n",
    "    \n",
    "a = Foo(3,4)\n",
    "b = Foo(4,5)\n",
    "\n",
    "a + b\n"
   ]
  },
  {
   "cell_type": "markdown",
   "metadata": {},
   "source": [
    "Some random examples - "
   ]
  },
  {
   "cell_type": "code",
   "execution_count": 249,
   "metadata": {},
   "outputs": [
    {
     "name": "stdout",
     "output_type": "stream",
     "text": [
      "Hi\n"
     ]
    }
   ],
   "source": [
    "class Foo:\n",
    "    def __init__(self, door):\n",
    "        self.door = door\n",
    "        \n",
    "    def test(self):\n",
    "        return self.door.bar()\n",
    "    \n",
    "class Baz:\n",
    "    def bar(self):\n",
    "        print('Hi')\n",
    "        \n",
    "        \n",
    "baz = Baz()\n",
    "foo = Foo(baz)\n",
    "foo.test()        "
   ]
  },
  {
   "cell_type": "code",
   "execution_count": 16,
   "metadata": {},
   "outputs": [
    {
     "name": "stdout",
     "output_type": "stream",
     "text": [
      "1500\n",
      "1000\n"
     ]
    }
   ],
   "source": [
    "class Customer:\n",
    "    def __init__(self, name, balance):\n",
    "        self.name = name\n",
    "        self.balance =balance\n",
    "    \n",
    "    def deposit(self, amount):\n",
    "        self.amount = amount\n",
    "        self.balance = self.balance + self.amount\n",
    "        print(self.balance)\n",
    "        \n",
    "    def test(self):\n",
    "        #print(amount)  #wouldn't work\n",
    "        print(self.amount)\n",
    "        \n",
    "        \n",
    "customer1 = Customer(\"Sam\", 1000)\n",
    "customer2 = Customer(\"Peter\", 500)\n",
    "\n",
    "customer1.deposit(500)\n",
    "customer2.deposit(500) "
   ]
  },
  {
   "cell_type": "code",
   "execution_count": 17,
   "metadata": {},
   "outputs": [
    {
     "name": "stdout",
     "output_type": "stream",
     "text": [
      "500\n"
     ]
    }
   ],
   "source": [
    "customer1.test()"
   ]
  },
  {
   "cell_type": "code",
   "execution_count": null,
   "metadata": {},
   "outputs": [],
   "source": []
  }
 ],
 "metadata": {
  "kernelspec": {
   "display_name": "Python 3 (ipykernel)",
   "language": "python",
   "name": "python3"
  },
  "language_info": {
   "codemirror_mode": {
    "name": "ipython",
    "version": 3
   },
   "file_extension": ".py",
   "mimetype": "text/x-python",
   "name": "python",
   "nbconvert_exporter": "python",
   "pygments_lexer": "ipython3",
   "version": "3.9.7"
  }
 },
 "nbformat": 4,
 "nbformat_minor": 2
}
