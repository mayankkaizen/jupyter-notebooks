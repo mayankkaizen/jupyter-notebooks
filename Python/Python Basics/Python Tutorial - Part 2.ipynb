{
 "cells": [
  {
   "cell_type": "markdown",
   "metadata": {},
   "source": [
    "### String Formatting\n",
    "\n",
    "Python provides 3 ways for string formatting. \n",
    "\n",
    " - % string formatting\n",
    " - string.format\n",
    " - f'string"
   ]
  },
  {
   "cell_type": "code",
   "execution_count": 1,
   "metadata": {},
   "outputs": [
    {
     "name": "stdout",
     "output_type": "stream",
     "text": [
      "Name given is Peter\n"
     ]
    }
   ],
   "source": [
    "name = 'Peter'\n",
    "print(\"Name given is %s\" %name)"
   ]
  },
  {
   "cell_type": "code",
   "execution_count": 17,
   "metadata": {},
   "outputs": [
    {
     "name": "stdout",
     "output_type": "stream",
     "text": [
      "Peter age is 40\n"
     ]
    }
   ],
   "source": [
    "name =  'Peter'\n",
    "age = 40\n",
    "\n",
    "print(\"%s age is %d\" %(name, age))"
   ]
  },
  {
   "cell_type": "markdown",
   "metadata": {},
   "source": [
    "`%s` is used to inject strings similarly `%d` for integers, `%f` for floating-point values, `%b` for binary format.\n",
    "\n",
    "Floating-point numbers use the format `%a.bf`. Here, `a` would be the minimum number of digits to be present in the string; these might be padded with white space if the whole number doesn’t have this many digits. Close to this, `bf` represents how many digits are to be displayed after the decimal point. "
   ]
  },
  {
   "cell_type": "code",
   "execution_count": 3,
   "metadata": {},
   "outputs": [
    {
     "name": "stdout",
     "output_type": "stream",
     "text": [
      "value is 3\n",
      "value is 3.1\n",
      "value is  3\n",
      "value is   3\n",
      "value is 3.13\n",
      "value is 3.1344000\n"
     ]
    }
   ],
   "source": [
    "dec = 3.1344\n",
    "\n",
    "print(\"value is %.0f\" %dec)\n",
    "print(\"value is %2.1f\" %dec) #no padding as min digit required is 2\n",
    "print(\"value is %2.0f\" %dec) #padded with 1 white space characters\n",
    "print(\"value is %3.0f\" %dec) #padded with 2 white space characters\n",
    "print(\"value is %3.2f\" %dec) #no padding as no has 3 digits\n",
    "print(\"value is %3.7f\" %dec) #no padding as we need min 3 digits but number has 8 digits"
   ]
  },
  {
   "cell_type": "markdown",
   "metadata": {},
   "source": [
    "`format()` method\n",
    "\n"
   ]
  },
  {
   "cell_type": "code",
   "execution_count": 4,
   "metadata": {},
   "outputs": [
    {
     "name": "stdout",
     "output_type": "stream",
     "text": [
      "Name is Peter and age is 40\n"
     ]
    }
   ],
   "source": [
    "name, age = \"Peter\", 40\n",
    "\n",
    "print(\"Name is {} and age is {}\".format(name, age))"
   ]
  },
  {
   "cell_type": "markdown",
   "metadata": {},
   "source": [
    "You can also provide indexing in `{}` which will map to values in `format()`."
   ]
  },
  {
   "cell_type": "code",
   "execution_count": 27,
   "metadata": {},
   "outputs": [
    {
     "name": "stdout",
     "output_type": "stream",
     "text": [
      "Name is Peter and age is 40\n"
     ]
    }
   ],
   "source": [
    "name, age = \"Peter\", 40\n",
    "\n",
    "print(\"Name is {1} and age is {0}\".format(age, name))"
   ]
  },
  {
   "cell_type": "markdown",
   "metadata": {},
   "source": [
    "Or you can use keywords by doing something like this - "
   ]
  },
  {
   "cell_type": "code",
   "execution_count": 28,
   "metadata": {},
   "outputs": [
    {
     "name": "stdout",
     "output_type": "stream",
     "text": [
      "Name is Peter and age is 40\n"
     ]
    }
   ],
   "source": [
    "name, age = \"Peter\", 40\n",
    "\n",
    "print(\"Name is {a} and age is {b}\".format(a = name,b = age))"
   ]
  },
  {
   "cell_type": "code",
   "execution_count": 29,
   "metadata": {},
   "outputs": [
    {
     "name": "stdout",
     "output_type": "stream",
     "text": [
      "The first second was alright, but the second second was tough.\n"
     ]
    }
   ],
   "source": [
    "print('The first {p} was alright, but the {p} {p} was tough.'.format(p = 'second'))\n",
    "\n"
   ]
  },
  {
   "cell_type": "code",
   "execution_count": 1,
   "metadata": {},
   "outputs": [
    {
     "name": "stdout",
     "output_type": "stream",
     "text": [
      "The valueof pi is: 3.14000\n"
     ]
    }
   ],
   "source": [
    "print('The valueof pi is: {0:1.5f}'.format(3.14, 3434.434343434))\n",
    "\n",
    "# 0 in {0:1.5f} is the index for values supplied in format() method. \n"
   ]
  },
  {
   "cell_type": "markdown",
   "metadata": {},
   "source": [
    "See also - https://pyformat.info/"
   ]
  },
  {
   "cell_type": "markdown",
   "metadata": {},
   "source": [
    "#### f-strings\n",
    "\n",
    "Only for Python3.6+ ."
   ]
  },
  {
   "cell_type": "code",
   "execution_count": 33,
   "metadata": {},
   "outputs": [
    {
     "data": {
      "text/plain": [
       "'roses are red'"
      ]
     },
     "execution_count": 33,
     "metadata": {},
     "output_type": "execute_result"
    }
   ],
   "source": [
    ">>> a = 'roses'\n",
    ">>> b = 'red'\n",
    "\n",
    ">>> f'{a} are {b}'\n"
   ]
  },
  {
   "cell_type": "code",
   "execution_count": 34,
   "metadata": {},
   "outputs": [
    {
     "name": "stdout",
     "output_type": "stream",
     "text": [
      "He said his age is 30.\n"
     ]
    }
   ],
   "source": [
    "a = 5\n",
    " \n",
    "b = 10\n",
    " \n",
    "print(f\"He said his age is {2 * (a + b)}.\")"
   ]
  },
  {
   "cell_type": "markdown",
   "metadata": {
    "collapsed": true
   },
   "source": [
    "### `sys.argv`"
   ]
  },
  {
   "cell_type": "code",
   "execution_count": 13,
   "metadata": {},
   "outputs": [
    {
     "name": "stdout",
     "output_type": "stream",
     "text": [
      "['C:\\\\Users\\\\pcxyz\\\\miniconda3\\\\envs\\\\data\\\\lib\\\\site-packages\\\\ipykernel_launcher.py', '-f', 'C:\\\\Users\\\\pcxyz\\\\AppData\\\\Roaming\\\\jupyter\\\\runtime\\\\kernel-a9e2704c-d2df-476c-a538-1e0512046aba.json']\n"
     ]
    }
   ],
   "source": [
    "# save it in a file and run through command line\n",
    "\n",
    "import sys\n",
    "if __name__ == '__main__':\n",
    "    arg_length = len(sys.argv)\n",
    "    if arg_length >= 2 and arg_length <=3:\n",
    "        print(sys.argv)\n",
    "    else:\n",
    "        print('please enter two arguments')\n"
   ]
  },
  {
   "cell_type": "markdown",
   "metadata": {},
   "source": [
    "#### Working with Files"
   ]
  },
  {
   "cell_type": "code",
   "execution_count": 16,
   "metadata": {},
   "outputs": [],
   "source": [
    "f = open('file.txt','w')\n",
    "#if file doesn't exist, it will be created\n",
    "f.close()"
   ]
  },
  {
   "cell_type": "code",
   "execution_count": 17,
   "metadata": {},
   "outputs": [
    {
     "data": {
      "text/plain": [
       "<_io.TextIOWrapper name='file.txt' mode='w' encoding='cp1252'>"
      ]
     },
     "execution_count": 17,
     "metadata": {},
     "output_type": "execute_result"
    }
   ],
   "source": [
    "f"
   ]
  },
  {
   "cell_type": "code",
   "execution_count": 47,
   "metadata": {},
   "outputs": [
    {
     "data": {
      "text/plain": [
       "14"
      ]
     },
     "execution_count": 47,
     "metadata": {},
     "output_type": "execute_result"
    }
   ],
   "source": [
    "f = open('file.txt', 'w')\n",
    "f.write('Holla hooo!!!\\n')\n",
    "#if file already exists, old content is deleted"
   ]
  },
  {
   "cell_type": "code",
   "execution_count": 48,
   "metadata": {
    "collapsed": true
   },
   "outputs": [],
   "source": [
    "f.close()"
   ]
  },
  {
   "cell_type": "code",
   "execution_count": 49,
   "metadata": {
    "collapsed": true
   },
   "outputs": [],
   "source": [
    "f=open('file.txt','a')\n",
    "f.write('I am an engineer\\nI live in Delhi\\nI\\'m married')\n",
    "f.close()\n"
   ]
  },
  {
   "cell_type": "code",
   "execution_count": 50,
   "metadata": {},
   "outputs": [
    {
     "data": {
      "text/plain": [
       "['Holla hooo!!!\\n', 'I am an engineer\\n', 'I live in Delhi\\n', \"I'm married\"]"
      ]
     },
     "execution_count": 50,
     "metadata": {},
     "output_type": "execute_result"
    }
   ],
   "source": [
    "f = open('file.txt','r')\n",
    "a = f.readlines() #returns list, each element is string consituting each line\n",
    "a"
   ]
  },
  {
   "cell_type": "code",
   "execution_count": 51,
   "metadata": {},
   "outputs": [
    {
     "data": {
      "text/plain": [
       "str"
      ]
     },
     "execution_count": 51,
     "metadata": {},
     "output_type": "execute_result"
    }
   ],
   "source": [
    "f = open('file.txt', 'r')\n",
    "b = f.read()\n",
    "type(b)"
   ]
  },
  {
   "cell_type": "code",
   "execution_count": 52,
   "metadata": {},
   "outputs": [
    {
     "data": {
      "text/plain": [
       "\"Holla hooo!!!\\nI am an engineer\\nI live in Delhi\\nI'm married\""
      ]
     },
     "execution_count": 52,
     "metadata": {},
     "output_type": "execute_result"
    }
   ],
   "source": [
    "b"
   ]
  },
  {
   "cell_type": "code",
   "execution_count": 53,
   "metadata": {},
   "outputs": [
    {
     "name": "stdout",
     "output_type": "stream",
     "text": [
      "Pretty printing has been turned OFF\n"
     ]
    },
    {
     "data": {
      "text/plain": [
       "['Holla hooo!!!', 'I am an engineer', 'I live in Delhi', \"I'm married\"]"
      ]
     },
     "execution_count": 53,
     "metadata": {},
     "output_type": "execute_result"
    }
   ],
   "source": [
    "%pprint\n",
    "b.split('\\n')"
   ]
  },
  {
   "cell_type": "code",
   "execution_count": 54,
   "metadata": {
    "collapsed": true
   },
   "outputs": [],
   "source": [
    "f.close() #close the file to save the work"
   ]
  },
  {
   "cell_type": "code",
   "execution_count": 55,
   "metadata": {},
   "outputs": [
    {
     "name": "stdout",
     "output_type": "stream",
     "text": [
      "Holla hooo!!!\n",
      "\n",
      "I am an engineer\n",
      "\n",
      "I live in Delhi\n",
      "\n",
      "I'm married\n"
     ]
    }
   ],
   "source": [
    "f = open('file.txt','r')\n",
    "for line in f:\n",
    "    print(line)"
   ]
  },
  {
   "cell_type": "code",
   "execution_count": 56,
   "metadata": {},
   "outputs": [
    {
     "data": {
      "text/plain": [
       "'Holla hooo'"
      ]
     },
     "execution_count": 56,
     "metadata": {},
     "output_type": "execute_result"
    }
   ],
   "source": [
    "f = open('file.txt','r')\n",
    "f.read(10) #read 10 bytes. If no argument, entire content is returned."
   ]
  },
  {
   "cell_type": "code",
   "execution_count": 57,
   "metadata": {},
   "outputs": [
    {
     "data": {
      "text/plain": [
       "'!!!\\n'"
      ]
     },
     "execution_count": 57,
     "metadata": {},
     "output_type": "execute_result"
    }
   ],
   "source": [
    "f.readline()"
   ]
  },
  {
   "cell_type": "code",
   "execution_count": 58,
   "metadata": {},
   "outputs": [
    {
     "data": {
      "text/plain": [
       "'I am an engineer\\n'"
      ]
     },
     "execution_count": 58,
     "metadata": {},
     "output_type": "execute_result"
    }
   ],
   "source": [
    "f.readline() #successive calls return successive lines."
   ]
  },
  {
   "cell_type": "code",
   "execution_count": 59,
   "metadata": {},
   "outputs": [
    {
     "data": {
      "text/plain": [
       "['I live in Delhi\\n', \"I'm married\"]"
      ]
     },
     "execution_count": 59,
     "metadata": {},
     "output_type": "execute_result"
    }
   ],
   "source": [
    "list(f)"
   ]
  },
  {
   "cell_type": "markdown",
   "metadata": {},
   "source": [
    "#### Context Manager"
   ]
  },
  {
   "cell_type": "code",
   "execution_count": 60,
   "metadata": {
    "scrolled": true
   },
   "outputs": [
    {
     "data": {
      "text/plain": [
       "['Holla hooo!!!\\n', 'I am an engineer\\n', 'I live in Delhi\\n', \"I'm marriedI like programming\\n\"]"
      ]
     },
     "execution_count": 60,
     "metadata": {},
     "output_type": "execute_result"
    }
   ],
   "source": [
    "#You don't have to close files with context manager. \n",
    "with open('file.txt','a') as f:\n",
    "    f.write('I like programming\\n')\n",
    "    \n",
    "f = open('file.txt', 'r')\n",
    "f.readlines()"
   ]
  },
  {
   "cell_type": "code",
   "execution_count": 61,
   "metadata": {},
   "outputs": [
    {
     "ename": "FileExistsError",
     "evalue": "[Errno 17] File exists: 'file1.txt'",
     "output_type": "error",
     "traceback": [
      "\u001b[1;31m---------------------------------------------------------------------------\u001b[0m",
      "\u001b[1;31mFileExistsError\u001b[0m                           Traceback (most recent call last)",
      "\u001b[1;32m<ipython-input-61-75d36cb2fdac>\u001b[0m in \u001b[0;36m<module>\u001b[1;34m\u001b[0m\n\u001b[0;32m      2\u001b[0m \u001b[1;31m#if file already exists, it will raise a error\u001b[0m\u001b[1;33m\u001b[0m\u001b[1;33m\u001b[0m\u001b[0m\n\u001b[0;32m      3\u001b[0m \u001b[1;33m\u001b[0m\u001b[0m\n\u001b[1;32m----> 4\u001b[1;33m \u001b[1;32mwith\u001b[0m \u001b[0mopen\u001b[0m\u001b[1;33m(\u001b[0m\u001b[1;34m'file1.txt'\u001b[0m\u001b[1;33m,\u001b[0m \u001b[1;34m'x'\u001b[0m\u001b[1;33m)\u001b[0m \u001b[1;32mas\u001b[0m \u001b[0mf\u001b[0m\u001b[1;33m:\u001b[0m\u001b[1;33m\u001b[0m\u001b[0m\n\u001b[0m\u001b[0;32m      5\u001b[0m     \u001b[0mf\u001b[0m\u001b[1;33m.\u001b[0m\u001b[0mwrite\u001b[0m\u001b[1;33m(\u001b[0m\u001b[1;34m\"nope, nope.\"\u001b[0m\u001b[1;33m)\u001b[0m\u001b[1;33m\u001b[0m\u001b[0m\n",
      "\u001b[1;31mFileExistsError\u001b[0m: [Errno 17] File exists: 'file1.txt'"
     ]
    }
   ],
   "source": [
    "# Use 'x' with open in #Python to write to a file that doesn't already exist\n",
    "#if file already exists, it will raise a error\n",
    "\n",
    "with open('file1.txt', 'x') as f:\n",
    "    f.write(\"nope, nope.\")"
   ]
  },
  {
   "cell_type": "markdown",
   "metadata": {},
   "source": [
    "Using `x` mode, we ensure that we don't accidentally overwrite the content of a file which already exists. "
   ]
  }
 ],
 "metadata": {
  "kernelspec": {
   "display_name": "Python 3 (ipykernel)",
   "language": "python",
   "name": "python3"
  },
  "language_info": {
   "codemirror_mode": {
    "name": "ipython",
    "version": 3
   },
   "file_extension": ".py",
   "mimetype": "text/x-python",
   "name": "python",
   "nbconvert_exporter": "python",
   "pygments_lexer": "ipython3",
   "version": "3.9.7"
  }
 },
 "nbformat": 4,
 "nbformat_minor": 2
}
