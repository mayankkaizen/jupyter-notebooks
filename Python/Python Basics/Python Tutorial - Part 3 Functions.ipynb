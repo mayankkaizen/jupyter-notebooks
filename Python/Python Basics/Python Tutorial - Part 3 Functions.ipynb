{
 "cells": [
  {
   "cell_type": "markdown",
   "metadata": {},
   "source": [
    "#### Functions are object too."
   ]
  },
  {
   "cell_type": "code",
   "execution_count": 20,
   "metadata": {},
   "outputs": [
    {
     "name": "stdout",
     "output_type": "stream",
     "text": [
      "Yes\n",
      "Yes\n",
      "True\n",
      "name 'shout' is not defined\n",
      "Yes\n"
     ]
    }
   ],
   "source": [
    "def shout(word='yes'):\n",
    "    return word.capitalize()\n",
    "\n",
    "print(shout())\n",
    "\n",
    "scream = shout\n",
    "\n",
    "print(scream())\n",
    "print(scream is shout)\n",
    "\n",
    "del shout\n",
    "try:\n",
    "    print(shout())\n",
    "except NameError as e:\n",
    "    print(e)\n",
    "    \n",
    "print(scream())\n"
   ]
  },
  {
   "cell_type": "markdown",
   "metadata": {},
   "source": [
    "### Functions\n",
    "\n",
    "Some ways to define functions - "
   ]
  },
  {
   "cell_type": "code",
   "execution_count": 1,
   "metadata": {},
   "outputs": [
    {
     "data": {
      "text/plain": [
       "True"
      ]
     },
     "execution_count": 1,
     "metadata": {},
     "output_type": "execute_result"
    }
   ],
   "source": [
    "def func1(x,y):\n",
    "    return x if x < y else y\n",
    "\n",
    "func2 = lambda x,y: x if x < y else y\n",
    "\n",
    "class Func3:\n",
    "    def __call__(self, x, y):\n",
    "        return x if x < y else y\n",
    "    \n",
    "func3 = Func3()\n",
    "\n",
    "func1(3,4) == func2(3,4) == func3(3,4)"
   ]
  },
  {
   "cell_type": "markdown",
   "metadata": {},
   "source": [
    "Here we will cover the first two types. "
   ]
  },
  {
   "cell_type": "markdown",
   "metadata": {},
   "source": [
    "#### Defining a function:\n",
    "\n",
    "```Python\n",
    "def function_name(param_a, param_b,....):\n",
    "    <function body>\n",
    "    <(optionally)return statement>\n",
    "```\n",
    "\n",
    "It is not always necessary to provide parameters but functions without parameters, although valid, are of little use. Similarily, `return` statement is not necessary but then you won't be able to use the result *calculated* by function without `return` statement.\n",
    "\n",
    "\n"
   ]
  },
  {
   "cell_type": "code",
   "execution_count": 22,
   "metadata": {},
   "outputs": [],
   "source": [
    "# a simple function\n",
    "\n",
    "def f():          #no parameter\n",
    "    print('Hi')   #no return statement"
   ]
  },
  {
   "cell_type": "code",
   "execution_count": 23,
   "metadata": {},
   "outputs": [
    {
     "name": "stdout",
     "output_type": "stream",
     "text": [
      "Hi\n"
     ]
    }
   ],
   "source": [
    "f()   #this is how you call the function"
   ]
  },
  {
   "cell_type": "code",
   "execution_count": 41,
   "metadata": {},
   "outputs": [
    {
     "name": "stdout",
     "output_type": "stream",
     "text": [
      "5\n"
     ]
    }
   ],
   "source": [
    "#another example \n",
    "\n",
    "def sum_func(a,b):     #two parameters\n",
    "    print(a+b)  #no return statement\n",
    "\n",
    "sum_func(2,3)"
   ]
  },
  {
   "cell_type": "code",
   "execution_count": 47,
   "metadata": {},
   "outputs": [
    {
     "name": "stdout",
     "output_type": "stream",
     "text": [
      "7\n"
     ]
    }
   ],
   "source": [
    "#yet another example\n",
    "\n",
    "def sum_func(a, b = 1):  #2 parameters, 1 with default value\n",
    "    print(a+b)\n",
    "\n",
    "sum_func(2,5)"
   ]
  },
  {
   "cell_type": "code",
   "execution_count": 48,
   "metadata": {},
   "outputs": [
    {
     "name": "stdout",
     "output_type": "stream",
     "text": [
      "4\n"
     ]
    }
   ],
   "source": [
    "sum_func(3) #one argument passed, for second argument, default value of `b` is used\n"
   ]
  },
  {
   "cell_type": "code",
   "execution_count": 49,
   "metadata": {},
   "outputs": [
    {
     "name": "stdout",
     "output_type": "stream",
     "text": [
      "5\n"
     ]
    }
   ],
   "source": [
    "sum_func(b = 2, a = 3)  #in this way, order doesnt't matter "
   ]
  },
  {
   "cell_type": "markdown",
   "metadata": {},
   "source": [
    "### `return` statement \n",
    "\n",
    "Consider the example of `sum_func`. You can see that there was no `return` statement in its body. Although this funcion calculates the sum of 2 numbers and prints the result, there is no way we can use this result. For example, suppose we want to calculate `(a+b)*c`. "
   ]
  },
  {
   "cell_type": "code",
   "execution_count": 50,
   "metadata": {},
   "outputs": [
    {
     "name": "stdout",
     "output_type": "stream",
     "text": [
      "4\n"
     ]
    }
   ],
   "source": [
    "a = 1\n",
    "b = 3\n",
    "c = 4\n",
    "\n",
    "sum_func(1,3) #sum of a =1, b = 3. "
   ]
  },
  {
   "cell_type": "markdown",
   "metadata": {},
   "source": [
    "The function `sum_func` has calculated the sum and printed the result. Now we want to multiply this result with `c = 4`. How do we do this? We can't because our function doesn't give back or `return` anything. Actually, our function (or for that matter any function) does return some value regardless of the presence of `return` statement. If no `return` statement is present, our function will return `None`. We can verify that - "
   ]
  },
  {
   "cell_type": "code",
   "execution_count": 56,
   "metadata": {},
   "outputs": [
    {
     "name": "stdout",
     "output_type": "stream",
     "text": [
      "4\n"
     ]
    }
   ],
   "source": [
    "return_value = sum_func(1,3)\n"
   ]
  },
  {
   "cell_type": "code",
   "execution_count": 57,
   "metadata": {},
   "outputs": [
    {
     "name": "stdout",
     "output_type": "stream",
     "text": [
      "None\n"
     ]
    }
   ],
   "source": [
    "print(return_value)"
   ]
  },
  {
   "cell_type": "markdown",
   "metadata": {},
   "source": [
    "Now, let us modify our `sum_func` so as to incorporate `return` statement - "
   ]
  },
  {
   "cell_type": "code",
   "execution_count": 58,
   "metadata": {},
   "outputs": [
    {
     "data": {
      "text/plain": [
       "4"
      ]
     },
     "execution_count": 58,
     "metadata": {},
     "output_type": "execute_result"
    }
   ],
   "source": [
    "def sum_func(a, b):\n",
    "    return a + b\n",
    "\n",
    "sum_func(1,3)"
   ]
  },
  {
   "cell_type": "markdown",
   "metadata": {},
   "source": [
    "Now let us see the return value of this function - "
   ]
  },
  {
   "cell_type": "code",
   "execution_count": 59,
   "metadata": {},
   "outputs": [
    {
     "data": {
      "text/plain": [
       "3"
      ]
     },
     "execution_count": 59,
     "metadata": {},
     "output_type": "execute_result"
    }
   ],
   "source": [
    "return_value = sum_func(1,2)\n",
    "return_value"
   ]
  },
  {
   "cell_type": "markdown",
   "metadata": {},
   "source": [
    "Now our function has `return`ed a value which we assigned to variable `return_value`. From this point, we can use this value in any part of this program.\n",
    "\n",
    "\n",
    "\n"
   ]
  },
  {
   "cell_type": "code",
   "execution_count": 60,
   "metadata": {},
   "outputs": [
    {
     "data": {
      "text/plain": [
       "12"
      ]
     },
     "execution_count": 60,
     "metadata": {},
     "output_type": "execute_result"
    }
   ],
   "source": [
    "return_value*c"
   ]
  },
  {
   "cell_type": "markdown",
   "metadata": {},
   "source": [
    "#### `return` statement is where function exits\n",
    "\n",
    "The function is immediately exited as soon as `return` statement is executed. "
   ]
  },
  {
   "cell_type": "code",
   "execution_count": 93,
   "metadata": {},
   "outputs": [
    {
     "data": {
      "text/plain": [
       "3"
      ]
     },
     "execution_count": 93,
     "metadata": {},
     "output_type": "execute_result"
    }
   ],
   "source": [
    "def f(a):\n",
    "    return a\n",
    "    print(\"Hi\")\n",
    "    \n",
    "f(3)    "
   ]
  },
  {
   "cell_type": "markdown",
   "metadata": {},
   "source": [
    "You can see that `print('Hi')` is never executed because function exits precisely when `return` is executed."
   ]
  },
  {
   "cell_type": "markdown",
   "metadata": {},
   "source": [
    "#### Parameters vs arguments\n",
    "\n",
    "Generally when people say parameter/argument they mean the same thing, but the main difference between them is that the parameter is what is declared in the function, while an argument is what is passed through when calling the function. [See also](https://stackoverflow.com/questions/47169033/parameter-vs-argument-python).\n",
    "\n",
    "In above example, in function definition of `f`,  `a` and `b` are parameters. When this function is called by executing `f(2,3)`, `2` and `3` are called arguments. "
   ]
  },
  {
   "cell_type": "markdown",
   "metadata": {},
   "source": [
    "### function parameters, `*args` and `**kwargs`\n",
    "\n",
    "A function may take some input(s) and return a value. For example, our previous function `sum_func` takes 2 inputs. In function definition, these inputs are specified by parameter(s). In function definition of `sum_func`, `a` and `b` are called parameters. The parameters with no default value are required parameters. Any number of parameters can have default values. Such defaults parameters (aka optional parameters) can be omitted (assuming you want to use the default value).\n",
    "\n",
    "Also note that optional paramters must come after required parameters. \n",
    "\n",
    "There are 5 kinds of parameters -\n",
    "\n",
    "1. **positional-or-keyword:** They can be supplied positionally or as keyword arguments. \n",
    "\n",
    "```Python\n",
    "def func(a,b): \n",
    "    pass\n",
    "```\n",
    "\n",
    "You can run this function in any of following ways\n",
    "\n",
    "```Python\n",
    ">>>func(2,3)      #as positional so order matters\n",
    ">>>func(a=2, b=3) #as keyword arguments\n",
    ">>>func(b=3,a=2)  #as keyword arguments, so order doesn't matter\n",
    "```\n",
    "2. **Positional only:** specifies an argument that can be supplied only by position. Positional-only parameters can be defined by including a `/` character in the parameter list of the function definition after them.\n",
    "\n",
    "```Python\n",
    "def func(a,b,/):\n",
    "    pass\n",
    "```\n",
    "Examples - \n",
    "\n",
    "```Python\n",
    ">>> func(2,3)     # 2 will be mapped to 'a' and 3 will be to 'b'\n",
    ">>> func(a=2,b=3) #error, can't pass arguments as keyword arguments. \n",
    "```\n",
    "\n",
    "3. **Keyword only:** specifies an argument that can be supplied only by keyword. Keyword-only parameters can be defined by including a single var-positional parameter or bare * in the parameter list of the function definition before them.\n",
    "\n",
    "\n",
    "```Python\n",
    "def func(a,*,kw1,kw2): #anything which  comes after '*' will be keyword only parameters\n",
    "    pass\n",
    "```\n",
    "Examples - \n",
    "\n",
    "```Python\n",
    ">>>func(2, kw1 = 3, kw2 = 4) \n",
    ">>>func(2,3,4) #error, you have to pass last 2 arguments as keyword arguments\n",
    "```\n",
    "\n",
    "4. **var-positional:** specifies that an arbitrary sequence of positional arguments can be provided (in addition to any positional arguments already accepted by other parameters). Such a parameter can be defined by prepending the parameter name (ususally `args`) with `*`.\n",
    "\n",
    "\n",
    "```Python\n",
    "def func(*args):     #all positional arguments will be packed in a tuple named 'args'\n",
    "    for i in args:\n",
    "        print(i)\n",
    "\n",
    "def func1(a,*args):  #all positional arguments, except 'a', will be packed in a tuple named 'args'\n",
    "    print(a)         #a will be printed\n",
    "    print(args)      #tuple containing all other positional arguments will be printed \n",
    "```\n",
    "\n",
    "In this case, all the positional arguments are captured in a tuple named `args`.\n",
    "\n",
    "Note that you cannot declare any positional parameter after `*args`. Only keyword parameters can follow `*args`. \n",
    "\n",
    "Also note that bare `*` and `*args` can't coexist in a function parameter list. \n",
    "\n",
    "Examples - \n",
    "\n",
    "```Python\n",
    ">>>func(1,3,5,6)\n",
    "#output\n",
    "1\n",
    "3\n",
    "5\n",
    "6\n",
    "\n",
    ">>> func1(1,3,5,6)\n",
    "#output\n",
    "1        # `a` is printed\n",
    "(3,5,6)  #tuple\n",
    "```\n",
    "\n",
    "5. **var-keyword:** specifies that arbitrarily many keyword arguments can be provided (in addition to any keyword arguments already accepted by other parameters). Such a parameter can be defined by prepending the parameter name with `**`, usually `kwargs`.\n",
    "\n",
    "In this case, arguments are packed into a dictionary named `kwargs` with `keyword`s as  keys and keyword values as values.\n",
    "Also note that no positional parameter can be defined after keyword argument or `**kwargs`. In fact, you can't define even a keyword parameter after `**kwargs`.\n",
    "\n",
    "```Python\n",
    "def func(*args, **kwargs):\n",
    "    print(kwargs)            #dictionary will be printed\n",
    "    for i in kwargs.values():\n",
    "        print(i)\n",
    "\n",
    "def func1(*args, b, **kwargs):# 'b' is kewword argument but won't be packed in 'kwrgs' dictionary\n",
    "    for i in kwargs.values():\n",
    "        print(i)\n",
    "```\n",
    "Let it be clear, you can't define a function like this - `def func(a,*, **kwargs): pass`. At least one keyword-only parameter must follow bare `*`.          \n",
    "        \n",
    "Examples - \n",
    "```Python\n",
    ">>>func(a=2, b=3)\n",
    "#output\n",
    "{'a':2,'b':3}\n",
    "2\n",
    "3\n",
    ">>>func1(a=3, b=5)\n",
    "5  #note a=3 wasn't printed \n",
    "```\n",
    "See [this](https://docs.python.org/3/glossary.html#term-parameter),[this](https://stackoverflow.com/questions/36901/what-does-double-star-asterisk-and-star-asterisk-do-for-parameters/36908?utm_source=pocket_mylist) and [this](https://stackoverflow.com/questions/14301967/bare-asterisk-in-function-arguments?utm_source=pocket_mylist).\n",
    "\n",
    "Now go through all the examples very carefully."
   ]
  },
  {
   "cell_type": "code",
   "execution_count": 76,
   "metadata": {},
   "outputs": [
    {
     "name": "stdout",
     "output_type": "stream",
     "text": [
      "2 3\n",
      "3 4\n",
      "6 3\n"
     ]
    }
   ],
   "source": [
    "def test(a,b):  #you can use a and b either as positional arguments or keyword arguments\n",
    "    print(a,b)\n",
    "\n",
    "test(2,3), test(3, b =4), test(b = 3, a =6);"
   ]
  },
  {
   "cell_type": "code",
   "execution_count": 71,
   "metadata": {},
   "outputs": [
    {
     "name": "stdout",
     "output_type": "stream",
     "text": [
      "2 3\n"
     ]
    }
   ],
   "source": [
    "def test(a,b,/):  # a and b are positional only arguments, can't be used as keyword\n",
    "    print(a,b)\n",
    "    \n",
    "test(2,3)    "
   ]
  },
  {
   "cell_type": "code",
   "execution_count": 63,
   "metadata": {},
   "outputs": [
    {
     "ename": "TypeError",
     "evalue": "test() got some positional-only arguments passed as keyword arguments: 'a, b'",
     "output_type": "error",
     "traceback": [
      "\u001b[1;31m---------------------------------------------------------------------------\u001b[0m",
      "\u001b[1;31mTypeError\u001b[0m                                 Traceback (most recent call last)",
      "\u001b[1;32m<ipython-input-63-6c1945d0dc2d>\u001b[0m in \u001b[0;36m<module>\u001b[1;34m\u001b[0m\n\u001b[1;32m----> 1\u001b[1;33m \u001b[0mtest\u001b[0m\u001b[1;33m(\u001b[0m\u001b[0ma\u001b[0m \u001b[1;33m=\u001b[0m \u001b[1;36m2\u001b[0m\u001b[1;33m,\u001b[0m\u001b[0mb\u001b[0m \u001b[1;33m=\u001b[0m\u001b[1;36m3\u001b[0m\u001b[1;33m)\u001b[0m\u001b[1;33m\u001b[0m\u001b[1;33m\u001b[0m\u001b[0m\n\u001b[0m",
      "\u001b[1;31mTypeError\u001b[0m: test() got some positional-only arguments passed as keyword arguments: 'a, b'"
     ]
    }
   ],
   "source": [
    "test(a = 2,b =3) #see, a and b can't be used as keyword arguments"
   ]
  },
  {
   "cell_type": "code",
   "execution_count": 89,
   "metadata": {},
   "outputs": [
    {
     "ename": "SyntaxError",
     "evalue": "non-default argument follows default argument (<ipython-input-89-f2ac1500d935>, line 1)",
     "output_type": "error",
     "traceback": [
      "\u001b[1;36m  File \u001b[1;32m\"<ipython-input-89-f2ac1500d935>\"\u001b[1;36m, line \u001b[1;32m1\u001b[0m\n\u001b[1;33m    def test(a, b = 3, c): #optional or parameters with default values follows positional\u001b[0m\n\u001b[1;37m                        ^\u001b[0m\n\u001b[1;31mSyntaxError\u001b[0m\u001b[1;31m:\u001b[0m non-default argument follows default argument\n"
     ]
    }
   ],
   "source": [
    "def test(a, b = 3, c): #optional parameters follows positional-or-keyword parameters\n",
    "    print(a+b+c)"
   ]
  },
  {
   "cell_type": "code",
   "execution_count": 92,
   "metadata": {},
   "outputs": [
    {
     "name": "stdout",
     "output_type": "stream",
     "text": [
      "1 2 3\n",
      "1 3 3\n"
     ]
    },
    {
     "data": {
      "text/plain": [
       "(None, None)"
      ]
     },
     "execution_count": 92,
     "metadata": {},
     "output_type": "execute_result"
    }
   ],
   "source": [
    "def test(a,b,c =3): c is optional, it comes last\n",
    "    print(a,b,c)\n",
    "\n",
    "test(1,2,3), test(a =1,b=3)    "
   ]
  },
  {
   "cell_type": "code",
   "execution_count": 102,
   "metadata": {},
   "outputs": [
    {
     "name": "stdout",
     "output_type": "stream",
     "text": [
      "1\n",
      "(2, 3, 4)\n"
     ]
    }
   ],
   "source": [
    "def func1(a, *args):\n",
    "    print(a)\n",
    "    print(args)  #args is a tuple\n",
    "    \n",
    "func1(1,2,3,4)  # 1 is captured by 'a', rest are by *args"
   ]
  },
  {
   "cell_type": "code",
   "execution_count": 103,
   "metadata": {},
   "outputs": [
    {
     "ename": "SyntaxError",
     "evalue": "positional argument follows keyword argument (<ipython-input-103-9e27c0cb5b58>, line 5)",
     "output_type": "error",
     "traceback": [
      "\u001b[1;36m  File \u001b[1;32m\"<ipython-input-103-9e27c0cb5b58>\"\u001b[1;36m, line \u001b[1;32m5\u001b[0m\n\u001b[1;33m    func1(a =1,2,3,4)    #error as 'a' is passed as keyword argument\u001b[0m\n\u001b[1;37m                    ^\u001b[0m\n\u001b[1;31mSyntaxError\u001b[0m\u001b[1;31m:\u001b[0m positional argument follows keyword argument\n"
     ]
    }
   ],
   "source": [
    "def func1(a, *args): #'a' can only be positional-only argument\n",
    "    print(a)\n",
    "    print(args)\n",
    "    \n",
    "func1(a =1,2,3,4)    #error as 'a' is passed as keyword argument"
   ]
  },
  {
   "cell_type": "code",
   "execution_count": 85,
   "metadata": {},
   "outputs": [
    {
     "ename": "SyntaxError",
     "evalue": "invalid syntax (<ipython-input-85-e9a8e38aec77>, line 1)",
     "output_type": "error",
     "traceback": [
      "\u001b[1;36m  File \u001b[1;32m\"<ipython-input-85-e9a8e38aec77>\"\u001b[1;36m, line \u001b[1;32m1\u001b[0m\n\u001b[1;33m    def func(a,b,*,*args):\u001b[0m\n\u001b[1;37m                   ^\u001b[0m\n\u001b[1;31mSyntaxError\u001b[0m\u001b[1;31m:\u001b[0m invalid syntax\n"
     ]
    }
   ],
   "source": [
    "def func(a,b,*,*args): # both a bare asterisk and *args can't be present simultaneously \n",
    "    pass\n",
    "\n"
   ]
  },
  {
   "cell_type": "code",
   "execution_count": 87,
   "metadata": {},
   "outputs": [
    {
     "ename": "TypeError",
     "evalue": "func1() missing 1 required keyword-only argument: 'a'",
     "output_type": "error",
     "traceback": [
      "\u001b[1;31m---------------------------------------------------------------------------\u001b[0m",
      "\u001b[1;31mTypeError\u001b[0m                                 Traceback (most recent call last)",
      "\u001b[1;32m<ipython-input-87-758e762f55e8>\u001b[0m in \u001b[0;36m<module>\u001b[1;34m\u001b[0m\n\u001b[0;32m      3\u001b[0m     \u001b[0mprint\u001b[0m\u001b[1;33m(\u001b[0m\u001b[0margs\u001b[0m\u001b[1;33m)\u001b[0m\u001b[1;33m\u001b[0m\u001b[1;33m\u001b[0m\u001b[0m\n\u001b[0;32m      4\u001b[0m \u001b[1;33m\u001b[0m\u001b[0m\n\u001b[1;32m----> 5\u001b[1;33m \u001b[0mfunc1\u001b[0m\u001b[1;33m(\u001b[0m\u001b[1;36m1\u001b[0m\u001b[1;33m,\u001b[0m\u001b[1;36m2\u001b[0m\u001b[1;33m,\u001b[0m\u001b[1;36m3\u001b[0m\u001b[1;33m,\u001b[0m\u001b[1;36m4\u001b[0m\u001b[1;33m)\u001b[0m\u001b[1;33m\u001b[0m\u001b[1;33m\u001b[0m\u001b[0m\n\u001b[0m",
      "\u001b[1;31mTypeError\u001b[0m: func1() missing 1 required keyword-only argument: 'a'"
     ]
    }
   ],
   "source": [
    "def func1( *args, a): #a is keyword-only parameter and should be passed as such \n",
    "    print(a)\n",
    "    print(args)\n",
    "    \n",
    "func1(1,2,3,4)   "
   ]
  },
  {
   "cell_type": "code",
   "execution_count": 88,
   "metadata": {},
   "outputs": [
    {
     "name": "stdout",
     "output_type": "stream",
     "text": [
      "4\n",
      "(1, 2, 3)\n"
     ]
    }
   ],
   "source": [
    "func1(1,2,3,a = 4) #now no error   "
   ]
  },
  {
   "cell_type": "code",
   "execution_count": 70,
   "metadata": {},
   "outputs": [
    {
     "name": "stdout",
     "output_type": "stream",
     "text": [
      "{'a': 3, 'b': 4}\n",
      "3\n",
      "4\n"
     ]
    }
   ],
   "source": [
    "def func(**kwargs):\n",
    "    print(kwargs)\n",
    "    for i in kwargs.values():\n",
    "        print(i)\n",
    "\n",
    "func(a=3,b =4)        \n",
    "        "
   ]
  },
  {
   "cell_type": "code",
   "execution_count": 81,
   "metadata": {},
   "outputs": [
    {
     "ename": "SyntaxError",
     "evalue": "named arguments must follow bare * (<ipython-input-81-542a77b66baf>, line 1)",
     "output_type": "error",
     "traceback": [
      "\u001b[1;36m  File \u001b[1;32m\"<ipython-input-81-542a77b66baf>\"\u001b[1;36m, line \u001b[1;32m1\u001b[0m\n\u001b[1;33m    def f(a,*,**kwargs, b):  #error because no named argument after bare *\u001b[0m\n\u001b[1;37m              ^\u001b[0m\n\u001b[1;31mSyntaxError\u001b[0m\u001b[1;31m:\u001b[0m named arguments must follow bare *\n"
     ]
    }
   ],
   "source": [
    "def f(a,*,**kwargs, b):  #error because no named argument after bare *. Also, nothing comes after **kwargs\n",
    "    print(a+b)\n",
    "\n"
   ]
  },
  {
   "cell_type": "code",
   "execution_count": 83,
   "metadata": {},
   "outputs": [
    {
     "name": "stdout",
     "output_type": "stream",
     "text": [
      "3\n"
     ]
    }
   ],
   "source": [
    "def f(a,*,b, **kwargs):  #no error `\n",
    "    print(a+b)\n",
    "\n",
    "f(1, b = 2) "
   ]
  },
  {
   "cell_type": "code",
   "execution_count": 84,
   "metadata": {},
   "outputs": [
    {
     "ename": "SyntaxError",
     "evalue": "named arguments must follow bare * (<ipython-input-84-b808e86bd428>, line 1)",
     "output_type": "error",
     "traceback": [
      "\u001b[1;36m  File \u001b[1;32m\"<ipython-input-84-b808e86bd428>\"\u001b[1;36m, line \u001b[1;32m1\u001b[0m\n\u001b[1;33m    def f(a,*,**kwargs):  #error because no named argument after bare *\u001b[0m\n\u001b[1;37m              ^\u001b[0m\n\u001b[1;31mSyntaxError\u001b[0m\u001b[1;31m:\u001b[0m named arguments must follow bare *\n"
     ]
    }
   ],
   "source": [
    "def f(a,*,**kwargs):  #error because no named argument after bare *\n",
    "    print(a+b)\n",
    "\n",
    "f(1, b =2) "
   ]
  },
  {
   "cell_type": "markdown",
   "metadata": {},
   "source": [
    "#### Mutable parameters "
   ]
  },
  {
   "cell_type": "markdown",
   "metadata": {},
   "source": [
    "`def` statement is executable and defaults are evaluated once only when `def` is executed. This means that the expression (`def` statement) is evaluated once, when the function is defined, and that the same 'pre computed' value is used for each call.  \n",
    "\n",
    "Below, each subsequent call to function keeps using the same list (as indicated by `id` function)"
   ]
  },
  {
   "cell_type": "code",
   "execution_count": 5,
   "metadata": {},
   "outputs": [],
   "source": [
    "def f(l = []):\n",
    "    print(id(l))\n",
    "    l.append(2)\n",
    "    print(l)\n"
   ]
  },
  {
   "cell_type": "code",
   "execution_count": 6,
   "metadata": {},
   "outputs": [
    {
     "name": "stdout",
     "output_type": "stream",
     "text": [
      "416748996416\n",
      "[2]\n"
     ]
    }
   ],
   "source": [
    "f()"
   ]
  },
  {
   "cell_type": "code",
   "execution_count": 7,
   "metadata": {},
   "outputs": [
    {
     "name": "stdout",
     "output_type": "stream",
     "text": [
      "416748996416\n",
      "[2, 2]\n"
     ]
    }
   ],
   "source": [
    "f()"
   ]
  },
  {
   "cell_type": "markdown",
   "metadata": {},
   "source": [
    "Since default value is evaluated only once. This makes a difference when the default is a mutable object such as a list, dictionary, or instances of most classes. For example, the following function accumulates the arguments passed to it on subsequent calls:"
   ]
  },
  {
   "cell_type": "code",
   "execution_count": 8,
   "metadata": {},
   "outputs": [
    {
     "name": "stdout",
     "output_type": "stream",
     "text": [
      "[1]\n",
      "[1, 2]\n"
     ]
    }
   ],
   "source": [
    "def f(a, l = []):\n",
    "    l.append(a)\n",
    "    return l\n",
    "print(f(1))\n",
    "print(f(2))"
   ]
  },
  {
   "cell_type": "markdown",
   "metadata": {},
   "source": [
    "\n",
    "If you don't want that, write function like below - "
   ]
  },
  {
   "cell_type": "code",
   "execution_count": 9,
   "metadata": {},
   "outputs": [
    {
     "name": "stdout",
     "output_type": "stream",
     "text": [
      "[1]\n",
      "[2]\n"
     ]
    }
   ],
   "source": [
    "def f(a, l = None):\n",
    "    if l is None:\n",
    "        l = []\n",
    "    l.append(a)\n",
    "    return l\n",
    "print(f(1))\n",
    "print(f(2))"
   ]
  },
  {
   "cell_type": "markdown",
   "metadata": {},
   "source": [
    "### Variable Scope in Function"
   ]
  },
  {
   "cell_type": "markdown",
   "metadata": {},
   "source": [
    "Variable are searched from local to enclosed to global scope. "
   ]
  },
  {
   "cell_type": "code",
   "execution_count": 15,
   "metadata": {},
   "outputs": [
    {
     "name": "stdout",
     "output_type": "stream",
     "text": [
      "100\n"
     ]
    }
   ],
   "source": [
    "var = 100  # A global variable\n",
    "def func():\n",
    "     print(var)  # Reference the global variable, var\n",
    "\n",
    "func()"
   ]
  },
  {
   "cell_type": "markdown",
   "metadata": {},
   "source": [
    "In above example, there is no local variable named `var` so global variable `var` is used."
   ]
  },
  {
   "cell_type": "code",
   "execution_count": 12,
   "metadata": {},
   "outputs": [
    {
     "name": "stdout",
     "output_type": "stream",
     "text": [
      "200\n"
     ]
    }
   ],
   "source": [
    "var = 100  # A global variable\n",
    "def func():\n",
    "     var = 200 #local variable\n",
    "     print(var)  \n",
    "\n",
    "func()"
   ]
  },
  {
   "cell_type": "markdown",
   "metadata": {},
   "source": [
    "However, in above example, you can see that `var` has been declared at two places. First one is outside of function `func` and other one inside the function. When we run `func`, the `print` command search for the variable `var`. It first searches the local space, it finds `var` with value `200` assigned to it and this is what is printed.  The outer `var` isn't even looked at. \n",
    "\n",
    "Now see the following code and guess what would happen? "
   ]
  },
  {
   "cell_type": "code",
   "execution_count": 13,
   "metadata": {},
   "outputs": [
    {
     "ename": "UnboundLocalError",
     "evalue": "local variable 'var' referenced before assignment",
     "output_type": "error",
     "traceback": [
      "\u001b[1;31m---------------------------------------------------------------------------\u001b[0m",
      "\u001b[1;31mUnboundLocalError\u001b[0m                         Traceback (most recent call last)",
      "\u001b[1;32m<ipython-input-13-1b4531b1208c>\u001b[0m in \u001b[0;36m<module>\u001b[1;34m\u001b[0m\n\u001b[0;32m      5\u001b[0m      \u001b[0mvar\u001b[0m \u001b[1;33m=\u001b[0m \u001b[1;36m200\u001b[0m   \u001b[1;31m# Define a new local variable using the same name, var\u001b[0m\u001b[1;33m\u001b[0m\u001b[1;33m\u001b[0m\u001b[0m\n\u001b[0;32m      6\u001b[0m \u001b[1;33m\u001b[0m\u001b[0m\n\u001b[1;32m----> 7\u001b[1;33m \u001b[0mfunc\u001b[0m\u001b[1;33m(\u001b[0m\u001b[1;33m)\u001b[0m\u001b[1;33m\u001b[0m\u001b[1;33m\u001b[0m\u001b[0m\n\u001b[0m",
      "\u001b[1;32m<ipython-input-13-1b4531b1208c>\u001b[0m in \u001b[0;36mfunc\u001b[1;34m()\u001b[0m\n\u001b[0;32m      2\u001b[0m \u001b[1;32mdef\u001b[0m \u001b[0mfunc\u001b[0m\u001b[1;33m(\u001b[0m\u001b[1;33m)\u001b[0m\u001b[1;33m:\u001b[0m\u001b[1;33m\u001b[0m\u001b[1;33m\u001b[0m\u001b[0m\n\u001b[0;32m      3\u001b[0m \u001b[1;33m\u001b[0m\u001b[0m\n\u001b[1;32m----> 4\u001b[1;33m      \u001b[0mprint\u001b[0m\u001b[1;33m(\u001b[0m\u001b[0mvar\u001b[0m\u001b[1;33m)\u001b[0m  \u001b[1;31m# Reference the global variable, var\u001b[0m\u001b[1;33m\u001b[0m\u001b[1;33m\u001b[0m\u001b[0m\n\u001b[0m\u001b[0;32m      5\u001b[0m      \u001b[0mvar\u001b[0m \u001b[1;33m=\u001b[0m \u001b[1;36m200\u001b[0m   \u001b[1;31m# Define a new local variable using the same name, var\u001b[0m\u001b[1;33m\u001b[0m\u001b[1;33m\u001b[0m\u001b[0m\n\u001b[0;32m      6\u001b[0m \u001b[1;33m\u001b[0m\u001b[0m\n",
      "\u001b[1;31mUnboundLocalError\u001b[0m: local variable 'var' referenced before assignment"
     ]
    }
   ],
   "source": [
    "var = 100  # A global variable\n",
    "def func():\n",
    "     \n",
    "     print(var)  # Reference the global variable, var\n",
    "     var = 200   # Define a new local variable using the same name, var\n",
    "\n",
    "func()"
   ]
  },
  {
   "cell_type": "markdown",
   "metadata": {},
   "source": [
    "Things got a bit tricky here. This code is almost same as the last one, except that assignment `var = 100` now comes **after** the `print(var)` statement. Needless to say that this small change is going to surprise us. \n",
    "\n",
    "If you execute this code, you'll be greeted with hitherto unknown `UnboundLocalError`. What does this mean? What went wrong?\n",
    "\n",
    "We'll come to this again in a while. "
   ]
  },
  {
   "cell_type": "code",
   "execution_count": 2,
   "metadata": {},
   "outputs": [
    {
     "name": "stdout",
     "output_type": "stream",
     "text": [
      "1\n"
     ]
    }
   ],
   "source": [
    "def a1():\n",
    "    a = 1\n",
    "    \n",
    "    def a2():\n",
    "        a = 2\n",
    "        \n",
    "    a2()\n",
    "    print(a)\n",
    "    \n",
    "a1()    "
   ]
  },
  {
   "cell_type": "markdown",
   "metadata": {},
   "source": [
    "Now look at above example. This is rather twisted example as we have defined a function and inside that function, we defined another function. In such cases of nested functions, paying attention to indentation is really important. \n",
    "\n",
    "In the function body of outer function `a1`, we see that we declared a variable `a = 1` AND defined an inner function `a2`. The outer function also calls the inner function `a2` and `print` function. The body of inner function only contains a line declaring a variable `a = 2`.\n",
    "\n",
    "Now, pay attention to `a2`function. This function has an inner scope where we defined `a = 2`. The outer function `a1` also has its own inner scope (with `a = 1` in it) BUT it doesn't include the inner scope of `a2`. The inner scope of `a1` is **enclosed scope** for `a2`. \n",
    "\n",
    "When we run `a1`, the `print` command searches for `a`. Where does it search first? It will search for `a` at its own scope first (that is local scope of function `a1`) and from there it will move up, if needed. It will not search the local scope of `a2` (see next example.)  \n",
    "\n",
    "As is apparent, `print` actually finds `a` in the scope where it searches first and it prints the value of `a`, that is, `1`.\n",
    "\n",
    "In below example, there is no `a` variable in the inner scope of `a1`, hence `a` is searched in global scope. In this particular case, there is no global variable `a` so `NameError` is raised.  "
   ]
  },
  {
   "cell_type": "code",
   "execution_count": 3,
   "metadata": {},
   "outputs": [
    {
     "ename": "NameError",
     "evalue": "name 'a' is not defined",
     "output_type": "error",
     "traceback": [
      "\u001b[1;31m---------------------------------------------------------------------------\u001b[0m",
      "\u001b[1;31mNameError\u001b[0m                                 Traceback (most recent call last)",
      "\u001b[1;32m<ipython-input-3-b3fa172c9b7a>\u001b[0m in \u001b[0;36m<module>\u001b[1;34m\u001b[0m\n\u001b[0;32m      6\u001b[0m     \u001b[0mprint\u001b[0m\u001b[1;33m(\u001b[0m\u001b[0ma\u001b[0m\u001b[1;33m)\u001b[0m\u001b[1;33m\u001b[0m\u001b[1;33m\u001b[0m\u001b[0m\n\u001b[0;32m      7\u001b[0m \u001b[1;33m\u001b[0m\u001b[0m\n\u001b[1;32m----> 8\u001b[1;33m \u001b[0ma1\u001b[0m\u001b[1;33m(\u001b[0m\u001b[1;33m)\u001b[0m\u001b[1;33m\u001b[0m\u001b[1;33m\u001b[0m\u001b[0m\n\u001b[0m",
      "\u001b[1;32m<ipython-input-3-b3fa172c9b7a>\u001b[0m in \u001b[0;36ma1\u001b[1;34m()\u001b[0m\n\u001b[0;32m      4\u001b[0m \u001b[1;33m\u001b[0m\u001b[0m\n\u001b[0;32m      5\u001b[0m     \u001b[0ma2\u001b[0m\u001b[1;33m(\u001b[0m\u001b[1;33m)\u001b[0m\u001b[1;33m\u001b[0m\u001b[1;33m\u001b[0m\u001b[0m\n\u001b[1;32m----> 6\u001b[1;33m     \u001b[0mprint\u001b[0m\u001b[1;33m(\u001b[0m\u001b[0ma\u001b[0m\u001b[1;33m)\u001b[0m\u001b[1;33m\u001b[0m\u001b[1;33m\u001b[0m\u001b[0m\n\u001b[0m\u001b[0;32m      7\u001b[0m \u001b[1;33m\u001b[0m\u001b[0m\n\u001b[0;32m      8\u001b[0m \u001b[0ma1\u001b[0m\u001b[1;33m(\u001b[0m\u001b[1;33m)\u001b[0m\u001b[1;33m\u001b[0m\u001b[1;33m\u001b[0m\u001b[0m\n",
      "\u001b[1;31mNameError\u001b[0m: name 'a' is not defined"
     ]
    }
   ],
   "source": [
    "def a1():\n",
    "    def a2():\n",
    "        a = 2\n",
    "        \n",
    "    a2()\n",
    "    print(a)\n",
    "    \n",
    "a1()    "
   ]
  },
  {
   "cell_type": "markdown",
   "metadata": {},
   "source": [
    "### `global` and `nonlocal` variable\n",
    "\n",
    "Let's go through few more examples to strengthen what we learned so far."
   ]
  },
  {
   "cell_type": "code",
   "execution_count": 12,
   "metadata": {
    "scrolled": true
   },
   "outputs": [
    {
     "name": "stdout",
     "output_type": "stream",
     "text": [
      "7\n"
     ]
    }
   ],
   "source": [
    "def f1(a):   \n",
    "    def f2(b):\n",
    "        b = a+b\n",
    "        return b\n",
    "    return f2    \n",
    "\n",
    "x = f1(3)\n",
    "print(x(4)) \n",
    "\n",
    "#here function f2 has access to 'a' from function f1."
   ]
  },
  {
   "cell_type": "markdown",
   "metadata": {},
   "source": [
    "This will also run-"
   ]
  },
  {
   "cell_type": "code",
   "execution_count": 16,
   "metadata": {},
   "outputs": [
    {
     "name": "stdout",
     "output_type": "stream",
     "text": [
      "9\n"
     ]
    }
   ],
   "source": [
    "def f1(a):\n",
    "    def f2(b):\n",
    "        c  =a+ b\n",
    "        return c\n",
    "    return f2\n",
    "x = f1(5)\n",
    "print(x(4)) "
   ]
  },
  {
   "cell_type": "markdown",
   "metadata": {},
   "source": [
    "But this will raise error-"
   ]
  },
  {
   "cell_type": "code",
   "execution_count": 18,
   "metadata": {},
   "outputs": [
    {
     "ename": "UnboundLocalError",
     "evalue": "local variable 'a' referenced before assignment",
     "output_type": "error",
     "traceback": [
      "\u001b[1;31m---------------------------------------------------------------------------\u001b[0m",
      "\u001b[1;31mUnboundLocalError\u001b[0m                         Traceback (most recent call last)",
      "\u001b[1;32m<ipython-input-18-1a33611bfa84>\u001b[0m in \u001b[0;36m<module>\u001b[1;34m\u001b[0m\n\u001b[0;32m      5\u001b[0m     \u001b[1;32mreturn\u001b[0m \u001b[0mf2\u001b[0m\u001b[1;33m\u001b[0m\u001b[1;33m\u001b[0m\u001b[0m\n\u001b[0;32m      6\u001b[0m \u001b[0mx\u001b[0m \u001b[1;33m=\u001b[0m \u001b[0mf1\u001b[0m\u001b[1;33m(\u001b[0m\u001b[1;36m5\u001b[0m\u001b[1;33m)\u001b[0m\u001b[1;33m\u001b[0m\u001b[1;33m\u001b[0m\u001b[0m\n\u001b[1;32m----> 7\u001b[1;33m \u001b[0mprint\u001b[0m\u001b[1;33m(\u001b[0m\u001b[0mx\u001b[0m\u001b[1;33m(\u001b[0m\u001b[1;36m4\u001b[0m\u001b[1;33m)\u001b[0m\u001b[1;33m)\u001b[0m\u001b[1;33m\u001b[0m\u001b[1;33m\u001b[0m\u001b[0m\n\u001b[0m",
      "\u001b[1;32m<ipython-input-18-1a33611bfa84>\u001b[0m in \u001b[0;36mf2\u001b[1;34m(b)\u001b[0m\n\u001b[0;32m      1\u001b[0m \u001b[1;32mdef\u001b[0m \u001b[0mf1\u001b[0m\u001b[1;33m(\u001b[0m\u001b[0ma\u001b[0m\u001b[1;33m)\u001b[0m\u001b[1;33m:\u001b[0m\u001b[1;33m\u001b[0m\u001b[1;33m\u001b[0m\u001b[0m\n\u001b[0;32m      2\u001b[0m     \u001b[1;32mdef\u001b[0m \u001b[0mf2\u001b[0m\u001b[1;33m(\u001b[0m\u001b[0mb\u001b[0m\u001b[1;33m)\u001b[0m\u001b[1;33m:\u001b[0m\u001b[1;33m\u001b[0m\u001b[1;33m\u001b[0m\u001b[0m\n\u001b[1;32m----> 3\u001b[1;33m         \u001b[0ma\u001b[0m \u001b[1;33m=\u001b[0m \u001b[0ma\u001b[0m \u001b[1;33m+\u001b[0m \u001b[0mb\u001b[0m\u001b[1;33m\u001b[0m\u001b[1;33m\u001b[0m\u001b[0m\n\u001b[0m\u001b[0;32m      4\u001b[0m         \u001b[1;32mreturn\u001b[0m \u001b[0ma\u001b[0m\u001b[1;33m\u001b[0m\u001b[1;33m\u001b[0m\u001b[0m\n\u001b[0;32m      5\u001b[0m     \u001b[1;32mreturn\u001b[0m \u001b[0mf2\u001b[0m\u001b[1;33m\u001b[0m\u001b[1;33m\u001b[0m\u001b[0m\n",
      "\u001b[1;31mUnboundLocalError\u001b[0m: local variable 'a' referenced before assignment"
     ]
    }
   ],
   "source": [
    "def f1(a):\n",
    "    def f2(b):\n",
    "        a = a + b\n",
    "        return a\n",
    "    return f2\n",
    "x = f1(5)\n",
    "print(x(4)) "
   ]
  },
  {
   "cell_type": "markdown",
   "metadata": {},
   "source": [
    "So, we notice that the lines `b=a+b` in first example and `c=a+b` in second example ran just fine. However, `a=a+b` caused error. Notice the `UnboundLocalError` name. \n",
    "\n",
    "What is happening in these examples is that we are creating local variables `b`, `c` and `a`. In former two cases, we declared the variable and then assigned a value  to it. Using a variable which isn't assigned any value will raise `NameError`. However in third case, that is in `a=a+b`, Python regards `a` as newly created *local* variable. Now, since `a` is a local variable, the variable `a` defined in the outer function (that is, in enclosing scope) becomes *non-existent* as far as inner function is concerned. So, you defined a variable `a` in inner function scope and while assigning a value to it, you immediatedly tried to access its value (in `a+b`). Essentially, you are accessing something from `a` even before you assigned that thing to `a` and hence the error. In former cases of `b` and `c`, there wasn't any conflict. For example, while executing `c = a+b`, Python first looks for `a` in inner scope which isn't there so it then searches in enclosing scope and `a` is found there. In last case `a = a+b`, you are trying to declare a new variable `a` and assigning it a value which doesn't exist. \n",
    "\n",
    "But what if we want to use `a` from enclosing scope? That is, we want following code to output 9. Obviously we want to use `a` from enclosing scope and use it to calculate the new value of `a`. \n",
    "\n",
    "```Python\n",
    "def f1(a):\n",
    "    def f2(b):\n",
    "        a = a + b\n",
    "        return a\n",
    "    return f2\n",
    "x = f1(5)\n",
    "print(x(4)) -> output should be 9\n",
    "```\n",
    "\n",
    "\n",
    "\n"
   ]
  },
  {
   "cell_type": "markdown",
   "metadata": {},
   "source": [
    "To address this problem, we use `nonlocal a` as shown below. It tells Python that while executing `a = a + b`, we aren't creating a new local variable. Rather we are using the variable `a` defined in nonlocal (i.e. enclosing) scope.\n"
   ]
  },
  {
   "cell_type": "code",
   "execution_count": 12,
   "metadata": {},
   "outputs": [
    {
     "name": "stdout",
     "output_type": "stream",
     "text": [
      "9\n"
     ]
    }
   ],
   "source": [
    "def f1(a):\n",
    "    def f2(b):\n",
    "        nonlocal a   \n",
    "        a = a + b\n",
    "        return a\n",
    "    return f2\n",
    "x = f1(5)\n",
    "print(x(4)) \n"
   ]
  },
  {
   "cell_type": "markdown",
   "metadata": {},
   "source": [
    "\n",
    "[See also](https://stackoverflow.com/questions/2609518/unboundlocalerror-with-nested-function-scopes?utm_source=pocket_mylist)\n",
    "\n",
    "Also note that - \n",
    "\n",
    "> Python evaluates expressions from left to right. Notice that while evaluating an assignment, the right-hand side is evaluated before the left-hand side.\n",
    "\n",
    "We saw how we can use the variable from enclosing scope by using `nonlocal` keyword. In the same vein, we can use the variable defined in global scope by using `global` keyword."
   ]
  },
  {
   "cell_type": "code",
   "execution_count": 7,
   "metadata": {},
   "outputs": [
    {
     "name": "stdout",
     "output_type": "stream",
     "text": [
      "15\n"
     ]
    }
   ],
   "source": [
    "a = 11\n",
    "\n",
    "def f1(a):\n",
    "    a = 13\n",
    "    def f2(b):\n",
    "        global a   \n",
    "        a = a + b\n",
    "        return a\n",
    "    return f2\n",
    "x = f1(5)\n",
    "print(x(4)) \n"
   ]
  },
  {
   "cell_type": "markdown",
   "metadata": {},
   "source": [
    "The global variable `a` has been assigned the value of `11`. Function `f` also has a variable `a` with value 13. We saw how we can use the second `a` by using `nonlocal` keyword. \n",
    "\n",
    "If we want to use `a` from global scope, simply use the `global` keyword as shown above. "
   ]
  },
  {
   "cell_type": "markdown",
   "metadata": {},
   "source": [
    "Another interesting example, sourced from a [SO Post](https://stackoverflow.com/questions/49538724/why-is-ord-seen-as-an-unassigned-variable-here), shown below - "
   ]
  },
  {
   "cell_type": "code",
   "execution_count": 3,
   "metadata": {},
   "outputs": [
    {
     "data": {
      "text/plain": [
       "97"
      ]
     },
     "execution_count": 3,
     "metadata": {},
     "output_type": "execute_result"
    }
   ],
   "source": [
    "def f():\n",
    "    c = ord('a')\n",
    "    return c\n",
    "\n",
    "f()"
   ]
  },
  {
   "cell_type": "code",
   "execution_count": 9,
   "metadata": {},
   "outputs": [
    {
     "data": {
      "text/plain": [
       "97"
      ]
     },
     "execution_count": 9,
     "metadata": {},
     "output_type": "execute_result"
    }
   ],
   "source": [
    "if False:\n",
    "    ord = None\n",
    "def f():\n",
    "    c = ord('a')\n",
    "    return c\n",
    "\n",
    "f()"
   ]
  },
  {
   "cell_type": "code",
   "execution_count": 16,
   "metadata": {
    "scrolled": true
   },
   "outputs": [
    {
     "ename": "UnboundLocalError",
     "evalue": "local variable 'ord' referenced before assignment",
     "output_type": "error",
     "traceback": [
      "\u001b[1;31m---------------------------------------------------------------------------\u001b[0m",
      "\u001b[1;31mUnboundLocalError\u001b[0m                         Traceback (most recent call last)",
      "\u001b[1;32m<ipython-input-16-40e006bd2505>\u001b[0m in \u001b[0;36m<module>\u001b[1;34m\u001b[0m\n\u001b[0;32m      7\u001b[0m \u001b[1;33m\u001b[0m\u001b[0m\n\u001b[0;32m      8\u001b[0m \u001b[1;33m\u001b[0m\u001b[0m\n\u001b[1;32m----> 9\u001b[1;33m \u001b[0mf\u001b[0m\u001b[1;33m(\u001b[0m\u001b[1;33m)\u001b[0m\u001b[1;33m\u001b[0m\u001b[1;33m\u001b[0m\u001b[0m\n\u001b[0m",
      "\u001b[1;32m<ipython-input-16-40e006bd2505>\u001b[0m in \u001b[0;36mf\u001b[1;34m()\u001b[0m\n\u001b[0;32m      2\u001b[0m     \u001b[1;32mif\u001b[0m \u001b[1;32mFalse\u001b[0m\u001b[1;33m:\u001b[0m\u001b[1;33m\u001b[0m\u001b[1;33m\u001b[0m\u001b[0m\n\u001b[0;32m      3\u001b[0m         \u001b[0mord\u001b[0m \u001b[1;33m=\u001b[0m \u001b[1;32mNone\u001b[0m\u001b[1;33m\u001b[0m\u001b[1;33m\u001b[0m\u001b[0m\n\u001b[1;32m----> 4\u001b[1;33m     \u001b[0mc\u001b[0m \u001b[1;33m=\u001b[0m \u001b[0mord\u001b[0m\u001b[1;33m(\u001b[0m\u001b[1;34m'a'\u001b[0m\u001b[1;33m)\u001b[0m\u001b[1;33m\u001b[0m\u001b[1;33m\u001b[0m\u001b[0m\n\u001b[0m\u001b[0;32m      5\u001b[0m \u001b[1;33m\u001b[0m\u001b[0m\n\u001b[0;32m      6\u001b[0m     \u001b[1;32mreturn\u001b[0m \u001b[0mc\u001b[0m\u001b[1;33m\u001b[0m\u001b[1;33m\u001b[0m\u001b[0m\n",
      "\u001b[1;31mUnboundLocalError\u001b[0m: local variable 'ord' referenced before assignment"
     ]
    }
   ],
   "source": [
    "def f():\n",
    "    if False:\n",
    "        ord = None \n",
    "    c = ord('a')\n",
    "    \n",
    "    return c\n",
    "\n",
    "\n",
    "f()"
   ]
  },
  {
   "cell_type": "markdown",
   "metadata": {},
   "source": [
    "Since `if` clause is false and never executed, you'd think Python Interpreter doesn't take note of line `ord = None`. So in `c = ord('a')`, you'd assume, the built-in `ord()` will run. But that isn't the case as indicated by the error we get. More importantly, the `UnboundLocalError` tells us that Python sees `ord` as some local variable which hasn't been assigned any value. \n",
    "\n",
    "The explanation is that although `if` clause is never executed, Python does take note of `ord` local variable. It is just that it isn't assigned `None` value because condition is false. Hence, in next line, when `ord` is encountered again, Python recognize it from the earlier line where it wasn't assigned any value. Hence the error."
   ]
  },
  {
   "cell_type": "markdown",
   "metadata": {},
   "source": [
    "[Source for following example](https://docs.python.org/3/tutorial/classes.html#python-scopes-and-namespaces)"
   ]
  },
  {
   "cell_type": "code",
   "execution_count": 18,
   "metadata": {},
   "outputs": [
    {
     "name": "stdout",
     "output_type": "stream",
     "text": [
      "After local assignment: test spam\n",
      "After nonlocal assignment: nonlocal spam\n",
      "After global assignment: nonlocal spam\n",
      "In global scope: global spam\n"
     ]
    }
   ],
   "source": [
    "def scope_test():\n",
    "    \n",
    "    spam = \"test spam\"\n",
    "    \n",
    "    def do_local():\n",
    "        spam = \"local spam\"\n",
    "\n",
    "    def do_nonlocal():\n",
    "        nonlocal spam\n",
    "        spam = \"nonlocal spam\"\n",
    "\n",
    "    def do_global():\n",
    "        global spam\n",
    "        spam = \"global spam\"\n",
    "\n",
    "    #spam = \"test spam\"\n",
    "    do_local()\n",
    "    print(\"After local assignment:\", spam)\n",
    "    do_nonlocal()\n",
    "    print(\"After nonlocal assignment:\", spam)\n",
    "    do_global()\n",
    "    print(\"After global assignment:\", spam)\n",
    "\n",
    "scope_test()\n",
    "print(\"In global scope:\", spam)"
   ]
  },
  {
   "cell_type": "markdown",
   "metadata": {},
   "source": [
    "#### Global Scope\n",
    "\n",
    "From the moment you start a Python program, you’re in the global Python scope. Internally, Python turns your program’s main script into a module called `__main__` to hold the main program’s execution. The namespace of this module is the main global scope of your program."
   ]
  },
  {
   "cell_type": "code",
   "execution_count": 1,
   "metadata": {},
   "outputs": [
    {
     "data": {
      "text/plain": [
       "'__main__'"
      ]
     },
     "execution_count": 1,
     "metadata": {},
     "output_type": "execute_result"
    }
   ],
   "source": [
    "__name__"
   ]
  },
  {
   "cell_type": "code",
   "execution_count": 2,
   "metadata": {},
   "outputs": [
    {
     "data": {
      "text/plain": [
       "['In',\n",
       " 'Out',\n",
       " '_',\n",
       " '_1',\n",
       " '__',\n",
       " '___',\n",
       " '__builtin__',\n",
       " '__builtins__',\n",
       " '__doc__',\n",
       " '__loader__',\n",
       " '__name__',\n",
       " '__package__',\n",
       " '__spec__',\n",
       " '_dh',\n",
       " '_i',\n",
       " '_i1',\n",
       " '_i2',\n",
       " '_ih',\n",
       " '_ii',\n",
       " '_iii',\n",
       " '_oh',\n",
       " 'exit',\n",
       " 'get_ipython',\n",
       " 'quit']"
      ]
     },
     "execution_count": 2,
     "metadata": {},
     "output_type": "execute_result"
    }
   ],
   "source": [
    "dir()"
   ]
  },
  {
   "cell_type": "markdown",
   "metadata": {},
   "source": [
    "#### Builtin Scope\n",
    "\n",
    "The built-in scope is a special Python scope that’s implemented as a standard library module named `builtins` in Python 3.x. All of Python’s built-in objects live in this module. They’re automatically loaded to the built-in scope when you run the Python interpreter. Python searches builtins last in its LEGB lookup, so you get all the names it defines for free. This means that you can use them without importing any module.\n",
    "\n",
    "Notice that the names in `builtins` are always loaded into your global Python scope with the special name `__builtins__`, as you can see in the following code:"
   ]
  },
  {
   "cell_type": "code",
   "execution_count": 4,
   "metadata": {},
   "outputs": [
    {
     "data": {
      "text/plain": [
       "['ArithmeticError',\n",
       " 'AssertionError',\n",
       " 'AttributeError',\n",
       " 'BaseException',\n",
       " 'BlockingIOError',\n",
       " 'BrokenPipeError']"
      ]
     },
     "execution_count": 4,
     "metadata": {},
     "output_type": "execute_result"
    }
   ],
   "source": [
    "dir(__builtins__)[:6]"
   ]
  },
  {
   "cell_type": "code",
   "execution_count": 10,
   "metadata": {},
   "outputs": [
    {
     "data": {
      "text/plain": [
       "True"
      ]
     },
     "execution_count": 10,
     "metadata": {},
     "output_type": "execute_result"
    }
   ],
   "source": [
    "'abs' in dir(__builtins__)"
   ]
  },
  {
   "cell_type": "markdown",
   "metadata": {},
   "source": [
    "Even though you can access all of these Python built-in objects for free (without importing anything), you can also explicitly import builtins and access the names using the dot notation. Here’s how this works:"
   ]
  },
  {
   "cell_type": "code",
   "execution_count": 12,
   "metadata": {},
   "outputs": [
    {
     "data": {
      "text/plain": [
       "15"
      ]
     },
     "execution_count": 12,
     "metadata": {},
     "output_type": "execute_result"
    }
   ],
   "source": [
    "import builtins\n",
    "\n",
    "builtins.abs(-15)"
   ]
  },
  {
   "cell_type": "markdown",
   "metadata": {},
   "source": [
    " This can be quite useful if you want to make sure that you won’t have a name collision if any of your global names override any built-in name.\n",
    " \n",
    " You can override or redefine any built-in name in your global scope. If you do so, then keep in mind that this will affect all your code. Take a look at the following example:"
   ]
  },
  {
   "cell_type": "code",
   "execution_count": 13,
   "metadata": {},
   "outputs": [
    {
     "data": {
      "text/plain": [
       "15"
      ]
     },
     "execution_count": 13,
     "metadata": {},
     "output_type": "execute_result"
    }
   ],
   "source": [
    "abs(-15)"
   ]
  },
  {
   "cell_type": "code",
   "execution_count": 14,
   "metadata": {},
   "outputs": [
    {
     "ename": "TypeError",
     "evalue": "'int' object is not callable",
     "output_type": "error",
     "traceback": [
      "\u001b[1;31m---------------------------------------------------------------------------\u001b[0m",
      "\u001b[1;31mTypeError\u001b[0m                                 Traceback (most recent call last)",
      "\u001b[1;32m<ipython-input-14-69ae25bc6434>\u001b[0m in \u001b[0;36m<module>\u001b[1;34m\u001b[0m\n\u001b[0;32m      1\u001b[0m \u001b[0mabs\u001b[0m \u001b[1;33m=\u001b[0m \u001b[1;36m20\u001b[0m\u001b[1;33m\u001b[0m\u001b[1;33m\u001b[0m\u001b[0m\n\u001b[1;32m----> 2\u001b[1;33m \u001b[0mabs\u001b[0m\u001b[1;33m(\u001b[0m\u001b[1;33m-\u001b[0m\u001b[1;36m15\u001b[0m\u001b[1;33m)\u001b[0m\u001b[1;33m\u001b[0m\u001b[1;33m\u001b[0m\u001b[0m\n\u001b[0m",
      "\u001b[1;31mTypeError\u001b[0m: 'int' object is not callable"
     ]
    }
   ],
   "source": [
    "abs = 20\n",
    "abs(-15)"
   ]
  },
  {
   "cell_type": "code",
   "execution_count": 15,
   "metadata": {},
   "outputs": [
    {
     "data": {
      "text/plain": [
       "15"
      ]
     },
     "execution_count": 15,
     "metadata": {},
     "output_type": "execute_result"
    }
   ],
   "source": [
    "builtins.abs(-15) #builtin scope is still unaffected"
   ]
  },
  {
   "cell_type": "markdown",
   "metadata": {},
   "source": [
    "When you delete the custom `abs` name, you’re removing the name from your global scope. This allows you to access the original `abs()` in the built-in scope again."
   ]
  },
  {
   "cell_type": "code",
   "execution_count": 16,
   "metadata": {},
   "outputs": [
    {
     "data": {
      "text/plain": [
       "15"
      ]
     },
     "execution_count": 16,
     "metadata": {},
     "output_type": "execute_result"
    }
   ],
   "source": [
    "del abs\n",
    "abs(-15)"
   ]
  },
  {
   "cell_type": "markdown",
   "metadata": {},
   "source": [
    "#### `locals` and `globals`"
   ]
  },
  {
   "cell_type": "code",
   "execution_count": 1,
   "metadata": {},
   "outputs": [
    {
     "name": "stdout",
     "output_type": "stream",
     "text": [
      "mac\n",
      "{'string1': 'mac'}\n"
     ]
    },
    {
     "data": {
      "text/plain": [
       "{'__name__': '__main__',\n",
       " '__doc__': 'Automatically created module for IPython interactive environment',\n",
       " '__package__': None,\n",
       " '__loader__': None,\n",
       " '__spec__': None,\n",
       " '__builtin__': <module 'builtins' (built-in)>,\n",
       " '__builtins__': <module 'builtins' (built-in)>,\n",
       " '_ih': ['',\n",
       "  \"string1 = 'mayank'\\ndef foo():\\n    string1 = 'mac'\\n    print(string1)\\n    print(locals())\\n\\nfoo()\\nglobals()\"],\n",
       " '_oh': {},\n",
       " '_dh': ['C:\\\\Users\\\\pcxyz\\\\miniconda3\\\\Notebooks\\\\My notebooks\\\\Python\\\\Python Basics'],\n",
       " 'In': ['',\n",
       "  \"string1 = 'mayank'\\ndef foo():\\n    string1 = 'mac'\\n    print(string1)\\n    print(locals())\\n\\nfoo()\\nglobals()\"],\n",
       " 'Out': {},\n",
       " 'get_ipython': <bound method InteractiveShell.get_ipython of <ipykernel.zmqshell.ZMQInteractiveShell object at 0x0000006C6121D280>>,\n",
       " 'exit': <IPython.core.autocall.ZMQExitAutocall at 0x6c611fbe50>,\n",
       " 'quit': <IPython.core.autocall.ZMQExitAutocall at 0x6c611fbe50>,\n",
       " '_': '',\n",
       " '__': '',\n",
       " '___': '',\n",
       " '_i': '',\n",
       " '_ii': '',\n",
       " '_iii': '',\n",
       " '_i1': \"string1 = 'mayank'\\ndef foo():\\n    string1 = 'mac'\\n    print(string1)\\n    print(locals())\\n\\nfoo()\\nglobals()\",\n",
       " 'string1': 'mayank',\n",
       " 'foo': <function __main__.foo()>}"
      ]
     },
     "execution_count": 1,
     "metadata": {},
     "output_type": "execute_result"
    }
   ],
   "source": [
    "string1 = 'mayank'\n",
    "def foo():\n",
    "    string1 = 'mac'\n",
    "    print(string1)\n",
    "    print(locals())\n",
    "\n",
    "foo()\n",
    "globals()"
   ]
  },
  {
   "cell_type": "markdown",
   "metadata": {},
   "source": [
    "#### Function returning `None`: Be careful\n"
   ]
  },
  {
   "cell_type": "code",
   "execution_count": 18,
   "metadata": {},
   "outputs": [
    {
     "name": "stdout",
     "output_type": "stream",
     "text": [
      "invalid inputs\n"
     ]
    }
   ],
   "source": [
    ">>> def divide(a,b):\n",
    "\ttry:\n",
    "\t\treturn a/b\n",
    "\texcept ZeroDivisionError:\n",
    "\t\treturn None\n",
    "\t\n",
    ">>> x, y = 0, 5\n",
    ">>> result = divide(x,y)     #result is 0\n",
    ">>> if not result:           # 0 evaluates to False  \n",
    "\tprint('invalid inputs')\n"
   ]
  },
  {
   "cell_type": "markdown",
   "metadata": {},
   "source": [
    "In conditional blocks, both `None` and `0` evaluates to `False`, so be careful here. In above example, `None` and 0 mean different things. "
   ]
  },
  {
   "cell_type": "markdown",
   "metadata": {},
   "source": [
    "#### Using Strings to Call Functions/Methods"
   ]
  },
  {
   "cell_type": "code",
   "execution_count": 3,
   "metadata": {},
   "outputs": [
    {
     "name": "stdout",
     "output_type": "stream",
     "text": [
      "woof woof\n",
      "splash!\n"
     ]
    }
   ],
   "source": [
    ">>> def bark():\n",
    "\tprint('woof woof')\n",
    "\n",
    "\t\n",
    ">>> def swim():\n",
    "\tprint('splash!')\n",
    "\n",
    "\t\n",
    ">>> dispatch = {'dog': bark, 'fish': swim}\n",
    ">>> dispatch['dog']()\n",
    ">>> dispatch['fish']()"
   ]
  },
  {
   "cell_type": "markdown",
   "metadata": {},
   "source": [
    "#### Using `locals()` or `eval()`"
   ]
  },
  {
   "cell_type": "code",
   "execution_count": 20,
   "metadata": {},
   "outputs": [
    {
     "name": "stdout",
     "output_type": "stream",
     "text": [
      "Hello\n"
     ]
    }
   ],
   "source": [
    ">>> def a():\n",
    "\tprint('Hello')\n",
    "\n",
    "\t\n",
    ">>> b =  'a'\n",
    ">>> f = locals()[b]\n",
    ">>> f()"
   ]
  },
  {
   "cell_type": "code",
   "execution_count": 21,
   "metadata": {},
   "outputs": [
    {
     "name": "stdout",
     "output_type": "stream",
     "text": [
      "Hello\n"
     ]
    }
   ],
   "source": [
    ">>> f = eval(b)\n",
    ">>> f()\n"
   ]
  },
  {
   "cell_type": "markdown",
   "metadata": {},
   "source": [
    "Create a script foo.py with following code - \n",
    "```Python\n",
    "a = 47\n",
    "def callfunc(func):\n",
    "    return func\n",
    "```\n",
    "Now do this:"
   ]
  },
  {
   "cell_type": "code",
   "execution_count": 1,
   "metadata": {},
   "outputs": [
    {
     "name": "stdout",
     "output_type": "stream",
     "text": [
      "Overwriting foo.py\n"
     ]
    }
   ],
   "source": [
    "%%file foo.py\n",
    "\n",
    "a = 47\n",
    "def callfunc(func):\n",
    "    return func\n"
   ]
  },
  {
   "cell_type": "code",
   "execution_count": 4,
   "metadata": {},
   "outputs": [
    {
     "data": {
      "text/plain": [
       "37"
      ]
     },
     "execution_count": 4,
     "metadata": {},
     "output_type": "execute_result"
    }
   ],
   "source": [
    "from foo import callfunc\n",
    "\n",
    "a = 37\n",
    "def printf():\n",
    "    return a\n",
    "callfunc(printf())"
   ]
  },
  {
   "cell_type": "code",
   "execution_count": 6,
   "metadata": {},
   "outputs": [
    {
     "data": {
      "text/plain": [
       "47"
      ]
     },
     "execution_count": 6,
     "metadata": {},
     "output_type": "execute_result"
    }
   ],
   "source": [
    "a = 37\n",
    "\n",
    "from foo import a, callfunc\n",
    "\n",
    "def printf():\n",
    "    return a\n",
    "callfunc(printf())"
   ]
  },
  {
   "cell_type": "markdown",
   "metadata": {},
   "source": [
    "Notice the value of `a` returned. \n",
    "\n",
    "Note -  In the book ‘Python Essential Reference’(page 98), there were no parentheses after `printf` while calling `callfunc` function."
   ]
  },
  {
   "cell_type": "markdown",
   "metadata": {},
   "source": [
    "### Recursion"
   ]
  },
  {
   "cell_type": "code",
   "execution_count": 25,
   "metadata": {},
   "outputs": [
    {
     "name": "stdout",
     "output_type": "stream",
     "text": [
      "24\n",
      "1\n",
      "2\n",
      "3\n",
      "4\n",
      "5\n",
      "6\n",
      "None\n"
     ]
    }
   ],
   "source": [
    "#example 1\n",
    "def factorial(n):\n",
    "    if n <= 1: return 1\n",
    "    else: return n* factorial(n-1)\n",
    "\n",
    "    \n",
    "#example 2    \n",
    "def flatten(lists):\n",
    "    for s in lists:\n",
    "        if isinstance(s,list):\n",
    "            flatten(s)\n",
    "        else:\n",
    "            print(s)\n",
    "\n",
    "print(factorial(4))\n",
    "l = [1,2,[3,4,[5,6]]]\n",
    "print(flatten(l));"
   ]
  },
  {
   "cell_type": "markdown",
   "metadata": {},
   "source": [
    "However, be aware that there is a limit on the depth of recursive function calls. The function `sys.getrecursionlimit()` returns the current maximum recursion depth, and the function `sys.setrecursionlimit()` can be used to change the value.The default value is 1000. Although it is possible to increase the value, programs are still limited by the stack size limits enforced by the host operating system.When the recursion depth is exceeded, a `RuntimeError exception` is raised."
   ]
  },
  {
   "cell_type": "markdown",
   "metadata": {},
   "source": [
    "### Lambda Function"
   ]
  },
  {
   "cell_type": "markdown",
   "metadata": {},
   "source": [
    "Unlike regular functions, lambda functions are anonymous and single-line functions. Lambda functions cannot contain any statement. The syntax is `lambda parameters : expression`. \n",
    "\n",
    "The expression `lambda parameters: expression` yields a function object. The unnamed object behaves like a function object defined with:\n",
    "\n",
    "```Python\n",
    "def <lambda>(parameters):\n",
    "    return expression       #except lambda doesn't have return statement. expression's value is implicitly returned\n",
    "```\n",
    "\n"
   ]
  },
  {
   "cell_type": "code",
   "execution_count": 94,
   "metadata": {},
   "outputs": [
    {
     "data": {
      "text/plain": [
       "<function __main__.<lambda>(x)>"
      ]
     },
     "execution_count": 94,
     "metadata": {},
     "output_type": "execute_result"
    }
   ],
   "source": [
    "y = lambda x : x**2\n",
    "y"
   ]
  },
  {
   "cell_type": "code",
   "execution_count": 96,
   "metadata": {},
   "outputs": [
    {
     "data": {
      "text/plain": [
       "(4, 9)"
      ]
     },
     "execution_count": 96,
     "metadata": {},
     "output_type": "execute_result"
    }
   ],
   "source": [
    "y(2), y(3)"
   ]
  },
  {
   "cell_type": "code",
   "execution_count": 10,
   "metadata": {},
   "outputs": [
    {
     "data": {
      "text/plain": [
       "<function __main__.test.<locals>.<lambda>(x)>"
      ]
     },
     "execution_count": 10,
     "metadata": {},
     "output_type": "execute_result"
    }
   ],
   "source": [
    ">>> def test(n):\n",
    "\treturn lambda x: x+n\n",
    "\n",
    ">>> a = test(4)\n",
    ">>> a\n"
   ]
  },
  {
   "cell_type": "code",
   "execution_count": 11,
   "metadata": {},
   "outputs": [
    {
     "name": "stdout",
     "output_type": "stream",
     "text": [
      "6\n",
      "7\n"
     ]
    }
   ],
   "source": [
    "print(a(2))\n",
    "print(a(3))"
   ]
  },
  {
   "cell_type": "code",
   "execution_count": 5,
   "metadata": {},
   "outputs": [
    {
     "data": {
      "text/plain": [
       "'o'"
      ]
     },
     "execution_count": 5,
     "metadata": {},
     "output_type": "execute_result"
    }
   ],
   "source": [
    "y = (lambda x: (x % 2 and 'o' or 'e')) #odd or even\n",
    "y(3)"
   ]
  },
  {
   "cell_type": "code",
   "execution_count": 6,
   "metadata": {},
   "outputs": [
    {
     "data": {
      "text/plain": [
       "'e'"
      ]
     },
     "execution_count": 6,
     "metadata": {},
     "output_type": "execute_result"
    }
   ],
   "source": [
    "y(4)"
   ]
  },
  {
   "cell_type": "markdown",
   "metadata": {},
   "source": [
    "### Lambda function gotcha"
   ]
  },
  {
   "cell_type": "code",
   "execution_count": 13,
   "metadata": {},
   "outputs": [
    {
     "name": "stdout",
     "output_type": "stream",
     "text": [
      "[<function <lambda> at 0x0000005F695BB5E0>, <function <lambda> at 0x0000005F695BB670>, <function <lambda> at 0x0000005F695BBA60>, <function <lambda> at 0x0000005F695BB790>, <function <lambda> at 0x0000005F695BB1F0>]\n",
      "4\n",
      "16\n",
      "16\n"
     ]
    }
   ],
   "source": [
    "square = []\n",
    "for x in range(5):\n",
    "    square.append(lambda : x**2)\n",
    "    \n",
    "print(square)          #list of lambda functions\n",
    "print(x)               # last value in range(5)\n",
    "print(square[2]()) \n",
    "print(square[3]())\n"
   ]
  },
  {
   "cell_type": "code",
   "execution_count": 14,
   "metadata": {},
   "outputs": [
    {
     "data": {
      "text/plain": [
       "81"
      ]
     },
     "execution_count": 14,
     "metadata": {},
     "output_type": "execute_result"
    }
   ],
   "source": [
    ">>> x = 9\n",
    ">>> square[2]()\n"
   ]
  },
  {
   "cell_type": "markdown",
   "metadata": {},
   "source": [
    "Note that the way we've written lambda function. We haven't actually provided any parameter here. \n",
    "\n",
    "You’d expect that list `square` will be `[0,1,4,9,16]` but that is not the case. What we are actually getting is a list containing lambdas. In above case, `x` is not local to the lambdas, but is defined in the outer scope, and it is accessed when lambda is called – not when it is defined. Also, when we try to access an element from this list, we get the value of lambda function with `x =4` as final value of `x` in `range(5)` is `4` . For detail, refer Python Programming FAQ section. \n",
    "\n",
    "This is similar to  - \n",
    "\n",
    "```Python\n",
    "def f():     #note the lack of any parameter\n",
    "    return x**2\n",
    "\n",
    "\n",
    "square = []\n",
    "for x in range(5):\n",
    "    square.append(f) #you are appending the function object, not the value returned by function after it is run\n",
    "```"
   ]
  },
  {
   "cell_type": "code",
   "execution_count": 17,
   "metadata": {},
   "outputs": [
    {
     "name": "stdout",
     "output_type": "stream",
     "text": [
      "[<function <lambda> at 0x0000005F695BB5E0>, <function <lambda> at 0x0000005F695BB670>, <function <lambda> at 0x0000005F695BBA60>, <function <lambda> at 0x0000005F695BB790>, <function <lambda> at 0x0000005F695BB1F0>]\n",
      "4\n",
      "16\n",
      "1089\n"
     ]
    },
    {
     "ename": "TypeError",
     "evalue": "<lambda>() missing 1 required positional argument: 'x'",
     "output_type": "error",
     "traceback": [
      "\u001b[1;31m---------------------------------------------------------------------------\u001b[0m",
      "\u001b[1;31mTypeError\u001b[0m                                 Traceback (most recent call last)",
      "\u001b[1;32m<ipython-input-17-e60a4a0c7fa0>\u001b[0m in \u001b[0;36m<module>\u001b[1;34m\u001b[0m\n\u001b[0;32m      7\u001b[0m \u001b[0mprint\u001b[0m\u001b[1;33m(\u001b[0m\u001b[0msquare\u001b[0m\u001b[1;33m[\u001b[0m\u001b[1;36m2\u001b[0m\u001b[1;33m]\u001b[0m\u001b[1;33m(\u001b[0m\u001b[0mx\u001b[0m\u001b[1;33m)\u001b[0m\u001b[1;33m)\u001b[0m\u001b[1;33m\u001b[0m\u001b[1;33m\u001b[0m\u001b[0m\n\u001b[0;32m      8\u001b[0m \u001b[0mprint\u001b[0m\u001b[1;33m(\u001b[0m\u001b[0msquare\u001b[0m\u001b[1;33m[\u001b[0m\u001b[1;36m2\u001b[0m\u001b[1;33m]\u001b[0m\u001b[1;33m(\u001b[0m\u001b[1;36m33\u001b[0m\u001b[1;33m)\u001b[0m\u001b[1;33m)\u001b[0m\u001b[1;33m\u001b[0m\u001b[1;33m\u001b[0m\u001b[0m\n\u001b[1;32m----> 9\u001b[1;33m \u001b[0mprint\u001b[0m\u001b[1;33m(\u001b[0m\u001b[0msquare\u001b[0m\u001b[1;33m[\u001b[0m\u001b[1;36m3\u001b[0m\u001b[1;33m]\u001b[0m\u001b[1;33m(\u001b[0m\u001b[1;33m)\u001b[0m\u001b[1;33m)\u001b[0m\u001b[1;33m\u001b[0m\u001b[1;33m\u001b[0m\u001b[0m\n\u001b[0m",
      "\u001b[1;31mTypeError\u001b[0m: <lambda>() missing 1 required positional argument: 'x'"
     ]
    }
   ],
   "source": [
    "square = []\n",
    "for x in range(5):\n",
    "    square.append(lambda x: x**2)\n",
    "    \n",
    "print(square)          #list of lambda functions\n",
    "print(x)               # last value in range(5)\n",
    "print(square[2](x))\n",
    "print(square[2](33))\n",
    "print(square[3]())\n"
   ]
  },
  {
   "cell_type": "markdown",
   "metadata": {},
   "source": [
    "Above example is same as the earlier one, except that lambda function now has one parameter. In this case, too, you get the list of lambda functions but this time you have to provide one argument. For above example, `x` is set to 4 (final value of `range(5)`). \n",
    "\n",
    "This is similar to -\n",
    "\n",
    "```Python\n",
    "def f(x):\n",
    "    return x**2\n",
    "\n",
    "\n",
    "square = []\n",
    "for x in range(5):\n",
    "    square.append(f)\n",
    "```    "
   ]
  },
  {
   "cell_type": "markdown",
   "metadata": {},
   "source": [
    "See below for the workaround - "
   ]
  },
  {
   "cell_type": "code",
   "execution_count": 18,
   "metadata": {},
   "outputs": [
    {
     "name": "stdout",
     "output_type": "stream",
     "text": [
      "4\n",
      "9\n",
      "1522756\n"
     ]
    }
   ],
   "source": [
    " square = []\n",
    "for x in range(5):\n",
    "    square.append(lambda n = x: n**2)\n",
    "\n",
    "print(square[2]())\n",
    "print(square[3]())\n",
    "print(square[0](1234))"
   ]
  },
  {
   "cell_type": "markdown",
   "metadata": {},
   "source": [
    "Above example is similar to - \n",
    "\n",
    "```Python\n",
    "def f(n = x):     #'x' is the default value of parameter 'n'. \n",
    "    return n**2\n",
    "```\n",
    "So when `x` is set to `0`, you get \n",
    "\n",
    "```Python\n",
    "def f(n =0):\n",
    "    return n**2\n",
    "```\n",
    "\n",
    "\n",
    "Here, `n = x` creates a new variable `n` local to lambda and computed when the lambda is defined so that it has the same value that `x` had at that point in the loop. This means that the default value of `n` will be 0 in the first lambda, 1 in the second and so on. Now, each lambda will return the correct result."
   ]
  },
  {
   "cell_type": "markdown",
   "metadata": {},
   "source": [
    "### `map`, `reduce` and `filter`\n",
    "\n",
    "Essentially, these three functions allow you to apply a function across a number of iterables, in one fell swoop. `map` and `filter` come built-in with Python (in the `__builtins__` module) and require no importing. `reduce`, however, needs to be imported as it resides in the `functools` module. Let's get a better understanding of how they all work, starting with `map`."
   ]
  },
  {
   "cell_type": "markdown",
   "metadata": {},
   "source": [
    "`map(func, *iterables)`\n",
    "\n",
    "Where `func` is the function on which each element in iterables (as many as they are) would be applied on. Notice the asterisk(`*`) on iterables? It means there can be as many iterables as possible, in so far `func` has that exact number as required input arguments. Before we move on to an example, it's important that you note the following:\n",
    "\n",
    " - The function returns a map object which is a generator object. To get the result as a list, the built-in `list()` function can be called on the map object. i.e. `list(map(func, *iterables))`.\n",
    " \n",
    " - The number of arguments to func must be the number of iterables listed. \n",
    " \n",
    " "
   ]
  },
  {
   "cell_type": "code",
   "execution_count": 7,
   "metadata": {},
   "outputs": [
    {
     "data": {
      "text/plain": [
       "['ALFRED', 'TABITHA', 'WILLIAM', 'ARLA']"
      ]
     },
     "execution_count": 7,
     "metadata": {},
     "output_type": "execute_result"
    }
   ],
   "source": [
    "my_pets = ['alfred', 'tabitha', 'william', 'arla']\n",
    "\n",
    "uppered_pets = list(map(str.upper, my_pets))\n",
    "\n",
    "uppered_pets"
   ]
  },
  {
   "cell_type": "markdown",
   "metadata": {},
   "source": [
    "Note that we didn't actually call `str.upper` in `map()`. We only mention the name of function. "
   ]
  },
  {
   "cell_type": "code",
   "execution_count": 8,
   "metadata": {},
   "outputs": [
    {
     "name": "stdout",
     "output_type": "stream",
     "text": [
      "[3.6, 5.58, 4.009, 56.2424, 9.01344, 32.00013]\n"
     ]
    }
   ],
   "source": [
    "circle_areas = [3.56773, 5.57668, 4.00914, 56.24241, 9.01344, 32.00013]\n",
    "\n",
    "result = list(map(round, circle_areas, range(1,7)))\n",
    "\n",
    "print(result)"
   ]
  },
  {
   "cell_type": "code",
   "execution_count": 9,
   "metadata": {},
   "outputs": [
    {
     "name": "stdout",
     "output_type": "stream",
     "text": [
      "[('a', 1), ('b', 2), ('c', 3), ('d', 4), ('e', 5)]\n"
     ]
    }
   ],
   "source": [
    "my_strings = ['a', 'b', 'c', 'd', 'e']\n",
    "my_numbers = [1,2,3,4,5]\n",
    "\n",
    "results = list(map(lambda x, y: (x, y), my_strings, my_numbers))\n",
    "\n",
    "print(results)"
   ]
  },
  {
   "cell_type": "code",
   "execution_count": 12,
   "metadata": {},
   "outputs": [
    {
     "data": {
      "text/plain": [
       "<map at 0x6c61666910>"
      ]
     },
     "execution_count": 12,
     "metadata": {},
     "output_type": "execute_result"
    }
   ],
   "source": [
    ">>> list1 = [2,4,5]\n",
    ">>> list2 = [3,6,7]\n",
    ">>> map(lambda x,y: x+y, list1, list2)\n"
   ]
  },
  {
   "cell_type": "code",
   "execution_count": 2,
   "metadata": {},
   "outputs": [
    {
     "data": {
      "text/plain": [
       "['apx', 'bqy', 'crz']"
      ]
     },
     "execution_count": 2,
     "metadata": {},
     "output_type": "execute_result"
    }
   ],
   "source": [
    "a = ['a','b','c']\n",
    "b = ['p', 'q', 'r']\n",
    "c = ['x','y', 'z']\n",
    "\n",
    "def f1(x,y,z):\n",
    "    return x+y+z\n",
    "\n",
    "\n",
    "list(map(f1,a,b,c))"
   ]
  },
  {
   "cell_type": "markdown",
   "metadata": {},
   "source": [
    "`filter(func, iterable)`\n",
    "\n",
    "`filter()`, first of all, requires the function to return boolean values (true or false) and then passes each element in the iterable through the function, \"filtering\" away those that are false.\n",
    "\n",
    "The following points are to be noted regarding `filter()`:\n",
    "\n",
    " - Unlike `map()`, only one iterable is required.\n",
    " - The `func` argument is required to return a boolean type. If it doesn't, filter simply returns the iterable passed to it. Also, as only one iterable is required, it's implicit that `func` must only take one argument.\n",
    " - `filter` passes each element in the iterable through `func` and returns only the ones that evaluate to true. I mean, it's right there in the name -- a \"filter\".\n"
   ]
  },
  {
   "cell_type": "code",
   "execution_count": 10,
   "metadata": {},
   "outputs": [
    {
     "name": "stdout",
     "output_type": "stream",
     "text": [
      "[90, 76, 88, 81]\n"
     ]
    }
   ],
   "source": [
    "scores = [66, 90, 68, 59, 76, 60, 88, 74, 81, 65]\n",
    "\n",
    "def is_A_student(score):\n",
    "    return score > 75\n",
    "\n",
    "over_75 = list(filter(is_A_student, scores))\n",
    "\n",
    "print(over_75)"
   ]
  },
  {
   "cell_type": "code",
   "execution_count": 19,
   "metadata": {},
   "outputs": [
    {
     "name": "stdout",
     "output_type": "stream",
     "text": [
      "['madam', 'anutforajaroftuna']\n"
     ]
    }
   ],
   "source": [
    "dromes = (\"demigod\", \"rewire\", \"madam\", \"freer\", \"anutforajaroftuna\", \"kiosk\")\n",
    "\n",
    "palindromes = list(filter(lambda word: word == word[::-1], dromes))\n",
    "\n",
    "print(palindromes)"
   ]
  },
  {
   "cell_type": "markdown",
   "metadata": {},
   "source": [
    "`reduce(func, iterable[, initial])`\n",
    "\n",
    "reduce applies a function of two arguments cumulatively to the elements of an iterable, optionally starting with an initial argument.\n",
    "\n",
    "Here `func` is the function on which each element in the iterable gets cumulatively applied to, and initial is the optional value that gets placed before the elements of the iterable in the calculation, and serves as a default when the iterable is empty. The following should be noted about `reduce()`: \n",
    "\n",
    " -  `func `requires two arguments, the first of which is the first element in iterable (if initial is not supplied) and the second element in iterable. If initial is supplied, then it becomes the first argument to func and the first element in iterable becomes the second element. \n",
    " \n",
    " - `reduce` \"reduces\" iterable into a single value. "
   ]
  },
  {
   "cell_type": "code",
   "execution_count": 12,
   "metadata": {},
   "outputs": [
    {
     "name": "stdout",
     "output_type": "stream",
     "text": [
      "68\n"
     ]
    }
   ],
   "source": [
    "from functools import reduce\n",
    "\n",
    "numbers = [3, 4, 6, 9, 34, 12]\n",
    "\n",
    "def custom_sum(first, second):\n",
    "    return first + second\n",
    "\n",
    "result = reduce(custom_sum, numbers)\n",
    "print(result)"
   ]
  },
  {
   "cell_type": "code",
   "execution_count": 13,
   "metadata": {},
   "outputs": [
    {
     "name": "stdout",
     "output_type": "stream",
     "text": [
      "78\n"
     ]
    }
   ],
   "source": [
    "from functools import reduce\n",
    "\n",
    "numbers = [3, 4, 6, 9, 34, 12]\n",
    "\n",
    "def custom_sum(first, second):\n",
    "    return first + second\n",
    "\n",
    "result = reduce(custom_sum, numbers, 10)\n",
    "print(result)"
   ]
  },
  {
   "cell_type": "markdown",
   "metadata": {
    "collapsed": true
   },
   "source": [
    "#### Gererator Expression\n",
    "\n",
    "List comprehensions use square brackets, while generator expressions use parentheses."
   ]
  },
  {
   "cell_type": "code",
   "execution_count": 36,
   "metadata": {},
   "outputs": [
    {
     "data": {
      "text/plain": [
       "[0, 1, 4, 9, 16]"
      ]
     },
     "execution_count": 36,
     "metadata": {},
     "output_type": "execute_result"
    }
   ],
   "source": [
    "[n ** 2 for n in range(5)]"
   ]
  },
  {
   "cell_type": "code",
   "execution_count": 37,
   "metadata": {},
   "outputs": [
    {
     "data": {
      "text/plain": [
       "<generator object <genexpr> at 0x037B7A30>"
      ]
     },
     "execution_count": 37,
     "metadata": {},
     "output_type": "execute_result"
    }
   ],
   "source": [
    "(n ** 2 for n in range(5))"
   ]
  },
  {
   "cell_type": "code",
   "execution_count": 38,
   "metadata": {},
   "outputs": [
    {
     "data": {
      "text/plain": [
       "[0, 1, 4, 9, 16]"
      ]
     },
     "execution_count": 38,
     "metadata": {},
     "output_type": "execute_result"
    }
   ],
   "source": [
    "list((n ** 2 for n in range(5)))"
   ]
  },
  {
   "cell_type": "markdown",
   "metadata": {},
   "source": [
    "A list is a collection of values, while generator is a recipe for producing values. \n",
    "\n",
    "The difference is that a generator expression does not actually compute the values until they are needed. This not only leads to memory efficiency, but to computational efficiency as well! This also means that while the size of a list is limited by available memory, the size of a generator expression is unlimited!\n",
    "\n",
    "A list can be itereated over multiple times, a generator expression is single use only.\n"
   ]
  },
  {
   "cell_type": "code",
   "execution_count": 4,
   "metadata": {},
   "outputs": [
    {
     "data": {
      "text/plain": [
       "[0, 1, 4, 9, 16]"
      ]
     },
     "execution_count": 4,
     "metadata": {},
     "output_type": "execute_result"
    }
   ],
   "source": [
    "g = (n ** 2 for n in range(5))\n",
    "list(g)"
   ]
  },
  {
   "cell_type": "code",
   "execution_count": 6,
   "metadata": {},
   "outputs": [
    {
     "name": "stdout",
     "output_type": "stream",
     "text": [
      "0 1 4 9 16\n"
     ]
    }
   ],
   "source": [
    "g = (n ** 2 for n in range(5))\n",
    "\n",
    "print(*g)"
   ]
  },
  {
   "cell_type": "markdown",
   "metadata": {},
   "source": [
    "#### Closure"
   ]
  },
  {
   "cell_type": "code",
   "execution_count": 57,
   "metadata": {},
   "outputs": [
    {
     "name": "stdout",
     "output_type": "stream",
     "text": [
      "10\n",
      "9\n",
      "8\n",
      "7\n",
      "6\n",
      "5\n",
      "4\n",
      "3\n",
      "2\n",
      "1\n"
     ]
    }
   ],
   "source": [
    "def countdown(n):\n",
    "    def nextf():\n",
    "        nonlocal n\n",
    "        r = n\n",
    "        n -= 1\n",
    "        return r\n",
    "    return nextf\n",
    "a = countdown(10)\n",
    "while True:\n",
    "\tb = a()\n",
    "\tif not b: break\n",
    "\tprint(b)\n"
   ]
  },
  {
   "cell_type": "markdown",
   "metadata": {},
   "source": [
    "In this code, a closure is being used to store the internal counter value `n`. The inner function `nextf()` updates and returns the previous value of this counter variable each time it is called.\n"
   ]
  }
 ],
 "metadata": {
  "kernelspec": {
   "display_name": "Python 3 (ipykernel)",
   "language": "python",
   "name": "python3"
  },
  "language_info": {
   "codemirror_mode": {
    "name": "ipython",
    "version": 3
   },
   "file_extension": ".py",
   "mimetype": "text/x-python",
   "name": "python",
   "nbconvert_exporter": "python",
   "pygments_lexer": "ipython3",
   "version": "3.9.7"
  }
 },
 "nbformat": 4,
 "nbformat_minor": 2
}
