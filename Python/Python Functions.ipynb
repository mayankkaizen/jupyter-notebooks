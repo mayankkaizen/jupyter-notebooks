{
 "cells": [
  {
   "cell_type": "markdown",
   "metadata": {},
   "source": [
    "## Functions"
   ]
  },
  {
   "cell_type": "code",
   "execution_count": 1,
   "metadata": {},
   "outputs": [
    {
     "data": {
      "text/plain": [
       "True"
      ]
     },
     "execution_count": 1,
     "metadata": {},
     "output_type": "execute_result"
    }
   ],
   "source": [
    "def func1(x,y):\n",
    "    return x if x < y else y\n",
    "\n",
    "func2 = lambda x,y: x if x < y else y\n",
    "\n",
    "class Func3:\n",
    "    def __call__(self, x, y):\n",
    "        return x if x < y else y\n",
    "    \n",
    "func3 = Func3()\n",
    "\n",
    "func1(3,4) == func2(3,4) == func3(3,4)"
   ]
  },
  {
   "cell_type": "code",
   "execution_count": 2,
   "metadata": {},
   "outputs": [],
   "source": [
    "i = 5\n",
    "def f(arg = i):\n",
    "    print(arg)"
   ]
  },
  {
   "cell_type": "code",
   "execution_count": 3,
   "metadata": {},
   "outputs": [
    {
     "name": "stdout",
     "output_type": "stream",
     "text": [
      "5\n"
     ]
    }
   ],
   "source": [
    "f()"
   ]
  },
  {
   "cell_type": "code",
   "execution_count": 4,
   "metadata": {},
   "outputs": [
    {
     "name": "stdout",
     "output_type": "stream",
     "text": [
      "4\n"
     ]
    }
   ],
   "source": [
    "f(4)"
   ]
  },
  {
   "cell_type": "markdown",
   "metadata": {},
   "source": [
    "`def` statement is executable and defaults are evaluated once only when `def` is executed. This means that the expression (`def` statement) is evaluated once, when the function is defined, and that the same 'pre computed' value is used for each call.  \n",
    "\n",
    "Below, each subsequent call to function keeps using the same list (as indicated by `id` function)"
   ]
  },
  {
   "cell_type": "code",
   "execution_count": 5,
   "metadata": {},
   "outputs": [],
   "source": [
    "def f(l = []):\n",
    "    print(id(l))\n",
    "    l.append(2)\n",
    "    print(l)\n"
   ]
  },
  {
   "cell_type": "code",
   "execution_count": 6,
   "metadata": {},
   "outputs": [
    {
     "name": "stdout",
     "output_type": "stream",
     "text": [
      "51021944\n",
      "[2]\n"
     ]
    }
   ],
   "source": [
    "f()"
   ]
  },
  {
   "cell_type": "code",
   "execution_count": 7,
   "metadata": {},
   "outputs": [
    {
     "name": "stdout",
     "output_type": "stream",
     "text": [
      "51021944\n",
      "[2, 2]\n"
     ]
    }
   ],
   "source": [
    "f()"
   ]
  },
  {
   "cell_type": "markdown",
   "metadata": {},
   "source": [
    "Since default value is evaluated only once. This makes a difference when the default is a mutable object such as a list, dictionary, or instances of most classes. For example, the following function accumulates the arguments passed to it on subsequent calls:"
   ]
  },
  {
   "cell_type": "code",
   "execution_count": 8,
   "metadata": {},
   "outputs": [
    {
     "name": "stdout",
     "output_type": "stream",
     "text": [
      "[1]\n",
      "[1, 2]\n"
     ]
    }
   ],
   "source": [
    ">>> def f(a, l = []):\n",
    "\tl.append(a)\n",
    "\treturn l\n",
    "print(f(1))\n",
    "print(f(2))"
   ]
  },
  {
   "cell_type": "markdown",
   "metadata": {},
   "source": [
    "\n",
    "If you don't want that, write function like below - "
   ]
  },
  {
   "cell_type": "code",
   "execution_count": 9,
   "metadata": {},
   "outputs": [
    {
     "name": "stdout",
     "output_type": "stream",
     "text": [
      "[1]\n",
      "[2]\n"
     ]
    }
   ],
   "source": [
    ">>> def f(a, l = None):\n",
    "\tif l is None:\n",
    "\t\tl = []\n",
    "\tl.append(a)\n",
    "\treturn l\n",
    "print(f(1))\n",
    "print(f(2))"
   ]
  },
  {
   "cell_type": "markdown",
   "metadata": {},
   "source": [
    "#### Mutable/Immutable argument to functions"
   ]
  },
  {
   "cell_type": "code",
   "execution_count": 10,
   "metadata": {},
   "outputs": [
    {
     "name": "stdout",
     "output_type": "stream",
     "text": [
      "77 [99, 42]\n"
     ]
    }
   ],
   "source": [
    "def f(x,y):\n",
    "    x = 23\n",
    "    y.append(42)\n",
    "    \n",
    "\n",
    "a = 77\n",
    "b = [99]\n",
    "f(a,b)\n",
    "print(a,b)\n"
   ]
  },
  {
   "cell_type": "markdown",
   "metadata": {},
   "source": [
    "Notice that x is still set to 77 while list has changed. It happened because ‘a’ is immutable while lists are mutable. "
   ]
  },
  {
   "cell_type": "markdown",
   "metadata": {},
   "source": [
    "### Variable Scope in Function"
   ]
  },
  {
   "cell_type": "code",
   "execution_count": 11,
   "metadata": {},
   "outputs": [
    {
     "name": "stdout",
     "output_type": "stream",
     "text": [
      "7\n"
     ]
    }
   ],
   "source": [
    "def f1(a):\n",
    "    def f2(b):\n",
    "        b =  a+b\n",
    "        return b\n",
    "    return f2    \n",
    "\n",
    "x = f1(3)\n",
    "print(x(4)) \n",
    "\n",
    "#here function f2 has access to 'a' from function f1.\\"
   ]
  },
  {
   "cell_type": "code",
   "execution_count": 12,
   "metadata": {},
   "outputs": [
    {
     "name": "stdout",
     "output_type": "stream",
     "text": [
      "9\n"
     ]
    }
   ],
   "source": [
    "def f1(a):\n",
    "    def f2(b):\n",
    "        nonlocal a\n",
    "        a = a + b\n",
    "        return a\n",
    "    return f2\n",
    "x = f1(5)\n",
    "print(x(4)) \n"
   ]
  },
  {
   "cell_type": "markdown",
   "metadata": {},
   "source": [
    "Notice the use of `nonlocal`. Due to this, function `f2` has access to `a` in function `f1`"
   ]
  },
  {
   "cell_type": "markdown",
   "metadata": {},
   "source": [
    "### `locals` and `globals`"
   ]
  },
  {
   "cell_type": "code",
   "execution_count": 13,
   "metadata": {},
   "outputs": [
    {
     "name": "stdout",
     "output_type": "stream",
     "text": [
      "mac\n",
      "{'string1': 'mac'}\n"
     ]
    },
    {
     "data": {
      "text/plain": [
       "{'__name__': '__main__',\n",
       " '__doc__': 'Automatically created module for IPython interactive environment',\n",
       " '__package__': None,\n",
       " '__loader__': None,\n",
       " '__spec__': None,\n",
       " '__builtin__': <module 'builtins' (built-in)>,\n",
       " '__builtins__': <module 'builtins' (built-in)>,\n",
       " '_ih': ['',\n",
       "  'def func1(x,y):\\n    return x if x < y else y\\n\\nfunc2 = lambda x,y: x if x < y else y\\n\\nclass Func3:\\n    def __call__(self, x, y):\\n        return x if x < y else y\\n    \\nfunc3 = Func3()\\n\\nfunc1(3,4) == func2(3,4) == func3(3,4)',\n",
       "  'i = 5\\ndef f(arg = i):\\n    print(arg)',\n",
       "  'f()',\n",
       "  'f(4)',\n",
       "  'def f(l = []):\\n    print(id(l))\\n    l.append(2)\\n    print(l)',\n",
       "  'f()',\n",
       "  'f()',\n",
       "  'def f(a, l = []):\\n\\tl.append(a)\\n\\treturn l\\nprint(f(1))\\nprint(f(2))',\n",
       "  'def f(a, l = None):\\n\\tif l is None:\\n\\t\\tl = []\\n\\tl.append(a)\\n\\treturn l\\nprint(f(1))\\nprint(f(2))',\n",
       "  'def f(x,y):\\n    x = 23\\n    y.append(42)\\n    \\n\\na = 77\\nb = [99]\\nf(a,b)\\nprint(a,b)',\n",
       "  \"def f1(a):\\n    def f2(b):\\n        b =  a+b\\n        return b\\n    return f2    \\n\\nx = f1(3)\\nprint(x(4)) \\n\\n#here function f2 has access to 'a' from function f1.\\\\\",\n",
       "  'def f1(a):\\n    def f2(b):\\n        nonlocal a\\n        a = a + b\\n        return a\\n    return f2\\nx = f1(5)\\nprint(x(4)) ',\n",
       "  \"string1 = 'mayank'\\ndef foo():\\n    string1 = 'mac'\\n    print(string1)\\n    print(locals())\\n\\nfoo()\\nglobals()\"],\n",
       " '_oh': {1: True},\n",
       " '_dh': ['c:\\\\Users\\\\mcc\\\\Miniconda3\\\\notebooks\\\\My Notebooks\\\\Python'],\n",
       " 'In': ['',\n",
       "  'def func1(x,y):\\n    return x if x < y else y\\n\\nfunc2 = lambda x,y: x if x < y else y\\n\\nclass Func3:\\n    def __call__(self, x, y):\\n        return x if x < y else y\\n    \\nfunc3 = Func3()\\n\\nfunc1(3,4) == func2(3,4) == func3(3,4)',\n",
       "  'i = 5\\ndef f(arg = i):\\n    print(arg)',\n",
       "  'f()',\n",
       "  'f(4)',\n",
       "  'def f(l = []):\\n    print(id(l))\\n    l.append(2)\\n    print(l)',\n",
       "  'f()',\n",
       "  'f()',\n",
       "  'def f(a, l = []):\\n\\tl.append(a)\\n\\treturn l\\nprint(f(1))\\nprint(f(2))',\n",
       "  'def f(a, l = None):\\n\\tif l is None:\\n\\t\\tl = []\\n\\tl.append(a)\\n\\treturn l\\nprint(f(1))\\nprint(f(2))',\n",
       "  'def f(x,y):\\n    x = 23\\n    y.append(42)\\n    \\n\\na = 77\\nb = [99]\\nf(a,b)\\nprint(a,b)',\n",
       "  \"def f1(a):\\n    def f2(b):\\n        b =  a+b\\n        return b\\n    return f2    \\n\\nx = f1(3)\\nprint(x(4)) \\n\\n#here function f2 has access to 'a' from function f1.\\\\\",\n",
       "  'def f1(a):\\n    def f2(b):\\n        nonlocal a\\n        a = a + b\\n        return a\\n    return f2\\nx = f1(5)\\nprint(x(4)) ',\n",
       "  \"string1 = 'mayank'\\ndef foo():\\n    string1 = 'mac'\\n    print(string1)\\n    print(locals())\\n\\nfoo()\\nglobals()\"],\n",
       " 'Out': {1: True},\n",
       " 'get_ipython': <bound method InteractiveShell.get_ipython of <ipykernel.zmqshell.ZMQInteractiveShell object at 0x0234EA70>>,\n",
       " 'exit': <IPython.core.autocall.ZMQExitAutocall at 0x3057670>,\n",
       " 'quit': <IPython.core.autocall.ZMQExitAutocall at 0x3057670>,\n",
       " '_': True,\n",
       " '__': '',\n",
       " '___': '',\n",
       " '_i': 'def f1(a):\\n    def f2(b):\\n        nonlocal a\\n        a = a + b\\n        return a\\n    return f2\\nx = f1(5)\\nprint(x(4)) ',\n",
       " '_ii': \"def f1(a):\\n    def f2(b):\\n        b =  a+b\\n        return b\\n    return f2    \\n\\nx = f1(3)\\nprint(x(4)) \\n\\n#here function f2 has access to 'a' from function f1.\\\\\",\n",
       " '_iii': 'def f(x,y):\\n    x = 23\\n    y.append(42)\\n    \\n\\na = 77\\nb = [99]\\nf(a,b)\\nprint(a,b)',\n",
       " '_i1': 'def func1(x,y):\\n    return x if x < y else y\\n\\nfunc2 = lambda x,y: x if x < y else y\\n\\nclass Func3:\\n    def __call__(self, x, y):\\n        return x if x < y else y\\n    \\nfunc3 = Func3()\\n\\nfunc1(3,4) == func2(3,4) == func3(3,4)',\n",
       " 'func1': <function __main__.func1(x, y)>,\n",
       " 'func2': <function __main__.<lambda>(x, y)>,\n",
       " 'Func3': __main__.Func3,\n",
       " 'func3': <__main__.Func3 at 0x3176bf0>,\n",
       " '_1': True,\n",
       " '_i2': 'i = 5\\ndef f(arg = i):\\n    print(arg)',\n",
       " 'i': 5,\n",
       " 'f': <function __main__.f(x, y)>,\n",
       " '_i3': 'f()',\n",
       " '_i4': 'f(4)',\n",
       " '_i5': 'def f(l = []):\\n    print(id(l))\\n    l.append(2)\\n    print(l)',\n",
       " '_i6': 'f()',\n",
       " '_i7': 'f()',\n",
       " '_i8': '>>> def f(a, l = []):\\n\\tl.append(a)\\n\\treturn l\\nprint(f(1))\\nprint(f(2))',\n",
       " '_i9': '>>> def f(a, l = None):\\n\\tif l is None:\\n\\t\\tl = []\\n\\tl.append(a)\\n\\treturn l\\nprint(f(1))\\nprint(f(2))',\n",
       " '_i10': 'def f(x,y):\\n    x = 23\\n    y.append(42)\\n    \\n\\na = 77\\nb = [99]\\nf(a,b)\\nprint(a,b)',\n",
       " 'a': 77,\n",
       " 'b': [99, 42],\n",
       " '_i11': \"def f1(a):\\n    def f2(b):\\n        b =  a+b\\n        return b\\n    return f2    \\n\\nx = f1(3)\\nprint(x(4)) \\n\\n#here function f2 has access to 'a' from function f1.\\\\\",\n",
       " 'f1': <function __main__.f1(a)>,\n",
       " 'x': <function __main__.f1.<locals>.f2(b)>,\n",
       " '_i12': 'def f1(a):\\n    def f2(b):\\n        nonlocal a\\n        a = a + b\\n        return a\\n    return f2\\nx = f1(5)\\nprint(x(4)) ',\n",
       " '_i13': \"string1 = 'mayank'\\ndef foo():\\n    string1 = 'mac'\\n    print(string1)\\n    print(locals())\\n\\nfoo()\\nglobals()\",\n",
       " 'string1': 'mayank',\n",
       " 'foo': <function __main__.foo()>}"
      ]
     },
     "execution_count": 13,
     "metadata": {},
     "output_type": "execute_result"
    }
   ],
   "source": [
    "string1 = 'mayank'\n",
    "def foo():\n",
    "    string1 = 'mac'\n",
    "    print(string1)\n",
    "    print(locals())\n",
    "\n",
    "foo()\n",
    "globals()"
   ]
  },
  {
   "cell_type": "markdown",
   "metadata": {},
   "source": [
    "### Examples of variable scoping"
   ]
  },
  {
   "cell_type": "markdown",
   "metadata": {},
   "source": [
    "Now look at following different functions - "
   ]
  },
  {
   "cell_type": "code",
   "execution_count": 14,
   "metadata": {},
   "outputs": [
    {
     "name": "stdout",
     "output_type": "stream",
     "text": [
      "3\n",
      "[99, 42]\n"
     ]
    }
   ],
   "source": [
    "def f1(a):\n",
    "    print(a)\n",
    "    print(b)\n",
    "\n",
    "f1(3)    #notice the output"
   ]
  },
  {
   "cell_type": "code",
   "execution_count": 15,
   "metadata": {},
   "outputs": [
    {
     "name": "stdout",
     "output_type": "stream",
     "text": [
      "3\n",
      "6\n"
     ]
    }
   ],
   "source": [
    "b = 6\n",
    "def f2(a):\n",
    "    print(a)\n",
    "    print(b)\n",
    "f2(3)\n"
   ]
  },
  {
   "cell_type": "code",
   "execution_count": 16,
   "metadata": {},
   "outputs": [
    {
     "name": "stdout",
     "output_type": "stream",
     "text": [
      "3\n"
     ]
    },
    {
     "ename": "UnboundLocalError",
     "evalue": "local variable 'b' referenced before assignment",
     "output_type": "error",
     "traceback": [
      "\u001b[1;31m---------------------------------------------------------------------------\u001b[0m",
      "\u001b[1;31mUnboundLocalError\u001b[0m                         Traceback (most recent call last)",
      "\u001b[1;32m<ipython-input-16-27467ce96106>\u001b[0m in \u001b[0;36m<module>\u001b[1;34m\u001b[0m\n\u001b[0;32m      4\u001b[0m     \u001b[0mprint\u001b[0m\u001b[1;33m(\u001b[0m\u001b[0mb\u001b[0m\u001b[1;33m)\u001b[0m\u001b[1;33m\u001b[0m\u001b[0m\n\u001b[0;32m      5\u001b[0m     \u001b[0mb\u001b[0m \u001b[1;33m=\u001b[0m \u001b[1;36m6\u001b[0m\u001b[1;33m\u001b[0m\u001b[0m\n\u001b[1;32m----> 6\u001b[1;33m \u001b[0mf3\u001b[0m\u001b[1;33m(\u001b[0m\u001b[1;36m3\u001b[0m\u001b[1;33m)\u001b[0m\u001b[1;33m\u001b[0m\u001b[0m\n\u001b[0m",
      "\u001b[1;32m<ipython-input-16-27467ce96106>\u001b[0m in \u001b[0;36mf3\u001b[1;34m(a)\u001b[0m\n\u001b[0;32m      2\u001b[0m \u001b[1;32mdef\u001b[0m \u001b[0mf3\u001b[0m\u001b[1;33m(\u001b[0m\u001b[0ma\u001b[0m\u001b[1;33m)\u001b[0m\u001b[1;33m:\u001b[0m\u001b[1;33m\u001b[0m\u001b[0m\n\u001b[0;32m      3\u001b[0m     \u001b[0mprint\u001b[0m\u001b[1;33m(\u001b[0m\u001b[0ma\u001b[0m\u001b[1;33m)\u001b[0m\u001b[1;33m\u001b[0m\u001b[0m\n\u001b[1;32m----> 4\u001b[1;33m     \u001b[0mprint\u001b[0m\u001b[1;33m(\u001b[0m\u001b[0mb\u001b[0m\u001b[1;33m)\u001b[0m\u001b[1;33m\u001b[0m\u001b[0m\n\u001b[0m\u001b[0;32m      5\u001b[0m     \u001b[0mb\u001b[0m \u001b[1;33m=\u001b[0m \u001b[1;36m6\u001b[0m\u001b[1;33m\u001b[0m\u001b[0m\n\u001b[0;32m      6\u001b[0m \u001b[0mf3\u001b[0m\u001b[1;33m(\u001b[0m\u001b[1;36m3\u001b[0m\u001b[1;33m)\u001b[0m\u001b[1;33m\u001b[0m\u001b[0m\n",
      "\u001b[1;31mUnboundLocalError\u001b[0m: local variable 'b' referenced before assignment"
     ]
    }
   ],
   "source": [
    "b = 9\n",
    "def f3(a):\n",
    "    print(a)\n",
    "    print(b)\n",
    "    b = 6\n",
    "f3(3)"
   ]
  },
  {
   "cell_type": "markdown",
   "metadata": {},
   "source": [
    "Compare last 2 examples.  "
   ]
  },
  {
   "cell_type": "code",
   "execution_count": 17,
   "metadata": {},
   "outputs": [
    {
     "name": "stdout",
     "output_type": "stream",
     "text": [
      "3\n",
      "4\n"
     ]
    }
   ],
   "source": [
    "b =  4\n",
    "def f4(a):\n",
    "    global b\n",
    "    print(a)\n",
    "    print(b)\n",
    "    b = 6\n",
    "\n",
    "f4(3)    \n"
   ]
  },
  {
   "cell_type": "markdown",
   "metadata": {},
   "source": [
    "### Function returning `None`: Be careful\n"
   ]
  },
  {
   "cell_type": "code",
<<<<<<< HEAD
   "execution_count": 3,
=======
   "execution_count": 18,
>>>>>>> 8c48cfd72eb63bc22463047106dc3df765486817
   "metadata": {},
   "outputs": [
    {
     "name": "stdout",
     "output_type": "stream",
     "text": [
      "invalid inputs\n"
     ]
    }
   ],
   "source": [
    ">>> def divide(a,b):\n",
    "\ttry:\n",
    "\t\treturn a/b\n",
    "\texcept ZeroDivisionError:\n",
    "\t\treturn None\n",
    "\t\n",
    ">>> x, y = 0, 5\n",
    ">>> result = divide(x,y)     #result is 0\n",
    ">>> if not result:           # 0 evaluates to False  \n",
    "\tprint('invalid inputs')\n"
   ]
  },
  {
   "cell_type": "markdown",
   "metadata": {},
   "source": [
    "In conditional blocks, both `None` and `0` evaluates to `False`, so be careful here. In above example, `None` and 0 mean different things. "
   ]
  },
  {
   "cell_type": "markdown",
   "metadata": {},
   "source": [
    "#### Using Strings to Call Functions/Methods"
   ]
  },
  {
   "cell_type": "code",
   "execution_count": 19,
   "metadata": {},
   "outputs": [
    {
     "name": "stdout",
     "output_type": "stream",
     "text": [
      "a\n",
      "b\n"
     ]
    }
   ],
   "source": [
    ">>> def a():\n",
    "\tprint('a')\n",
    "\n",
    "\t\n",
    ">>> def b():\n",
    "\tprint('b')\n",
    "\n",
    "\t\n",
    ">>> dispatch = {'go': a, 'stop':b}\n",
    ">>> dispatch['go']()\n",
    ">>> dispatch['stop']()"
   ]
  },
  {
   "cell_type": "code",
   "execution_count": null,
   "metadata": {
    "collapsed": true
   },
   "outputs": [],
   "source": []
  },
  {
   "cell_type": "markdown",
   "metadata": {},
   "source": [
    "#### Using `locals()` or `eval()`"
   ]
  },
  {
   "cell_type": "code",
   "execution_count": 20,
   "metadata": {},
   "outputs": [
    {
     "name": "stdout",
     "output_type": "stream",
     "text": [
      "Hello\n"
     ]
    }
   ],
   "source": [
    ">>> def a():\n",
    "\tprint('Hello')\n",
    "\n",
    "\t\n",
    ">>> b =  'a'\n",
    ">>> f = locals()[b]\n",
    ">>> f()"
   ]
  },
  {
   "cell_type": "code",
   "execution_count": null,
   "metadata": {
    "collapsed": true
   },
   "outputs": [],
   "source": []
  },
  {
   "cell_type": "code",
   "execution_count": 21,
   "metadata": {},
   "outputs": [
    {
     "name": "stdout",
     "output_type": "stream",
     "text": [
      "Hello\n"
     ]
    }
   ],
   "source": [
    ">>> f = eval(b)\n",
    ">>> f()\n"
   ]
  },
  {
   "cell_type": "markdown",
   "metadata": {},
   "source": [
    "Create a script foo.py with following code - \n",
    "```Python\n",
    "a = 47\n",
    "def callfunc(func):\n",
    "    return func\n",
    "```\n",
    "Now do this:"
   ]
  },
  {
   "cell_type": "code",
   "execution_count": 23,
   "metadata": {},
   "outputs": [
    {
     "name": "stdout",
     "output_type": "stream",
     "text": [
      "Writing foo.py\n"
     ]
    }
   ],
   "source": [
    "%%file foo.py\n",
    "\n",
    "a = 47\n",
    "def callfunc(func):\n",
    "    return func\n",
    "\n",
    "\n"
   ]
  },
  {
   "cell_type": "code",
   "execution_count": 24,
   "metadata": {},
   "outputs": [
    {
     "data": {
      "text/plain": [
       "37"
      ]
     },
     "execution_count": 24,
     "metadata": {},
     "output_type": "execute_result"
    }
   ],
   "source": [
    ">>> from foo import callfunc\n",
    ">>> a = 37\n",
    ">>> def printf():\n",
    "\treturn a\n",
    ">>> callfunc(printf()) "
   ]
  },
  {
   "cell_type": "markdown",
   "metadata": {},
   "source": [
    "Notice the value of `a` returned. \n",
    "\n",
    "Note -  In the book ‘Python Essential Reference’(page 98), there were no parentheses after `printf` while calling `callfunc` function."
   ]
  },
  {
   "cell_type": "markdown",
   "metadata": {},
   "source": [
    "### Recursion"
   ]
  },
  {
   "cell_type": "code",
   "execution_count": 25,
   "metadata": {},
   "outputs": [
    {
     "name": "stdout",
     "output_type": "stream",
     "text": [
      "24\n",
      "1\n",
      "2\n",
      "3\n",
      "4\n",
      "5\n",
      "6\n",
      "None\n"
     ]
    }
   ],
   "source": [
    "#example 1\n",
    "def factorial(n):\n",
    "    if n <= 1: return 1\n",
    "    else: return n* factorial(n-1)\n",
    "\n",
    "    \n",
    "#example 2    \n",
    "def flatten(lists):\n",
    "    for s in lists:\n",
    "        if isinstance(s,list):\n",
    "            flatten(s)\n",
    "        else:\n",
    "            print(s)\n",
    "\n",
    "print(factorial(4))\n",
    "l = [1,2,[3,4,[5,6]]]\n",
    "print(flatten(l));"
   ]
  },
  {
   "cell_type": "markdown",
   "metadata": {},
   "source": [
    "However, be aware that there is a limit on the depth of recursive function calls. The function `sys.getrecursionlimit()` returns the current maximum recursion depth, and the function `sys.setrecursionlimit()` can be used to change the value.The default value is 1000. Although it is possible to increase the value, programs are still limited by the stack size limits enforced by the host operating system.When the recursion depth is exceeded, a `RuntimeError exception` is raised."
   ]
  },
  {
   "cell_type": "markdown",
   "metadata": {},
   "source": [
    "### Lambda Function"
   ]
  },
  {
   "cell_type": "code",
<<<<<<< HEAD
   "execution_count": 5,
=======
   "execution_count": 26,
>>>>>>> 8c48cfd72eb63bc22463047106dc3df765486817
   "metadata": {},
   "outputs": [
    {
     "data": {
      "text/plain": [
       "<function __main__.test.<locals>.<lambda>(x)>"
      ]
     },
<<<<<<< HEAD
     "execution_count": 5,
=======
     "execution_count": 26,
>>>>>>> 8c48cfd72eb63bc22463047106dc3df765486817
     "metadata": {},
     "output_type": "execute_result"
    }
   ],
   "source": [
    ">>> def test(n):\n",
    "\treturn lambda x: x+n\n",
    "\n",
    ">>> a = test(4)\n",
    ">>> a\n"
   ]
  },
  {
   "cell_type": "code",
   "execution_count": 27,
   "metadata": {},
   "outputs": [
    {
     "name": "stdout",
     "output_type": "stream",
     "text": [
      "6\n",
      "7\n"
     ]
    }
   ],
   "source": [
    "print(a(2))\n",
    "print(a(3))"
   ]
  },
  {
   "cell_type": "markdown",
   "metadata": {},
   "source": [
    "### `map` and `filter`"
   ]
  },
  {
   "cell_type": "code",
   "execution_count": 28,
   "metadata": {},
   "outputs": [
    {
     "data": {
      "text/plain": [
       "<map at 0x31bee90>"
      ]
     },
     "execution_count": 28,
     "metadata": {},
     "output_type": "execute_result"
    }
   ],
   "source": [
    ">>> list1 = [2,4,5]\n",
    ">>> list2 = [3,6,7]\n",
    ">>> map(lambda x,y: x+y, list1, list2)\n"
   ]
  },
  {
   "cell_type": "code",
   "execution_count": 29,
   "metadata": {},
   "outputs": [
    {
     "data": {
      "text/plain": [
       "[5, 10, 12]"
      ]
     },
     "execution_count": 29,
     "metadata": {},
     "output_type": "execute_result"
    }
   ],
   "source": [
    ">>> l = map(lambda x,y: x+y, list1, list2)\n",
    ">>> list(l)"
   ]
  },
  {
   "cell_type": "code",
   "execution_count": 30,
   "metadata": {},
   "outputs": [
    {
     "data": {
      "text/plain": [
       "[2, 4]"
      ]
     },
     "execution_count": 30,
     "metadata": {},
     "output_type": "execute_result"
    }
   ],
   "source": [
    ">>> a = filter(lambda x: x%2 ==0, list1)\n",
    ">>> list(a)\n"
   ]
  },
  {
   "cell_type": "code",
   "execution_count": 31,
   "metadata": {},
   "outputs": [
    {
     "data": {
      "text/plain": [
       "[5]"
      ]
     },
     "execution_count": 31,
     "metadata": {},
     "output_type": "execute_result"
    }
   ],
   "source": [
    ">>> a = filter(lambda x: x%2, list1)\n",
    ">>> list(a)"
   ]
  },
  {
   "cell_type": "code",
   "execution_count": 32,
   "metadata": {},
   "outputs": [
    {
     "data": {
      "text/plain": [
       "[(4, 'four'), (1, 'one'), (3, 'three'), (2, 'two')]"
      ]
     },
     "execution_count": 32,
     "metadata": {},
     "output_type": "execute_result"
    }
   ],
   "source": [
    ">>> #sorting\n",
    ">>> pairs = [(1,'one'),(2,'two'),(3,'three'),(4,'four')]\n",
    ">>> pairs.sort(key = lambda pair : pair[1])\n",
    ">>> pairs\n"
   ]
  },
  {
   "cell_type": "markdown",
   "metadata": {},
   "source": [
    "### Lambda function gotcha"
   ]
  },
  {
   "cell_type": "code",
   "execution_count": 33,
   "metadata": {},
   "outputs": [
    {
     "name": "stdout",
     "output_type": "stream",
     "text": [
      "[<function <lambda> at 0x037D0108>, <function <lambda> at 0x037D03D8>, <function <lambda> at 0x037D0540>, <function <lambda> at 0x037D0348>, <function <lambda> at 0x037D00C0>]\n",
      "16\n",
      "16\n",
      "4\n"
     ]
    }
   ],
   "source": [
    "square = []\n",
    "for x in range(5):\n",
    "    square.append(lambda: x**2)\n",
    "    \n",
    "print(square)\n",
    "print(square[2]())\n",
    "print(square[3]())\n",
    "print(x)"
   ]
  },
  {
   "cell_type": "code",
   "execution_count": 34,
   "metadata": {},
   "outputs": [
    {
     "data": {
      "text/plain": [
       "81"
      ]
     },
     "execution_count": 34,
     "metadata": {},
     "output_type": "execute_result"
    }
   ],
   "source": [
    ">>> x = 9\n",
    ">>> square[2]()\n"
   ]
  },
  {
   "cell_type": "markdown",
   "metadata": {},
   "source": [
    "You’d expect that list `square` will be `[0,1,4,9,16]` but that is not the case. What we are actually getting is a list containing lambdas. In above case, x is not local to the lambdas, but is defined in the outer scope, and it is accessed when lambda is called – not when it is defined. Also, when we try to access an element from this list, we get the value of lambda function with x =4. For detail, refer Python Programming FAQ section. To avoid this, we modify above program –"
   ]
  },
  {
   "cell_type": "code",
   "execution_count": 35,
   "metadata": {},
   "outputs": [
    {
     "name": "stdout",
     "output_type": "stream",
     "text": [
      "4\n",
      "9\n"
     ]
    }
   ],
   "source": [
    " square = []\n",
    "for x in range(5):\n",
    "    square.append(lambda n = x: n**2)\n",
    "\n",
    "print(square[2]())\n",
    "print(square[3]())"
   ]
  },
  {
   "cell_type": "markdown",
   "metadata": {},
   "source": [
    "Here, `n = x` creates a new variable `n` local to lambda and computed when the lambda is defined so that it has the same value that `x` had at that point in the loop. This means that the value of `n` will be 0 in the first lambda, 1 in the second and so on. Now, each lambda will return the correct result."
   ]
  },
  {
   "cell_type": "markdown",
   "metadata": {
    "collapsed": true
   },
   "source": [
    "#### Gererator Expression\n",
    "\n",
    "List comprehensions use square brackets, while generator expressions use parentheses."
   ]
  },
  {
   "cell_type": "code",
   "execution_count": 36,
   "metadata": {},
   "outputs": [
    {
     "data": {
      "text/plain": [
       "[0, 1, 4, 9, 16]"
      ]
     },
     "execution_count": 36,
     "metadata": {},
     "output_type": "execute_result"
    }
   ],
   "source": [
    "[n ** 2 for n in range(5)]"
   ]
  },
  {
   "cell_type": "code",
   "execution_count": 37,
   "metadata": {},
   "outputs": [
    {
     "data": {
      "text/plain": [
       "<generator object <genexpr> at 0x037B7A30>"
      ]
     },
     "execution_count": 37,
     "metadata": {},
     "output_type": "execute_result"
    }
   ],
   "source": [
    "(n ** 2 for n in range(5))"
   ]
  },
  {
   "cell_type": "code",
   "execution_count": 38,
   "metadata": {},
   "outputs": [
    {
     "data": {
      "text/plain": [
       "[0, 1, 4, 9, 16]"
      ]
     },
     "execution_count": 38,
     "metadata": {},
     "output_type": "execute_result"
    }
   ],
   "source": [
    "list((n ** 2 for n in range(5)))"
   ]
  },
  {
   "cell_type": "markdown",
   "metadata": {},
   "source": [
    "A list is a collection of values, while generator is a recipe for producing values. \n",
    "\n",
    "The difference is that a generator expression does not actually compute the values until they are needed. This not only leads to memory efficiency, but to computational efficiency as well! This also means that while the size of a list is limited by available memory, the size of a generator expression is unlimited!\n",
    "\n",
    "A list can be itereated over multiple times, a generator expression is single use only.\n"
   ]
  },
  {
   "cell_type": "code",
   "execution_count": 39,
   "metadata": {},
   "outputs": [
    {
     "data": {
      "text/plain": [
       "[0, 1, 4, 9, 16]"
      ]
     },
     "execution_count": 39,
     "metadata": {},
     "output_type": "execute_result"
    }
   ],
   "source": [
    "g = (n ** 2 for n in range(5))\n",
    "list(g)"
   ]
  },
  {
   "cell_type": "code",
   "execution_count": 40,
   "metadata": {},
   "outputs": [
    {
     "data": {
      "text/plain": [
       "[]"
      ]
     },
     "execution_count": 40,
     "metadata": {},
     "output_type": "execute_result"
    }
   ],
   "source": [
    "list(g)"
   ]
  },
  {
   "cell_type": "markdown",
   "metadata": {},
   "source": [
    "#### Generator Functions"
   ]
  },
  {
   "cell_type": "code",
   "execution_count": 42,
   "metadata": {},
   "outputs": [],
   "source": [
    "def countingdown(n):\n",
    "    print('Counting down from %d' %n)\n",
    "    while n > 0:\n",
    "        yield n\n",
    "        n -= 1\n",
    "    return     #’return’ here is optional.\n"
   ]
  },
  {
   "cell_type": "code",
   "execution_count": 43,
   "metadata": {},
   "outputs": [
    {
     "name": "stdout",
     "output_type": "stream",
     "text": [
      "Counting down from 5\n",
      "5\n",
      "4\n",
      "3\n",
      "2\n",
      "1\n"
     ]
    },
    {
     "ename": "StopIteration",
     "evalue": "",
     "output_type": "error",
     "traceback": [
      "\u001b[1;31m---------------------------------------------------------------------------\u001b[0m",
      "\u001b[1;31mStopIteration\u001b[0m                             Traceback (most recent call last)",
      "\u001b[1;32m<ipython-input-43-74779be9917b>\u001b[0m in \u001b[0;36m<module>\u001b[1;34m\u001b[0m\n\u001b[0;32m      5\u001b[0m \u001b[0mprint\u001b[0m\u001b[1;33m(\u001b[0m\u001b[0mnext\u001b[0m\u001b[1;33m(\u001b[0m\u001b[0mc\u001b[0m\u001b[1;33m)\u001b[0m\u001b[1;33m)\u001b[0m\u001b[1;33m\u001b[0m\u001b[0m\n\u001b[0;32m      6\u001b[0m \u001b[0mprint\u001b[0m\u001b[1;33m(\u001b[0m\u001b[0mnext\u001b[0m\u001b[1;33m(\u001b[0m\u001b[0mc\u001b[0m\u001b[1;33m)\u001b[0m\u001b[1;33m)\u001b[0m\u001b[1;33m\u001b[0m\u001b[0m\n\u001b[1;32m----> 7\u001b[1;33m \u001b[0mprint\u001b[0m\u001b[1;33m(\u001b[0m\u001b[0mnext\u001b[0m\u001b[1;33m(\u001b[0m\u001b[0mc\u001b[0m\u001b[1;33m)\u001b[0m\u001b[1;33m)\u001b[0m\u001b[1;33m\u001b[0m\u001b[0m\n\u001b[0m",
      "\u001b[1;31mStopIteration\u001b[0m: "
     ]
    }
   ],
   "source": [
    "c = countingdown(5)\n",
    "print(next(c))\n",
    "print(next(c))\n",
    "print(next(c))\n",
    "print(next(c))\n",
    "print(next(c))\n",
    "print(next(c))"
   ]
  },
  {
   "cell_type": "markdown",
   "metadata": {},
   "source": [
    "#### Coroutine"
   ]
  },
  {
   "cell_type": "code",
   "execution_count": 44,
   "metadata": {},
   "outputs": [
    {
     "name": "stdout",
     "output_type": "stream",
     "text": [
      "looking for mayank\n"
     ]
    }
   ],
   "source": [
    "def PrintMatch(matchtext):\n",
    "    print('looking for', matchtext)\n",
    "    while True:\n",
    "        line = (yield)\n",
    "        if matchtext in line:\n",
    "            print(line)\n",
    "\n",
    "matcher = PrintMatch('mayank')\n",
    "next(matcher)\n"
   ]
  },
  {
   "cell_type": "code",
   "execution_count": 45,
   "metadata": {},
   "outputs": [],
   "source": [
    "matcher.send('dfdsfadsf')"
   ]
  },
  {
   "cell_type": "code",
   "execution_count": 46,
   "metadata": {},
   "outputs": [
    {
     "name": "stdout",
     "output_type": "stream",
     "text": [
      "ddmayank\n"
     ]
    }
   ],
   "source": [
    "matcher.send('ddmayank')"
   ]
  },
  {
   "cell_type": "code",
   "execution_count": 47,
   "metadata": {},
   "outputs": [],
   "source": [
    "matcher.close()"
   ]
  },
  {
   "cell_type": "markdown",
   "metadata": {},
   "source": [
    "Inside a function, the yield statement can also be used as an expression that appears on the right side of an assignment operator as shown above. A function that uses yield in this manner is known as a coroutine, and it executes in response to values being sent to it. Its behavior is also very similar to a generator. Another more illustrative example – "
   ]
  },
  {
   "cell_type": "code",
   "execution_count": 48,
   "metadata": {},
   "outputs": [],
   "source": [
    "def cor(a):\n",
    "\tprint('started: a=',a)\n",
    "\tb = yield a\n",
    "\tprint('received: b =',b)\n",
    "\tc = yield a+b\n",
    "\tprint('received c=',c)\n"
   ]
  },
  {
   "cell_type": "code",
   "execution_count": 49,
   "metadata": {},
   "outputs": [
    {
     "data": {
      "text/plain": [
       "'GEN_CREATED'"
      ]
     },
     "execution_count": 49,
     "metadata": {},
     "output_type": "execute_result"
    }
   ],
   "source": [
    "mycor = cor(14)\n",
    "from inspect import getgeneratorstate\n",
    "getgeneratorstate(mycor)\n"
   ]
  },
  {
   "cell_type": "code",
   "execution_count": 50,
   "metadata": {},
   "outputs": [
    {
     "name": "stdout",
     "output_type": "stream",
     "text": [
      "started: a= 14\n"
     ]
    },
    {
     "data": {
      "text/plain": [
       "14"
      ]
     },
     "execution_count": 50,
     "metadata": {},
     "output_type": "execute_result"
    }
   ],
   "source": [
    "next(mycor)"
   ]
  },
  {
   "cell_type": "code",
   "execution_count": 51,
   "metadata": {},
   "outputs": [
    {
     "data": {
      "text/plain": [
       "'GEN_SUSPENDED'"
      ]
     },
     "execution_count": 51,
     "metadata": {},
     "output_type": "execute_result"
    }
   ],
   "source": [
    "getgeneratorstate(mycor)"
   ]
  },
  {
   "cell_type": "code",
   "execution_count": 52,
   "metadata": {},
   "outputs": [
    {
     "name": "stdout",
     "output_type": "stream",
     "text": [
      "received: b = 545\n"
     ]
    },
    {
     "data": {
      "text/plain": [
       "559"
      ]
     },
     "execution_count": 52,
     "metadata": {},
     "output_type": "execute_result"
    }
   ],
   "source": [
    "mycor.send(545)"
   ]
  },
  {
   "cell_type": "code",
   "execution_count": 53,
   "metadata": {},
   "outputs": [
    {
     "name": "stdout",
     "output_type": "stream",
     "text": [
      "received c= 12\n"
     ]
    },
    {
     "ename": "StopIteration",
     "evalue": "",
     "output_type": "error",
     "traceback": [
      "\u001b[1;31m---------------------------------------------------------------------------\u001b[0m",
      "\u001b[1;31mStopIteration\u001b[0m                             Traceback (most recent call last)",
      "\u001b[1;32m<ipython-input-53-27a9380291b0>\u001b[0m in \u001b[0;36m<module>\u001b[1;34m\u001b[0m\n\u001b[1;32m----> 1\u001b[1;33m \u001b[0mmycor\u001b[0m\u001b[1;33m.\u001b[0m\u001b[0msend\u001b[0m\u001b[1;33m(\u001b[0m\u001b[1;36m12\u001b[0m\u001b[1;33m)\u001b[0m\u001b[1;33m\u001b[0m\u001b[0m\n\u001b[0m",
      "\u001b[1;31mStopIteration\u001b[0m: "
     ]
    }
   ],
   "source": [
    "mycor.send(12)"
   ]
  },
  {
   "cell_type": "code",
   "execution_count": 54,
   "metadata": {},
   "outputs": [
    {
     "data": {
      "text/plain": [
       "'GEN_CLOSED'"
      ]
     },
     "execution_count": 54,
     "metadata": {},
     "output_type": "execute_result"
    }
   ],
   "source": [
    "getgeneratorstate(mycor)"
   ]
  },
  {
   "cell_type": "markdown",
   "metadata": {},
   "source": [
    "t’s crucial to understand that the execution of the coroutine is suspended exactly at the yield keyword.  One more example – "
   ]
  },
  {
   "cell_type": "code",
   "execution_count": 55,
   "metadata": {},
   "outputs": [
    {
     "data": {
      "text/plain": [
       "1.0"
      ]
     },
     "execution_count": 55,
     "metadata": {},
     "output_type": "execute_result"
    }
   ],
   "source": [
    "\n",
    ">>> def averager():\n",
    "\ttotal  = 0.0\n",
    "\tcount = 0\n",
    "\taverage = None\n",
    "\twhile True:\n",
    "\t\tterm = yield average\n",
    "\t\ttotal += term\n",
    "\t\tcount += 1\t\n",
    "\t\taverage = total/count\n",
    "\n",
    "a = averager()\n",
    "next(a)\n",
    "a.send(1)"
   ]
  },
  {
   "cell_type": "code",
   "execution_count": 56,
   "metadata": {},
   "outputs": [
    {
     "data": {
      "text/plain": [
       "1.5"
      ]
     },
     "execution_count": 56,
     "metadata": {},
     "output_type": "execute_result"
    }
   ],
   "source": [
    "a.send(2)"
   ]
  },
  {
   "cell_type": "markdown",
   "metadata": {},
   "source": [
    "#### Closure"
   ]
  },
  {
   "cell_type": "code",
   "execution_count": 57,
   "metadata": {},
   "outputs": [
    {
     "name": "stdout",
     "output_type": "stream",
     "text": [
      "10\n",
      "9\n",
      "8\n",
      "7\n",
      "6\n",
      "5\n",
      "4\n",
      "3\n",
      "2\n",
      "1\n"
     ]
    }
   ],
   "source": [
    "def countdown(n):\n",
    "    def nextf():\n",
    "        nonlocal n\n",
    "        r = n\n",
    "        n -= 1\n",
    "        return r\n",
    "    return nextf\n",
    "a = countdown(10)\n",
    "while True:\n",
    "\tb = a()\n",
    "\tif not b: break\n",
    "\tprint(b)\n"
   ]
  },
  {
   "cell_type": "markdown",
   "metadata": {},
   "source": [
    "In this code, a closure is being used to store the internal counter value `n`. The inner function `nextf()` updates and returns the previous value of this counter variable each time it is called.\n"
   ]
  },
  {
   "cell_type": "markdown",
   "metadata": {},
   "source": [
    "### Decorators"
   ]
  },
  {
   "cell_type": "code",
   "execution_count": 58,
   "metadata": {},
   "outputs": [
    {
     "name": "stdout",
     "output_type": "stream",
     "text": [
      "Hi, mayank :)\n",
      "Hi there raj :)\n"
     ]
    }
   ],
   "source": [
    "def decoratorf(func):\n",
    "    def wrapper(name):\n",
    "        print(\"%s :)\" %(func(name)))\n",
    "    return wrapper    \n",
    "        \n",
    "#printf = decoratorf(printf)\n",
    "\n",
    "@decoratorf\n",
    "def printf(name):\n",
    "    return \"Hi, %s\" %name\n",
    "\n",
    "@decoratorf\n",
    "def printx(name):\n",
    "    return \"Hi there %s\" %name\n",
    "\n",
    "printf('mayank')\n",
    "printx('raj')\n"
   ]
  },
  {
   "cell_type": "code",
   "execution_count": 59,
   "metadata": {},
   "outputs": [
    {
     "name": "stdout",
     "output_type": "stream",
     "text": [
      "Hi!\n"
     ]
    }
   ],
   "source": [
    "def decoratorf(func):\n",
    "    def wrapper():\n",
    "        print(func()+'!')\n",
    "    return wrapper\n",
    "\n",
    "@decoratorf\n",
    "def printf():\n",
    "    return 'Hi'\n",
    "\n",
    "printf()    \n"
   ]
  },
  {
   "cell_type": "code",
   "execution_count": 60,
   "metadata": {},
   "outputs": [
    {
     "name": "stdout",
     "output_type": "stream",
     "text": [
      "running()\n",
      "<function deco.<locals>.inner at 0x037D0C48>\n"
     ]
    }
   ],
   "source": [
    "def deco(func):\n",
    "    def inner():\n",
    "        print('running()')\n",
    "    return inner\n",
    "\n",
    "@deco\n",
    "def target():\n",
    "    print('running target()')\n",
    "    \n",
    "target() # -> running()\n",
    "print(target) #-> <function deco.<locals>.inner at 0x12E34B0>\n"
   ]
  },
  {
   "cell_type": "code",
   "execution_count": 61,
   "metadata": {},
   "outputs": [
    {
     "name": "stdout",
     "output_type": "stream",
     "text": [
      "Testing\n"
     ]
    }
   ],
   "source": [
    "\n",
    ">>> def deco(func):\n",
    "\tprint('Testing')\n",
    "\tdef wrapper(name):\n",
    "\t\tprint(name + '!')\n",
    "\treturn wrapper\n",
    "\n",
    ">>> @deco\n",
    "def printf(name):\n",
    "\treturn name\n"
   ]
  },
  {
   "cell_type": "markdown",
   "metadata": {},
   "source": [
    "Notice how decorator function outputs 'Testing' as soon as a function is decorated with a decorator.\n"
   ]
  },
  {
   "cell_type": "code",
   "execution_count": 62,
   "metadata": {},
   "outputs": [
    {
     "name": "stdout",
     "output_type": "stream",
     "text": [
      "Mayank!\n"
     ]
    }
   ],
   "source": [
    "printf('Mayank')"
   ]
  },
  {
   "cell_type": "code",
   "execution_count": 63,
   "metadata": {},
   "outputs": [
    {
     "name": "stdout",
     "output_type": "stream",
     "text": [
      "running register(<function f1 at 0x037D0C90>)\n",
      "running register(<function f2 at 0x03178078>)\n",
      "running main()\n",
      "registry -> [<function f1 at 0x037D0C90>, <function f2 at 0x03178078>]\n",
      "running f1()\n",
      "running f2()\n",
      "running f3()\n"
     ]
    }
   ],
   "source": [
    "registry = []\n",
    "def register(func):\n",
    "    print('running register(%s)' %func)\n",
    "    registry.append(func)\n",
    "    return func\n",
    "\n",
    "@register\n",
    "def f1():\n",
    "    print('running f1()')\n",
    "\n",
    "\n",
    "@register\n",
    "def f2():\n",
    "    print('running f2()')\n",
    "\n",
    "\n",
    "def f3():\n",
    "    print('running f3()')\n",
    "\n",
    "def main():\n",
    "    print('running main()')\n",
    "    print('registry ->', registry)\n",
    "    f1()\n",
    "    f2()\n",
    "    f3()\n",
    "\n",
    "if __name__ == '__main__':\n",
    "    main()\n",
    "    \n",
    "#also save above code in a file named 'deco.py'"
   ]
  },
  {
   "cell_type": "code",
   "execution_count": 66,
   "metadata": {},
   "outputs": [
    {
     "name": "stdout",
     "output_type": "stream",
     "text": [
      "Writing deco.py\n"
     ]
    }
   ],
   "source": [
    "%%file deco.py\n",
    "\n",
    "registry = []\n",
    "def register(func):\n",
    "    print('running register(%s)' %func)\n",
    "    registry.append(func)\n",
    "    return func\n",
    "\n",
    "@register\n",
    "def f1():\n",
    "    print('running f1()')\n",
    "\n",
    "\n",
    "@register\n",
    "def f2():\n",
    "    print('running f2()')\n",
    "\n",
    "\n",
    "def f3():\n",
    "    print('running f3()')\n",
    "\n",
    "def main():\n",
    "    print('running main()')\n",
    "    print('registry ->', registry)\n",
    "    f1()\n",
    "    f2()\n",
    "    f3()\n",
    "\n",
    "if __name__ == '__main__':\n",
    "    main()\n",
    "    "
   ]
  },
  {
   "cell_type": "code",
   "execution_count": 68,
   "metadata": {},
   "outputs": [
    {
     "name": "stdout",
     "output_type": "stream",
     "text": [
      "running register(<function f1 at 0x031784B0>)\n",
      "running register(<function f2 at 0x037D0CD8>)\n"
     ]
    }
   ],
   "source": [
    "import deco "
   ]
  },
  {
   "cell_type": "markdown",
   "metadata": {},
   "source": [
    "This example shows decorators are run right after the decorated function are defined, that is, at import time (as against to run time).\n",
    "\n",
    "Notice that only function which is explicitly called is `main()` function but it runs only after decorator function which isn't even explicitly called. Also notice that what happens when we import 'decorator33' in interactive shell.\n",
    "\n",
    "The main point of this example is to emphasize that function decorators are executed as soon as the module is imported, but the decorated functions only run when they are explicitly invoked. This highlights the difference between what Pythonistas call import time and run time. Refer Fluent Python Chapter 7.\n",
    "\n",
    "Considering how decorators are commonly employed in real code, Example 7-2 is unusual in two ways: The decorator function is defined in the same module as the decorated functions. A real decorator is usually defined in one module and applied to functions in other modules. The register decorator returns the same function passed as argument. In practice, most decorators define an inner function and return it.\n"
   ]
  },
  {
   "cell_type": "code",
   "execution_count": 69,
   "metadata": {},
   "outputs": [
    {
     "name": "stdout",
     "output_type": "stream",
     "text": [
      "Start\n",
      "test\n",
      "Exit\n"
     ]
    }
   ],
   "source": [
    "\n",
    "def decoratorfactory(a,b):\n",
    "    def decoratorf(func):\n",
    "        def wrapper():\n",
    "            print(a)\n",
    "            print(func())\n",
    "            print(b)\n",
    "        return wrapper\n",
    "    return decoratorf\n",
    "\n",
    "@decoratorfactory('Start','Exit')\n",
    "def test():\n",
    "    return 'test'\n",
    "\n",
    "test()\n"
   ]
  },
  {
   "cell_type": "code",
   "execution_count": 70,
   "metadata": {},
   "outputs": [
    {
     "name": "stdout",
     "output_type": "stream",
     "text": [
      "ready\n"
     ]
    }
   ],
   "source": [
    ">>> def cor(func):\n",
    "        def start():\n",
    "            g = func()\n",
    "            next(g)\n",
    "            return g\n",
    "        return start\n",
    "        \n",
    ">>> @cor\n",
    "def receiver():\n",
    "    print('ready')\n",
    "    while True:\n",
    "        n = (yield)\n",
    "        print('Got %s' %n)\n",
    "\n",
    "        \n",
    ">>> r = receiver()\n"
   ]
  },
  {
   "cell_type": "code",
   "execution_count": 71,
   "metadata": {},
   "outputs": [
    {
     "name": "stdout",
     "output_type": "stream",
     "text": [
      "Got 4\n"
     ]
    }
   ],
   "source": [
    "r.send(4)"
   ]
  },
  {
   "cell_type": "markdown",
   "metadata": {},
   "source": [
    "In below example, see how decorator was used to execute a generator function. By using decorator, we avoided `next(r)` function call. "
   ]
  },
  {
   "cell_type": "code",
   "execution_count": 6,
   "metadata": {},
   "outputs": [
    {
     "name": "stdout",
     "output_type": "stream",
     "text": [
      "# packages in environment at C:\\miniconda3\\envs\\data:\n",
      "#\n",
      "asn1crypto                0.24.0                   py36_0  \n",
      "beakerx                   1.0.0                     <pip>\n",
      "beautifulsoup4            4.6.0            py36h4361f19_1  \n",
      "blas                      1.0                         mkl  \n",
      "bleach                    2.0.0            py36h2453164_0  \n",
      "ca-certificates           2017.08.26           h94faf87_0  \n",
      "certifi                   2017.7.27.1      py36h8287e07_0  \n",
      "cffi                      1.11.5           py36h945400d_0  \n",
      "chardet                   3.0.4            py36hf2a9688_1  \n",
      "click                     6.7              py36hfb6b3c4_0  \n",
      "click-plugins             1.0.3                    py36_0  \n",
      "cligj                     0.4.0                    py36_0  \n",
      "colorama                  0.3.9            py36he9a059a_0  \n",
      "cryptography              2.2.2            py36hfa6e2cd_0  \n",
      "curl                      7.60.0               h7602738_0  \n",
      "cycler                    0.10.0           py36hd299a41_0  \n",
      "cymem                     1.31.2           py36he980bc4_0  \n",
      "cytoolz                   0.9.0.1          py36hfa6e2cd_1  \n",
      "decorator                 4.1.2            py36hac4cfca_0  \n",
      "descartes                 1.1.0                    py36_0  \n",
      "dill                      0.2.8.2                  py36_0  \n",
      "egal                      0.1.4                     <pip>\n",
      "emcee                     2.2.1                     <pip>\n",
      "en-core-web-sm            2.0.0                     <pip>\n",
      "entrypoints               0.2.3            py36hd26a89c_2  \n",
      "expat                     2.2.5                h015c98a_0  \n",
      "fastcache                 1.0.2            py36hfa6e2cd_2  \n",
      "fiona                     1.7.10           py36hc53c0d5_0  \n",
      "freetype                  2.8              vc14hfa46bb4_0  [vc14]\n",
      "freexl                    1.0.5                hfa6e2cd_0  \n",
      "gdal                      2.2.2            py36hac72d7c_1  \n",
      "geopandas                 0.3.0                    py36_0  \n",
      "geos                      3.6.2                hbf958a8_2  \n",
      "graphviz                  2.38.0                        4  \n",
      "h5py                      2.8.0            py36hf7173ca_0  \n",
      "hdf4                      4.2.13               hf3d92eb_2  \n",
      "hdf5                      1.8.18               h80feffb_1  \n",
      "html5lib                  0.999999999      py36h3e19504_0  \n",
      "icc_rt                    2017.0.4             h97af966_0  \n",
      "icu                       58.2             vc14hbe8e9fa_0  [vc14]\n",
      "idna                      2.6              py36h787667b_1  \n",
      "intel-openmp              2018.0.0             hda8db3e_7  \n",
      "ipykernel                 4.6.1            py36h9617649_0  \n",
      "ipython                   6.1.0            py36h25a49e7_1  \n",
      "ipython-sql               0.3.9                     <pip>\n",
      "ipython_genutils          0.2.0            py36h011d6f9_0  \n",
      "ipywidgets                7.0.0            py36he7427df_0  \n",
      "jedi                      0.10.2           py36he9c8e28_0  \n",
      "jinja2                    2.9.6            py36hcda7f41_1  \n",
      "joblib                    0.12.3                   py36_0  \n",
      "jpeg                      9b               vc14h39a59fb_1  [vc14]\n",
      "jsonschema                2.6.0            py36hc586ae5_0  \n",
      "jupyter                   1.0.0            py36h16e480c_2  \n",
      "jupyter_client            5.1.0            py36h1f9acbd_0  \n",
      "jupyter_console           5.2.0            py36hb66b1b8_1  \n",
      "jupyter_core              4.3.0            py36h576004c_0  \n",
      "kealib                    1.4.7                hd46ff84_5  \n",
      "krb5                      1.16                 he625fcf_6  \n",
      "libboost                  1.65.1               he51fdeb_4  \n",
      "libcurl                   7.60.0               hc4dcbb0_0  \n",
      "libgdal                   2.2.2                hcdbaa0b_1  \n",
      "libgpuarray               0.7.6                hfa6e2cd_0  \n",
      "libiconv                  1.15                 hc4a7105_7  \n",
      "libkml                    1.3.0                h22669e0_3  \n",
      "libnetcdf                 4.4.1.1              h9d7eb94_8  \n",
      "libopencv                 3.4.2                h20b85fd_0  \n",
      "libpng                    1.6.34               h79bbb47_0  \n",
      "libpq                     10.3                 hc4dcbb0_0  \n",
      "libpython                 2.1                      py36_0  \n",
      "libspatialindex           1.8.5                h6538335_2  \n",
      "libspatialite             4.3.0a              h41b8f34_18  \n",
      "libssh2                   1.8.0                hd619d38_4  \n",
      "libtiff                   4.0.9                h3f5e089_0  \n",
      "libxml2                   2.9.8                hadb2253_1  \n",
      "libxslt                   1.1.32               hf6f1972_0  \n",
      "lxml                      4.2.1            py36heafd4d3_0  \n",
      "m2w64-binutils            2.25.1                        5  \n",
      "m2w64-bzip2               1.0.6                         6  \n",
      "m2w64-crt-git             5.0.0.4636.2595836               2  \n",
      "m2w64-gcc                 5.3.0                         6  \n",
      "m2w64-gcc-ada             5.3.0                         6  \n",
      "m2w64-gcc-fortran         5.3.0                         6  \n",
      "m2w64-gcc-libgfortran     5.3.0                         6  \n",
      "m2w64-gcc-libs            5.3.0                         7  \n",
      "m2w64-gcc-libs-core       5.3.0                         7  \n",
      "m2w64-gcc-objc            5.3.0                         6  \n",
      "m2w64-gmp                 6.1.0                         2  \n",
      "m2w64-headers-git         5.0.0.4636.c0ad18a               2  \n",
      "m2w64-isl                 0.16.1                        2  \n",
      "m2w64-libiconv            1.14                          6  \n",
      "m2w64-libmangle-git       5.0.0.4509.2e5a9a2               2  \n",
      "m2w64-libwinpthread-git   5.0.0.4634.697f757               2  \n",
      "m2w64-make                4.1.2351.a80a8b8               2  \n",
      "m2w64-mpc                 1.0.3                         3  \n",
      "m2w64-mpfr                3.1.4                         4  \n",
      "m2w64-pkg-config          0.29.1                        2  \n",
      "m2w64-toolchain           5.3.0                         7  \n",
      "m2w64-tools-git           5.0.0.4592.90b8472               2  \n",
      "m2w64-windows-default-manifest 6.4                           3  \n",
      "m2w64-winpthreads-git     5.0.0.4634.697f757               2  \n",
      "m2w64-zlib                1.2.8                        10  \n",
      "mako                      1.0.7                    py36_0  \n",
      "markupsafe                1.0              py36h3b07c4d_1  \n",
      "matplotlib                2.1.0            py36he33e573_0  \n",
      "memory-profiler           0.52.0                    <pip>\n",
      "mistune                   0.7.4            py36hd7f275d_0  \n",
      "mkl                       2018.0.3                      1  \n",
      "mkl-service               1.1.2            py36hb217b18_4  \n",
      "mkl_fft                   1.0.4            py36h1e22a9b_1  \n",
      "mkl_random                1.0.1            py36h77b88f5_1  \n",
      "mpmath                    1.0.0                    py36_2  \n",
      "msgpack-numpy             0.4.3.1                  py36_0  \n",
      "msgpack-python            0.5.6            py36he980bc4_1  \n",
      "msys2-conda-epoch         20160418                      1  \n",
      "munch                     2.3.2                    py36_0  \n",
      "murmurhash                0.28.0           py36he025d50_0  \n",
      "nbconvert                 5.3.1            py36h5066f46_0  \n",
      "nbformat                  4.4.0            py36hfe36a2e_0  \n",
      "nltk                      3.2.5            py36h085eb64_0  \n",
      "notebook                  5.0.0            py36h95a442a_2  \n",
      "numpy                     1.15.0           py36h9fa60d3_0  \n",
      "numpy-base                1.15.0           py36h4a99626_0  \n",
      "olefile                   0.45.1                   py36_0  \n",
      "opencv                    3.4.2            py36h40b0b35_0  \n",
      "openjpeg                  2.2.0                h39617f5_2  \n",
      "openssl                   1.0.2o               h8ea7d77_0  \n",
      "pandas                    0.23.3           py36h830ac7b_0  \n",
      "pandoc                    1.19.2.1             hb2460c7_1  \n",
      "pandocfilters             1.4.2            py36hbaae778_1  \n",
      "patsy                     0.4.1            py36h8a8f1ce_0  \n",
      "pgspecial                 1.11.2                    <pip>\n",
      "pickleshare               0.7.4            py36he181f7f_0  \n",
      "pillow                    5.0.0            py36h0738816_0  \n",
      "pip                       9.0.1            py36had87c14_4  \n",
      "pip                       18.0                      <pip>\n",
      "plac                      0.9.6                    py36_0  \n",
      "preshed                   1.0.1            py36he025d50_0  \n",
      "prettytable               0.7.2                     <pip>\n",
      "proj4                     4.9.3                hbc818fe_7  \n",
      "prompt_toolkit            1.0.15           py36ha226939_0  \n",
      "psutil                    5.4.6                     <pip>\n",
      "psycopg2                  2.7.4            py36h74b6da3_0  \n",
      "py-opencv                 3.4.2            py36hc319ecb_0  \n",
      "py4j                      0.10.6                   py36_0  \n",
      "pycparser                 2.18             py36h315bf61_1  \n",
      "pygments                  2.2.0            py36h1a04f08_0  \n",
      "pygpu                     0.7.6            py36h452e1ab_0  \n",
      "pymc3                     3.5                      py36_0  \n",
      "pyopenssl                 18.0.0                   py36_0  \n",
      "pyparsing                 2.2.0            py36h9ef7486_1  \n",
      "pyproj                    1.9.5.1                  py36_0  \n",
      "pyqt                      5.6.0            py36h13ac1a8_5  \n",
      "pyreadline                2.1                      py36_1  \n",
      "pysal                     1.14.3                   py36_0  \n",
      "pysocks                   1.6.8                    py36_0  \n",
      "pyspark                   2.3.0                    py36_0  \n",
      "python                    3.6.3                hcc9b0b4_2  \n",
      "python-dateutil           2.6.1            py36h507c767_1  \n",
      "python-graphviz           0.8.3                    py36_0  \n",
      "pytz                      2017.2           py36h6ca8096_1  \n",
      "pyzmq                     16.0.2           py36h450087d_2  \n",
      "qt                        5.6.2           vc14h6f76a7e_12  [vc14]\n",
      "qtconsole                 4.3.1            py36h86495bc_0  \n",
      "regex                     2017.04.05                <pip>\n",
      "regex                     2018.07.11       py36hfa6e2cd_0  \n",
      "requests                  2.18.4           py36h964142b_1  \n",
      "rtree                     0.8.3                    py36_0  \n",
      "scikit-learn              0.19.1           py36hb0057d7_0  \n",
      "scipy                     0.19.1           py36hfc7e94f_3  \n",
      "seaborn                   0.9.0                    py36_0  \n",
      "setuptools                36.5.0           py36h7f22f53_0  \n",
      "shapely                   1.6.2            py36h6c0856d_0  \n",
      "simplegeneric             0.8.1            py36h295c9ac_0  \n",
      "sip                       4.18.1           py36h0e39f04_2  \n",
      "six                       1.11.0           py36h7f2c006_1  \n",
      "spacy                     2.0.12           py36h8300f20_0  \n",
      "sqlalchemy                1.2.7            py36ha85dd04_0  \n",
      "sqlite                    3.20.1           vc14hf772eac_1  [vc14]\n",
      "sqlparse                  0.2.4                     <pip>\n",
      "statsmodels               0.8.0            py36h2172a75_0  \n",
      "sympy                     1.2                      py36_0  \n",
      "termcolor                 1.1.0                    py36_1  \n",
      "testpath                  0.3.1            py36ha9283f1_0  \n",
      "theano                    1.0.2                    py36_0  \n",
      "thinc                     6.10.3           py36h8300f20_0  \n",
      "tk                        8.6.7                ha9f76c9_3  \n",
      "toolz                     0.9.0                    py36_0  \n",
      "tornado                   4.5.2            py36hfd51417_0  \n",
      "tqdm                      4.25.0           py36h28b3542_0  \n",
      "traitlets                 4.3.2            py36h0dbcc04_0  \n",
      "ujson                     1.35             py36hfa6e2cd_0  \n",
      "urllib3                   1.22             py36hf0c4117_0  \n",
      "vc                        14.1                 h21ff451_3  \n",
      "vs2015_runtime            15.5.2                        3  \n",
      "wcwidth                   0.1.7            py36hc8ec93f_0  \n",
      "webencodings              0.5.1            py36hf0a7dc3_1  \n",
      "wheel                     0.29.0           py36h442dda1_1  \n",
      "widgetsnbextension        3.0.2            py36h98546b4_1  \n",
      "win_inet_pton             1.0.1            py36h6b5aef5_1  \n",
      "wincertstore              0.2              py36hcdd9a18_0  \n",
      "wordcloud                 1.5.0                     <pip>\n",
      "wrapt                     1.10.11          py36hfa6e2cd_2  \n",
      "xerces-c                  3.2.1                h27bfe9a_0  \n",
      "xz                        5.2.4                h2fa13f4_4  \n",
      "yellowbrick               0.7                      py36_1    districtdatalabs\n",
      "zlib                      1.2.11           vc14h902601c_1  [vc14]\n"
     ]
    }
   ],
   "source": [
    "!conda list\n"
   ]
  },
  {
   "cell_type": "code",
   "execution_count": null,
   "metadata": {
    "collapsed": true
   },
   "outputs": [],
   "source": []
  },
  {
   "cell_type": "code",
   "execution_count": null,
   "metadata": {
    "collapsed": true
   },
   "outputs": [],
   "source": []
  },
  {
   "cell_type": "code",
   "execution_count": null,
   "metadata": {
    "collapsed": true
   },
   "outputs": [],
   "source": []
  }
 ],
 "metadata": {
  "kernelspec": {
   "display_name": "Python 3",
   "language": "python",
   "name": "python3"
  },
  "language_info": {
   "codemirror_mode": {
    "name": "ipython",
    "version": 3
   },
   "file_extension": ".py",
   "mimetype": "text/x-python",
   "name": "python",
   "nbconvert_exporter": "python",
   "pygments_lexer": "ipython3",
   "version": "3.7.0"
  }
 },
 "nbformat": 4,
 "nbformat_minor": 2
}
