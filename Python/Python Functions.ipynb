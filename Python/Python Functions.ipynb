{
 "cells": [
  {
   "cell_type": "markdown",
   "metadata": {},
   "source": [
    "## Functions"
   ]
  },
  {
   "cell_type": "code",
   "execution_count": 1,
   "metadata": {},
   "outputs": [
    {
     "data": {
      "text/plain": [
       "True"
      ]
     },
     "execution_count": 1,
     "metadata": {},
     "output_type": "execute_result"
    }
   ],
   "source": [
    "def func1(x,y):\n",
    "    return x if x < y else y\n",
    "\n",
    "func2 = lambda x,y: x if x < y else y\n",
    "\n",
    "class Func3:\n",
    "    def __call__(self, x, y):\n",
    "        return x if x < y else y\n",
    "    \n",
    "func3 = Func3()\n",
    "\n",
    "func1(3,4) == func2(3,4) == func3(3,4)"
   ]
  },
  {
   "cell_type": "code",
   "execution_count": 2,
   "metadata": {
    "collapsed": true
   },
   "outputs": [],
   "source": [
    "i = 5\n",
    "def f(arg = i):\n",
    "    print(arg)"
   ]
  },
  {
   "cell_type": "code",
   "execution_count": 3,
   "metadata": {},
   "outputs": [
    {
     "name": "stdout",
     "output_type": "stream",
     "text": [
      "5\n"
     ]
    }
   ],
   "source": [
    "f()"
   ]
  },
  {
   "cell_type": "code",
   "execution_count": 4,
   "metadata": {},
   "outputs": [
    {
     "name": "stdout",
     "output_type": "stream",
     "text": [
      "4\n"
     ]
    }
   ],
   "source": [
    "f(4)"
   ]
  },
  {
   "cell_type": "markdown",
   "metadata": {},
   "source": [
    "`def` statement is executable and defaults are evaluated once only when `def` is executed. This means that the expression (`def` statement) is evaluated once, when the function is defined, and that the same 'pre computed' value is used for each call.  \n",
    "\n",
    "Below, each subsequent call to function keeps using the same list (as indicated by `id` function)"
   ]
  },
  {
   "cell_type": "code",
   "execution_count": 5,
   "metadata": {
    "collapsed": true
   },
   "outputs": [],
   "source": [
    "def f(l = []):\n",
    "    print(id(l))\n",
    "    l.append(2)\n",
    "    print(l)\n"
   ]
  },
  {
   "cell_type": "code",
   "execution_count": 6,
   "metadata": {},
   "outputs": [
    {
     "name": "stdout",
     "output_type": "stream",
     "text": [
      "51021944\n",
      "[2]\n"
     ]
    }
   ],
   "source": [
    "f()"
   ]
  },
  {
   "cell_type": "code",
   "execution_count": 7,
   "metadata": {},
   "outputs": [
    {
     "name": "stdout",
     "output_type": "stream",
     "text": [
      "51021944\n",
      "[2, 2]\n"
     ]
    }
   ],
   "source": [
    "f()"
   ]
  },
  {
   "cell_type": "markdown",
   "metadata": {},
   "source": [
    "Since default value is evaluated only once. This makes a difference when the default is a mutable object such as a list, dictionary, or instances of most classes. For example, the following function accumulates the arguments passed to it on subsequent calls:"
   ]
  },
  {
   "cell_type": "code",
   "execution_count": 8,
   "metadata": {},
   "outputs": [
    {
     "name": "stdout",
     "output_type": "stream",
     "text": [
      "[1]\n",
      "[1, 2]\n"
     ]
    }
   ],
   "source": [
    ">>> def f(a, l = []):\n",
    "\tl.append(a)\n",
    "\treturn l\n",
    "print(f(1))\n",
    "print(f(2))"
   ]
  },
  {
   "cell_type": "markdown",
   "metadata": {},
   "source": [
    "\n",
    "If you don't want that, write function like below - "
   ]
  },
  {
   "cell_type": "code",
   "execution_count": 9,
   "metadata": {},
   "outputs": [
    {
     "name": "stdout",
     "output_type": "stream",
     "text": [
      "[1]\n",
      "[2]\n"
     ]
    }
   ],
   "source": [
    ">>> def f(a, l = None):\n",
    "\tif l is None:\n",
    "\t\tl = []\n",
    "\tl.append(a)\n",
    "\treturn l\n",
    "print(f(1))\n",
    "print(f(2))"
   ]
  },
  {
   "cell_type": "markdown",
   "metadata": {},
   "source": [
    "#### Mutable/Immutable argument to functions"
   ]
  },
  {
   "cell_type": "code",
   "execution_count": 10,
   "metadata": {},
   "outputs": [
    {
     "name": "stdout",
     "output_type": "stream",
     "text": [
      "77 [99, 42]\n"
     ]
    }
   ],
   "source": [
    "def f(x,y):\n",
    "    x = 23\n",
    "    y.append(42)\n",
    "    \n",
    "\n",
    "a = 77\n",
    "b = [99]\n",
    "f(a,b)\n",
    "print(a,b)\n"
   ]
  },
  {
   "cell_type": "markdown",
   "metadata": {},
   "source": [
    "Notice that x is still set to 77 while list has changed. It happened because ‘a’ is immutable while lists are mutable. "
   ]
  },
  {
   "cell_type": "markdown",
   "metadata": {},
   "source": [
    "### Variable Scope in Function"
   ]
  },
  {
   "cell_type": "code",
   "execution_count": 11,
   "metadata": {},
   "outputs": [
    {
     "name": "stdout",
     "output_type": "stream",
     "text": [
      "7\n"
     ]
    }
   ],
   "source": [
    "def f1(a):\n",
    "    def f2(b):\n",
    "        b =  a+b\n",
    "        return b\n",
    "    return f2    \n",
    "\n",
    "x = f1(3)\n",
    "print(x(4)) \n",
    "\n",
    "#here function f2 has access to 'a' from function f1.\\"
   ]
  },
  {
   "cell_type": "code",
   "execution_count": 12,
   "metadata": {},
   "outputs": [
    {
     "name": "stdout",
     "output_type": "stream",
     "text": [
      "9\n"
     ]
    }
   ],
   "source": [
    "def f1(a):\n",
    "    def f2(b):\n",
    "        nonlocal a\n",
    "        a = a + b\n",
    "        return a\n",
    "    return f2\n",
    "x = f1(5)\n",
    "print(x(4)) \n"
   ]
  },
  {
   "cell_type": "markdown",
   "metadata": {},
   "source": [
    "Notice the use of `nonlocal`. Due to this, function `f2` has access to `a` in function `f1`"
   ]
  },
  {
   "cell_type": "markdown",
   "metadata": {},
   "source": [
    "### `locals` and `globals`"
   ]
  },
  {
   "cell_type": "code",
   "execution_count": 13,
   "metadata": {},
   "outputs": [
    {
     "name": "stdout",
     "output_type": "stream",
     "text": [
      "mac\n",
      "{'string1': 'mac'}\n"
     ]
    },
    {
     "data": {
      "text/plain": [
       "{'__name__': '__main__',\n",
       " '__doc__': 'Automatically created module for IPython interactive environment',\n",
       " '__package__': None,\n",
       " '__loader__': None,\n",
       " '__spec__': None,\n",
       " '__builtin__': <module 'builtins' (built-in)>,\n",
       " '__builtins__': <module 'builtins' (built-in)>,\n",
       " '_ih': ['',\n",
       "  'def func1(x,y):\\n    return x if x < y else y\\n\\nfunc2 = lambda x,y: x if x < y else y\\n\\nclass Func3:\\n    def __call__(self, x, y):\\n        return x if x < y else y\\n    \\nfunc3 = Func3()\\n\\nfunc1(3,4) == func2(3,4) == func3(3,4)',\n",
       "  'i = 5\\ndef f(arg = i):\\n    print(arg)',\n",
       "  'f()',\n",
       "  'f(4)',\n",
       "  'def f(l = []):\\n    print(id(l))\\n    l.append(2)\\n    print(l)',\n",
       "  'f()',\n",
       "  'f()',\n",
       "  'def f(a, l = []):\\n\\tl.append(a)\\n\\treturn l\\nprint(f(1))\\nprint(f(2))',\n",
       "  'def f(a, l = None):\\n\\tif l is None:\\n\\t\\tl = []\\n\\tl.append(a)\\n\\treturn l\\nprint(f(1))\\nprint(f(2))',\n",
       "  'def f(x,y):\\n    x = 23\\n    y.append(42)\\n    \\n\\na = 77\\nb = [99]\\nf(a,b)\\nprint(a,b)',\n",
       "  \"def f1(a):\\n    def f2(b):\\n        b =  a+b\\n        return b\\n    return f2    \\n\\nx = f1(3)\\nprint(x(4)) \\n\\n#here function f2 has access to 'a' from function f1.\\\\\",\n",
       "  'def f1(a):\\n    def f2(b):\\n        nonlocal a\\n        a = a + b\\n        return a\\n    return f2\\nx = f1(5)\\nprint(x(4)) ',\n",
       "  \"string1 = 'mayank'\\ndef foo():\\n    string1 = 'mac'\\n    print(string1)\\n    print(locals())\\n\\nfoo()\\nglobals()\"],\n",
       " '_oh': {1: True},\n",
       " '_dh': ['c:\\\\Users\\\\mcc\\\\Miniconda3\\\\notebooks\\\\My Notebooks\\\\Python'],\n",
       " 'In': ['',\n",
       "  'def func1(x,y):\\n    return x if x < y else y\\n\\nfunc2 = lambda x,y: x if x < y else y\\n\\nclass Func3:\\n    def __call__(self, x, y):\\n        return x if x < y else y\\n    \\nfunc3 = Func3()\\n\\nfunc1(3,4) == func2(3,4) == func3(3,4)',\n",
       "  'i = 5\\ndef f(arg = i):\\n    print(arg)',\n",
       "  'f()',\n",
       "  'f(4)',\n",
       "  'def f(l = []):\\n    print(id(l))\\n    l.append(2)\\n    print(l)',\n",
       "  'f()',\n",
       "  'f()',\n",
       "  'def f(a, l = []):\\n\\tl.append(a)\\n\\treturn l\\nprint(f(1))\\nprint(f(2))',\n",
       "  'def f(a, l = None):\\n\\tif l is None:\\n\\t\\tl = []\\n\\tl.append(a)\\n\\treturn l\\nprint(f(1))\\nprint(f(2))',\n",
       "  'def f(x,y):\\n    x = 23\\n    y.append(42)\\n    \\n\\na = 77\\nb = [99]\\nf(a,b)\\nprint(a,b)',\n",
       "  \"def f1(a):\\n    def f2(b):\\n        b =  a+b\\n        return b\\n    return f2    \\n\\nx = f1(3)\\nprint(x(4)) \\n\\n#here function f2 has access to 'a' from function f1.\\\\\",\n",
       "  'def f1(a):\\n    def f2(b):\\n        nonlocal a\\n        a = a + b\\n        return a\\n    return f2\\nx = f1(5)\\nprint(x(4)) ',\n",
       "  \"string1 = 'mayank'\\ndef foo():\\n    string1 = 'mac'\\n    print(string1)\\n    print(locals())\\n\\nfoo()\\nglobals()\"],\n",
       " 'Out': {1: True},\n",
       " 'get_ipython': <bound method InteractiveShell.get_ipython of <ipykernel.zmqshell.ZMQInteractiveShell object at 0x0234EA70>>,\n",
       " 'exit': <IPython.core.autocall.ZMQExitAutocall at 0x3057670>,\n",
       " 'quit': <IPython.core.autocall.ZMQExitAutocall at 0x3057670>,\n",
       " '_': True,\n",
       " '__': '',\n",
       " '___': '',\n",
       " '_i': 'def f1(a):\\n    def f2(b):\\n        nonlocal a\\n        a = a + b\\n        return a\\n    return f2\\nx = f1(5)\\nprint(x(4)) ',\n",
       " '_ii': \"def f1(a):\\n    def f2(b):\\n        b =  a+b\\n        return b\\n    return f2    \\n\\nx = f1(3)\\nprint(x(4)) \\n\\n#here function f2 has access to 'a' from function f1.\\\\\",\n",
       " '_iii': 'def f(x,y):\\n    x = 23\\n    y.append(42)\\n    \\n\\na = 77\\nb = [99]\\nf(a,b)\\nprint(a,b)',\n",
       " '_i1': 'def func1(x,y):\\n    return x if x < y else y\\n\\nfunc2 = lambda x,y: x if x < y else y\\n\\nclass Func3:\\n    def __call__(self, x, y):\\n        return x if x < y else y\\n    \\nfunc3 = Func3()\\n\\nfunc1(3,4) == func2(3,4) == func3(3,4)',\n",
       " 'func1': <function __main__.func1(x, y)>,\n",
       " 'func2': <function __main__.<lambda>(x, y)>,\n",
       " 'Func3': __main__.Func3,\n",
       " 'func3': <__main__.Func3 at 0x3176bf0>,\n",
       " '_1': True,\n",
       " '_i2': 'i = 5\\ndef f(arg = i):\\n    print(arg)',\n",
       " 'i': 5,\n",
       " 'f': <function __main__.f(x, y)>,\n",
       " '_i3': 'f()',\n",
       " '_i4': 'f(4)',\n",
       " '_i5': 'def f(l = []):\\n    print(id(l))\\n    l.append(2)\\n    print(l)',\n",
       " '_i6': 'f()',\n",
       " '_i7': 'f()',\n",
       " '_i8': '>>> def f(a, l = []):\\n\\tl.append(a)\\n\\treturn l\\nprint(f(1))\\nprint(f(2))',\n",
       " '_i9': '>>> def f(a, l = None):\\n\\tif l is None:\\n\\t\\tl = []\\n\\tl.append(a)\\n\\treturn l\\nprint(f(1))\\nprint(f(2))',\n",
       " '_i10': 'def f(x,y):\\n    x = 23\\n    y.append(42)\\n    \\n\\na = 77\\nb = [99]\\nf(a,b)\\nprint(a,b)',\n",
       " 'a': 77,\n",
       " 'b': [99, 42],\n",
       " '_i11': \"def f1(a):\\n    def f2(b):\\n        b =  a+b\\n        return b\\n    return f2    \\n\\nx = f1(3)\\nprint(x(4)) \\n\\n#here function f2 has access to 'a' from function f1.\\\\\",\n",
       " 'f1': <function __main__.f1(a)>,\n",
       " 'x': <function __main__.f1.<locals>.f2(b)>,\n",
       " '_i12': 'def f1(a):\\n    def f2(b):\\n        nonlocal a\\n        a = a + b\\n        return a\\n    return f2\\nx = f1(5)\\nprint(x(4)) ',\n",
       " '_i13': \"string1 = 'mayank'\\ndef foo():\\n    string1 = 'mac'\\n    print(string1)\\n    print(locals())\\n\\nfoo()\\nglobals()\",\n",
       " 'string1': 'mayank',\n",
       " 'foo': <function __main__.foo()>}"
      ]
     },
     "execution_count": 13,
     "metadata": {},
     "output_type": "execute_result"
    }
   ],
   "source": [
    "string1 = 'mayank'\n",
    "def foo():\n",
    "    string1 = 'mac'\n",
    "    print(string1)\n",
    "    print(locals())\n",
    "\n",
    "foo()\n",
    "globals()"
   ]
  },
  {
   "cell_type": "markdown",
   "metadata": {},
   "source": [
    "### Examples of variable scoping"
   ]
  },
  {
   "cell_type": "markdown",
   "metadata": {},
   "source": [
    "Now look at following different functions - "
   ]
  },
  {
   "cell_type": "code",
   "execution_count": 14,
   "metadata": {},
   "outputs": [
    {
     "name": "stdout",
     "output_type": "stream",
     "text": [
      "3\n",
      "[99, 42]\n"
     ]
    }
   ],
   "source": [
    "def f1(a):\n",
    "    print(a)\n",
    "    print(b)\n",
    "\n",
    "f1(3)    #notice the output"
   ]
  },
  {
   "cell_type": "code",
   "execution_count": 15,
   "metadata": {},
   "outputs": [
    {
     "name": "stdout",
     "output_type": "stream",
     "text": [
      "3\n",
      "6\n"
     ]
    }
   ],
   "source": [
    "b = 6\n",
    "def f2(a):\n",
    "    print(a)\n",
    "    print(b)\n",
    "f2(3)\n"
   ]
  },
  {
   "cell_type": "code",
   "execution_count": 16,
   "metadata": {},
   "outputs": [
    {
     "name": "stdout",
     "output_type": "stream",
     "text": [
      "3\n"
     ]
    },
    {
     "ename": "UnboundLocalError",
     "evalue": "local variable 'b' referenced before assignment",
     "output_type": "error",
     "traceback": [
      "\u001b[1;31m---------------------------------------------------------------------------\u001b[0m",
      "\u001b[1;31mUnboundLocalError\u001b[0m                         Traceback (most recent call last)",
      "\u001b[1;32m<ipython-input-16-27467ce96106>\u001b[0m in \u001b[0;36m<module>\u001b[1;34m\u001b[0m\n\u001b[0;32m      4\u001b[0m     \u001b[0mprint\u001b[0m\u001b[1;33m(\u001b[0m\u001b[0mb\u001b[0m\u001b[1;33m)\u001b[0m\u001b[1;33m\u001b[0m\u001b[0m\n\u001b[0;32m      5\u001b[0m     \u001b[0mb\u001b[0m \u001b[1;33m=\u001b[0m \u001b[1;36m6\u001b[0m\u001b[1;33m\u001b[0m\u001b[0m\n\u001b[1;32m----> 6\u001b[1;33m \u001b[0mf3\u001b[0m\u001b[1;33m(\u001b[0m\u001b[1;36m3\u001b[0m\u001b[1;33m)\u001b[0m\u001b[1;33m\u001b[0m\u001b[0m\n\u001b[0m",
      "\u001b[1;32m<ipython-input-16-27467ce96106>\u001b[0m in \u001b[0;36mf3\u001b[1;34m(a)\u001b[0m\n\u001b[0;32m      2\u001b[0m \u001b[1;32mdef\u001b[0m \u001b[0mf3\u001b[0m\u001b[1;33m(\u001b[0m\u001b[0ma\u001b[0m\u001b[1;33m)\u001b[0m\u001b[1;33m:\u001b[0m\u001b[1;33m\u001b[0m\u001b[0m\n\u001b[0;32m      3\u001b[0m     \u001b[0mprint\u001b[0m\u001b[1;33m(\u001b[0m\u001b[0ma\u001b[0m\u001b[1;33m)\u001b[0m\u001b[1;33m\u001b[0m\u001b[0m\n\u001b[1;32m----> 4\u001b[1;33m     \u001b[0mprint\u001b[0m\u001b[1;33m(\u001b[0m\u001b[0mb\u001b[0m\u001b[1;33m)\u001b[0m\u001b[1;33m\u001b[0m\u001b[0m\n\u001b[0m\u001b[0;32m      5\u001b[0m     \u001b[0mb\u001b[0m \u001b[1;33m=\u001b[0m \u001b[1;36m6\u001b[0m\u001b[1;33m\u001b[0m\u001b[0m\n\u001b[0;32m      6\u001b[0m \u001b[0mf3\u001b[0m\u001b[1;33m(\u001b[0m\u001b[1;36m3\u001b[0m\u001b[1;33m)\u001b[0m\u001b[1;33m\u001b[0m\u001b[0m\n",
      "\u001b[1;31mUnboundLocalError\u001b[0m: local variable 'b' referenced before assignment"
     ]
    }
   ],
   "source": [
    "b = 9\n",
    "def f3(a):\n",
    "    print(a)\n",
    "    print(b)\n",
    "    b = 6\n",
    "f3(3)"
   ]
  },
  {
   "cell_type": "markdown",
   "metadata": {},
   "source": [
    "Compare last 2 examples.  "
   ]
  },
  {
   "cell_type": "code",
   "execution_count": 17,
   "metadata": {},
   "outputs": [
    {
     "name": "stdout",
     "output_type": "stream",
     "text": [
      "3\n",
      "4\n"
     ]
    }
   ],
   "source": [
    "b =  4\n",
    "def f4(a):\n",
    "    global b\n",
    "    print(a)\n",
    "    print(b)\n",
    "    b = 6\n",
    "\n",
    "f4(3)    \n"
   ]
  },
  {
   "cell_type": "markdown",
   "metadata": {},
   "source": [
    "### Function returning `None`: Be careful\n"
   ]
  },
  {
   "cell_type": "code",
   "execution_count": 18,
   "metadata": {},
   "outputs": [
    {
     "name": "stdout",
     "output_type": "stream",
     "text": [
      "invalid inputs\n"
     ]
    }
   ],
   "source": [
    ">>> def divide(a,b):\n",
    "\ttry:\n",
    "\t\treturn a/b\n",
    "\texcept ZeroDivisionError:\n",
    "\t\treturn None\n",
    "\t\n",
    ">>> x, y = 0, 5\n",
    ">>> result = divide(x,y)     #result is 0\n",
    ">>> if not result:           # 0 evaluates to False  \n",
    "\tprint('invalid inputs')\n"
   ]
  },
  {
   "cell_type": "markdown",
   "metadata": {},
   "source": [
    "In conditional blocks, both `None` and `0` evaluates to `False`, so be careful here. In above example, `None` and 0 mean different things. "
   ]
  },
  {
   "cell_type": "markdown",
   "metadata": {},
   "source": [
    "#### Using Strings to Call Functions/Methods"
   ]
  },
  {
   "cell_type": "code",
   "execution_count": 19,
   "metadata": {},
   "outputs": [
    {
     "name": "stdout",
     "output_type": "stream",
     "text": [
      "a\n",
      "b\n"
     ]
    }
   ],
   "source": [
    ">>> def a():\n",
    "\tprint('a')\n",
    "\n",
    "\t\n",
    ">>> def b():\n",
    "\tprint('b')\n",
    "\n",
    "\t\n",
    ">>> dispatch = {'go': a, 'stop':b}\n",
    ">>> dispatch['go']()\n",
    ">>> dispatch['stop']()"
   ]
  },
  {
   "cell_type": "code",
   "execution_count": null,
   "metadata": {
    "collapsed": true
   },
   "outputs": [],
   "source": []
  },
  {
   "cell_type": "markdown",
   "metadata": {},
   "source": [
    "#### Using `locals()` or `eval()`"
   ]
  },
  {
   "cell_type": "code",
   "execution_count": 20,
   "metadata": {},
   "outputs": [
    {
     "name": "stdout",
     "output_type": "stream",
     "text": [
      "Hello\n"
     ]
    }
   ],
   "source": [
    ">>> def a():\n",
    "\tprint('Hello')\n",
    "\n",
    "\t\n",
    ">>> b =  'a'\n",
    ">>> f = locals()[b]\n",
    ">>> f()"
   ]
  },
  {
   "cell_type": "code",
   "execution_count": 21,
   "metadata": {},
   "outputs": [
    {
     "name": "stdout",
     "output_type": "stream",
     "text": [
      "Hello\n"
     ]
    }
   ],
   "source": [
    ">>> f = eval(b)\n",
    ">>> f()\n"
   ]
  },
  {
   "cell_type": "markdown",
   "metadata": {},
   "source": [
    "Create a script foo.py with following code - \n",
    "```Python\n",
    "a = 47\n",
    "def callfunc(func):\n",
    "    return func\n",
    "```\n",
    "Now do this:"
   ]
  },
  {
   "cell_type": "code",
   "execution_count": 23,
   "metadata": {},
   "outputs": [
    {
     "name": "stdout",
     "output_type": "stream",
     "text": [
      "Writing foo.py\n"
     ]
    }
   ],
   "source": [
    "%%file foo.py\n",
    "\n",
    "a = 47\n",
    "def callfunc(func):\n",
    "    return func\n",
    "\n",
    "\n"
   ]
  },
  {
   "cell_type": "code",
   "execution_count": 24,
   "metadata": {},
   "outputs": [
    {
     "data": {
      "text/plain": [
       "37"
      ]
     },
     "execution_count": 24,
     "metadata": {},
     "output_type": "execute_result"
    }
   ],
   "source": [
    ">>> from foo import callfunc\n",
    ">>> a = 37\n",
    ">>> def printf():\n",
    "\treturn a\n",
    ">>> callfunc(printf()) "
   ]
  },
  {
   "cell_type": "markdown",
   "metadata": {},
   "source": [
    "Notice the value of `a` returned. \n",
    "\n",
    "Note -  In the book ‘Python Essential Reference’(page 98), there were no parentheses after `printf` while calling `callfunc` function."
   ]
  },
  {
   "cell_type": "markdown",
   "metadata": {},
   "source": [
    "### Recursion"
   ]
  },
  {
   "cell_type": "code",
   "execution_count": 25,
   "metadata": {},
   "outputs": [
    {
     "name": "stdout",
     "output_type": "stream",
     "text": [
      "24\n",
      "1\n",
      "2\n",
      "3\n",
      "4\n",
      "5\n",
      "6\n",
      "None\n"
     ]
    }
   ],
   "source": [
    "#example 1\n",
    "def factorial(n):\n",
    "    if n <= 1: return 1\n",
    "    else: return n* factorial(n-1)\n",
    "\n",
    "    \n",
    "#example 2    \n",
    "def flatten(lists):\n",
    "    for s in lists:\n",
    "        if isinstance(s,list):\n",
    "            flatten(s)\n",
    "        else:\n",
    "            print(s)\n",
    "\n",
    "print(factorial(4))\n",
    "l = [1,2,[3,4,[5,6]]]\n",
    "print(flatten(l));"
   ]
  },
  {
   "cell_type": "markdown",
   "metadata": {},
   "source": [
    "However, be aware that there is a limit on the depth of recursive function calls. The function `sys.getrecursionlimit()` returns the current maximum recursion depth, and the function `sys.setrecursionlimit()` can be used to change the value.The default value is 1000. Although it is possible to increase the value, programs are still limited by the stack size limits enforced by the host operating system.When the recursion depth is exceeded, a `RuntimeError exception` is raised."
   ]
  },
  {
   "cell_type": "markdown",
   "metadata": {},
   "source": [
    "### Lambda Function"
   ]
  },
  {
   "cell_type": "code",
   "execution_count": 26,
   "metadata": {},
   "outputs": [
    {
     "data": {
      "text/plain": [
       "<function __main__.test.<locals>.<lambda>(x)>"
      ]
     },
     "execution_count": 26,
     "metadata": {},
     "output_type": "execute_result"
    }
   ],
   "source": [
    ">>> def test(n):\n",
    "\treturn lambda x: x+n\n",
    "\n",
    ">>> a = test(4)\n",
    ">>> a\n"
   ]
  },
  {
   "cell_type": "code",
   "execution_count": 27,
   "metadata": {},
   "outputs": [
    {
     "name": "stdout",
     "output_type": "stream",
     "text": [
      "6\n",
      "7\n"
     ]
    }
   ],
   "source": [
    "print(a(2))\n",
    "print(a(3))"
   ]
  },
  {
   "cell_type": "markdown",
   "metadata": {},
   "source": [
    "### `map` and `filter`"
   ]
  },
  {
   "cell_type": "code",
   "execution_count": 28,
   "metadata": {},
   "outputs": [
    {
     "data": {
      "text/plain": [
       "<map at 0x31bee90>"
      ]
     },
     "execution_count": 28,
     "metadata": {},
     "output_type": "execute_result"
    }
   ],
   "source": [
    ">>> list1 = [2,4,5]\n",
    ">>> list2 = [3,6,7]\n",
    ">>> map(lambda x,y: x+y, list1, list2)\n"
   ]
  },
  {
   "cell_type": "code",
   "execution_count": 29,
   "metadata": {},
   "outputs": [
    {
     "data": {
      "text/plain": [
       "[5, 10, 12]"
      ]
     },
     "execution_count": 29,
     "metadata": {},
     "output_type": "execute_result"
    }
   ],
   "source": [
    ">>> l = map(lambda x,y: x+y, list1, list2)\n",
    ">>> list(l)"
   ]
  },
  {
   "cell_type": "code",
   "execution_count": 30,
   "metadata": {},
   "outputs": [
    {
     "data": {
      "text/plain": [
       "[2, 4]"
      ]
     },
     "execution_count": 30,
     "metadata": {},
     "output_type": "execute_result"
    }
   ],
   "source": [
    ">>> a = filter(lambda x: x%2 ==0, list1)\n",
    ">>> list(a)\n"
   ]
  },
  {
   "cell_type": "code",
   "execution_count": 31,
   "metadata": {},
   "outputs": [
    {
     "data": {
      "text/plain": [
       "[5]"
      ]
     },
     "execution_count": 31,
     "metadata": {},
     "output_type": "execute_result"
    }
   ],
   "source": [
    ">>> a = filter(lambda x: x%2, list1)\n",
    ">>> list(a)"
   ]
  },
  {
   "cell_type": "code",
   "execution_count": 32,
   "metadata": {},
   "outputs": [
    {
     "data": {
      "text/plain": [
       "[(4, 'four'), (1, 'one'), (3, 'three'), (2, 'two')]"
      ]
     },
     "execution_count": 32,
     "metadata": {},
     "output_type": "execute_result"
    }
   ],
   "source": [
    ">>> #sorting\n",
    ">>> pairs = [(1,'one'),(2,'two'),(3,'three'),(4,'four')]\n",
    ">>> pairs.sort(key = lambda pair : pair[1])\n",
    ">>> pairs\n"
   ]
  },
  {
   "cell_type": "markdown",
   "metadata": {},
   "source": [
    "### Lambda function gotcha"
   ]
  },
  {
   "cell_type": "code",
   "execution_count": 33,
   "metadata": {},
   "outputs": [
    {
     "name": "stdout",
     "output_type": "stream",
     "text": [
      "[<function <lambda> at 0x037D0108>, <function <lambda> at 0x037D03D8>, <function <lambda> at 0x037D0540>, <function <lambda> at 0x037D0348>, <function <lambda> at 0x037D00C0>]\n",
      "16\n",
      "16\n",
      "4\n"
     ]
    }
   ],
   "source": [
    "square = []\n",
    "for x in range(5):\n",
    "    square.append(lambda: x**2)\n",
    "    \n",
    "print(square)\n",
    "print(square[2]())\n",
    "print(square[3]())\n",
    "print(x)"
   ]
  },
  {
   "cell_type": "code",
   "execution_count": 34,
   "metadata": {},
   "outputs": [
    {
     "data": {
      "text/plain": [
       "81"
      ]
     },
     "execution_count": 34,
     "metadata": {},
     "output_type": "execute_result"
    }
   ],
   "source": [
    ">>> x = 9\n",
    ">>> square[2]()\n"
   ]
  },
  {
   "cell_type": "markdown",
   "metadata": {},
   "source": [
    "You’d expect that list `square` will be `[0,1,4,9,16]` but that is not the case. What we are actually getting is a list containing lambdas. In above case, x is not local to the lambdas, but is defined in the outer scope, and it is accessed when lambda is called – not when it is defined. Also, when we try to access an element from this list, we get the value of lambda function with x =4. For detail, refer Python Programming FAQ section. To avoid this, we modify above program –"
   ]
  },
  {
   "cell_type": "code",
   "execution_count": 35,
   "metadata": {},
   "outputs": [
    {
     "name": "stdout",
     "output_type": "stream",
     "text": [
      "4\n",
      "9\n"
     ]
    }
   ],
   "source": [
    " square = []\n",
    "for x in range(5):\n",
    "    square.append(lambda n = x: n**2)\n",
    "\n",
    "print(square[2]())\n",
    "print(square[3]())"
   ]
  },
  {
   "cell_type": "markdown",
   "metadata": {},
   "source": [
    "Here, `n = x` creates a new variable `n` local to lambda and computed when the lambda is defined so that it has the same value that `x` had at that point in the loop. This means that the value of `n` will be 0 in the first lambda, 1 in the second and so on. Now, each lambda will return the correct result."
   ]
  },
  {
   "cell_type": "markdown",
   "metadata": {
    "collapsed": true
   },
   "source": [
    "#### Gererator Expression\n",
    "\n",
    "List comprehensions use square brackets, while generator expressions use parentheses."
   ]
  },
  {
   "cell_type": "code",
   "execution_count": 36,
   "metadata": {},
   "outputs": [
    {
     "data": {
      "text/plain": [
       "[0, 1, 4, 9, 16]"
      ]
     },
     "execution_count": 36,
     "metadata": {},
     "output_type": "execute_result"
    }
   ],
   "source": [
    "[n ** 2 for n in range(5)]"
   ]
  },
  {
   "cell_type": "code",
   "execution_count": 37,
   "metadata": {},
   "outputs": [
    {
     "data": {
      "text/plain": [
       "<generator object <genexpr> at 0x037B7A30>"
      ]
     },
     "execution_count": 37,
     "metadata": {},
     "output_type": "execute_result"
    }
   ],
   "source": [
    "(n ** 2 for n in range(5))"
   ]
  },
  {
   "cell_type": "code",
   "execution_count": 38,
   "metadata": {},
   "outputs": [
    {
     "data": {
      "text/plain": [
       "[0, 1, 4, 9, 16]"
      ]
     },
     "execution_count": 38,
     "metadata": {},
     "output_type": "execute_result"
    }
   ],
   "source": [
    "list((n ** 2 for n in range(5)))"
   ]
  },
  {
   "cell_type": "markdown",
   "metadata": {},
   "source": [
    "A list is a collection of values, while generator is a recipe for producing values. \n",
    "\n",
    "The difference is that a generator expression does not actually compute the values until they are needed. This not only leads to memory efficiency, but to computational efficiency as well! This also means that while the size of a list is limited by available memory, the size of a generator expression is unlimited!\n",
    "\n",
    "A list can be itereated over multiple times, a generator expression is single use only.\n"
   ]
  },
  {
   "cell_type": "code",
   "execution_count": 39,
   "metadata": {},
   "outputs": [
    {
     "data": {
      "text/plain": [
       "[0, 1, 4, 9, 16]"
      ]
     },
     "execution_count": 39,
     "metadata": {},
     "output_type": "execute_result"
    }
   ],
   "source": [
    "g = (n ** 2 for n in range(5))\n",
    "list(g)"
   ]
  },
  {
   "cell_type": "code",
   "execution_count": 40,
   "metadata": {},
   "outputs": [
    {
     "data": {
      "text/plain": [
       "[]"
      ]
     },
     "execution_count": 40,
     "metadata": {},
     "output_type": "execute_result"
    }
   ],
   "source": [
    "list(g)"
   ]
  },
  {
   "cell_type": "markdown",
   "metadata": {},
   "source": [
    "#### Closure"
   ]
  },
  {
   "cell_type": "code",
   "execution_count": 57,
   "metadata": {},
   "outputs": [
    {
     "name": "stdout",
     "output_type": "stream",
     "text": [
      "10\n",
      "9\n",
      "8\n",
      "7\n",
      "6\n",
      "5\n",
      "4\n",
      "3\n",
      "2\n",
      "1\n"
     ]
    }
   ],
   "source": [
    "def countdown(n):\n",
    "    def nextf():\n",
    "        nonlocal n\n",
    "        r = n\n",
    "        n -= 1\n",
    "        return r\n",
    "    return nextf\n",
    "a = countdown(10)\n",
    "while True:\n",
    "\tb = a()\n",
    "\tif not b: break\n",
    "\tprint(b)\n"
   ]
  },
  {
   "cell_type": "markdown",
   "metadata": {},
   "source": [
    "In this code, a closure is being used to store the internal counter value `n`. The inner function `nextf()` updates and returns the previous value of this counter variable each time it is called.\n"
   ]
  }
 ],
 "metadata": {
  "kernelspec": {
   "display_name": "Python 3",
   "language": "python",
   "name": "python3"
  },
  "language_info": {
   "codemirror_mode": {
    "name": "ipython",
    "version": 3
   },
   "file_extension": ".py",
   "mimetype": "text/x-python",
   "name": "python",
   "nbconvert_exporter": "python",
   "pygments_lexer": "ipython3",
   "version": "3.6.3"
  }
 },
 "nbformat": 4,
 "nbformat_minor": 2
}
