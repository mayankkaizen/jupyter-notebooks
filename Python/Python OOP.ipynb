{
 "cells": [
  {
   "cell_type": "code",
   "execution_count": 2,
   "metadata": {},
   "outputs": [
    {
     "name": "stdout",
     "output_type": "stream",
     "text": [
      "<__main__.Test object at 0x03156FD0>\n"
     ]
    },
    {
     "ename": "TypeError",
     "evalue": "__init__() should return None, not 'int'",
     "output_type": "error",
     "traceback": [
      "\u001b[1;31m---------------------------------------------------------------------------\u001b[0m",
      "\u001b[1;31mTypeError\u001b[0m                                 Traceback (most recent call last)",
      "\u001b[1;32m<ipython-input-2-dbc32e8542a1>\u001b[0m in \u001b[0;36m<module>\u001b[1;34m()\u001b[0m\n\u001b[0;32m      4\u001b[0m         \u001b[1;32mreturn\u001b[0m \u001b[1;36m1\u001b[0m\u001b[1;33m\u001b[0m\u001b[0m\n\u001b[0;32m      5\u001b[0m \u001b[1;33m\u001b[0m\u001b[0m\n\u001b[1;32m----> 6\u001b[1;33m \u001b[0mtest\u001b[0m \u001b[1;33m=\u001b[0m \u001b[0mTest\u001b[0m\u001b[1;33m(\u001b[0m\u001b[1;33m)\u001b[0m\u001b[1;33m\u001b[0m\u001b[0m\n\u001b[0m",
      "\u001b[1;31mTypeError\u001b[0m: __init__() should return None, not 'int'"
     ]
    }
   ],
   "source": [
    "class Test:\n",
    "    def __init__(self):\n",
    "        print(self)\n",
    "        return 1\n",
    "    \n",
    "test = Test()    "
   ]
  },
  {
   "cell_type": "code",
   "execution_count": 51,
   "metadata": {},
   "outputs": [
    {
     "name": "stdout",
     "output_type": "stream",
     "text": [
      "<class 'method'>\n",
      "<class 'function'>\n",
      "True\n"
     ]
    }
   ],
   "source": [
    "class Test:\n",
    "    def __init__(self, name):\n",
    "        self.name = name\n",
    "        \n",
    "    def setmethod(self, value):\n",
    "        self.value = value\n",
    "        \n",
    "test =  Test(\"Sam\")\n",
    "Test.setmethod(test, 3)\n",
    "\n",
    "print(type(test.setmethod))\n",
    "print(type(Test.setmethod))\n",
    "\n",
    "print(Test.setmethod(test, 3) == test.setmethod(3))"
   ]
  },
  {
   "cell_type": "code",
   "execution_count": 52,
   "metadata": {},
   "outputs": [
    {
     "name": "stdout",
     "output_type": "stream",
     "text": [
      "Mayank\n",
      "Hi Mayank\n"
     ]
    }
   ],
   "source": [
    "class Person:\n",
    "    def __init__(self, name):\n",
    "        self.name = name\n",
    "        print(self.name)\n",
    "        \n",
    "    def sayhello(self):\n",
    "        print(\"Hi\", self.name)\n",
    "        \n",
    "    def __del__(self):\n",
    "        print(\"bye\", self.name)\n",
    "        \n",
    "A = Person(\"Mayank\")\n",
    "\n",
    "A.sayhello()        \n",
    "        "
   ]
  },
  {
   "cell_type": "code",
   "execution_count": 53,
   "metadata": {},
   "outputs": [
    {
     "name": "stdout",
     "output_type": "stream",
     "text": [
      "bye Mayank\n"
     ]
    }
   ],
   "source": [
    "del A\n"
   ]
  },
  {
   "cell_type": "code",
   "execution_count": 56,
   "metadata": {},
   "outputs": [
    {
     "name": "stdout",
     "output_type": "stream",
     "text": [
      "123\n",
      "1234\n",
      "Hi\n",
      "None\n"
     ]
    }
   ],
   "source": [
    "class A:\n",
    "    i = 123\n",
    "    def __init__(self):\n",
    "        self.i = 1234\n",
    "        \n",
    "    def f(self):\n",
    "        print(\"Hi\")\n",
    "        \n",
    "print(A.i)\n",
    "print(A().i)\n",
    "print(A().f());"
   ]
  },
  {
   "cell_type": "markdown",
   "metadata": {},
   "source": [
    "As is clear from above example, `__init__` function always return `None`"
   ]
  },
  {
   "cell_type": "code",
   "execution_count": 3,
   "metadata": {},
   "outputs": [
    {
     "name": "stdout",
     "output_type": "stream",
     "text": [
      "<__main__.Test object at 0x03180730>\n",
      "x\n"
     ]
    }
   ],
   "source": [
    "class Test:\n",
    "    def __init__(self):\n",
    "        print(self)\n",
    "        print('x')\n",
    "\n",
    "test = Test()        "
   ]
  },
  {
   "cell_type": "markdown",
   "metadata": {},
   "source": [
    "`__init__` function is executed as soon as an instance of a class created."
   ]
  },
  {
   "cell_type": "code",
   "execution_count": 4,
   "metadata": {},
   "outputs": [
    {
     "name": "stdout",
     "output_type": "stream",
     "text": [
      "Test id is 51907888\n",
      "Test id is 51908016\n"
     ]
    },
    {
     "ename": "TypeError",
     "evalue": "unsupported operand type(s) for *: 'Test' and 'int'",
     "output_type": "error",
     "traceback": [
      "\u001b[1;31m---------------------------------------------------------------------------\u001b[0m",
      "\u001b[1;31mTypeError\u001b[0m                                 Traceback (most recent call last)",
      "\u001b[1;32m<ipython-input-4-8b0d5eac27f7>\u001b[0m in \u001b[0;36m<module>\u001b[1;34m()\u001b[0m\n\u001b[0;32m      4\u001b[0m \u001b[1;33m\u001b[0m\u001b[0m\n\u001b[0;32m      5\u001b[0m \u001b[0mx\u001b[0m \u001b[1;33m=\u001b[0m \u001b[0mTest\u001b[0m\u001b[1;33m(\u001b[0m\u001b[1;33m)\u001b[0m\u001b[1;33m\u001b[0m\u001b[0m\n\u001b[1;32m----> 6\u001b[1;33m \u001b[0my\u001b[0m \u001b[1;33m=\u001b[0m \u001b[0mTest\u001b[0m\u001b[1;33m(\u001b[0m\u001b[1;33m)\u001b[0m\u001b[1;33m*\u001b[0m\u001b[1;36m10\u001b[0m\u001b[1;33m\u001b[0m\u001b[0m\n\u001b[0m",
      "\u001b[1;31mTypeError\u001b[0m: unsupported operand type(s) for *: 'Test' and 'int'"
     ]
    }
   ],
   "source": [
    "class Test:\n",
    "    def __init__(self):\n",
    "        print(\"Test id is %d\" %id(self)) \n",
    "        \n",
    "x = Test()\n",
    "y = Test()*10"
   ]
  },
  {
   "cell_type": "markdown",
   "metadata": {},
   "source": [
    "This program shows that object is instantiated before it is assigned to any variable. Line 1 runs fine. Line 2 produces `TypeError` because of wrong multiplication. Here instance was created (as shown by `id()` function) but its product with 10 produced error and nothing was assigned to `y`. Error happens only after instance is created and before instance is assigned a name 'y'. If this program is run interactively, `print(x)` command will run successfully but `print(y)` command will raise `NameError`. "
   ]
  },
  {
   "cell_type": "code",
   "execution_count": 5,
   "metadata": {},
   "outputs": [
    {
     "name": "stdout",
     "output_type": "stream",
     "text": [
      "<__main__.Test object at 0x03180D30>\n"
     ]
    },
    {
     "ename": "NameError",
     "evalue": "name 'y' is not defined",
     "output_type": "error",
     "traceback": [
      "\u001b[1;31m---------------------------------------------------------------------------\u001b[0m",
      "\u001b[1;31mNameError\u001b[0m                                 Traceback (most recent call last)",
      "\u001b[1;32m<ipython-input-5-9f8289404769>\u001b[0m in \u001b[0;36m<module>\u001b[1;34m()\u001b[0m\n\u001b[0;32m      1\u001b[0m \u001b[0mprint\u001b[0m\u001b[1;33m(\u001b[0m\u001b[0mx\u001b[0m\u001b[1;33m)\u001b[0m\u001b[1;33m\u001b[0m\u001b[0m\n\u001b[1;32m----> 2\u001b[1;33m \u001b[0mprint\u001b[0m\u001b[1;33m(\u001b[0m\u001b[0my\u001b[0m\u001b[1;33m)\u001b[0m\u001b[1;33m\u001b[0m\u001b[0m\n\u001b[0m",
      "\u001b[1;31mNameError\u001b[0m: name 'y' is not defined"
     ]
    }
   ],
   "source": [
    "print(x)\n",
    "print(y)"
   ]
  },
  {
   "cell_type": "code",
   "execution_count": 6,
   "metadata": {},
   "outputs": [
    {
     "data": {
      "text/plain": [
       "'xy'"
      ]
     },
     "execution_count": 6,
     "metadata": {},
     "output_type": "execute_result"
    }
   ],
   "source": [
    "class Strings:\n",
    "    def __init__(self,a):\n",
    "        self.a = a\n",
    "        \n",
    "    def __add__(self, other):\n",
    "        return self.a + other.a\n",
    "    \n",
    "a = Strings('x')\n",
    "b = Strings('y')\n",
    "\n",
    "a+b"
   ]
  },
  {
   "cell_type": "code",
   "execution_count": 7,
   "metadata": {},
   "outputs": [
    {
     "data": {
      "text/plain": [
       "(7, 9)"
      ]
     },
     "execution_count": 7,
     "metadata": {},
     "output_type": "execute_result"
    }
   ],
   "source": [
    "class Strings:\n",
    "    def __init__(self,x,y):\n",
    "        self.x = x\n",
    "        self.y = y\n",
    "        \n",
    "    def __add__(self, other):\n",
    "        self.x = self.x + other.x\n",
    "        self.y = self.y + other.y\n",
    "        return self.x, self.y\n",
    "    \n",
    "a = Strings(3,4)\n",
    "b = Strings(4,5)\n",
    "\n",
    "a + b\n"
   ]
  },
  {
   "cell_type": "code",
   "execution_count": 11,
   "metadata": {},
   "outputs": [
    {
     "name": "stdout",
     "output_type": "stream",
     "text": [
      "2\n",
      "Total No of Employee: 2\n",
      "Total No of Employee: 2\n",
      "Name:  Sam Salary:  200\n",
      "Name:  Peter Salary:  300\n"
     ]
    }
   ],
   "source": [
    "class Employee:\n",
    "    'common base class for all employees'\n",
    "    empCount = 0\n",
    "    \n",
    "    def __init__(self, name, salary):\n",
    "        self.name = name\n",
    "        self.salary = salary\n",
    "        Employee.empCount += 1\n",
    "        \n",
    "    def displayCount(self):\n",
    "        print(\"Total No of Employee: %d\" %Employee.empCount)\n",
    "        \n",
    "    def displayEmployee(self):\n",
    "        print(\"Name: \", self.name, \"Salary: \", self.salary)\n",
    "        \n",
    "emp1 = Employee('Sam',200)\n",
    "emp2 = Employee('Peter',300)\n",
    "\n",
    "print(Employee.empCount)\n",
    "emp1.displayCount()\n",
    "emp2.displayCount()\n",
    "emp1.displayEmployee()\n",
    "emp2.displayEmployee()\n"
   ]
  },
  {
   "cell_type": "code",
   "execution_count": 2,
   "metadata": {},
   "outputs": [
    {
     "data": {
      "text/plain": [
       "'Mayank'"
      ]
     },
     "execution_count": 2,
     "metadata": {},
     "output_type": "execute_result"
    }
   ],
   "source": [
    "class C:\n",
    "    def setname(self, who):\n",
    "        self.name = who\n",
    "        \n",
    "I = C()\n",
    "I.setname('Mayank')\n",
    "I.name"
   ]
  },
  {
   "cell_type": "code",
   "execution_count": 4,
   "metadata": {},
   "outputs": [
    {
     "data": {
      "text/plain": [
       "'Mayank'"
      ]
     },
     "execution_count": 4,
     "metadata": {},
     "output_type": "execute_result"
    }
   ],
   "source": [
    "class C:\n",
    "    def __init__(self,who):\n",
    "        self.name = who\n",
    "        \n",
    "I = C('Mayank')    \n",
    "I.name"
   ]
  },
  {
   "cell_type": "markdown",
   "metadata": {},
   "source": [
    "Here `__init__` is used instead of `setname`. This method is automatically called, whenever an instance is created. No need for extra method calls."
   ]
  },
  {
   "cell_type": "code",
   "execution_count": 5,
   "metadata": {},
   "outputs": [
    {
     "name": "stdout",
     "output_type": "stream",
     "text": [
      "a\n",
      "b\n"
     ]
    }
   ],
   "source": [
    "class Test:\n",
    "    def __init__(self,arg1,arg2):\n",
    "            self.arg1 = arg1\n",
    "            self.arg2 = arg2\n",
    "    \n",
    "    def printargs(self):\n",
    "        print(self.arg1)\n",
    "        print(self.arg2)\n",
    "        \n",
    "instance = Test('a','b')\n",
    "\n",
    "instance.printargs()\n",
    "    "
   ]
  },
  {
   "cell_type": "code",
   "execution_count": 6,
   "metadata": {},
   "outputs": [
    {
     "name": "stdout",
     "output_type": "stream",
     "text": [
      "a\n",
      "b\n"
     ]
    }
   ],
   "source": [
    "Test.printargs(instance)"
   ]
  },
  {
   "cell_type": "markdown",
   "metadata": {},
   "source": [
    "Notice that `instance.printargs()` is equivalent to `Test.printargs(instance)`"
   ]
  },
  {
   "cell_type": "code",
   "execution_count": 16,
   "metadata": {},
   "outputs": [
    {
     "name": "stdout",
     "output_type": "stream",
     "text": [
      "1\n",
      "53761840\n",
      "2\n",
      "53761968\n"
     ]
    }
   ],
   "source": [
    "class Employee:\n",
    "    \n",
    "    empCount = 0\n",
    "    \n",
    "    def __init__(self):\n",
    "        Employee.empCount += 1\n",
    "        print(Employee.empCount)\n",
    "        print(id(self))\n",
    "\n",
    "    def __del__(self):\n",
    "        Employee.empCount -= 1\n",
    "        print(Employee.empCount)\n",
    "        print(id(self))\n",
    "        \n",
    "emp1 = Employee()\n",
    "emp2 = Employee()"
   ]
  },
  {
   "cell_type": "code",
   "execution_count": 17,
   "metadata": {},
   "outputs": [
    {
     "name": "stdout",
     "output_type": "stream",
     "text": [
      "1\n",
      "53761840\n"
     ]
    }
   ],
   "source": [
    "del emp1"
   ]
  },
  {
   "cell_type": "code",
   "execution_count": 18,
   "metadata": {},
   "outputs": [
    {
     "name": "stdout",
     "output_type": "stream",
     "text": [
      "0\n",
      "53761968\n"
     ]
    }
   ],
   "source": [
    "del emp2"
   ]
  },
  {
   "cell_type": "code",
   "execution_count": 19,
   "metadata": {},
   "outputs": [
    {
     "data": {
      "text/plain": [
       "0"
      ]
     },
     "execution_count": 19,
     "metadata": {},
     "output_type": "execute_result"
    }
   ],
   "source": [
    "Employee.empCount"
   ]
  },
  {
   "cell_type": "markdown",
   "metadata": {},
   "source": [
    "#### Encapsulation, Private Attributes and Data Hiding"
   ]
  },
  {
   "cell_type": "code",
   "execution_count": 23,
   "metadata": {},
   "outputs": [
    {
     "name": "stdout",
     "output_type": "stream",
     "text": [
      "3\n"
     ]
    }
   ],
   "source": [
    "class Encapsulation(object):\n",
    "    def __init__(self, a, b, c):\n",
    "        self.public = a\n",
    "        self._protected = b\n",
    "        self.__private = c\n",
    "        print(self.__private)\n",
    "        \n",
    "A = Encapsulation(1,2,3)        "
   ]
  },
  {
   "cell_type": "code",
   "execution_count": 26,
   "metadata": {},
   "outputs": [
    {
     "name": "stdout",
     "output_type": "stream",
     "text": [
      "1\n",
      "2\n"
     ]
    },
    {
     "ename": "AttributeError",
     "evalue": "'Encapsulation' object has no attribute '__private'",
     "output_type": "error",
     "traceback": [
      "\u001b[1;31m---------------------------------------------------------------------------\u001b[0m",
      "\u001b[1;31mAttributeError\u001b[0m                            Traceback (most recent call last)",
      "\u001b[1;32m<ipython-input-26-53de02cfd79a>\u001b[0m in \u001b[0;36m<module>\u001b[1;34m()\u001b[0m\n\u001b[0;32m      1\u001b[0m \u001b[0mprint\u001b[0m\u001b[1;33m(\u001b[0m\u001b[0mA\u001b[0m\u001b[1;33m.\u001b[0m\u001b[0mpublic\u001b[0m\u001b[1;33m)\u001b[0m\u001b[1;33m\u001b[0m\u001b[0m\n\u001b[0;32m      2\u001b[0m \u001b[0mprint\u001b[0m\u001b[1;33m(\u001b[0m\u001b[0mA\u001b[0m\u001b[1;33m.\u001b[0m\u001b[0m_protected\u001b[0m\u001b[1;33m)\u001b[0m\u001b[1;33m\u001b[0m\u001b[0m\n\u001b[1;32m----> 3\u001b[1;33m \u001b[0mprint\u001b[0m\u001b[1;33m(\u001b[0m\u001b[0mA\u001b[0m\u001b[1;33m.\u001b[0m\u001b[0m__private\u001b[0m\u001b[1;33m)\u001b[0m\u001b[1;33m\u001b[0m\u001b[0m\n\u001b[0m",
      "\u001b[1;31mAttributeError\u001b[0m: 'Encapsulation' object has no attribute '__private'"
     ]
    }
   ],
   "source": [
    "print(A.public)\n",
    "print(A._protected)\n",
    "print(A.__private)"
   ]
  },
  {
   "cell_type": "markdown",
   "metadata": {},
   "source": [
    "As is clear from above, private attributes can't be accessed from outside. It can only be accessed from inside of class."
   ]
  },
  {
   "cell_type": "code",
   "execution_count": 27,
   "metadata": {},
   "outputs": [
    {
     "data": {
      "text/plain": [
       "'Mayank'"
      ]
     },
     "execution_count": 27,
     "metadata": {},
     "output_type": "execute_result"
    }
   ],
   "source": [
    "class Foo:\n",
    "    def __init__(self, name):\n",
    "        self.__name = name\n",
    "    def setname(self):\n",
    "        return self.__name\n",
    "    \n",
    "bar = Foo('Mayank')\n",
    "\n",
    "bar.setname()"
   ]
  },
  {
   "cell_type": "code",
   "execution_count": 28,
   "metadata": {},
   "outputs": [
    {
     "ename": "AttributeError",
     "evalue": "'Foo' object has no attribute '__name'",
     "output_type": "error",
     "traceback": [
      "\u001b[1;31m---------------------------------------------------------------------------\u001b[0m",
      "\u001b[1;31mAttributeError\u001b[0m                            Traceback (most recent call last)",
      "\u001b[1;32m<ipython-input-28-f9463d0a3fc3>\u001b[0m in \u001b[0;36m<module>\u001b[1;34m()\u001b[0m\n\u001b[1;32m----> 1\u001b[1;33m \u001b[0mbar\u001b[0m\u001b[1;33m.\u001b[0m\u001b[0m__name\u001b[0m\u001b[1;33m\u001b[0m\u001b[0m\n\u001b[0m",
      "\u001b[1;31mAttributeError\u001b[0m: 'Foo' object has no attribute '__name'"
     ]
    }
   ],
   "source": [
    "bar.__name"
   ]
  },
  {
   "cell_type": "code",
   "execution_count": 29,
   "metadata": {},
   "outputs": [
    {
     "data": {
      "text/plain": [
       "'Mayank'"
      ]
     },
     "execution_count": 29,
     "metadata": {},
     "output_type": "execute_result"
    }
   ],
   "source": [
    "class Foo:\n",
    "    def __init__(self, name):\n",
    "        self.name = name\n",
    "    def setname(self):\n",
    "        return self.name\n",
    "    \n",
    "bar = Foo('Mayank')\n",
    "\n",
    "bar.setname()"
   ]
  },
  {
   "cell_type": "code",
   "execution_count": 30,
   "metadata": {},
   "outputs": [
    {
     "data": {
      "text/plain": [
       "'Mayank'"
      ]
     },
     "execution_count": 30,
     "metadata": {},
     "output_type": "execute_result"
    }
   ],
   "source": [
    "bar.name"
   ]
  },
  {
   "cell_type": "markdown",
   "metadata": {},
   "source": [
    "Compare above 2 example. In first example, `bar.__name` raised `AttributeError` while in second example, `bar.name` ran correctly. "
   ]
  },
  {
   "cell_type": "code",
   "execution_count": 32,
   "metadata": {},
   "outputs": [
    {
     "name": "stdout",
     "output_type": "stream",
     "text": [
      "5\n"
     ]
    }
   ],
   "source": [
    "class D:\n",
    "    value =  5\n",
    "    \n",
    "class E(D):\n",
    "    def printf(self):\n",
    "        print(self.value)\n",
    "        \n",
    "a = E()\n",
    "a.printf()"
   ]
  },
  {
   "cell_type": "code",
   "execution_count": 33,
   "metadata": {},
   "outputs": [
    {
     "ename": "AttributeError",
     "evalue": "'E' object has no attribute '_E__value'",
     "output_type": "error",
     "traceback": [
      "\u001b[1;31m---------------------------------------------------------------------------\u001b[0m",
      "\u001b[1;31mAttributeError\u001b[0m                            Traceback (most recent call last)",
      "\u001b[1;32m<ipython-input-33-ec465dd0c8b3>\u001b[0m in \u001b[0;36m<module>\u001b[1;34m()\u001b[0m\n\u001b[0;32m      7\u001b[0m \u001b[1;33m\u001b[0m\u001b[0m\n\u001b[0;32m      8\u001b[0m \u001b[0ma\u001b[0m \u001b[1;33m=\u001b[0m \u001b[0mE\u001b[0m\u001b[1;33m(\u001b[0m\u001b[1;33m)\u001b[0m\u001b[1;33m\u001b[0m\u001b[0m\n\u001b[1;32m----> 9\u001b[1;33m \u001b[0ma\u001b[0m\u001b[1;33m.\u001b[0m\u001b[0mprintf\u001b[0m\u001b[1;33m(\u001b[0m\u001b[1;33m)\u001b[0m\u001b[1;33m\u001b[0m\u001b[0m\n\u001b[0m",
      "\u001b[1;32m<ipython-input-33-ec465dd0c8b3>\u001b[0m in \u001b[0;36mprintf\u001b[1;34m(self)\u001b[0m\n\u001b[0;32m      4\u001b[0m \u001b[1;32mclass\u001b[0m \u001b[0mE\u001b[0m\u001b[1;33m(\u001b[0m\u001b[0mD\u001b[0m\u001b[1;33m)\u001b[0m\u001b[1;33m:\u001b[0m\u001b[1;33m\u001b[0m\u001b[0m\n\u001b[0;32m      5\u001b[0m     \u001b[1;32mdef\u001b[0m \u001b[0mprintf\u001b[0m\u001b[1;33m(\u001b[0m\u001b[0mself\u001b[0m\u001b[1;33m)\u001b[0m\u001b[1;33m:\u001b[0m\u001b[1;33m\u001b[0m\u001b[0m\n\u001b[1;32m----> 6\u001b[1;33m         \u001b[0mprint\u001b[0m\u001b[1;33m(\u001b[0m\u001b[0mself\u001b[0m\u001b[1;33m.\u001b[0m\u001b[0m__value\u001b[0m\u001b[1;33m)\u001b[0m\u001b[1;33m\u001b[0m\u001b[0m\n\u001b[0m\u001b[0;32m      7\u001b[0m \u001b[1;33m\u001b[0m\u001b[0m\n\u001b[0;32m      8\u001b[0m \u001b[0ma\u001b[0m \u001b[1;33m=\u001b[0m \u001b[0mE\u001b[0m\u001b[1;33m(\u001b[0m\u001b[1;33m)\u001b[0m\u001b[1;33m\u001b[0m\u001b[0m\n",
      "\u001b[1;31mAttributeError\u001b[0m: 'E' object has no attribute '_E__value'"
     ]
    }
   ],
   "source": [
    "class D:\n",
    "    __value =  5\n",
    "    \n",
    "class E(D):\n",
    "    def printf(self):\n",
    "        print(self.__value)\n",
    "        \n",
    "a = E()\n",
    "a.printf()"
   ]
  },
  {
   "cell_type": "markdown",
   "metadata": {},
   "source": [
    "This illustrates that private attributes can't be accessed by child class as well.\n",
    "\n",
    "From Python Essential Reference book – \n",
    "\n",
    "By default, all attributes and methods of a class are “public.”This means that they are all accessible without any restrictions. It also implies that everything defined in a base class is inherited and accessible within a derived class.This behavior is often undesirable in object-oriented applications because it exposes the internal implementation of an object and can lead to namespace conflicts between objects defined in a derived class and those defined in a base class. To fix this problem, all names in a class that start with a double underscore, such as` __Foo`, are automatically mangled to form a new name of the form `_Classname__Foo`. This effectively provides a way for a class to have private attributes and methods because private names used in a derived class won’t collide with the same private names used in a base class. \n",
    "\n",
    "Here is an example -\n",
    "```python\n",
    "class A(object):\n",
    "    def __init__(self):\n",
    "        self.__X = 3       # Mangled to self._A__X\n",
    "    def __spam(self):      # Mangled to _A__spam()\n",
    "        pass\n",
    "    def bar(self):\n",
    "        self.__spam()      # Only calls A.__spam()\n",
    "\n",
    "class B(A):\n",
    "    def __init__(self):\n",
    "        A.__init__(self)\n",
    "        self.__X = 37      # Mangled to self._B__X\n",
    "    def __spam(self):      # Mangled to _B__spam()\n",
    "        pass\n",
    "```\n",
    "\n",
    "Although this scheme provides the illusion of data hiding, there’s no strict mechanism in place to actually prevent access to the “private” attributes of a class. In particular, if the name of the class and corresponding private attribute are known, they can be accessed using the mangled name.\n"
   ]
  },
  {
   "cell_type": "code",
   "execution_count": 39,
   "metadata": {},
   "outputs": [
    {
     "name": "stdout",
     "output_type": "stream",
     "text": [
      "Diff grade for diff group\n",
      "Top grade\n",
      "None\n",
      "Middle Grade\n",
      "None\n"
     ]
    }
   ],
   "source": [
    "class Employee:\n",
    "    def __init__(self, name):\n",
    "        self.name = name\n",
    "        \n",
    "    def grade(self):\n",
    "        print(\"Diff grade for diff group\")\n",
    "        \n",
    "        \n",
    "class Top(Employee):\n",
    "    def __init__(self, name, perk):\n",
    "        #Employee.__init__(self, name) #code is running even without this line. Why?\n",
    "        self.perk = perk\n",
    "    \n",
    "    def grade(self):    \n",
    "            Employee.grade(self)\n",
    "            print(\"Top grade\")\n",
    "        \n",
    "class Middle(Employee):\n",
    "    def __init__(self, name, salary):\n",
    "        Employee.__init__(self, name)\n",
    "        self.salary =  salary\n",
    "        \n",
    "    def grade(self):\n",
    "        print(\"Middle Grade\")\n",
    "        \n",
    "\n",
    "emp1 = Top('Sam', 100)\n",
    "emp2 = Middle('Peter', 200)\n",
    "\n",
    "for e in [emp1, emp2]:\n",
    "    print(e.grade());\n",
    "    "
   ]
  },
  {
   "cell_type": "code",
   "execution_count": 40,
   "metadata": {},
   "outputs": [
    {
     "name": "stdout",
     "output_type": "stream",
     "text": [
      "In super method\n",
      "None\n",
      "Starting sub method\n",
      "In super method\n",
      "Ending sub method\n",
      "None\n"
     ]
    }
   ],
   "source": [
    "class Super:\n",
    "    def method(self):\n",
    "        print(\"In super method\")\n",
    "        \n",
    "class Sub(Super):\n",
    "    def method(self):\n",
    "        print(\"Starting sub method\")\n",
    "        Super.method(self)\n",
    "        print(\"Ending sub method\")\n",
    "        \n",
    "        \n",
    "x = Super()\n",
    "y = Sub()\n",
    "\n",
    "for e in [x,y]:\n",
    "    print(e.method())"
   ]
  },
  {
   "cell_type": "code",
   "execution_count": 44,
   "metadata": {},
   "outputs": [
    {
     "name": "stdout",
     "output_type": "stream",
     "text": [
      "1500\n",
      "1000\n"
     ]
    }
   ],
   "source": [
    "class Customer:\n",
    "    def __init__(self, name, balance):\n",
    "        self.name = name\n",
    "        self.balance =balance\n",
    "    \n",
    "    def deposit(self, amount):\n",
    "        self.amount = amount\n",
    "        self.balance = self.balance + amount\n",
    "        print(self.balance)\n",
    "        \n",
    "    def test(self):\n",
    "        print(amount)\n",
    "        print(self.amount)\n",
    "        \n",
    "        \n",
    "customer1 = Customer(\"Mayank\", 1000)\n",
    "customer2 = Customer(\"Kajal\", 500)\n",
    "\n",
    "customer1.deposit(500)\n",
    "customer2.deposit(500)\n",
    "    \n",
    "    "
   ]
  },
  {
   "cell_type": "code",
   "execution_count": 43,
   "metadata": {},
   "outputs": [
    {
     "ename": "NameError",
     "evalue": "name 'amount' is not defined",
     "output_type": "error",
     "traceback": [
      "\u001b[1;31m---------------------------------------------------------------------------\u001b[0m",
      "\u001b[1;31mNameError\u001b[0m                                 Traceback (most recent call last)",
      "\u001b[1;32m<ipython-input-43-99e5218ec988>\u001b[0m in \u001b[0;36m<module>\u001b[1;34m()\u001b[0m\n\u001b[1;32m----> 1\u001b[1;33m \u001b[0mcustomer1\u001b[0m\u001b[1;33m.\u001b[0m\u001b[0mtest\u001b[0m\u001b[1;33m(\u001b[0m\u001b[1;33m)\u001b[0m\u001b[1;33m\u001b[0m\u001b[0m\n\u001b[0m",
      "\u001b[1;32m<ipython-input-42-eb82b85f23e6>\u001b[0m in \u001b[0;36mtest\u001b[1;34m(self)\u001b[0m\n\u001b[0;32m     10\u001b[0m \u001b[1;33m\u001b[0m\u001b[0m\n\u001b[0;32m     11\u001b[0m     \u001b[1;32mdef\u001b[0m \u001b[0mtest\u001b[0m\u001b[1;33m(\u001b[0m\u001b[0mself\u001b[0m\u001b[1;33m)\u001b[0m\u001b[1;33m:\u001b[0m\u001b[1;33m\u001b[0m\u001b[0m\n\u001b[1;32m---> 12\u001b[1;33m         \u001b[0mprint\u001b[0m\u001b[1;33m(\u001b[0m\u001b[0mamount\u001b[0m\u001b[1;33m)\u001b[0m\u001b[1;33m\u001b[0m\u001b[0m\n\u001b[0m\u001b[0;32m     13\u001b[0m         \u001b[0mprint\u001b[0m\u001b[1;33m(\u001b[0m\u001b[0mself\u001b[0m\u001b[1;33m.\u001b[0m\u001b[0mamount\u001b[0m\u001b[1;33m)\u001b[0m\u001b[1;33m\u001b[0m\u001b[0m\n\u001b[0;32m     14\u001b[0m \u001b[1;33m\u001b[0m\u001b[0m\n",
      "\u001b[1;31mNameError\u001b[0m: name 'amount' is not defined"
     ]
    }
   ],
   "source": [
    "customer1.test()"
   ]
  },
  {
   "cell_type": "markdown",
   "metadata": {},
   "source": [
    "'amount' can only be accessed by 'deposit' method. Here self.balance is called instance variable and amount would be local variable. Instance variable can be accessed by all methods defined in a class while local variables can be used by only that method in which they are defined."
   ]
  },
  {
   "cell_type": "code",
   "execution_count": 58,
   "metadata": {},
   "outputs": [
    {
     "name": "stdout",
     "output_type": "stream",
     "text": [
      "(<class '__main__.Test'>, <class 'object'>)\n",
      "(<class '__main__.Student'>, <class '__main__.Test'>, <class 'object'>)\n"
     ]
    }
   ],
   "source": [
    "class Test():\n",
    "    pass\n",
    "\n",
    "class Student(Test):\n",
    "    pass\n",
    "\n",
    "print(Test.__mro__)\n",
    "print(Student.__mro__)"
   ]
  },
  {
   "cell_type": "code",
   "execution_count": 59,
   "metadata": {},
   "outputs": [
    {
     "data": {
      "text/plain": [
       "True"
      ]
     },
     "execution_count": 59,
     "metadata": {},
     "output_type": "execute_result"
    }
   ],
   "source": [
    "issubclass(Test, object)"
   ]
  },
  {
   "cell_type": "code",
   "execution_count": 60,
   "metadata": {},
   "outputs": [
    {
     "data": {
      "text/plain": [
       "True"
      ]
     },
     "execution_count": 60,
     "metadata": {},
     "output_type": "execute_result"
    }
   ],
   "source": [
    "issubclass(Student, object)"
   ]
  },
  {
   "cell_type": "code",
   "execution_count": 62,
   "metadata": {},
   "outputs": [
    {
     "data": {
      "text/plain": [
       "True"
      ]
     },
     "execution_count": 62,
     "metadata": {},
     "output_type": "execute_result"
    }
   ],
   "source": [
    "def foo():\n",
    "    pass\n",
    "\n",
    "issubclass(foo.__class__, object)"
   ]
  },
  {
   "cell_type": "markdown",
   "metadata": {},
   "source": [
    "#### Static Method"
   ]
  },
  {
   "cell_type": "code",
   "execution_count": 63,
   "metadata": {},
   "outputs": [
    {
     "name": "stdout",
     "output_type": "stream",
     "text": [
      "Hi\n"
     ]
    }
   ],
   "source": [
    "class Test:\n",
    "\n",
    "    @staticmethod\n",
    "    def testmethod():\n",
    "        print('Hi')\n",
    "    \n",
    "    def __init__(self,number):\n",
    "        self.number = number\n",
    "\n",
    "    def setmethod(self):\n",
    "        print(self.number)    \n",
    "\n",
    "Test.testmethod()       "
   ]
  },
  {
   "cell_type": "markdown",
   "metadata": {},
   "source": [
    "#### Class Method"
   ]
  },
  {
   "cell_type": "code",
   "execution_count": 64,
   "metadata": {},
   "outputs": [
    {
     "name": "stdout",
     "output_type": "stream",
     "text": [
      "8\n"
     ]
    }
   ],
   "source": [
    "class Times():\n",
    "    factor = 1\n",
    "    @classmethod\n",
    "    def mul(cls,x):\n",
    "        return cls.factor*x\n",
    "\n",
    "class TwoTimes(Times):\n",
    "    factor = 2\n",
    "\n",
    "x = TwoTimes.mul(4)    \n",
    "\n",
    "print(x)"
   ]
  },
  {
   "cell_type": "markdown",
   "metadata": {},
   "source": [
    "#### Properties"
   ]
  },
  {
   "cell_type": "code",
   "execution_count": 66,
   "metadata": {},
   "outputs": [
    {
     "data": {
      "text/plain": [
       "4"
      ]
     },
     "execution_count": 66,
     "metadata": {},
     "output_type": "execute_result"
    }
   ],
   "source": [
    "import math\n",
    "\n",
    "class Circle:\n",
    "    def __init__(self,radius):\n",
    "        self.radius = radius\n",
    "\n",
    "    @property\n",
    "    def area(self):\n",
    "        return math.pi*self.radius**2\n",
    "\n",
    "    @property\n",
    "    def perimeter(self):\n",
    "        return 2*math.pi*self.radius\n",
    "\n",
    "c = Circle(4)\n",
    "c.radius\n",
    "\n"
   ]
  },
  {
   "cell_type": "code",
   "execution_count": 67,
   "metadata": {},
   "outputs": [
    {
     "data": {
      "text/plain": [
       "5"
      ]
     },
     "execution_count": 67,
     "metadata": {},
     "output_type": "execute_result"
    }
   ],
   "source": [
    "c.radius = 5\n",
    "c.radius"
   ]
  },
  {
   "cell_type": "code",
   "execution_count": 68,
   "metadata": {},
   "outputs": [
    {
     "data": {
      "text/plain": [
       "31.41592653589793"
      ]
     },
     "execution_count": 68,
     "metadata": {},
     "output_type": "execute_result"
    }
   ],
   "source": [
    "c.perimeter"
   ]
  },
  {
   "cell_type": "code",
   "execution_count": 69,
   "metadata": {},
   "outputs": [
    {
     "data": {
      "text/plain": [
       "78.53981633974483"
      ]
     },
     "execution_count": 69,
     "metadata": {},
     "output_type": "execute_result"
    }
   ],
   "source": [
    "c.area"
   ]
  },
  {
   "cell_type": "code",
   "execution_count": 70,
   "metadata": {},
   "outputs": [
    {
     "ename": "AttributeError",
     "evalue": "can't set attribute",
     "output_type": "error",
     "traceback": [
      "\u001b[1;31m---------------------------------------------------------------------------\u001b[0m",
      "\u001b[1;31mAttributeError\u001b[0m                            Traceback (most recent call last)",
      "\u001b[1;32m<ipython-input-70-b381cf045733>\u001b[0m in \u001b[0;36m<module>\u001b[1;34m()\u001b[0m\n\u001b[1;32m----> 1\u001b[1;33m \u001b[0mc\u001b[0m\u001b[1;33m.\u001b[0m\u001b[0mperimeter\u001b[0m \u001b[1;33m=\u001b[0m  \u001b[1;36m5\u001b[0m\u001b[1;33m\u001b[0m\u001b[0m\n\u001b[0m",
      "\u001b[1;31mAttributeError\u001b[0m: can't set attribute"
     ]
    }
   ],
   "source": [
    "c.perimeter =  5"
   ]
  },
  {
   "cell_type": "markdown",
   "metadata": {},
   "source": [
    "As we know, instances of a class has attributes and methods bound to them. To access attributes and methods, we use dot notation. To access an attribute, we write `object.attribute` while to apply a method, we write `object.method()`. However, unlike methods, we can always change the value of attribute as shown above (c.radius = 5). In above program, if we don’t use `@property` decorator, we would apply method like this: `c.perimeter()`. But by using `@property` decorator, we get rid of those parentheses used after a method. So, now we can write `c.perimeter` instead of `c.perimeter()`. However, as said earlier, we can’t change the value of `c.perimeter` which is obvious. This is an example of making programming interface as uniform as possible.(Uniform Access Principle)\t"
   ]
  },
  {
   "cell_type": "markdown",
   "metadata": {},
   "source": [
    "#### `__repr__`"
   ]
  },
  {
   "cell_type": "code",
   "execution_count": 72,
   "metadata": {},
   "outputs": [
    {
     "data": {
      "text/plain": [
       "value for current instance= 5"
      ]
     },
     "execution_count": 72,
     "metadata": {},
     "output_type": "execute_result"
    }
   ],
   "source": [
    "class Test:\n",
    "\tdef __init__(self,value):\n",
    "\t\tself.value = value\n",
    "\tdef __repr__(self):\n",
    "\t\treturn 'value for current instance= %d' % self.value\n",
    "\n",
    "a = Test(5)\n",
    "a"
   ]
  },
  {
   "cell_type": "markdown",
   "metadata": {},
   "source": [
    "#### `__call__`"
   ]
  },
  {
   "cell_type": "code",
   "execution_count": 73,
   "metadata": {},
   "outputs": [
    {
     "name": "stdout",
     "output_type": "stream",
     "text": [
      "Hi\n"
     ]
    }
   ],
   "source": [
    "class Foo:\n",
    "    def __call__(self):\n",
    "        print('Hi')\n",
    "        \n",
    "bar = Foo()\n",
    "bar()\n"
   ]
  },
  {
   "cell_type": "code",
   "execution_count": null,
   "metadata": {
    "collapsed": true
   },
   "outputs": [],
   "source": []
  }
 ],
 "metadata": {
  "kernelspec": {
   "display_name": "Python 3",
   "language": "python",
   "name": "python3"
  },
  "language_info": {
   "codemirror_mode": {
    "name": "ipython",
    "version": 3
   },
   "file_extension": ".py",
   "mimetype": "text/x-python",
   "name": "python",
   "nbconvert_exporter": "python",
   "pygments_lexer": "ipython3",
   "version": "3.6.3"
  }
 },
 "nbformat": 4,
 "nbformat_minor": 2
}
