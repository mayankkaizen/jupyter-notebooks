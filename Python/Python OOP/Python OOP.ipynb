{
 "cells": [
  {
   "cell_type": "code",
   "execution_count": 2,
   "metadata": {},
   "outputs": [
    {
     "name": "stdout",
     "output_type": "stream",
     "text": [
      "white white\n"
     ]
    }
   ],
   "source": [
    "class Door:\n",
    "    color = 'white'\n",
    "    def __init__(self, number):\n",
    "        self.number = number\n",
    "\n",
    "door = Door(1)\n",
    "print(door.color, Door.color)"
   ]
  },
  {
   "cell_type": "markdown",
   "metadata": {},
   "source": [
    "Any Python object is automatically given a `__dict__` attribute, which contains its list of attributes."
   ]
  },
  {
   "cell_type": "code",
   "execution_count": 3,
   "metadata": {},
   "outputs": [
    {
     "data": {
      "text/plain": [
       "{'number': 1}"
      ]
     },
     "execution_count": 3,
     "metadata": {},
     "output_type": "execute_result"
    }
   ],
   "source": [
    "door.__dict__"
   ]
  },
  {
   "cell_type": "markdown",
   "metadata": {},
   "source": [
    "But, as you can see above, instance `door` doesn't have any attribute `color` in its attribute list. However, class `Door` does have a `color` attribute as seen below. So how come we can access `color` attribute of `door` instance?"
   ]
  },
  {
   "cell_type": "code",
   "execution_count": 4,
   "metadata": {},
   "outputs": [
    {
     "data": {
      "text/plain": [
       "mappingproxy({'__dict__': <attribute '__dict__' of 'Door' objects>,\n",
       "              '__doc__': None,\n",
       "              '__init__': <function __main__.Door.__init__>,\n",
       "              '__module__': '__main__',\n",
       "              '__weakref__': <attribute '__weakref__' of 'Door' objects>,\n",
       "              'color': 'white'})"
      ]
     },
     "execution_count": 4,
     "metadata": {},
     "output_type": "execute_result"
    }
   ],
   "source": [
    "Door.__dict__"
   ]
  },
  {
   "cell_type": "markdown",
   "metadata": {},
   "source": [
    "This is a job performed by the magic `__getattribute__()` method; in Python the dotted syntax automatically invokes this method so when we write `door.colour`, Python executes `door.__getattribute__('colour')`. That method performs the  _attribute  lookup_ action, i.e. finds the value of the attribute by looking in different places.\n",
    "\n",
    "The standard implementation of `__getattribute__()` searches first the internal dictionary (`__dict__`) of an object, then the type of the object itself; in this case `door.__getattribute__('colour')` executes first `door.__dict__['colour']` and then, since the latter raises a `KeyError` exception, `door.__class__.__dict__['colour']`"
   ]
  },
  {
   "cell_type": "code",
   "execution_count": 5,
   "metadata": {},
   "outputs": [
    {
     "data": {
      "text/plain": [
       "'white'"
      ]
     },
     "execution_count": 5,
     "metadata": {},
     "output_type": "execute_result"
    }
   ],
   "source": [
    "door.color = 'blue'\n",
    "\n",
    "Door.color"
   ]
  },
  {
   "cell_type": "code",
   "execution_count": 6,
   "metadata": {},
   "outputs": [
    {
     "data": {
      "text/plain": [
       "'blue'"
      ]
     },
     "execution_count": 6,
     "metadata": {},
     "output_type": "execute_result"
    }
   ],
   "source": [
    "door.color"
   ]
  },
  {
   "cell_type": "code",
   "execution_count": 7,
   "metadata": {},
   "outputs": [
    {
     "data": {
      "text/plain": [
       "{'color': 'blue', 'number': 1}"
      ]
     },
     "execution_count": 7,
     "metadata": {},
     "output_type": "execute_result"
    }
   ],
   "source": [
    "door.__dict__"
   ]
  },
  {
   "cell_type": "code",
   "execution_count": 8,
   "metadata": {},
   "outputs": [
    {
     "data": {
      "text/plain": [
       "'grey'"
      ]
     },
     "execution_count": 8,
     "metadata": {},
     "output_type": "execute_result"
    }
   ],
   "source": [
    "door.__dict__['color'] = 'grey'\n",
    "door.color"
   ]
  },
  {
   "cell_type": "code",
   "execution_count": 9,
   "metadata": {},
   "outputs": [
    {
     "data": {
      "text/plain": [
       "'white'"
      ]
     },
     "execution_count": 9,
     "metadata": {},
     "output_type": "execute_result"
    }
   ],
   "source": [
    "Door.color"
   ]
  },
  {
   "cell_type": "code",
   "execution_count": 10,
   "metadata": {},
   "outputs": [
    {
     "data": {
      "text/plain": [
       "'grey'"
      ]
     },
     "execution_count": 10,
     "metadata": {},
     "output_type": "execute_result"
    }
   ],
   "source": [
    "door.__getattribute__('color')"
   ]
  },
  {
   "cell_type": "markdown",
   "metadata": {},
   "source": [
    "When we try to assign a value to a class attribute directly on an instance, we just put in the `__dict__` of the instance a value with that name, and this value masks the class attribute since it is found first by `__getattribute__()`. As you can see from the examples of the previous section, this is different from changing the value of the attribute on the class itself.\n"
   ]
  },
  {
   "cell_type": "code",
   "execution_count": 11,
   "metadata": {
    "collapsed": true
   },
   "outputs": [],
   "source": [
    "class Door:\n",
    "    colour = 'brown'\n",
    "\n",
    "    def __init__(self, number, status):\n",
    "        self.number = number\n",
    "        self.status = status\n",
    "        \n",
    "    def open(self):\n",
    "        self.status = 'open'"
   ]
  },
  {
   "cell_type": "code",
   "execution_count": 12,
   "metadata": {},
   "outputs": [
    {
     "data": {
      "text/plain": [
       "mappingproxy({'__dict__': <attribute '__dict__' of 'Door' objects>,\n",
       "              '__doc__': None,\n",
       "              '__init__': <function __main__.Door.__init__>,\n",
       "              '__module__': '__main__',\n",
       "              '__weakref__': <attribute '__weakref__' of 'Door' objects>,\n",
       "              'colour': 'brown',\n",
       "              'open': <function __main__.Door.open>})"
      ]
     },
     "execution_count": 12,
     "metadata": {},
     "output_type": "execute_result"
    }
   ],
   "source": [
    "Door.__dict__"
   ]
  },
  {
   "cell_type": "code",
   "execution_count": 13,
   "metadata": {},
   "outputs": [
    {
     "data": {
      "text/plain": [
       "{'number': 1, 'status': 'closed'}"
      ]
     },
     "execution_count": 13,
     "metadata": {},
     "output_type": "execute_result"
    }
   ],
   "source": [
    "door = Door(1,'closed')\n",
    "door.__dict__"
   ]
  },
  {
   "cell_type": "markdown",
   "metadata": {},
   "source": [
    "Just like class attributes, methods are listed in class `__dict__` but not in instance `__dict__`, so we might guess that they can be accessed like attributes."
   ]
  },
  {
   "cell_type": "code",
   "execution_count": 14,
   "metadata": {},
   "outputs": [
    {
     "data": {
      "text/plain": [
       "False"
      ]
     },
     "execution_count": 14,
     "metadata": {},
     "output_type": "execute_result"
    }
   ],
   "source": [
    "Door.open is door.open"
   ]
  },
  {
   "cell_type": "markdown",
   "metadata": {},
   "source": [
    "Well, that wasn't the case. Let's investigate further -"
   ]
  },
  {
   "cell_type": "code",
   "execution_count": 15,
   "metadata": {},
   "outputs": [
    {
     "data": {
      "text/plain": [
       "<function __main__.Door.open>"
      ]
     },
     "execution_count": 15,
     "metadata": {},
     "output_type": "execute_result"
    }
   ],
   "source": [
    "Door.open"
   ]
  },
  {
   "cell_type": "code",
   "execution_count": 16,
   "metadata": {},
   "outputs": [
    {
     "data": {
      "text/plain": [
       "<bound method Door.open of <__main__.Door object at 0x03666790>>"
      ]
     },
     "execution_count": 16,
     "metadata": {},
     "output_type": "execute_result"
    }
   ],
   "source": [
    "door.open"
   ]
  },
  {
   "cell_type": "markdown",
   "metadata": {},
   "source": [
    "So, the class method is listed in the members dictionary as function. So far, so good. Taking it from the instance returns a bound method.\n",
    "\n",
    "A function is a procedure you named and defined with the `def` statement. When you refer to a function as part of a class in Python 3 you get a plain function, without any difference from a function defined outside a class.\n",
    "\n",
    "When you get the function from an instance, however, it becomes a bound method. The name method simply means \"a function inside an object\", according to the usual OOP definitions, while bound signals that the method is linked to that instance. Why does Python bother with methods being bound or not? And how does Python transform a function into a bound method?\n",
    "\n",
    "First of all, if you try to call a class function you get an error:"
   ]
  },
  {
   "cell_type": "code",
   "execution_count": 17,
   "metadata": {},
   "outputs": [
    {
     "name": "stdout",
     "output_type": "stream",
     "text": [
      "open() missing 1 required positional argument: 'self'\n"
     ]
    }
   ],
   "source": [
    "try:\n",
    "    Door.open()\n",
    "except TypeError as e:\n",
    "    print(e)"
   ]
  },
  {
   "cell_type": "markdown",
   "metadata": {},
   "source": [
    "Yes. Indeed the function was defined to require an argument called 'self', and calling it without an argument raises an exception. This perhaps means that we can give it one instance of the class and make it work\n"
   ]
  },
  {
   "cell_type": "code",
   "execution_count": 18,
   "metadata": {
    "collapsed": true
   },
   "outputs": [],
   "source": [
    "Door.open(door)"
   ]
  },
  {
   "cell_type": "code",
   "execution_count": 19,
   "metadata": {},
   "outputs": [
    {
     "data": {
      "text/plain": [
       "'open'"
      ]
     },
     "execution_count": 19,
     "metadata": {},
     "output_type": "execute_result"
    }
   ],
   "source": [
    "door.status"
   ]
  },
  {
   "cell_type": "markdown",
   "metadata": {},
   "source": [
    "Python does not complain here, and the method works as expected. So `Door.open(door)` is the same as `door.open()`, and this is the difference between a plain function coming from a class an a bound method: the bound method automatically passes the instance as an argument to the function.\n",
    "\n",
    "Again, under the hood, `__getattribute__()` is working to make everything work and when we call `door.open()`, Python actually calls `door.__class__.open(door)`. However, `door.__class__.open` is a plain function, so there is something more that converts it into a bound method that Python can safely call.\n",
    "\n",
    "When you access a member of an object, Python calls `__getattribute__()` to satisfy the request. This magic method, however, conforms to a procedure known as descriptor protocol. For the read access `__getattribute__()` checks if the object has a `__get__()` method and calls this latter. So the converstion of a function into a bound method happens through such a mechanism. Let us review it by means of an example.\n"
   ]
  },
  {
   "cell_type": "code",
   "execution_count": 20,
   "metadata": {},
   "outputs": [
    {
     "data": {
      "text/plain": [
       "['__annotations__',\n",
       " '__call__',\n",
       " '__class__',\n",
       " '__closure__',\n",
       " '__code__',\n",
       " '__defaults__',\n",
       " '__delattr__',\n",
       " '__dict__',\n",
       " '__dir__',\n",
       " '__doc__',\n",
       " '__eq__',\n",
       " '__format__',\n",
       " '__ge__',\n",
       " '__get__',\n",
       " '__getattribute__',\n",
       " '__globals__',\n",
       " '__gt__',\n",
       " '__hash__',\n",
       " '__init__',\n",
       " '__init_subclass__',\n",
       " '__kwdefaults__',\n",
       " '__le__',\n",
       " '__lt__',\n",
       " '__module__',\n",
       " '__name__',\n",
       " '__ne__',\n",
       " '__new__',\n",
       " '__qualname__',\n",
       " '__reduce__',\n",
       " '__reduce_ex__',\n",
       " '__repr__',\n",
       " '__setattr__',\n",
       " '__sizeof__',\n",
       " '__str__',\n",
       " '__subclasshook__']"
      ]
     },
     "execution_count": 20,
     "metadata": {},
     "output_type": "execute_result"
    }
   ],
   "source": [
    "dir(door.__class__.__dict__['open'])"
   ]
  },
  {
   "cell_type": "code",
   "execution_count": 22,
   "metadata": {},
   "outputs": [
    {
     "data": {
      "text/plain": [
       "<method-wrapper '__get__' of function object at 0x036566A8>"
      ]
     },
     "execution_count": 22,
     "metadata": {},
     "output_type": "execute_result"
    }
   ],
   "source": [
    "door.__class__.__dict__['open'].__get__"
   ]
  },
  {
   "cell_type": "code",
   "execution_count": 24,
   "metadata": {},
   "outputs": [
    {
     "data": {
      "text/plain": [
       "<bound method Door.open of <__main__.Door object at 0x03666790>>"
      ]
     },
     "execution_count": 24,
     "metadata": {},
     "output_type": "execute_result"
    }
   ],
   "source": [
    "door.__class__.__dict__['open'].__get__(door)"
   ]
  },
  {
   "cell_type": "markdown",
   "metadata": {},
   "source": [
    "and we get exactly what we were looking for. This complex syntax is what happens behind the scenes when we call a method of an instance."
   ]
  },
  {
   "cell_type": "code",
   "execution_count": 26,
   "metadata": {},
   "outputs": [
    {
     "data": {
      "text/plain": [
       "(method, function)"
      ]
     },
     "execution_count": 26,
     "metadata": {},
     "output_type": "execute_result"
    }
   ],
   "source": [
    "type(door.open), type(Door.open)"
   ]
  },
  {
   "cell_type": "markdown",
   "metadata": {},
   "source": [
    "As you can see, Python tells the two apart recognizing the first as a function and the second as a method, where the second is a function bound to an instance.\n",
    "\n",
    "What if we want to define a function that operates on the class instead of operating on the instance? As we may define class attributes, we may also define class methods in Python, through the *classmethod decorator*. Class methods are functions that are bound to the class and not to an instance."
   ]
  },
  {
   "cell_type": "code",
   "execution_count": 27,
   "metadata": {
    "collapsed": true
   },
   "outputs": [],
   "source": [
    "class Door:\n",
    "    colour = 'brown'\n",
    "\n",
    "    def __init__(self, number, status):\n",
    "        self.number = number\n",
    "        self.status = status\n",
    "\n",
    "    @classmethod\n",
    "    def knock(cls):\n",
    "        print(\"Knock!\")\n",
    "\n",
    "    def open(self):\n",
    "        self.status = 'open'\n",
    "        \n",
    "    def close(self):\n",
    "        self.status = 'closed'"
   ]
  },
  {
   "cell_type": "markdown",
   "metadata": {},
   "source": [
    "Such a definition makes the method callable on both the instance and the class"
   ]
  },
  {
   "cell_type": "code",
   "execution_count": 28,
   "metadata": {},
   "outputs": [
    {
     "name": "stdout",
     "output_type": "stream",
     "text": [
      "Knock!\n"
     ]
    }
   ],
   "source": [
    "door = Door(1, 'closed')\n",
    "door.knock()"
   ]
  },
  {
   "cell_type": "code",
   "execution_count": 29,
   "metadata": {},
   "outputs": [
    {
     "name": "stdout",
     "output_type": "stream",
     "text": [
      "Knock!\n"
     ]
    }
   ],
   "source": [
    "Door.knock()"
   ]
  },
  {
   "cell_type": "code",
   "execution_count": 30,
   "metadata": {},
   "outputs": [
    {
     "data": {
      "text/plain": [
       "(method, method)"
      ]
     },
     "execution_count": 30,
     "metadata": {},
     "output_type": "execute_result"
    }
   ],
   "source": [
    "type(door.knock), type(Door.knock)"
   ]
  },
  {
   "cell_type": "markdown",
   "metadata": {},
   "source": [
    "Python identifies both as bound methods -"
   ]
  },
  {
   "cell_type": "code",
   "execution_count": 31,
   "metadata": {
    "scrolled": true
   },
   "outputs": [
    {
     "data": {
      "text/plain": [
       "(<bound method Door.knock of <class '__main__.Door'>>,\n",
       " <bound method Door.knock of <class '__main__.Door'>>)"
      ]
     },
     "execution_count": 31,
     "metadata": {},
     "output_type": "execute_result"
    }
   ],
   "source": [
    "door.knock, Door.knock"
   ]
  },
  {
   "cell_type": "code",
   "execution_count": 32,
   "metadata": {},
   "outputs": [
    {
     "data": {
      "text/plain": [
       "<classmethod at 0x367f4f0>"
      ]
     },
     "execution_count": 32,
     "metadata": {},
     "output_type": "execute_result"
    }
   ],
   "source": [
    "door.__class__.__dict__['knock']"
   ]
  },
  {
   "cell_type": "markdown",
   "metadata": {},
   "source": [
    "As you can see the `knock()` function accepts one argument, which is called `cls` just to remember that it is not an instance but the class itself. This means that inside the function we can operate on the class, and the class is shared among instances."
   ]
  },
  {
   "cell_type": "code",
   "execution_count": 33,
   "metadata": {
    "collapsed": true
   },
   "outputs": [],
   "source": [
    "class Door:\n",
    "    colour = 'brown'\n",
    "\n",
    "    def __init__(self, number, status):\n",
    "        self.number = number\n",
    "        self.status = status\n",
    "\n",
    "    @classmethod\n",
    "    def knock(cls):\n",
    "        print(\"Knock!\")\n",
    "\n",
    "    @classmethod\n",
    "    def paint(cls, colour):\n",
    "        cls.colour = colour\n",
    "\n",
    "    def open(self):\n",
    "        self.status = 'open'\n",
    "        \n",
    "    def close(self):\n",
    "        self.status = 'closed'"
   ]
  },
  {
   "cell_type": "code",
   "execution_count": 34,
   "metadata": {
    "collapsed": true
   },
   "outputs": [],
   "source": [
    "door = Door(1, 'closed')"
   ]
  },
  {
   "cell_type": "code",
   "execution_count": 35,
   "metadata": {},
   "outputs": [
    {
     "data": {
      "text/plain": [
       "('brown', 'brown')"
      ]
     },
     "execution_count": 35,
     "metadata": {},
     "output_type": "execute_result"
    }
   ],
   "source": [
    "Door.colour, door.colour"
   ]
  },
  {
   "cell_type": "code",
   "execution_count": 36,
   "metadata": {},
   "outputs": [
    {
     "data": {
      "text/plain": [
       "('white', 'white')"
      ]
     },
     "execution_count": 36,
     "metadata": {},
     "output_type": "execute_result"
    }
   ],
   "source": [
    "Door.paint('white')           #class method applied on class\n",
    "Door.colour, door.colour      #both class and instance will be affected"
   ]
  },
  {
   "cell_type": "code",
   "execution_count": 38,
   "metadata": {},
   "outputs": [
    {
     "data": {
      "text/plain": [
       "('blue', 'blue')"
      ]
     },
     "execution_count": 38,
     "metadata": {},
     "output_type": "execute_result"
    }
   ],
   "source": [
    "door.paint('blue')            #class method applied to instance\n",
    "Door.colour, door.colour      #both class and instance will be affected"
   ]
  },
  {
   "cell_type": "markdown",
   "metadata": {},
   "source": [
    "The class method can be called on the class, but this affects both the class and the instances, since the colour attribute of instances is taken at runtime from the shared class.\n",
    "\n",
    "Class methods can be called on instances too, however, and their effect is the same as before. The class method is bound to the class, so it works on this latter regardless of the actual object that calls it (class or instance)."
   ]
  },
  {
   "cell_type": "markdown",
   "metadata": {},
   "source": [
    "#### Delegation, Composition and Inheritance"
   ]
  },
  {
   "cell_type": "code",
   "execution_count": 39,
   "metadata": {
    "collapsed": true
   },
   "outputs": [],
   "source": [
    "class Door:\n",
    "    colour = 'brown'\n",
    "\n",
    "    def __init__(self, number, status):\n",
    "        self.number = number\n",
    "        self.status = status\n",
    "\n",
    "    @classmethod\n",
    "    def knock(cls):\n",
    "        print(\"Knock!\")\n",
    "\n",
    "    @classmethod\n",
    "    def paint(cls, colour):\n",
    "        cls.colour = colour\n",
    "\n",
    "    def open(self):\n",
    "        self.status = 'open'\n",
    "        \n",
    "    def close(self):\n",
    "        self.status = 'closed'\n",
    "        \n",
    "class SecurityDoor(Door):\n",
    "    pass"
   ]
  },
  {
   "cell_type": "code",
   "execution_count": 40,
   "metadata": {
    "collapsed": true
   },
   "outputs": [],
   "source": [
    "sdoor = SecurityDoor(1,'closed')"
   ]
  },
  {
   "cell_type": "code",
   "execution_count": 41,
   "metadata": {},
   "outputs": [
    {
     "data": {
      "text/plain": [
       "True"
      ]
     },
     "execution_count": 41,
     "metadata": {},
     "output_type": "execute_result"
    }
   ],
   "source": [
    "SecurityDoor.colour is Door.colour"
   ]
  },
  {
   "cell_type": "code",
   "execution_count": 42,
   "metadata": {},
   "outputs": [
    {
     "data": {
      "text/plain": [
       "True"
      ]
     },
     "execution_count": 42,
     "metadata": {},
     "output_type": "execute_result"
    }
   ],
   "source": [
    "sdoor.colour is Door.colour"
   ]
  },
  {
   "cell_type": "code",
   "execution_count": 43,
   "metadata": {},
   "outputs": [
    {
     "data": {
      "text/plain": [
       "{'number': 1, 'status': 'closed'}"
      ]
     },
     "execution_count": 43,
     "metadata": {},
     "output_type": "execute_result"
    }
   ],
   "source": [
    "sdoor.__dict__"
   ]
  },
  {
   "cell_type": "code",
   "execution_count": 44,
   "metadata": {},
   "outputs": [
    {
     "data": {
      "text/plain": [
       "mappingproxy({'__doc__': None, '__module__': '__main__'})"
      ]
     },
     "execution_count": 44,
     "metadata": {},
     "output_type": "execute_result"
    }
   ],
   "source": [
    "sdoor.__class__.__dict__"
   ]
  },
  {
   "cell_type": "code",
   "execution_count": 45,
   "metadata": {},
   "outputs": [
    {
     "data": {
      "text/plain": [
       "mappingproxy({'__dict__': <attribute '__dict__' of 'Door' objects>,\n",
       "              '__doc__': None,\n",
       "              '__init__': <function __main__.Door.__init__>,\n",
       "              '__module__': '__main__',\n",
       "              '__weakref__': <attribute '__weakref__' of 'Door' objects>,\n",
       "              'close': <function __main__.Door.close>,\n",
       "              'colour': 'brown',\n",
       "              'knock': <classmethod at 0x3666510>,\n",
       "              'open': <function __main__.Door.open>,\n",
       "              'paint': <classmethod at 0x3666b30>})"
      ]
     },
     "execution_count": 45,
     "metadata": {},
     "output_type": "execute_result"
    }
   ],
   "source": [
    "Door.__dict__"
   ]
  },
  {
   "cell_type": "markdown",
   "metadata": {},
   "source": [
    "As you can see the content of `__dict__` for `SecurityDoor` is very narrow compared to that of `Door`. The inheritance mechanism takes care of the missing elements by climbing up the classes tree. Where does Python get the parent classes? **A class always contains a `__bases__` tuple that lists them**"
   ]
  },
  {
   "cell_type": "code",
   "execution_count": 46,
   "metadata": {},
   "outputs": [
    {
     "data": {
      "text/plain": [
       "(__main__.Door,)"
      ]
     },
     "execution_count": 46,
     "metadata": {},
     "output_type": "execute_result"
    }
   ],
   "source": [
    "SecurityDoor.__bases__"
   ]
  },
  {
   "cell_type": "markdown",
   "metadata": {},
   "source": [
    "So an example of what Python does to resolve a class method call through the inheritance tree is"
   ]
  },
  {
   "cell_type": "code",
   "execution_count": 47,
   "metadata": {},
   "outputs": [
    {
     "data": {
      "text/plain": [
       "<bound method Door.knock of <class '__main__.SecurityDoor'>>"
      ]
     },
     "execution_count": 47,
     "metadata": {},
     "output_type": "execute_result"
    }
   ],
   "source": [
    "sdoor.__class__.__bases__[0].__dict__['knock'].__get__(sdoor)"
   ]
  },
  {
   "cell_type": "code",
   "execution_count": 48,
   "metadata": {},
   "outputs": [
    {
     "data": {
      "text/plain": [
       "<bound method Door.knock of <class '__main__.SecurityDoor'>>"
      ]
     },
     "execution_count": 48,
     "metadata": {},
     "output_type": "execute_result"
    }
   ],
   "source": [
    "sdoor.knock"
   ]
  },
  {
   "cell_type": "markdown",
   "metadata": {},
   "source": [
    "Let us try now to override some methods and attributes. In Python you can override (redefine) a parent class member simply by redefining it in the child class."
   ]
  },
  {
   "cell_type": "code",
   "execution_count": 49,
   "metadata": {
    "collapsed": true
   },
   "outputs": [],
   "source": [
    "class SecurityDoor(Door):\n",
    "    colour = 'gray'\n",
    "    locked = True\n",
    "    \n",
    "    def open(self):\n",
    "        if not self.locked:\n",
    "            self.status = 'open'"
   ]
  },
  {
   "cell_type": "code",
   "execution_count": 50,
   "metadata": {},
   "outputs": [
    {
     "data": {
      "text/plain": [
       "mappingproxy({'__doc__': None,\n",
       "              '__module__': '__main__',\n",
       "              'colour': 'gray',\n",
       "              'locked': True,\n",
       "              'open': <function __main__.SecurityDoor.open>})"
      ]
     },
     "execution_count": 50,
     "metadata": {},
     "output_type": "execute_result"
    }
   ],
   "source": [
    "SecurityDoor.__dict__"
   ]
  },
  {
   "cell_type": "markdown",
   "metadata": {},
   "source": [
    "So when you override a member, the one you put in the child class is used instead of the one in the parent class simply because the former is found before the latter while climbing the class hierarchy. This also shows you that Python does not implicitly call the parent implementation when you override a method. So, overriding is a way to block implicit delegation.\n",
    "\n",
    "If we want to call the parent implementation we have to do it explicitly. In the former example we could write\n"
   ]
  },
  {
   "cell_type": "code",
   "execution_count": 51,
   "metadata": {
    "collapsed": true
   },
   "outputs": [],
   "source": [
    "class SecurityDoor(Door):\n",
    "    colour = 'gray'\n",
    "    locked = True\n",
    "    \n",
    "    def open(self):\n",
    "        if self.locked:\n",
    "            return\n",
    "        Door.open(self)"
   ]
  },
  {
   "cell_type": "code",
   "execution_count": 52,
   "metadata": {},
   "outputs": [
    {
     "data": {
      "text/plain": [
       "'closed'"
      ]
     },
     "execution_count": 52,
     "metadata": {},
     "output_type": "execute_result"
    }
   ],
   "source": [
    "sdoor = SecurityDoor(1,'closed')\n",
    "sdoor.status"
   ]
  },
  {
   "cell_type": "code",
   "execution_count": 53,
   "metadata": {},
   "outputs": [
    {
     "data": {
      "text/plain": [
       "'closed'"
      ]
     },
     "execution_count": 53,
     "metadata": {},
     "output_type": "execute_result"
    }
   ],
   "source": [
    "sdoor.open()\n",
    "sdoor.status"
   ]
  },
  {
   "cell_type": "code",
   "execution_count": 54,
   "metadata": {},
   "outputs": [
    {
     "data": {
      "text/plain": [
       "'open'"
      ]
     },
     "execution_count": 54,
     "metadata": {},
     "output_type": "execute_result"
    }
   ],
   "source": [
    "sdoor.locked = False\n",
    "sdoor.open()\n",
    "sdoor.status"
   ]
  },
  {
   "cell_type": "markdown",
   "metadata": {},
   "source": [
    "This form of explicit parent delegation is heavily discouraged, however.\n",
    "\n",
    "The first reason is because of the very high coupling that results from explicitly naming the parent class again when calling the method. Coupling, in the computer science lingo, means to link two parts of a system, so that changes in one of them directly affect the other one, and is usually avoided as much as possible. In this case if you decide to use a new parent class you have to manually propagate the change to every method that calls it. Moreover, since in Python the class hierarchy can be dynamically changed (i.e. at runtime), this form of explicit delegation could be not only annoying but also wrong.\n",
    "\n",
    "The second reason is that in general you need to deal with multiple inheritance, where you do not know a priori which parent class implements the original form of the method you are overriding.\n",
    "\n",
    "To solve these issues, Python supplies the `super()` built-in function, that climbs the class hierarchy and returns the correct class that shall be called. The syntax for calling `super()` is\n"
   ]
  },
  {
   "cell_type": "code",
   "execution_count": 55,
   "metadata": {
    "collapsed": true
   },
   "outputs": [],
   "source": [
    "class SecurityDoor(Door):\n",
    "    colour = 'gray'\n",
    "    locked = True\n",
    "    \n",
    "    def open(self):\n",
    "        if self.locked:\n",
    "            return\n",
    "        super().open()"
   ]
  },
  {
   "cell_type": "markdown",
   "metadata": {},
   "source": [
    "The output of `super()` is not exactly the `Door` class. It returns a `super`. More on `super()` has been discussed in a separate notebook."
   ]
  },
  {
   "cell_type": "markdown",
   "metadata": {},
   "source": [
    "##### Composition\n",
    "\n",
    "Composition means that an object knows another object, and explicitly delegates some tasks to it. While inheritance is implicit, composition is explicit.\n",
    "\n",
    "First of all let us implement classic composition, which simply makes an object part of the other as an attribute"
   ]
  },
  {
   "cell_type": "code",
   "execution_count": 56,
   "metadata": {
    "collapsed": true
   },
   "outputs": [],
   "source": [
    "class SecurityDoor:\n",
    "    colour = 'gray'\n",
    "    locked = True\n",
    "    \n",
    "    def __init__(self, number, status):\n",
    "        self.door = Door(number, status)  #take note of this\n",
    "        \n",
    "    def open(self):\n",
    "        if self.locked:\n",
    "            return\n",
    "        self.door.open()\n",
    "        \n",
    "    def close(self):\n",
    "        self.door.close()"
   ]
  },
  {
   "cell_type": "markdown",
   "metadata": {},
   "source": [
    "The primary goal of composition is to relax the coupling between objects. This little example shows that now `SecurityDoor` is an `object` and no more a `Door`, which means that the internal structure of `Door` is not copied. For this very simple example both `Door` and `SecurityDoor` are not big classes, but in a real system objects can very complex; this means that their allocation consumes a lot of memory and if a system contains thousands or millions of objects that could be an issue.\n",
    "\n",
    "The composed `SecurityDoor` has to redefine the `colour` attribute since the concept of delegation applies only to methods and not to attributes, doesn't it?\n",
    "\n",
    "Well, no. Python provides a very high degree of indirection for objects manipulation and attribute access is one of the most useful. As you already discovered, accessing attributes is ruled by a special method called `__getattribute__()` that is called whenever an attribute of the object is accessed. Overriding `__getattribute__()`, however, is overkill; it is a very complex method, and, being called on every attribute access, any change makes the whole thing slower.\n",
    "\n",
    "The method we have to leverage to delegate attribute access is `__getattr__()`, which is a special method that is called whenever the requested attribute is not found in the object. So basically it is the right place to dispatch all attribute and method access our object cannot handle. The previous example becomes"
   ]
  },
  {
   "cell_type": "code",
   "execution_count": 57,
   "metadata": {
    "collapsed": true
   },
   "outputs": [],
   "source": [
    "class SecurityDoor:\n",
    "    locked = True\n",
    "    \n",
    "    def __init__(self, number, status):\n",
    "        self.door = Door(number, status)\n",
    "        \n",
    "    def open(self):\n",
    "        if self.locked:\n",
    "            return\n",
    "        self.door.open()\n",
    "        \n",
    "    def __getattr__(self, attr):\n",
    "        return getattr(self.door, attr)"
   ]
  },
  {
   "cell_type": "markdown",
   "metadata": {},
   "source": [
    "Using `__getattr__()` blends the separation line between inheritance and composition since after all the former is a form of automatic delegation of every member access."
   ]
  },
  {
   "cell_type": "code",
   "execution_count": 58,
   "metadata": {
    "collapsed": true
   },
   "outputs": [],
   "source": [
    "class ComposedDoor:\n",
    "    def __init__(self, number, status):\n",
    "        self.door = Door(number, status)\n",
    "        \n",
    "    def __getattr__(self, attr):\n",
    "        return getattr(self.door, attr)"
   ]
  },
  {
   "cell_type": "markdown",
   "metadata": {},
   "source": [
    "As this last example shows, delegating every member access through `__getattr__()` is very simple. Pay attention to `getattr()` which is different from `__getattr__()`. The former is a built-in that is equivalent to the dotted syntax, i.e. `getattr(obj, 'someattr')` is the same as `obj.someattr`, but you have to use it since the name of the attribute is contained in a string.\n",
    "\n",
    "Composition provides a superior way to manage delegation since it can selectively delegate the access, even mask some attributes or methods, while inheritance cannot. In Python you also avoid the memory problems that might arise when you put many objects inside another; Python handles everything through its reference, i.e. through a pointer to the memory position of the thing, so the size of an attribute is constant and very limited."
   ]
  },
  {
   "cell_type": "markdown",
   "metadata": {},
   "source": [
    "#### Polymorphism"
   ]
  },
  {
   "cell_type": "code",
   "execution_count": 59,
   "metadata": {
    "collapsed": true
   },
   "outputs": [],
   "source": [
    "class Room:\n",
    "    def __init__(self, door):\n",
    "        self.door = door\n",
    "        \n",
    "    def open(self):\n",
    "        self.door.open() #this part was tricky for me. Here `door` is instance of another class\n",
    "\n",
    "    def close(self):\n",
    "        self.door.close()\n",
    "\n",
    "    def is_open(self):\n",
    "        return self.door.is_open()"
   ]
  },
  {
   "cell_type": "markdown",
   "metadata": {},
   "source": [
    "A very simple class, as you can see, just enough to exemplify polymorphism. The `Room` class accepts a `door` variable, and the type of this variable is not specified. Duck typing in action: the actual type of `door` is not declared, there is no \"acceptance test\" built in the language. Indeed, the incoming variable shall export the following methods that are used in the `Room` class: `open(), close(), is_open()`. So we can build the following classes\n"
   ]
  },
  {
   "cell_type": "code",
   "execution_count": 61,
   "metadata": {},
   "outputs": [],
   "source": [
    "class Door:\n",
    "    def __init__(self):\n",
    "        self.status = \"closed\"\n",
    "\n",
    "    def open(self):\n",
    "        self.status = \"open\"\n",
    "\n",
    "    def close(self):\n",
    "        self.status = \"closed\"\n",
    "\n",
    "    def is_open(self):\n",
    "        return self.status == \"open\"\n",
    "\n",
    "\n",
    "class BooleanDoor:\n",
    "    def __init__(self):\n",
    "        self.status = True\n",
    "\n",
    "    def open(self):\n",
    "        self.status = True\n",
    "\n",
    "    def close(self):\n",
    "        self.status = False\n",
    "\n",
    "    def is_open(self):\n",
    "        return self.status"
   ]
  },
  {
   "cell_type": "markdown",
   "metadata": {},
   "source": [
    "Both represent a door that can be open or closed, and they implement the concept in two different ways: the first class relies on strings, while the second leverages booleans. Despite _being_ two different types, both _act_ the same way, so both can be used to build a `Room` object."
   ]
  },
  {
   "cell_type": "code",
   "execution_count": 62,
   "metadata": {
    "collapsed": true
   },
   "outputs": [],
   "source": [
    "door = Door()\n",
    "bool_door = BooleanDoor()\n",
    "room = Room(door)\n",
    "bool_room = Room(bool_door)"
   ]
  },
  {
   "cell_type": "code",
   "execution_count": 63,
   "metadata": {},
   "outputs": [
    {
     "name": "stdout",
     "output_type": "stream",
     "text": [
      "True\n"
     ]
    }
   ],
   "source": [
    "room.open()\n",
    "print(room.is_open())"
   ]
  },
  {
   "cell_type": "code",
   "execution_count": 64,
   "metadata": {},
   "outputs": [
    {
     "name": "stdout",
     "output_type": "stream",
     "text": [
      "False\n"
     ]
    }
   ],
   "source": [
    "room.close()\n",
    "print(room.is_open())"
   ]
  },
  {
   "cell_type": "code",
   "execution_count": 65,
   "metadata": {},
   "outputs": [
    {
     "name": "stdout",
     "output_type": "stream",
     "text": [
      "True\n"
     ]
    }
   ],
   "source": [
    "bool_room.open()\n",
    "print(bool_room.is_open())"
   ]
  },
  {
   "cell_type": "code",
   "execution_count": 66,
   "metadata": {},
   "outputs": [
    {
     "name": "stdout",
     "output_type": "stream",
     "text": [
      "False\n"
     ]
    }
   ],
   "source": [
    "bool_room.close()\n",
    "print(bool_room.is_open())"
   ]
  },
  {
   "cell_type": "markdown",
   "metadata": {},
   "source": [
    "The following code is helpful in understanding the above examples under Polymorphism. "
   ]
  },
  {
   "cell_type": "code",
   "execution_count": 73,
   "metadata": {},
   "outputs": [
    {
     "name": "stdout",
     "output_type": "stream",
     "text": [
      "Hi\n"
     ]
    }
   ],
   "source": [
    "class Foo:\n",
    "    def __init__(self, door):\n",
    "        self.door = door\n",
    "        \n",
    "    def test(self):\n",
    "        return self.door.bar()\n",
    "    \n",
    "class Baz:\n",
    "    def bar(self):\n",
    "        print('Hi')\n",
    "        \n",
    "        \n",
    "baz = Baz()\n",
    "foo = Foo(baz)\n",
    "foo.test()        "
   ]
  },
  {
   "cell_type": "code",
   "execution_count": 4,
   "metadata": {
    "scrolled": true
   },
   "outputs": [
    {
     "name": "stdout",
     "output_type": "stream",
     "text": [
      "<__main__.Test object at 0x03112E10>\n"
     ]
    },
    {
     "ename": "TypeError",
     "evalue": "__init__() should return None, not 'int'",
     "output_type": "error",
     "traceback": [
      "\u001b[1;31m---------------------------------------------------------------------------\u001b[0m",
      "\u001b[1;31mTypeError\u001b[0m                                 Traceback (most recent call last)",
      "\u001b[1;32m<ipython-input-4-0302899a2f81>\u001b[0m in \u001b[0;36m<module>\u001b[1;34m\u001b[0m\n\u001b[0;32m      4\u001b[0m         \u001b[1;32mreturn\u001b[0m \u001b[1;36m1\u001b[0m\u001b[1;33m\u001b[0m\u001b[0m\n\u001b[0;32m      5\u001b[0m \u001b[1;33m\u001b[0m\u001b[0m\n\u001b[1;32m----> 6\u001b[1;33m \u001b[0mtest\u001b[0m \u001b[1;33m=\u001b[0m \u001b[0mTest\u001b[0m\u001b[1;33m(\u001b[0m\u001b[1;33m)\u001b[0m\u001b[1;33m\u001b[0m\u001b[0m\n\u001b[0m",
      "\u001b[1;31mTypeError\u001b[0m: __init__() should return None, not 'int'"
     ]
    }
   ],
   "source": [
    "class Test:\n",
    "    def __init__(self):\n",
    "        print(self)\n",
    "        return 1\n",
    "    \n",
    "test = Test()    "
   ]
  },
  {
   "cell_type": "code",
   "execution_count": 5,
   "metadata": {},
   "outputs": [
    {
     "data": {
      "text/plain": [
       "<__main__.Test at 0x3112d50>"
      ]
     },
     "execution_count": 5,
     "metadata": {},
     "output_type": "execute_result"
    }
   ],
   "source": [
    "test"
   ]
  },
  {
   "cell_type": "code",
   "execution_count": 6,
   "metadata": {},
   "outputs": [
    {
     "name": "stdout",
     "output_type": "stream",
     "text": [
      "<__main__.Test object at 0x031ED1D0>\n"
     ]
    }
   ],
   "source": [
    "class Test:\n",
    "    def __init__(self):\n",
    "        print(self)\n",
    "    \n",
    "test = Test()    \n"
   ]
  },
  {
   "cell_type": "code",
   "execution_count": 7,
   "metadata": {},
   "outputs": [
    {
     "data": {
      "text/plain": [
       "<__main__.Test at 0x31ed1d0>"
      ]
     },
     "execution_count": 7,
     "metadata": {},
     "output_type": "execute_result"
    }
   ],
   "source": [
    "test"
   ]
  },
  {
   "cell_type": "code",
   "execution_count": 2,
   "metadata": {},
   "outputs": [
    {
     "name": "stdout",
     "output_type": "stream",
     "text": [
      "<class 'method'>\n",
      "<class 'function'>\n",
      "True\n"
     ]
    }
   ],
   "source": [
    "class Test:\n",
    "    def __init__(self, name):\n",
    "        self.name = name\n",
    "        \n",
    "    def setmethod(self, value):\n",
    "        self.value = value\n",
    "        \n",
    "test =  Test(\"Sam\")\n",
    "Test.setmethod(test, 3)\n",
    "\n",
    "print(type(test.setmethod))\n",
    "print(type(Test.setmethod))\n",
    "\n",
    "print(Test.setmethod(test, 3) == test.setmethod(3))"
   ]
  },
  {
   "cell_type": "code",
   "execution_count": 3,
   "metadata": {},
   "outputs": [
    {
     "name": "stdout",
     "output_type": "stream",
     "text": [
      "Mayank\n",
      "Hi Mayank\n"
     ]
    }
   ],
   "source": [
    "class Person:\n",
    "    def __init__(self, name):\n",
    "        self.name = name\n",
    "        print(self.name)\n",
    "        \n",
    "    def sayhello(self):\n",
    "        print(\"Hi\", self.name)\n",
    "        \n",
    "    def __del__(self):\n",
    "        print(\"bye\", self.name)\n",
    "        \n",
    "A = Person(\"Mayank\")\n",
    "\n",
    "A.sayhello()        \n",
    "        "
   ]
  },
  {
   "cell_type": "code",
   "execution_count": 4,
   "metadata": {},
   "outputs": [
    {
     "name": "stdout",
     "output_type": "stream",
     "text": [
      "bye Mayank\n"
     ]
    }
   ],
   "source": [
    "del A\n"
   ]
  },
  {
   "cell_type": "code",
   "execution_count": 5,
   "metadata": {},
   "outputs": [
    {
     "name": "stdout",
     "output_type": "stream",
     "text": [
      "123\n",
      "1234\n",
      "Hi\n",
      "None\n"
     ]
    }
   ],
   "source": [
    "class A:\n",
    "    i = 123\n",
    "    def __init__(self):\n",
    "        self.i = 1234\n",
    "        \n",
    "    def f(self):\n",
    "        print(\"Hi\")\n",
    "        \n",
    "print(A.i)\n",
    "print(A().i)\n",
    "print(A().f());"
   ]
  },
  {
   "cell_type": "markdown",
   "metadata": {},
   "source": [
    "As is clear from above example, `__init__` function always return `None`"
   ]
  },
  {
   "cell_type": "code",
   "execution_count": 6,
   "metadata": {},
   "outputs": [
    {
     "name": "stdout",
     "output_type": "stream",
     "text": [
      "<__main__.Test object at 0x031B3A50>\n",
      "x\n"
     ]
    }
   ],
   "source": [
    "class Test:\n",
    "    def __init__(self):\n",
    "        print(self)\n",
    "        print('x')\n",
    "\n",
    "test = Test()        "
   ]
  },
  {
   "cell_type": "markdown",
   "metadata": {},
   "source": [
    "`__init__` function is executed as soon as an instance of a class created."
   ]
  },
  {
   "cell_type": "code",
   "execution_count": 7,
   "metadata": {},
   "outputs": [
    {
     "name": "stdout",
     "output_type": "stream",
     "text": [
      "Test id is 52114128\n",
      "Test id is 52055504\n"
     ]
    },
    {
     "ename": "TypeError",
     "evalue": "unsupported operand type(s) for *: 'Test' and 'int'",
     "output_type": "error",
     "traceback": [
      "\u001b[1;31m---------------------------------------------------------------------------\u001b[0m",
      "\u001b[1;31mTypeError\u001b[0m                                 Traceback (most recent call last)",
      "\u001b[1;32m<ipython-input-7-0131042e1154>\u001b[0m in \u001b[0;36m<module>\u001b[1;34m\u001b[0m\n\u001b[0;32m      4\u001b[0m \u001b[1;33m\u001b[0m\u001b[0m\n\u001b[0;32m      5\u001b[0m \u001b[0mx\u001b[0m \u001b[1;33m=\u001b[0m \u001b[0mTest\u001b[0m\u001b[1;33m(\u001b[0m\u001b[1;33m)\u001b[0m\u001b[1;33m\u001b[0m\u001b[0m\n\u001b[1;32m----> 6\u001b[1;33m \u001b[0my\u001b[0m \u001b[1;33m=\u001b[0m \u001b[0mTest\u001b[0m\u001b[1;33m(\u001b[0m\u001b[1;33m)\u001b[0m\u001b[1;33m*\u001b[0m\u001b[1;36m10\u001b[0m\u001b[1;33m\u001b[0m\u001b[0m\n\u001b[0m",
      "\u001b[1;31mTypeError\u001b[0m: unsupported operand type(s) for *: 'Test' and 'int'"
     ]
    }
   ],
   "source": [
    "class Test:\n",
    "    def __init__(self):\n",
    "        print(\"Test id is %d\" %id(self)) \n",
    "        \n",
    "x = Test()\n",
    "y = Test()*10"
   ]
  },
  {
   "cell_type": "markdown",
   "metadata": {},
   "source": [
    "This program shows that object is instantiated before it is assigned to any variable. Line 1 runs fine. Line 2 produces `TypeError` because of wrong multiplication. Here instance was created (as shown by `id()` function) but its product with 10 produced error and nothing was assigned to `y`. Error happens only after instance is created and before instance is assigned a name 'y'. If this program is run interactively, `print(x)` command will run successfully but `print(y)` command will raise `NameError`. "
   ]
  },
  {
   "cell_type": "code",
   "execution_count": 8,
   "metadata": {},
   "outputs": [
    {
     "name": "stdout",
     "output_type": "stream",
     "text": [
      "<__main__.Test object at 0x031B32D0>\n"
     ]
    },
    {
     "ename": "NameError",
     "evalue": "name 'y' is not defined",
     "output_type": "error",
     "traceback": [
      "\u001b[1;31m---------------------------------------------------------------------------\u001b[0m",
      "\u001b[1;31mNameError\u001b[0m                                 Traceback (most recent call last)",
      "\u001b[1;32m<ipython-input-8-5fe5eafd380c>\u001b[0m in \u001b[0;36m<module>\u001b[1;34m\u001b[0m\n\u001b[0;32m      1\u001b[0m \u001b[0mprint\u001b[0m\u001b[1;33m(\u001b[0m\u001b[0mx\u001b[0m\u001b[1;33m)\u001b[0m\u001b[1;33m\u001b[0m\u001b[0m\n\u001b[1;32m----> 2\u001b[1;33m \u001b[0mprint\u001b[0m\u001b[1;33m(\u001b[0m\u001b[0my\u001b[0m\u001b[1;33m)\u001b[0m\u001b[1;33m\u001b[0m\u001b[0m\n\u001b[0m",
      "\u001b[1;31mNameError\u001b[0m: name 'y' is not defined"
     ]
    }
   ],
   "source": [
    "print(x)\n",
    "print(y)"
   ]
  },
  {
   "cell_type": "code",
   "execution_count": 9,
   "metadata": {},
   "outputs": [
    {
     "data": {
      "text/plain": [
       "'xy'"
      ]
     },
     "execution_count": 9,
     "metadata": {},
     "output_type": "execute_result"
    }
   ],
   "source": [
    "class Strings:\n",
    "    def __init__(self,a):\n",
    "        self.a = a\n",
    "        \n",
    "    def __add__(self, other):\n",
    "        return self.a + other.a\n",
    "    \n",
    "a = Strings('x')\n",
    "b = Strings('y')\n",
    "\n",
    "a+b"
   ]
  },
  {
   "cell_type": "code",
   "execution_count": 10,
   "metadata": {},
   "outputs": [
    {
     "data": {
      "text/plain": [
       "(7, 9)"
      ]
     },
     "execution_count": 10,
     "metadata": {},
     "output_type": "execute_result"
    }
   ],
   "source": [
    "class Strings:\n",
    "    def __init__(self,x,y):\n",
    "        self.x = x\n",
    "        self.y = y\n",
    "        \n",
    "    def __add__(self, other):\n",
    "        self.x = self.x + other.x\n",
    "        self.y = self.y + other.y\n",
    "        return self.x, self.y\n",
    "    \n",
    "a = Strings(3,4)\n",
    "b = Strings(4,5)\n",
    "\n",
    "a + b\n"
   ]
  },
  {
   "cell_type": "code",
   "execution_count": 11,
   "metadata": {},
   "outputs": [
    {
     "name": "stdout",
     "output_type": "stream",
     "text": [
      "2\n",
      "Total No of Employee: 2\n",
      "Total No of Employee: 2\n",
      "Name:  Sam Salary:  200\n",
      "Name:  Peter Salary:  300\n"
     ]
    }
   ],
   "source": [
    "class Employee:\n",
    "    'common base class for all employees'\n",
    "    empCount = 0\n",
    "    \n",
    "    def __init__(self, name, salary):\n",
    "        self.name = name\n",
    "        self.salary = salary\n",
    "        Employee.empCount += 1\n",
    "        \n",
    "    def displayCount(self):\n",
    "        print(\"Total No of Employee: %d\" %Employee.empCount)\n",
    "        \n",
    "    def displayEmployee(self):\n",
    "        print(\"Name: \", self.name, \"Salary: \", self.salary)\n",
    "        \n",
    "emp1 = Employee('Sam',200)\n",
    "emp2 = Employee('Peter',300)\n",
    "\n",
    "print(Employee.empCount)\n",
    "emp1.displayCount()\n",
    "emp2.displayCount()\n",
    "emp1.displayEmployee()\n",
    "emp2.displayEmployee()\n"
   ]
  },
  {
   "cell_type": "code",
   "execution_count": 12,
   "metadata": {},
   "outputs": [
    {
     "data": {
      "text/plain": [
       "'Mayank'"
      ]
     },
     "execution_count": 12,
     "metadata": {},
     "output_type": "execute_result"
    }
   ],
   "source": [
    "class C:\n",
    "    def setname(self, who):\n",
    "        self.name = who\n",
    "        \n",
    "I = C()\n",
    "I.setname('Mayank')\n",
    "I.name"
   ]
  },
  {
   "cell_type": "code",
   "execution_count": 13,
   "metadata": {},
   "outputs": [
    {
     "data": {
      "text/plain": [
       "'Mayank'"
      ]
     },
     "execution_count": 13,
     "metadata": {},
     "output_type": "execute_result"
    }
   ],
   "source": [
    "class C:\n",
    "    def __init__(self,who):\n",
    "        self.name = who\n",
    "        \n",
    "I = C('Mayank')    \n",
    "I.name"
   ]
  },
  {
   "cell_type": "markdown",
   "metadata": {},
   "source": [
    "Here `__init__` is used instead of `setname`. This method is automatically called, whenever an instance is created. No need for extra method calls."
   ]
  },
  {
   "cell_type": "code",
   "execution_count": 14,
   "metadata": {},
   "outputs": [
    {
     "name": "stdout",
     "output_type": "stream",
     "text": [
      "a\n",
      "b\n"
     ]
    }
   ],
   "source": [
    "class Test:\n",
    "    def __init__(self,arg1,arg2):\n",
    "            self.arg1 = arg1\n",
    "            self.arg2 = arg2\n",
    "    \n",
    "    def printargs(self):\n",
    "        print(self.arg1)\n",
    "        print(self.arg2)\n",
    "        \n",
    "instance = Test('a','b')\n",
    "\n",
    "instance.printargs()\n",
    "    "
   ]
  },
  {
   "cell_type": "code",
   "execution_count": 15,
   "metadata": {},
   "outputs": [
    {
     "name": "stdout",
     "output_type": "stream",
     "text": [
      "a\n",
      "b\n"
     ]
    }
   ],
   "source": [
    "Test.printargs(instance)"
   ]
  },
  {
   "cell_type": "markdown",
   "metadata": {},
   "source": [
    "Notice that `instance.printargs()` is equivalent to `Test.printargs(instance)`"
   ]
  },
  {
   "cell_type": "code",
   "execution_count": 16,
   "metadata": {},
   "outputs": [
    {
     "name": "stdout",
     "output_type": "stream",
     "text": [
      "1\n",
      "54026032\n",
      "2\n",
      "52114064\n"
     ]
    }
   ],
   "source": [
    "class Employee:\n",
    "    \n",
    "    empCount = 0\n",
    "    \n",
    "    def __init__(self):\n",
    "        Employee.empCount += 1\n",
    "        print(Employee.empCount)\n",
    "        print(id(self))\n",
    "\n",
    "    def __del__(self):\n",
    "        Employee.empCount -= 1\n",
    "        print(Employee.empCount)\n",
    "        print(id(self))\n",
    "        \n",
    "emp1 = Employee()\n",
    "emp2 = Employee()"
   ]
  },
  {
   "cell_type": "code",
   "execution_count": 17,
   "metadata": {},
   "outputs": [
    {
     "name": "stdout",
     "output_type": "stream",
     "text": [
      "1\n",
      "54026032\n"
     ]
    }
   ],
   "source": [
    "del emp1"
   ]
  },
  {
   "cell_type": "code",
   "execution_count": 18,
   "metadata": {},
   "outputs": [
    {
     "name": "stdout",
     "output_type": "stream",
     "text": [
      "0\n",
      "52114064\n"
     ]
    }
   ],
   "source": [
    "del emp2"
   ]
  },
  {
   "cell_type": "code",
   "execution_count": 19,
   "metadata": {},
   "outputs": [
    {
     "data": {
      "text/plain": [
       "0"
      ]
     },
     "execution_count": 19,
     "metadata": {},
     "output_type": "execute_result"
    }
   ],
   "source": [
    "Employee.empCount"
   ]
  },
  {
   "cell_type": "markdown",
   "metadata": {},
   "source": [
    "#### Encapsulation, Private Attributes and Data Hiding"
   ]
  },
  {
   "cell_type": "code",
   "execution_count": 20,
   "metadata": {},
   "outputs": [
    {
     "name": "stdout",
     "output_type": "stream",
     "text": [
      "3\n"
     ]
    }
   ],
   "source": [
    "class Encapsulation(object):\n",
    "    def __init__(self, a, b, c):\n",
    "        self.public = a\n",
    "        self._protected = b\n",
    "        self.__private = c\n",
    "        print(self.__private)\n",
    "        \n",
    "A = Encapsulation(1,2,3)        "
   ]
  },
  {
   "cell_type": "code",
   "execution_count": 21,
   "metadata": {},
   "outputs": [
    {
     "name": "stdout",
     "output_type": "stream",
     "text": [
      "1\n",
      "2\n"
     ]
    },
    {
     "ename": "AttributeError",
     "evalue": "'Encapsulation' object has no attribute '__private'",
     "output_type": "error",
     "traceback": [
      "\u001b[1;31m---------------------------------------------------------------------------\u001b[0m",
      "\u001b[1;31mAttributeError\u001b[0m                            Traceback (most recent call last)",
      "\u001b[1;32m<ipython-input-21-c58f15435850>\u001b[0m in \u001b[0;36m<module>\u001b[1;34m\u001b[0m\n\u001b[0;32m      1\u001b[0m \u001b[0mprint\u001b[0m\u001b[1;33m(\u001b[0m\u001b[0mA\u001b[0m\u001b[1;33m.\u001b[0m\u001b[0mpublic\u001b[0m\u001b[1;33m)\u001b[0m\u001b[1;33m\u001b[0m\u001b[0m\n\u001b[0;32m      2\u001b[0m \u001b[0mprint\u001b[0m\u001b[1;33m(\u001b[0m\u001b[0mA\u001b[0m\u001b[1;33m.\u001b[0m\u001b[0m_protected\u001b[0m\u001b[1;33m)\u001b[0m\u001b[1;33m\u001b[0m\u001b[0m\n\u001b[1;32m----> 3\u001b[1;33m \u001b[0mprint\u001b[0m\u001b[1;33m(\u001b[0m\u001b[0mA\u001b[0m\u001b[1;33m.\u001b[0m\u001b[0m__private\u001b[0m\u001b[1;33m)\u001b[0m\u001b[1;33m\u001b[0m\u001b[0m\n\u001b[0m",
      "\u001b[1;31mAttributeError\u001b[0m: 'Encapsulation' object has no attribute '__private'"
     ]
    }
   ],
   "source": [
    "print(A.public)\n",
    "print(A._protected)\n",
    "print(A.__private)"
   ]
  },
  {
   "cell_type": "markdown",
   "metadata": {},
   "source": [
    "As is clear from above, private attributes can't be accessed from outside. It can only be accessed from inside of class."
   ]
  },
  {
   "cell_type": "code",
   "execution_count": 22,
   "metadata": {},
   "outputs": [
    {
     "data": {
      "text/plain": [
       "'Mayank'"
      ]
     },
     "execution_count": 22,
     "metadata": {},
     "output_type": "execute_result"
    }
   ],
   "source": [
    "class Foo:\n",
    "    def __init__(self, name):\n",
    "        self.__name = name\n",
    "    def setname(self):\n",
    "        return self.__name\n",
    "    \n",
    "bar = Foo('Mayank')\n",
    "\n",
    "bar.setname()"
   ]
  },
  {
   "cell_type": "code",
   "execution_count": 23,
   "metadata": {},
   "outputs": [
    {
     "ename": "AttributeError",
     "evalue": "'Foo' object has no attribute '__name'",
     "output_type": "error",
     "traceback": [
      "\u001b[1;31m---------------------------------------------------------------------------\u001b[0m",
      "\u001b[1;31mAttributeError\u001b[0m                            Traceback (most recent call last)",
      "\u001b[1;32m<ipython-input-23-199386daa6c0>\u001b[0m in \u001b[0;36m<module>\u001b[1;34m\u001b[0m\n\u001b[1;32m----> 1\u001b[1;33m \u001b[0mbar\u001b[0m\u001b[1;33m.\u001b[0m\u001b[0m__name\u001b[0m\u001b[1;33m\u001b[0m\u001b[0m\n\u001b[0m",
      "\u001b[1;31mAttributeError\u001b[0m: 'Foo' object has no attribute '__name'"
     ]
    }
   ],
   "source": [
    "bar.__name"
   ]
  },
  {
   "cell_type": "code",
   "execution_count": 24,
   "metadata": {},
   "outputs": [
    {
     "data": {
      "text/plain": [
       "'Mayank'"
      ]
     },
     "execution_count": 24,
     "metadata": {},
     "output_type": "execute_result"
    }
   ],
   "source": [
    "class Foo:\n",
    "    def __init__(self, name):\n",
    "        self.name = name\n",
    "    def setname(self):\n",
    "        return self.name\n",
    "    \n",
    "bar = Foo('Mayank')\n",
    "\n",
    "bar.setname()"
   ]
  },
  {
   "cell_type": "code",
   "execution_count": 25,
   "metadata": {},
   "outputs": [
    {
     "data": {
      "text/plain": [
       "'Mayank'"
      ]
     },
     "execution_count": 25,
     "metadata": {},
     "output_type": "execute_result"
    }
   ],
   "source": [
    "bar.name"
   ]
  },
  {
   "cell_type": "markdown",
   "metadata": {},
   "source": [
    "Compare above 2 example. In first example, `bar.__name` raised `AttributeError` while in second example, `bar.name` ran correctly. "
   ]
  },
  {
   "cell_type": "code",
   "execution_count": 26,
   "metadata": {},
   "outputs": [
    {
     "name": "stdout",
     "output_type": "stream",
     "text": [
      "5\n"
     ]
    }
   ],
   "source": [
    "class D:\n",
    "    value =  5\n",
    "    \n",
    "class E(D):\n",
    "    def printf(self):\n",
    "        print(self.value)\n",
    "        \n",
    "a = E()\n",
    "a.printf()"
   ]
  },
  {
   "cell_type": "code",
   "execution_count": 27,
   "metadata": {},
   "outputs": [
    {
     "ename": "AttributeError",
     "evalue": "'E' object has no attribute '_E__value'",
     "output_type": "error",
     "traceback": [
      "\u001b[1;31m---------------------------------------------------------------------------\u001b[0m",
      "\u001b[1;31mAttributeError\u001b[0m                            Traceback (most recent call last)",
      "\u001b[1;32m<ipython-input-27-4884ce79dbe1>\u001b[0m in \u001b[0;36m<module>\u001b[1;34m\u001b[0m\n\u001b[0;32m      7\u001b[0m \u001b[1;33m\u001b[0m\u001b[0m\n\u001b[0;32m      8\u001b[0m \u001b[0ma\u001b[0m \u001b[1;33m=\u001b[0m \u001b[0mE\u001b[0m\u001b[1;33m(\u001b[0m\u001b[1;33m)\u001b[0m\u001b[1;33m\u001b[0m\u001b[0m\n\u001b[1;32m----> 9\u001b[1;33m \u001b[0ma\u001b[0m\u001b[1;33m.\u001b[0m\u001b[0mprintf\u001b[0m\u001b[1;33m(\u001b[0m\u001b[1;33m)\u001b[0m\u001b[1;33m\u001b[0m\u001b[0m\n\u001b[0m",
      "\u001b[1;32m<ipython-input-27-4884ce79dbe1>\u001b[0m in \u001b[0;36mprintf\u001b[1;34m(self)\u001b[0m\n\u001b[0;32m      4\u001b[0m \u001b[1;32mclass\u001b[0m \u001b[0mE\u001b[0m\u001b[1;33m(\u001b[0m\u001b[0mD\u001b[0m\u001b[1;33m)\u001b[0m\u001b[1;33m:\u001b[0m\u001b[1;33m\u001b[0m\u001b[0m\n\u001b[0;32m      5\u001b[0m     \u001b[1;32mdef\u001b[0m \u001b[0mprintf\u001b[0m\u001b[1;33m(\u001b[0m\u001b[0mself\u001b[0m\u001b[1;33m)\u001b[0m\u001b[1;33m:\u001b[0m\u001b[1;33m\u001b[0m\u001b[0m\n\u001b[1;32m----> 6\u001b[1;33m         \u001b[0mprint\u001b[0m\u001b[1;33m(\u001b[0m\u001b[0mself\u001b[0m\u001b[1;33m.\u001b[0m\u001b[0m__value\u001b[0m\u001b[1;33m)\u001b[0m\u001b[1;33m\u001b[0m\u001b[0m\n\u001b[0m\u001b[0;32m      7\u001b[0m \u001b[1;33m\u001b[0m\u001b[0m\n\u001b[0;32m      8\u001b[0m \u001b[0ma\u001b[0m \u001b[1;33m=\u001b[0m \u001b[0mE\u001b[0m\u001b[1;33m(\u001b[0m\u001b[1;33m)\u001b[0m\u001b[1;33m\u001b[0m\u001b[0m\n",
      "\u001b[1;31mAttributeError\u001b[0m: 'E' object has no attribute '_E__value'"
     ]
    }
   ],
   "source": [
    "class D:\n",
    "    __value =  5\n",
    "    \n",
    "class E(D):\n",
    "    def printf(self):\n",
    "        print(self.__value)\n",
    "        \n",
    "a = E()\n",
    "a.printf()"
   ]
  },
  {
   "cell_type": "markdown",
   "metadata": {},
   "source": [
    "This illustrates that private attributes can't be accessed by child class as well.\n",
    "\n",
    "From Python Essential Reference book – \n",
    "\n",
    "By default, all attributes and methods of a class are “public.”This means that they are all accessible without any restrictions. It also implies that everything defined in a base class is inherited and accessible within a derived class.This behavior is often undesirable in object-oriented applications because it exposes the internal implementation of an object and can lead to namespace conflicts between objects defined in a derived class and those defined in a base class. To fix this problem, all names in a class that start with a double underscore, such as` __Foo`, are automatically mangled to form a new name of the form `_Classname__Foo`. This effectively provides a way for a class to have private attributes and methods because private names used in a derived class won’t collide with the same private names used in a base class. \n",
    "\n",
    "Here is an example -\n",
    "```python\n",
    "class A(object):\n",
    "    def __init__(self):\n",
    "        self.__X = 3       # Mangled to self._A__X\n",
    "    def __spam(self):      # Mangled to _A__spam()\n",
    "        pass\n",
    "    def bar(self):\n",
    "        self.__spam()      # Only calls A.__spam()\n",
    "\n",
    "class B(A):\n",
    "    def __init__(self):\n",
    "        A.__init__(self)\n",
    "        self.__X = 37      # Mangled to self._B__X\n",
    "    def __spam(self):      # Mangled to _B__spam()\n",
    "        pass\n",
    "```\n",
    "\n",
    "Although this scheme provides the illusion of data hiding, there’s no strict mechanism in place to actually prevent access to the “private” attributes of a class. In particular, if the name of the class and corresponding private attribute are known, they can be accessed using the mangled name.\n"
   ]
  },
  {
   "cell_type": "code",
   "execution_count": 28,
   "metadata": {},
   "outputs": [
    {
     "name": "stdout",
     "output_type": "stream",
     "text": [
      "Diff grade for diff group\n",
      "Top grade\n",
      "None\n",
      "Middle Grade\n",
      "None\n"
     ]
    }
   ],
   "source": [
    "class Employee:\n",
    "    def __init__(self, name):\n",
    "        self.name = name\n",
    "        \n",
    "    def grade(self):\n",
    "        print(\"Diff grade for diff group\")\n",
    "        \n",
    "        \n",
    "class Top(Employee):\n",
    "    def __init__(self, name, perk):\n",
    "        #Employee.__init__(self, name) #code is running even without this line. Why?\n",
    "        self.perk = perk\n",
    "    \n",
    "    def grade(self):    \n",
    "            Employee.grade(self)\n",
    "            print(\"Top grade\")\n",
    "        \n",
    "class Middle(Employee):\n",
    "    def __init__(self, name, salary):\n",
    "        Employee.__init__(self, name)\n",
    "        self.salary =  salary\n",
    "        \n",
    "    def grade(self):\n",
    "        print(\"Middle Grade\")\n",
    "        \n",
    "\n",
    "emp1 = Top('Sam', 100)\n",
    "emp2 = Middle('Peter', 200)\n",
    "\n",
    "for e in [emp1, emp2]:\n",
    "    print(e.grade());\n",
    "    "
   ]
  },
  {
   "cell_type": "code",
   "execution_count": 30,
   "metadata": {},
   "outputs": [
    {
     "name": "stdout",
     "output_type": "stream",
     "text": [
      "1500\n",
      "1000\n"
     ]
    }
   ],
   "source": [
    "class Customer:\n",
    "    def __init__(self, name, balance):\n",
    "        self.name = name\n",
    "        self.balance =balance\n",
    "    \n",
    "    def deposit(self, amount):\n",
    "        self.amount = amount\n",
    "        self.balance = self.balance + amount\n",
    "        print(self.balance)\n",
    "        \n",
    "    def test(self):\n",
    "        print(amount)\n",
    "        print(self.amount)\n",
    "        \n",
    "        \n",
    "customer1 = Customer(\"Mayank\", 1000)\n",
    "customer2 = Customer(\"Kajal\", 500)\n",
    "\n",
    "customer1.deposit(500)\n",
    "customer2.deposit(500)\n",
    "    \n",
    "    "
   ]
  },
  {
   "cell_type": "code",
   "execution_count": 31,
   "metadata": {},
   "outputs": [
    {
     "ename": "NameError",
     "evalue": "name 'amount' is not defined",
     "output_type": "error",
     "traceback": [
      "\u001b[1;31m---------------------------------------------------------------------------\u001b[0m",
      "\u001b[1;31mNameError\u001b[0m                                 Traceback (most recent call last)",
      "\u001b[1;32m<ipython-input-31-5925cb31aa48>\u001b[0m in \u001b[0;36m<module>\u001b[1;34m\u001b[0m\n\u001b[1;32m----> 1\u001b[1;33m \u001b[0mcustomer1\u001b[0m\u001b[1;33m.\u001b[0m\u001b[0mtest\u001b[0m\u001b[1;33m(\u001b[0m\u001b[1;33m)\u001b[0m\u001b[1;33m\u001b[0m\u001b[0m\n\u001b[0m",
      "\u001b[1;32m<ipython-input-30-c28f99269e22>\u001b[0m in \u001b[0;36mtest\u001b[1;34m(self)\u001b[0m\n\u001b[0;32m     10\u001b[0m \u001b[1;33m\u001b[0m\u001b[0m\n\u001b[0;32m     11\u001b[0m     \u001b[1;32mdef\u001b[0m \u001b[0mtest\u001b[0m\u001b[1;33m(\u001b[0m\u001b[0mself\u001b[0m\u001b[1;33m)\u001b[0m\u001b[1;33m:\u001b[0m\u001b[1;33m\u001b[0m\u001b[0m\n\u001b[1;32m---> 12\u001b[1;33m         \u001b[0mprint\u001b[0m\u001b[1;33m(\u001b[0m\u001b[0mamount\u001b[0m\u001b[1;33m)\u001b[0m\u001b[1;33m\u001b[0m\u001b[0m\n\u001b[0m\u001b[0;32m     13\u001b[0m         \u001b[0mprint\u001b[0m\u001b[1;33m(\u001b[0m\u001b[0mself\u001b[0m\u001b[1;33m.\u001b[0m\u001b[0mamount\u001b[0m\u001b[1;33m)\u001b[0m\u001b[1;33m\u001b[0m\u001b[0m\n\u001b[0;32m     14\u001b[0m \u001b[1;33m\u001b[0m\u001b[0m\n",
      "\u001b[1;31mNameError\u001b[0m: name 'amount' is not defined"
     ]
    }
   ],
   "source": [
    "customer1.test()"
   ]
  },
  {
   "cell_type": "markdown",
   "metadata": {},
   "source": [
    "'amount' can only be accessed by 'deposit' method. Here self.balance is called instance variable and amount would be local variable. Instance variable can be accessed by all methods defined in a class while local variables can be used by only that method in which they are defined."
   ]
  },
  {
   "cell_type": "code",
   "execution_count": 32,
   "metadata": {},
   "outputs": [
    {
     "name": "stdout",
     "output_type": "stream",
     "text": [
      "(<class '__main__.Test'>, <class 'object'>)\n",
      "(<class '__main__.Student'>, <class '__main__.Test'>, <class 'object'>)\n"
     ]
    }
   ],
   "source": [
    "class Test():\n",
    "    pass\n",
    "\n",
    "class Student(Test):\n",
    "    pass\n",
    "\n",
    "print(Test.__mro__)\n",
    "print(Student.__mro__)"
   ]
  },
  {
   "cell_type": "code",
   "execution_count": 33,
   "metadata": {},
   "outputs": [
    {
     "data": {
      "text/plain": [
       "True"
      ]
     },
     "execution_count": 33,
     "metadata": {},
     "output_type": "execute_result"
    }
   ],
   "source": [
    "issubclass(Test, object)"
   ]
  },
  {
   "cell_type": "code",
   "execution_count": 34,
   "metadata": {},
   "outputs": [
    {
     "data": {
      "text/plain": [
       "True"
      ]
     },
     "execution_count": 34,
     "metadata": {},
     "output_type": "execute_result"
    }
   ],
   "source": [
    "issubclass(Student, object)"
   ]
  },
  {
   "cell_type": "code",
   "execution_count": 35,
   "metadata": {},
   "outputs": [
    {
     "data": {
      "text/plain": [
       "True"
      ]
     },
     "execution_count": 35,
     "metadata": {},
     "output_type": "execute_result"
    }
   ],
   "source": [
    "def foo():\n",
    "    pass\n",
    "\n",
    "issubclass(foo.__class__, object)"
   ]
  },
  {
   "cell_type": "markdown",
   "metadata": {},
   "source": [
    "#### Static Method"
   ]
  },
  {
   "cell_type": "code",
   "execution_count": 36,
   "metadata": {},
   "outputs": [
    {
     "name": "stdout",
     "output_type": "stream",
     "text": [
      "Hi\n"
     ]
    }
   ],
   "source": [
    "class Test:\n",
    "\n",
    "    @staticmethod\n",
    "    def testmethod():\n",
    "        print('Hi')\n",
    "    \n",
    "    def __init__(self,number):\n",
    "        self.number = number\n",
    "\n",
    "    def setmethod(self):\n",
    "        print(self.number)    \n",
    "\n",
    "Test.testmethod()       "
   ]
  },
  {
   "cell_type": "markdown",
   "metadata": {},
   "source": [
    "#### Class Method"
   ]
  },
  {
   "cell_type": "code",
   "execution_count": 64,
   "metadata": {},
   "outputs": [
    {
     "name": "stdout",
     "output_type": "stream",
     "text": [
      "8\n"
     ]
    }
   ],
   "source": [
    "class Times():\n",
    "    factor = 1\n",
    "    @classmethod\n",
    "    def mul(cls,x):\n",
    "        return cls.factor*x\n",
    "\n",
    "class TwoTimes(Times):\n",
    "    factor = 2\n",
    "\n",
    "x = TwoTimes.mul(4)    \n",
    "\n",
    "print(x)"
   ]
  },
  {
   "cell_type": "markdown",
   "metadata": {},
   "source": [
    "#### Properties"
   ]
  },
  {
   "cell_type": "code",
   "execution_count": 66,
   "metadata": {},
   "outputs": [
    {
     "data": {
      "text/plain": [
       "4"
      ]
     },
     "execution_count": 66,
     "metadata": {},
     "output_type": "execute_result"
    }
   ],
   "source": [
    "import math\n",
    "\n",
    "class Circle:\n",
    "    def __init__(self,radius):\n",
    "        self.radius = radius\n",
    "\n",
    "    @property\n",
    "    def area(self):\n",
    "        return math.pi*self.radius**2\n",
    "\n",
    "    @property\n",
    "    def perimeter(self):\n",
    "        return 2*math.pi*self.radius\n",
    "\n",
    "c = Circle(4)\n",
    "c.radius\n",
    "\n"
   ]
  },
  {
   "cell_type": "code",
   "execution_count": 67,
   "metadata": {},
   "outputs": [
    {
     "data": {
      "text/plain": [
       "5"
      ]
     },
     "execution_count": 67,
     "metadata": {},
     "output_type": "execute_result"
    }
   ],
   "source": [
    "c.radius = 5\n",
    "c.radius"
   ]
  },
  {
   "cell_type": "code",
   "execution_count": 68,
   "metadata": {},
   "outputs": [
    {
     "data": {
      "text/plain": [
       "31.41592653589793"
      ]
     },
     "execution_count": 68,
     "metadata": {},
     "output_type": "execute_result"
    }
   ],
   "source": [
    "c.perimeter"
   ]
  },
  {
   "cell_type": "code",
   "execution_count": 69,
   "metadata": {},
   "outputs": [
    {
     "data": {
      "text/plain": [
       "78.53981633974483"
      ]
     },
     "execution_count": 69,
     "metadata": {},
     "output_type": "execute_result"
    }
   ],
   "source": [
    "c.area"
   ]
  },
  {
   "cell_type": "code",
   "execution_count": 70,
   "metadata": {},
   "outputs": [
    {
     "ename": "AttributeError",
     "evalue": "can't set attribute",
     "output_type": "error",
     "traceback": [
      "\u001b[1;31m---------------------------------------------------------------------------\u001b[0m",
      "\u001b[1;31mAttributeError\u001b[0m                            Traceback (most recent call last)",
      "\u001b[1;32m<ipython-input-70-b381cf045733>\u001b[0m in \u001b[0;36m<module>\u001b[1;34m()\u001b[0m\n\u001b[1;32m----> 1\u001b[1;33m \u001b[0mc\u001b[0m\u001b[1;33m.\u001b[0m\u001b[0mperimeter\u001b[0m \u001b[1;33m=\u001b[0m  \u001b[1;36m5\u001b[0m\u001b[1;33m\u001b[0m\u001b[0m\n\u001b[0m",
      "\u001b[1;31mAttributeError\u001b[0m: can't set attribute"
     ]
    }
   ],
   "source": [
    "c.perimeter =  5"
   ]
  },
  {
   "cell_type": "markdown",
   "metadata": {},
   "source": [
    "As we know, instances of a class has attributes and methods bound to them. To access attributes and methods, we use dot notation. To access an attribute, we write `object.attribute` while to apply a method, we write `object.method()`. However, unlike methods, we can always change the value of attribute as shown above (c.radius = 5). In above program, if we don’t use `@property` decorator, we would apply method like this: `c.perimeter()`. But by using `@property` decorator, we get rid of those parentheses used after a method. So, now we can write `c.perimeter` instead of `c.perimeter()`. However, as said earlier, we can’t change the value of `c.perimeter` which is obvious. This is an example of making programming interface as uniform as possible.(Uniform Access Principle)\t"
   ]
  },
  {
   "cell_type": "markdown",
   "metadata": {},
   "source": [
    "#### `__repr__`"
   ]
  },
  {
   "cell_type": "code",
   "execution_count": 72,
   "metadata": {},
   "outputs": [
    {
     "data": {
      "text/plain": [
       "value for current instance= 5"
      ]
     },
     "execution_count": 72,
     "metadata": {},
     "output_type": "execute_result"
    }
   ],
   "source": [
    "class Test:\n",
    "\tdef __init__(self,value):\n",
    "\t\tself.value = value\n",
    "\tdef __repr__(self):\n",
    "\t\treturn 'value for current instance= %d' % self.value\n",
    "\n",
    "a = Test(5)\n",
    "a"
   ]
  },
  {
   "cell_type": "markdown",
   "metadata": {},
   "source": [
    "#### `__call__`"
   ]
  },
  {
   "cell_type": "code",
   "execution_count": 73,
   "metadata": {},
   "outputs": [
    {
     "name": "stdout",
     "output_type": "stream",
     "text": [
      "Hi\n"
     ]
    }
   ],
   "source": [
    "class Foo:\n",
    "    def __call__(self):\n",
    "        print('Hi')\n",
    "        \n",
    "bar = Foo()\n",
    "bar()\n"
   ]
  },
  {
   "cell_type": "code",
   "execution_count": null,
   "metadata": {
    "collapsed": true
   },
   "outputs": [],
   "source": []
  }
 ],
 "metadata": {
  "kernelspec": {
   "display_name": "Python 3",
   "language": "python",
   "name": "python3"
  },
  "language_info": {
   "codemirror_mode": {
    "name": "ipython",
    "version": 3
   },
   "file_extension": ".py",
   "mimetype": "text/x-python",
   "name": "python",
   "nbconvert_exporter": "python",
   "pygments_lexer": "ipython3",
   "version": "3.6.3"
  }
 },
 "nbformat": 4,
 "nbformat_minor": 2
}
