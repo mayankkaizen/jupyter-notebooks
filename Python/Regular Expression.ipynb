{
 "cells": [
  {
   "cell_type": "markdown",
   "metadata": {},
   "source": [
    "### Regular Expression"
   ]
  },
  {
   "cell_type": "markdown",
   "metadata": {},
   "source": [
    "- `re.search` - \n",
    "The `search()` first match anywhere in the string. Returns a `Match` object when the pattern is found. If the pattern is not found, `search()` returns `None`.\n",
    "\n",
    "Each Match object holds information about the nature of the match, including the original input string, the regular expression used, and the location within the original string where the pattern occurs.  \n",
    "\n",
    "- `re.match` \n",
    "This searches for the first match at the very start of the string. This also returns a `Match` object.\n",
    "\n",
    "- `re.findall` \n",
    "This searches for all the matches anywhere in the string and returns the substrings found. \n",
    "\n",
    "- `re.finditer` \n",
    "It is just like findall but returns an iterator that produces `Match` instance instead of the strings returned by `findall`()."
   ]
  },
  {
   "cell_type": "markdown",
   "metadata": {},
   "source": [
    "### `re.compile`"
   ]
  },
  {
   "cell_type": "code",
   "execution_count": 91,
   "metadata": {
    "collapsed": true
   },
   "outputs": [],
   "source": [
    "content  = 'mayank 1sam 11128 peter1 smith dog cat'\n",
    "pattern = '[a-z]+'\n",
    "\n",
    "p = re.compile(pattern)"
   ]
  },
  {
   "cell_type": "code",
   "execution_count": 94,
   "metadata": {},
   "outputs": [
    {
     "name": "stdout",
     "output_type": "stream",
     "text": [
      "Pretty printing has been turned OFF\n"
     ]
    },
    {
     "data": {
      "text/plain": [
       "['findall', 'finditer', 'flags', 'fullmatch', 'groupindex', 'groups', 'match', 'pattern', 'scanner', 'search', 'split', 'sub', 'subn']"
      ]
     },
     "execution_count": 94,
     "metadata": {},
     "output_type": "execute_result"
    }
   ],
   "source": [
    "%pprint\n",
    "[x for x in dir(p) if '_' not in x]"
   ]
  },
  {
   "cell_type": "code",
   "execution_count": 95,
   "metadata": {},
   "outputs": [
    {
     "data": {
      "text/plain": [
       "['mayank', 'sam', 'peter', 'smith', 'dog', 'cat']"
      ]
     },
     "execution_count": 95,
     "metadata": {},
     "output_type": "execute_result"
    }
   ],
   "source": [
    "p.findall(content)"
   ]
  },
  {
   "cell_type": "code",
   "execution_count": 115,
   "metadata": {},
   "outputs": [
    {
     "name": "stdout",
     "output_type": "stream",
     "text": [
      "0 6 mayank\n",
      "8 11 sam\n",
      "18 23 peter\n",
      "25 30 smith\n",
      "31 34 dog\n",
      "35 38 cat\n"
     ]
    }
   ],
   "source": [
    "a = p.finditer(content)\n",
    "for match in a:\n",
    "    print(match.start(), match.end(), match.string[match.start():match.end()])"
   ]
  },
  {
   "cell_type": "markdown",
   "metadata": {},
   "source": [
    "#### Flags - \n",
    "\n",
    "|Flag      |Meaning      | \n",
    "|----------|-------------|\n",
    "|ASCII, A  |Make several escapes like \\w,\\b,\\s and \\d match only on ASCII characters with the respective property|\n",
    "|DOTALL, S |Make `.` match any character, including newline|\n",
    "|IGNORECASE, I| Do case-insensitive matches|\n",
    "|MULTILINE, M|Multiline matching, affecting `^` and `$`   |\n",
    "|VERBOSE, X|Enable verbose REs which can be organized more cleanly and incorporating comments|"
   ]
  },
  {
   "cell_type": "markdown",
   "metadata": {},
   "source": [
    "**Note - ** Following  characters have special meaning - \n",
    "\n",
    "\\ ^ $ . | ?  * + ( ) { } [ ]"
   ]
  },
  {
   "cell_type": "markdown",
   "metadata": {},
   "source": [
    "\n",
    "pattern|explanation\n",
    "-------|-------------\n",
    "'.' dot| any character except newline. Specify `re.DOTALL` to include newline\n",
    "^m     | m at the start of string. In `re.MULTILINE` mode, also matches immediately after each newline\n",
    "m$     | m at the end of string, to also match m before newline as well, specify `re.MULTILINE`\n",
    "m..    |m followed with any 2 char, newline not counted, anywhere in string\n",
    "ab*    |a and 0 or more occurence of b\n",
    "ab+    |a and 1 or more occurene of b\n",
    "ab?    |a and 0 or 1 occurence of b\n",
    "ab{3}  |a followed by 3 b\n",
    "ab{2,3}|a followed by 2 to 3 b\n",
    "\\d     | all digits\n",
    "\\D     |everything else except digit\n",
    "\\s     |all whitespace character (eg \\n)\n",
    "\\S     |all except whitespace character\n",
    "\\w     |matches all word characters (0 to 9, a to z, A to Z, _)\n",
    "\\W     |all but word characters\n",
    "[a-zA-Z0-9] |Matches any letter from (a to z) or (A to Z) or (0 to 9).\n",
    "[^a-zA-Z0-9]| Matches every character not in the list\n",
    "[ab]   | matches either a or b\n",
    "[0-9]  |matches any digit in the range\n",
    "[0-5][0-9]| matches any number from 00 to 59\n",
    "[0-9]+ | will match the longest number (to be checked)\n",
    "a &#124; b| match either a or b\n",
    "\n",
    "**Note**\n",
    "\n",
    " - a | b ->/match either a or b\n",
    " - `*` is greedy in nature and tries to consume as much of input as possible. To control its greediness, we use `*?`. In fact, if `?` is added to qualifiers (+,*, and ? itself) it will perform matches in a non-greedy manner.\n",
    " - Be careful that `[a-z]` matches any alphabet character but `[a\\-z]` will match a,- or z (\\ is escaping - here).  \n",
    "\n"
   ]
  },
  {
   "cell_type": "markdown",
   "metadata": {},
   "source": [
    "#### Raw String\n",
    "\n",
    "Consider following 2 examples. Note that in both examples, we are trying to match literal character `'\\'` in string. But the problem is `'\\'` has special meaning in both RE and string. In both cases, it is used for escaping. \n",
    "\n",
    "Suppose we have a string `'This\\nThat'`. Normally `\\n` will be read as a single character (newline character) but what if we want to treat it as two separate characters (`\\` and `n`)? One way is to escape using `\\` to escape itself. That is we will write `'This\\\\nThat'`. And to match this backslash, our regular expression will be `'\\\\\\\\'` as 2 backlash in regex will be needed to match each backslash in string and string has 2 backslashes.\n",
    "\n",
    "The solution is to use raw string, that is string written in the form r'some text'. "
   ]
  },
  {
   "cell_type": "code",
   "execution_count": 86,
   "metadata": {},
   "outputs": [
    {
     "data": {
      "text/plain": [
       "['\\\\']"
      ]
     },
     "execution_count": 86,
     "metadata": {},
     "output_type": "execute_result"
    }
   ],
   "source": [
    "pattern = '\\\\\\\\'\n",
    "content = 'mayan\\\\xx'\n",
    "\n",
    "re.findall(pattern, content)"
   ]
  },
  {
   "cell_type": "code",
   "execution_count": 84,
   "metadata": {},
   "outputs": [
    {
     "data": {
      "text/plain": [
       "['\\\\']"
      ]
     },
     "execution_count": 84,
     "metadata": {},
     "output_type": "execute_result"
    }
   ],
   "source": [
    "pattern = r'\\\\'\n",
    "content = r'mayan\\xx'\n",
    "\n",
    "re.findall(pattern, content)"
   ]
  },
  {
   "cell_type": "markdown",
   "metadata": {},
   "source": [
    "#### Examples of RE"
   ]
  },
  {
   "cell_type": "code",
   "execution_count": 5,
   "metadata": {},
   "outputs": [
    {
     "data": {
      "text/plain": [
       "<_sre.SRE_Match object; span=(1, 7), match='mayank'>"
      ]
     },
     "execution_count": 5,
     "metadata": {},
     "output_type": "execute_result"
    }
   ],
   "source": [
    "import re\n",
    "f = open('file.txt','r') #content is 'amayank'\n",
    "content = f.read()\n",
    "pattern = 'mayank'\n",
    "match = re.search(pattern,content) #only first match. Anywhere in the string\n",
    "match"
   ]
  },
  {
   "cell_type": "code",
   "execution_count": 15,
   "metadata": {},
   "outputs": [
    {
     "name": "stdout",
     "output_type": "stream",
     "text": [
      "Found \"mayank\"\n",
      " in\n",
      " \"amayank\n",
      "mayank\n",
      "mayank\n",
      "\n",
      "abbbasaacfafafbbbbaaaag\n",
      "\n",
      "1___2222\"\n",
      " from position 1 to position 7\n"
     ]
    }
   ],
   "source": [
    "print('Found \"{}\"\\n in\\n \"{}\"\\n from position {} to position {}'\n",
    "      .format(match.re.pattern, match.string, match.start(), match.end()))"
   ]
  },
  {
   "cell_type": "code",
   "execution_count": 24,
   "metadata": {},
   "outputs": [
    {
     "name": "stdout",
     "output_type": "stream",
     "text": [
      "None\n"
     ]
    }
   ],
   "source": [
    "import re\n",
    "f = open('file.txt','r')\n",
    "content = f.read()\n",
    "a = re.match('mayank',content) #only first match. Start of the string\n",
    "print(a)"
   ]
  },
  {
   "cell_type": "code",
   "execution_count": 25,
   "metadata": {},
   "outputs": [
    {
     "data": {
      "text/plain": [
       "'ayank'"
      ]
     },
     "execution_count": 25,
     "metadata": {},
     "output_type": "execute_result"
    }
   ],
   "source": [
    "import re\n",
    "f = open('file.txt','r')\n",
    "content = f.read()\n",
    "a = re.search('ayank',content) #only first match. Anywhere in the string\n",
    "a.group()"
   ]
  },
  {
   "cell_type": "code",
   "execution_count": 26,
   "metadata": {},
   "outputs": [
    {
     "name": "stdout",
     "output_type": "stream",
     "text": [
      "['mayank', 'mayank', 'mayank']\n"
     ]
    }
   ],
   "source": [
    "a = re.findall('mayank',content) #all instances of match\n",
    "print(a)"
   ]
  },
  {
   "cell_type": "code",
   "execution_count": 27,
   "metadata": {},
   "outputs": [
    {
     "name": "stdout",
     "output_type": "stream",
     "text": [
      "['ayank', 'ayank', 'ayank']\n"
     ]
    }
   ],
   "source": [
    "a = re.findall('ayank',content) #all instances of match\n",
    "print(a)"
   ]
  },
  {
   "cell_type": "code",
   "execution_count": 36,
   "metadata": {},
   "outputs": [
    {
     "data": {
      "text/plain": [
       "('ama', 'amayank\\n', 0, 3)"
      ]
     },
     "execution_count": 36,
     "metadata": {},
     "output_type": "execute_result"
    }
   ],
   "source": [
    "f = open('file.txt','r')\n",
    "content = f.readlines() #list of strings\n",
    "a = re.match('ama', content[0]) #content[0] is first line as string\n",
    "a.re.pattern,a.string, a.start(), a.end()"
   ]
  },
  {
   "cell_type": "code",
   "execution_count": 75,
   "metadata": {},
   "outputs": [
    {
     "data": {
      "text/plain": [
       "'my'"
      ]
     },
     "execution_count": 75,
     "metadata": {},
     "output_type": "execute_result"
    }
   ],
   "source": [
    "f = open('file.txt','r')\n",
    "content = f.read() #entire file content in a single string\n",
    "a = re.match('my', content)\n",
    "a.group()"
   ]
  },
  {
   "cell_type": "code",
   "execution_count": 76,
   "metadata": {},
   "outputs": [
    {
     "data": {
      "text/plain": [
       "str"
      ]
     },
     "execution_count": 76,
     "metadata": {},
     "output_type": "execute_result"
    }
   ],
   "source": [
    "type(content)"
   ]
  },
  {
   "cell_type": "markdown",
   "metadata": {},
   "source": [
    "### `re.sub`"
   ]
  },
  {
   "cell_type": "code",
   "execution_count": 67,
   "metadata": {},
   "outputs": [
    {
     "data": {
      "text/plain": [
       "'***ankdfddsf'"
      ]
     },
     "execution_count": 67,
     "metadata": {},
     "output_type": "execute_result"
    }
   ],
   "source": [
    "string = \"mayankdfddsf\"\n",
    "pattern = \"(may)\"\n",
    "\n",
    "re.sub(pattern, '***', string)"
   ]
  },
  {
   "cell_type": "markdown",
   "metadata": {},
   "source": [
    "### `re.split`"
   ]
  },
  {
   "cell_type": "code",
   "execution_count": 71,
   "metadata": {},
   "outputs": [
    {
     "data": {
      "text/plain": [
       "['', 'may', 'ankdfddsf iam', 'may', 'ank']"
      ]
     },
     "execution_count": 71,
     "metadata": {},
     "output_type": "execute_result"
    }
   ],
   "source": [
    "string = \"mayankdfddsf iammayank\"\n",
    "pattern = \"(may)\"\n",
    "\n",
    "re.split(pattern, string)"
   ]
  },
  {
   "cell_type": "code",
   "execution_count": 75,
   "metadata": {},
   "outputs": [
    {
     "data": {
      "text/plain": [
       "['mayankdfddsf', 'iammayank']"
      ]
     },
     "execution_count": 75,
     "metadata": {},
     "output_type": "execute_result"
    }
   ],
   "source": [
    "string = \"mayankdfddsf iammayank\"\n",
    "pattern = \"\\W+\"\n",
    "\n",
    "re.split(pattern, string)"
   ]
  },
  {
   "cell_type": "markdown",
   "metadata": {},
   "source": [
    "### `re.finditer`"
   ]
  },
  {
   "cell_type": "code",
   "execution_count": 42,
   "metadata": {},
   "outputs": [
    {
     "name": "stdout",
     "output_type": "stream",
     "text": [
      "Found 'ab' at 23:25\n",
      "Found 'ab' at 46:48\n"
     ]
    }
   ],
   "source": [
    "f = open('file.txt','r')\n",
    "content = f.read()\n",
    "\n",
    "pattern = 'ab'\n",
    "\n",
    "for match in re.finditer(pattern, content):\n",
    "    s = match.start()\n",
    "    e = match.end()\n",
    "    print('Found {!r} at {:d}:{:d}'.format(\n",
    "        content[s:e], s, e))"
   ]
  },
  {
   "cell_type": "code",
   "execution_count": 52,
   "metadata": {
    "scrolled": true
   },
   "outputs": [
    {
     "name": "stdout",
     "output_type": "stream",
     "text": [
      "  'abb'\n",
      "  ...'a'\n",
      "  ....'abbb'\n",
      "  ........'a'\n"
     ]
    }
   ],
   "source": [
    "text = 'abbaabbba'\n",
    "pattern = 'ab*'\n",
    "matches = re.finditer(pattern, text)\n",
    "for match in matches:\n",
    "    s = match.start()\n",
    "    e = match.end()\n",
    "    substr = text[s:e]\n",
    "    n_backslashes = text[:s].count('\\\\')\n",
    "    prefix = '.' * (s + n_backslashes)\n",
    "    print(\"  {}'{}'\".format(prefix, substr))\n",
    "\n"
   ]
  },
  {
   "cell_type": "markdown",
   "metadata": {},
   "source": [
    "### RE Patterns"
   ]
  },
  {
   "cell_type": "markdown",
   "metadata": {},
   "source": [
    "### `^`,`$`,`.`,`*`,`+`,`?` "
   ]
  },
  {
   "cell_type": "code",
   "execution_count": 18,
   "metadata": {},
   "outputs": [
    {
     "data": {
      "text/plain": [
       "['cookies']"
      ]
     },
     "execution_count": 18,
     "metadata": {},
     "output_type": "execute_result"
    }
   ],
   "source": [
    "# . mathces any character\n",
    "\n",
    "content = 'cookies'\n",
    "a = re.findall('coo..es', content) #matched\n",
    "a"
   ]
  },
  {
   "cell_type": "code",
   "execution_count": 56,
   "metadata": {},
   "outputs": [
    {
     "data": {
      "text/plain": [
       "'amayank\\nmayank\\nmayank\\n\\nabbbasaacfafafbbbbaaaagab\\n\\n1___2222'"
      ]
     },
     "execution_count": 56,
     "metadata": {},
     "output_type": "execute_result"
    }
   ],
   "source": [
    "content"
   ]
  },
  {
   "cell_type": "markdown",
   "metadata": {},
   "source": [
    "### `^`,`$`,`.`,`*`,`+`,`?` "
   ]
  },
  {
   "cell_type": "code",
   "execution_count": 57,
   "metadata": {},
   "outputs": [
    {
     "name": "stdout",
     "output_type": "stream",
     "text": [
      "[]\n",
      "['m']\n"
     ]
    }
   ],
   "source": [
    "# ^m -> match 'm' at the start of the string\n",
    "\n",
    "a = re.findall('^m', content) #no matched \n",
    "print(a)\n",
    "b = re.findall('^m', 'mxyzmzm') #match\n",
    "print(b)"
   ]
  },
  {
   "cell_type": "code",
   "execution_count": 58,
   "metadata": {},
   "outputs": [
    {
     "name": "stdout",
     "output_type": "stream",
     "text": [
      "[]\n",
      "['a']\n"
     ]
    }
   ],
   "source": [
    "# m$ -> match 'm' at the end of the string\n",
    "a = re.findall('m$', content) #no match\n",
    "print(a)\n",
    "b = re.findall('a$', 'bca') #matched\n",
    "print(b)"
   ]
  },
  {
   "cell_type": "code",
   "execution_count": 62,
   "metadata": {},
   "outputs": [
    {
     "data": {
      "text/plain": [
       "['k', 'k']"
      ]
     },
     "execution_count": 62,
     "metadata": {},
     "output_type": "execute_result"
    }
   ],
   "source": [
    "string = \"mayank\\nxyzaaak\"\n",
    "pattern = \"k$\"\n",
    "\n",
    "re.findall(pattern, string, re.MULTILINE)"
   ]
  },
  {
   "cell_type": "markdown",
   "metadata": {},
   "source": [
    "In above example, pattern will match the last `k` in absense of `re.MULTILINE` flage. To also match `k` appearing before the newline, use `re.MULTILINE` flag. "
   ]
  },
  {
   "cell_type": "code",
   "execution_count": 87,
   "metadata": {},
   "outputs": [
    {
     "name": "stdout",
     "output_type": "stream",
     "text": [
      "[]\n",
      "['may']\n",
      "['may']\n"
     ]
    }
   ],
   "source": [
    "# m.. -> will match 3 character string starting with m in anywhere in the string. Newline doesn't count as a character\n",
    "\n",
    "a = re.findall('m..','ma\\n') # '\\n' doesn't count as a character so no match\n",
    "print(a)\n",
    "b = re.findall('m..', 'mayank') #matched\n",
    "print(b)\n",
    "c = re.findall('m..','xyzmayank') #will search anywhere in the string, hence matched.\n",
    "print(c)"
   ]
  },
  {
   "cell_type": "code",
   "execution_count": 89,
   "metadata": {},
   "outputs": [
    {
     "name": "stdout",
     "output_type": "stream",
     "text": [
      "['a']\n",
      "['ab']\n",
      "['abb']\n",
      "['ab']\n",
      "[]\n"
     ]
    }
   ],
   "source": [
    "# ab* will match a and 0 or more occurence of b. a, ab, abb and so on will be matched. Anyuhere in the string. \n",
    "\n",
    "items = ['a','ab','abb','bab','xyz']\n",
    "for i in items:\n",
    "    a = re.findall('ab*', i)\n",
    "    print(a)"
   ]
  },
  {
   "cell_type": "code",
   "execution_count": 91,
   "metadata": {},
   "outputs": [
    {
     "name": "stdout",
     "output_type": "stream",
     "text": [
      "[]\n",
      "['ab']\n",
      "['abb']\n",
      "['ab']\n",
      "[]\n"
     ]
    }
   ],
   "source": [
    "# ab+ will match a and followed by 1 or more occurence of b.  ab, abb and so on will be matched. Anyuhere in the string. \n",
    "\n",
    "items = ['a','ab','abb','bab','xyz']\n",
    "for i in items:\n",
    "    a = re.findall('ab+', i)\n",
    "    print(a)"
   ]
  },
  {
   "cell_type": "code",
   "execution_count": 92,
   "metadata": {},
   "outputs": [
    {
     "name": "stdout",
     "output_type": "stream",
     "text": [
      "['a']\n",
      "['ab']\n",
      "['ab']\n",
      "['ab']\n",
      "[]\n"
     ]
    }
   ],
   "source": [
    "# ab? will match a and followed by 0 or 1  occurence of b.  a and ab will be matched but not abb.  Anyuhere in the string. \n",
    "\n",
    "items = ['a','ab','abb','bab','xyz']\n",
    "for i in items:\n",
    "    a = re.findall('ab?', i)\n",
    "    print(a)"
   ]
  },
  {
   "cell_type": "markdown",
   "metadata": {},
   "source": [
    "#### Specific Charachter Group"
   ]
  },
  {
   "cell_type": "code",
   "execution_count": 108,
   "metadata": {},
   "outputs": [
    {
     "data": {
      "text/plain": [
       "['\\n']"
      ]
     },
     "execution_count": 108,
     "metadata": {},
     "output_type": "execute_result"
    }
   ],
   "source": [
    "# \\s -> matches whitespace character\n",
    "items = 'abambammbammmb\\naccccccccccccccccccccb'\n",
    "a = re.findall('\\s', items)\n",
    "a"
   ]
  },
  {
   "cell_type": "code",
   "execution_count": 110,
   "metadata": {},
   "outputs": [
    {
     "name": "stdout",
     "output_type": "stream",
     "text": [
      "Pretty printing has been turned OFF\n"
     ]
    },
    {
     "data": {
      "text/plain": [
       "['a', 'b', 'a', 'm', 'b', 'a', 'm', 'm', 'b', 'a', 'm', 'm', 'm', 'b', 'a', 'c', 'c', 'c', 'c', 'c', 'c', 'c', 'c', 'c', 'c', 'c', 'c', 'c', 'c', 'c', 'c', 'c', 'c', 'c', 'c', 'b']"
      ]
     },
     "execution_count": 110,
     "metadata": {},
     "output_type": "execute_result"
    }
   ],
   "source": [
    "%pprint\n",
    "# \\S -> matches all but whitespace character\n",
    "items = 'abambammbammmb\\naccccccccccccccccccccb'\n",
    "a = re.findall('\\S', items)\n",
    "a"
   ]
  },
  {
   "cell_type": "code",
   "execution_count": 111,
   "metadata": {},
   "outputs": [
    {
     "data": {
      "text/plain": [
       "['\\n']"
      ]
     },
     "execution_count": 111,
     "metadata": {},
     "output_type": "execute_result"
    }
   ],
   "source": [
    "# \\W -> matches all but word characters (0 to 9, a to z, A to Z, _)\n",
    "items = 'abambammbammmb\\naccccccccccccccccccccb'\n",
    "a = re.findall('\\W', items)\n",
    "a"
   ]
  },
  {
   "cell_type": "code",
   "execution_count": 112,
   "metadata": {},
   "outputs": [
    {
     "data": {
      "text/plain": [
       "['a', 'm', 'm', 'm', 'b', 'a', 'c', 'c', 'c', 'c', 'b']"
      ]
     },
     "execution_count": 112,
     "metadata": {},
     "output_type": "execute_result"
    }
   ],
   "source": [
    "# \\w -> matches all word characters (0 to 9, a to z, A to Z, _)\n",
    "items = 'ammmb\\naccccb'\n",
    "a = re.findall('\\w', items)\n",
    "a"
   ]
  },
  {
   "cell_type": "markdown",
   "metadata": {},
   "source": [
    "#### Customized Character Set"
   ]
  },
  {
   "cell_type": "code",
   "execution_count": 16,
   "metadata": {},
   "outputs": [
    {
     "data": {
      "text/plain": [
       "([], ['a'], ['$', '$', '$', '$', '%', '^', '$', '^', '&', '&', '&', '&'])"
      ]
     },
     "execution_count": 16,
     "metadata": {},
     "output_type": "execute_result"
    }
   ],
   "source": [
    "# [a-zA-Z0-9] Matches any letter from (a to z) or (A to Z) or (0 to 9). \n",
    "#Characters that are not within a range can be matched by complementing the set.\n",
    "#If the first character of the set is ^, all the characters that are not in the set will be matched.\n",
    "\n",
    "item1 = '$$$$%^$^&&&&'\n",
    "item2 = 'a%'\n",
    "a = re.findall('[a-zA-Z0-9]',item1)\n",
    "b = re.findall('[a-zA-Z0-9]',item2)\n",
    "c = re.findall('[^a-zA-Z0-9]',item1)\n",
    "a,b,c"
   ]
  },
  {
   "cell_type": "code",
   "execution_count": 113,
   "metadata": {},
   "outputs": [
    {
     "data": {
      "text/plain": [
       "['a', 'b', 'a', 'b', 'a', 'b', 'a', 'b', 'a', 'b']"
      ]
     },
     "execution_count": 113,
     "metadata": {},
     "output_type": "execute_result"
    }
   ],
   "source": [
    "# [ab] -> matches either a or b\n",
    "items = 'abambammbammmb\\naccccccccccccccccccccb'\n",
    "a = re.findall('[ab]', items)\n",
    "a"
   ]
  },
  {
   "cell_type": "code",
   "execution_count": 11,
   "metadata": {},
   "outputs": [
    {
     "name": "stdout",
     "output_type": "stream",
     "text": [
      "['gray']\n",
      "['grey']\n"
     ]
    }
   ],
   "source": [
    "import re\n",
    "strings= ['gray', 'grey']\n",
    "pattern = 'gr[ae]y' #either 'a' or 'e'. Not both.\n",
    "\n",
    "for i in strings:\n",
    "    a = re.findall(pattern, i)\n",
    "    print(a)\n"
   ]
  },
  {
   "cell_type": "code",
   "execution_count": 114,
   "metadata": {},
   "outputs": [
    {
     "data": {
      "text/plain": [
       "['0', '1']"
      ]
     },
     "execution_count": 114,
     "metadata": {},
     "output_type": "execute_result"
    }
   ],
   "source": [
    "# [0-9] -> matches any digit in this range\n",
    "items = 'abambammbammmb\\naccccccccccccccccccccb0i1'\n",
    "a = re.findall('[0-9]', items)\n",
    "a"
   ]
  },
  {
   "cell_type": "code",
   "execution_count": 115,
   "metadata": {},
   "outputs": [
    {
     "data": {
      "text/plain": [
       "['55']"
      ]
     },
     "execution_count": 115,
     "metadata": {},
     "output_type": "execute_result"
    }
   ],
   "source": [
    "# [0-5][0-9] -> matches any digit in the range[00,59]\n",
    "items = 'abambammbammmb\\naccccccccccccccccccccb0i1a55'\n",
    "a = re.findall('[0-5][0-9]', items)\n",
    "a"
   ]
  },
  {
   "cell_type": "markdown",
   "metadata": {},
   "source": [
    "#### Pipe"
   ]
  },
  {
   "cell_type": "code",
   "execution_count": 123,
   "metadata": {},
   "outputs": [
    {
     "data": {
      "text/plain": [
       "['b', 'b', 'b', 'b', 'b', '0', '1']"
      ]
     },
     "execution_count": 123,
     "metadata": {},
     "output_type": "execute_result"
    }
   ],
   "source": [
    "# A|B -> match either regex A or B. \n",
    "items = 'abambammbammmb\\naccccccccccccccccccccb0i1'\n",
    "a = re.findall('[0-9]|[b]', items)\n",
    "a\n",
    "#didn't get it?"
   ]
  },
  {
   "cell_type": "code",
   "execution_count": 63,
   "metadata": {},
   "outputs": [
    {
     "name": "stdout",
     "output_type": "stream",
     "text": [
      "['b', 'am', 'b', 'am', 'b', 'am', 'b', 'b']\n",
      "['ab', 'am', 'amm', 'ammm']\n"
     ]
    }
   ],
   "source": [
    "# A|B -> Either pattern should match. If first matched, second isn't tested\n",
    "pattern = ['am|b', 'am+|ab']\n",
    "items = 'abambammbammmb\\naccccccccccccccccccccb0i1'\n",
    "for i in pattern:\n",
    "    a = re.findall(i, items)\n",
    "    print(a)\n"
   ]
  },
  {
   "cell_type": "code",
   "execution_count": 9,
   "metadata": {},
   "outputs": [
    {
     "name": "stdout",
     "output_type": "stream",
     "text": [
      "['a', 'b', 'a', 'b', 'a', 'b', 'a', 'b', 'a', 'b']\n",
      "['a', 'b', 'a', 'b', 'a', 'b', 'a', 'b', 'a', 'b']\n"
     ]
    }
   ],
   "source": [
    "# A\n",
    "pattern = ['a|b', '[ab]'] #what is the difference between 2?\n",
    "items = 'abambammbammmb\\naccccccccccccccccccccb0i1'\n",
    "for i in pattern:\n",
    "    a = re.findall(i, items)\n",
    "    print(a)\n"
   ]
  },
  {
   "cell_type": "code",
   "execution_count": 3,
   "metadata": {},
   "outputs": [
    {
     "data": {
      "text/plain": [
       "['set']"
      ]
     },
     "execution_count": 3,
     "metadata": {},
     "output_type": "execute_result"
    }
   ],
   "source": [
    "import re\n",
    "string = 'setvalue'\n",
    "pattern = 'get|getvalue|set|setvalue'\n",
    "re.findall(pattern,string)\n"
   ]
  },
  {
   "cell_type": "markdown",
   "metadata": {},
   "source": [
    "Compare above example with the following 2 examples. Note that `findall` keep searching for patterns in remaining part of string even if it succeeds in finding a match. "
   ]
  },
  {
   "cell_type": "code",
   "execution_count": 4,
   "metadata": {},
   "outputs": [
    {
     "data": {
      "text/plain": [
       "['set', 'set']"
      ]
     },
     "execution_count": 4,
     "metadata": {},
     "output_type": "execute_result"
    }
   ],
   "source": [
    "string = 'setsetvalue'\n",
    "pattern = 'get|getvalue|set|setvalue'\n",
    "re.findall(pattern,string)\n"
   ]
  },
  {
   "cell_type": "code",
   "execution_count": 6,
   "metadata": {},
   "outputs": [
    {
     "data": {
      "text/plain": [
       "['set', 'get']"
      ]
     },
     "execution_count": 6,
     "metadata": {},
     "output_type": "execute_result"
    }
   ],
   "source": [
    "import re\n",
    "string = 'setgetvalue'\n",
    "pattern = 'get|getvalue|set|setvalue'\n",
    "re.findall(pattern,string)\n"
   ]
  },
  {
   "cell_type": "markdown",
   "metadata": {},
   "source": [
    "#### `a{m, n}` - m to n `a` character "
   ]
  },
  {
   "cell_type": "code",
   "execution_count": 14,
   "metadata": {},
   "outputs": [
    {
     "data": {
      "text/plain": [
       "['ueeiaouu']"
      ]
     },
     "execution_count": 14,
     "metadata": {},
     "output_type": "execute_result"
    }
   ],
   "source": [
    "string = 'akkkkkueeiaouul'\n",
    "pattern = '[aeiou]{2,}'\n",
    "\n",
    "re.findall(pattern, string)"
   ]
  },
  {
   "cell_type": "code",
   "execution_count": 15,
   "metadata": {},
   "outputs": [
    {
     "data": {
      "text/plain": [
       "['uee', 'iao', 'uu']"
      ]
     },
     "execution_count": 15,
     "metadata": {},
     "output_type": "execute_result"
    }
   ],
   "source": [
    "string = 'akkkkkueeiaouul'\n",
    "pattern = '[aeiou]{2,3}'\n",
    "\n",
    "re.findall(pattern, string)"
   ]
  },
  {
   "cell_type": "code",
   "execution_count": 16,
   "metadata": {},
   "outputs": [
    {
     "data": {
      "text/plain": [
       "['ue', 'ei', 'ao', 'uu']"
      ]
     },
     "execution_count": 16,
     "metadata": {},
     "output_type": "execute_result"
    }
   ],
   "source": [
    "string = 'akkkkkueeiaouul'\n",
    "pattern = '[aeiou]{2}'\n",
    "\n",
    "re.findall(pattern, string)"
   ]
  },
  {
   "cell_type": "markdown",
   "metadata": {},
   "source": [
    "**Note**\n",
    "\n",
    "`*` is greedy in nature and tries to consume as much of input as possible. To control its greediness, we use `*?`"
   ]
  },
  {
   "cell_type": "code",
   "execution_count": 25,
   "metadata": {},
   "outputs": [
    {
     "data": {
      "text/plain": [
       "([('processe', 's')], [('process', 'es')], [('process', 'es')])"
      ]
     },
     "execution_count": 25,
     "metadata": {},
     "output_type": "execute_result"
    }
   ],
   "source": [
    "pattern1 = '^(.*)(s|es)$'\n",
    "pattern2 = '^(.*?)(s|es)$'\n",
    "pattern3 = '^(.*?)(es|s)$'\n",
    "\n",
    "re.findall(pattern1, 'processes'), re.findall(pattern2, 'processes'), re.findall(pattern3, 'processes')\n"
   ]
  },
  {
   "cell_type": "code",
   "execution_count": 15,
   "metadata": {},
   "outputs": [
    {
     "data": {
      "text/plain": [
       "([], [])"
      ]
     },
     "execution_count": 15,
     "metadata": {},
     "output_type": "execute_result"
    }
   ],
   "source": [
    "pattern1 = '^(.*)(s|es)$'\n",
    "pattern2 = '^(.*?)(s|es)$'\n",
    "\n",
    "re.findall(pattern1, 'abbbb'), re.findall(pattern2, 'abbbb')"
   ]
  },
  {
   "cell_type": "markdown",
   "metadata": {},
   "source": [
    "#### `\\b` Word boundary"
   ]
  },
  {
   "cell_type": "code",
   "execution_count": 116,
   "metadata": {},
   "outputs": [
    {
     "data": {
      "text/plain": [
       "(['class'], [])"
      ]
     },
     "execution_count": 116,
     "metadata": {},
     "output_type": "execute_result"
    }
   ],
   "source": [
    "p = re.compile(r'\\bclass\\b')\n",
    "a = p.findall('no class at all')\n",
    "b = p.findall('the classified docs')\n",
    "a,b"
   ]
  },
  {
   "cell_type": "markdown",
   "metadata": {},
   "source": [
    "#### Lookahead assertion \n",
    "\n",
    " - `(?=...)` - Positive lookahead assertion\n",
    " - `(?!...)` - Negative lookahead assertion\n",
    " \n",
    "Suppose we want to match the finename and split it apart into basename and extension. For example, suppose we have a filename as `test.pdf`. Here `test` is basename and `pdf` is extension. To match this type of filename, we can write RE as **`.*[.].*$`** Notice that the `.` needs to be treated specially because it's a metacharacter, so it's inside a character class to only match that specific character.\n",
    "\n",
    "But suppose, we don't want to match any file with extension `.bat`. Easy as it may seems, writing a RE to meet these conditions would prove to be a messy task. Negative lookahead cuts through all this mess - **`.*[.](?!bat$)[^.]*$`**\n",
    "\n",
    "The negative lookahead means: if the expression `bat` doesn't match at this point, try the rest of the pattern. If `bat$` does match, the whole pattern will fail. The trailing `$` is required to ensure that something like `sample.batch` is allowed. "
   ]
  },
  {
   "cell_type": "code",
   "execution_count": null,
   "metadata": {
    "collapsed": true
   },
   "outputs": [],
   "source": []
  },
  {
   "cell_type": "code",
   "execution_count": 23,
   "metadata": {},
   "outputs": [
    {
     "name": "stdout",
     "output_type": "stream",
     "text": [
      "['123']\n",
      "['333']\n"
     ]
    }
   ],
   "source": [
    "strings = ['123', 'island333']\n",
    "pattern = '\\d+'\n",
    "\n",
    "for i in strings:\n",
    "    a =  re.findall(pattern, i)\n",
    "    print(a)"
   ]
  },
  {
   "cell_type": "code",
   "execution_count": 2,
   "metadata": {},
   "outputs": [
    {
     "name": "stdout",
     "output_type": "stream",
     "text": [
      "[]\n",
      "['9897971000']\n",
      "[]\n",
      "[]\n",
      "[]\n",
      "[]\n",
      "[]\n"
     ]
    }
   ],
   "source": [
    "#finding 10 digits number starting from 9\n",
    "import re\n",
    "pattern = '^9[\\d]{9}$'\n",
    "\n",
    "numbers = ['123', '9897971000','0000000000', '11111111111', '99999999999', 'a9999888822', '9999A999999' ]\n",
    "\n",
    "for i in numbers:\n",
    "    a = re.findall(pattern, i)\n",
    "    print(a)\n",
    "\n"
   ]
  },
  {
   "cell_type": "code",
   "execution_count": 118,
   "metadata": {},
   "outputs": [
    {
     "data": {
      "text/plain": [
       "['mayank1@a2zemail.com', 'xyz11_11@gmail.com', 'mayank.kaizen@gmail.com', '123@gmail.com', 'mayank@outlook.com']"
      ]
     },
     "execution_count": 118,
     "metadata": {},
     "output_type": "execute_result"
    }
   ],
   "source": [
    "# finding email\n",
    "pattern = '[a-z0-9]+[\\._]?[a-z0-9]+@[a-z0-9]+[\\.][a-z]+'\n",
    "\n",
    "re.findall(pattern, 'a11dfdff mayank1@a2zemail.com xyz11_11@gmail.com @@@gmail.com\\\n",
    "maya..@gmail.com addd@dddd a@.com mayank.kaizen@gmail.com  123@gmail.com, mayank@outlook.com')\n"
   ]
  },
  {
   "cell_type": "code",
   "execution_count": null,
   "metadata": {
    "collapsed": true
   },
   "outputs": [],
   "source": []
  }
 ],
 "metadata": {
  "kernelspec": {
   "display_name": "Python 3",
   "language": "python",
   "name": "python3"
  },
  "language_info": {
   "codemirror_mode": {
    "name": "ipython",
    "version": 3
   },
   "file_extension": ".py",
   "mimetype": "text/x-python",
   "name": "python",
   "nbconvert_exporter": "python",
   "pygments_lexer": "ipython3",
   "version": "3.6.3"
  }
 },
 "nbformat": 4,
 "nbformat_minor": 2
}
