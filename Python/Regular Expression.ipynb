{
 "cells": [
  {
   "cell_type": "markdown",
   "metadata": {},
   "source": [
    "### Regular Expression"
   ]
  },
  {
   "cell_type": "markdown",
   "metadata": {},
   "source": [
    "- `re.search` - \n",
    "The `search()` function takes the pattern and text to scan, and returns a `Match` object when the pattern is found. If the pattern is not found, `search()` returns `None`.\n",
    "\n",
    "Each Match object holds information about the nature of the match, including the original input string, the regular expression used, and the location within the original string where the pattern occurs.and returns  \n",
    "\n",
    "- `re.match` \n",
    "This searches for the first match at the very start of the string. This also returns a `Match` object.\n",
    "\n",
    "- `re.findall` \n",
    "This searches for all the matches anywhere in the string and returns the substrings found. \n",
    "\n",
    "- `re.finditer` \n",
    "It is just like findall but returns an iterator that produces `Match` instances instead of the strings returned by `findall`()."
   ]
  },
  {
   "cell_type": "code",
   "execution_count": 5,
   "metadata": {},
   "outputs": [
    {
     "data": {
      "text/plain": [
       "<_sre.SRE_Match object; span=(1, 7), match='mayank'>"
      ]
     },
     "execution_count": 5,
     "metadata": {},
     "output_type": "execute_result"
    }
   ],
   "source": [
    "import re\n",
    "f = open('file.txt','r') #content is 'amayank'\n",
    "content = f.read()\n",
    "pattern = 'mayank'\n",
    "match = re.search(pattern,content) #only first match. Anywhere in the string\n",
    "match"
   ]
  },
  {
   "cell_type": "code",
   "execution_count": 15,
   "metadata": {},
   "outputs": [
    {
     "name": "stdout",
     "output_type": "stream",
     "text": [
      "Found \"mayank\"\n",
      " in\n",
      " \"amayank\n",
      "mayank\n",
      "mayank\n",
      "\n",
      "abbbasaacfafafbbbbaaaag\n",
      "\n",
      "1___2222\"\n",
      " from position 1 to position 7\n"
     ]
    }
   ],
   "source": [
    "print('Found \"{}\"\\n in\\n \"{}\"\\n from position {} to position {}'\n",
    "      .format(match.re.pattern, match.string, match.start(), match.end()))"
   ]
  },
  {
   "cell_type": "code",
   "execution_count": 24,
   "metadata": {},
   "outputs": [
    {
     "name": "stdout",
     "output_type": "stream",
     "text": [
      "None\n"
     ]
    }
   ],
   "source": [
    "import re\n",
    "f = open('file.txt','r')\n",
    "content = f.read()\n",
    "a = re.match('mayank',content) #only first match. Start of the string\n",
    "print(a)"
   ]
  },
  {
   "cell_type": "code",
   "execution_count": 25,
   "metadata": {},
   "outputs": [
    {
     "data": {
      "text/plain": [
       "'ayank'"
      ]
     },
     "execution_count": 25,
     "metadata": {},
     "output_type": "execute_result"
    }
   ],
   "source": [
    "import re\n",
    "f = open('file.txt','r')\n",
    "content = f.read()\n",
    "a = re.search('ayank',content) #only first match. Anywhere in the string\n",
    "a.group()"
   ]
  },
  {
   "cell_type": "code",
   "execution_count": 26,
   "metadata": {},
   "outputs": [
    {
     "name": "stdout",
     "output_type": "stream",
     "text": [
      "['mayank', 'mayank', 'mayank']\n"
     ]
    }
   ],
   "source": [
    "a = re.findall('mayank',content) #all instances of match\n",
    "print(a)"
   ]
  },
  {
   "cell_type": "code",
   "execution_count": 27,
   "metadata": {},
   "outputs": [
    {
     "name": "stdout",
     "output_type": "stream",
     "text": [
      "['ayank', 'ayank', 'ayank']\n"
     ]
    }
   ],
   "source": [
    "a = re.findall('ayank',content) #all instances of match\n",
    "print(a)"
   ]
  },
  {
   "cell_type": "code",
   "execution_count": 36,
   "metadata": {},
   "outputs": [
    {
     "data": {
      "text/plain": [
       "('ama', 'amayank\\n', 0, 3)"
      ]
     },
     "execution_count": 36,
     "metadata": {},
     "output_type": "execute_result"
    }
   ],
   "source": [
    "f = open('file.txt','r')\n",
    "content = f.readlines() #list of strings\n",
    "a = re.match('ama', content[0]) #content[0] is first line as string\n",
    "a.re.pattern,a.string, a.start(), a.end()"
   ]
  },
  {
   "cell_type": "code",
   "execution_count": 75,
   "metadata": {},
   "outputs": [
    {
     "data": {
      "text/plain": [
       "'my'"
      ]
     },
     "execution_count": 75,
     "metadata": {},
     "output_type": "execute_result"
    }
   ],
   "source": [
    "f = open('file.txt','r')\n",
    "content = f.read() #entire file content in a single string\n",
    "a = re.match('my', content)\n",
    "a.group()"
   ]
  },
  {
   "cell_type": "code",
   "execution_count": 76,
   "metadata": {},
   "outputs": [
    {
     "data": {
      "text/plain": [
       "str"
      ]
     },
     "execution_count": 76,
     "metadata": {},
     "output_type": "execute_result"
    }
   ],
   "source": [
    "type(content)"
   ]
  },
  {
   "cell_type": "markdown",
   "metadata": {},
   "source": [
    "### `re.finditer`"
   ]
  },
  {
   "cell_type": "code",
   "execution_count": 42,
   "metadata": {},
   "outputs": [
    {
     "name": "stdout",
     "output_type": "stream",
     "text": [
      "Found 'ab' at 23:25\n",
      "Found 'ab' at 46:48\n"
     ]
    }
   ],
   "source": [
    "f = open('file.txt','r')\n",
    "content = f.read()\n",
    "\n",
    "pattern = 'ab'\n",
    "\n",
    "for match in re.finditer(pattern, content):\n",
    "    s = match.start()\n",
    "    e = match.end()\n",
    "    print('Found {!r} at {:d}:{:d}'.format(\n",
    "        content[s:e], s, e))"
   ]
  },
  {
   "cell_type": "code",
   "execution_count": 52,
   "metadata": {
    "scrolled": true
   },
   "outputs": [
    {
     "name": "stdout",
     "output_type": "stream",
     "text": [
      "  'abb'\n",
      "  ...'a'\n",
      "  ....'abbb'\n",
      "  ........'a'\n"
     ]
    }
   ],
   "source": [
    "text = 'abbaabbba'\n",
    "pattern = 'ab*'\n",
    "matches = re.finditer(pattern, text)\n",
    "for match in matches:\n",
    "    s = match.start()\n",
    "    e = match.end()\n",
    "    substr = text[s:e]\n",
    "    n_backslashes = text[:s].count('\\\\')\n",
    "    prefix = '.' * (s + n_backslashes)\n",
    "    print(\"  {}'{}'\".format(prefix, substr))\n",
    "\n"
   ]
  },
  {
   "cell_type": "markdown",
   "metadata": {},
   "source": [
    "### RE Patterns"
   ]
  },
  {
   "cell_type": "code",
   "execution_count": 18,
   "metadata": {},
   "outputs": [
    {
     "data": {
      "text/plain": [
       "['cookies']"
      ]
     },
     "execution_count": 18,
     "metadata": {},
     "output_type": "execute_result"
    }
   ],
   "source": [
    "# . mathces any character\n",
    "\n",
    "content = 'cookies'\n",
    "a = re.findall('coo..es', content) #matched\n",
    "a"
   ]
  },
  {
   "cell_type": "code",
   "execution_count": 56,
   "metadata": {},
   "outputs": [
    {
     "data": {
      "text/plain": [
       "'amayank\\nmayank\\nmayank\\n\\nabbbasaacfafafbbbbaaaagab\\n\\n1___2222'"
      ]
     },
     "execution_count": 56,
     "metadata": {},
     "output_type": "execute_result"
    }
   ],
   "source": [
    "content"
   ]
  },
  {
   "cell_type": "code",
   "execution_count": 57,
   "metadata": {},
   "outputs": [
    {
     "name": "stdout",
     "output_type": "stream",
     "text": [
      "[]\n",
      "['m']\n"
     ]
    }
   ],
   "source": [
    "# ^m -> match 'm' at the start of the string\n",
    "\n",
    "a = re.findall('^m', content) #no matched \n",
    "print(a)\n",
    "b = re.findall('^m', 'mxyzmzm') #match\n",
    "print(b)"
   ]
  },
  {
   "cell_type": "code",
   "execution_count": 58,
   "metadata": {},
   "outputs": [
    {
     "name": "stdout",
     "output_type": "stream",
     "text": [
      "[]\n",
      "['a']\n"
     ]
    }
   ],
   "source": [
    "# m$ -> match 'm' at the end of the string\n",
    "a = re.findall('m$', content) #no match\n",
    "print(a)\n",
    "b = re.findall('a$', 'bca') #matched\n",
    "print(b)"
   ]
  },
  {
   "cell_type": "code",
   "execution_count": 87,
   "metadata": {},
   "outputs": [
    {
     "name": "stdout",
     "output_type": "stream",
     "text": [
      "[]\n",
      "['may']\n",
      "['may']\n"
     ]
    }
   ],
   "source": [
    "# m.. -> will match 3 character string starting with m in anywhere in the string. Newline doesn't count as a character\n",
    "\n",
    "a = re.findall('m..','ma\\n') # '\\n' doesn't count as a character so no match\n",
    "print(a)\n",
    "b = re.findall('m..', 'mayank') #matched\n",
    "print(b)\n",
    "c = re.findall('m..','xyzmayank') #will search anywhere in the string, hence matched.\n",
    "print(c)"
   ]
  },
  {
   "cell_type": "code",
   "execution_count": 89,
   "metadata": {},
   "outputs": [
    {
     "name": "stdout",
     "output_type": "stream",
     "text": [
      "['a']\n",
      "['ab']\n",
      "['abb']\n",
      "['ab']\n",
      "[]\n"
     ]
    }
   ],
   "source": [
    "# ab* will match a and 0 or more occurence of b. a, ab, abb and so on will be matched. Anyuhere in the string. \n",
    "\n",
    "items = ['a','ab','abb','bab','xyz']\n",
    "for i in items:\n",
    "    a = re.findall('ab*', i)\n",
    "    print(a)"
   ]
  },
  {
   "cell_type": "code",
   "execution_count": 91,
   "metadata": {},
   "outputs": [
    {
     "name": "stdout",
     "output_type": "stream",
     "text": [
      "[]\n",
      "['ab']\n",
      "['abb']\n",
      "['ab']\n",
      "[]\n"
     ]
    }
   ],
   "source": [
    "# ab+ will match a and followed by 1 or more occurence of b.  ab, abb and so on will be matched. Anyuhere in the string. \n",
    "\n",
    "items = ['a','ab','abb','bab','xyz']\n",
    "for i in items:\n",
    "    a = re.findall('ab+', i)\n",
    "    print(a)"
   ]
  },
  {
   "cell_type": "code",
   "execution_count": 92,
   "metadata": {},
   "outputs": [
    {
     "name": "stdout",
     "output_type": "stream",
     "text": [
      "['a']\n",
      "['ab']\n",
      "['ab']\n",
      "['ab']\n",
      "[]\n"
     ]
    }
   ],
   "source": [
    "# ab? will match a and followed by 0 or 1  occurence of b.  a and ab will be matched but not abb.  Anyuhere in the string. \n",
    "\n",
    "items = ['a','ab','abb','bab','xyz']\n",
    "for i in items:\n",
    "    a = re.findall('ab?', i)\n",
    "    print(a)"
   ]
  },
  {
   "cell_type": "code",
   "execution_count": 108,
   "metadata": {},
   "outputs": [
    {
     "data": {
      "text/plain": [
       "['\\n']"
      ]
     },
     "execution_count": 108,
     "metadata": {},
     "output_type": "execute_result"
    }
   ],
   "source": [
    "# \\s -> matches whitespace character\n",
    "items = 'abambammbammmb\\naccccccccccccccccccccb'\n",
    "a = re.findall('\\s', items)\n",
    "a"
   ]
  },
  {
   "cell_type": "code",
   "execution_count": 110,
   "metadata": {},
   "outputs": [
    {
     "name": "stdout",
     "output_type": "stream",
     "text": [
      "Pretty printing has been turned OFF\n"
     ]
    },
    {
     "data": {
      "text/plain": [
       "['a', 'b', 'a', 'm', 'b', 'a', 'm', 'm', 'b', 'a', 'm', 'm', 'm', 'b', 'a', 'c', 'c', 'c', 'c', 'c', 'c', 'c', 'c', 'c', 'c', 'c', 'c', 'c', 'c', 'c', 'c', 'c', 'c', 'c', 'c', 'b']"
      ]
     },
     "execution_count": 110,
     "metadata": {},
     "output_type": "execute_result"
    }
   ],
   "source": [
    "%pprint\n",
    "# \\S -> matches all but whitespace character\n",
    "items = 'abambammbammmb\\naccccccccccccccccccccb'\n",
    "a = re.findall('\\S', items)\n",
    "a"
   ]
  },
  {
   "cell_type": "code",
   "execution_count": 111,
   "metadata": {},
   "outputs": [
    {
     "data": {
      "text/plain": [
       "['\\n']"
      ]
     },
     "execution_count": 111,
     "metadata": {},
     "output_type": "execute_result"
    }
   ],
   "source": [
    "# \\W -> matches all but word characters (0 to 9, a to z, A to Z, _)\n",
    "items = 'abambammbammmb\\naccccccccccccccccccccb'\n",
    "a = re.findall('\\W', items)\n",
    "a"
   ]
  },
  {
   "cell_type": "code",
   "execution_count": 112,
   "metadata": {},
   "outputs": [
    {
     "data": {
      "text/plain": [
       "['a', 'm', 'm', 'm', 'b', 'a', 'c', 'c', 'c', 'c', 'b']"
      ]
     },
     "execution_count": 112,
     "metadata": {},
     "output_type": "execute_result"
    }
   ],
   "source": [
    "# \\w -> matches all word characters (0 to 9, a to z, A to Z, _)\n",
    "items = 'ammmb\\naccccb'\n",
    "a = re.findall('\\w', items)\n",
    "a"
   ]
  },
  {
   "cell_type": "code",
   "execution_count": 16,
   "metadata": {},
   "outputs": [
    {
     "data": {
      "text/plain": [
       "([], ['a'], ['$', '$', '$', '$', '%', '^', '$', '^', '&', '&', '&', '&'])"
      ]
     },
     "execution_count": 16,
     "metadata": {},
     "output_type": "execute_result"
    }
   ],
   "source": [
    "# [a-zA-Z0-9] Matches any letter from (a to z) or (A to Z) or (0 to 9). \n",
    "#Characters that are not within a range can be matched by complementing the set.\n",
    "#If the first character of the set is ^, all the characters that are not in the set will be matched.\n",
    "\n",
    "item1 = '$$$$%^$^&&&&'\n",
    "item2 = 'a%'\n",
    "a = re.findall('[a-zA-Z0-9]',item1)\n",
    "b = re.findall('[a-zA-Z0-9]',item2)\n",
    "c = re.findall('[^a-zA-Z0-9]',item1)\n",
    "a,b,c"
   ]
  },
  {
   "cell_type": "code",
   "execution_count": 113,
   "metadata": {},
   "outputs": [
    {
     "data": {
      "text/plain": [
       "['a', 'b', 'a', 'b', 'a', 'b', 'a', 'b', 'a', 'b']"
      ]
     },
     "execution_count": 113,
     "metadata": {},
     "output_type": "execute_result"
    }
   ],
   "source": [
    "# [ab] -> matches either a or b\n",
    "items = 'abambammbammmb\\naccccccccccccccccccccb'\n",
    "a = re.findall('[ab]', items)\n",
    "a"
   ]
  },
  {
   "cell_type": "code",
   "execution_count": 114,
   "metadata": {},
   "outputs": [
    {
     "data": {
      "text/plain": [
       "['0', '1']"
      ]
     },
     "execution_count": 114,
     "metadata": {},
     "output_type": "execute_result"
    }
   ],
   "source": [
    "# [0-9] -> matches any digit in this range\n",
    "items = 'abambammbammmb\\naccccccccccccccccccccb0i1'\n",
    "a = re.findall('[0-9]', items)\n",
    "a"
   ]
  },
  {
   "cell_type": "code",
   "execution_count": 115,
   "metadata": {},
   "outputs": [
    {
     "data": {
      "text/plain": [
       "['55']"
      ]
     },
     "execution_count": 115,
     "metadata": {},
     "output_type": "execute_result"
    }
   ],
   "source": [
    "# [0-5][0-9] -> matches any digit in the range[00,59]\n",
    "items = 'abambammbammmb\\naccccccccccccccccccccb0i1a55'\n",
    "a = re.findall('[0-5][0-9]', items)\n",
    "a"
   ]
  },
  {
   "cell_type": "code",
   "execution_count": 123,
   "metadata": {},
   "outputs": [
    {
     "data": {
      "text/plain": [
       "['b', 'b', 'b', 'b', 'b', '0', '1']"
      ]
     },
     "execution_count": 123,
     "metadata": {},
     "output_type": "execute_result"
    }
   ],
   "source": [
    "# A|B -> match either regex A or B. \n",
    "items = 'abambammbammmb\\naccccccccccccccccccccb0i1'\n",
    "a = re.findall('[0-9]|[b]', items)\n",
    "a\n",
    "#didn't get it?"
   ]
  },
  {
   "cell_type": "code",
   "execution_count": 63,
   "metadata": {},
   "outputs": [
    {
     "name": "stdout",
     "output_type": "stream",
     "text": [
      "['b', 'am', 'b', 'am', 'b', 'am', 'b', 'b']\n",
      "['ab', 'am', 'amm', 'ammm']\n"
     ]
    }
   ],
   "source": [
    "# A|B -> Either pattern should match\n",
    "pattern = ['am|b', 'am+|ab']\n",
    "items = 'abambammbammmb\\naccccccccccccccccccccb0i1'\n",
    "for i in pattern:\n",
    "    a = re.findall(i, items)\n",
    "    print(a)\n"
   ]
  },
  {
   "cell_type": "code",
   "execution_count": 9,
   "metadata": {},
   "outputs": [
    {
     "name": "stdout",
     "output_type": "stream",
     "text": [
      "['a', 'b', 'a', 'b', 'a', 'b', 'a', 'b', 'a', 'b']\n",
      "['a', 'b', 'a', 'b', 'a', 'b', 'a', 'b', 'a', 'b']\n"
     ]
    }
   ],
   "source": [
    "# A\n",
    "pattern = ['a|b', '[ab]'] #what is the difference between 2?\n",
    "items = 'abambammbammmb\\naccccccccccccccccccccb0i1'\n",
    "for i in pattern:\n",
    "    a = re.findall(i, items)\n",
    "    print(a)\n"
   ]
  },
  {
   "cell_type": "markdown",
   "metadata": {},
   "source": [
    "**Note**\n",
    "\n",
    "`*` is greedy in nature and tries to consume as much of input as possible. To control its greediness, we use `*?`"
   ]
  },
  {
   "cell_type": "code",
   "execution_count": 14,
   "metadata": {},
   "outputs": [
    {
     "data": {
      "text/plain": [
       "([('processe', 's')], [('process', 'es')])"
      ]
     },
     "execution_count": 14,
     "metadata": {},
     "output_type": "execute_result"
    }
   ],
   "source": [
    "pattern1 = '^(.*)(s|es)$'\n",
    "pattern2 = '^(.*?)(s|es)$'\n",
    "\n",
    "re.findall(pattern1, 'processes'), re.findall(pattern2, 'processes')"
   ]
  },
  {
   "cell_type": "code",
   "execution_count": 15,
   "metadata": {},
   "outputs": [
    {
     "data": {
      "text/plain": [
       "([], [])"
      ]
     },
     "execution_count": 15,
     "metadata": {},
     "output_type": "execute_result"
    }
   ],
   "source": [
    "pattern1 = '^(.*)(s|es)$'\n",
    "pattern2 = '^(.*?)(s|es)$'\n",
    "\n",
    "re.findall(pattern1, 'abbbb'), re.findall(pattern2, 'abbbb')"
   ]
  },
  {
   "cell_type": "markdown",
   "metadata": {},
   "source": [
    "\n",
    "pattern|explanation\n",
    "-------|-------------\n",
    "'.' dot| any character\n",
    "^m     | m at the start of string\n",
    "m$     | m at the end of string\n",
    "m..    |m followed with any 2 char, newline not counted, anywhere in string\n",
    "ab*    |a and 0 or more occurence of b\n",
    "ab+    |a and 1 or more occurene of b\n",
    "ab?    |a and 0 or 1 occurence of b\n",
    "ab{3}  |a followed by 3 b\n",
    "ab{2,3}|a followed by 2 to 3 b\n",
    "\\s     |all whitespace character (eg \\n)\n",
    "\\S     |all except whitespace character\n",
    "\\w     |matches all word characters (0 to 9, a to z, A to Z, _)\n",
    "\\W     |all but word characters\n",
    "[a-zA-Z0-9] |Matches any letter from (a to z) or (A to Z) or (0 to 9).\n",
    "[^a-zA-Z0-9]| Matches every character not in the list\n",
    "[ab]   | matches either a or b\n",
    "[0-9]  |matches any digit in the range\n",
    "[0-5][0-9]| matches any number from 00 to 59\n",
    "[0-9]+ | will match the longest number (to be checked)\n",
    "\n",
    "\n",
    "**Note**\n",
    "\n",
    " - a | b ->/match either a or b\n",
    " - `*` is greedy in nature and tries to consume as much of input as possible. To control its greediness, we use `*?`\n",
    "\n"
   ]
  },
  {
   "cell_type": "code",
   "execution_count": 10,
   "metadata": {
    "collapsed": true
   },
   "outputs": [],
   "source": [
    "pattern = '[aeiou]{2,}'\n",
    "\n",
    "#what will this match?\n",
    "a = 'a|b'\n",
    "b = '[ab]'\n",
    "#what is the difference between a and b"
   ]
  },
  {
   "cell_type": "code",
   "execution_count": null,
   "metadata": {
    "collapsed": true
   },
   "outputs": [],
   "source": []
  }
 ],
 "metadata": {
  "kernelspec": {
   "display_name": "Python 3",
   "language": "python",
   "name": "python3"
  },
  "language_info": {
   "codemirror_mode": {
    "name": "ipython",
    "version": 3
   },
   "file_extension": ".py",
   "mimetype": "text/x-python",
   "name": "python",
   "nbconvert_exporter": "python",
   "pygments_lexer": "ipython3",
   "version": "3.6.3"
  }
 },
 "nbformat": 4,
 "nbformat_minor": 2
}
