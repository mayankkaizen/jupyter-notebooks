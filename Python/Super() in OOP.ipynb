{
 "cells": [
  {
   "cell_type": "code",
   "execution_count": 31,
   "metadata": {},
   "outputs": [
    {
     "name": "stdout",
     "output_type": "stream",
     "text": [
      "Diff grade for diff group\n",
      "Sam - Top grade\n",
      "100\n",
      "None\n",
      "Middle Grade\n",
      "None\n"
     ]
    }
   ],
   "source": [
    "class Employee:\n",
    "    def __init__(self, name):\n",
    "        self.name = name\n",
    "        \n",
    "    def grade(self):\n",
    "        print(\"Diff grade for diff group\")\n",
    "        \n",
    "        \n",
    "class Top(Employee):\n",
    "    def __init__(self, name, perk):\n",
    "        Employee.__init__(self, name)\n",
    "        self.perk = perk\n",
    "    \n",
    "    def grade(self):    \n",
    "            Employee.grade(self)\n",
    "            print(\"%s - Top grade\" %self.name)\n",
    "            print(self.perk)\n",
    "        \n",
    "class Middle(Employee):\n",
    "    def __init__(self, name, salary):\n",
    "        Employee.__init__(self, name)\n",
    "        \n",
    "    def grade(self):\n",
    "        print(\"Middle Grade\")\n",
    "        \n",
    "\n",
    "emp1 = Top('Sam', 100)\n",
    "emp2 = Middle('Peter', 200)\n",
    "\n",
    "for e in [emp1, emp2]:\n",
    "    print(e.grade());\n",
    "    "
   ]
  },
  {
   "cell_type": "code",
   "execution_count": 2,
   "metadata": {},
   "outputs": [
    {
     "name": "stdout",
     "output_type": "stream",
     "text": [
      "Diff grade for diff group\n",
      "Top grade\n",
      "None\n",
      "Diff grade for diff group\n",
      "None\n"
     ]
    }
   ],
   "source": [
    "class Employee:\n",
    "    def __init__(self, name):\n",
    "        self.name = name\n",
    "        \n",
    "    def grade(self):\n",
    "        print(\"Diff grade for diff group\")\n",
    "        \n",
    "        \n",
    "class Top(Employee):\n",
    "    def __init__(self, name, perk):\n",
    "        #Employee.__init__(self, name) #code is running even without this line. Why?\n",
    "        self.perk = perk\n",
    "    \n",
    "    def grade(self):    \n",
    "            Employee.grade(self)\n",
    "            print(\"Top grade\")\n",
    "        \n",
    "class Middle(Employee):\n",
    "    def __init__(self, name, salary):\n",
    "        Employee.__init__(self, name)\n",
    "        \n",
    "\n",
    "emp1 = Top('Sam', 100)\n",
    "emp2 = Middle('Peter', 200)\n",
    "\n",
    "for e in [emp1, emp2]:\n",
    "    print(e.grade());\n",
    "    "
   ]
  },
  {
   "cell_type": "code",
   "execution_count": 3,
   "metadata": {},
   "outputs": [
    {
     "name": "stdout",
     "output_type": "stream",
     "text": [
      "Diff grade for diff group\n",
      "None\n",
      "Diff grade for diff group\n",
      "None\n"
     ]
    }
   ],
   "source": [
    "class Employee:\n",
    "    def __init__(self, name):\n",
    "        self.name = name\n",
    "        \n",
    "    def grade(self):\n",
    "        print(\"Diff grade for diff group\")\n",
    "        \n",
    "        \n",
    "class Top(Employee):\n",
    "    def __init__(self, name, perk):\n",
    "        #Employee.__init__(self, name) #code is running even without this line. Why?\n",
    "        self.perk = perk\n",
    "        \n",
    "class Middle(Employee):\n",
    "    def __init__(self, name, salary):\n",
    "        Employee.__init__(self, name)\n",
    "        \n",
    "\n",
    "emp1 = Top('Sam', 100)\n",
    "emp2 = Middle('Peter', 200)\n",
    "\n",
    "for e in [emp1, emp2]:\n",
    "    print(e.grade());\n",
    "    "
   ]
  },
  {
   "cell_type": "code",
   "execution_count": 4,
   "metadata": {
    "scrolled": true
   },
   "outputs": [
    {
     "name": "stdout",
     "output_type": "stream",
     "text": [
      "In super method\n",
      "None\n",
      "Starting sub method\n",
      "In super method\n",
      "Ending sub method\n",
      "None\n"
     ]
    }
   ],
   "source": [
    "class Super:\n",
    "    def method(self):\n",
    "        print(\"In super method\")\n",
    "        \n",
    "class Sub(Super):\n",
    "    def method(self):\n",
    "        print(\"Starting sub method\")\n",
    "        Super.method(self)\n",
    "        print(\"Ending sub method\")\n",
    "        \n",
    "        \n",
    "x = Super()\n",
    "y = Sub()\n",
    "\n",
    "for e in [x,y]:\n",
    "    print(e.method());"
   ]
  },
  {
   "cell_type": "code",
   "execution_count": 8,
   "metadata": {},
   "outputs": [
    {
     "name": "stdout",
     "output_type": "stream",
     "text": [
      "Hi Sam\n"
     ]
    }
   ],
   "source": [
    "class Employee:\n",
    "    def __init__(self, name):\n",
    "        self.name = name\n",
    "        \n",
    "    def hi(self):\n",
    "        print('Hi %s' %self.name)\n",
    "        \n",
    "class Top(Employee):\n",
    "    def __init__(self, name):\n",
    "        Employee.__init__(self, name)\n",
    "        \n",
    "a = Top('Sam')        \n",
    "a.hi()"
   ]
  },
  {
   "cell_type": "code",
   "execution_count": 9,
   "metadata": {},
   "outputs": [
    {
     "name": "stdout",
     "output_type": "stream",
     "text": [
      "Hi Sam\n"
     ]
    }
   ],
   "source": [
    "class Employee:\n",
    "    def __init__(self, name):\n",
    "        self.name = name\n",
    "        \n",
    "    def hi(self):\n",
    "        print('Hi %s' %self.name)\n",
    "        \n",
    "class Top(Employee):\n",
    "    def __init__(self, name):\n",
    "        self.name = name\n",
    "        \n",
    "a = Top('Sam')        \n",
    "a.hi()"
   ]
  },
  {
   "cell_type": "code",
   "execution_count": 12,
   "metadata": {},
   "outputs": [
    {
     "name": "stdout",
     "output_type": "stream",
     "text": [
      "Hi there, Sam\n"
     ]
    }
   ],
   "source": [
    "class Employee:\n",
    "    def __init__(self, name):\n",
    "        self.name = name\n",
    "        \n",
    "    def hi(self):\n",
    "        print('Hi %s' %self.name)\n",
    "        \n",
    "class Top(Employee):\n",
    "    def __init__(self, name):\n",
    "        self.name = name\n",
    "    \n",
    "    def hi(self):\n",
    "        print('Hi there, %s' %self.name)\n",
    "        \n",
    "a = Top('Sam')        \n",
    "a.hi()"
   ]
  },
  {
   "cell_type": "code",
   "execution_count": 14,
   "metadata": {},
   "outputs": [
    {
     "ename": "AttributeError",
     "evalue": "'Top' object has no attribute 'super'",
     "output_type": "error",
     "traceback": [
      "\u001b[1;31m---------------------------------------------------------------------------\u001b[0m",
      "\u001b[1;31mAttributeError\u001b[0m                            Traceback (most recent call last)",
      "\u001b[1;32m<ipython-input-14-b7ed4d599191>\u001b[0m in \u001b[0;36m<module>\u001b[1;34m()\u001b[0m\n\u001b[1;32m----> 1\u001b[1;33m \u001b[0ma\u001b[0m\u001b[1;33m.\u001b[0m\u001b[0msuper\u001b[0m\u001b[1;33m(\u001b[0m\u001b[1;33m)\u001b[0m\u001b[1;33m.\u001b[0m\u001b[0mhi\u001b[0m\u001b[1;33m(\u001b[0m\u001b[1;33m)\u001b[0m\u001b[1;33m\u001b[0m\u001b[0m\n\u001b[0m",
      "\u001b[1;31mAttributeError\u001b[0m: 'Top' object has no attribute 'super'"
     ]
    }
   ],
   "source": [
    "a.super().hi()"
   ]
  },
  {
   "cell_type": "markdown",
   "metadata": {},
   "source": [
    "### `Super()`  in Inheritance"
   ]
  },
  {
   "cell_type": "code",
   "execution_count": 16,
   "metadata": {},
   "outputs": [
    {
     "data": {
      "text/plain": [
       "(6, 9)"
      ]
     },
     "execution_count": 16,
     "metadata": {},
     "output_type": "execute_result"
    }
   ],
   "source": [
    "class Rectangle:\n",
    "    def __init__(self, length, width):\n",
    "        self.length = length\n",
    "        self.width = width\n",
    "        \n",
    "    def area(self):\n",
    "        return self.length * self.width\n",
    "    \n",
    "    def perimeter(self):\n",
    "        return 2*(self.length+self.width)\n",
    "    \n",
    "class Square:\n",
    "    def __init__(self, length):\n",
    "        self.length = length\n",
    "        \n",
    "    def area(self):\n",
    "        return self.length * self.length\n",
    "    \n",
    "    def perimeter(self):\n",
    "        return 4*(self.length)\n",
    "    \n",
    "rect = Rectangle(2,3)\n",
    "square = Square(3)\n",
    "\n",
    "rect.area(),square.area()\n",
    "    "
   ]
  },
  {
   "cell_type": "code",
   "execution_count": 34,
   "metadata": {},
   "outputs": [
    {
     "data": {
      "text/plain": [
       "(6, 9)"
      ]
     },
     "execution_count": 34,
     "metadata": {},
     "output_type": "execute_result"
    }
   ],
   "source": [
    "class Rectangle:\n",
    "    def __init__(self, length, width):\n",
    "        self.length = length\n",
    "        self.width = width\n",
    "        \n",
    "    def area(self):\n",
    "        return self.length * self.width\n",
    "    \n",
    "    def perimeter(self):\n",
    "        return 2*(self.length+self.width)\n",
    "    \n",
    "class Square(Rectangle):\n",
    "    def __init__(self, length):\n",
    "        super().__init__(length, length) #Rectangle.__init__(self...) can't be used. Why?\n",
    "        \n",
    "rect = Rectangle(2,3)\n",
    "square = Square(3)\n",
    "\n",
    "rect.area(),square.area()\n",
    "            "
   ]
  },
  {
   "cell_type": "code",
   "execution_count": 23,
   "metadata": {
    "collapsed": true
   },
   "outputs": [],
   "source": [
    "class Cube(Square):\n",
    "    def surface_area(self):\n",
    "        face_area = super().area()\n",
    "        return face_area*6\n",
    "    \n",
    "    def volume(self):\n",
    "        face_area = super().area()\n",
    "        return face_area*self.length\n",
    "    \n",
    "cube = Cube(3)    "
   ]
  },
  {
   "cell_type": "code",
   "execution_count": 24,
   "metadata": {},
   "outputs": [
    {
     "data": {
      "text/plain": [
       "(54, 27)"
      ]
     },
     "execution_count": 24,
     "metadata": {},
     "output_type": "execute_result"
    }
   ],
   "source": [
    "cube.surface_area(), cube.volume()"
   ]
  },
  {
   "cell_type": "markdown",
   "metadata": {},
   "source": [
    "#### A `super()` Deep Dive\n",
    "\n",
    "In above examples, `super()` was called without any parameter. But this method can also take 2 parameters: the first is the subclass, and the second parameter is an object that is an instance of that subclass. \n",
    "\n",
    "The below example is exact same as the one described earlier, except that `super()` now takes 2 parameters."
   ]
  },
  {
   "cell_type": "code",
   "execution_count": 69,
   "metadata": {},
   "outputs": [
    {
     "data": {
      "text/plain": [
       "(6, 9)"
      ]
     },
     "execution_count": 69,
     "metadata": {},
     "output_type": "execute_result"
    }
   ],
   "source": [
    "class Rectangle:\n",
    "    def __init__(self, length, width):\n",
    "        self.length = length\n",
    "        self.width = width\n",
    "        \n",
    "    def area(self):\n",
    "        return self.length * self.width\n",
    "    \n",
    "    def perimeter(self):\n",
    "        return 2*(self.length+self.width)\n",
    "    \n",
    "class Square(Rectangle):\n",
    "    def __init__(self, length):\n",
    "        super(Square, self).__init__(length, length) #Rectangle.__init__(self...) can't be used. Why?\n",
    "        \n",
    "rect = Rectangle(2,3)\n",
    "square = Square(3)\n",
    "rect.area(),square.area()"
   ]
  },
  {
   "cell_type": "markdown",
   "metadata": {},
   "source": [
    "In Python 3, the `super(Square, self)` call is equivalent to the parameterless `super()` call. The first parameter refers to the subsclass `Square`, while the second parameter refers to a `Square` object which, in this case, is `self`. You can call `super()` with other classes as well: "
   ]
  },
  {
   "cell_type": "code",
   "execution_count": null,
   "metadata": {
    "collapsed": true
   },
   "outputs": [],
   "source": []
  }
 ],
 "metadata": {
  "kernelspec": {
   "display_name": "Python 3",
   "language": "python",
   "name": "python3"
  },
  "language_info": {
   "codemirror_mode": {
    "name": "ipython",
    "version": 3
   },
   "file_extension": ".py",
   "mimetype": "text/x-python",
   "name": "python",
   "nbconvert_exporter": "python",
   "pygments_lexer": "ipython3",
   "version": "3.6.3"
  }
 },
 "nbformat": 4,
 "nbformat_minor": 2
}
