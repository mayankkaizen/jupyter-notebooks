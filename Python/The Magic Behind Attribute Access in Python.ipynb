{
 "cells": [
  {
   "cell_type": "markdown",
   "metadata": {},
   "source": [
    "[Source](https://codesachin.wordpress.com/2016/06/09/the-magic-behind-attribute-access-in-python/)"
   ]
  },
  {
   "cell_type": "markdown",
   "metadata": {},
   "source": [
    "Most people know just one thing when it comes to attribute access -  the dot notation (as in `x.some_attribute`). In simple terms, **attribute access** is the way you retrieve an object linked to the one you already have. To someone who uses Python without delving too much into the details, it may seem pretty straightforward. However, under the hood, there's a lot that goes on for this seemingly trivial task. \n",
    "\n",
    "Let's look at each of the components one by one."
   ]
  },
  {
   "cell_type": "markdown",
   "metadata": {},
   "source": [
    "#### The `__dict__` attribute\n",
    "\n",
    "Every object in Python has an attribute denoted by `__dict__`. This dictionary/dictionary-like (more on that later) object contains all atrributes defined *for the object itself*. It maps the attribute name to its value. \n",
    "\n",
    "Here's an example - "
   ]
  },
  {
   "cell_type": "code",
   "execution_count": 2,
   "metadata": {},
   "outputs": [
    {
     "data": {
      "text/plain": [
       "{'y': 5}"
      ]
     },
     "execution_count": 2,
     "metadata": {},
     "output_type": "execute_result"
    }
   ],
   "source": [
    "class C:\n",
    "    x = 4\n",
    "    \n",
    "c = C()\n",
    "c.y = 5\n",
    "c.__dict__"
   ]
  },
  {
   "cell_type": "markdown",
   "metadata": {},
   "source": [
    "Notice how `x` is not in `c.__dict__`. The reason for this is simple enough.  While `y` was defined for the object `c`, `x` was defined for its class (`C`). Therefore, it will appear in the `__dict__` of `C`. In fact, `C`'s `__dict__` contains a lot of other keys too (including `__dict__`):"
   ]
  },
  {
   "cell_type": "code",
   "execution_count": 4,
   "metadata": {},
   "outputs": [
    {
     "data": {
      "text/plain": [
       "4"
      ]
     },
     "execution_count": 4,
     "metadata": {},
     "output_type": "execute_result"
    }
   ],
   "source": [
    "c.__class__.__dict__['x']"
   ]
  },
  {
   "cell_type": "code",
   "execution_count": 5,
   "metadata": {},
   "outputs": [
    {
     "data": {
      "text/plain": [
       "mappingproxy({'__dict__': <attribute '__dict__' of 'C' objects>,\n",
       "              '__doc__': None,\n",
       "              '__module__': '__main__',\n",
       "              '__weakref__': <attribute '__weakref__' of 'C' objects>,\n",
       "              'x': 4})"
      ]
     },
     "execution_count": 5,
     "metadata": {},
     "output_type": "execute_result"
    }
   ],
   "source": [
    "c.__class__.__dict__"
   ]
  },
  {
   "cell_type": "markdown",
   "metadata": {},
   "source": [
    "We will look at what `mappingproxy` means soon. (Note that original article was based on older version of Python and in older versions, Python used `dictproxy`. In Python > 3.3, it has been renamed to `mappingproxy`)\n",
    "\n",
    "The `__dict__` of an object is simple enough to understand. It behaves like a Python `dict`, and is one too. "
   ]
  },
  {
   "cell_type": "code",
   "execution_count": 6,
   "metadata": {},
   "outputs": [
    {
     "data": {
      "text/plain": [
       "{'y': 5}"
      ]
     },
     "execution_count": 6,
     "metadata": {},
     "output_type": "execute_result"
    }
   ],
   "source": [
    "c.__dict__"
   ]
  },
  {
   "cell_type": "code",
   "execution_count": 7,
   "metadata": {},
   "outputs": [
    {
     "data": {
      "text/plain": [
       "dict"
      ]
     },
     "execution_count": 7,
     "metadata": {},
     "output_type": "execute_result"
    }
   ],
   "source": [
    "c.__dict__.__class__"
   ]
  },
  {
   "cell_type": "code",
   "execution_count": 8,
   "metadata": {},
   "outputs": [
    {
     "ename": "AttributeError",
     "evalue": "'C' object has no attribute 'y'",
     "output_type": "error",
     "traceback": [
      "\u001b[1;31m---------------------------------------------------------------------------\u001b[0m",
      "\u001b[1;31mAttributeError\u001b[0m                            Traceback (most recent call last)",
      "\u001b[1;32m<ipython-input-8-55a4c9cffb41>\u001b[0m in \u001b[0;36m<module>\u001b[1;34m()\u001b[0m\n\u001b[0;32m      1\u001b[0m \u001b[0mc\u001b[0m\u001b[1;33m.\u001b[0m\u001b[0m__dict__\u001b[0m \u001b[1;33m=\u001b[0m \u001b[1;33m{\u001b[0m\u001b[1;33m}\u001b[0m\u001b[1;33m\u001b[0m\u001b[0m\n\u001b[1;32m----> 2\u001b[1;33m \u001b[0mc\u001b[0m\u001b[1;33m.\u001b[0m\u001b[0my\u001b[0m\u001b[1;33m\u001b[0m\u001b[0m\n\u001b[0m",
      "\u001b[1;31mAttributeError\u001b[0m: 'C' object has no attribute 'y'"
     ]
    }
   ],
   "source": [
    "c.__dict__ = {}\n",
    "c.y"
   ]
  },
  {
   "cell_type": "code",
   "execution_count": 9,
   "metadata": {
    "collapsed": true
   },
   "outputs": [],
   "source": [
    "c.__dict__['y'] = 5"
   ]
  },
  {
   "cell_type": "code",
   "execution_count": 10,
   "metadata": {},
   "outputs": [
    {
     "data": {
      "text/plain": [
       "5"
      ]
     },
     "execution_count": 10,
     "metadata": {},
     "output_type": "execute_result"
    }
   ],
   "source": [
    "c.y"
   ]
  },
  {
   "cell_type": "markdown",
   "metadata": {},
   "source": [
    "The `__dict__` of a class however, is not that straight-forward. Its actually an object of a class called `mappingproxy`. `mappingproxy` is a special class whose objects behave like normal `dict`s, but differ in some key behaviour. "
   ]
  },
  {
   "cell_type": "code",
   "execution_count": 11,
   "metadata": {},
   "outputs": [
    {
     "data": {
      "text/plain": [
       "mappingproxy({'__dict__': <attribute '__dict__' of 'C' objects>,\n",
       "              '__doc__': None,\n",
       "              '__module__': '__main__',\n",
       "              '__weakref__': <attribute '__weakref__' of 'C' objects>,\n",
       "              'x': 4})"
      ]
     },
     "execution_count": 11,
     "metadata": {},
     "output_type": "execute_result"
    }
   ],
   "source": [
    "C.__dict__"
   ]
  },
  {
   "cell_type": "code",
   "execution_count": 12,
   "metadata": {},
   "outputs": [
    {
     "data": {
      "text/plain": [
       "mappingproxy"
      ]
     },
     "execution_count": 12,
     "metadata": {},
     "output_type": "execute_result"
    }
   ],
   "source": [
    "C.__dict__.__class__"
   ]
  },
  {
   "cell_type": "code",
   "execution_count": 13,
   "metadata": {},
   "outputs": [
    {
     "data": {
      "text/plain": [
       "4"
      ]
     },
     "execution_count": 13,
     "metadata": {},
     "output_type": "execute_result"
    }
   ],
   "source": [
    "C.__dict__['x']"
   ]
  },
  {
   "cell_type": "code",
   "execution_count": 14,
   "metadata": {},
   "outputs": [
    {
     "ename": "TypeError",
     "evalue": "'mappingproxy' object does not support item assignment",
     "output_type": "error",
     "traceback": [
      "\u001b[1;31m---------------------------------------------------------------------------\u001b[0m",
      "\u001b[1;31mTypeError\u001b[0m                                 Traceback (most recent call last)",
      "\u001b[1;32m<ipython-input-14-e7fb82c9a71f>\u001b[0m in \u001b[0;36m<module>\u001b[1;34m()\u001b[0m\n\u001b[1;32m----> 1\u001b[1;33m \u001b[0mC\u001b[0m\u001b[1;33m.\u001b[0m\u001b[0m__dict__\u001b[0m\u001b[1;33m[\u001b[0m\u001b[1;34m'x'\u001b[0m\u001b[1;33m]\u001b[0m \u001b[1;33m=\u001b[0m \u001b[1;36m8\u001b[0m\u001b[1;33m\u001b[0m\u001b[0m\n\u001b[0m",
      "\u001b[1;31mTypeError\u001b[0m: 'mappingproxy' object does not support item assignment"
     ]
    }
   ],
   "source": [
    "C.__dict__['x'] = 8"
   ]
  },
  {
   "cell_type": "code",
   "execution_count": 15,
   "metadata": {},
   "outputs": [
    {
     "ename": "AttributeError",
     "evalue": "attribute '__dict__' of 'type' objects is not writable",
     "output_type": "error",
     "traceback": [
      "\u001b[1;31m---------------------------------------------------------------------------\u001b[0m",
      "\u001b[1;31mAttributeError\u001b[0m                            Traceback (most recent call last)",
      "\u001b[1;32m<ipython-input-15-82eeee699175>\u001b[0m in \u001b[0;36m<module>\u001b[1;34m()\u001b[0m\n\u001b[0;32m      1\u001b[0m \u001b[0mC\u001b[0m\u001b[1;33m.\u001b[0m\u001b[0mx\u001b[0m \u001b[1;33m=\u001b[0m \u001b[1;36m8\u001b[0m\u001b[1;33m\u001b[0m\u001b[0m\n\u001b[1;32m----> 2\u001b[1;33m \u001b[0mC\u001b[0m\u001b[1;33m.\u001b[0m\u001b[0m__dict__\u001b[0m \u001b[1;33m=\u001b[0m \u001b[1;33m{\u001b[0m\u001b[1;33m}\u001b[0m\u001b[1;33m\u001b[0m\u001b[0m\n\u001b[0m",
      "\u001b[1;31mAttributeError\u001b[0m: attribute '__dict__' of 'type' objects is not writable"
     ]
    }
   ],
   "source": [
    "C.x = 8\n",
    "C.__dict__ = {}"
   ]
  },
  {
   "cell_type": "code",
   "execution_count": 16,
   "metadata": {},
   "outputs": [
    {
     "data": {
      "text/plain": [
       "8"
      ]
     },
     "execution_count": 16,
     "metadata": {},
     "output_type": "execute_result"
    }
   ],
   "source": [
    "C.x"
   ]
  },
  {
   "cell_type": "markdown",
   "metadata": {},
   "source": [
    "Notice how you cannot set a key in a `mappingproxy` directly. (`C.__dict__['x']` does not work). You can accomplish the same using `C.x = 8` however, since the internal behaviour then is different. Also notice how you cannot set the `__dict__` attribute itself either (`C.__dict__ = {}` does not work).\n",
    "\n",
    "There's a reason behind this weird implementation. If you don't want to get into the details, just know that its fo the Python to keep working properly, and to enforce some optimizations. If you want a more detailed explanation, have a look at Scott H's answer to the SO question, [\"What's the purpose of dictproxy?\"]()\n"
   ]
  },
  {
   "cell_type": "markdown",
   "metadata": {},
   "source": [
    "#### Descriptors\n",
    "\n",
    "A **descriptor** is an object that has *atleast one* of the following magic methods in its attributes: `__get__`, `__set__` or `__delete__` (Remember methods are ultimately objects in Python). Mind you, its the object we are talking about. Its class may or may not have implemented them.\n",
    "\n",
    "Descriptors can help you define the behaviour of an object's attribute in Python. With each of the magic methods just mentioned, you implement how the attribute ('described' by the described the discriptor) will be retrieved, set and deleted *in the object* respectively. There are two types of descriptors =  **Data Descriptors** and **Non-Data Descriptors**.\n",
    "\n",
    "Non-data descriptors only have `__get__` defined. All others are Data descriptors. You would naturally think, why these two types are called so. The answer is intuitive. Usually, it's data-related attributes that we tend to 'set' or 'delete' with respect to an object. \n",
    "\n",
    "Other attributes, like methods themselves, we don't. So their descriptors are called Non-data descriptors. As with a lot of other things in Python, this is not a hard-and-fast rule, but a convention. You could just as well describe a method with a Data Descriptor. But then, its `__get__` should return a function.\n",
    "\n",
    "Here's an example of two classes that will come up with data and non-data descriptor objects respectively:\n",
    "\n"
   ]
  },
  {
   "cell_type": "code",
   "execution_count": 27,
   "metadata": {
    "collapsed": true
   },
   "outputs": [],
   "source": [
    "class DataDesc:\n",
    "    def __init__(self, name):\n",
    "        self._name = name\n",
    "        \n",
    "    def __get__(self, obj, objclass):\n",
    "        try:\n",
    "            print(\"Retrieving attr \"+self._name+\" from \"+str(obj)+\"...\")\n",
    "            return objclass.x +\" + \" + obj.y\n",
    "        except:\n",
    "            raise AttributeError(\"Attr \"+self._name+\" could not be retrieved from \"+str(obj))\n",
    "    \n",
    "    def __set__(self, obj, value):\n",
    "        raise AttributeError(\"Attr \"+self._name+\" can't be set in \"+str(obj))\n",
    "        \n",
    "    def __delete__(self, obj):\n",
    "        raise AttributeError(\"Attr \"+self._name+\" can't be deleted in \"+str(obj))\n",
    "        \n",
    "class NonDataDesc:\n",
    "    def __init__(self, name):\n",
    "        self._name = name\n",
    "        \n",
    "    def __get__(self, obj, objclass):\n",
    "        try:\n",
    "            print(\"Retrieving attr \"+self._name+\" from \"+str(obj)+\"...\")\n",
    "            return objclass.x + \" + \" +obj.y\n",
    "        except:    \n",
    "            raise AttributeError(\"Attr \"+self._name+\" could not be retrieved from \"+str(obj))"
   ]
  },
  {
   "cell_type": "markdown",
   "metadata": {},
   "source": [
    "Notice how the `__get__` function takes in an object (`obj`) and its class `objclass`. Similarily, setting the value requires `obj` and some candidate `value`. Deletion just needs `obj`. Taking these parameters in (along with  the initializer `__init__`) helps you differentiate between between objects of the same descriptor class. Mind you, it's the objects that are intended to be the descriptors. (P.S. If you don't define the `__get__` method for a descriptor, the descriptor object itself will get returned).\n",
    "\n",
    "Let's use these classes in some code."
   ]
  },
  {
   "cell_type": "code",
   "execution_count": 28,
   "metadata": {
    "collapsed": true
   },
   "outputs": [],
   "source": [
    "class ParentClass:\n",
    "    x = 'x1'\n",
    "    y = 'y1'\n",
    "    data_attr_parent = DataDesc(\"desc1\")\n",
    "    data_attr_child = DataDesc(\"desc2\")\n",
    "    \n",
    "class ChildClass(ParentClass):\n",
    "    x = 'x2'\n",
    "    y = 'y2'\n",
    "    data_attr_child = DataDesc(\"desc3\")\n",
    "    non_data_attr_child = NonDataDesc(\"desc4\")\n",
    "    \n",
    "some_object = ChildClass()    "
   ]
  },
  {
   "cell_type": "markdown",
   "metadata": {},
   "source": [
    "That's it. You can access the 'described' objects as usual in Python."
   ]
  },
  {
   "cell_type": "code",
   "execution_count": 29,
   "metadata": {},
   "outputs": [
    {
     "name": "stdout",
     "output_type": "stream",
     "text": [
      "Retrieving attr desc1 from <__main__.ChildClass object at 0x03631210>...\n"
     ]
    },
    {
     "data": {
      "text/plain": [
       "'x2 + y2'"
      ]
     },
     "execution_count": 29,
     "metadata": {},
     "output_type": "execute_result"
    }
   ],
   "source": [
    "some_object.data_attr_parent"
   ]
  },
  {
   "cell_type": "markdown",
   "metadata": {},
   "source": [
    "Descriptors are used for a lot of attribute and method related functionality in Python, including static methods, class methods and properties. Using descriptors, you can gain better control over how attributes and methods o a class/its objects are accessed - including fefining some 'behind the scenes' functionality like logging. \n",
    "\n",
    "Now let's look at the high-level rules governing attribute access in Python."
   ]
  },
  {
   "cell_type": "markdown",
   "metadata": {},
   "source": [
    "#### The Rules\n",
    "\n",
    "The workflow is as follows:\n",
    "\n",
    " 1. If `attrname` is a special (i.e. Python-provided) attribute for `objectname`, return it. \n",
    " 2. Check `objectname.__class__.__dict__` for `attrname`. If it exists and is a data descriptor, return the descriptor result. Search all bases of `objectname.__class__` for the same case.\n",
    " 3. Check `objectname.__dict__` for `attrname`, and return if found. If `objectname` is a class, search its baes too. If it is a class and a descriptor exists in it or its bases, return the descriptor result.\n",
    " 4. Check `objectname.__class__.__dict__` for `attrname`. If it exists and is a non-data descriptor, return the descriptor, return the descriptor result. If it exists, and is not a descriptor, just return it. If it exists and is a data descriptor, we shouldn't be here because we would have returned at point 2. Search all bases of `objectname.__class__` for same case. \n",
    " 5. Raise `AttributeError`.\n",
    " \n",
    "To make things clearer, here's some tinkering using the code we wrote in the *Descriptors* section (Have a look at it again just to be clear about things):\n",
    "\n",
    "`data_attr_child` is a data descriptor in `some_object`'s class. So you can't write over it. Also, the version in `ChildClass` (`desc3`) is used, not the one in `ParentClass`."
   ]
  },
  {
   "cell_type": "code",
   "execution_count": 30,
   "metadata": {},
   "outputs": [
    {
     "name": "stdout",
     "output_type": "stream",
     "text": [
      "Retrieving attr desc3 from <__main__.ChildClass object at 0x03631210>...\n"
     ]
    },
    {
     "data": {
      "text/plain": [
       "'x2 + y2'"
      ]
     },
     "execution_count": 30,
     "metadata": {},
     "output_type": "execute_result"
    }
   ],
   "source": [
    "some_object.data_attr_child"
   ]
  },
  {
   "cell_type": "code",
   "execution_count": 31,
   "metadata": {},
   "outputs": [
    {
     "ename": "AttributeError",
     "evalue": "Attr desc3 can't be set in <__main__.ChildClass object at 0x03631210>",
     "output_type": "error",
     "traceback": [
      "\u001b[1;31m---------------------------------------------------------------------------\u001b[0m",
      "\u001b[1;31mAttributeError\u001b[0m                            Traceback (most recent call last)",
      "\u001b[1;32m<ipython-input-31-3600147a0ef3>\u001b[0m in \u001b[0;36m<module>\u001b[1;34m()\u001b[0m\n\u001b[1;32m----> 1\u001b[1;33m \u001b[0msome_object\u001b[0m\u001b[1;33m.\u001b[0m\u001b[0mdata_attr_child\u001b[0m \u001b[1;33m=\u001b[0m \u001b[1;34m'xyz'\u001b[0m\u001b[1;33m\u001b[0m\u001b[0m\n\u001b[0m",
      "\u001b[1;32m<ipython-input-27-2f83cebffb36>\u001b[0m in \u001b[0;36m__set__\u001b[1;34m(self, obj, value)\u001b[0m\n\u001b[0;32m     11\u001b[0m \u001b[1;33m\u001b[0m\u001b[0m\n\u001b[0;32m     12\u001b[0m     \u001b[1;32mdef\u001b[0m \u001b[0m__set__\u001b[0m\u001b[1;33m(\u001b[0m\u001b[0mself\u001b[0m\u001b[1;33m,\u001b[0m \u001b[0mobj\u001b[0m\u001b[1;33m,\u001b[0m \u001b[0mvalue\u001b[0m\u001b[1;33m)\u001b[0m\u001b[1;33m:\u001b[0m\u001b[1;33m\u001b[0m\u001b[0m\n\u001b[1;32m---> 13\u001b[1;33m         \u001b[1;32mraise\u001b[0m \u001b[0mAttributeError\u001b[0m\u001b[1;33m(\u001b[0m\u001b[1;34m\"Attr \"\u001b[0m\u001b[1;33m+\u001b[0m\u001b[0mself\u001b[0m\u001b[1;33m.\u001b[0m\u001b[0m_name\u001b[0m\u001b[1;33m+\u001b[0m\u001b[1;34m\" can't be set in \"\u001b[0m\u001b[1;33m+\u001b[0m\u001b[0mstr\u001b[0m\u001b[1;33m(\u001b[0m\u001b[0mobj\u001b[0m\u001b[1;33m)\u001b[0m\u001b[1;33m)\u001b[0m\u001b[1;33m\u001b[0m\u001b[0m\n\u001b[0m\u001b[0;32m     14\u001b[0m \u001b[1;33m\u001b[0m\u001b[0m\n\u001b[0;32m     15\u001b[0m     \u001b[1;32mdef\u001b[0m \u001b[0m__delete__\u001b[0m\u001b[1;33m(\u001b[0m\u001b[0mself\u001b[0m\u001b[1;33m,\u001b[0m \u001b[0mobj\u001b[0m\u001b[1;33m)\u001b[0m\u001b[1;33m:\u001b[0m\u001b[1;33m\u001b[0m\u001b[0m\n",
      "\u001b[1;31mAttributeError\u001b[0m: Attr desc3 can't be set in <__main__.ChildClass object at 0x03631210>"
     ]
    }
   ],
   "source": [
    "some_object.data_attr_child = 'xyz'"
   ]
  },
  {
   "cell_type": "markdown",
   "metadata": {},
   "source": [
    "In fact, even if you make an appropriate entry in `some_object`'s dict, it still won't matter (as per rule 1)."
   ]
  },
  {
   "cell_type": "code",
   "execution_count": 32,
   "metadata": {},
   "outputs": [
    {
     "name": "stdout",
     "output_type": "stream",
     "text": [
      "Retrieving attr desc3 from <__main__.ChildClass object at 0x03631210>...\n"
     ]
    },
    {
     "data": {
      "text/plain": [
       "'x2 + y2'"
      ]
     },
     "execution_count": 32,
     "metadata": {},
     "output_type": "execute_result"
    }
   ],
   "source": [
    "some_object.__dict__['data_attr_child'] = 'xyz'\n",
    "some_object.data_attr_child"
   ]
  },
  {
   "cell_type": "markdown",
   "metadata": {},
   "source": [
    "The non-data descriptor attribute, on the other hand, can be easily overwritten."
   ]
  },
  {
   "cell_type": "code",
   "execution_count": 33,
   "metadata": {},
   "outputs": [
    {
     "name": "stdout",
     "output_type": "stream",
     "text": [
      "Retrieving attr desc4 from <__main__.ChildClass object at 0x03631210>...\n"
     ]
    },
    {
     "data": {
      "text/plain": [
       "'x2 + y2'"
      ]
     },
     "execution_count": 33,
     "metadata": {},
     "output_type": "execute_result"
    }
   ],
   "source": [
    "some_object.non_data_attr_child"
   ]
  },
  {
   "cell_type": "code",
   "execution_count": 35,
   "metadata": {},
   "outputs": [
    {
     "data": {
      "text/plain": [
       "'xyz'"
      ]
     },
     "execution_count": 35,
     "metadata": {},
     "output_type": "execute_result"
    }
   ],
   "source": [
    "some_object.non_data_attr_child = 'xyz'\n",
    "some_object.non_data_attr_child"
   ]
  },
  {
   "cell_type": "code",
   "execution_count": 36,
   "metadata": {},
   "outputs": [
    {
     "data": {
      "text/plain": [
       "{'data_attr_child': 'xyz', 'non_data_attr_child': 'xyz'}"
      ]
     },
     "execution_count": 36,
     "metadata": {},
     "output_type": "execute_result"
    }
   ],
   "source": [
    "some_object.__dict__"
   ]
  },
  {
   "cell_type": "markdown",
   "metadata": {},
   "source": [
    "You can, however, change the behaviour of `data_attr_child`, if you go to `some_object`'s class and modify it in the mappingproxy itself."
   ]
  },
  {
   "cell_type": "code",
   "execution_count": 37,
   "metadata": {},
   "outputs": [
    {
     "data": {
      "text/plain": [
       "'xyz'"
      ]
     },
     "execution_count": 37,
     "metadata": {},
     "output_type": "execute_result"
    }
   ],
   "source": [
    "some_object.__class__.data_attr_child = 'abc'\n",
    "some_object.data_attr_child "
   ]
  },
  {
   "cell_type": "markdown",
   "metadata": {},
   "source": [
    "Notice how the moment you replace the data-descriptor in the class with some non-data descriptor (or some object like a String in this case), the entry that we initially made in `some_object`'s `__dict__` comes into play. Therefore, `some_object.data_attr_child` returns `'xyz'`, not `'abc'`.\n",
    "\n",
    "The `data_attr_parent` attribute behaves similar to `data_attr_child`."
   ]
  },
  {
   "cell_type": "code",
   "execution_count": 38,
   "metadata": {},
   "outputs": [
    {
     "name": "stdout",
     "output_type": "stream",
     "text": [
      "Retrieving attr desc1 from <__main__.ChildClass object at 0x03631210>...\n"
     ]
    },
    {
     "data": {
      "text/plain": [
       "'x2 + y2'"
      ]
     },
     "execution_count": 38,
     "metadata": {},
     "output_type": "execute_result"
    }
   ],
   "source": [
    "some_object.data_attr_parent"
   ]
  },
  {
   "cell_type": "code",
   "execution_count": 39,
   "metadata": {},
   "outputs": [
    {
     "ename": "AttributeError",
     "evalue": "Attr desc1 can't be set in <__main__.ChildClass object at 0x03631210>",
     "output_type": "error",
     "traceback": [
      "\u001b[1;31m---------------------------------------------------------------------------\u001b[0m",
      "\u001b[1;31mAttributeError\u001b[0m                            Traceback (most recent call last)",
      "\u001b[1;32m<ipython-input-39-09b40058edf4>\u001b[0m in \u001b[0;36m<module>\u001b[1;34m()\u001b[0m\n\u001b[1;32m----> 1\u001b[1;33m \u001b[0msome_object\u001b[0m\u001b[1;33m.\u001b[0m\u001b[0mdata_attr_parent\u001b[0m \u001b[1;33m=\u001b[0m \u001b[1;34m'xyz'\u001b[0m\u001b[1;33m\u001b[0m\u001b[0m\n\u001b[0m",
      "\u001b[1;32m<ipython-input-27-2f83cebffb36>\u001b[0m in \u001b[0;36m__set__\u001b[1;34m(self, obj, value)\u001b[0m\n\u001b[0;32m     11\u001b[0m \u001b[1;33m\u001b[0m\u001b[0m\n\u001b[0;32m     12\u001b[0m     \u001b[1;32mdef\u001b[0m \u001b[0m__set__\u001b[0m\u001b[1;33m(\u001b[0m\u001b[0mself\u001b[0m\u001b[1;33m,\u001b[0m \u001b[0mobj\u001b[0m\u001b[1;33m,\u001b[0m \u001b[0mvalue\u001b[0m\u001b[1;33m)\u001b[0m\u001b[1;33m:\u001b[0m\u001b[1;33m\u001b[0m\u001b[0m\n\u001b[1;32m---> 13\u001b[1;33m         \u001b[1;32mraise\u001b[0m \u001b[0mAttributeError\u001b[0m\u001b[1;33m(\u001b[0m\u001b[1;34m\"Attr \"\u001b[0m\u001b[1;33m+\u001b[0m\u001b[0mself\u001b[0m\u001b[1;33m.\u001b[0m\u001b[0m_name\u001b[0m\u001b[1;33m+\u001b[0m\u001b[1;34m\" can't be set in \"\u001b[0m\u001b[1;33m+\u001b[0m\u001b[0mstr\u001b[0m\u001b[1;33m(\u001b[0m\u001b[0mobj\u001b[0m\u001b[1;33m)\u001b[0m\u001b[1;33m)\u001b[0m\u001b[1;33m\u001b[0m\u001b[0m\n\u001b[0m\u001b[0;32m     14\u001b[0m \u001b[1;33m\u001b[0m\u001b[0m\n\u001b[0;32m     15\u001b[0m     \u001b[1;32mdef\u001b[0m \u001b[0m__delete__\u001b[0m\u001b[1;33m(\u001b[0m\u001b[0mself\u001b[0m\u001b[1;33m,\u001b[0m \u001b[0mobj\u001b[0m\u001b[1;33m)\u001b[0m\u001b[1;33m:\u001b[0m\u001b[1;33m\u001b[0m\u001b[0m\n",
      "\u001b[1;31mAttributeError\u001b[0m: Attr desc1 can't be set in <__main__.ChildClass object at 0x03631210>"
     ]
    }
   ],
   "source": [
    "some_object.data_attr_parent = 'xyz'"
   ]
  },
  {
   "cell_type": "code",
   "execution_count": 40,
   "metadata": {},
   "outputs": [
    {
     "data": {
      "text/plain": [
       "'xyz'"
      ]
     },
     "execution_count": 40,
     "metadata": {},
     "output_type": "execute_result"
    }
   ],
   "source": [
    "some_object.__class__.data_attr_parent = 'xyz'\n",
    "some_object.__class__.data_attr_parent"
   ]
  },
  {
   "cell_type": "markdown",
   "metadata": {},
   "source": [
    "Notice how you can't 'write-over' `data_attr_parent` in `ChildClass` itself. Once you do that, we go through Rules 1-2-3 and stop at 4, to get the result  `'xyz'`"
   ]
  },
  {
   "cell_type": "markdown",
   "metadata": {},
   "source": [
    "#### Rules for setting attributes\n",
    "\n",
    "Way simpler than the rules for 'getting them'.\n",
    "\n",
    " 1. Check `objectname.__class__.__dict__` for `attrname`. If it exists and *is a data descriptor*, use the descriptor to set the value. \n",
    " Search all bases of `objectname.__class__` for the same case. \n",
    " 2. Insert `something` into `objectname.__dict__` for key `\"attrname\"`.\n",
    " \n",
    "That's it. "
   ]
  },
  {
   "cell_type": "markdown",
   "metadata": {},
   "source": [
    "### `__slots__`\n",
    "\n",
    "To put it concisely, `__slots__` is a way to disallow objects from having their own `__dict__` in Python. This means, that if you define `__slots__` in a class, then you *cannot* set arbitrary attributes (apart from the ones mentioned in the 'slots') on its objects. \n",
    "\n",
    "Here's an example of such a class:\n"
   ]
  },
  {
   "cell_type": "code",
   "execution_count": 41,
   "metadata": {
    "collapsed": true
   },
   "outputs": [],
   "source": [
    "class SomeClass:\n",
    "    __slots__ = ['x','y']\n",
    "    \n",
    "obj = SomeClass()    "
   ]
  },
  {
   "cell_type": "markdown",
   "metadata": {},
   "source": [
    "Now see how this behaves:\n"
   ]
  },
  {
   "cell_type": "code",
   "execution_count": 42,
   "metadata": {},
   "outputs": [
    {
     "data": {
      "text/plain": [
       "4"
      ]
     },
     "execution_count": 42,
     "metadata": {},
     "output_type": "execute_result"
    }
   ],
   "source": [
    "obj.x = 4\n",
    "obj.x"
   ]
  },
  {
   "cell_type": "code",
   "execution_count": 43,
   "metadata": {},
   "outputs": [
    {
     "data": {
      "text/plain": [
       "5"
      ]
     },
     "execution_count": 43,
     "metadata": {},
     "output_type": "execute_result"
    }
   ],
   "source": [
    "obj.y = 5\n",
    "obj.y"
   ]
  },
  {
   "cell_type": "code",
   "execution_count": 44,
   "metadata": {},
   "outputs": [
    {
     "ename": "AttributeError",
     "evalue": "'SomeClass' object has no attribute 'z'",
     "output_type": "error",
     "traceback": [
      "\u001b[1;31m---------------------------------------------------------------------------\u001b[0m",
      "\u001b[1;31mAttributeError\u001b[0m                            Traceback (most recent call last)",
      "\u001b[1;32m<ipython-input-44-a615e52c5c70>\u001b[0m in \u001b[0;36m<module>\u001b[1;34m()\u001b[0m\n\u001b[1;32m----> 1\u001b[1;33m \u001b[0mobj\u001b[0m\u001b[1;33m.\u001b[0m\u001b[0mz\u001b[0m \u001b[1;33m=\u001b[0m \u001b[1;36m6\u001b[0m\u001b[1;33m\u001b[0m\u001b[0m\n\u001b[0m",
      "\u001b[1;31mAttributeError\u001b[0m: 'SomeClass' object has no attribute 'z'"
     ]
    }
   ],
   "source": [
    "obj.z = 6"
   ]
  },
  {
   "cell_type": "markdown",
   "metadata": {},
   "source": [
    "You can of course do this:"
   ]
  },
  {
   "cell_type": "code",
   "execution_count": 45,
   "metadata": {},
   "outputs": [
    {
     "data": {
      "text/plain": [
       "6"
      ]
     },
     "execution_count": 45,
     "metadata": {},
     "output_type": "execute_result"
    }
   ],
   "source": [
    "obj.__class__.z = 6\n",
    "obj.z"
   ]
  },
  {
   "cell_type": "markdown",
   "metadata": {},
   "source": [
    "But then, remember you have now defined `z` in `SomeClass`'s `__dict__`, not in `obj`'s.\n",
    "\n",
    "As Guido van Rossum himself mentions in his [blog post](http://python-history.blogspot.com/2010/06/inside-story-on-new-style-classes.html), `__slots__` were implemented in Python to introduce efficiency, not 'stricter' attribute setting. The basic intuition is this: Suppose you hava a class, whose objects you intend to constuct in a large number. You don't really need the flexibility of having 'dynamic' attributes on the objects themselves, but you want efficiency. Since slots essentially eliminates the `__dict__` attribute in each one of the objects, you get a lot of memory savings this way. \n",
    "\n",
    "Interestingly, slots are implemented using descriptors in Python."
   ]
  },
  {
   "cell_type": "code",
   "execution_count": null,
   "metadata": {
    "collapsed": true
   },
   "outputs": [],
   "source": []
  }
 ],
 "metadata": {
  "kernelspec": {
   "display_name": "Python 3",
   "language": "python",
   "name": "python3"
  },
  "language_info": {
   "codemirror_mode": {
    "name": "ipython",
    "version": 3
   },
   "file_extension": ".py",
   "mimetype": "text/x-python",
   "name": "python",
   "nbconvert_exporter": "python",
   "pygments_lexer": "ipython3",
   "version": "3.6.3"
  }
 },
 "nbformat": 4,
 "nbformat_minor": 2
}
