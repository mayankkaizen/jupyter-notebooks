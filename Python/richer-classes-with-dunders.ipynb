{
 "cells": [
  {
   "cell_type": "markdown",
   "metadata": {},
   "source": [
    "## Enriching Your Python Classes with Dunder (Special) Methods"
   ]
  },
  {
   "cell_type": "markdown",
   "metadata": {},
   "source": [
    "### Construction"
   ]
  },
  {
   "cell_type": "code",
   "execution_count": 1,
   "metadata": {
    "collapsed": true
   },
   "outputs": [],
   "source": [
    "class Account:\n",
    "    'A simple account class'\n",
    "    \n",
    "    def __init__(self, owner, amount=0):\n",
    "        'This is the constructor that lets us create objects from this class'\n",
    "        self.owner = owner\n",
    "        self.amount = amount\n",
    "        self._transactions = []"
   ]
  },
  {
   "cell_type": "code",
   "execution_count": 2,
   "metadata": {},
   "outputs": [
    {
     "data": {
      "text/plain": [
       "<__main__.Account at 0x1047cf390>"
      ]
     },
     "execution_count": 2,
     "metadata": {},
     "output_type": "execute_result"
    }
   ],
   "source": [
    "acc1 = Account('bob')\n",
    "acc1"
   ]
  },
  {
   "cell_type": "code",
   "execution_count": 3,
   "metadata": {},
   "outputs": [
    {
     "data": {
      "text/plain": [
       "<__main__.Account at 0x1047cf7b8>"
      ]
     },
     "execution_count": 3,
     "metadata": {},
     "output_type": "execute_result"
    }
   ],
   "source": [
    "acc2 = Account('bob', 10)\n",
    "acc2"
   ]
  },
  {
   "cell_type": "markdown",
   "metadata": {},
   "source": [
    "### Object representation"
   ]
  },
  {
   "cell_type": "code",
   "execution_count": 4,
   "metadata": {
    "collapsed": true
   },
   "outputs": [],
   "source": [
    "class Account:\n",
    "    'A simple account class'\n",
    "    \n",
    "    def __init__(self, owner, amount=0):\n",
    "        'This is the constructor that lets us create objects from this class'\n",
    "        self.owner = owner\n",
    "        self.amount = amount\n",
    "        self._transactions = []\n",
    "    \n",
    "    def __repr__(self):\n",
    "        return 'Account({!r}, {!r})'.format(self.owner, self.amount)\n",
    "    \n",
    "    def __str__(self):\n",
    "        return 'Account of {} with starting amount: {}'.format(self.owner, self.amount)"
   ]
  },
  {
   "cell_type": "code",
   "execution_count": 5,
   "metadata": {},
   "outputs": [],
   "source": [
    "acc1 = Account('bob')\n",
    "acc2 = Account('bob', 10)"
   ]
  },
  {
   "cell_type": "code",
   "execution_count": 6,
   "metadata": {},
   "outputs": [
    {
     "data": {
      "text/plain": [
       "\"Account('bob', 0)\""
      ]
     },
     "execution_count": 6,
     "metadata": {},
     "output_type": "execute_result"
    }
   ],
   "source": [
    "repr(acc1)"
   ]
  },
  {
   "cell_type": "code",
   "execution_count": 7,
   "metadata": {},
   "outputs": [
    {
     "data": {
      "text/plain": [
       "'Account of bob with starting amount: 0'"
      ]
     },
     "execution_count": 7,
     "metadata": {},
     "output_type": "execute_result"
    }
   ],
   "source": [
    "str(acc1)"
   ]
  },
  {
   "cell_type": "code",
   "execution_count": 8,
   "metadata": {},
   "outputs": [
    {
     "name": "stdout",
     "output_type": "stream",
     "text": [
      "Account of bob with starting amount: 10\n"
     ]
    }
   ],
   "source": [
    "print(acc2)"
   ]
  },
  {
   "cell_type": "markdown",
   "metadata": {},
   "source": [
    "### Iteration"
   ]
  },
  {
   "cell_type": "code",
   "execution_count": 9,
   "metadata": {},
   "outputs": [
    {
     "ename": "TypeError",
     "evalue": "object of type 'Account' has no len()",
     "output_type": "error",
     "traceback": [
      "\u001b[0;31m---------------------------------------------------------------------------\u001b[0m",
      "\u001b[0;31mTypeError\u001b[0m                                 Traceback (most recent call last)",
      "\u001b[0;32m<ipython-input-9-b46dac6a2d18>\u001b[0m in \u001b[0;36m<module>\u001b[0;34m()\u001b[0m\n\u001b[0;32m----> 1\u001b[0;31m \u001b[0mlen\u001b[0m\u001b[0;34m(\u001b[0m\u001b[0macc1\u001b[0m\u001b[0;34m)\u001b[0m\u001b[0;34m\u001b[0m\u001b[0m\n\u001b[0m",
      "\u001b[0;31mTypeError\u001b[0m: object of type 'Account' has no len()"
     ]
    }
   ],
   "source": [
    "len(acc1)"
   ]
  },
  {
   "cell_type": "code",
   "execution_count": 10,
   "metadata": {},
   "outputs": [
    {
     "ename": "TypeError",
     "evalue": "'Account' object is not iterable",
     "output_type": "error",
     "traceback": [
      "\u001b[0;31m---------------------------------------------------------------------------\u001b[0m",
      "\u001b[0;31mTypeError\u001b[0m                                 Traceback (most recent call last)",
      "\u001b[0;32m<ipython-input-10-eef66f496634>\u001b[0m in \u001b[0;36m<module>\u001b[0;34m()\u001b[0m\n\u001b[0;32m----> 1\u001b[0;31m \u001b[0;32mfor\u001b[0m \u001b[0mt\u001b[0m \u001b[0;32min\u001b[0m \u001b[0macc1\u001b[0m\u001b[0;34m:\u001b[0m\u001b[0;34m\u001b[0m\u001b[0m\n\u001b[0m\u001b[1;32m      2\u001b[0m     \u001b[0mprint\u001b[0m\u001b[0;34m(\u001b[0m\u001b[0mt\u001b[0m\u001b[0;34m)\u001b[0m\u001b[0;34m\u001b[0m\u001b[0m\n",
      "\u001b[0;31mTypeError\u001b[0m: 'Account' object is not iterable"
     ]
    }
   ],
   "source": [
    "for t in acc1:\n",
    "    print(t)"
   ]
  },
  {
   "cell_type": "code",
   "execution_count": 11,
   "metadata": {},
   "outputs": [
    {
     "ename": "TypeError",
     "evalue": "'Account' object does not support indexing",
     "output_type": "error",
     "traceback": [
      "\u001b[0;31m---------------------------------------------------------------------------\u001b[0m",
      "\u001b[0;31mTypeError\u001b[0m                                 Traceback (most recent call last)",
      "\u001b[0;32m<ipython-input-11-262692b93f84>\u001b[0m in \u001b[0;36m<module>\u001b[0;34m()\u001b[0m\n\u001b[0;32m----> 1\u001b[0;31m \u001b[0macc1\u001b[0m\u001b[0;34m[\u001b[0m\u001b[0;36m1\u001b[0m\u001b[0;34m]\u001b[0m\u001b[0;34m\u001b[0m\u001b[0m\n\u001b[0m",
      "\u001b[0;31mTypeError\u001b[0m: 'Account' object does not support indexing"
     ]
    }
   ],
   "source": [
    "acc1[1]"
   ]
  },
  {
   "cell_type": "code",
   "execution_count": 12,
   "metadata": {},
   "outputs": [],
   "source": [
    "class Account:\n",
    "    'A simple account class'\n",
    "    \n",
    "    def __init__(self, owner, amount=0):\n",
    "        'This is the constructor that lets us create objects from this class'\n",
    "        self.owner = owner\n",
    "        self.amount = amount\n",
    "        self._transactions = []\n",
    "    \n",
    "    def __repr__(self):\n",
    "        return 'Account({!r}, {!r})'.format(self.owner, self.amount)\n",
    "    \n",
    "    def __str__(self):\n",
    "        return 'Account of {} with starting amount: {}'.format(self.owner, self.amount)\n",
    "    \n",
    "    def add_transaction(self, amount):\n",
    "        if not isinstance(amount, int):\n",
    "            raise ValueError('please use int for amount')\n",
    "        self._transactions.append(amount)\n",
    "        \n",
    "    @property\n",
    "    def balance(self):\n",
    "        return self.amount + sum(self._transactions)\n",
    "    \n",
    "    def __len__(self):\n",
    "        return len(self._transactions)\n",
    "    \n",
    "    def __getitem__(self, position):\n",
    "        return self._transactions[position]\n",
    "\n",
    "    # updated to reverse the normal iteration order (https://dbader.org/blog/python-dunder-methods - comment Pablo Ziliani)\n",
    "    def __reversed__(self):\n",
    "        return self[::-1]"
   ]
  },
  {
   "cell_type": "code",
   "execution_count": 13,
   "metadata": {},
   "outputs": [
    {
     "data": {
      "text/plain": [
       "80"
      ]
     },
     "execution_count": 13,
     "metadata": {},
     "output_type": "execute_result"
    }
   ],
   "source": [
    "acc1 = Account('bob')\n",
    "acc1.add_transaction(20)\n",
    "acc1.add_transaction(-10)\n",
    "acc1.add_transaction(50)\n",
    "acc1.add_transaction(-20)\n",
    "acc1.add_transaction(30)\n",
    "\n",
    "acc1.balance\n",
    "80"
   ]
  },
  {
   "cell_type": "code",
   "execution_count": 14,
   "metadata": {},
   "outputs": [
    {
     "data": {
      "text/plain": [
       "5"
      ]
     },
     "execution_count": 14,
     "metadata": {},
     "output_type": "execute_result"
    }
   ],
   "source": [
    "len(acc1)"
   ]
  },
  {
   "cell_type": "code",
   "execution_count": 15,
   "metadata": {},
   "outputs": [
    {
     "name": "stdout",
     "output_type": "stream",
     "text": [
      "20\n",
      "-10\n",
      "50\n",
      "-20\n",
      "30\n"
     ]
    }
   ],
   "source": [
    "for t in acc1:\n",
    "    print(t)"
   ]
  },
  {
   "cell_type": "code",
   "execution_count": 16,
   "metadata": {},
   "outputs": [
    {
     "data": {
      "text/plain": [
       "20"
      ]
     },
     "execution_count": 16,
     "metadata": {},
     "output_type": "execute_result"
    }
   ],
   "source": [
    "acc1[0]"
   ]
  },
  {
   "cell_type": "code",
   "execution_count": 17,
   "metadata": {},
   "outputs": [
    {
     "data": {
      "text/plain": [
       "[-20, 30]"
      ]
     },
     "execution_count": 17,
     "metadata": {},
     "output_type": "execute_result"
    }
   ],
   "source": [
    "acc1[-2:]"
   ]
  },
  {
   "cell_type": "code",
   "execution_count": 18,
   "metadata": {},
   "outputs": [
    {
     "data": {
      "text/plain": [
       "[-20, -10, 20, 30, 50]"
      ]
     },
     "execution_count": 18,
     "metadata": {},
     "output_type": "execute_result"
    }
   ],
   "source": [
    "sorted(acc1)"
   ]
  },
  {
   "cell_type": "code",
   "execution_count": 19,
   "metadata": {},
   "outputs": [
    {
     "data": {
      "text/plain": [
       "[30, -20, 50, -10, 20]"
      ]
     },
     "execution_count": 19,
     "metadata": {},
     "output_type": "execute_result"
    }
   ],
   "source": [
    "reversed(acc1)"
   ]
  },
  {
   "cell_type": "markdown",
   "metadata": {},
   "source": [
    "### Operator overloading: comparing accounts"
   ]
  },
  {
   "cell_type": "code",
   "execution_count": 20,
   "metadata": {
    "collapsed": true
   },
   "outputs": [],
   "source": [
    "acc2 = Account('tim', 100)"
   ]
  },
  {
   "cell_type": "code",
   "execution_count": 21,
   "metadata": {},
   "outputs": [
    {
     "data": {
      "text/plain": [
       "['__class__',\n",
       " '__delattr__',\n",
       " '__dict__',\n",
       " '__dir__',\n",
       " '__doc__',\n",
       " '__eq__',\n",
       " '__format__',\n",
       " '__ge__',\n",
       " '__getattribute__',\n",
       " '__getitem__',\n",
       " '__gt__',\n",
       " '__hash__',\n",
       " '__init__',\n",
       " '__init_subclass__',\n",
       " '__le__',\n",
       " '__len__',\n",
       " '__lt__',\n",
       " '__module__',\n",
       " '__ne__',\n",
       " '__new__',\n",
       " '__reduce__',\n",
       " '__reduce_ex__',\n",
       " '__repr__',\n",
       " '__reversed__',\n",
       " '__setattr__',\n",
       " '__sizeof__',\n",
       " '__str__',\n",
       " '__subclasshook__',\n",
       " '__weakref__',\n",
       " '_transactions',\n",
       " 'add_transaction',\n",
       " 'amount',\n",
       " 'balance',\n",
       " 'owner']"
      ]
     },
     "execution_count": 21,
     "metadata": {},
     "output_type": "execute_result"
    }
   ],
   "source": [
    "dir(acc2)"
   ]
  },
  {
   "cell_type": "code",
   "execution_count": 22,
   "metadata": {},
   "outputs": [
    {
     "data": {
      "text/plain": [
       "160"
      ]
     },
     "execution_count": 22,
     "metadata": {},
     "output_type": "execute_result"
    }
   ],
   "source": [
    "acc2.add_transaction(20)\n",
    "acc2.add_transaction(40)\n",
    "acc2.balance"
   ]
  },
  {
   "cell_type": "code",
   "execution_count": 23,
   "metadata": {},
   "outputs": [
    {
     "ename": "TypeError",
     "evalue": "'>' not supported between instances of 'Account' and 'Account'",
     "output_type": "error",
     "traceback": [
      "\u001b[0;31m---------------------------------------------------------------------------\u001b[0m",
      "\u001b[0;31mTypeError\u001b[0m                                 Traceback (most recent call last)",
      "\u001b[0;32m<ipython-input-23-09f0f5a60ae5>\u001b[0m in \u001b[0;36m<module>\u001b[0;34m()\u001b[0m\n\u001b[0;32m----> 1\u001b[0;31m \u001b[0macc2\u001b[0m \u001b[0;34m>\u001b[0m \u001b[0macc1\u001b[0m\u001b[0;34m\u001b[0m\u001b[0m\n\u001b[0m",
      "\u001b[0;31mTypeError\u001b[0m: '>' not supported between instances of 'Account' and 'Account'"
     ]
    }
   ],
   "source": [
    "acc2 > acc1"
   ]
  },
  {
   "cell_type": "code",
   "execution_count": 1,
   "metadata": {
    "collapsed": true
   },
   "outputs": [],
   "source": [
    "from functools import total_ordering\n",
    "\n",
    "@total_ordering\n",
    "class Account:\n",
    "    'A simple account class'\n",
    "    \n",
    "    def __init__(self, owner, amount=0):\n",
    "        'This is the constructor that lets us create objects from this class'\n",
    "        self.owner = owner\n",
    "        self.amount = amount\n",
    "        self._transactions = []\n",
    "    \n",
    "    def __repr__(self):\n",
    "        return 'Account({!r}, {!r})'.format(self.owner, self.amount)\n",
    "    \n",
    "    def __str__(self):\n",
    "        return 'Account of {} with starting amount: {}'.format(self.owner, self.amount)\n",
    "    \n",
    "    def add_transaction(self, amount):\n",
    "        if not isinstance(amount, int):\n",
    "            raise ValueError('please use int for amount')\n",
    "        self._transactions.append(amount)\n",
    "        \n",
    "    @property\n",
    "    def balance(self):\n",
    "        return self.amount + sum(self._transactions)\n",
    "    \n",
    "    def __len__(self):\n",
    "        return len(self._transactions)\n",
    "\n",
    "    def __reversed__(self):\n",
    "        return self[::-1]\n",
    "    \n",
    "    def __getitem__(self, position):\n",
    "        return self._transactions[position]\n",
    "    \n",
    "    def __eq__(self, other):\n",
    "        return self.balance == other.balance\n",
    "        \n",
    "    def __lt__(self, other):\n",
    "        return self.balance < other.balance"
   ]
  },
  {
   "cell_type": "code",
   "execution_count": 25,
   "metadata": {},
   "outputs": [
    {
     "name": "stdout",
     "output_type": "stream",
     "text": [
      "0\n",
      "100\n"
     ]
    }
   ],
   "source": [
    "acc1 = Account('bob')\n",
    "acc2 = Account('tim', 100)\n",
    "print(acc1.balance)\n",
    "print(acc2.balance)"
   ]
  },
  {
   "cell_type": "code",
   "execution_count": 26,
   "metadata": {},
   "outputs": [
    {
     "data": {
      "text/plain": [
       "False"
      ]
     },
     "execution_count": 26,
     "metadata": {},
     "output_type": "execute_result"
    }
   ],
   "source": [
    "acc1 == acc2"
   ]
  },
  {
   "cell_type": "code",
   "execution_count": 27,
   "metadata": {},
   "outputs": [
    {
     "data": {
      "text/plain": [
       "False"
      ]
     },
     "execution_count": 27,
     "metadata": {},
     "output_type": "execute_result"
    }
   ],
   "source": [
    "acc1 > acc2"
   ]
  },
  {
   "cell_type": "code",
   "execution_count": 28,
   "metadata": {},
   "outputs": [
    {
     "data": {
      "text/plain": [
       "False"
      ]
     },
     "execution_count": 28,
     "metadata": {},
     "output_type": "execute_result"
    }
   ],
   "source": [
    "acc2 < acc1"
   ]
  },
  {
   "cell_type": "code",
   "execution_count": 29,
   "metadata": {},
   "outputs": [
    {
     "name": "stdout",
     "output_type": "stream",
     "text": [
      "110\n",
      "100\n"
     ]
    }
   ],
   "source": [
    "acc1.add_transaction(110)\n",
    "print(acc1.balance)\n",
    "print(acc2.balance)"
   ]
  },
  {
   "cell_type": "code",
   "execution_count": 30,
   "metadata": {},
   "outputs": [
    {
     "data": {
      "text/plain": [
       "True"
      ]
     },
     "execution_count": 30,
     "metadata": {},
     "output_type": "execute_result"
    }
   ],
   "source": [
    "acc1 > acc2"
   ]
  },
  {
   "cell_type": "markdown",
   "metadata": {},
   "source": [
    "### Operator overloading: merging accounts"
   ]
  },
  {
   "cell_type": "code",
   "execution_count": 31,
   "metadata": {
    "collapsed": true
   },
   "outputs": [],
   "source": [
    "acc3 = Account('james', 200)"
   ]
  },
  {
   "cell_type": "code",
   "execution_count": 32,
   "metadata": {},
   "outputs": [
    {
     "ename": "TypeError",
     "evalue": "unsupported operand type(s) for +: 'Account' and 'Account'",
     "output_type": "error",
     "traceback": [
      "\u001b[0;31m---------------------------------------------------------------------------\u001b[0m",
      "\u001b[0;31mTypeError\u001b[0m                                 Traceback (most recent call last)",
      "\u001b[0;32m<ipython-input-32-3de22e1792b0>\u001b[0m in \u001b[0;36m<module>\u001b[0;34m()\u001b[0m\n\u001b[0;32m----> 1\u001b[0;31m \u001b[0macc1\u001b[0m \u001b[0;34m+\u001b[0m \u001b[0macc3\u001b[0m\u001b[0;34m\u001b[0m\u001b[0m\n\u001b[0m",
      "\u001b[0;31mTypeError\u001b[0m: unsupported operand type(s) for +: 'Account' and 'Account'"
     ]
    }
   ],
   "source": [
    "acc1 + acc3"
   ]
  },
  {
   "cell_type": "code",
   "execution_count": 33,
   "metadata": {
    "collapsed": true
   },
   "outputs": [],
   "source": [
    "from functools import total_ordering\n",
    "\n",
    "@total_ordering\n",
    "class Account:\n",
    "    'A simple account class'\n",
    "    \n",
    "    def __init__(self, owner, amount=0):\n",
    "        'This is the constructor that lets us create objects from this class'\n",
    "        self.owner = owner\n",
    "        self.amount = amount\n",
    "        self._transactions = []\n",
    "    \n",
    "    def __repr__(self):\n",
    "        return 'Account({!r}, {!r})'.format(self.owner, self.amount)\n",
    "    \n",
    "    def __str__(self):\n",
    "        return 'Account of {} with starting amount: {}'.format(self.owner, self.amount)\n",
    "    \n",
    "    def add_transaction(self, amount):\n",
    "        if not isinstance(amount, int):\n",
    "            raise ValueError('please use int for amount')\n",
    "        self._transactions.append(amount)\n",
    "        \n",
    "    @property\n",
    "    def balance(self):\n",
    "        return self.amount + sum(self._transactions)\n",
    "    \n",
    "    def __len__(self):\n",
    "        return len(self._transactions)\n",
    "    \n",
    "    def __getitem__(self, position):\n",
    "        return self._transactions[position]\n",
    "\n",
    "    def __reversed__(self):\n",
    "        return self[::-1]\n",
    "    \n",
    "    def __eq__(self, other):\n",
    "        return self.balance == other.balance\n",
    "        \n",
    "    def __lt__(self, other):\n",
    "        return self.balance < other.balance\n",
    "\n",
    "    def __add__(self, other):\n",
    "        owner = '{}&{}'.format(self.owner, other.owner)\n",
    "        start_amount = self.amount + other.amount\n",
    "        acc = Account(owner, start_amount)\n",
    "        for t in list(self) + list(other):\n",
    "            acc.add_transaction(t)\n",
    "        return acc"
   ]
  },
  {
   "cell_type": "code",
   "execution_count": 34,
   "metadata": {},
   "outputs": [],
   "source": [
    "acc1 = Account('bob', 0)\n",
    "acc2 = Account('tim', 100)\n",
    "acc3 = Account('james', 200)"
   ]
  },
  {
   "cell_type": "code",
   "execution_count": 35,
   "metadata": {},
   "outputs": [
    {
     "data": {
      "text/plain": [
       "Account('bob&tim', 100)"
      ]
     },
     "execution_count": 35,
     "metadata": {},
     "output_type": "execute_result"
    }
   ],
   "source": [
    "acc1 + acc2"
   ]
  },
  {
   "cell_type": "code",
   "execution_count": 36,
   "metadata": {},
   "outputs": [
    {
     "data": {
      "text/plain": [
       "Account('tim&james', 300)"
      ]
     },
     "execution_count": 36,
     "metadata": {},
     "output_type": "execute_result"
    }
   ],
   "source": [
    "acc2 + acc3"
   ]
  },
  {
   "cell_type": "markdown",
   "metadata": {},
   "source": [
    "### Method invocation"
   ]
  },
  {
   "cell_type": "code",
   "execution_count": 37,
   "metadata": {
    "collapsed": true
   },
   "outputs": [],
   "source": [
    "from functools import total_ordering\n",
    "\n",
    "@total_ordering\n",
    "class Account:\n",
    "    'A simple account class'\n",
    "    \n",
    "    def __init__(self, owner, amount=0):\n",
    "        'This is the constructor that lets us create objects from this class'\n",
    "        self.owner = owner\n",
    "        self.amount = amount\n",
    "        self._transactions = []\n",
    "    \n",
    "    def __repr__(self):\n",
    "        return 'Account({!r}, {!r})'.format(self.owner, self.amount)\n",
    "    \n",
    "    def __str__(self):\n",
    "        return 'Account of {} with starting amount: {}'.format(self.owner, self.amount)\n",
    "    \n",
    "    def add_transaction(self, amount):\n",
    "        if not isinstance(amount, int):\n",
    "            raise ValueError('please use int for amount')\n",
    "        self._transactions.append(amount)\n",
    "        \n",
    "    @property\n",
    "    def balance(self):\n",
    "        return self.amount + sum(self._transactions)\n",
    "    \n",
    "    def __len__(self):\n",
    "        return len(self._transactions)\n",
    "    \n",
    "    def __getitem__(self, position):\n",
    "        return self._transactions[position]\n",
    "\n",
    "    def __reversed__(self):\n",
    "        return self[::-1]\n",
    "    \n",
    "    def __eq__(self, other):\n",
    "        return self.balance == other.balance\n",
    "        \n",
    "    def __lt__(self, other):\n",
    "        return self.balance < other.balance\n",
    "\n",
    "    def __add__(self, other):\n",
    "        owner = '{}&{}'.format(self.owner, other.owner)\n",
    "        start_amount = self.amount + other.amount\n",
    "        acc = Account(owner, start_amount)\n",
    "        for t in list(self) + list(other):\n",
    "            acc.add_transaction(t)\n",
    "        return acc\n",
    "\n",
    "    def __call__(self):\n",
    "        print('Start amount: {}'.format(self.amount))\n",
    "        print('Transactions: ')\n",
    "        for transaction in self:\n",
    "            print(transaction)\n",
    "        print('\\nBalance: {}'.format(self.balance))"
   ]
  },
  {
   "cell_type": "code",
   "execution_count": 38,
   "metadata": {},
   "outputs": [
    {
     "name": "stdout",
     "output_type": "stream",
     "text": [
      "Start amount: 10\n",
      "Transactions: \n",
      "20\n",
      "-10\n",
      "50\n",
      "-20\n",
      "30\n",
      "\n",
      "Balance: 80\n"
     ]
    }
   ],
   "source": [
    "acc1 = Account('bob', 10)\n",
    "acc1.add_transaction(20)\n",
    "acc1.add_transaction(-10)\n",
    "acc1.add_transaction(50)\n",
    "acc1.add_transaction(-20)\n",
    "acc1.add_transaction(30)\n",
    "\n",
    "acc1()"
   ]
  },
  {
   "cell_type": "markdown",
   "metadata": {},
   "source": [
    "### Context management"
   ]
  },
  {
   "cell_type": "code",
   "execution_count": 39,
   "metadata": {},
   "outputs": [],
   "source": [
    "from functools import total_ordering\n",
    "\n",
    "@total_ordering\n",
    "class Account:\n",
    "    'A simple account class'\n",
    "    \n",
    "    def __init__(self, owner, amount=0):\n",
    "        'This is the constructor that lets us create objects from this class'\n",
    "        self.owner = owner\n",
    "        self.amount = amount\n",
    "        self._transactions = []\n",
    "    \n",
    "    def __repr__(self):\n",
    "        return 'Account({!r}, {!r})'.format(self.owner, self.amount)\n",
    "    \n",
    "    def __str__(self):\n",
    "        return 'Account of {} with starting amount: {}'.format(self.owner, self.amount)\n",
    "    \n",
    "    def add_transaction(self, amount):\n",
    "        if not isinstance(amount, int):\n",
    "            raise ValueError('please use int for amount')\n",
    "        self._transactions.append(amount)\n",
    "        \n",
    "    @property\n",
    "    def balance(self):\n",
    "        return self.amount + sum(self._transactions)\n",
    "    \n",
    "    def __len__(self):\n",
    "        return len(self._transactions)\n",
    "    \n",
    "    def __getitem__(self, position):\n",
    "        return self._transactions[position]\n",
    "\n",
    "    def __reversed__(self):\n",
    "        return self[::-1]\n",
    "    \n",
    "    def __eq__(self, other):\n",
    "        return self.balance == other.balance\n",
    "        \n",
    "    def __lt__(self, other):\n",
    "        return self.balance < other.balance\n",
    "\n",
    "    def __add__(self, other):\n",
    "        owner = '{}&{}'.format(self.owner, other.owner)\n",
    "        start_amount = self.amount + other.amount\n",
    "        acc = Account(owner, start_amount)\n",
    "        for t in list(self) + list(other):\n",
    "            acc.add_transaction(t)\n",
    "        return acc\n",
    "\n",
    "    def __call__(self):\n",
    "        print('Start amount: {}'.format(self.amount))\n",
    "        print('Transactions: ')\n",
    "        for transaction in self:\n",
    "            print(transaction)\n",
    "        print('\\nBalance: {}'.format(self.balance))\n",
    "        \n",
    "    def __enter__(self):\n",
    "        print('ENTER WITH: making backup of transactions for rollback')\n",
    "        self._copy_transactions = list(self._transactions)\n",
    "        return self\n",
    "\n",
    "    def __exit__(self, exc_type, exc_val, exc_tb):\n",
    "        print('EXIT WITH:', end=' ')\n",
    "        if exc_type:\n",
    "            self._transactions = self._copy_transactions\n",
    "            print('rolling back to previous transactions')\n",
    "            print('transaction resulted in {} ({})'.format(exc_type.__name__, exc_val))\n",
    "        else:\n",
    "            print('transaction ok')"
   ]
  },
  {
   "cell_type": "code",
   "execution_count": 40,
   "metadata": {},
   "outputs": [],
   "source": [
    "def validate_transaction(acc, amount_to_add):\n",
    "    with acc as a:\n",
    "        print('adding {} to account'.format(amount_to_add))\n",
    "        a.add_transaction(amount_to_add)\n",
    "        print('new balance would be: {}'.format(a.balance))\n",
    "        if a.balance < 0:\n",
    "            raise ValueError('sorry cannot go in debt!')\n"
   ]
  },
  {
   "cell_type": "code",
   "execution_count": 41,
   "metadata": {},
   "outputs": [
    {
     "name": "stdout",
     "output_type": "stream",
     "text": [
      "\n",
      "Balance start: 10\n",
      "ENTER WITH: making backup of transactions for rollback\n",
      "adding 20 to account\n",
      "new balance would be: 30\n",
      "EXIT WITH: transaction ok\n",
      "\n",
      "Balance end: 30\n"
     ]
    }
   ],
   "source": [
    "acc4 = Account('sue', 10)\n",
    "\n",
    "print('\\nBalance start: {}'.format(acc4.balance))\n",
    "validate_transaction(acc4, 20)\n",
    "\n",
    "print('\\nBalance end: {}'.format(acc4.balance))"
   ]
  },
  {
   "cell_type": "code",
   "execution_count": 42,
   "metadata": {},
   "outputs": [
    {
     "name": "stdout",
     "output_type": "stream",
     "text": [
      "\n",
      "Balance start: 10\n",
      "ENTER WITH: making backup of transactions for rollback\n",
      "adding -50 to account\n",
      "new balance would be: -40\n",
      "EXIT WITH: rolling back to previous transactions\n",
      "transaction resulted in ValueError (sorry cannot go in debt!)\n",
      "\n",
      "Balance end: 10\n"
     ]
    }
   ],
   "source": [
    "acc4 = Account('sue', 10)\n",
    "\n",
    "print('\\nBalance start: {}'.format(acc4.balance))\n",
    "try:\n",
    "    validate_transaction(acc4, -50)\n",
    "except ValueError:\n",
    "    pass\n",
    "\n",
    "print('\\nBalance end: {}'.format(acc4.balance))"
   ]
  }
 ],
 "metadata": {
  "kernelspec": {
   "display_name": "Python 3",
   "language": "python",
   "name": "python3"
  },
  "language_info": {
   "codemirror_mode": {
    "name": "ipython",
    "version": 3
   },
   "file_extension": ".py",
   "mimetype": "text/x-python",
   "name": "python",
   "nbconvert_exporter": "python",
   "pygments_lexer": "ipython3",
   "version": "3.6.3"
  }
 },
 "nbformat": 4,
 "nbformat_minor": 2
}
