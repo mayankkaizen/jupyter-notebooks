{
 "cells": [
  {
   "cell_type": "markdown",
   "metadata": {},
   "source": [
    "### Regular Expression"
   ]
  },
  {
   "cell_type": "markdown",
   "metadata": {},
   "source": [
    "- `re.search` searches for the first match anywhere in the string. \n",
    "- `re.match` searches for the first match at the very start of the string\n",
    "- `re.findall` searches for all the matches anywhere in the string"
   ]
  },
  {
   "cell_type": "code",
   "execution_count": 11,
   "metadata": {},
   "outputs": [
    {
     "data": {
      "text/plain": [
       "'mayank'"
      ]
     },
     "execution_count": 11,
     "metadata": {},
     "output_type": "execute_result"
    }
   ],
   "source": [
    "import re\n",
    "f = open('file.txt','r') #content is 'amayank'\n",
    "content = f.read()\n",
    "a = re.search('mayank',content) #only first match. Anywhere in the string\n",
    "a.group()"
   ]
  },
  {
   "cell_type": "code",
   "execution_count": 8,
   "metadata": {},
   "outputs": [
    {
     "name": "stdout",
     "output_type": "stream",
     "text": [
      "None\n"
     ]
    }
   ],
   "source": [
    "import re\n",
    "f = open('file.txt','r')   #content is 'amayank'\n",
    "content = f.read()\n",
    "a = re.match('mayank',content) #only first match. Start of the string\n",
    "print(a)"
   ]
  },
  {
   "cell_type": "code",
   "execution_count": 12,
   "metadata": {},
   "outputs": [
    {
     "data": {
      "text/plain": [
       "'ayank'"
      ]
     },
     "execution_count": 12,
     "metadata": {},
     "output_type": "execute_result"
    }
   ],
   "source": [
    "import re\n",
    "f = open('file.txt','r')\n",
    "content = f.read()\n",
    "a = re.search('ayank',content) #only first match. Anywhere in the string\n",
    "a.group()"
   ]
  },
  {
   "cell_type": "code",
   "execution_count": 13,
   "metadata": {},
   "outputs": [
    {
     "name": "stdout",
     "output_type": "stream",
     "text": [
      "['mayank']\n"
     ]
    }
   ],
   "source": [
    "a = re.findall('mayank',content) #all instances of match\n",
    "print(a)"
   ]
  },
  {
   "cell_type": "code",
   "execution_count": 24,
   "metadata": {},
   "outputs": [
    {
     "name": "stdout",
     "output_type": "stream",
     "text": [
      "['ayank', 'ayank']\n"
     ]
    }
   ],
   "source": [
    "a = re.findall('ayank',content) #all instances of match\n",
    "print(a)"
   ]
  },
  {
   "cell_type": "code",
   "execution_count": 72,
   "metadata": {},
   "outputs": [
    {
     "data": {
      "text/plain": [
       "'my'"
      ]
     },
     "execution_count": 72,
     "metadata": {},
     "output_type": "execute_result"
    }
   ],
   "source": [
    "f = open('file.txt','r')\n",
    "content = f.readlines() #list of strings\n",
    "a = re.match('my', content[0]) #content[0] is first line as string\n",
    "a.group()"
   ]
  },
  {
   "cell_type": "code",
   "execution_count": 75,
   "metadata": {},
   "outputs": [
    {
     "data": {
      "text/plain": [
       "'my'"
      ]
     },
     "execution_count": 75,
     "metadata": {},
     "output_type": "execute_result"
    }
   ],
   "source": [
    "f = open('file.txt','r')\n",
    "content = f.read() #entire file content in a single string\n",
    "a = re.match('my', content)\n",
    "a.group()"
   ]
  },
  {
   "cell_type": "code",
   "execution_count": 76,
   "metadata": {},
   "outputs": [
    {
     "data": {
      "text/plain": [
       "str"
      ]
     },
     "execution_count": 76,
     "metadata": {},
     "output_type": "execute_result"
    }
   ],
   "source": [
    "type(content)"
   ]
  },
  {
   "cell_type": "markdown",
   "metadata": {},
   "source": [
    "### RE Patterns"
   ]
  },
  {
   "cell_type": "code",
   "execution_count": 18,
   "metadata": {},
   "outputs": [
    {
     "data": {
      "text/plain": [
       "['cookies']"
      ]
     },
     "execution_count": 18,
     "metadata": {},
     "output_type": "execute_result"
    }
   ],
   "source": [
    "# . mathces any character\n",
    "\n",
    "content = 'cookies'\n",
    "a = re.findall('coo..es', content) #matched\n",
    "a"
   ]
  },
  {
   "cell_type": "code",
   "execution_count": 77,
   "metadata": {},
   "outputs": [
    {
     "data": {
      "text/plain": [
       "\"my name is mayank\\nI am an engineer\\nI live in Delhi\\nI'm married\\nI like programming\\nmayankk here!\\nmayank here!!\\na\\naaa\\nabab\\naab\\nababbb\\nabcbca\\nabracadabra\\n\\n\\n\""
      ]
     },
     "execution_count": 77,
     "metadata": {},
     "output_type": "execute_result"
    }
   ],
   "source": [
    "content"
   ]
  },
  {
   "cell_type": "code",
   "execution_count": 84,
   "metadata": {},
   "outputs": [
    {
     "name": "stdout",
     "output_type": "stream",
     "text": [
      "['m']\n",
      "[]\n"
     ]
    }
   ],
   "source": [
    "# ^m -> match 'm' at the start of the string\n",
    "\n",
    "a = re.findall('^m', content) #matched \n",
    "print(a)\n",
    "b = re.findall('^m', 'xyzmzm') #no match\n",
    "print(b)"
   ]
  },
  {
   "cell_type": "code",
   "execution_count": 83,
   "metadata": {},
   "outputs": [
    {
     "name": "stdout",
     "output_type": "stream",
     "text": [
      "[]\n",
      "['a']\n"
     ]
    }
   ],
   "source": [
    "# m$ -> match 'm' at the end of the string\n",
    "a = re.findall('m$', content) #no match\n",
    "print(a)\n",
    "b = re.findall('a$', 'bca') #matched\n",
    "print(b)"
   ]
  },
  {
   "cell_type": "code",
   "execution_count": 87,
   "metadata": {},
   "outputs": [
    {
     "name": "stdout",
     "output_type": "stream",
     "text": [
      "[]\n",
      "['may']\n",
      "['may']\n"
     ]
    }
   ],
   "source": [
    "# m.. -> will match 3 character string starting with m in anywhere in the string. Newline doesn't count as a character\n",
    "\n",
    "a = re.findall('m..','ma\\n') # '\\n' doesn't count as a character so no match\n",
    "print(a)\n",
    "b = re.findall('m..', 'mayank') #matched\n",
    "print(b)\n",
    "c = re.findall('m..','xyzmayank') #will search anywhere in the string, hence matched.\n",
    "print(c)"
   ]
  },
  {
   "cell_type": "code",
   "execution_count": 89,
   "metadata": {},
   "outputs": [
    {
     "name": "stdout",
     "output_type": "stream",
     "text": [
      "['a']\n",
      "['ab']\n",
      "['abb']\n",
      "['ab']\n",
      "[]\n"
     ]
    }
   ],
   "source": [
    "# ab* will match a and 0 or more occurence of b. a, ab, abb and so on will be matched. Anyuhere in the string. \n",
    "\n",
    "items = ['a','ab','abb','bab','xyz']\n",
    "for i in items:\n",
    "    a = re.findall('ab*', i)\n",
    "    print(a)"
   ]
  },
  {
   "cell_type": "code",
   "execution_count": 91,
   "metadata": {},
   "outputs": [
    {
     "name": "stdout",
     "output_type": "stream",
     "text": [
      "[]\n",
      "['ab']\n",
      "['abb']\n",
      "['ab']\n",
      "[]\n"
     ]
    }
   ],
   "source": [
    "# ab+ will match a and followed by 1 or more occurence of b.  ab, abb and so on will be matched. Anyuhere in the string. \n",
    "\n",
    "items = ['a','ab','abb','bab','xyz']\n",
    "for i in items:\n",
    "    a = re.findall('ab+', i)\n",
    "    print(a)"
   ]
  },
  {
   "cell_type": "code",
   "execution_count": 92,
   "metadata": {},
   "outputs": [
    {
     "name": "stdout",
     "output_type": "stream",
     "text": [
      "['a']\n",
      "['ab']\n",
      "['ab']\n",
      "['ab']\n",
      "[]\n"
     ]
    }
   ],
   "source": [
    "# ab? will match a and followed by 0 or 1  occurence of b.  a and ab will be matched but not abb.  Anyuhere in the string. \n",
    "\n",
    "items = ['a','ab','abb','bab','xyz']\n",
    "for i in items:\n",
    "    a = re.findall('ab?', i)\n",
    "    print(a)"
   ]
  },
  {
   "cell_type": "code",
   "execution_count": 108,
   "metadata": {},
   "outputs": [
    {
     "data": {
      "text/plain": [
       "['\\n']"
      ]
     },
     "execution_count": 108,
     "metadata": {},
     "output_type": "execute_result"
    }
   ],
   "source": [
    "# \\s -> matches whitespace character\n",
    "items = 'abambammbammmb\\naccccccccccccccccccccb'\n",
    "a = re.findall('\\s', items)\n",
    "a"
   ]
  },
  {
   "cell_type": "code",
   "execution_count": 110,
   "metadata": {},
   "outputs": [
    {
     "name": "stdout",
     "output_type": "stream",
     "text": [
      "Pretty printing has been turned OFF\n"
     ]
    },
    {
     "data": {
      "text/plain": [
       "['a', 'b', 'a', 'm', 'b', 'a', 'm', 'm', 'b', 'a', 'm', 'm', 'm', 'b', 'a', 'c', 'c', 'c', 'c', 'c', 'c', 'c', 'c', 'c', 'c', 'c', 'c', 'c', 'c', 'c', 'c', 'c', 'c', 'c', 'c', 'b']"
      ]
     },
     "execution_count": 110,
     "metadata": {},
     "output_type": "execute_result"
    }
   ],
   "source": [
    "%pprint\n",
    "# \\S -> matches all but whitespace character\n",
    "items = 'abambammbammmb\\naccccccccccccccccccccb'\n",
    "a = re.findall('\\S', items)\n",
    "a"
   ]
  },
  {
   "cell_type": "code",
   "execution_count": 111,
   "metadata": {},
   "outputs": [
    {
     "data": {
      "text/plain": [
       "['\\n']"
      ]
     },
     "execution_count": 111,
     "metadata": {},
     "output_type": "execute_result"
    }
   ],
   "source": [
    "# \\W -> matches all but word characters (0 to 9, a to z, A to Z, _)\n",
    "items = 'abambammbammmb\\naccccccccccccccccccccb'\n",
    "a = re.findall('\\W', items)\n",
    "a"
   ]
  },
  {
   "cell_type": "code",
   "execution_count": 112,
   "metadata": {},
   "outputs": [
    {
     "data": {
      "text/plain": [
       "['a', 'm', 'm', 'm', 'b', 'a', 'c', 'c', 'c', 'c', 'b']"
      ]
     },
     "execution_count": 112,
     "metadata": {},
     "output_type": "execute_result"
    }
   ],
   "source": [
    "# \\w -> matches all word characters (0 to 9, a to z, A to Z, _)\n",
    "items = 'ammmb\\naccccb'\n",
    "a = re.findall('\\w', items)\n",
    "a"
   ]
  },
  {
   "cell_type": "code",
   "execution_count": 16,
   "metadata": {},
   "outputs": [
    {
     "data": {
      "text/plain": [
       "([], ['a'], ['$', '$', '$', '$', '%', '^', '$', '^', '&', '&', '&', '&'])"
      ]
     },
     "execution_count": 16,
     "metadata": {},
     "output_type": "execute_result"
    }
   ],
   "source": [
    "# [a-zA-Z0-9] Matches any letter from (a to z) or (A to Z) or (0 to 9). \n",
    "#Characters that are not within a range can be matched by complementing the set.\n",
    "#If the first character of the set is ^, all the characters that are not in the set will be matched.\n",
    "\n",
    "item1 = '$$$$%^$^&&&&'\n",
    "item2 = 'a%'\n",
    "a = re.findall('[a-zA-Z0-9]',item1)\n",
    "b = re.findall('[a-zA-Z0-9]',item2)\n",
    "c = re.findall('[^a-zA-Z0-9]',item1)\n",
    "a,b,c"
   ]
  },
  {
   "cell_type": "code",
   "execution_count": 113,
   "metadata": {},
   "outputs": [
    {
     "data": {
      "text/plain": [
       "['a', 'b', 'a', 'b', 'a', 'b', 'a', 'b', 'a', 'b']"
      ]
     },
     "execution_count": 113,
     "metadata": {},
     "output_type": "execute_result"
    }
   ],
   "source": [
    "# [ab] -> matches either a or b\n",
    "items = 'abambammbammmb\\naccccccccccccccccccccb'\n",
    "a = re.findall('[ab]', items)\n",
    "a"
   ]
  },
  {
   "cell_type": "code",
   "execution_count": 114,
   "metadata": {},
   "outputs": [
    {
     "data": {
      "text/plain": [
       "['0', '1']"
      ]
     },
     "execution_count": 114,
     "metadata": {},
     "output_type": "execute_result"
    }
   ],
   "source": [
    "# [0-9] -> matches any digit in this range\n",
    "items = 'abambammbammmb\\naccccccccccccccccccccb0i1'\n",
    "a = re.findall('[0-9]', items)\n",
    "a"
   ]
  },
  {
   "cell_type": "code",
   "execution_count": 115,
   "metadata": {},
   "outputs": [
    {
     "data": {
      "text/plain": [
       "['55']"
      ]
     },
     "execution_count": 115,
     "metadata": {},
     "output_type": "execute_result"
    }
   ],
   "source": [
    "# [0-5][0-9] -> matches any digit in the range[00,59]\n",
    "items = 'abambammbammmb\\naccccccccccccccccccccb0i1a55'\n",
    "a = re.findall('[0-5][0-9]', items)\n",
    "a"
   ]
  },
  {
   "cell_type": "code",
   "execution_count": 123,
   "metadata": {},
   "outputs": [
    {
     "data": {
      "text/plain": [
       "['b', 'b', 'b', 'b', 'b', '0', '1']"
      ]
     },
     "execution_count": 123,
     "metadata": {},
     "output_type": "execute_result"
    }
   ],
   "source": [
    "# A|B -> match either regex A or B. If A matched, B isn't tried.\n",
    "items = 'abambammbammmb\\naccccccccccccccccccccb0i1'\n",
    "a = re.findall('[0-9]|[b]', items)\n",
    "a\n",
    "#didn't get it?"
   ]
  },
  {
   "cell_type": "code",
   "execution_count": null,
   "metadata": {
    "collapsed": true
   },
   "outputs": [],
   "source": []
  }
 ],
 "metadata": {
  "kernelspec": {
   "display_name": "Python 3",
   "language": "python",
   "name": "python3"
  },
  "language_info": {
   "codemirror_mode": {
    "name": "ipython",
    "version": 3
   },
   "file_extension": ".py",
   "mimetype": "text/x-python",
   "name": "python",
   "nbconvert_exporter": "python",
   "pygments_lexer": "ipython3",
   "version": "3.6.3"
  }
 },
 "nbformat": 4,
 "nbformat_minor": 2
}
