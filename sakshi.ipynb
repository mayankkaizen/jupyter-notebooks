{
 "cells": [
  {
   "cell_type": "markdown",
   "id": "8e8d3fff-dbe4-4538-acb3-43a59241f07f",
   "metadata": {},
   "source": [
    "## Day 1: Variables/pointers"
   ]
  },
  {
   "cell_type": "markdown",
   "id": "f353bf56-4e75-4abf-a0b6-881c08dd44a5",
   "metadata": {},
   "source": [
    "A variable is a pointer. \n",
    "x is a name and 4 is the object. A pointer named x that points to some other bucket containing the value 4. "
   ]
  },
  {
   "cell_type": "code",
   "execution_count": 19,
   "id": "9839846c-06b3-4b4a-8ead-29edb6d67f76",
   "metadata": {},
   "outputs": [],
   "source": [
    "x= 4"
   ]
  },
  {
   "cell_type": "markdown",
   "id": "01b6552e-6377-4e6e-be2d-dcb848dd7fea",
   "metadata": {},
   "source": [
    "If we have two variable names pointing to the same mutable object, then changing one will change the other as well! For example, let’s create and modify a list"
   ]
  },
  {
   "cell_type": "code",
   "execution_count": 25,
   "id": "6a463f3c-4904-43bb-a460-261963df407e",
   "metadata": {},
   "outputs": [],
   "source": [
    "x= [1,2,3,4]"
   ]
  },
  {
   "cell_type": "code",
   "execution_count": 26,
   "id": "72aa27e1-9d06-4f33-aa4c-4a87f7507435",
   "metadata": {},
   "outputs": [],
   "source": [
    "y= x"
   ]
  },
  {
   "cell_type": "code",
   "execution_count": 27,
   "id": "843fc61a-9150-4fef-b1f0-38044de0918f",
   "metadata": {},
   "outputs": [
    {
     "data": {
      "text/plain": [
       "[1, 2, 3, 4]"
      ]
     },
     "execution_count": 27,
     "metadata": {},
     "output_type": "execute_result"
    }
   ],
   "source": [
    "y"
   ]
  },
  {
   "cell_type": "code",
   "execution_count": 28,
   "id": "e907dd7f-ae47-4cd8-9a54-2f95b5ff07d5",
   "metadata": {},
   "outputs": [],
   "source": [
    "x.append(5)"
   ]
  },
  {
   "cell_type": "code",
   "execution_count": 29,
   "id": "5d7e6b71-7707-47c4-b563-afad50c32fe6",
   "metadata": {},
   "outputs": [
    {
     "data": {
      "text/plain": [
       "[1, 2, 3, 4, 5]"
      ]
     },
     "execution_count": 29,
     "metadata": {},
     "output_type": "execute_result"
    }
   ],
   "source": [
    "x"
   ]
  },
  {
   "cell_type": "code",
   "execution_count": 31,
   "id": "00797d54-5750-492b-8b9e-a5a3b68f1ada",
   "metadata": {},
   "outputs": [
    {
     "data": {
      "text/plain": [
       "[1, 2, 3, 4, 5]"
      ]
     },
     "execution_count": 31,
     "metadata": {},
     "output_type": "execute_result"
    }
   ],
   "source": [
    "y # y has changed automatically as y is pointing as x"
   ]
  },
  {
   "cell_type": "code",
   "execution_count": 32,
   "id": "f6e4655d-dc8c-475e-8035-8f1ed104b6b8",
   "metadata": {},
   "outputs": [],
   "source": [
    "x= 3\n"
   ]
  },
  {
   "cell_type": "code",
   "execution_count": 35,
   "id": "98865ecb-36eb-4687-bf21-a5fff231a2c4",
   "metadata": {},
   "outputs": [
    {
     "data": {
      "text/plain": [
       "[1, 2, 3, 4, 5]"
      ]
     },
     "execution_count": 35,
     "metadata": {},
     "output_type": "execute_result"
    }
   ],
   "source": [
    "y # y has not changed as x and y as pointers, and the = operator as an operation that changes what the name points to."
   ]
  },
  {
   "cell_type": "markdown",
   "id": "a47681a0-c1ea-467c-aa81-eccbc8e19c20",
   "metadata": {},
   "source": [
    "Numbers, strings, and other simple types are immutable: you can’t change their value—you can only change what values the variables point to"
   ]
  },
  {
   "cell_type": "code",
   "execution_count": 37,
   "id": "531077b8-f6bb-4ca8-849a-41ca24886482",
   "metadata": {},
   "outputs": [
    {
     "name": "stdout",
     "output_type": "stream",
     "text": [
      "x = 15\n",
      "y = 10\n"
     ]
    }
   ],
   "source": [
    "x = 10\n",
    "y = x\n",
    "x += 5  # add 5 to x's value, and assign it to x\n",
    "print(\"x =\", x)\n",
    "print(\"y =\", y)"
   ]
  },
  {
   "cell_type": "markdown",
   "id": "c8a689e7-a9f1-4de3-885f-a2c19c9cf042",
   "metadata": {},
   "source": [
    "**When we call x += 5, we are not modifying the value of the 5 object pointed to by x, but rather we are changing the object to which x points. For this reason, the value of y is not affected by the operation.**\n",
    "\n",
    "\n",
    "The difference between the two cases here is that in the first, a and b point to different objects, while in the second they point to the same object. As we saw in the previous section, Python variables are pointers. The 'is' operator checks whether the two variables are pointing to the same container (object), rather than referring to what the container contains. With this in mind, in most cases that a beginner is tempted to use is, what they really mean is ==.\n",
    "\n"
   ]
  },
  {
   "cell_type": "markdown",
   "id": "305c7602-52a4-41fa-a700-dedb25a50422",
   "metadata": {},
   "source": [
    "## Everything is an Object"
   ]
  },
  {
   "cell_type": "markdown",
   "id": "00bb8bf9-2092-4cf3-916d-73ebec7ca1f9",
   "metadata": {},
   "source": [
    "- variables are simply pointers\n",
    "- and the variable names themselves have no attached type information\n",
    "- Python types are linked not to the variable names but to the objects themselves.\n",
    "- In Python, everything is an object, which means every object(entity) has some metadata (**attributes**) and associated functionality (**called methods**). These attributes and methods are accessed via the dot syntax.\n",
    "- Methods are like attributes, except they are functions that you can call using a pair of opening and closing parentheses.\n",
    "- even the attributes and methods of objects are themselves objects with their own type information\n",
    "- For mutable objects like lists, arrays, or DataFrames, these augmented assignment operations are actually subtly different than their more verbose counterparts: they modify the contents of the original object rather than creating a new object to store the result."
   ]
  },
  {
   "cell_type": "code",
   "execution_count": 44,
   "id": "288f3cb2-96c8-4ea7-a7f7-af30aa6f4937",
   "metadata": {},
   "outputs": [
    {
     "data": {
      "text/plain": [
       "builtin_function_or_method"
      ]
     },
     "execution_count": 44,
     "metadata": {},
     "output_type": "execute_result"
    }
   ],
   "source": [
    "x =15.0\n",
    "type(x.is_integer) #if I assign x=15, is.integer will not work"
   ]
  },
  {
   "cell_type": "markdown",
   "id": "9a48e310-4ead-4783-8dc0-e22390a43d96",
   "metadata": {},
   "source": [
    "## Operators"
   ]
  },
  {
   "cell_type": "code",
   "execution_count": 46,
   "id": "27ad9b06-33fe-4ba8-866d-7426be2aa3a6",
   "metadata": {},
   "outputs": [
    {
     "data": {
      "text/plain": [
       "False"
      ]
     },
     "execution_count": 46,
     "metadata": {},
     "output_type": "execute_result"
    }
   ],
   "source": [
    "a= 2\n",
    "b= 3\n",
    "\n",
    "a is b"
   ]
  },
  {
   "cell_type": "markdown",
   "id": "8db474ed-b988-42ff-a10c-a5b2069d5490",
   "metadata": {},
   "source": [
    "- 'is' checks id not the value\n",
    "- '==' # checks value"
   ]
  },
  {
   "cell_type": "code",
   "execution_count": 48,
   "id": "8854cc67-e59c-4278-9d91-c319ffa43ea0",
   "metadata": {},
   "outputs": [
    {
     "data": {
      "text/plain": [
       "False"
      ]
     },
     "execution_count": 48,
     "metadata": {},
     "output_type": "execute_result"
    }
   ],
   "source": [
    "a == b"
   ]
  },
  {
   "cell_type": "markdown",
   "id": "14fc16b9-f02b-4977-b46d-c9a69e28b950",
   "metadata": {},
   "source": [
    "- Floor division (//) is true division with fractional parts truncated\n",
    "- True division (/) gives fraction part as well\n"
   ]
  },
  {
   "cell_type": "markdown",
   "id": "e902d5d4-33ff-4e76-85b7-92293add5330",
   "metadata": {},
   "source": [
    "## Built-In Types"
   ]
  },
  {
   "cell_type": "markdown",
   "id": "44e7956a-de60-4469-a9f7-540cfa01aef8",
   "metadata": {},
   "source": [
    "int\n",
    "\n",
    "x = 1\n",
    "\n",
    "Integers (i.e., whole numbers)\n",
    "\n",
    "float\n",
    "\n",
    "x = 1.0\n",
    "\n",
    "Floating-point numbers (i.e., real numbers)\n",
    "\n",
    "complex\n",
    "\n",
    "x = 1 + 2j\n",
    "\n",
    "Complex numbers (i.e., numbers with a real and imaginary part)\n",
    "\n",
    "bool\n",
    "\n",
    "x = True\n",
    "\n",
    "Boolean: True/False values\n",
    "\n",
    "str\n",
    "\n",
    "x = 'abc'\n",
    "\n",
    "String: characters or text\n",
    "\n",
    "NoneType\n",
    "\n",
    "x = None\n",
    "\n",
    "Special object indicating nulls"
   ]
  },
  {
   "cell_type": "markdown",
   "id": "a7f803ac-6a62-426c-9050-0ce385f0b131",
   "metadata": {},
   "source": [
    "- Python integers are variable-precision. "
   ]
  },
  {
   "cell_type": "code",
   "execution_count": 50,
   "id": "129ec450-ff70-4a13-827e-914fac8b7678",
   "metadata": {},
   "outputs": [
    {
     "data": {
      "text/plain": [
       "2.5"
      ]
     },
     "execution_count": 50,
     "metadata": {},
     "output_type": "execute_result"
    }
   ],
   "source": [
    "5/2"
   ]
  },
  {
   "cell_type": "code",
   "execution_count": 51,
   "id": "ec8564f4-69b0-473a-aa74-eddc3c4730a4",
   "metadata": {},
   "outputs": [
    {
     "data": {
      "text/plain": [
       "2"
      ]
     },
     "execution_count": 51,
     "metadata": {},
     "output_type": "execute_result"
    }
   ],
   "source": [
    "5//2"
   ]
  },
  {
   "cell_type": "markdown",
   "id": "4b9869a1-9375-4f88-8f2e-95906ff75506",
   "metadata": {},
   "source": [
    "- floating-point arithmetic is that its precision is limited, which can cause equality tests to be unstable.\n",
    "- All programming languages using floating-point numbers store them in a fixed number of bits, and this leads some numbers to be represented only approximately.\n",
    "- Python internally truncates these representations at 52 bits beyond the first nonzero bit on most systems.\n",
    "\n",
    "- **This rounding error for floating-point values is a necessary evil of working with floating-point numbers. The best way to deal with it is to always keep in mind that floating-point arithmetic is approximate, and never rely on exact equality tests with floating-point values.**\n"
   ]
  },
  {
   "cell_type": "code",
   "execution_count": 52,
   "id": "addaf694-ed3c-45c5-811a-ace2716e73cf",
   "metadata": {},
   "outputs": [
    {
     "data": {
      "text/plain": [
       "False"
      ]
     },
     "execution_count": 52,
     "metadata": {},
     "output_type": "execute_result"
    }
   ],
   "source": [
    "0.1 + 0.2 == 0.3"
   ]
  },
  {
   "cell_type": "markdown",
   "id": "a223cb4d-34e6-4993-9f3b-0675490db70a",
   "metadata": {},
   "source": [
    "**Boolean**\n",
    "- 0= False\n",
    "- None= False\n",
    "- non 0 value = True\n",
    "- empty strings = False\n",
    "-  Non empty string = True\n",
    "- empty sequences bool([]) = False\n",
    "- non empty sequence bool([1, 2, 3])= True"
   ]
  },
  {
   "cell_type": "markdown",
   "id": "cfe89df5-812c-4e78-bba2-a8349cf5c6e9",
   "metadata": {},
   "source": [
    "## Built-In Data Structures"
   ]
  },
  {
   "cell_type": "markdown",
   "id": "832679c4-2524-45a3-a892-ce968ffb55bb",
   "metadata": {},
   "source": [
    "![In bult functions by object](1.png)"
   ]
  },
  {
   "cell_type": "code",
   "execution_count": 54,
   "id": "5a4db482-2590-49cd-a3e8-11c9f7c7c499",
   "metadata": {},
   "outputs": [
    {
     "data": {
      "text/plain": [
       "'C:\\\\Users\\\\sakjain\\\\Downloads'"
      ]
     },
     "execution_count": 54,
     "metadata": {},
     "output_type": "execute_result"
    }
   ],
   "source": [
    "pwd"
   ]
  },
  {
   "cell_type": "markdown",
   "id": "ac5aa537-063a-470b-96ce-0cadf02ce593",
   "metadata": {},
   "source": [
    "![In bult functions by object](2.png)"
   ]
  },
  {
   "cell_type": "markdown",
   "id": "9d895a34-8e31-47f1-bf3b-23cad78796c2",
   "metadata": {},
   "source": [
    "## List"
   ]
  },
  {
   "cell_type": "markdown",
   "id": "4e2d0e02-3a24-460e-982b-86d3be80714e",
   "metadata": {},
   "source": [
    "- basic ordered \n",
    "- mutable data collection type\n",
    "-  A list can contain objects of any type, or even a mix of types"
   ]
  },
  {
   "cell_type": "markdown",
   "id": "4243b067-c8c1-4aab-8a21-3f74a5f18691",
   "metadata": {},
   "source": [
    "**https://docs.python.org/3/tutorial/datastructures.html**"
   ]
  },
  {
   "cell_type": "code",
   "execution_count": null,
   "id": "96d83f1e-6070-4b2c-99b1-e021c788071b",
   "metadata": {},
   "outputs": [],
   "source": []
  }
 ],
 "metadata": {
  "kernelspec": {
   "display_name": "Python 3",
   "language": "python",
   "name": "python3"
  },
  "language_info": {
   "codemirror_mode": {
    "name": "ipython",
    "version": 3
   },
   "file_extension": ".py",
   "mimetype": "text/x-python",
   "name": "python",
   "nbconvert_exporter": "python",
   "pygments_lexer": "ipython3",
   "version": "3.9.5"
  }
 },
 "nbformat": 4,
 "nbformat_minor": 5
}
